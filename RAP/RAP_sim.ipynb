{
 "cells": [
  {
   "cell_type": "markdown",
   "id": "20da04711efa955a",
   "metadata": {},
   "source": [
    "## Using Rapid Adiabatic Passage over a logic error correcting space \n",
    "\n",
    "The Hamiltonian describing the system is:\n",
    "\n",
    "$H(t) = \\Omega(t)\\sigma_{x} + \\Delta(t)\\sigma_{z}$\n",
    "\n",
    "### Stage 1 - Simulating Rapid Adiabatic Passage on a physical qubit\n",
    "* Applying RAP\n",
    "* Adding noise (classical)\n",
    "* Fidelity calculations\n",
    "\n",
    "### Stage 2 - Applying RAP over a logic space (QEC)\n",
    "* Generating an error correctable space according to the 5-qubit code\n",
    "* Apply RAP\n",
    "\n",
    "### Stage 3 - Simulating noise\n",
    "* Adding noise (classical)\n",
    "* Fidelity calculations \n",
    "* Adding $H_p$\n",
    "\n",
    "https://arxiv.org/pdf/quant-ph/0512170"
   ]
  },
  {
   "cell_type": "code",
   "execution_count": 2,
   "id": "252a5dd3780eaef6",
   "metadata": {
    "ExecuteTime": {
     "end_time": "2024-09-29T12:25:34.578123Z",
     "start_time": "2024-09-29T12:25:33.831621Z"
    }
   },
   "source": [
    "import numpy as np\n",
    "import matplotlib.pyplot as plt\n",
    "from qutip import *"
   ],
   "outputs": []
  },
  {
   "cell_type": "code",
   "execution_count": 3,
   "id": "b32ba633aed40be1",
   "metadata": {
    "ExecuteTime": {
     "end_time": "2024-09-29T12:25:36.117562Z",
     "start_time": "2024-09-29T12:25:36.103100Z"
    }
   },
   "source": [
    "def print_quantum_state_as_superposition(state):\n",
    "    \"\"\"\n",
    "    Helper function to print quantum state as superposition of basis functions\n",
    "    \"\"\"\n",
    "    state = state.unit()\n",
    "    dimension = int(np.log2(state.shape[0]))\n",
    "    state_vector = state.full().flatten()\n",
    "    basis_states = ['0', '1']\n",
    "    \n",
    "    superposition = []\n",
    "    for i, amplitude in enumerate(state_vector):\n",
    "        abs_amplitude = np.abs(amplitude)\n",
    "\n",
    "        if round(abs_amplitude, 2) > 0:\n",
    "            sign = '-' if amplitude.real < 0 else '+'\n",
    "            binary_state = ''.join(basis_states[int(bit)] for bit in f\"{i:0{dimension}b}\")\n",
    "            superposition.append(f\"{sign} {abs_amplitude:.2f}|{binary_state}⟩\")\n",
    "\n",
    "    # Removing the first sign\n",
    "    if superposition and superposition[0][0] == '+':\n",
    "        superposition[0] = superposition[0][2:]\n",
    "\n",
    "    superposition_str = ' '.join(superposition).replace('+-', '- ')\n",
    "    \n",
    "    print(f\"|ψ⟩ = {superposition_str}\")"
   ],
   "outputs": []
  },
  {
   "cell_type": "code",
   "execution_count": 4,
   "id": "eae4566af0354a73",
   "metadata": {
    "ExecuteTime": {
     "end_time": "2024-09-29T12:25:37.423691Z",
     "start_time": "2024-09-29T12:25:37.332282Z"
    }
   },
   "source": [
    "# defining time dependant coefs\n",
    "T = 10\n",
    "t = np.linspace(0, T, 1000)\n",
    "sigma = 1\n",
    "omega_t = 50 * np.exp(-0.5 * ((t - T/2) / sigma) ** 2)\n",
    "\n",
    "delta_t = 100*(t / (T/2) - 1)\n",
    "\n",
    "# Plot the wave\n",
    "plt.figure(figsize=(8, 6))\n",
    "plt.plot(t, omega_t)\n",
    "plt.plot(t, delta_t)\n",
    "plt.xlabel(\"t\")\n",
    "plt.ylabel(\"Pulse Amp\")\n",
    "plt.grid(True)\n",
    "plt.title(\"Pulses over time\")\n"
   ],
   "outputs": []
  },
  {
   "cell_type": "markdown",
   "id": "de078dc40795027c",
   "metadata": {},
   "source": [
    "### Stage 1 - Simulating Rapid Adiabatic Passage on a physical qubit\n",
    "* Applying RAP\n",
    "* Adding noise\n",
    "* Fidelity calculations"
   ]
  },
  {
   "cell_type": "markdown",
   "id": "41cba626f98a2af3",
   "metadata": {},
   "source": [
    "##### First, plotting the eigenvalues as function of time"
   ]
  },
  {
   "cell_type": "code",
   "execution_count": 6,
   "id": "bd8dd1f54aac67e6",
   "metadata": {
    "ExecuteTime": {
     "end_time": "2024-09-29T12:25:43.600042Z",
     "start_time": "2024-09-29T12:25:43.492869Z"
    }
   },
   "source": [
    "omega_t_f = lambda t: 10 * np.exp(-0.5 * ((t - T/2) / sigma) ** 2)\n",
    "\n",
    "delta_t_f = lambda t: 100*(t / (T/2) - 1)\n",
    "\n",
    "\n",
    "tlist = np.linspace(0, 10, 100)  # from 0 to 10 with 100 points\n",
    "\n",
    "def H_t(t):\n",
    "    return omega_t_f(t) * sigmax() + delta_t_f(t) * sigmaz()\n",
    "\n",
    "eigenvalues = np.array([H_t(t).eigenenergies() for t in tlist])\n",
    "\n",
    "# Plot the eigenvalues\n",
    "plt.figure(figsize=(8, 6))\n",
    "for i in range(eigenvalues.shape[1]):\n",
    "    plt.plot(tlist, eigenvalues[:, i], label=f'Eigenvalue {i+1}')\n",
    "\n",
    "plt.xlabel('Time')\n",
    "plt.ylabel('Eigenvalue')\n",
    "plt.title('Eigenvalues of the Hamiltonian as a function of time')\n",
    "plt.legend()\n",
    "plt.grid(True)\n",
    "plt.show()"
   ],
   "outputs": []
  },
  {
   "cell_type": "markdown",
   "id": "a74ec77fdf6cd921",
   "metadata": {},
   "source": [
    "##### Generating the Hamiltonian and solving using sesolve"
   ]
  },
  {
   "cell_type": "code",
   "execution_count": 13,
   "id": "6df417172363caef",
   "metadata": {
    "ExecuteTime": {
     "end_time": "2024-09-29T12:26:02.770834Z",
     "start_time": "2024-09-29T12:26:02.627960Z"
    }
   },
   "source": [
    "T = 5\n",
    "t = np.linspace(0, T, 1000)\n",
    "sigma = 1\n",
    "omega_t = 50 * np.exp(-0.5 * ((t - T/2) / sigma) ** 2)\n",
    "\n",
    "delta_t = 100*(t / (T/2) - 1)\n",
    "\n",
    "H = [[sigmax(), omega_t], [sigmaz(), delta_t]]\n",
    "\n",
    "psi0 = basis(2, 0)\n",
    "psi1 = basis(2, 1)\n",
    "\n",
    "gamma = 0.5\n",
    "c_ops = [gamma*sigmam()]\n",
    "\n",
    "output = mesolve(H, psi0, t, c_ops=c_ops, e_ops=[])\n",
    "# output = sesolve(H, psi0, t)\n",
    "\n",
    "expect_psi_0 = []\n",
    "expect_psi_1 = []\n",
    "for state in output.states:\n",
    "    p0 = psi0*psi0.dag()\n",
    "    p1 = psi1*psi1.dag()\n",
    "    \n",
    "    expect_stat_psi_0 = np.abs(p0.overlap(state))**2\n",
    "    expect_stat_psi_1 = np.abs(p1.overlap(state))**2\n",
    "    \n",
    "    expect_psi_0.append(expect_stat_psi_0)\n",
    "    expect_psi_1.append(expect_stat_psi_1)\n",
    "    \n",
    "eigenvalues_0 = np.array(expect_psi_0)\n",
    "eigenvalues_1 = np.array(expect_psi_1)\n",
    "\n",
    "plt.figure(figsize=(8, 6))\n",
    "\n",
    "plt.title(r'$| \\psi(t) \\rangle \\ with \\ initial \\ conditions \\ | \\psi(t=0) \\rangle = | 0 \\rangle$')\n",
    "plt.plot(t, eigenvalues_0, label=r'$|\\langle 0 | \\psi(t) \\rangle|^2$')\n",
    "plt.plot(t, eigenvalues_1, label=r'$|\\langle 1 | \\psi(t) \\rangle|^2$')\n",
    "plt.legend()\n",
    "plt.grid(True)\n",
    "plt.xlabel(\"t\")\n",
    "plt.ylabel(\"Overlap\")"
   ],
   "outputs": []
  },
  {
   "cell_type": "markdown",
   "id": "3d4aa91def75ef26",
   "metadata": {},
   "source": [
    "## Adding noise"
   ]
  },
  {
   "cell_type": "code",
   "execution_count": 7,
   "id": "bd89b9ea97377154",
   "metadata": {
    "ExecuteTime": {
     "end_time": "2024-09-25T08:24:50.816340Z",
     "start_time": "2024-09-25T08:24:50.720772Z"
    }
   },
   "source": [
    "# Adding noise to the pulses\n",
    "t = np.linspace(0, T, 1000)\n",
    "noise_strength = 1\n",
    "omega_t_noisy = omega_t + noise_strength * np.random.normal(size=len(t))\n",
    "delta_t_noisy = delta_t + noise_strength * np.random.normal(size=len(t))\n",
    "\n",
    "# Plot the original and noisy pulses\n",
    "plt.figure(figsize=(8, 6))\n",
    "plt.plot(t, omega_t, label=r'Original $\\omega(t)$', linewidth=6, linestyle='--')\n",
    "plt.plot(t, omega_t_noisy, label=r'Noisy $\\omega(t)$')\n",
    "plt.plot(t, delta_t, label=r'Original $\\Delta(t)$', linewidth=6, linestyle='--')\n",
    "plt.plot(t, delta_t_noisy, label=r'Noisy $\\Delta(t)$')\n",
    "plt.xlabel(\"t\")\n",
    "plt.ylabel(\"Pulse Amplitude\")\n",
    "plt.title(\"Original and Noisy Pulses over Time\")\n",
    "plt.grid(True)\n",
    "plt.legend()\n",
    "plt.show()"
   ],
   "outputs": []
  },
  {
   "cell_type": "markdown",
   "id": "add058f97d1a2181",
   "metadata": {},
   "source": [
    "## Solving the noisy Hamiltonian"
   ]
  },
  {
   "cell_type": "code",
   "execution_count": 8,
   "id": "25ddb888b8d43cbf",
   "metadata": {
    "ExecuteTime": {
     "end_time": "2024-09-25T08:25:08.011963Z",
     "start_time": "2024-09-25T08:25:07.873331Z"
    }
   },
   "source": [
    "H_noisy = [[sigmax(), omega_t_noisy], [sigmaz(), delta_t_noisy]]\n",
    "\n",
    "psi0 = basis(2, 0)\n",
    "psi1 = basis(2, 1)\n",
    "\n",
    "output = mesolve(H_noisy, psi0, t)\n",
    "\n",
    "expect_psi_0 = []\n",
    "expect_psi_1 = []\n",
    "for state in output.states:\n",
    "    expect_stat_psi_0 = np.abs(psi0.overlap(state))**2\n",
    "    expect_stat_psi_1 = np.abs(psi1.overlap(state))**2\n",
    "    \n",
    "    expect_psi_0.append(expect_stat_psi_0)\n",
    "    expect_psi_1.append(expect_stat_psi_1)\n",
    "    \n",
    "eigenvalues_0 = np.array(expect_psi_0)\n",
    "eigenvalues_1 = np.array(expect_psi_1)\n",
    "\n",
    "plt.figure(figsize=(8, 6))\n",
    "\n",
    "plt.title(r'$| \\psi(t) \\rangle \\ with \\ initial \\ conditions \\ | \\psi(t=0) \\rangle = | 0 \\rangle$')\n",
    "plt.plot(t, eigenvalues_0, label=r'$|\\langle 0 | \\psi(t) \\rangle|^2$')\n",
    "plt.plot(t, eigenvalues_1, label=r'$|\\langle 1 | \\psi(t) \\rangle|^2$')\n",
    "plt.legend()\n",
    "plt.xlabel(\"t\")\n",
    "plt.ylabel(\"Overlap\")"
   ],
   "outputs": []
  },
  {
   "cell_type": "code",
   "execution_count": 9,
   "id": "7348ddaebcfe93a3",
   "metadata": {
    "ExecuteTime": {
     "end_time": "2024-09-25T08:25:29.412706Z",
     "start_time": "2024-09-25T08:25:25.447594Z"
    }
   },
   "source": [
    "noise_strength = np.linspace(0, 1, 100)\n",
    "fidelity_vec = []\n",
    "\n",
    "for noise in noise_strength:\n",
    "    omega_t_noisy = omega_t + noise * np.random.normal(size=len(t))\n",
    "    delta_t_noisy = delta_t + noise * np.random.normal(size=len(t))\n",
    "    \n",
    "    H_noisy = [[sigmax(), omega_t_noisy], [sigmaz(), delta_t_noisy]]\n",
    "    \n",
    "    output = mesolve(H_noisy, psi0, t, [])\n",
    "    \n",
    "    # Get the final state\n",
    "    output_state = output.states[-1]\n",
    "    \n",
    "    # Calculate fidelity\n",
    "    fidelity = np.abs(psi1.overlap(output_state))**2\n",
    "    fidelity_vec.append(fidelity)\n",
    "\n",
    "# Plotting the fidelity as a function of noise\n",
    "plt.figure(figsize=(8, 6))\n",
    "plt.title(r'Fidelity as function of noise - $| \\psi(t) \\rangle \\ with \\ initial \\ conditions \\ | \\psi(t=0) \\rangle = | 0 \\rangle$')\n",
    "plt.plot(noise_strength, fidelity_vec, label=r'$|\\langle 1 | \\psi_{end} \\rangle|^2$')\n",
    "plt.legend()\n",
    "plt.xlabel(\"Noise Strength\")\n",
    "plt.ylabel(\"Fidelity\")\n",
    "plt.show()"
   ],
   "outputs": []
  },
  {
   "cell_type": "markdown",
   "id": "f7576daef56a6a24",
   "metadata": {},
   "source": [
    "### Stage 2 - Applying RAP over a logic space (QEC)\n",
    "* Generating an error correctable space according to the 5-qubit code\n",
    "* Apply RAP\n",
    "\n",
    "Generating the logic space and checking if ARP manages to move the logic zero to logic one \n",
    "\n",
    "Working with the stabilizer formalism\n"
   ]
  },
  {
   "cell_type": "code",
   "execution_count": 11,
   "id": "755e5f1d119b19f",
   "metadata": {
    "ExecuteTime": {
     "end_time": "2024-09-25T08:26:04.934800Z",
     "start_time": "2024-09-25T08:26:04.928432Z"
    }
   },
   "source": [
    "def is_stabilized(state, stabilizers):\n",
    "    \"\"\"\n",
    "    Check if a state is stabilized\n",
    "    \"\"\"\n",
    "    stabilized = True\n",
    "    syndrome = []\n",
    "    overlaps = []\n",
    "    for stabilizer in stabilizers:\n",
    "        overlap = state.overlap(stabilizer * state)\n",
    "        overlaps.append(np.abs(overlap))\n",
    "        if not np.real(overlap) > 0.99:\n",
    "            stabilized = False\n",
    "            syndrome.append(1)\n",
    "        else:\n",
    "            syndrome.append(0)\n",
    "            \n",
    "    return syndrome, stabilized, overlaps"
   ],
   "outputs": []
  },
  {
   "cell_type": "code",
   "execution_count": 15,
   "id": "b85c60a901db0c22",
   "metadata": {
    "ExecuteTime": {
     "end_time": "2024-09-25T08:26:57.381623Z",
     "start_time": "2024-09-25T08:26:57.359317Z"
    }
   },
   "source": [
    "I = qeye(2)\n",
    "X = sigmax()\n",
    "Y = sigmay()\n",
    "Z = sigmaz()\n",
    "\n",
    "# Define the stabilizer generators for the 5-qubit bit-flip code\n",
    "stabilizers = [\n",
    "    tensor(X, Z, Z, X, I),\n",
    "    tensor(I, X, Z, Z, X),\n",
    "    tensor(X, I, X, Z, Z),\n",
    "    tensor(Z, X, I, X, Z)\n",
    "]\n",
    "\n",
    "basis_states = [basis(2, 0), basis(2, 1)]\n",
    "\n",
    "logical_X = tensor(X, X, X, X, X)\n",
    "# logical_X = -tensor(X, I, Y, Y, I)\n",
    "\n",
    "# Define the logical zero state |0_L>\n",
    "logical_zero = (tensor(basis_states[0], basis_states[0], basis_states[0], basis_states[0], basis_states[0]) +\n",
    "                tensor(basis_states[1], basis_states[0], basis_states[0], basis_states[1], basis_states[0]) +\n",
    "                tensor(basis_states[0], basis_states[1], basis_states[0], basis_states[0], basis_states[1]) +\n",
    "                tensor(basis_states[1], basis_states[0], basis_states[1], basis_states[0], basis_states[0]) +\n",
    "                tensor(basis_states[0], basis_states[1], basis_states[0], basis_states[1], basis_states[0]) -\n",
    "                tensor(basis_states[1], basis_states[1], basis_states[0], basis_states[1], basis_states[1]) -\n",
    "                tensor(basis_states[0], basis_states[0], basis_states[1], basis_states[1], basis_states[0]) -\n",
    "                tensor(basis_states[1], basis_states[1], basis_states[0], basis_states[0], basis_states[0]) -\n",
    "                tensor(basis_states[1], basis_states[1], basis_states[1], basis_states[0], basis_states[1]) -\n",
    "                tensor(basis_states[0], basis_states[0], basis_states[0], basis_states[1], basis_states[1]) -\n",
    "                tensor(basis_states[1], basis_states[1], basis_states[1], basis_states[1], basis_states[0]) -\n",
    "                tensor(basis_states[0], basis_states[1], basis_states[1], basis_states[1], basis_states[1]) -\n",
    "                tensor(basis_states[1], basis_states[0], basis_states[0], basis_states[0], basis_states[1]) -\n",
    "                tensor(basis_states[0], basis_states[1], basis_states[1], basis_states[0], basis_states[0]) -\n",
    "                tensor(basis_states[1], basis_states[0], basis_states[1], basis_states[1], basis_states[1]) +\n",
    "                tensor(basis_states[0], basis_states[0], basis_states[1], basis_states[0], basis_states[1])).unit()\n",
    "\n",
    "\n",
    "logical_one = logical_X * logical_zero\n",
    "\n",
    "# Applying error\n",
    "error = tensor(I, I, I, X, I)\n",
    "logical_zero = error * logical_zero\n",
    "logical_one = error * logical_one\n",
    "\n",
    "result_zero = is_stabilized(logical_zero, stabilizers)\n",
    "result_one = is_stabilized(logical_one, stabilizers)\n",
    "print(f\"Logical |0_L> is stabilized: {result_zero[1]} and the syndrom is {result_zero[0]}\")\n",
    "print(f\"Logical |1_L> is stabilized: {result_one[1]} and the syndrom is {result_one[0]}\")\n",
    "# print(print_quantum_state_as_superposition(logical_zero))\n",
    "# print(print_quantum_state_as_superposition(logical_one))"
   ],
   "outputs": []
  },
  {
   "cell_type": "markdown",
   "id": "db335124b479c9cf",
   "metadata": {},
   "source": [
    "## Trying to flip a logical zero into a logical one"
   ]
  },
  {
   "cell_type": "markdown",
   "id": "5a84ac03a91bcd16",
   "metadata": {},
   "source": []
  },
  {
   "cell_type": "code",
   "execution_count": 18,
   "id": "5935fde84a6bdedd",
   "metadata": {
    "ExecuteTime": {
     "end_time": "2024-09-25T08:27:13.337136Z",
     "start_time": "2024-09-25T08:27:13.283625Z"
    }
   },
   "source": [
    "H0 = tensor(sigmax(), sigmax(), sigmax(), sigmax(), sigmax())\n",
    "H1 = tensor(sigmaz(), sigmaz(), sigmaz(), sigmaz(), sigmaz())\n",
    "\n",
    "# Define time-dependent Hamiltonian\n",
    "H = [[H0, omega_t], [H1, delta_t]]\n",
    "\n",
    "# solving using sesolve\n",
    "output = sesolve(H, logical_zero, t)\n",
    "\n",
    "logical_one = output.states[-1]\n",
    "# print_quantum_state_as_superposition(logical_one)"
   ],
   "outputs": []
  },
  {
   "cell_type": "code",
   "execution_count": 19,
   "id": "7478e23a0169a9a2",
   "metadata": {
    "ExecuteTime": {
     "end_time": "2024-09-25T08:27:42.222117Z",
     "start_time": "2024-09-25T08:27:42.124207Z"
    }
   },
   "source": [
    "expect_psi_0 = []\n",
    "expect_psi_1 = []\n",
    "\n",
    "for index, state in enumerate(output.states):\n",
    "    if index == 0 or index == len(output.states) - 1:\n",
    "        print_quantum_state_as_superposition(state)\n",
    "    expect_stat_psi_0 = np.abs(logical_zero.overlap(state))**2\n",
    "    expect_stat_psi_1 = np.abs(logical_one.overlap(state))**2\n",
    "    \n",
    "    expect_psi_0.append(expect_stat_psi_0)\n",
    "    expect_psi_1.append(expect_stat_psi_1)\n",
    "\n",
    "eigenvalues_0 = np.array(expect_psi_0)\n",
    "eigenvalues_1 = np.array(expect_psi_1)\n",
    "\n",
    "plt.figure(figsize=(8, 6))\n",
    "plt.title(r'$| \\psi(t) \\rangle \\ with \\ initial \\ conditions \\ | \\psi(t=0) \\rangle = |0_L\\rangle$')\n",
    "plt.plot(t, eigenvalues_0, label=r'$|\\langle 0_L | \\psi(t) \\rangle|^2$')\n",
    "plt.plot(t, eigenvalues_1, label=r'$|\\langle 1_L | \\psi(t) \\rangle|^2$')\n",
    "plt.legend()\n",
    "plt.xlabel(\"t\")\n",
    "plt.ylabel(\"Overlap\")\n",
    "plt.show()"
   ],
   "outputs": []
  },
  {
   "cell_type": "markdown",
   "id": "c2425094e607c12",
   "metadata": {},
   "source": [
    "Checking over a noisy Hamiltonian"
   ]
  },
  {
   "cell_type": "code",
   "execution_count": 20,
   "id": "2a22e3a43524a0f0",
   "metadata": {
    "ExecuteTime": {
     "end_time": "2024-09-25T08:27:45.917675Z",
     "start_time": "2024-09-25T08:27:45.771146Z"
    }
   },
   "source": [
    "# Adding noise to the pulses\n",
    "noise_strength = 1\n",
    "omega_t_noisy = omega_t + noise_strength * np.random.normal(size=len(t))\n",
    "delta_t_noisy = delta_t + noise_strength * np.random.normal(size=len(t))\n",
    "\n",
    "H0 = tensor(sigmax(), sigmax(), sigmax(), sigmax(), sigmax())\n",
    "H1 = tensor(sigmaz(), sigmaz(), sigmaz(), sigmaz(), sigmaz())\n",
    "\n",
    "H_noisy = [[H0, omega_t_noisy], [H1, delta_t_noisy]]\n",
    "\n",
    "psi0 = basis(2, 0)\n",
    "psi1 = basis(2, 1)\n",
    "\n",
    "output = mesolve(H_noisy, logical_zero, t)\n",
    "\n",
    "expect_psi_0 = []\n",
    "expect_psi_1 = []\n",
    "for index, state in enumerate(output.states):\n",
    "    expect_stat_psi_0 = np.abs(logical_zero.overlap(state))**2\n",
    "    expect_stat_psi_1 = np.abs(logical_one.overlap(state))**2\n",
    "    \n",
    "    expect_psi_0.append(expect_stat_psi_0)\n",
    "    expect_psi_1.append(expect_stat_psi_1)\n",
    "\n",
    "eigenvalues_0 = np.array(expect_psi_0)\n",
    "eigenvalues_1 = np.array(expect_psi_1)\n",
    "\n",
    "# Plotting the results\n",
    "plt.figure(figsize=(8, 6))\n",
    "plt.title(r'$| \\psi(t) \\rangle \\ with \\ initial \\ conditions \\ | \\psi(t=0) \\rangle = |0_L\\rangle$')\n",
    "plt.plot(t, eigenvalues_0, label=r'$|\\langle 0_L | \\psi(t) \\rangle|^2$')\n",
    "plt.plot(t, eigenvalues_1, label=r'$|\\langle 1_L | \\psi(t) \\rangle|^2$')\n",
    "plt.legend()\n",
    "plt.xlabel(\"t\")\n",
    "plt.ylabel(\"Overlap\")\n",
    "plt.show()"
   ],
   "outputs": []
  },
  {
   "cell_type": "code",
   "execution_count": 21,
   "id": "601e5ea05d27ace",
   "metadata": {
    "ExecuteTime": {
     "end_time": "2024-09-25T08:27:54.259632Z",
     "start_time": "2024-09-25T08:27:49.863898Z"
    }
   },
   "source": [
    "noise_strength = np.linspace(0, 1, 100)\n",
    "fidelity_vec = []\n",
    "\n",
    "for noise in noise_strength:\n",
    "    omega_t_noisy = omega_t + noise * np.random.normal(size=len(t))\n",
    "    delta_t_noisy = delta_t + noise * np.random.normal(size=len(t))\n",
    "    \n",
    "    H_noisy = [[H0, omega_t_noisy], [H1, delta_t_noisy]]    \n",
    "    output = mesolve(H_noisy, logical_zero, t, [])\n",
    "    \n",
    "    # Get the final state\n",
    "    output_state = output.states[-1]\n",
    "    \n",
    "    # Calculate fidelity\n",
    "    fidelity = np.abs(logical_one.overlap(output_state))**2\n",
    "    fidelity_vec.append(fidelity)\n",
    "\n",
    "# Plotting the fidelity as a function of noise\n",
    "plt.figure(figsize=(8, 6))\n",
    "plt.title(r'Fidelity as function of noise - $| \\psi(t) \\rangle \\ with \\ initial \\ conditions \\ | \\psi(t=0) \\rangle = | 0_L \\rangle$')\n",
    "plt.plot(noise_strength, fidelity_vec, label=r'$|\\langle 1_L | \\psi_{end} \\rangle|^2$')\n",
    "plt.legend()\n",
    "plt.xlabel(\"Noise Strength\")\n",
    "plt.ylabel(\"Fidelity\")\n",
    "plt.show()"
   ],
   "outputs": []
  },
  {
   "cell_type": "code",
   "execution_count": 22,
   "id": "d708aac66645a43",
   "metadata": {
    "ExecuteTime": {
     "end_time": "2024-09-25T08:27:57.508599Z",
     "start_time": "2024-09-25T08:27:57.395616Z"
    }
   },
   "source": [
    "# defining time dependant coefs\n",
    "T = 10\n",
    "t = np.linspace(0, T, 1000)\n",
    "\n",
    "sigma = 1\n",
    "omega_t = 10 * np.exp(-0.5 * ((t - T/2) / sigma) ** 2)\n",
    "delta_t = 100*(t / (T/2) - 1)\n",
    "\n",
    "I = qeye(2)\n",
    "X = sigmax()\n",
    "Y = sigmay()\n",
    "Z = sigmaz()\n",
    "\n",
    "basis_states = [basis(2, 0), basis(2, 1)]\n",
    "logical_X = tensor(X, X, X, X, X)\n",
    "\n",
    "# Define the logical zero state |0_L>\n",
    "logical_zero = (tensor(basis_states[0], basis_states[0], basis_states[0], basis_states[0], basis_states[0]) +\n",
    "                tensor(basis_states[1], basis_states[0], basis_states[0], basis_states[1], basis_states[0]) +\n",
    "                tensor(basis_states[0], basis_states[1], basis_states[0], basis_states[0], basis_states[1]) +\n",
    "                tensor(basis_states[1], basis_states[0], basis_states[1], basis_states[0], basis_states[0]) +\n",
    "                tensor(basis_states[0], basis_states[1], basis_states[0], basis_states[1], basis_states[0]) -\n",
    "                tensor(basis_states[1], basis_states[1], basis_states[0], basis_states[1], basis_states[1]) -\n",
    "                tensor(basis_states[0], basis_states[0], basis_states[1], basis_states[1], basis_states[0]) -\n",
    "                tensor(basis_states[1], basis_states[1], basis_states[0], basis_states[0], basis_states[0]) -\n",
    "                tensor(basis_states[1], basis_states[1], basis_states[1], basis_states[0], basis_states[1]) -\n",
    "                tensor(basis_states[0], basis_states[0], basis_states[0], basis_states[1], basis_states[1]) -\n",
    "                tensor(basis_states[1], basis_states[1], basis_states[1], basis_states[1], basis_states[0]) -\n",
    "                tensor(basis_states[0], basis_states[1], basis_states[1], basis_states[1], basis_states[1]) -\n",
    "                tensor(basis_states[1], basis_states[0], basis_states[0], basis_states[0], basis_states[1]) -\n",
    "                tensor(basis_states[0], basis_states[1], basis_states[1], basis_states[0], basis_states[0]) -\n",
    "                tensor(basis_states[1], basis_states[0], basis_states[1], basis_states[1], basis_states[1]) +\n",
    "                tensor(basis_states[0], basis_states[0], basis_states[1], basis_states[0], basis_states[1])).unit()\n",
    "\n",
    "\n",
    "logical_one = logical_X * logical_zero\n",
    "\n",
    "g1 = tensor(X, Z, Z, X, I)\n",
    "g2 = tensor(I, X, Z, Z, X)\n",
    "g3 = tensor(X, I, X, Z, Z)\n",
    "g4 = tensor(Z, X, I, X, Z)\n",
    "\n",
    "Ep = -0.1\n",
    "\n",
    "Hp = -Ep*(g1 + g2 + g3 + g4)\n",
    "\n",
    "\n",
    "H0 = tensor(sigmax(), sigmax(), sigmax(), sigmax(), sigmax())\n",
    "H1 = tensor(sigmaz(), sigmaz(), sigmaz(), sigmaz(), sigmaz())\n",
    "# Define time-dependent Hamiltonian\n",
    "H = [[H0, omega_t], [H1, delta_t], Hp]\n",
    "\n",
    "# solving using sesolve\n",
    "output = sesolve(H, logical_zero, t)\n",
    "\n",
    "# logical_one = output.states[-1]\n",
    "\n",
    "expect_psi_0 = []\n",
    "expect_psi_1 = []\n",
    "\n",
    "for index, state in enumerate(output.states):\n",
    "    expect_stat_psi_0 = np.abs(logical_zero.overlap(state))**2\n",
    "    expect_stat_psi_1 = np.abs(logical_one.overlap(state))**2\n",
    "    \n",
    "    expect_psi_0.append(expect_stat_psi_0)\n",
    "    expect_psi_1.append(expect_stat_psi_1)\n",
    "\n",
    "eigenvalues_0 = np.array(expect_psi_0)\n",
    "eigenvalues_1 = np.array(expect_psi_1)\n",
    "\n",
    "plt.figure(figsize=(8, 6))\n",
    "plt.title(r'$| \\psi(t) \\rangle \\ with \\ initial \\ conditions \\ | \\psi(t=0) \\rangle = |0_L\\rangle$')\n",
    "plt.plot(t, eigenvalues_0, label=r'$|\\langle 0_L | \\psi(t) \\rangle|^2$')\n",
    "plt.plot(t, eigenvalues_1, label=r'$|\\langle 1_L | \\psi(t) \\rangle|^2$')\n",
    "plt.legend()\n",
    "plt.xlabel(\"t\")\n",
    "plt.ylabel(\"Overlap\")\n",
    "plt.show()"
   ],
   "outputs": []
  },
  {
   "cell_type": "code",
   "execution_count": 26,
   "id": "5d5d4e1d256d75ac",
   "metadata": {
    "ExecuteTime": {
     "end_time": "2024-09-26T08:11:15.824037Z",
     "start_time": "2024-09-26T08:11:15.066864Z"
    }
   },
   "source": [
    "T = 10\n",
    "tlist = np.linspace(0, T, 100)\n",
    "\n",
    "# Define the operators\n",
    "I = qeye(2)\n",
    "X = sigmax()\n",
    "Z = sigmaz()\n",
    "\n",
    "# Define H0 and H1\n",
    "H0 = tensor(X, X, X, X, X)\n",
    "H1 = tensor(Z, Z, Z, Z, Z)\n",
    "\n",
    "# Stabilizers\n",
    "g1 = tensor(X, Z, Z, X, I)\n",
    "g2 = tensor(I, X, Z, Z, X)\n",
    "g3 = tensor(X, I, X, Z, Z)\n",
    "g4 = tensor(Z, X, I, X, Z)\n",
    "\n",
    "def H_t(t, Ep):\n",
    "    omega_t = omega_t_f(t)\n",
    "    delta_t = delta_t_f(t)\n",
    "    Hp = -Ep * (g1 + g2 + g3 + g4)\n",
    "    return omega_t * H0 + delta_t * H1 + Hp\n",
    "\n",
    "# Define Ep values to test\n",
    "# Ep_values = [10, 1, 0, -0.1, -0.5, -1.0, -2.0]\n",
    "# colors = ['yellow', 'orange', 'white' ,'blue', 'green', 'red', 'purple']\n",
    "Ep_values = [-10]\n",
    "colors = ['g']\n",
    "plt.figure(figsize=(10, 6))\n",
    "\n",
    "for Ep, color in zip(Ep_values, colors):\n",
    "    eigenvalues = np.array([H_t(t, Ep).eigenenergies() for t in tlist])\n",
    "    plt.plot(tlist, eigenvalues, color=color)\n",
    "    # for i in range(eigenvalues.shape[1]):\n",
    "    #     plt.plot(tlist, eigenvalues[:, i], color=color, alpha=0.6)\n",
    "\n",
    "# Add a legend for the Ep values\n",
    "for Ep, color in zip(Ep_values, colors):\n",
    "    plt.plot([], [], color=color, label=f'$E_p={Ep}$')\n",
    "\n",
    "plt.xlabel('Time')\n",
    "plt.ylabel('Eigenvalue')\n",
    "plt.title('Eigenvalues of the Hamiltonian as a function of time for different $E_p$ values')\n",
    "plt.legend(loc='upper right', bbox_to_anchor=(1.3, 1))\n",
    "plt.grid(True)\n",
    "plt.show()\n"
   ],
   "outputs": []
  },
  {
   "cell_type": "code",
   "execution_count": 24,
   "id": "a82f85d66346bd37",
   "metadata": {
    "ExecuteTime": {
     "end_time": "2024-09-25T08:28:39.627853Z",
     "start_time": "2024-09-25T08:28:39.235120Z"
    }
   },
   "source": [
    "omega_t_f = lambda t: 10 * np.exp(-0.5 * ((t - T/2) / sigma) ** 2)\n",
    "\n",
    "delta_t_f = lambda t: 100*(t / (T/2) - 1)\n",
    "\n",
    "# Define H0 and H1\n",
    "H0 = tensor(X, X, X, X, X)\n",
    "H1 = tensor(Z, Z, Z, Z, Z)\n",
    "\n",
    "tlist = np.linspace(0, 10, 100)  # from 0 to 10 with 100 points\n",
    "\n",
    "# Stabilizers\n",
    "g1 = tensor(X, Z, Z, X, I)\n",
    "g2 = tensor(I, X, Z, Z, X)\n",
    "g3 = tensor(X, I, X, Z, Z)\n",
    "g4 = tensor(Z, X, I, X, Z)\n",
    "\n",
    "def H_t(t, Ep):\n",
    "    omega_t = omega_t_f(t)\n",
    "    delta_t = delta_t_f(t)\n",
    "    Hp = -Ep * (g1 + g2 + g3 + g4)\n",
    "    return omega_t * H0 + delta_t * H1 + Hp\n",
    "\n",
    "\n",
    "Ep_values = [1]\n",
    "colors = ['g']\n",
    "\n",
    "# Plot the eigenvalues\n",
    "plt.figure(figsize=(8, 6))\n",
    "\n",
    "for Ep in Ep_values:\n",
    "    eigenvalues = np.array([H_t(t, Ep).eigenenergies() for t in tlist])\n",
    "    for i in range(eigenvalues.shape[1]):\n",
    "        plt.plot(tlist, eigenvalues[:, i], label=f'Eigenvalue {i+1}')\n",
    "\n",
    "plt.xlabel('Time')\n",
    "plt.ylabel('Eigenvalue')\n",
    "plt.title('Eigenvalues of the Hamiltonian as a function of time')\n",
    "plt.grid(True)\n",
    "plt.show()"
   ],
   "outputs": []
  }
 ],
 "metadata": {
  "kernelspec": {
   "display_name": "Python 3 (ipykernel)",
   "language": "python",
   "name": "python3"
  },
  "language_info": {
   "codemirror_mode": {
    "name": "ipython",
    "version": 3
   },
   "file_extension": ".py",
   "mimetype": "text/x-python",
   "name": "python",
   "nbconvert_exporter": "python",
   "pygments_lexer": "ipython3",
   "version": "3.9.13"
  }
 },
 "nbformat": 4,
 "nbformat_minor": 5
}
