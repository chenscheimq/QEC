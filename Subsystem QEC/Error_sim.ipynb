{
 "cells": [
  {
   "cell_type": "code",
   "id": "initial_id",
   "metadata": {
    "collapsed": true,
    "ExecuteTime": {
     "end_time": "2025-02-24T10:04:56.270624Z",
     "start_time": "2025-02-24T10:04:55.725539Z"
    }
   },
   "source": [
    "import numpy as np\n",
    "import matplotlib.pyplot as plt\n",
    "from qutip import *\n",
    "import time"
   ],
   "outputs": [],
   "execution_count": 1
  },
  {
   "metadata": {
    "ExecuteTime": {
     "end_time": "2025-02-24T10:04:56.274322Z",
     "start_time": "2025-02-24T10:04:56.271598Z"
    }
   },
   "cell_type": "code",
   "source": [
    "def print_quantum_state_as_superposition(state):\n",
    "    \"\"\"\n",
    "    Helper function to print quantum state as superposition of basis functions\n",
    "    \"\"\"\n",
    "    state = state.unit()\n",
    "    dimension = int(np.log2(state.shape[0]))\n",
    "    state_vector = state.full().flatten()\n",
    "    basis_states = ['0', '1']\n",
    "    \n",
    "    superposition = []\n",
    "    for i, amplitude in enumerate(state_vector):\n",
    "        abs_amplitude = np.abs(amplitude)\n",
    "\n",
    "        if round(abs_amplitude, 2) > 0:\n",
    "            sign = '-' if amplitude.real < 0 else '+'\n",
    "            binary_state = ''.join(basis_states[int(bit)] for bit in f\"{i:0{dimension}b}\")\n",
    "            superposition.append(f\"{sign} {abs_amplitude:.2f}|{binary_state}⟩\")\n",
    "\n",
    "    # Removing the first sign\n",
    "    if superposition and superposition[0][0] == '+':\n",
    "        superposition[0] = superposition[0][2:]\n",
    "\n",
    "    superposition_str = ' '.join(superposition).replace('+-', '- ')\n",
    "    \n",
    "    print(f\"|ψ⟩ = {superposition_str}\")"
   ],
   "id": "6186350d6030a822",
   "outputs": [],
   "execution_count": 2
  },
  {
   "metadata": {
    "ExecuteTime": {
     "end_time": "2025-02-24T10:04:56.277903Z",
     "start_time": "2025-02-24T10:04:56.274885Z"
    }
   },
   "cell_type": "code",
   "source": [
    "X = sigmax()\n",
    "Z = sigmaz()\n",
    "Y = sigmay()\n",
    "I = qeye(2)\n",
    "\n",
    "S_X = tensor(X, X, X, X)\n",
    "S_Z = tensor(Z, Z, Z, Z)\n",
    "\n",
    "X_L_1 = tensor(X, I, X, I)\n",
    "Z_L_1 = tensor(Z, Z, I, I)\n",
    "\n",
    "X_L_2 = tensor(X, X, I, I)\n",
    "Z_L_2 = tensor(Z, I, Z, I)\n",
    "\n",
    "\n",
    "# Logical states\n",
    "logical_zero = (tensor(basis(2, 0), basis(2, 0), basis(2, 0), basis(2, 0)) +\n",
    "                tensor(basis(2, 1), basis(2, 1), basis(2, 1), basis(2, 1))).unit()\n",
    "logical_one = X_L_1 * logical_zero"
   ],
   "id": "494c62bddb4d91c",
   "outputs": [],
   "execution_count": 3
  },
  {
   "metadata": {
    "ExecuteTime": {
     "end_time": "2025-02-24T10:04:56.280301Z",
     "start_time": "2025-02-24T10:04:56.278560Z"
    }
   },
   "cell_type": "code",
   "source": [
    "T_max = 10\n",
    "times = np.linspace(0, T_max, 50)\n",
    "sigma = 1\n",
    "omega_max = 50\n",
    "omega_t = lambda t: omega_max * np.exp(-0.5 * ((t - T_max/2) / sigma) ** 2)\n",
    "delta_t = lambda t: 2*omega_max*(t / (T_max/2) - 1)\n"
   ],
   "id": "296e1607a3a07ba4",
   "outputs": [],
   "execution_count": 4
  },
  {
   "metadata": {
    "ExecuteTime": {
     "end_time": "2025-02-24T10:04:56.285089Z",
     "start_time": "2025-02-24T10:04:56.281567Z"
    }
   },
   "cell_type": "code",
   "source": [
    "def H(t):\n",
    "    \"\"\"\n",
    "    Rapid Adiabatic Hamiltonian\n",
    "    \"\"\"\n",
    "    return  X_L_1 * omega_t(t) + Z_L_1 * delta_t(t)\n",
    "\n",
    "def H_error_gaussian(t, error_time, strength):\n",
    "    \"\"\"\n",
    "    Error Hamiltonian localized at a specific time (e.g., bit-flip on the first qubit).\n",
    "    \"\"\"\n",
    "    error_width = 0.5\n",
    "    f_t = strength * np.exp(-((t - error_time) ** 2) / (2 * error_width ** 2))\n",
    "    return f_t * tensor(X, I, I, I)\n",
    "\n",
    "def H_error(t, error_time, strength, duration=2):\n",
    "    if error_time <= t < error_time + duration:\n",
    "        # ramp_strength = strength * (t - error_time) / duration\n",
    "        bit_flip_1 = tensor(X, I, I, I)\n",
    "        bit_flip_2 = tensor(I, X, I, I)\n",
    "        bit_flip_3 = tensor(I, I, X, I) \n",
    "        bit_flip_4 = tensor(I, I, I, X)\n",
    "        return strength * bit_flip_1\n",
    "    else:\n",
    "        # Identity when error is not active\n",
    "        return tensor(I, I, I, I)\n",
    "\n",
    "def H_supp(x, z, nu1, nu2, lambda1, lambda2, opt):\n",
    "    X_A = tensor(X, X, I, I)\n",
    "    Z_A = tensor(Z, I, Z, I)\n",
    "    H_supp_stab = S_X + S_Z\n",
    "    H_supp_gauge = -(lambda1 + lambda2*x) * X_A -(nu1 + nu2*z) * Z_A\n",
    "    if opt == 'stab':\n",
    "        return H_supp_stab\n",
    "    elif opt == 'gauge':\n",
    "        return H_supp_gauge\n",
    "    else:\n",
    "        raise ValueError\n",
    "    \n",
    "def H_total(t, error_time, error_strength, duration, x, z, nu1, nu2, lambda1, lambda2, opt, Ep):\n",
    "    \"\"\"\n",
    "    Total Hamiltonian including AQC evolution and error simulation.\n",
    "    \"\"\"\n",
    "    H_n = H(t) + Ep * H_supp(x, z, nu1, nu2, lambda1, lambda2, opt) + H_error(t, error_time, error_strength, duration)\n",
    "    return H_n\n"
   ],
   "id": "a4b88e01d69e2ee0",
   "outputs": [],
   "execution_count": 5
  },
  {
   "metadata": {
    "ExecuteTime": {
     "end_time": "2025-02-24T10:04:56.287198Z",
     "start_time": "2025-02-24T10:04:56.285642Z"
    }
   },
   "cell_type": "code",
   "source": [
    "lambda1 = -1\n",
    "lambda2 = -1\n",
    "nu1 = -1\n",
    "nu2 = -1\n",
    "x = -1\n",
    "z = 1\n",
    "Ep = -200\n",
    "error_time = 6\n",
    "duration = T_max - error_time\n",
    "error_strength = 50\n",
    "opt = 'gauge'"
   ],
   "id": "7f532e37ec44e3e2",
   "outputs": [],
   "execution_count": 6
  },
  {
   "metadata": {
    "ExecuteTime": {
     "end_time": "2025-02-24T10:04:58.154196Z",
     "start_time": "2025-02-24T10:04:56.287658Z"
    }
   },
   "cell_type": "code",
   "source": [
    "# Simulate evolution\n",
    "e_ops = [logical_zero*logical_zero.dag(), logical_one*logical_one.dag()]\n",
    "\n",
    "result = sesolve(lambda t: H_total(t, error_time, error_strength, duration, x, z, nu1, nu2, lambda1, lambda2, opt, Ep),\n",
    "                 logical_zero, times, e_ops=e_ops, \n",
    "                 options={'nsteps': 1e5})\n",
    "\n",
    "plt.figure(figsize=(8, 6))\n",
    "plt.plot(times, result.expect[0], label=r\"$|0_L\\rangle$ Population\", color='red')\n",
    "plt.plot(times, result.expect[1], label=r\"$|1_L\\rangle$ Population\", color='blue')\n",
    "# Add vertical lines for the start and end of the error\n",
    "plt.axvline(error_time, color='black', linestyle='--', label=\"Error Start\")\n",
    "plt.axvline(error_time + duration, color='black', linestyle='--', label=\"Error End\")\n",
    "\n",
    "# Shade the area between the lines\n",
    "plt.fill_betweenx(\n",
    "    [0, 1],  # Adjust y-limits based on your data range\n",
    "    error_time,\n",
    "    error_time + duration,\n",
    "    color='gray',\n",
    "    alpha=0.3,\n",
    "    label=\"Error Region\"\n",
    ")\n",
    "\n",
    "plt.xlabel(\"Time (t)\")\n",
    "plt.ylabel(\"Population\")\n",
    "plt.title(\"Logical State Populations with Bit-Flip Error\")\n",
    "plt.legend()\n",
    "plt.grid()\n",
    "plt.show()"
   ],
   "id": "b3bf2eb9628a8bde",
   "outputs": [
    {
     "data": {
      "text/plain": [
       "<Figure size 800x600 with 1 Axes>"
      ],
      "image/png": "[encoded data removed]"
     },
     "metadata": {},
     "output_type": "display_data"
    }
   ],
   "execution_count": 7
  },
  {
   "metadata": {
    "ExecuteTime": {
     "end_time": "2025-03-04T15:46:41.294419Z",
     "start_time": "2025-03-04T15:46:41.286286Z"
    }
   },
   "cell_type": "code",
   "source": [
    "def bose_einstein_distribution(energy_diff, temperature):\n",
    "    if temperature == 0:\n",
    "        return 0\n",
    "    return 1 / (np.exp(energy_diff / (temperature)) - 1)\n",
    "\n",
    "def gab(omega1, omega2, lambda_2):\n",
    "    if omega1 >= omega2:\n",
    "        return 0\n",
    "    return np.sqrt(lambda_2)\n",
    "    \n",
    "def c_ops_gen(t, args):\n",
    "    \"\"\"\n",
    "    Robustness of adiabatic quantum computation - from this paper\n",
    "    :param t: time parameter \n",
    "    :param args: dictionary of optional arguments\n",
    "    :return: a matrix of the collapse operator\n",
    "    \"\"\"\n",
    "    H_inst_t = args['args_H'](t)  # Instantaneous Hamiltonian at time t\n",
    "    eigenvalues, eigenstates = H_inst_t.eigenstates()\n",
    "    \n",
    "    sigmam_i = args['sigma_i']\n",
    "    \n",
    "    # Initialize a single collapse operator for this qubit\n",
    "    collapse_op = Qobj(np.zeros_like(sigmam_i.full()), dims=sigmam_i.dims)\n",
    "    \n",
    "    for omega_a, a in zip(eigenvalues, eigenstates):\n",
    "        for omega_b, b in zip(eigenvalues, eigenstates):\n",
    "            if np.abs(omega_a - omega_b) < 1e-6:\n",
    "                continue  # Skip nearly degenerate states\n",
    "            \n",
    "            # For decay transitions (omega_b > omega_a)\n",
    "            if omega_b > omega_a:\n",
    "                Nba = bose_einstein_distribution(omega_b - omega_a, args['T'])\n",
    "                g_ba = gab(omega_a, omega_b, args['lambda_2'])\n",
    "                \n",
    "                ma_ba = a.dag() * sigmam_i * b * b.dag() * sigmam_i.dag() * a\n",
    "                \n",
    "                decay_op = np.sqrt(Nba * (g_ba ** 2) * ma_ba) * (b * a.dag())\n",
    "                collapse_op += decay_op\n",
    "\n",
    "            # For excitation transitions (omega_a > omega_b)\n",
    "            elif omega_a > omega_b:\n",
    "                Nab = bose_einstein_distribution(omega_a - omega_b, args['T'])\n",
    "                g_ab = gab(omega_b, omega_a, args['lambda_2'])\n",
    "                \n",
    "                ma_ab = b.dag() * sigmam_i * a * a.dag() * sigmam_i.dag() * b\n",
    "                \n",
    "                excitation_op = np.sqrt((Nab + 1) * (g_ab ** 2) * ma_ab) * (b * a.dag())\n",
    "\n",
    "                collapse_op += excitation_op\n",
    "    # print(collapse_op)\n",
    "    return collapse_op"
   ],
   "id": "9c3a62e5ea0691ba",
   "outputs": [],
   "execution_count": 1
  },
  {
   "metadata": {
    "jupyter": {
     "is_executing": true
    },
    "ExecuteTime": {
     "start_time": "2025-02-24T10:01:47.950543Z"
    }
   },
   "cell_type": "code",
   "source": [
    "# Time-dependent Hamiltonian\n",
    "def H_t(t):\n",
    "    return H(t) + Ep * H_supp(x, z, nu1, nu2, lambda1, lambda2, opt)  # Assuming H_x and H_z are valid Qobjs\n",
    "\n",
    "n_qubits = 4\n",
    "gamma_sqrt= 0.9\n",
    "T = 100\n",
    "\n",
    "args_C = {\"H\": H_t,\n",
    "          \"n_qubits\": n_qubits,\n",
    "          \"lambda_2\": gamma_sqrt,\n",
    "          \"T\": T}\n",
    "\n",
    "c_ops_s = []\n",
    "for i in range(n_qubits):\n",
    "    args_C = {\"args_H\": H_t,\n",
    "              \"n_qubits\": n_qubits,\n",
    "              \"lambda_2\":gamma_sqrt,\n",
    "              \"T\":T,\n",
    "              \"sigma_i\": Qobj(tensor([sigmam() if j == i else I for j in range(n_qubits)]).data, dims=H_t(0).dims)\n",
    "             }\n",
    "    c_ops_i = QobjEvo(c_ops_gen, args=args_C)\n",
    "    c_ops_s.append(c_ops_i)\n",
    "    # c_ops_s.append(lambda t: c_ops_gen(t, args_C))\n",
    "\n",
    "rho0 = logical_zero*logical_zero.dag()\n",
    "# Solve the master equation\n",
    "results = mesolve(H_t, rho0, times, c_ops=c_ops_s, e_ops=e_ops,\n",
    "                  options={'nsteps': 1e4})\n",
    "\n",
    "# Plotting results\n",
    "plt.plot(times, results.expect[0], label=r\"$\\rho_0$\")\n",
    "plt.plot(times, results.expect[1], label=r\"$\\rho_1$\")\n",
    "\n",
    "plt.grid()\n",
    "plt.legend()\n",
    "plt.xlabel('Time')\n",
    "plt.ylabel('Population')\n",
    "plt.title('Population Evolution ' + \n",
    "          r\"$\\langle\\varphi|\\rho_{0/1}(t)|\\varphi\\rangle$\" + \n",
    "          ' of Each Logical Qubits Over Time with Dissipation' + \n",
    "          f\" - Temp = {T} - \" + \n",
    "          f\"gamma = {gamma_sqrt}\")\n",
    "plt.show()"
   ],
   "id": "68253afc897ad471",
   "outputs": [
    {
     "name": "stderr",
     "output_type": "stream",
     "text": [
      "capi_return is NULL\n",
      "Call-back cb_f_in_zvode__user__routines failed.\n",
      "Fatal Python error: F2PySwapThreadLocalCallbackPtr: F2PySwapThreadLocalCallbackPtr: PyLong_AsVoidPtr failed\n",
      "Python runtime state: initialized\n",
      "Traceback (most recent call last):\n",
      "  File \"/Users/chenscheim/PycharmProjects/QEC_A/myenv/lib/python3.12/site-packages/qutip/solver/integrator/scipy_integrator.py\", line 69, in _mul_np_vec\n",
      "    out = self.system.matmul_data(t, state)\n",
      "          ^^^^^^^^^^^^^^^^^^^^^^^^^^^^^^^^^\n",
      "  File \"qutip/core/cy/qobjevo.pyx\", line 1105, in qutip.core.cy.qobjevo.QobjEvo.matmul_data\n",
      "  File \"qutip/core/cy/qobjevo.pyx\", line 1117, in qutip.core.cy.qobjevo.QobjEvo.matmul_data\n",
      "  File \"qutip/core/cy/_element.pyx\", line 619, in qutip.core.cy._element._ProdElement.matmul_data_t\n",
      "  File \"qutip/core/cy/_element.pyx\", line 165, in qutip.core.cy._element._BaseElement.matmul_data_t\n",
      "  File \"qutip/core/cy/_element.pyx\", line 546, in qutip.core.cy._element._MapElement.data\n",
      "  File \"qutip/core/cy/_element.pyx\", line 549, in qutip.core.cy._element._MapElement.qobj\n",
      "  File \"qutip/core/cy/_element.pyx\", line 478, in qutip.core.cy._element._FuncElement.qobj\n",
      "  File \"/var/folders/sn/yn8dgjs53ml_hdwfm9mp_fyh0000gn/T/ipykernel_18363/2387943041.py\", line 28, in c_ops_gen\n",
      "KeyboardInterrupt\n",
      "\n",
      "Extension modules: zmq.backend.cython._zmq"
     ]
    }
   ],
   "execution_count": null
  },
  {
   "metadata": {
    "jupyter": {
     "is_executing": true
    },
    "ExecuteTime": {
     "start_time": "2025-02-24T10:05:03.187212Z"
    }
   },
   "cell_type": "code",
   "source": [
    "# Time-dependent Hamiltonian\n",
    "def H_t(t):\n",
    "    return H(t) + Ep * H_supp(x, z, nu1, nu2, lambda1, lambda2, opt)  # Assuming H_x and H_z are valid Qobjs\n",
    "\n",
    "n_qubits = 4\n",
    "gamma_sqrt= 0.9\n",
    "T = 100\n",
    "\n",
    "args_C = {\"H\": H_t,\n",
    "          \"n_qubits\": n_qubits,\n",
    "          \"lambda_2\": gamma_sqrt,\n",
    "          \"T\": T}\n",
    "\n",
    "c_ops_s = []\n",
    "for i in range(n_qubits):\n",
    "    args_C = {\"args_H\": H_t,\n",
    "              \"n_qubits\": n_qubits,\n",
    "              \"lambda_2\":gamma_sqrt,\n",
    "              \"T\":T,\n",
    "              \"sigma_i\": Qobj(tensor([sigmam() if j == i else I for j in range(n_qubits)]).data, dims=H_t(0).dims)\n",
    "             }\n",
    "    c_ops_i = QobjEvo(c_ops_gen, args=args_C)\n",
    "    c_ops_s.append(c_ops_i)\n",
    "    # c_ops_s.append(lambda t: c_ops_gen(t, args_C))\n",
    "    # \n",
    "\n",
    "print(\"C Ops Generation Completed\")\n",
    "\n",
    "rho0 = logical_zero\n",
    "# Solve the master equation\n",
    "results = mcsolve(H_t, rho0, times, c_ops=c_ops_s, e_ops=e_ops,\n",
    "                  options={'nsteps': 1e4})\n",
    "\n",
    "# Plotting results\n",
    "plt.plot(times, results.expect[0], label=r\"$\\rho_0$\")\n",
    "plt.plot(times, results.expect[1], label=r\"$\\rho_1$\")\n",
    "\n",
    "plt.grid()\n",
    "plt.legend()\n",
    "plt.xlabel('Time')\n",
    "plt.ylabel('Population')\n",
    "plt.title('Population Evolution ' + \n",
    "          r\"$\\langle\\varphi|\\rho_{0/1}(t)|\\varphi\\rangle$\" + \n",
    "          ' of Each Logical Qubits Over Time with Dissipation' + \n",
    "          f\" - Temp = {T} - \" + \n",
    "          f\"gamma = {gamma_sqrt}\")\n",
    "plt.show()"
   ],
   "id": "35679e9c202aeb5a",
   "outputs": [],
   "execution_count": null
  }
 ],
 "metadata": {
  "kernelspec": {
   "display_name": "Python 3",
   "language": "python",
   "name": "python3"
  },
  "language_info": {
   "codemirror_mode": {
    "name": "ipython",
    "version": 2
   },
   "file_extension": ".py",
   "mimetype": "text/x-python",
   "name": "python",
   "nbconvert_exporter": "python",
   "pygments_lexer": "ipython2",
   "version": "2.7.6"
  }
 },
 "nbformat": 4,
 "nbformat_minor": 5
}
