{
 "cells": [
  {
   "cell_type": "code",
   "id": "initial_id",
   "metadata": {
    "ExecuteTime": {
     "end_time": "2025-03-04T15:48:50.961546Z",
     "start_time": "2025-03-04T15:48:50.348642Z"
    }
   },
   "source": [
    "import numpy as np\n",
    "import matplotlib.pyplot as plt\n",
    "from qutip import *"
   ],
   "outputs": [],
   "execution_count": 1
  },
  {
   "cell_type": "code",
   "id": "3f9204af",
   "metadata": {
    "ExecuteTime": {
     "end_time": "2025-03-04T15:48:50.965184Z",
     "start_time": "2025-03-04T15:48:50.962538Z"
    }
   },
   "source": [
    "def print_quantum_state_as_superposition(state):\n",
    "    \"\"\"\n",
    "    Helper function to print quantum state as superposition of basis functions\n",
    "    \"\"\"\n",
    "    state = state.unit()\n",
    "    dimension = int(np.log2(state.shape[0]))\n",
    "    state_vector = state.full().flatten()\n",
    "    basis_states = ['0', '1']\n",
    "    \n",
    "    superposition = []\n",
    "    for i, amplitude in enumerate(state_vector):\n",
    "        abs_amplitude = np.abs(amplitude)\n",
    "\n",
    "        if round(abs_amplitude, 2) > 0:\n",
    "            sign = '-' if amplitude.real < 0 else '+'\n",
    "            binary_state = ''.join(basis_states[int(bit)] for bit in f\"{i:0{dimension}b}\")\n",
    "            superposition.append(f\"{sign} {abs_amplitude:.2f}|{binary_state}⟩\")\n",
    "\n",
    "    # Removing the first sign\n",
    "    if superposition and superposition[0][0] == '+':\n",
    "        superposition[0] = superposition[0][2:]\n",
    "\n",
    "    superposition_str = ' '.join(superposition).replace('+-', '- ')\n",
    "    \n",
    "    print(f\"|ψ⟩ = {superposition_str}\")"
   ],
   "outputs": [],
   "execution_count": 2
  },
  {
   "cell_type": "code",
   "id": "dd7a0e00",
   "metadata": {
    "ExecuteTime": {
     "end_time": "2025-03-05T10:33:45.902874Z",
     "start_time": "2025-03-05T10:33:45.886319Z"
    }
   },
   "source": [
    "X = sigmax()\n",
    "Z = sigmaz()\n",
    "Y = sigmay()\n",
    "I = qeye(2)\n",
    "\n",
    "S_X = tensor(X, X, X, X)\n",
    "S_Z = tensor(Z, Z, Z, Z)\n",
    "\n",
    "X_L_1 = tensor(X, I, X, I)\n",
    "Z_L_1 = tensor(Z, Z, I, I)\n",
    "\n",
    "X_L_2 = tensor(I, X, I, X)\n",
    "Z_L_2 = tensor(I, I, Z, Z)\n",
    "\n",
    "G = [tensor(X,X,I,I), \n",
    "     tensor(Z,I,Z,I),\n",
    "     tensor(I,I,X,X),\n",
    "     tensor(I,Z,I,Z)]\n",
    "     \n",
    "\n",
    "# Logical states\n",
    "logical_zero = (tensor(basis(2, 0), basis(2, 0), basis(2, 0), basis(2, 0))+\n",
    "                tensor(basis(2, 1), basis(2, 1), basis(2, 1), basis(2, 1))).unit()\n",
    "ancilla_zero = (tensor(basis(2, 0), basis(2, 0), basis(2, 1), basis(2, 1))+\n",
    "                tensor(basis(2, 1), basis(2, 1), basis(2, 0), basis(2, 0))).unit()\n",
    "\n",
    "logical_one = X_L_1 * logical_zero\n",
    "ancilla_one = X_L_2 * ancilla_zero\n",
    "\n",
    "print(\"logical_zero\")\n",
    "print_quantum_state_as_superposition(logical_zero)\n",
    "print(\"ancilla_zero\")\n",
    "print_quantum_state_as_superposition(ancilla_zero)\n",
    "print(\"logical_one\")\n",
    "print_quantum_state_as_superposition(logical_one)\n",
    "print(\"ancilla_one\")\n",
    "print_quantum_state_as_superposition(ancilla_one)\n",
    "\n",
    "\n",
    "# initial_state = logical_one + logical_zero\n",
    "print(\"initial state is \")\n",
    "initial_state = logical_zero\n",
    "print_quantum_state_as_superposition(initial_state)"
   ],
   "outputs": [
    {
     "name": "stdout",
     "output_type": "stream",
     "text": [
      "logical_zero\n",
      "|ψ⟩ = 0.71|0000⟩ + 0.71|1111⟩\n",
      "ancilla_zero\n",
      "|ψ⟩ = 0.71|0011⟩ + 0.71|1100⟩\n",
      "logical_one\n",
      "|ψ⟩ = 0.71|0101⟩ + 0.71|1010⟩\n",
      "ancilla_one\n",
      "|ψ⟩ = 0.71|0110⟩ + 0.71|1001⟩\n",
      "initial state is \n",
      "|ψ⟩ = 0.71|0000⟩ + 0.71|1111⟩\n"
     ]
    }
   ],
   "execution_count": 37
  },
  {
   "cell_type": "code",
   "id": "9054bef1",
   "metadata": {
    "ExecuteTime": {
     "end_time": "2025-03-04T15:48:50.972027Z",
     "start_time": "2025-03-04T15:48:50.970274Z"
    }
   },
   "source": [
    "T_max = 10\n",
    "times = np.linspace(0, T_max, 50)\n",
    "sigma = 1\n",
    "omega_max = 10\n",
    "omega_t = lambda t: omega_max * np.exp(-0.5 * ((t - T_max/2) / sigma) ** 2)\n",
    "delta_t = lambda t: 2*omega_max*(t / (T_max/2) - 1)\n"
   ],
   "outputs": [],
   "execution_count": 4
  },
  {
   "cell_type": "code",
   "id": "44b942c2",
   "metadata": {
    "ExecuteTime": {
     "end_time": "2025-03-04T15:48:50.976608Z",
     "start_time": "2025-03-04T15:48:50.973248Z"
    }
   },
   "source": [
    "def H(t):\n",
    "    \"\"\"\n",
    "    Rapid Adiabatic Hamiltonian\n",
    "    \"\"\"\n",
    "    return  X_L_1 * omega_t(t) + Z_L_1 * delta_t(t)\n",
    "\n",
    "def H_error_gaussian(t, error_time, strength):\n",
    "    \"\"\"\n",
    "    Error Hamiltonian localized at a specific time (e.g., bit-flip on the first qubit).\n",
    "    \"\"\"\n",
    "    error_width = 0.5\n",
    "    f_t = strength * np.exp(-((t - error_time) ** 2) / (2 * error_width ** 2))\n",
    "    return f_t * tensor(X, I, I, I)\n",
    "\n",
    "def H_error(t, error_time, strength, duration=2):\n",
    "    if error_time <= t < error_time + duration:\n",
    "        # ramp_strength = strength * (t - error_time) / duration\n",
    "        bit_flip_1 = tensor(X, I, I, I)\n",
    "        bit_flip_2 = tensor(I, X, I, I)\n",
    "        bit_flip_3 = tensor(I, I, X, I) \n",
    "        bit_flip_4 = tensor(I, I, I, X)\n",
    "        return strength * bit_flip_1\n",
    "    else:\n",
    "        # Identity when error is not active\n",
    "        return tensor(I, I, I, I)\n",
    "\n",
    "def H_supp(x, z, nu1, nu2, lambda1, lambda2, opt):\n",
    "    X_A = tensor(X, X, I, I)\n",
    "    Z_A = tensor(Z, I, Z, I)\n",
    "    H_supp_stab = S_X + S_Z\n",
    "    H_supp_gauge = -(lambda1 + lambda2*x) * X_A -(nu1 + nu2*z) * Z_A\n",
    "#     H_supp_gauge = -sum(G)\n",
    "    if opt == 'stab':\n",
    "        return H_supp_stab\n",
    "    elif opt == 'gauge':\n",
    "        return H_supp_gauge\n",
    "    else:\n",
    "        raise ValueError\n",
    "    \n",
    "def H_total(t, error_time, error_strength, duration, x, z, nu1, nu2, lambda1, lambda2, opt, Ep):\n",
    "    \"\"\"\n",
    "    Total Hamiltonian including AQC evolution and error simulation.\n",
    "    \"\"\"\n",
    "    H_n = H(t) + Ep * H_supp(x, z, nu1, nu2, lambda1, lambda2, opt) + H_error(t, error_time, error_strength, duration)\n",
    "    return H_n\n"
   ],
   "outputs": [],
   "execution_count": 5
  },
  {
   "cell_type": "code",
   "id": "d225feb7",
   "metadata": {
    "ExecuteTime": {
     "end_time": "2025-03-04T15:48:50.978902Z",
     "start_time": "2025-03-04T15:48:50.977298Z"
    }
   },
   "source": [
    "lambda1 = 1\n",
    "lambda2 = 1\n",
    "nu1 = 1\n",
    "nu2 = 1\n",
    "x = -1\n",
    "z = 1\n",
    "Ep = -200\n",
    "error_time = 6\n",
    "duration = T_max - error_time\n",
    "error_strength = 50\n",
    "opt = 'gauge'"
   ],
   "outputs": [],
   "execution_count": 6
  },
  {
   "cell_type": "code",
   "id": "19930223",
   "metadata": {
    "ExecuteTime": {
     "end_time": "2025-03-04T15:48:53.008163Z",
     "start_time": "2025-03-04T15:48:50.979548Z"
    }
   },
   "source": [
    "# Simulate evolution\n",
    "e_ops = [logical_zero*logical_zero.dag(), logical_one*logical_one.dag()]\n",
    "\n",
    "result = sesolve(lambda t: H_total(t, error_time, error_strength, duration, x, z, nu1, nu2, lambda1, lambda2, opt, Ep),\n",
    "                 logical_zero, times, e_ops=e_ops, \n",
    "                 options={'nsteps': 1e5})\n",
    "\n",
    "plt.figure(figsize=(8, 6))\n",
    "plt.plot(times, result.expect[0], label=r\"$|0_L\\rangle$ Population\", color='red')\n",
    "plt.plot(times, result.expect[1], label=r\"$|1_L\\rangle$ Population\", color='blue')\n",
    "# Add vertical lines for the start and end of the error\n",
    "plt.axvline(error_time, color='black', linestyle='--', label=\"Error Start\")\n",
    "plt.axvline(error_time + duration, color='black', linestyle='--', label=\"Error End\")\n",
    "\n",
    "# Shade the area between the lines\n",
    "plt.fill_betweenx(\n",
    "    [0, 1],  # Adjust y-limits based on your data range\n",
    "    error_time,\n",
    "    error_time + duration,\n",
    "    color='gray',\n",
    "    alpha=0.3,\n",
    "    label=\"Error Region\"\n",
    ")\n",
    "\n",
    "plt.xlabel(\"Time (t)\")\n",
    "plt.ylabel(\"Population\")\n",
    "plt.title(\"Logical State Populations with Bit-Flip Error\")\n",
    "plt.legend()\n",
    "plt.grid()\n",
    "plt.show()"
   ],
   "outputs": [
    {
     "data": {
      "text/plain": [
       "<Figure size 800x600 with 1 Axes>"
      ],
      "image/png": "[encoded data removed]"
     },
     "metadata": {},
     "output_type": "display_data"
    }
   ],
   "execution_count": 7
  },
  {
   "cell_type": "code",
   "id": "bc3f3573",
   "metadata": {
    "ExecuteTime": {
     "end_time": "2025-03-04T15:48:53.012686Z",
     "start_time": "2025-03-04T15:48:53.008810Z"
    }
   },
   "source": [
    "def bose_einstein_distribution(energy_diff, temperature):\n",
    "    if temperature == 0:\n",
    "        return 0\n",
    "    return 1 / (np.exp(energy_diff / (temperature)) - 1)\n",
    "\n",
    "def gab(omega1, omega2, lambda_2):\n",
    "    if omega1 >= omega2:\n",
    "        return 0\n",
    "    return np.sqrt(lambda_2)\n",
    "\n",
    "def c_ops_gen_new(t, args):\n",
    "    H_inst_t = args['args_H'](t)  # Instantaneous Hamiltonian at time t\n",
    "    eigenvalues, eigenstates = H_inst_t.eigenstates()\n",
    "\n",
    "    c_ops = []\n",
    "    for a_i, a in enumerate(eigenstates):\n",
    "\n",
    "        omega_a = eigenvalues[a_i]\n",
    "        for b_i, b in enumerate(eigenstates[a_i+1:]):\n",
    "            omega_b = eigenvalues[a_i + b_i + 1]\n",
    "            \n",
    "            c = b*a.dag()\n",
    "            c_coef = 0\n",
    "            for i in range(args['n_qubits']):\n",
    "                sigmam_i = tensor([sigmam() if j == i else I for j in range(args['n_qubits'])])\n",
    "                \n",
    "                if np.abs(omega_a - omega_b) < 1e-6:\n",
    "                    continue  # Skip nearly degenerate states\n",
    "                \n",
    "                # For decay transitions (omega_b > omega_a)\n",
    "                if omega_b > omega_a:\n",
    "                    Nba = bose_einstein_distribution(omega_b - omega_a, args['T'])\n",
    "                    g_ba = gab(omega_a, omega_b, args['lambda_2'])\n",
    "\n",
    "                    ma_ba = a.dag() * sigmam_i * b * b.dag() * sigmam_i.dag() * a\n",
    "#                     ma_ba = np.abs(ma_ba)\n",
    "#                     if ma_ba > 1e-6:\n",
    "                    decay_op = np.sqrt(Nba * (g_ba ** 2) * ma_ba)\n",
    "                    c_coef += decay_op\n",
    "\n",
    "                # For excitation transitions (omega_a > omega_b)\n",
    "                elif omega_a > omega_b:\n",
    "                    Nab = bose_einstein_distribution(omega_a - omega_b, args['T'])\n",
    "                    g_ab = gab(omega_b, omega_a, args['lambda_2'])\n",
    "                    ma_ab = b.dag() * sigmam_i * a * a.dag() * sigmam_i.dag() * b\n",
    "                    excitation_op = np.sqrt((Nab + 1) * (g_ab ** 2) * ma_ab)                    \n",
    "                    c_coef += excitation_op\n",
    "                    \n",
    "                    \n",
    "            if c_coef > 1e-5:\n",
    "                c_ops.append(c.to('csr')*c_coef)\n",
    "\n",
    "    return c_ops"
   ],
   "outputs": [],
   "execution_count": 8
  },
  {
   "cell_type": "code",
   "id": "4ab9f444",
   "metadata": {
    "ExecuteTime": {
     "end_time": "2025-03-05T14:31:27.126935Z",
     "start_time": "2025-03-05T14:31:00.434891Z"
    }
   },
   "source": [
    "print_quantum_state_as_superposition(initial_state)\n",
    "\n",
    "n_qubits = 4\n",
    "sigma = 1\n",
    "omega_max = 10\n",
    "max_time = 10\n",
    "times = np.linspace(0, max_time,51) # has to be +1 for the final time stamp\n",
    "\n",
    "nsteps = 1e6\n",
    "gamma_sqrt = 0.1\n",
    "T = 50 # temp\n",
    "\n",
    "# Time-dependent functions\n",
    "omega_t = lambda t: omega_max * np.exp(-0.5 * ((t - max_time/2) / sigma) ** 2)    \n",
    "delta_t = lambda t: 2 * omega_max * (t / (max_time / 2) - 1)\n",
    "\n",
    "\n",
    "Eps = [0, 1, 10, 20, 40]\n",
    "\n",
    "rho0 = logical_zero * logical_zero.dag()\n",
    "rho1 = logical_one * logical_one.dag()\n",
    "rho_A_0 = ancilla_zero * ancilla_zero.dag()\n",
    "rho_A_1 = ancilla_one * ancilla_one.dag()\n",
    "e_ops = [rho0, rho1]\n",
    "\n",
    "plt.figure(figsize=(8, 6))\n",
    "\n",
    "# Plotting Ideal\n",
    "def H_se(t):\n",
    "    return omega_t(t) * X_L_1 + delta_t(t) * Z_L_1\n",
    "\n",
    "results_se = sesolve(H_se, logical_zero, times, e_ops=e_ops)\n",
    "# plt.plot(times, results_se.expect[0], linestyle=\"--\", label=r\"$\\rho_0$ - ideal\")\n",
    "plt.plot(times, results_se.expect[1], linestyle=\"--\", label=r\"ideal\")\n",
    "\n",
    "# Loop over different values of Ep\n",
    "for Ep in Eps:\n",
    "\n",
    "    print(Ep)\n",
    "    \n",
    "    rho_init = initial_state * initial_state.dag()\n",
    "    e_ops = [rho0, rho1, rho_A_0, rho_A_1]\n",
    "    \n",
    "    # Time-dependent Hamiltonian\n",
    "    def H_t(t):\n",
    "        H_RAP = X_L_1 * omega_t(t) + Z_L_1 * delta_t(t)\n",
    "        \n",
    "        # Ht = H_RAP + Ep * H_supp(x, z, nu1, nu2, lambda1, lambda2, opt)\n",
    "        Ht = H_RAP - Ep * sum(G)\n",
    "#       Z_A = tensor(Z, I, Z, I)\n",
    "#       Ht = H_RAP - Ep * (Z_A)\n",
    "        return Ht.to('csr')  # Assuming H_x and H_z are valid Qobjs\n",
    "\n",
    "    args_C = {\"args_H\": H_t,\n",
    "              \"n_qubits\": n_qubits,\n",
    "              \"lambda_2\":gamma_sqrt,\n",
    "              \"T\":T}\n",
    "\n",
    "    prev_time = times[0]\n",
    "    expects_0 = []\n",
    "    expects_1 = []\n",
    "    expects_0_A = []\n",
    "    expects_1_A = []\n",
    "    \n",
    "    time_inter = times[1] - times[0]\n",
    "\n",
    "    tot_time = times[1:]\n",
    "    tot_time = np.append(tot_time, times[-1] + time_inter)\n",
    "\n",
    "\n",
    "    \n",
    "    for dt in tot_time:\n",
    "        c_ops = c_ops_gen_new(dt, args=args_C)\n",
    "        t_steps = [prev_time, dt]\n",
    "        results = mesolve(H_t, rho_init, t_steps, c_ops=c_ops, args=args_C, e_ops=e_ops, \n",
    "                          options={'store_states': True})\n",
    "\n",
    "        # Updating\n",
    "        prev_time = dt\n",
    "        rho_init = results.states[-1]\n",
    "\n",
    "        # Saving\n",
    "        expects_1.append(results.expect[1][0])\n",
    "        expects_0.append(results.expect[0][0])\n",
    "        expects_0_A.append(results.expect[2][0])\n",
    "        expects_1_A.append(results.expect[3][0])\n",
    "    \n",
    "    # Plotting results\n",
    "    expects_all = [expects_1[i] + expects_1_A[i] for i in range(len(expects_1))]\n",
    "    # expects_all = [expects_1[i] for i in range(len(expects_1))]\n",
    "    # expects_all = [expects_1[i] / (expects_1[i] + expects_0[i]) for i in range(len(expects_1))]\n",
    "    # plt.plot(times, expects_0, label=r\"$0_L - E_{P}$=\" + str(Ep))\n",
    "    # plt.plot(times, expects_1, label=r\"$1_L - E_{P}$=\" + str(Ep))\n",
    "    # plt.plot(times, expects_0_A, label=r\"$0_A - E_{P}$=\" + str(Ep))\n",
    "    # plt.plot(times, expects_1_A, label=r\"$1_A - E_{P}$=\" + str(Ep))\n",
    "    \n",
    "    plt.plot(times, expects_all, label=r\"$E_{P}$=\" + str(Ep))\n",
    "\n",
    "    \n",
    "    \n",
    "plt.legend()\n",
    "plt.xlabel('time')\n",
    "plt.ylabel('fidelity')\n",
    "plt.show()\n",
    "\n",
    "# plt.savefig(f\"plot_subsystems.pdf\", format=\"pdf\", dpi=300)\n",
    "# plt.close()\n",
    "\n",
    "print(\"Done\")"
   ],
   "outputs": [
    {
     "name": "stdout",
     "output_type": "stream",
     "text": [
      "|ψ⟩ = 0.71|0000⟩ + 0.71|1111⟩\n",
      "0\n",
      "1\n",
      "10\n",
      "20\n",
      "40\n",
      "Done\n"
     ]
    }
   ],
   "execution_count": 59
  }
 ],
 "metadata": {
  "kernelspec": {
   "display_name": "Python 3 (ipykernel)",
   "language": "python",
   "name": "python3"
  },
  "language_info": {
   "codemirror_mode": {
    "name": "ipython",
    "version": 3
   },
   "file_extension": ".py",
   "mimetype": "text/x-python",
   "name": "python",
   "nbconvert_exporter": "python",
   "pygments_lexer": "ipython3",
   "version": "3.11.2"
  }
 },
 "nbformat": 4,
 "nbformat_minor": 5
}
