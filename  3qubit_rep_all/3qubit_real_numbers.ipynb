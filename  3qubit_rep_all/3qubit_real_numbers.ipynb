{
 "cells": [
  {
   "cell_type": "code",
   "execution_count": 189,
   "id": "dce305e9",
   "metadata": {},
   "outputs": [],
   "source": [
    "import numpy as np\n",
    "from qutip import *\n",
    "import plotly.graph_objects as go\n",
    "import os\n",
    "from qutip import *\n",
    "from tqdm import tqdm "
   ]
  },
  {
   "cell_type": "code",
   "execution_count": 190,
   "id": "3ad0a448",
   "metadata": {},
   "outputs": [],
   "source": [
    "# --------------------------\n",
    "# Platform scaling (pick one)\n",
    "# --------------------------\n",
    "PLATFORM = \"ibm\"   # \"ibm\" or \"quera\"\n",
    "\n",
    "# Platform temperature for thermal factors\n",
    "def platform_params(platform=\"ibm\"):\n",
    "    if platform.lower() == \"ibm\":\n",
    "        # IBM-style transmon (rad/s, seconds)\n",
    "        omega_max = 2*np.pi*12.5e6      # 40 ns pi pulse -> 12.5 MHz\n",
    "        # T_max     = 0.32e-6             # ~8*pi/omega_max; use 1e-6..2e-6 for very adiabatic\n",
    "        T_max     = 2e-6             # ~8*pi/omega_max; use 1e-6..2e-6 for very adiabatic\n",
    "        Ep        = 2*np.pi*100e6       # penalty ~100 MHz\n",
    "        time_unit_label = \"time [µs]\"\n",
    "        energy_unit_label = \"energy [MHz]\"  # plots will convert rad/s -> MHz\n",
    "        to_time_units = 1e6             # s -> µs\n",
    "        to_freq_units = 1/(2*np.pi*1e6) # rad/s -> MHz\n",
    "        lambda_2 = 1e4\n",
    "        T_phys_K = 0.015 # K\n",
    "\n",
    "        # Bath temperatures (Kelvin) typical for dilution fridges\n",
    "        temperatures = np.array([0.008, 0.010, 0.012, 0.015, 0.020, 0.030, 0.050, 0.100], dtype=float)\n",
    "        # Dimensionless Ep/(k_B T) values for EGP scaling\n",
    "        beta_vec     = np.array([0.1, 0.2, 0.5, 1.0, 2.0, 5.0, 10.0, 20.0, 50.0], dtype=float)\n",
    "        # Penalty sweep (rad/s): 2π × {5,10,20,50,100,200} MHz\n",
    "        Ep_vec       = 2*np.pi*np.array([10e6, 20e6, 50e6, 100e6, 200e6, 500e6, 1000e6], dtype=float) # rad/s\n",
    "        # Ep_vec = 2*np.pi*np.linspace(5, 500,20) * 1e6\n",
    "\n",
    "    elif platform.lower() == \"quera\":\n",
    "        # QuEra Aquila (rad/µs, microseconds)\n",
    "        omega_max = 10.0                # <= 15.8 rad/µs\n",
    "        # T_max     = 1.9                 # µs\n",
    "        T_max     = 3                 # µs\n",
    "        Ep        = 30.0                # rad/µs (>> omega_max)\n",
    "        time_unit_label = \"time [µs]\"\n",
    "        energy_unit_label = \"energy [MHz]\"  # convert rad/µs -> MHz\n",
    "        to_time_units = 1.0             # µs -> µs\n",
    "        to_freq_units = 1/(2*np.pi)     # rad/µs -> MHz\n",
    "        lambda_2 = 5e-3\n",
    "        T_phys_K = 300 # K\n",
    "\n",
    "        # Room-temp EM environment relevant for BBR (Kelvin)\n",
    "        temperatures = np.array([260.0, 273.15, 295.0, 300.0, 310.0, 330.0], dtype=float)\n",
    "        # At room T, Ep/(k_B T) is tiny for MHz-scale Ep → use decade-spaced small betas\n",
    "        beta_vec     = np.array([1e-9, 3e-9, 1e-8, 3e-8, 1e-7, 3e-7, 1e-6], dtype=float)\n",
    "        # Penalty sweep (rad/µs): {5,10,20,30,40,60}\n",
    "        Ep_vec       = np.array([5.0, 10.0, 20.0, 30.0, 40.0, 60.0], dtype=float)\n",
    "\n",
    "    else:\n",
    "        raise ValueError(\"PLATFORM must be 'ibm' or 'quera'\")\n",
    "    return dict(omega_max=omega_max, T_max=T_max, Ep=Ep,\n",
    "                time_unit_label=time_unit_label,\n",
    "                energy_unit_label=energy_unit_label,\n",
    "                to_time_units=to_time_units,\n",
    "                to_freq_units=to_freq_units,\n",
    "                temperatures=temperatures,\n",
    "                Ep_vec=Ep_vec, beta_vec=beta_vec, lambda_2=lambda_2, T_phys_K=T_phys_K)\n",
    "\n",
    "params = platform_params(PLATFORM)\n",
    "omega_max = params[\"omega_max\"]\n",
    "T_max     = params[\"T_max\"]\n",
    "Ep        = params[\"Ep\"]\n",
    "Ep_vec    = params[\"Ep_vec\"]\n",
    "temperatures = params[\"temperatures\"]\n",
    "beta_vec  = params[\"beta_vec\"]\n",
    "lambda_2 = params[\"lambda_2\"]\n",
    "T_phys_K = params[\"T_phys_K\"]\n",
    "\n",
    "# --------------------------\n",
    "# Single-qubit primitives\n",
    "# --------------------------\n",
    "I = qeye(2)\n",
    "X = sigmax()\n",
    "Y = sigmay()\n",
    "Z = sigmaz()\n",
    "\n",
    "# --------------------------\n",
    "# Logical operators (3-qubit repetition, bit-flip code)\n",
    "# Code space: |0_L>=|000>, |1_L>=|111>\n",
    "# Stabilizers for X-error protection: Z1Z2 and Z2Z3\n",
    "# --------------------------\n",
    "X_L = tensor(X, X, X)\n",
    "Z_L = tensor(Z, Z, Z)              # acts nontrivially on code; anticommutes with X_L\n",
    "I_L = tensor(I, I, I)\n",
    "\n",
    "S1 = tensor(Z, Z, I)               # Z1 Z2\n",
    "S2 = tensor(I, Z, Z)               # Z2 Z3\n",
    "S_list = [S1, S2]\n",
    "\n",
    "# Penalty Hamiltonian: -Ep * (S1 + S2)\n",
    "Hp = -Ep * sum(S_list, 0*I_L)      # 'start' ensures Qobj sum\n",
    "\n",
    "# --------------------------\n",
    "# Basis & logical states (optional, for checks)\n",
    "# --------------------------\n",
    "basis_states = [basis(2, 0), basis(2, 1)]\n",
    "logical_zero = tensor(basis_states[0], basis_states[0], basis_states[0])\n",
    "logical_one  = tensor(basis_states[1], basis_states[1], basis_states[1])\n",
    "\n",
    "# --------------------------\n",
    "# RAP pulses\n",
    "# --------------------------\n",
    "def omega_t(t, T_max=T_max, omega_max=omega_max):\n",
    "    return omega_max * np.sin(np.pi * t / T_max)\n",
    "\n",
    "def delta_t(t, T_max=T_max, omega_max=omega_max):\n",
    "    return -omega_max * np.cos(np.pi * t / T_max)\n",
    "\n",
    "def H(t):\n",
    "    # Logical RAP drive\n",
    "    Ht = X_L * omega_t(t) + Z_L * delta_t(t) + Hp\n",
    "    return Ht.to('csr')\n",
    "\n",
    "# --------------------------\n",
    "# Time grid\n",
    "# --------------------------\n",
    "def time_list(num_points=51):\n",
    "    return np.linspace(0, T_max, num_points)\n",
    "\n",
    "t_list = time_list()\n",
    "\n",
    "# --------------------------\n",
    "# Spectrum vs. time with simple eigenstate matching\n",
    "# --------------------------\n",
    "def spectrum_track(t_list, n_track=2):\n",
    "    \"\"\"\n",
    "    Track the lowest 'n_track' eigenstates by overlap with t=0 eigenstates.\n",
    "    Returns: dict {idx: energies_over_time}\n",
    "    \"\"\"\n",
    "    # t=0 diagonalization\n",
    "    evals0, estates0 = H(0).eigenstates()\n",
    "    dim = len(evals0)\n",
    "    energies = {i: [evals0[i]] for i in range(dim)}\n",
    "\n",
    "    for k in range(1, len(t_list)):\n",
    "        t = t_list[k]\n",
    "        evals, estates = H(t).eigenstates()\n",
    "\n",
    "        # Track the first n_track states by overlap with initial estates0\n",
    "        used = set()\n",
    "        for i in range(n_track):\n",
    "            ref = estates0[i]\n",
    "            best_j, best_over = 0, -1.0\n",
    "            for j, psi in enumerate(estates):\n",
    "                if j in used:\n",
    "                    continue\n",
    "                ov = abs(ref.overlap(psi))**2\n",
    "                if ov > best_over:\n",
    "                    best_over, best_j = ov, j\n",
    "            energies[i].append(evals[best_j])\n",
    "            used.add(best_j)\n",
    "\n",
    "        # Append the rest by index (no tracking)\n",
    "        for i in range(n_track, dim):\n",
    "            energies[i].append(evals[i])\n",
    "\n",
    "    return energies, params\n",
    "\n",
    "\n",
    "# =========================\n",
    "# Additions for open-system\n",
    "# =========================\n",
    "\n",
    "# --- Physical constants\n",
    "kB   = 1.380649e-23        # J/K\n",
    "hbar = 1.054571817e-34     # J*s"
   ]
  },
  {
   "cell_type": "code",
   "execution_count": 191,
   "id": "6cd5db60",
   "metadata": {},
   "outputs": [
    {
     "data": {
      "application/vnd.plotly.v1+json": {
       "config": {
        "plotlyServerURL": "https://plot.ly"
       },
       "data": [
        {
         "mode": "lines",
         "name": "Ω(t)",
         "type": "scatter",
         "x": {
          "bdata": "AAAAAAAAAAB7FK5H4XqkP3sUrkfherQ/uR6F61G4vj97FK5H4XrEP5mZmZmZmck/uR6F61G4zj/sUbgehevRP3sUrkfhetQ/CtejcD0K1z+ZmZmZmZnZPylcj8L1KNw/uR6F61G43j+kcD0K16PgP+xRuB6F6+E/MzMzMzMz4z97FK5H4XrkP8P1KFyPwuU/CtejcD0K5z9SuB6F61HoP5mZmZmZmek/4XoUrkfh6j8pXI/C9SjsP3A9CtejcO0/uR6F61G47j8AAAAAAADwP6RwPQrXo/A/SOF6FK5H8T/sUbgehevxP5DC9Shcj/I/MzMzMzMz8z/Xo3A9CtfzP3sUrkfhevQ/H4XrUbge9T/D9Shcj8L1P2ZmZmZmZvY/CtejcD0K9z+uR+F6FK73P1K4HoXrUfg/9ihcj8L1+D+ZmZmZmZn5Pz0K16NwPfo/4XoUrkfh+j+F61G4HoX7Pylcj8L1KPw/zczMzMzM/D9wPQrXo3D9PxSuR+F6FP4/uR6F61G4/j9cj8L1KFz/PwAAAAAAAABA",
          "dtype": "f8"
         },
         "y": {
          "bdata": "AAAAAAAAAABs5o7Lvx3pP44fTMIPEfk/rrfqLva8AkDt5WULdt4IQIvcOsbV5g5AG8TDiP5nEkBDTSWV+UkVQEe8dXByFhhAr8PlPZXKGkAyXfe2pmMdQLXS+u0G3x9AEGF1+hkdIUDRn/wyZjkiQE9sn+VIQyNAI7eOcbU5JEBZRIbfshslQEVeVd1c6CVA1fCLpOSeJkAC/2LLkT4nQGdiDf/CxidAH5i0pu42KEDP73xuo44oQIupBLqIzShAH1Xq/V7zKEAAAAAAAAApQB9V6v1e8yhAiakEuojNKEDO73xuo44oQB+YtKbuNihAaGIN/8LGJ0AC/2LLkT4nQNXwi6TkniZARV5V3VzoJUBZRIbfshslQCO3jnG1OSRAT2yf5UhDI0DSn/wyZjkiQA5hdfoZHSFAs9L67QbfH0A0Xfe2pmMdQK/D5T2VyhpARrx1cHIWGEBFTSWV+UkVQBjEw4j+ZxJAg9w6xtXmDkDu5WULdt4IQK236i72vAJAhB9Mwg8R+T+E5o7Lvx3pP8rPz6+bk9s8",
          "dtype": "f8"
         }
        },
        {
         "line": {
          "dash": "dash"
         },
         "mode": "lines",
         "name": "Δ(t)",
         "type": "scatter",
         "x": {
          "bdata": "AAAAAAAAAAB7FK5H4XqkP3sUrkfherQ/uR6F61G4vj97FK5H4XrEP5mZmZmZmck/uR6F61G4zj/sUbgehevRP3sUrkfhetQ/CtejcD0K1z+ZmZmZmZnZPylcj8L1KNw/uR6F61G43j+kcD0K16PgP+xRuB6F6+E/MzMzMzMz4z97FK5H4XrkP8P1KFyPwuU/CtejcD0K5z9SuB6F61HoP5mZmZmZmek/4XoUrkfh6j8pXI/C9SjsP3A9CtejcO0/uR6F61G47j8AAAAAAADwP6RwPQrXo/A/SOF6FK5H8T/sUbgehevxP5DC9Shcj/I/MzMzMzMz8z/Xo3A9CtfzP3sUrkfhevQ/H4XrUbge9T/D9Shcj8L1P2ZmZmZmZvY/CtejcD0K9z+uR+F6FK73P1K4HoXrUfg/9ihcj8L1+D+ZmZmZmZn5Pz0K16NwPfo/4XoUrkfh+j+F61G4HoX7Pylcj8L1KPw/zczMzMzM/D9wPQrXo3D9PxSuR+F6FP4/uR6F61G4/j9cj8L1KFz/PwAAAAAAAABA",
          "dtype": "f8"
         },
         "y": {
          "bdata": "AAAAAAAAKcAfVer9XvMowIupBLqIzSjAz+98bqOOKMAfmLSm7jYowGdiDf/CxifAAv9iy5E+J8DV8Iuk5J4mwEVeVd1c6CXAWUSG37IbJcAjt45xtTkkwE5sn+VIQyPA0Z/8MmY5IsAOYXX6GR0hwLTS+u0G3x/AMl33tqZjHcCtw+U9lcoawEe8dXByFhjAQU0llflJFcAaxMOI/mcSwIzcOsbV5g7A6+VlC3beCMCrt+ou9rwCwI4fTMIPEfm/ZuaOy78d6b/Kz8+vm5PLvHDmjsu/Hek/lB9Mwg8R+T+0t+ou9rwCQO7lZQt23ghAitw6xtXmDkAfxMOI/mcSQENNJZX5SRVASrx1cHIWGECrw+U9lcoaQDFd97amYx1AtdL67QbfH0ANYXX6GR0hQNKf/DJmOSJAT2yf5UhDI0Ait45xtTkkQFlEht+yGyVARV5V3VzoJUDT8Iuk5J4mQAL/YsuRPidAaGIN/8LGJ0AfmLSm7jYoQM/vfG6jjihAi6kEuojNKEAfVer9XvMoQAAAAAAAAClA",
          "dtype": "f8"
         }
        }
       ],
       "layout": {
        "template": {
         "data": {
          "bar": [
           {
            "error_x": {
             "color": "rgb(36,36,36)"
            },
            "error_y": {
             "color": "rgb(36,36,36)"
            },
            "marker": {
             "line": {
              "color": "white",
              "width": 0.5
             },
             "pattern": {
              "fillmode": "overlay",
              "size": 10,
              "solidity": 0.2
             }
            },
            "type": "bar"
           }
          ],
          "barpolar": [
           {
            "marker": {
             "line": {
              "color": "white",
              "width": 0.5
             },
             "pattern": {
              "fillmode": "overlay",
              "size": 10,
              "solidity": 0.2
             }
            },
            "type": "barpolar"
           }
          ],
          "carpet": [
           {
            "aaxis": {
             "endlinecolor": "rgb(36,36,36)",
             "gridcolor": "white",
             "linecolor": "white",
             "minorgridcolor": "white",
             "startlinecolor": "rgb(36,36,36)"
            },
            "baxis": {
             "endlinecolor": "rgb(36,36,36)",
             "gridcolor": "white",
             "linecolor": "white",
             "minorgridcolor": "white",
             "startlinecolor": "rgb(36,36,36)"
            },
            "type": "carpet"
           }
          ],
          "choropleth": [
           {
            "colorbar": {
             "outlinewidth": 1,
             "tickcolor": "rgb(36,36,36)",
             "ticks": "outside"
            },
            "type": "choropleth"
           }
          ],
          "contour": [
           {
            "colorbar": {
             "outlinewidth": 1,
             "tickcolor": "rgb(36,36,36)",
             "ticks": "outside"
            },
            "colorscale": [
             [
              0,
              "#440154"
             ],
             [
              0.1111111111111111,
              "#482878"
             ],
             [
              0.2222222222222222,
              "#3e4989"
             ],
             [
              0.3333333333333333,
              "#31688e"
             ],
             [
              0.4444444444444444,
              "#26828e"
             ],
             [
              0.5555555555555556,
              "#1f9e89"
             ],
             [
              0.6666666666666666,
              "#35b779"
             ],
             [
              0.7777777777777778,
              "#6ece58"
             ],
             [
              0.8888888888888888,
              "#b5de2b"
             ],
             [
              1,
              "#fde725"
             ]
            ],
            "type": "contour"
           }
          ],
          "contourcarpet": [
           {
            "colorbar": {
             "outlinewidth": 1,
             "tickcolor": "rgb(36,36,36)",
             "ticks": "outside"
            },
            "type": "contourcarpet"
           }
          ],
          "heatmap": [
           {
            "colorbar": {
             "outlinewidth": 1,
             "tickcolor": "rgb(36,36,36)",
             "ticks": "outside"
            },
            "colorscale": [
             [
              0,
              "#440154"
             ],
             [
              0.1111111111111111,
              "#482878"
             ],
             [
              0.2222222222222222,
              "#3e4989"
             ],
             [
              0.3333333333333333,
              "#31688e"
             ],
             [
              0.4444444444444444,
              "#26828e"
             ],
             [
              0.5555555555555556,
              "#1f9e89"
             ],
             [
              0.6666666666666666,
              "#35b779"
             ],
             [
              0.7777777777777778,
              "#6ece58"
             ],
             [
              0.8888888888888888,
              "#b5de2b"
             ],
             [
              1,
              "#fde725"
             ]
            ],
            "type": "heatmap"
           }
          ],
          "histogram": [
           {
            "marker": {
             "line": {
              "color": "white",
              "width": 0.6
             }
            },
            "type": "histogram"
           }
          ],
          "histogram2d": [
           {
            "colorbar": {
             "outlinewidth": 1,
             "tickcolor": "rgb(36,36,36)",
             "ticks": "outside"
            },
            "colorscale": [
             [
              0,
              "#440154"
             ],
             [
              0.1111111111111111,
              "#482878"
             ],
             [
              0.2222222222222222,
              "#3e4989"
             ],
             [
              0.3333333333333333,
              "#31688e"
             ],
             [
              0.4444444444444444,
              "#26828e"
             ],
             [
              0.5555555555555556,
              "#1f9e89"
             ],
             [
              0.6666666666666666,
              "#35b779"
             ],
             [
              0.7777777777777778,
              "#6ece58"
             ],
             [
              0.8888888888888888,
              "#b5de2b"
             ],
             [
              1,
              "#fde725"
             ]
            ],
            "type": "histogram2d"
           }
          ],
          "histogram2dcontour": [
           {
            "colorbar": {
             "outlinewidth": 1,
             "tickcolor": "rgb(36,36,36)",
             "ticks": "outside"
            },
            "colorscale": [
             [
              0,
              "#440154"
             ],
             [
              0.1111111111111111,
              "#482878"
             ],
             [
              0.2222222222222222,
              "#3e4989"
             ],
             [
              0.3333333333333333,
              "#31688e"
             ],
             [
              0.4444444444444444,
              "#26828e"
             ],
             [
              0.5555555555555556,
              "#1f9e89"
             ],
             [
              0.6666666666666666,
              "#35b779"
             ],
             [
              0.7777777777777778,
              "#6ece58"
             ],
             [
              0.8888888888888888,
              "#b5de2b"
             ],
             [
              1,
              "#fde725"
             ]
            ],
            "type": "histogram2dcontour"
           }
          ],
          "mesh3d": [
           {
            "colorbar": {
             "outlinewidth": 1,
             "tickcolor": "rgb(36,36,36)",
             "ticks": "outside"
            },
            "type": "mesh3d"
           }
          ],
          "parcoords": [
           {
            "line": {
             "colorbar": {
              "outlinewidth": 1,
              "tickcolor": "rgb(36,36,36)",
              "ticks": "outside"
             }
            },
            "type": "parcoords"
           }
          ],
          "pie": [
           {
            "automargin": true,
            "type": "pie"
           }
          ],
          "scatter": [
           {
            "fillpattern": {
             "fillmode": "overlay",
             "size": 10,
             "solidity": 0.2
            },
            "type": "scatter"
           }
          ],
          "scatter3d": [
           {
            "line": {
             "colorbar": {
              "outlinewidth": 1,
              "tickcolor": "rgb(36,36,36)",
              "ticks": "outside"
             }
            },
            "marker": {
             "colorbar": {
              "outlinewidth": 1,
              "tickcolor": "rgb(36,36,36)",
              "ticks": "outside"
             }
            },
            "type": "scatter3d"
           }
          ],
          "scattercarpet": [
           {
            "marker": {
             "colorbar": {
              "outlinewidth": 1,
              "tickcolor": "rgb(36,36,36)",
              "ticks": "outside"
             }
            },
            "type": "scattercarpet"
           }
          ],
          "scattergeo": [
           {
            "marker": {
             "colorbar": {
              "outlinewidth": 1,
              "tickcolor": "rgb(36,36,36)",
              "ticks": "outside"
             }
            },
            "type": "scattergeo"
           }
          ],
          "scattergl": [
           {
            "marker": {
             "colorbar": {
              "outlinewidth": 1,
              "tickcolor": "rgb(36,36,36)",
              "ticks": "outside"
             }
            },
            "type": "scattergl"
           }
          ],
          "scattermap": [
           {
            "marker": {
             "colorbar": {
              "outlinewidth": 1,
              "tickcolor": "rgb(36,36,36)",
              "ticks": "outside"
             }
            },
            "type": "scattermap"
           }
          ],
          "scattermapbox": [
           {
            "marker": {
             "colorbar": {
              "outlinewidth": 1,
              "tickcolor": "rgb(36,36,36)",
              "ticks": "outside"
             }
            },
            "type": "scattermapbox"
           }
          ],
          "scatterpolar": [
           {
            "marker": {
             "colorbar": {
              "outlinewidth": 1,
              "tickcolor": "rgb(36,36,36)",
              "ticks": "outside"
             }
            },
            "type": "scatterpolar"
           }
          ],
          "scatterpolargl": [
           {
            "marker": {
             "colorbar": {
              "outlinewidth": 1,
              "tickcolor": "rgb(36,36,36)",
              "ticks": "outside"
             }
            },
            "type": "scatterpolargl"
           }
          ],
          "scatterternary": [
           {
            "marker": {
             "colorbar": {
              "outlinewidth": 1,
              "tickcolor": "rgb(36,36,36)",
              "ticks": "outside"
             }
            },
            "type": "scatterternary"
           }
          ],
          "surface": [
           {
            "colorbar": {
             "outlinewidth": 1,
             "tickcolor": "rgb(36,36,36)",
             "ticks": "outside"
            },
            "colorscale": [
             [
              0,
              "#440154"
             ],
             [
              0.1111111111111111,
              "#482878"
             ],
             [
              0.2222222222222222,
              "#3e4989"
             ],
             [
              0.3333333333333333,
              "#31688e"
             ],
             [
              0.4444444444444444,
              "#26828e"
             ],
             [
              0.5555555555555556,
              "#1f9e89"
             ],
             [
              0.6666666666666666,
              "#35b779"
             ],
             [
              0.7777777777777778,
              "#6ece58"
             ],
             [
              0.8888888888888888,
              "#b5de2b"
             ],
             [
              1,
              "#fde725"
             ]
            ],
            "type": "surface"
           }
          ],
          "table": [
           {
            "cells": {
             "fill": {
              "color": "rgb(237,237,237)"
             },
             "line": {
              "color": "white"
             }
            },
            "header": {
             "fill": {
              "color": "rgb(217,217,217)"
             },
             "line": {
              "color": "white"
             }
            },
            "type": "table"
           }
          ]
         },
         "layout": {
          "annotationdefaults": {
           "arrowhead": 0,
           "arrowwidth": 1
          },
          "autotypenumbers": "strict",
          "coloraxis": {
           "colorbar": {
            "outlinewidth": 1,
            "tickcolor": "rgb(36,36,36)",
            "ticks": "outside"
           }
          },
          "colorscale": {
           "diverging": [
            [
             0,
             "rgb(103,0,31)"
            ],
            [
             0.1,
             "rgb(178,24,43)"
            ],
            [
             0.2,
             "rgb(214,96,77)"
            ],
            [
             0.3,
             "rgb(244,165,130)"
            ],
            [
             0.4,
             "rgb(253,219,199)"
            ],
            [
             0.5,
             "rgb(247,247,247)"
            ],
            [
             0.6,
             "rgb(209,229,240)"
            ],
            [
             0.7,
             "rgb(146,197,222)"
            ],
            [
             0.8,
             "rgb(67,147,195)"
            ],
            [
             0.9,
             "rgb(33,102,172)"
            ],
            [
             1,
             "rgb(5,48,97)"
            ]
           ],
           "sequential": [
            [
             0,
             "#440154"
            ],
            [
             0.1111111111111111,
             "#482878"
            ],
            [
             0.2222222222222222,
             "#3e4989"
            ],
            [
             0.3333333333333333,
             "#31688e"
            ],
            [
             0.4444444444444444,
             "#26828e"
            ],
            [
             0.5555555555555556,
             "#1f9e89"
            ],
            [
             0.6666666666666666,
             "#35b779"
            ],
            [
             0.7777777777777778,
             "#6ece58"
            ],
            [
             0.8888888888888888,
             "#b5de2b"
            ],
            [
             1,
             "#fde725"
            ]
           ],
           "sequentialminus": [
            [
             0,
             "#440154"
            ],
            [
             0.1111111111111111,
             "#482878"
            ],
            [
             0.2222222222222222,
             "#3e4989"
            ],
            [
             0.3333333333333333,
             "#31688e"
            ],
            [
             0.4444444444444444,
             "#26828e"
            ],
            [
             0.5555555555555556,
             "#1f9e89"
            ],
            [
             0.6666666666666666,
             "#35b779"
            ],
            [
             0.7777777777777778,
             "#6ece58"
            ],
            [
             0.8888888888888888,
             "#b5de2b"
            ],
            [
             1,
             "#fde725"
            ]
           ]
          },
          "colorway": [
           "#1F77B4",
           "#FF7F0E",
           "#2CA02C",
           "#D62728",
           "#9467BD",
           "#8C564B",
           "#E377C2",
           "#7F7F7F",
           "#BCBD22",
           "#17BECF"
          ],
          "font": {
           "color": "rgb(36,36,36)"
          },
          "geo": {
           "bgcolor": "white",
           "lakecolor": "white",
           "landcolor": "white",
           "showlakes": true,
           "showland": true,
           "subunitcolor": "white"
          },
          "hoverlabel": {
           "align": "left"
          },
          "hovermode": "closest",
          "mapbox": {
           "style": "light"
          },
          "paper_bgcolor": "white",
          "plot_bgcolor": "white",
          "polar": {
           "angularaxis": {
            "gridcolor": "rgb(232,232,232)",
            "linecolor": "rgb(36,36,36)",
            "showgrid": false,
            "showline": true,
            "ticks": "outside"
           },
           "bgcolor": "white",
           "radialaxis": {
            "gridcolor": "rgb(232,232,232)",
            "linecolor": "rgb(36,36,36)",
            "showgrid": false,
            "showline": true,
            "ticks": "outside"
           }
          },
          "scene": {
           "xaxis": {
            "backgroundcolor": "white",
            "gridcolor": "rgb(232,232,232)",
            "gridwidth": 2,
            "linecolor": "rgb(36,36,36)",
            "showbackground": true,
            "showgrid": false,
            "showline": true,
            "ticks": "outside",
            "zeroline": false,
            "zerolinecolor": "rgb(36,36,36)"
           },
           "yaxis": {
            "backgroundcolor": "white",
            "gridcolor": "rgb(232,232,232)",
            "gridwidth": 2,
            "linecolor": "rgb(36,36,36)",
            "showbackground": true,
            "showgrid": false,
            "showline": true,
            "ticks": "outside",
            "zeroline": false,
            "zerolinecolor": "rgb(36,36,36)"
           },
           "zaxis": {
            "backgroundcolor": "white",
            "gridcolor": "rgb(232,232,232)",
            "gridwidth": 2,
            "linecolor": "rgb(36,36,36)",
            "showbackground": true,
            "showgrid": false,
            "showline": true,
            "ticks": "outside",
            "zeroline": false,
            "zerolinecolor": "rgb(36,36,36)"
           }
          },
          "shapedefaults": {
           "fillcolor": "black",
           "line": {
            "width": 0
           },
           "opacity": 0.3
          },
          "ternary": {
           "aaxis": {
            "gridcolor": "rgb(232,232,232)",
            "linecolor": "rgb(36,36,36)",
            "showgrid": false,
            "showline": true,
            "ticks": "outside"
           },
           "baxis": {
            "gridcolor": "rgb(232,232,232)",
            "linecolor": "rgb(36,36,36)",
            "showgrid": false,
            "showline": true,
            "ticks": "outside"
           },
           "bgcolor": "white",
           "caxis": {
            "gridcolor": "rgb(232,232,232)",
            "linecolor": "rgb(36,36,36)",
            "showgrid": false,
            "showline": true,
            "ticks": "outside"
           }
          },
          "title": {
           "x": 0.05
          },
          "xaxis": {
           "automargin": true,
           "gridcolor": "rgb(232,232,232)",
           "linecolor": "rgb(36,36,36)",
           "showgrid": false,
           "showline": true,
           "ticks": "outside",
           "title": {
            "standoff": 15
           },
           "zeroline": false,
           "zerolinecolor": "rgb(36,36,36)"
          },
          "yaxis": {
           "automargin": true,
           "gridcolor": "rgb(232,232,232)",
           "linecolor": "rgb(36,36,36)",
           "showgrid": false,
           "showline": true,
           "ticks": "outside",
           "title": {
            "standoff": 15
           },
           "zeroline": false,
           "zerolinecolor": "rgb(36,36,36)"
          }
         }
        },
        "title": {
         "text": "RAP pulses (IBM)"
        },
        "xaxis": {
         "title": {
          "text": "time [µs]"
         }
        },
        "yaxis": {
         "title": {
          "text": "amplitude [MHz]"
         }
        }
       }
      }
     },
     "metadata": {},
     "output_type": "display_data"
    },
    {
     "data": {
      "application/vnd.plotly.v1+json": {
       "config": {
        "plotlyServerURL": "https://plot.ly"
       },
       "data": [
        {
         "line": {
          "color": "red",
          "width": 3
         },
         "mode": "lines",
         "name": "tracked state 0",
         "type": "scatter",
         "x": {
          "bdata": "AAAAAAAAAAB7FK5H4XqkP3sUrkfherQ/uR6F61G4vj97FK5H4XrEP5mZmZmZmck/uR6F61G4zj/sUbgehevRP3sUrkfhetQ/CtejcD0K1z+ZmZmZmZnZPylcj8L1KNw/uR6F61G43j+kcD0K16PgP+xRuB6F6+E/MzMzMzMz4z97FK5H4XrkP8P1KFyPwuU/CtejcD0K5z9SuB6F61HoP5mZmZmZmek/4XoUrkfh6j8pXI/C9SjsP3A9CtejcO0/uR6F61G47j8AAAAAAADwP6RwPQrXo/A/SOF6FK5H8T/sUbgehevxP5DC9Shcj/I/MzMzMzMz8z/Xo3A9CtfzP3sUrkfhevQ/H4XrUbge9T/D9Shcj8L1P2ZmZmZmZvY/CtejcD0K9z+uR+F6FK73P1K4HoXrUfg/9ihcj8L1+D+ZmZmZmZn5Pz0K16NwPfo/4XoUrkfh+j+F61G4HoX7Pylcj8L1KPw/zczMzMzM/D9wPQrXo3D9PxSuR+F6FP4/uR6F61G4/j9cj8L1KFz/PwAAAAAAAABA",
          "dtype": "f8"
         },
         "y": {
          "bdata": "AAAAAACQasAAAAAAAJBqwAAAAAAAkGrAAAAAAACQasAAAAAAAJBqwAAAAAAAkGrAAAAAAACQasACAAAAAJBqwAAAAAAAkGrAAAAAAACQasACAAAAAJBqwAAAAAAAkGrAAAAAAACQasAAAAAAAJBqwAAAAAAAkGrAAAAAAACQasAAAAAAAJBqwAAAAAAAkGrAAAAAAACQasAAAAAAAJBqwAAAAAAAkGrAAAAAAACQasAAAAAAAJBqwAAAAAAAkGrAAAAAAACQasAAAAAAAJBqwP7/////b2fAAAAAAABwZ8AAAAAAAHBnwAAAAAAAcGfAAAAAAABwZ8AAAAAAAHBnwAAAAAAAcGfAAAAAAABwZ8D+/////29nwAAAAAAAcGfAAAAAAABwZ8AAAAAAAHBnwAEAAAAAcGfAAQAAAABwZ8AAAAAAAHBnwAAAAAAAcGfAAAAAAABwZ8ACAAAAAHBnwAAAAAAAcGfAAAAAAABwZ8AAAAAAAHBnwAAAAAAAcGfAAAAAAABwZ8AAAAAAAHBnwAAAAAAAcGfA",
          "dtype": "f8"
         }
        },
        {
         "line": {
          "color": "blue",
          "width": 3
         },
         "mode": "lines",
         "name": "tracked state 1",
         "type": "scatter",
         "x": {
          "bdata": "AAAAAAAAAAB7FK5H4XqkP3sUrkfherQ/uR6F61G4vj97FK5H4XrEP5mZmZmZmck/uR6F61G4zj/sUbgehevRP3sUrkfhetQ/CtejcD0K1z+ZmZmZmZnZPylcj8L1KNw/uR6F61G43j+kcD0K16PgP+xRuB6F6+E/MzMzMzMz4z97FK5H4XrkP8P1KFyPwuU/CtejcD0K5z9SuB6F61HoP5mZmZmZmek/4XoUrkfh6j8pXI/C9SjsP3A9CtejcO0/uR6F61G47j8AAAAAAADwP6RwPQrXo/A/SOF6FK5H8T/sUbgehevxP5DC9Shcj/I/MzMzMzMz8z/Xo3A9CtfzP3sUrkfhevQ/H4XrUbge9T/D9Shcj8L1P2ZmZmZmZvY/CtejcD0K9z+uR+F6FK73P1K4HoXrUfg/9ihcj8L1+D+ZmZmZmZn5Pz0K16NwPfo/4XoUrkfh+j+F61G4HoX7Pylcj8L1KPw/zczMzMzM/D9wPQrXo3D9PxSuR+F6FP4/uR6F61G4/j9cj8L1KFz/PwAAAAAAAABA",
          "dtype": "f8"
         },
         "y": {
          "bdata": "AAAAAABwZ8AAAAAAAHBnwAAAAAAAcGfAAAAAAABwZ8AAAAAAAHBnwAAAAAAAcGfAAAAAAABwZ8AAAAAAAHBnwAAAAAAAcGfAAAAAAABwZ8AAAAAAAHBnwAAAAAAAcGfAAAAAAABwZ8D9/////29nwAEAAAAAcGfAAAAAAABwZ8AAAAAAAHBnwAEAAAAAcGfAAQAAAABwZ8D+/////29nwP7/////b2fA/v////9vZ8AAAAAAAHBnwAAAAAAAcGfAAAAAAABwZ8AAAAAAAHBnwP7/////j2rA/v////+PasD+/////49qwAAAAAAAkGrAAAAAAACQasAAAAAAAJBqwP7/////j2rA/v////+PasD9/////49qwAAAAAAAkGrA/f////+PasAAAAAAAJBqwAIAAAAAkGrA/P////+PasD+/////49qwP7/////j2rA/v////+PasACAAAAAJBqwP7/////j2rA/v////+PasAAAAAAAJBqwAAAAAAAkGrAAAAAAACQasAAAAAAAJBqwAAAAAAAkGrA",
          "dtype": "f8"
         }
        },
        {
         "line": {
          "dash": "dash",
          "width": 1
         },
         "mode": "lines",
         "name": "state 2",
         "type": "scatter",
         "x": {
          "bdata": "AAAAAAAAAAB7FK5H4XqkP3sUrkfherQ/uR6F61G4vj97FK5H4XrEP5mZmZmZmck/uR6F61G4zj/sUbgehevRP3sUrkfhetQ/CtejcD0K1z+ZmZmZmZnZPylcj8L1KNw/uR6F61G43j+kcD0K16PgP+xRuB6F6+E/MzMzMzMz4z97FK5H4XrkP8P1KFyPwuU/CtejcD0K5z9SuB6F61HoP5mZmZmZmek/4XoUrkfh6j8pXI/C9SjsP3A9CtejcO0/uR6F61G47j8AAAAAAADwP6RwPQrXo/A/SOF6FK5H8T/sUbgehevxP5DC9Shcj/I/MzMzMzMz8z/Xo3A9CtfzP3sUrkfhevQ/H4XrUbge9T/D9Shcj8L1P2ZmZmZmZvY/CtejcD0K9z+uR+F6FK73P1K4HoXrUfg/9ihcj8L1+D+ZmZmZmZn5Pz0K16NwPfo/4XoUrkfh+j+F61G4HoX7Pylcj8L1KPw/zczMzMzM/D9wPQrXo3D9PxSuR+F6FP4/uR6F61G4/j9cj8L1KFz/PwAAAAAAAABA",
          "dtype": "f8"
         },
         "y": {
          "bdata": "AAAAAAAAKcABAAAAAAApwAEAAAAAACnABAAAAAAAKcABAAAAAAApwP7//////yjAAQAAAAAAKcAFAAAAAAApwAEAAAAAACnAAQAAAAAAKcABAAAAAAApwP7//////yjAAQAAAAAAKcAGAAAAAAApwPL//////yjA+v//////KMD6//////8owPj//////yjA+P//////KMD9//////8owPj//////yjA/f//////KMD9//////8owPr//////yjA+v//////KMD4//////8owPr//////yjA/f//////KMD9//////8owAIAAAAAACnAAAAAAAAAKcD6//////8owPr//////yjA/f//////KMANAAAAAAApwPr//////yjA/f//////KMD6//////8owA4AAAAAACnA/v//////KMD+//////8owAEAAAAAACnA/v//////KMAGAAAAAAApwAEAAAAAACnAAQAAAAAAKcABAAAAAAApwAQAAAAAACnABAAAAAAAKcABAAAAAAApwAAAAAAAACnA",
          "dtype": "f8"
         }
        },
        {
         "line": {
          "dash": "dash",
          "width": 1
         },
         "mode": "lines",
         "name": "state 3",
         "type": "scatter",
         "x": {
          "bdata": "AAAAAAAAAAB7FK5H4XqkP3sUrkfherQ/uR6F61G4vj97FK5H4XrEP5mZmZmZmck/uR6F61G4zj/sUbgehevRP3sUrkfhetQ/CtejcD0K1z+ZmZmZmZnZPylcj8L1KNw/uR6F61G43j+kcD0K16PgP+xRuB6F6+E/MzMzMzMz4z97FK5H4XrkP8P1KFyPwuU/CtejcD0K5z9SuB6F61HoP5mZmZmZmek/4XoUrkfh6j8pXI/C9SjsP3A9CtejcO0/uR6F61G47j8AAAAAAADwP6RwPQrXo/A/SOF6FK5H8T/sUbgehevxP5DC9Shcj/I/MzMzMzMz8z/Xo3A9CtfzP3sUrkfhevQ/H4XrUbge9T/D9Shcj8L1P2ZmZmZmZvY/CtejcD0K9z+uR+F6FK73P1K4HoXrUfg/9ihcj8L1+D+ZmZmZmZn5Pz0K16NwPfo/4XoUrkfh+j+F61G4HoX7Pylcj8L1KPw/zczMzMzM/D9wPQrXo3D9PxSuR+F6FP4/uR6F61G4/j9cj8L1KFz/PwAAAAAAAABA",
          "dtype": "f8"
         },
         "y": {
          "bdata": "AAAAAAAAKcD5//////8owAEAAAAAACnA/P//////KMD8//////8owPn//////yjA/v//////KMACAAAAAAApwPn//////yjA/P//////KMD9//////8owPz//////yjA+f//////KMD+//////8owO3//////yjA8v//////KMD1//////8owO3//////yjA8v//////KMD1//////8owPX//////yjA8v//////KMDy//////8owPL//////yjA9f//////KMD4//////8owPL//////yjA8v//////KMD1//////8owPX//////yjA+P//////KMD4//////8owPL//////yjA8v//////KMAAAAAAAAApwPL//////yjA9f//////KMD1//////8owP7//////yjA+f//////KMD8//////8owPz//////yjA+f//////KMABAAAAAAApwPn//////yjA/P//////KMD8//////8owPn//////yjAAQAAAAAAKcD5//////8owP7//////yjA",
          "dtype": "f8"
         }
        },
        {
         "line": {
          "dash": "dash",
          "width": 1
         },
         "mode": "lines",
         "name": "state 4",
         "type": "scatter",
         "x": {
          "bdata": "AAAAAAAAAAB7FK5H4XqkP3sUrkfherQ/uR6F61G4vj97FK5H4XrEP5mZmZmZmck/uR6F61G4zj/sUbgehevRP3sUrkfhetQ/CtejcD0K1z+ZmZmZmZnZPylcj8L1KNw/uR6F61G43j+kcD0K16PgP+xRuB6F6+E/MzMzMzMz4z97FK5H4XrkP8P1KFyPwuU/CtejcD0K5z9SuB6F61HoP5mZmZmZmek/4XoUrkfh6j8pXI/C9SjsP3A9CtejcO0/uR6F61G47j8AAAAAAADwP6RwPQrXo/A/SOF6FK5H8T/sUbgehevxP5DC9Shcj/I/MzMzMzMz8z/Xo3A9CtfzP3sUrkfhevQ/H4XrUbge9T/D9Shcj8L1P2ZmZmZmZvY/CtejcD0K9z+uR+F6FK73P1K4HoXrUfg/9ihcj8L1+D+ZmZmZmZn5Pz0K16NwPfo/4XoUrkfh+j+F61G4HoX7Pylcj8L1KPw/zczMzMzM/D9wPQrXo3D9PxSuR+F6FP4/uR6F61G4/j9cj8L1KFz/PwAAAAAAAABA",
          "dtype": "f8"
         },
         "y": {
          "bdata": "AAAAAAAAKUD9//////8oQAEAAAAAAClA/f//////KEAAAAAAAAApQP3//////yhA/v//////KEACAAAAAAApQPz//////yhA/P//////KED6//////8oQPz//////yhA/f//////KED5//////8oQPr//////yhA/v//////KEAAAAAAAAApQPr//////yhA+v//////KED+//////8oQP3//////yhA/P//////KED9//////8oQP3//////yhA/f//////KEAAAAAAAAApQPz//////yhA/P//////KED6//////8oQPz//////yhA/v//////KEAAAAAAAAApQPr//////yhA+f//////KED5//////8oQP7//////yhA+v//////KED+//////8oQPz//////yhA+f//////KED8//////8oQPz//////yhA/P//////KED+//////8oQP7//////yhA/P//////KEAAAAAAAAApQP3//////yhAAQAAAAAAKUD+//////8oQP7//////yhA",
          "dtype": "f8"
         }
        },
        {
         "line": {
          "dash": "dash",
          "width": 1
         },
         "mode": "lines",
         "name": "state 5",
         "type": "scatter",
         "x": {
          "bdata": "AAAAAAAAAAB7FK5H4XqkP3sUrkfherQ/uR6F61G4vj97FK5H4XrEP5mZmZmZmck/uR6F61G4zj/sUbgehevRP3sUrkfhetQ/CtejcD0K1z+ZmZmZmZnZPylcj8L1KNw/uR6F61G43j+kcD0K16PgP+xRuB6F6+E/MzMzMzMz4z97FK5H4XrkP8P1KFyPwuU/CtejcD0K5z9SuB6F61HoP5mZmZmZmek/4XoUrkfh6j8pXI/C9SjsP3A9CtejcO0/uR6F61G47j8AAAAAAADwP6RwPQrXo/A/SOF6FK5H8T/sUbgehevxP5DC9Shcj/I/MzMzMzMz8z/Xo3A9CtfzP3sUrkfhevQ/H4XrUbge9T/D9Shcj8L1P2ZmZmZmZvY/CtejcD0K9z+uR+F6FK73P1K4HoXrUfg/9ihcj8L1+D+ZmZmZmZn5Pz0K16NwPfo/4XoUrkfh+j+F61G4HoX7Pylcj8L1KPw/zczMzMzM/D9wPQrXo3D9PxSuR+F6FP4/uR6F61G4/j9cj8L1KFz/PwAAAAAAAABA",
          "dtype": "f8"
         },
         "y": {
          "bdata": "AAAAAAAAKUAAAAAAAAApQAUAAAAAAClAAAAAAAAAKUABAAAAAAApQAAAAAAAAClAAAAAAAAAKUAIAAAAAAApQAAAAAAAAClAAQAAAAAAKUD+//////8oQAAAAAAAAClAAQAAAAAAKUASAAAAAAApQAEAAAAAAClAAAAAAAAAKUAAAAAAAAApQAEAAAAAAClAAQAAAAAAKUAEAAAAAAApQAIAAAAAAClABQAAAAAAKUABAAAAAAApQAQAAAAAAClABAAAAAAAKUAAAAAAAAApQAQAAAAAAClAAgAAAAAAKUABAAAAAAApQAUAAAAAAClABQAAAAAAKUACAAAAAAApQAEAAAAAAClAAgAAAAAAKUAGAAAAAAApQAAAAAAAAClAAQAAAAAAKUAAAAAAAAApQP3//////yhAAAAAAAAAKUAAAAAAAAApQAEAAAAAAClAAAAAAAAAKUAGAAAAAAApQAAAAAAAAClAAAAAAAAAKUABAAAAAAApQAAAAAAAAClABQAAAAAAKUABAAAAAAApQAAAAAAAAClA",
          "dtype": "f8"
         }
        },
        {
         "line": {
          "dash": "dash",
          "width": 1
         },
         "mode": "lines",
         "name": "state 6",
         "type": "scatter",
         "x": {
          "bdata": "AAAAAAAAAAB7FK5H4XqkP3sUrkfherQ/uR6F61G4vj97FK5H4XrEP5mZmZmZmck/uR6F61G4zj/sUbgehevRP3sUrkfhetQ/CtejcD0K1z+ZmZmZmZnZPylcj8L1KNw/uR6F61G43j+kcD0K16PgP+xRuB6F6+E/MzMzMzMz4z97FK5H4XrkP8P1KFyPwuU/CtejcD0K5z9SuB6F61HoP5mZmZmZmek/4XoUrkfh6j8pXI/C9SjsP3A9CtejcO0/uR6F61G47j8AAAAAAADwP6RwPQrXo/A/SOF6FK5H8T/sUbgehevxP5DC9Shcj/I/MzMzMzMz8z/Xo3A9CtfzP3sUrkfhevQ/H4XrUbge9T/D9Shcj8L1P2ZmZmZmZvY/CtejcD0K9z+uR+F6FK73P1K4HoXrUfg/9ihcj8L1+D+ZmZmZmZn5Pz0K16NwPfo/4XoUrkfh+j+F61G4HoX7Pylcj8L1KPw/zczMzMzM/D9wPQrXo3D9PxSuR+F6FP4/uR6F61G4/j9cj8L1KFz/PwAAAAAAAABA",
          "dtype": "f8"
         },
         "y": {
          "bdata": "AAAAAABwZ0ABAAAAAHBnQAAAAAAAcGdAAQAAAABwZ0AAAAAAAHBnQAEAAAAAcGdAAAAAAABwZ0D+/////29nQAEAAAAAcGdAAQAAAABwZ0ABAAAAAHBnQAAAAAAAcGdAAQAAAABwZ0AAAAAAAHBnQAEAAAAAcGdAAAAAAABwZ0AAAAAAAHBnQAEAAAAAcGdAAQAAAABwZ0AAAAAAAHBnQAAAAAAAcGdAAAAAAABwZ0AAAAAAAHBnQAEAAAAAcGdAAQAAAABwZ0AAAAAAAHBnQAAAAAAAcGdAAAAAAABwZ0AAAAAAAHBnQAEAAAAAcGdAAQAAAABwZ0AAAAAAAHBnQAAAAAAAcGdAAAAAAABwZ0D+/////29nQAAAAAAAcGdAAQAAAABwZ0AAAAAAAHBnQAAAAAAAcGdAAAAAAABwZ0AAAAAAAHBnQAAAAAAAcGdAAAAAAABwZ0AAAAAAAHBnQAAAAAAAcGdAAAAAAABwZ0AAAAAAAHBnQAAAAAAAcGdAAAAAAABwZ0AAAAAAAHBnQAAAAAAAcGdA",
          "dtype": "f8"
         }
        },
        {
         "line": {
          "dash": "dash",
          "width": 1
         },
         "mode": "lines",
         "name": "state 7",
         "type": "scatter",
         "x": {
          "bdata": "AAAAAAAAAAB7FK5H4XqkP3sUrkfherQ/uR6F61G4vj97FK5H4XrEP5mZmZmZmck/uR6F61G4zj/sUbgehevRP3sUrkfhetQ/CtejcD0K1z+ZmZmZmZnZPylcj8L1KNw/uR6F61G43j+kcD0K16PgP+xRuB6F6+E/MzMzMzMz4z97FK5H4XrkP8P1KFyPwuU/CtejcD0K5z9SuB6F61HoP5mZmZmZmek/4XoUrkfh6j8pXI/C9SjsP3A9CtejcO0/uR6F61G47j8AAAAAAADwP6RwPQrXo/A/SOF6FK5H8T/sUbgehevxP5DC9Shcj/I/MzMzMzMz8z/Xo3A9CtfzP3sUrkfhevQ/H4XrUbge9T/D9Shcj8L1P2ZmZmZmZvY/CtejcD0K9z+uR+F6FK73P1K4HoXrUfg/9ihcj8L1+D+ZmZmZmZn5Pz0K16NwPfo/4XoUrkfh+j+F61G4HoX7Pylcj8L1KPw/zczMzMzM/D9wPQrXo3D9PxSuR+F6FP4/uR6F61G4/j9cj8L1KFz/PwAAAAAAAABA",
          "dtype": "f8"
         },
         "y": {
          "bdata": "AAAAAACQakAAAAAAAJBqQAAAAAAAkGpAAAAAAACQakAAAAAAAJBqQAAAAAAAkGpAAAAAAACQakAAAAAAAJBqQAAAAAAAkGpAAAAAAACQakAAAAAAAJBqQAAAAAAAkGpAAAAAAACQakD6/////49qQAAAAAAAkGpAAAAAAACQakAAAAAAAJBqQAAAAAAAkGpAAAAAAACQakAAAAAAAJBqQAAAAAAAkGpAAAAAAACQakAAAAAAAJBqQAEAAAAAkGpAAQAAAACQakAAAAAAAJBqQAAAAAAAkGpA/v////+PakD+/////49qQAEAAAAAkGpAAQAAAACQakAAAAAAAJBqQP7/////j2pA/v////+PakABAAAAAJBqQAAAAAAAkGpA/v////+PakAAAAAAAJBqQP3/////j2pA/v////+PakAAAAAAAJBqQAAAAAAAkGpAAAAAAACQakABAAAAAJBqQAAAAAAAkGpAAAAAAACQakAAAAAAAJBqQAAAAAAAkGpAAAAAAACQakAAAAAAAJBqQAAAAAAAkGpA",
          "dtype": "f8"
         }
        }
       ],
       "layout": {
        "legend": {
         "title": {
          "text": ""
         }
        },
        "template": {
         "data": {
          "bar": [
           {
            "error_x": {
             "color": "rgb(36,36,36)"
            },
            "error_y": {
             "color": "rgb(36,36,36)"
            },
            "marker": {
             "line": {
              "color": "white",
              "width": 0.5
             },
             "pattern": {
              "fillmode": "overlay",
              "size": 10,
              "solidity": 0.2
             }
            },
            "type": "bar"
           }
          ],
          "barpolar": [
           {
            "marker": {
             "line": {
              "color": "white",
              "width": 0.5
             },
             "pattern": {
              "fillmode": "overlay",
              "size": 10,
              "solidity": 0.2
             }
            },
            "type": "barpolar"
           }
          ],
          "carpet": [
           {
            "aaxis": {
             "endlinecolor": "rgb(36,36,36)",
             "gridcolor": "white",
             "linecolor": "white",
             "minorgridcolor": "white",
             "startlinecolor": "rgb(36,36,36)"
            },
            "baxis": {
             "endlinecolor": "rgb(36,36,36)",
             "gridcolor": "white",
             "linecolor": "white",
             "minorgridcolor": "white",
             "startlinecolor": "rgb(36,36,36)"
            },
            "type": "carpet"
           }
          ],
          "choropleth": [
           {
            "colorbar": {
             "outlinewidth": 1,
             "tickcolor": "rgb(36,36,36)",
             "ticks": "outside"
            },
            "type": "choropleth"
           }
          ],
          "contour": [
           {
            "colorbar": {
             "outlinewidth": 1,
             "tickcolor": "rgb(36,36,36)",
             "ticks": "outside"
            },
            "colorscale": [
             [
              0,
              "#440154"
             ],
             [
              0.1111111111111111,
              "#482878"
             ],
             [
              0.2222222222222222,
              "#3e4989"
             ],
             [
              0.3333333333333333,
              "#31688e"
             ],
             [
              0.4444444444444444,
              "#26828e"
             ],
             [
              0.5555555555555556,
              "#1f9e89"
             ],
             [
              0.6666666666666666,
              "#35b779"
             ],
             [
              0.7777777777777778,
              "#6ece58"
             ],
             [
              0.8888888888888888,
              "#b5de2b"
             ],
             [
              1,
              "#fde725"
             ]
            ],
            "type": "contour"
           }
          ],
          "contourcarpet": [
           {
            "colorbar": {
             "outlinewidth": 1,
             "tickcolor": "rgb(36,36,36)",
             "ticks": "outside"
            },
            "type": "contourcarpet"
           }
          ],
          "heatmap": [
           {
            "colorbar": {
             "outlinewidth": 1,
             "tickcolor": "rgb(36,36,36)",
             "ticks": "outside"
            },
            "colorscale": [
             [
              0,
              "#440154"
             ],
             [
              0.1111111111111111,
              "#482878"
             ],
             [
              0.2222222222222222,
              "#3e4989"
             ],
             [
              0.3333333333333333,
              "#31688e"
             ],
             [
              0.4444444444444444,
              "#26828e"
             ],
             [
              0.5555555555555556,
              "#1f9e89"
             ],
             [
              0.6666666666666666,
              "#35b779"
             ],
             [
              0.7777777777777778,
              "#6ece58"
             ],
             [
              0.8888888888888888,
              "#b5de2b"
             ],
             [
              1,
              "#fde725"
             ]
            ],
            "type": "heatmap"
           }
          ],
          "histogram": [
           {
            "marker": {
             "line": {
              "color": "white",
              "width": 0.6
             }
            },
            "type": "histogram"
           }
          ],
          "histogram2d": [
           {
            "colorbar": {
             "outlinewidth": 1,
             "tickcolor": "rgb(36,36,36)",
             "ticks": "outside"
            },
            "colorscale": [
             [
              0,
              "#440154"
             ],
             [
              0.1111111111111111,
              "#482878"
             ],
             [
              0.2222222222222222,
              "#3e4989"
             ],
             [
              0.3333333333333333,
              "#31688e"
             ],
             [
              0.4444444444444444,
              "#26828e"
             ],
             [
              0.5555555555555556,
              "#1f9e89"
             ],
             [
              0.6666666666666666,
              "#35b779"
             ],
             [
              0.7777777777777778,
              "#6ece58"
             ],
             [
              0.8888888888888888,
              "#b5de2b"
             ],
             [
              1,
              "#fde725"
             ]
            ],
            "type": "histogram2d"
           }
          ],
          "histogram2dcontour": [
           {
            "colorbar": {
             "outlinewidth": 1,
             "tickcolor": "rgb(36,36,36)",
             "ticks": "outside"
            },
            "colorscale": [
             [
              0,
              "#440154"
             ],
             [
              0.1111111111111111,
              "#482878"
             ],
             [
              0.2222222222222222,
              "#3e4989"
             ],
             [
              0.3333333333333333,
              "#31688e"
             ],
             [
              0.4444444444444444,
              "#26828e"
             ],
             [
              0.5555555555555556,
              "#1f9e89"
             ],
             [
              0.6666666666666666,
              "#35b779"
             ],
             [
              0.7777777777777778,
              "#6ece58"
             ],
             [
              0.8888888888888888,
              "#b5de2b"
             ],
             [
              1,
              "#fde725"
             ]
            ],
            "type": "histogram2dcontour"
           }
          ],
          "mesh3d": [
           {
            "colorbar": {
             "outlinewidth": 1,
             "tickcolor": "rgb(36,36,36)",
             "ticks": "outside"
            },
            "type": "mesh3d"
           }
          ],
          "parcoords": [
           {
            "line": {
             "colorbar": {
              "outlinewidth": 1,
              "tickcolor": "rgb(36,36,36)",
              "ticks": "outside"
             }
            },
            "type": "parcoords"
           }
          ],
          "pie": [
           {
            "automargin": true,
            "type": "pie"
           }
          ],
          "scatter": [
           {
            "fillpattern": {
             "fillmode": "overlay",
             "size": 10,
             "solidity": 0.2
            },
            "type": "scatter"
           }
          ],
          "scatter3d": [
           {
            "line": {
             "colorbar": {
              "outlinewidth": 1,
              "tickcolor": "rgb(36,36,36)",
              "ticks": "outside"
             }
            },
            "marker": {
             "colorbar": {
              "outlinewidth": 1,
              "tickcolor": "rgb(36,36,36)",
              "ticks": "outside"
             }
            },
            "type": "scatter3d"
           }
          ],
          "scattercarpet": [
           {
            "marker": {
             "colorbar": {
              "outlinewidth": 1,
              "tickcolor": "rgb(36,36,36)",
              "ticks": "outside"
             }
            },
            "type": "scattercarpet"
           }
          ],
          "scattergeo": [
           {
            "marker": {
             "colorbar": {
              "outlinewidth": 1,
              "tickcolor": "rgb(36,36,36)",
              "ticks": "outside"
             }
            },
            "type": "scattergeo"
           }
          ],
          "scattergl": [
           {
            "marker": {
             "colorbar": {
              "outlinewidth": 1,
              "tickcolor": "rgb(36,36,36)",
              "ticks": "outside"
             }
            },
            "type": "scattergl"
           }
          ],
          "scattermap": [
           {
            "marker": {
             "colorbar": {
              "outlinewidth": 1,
              "tickcolor": "rgb(36,36,36)",
              "ticks": "outside"
             }
            },
            "type": "scattermap"
           }
          ],
          "scattermapbox": [
           {
            "marker": {
             "colorbar": {
              "outlinewidth": 1,
              "tickcolor": "rgb(36,36,36)",
              "ticks": "outside"
             }
            },
            "type": "scattermapbox"
           }
          ],
          "scatterpolar": [
           {
            "marker": {
             "colorbar": {
              "outlinewidth": 1,
              "tickcolor": "rgb(36,36,36)",
              "ticks": "outside"
             }
            },
            "type": "scatterpolar"
           }
          ],
          "scatterpolargl": [
           {
            "marker": {
             "colorbar": {
              "outlinewidth": 1,
              "tickcolor": "rgb(36,36,36)",
              "ticks": "outside"
             }
            },
            "type": "scatterpolargl"
           }
          ],
          "scatterternary": [
           {
            "marker": {
             "colorbar": {
              "outlinewidth": 1,
              "tickcolor": "rgb(36,36,36)",
              "ticks": "outside"
             }
            },
            "type": "scatterternary"
           }
          ],
          "surface": [
           {
            "colorbar": {
             "outlinewidth": 1,
             "tickcolor": "rgb(36,36,36)",
             "ticks": "outside"
            },
            "colorscale": [
             [
              0,
              "#440154"
             ],
             [
              0.1111111111111111,
              "#482878"
             ],
             [
              0.2222222222222222,
              "#3e4989"
             ],
             [
              0.3333333333333333,
              "#31688e"
             ],
             [
              0.4444444444444444,
              "#26828e"
             ],
             [
              0.5555555555555556,
              "#1f9e89"
             ],
             [
              0.6666666666666666,
              "#35b779"
             ],
             [
              0.7777777777777778,
              "#6ece58"
             ],
             [
              0.8888888888888888,
              "#b5de2b"
             ],
             [
              1,
              "#fde725"
             ]
            ],
            "type": "surface"
           }
          ],
          "table": [
           {
            "cells": {
             "fill": {
              "color": "rgb(237,237,237)"
             },
             "line": {
              "color": "white"
             }
            },
            "header": {
             "fill": {
              "color": "rgb(217,217,217)"
             },
             "line": {
              "color": "white"
             }
            },
            "type": "table"
           }
          ]
         },
         "layout": {
          "annotationdefaults": {
           "arrowhead": 0,
           "arrowwidth": 1
          },
          "autotypenumbers": "strict",
          "coloraxis": {
           "colorbar": {
            "outlinewidth": 1,
            "tickcolor": "rgb(36,36,36)",
            "ticks": "outside"
           }
          },
          "colorscale": {
           "diverging": [
            [
             0,
             "rgb(103,0,31)"
            ],
            [
             0.1,
             "rgb(178,24,43)"
            ],
            [
             0.2,
             "rgb(214,96,77)"
            ],
            [
             0.3,
             "rgb(244,165,130)"
            ],
            [
             0.4,
             "rgb(253,219,199)"
            ],
            [
             0.5,
             "rgb(247,247,247)"
            ],
            [
             0.6,
             "rgb(209,229,240)"
            ],
            [
             0.7,
             "rgb(146,197,222)"
            ],
            [
             0.8,
             "rgb(67,147,195)"
            ],
            [
             0.9,
             "rgb(33,102,172)"
            ],
            [
             1,
             "rgb(5,48,97)"
            ]
           ],
           "sequential": [
            [
             0,
             "#440154"
            ],
            [
             0.1111111111111111,
             "#482878"
            ],
            [
             0.2222222222222222,
             "#3e4989"
            ],
            [
             0.3333333333333333,
             "#31688e"
            ],
            [
             0.4444444444444444,
             "#26828e"
            ],
            [
             0.5555555555555556,
             "#1f9e89"
            ],
            [
             0.6666666666666666,
             "#35b779"
            ],
            [
             0.7777777777777778,
             "#6ece58"
            ],
            [
             0.8888888888888888,
             "#b5de2b"
            ],
            [
             1,
             "#fde725"
            ]
           ],
           "sequentialminus": [
            [
             0,
             "#440154"
            ],
            [
             0.1111111111111111,
             "#482878"
            ],
            [
             0.2222222222222222,
             "#3e4989"
            ],
            [
             0.3333333333333333,
             "#31688e"
            ],
            [
             0.4444444444444444,
             "#26828e"
            ],
            [
             0.5555555555555556,
             "#1f9e89"
            ],
            [
             0.6666666666666666,
             "#35b779"
            ],
            [
             0.7777777777777778,
             "#6ece58"
            ],
            [
             0.8888888888888888,
             "#b5de2b"
            ],
            [
             1,
             "#fde725"
            ]
           ]
          },
          "colorway": [
           "#1F77B4",
           "#FF7F0E",
           "#2CA02C",
           "#D62728",
           "#9467BD",
           "#8C564B",
           "#E377C2",
           "#7F7F7F",
           "#BCBD22",
           "#17BECF"
          ],
          "font": {
           "color": "rgb(36,36,36)"
          },
          "geo": {
           "bgcolor": "white",
           "lakecolor": "white",
           "landcolor": "white",
           "showlakes": true,
           "showland": true,
           "subunitcolor": "white"
          },
          "hoverlabel": {
           "align": "left"
          },
          "hovermode": "closest",
          "mapbox": {
           "style": "light"
          },
          "paper_bgcolor": "white",
          "plot_bgcolor": "white",
          "polar": {
           "angularaxis": {
            "gridcolor": "rgb(232,232,232)",
            "linecolor": "rgb(36,36,36)",
            "showgrid": false,
            "showline": true,
            "ticks": "outside"
           },
           "bgcolor": "white",
           "radialaxis": {
            "gridcolor": "rgb(232,232,232)",
            "linecolor": "rgb(36,36,36)",
            "showgrid": false,
            "showline": true,
            "ticks": "outside"
           }
          },
          "scene": {
           "xaxis": {
            "backgroundcolor": "white",
            "gridcolor": "rgb(232,232,232)",
            "gridwidth": 2,
            "linecolor": "rgb(36,36,36)",
            "showbackground": true,
            "showgrid": false,
            "showline": true,
            "ticks": "outside",
            "zeroline": false,
            "zerolinecolor": "rgb(36,36,36)"
           },
           "yaxis": {
            "backgroundcolor": "white",
            "gridcolor": "rgb(232,232,232)",
            "gridwidth": 2,
            "linecolor": "rgb(36,36,36)",
            "showbackground": true,
            "showgrid": false,
            "showline": true,
            "ticks": "outside",
            "zeroline": false,
            "zerolinecolor": "rgb(36,36,36)"
           },
           "zaxis": {
            "backgroundcolor": "white",
            "gridcolor": "rgb(232,232,232)",
            "gridwidth": 2,
            "linecolor": "rgb(36,36,36)",
            "showbackground": true,
            "showgrid": false,
            "showline": true,
            "ticks": "outside",
            "zeroline": false,
            "zerolinecolor": "rgb(36,36,36)"
           }
          },
          "shapedefaults": {
           "fillcolor": "black",
           "line": {
            "width": 0
           },
           "opacity": 0.3
          },
          "ternary": {
           "aaxis": {
            "gridcolor": "rgb(232,232,232)",
            "linecolor": "rgb(36,36,36)",
            "showgrid": false,
            "showline": true,
            "ticks": "outside"
           },
           "baxis": {
            "gridcolor": "rgb(232,232,232)",
            "linecolor": "rgb(36,36,36)",
            "showgrid": false,
            "showline": true,
            "ticks": "outside"
           },
           "bgcolor": "white",
           "caxis": {
            "gridcolor": "rgb(232,232,232)",
            "linecolor": "rgb(36,36,36)",
            "showgrid": false,
            "showline": true,
            "ticks": "outside"
           }
          },
          "title": {
           "x": 0.05
          },
          "xaxis": {
           "automargin": true,
           "gridcolor": "rgb(232,232,232)",
           "linecolor": "rgb(36,36,36)",
           "showgrid": false,
           "showline": true,
           "ticks": "outside",
           "title": {
            "standoff": 15
           },
           "zeroline": false,
           "zerolinecolor": "rgb(36,36,36)"
          },
          "yaxis": {
           "automargin": true,
           "gridcolor": "rgb(232,232,232)",
           "linecolor": "rgb(36,36,36)",
           "showgrid": false,
           "showline": true,
           "ticks": "outside",
           "title": {
            "standoff": 15
           },
           "zeroline": false,
           "zerolinecolor": "rgb(36,36,36)"
          }
         }
        },
        "title": {
         "text": "Instantaneous spectrum vs time (IBM)"
        },
        "xaxis": {
         "title": {
          "text": "time [µs]"
         }
        },
        "yaxis": {
         "title": {
          "text": "energy [MHz]"
         }
        }
       }
      }
     },
     "metadata": {},
     "output_type": "display_data"
    }
   ],
   "source": [
    "energies, p = spectrum_track(t_list, n_track=2)\n",
    "\n",
    "# --------------------------\n",
    "# Plot with Plotly (kept your style; kaleido optional)\n",
    "# --------------------------\n",
    "\n",
    "# Pulses\n",
    "omega_vals = [omega_t(t) for t in t_list]\n",
    "delta_vals = [delta_t(t) for t in t_list]\n",
    "\n",
    "# Convert to nice plot units\n",
    "t_plot   = t_list * p[\"to_time_units\"]\n",
    "w_plot   = np.array(omega_vals) * p[\"to_freq_units\"]\n",
    "d_plot   = np.array(delta_vals) * p[\"to_freq_units\"]\n",
    "\n",
    "os.makedirs('pngs', exist_ok=True)\n",
    "\n",
    "fig = go.Figure()\n",
    "fig.add_trace(go.Scatter(x=t_plot, y=w_plot, mode='lines', name='Ω(t)'))\n",
    "fig.add_trace(go.Scatter(x=t_plot, y=d_plot, mode='lines', name='Δ(t)', line=dict(dash='dash')))\n",
    "fig.update_layout(\n",
    "    title=f\"RAP pulses ({PLATFORM.upper()})\",\n",
    "    xaxis_title=p[\"time_unit_label\"],\n",
    "    yaxis_title=\"amplitude [MHz]\",\n",
    "    template=\"simple_white\"\n",
    ")\n",
    "try:\n",
    "    fig.write_image('pngs/omega_delta.png', scale=2, width=800, height=500)\n",
    "except Exception as e:\n",
    "    pass\n",
    "fig.show()\n",
    "\n",
    "# Spectrum figure\n",
    "fig2 = go.Figure()\n",
    "colors_main = ['red', 'blue']\n",
    "for i, e_list in energies.items():\n",
    "    e_plot = np.array(e_list) * p[\"to_freq_units\"]\n",
    "    if i < 2:\n",
    "        fig2.add_trace(go.Scatter(x=t_plot, y=e_plot, mode='lines',\n",
    "                                  line=dict(width=3, color=colors_main[i%2]),\n",
    "                                  name=f\"tracked state {i}\"))\n",
    "    else:\n",
    "        fig2.add_trace(go.Scatter(x=t_plot, y=e_plot, mode='lines',\n",
    "                                  line=dict(width=1, dash='dash'),\n",
    "                                  name=f\"state {i}\"))\n",
    "fig2.update_layout(\n",
    "    title=f\"Instantaneous spectrum vs time ({PLATFORM.upper()})\",\n",
    "    xaxis_title=p[\"time_unit_label\"],\n",
    "    yaxis_title=p[\"energy_unit_label\"],\n",
    "    template=\"simple_white\",\n",
    "    legend_title=\"\"\n",
    ")\n",
    "# try:\n",
    "#     fig2.write_image('pngs/spectrum.png', scale=2, width=900, height=600)\n",
    "# except Exception as e:\n",
    "#     pass\n",
    "fig2.show()\n"
   ]
  },
  {
   "cell_type": "code",
   "execution_count": 154,
   "id": "e91c70aa",
   "metadata": {},
   "outputs": [],
   "source": [
    "# ---------- Hamiltonians ----------\n",
    "def H0(t):\n",
    "    \"\"\"Bare RAP logical Hamiltonian (no penalty).\"\"\"\n",
    "    Ht = X_L * omega_t(t) + Z_L * delta_t(t)\n",
    "    return Ht.to('csr')\n",
    "\n",
    "def make_H_func(Ep_val):\n",
    "    \"\"\"Return H(t, args) including the chosen penalty.\"\"\"\n",
    "    S_sum = S1 + S2\n",
    "    def _H(t, args=None):\n",
    "        Ht = H0(t) - Ep_val * S_sum\n",
    "        return Ht.to('csr')\n",
    "    return _H\n",
    "\n",
    "# ---------- Thermal factor (unit-consistent) ----------\n",
    "# def bose_einstein_N(omega_pos, T_K, platform=PLATFORM):\n",
    "#     if T_K <= 0 or omega_pos <= 0:\n",
    "#         return 0.0\n",
    "#     kBT_over_hbar_rad_per_s = (kB * T_K) / hbar      # [rad/s]\n",
    "#     kBT_over_hbar = kBT_over_hbar_rad_per_s * (1e-6 if platform.lower() == \"quera\" else 1.0)\n",
    "#     x = omega_pos / kBT_over_hbar\n",
    "#     x = np.clip(x, 1e-12, 700.0)\n",
    "#     return 1.0 / (np.exp(x) - 1.0)\n",
    "\n",
    "def bose_einstein_N(energy_diff, temperature):\n",
    "    if temperature == 0:\n",
    "        return 0\n",
    "    return 1.0 / (np.exp(energy_diff*hbar / (kB * temperature)) - 1)\n",
    "\n",
    "\n",
    "def spectral_amp(omega_pos, lambda_2):\n",
    "    return 0.0 if omega_pos <= 0 else np.sqrt(lambda_2)\n",
    "\n",
    "\n",
    "def spectral_amp(omega_pos, lambda_2, platform=PLATFORM, model='ibm',\n",
    "                 omega_c=None, omega_ref=None, s=1.0):\n",
    "    \"\"\"\n",
    "    Returns sqrt( |g_ba|^2 ) = sqrt( lambda_2 * f(omega_pos) ).\n",
    "    - If model='flat' : f(ω)=1 (your current assumption).\n",
    "    - If model='ohmic': f(ω)=(ω/ω_ref)^s * exp(-ω/ω_c)  [default s=1].\n",
    "    Units:\n",
    "      - ibm: ω in rad/s, omega_c in rad/s\n",
    "      - quera: ω in rad/µs, omega_c in rad/µs\n",
    "    \"\"\"\n",
    "    if omega_pos <= 0:\n",
    "        return 0.0\n",
    "    p = platform.lower().strip()\n",
    "    if model is None:\n",
    "        # neutral atoms: flat is a reasonable effective model; transmons: ohmic is common\n",
    "        model = 'flat' if p == 'quera' else 'ohmic'\n",
    "\n",
    "    # sensible references if user doesn't pass them\n",
    "    if omega_ref is None:\n",
    "        omega_ref = max(1e-12, float(params.get('omega_max', omega_pos)))\n",
    "    if omega_c is None:\n",
    "        omega_c = (2*np.pi*2e8) if p == 'ibm' else 50.0   # ~200 MHz cutoff (IBM) or ~50 rad/µs (QuEra)\n",
    "\n",
    "    if model == 'flat':\n",
    "        f = 1.0\n",
    "    elif model == 'ohmic':\n",
    "        f = (omega_pos/omega_ref)**float(s) * np.exp(-omega_pos/omega_c)\n",
    "    else:\n",
    "        f = 1.0  # fallback to flat\n",
    "\n",
    "    return np.sqrt(lambda_2 * f)\n",
    "\n",
    "# ---------- Collapse-operator generator ----------\n",
    "def c_ops_gen_thermal(t_eval, H_func, n_qubits, lambda_2, T_K):\n",
    "    Ht = H_func(t_eval, None)\n",
    "    evals, evecs = Ht.eigenstates()\n",
    "    dim = len(evals)\n",
    "\n",
    "    c_ops = []\n",
    "    for b in range(2, dim):\n",
    "        omega = float(evals[b] - evals[0])  # >0\n",
    "        if abs(omega) < 1e-8:\n",
    "            continue\n",
    "\n",
    "        rate_abs = 0.0  # 0 -> b\n",
    "        rate_em  = 0.0  # b -> 0\n",
    "        for i in range(n_qubits):\n",
    "            sigmam_i = tensor([sigmam() if j == i else I for j in range(n_qubits)])\n",
    "            # complex scalar matrix element <b|sigmam_i|0>\n",
    "            m_ba = (evecs[b].dag() * sigmam_i * evecs[0])\n",
    "            mag2 = float(np.abs(m_ba)**2)\n",
    "            if mag2 < 1e-8:\n",
    "                continue\n",
    "\n",
    "            g = spectral_amp(omega, lambda_2)\n",
    "            N = bose_einstein_N(omega, T_K)\n",
    "            rate_abs += N       * (g**2) * mag2\n",
    "            rate_em  += (N + 1) * (g**2) * mag2\n",
    "\n",
    "        if rate_abs > 1e-8:\n",
    "            Lop = (evecs[b] * evecs[0].dag()).to('csr')      # |b><0|\n",
    "            c_ops.append(np.sqrt(rate_abs) * Lop)\n",
    "        if rate_em > 1e-8:\n",
    "            Lop = (evecs[0] * evecs[b].dag()).to('csr')      # |0><b|\n",
    "            c_ops.append(np.sqrt(rate_em) * Lop)\n",
    "    return c_ops"
   ]
  },
  {
   "cell_type": "code",
   "execution_count": 155,
   "id": "3c310187",
   "metadata": {},
   "outputs": [
    {
     "name": "stdout",
     "output_type": "stream",
     "text": [
      "Ep = 62831853.071795866\n"
     ]
    },
    {
     "name": "stderr",
     "output_type": "stream",
     "text": [
      "/Users/chenscheim/miniconda3/lib/python3.12/site-packages/qutip/solver/options.py:16: FutureWarning:\n",
      "\n",
      "Dedicated options class are no longer needed, options should be passed as dict to solvers.\n",
      "\n"
     ]
    },
    {
     "name": "stdout",
     "output_type": "stream",
     "text": [
      "Ep = 125663706.14359173\n",
      "Ep = 314159265.3589793\n",
      "Ep = 314159265.3589793\n",
      "Ep = 628318530.7179586\n",
      "Ep = 628318530.7179586\n",
      "Ep = 1256637061.4359171\n",
      "Ep = 1256637061.4359171\n",
      "Ep = 3141592653.589793\n",
      "Ep = 3141592653.589793\n",
      "Ep = 6283185307.179586\n",
      "Ep = 6283185307.179586\n"
     ]
    },
    {
     "data": {
      "application/vnd.plotly.v1+json": {
       "config": {
        "plotlyServerURL": "https://plot.ly"
       },
       "data": [
        {
         "line": {
          "dash": "dash",
          "width": 3
         },
         "mode": "lines",
         "name": "Ideal (unitary)",
         "type": "scatter",
         "x": {
          "bdata": "AAAAAAAAAAB7FK5H4XqkP3sUrkfherQ/uR6F61G4vj97FK5H4XrEP5mZmZmZmck/uR6F61G4zj/sUbgehevRP3sUrkfhetQ/CtejcD0K1z+ZmZmZmZnZPylcj8L1KNw/uR6F61G43j+kcD0K16PgP+xRuB6F6+E/MzMzMzMz4z97FK5H4XrkP8P1KFyPwuU/CtejcD0K5z9SuB6F61HoP5mZmZmZmek/4XoUrkfh6j8pXI/C9SjsP3A9CtejcO0/uR6F61G47j8AAAAAAADwP6RwPQrXo/A/SOF6FK5H8T/sUbgehevxP5DC9Shcj/I/MzMzMzMz8z/Xo3A9CtfzP3sUrkfhevQ/H4XrUbge9T/D9Shcj8L1P2ZmZmZmZvY/CtejcD0K9z+uR+F6FK73P1K4HoXrUfg/9ihcj8L1+D+ZmZmZmZn5Pz0K16NwPfo/4XoUrkfh+j+F61G4HoX7Pylcj8L1KPw/zczMzMzM/D9wPQrXo3D9PxSuR+F6FP4/uR6F61G4/j9cj8L1KFz/PwAAAAAAAABA",
          "dtype": "f8"
         },
         "y": {
          "bdata": "AAAAAAAAAABXXCNK2ClQP0kWZfjAJXA/hydqqdEigj/q5k8KchWQP3a2eBR3Dpk/TcQxB7T5oT9kdrpBn1yoP1H9JyGNqa8/RckAfo3ssz/uTHXegnG4P72QYF8WX70/8hbfxiVYwT/sq+QI4y/EP/3bCtfhM8c/Hgxyixhhyj/mIPbbTrTNPxgjaPgVldA/f6ICaZdf0j9tdWcr3TfUPyIvtnsJHNY/8xwBnzMK2D99dvb+ZgDaP5ZOA2Ct/Ns/piFfg/783T+XkanEVv/fP14ke+rYAOE/ihr21wIB4j/CKnU8Jv/iPyLl10NE+uM/qyfYxFvx5D9Dq38IduPlP5iWbFecz+Y/PSNVReK05z/tWHY4X5LoP3ABoCAzZ+k/TII6Hocy6j923vCnjfPqP2kVyveDqes/fnbhobJT7D9jpWIsbfHsP1X7XYcUgu0/QmSNbRYF7j/Htx+o7nnuP5oBRhIn4O4/6OBRd1g37z+FlsXAKn/vP244fldVt+8/cK8Qg5/f7z/veUeO4PfvP5DXkvz//+8/",
          "dtype": "f8"
         }
        },
        {
         "mode": "lines",
         "name": "Ep=10.0 MHz",
         "type": "scatter",
         "x": {
          "bdata": "AAAAAAAAAAB7FK5H4XqkP3sUrkfherQ/uR6F61G4vj97FK5H4XrEP5mZmZmZmck/uR6F61G4zj/sUbgehevRP3sUrkfhetQ/CtejcD0K1z+ZmZmZmZnZPylcj8L1KNw/uR6F61G43j+kcD0K16PgP+xRuB6F6+E/MzMzMzMz4z97FK5H4XrkP8P1KFyPwuU/CtejcD0K5z9SuB6F61HoP5mZmZmZmek/4XoUrkfh6j8pXI/C9SjsP3A9CtejcO0/uR6F61G47j8AAAAAAADwP6RwPQrXo/A/SOF6FK5H8T/sUbgehevxP5DC9Shcj/I/MzMzMzMz8z/Xo3A9CtfzP3sUrkfhevQ/H4XrUbge9T/D9Shcj8L1P2ZmZmZmZvY/CtejcD0K9z+uR+F6FK73P1K4HoXrUfg/9ihcj8L1+D+ZmZmZmZn5Pz0K16NwPfo/4XoUrkfh+j+F61G4HoX7Pylcj8L1KPw/zczMzMzM/D9wPQrXo3D9PxSuR+F6FP4/uR6F61G4/j9cj8L1KFz/PwAAAAAAAABA",
          "dtype": "f8"
         },
         "y": {
          "bdata": "AAAAAAAAAABTj3BdYw1QP1ThsTB72m8/n6FT4CbEgT/Kdk/9BEyPP8q1qh/JNpg/DmMsAE9BoT+Bt4/PPTunP0K+kbMc/60/sj1gNyzBsj+C/0Vz9dy2Py3TTWk1Tbs/Io6FyAcGwD+WWnzPwYnCPzCxCTa7LsU/yDDPNtvxxz/kiDyeAdDKP9n1ZucKxs0/t7GVDWBo0D+uorxshfbRP3eH9TXli9M/ZF/u1fcm1T+SDOI5OsbWP7zooQUcaNg/rEKzyhwL2j+lruizwa3bPwWtlRt2Tt0/N2ILBejr3j8QmxniV0LgP5PkezO2C+E/IcZxtWnR4T9gSOZTwZLiP/bYoDUFT+M/jmpbm64F5D8OFr+kFLbkP70u5AmcX+U/9uxv5J8B5j/XzOf2pZvmPxtfGvQSLec/tqcxCFy15z9uiZqB+zPoP3KryKhwqOg/mh9gujgS6T+U9sxK73DpPzASELIjxOk/QJN8d2oL6j96mHojZ0bqP9mSI5jGdOo/K8MU3D+W6j+au96olKrqPzvK9o6Tseo/",
          "dtype": "f8"
         }
        },
        {
         "mode": "lines",
         "name": "Ep=20.0 MHz",
         "type": "scatter",
         "x": {
          "bdata": "AAAAAAAAAAB7FK5H4XqkP3sUrkfherQ/uR6F61G4vj97FK5H4XrEP5mZmZmZmck/uR6F61G4zj/sUbgehevRP3sUrkfhetQ/CtejcD0K1z+ZmZmZmZnZPylcj8L1KNw/uR6F61G43j+kcD0K16PgP+xRuB6F6+E/MzMzMzMz4z97FK5H4XrkP8P1KFyPwuU/CtejcD0K5z9SuB6F61HoP5mZmZmZmek/4XoUrkfh6j8pXI/C9SjsP3A9CtejcO0/uR6F61G47j8AAAAAAADwP6RwPQrXo/A/SOF6FK5H8T/sUbgehevxP5DC9Shcj/I/MzMzMzMz8z/Xo3A9CtfzP3sUrkfhevQ/H4XrUbge9T/D9Shcj8L1P2ZmZmZmZvY/CtejcD0K9z+uR+F6FK73P1K4HoXrUfg/9ihcj8L1+D+ZmZmZmZn5Pz0K16NwPfo/4XoUrkfh+j+F61G4HoX7Pylcj8L1KPw/zczMzMzM/D9wPQrXo3D9PxSuR+F6FP4/uR6F61G4/j9cj8L1KFz/PwAAAAAAAABA",
          "dtype": "f8"
         },
         "y": {
          "bdata": "AAAAAAAAAABSBhJjYRdQP+ZfQ4gFAXA/DzvX/SXlgT+eVyA6OZmPP+lRzSMagZg/my1n3IKAoT/L+Tx/5J2nP8SMbA2qj64/+bUhNg0msz+rqyE7b2S3P6VNfbCD/bs/YMpqHcl1wD9uODpEVBTDPz/gP3BP18U/SkfWnpG7yD+gyaYd4b3LP1Sni3712s4/trWr0L0H0T9pq/67DKzSPz23Qrm4WNQ/4SjyzRIM1j94RaHbecTXP3XseKc2gNk/QTq3YaE92z/6pI/vLPvcPxuyDp0lt94/fmBn9vk34D8Gsb+yAxLhPzYm+t3g6OE/+lQTI9y74j8sT2VyOYrjPwW3zXg7U+Q/3bGGRTUW5T8noGlteNLlP2JYqllbh+Y/qB2Jfzk05z/JfWysc9jnP1Ji71Jwc+g/zhDnT5sE6T+o042tZovpPw7iiWRLB+o/TxnmOsl36j/hD+qlZ9zqP6aXvD27NOs/EwRNzVWA6z/GFysR2r7rP2qCfjj17+s/p+JhlF8T7D8Z+vto3SjsP52rbb8/MOw/",
          "dtype": "f8"
         }
        },
        {
         "mode": "lines",
         "name": "Ep=50.0 MHz",
         "type": "scatter",
         "x": {
          "bdata": "AAAAAAAAAAB7FK5H4XqkP3sUrkfherQ/uR6F61G4vj97FK5H4XrEP5mZmZmZmck/uR6F61G4zj/sUbgehevRP3sUrkfhetQ/CtejcD0K1z+ZmZmZmZnZPylcj8L1KNw/uR6F61G43j+kcD0K16PgP+xRuB6F6+E/MzMzMzMz4z97FK5H4XrkP8P1KFyPwuU/CtejcD0K5z9SuB6F61HoP5mZmZmZmek/4XoUrkfh6j8pXI/C9SjsP3A9CtejcO0/uR6F61G47j8AAAAAAADwP6RwPQrXo/A/SOF6FK5H8T/sUbgehevxP5DC9Shcj/I/MzMzMzMz8z/Xo3A9CtfzP3sUrkfhevQ/H4XrUbge9T/D9Shcj8L1P2ZmZmZmZvY/CtejcD0K9z+uR+F6FK73P1K4HoXrUfg/9ihcj8L1+D+ZmZmZmZn5Pz0K16NwPfo/4XoUrkfh+j+F61G4HoX7Pylcj8L1KPw/zczMzMzM/D9wPQrXo3D9PxSuR+F6FP4/uR6F61G4/j9cj8L1KFz/PwAAAAAAAABA",
          "dtype": "f8"
         },
         "y": {
          "bdata": "AAAAAAAAAADzml2FfyFQPxdYkykkFXA/cCbSNOIGgj8xcaRwn+iPPzKehOMJzpg/RGUz62vCoT/Di6yClwWoP+SWf7LrKK8/+p3Apv2Rsz+X8+PizPa3P25RrMzuvbw/HFk71g3xwD9jwNH1267DP1gwSalwlcY//Wu+R7mhyT/vUi+eg9DMP/ZY7gtBD9A/P6vFBijE0T/mLUtQOoXTPwdUE4myUNU/4Oa1HMQk1z+5e2CJqv/YP4VZDrOC39o/loVm/HPC3D/h62P7pKbeP95PCJoqReA/XyLk3Mo14T8BBLDLPSTiPyBmaqKoD+M/dK98xCf34z+YOIsA1dnkPwsIVjzctuU/7L/ewGeN5j8jVf7Fp1znP8OL7hHTI+g/n7ZSRCfi6D9M3LOi6ZbpP+vCP9hnQeo/mK3Pwfjg6j/xnCGe/HTrPyV/sYHd/Os/ADKb2Bl47D+V2A6XJebsPwHFZ0SNRu0/ejHu6+mY7T/vjhCl4dztP0mLcRIoEu4/MT2aw3447j/aBIectU/uPyaHMkKrV+4/",
          "dtype": "f8"
         }
        },
        {
         "mode": "lines",
         "name": "Ep=100.0 MHz",
         "type": "scatter",
         "x": {
          "bdata": "AAAAAAAAAAB7FK5H4XqkP3sUrkfherQ/uR6F61G4vj97FK5H4XrEP5mZmZmZmck/uR6F61G4zj/sUbgehevRP3sUrkfhetQ/CtejcD0K1z+ZmZmZmZnZPylcj8L1KNw/uR6F61G43j+kcD0K16PgP+xRuB6F6+E/MzMzMzMz4z97FK5H4XrkP8P1KFyPwuU/CtejcD0K5z9SuB6F61HoP5mZmZmZmek/4XoUrkfh6j8pXI/C9SjsP3A9CtejcO0/uR6F61G47j8AAAAAAADwP6RwPQrXo/A/SOF6FK5H8T/sUbgehevxP5DC9Shcj/I/MzMzMzMz8z/Xo3A9CtfzP3sUrkfhevQ/H4XrUbge9T/D9Shcj8L1P2ZmZmZmZvY/CtejcD0K9z+uR+F6FK73P1K4HoXrUfg/9ihcj8L1+D+ZmZmZmZn5Pz0K16NwPfo/4XoUrkfh+j+F61G4HoX7Pylcj8L1KPw/zczMzMzM/D9wPQrXo3D9PxSuR+F6FP4/uR6F61G4/j9cj8L1KFz/PwAAAAAAAABA",
          "dtype": "f8"
         },
         "y": {
          "bdata": "AAAAAAAAAACsw1ndEyZQPwFEettDHnA/A5y6jDQWgj93qDruXAaQP/JAw+YM8Zg/KSHK+23goT9TNYu2zzSoP3gTpzqxbq8/5bHjbhvDsz+4jQZDWTm4P/esiSFUFb0/B2ZVo/cowT9FVPYF2PTDP2qOR8Fl68Y/XyfyW5IJyj/E099VKkzNP3gb1WjtV9A/av8EnZkY0j/yFfXnU+bTP5F0Mr1Kv9U/Y5WNs6Kh1z+AydpzhovZP7m8Dpv+ets/GA2GnBxu3T94SawYCWPfP6nWL/nbq+A/qM+MvRul4T8yiP6ZP5ziPwgeRl9fkOM/MQsbB4mA5D+3JWG9x2vlPx7hR3Q5UeY/qtinnvov5z+55eEiLgfoP+ADUDH+1eg/CNzkHp2b6T/Sh2K9RVfqP2VGwBU8COs/EOije86t6z+wEjxvVkfsPz2foXI41Ow/j3DXBu9T7T/SWVWT6sXtP9SJlxe2Ke4/4WOGZOp+7j80lKGTLsXuP+ogVG84/O4/5wzyu8wj7z/BWfR3vzvvPyzxTif0Q+8/",
          "dtype": "f8"
         }
        },
        {
         "mode": "lines",
         "name": "Ep=200.0 MHz",
         "type": "scatter",
         "x": {
          "bdata": "AAAAAAAAAAB7FK5H4XqkP3sUrkfherQ/uR6F61G4vj97FK5H4XrEP5mZmZmZmck/uR6F61G4zj/sUbgehevRP3sUrkfhetQ/CtejcD0K1z+ZmZmZmZnZPylcj8L1KNw/uR6F61G43j+kcD0K16PgP+xRuB6F6+E/MzMzMzMz4z97FK5H4XrkP8P1KFyPwuU/CtejcD0K5z9SuB6F61HoP5mZmZmZmek/4XoUrkfh6j8pXI/C9SjsP3A9CtejcO0/uR6F61G47j8AAAAAAADwP6RwPQrXo/A/SOF6FK5H8T/sUbgehevxP5DC9Shcj/I/MzMzMzMz8z/Xo3A9CtfzP3sUrkfhevQ/H4XrUbge9T/D9Shcj8L1P2ZmZmZmZvY/CtejcD0K9z+uR+F6FK73P1K4HoXrUfg/9ihcj8L1+D+ZmZmZmZn5Pz0K16NwPfo/4XoUrkfh+j+F61G4HoX7Pylcj8L1KPw/zczMzMzM/D9wPQrXo3D9PxSuR+F6FP4/uR6F61G4/j9cj8L1KFz/PwAAAAAAAABA",
          "dtype": "f8"
         },
         "y": {
          "bdata": "AAAAAAAAAABdxcr/gyhQP6aj/JMgI3A/c/kqm2Aegj+iaf6K/w+QPwB5D+S/A5k/Z4LH03bwoT/DcaZQDU6oPyseYj3/k68/+mpGI1/dsz8GPm2A71y4P0fWlFYPRL0/HZOl6NtGwT8SCIebPxrEP0FscGFSGcc/XXMRSwdByj+bGRzTKY7NPygJgKOxftA/woyFk51F0j/W7BhsDRrUPwknQ8co+tU/IxsQBQzk1z/JPAqV2NXZP5qOgR2Mzds/Xkxo+EbJ3T/AL53E8MbfP9Wv2rlE4uA/uvmwnQjg4T/8esBFxdviP9brTAxx1OM/71rjyx/J5D8dzQY11bjlPxBR3ByoouY/e8mW8q2F5z92WkLjAmHoP7PHXcHKM+k/FV928TH96T/Shv00brzqP8KSZtm+cOs/pmBo820Z7D/WfxNv0bXsP2TXqZNXRe0/aMdbzV7H7T8IJ9VZYzvuP6wHfG3voO4/W78msZv37j+zUTKxDz/vPyIs/ToCd+8/zfHGmjmf7z+D1hXJi7fvP3ol2aXev+8/",
          "dtype": "f8"
         }
        },
        {
         "mode": "lines",
         "name": "Ep=500.0 MHz",
         "type": "scatter",
         "x": {
          "bdata": "AAAAAAAAAAB7FK5H4XqkP3sUrkfherQ/uR6F61G4vj97FK5H4XrEP5mZmZmZmck/uR6F61G4zj/sUbgehevRP3sUrkfhetQ/CtejcD0K1z+ZmZmZmZnZPylcj8L1KNw/uR6F61G43j+kcD0K16PgP+xRuB6F6+E/MzMzMzMz4z97FK5H4XrkP8P1KFyPwuU/CtejcD0K5z9SuB6F61HoP5mZmZmZmek/4XoUrkfh6j8pXI/C9SjsP3A9CtejcO0/uR6F61G47j8AAAAAAADwP6RwPQrXo/A/SOF6FK5H8T/sUbgehevxP5DC9Shcj/I/MzMzMzMz8z/Xo3A9CtfzP3sUrkfhevQ/H4XrUbge9T/D9Shcj8L1P2ZmZmZmZvY/CtejcD0K9z+uR+F6FK73P1K4HoXrUfg/9ihcj8L1+D+ZmZmZmZn5Pz0K16NwPfo/4XoUrkfh+j+F61G4HoX7Pylcj8L1KPw/zczMzMzM/D9wPQrXo3D9PxSuR+F6FP4/uR6F61G4/j9cj8L1KFz/PwAAAAAAAABA",
          "dtype": "f8"
         },
         "y": {
          "bdata": "AAAAAAAAAADpgpg8pylQP7zrrrNlJXA/kC6FxjEigj9/UzUggBSQP1HibX99DJk/gWdkIfb3oT+LJupH21moP5RqymZypa8/3mSypqjpsz/HpbXWlW24P88ZuJ/sWb0/rn2gKthUwT8U3op3vyvEP+1QDQzOLsc/GarTnfdayj/cKygRB63NP+8+HsDRkNA/SP7KSqha0j8ZZ/I9OTLUP0jgLuuoFdY/m+A5xw8D2D9ursLTivjZP58hepQS9Ns/DTbfIMLz3T9GNHXievXfPy7nQT6b++A/87gzSXf74T+cxDprT/niP4ISP3IW9OM/lEbb8dzq5D/Nkbcso9zlPwATzrN8yOY/vImxwnut5z+YE4F3uYroP65NKMJWX+k/Gn69V30q6j+ujz6XYOvqP8TDgbQ9oes//RQS3VxL7D+H8LlaEunsP6bR00zLee0/5dEaIeX87T8pYdxR23HuPyquJbQ32O4/muh22pIv7z+8Jy+AlHfvPwNyLeLzr+8/jLqi93fY7z/DIouX9/DvP3fyyaxZ+e8/",
          "dtype": "f8"
         }
        },
        {
         "mode": "lines",
         "name": "Ep=1000.0 MHz",
         "type": "scatter",
         "x": {
          "bdata": "AAAAAAAAAAB7FK5H4XqkP3sUrkfherQ/uR6F61G4vj97FK5H4XrEP5mZmZmZmck/uR6F61G4zj/sUbgehevRP3sUrkfhetQ/CtejcD0K1z+ZmZmZmZnZPylcj8L1KNw/uR6F61G43j+kcD0K16PgP+xRuB6F6+E/MzMzMzMz4z97FK5H4XrkP8P1KFyPwuU/CtejcD0K5z9SuB6F61HoP5mZmZmZmek/4XoUrkfh6j8pXI/C9SjsP3A9CtejcO0/uR6F61G47j8AAAAAAADwP6RwPQrXo/A/SOF6FK5H8T/sUbgehevxP5DC9Shcj/I/MzMzMzMz8z/Xo3A9CtfzP3sUrkfhevQ/H4XrUbge9T/D9Shcj8L1P2ZmZmZmZvY/CtejcD0K9z+uR+F6FK73P1K4HoXrUfg/9ihcj8L1+D+ZmZmZmZn5Pz0K16NwPfo/4XoUrkfh+j+F61G4HoX7Pylcj8L1KPw/zczMzMzM/D9wPQrXo3D9PxSuR+F6FP4/uR6F61G4/j9cj8L1KFz/PwAAAAAAAABA",
          "dtype": "f8"
         },
         "y": {
          "bdata": "AAAAAAAAAABY22G6xylQP5sdz4imJXA/sq+9zZ4igj8GXci9ABWQPzOY0jd3DZk/MNQwWcz4oT8VMcWYLFuoP1auHRBlp68/Ik1fywfrsz/CrHKrcW+4P+D+En1dXL0/j0a/2mdWwT91HJeSsy3EP/Is2fkzMcc/Q11s2Nxdyj+yJdX+eLDNP8DNoaLXktA/xzrecwFd0j/nCBm96zTUP+j3O3G6GNY/NmcJlIUG2D9YyIimafzZP4FhIZpe+Ns/XbZs63743T+0wAVWq/rfP+AfkGRu/uA/I6drFob+4T9LqK45mvziP8s+GDmd9+M/JOA5SZ/u5D/0TN1LoODlP57b1HSzzOY/5zYPpeqx5z8MlT+kXo/oPysN9hAwZOk/MNm2VIgv6j8KwaWKmvDqP4FKOaujpus/SvujrutQ7D9R9eGwxu7sP/8wCrKhf+0/IbDw/9kC7j/u0uQB63fuPyeSW4Je3u4/C4I/Ec017z8ATfVu3n3vP+SmdeRJtu8/b1WUe9be7z9q8ZwjW/fvP+GFqOS+/+8/",
          "dtype": "f8"
         }
        }
       ],
       "layout": {
        "template": {
         "data": {
          "bar": [
           {
            "error_x": {
             "color": "#2a3f5f"
            },
            "error_y": {
             "color": "#2a3f5f"
            },
            "marker": {
             "line": {
              "color": "white",
              "width": 0.5
             },
             "pattern": {
              "fillmode": "overlay",
              "size": 10,
              "solidity": 0.2
             }
            },
            "type": "bar"
           }
          ],
          "barpolar": [
           {
            "marker": {
             "line": {
              "color": "white",
              "width": 0.5
             },
             "pattern": {
              "fillmode": "overlay",
              "size": 10,
              "solidity": 0.2
             }
            },
            "type": "barpolar"
           }
          ],
          "carpet": [
           {
            "aaxis": {
             "endlinecolor": "#2a3f5f",
             "gridcolor": "#C8D4E3",
             "linecolor": "#C8D4E3",
             "minorgridcolor": "#C8D4E3",
             "startlinecolor": "#2a3f5f"
            },
            "baxis": {
             "endlinecolor": "#2a3f5f",
             "gridcolor": "#C8D4E3",
             "linecolor": "#C8D4E3",
             "minorgridcolor": "#C8D4E3",
             "startlinecolor": "#2a3f5f"
            },
            "type": "carpet"
           }
          ],
          "choropleth": [
           {
            "colorbar": {
             "outlinewidth": 0,
             "ticks": ""
            },
            "type": "choropleth"
           }
          ],
          "contour": [
           {
            "colorbar": {
             "outlinewidth": 0,
             "ticks": ""
            },
            "colorscale": [
             [
              0,
              "#0d0887"
             ],
             [
              0.1111111111111111,
              "#46039f"
             ],
             [
              0.2222222222222222,
              "#7201a8"
             ],
             [
              0.3333333333333333,
              "#9c179e"
             ],
             [
              0.4444444444444444,
              "#bd3786"
             ],
             [
              0.5555555555555556,
              "#d8576b"
             ],
             [
              0.6666666666666666,
              "#ed7953"
             ],
             [
              0.7777777777777778,
              "#fb9f3a"
             ],
             [
              0.8888888888888888,
              "#fdca26"
             ],
             [
              1,
              "#f0f921"
             ]
            ],
            "type": "contour"
           }
          ],
          "contourcarpet": [
           {
            "colorbar": {
             "outlinewidth": 0,
             "ticks": ""
            },
            "type": "contourcarpet"
           }
          ],
          "heatmap": [
           {
            "colorbar": {
             "outlinewidth": 0,
             "ticks": ""
            },
            "colorscale": [
             [
              0,
              "#0d0887"
             ],
             [
              0.1111111111111111,
              "#46039f"
             ],
             [
              0.2222222222222222,
              "#7201a8"
             ],
             [
              0.3333333333333333,
              "#9c179e"
             ],
             [
              0.4444444444444444,
              "#bd3786"
             ],
             [
              0.5555555555555556,
              "#d8576b"
             ],
             [
              0.6666666666666666,
              "#ed7953"
             ],
             [
              0.7777777777777778,
              "#fb9f3a"
             ],
             [
              0.8888888888888888,
              "#fdca26"
             ],
             [
              1,
              "#f0f921"
             ]
            ],
            "type": "heatmap"
           }
          ],
          "histogram": [
           {
            "marker": {
             "pattern": {
              "fillmode": "overlay",
              "size": 10,
              "solidity": 0.2
             }
            },
            "type": "histogram"
           }
          ],
          "histogram2d": [
           {
            "colorbar": {
             "outlinewidth": 0,
             "ticks": ""
            },
            "colorscale": [
             [
              0,
              "#0d0887"
             ],
             [
              0.1111111111111111,
              "#46039f"
             ],
             [
              0.2222222222222222,
              "#7201a8"
             ],
             [
              0.3333333333333333,
              "#9c179e"
             ],
             [
              0.4444444444444444,
              "#bd3786"
             ],
             [
              0.5555555555555556,
              "#d8576b"
             ],
             [
              0.6666666666666666,
              "#ed7953"
             ],
             [
              0.7777777777777778,
              "#fb9f3a"
             ],
             [
              0.8888888888888888,
              "#fdca26"
             ],
             [
              1,
              "#f0f921"
             ]
            ],
            "type": "histogram2d"
           }
          ],
          "histogram2dcontour": [
           {
            "colorbar": {
             "outlinewidth": 0,
             "ticks": ""
            },
            "colorscale": [
             [
              0,
              "#0d0887"
             ],
             [
              0.1111111111111111,
              "#46039f"
             ],
             [
              0.2222222222222222,
              "#7201a8"
             ],
             [
              0.3333333333333333,
              "#9c179e"
             ],
             [
              0.4444444444444444,
              "#bd3786"
             ],
             [
              0.5555555555555556,
              "#d8576b"
             ],
             [
              0.6666666666666666,
              "#ed7953"
             ],
             [
              0.7777777777777778,
              "#fb9f3a"
             ],
             [
              0.8888888888888888,
              "#fdca26"
             ],
             [
              1,
              "#f0f921"
             ]
            ],
            "type": "histogram2dcontour"
           }
          ],
          "mesh3d": [
           {
            "colorbar": {
             "outlinewidth": 0,
             "ticks": ""
            },
            "type": "mesh3d"
           }
          ],
          "parcoords": [
           {
            "line": {
             "colorbar": {
              "outlinewidth": 0,
              "ticks": ""
             }
            },
            "type": "parcoords"
           }
          ],
          "pie": [
           {
            "automargin": true,
            "type": "pie"
           }
          ],
          "scatter": [
           {
            "fillpattern": {
             "fillmode": "overlay",
             "size": 10,
             "solidity": 0.2
            },
            "type": "scatter"
           }
          ],
          "scatter3d": [
           {
            "line": {
             "colorbar": {
              "outlinewidth": 0,
              "ticks": ""
             }
            },
            "marker": {
             "colorbar": {
              "outlinewidth": 0,
              "ticks": ""
             }
            },
            "type": "scatter3d"
           }
          ],
          "scattercarpet": [
           {
            "marker": {
             "colorbar": {
              "outlinewidth": 0,
              "ticks": ""
             }
            },
            "type": "scattercarpet"
           }
          ],
          "scattergeo": [
           {
            "marker": {
             "colorbar": {
              "outlinewidth": 0,
              "ticks": ""
             }
            },
            "type": "scattergeo"
           }
          ],
          "scattergl": [
           {
            "marker": {
             "colorbar": {
              "outlinewidth": 0,
              "ticks": ""
             }
            },
            "type": "scattergl"
           }
          ],
          "scattermap": [
           {
            "marker": {
             "colorbar": {
              "outlinewidth": 0,
              "ticks": ""
             }
            },
            "type": "scattermap"
           }
          ],
          "scattermapbox": [
           {
            "marker": {
             "colorbar": {
              "outlinewidth": 0,
              "ticks": ""
             }
            },
            "type": "scattermapbox"
           }
          ],
          "scatterpolar": [
           {
            "marker": {
             "colorbar": {
              "outlinewidth": 0,
              "ticks": ""
             }
            },
            "type": "scatterpolar"
           }
          ],
          "scatterpolargl": [
           {
            "marker": {
             "colorbar": {
              "outlinewidth": 0,
              "ticks": ""
             }
            },
            "type": "scatterpolargl"
           }
          ],
          "scatterternary": [
           {
            "marker": {
             "colorbar": {
              "outlinewidth": 0,
              "ticks": ""
             }
            },
            "type": "scatterternary"
           }
          ],
          "surface": [
           {
            "colorbar": {
             "outlinewidth": 0,
             "ticks": ""
            },
            "colorscale": [
             [
              0,
              "#0d0887"
             ],
             [
              0.1111111111111111,
              "#46039f"
             ],
             [
              0.2222222222222222,
              "#7201a8"
             ],
             [
              0.3333333333333333,
              "#9c179e"
             ],
             [
              0.4444444444444444,
              "#bd3786"
             ],
             [
              0.5555555555555556,
              "#d8576b"
             ],
             [
              0.6666666666666666,
              "#ed7953"
             ],
             [
              0.7777777777777778,
              "#fb9f3a"
             ],
             [
              0.8888888888888888,
              "#fdca26"
             ],
             [
              1,
              "#f0f921"
             ]
            ],
            "type": "surface"
           }
          ],
          "table": [
           {
            "cells": {
             "fill": {
              "color": "#EBF0F8"
             },
             "line": {
              "color": "white"
             }
            },
            "header": {
             "fill": {
              "color": "#C8D4E3"
             },
             "line": {
              "color": "white"
             }
            },
            "type": "table"
           }
          ]
         },
         "layout": {
          "annotationdefaults": {
           "arrowcolor": "#2a3f5f",
           "arrowhead": 0,
           "arrowwidth": 1
          },
          "autotypenumbers": "strict",
          "coloraxis": {
           "colorbar": {
            "outlinewidth": 0,
            "ticks": ""
           }
          },
          "colorscale": {
           "diverging": [
            [
             0,
             "#8e0152"
            ],
            [
             0.1,
             "#c51b7d"
            ],
            [
             0.2,
             "#de77ae"
            ],
            [
             0.3,
             "#f1b6da"
            ],
            [
             0.4,
             "#fde0ef"
            ],
            [
             0.5,
             "#f7f7f7"
            ],
            [
             0.6,
             "#e6f5d0"
            ],
            [
             0.7,
             "#b8e186"
            ],
            [
             0.8,
             "#7fbc41"
            ],
            [
             0.9,
             "#4d9221"
            ],
            [
             1,
             "#276419"
            ]
           ],
           "sequential": [
            [
             0,
             "#0d0887"
            ],
            [
             0.1111111111111111,
             "#46039f"
            ],
            [
             0.2222222222222222,
             "#7201a8"
            ],
            [
             0.3333333333333333,
             "#9c179e"
            ],
            [
             0.4444444444444444,
             "#bd3786"
            ],
            [
             0.5555555555555556,
             "#d8576b"
            ],
            [
             0.6666666666666666,
             "#ed7953"
            ],
            [
             0.7777777777777778,
             "#fb9f3a"
            ],
            [
             0.8888888888888888,
             "#fdca26"
            ],
            [
             1,
             "#f0f921"
            ]
           ],
           "sequentialminus": [
            [
             0,
             "#0d0887"
            ],
            [
             0.1111111111111111,
             "#46039f"
            ],
            [
             0.2222222222222222,
             "#7201a8"
            ],
            [
             0.3333333333333333,
             "#9c179e"
            ],
            [
             0.4444444444444444,
             "#bd3786"
            ],
            [
             0.5555555555555556,
             "#d8576b"
            ],
            [
             0.6666666666666666,
             "#ed7953"
            ],
            [
             0.7777777777777778,
             "#fb9f3a"
            ],
            [
             0.8888888888888888,
             "#fdca26"
            ],
            [
             1,
             "#f0f921"
            ]
           ]
          },
          "colorway": [
           "#636efa",
           "#EF553B",
           "#00cc96",
           "#ab63fa",
           "#FFA15A",
           "#19d3f3",
           "#FF6692",
           "#B6E880",
           "#FF97FF",
           "#FECB52"
          ],
          "font": {
           "color": "#2a3f5f"
          },
          "geo": {
           "bgcolor": "white",
           "lakecolor": "white",
           "landcolor": "white",
           "showlakes": true,
           "showland": true,
           "subunitcolor": "#C8D4E3"
          },
          "hoverlabel": {
           "align": "left"
          },
          "hovermode": "closest",
          "mapbox": {
           "style": "light"
          },
          "paper_bgcolor": "white",
          "plot_bgcolor": "white",
          "polar": {
           "angularaxis": {
            "gridcolor": "#EBF0F8",
            "linecolor": "#EBF0F8",
            "ticks": ""
           },
           "bgcolor": "white",
           "radialaxis": {
            "gridcolor": "#EBF0F8",
            "linecolor": "#EBF0F8",
            "ticks": ""
           }
          },
          "scene": {
           "xaxis": {
            "backgroundcolor": "white",
            "gridcolor": "#DFE8F3",
            "gridwidth": 2,
            "linecolor": "#EBF0F8",
            "showbackground": true,
            "ticks": "",
            "zerolinecolor": "#EBF0F8"
           },
           "yaxis": {
            "backgroundcolor": "white",
            "gridcolor": "#DFE8F3",
            "gridwidth": 2,
            "linecolor": "#EBF0F8",
            "showbackground": true,
            "ticks": "",
            "zerolinecolor": "#EBF0F8"
           },
           "zaxis": {
            "backgroundcolor": "white",
            "gridcolor": "#DFE8F3",
            "gridwidth": 2,
            "linecolor": "#EBF0F8",
            "showbackground": true,
            "ticks": "",
            "zerolinecolor": "#EBF0F8"
           }
          },
          "shapedefaults": {
           "line": {
            "color": "#2a3f5f"
           }
          },
          "ternary": {
           "aaxis": {
            "gridcolor": "#DFE8F3",
            "linecolor": "#A2B1C6",
            "ticks": ""
           },
           "baxis": {
            "gridcolor": "#DFE8F3",
            "linecolor": "#A2B1C6",
            "ticks": ""
           },
           "bgcolor": "white",
           "caxis": {
            "gridcolor": "#DFE8F3",
            "linecolor": "#A2B1C6",
            "ticks": ""
           }
          },
          "title": {
           "x": 0.05
          },
          "xaxis": {
           "automargin": true,
           "gridcolor": "#EBF0F8",
           "linecolor": "#EBF0F8",
           "ticks": "",
           "title": {
            "standoff": 15
           },
           "zerolinecolor": "#EBF0F8",
           "zerolinewidth": 2
          },
          "yaxis": {
           "automargin": true,
           "gridcolor": "#EBF0F8",
           "linecolor": "#EBF0F8",
           "ticks": "",
           "title": {
            "standoff": 15
           },
           "zerolinecolor": "#EBF0F8",
           "zerolinewidth": 2
          }
         }
        },
        "title": {
         "text": "Protocol fidelity vs time — IBM units"
        },
        "xaxis": {
         "title": {
          "text": "time [µs]"
         }
        },
        "yaxis": {
         "title": {
          "text": "Fidelity to |1_L⟩"
         }
        }
       }
      }
     },
     "metadata": {},
     "output_type": "display_data"
    },
    {
     "name": "stdout",
     "output_type": "stream",
     "text": [
      "Done: Fidelity curves plotted.\n"
     ]
    }
   ],
   "source": [
    "# ---------- Simulation setup ----------\n",
    "n_qubits = 3\n",
    "initial_state = logical_zero\n",
    "\n",
    "rho0 = logical_zero * logical_zero.dag()\n",
    "rho1 = logical_one  * logical_one.dag()\n",
    "e_ops = [rho0, rho1]\n",
    "\n",
    "# Ideal (unitary) benchmark with Ep=0\n",
    "H_ideal = make_H_func(Ep_val=0.0)\n",
    "res_ideal = sesolve(H_ideal, initial_state, t_list, e_ops=e_ops)\n",
    "ideal_fidelity = res_ideal.expect[1]   # <1_L|rho|1_L>\n",
    "\n",
    "\n",
    "T_K        = params[\"T_phys_K\"]\n",
    "\n",
    "def _last_state(result):\n",
    "    \"\"\"Robustly fetch last state from a QuTiP result.\"\"\"\n",
    "    if hasattr(result, \"states\") and result.states:\n",
    "        return result.states[-1]\n",
    "    if hasattr(result, \"state\") and (result.state is not None):\n",
    "        return result.state\n",
    "    raise RuntimeError(\"Solver returned no states. Enable store_states=True.\")\n",
    "\n",
    "fidelity_curves = []\n",
    "for Ep_val in Ep_vec:\n",
    "    print(f\"Ep = {Ep_val}\")\n",
    "    H_fun = make_H_func(Ep_val)\n",
    "\n",
    "    rho = initial_state * initial_state.dag()\n",
    "    f_track = [float((rho1*rho).tr().real)]  # include t0\n",
    "\n",
    "    for k in range(1, len(t_list)):\n",
    "        t0, t1  = t_list[k-1], t_list[k]\n",
    "        t_mid   = 0.5*(t0 + t1)\n",
    "        c_ops   = c_ops_gen_thermal(t_mid, H_fun, n_qubits=n_qubits,\n",
    "                                    lambda_2=lambda_2, T_K=T_K)\n",
    "\n",
    "        opts = Options(store_states=True)\n",
    "        result = mesolve(H_fun, rho, [t0, t1], c_ops=c_ops,\n",
    "                         e_ops=e_ops, args=None, options=opts)\n",
    "\n",
    "        rho = _last_state(result)\n",
    "        f_track.append(result.expect[1][-1])\n",
    "\n",
    "    fidelity_curves.append(np.array(f_track))\n",
    "\n",
    "# ---------- Plot ----------\n",
    "fig = go.Figure()\n",
    "fig.add_trace(go.Scatter(x=t_list*params[\"to_time_units\"], y=ideal_fidelity,\n",
    "                         mode='lines', line=dict(dash='dash', width=3), name='Ideal (unitary)'))\n",
    "\n",
    "for i, Ep_val in enumerate(Ep_vec):\n",
    "    fig.add_trace(go.Scatter(x=t_list*params[\"to_time_units\"], y=fidelity_curves[i],\n",
    "                             mode='lines', name=f\"Ep={Ep_val*params['to_freq_units']:.1f} MHz\",))\n",
    "fig.update_layout(\n",
    "    title=f'Protocol fidelity vs time — {PLATFORM.upper()} units',\n",
    "    xaxis_title=params[\"time_unit_label\"],\n",
    "    yaxis_title='Fidelity to |1_L⟩',\n",
    "    template='plotly_white'\n",
    ")\n",
    "fig.show()\n",
    "\n",
    "print(\"Done: Fidelity curves plotted.\")\n"
   ]
  },
  {
   "cell_type": "code",
   "execution_count": 156,
   "id": "731f9a80",
   "metadata": {},
   "outputs": [
    {
     "data": {
      "application/vnd.plotly.v1+json": {
       "config": {
        "plotlyServerURL": "https://plot.ly"
       },
       "data": [
        {
         "mode": "lines+markers",
         "name": "N(Ep) · max_t C(t)  (upper bound on max_t S_out)",
         "type": "scatter",
         "x": {
          "bdata": "AAAAAAAAJEAAAAAAAAA0QP///////0hA////////WED///////9oQAAAAAAAQH9AAAAAAABAj0A=",
          "dtype": "f8"
         },
         "y": {
          "bdata": "dz82WX/I3T/f0R9Y9D3TP9FSbavybsM/r3dQolkEsT8h/Y1IC7WQP2wcYA8K6Tk/0yb0wsF5rT4=",
          "dtype": "f8"
         }
        }
       ],
       "layout": {
        "annotations": [
         {
          "showarrow": false,
          "text": "ε_R·Ω_max = 0.125 [1/s] (ε_R=0.01)",
          "x": 0,
          "xanchor": "left",
          "xref": "x domain",
          "y": 0.125,
          "yanchor": "bottom",
          "yref": "y"
         }
        ],
        "shapes": [
         {
          "line": {
           "color": "green",
           "dash": "dash"
          },
          "type": "line",
          "x0": 0,
          "x1": 1,
          "xref": "x domain",
          "y0": 0.125,
          "y1": 0.125,
          "yref": "y"
         },
         {
          "fillcolor": "rgba(0, 200, 0, 0.12)",
          "layer": "below",
          "line": {
           "width": 0
          },
          "type": "rect",
          "x0": 10,
          "x1": 1000,
          "y0": 0,
          "y1": 0.125
         }
        ],
        "template": {
         "data": {
          "bar": [
           {
            "error_x": {
             "color": "#2a3f5f"
            },
            "error_y": {
             "color": "#2a3f5f"
            },
            "marker": {
             "line": {
              "color": "white",
              "width": 0.5
             },
             "pattern": {
              "fillmode": "overlay",
              "size": 10,
              "solidity": 0.2
             }
            },
            "type": "bar"
           }
          ],
          "barpolar": [
           {
            "marker": {
             "line": {
              "color": "white",
              "width": 0.5
             },
             "pattern": {
              "fillmode": "overlay",
              "size": 10,
              "solidity": 0.2
             }
            },
            "type": "barpolar"
           }
          ],
          "carpet": [
           {
            "aaxis": {
             "endlinecolor": "#2a3f5f",
             "gridcolor": "#C8D4E3",
             "linecolor": "#C8D4E3",
             "minorgridcolor": "#C8D4E3",
             "startlinecolor": "#2a3f5f"
            },
            "baxis": {
             "endlinecolor": "#2a3f5f",
             "gridcolor": "#C8D4E3",
             "linecolor": "#C8D4E3",
             "minorgridcolor": "#C8D4E3",
             "startlinecolor": "#2a3f5f"
            },
            "type": "carpet"
           }
          ],
          "choropleth": [
           {
            "colorbar": {
             "outlinewidth": 0,
             "ticks": ""
            },
            "type": "choropleth"
           }
          ],
          "contour": [
           {
            "colorbar": {
             "outlinewidth": 0,
             "ticks": ""
            },
            "colorscale": [
             [
              0,
              "#0d0887"
             ],
             [
              0.1111111111111111,
              "#46039f"
             ],
             [
              0.2222222222222222,
              "#7201a8"
             ],
             [
              0.3333333333333333,
              "#9c179e"
             ],
             [
              0.4444444444444444,
              "#bd3786"
             ],
             [
              0.5555555555555556,
              "#d8576b"
             ],
             [
              0.6666666666666666,
              "#ed7953"
             ],
             [
              0.7777777777777778,
              "#fb9f3a"
             ],
             [
              0.8888888888888888,
              "#fdca26"
             ],
             [
              1,
              "#f0f921"
             ]
            ],
            "type": "contour"
           }
          ],
          "contourcarpet": [
           {
            "colorbar": {
             "outlinewidth": 0,
             "ticks": ""
            },
            "type": "contourcarpet"
           }
          ],
          "heatmap": [
           {
            "colorbar": {
             "outlinewidth": 0,
             "ticks": ""
            },
            "colorscale": [
             [
              0,
              "#0d0887"
             ],
             [
              0.1111111111111111,
              "#46039f"
             ],
             [
              0.2222222222222222,
              "#7201a8"
             ],
             [
              0.3333333333333333,
              "#9c179e"
             ],
             [
              0.4444444444444444,
              "#bd3786"
             ],
             [
              0.5555555555555556,
              "#d8576b"
             ],
             [
              0.6666666666666666,
              "#ed7953"
             ],
             [
              0.7777777777777778,
              "#fb9f3a"
             ],
             [
              0.8888888888888888,
              "#fdca26"
             ],
             [
              1,
              "#f0f921"
             ]
            ],
            "type": "heatmap"
           }
          ],
          "histogram": [
           {
            "marker": {
             "pattern": {
              "fillmode": "overlay",
              "size": 10,
              "solidity": 0.2
             }
            },
            "type": "histogram"
           }
          ],
          "histogram2d": [
           {
            "colorbar": {
             "outlinewidth": 0,
             "ticks": ""
            },
            "colorscale": [
             [
              0,
              "#0d0887"
             ],
             [
              0.1111111111111111,
              "#46039f"
             ],
             [
              0.2222222222222222,
              "#7201a8"
             ],
             [
              0.3333333333333333,
              "#9c179e"
             ],
             [
              0.4444444444444444,
              "#bd3786"
             ],
             [
              0.5555555555555556,
              "#d8576b"
             ],
             [
              0.6666666666666666,
              "#ed7953"
             ],
             [
              0.7777777777777778,
              "#fb9f3a"
             ],
             [
              0.8888888888888888,
              "#fdca26"
             ],
             [
              1,
              "#f0f921"
             ]
            ],
            "type": "histogram2d"
           }
          ],
          "histogram2dcontour": [
           {
            "colorbar": {
             "outlinewidth": 0,
             "ticks": ""
            },
            "colorscale": [
             [
              0,
              "#0d0887"
             ],
             [
              0.1111111111111111,
              "#46039f"
             ],
             [
              0.2222222222222222,
              "#7201a8"
             ],
             [
              0.3333333333333333,
              "#9c179e"
             ],
             [
              0.4444444444444444,
              "#bd3786"
             ],
             [
              0.5555555555555556,
              "#d8576b"
             ],
             [
              0.6666666666666666,
              "#ed7953"
             ],
             [
              0.7777777777777778,
              "#fb9f3a"
             ],
             [
              0.8888888888888888,
              "#fdca26"
             ],
             [
              1,
              "#f0f921"
             ]
            ],
            "type": "histogram2dcontour"
           }
          ],
          "mesh3d": [
           {
            "colorbar": {
             "outlinewidth": 0,
             "ticks": ""
            },
            "type": "mesh3d"
           }
          ],
          "parcoords": [
           {
            "line": {
             "colorbar": {
              "outlinewidth": 0,
              "ticks": ""
             }
            },
            "type": "parcoords"
           }
          ],
          "pie": [
           {
            "automargin": true,
            "type": "pie"
           }
          ],
          "scatter": [
           {
            "fillpattern": {
             "fillmode": "overlay",
             "size": 10,
             "solidity": 0.2
            },
            "type": "scatter"
           }
          ],
          "scatter3d": [
           {
            "line": {
             "colorbar": {
              "outlinewidth": 0,
              "ticks": ""
             }
            },
            "marker": {
             "colorbar": {
              "outlinewidth": 0,
              "ticks": ""
             }
            },
            "type": "scatter3d"
           }
          ],
          "scattercarpet": [
           {
            "marker": {
             "colorbar": {
              "outlinewidth": 0,
              "ticks": ""
             }
            },
            "type": "scattercarpet"
           }
          ],
          "scattergeo": [
           {
            "marker": {
             "colorbar": {
              "outlinewidth": 0,
              "ticks": ""
             }
            },
            "type": "scattergeo"
           }
          ],
          "scattergl": [
           {
            "marker": {
             "colorbar": {
              "outlinewidth": 0,
              "ticks": ""
             }
            },
            "type": "scattergl"
           }
          ],
          "scattermap": [
           {
            "marker": {
             "colorbar": {
              "outlinewidth": 0,
              "ticks": ""
             }
            },
            "type": "scattermap"
           }
          ],
          "scattermapbox": [
           {
            "marker": {
             "colorbar": {
              "outlinewidth": 0,
              "ticks": ""
             }
            },
            "type": "scattermapbox"
           }
          ],
          "scatterpolar": [
           {
            "marker": {
             "colorbar": {
              "outlinewidth": 0,
              "ticks": ""
             }
            },
            "type": "scatterpolar"
           }
          ],
          "scatterpolargl": [
           {
            "marker": {
             "colorbar": {
              "outlinewidth": 0,
              "ticks": ""
             }
            },
            "type": "scatterpolargl"
           }
          ],
          "scatterternary": [
           {
            "marker": {
             "colorbar": {
              "outlinewidth": 0,
              "ticks": ""
             }
            },
            "type": "scatterternary"
           }
          ],
          "surface": [
           {
            "colorbar": {
             "outlinewidth": 0,
             "ticks": ""
            },
            "colorscale": [
             [
              0,
              "#0d0887"
             ],
             [
              0.1111111111111111,
              "#46039f"
             ],
             [
              0.2222222222222222,
              "#7201a8"
             ],
             [
              0.3333333333333333,
              "#9c179e"
             ],
             [
              0.4444444444444444,
              "#bd3786"
             ],
             [
              0.5555555555555556,
              "#d8576b"
             ],
             [
              0.6666666666666666,
              "#ed7953"
             ],
             [
              0.7777777777777778,
              "#fb9f3a"
             ],
             [
              0.8888888888888888,
              "#fdca26"
             ],
             [
              1,
              "#f0f921"
             ]
            ],
            "type": "surface"
           }
          ],
          "table": [
           {
            "cells": {
             "fill": {
              "color": "#EBF0F8"
             },
             "line": {
              "color": "white"
             }
            },
            "header": {
             "fill": {
              "color": "#C8D4E3"
             },
             "line": {
              "color": "white"
             }
            },
            "type": "table"
           }
          ]
         },
         "layout": {
          "annotationdefaults": {
           "arrowcolor": "#2a3f5f",
           "arrowhead": 0,
           "arrowwidth": 1
          },
          "autotypenumbers": "strict",
          "coloraxis": {
           "colorbar": {
            "outlinewidth": 0,
            "ticks": ""
           }
          },
          "colorscale": {
           "diverging": [
            [
             0,
             "#8e0152"
            ],
            [
             0.1,
             "#c51b7d"
            ],
            [
             0.2,
             "#de77ae"
            ],
            [
             0.3,
             "#f1b6da"
            ],
            [
             0.4,
             "#fde0ef"
            ],
            [
             0.5,
             "#f7f7f7"
            ],
            [
             0.6,
             "#e6f5d0"
            ],
            [
             0.7,
             "#b8e186"
            ],
            [
             0.8,
             "#7fbc41"
            ],
            [
             0.9,
             "#4d9221"
            ],
            [
             1,
             "#276419"
            ]
           ],
           "sequential": [
            [
             0,
             "#0d0887"
            ],
            [
             0.1111111111111111,
             "#46039f"
            ],
            [
             0.2222222222222222,
             "#7201a8"
            ],
            [
             0.3333333333333333,
             "#9c179e"
            ],
            [
             0.4444444444444444,
             "#bd3786"
            ],
            [
             0.5555555555555556,
             "#d8576b"
            ],
            [
             0.6666666666666666,
             "#ed7953"
            ],
            [
             0.7777777777777778,
             "#fb9f3a"
            ],
            [
             0.8888888888888888,
             "#fdca26"
            ],
            [
             1,
             "#f0f921"
            ]
           ],
           "sequentialminus": [
            [
             0,
             "#0d0887"
            ],
            [
             0.1111111111111111,
             "#46039f"
            ],
            [
             0.2222222222222222,
             "#7201a8"
            ],
            [
             0.3333333333333333,
             "#9c179e"
            ],
            [
             0.4444444444444444,
             "#bd3786"
            ],
            [
             0.5555555555555556,
             "#d8576b"
            ],
            [
             0.6666666666666666,
             "#ed7953"
            ],
            [
             0.7777777777777778,
             "#fb9f3a"
            ],
            [
             0.8888888888888888,
             "#fdca26"
            ],
            [
             1,
             "#f0f921"
            ]
           ]
          },
          "colorway": [
           "#636efa",
           "#EF553B",
           "#00cc96",
           "#ab63fa",
           "#FFA15A",
           "#19d3f3",
           "#FF6692",
           "#B6E880",
           "#FF97FF",
           "#FECB52"
          ],
          "font": {
           "color": "#2a3f5f"
          },
          "geo": {
           "bgcolor": "white",
           "lakecolor": "white",
           "landcolor": "white",
           "showlakes": true,
           "showland": true,
           "subunitcolor": "#C8D4E3"
          },
          "hoverlabel": {
           "align": "left"
          },
          "hovermode": "closest",
          "mapbox": {
           "style": "light"
          },
          "paper_bgcolor": "white",
          "plot_bgcolor": "white",
          "polar": {
           "angularaxis": {
            "gridcolor": "#EBF0F8",
            "linecolor": "#EBF0F8",
            "ticks": ""
           },
           "bgcolor": "white",
           "radialaxis": {
            "gridcolor": "#EBF0F8",
            "linecolor": "#EBF0F8",
            "ticks": ""
           }
          },
          "scene": {
           "xaxis": {
            "backgroundcolor": "white",
            "gridcolor": "#DFE8F3",
            "gridwidth": 2,
            "linecolor": "#EBF0F8",
            "showbackground": true,
            "ticks": "",
            "zerolinecolor": "#EBF0F8"
           },
           "yaxis": {
            "backgroundcolor": "white",
            "gridcolor": "#DFE8F3",
            "gridwidth": 2,
            "linecolor": "#EBF0F8",
            "showbackground": true,
            "ticks": "",
            "zerolinecolor": "#EBF0F8"
           },
           "zaxis": {
            "backgroundcolor": "white",
            "gridcolor": "#DFE8F3",
            "gridwidth": 2,
            "linecolor": "#EBF0F8",
            "showbackground": true,
            "ticks": "",
            "zerolinecolor": "#EBF0F8"
           }
          },
          "shapedefaults": {
           "line": {
            "color": "#2a3f5f"
           }
          },
          "ternary": {
           "aaxis": {
            "gridcolor": "#DFE8F3",
            "linecolor": "#A2B1C6",
            "ticks": ""
           },
           "baxis": {
            "gridcolor": "#DFE8F3",
            "linecolor": "#A2B1C6",
            "ticks": ""
           },
           "bgcolor": "white",
           "caxis": {
            "gridcolor": "#DFE8F3",
            "linecolor": "#A2B1C6",
            "ticks": ""
           }
          },
          "title": {
           "x": 0.05
          },
          "xaxis": {
           "automargin": true,
           "gridcolor": "#EBF0F8",
           "linecolor": "#EBF0F8",
           "ticks": "",
           "title": {
            "standoff": 15
           },
           "zerolinecolor": "#EBF0F8",
           "zerolinewidth": 2
          },
          "yaxis": {
           "automargin": true,
           "gridcolor": "#EBF0F8",
           "linecolor": "#EBF0F8",
           "ticks": "",
           "title": {
            "standoff": 15
           },
           "zerolinecolor": "#EBF0F8",
           "zerolinewidth": 2
          }
         }
        },
        "title": {
         "text": "Instantaneous leakage bound vs Ep  — IBM, T=0.015 K"
        },
        "xaxis": {
         "title": {
          "text": "Penalty Ep [MHz]"
         }
        },
        "yaxis": {
         "range": [
          0,
          0.4886305131693382
         ],
         "title": {
          "text": "N(Ep) · max_t C(t)  [1/s]"
         }
        }
       }
      }
     },
     "metadata": {},
     "output_type": "display_data"
    },
    {
     "name": "stdout",
     "output_type": "stream",
     "text": [
      "First Ep under threshold (instantaneous): ~100 MHz\n"
     ]
    }
   ],
   "source": [
    "# =========================\n",
    "# JFS instantaneous bound vs Ep (MHz) — single cell\n",
    "# =========================\n",
    "# ---- helpers (robust scalar & codespace test) ----\n",
    "def _scalar(x):\n",
    "    try:\n",
    "        return complex(x.full()[0,0])    # 1x1 Qobj\n",
    "    except AttributeError:\n",
    "        return complex(x)                # already a complex\n",
    "\n",
    "def in_codespace(psi, tol=1e-6):\n",
    "    s1 = float(np.real(_scalar(psi.dag()*S1*psi)))\n",
    "    s2 = float(np.real(_scalar(psi.dag()*S2*psi)))\n",
    "    return (abs(s1-1.0) < tol) and (abs(s2-1.0) < tol)\n",
    "\n",
    "# ---- C(t): prefactor without Bose factor (spectral + matrix elements only) ----\n",
    "def C_out_prefactor_at_t(t, H_func, n_qubits=3, lambda_2=lambda_2):\n",
    "    Ht = H_func(t)\n",
    "    evals, evecs = Ht.eigenstates()\n",
    "    a = evecs[0]; Ea = float(evals[0])\n",
    "\n",
    "    sm_ops = [tensor([sigmam() if j==i else qeye(2) for j in range(n_qubits)]) for i in range(n_qubits)]\n",
    "    total = 0.0\n",
    "    for b_idx in range(1, len(evals)):\n",
    "        b = evecs[b_idx]\n",
    "        if in_codespace(b):                 # only C^⊥\n",
    "            continue\n",
    "        Eb = float(evals[b_idx])\n",
    "        omega = Eb - Ea\n",
    "        if omega <= 1e-12:\n",
    "            continue\n",
    "        g_amp = spectral_amp(omega, lambda_2, platform=PLATFORM, model=None)\n",
    "        if g_amp == 0.0:\n",
    "            continue\n",
    "        acc = 0.0\n",
    "        for sm in sm_ops:\n",
    "            m = _scalar(a.dag()*sm*b)       # <0|σ^-|b>\n",
    "            acc += float(np.abs(m)**2)\n",
    "        total += (g_amp**2) * acc\n",
    "    return float(total)\n",
    "\n",
    "# ---- use MAX over time for instantaneous condition ----\n",
    "def C_max_for_Ep(Ep_val):\n",
    "    H_fun = make_H_func(Ep_val)\n",
    "    C_vals = [C_out_prefactor_at_t(t, H_fun, n_qubits=3, lambda_2=lambda_2) for t in t_list]\n",
    "    return float(np.nanmax(C_vals)) if len(C_vals) else 0.0\n",
    "\n",
    "# ---- Ep to MHz (x-axis) ----\n",
    "def Ep_to_MHz(Ep_val):\n",
    "    # IBM: Ep [rad/s] -> MHz ; QuEra: Ep [rad/µs] -> MHz\n",
    "    return (Ep_val/(2*np.pi)) / (1e6 if PLATFORM.lower()==\"ibm\" else 1.0)\n",
    "\n",
    "# ---- Build instantaneous bound curve vs Ep (MHz) ----\n",
    "Ep_MHz_axis = []\n",
    "Smax_bound  = []    # [1/time] = N(Ep) * max_t C(t)\n",
    "\n",
    "for Ep_val in Ep_vec:\n",
    "    Cmax = C_max_for_Ep(Ep_val)                                    # max_t C(t)\n",
    "    N_Ep = bose_einstein_N(Ep_val, T_phys_K)    # Bose at ω = Ep\n",
    "    Smax_bound.append(N_Ep * Cmax)\n",
    "    Ep_MHz_axis.append(Ep_to_MHz(Ep_val))\n",
    "\n",
    "Ep_MHz_axis = np.asarray(Ep_MHz_axis, dtype=float)\n",
    "Smax_bound  = np.asarray(Smax_bound,  dtype=float)\n",
    "\n",
    "# ---- Physics-based threshold: ε_R · Ω_max (timescale separation) ----\n",
    "Omega_max   = omega_max                 # angular coherent scale (rad/s or rad/µs)\n",
    "epsilon_R   = 1e-2                      # 1% tolerance (adjust if desired)\n",
    "S_threshold = epsilon_R * Omega_max     # [1/time]\n",
    "\n",
    "# Find first crossing correctly (avoid NumPy truth-value pitfalls)\n",
    "mask = Smax_bound <= S_threshold\n",
    "idx_R = int(np.where(mask)[0][0]) if np.any(mask) else None\n",
    "\n",
    "# ---- Plot (only instantaneous figure) ----\n",
    "rate_unit = ('1/s' if PLATFORM.lower()=='ibm' else '1/µs')\n",
    "ymax = (np.nanmax(Smax_bound) if np.isfinite(Smax_bound).any() else 1.0) * 1.05\n",
    "\n",
    "\n",
    "fig = go.Figure()\n",
    "\n",
    "# main curve (note: using your prior conversion factor for consistency with earlier cells)\n",
    "fig.add_trace(go.Scatter(\n",
    "    x=Ep_MHz_axis,\n",
    "    y=Smax_bound * params['to_freq_units'],\n",
    "    mode='lines+markers',\n",
    "    name='N(Ep) · max_t C(t)  (upper bound on max_t S_out)'\n",
    "))\n",
    "\n",
    "# horizontal threshold line\n",
    "fig.add_hline(\n",
    "    y=S_threshold * params['to_freq_units'],\n",
    "    line=dict(color='green', dash='dash'),\n",
    "    annotation_text=f\"ε_R·Ω_max = {S_threshold*params['to_freq_units']:.3g} [{rate_unit}] (ε_R={epsilon_R:g})\",\n",
    "    annotation_position=\"top left\"\n",
    ")\n",
    "\n",
    "# shaded region below the threshold (whole x-range)\n",
    "x0, x1 = float(np.nanmin(Ep_MHz_axis)), float(np.nanmax(Ep_MHz_axis))\n",
    "fig.add_shape(\n",
    "    type=\"rect\",\n",
    "    x0=x0, x1=x1,\n",
    "    y0=0, y1=S_threshold * params['to_freq_units'],\n",
    "    fillcolor=\"rgba(0, 200, 0, 0.12)\",\n",
    "    line_width=0,\n",
    "    layer=\"below\"\n",
    ")\n",
    "\n",
    "fig.update_layout(\n",
    "    title=f\"Instantaneous leakage bound vs Ep  — {PLATFORM.upper()}, T={T_phys_K} K\",\n",
    "    xaxis_title=\"Penalty Ep [MHz]\",\n",
    "    yaxis_title=f\"N(Ep) · max_t C(t)  [{rate_unit}]\",\n",
    "    template=\"plotly_white\",\n",
    "    yaxis=dict(range=[0, ymax * params['to_freq_units']])\n",
    ")\n",
    "fig.show()\n",
    "\n",
    "# (Optional) you can still print the smallest Ep that falls under the threshold if you want a numeric statement:\n",
    "mask = (Smax_bound <= S_threshold)\n",
    "if np.any(mask):\n",
    "    first_idx = int(np.where(mask)[0][0])\n",
    "    print(f\"First Ep under threshold (instantaneous): ~{Ep_MHz_axis[first_idx]:.3g} MHz\")\n"
   ]
  },
  {
   "cell_type": "code",
   "execution_count": 157,
   "id": "57d52a3e",
   "metadata": {},
   "outputs": [],
   "source": [
    "# --- c_ops_gen_new_with_tracking (robust scalar coefficients per transition) ---\n",
    "\n",
    "def c_ops_gen_new_with_tracking(t, args):\n",
    "    \"\"\"Compute scalar c-coefficients for transitions at time t.\n",
    "\n",
    "    Returns a dict mapping (a_idx, b_idx) -> [c_coef_scalar, ...] for the instant t.\n",
    "    The implementation sums rates across single-qubit operators and then takes\n",
    "    the square root to produce the scalar collapse amplitude, matching the\n",
    "    convention used in `c_ops_gen_thermal`.\n",
    "    \"\"\"\n",
    "    H_inst_t = args['args_H'](t)\n",
    "    eigenvalues, eigenstates = H_inst_t.eigenstates()\n",
    "    c_coef_tracking = {}\n",
    "\n",
    "    # reference state index and its eigenvalue/vector\n",
    "    a_idx = 0\n",
    "    omega_a = float(eigenvalues[a_idx])\n",
    "    a_state = eigenstates[a_idx]\n",
    "\n",
    "    for b_offset, b_state in enumerate(eigenstates[1:]):\n",
    "        b_i = 1 + b_offset\n",
    "        omega_b = float(eigenvalues[b_i])\n",
    "\n",
    "        # skip nearly-degenerate pairs\n",
    "        if np.abs(omega_a - omega_b) < 1e-12:\n",
    "            continue\n",
    "\n",
    "        # accumulate total rates for this transition\n",
    "        rate_total = 0.0\n",
    "\n",
    "        for i_qubit in range(args['n_qubits']):\n",
    "            sigmam_i = tensor([sigmam() if j == i_qubit else qeye(2) for j in range(args['n_qubits'])])\n",
    "\n",
    "            # compute matrix element <b| sigmam_i |a>\n",
    "            m_obj = b_state.dag() * sigmam_i * a_state\n",
    "            mag2 = float(np.abs(m_obj) ** 2)\n",
    "            if mag2 < 1e-8:\n",
    "                continue\n",
    "\n",
    "            # spectral and thermal factors (use positive frequency)\n",
    "            freq = abs(omega_b - omega_a)\n",
    "            g = spectral_amp(freq, args.get('lambda_2', 0.0))\n",
    "            N = bose_einstein_N(freq, args.get('T', 0.0))\n",
    "\n",
    "            rate_abs = N       * (g**2) * mag2\n",
    "            rate_em  = (N + 1) * (g**2) * mag2\n",
    "            rate_total += rate_abs + rate_em\n",
    "\n",
    "        # produce scalar coefficient = sqrt(total_rate)\n",
    "        c_scalar = float(np.sqrt(max(0.0, rate_total)))\n",
    "\n",
    "        transition_key = (a_idx, b_i)\n",
    "        c_coef_tracking.setdefault(transition_key, []).append(c_scalar)\n",
    "\n",
    "    return c_coef_tracking\n",
    "\n",
    "# --- End function ---"
   ]
  },
  {
   "cell_type": "code",
   "execution_count": 158,
   "id": "7ad2d4fd",
   "metadata": {},
   "outputs": [
    {
     "data": {
      "application/vnd.plotly.v1+json": {
       "config": {
        "plotlyServerURL": "https://plot.ly"
       },
       "data": [
        {
         "mode": "lines+markers",
         "name": "(0, 1)",
         "type": "scatter",
         "x": {
          "bdata": "AAAAAAAAAAB7FK5H4XqkP3sUrkfherQ/uR6F61G4vj97FK5H4XrEP5mZmZmZmck/uR6F61G4zj/sUbgehevRP3sUrkfhetQ/CtejcD0K1z+ZmZmZmZnZPylcj8L1KNw/uR6F61G43j+kcD0K16PgP+xRuB6F6+E/MzMzMzMz4z97FK5H4XrkP8P1KFyPwuU/CtejcD0K5z9SuB6F61HoP5mZmZmZmek/4XoUrkfh6j8pXI/C9SjsP3A9CtejcO0/uR6F61G47j8AAAAAAADwP6RwPQrXo/A/SOF6FK5H8T/sUbgehevxP5DC9Shcj/I/MzMzMzMz8z/Xo3A9CtfzP3sUrkfhevQ/H4XrUbge9T/D9Shcj8L1P2ZmZmZmZvY/CtejcD0K9z+uR+F6FK73P1K4HoXrUfg/9ihcj8L1+D+ZmZmZmZn5Pz0K16NwPfo/4XoUrkfh+j+F61G4HoX7Pylcj8L1KPw/zczMzMzM/D9wPQrXo3D9PxSuR+F6FP4/uR6F61G4/j9cj8L1KFz/PwAAAAAAAABA",
          "dtype": "f8"
         },
         "y": [
          0,
          0,
          0,
          0,
          0,
          0,
          0,
          0,
          0,
          0,
          0,
          0,
          0,
          0,
          0,
          0,
          0,
          0,
          0,
          0,
          0,
          0,
          0,
          0,
          0,
          0,
          0,
          0,
          0,
          0,
          0,
          0,
          0,
          0,
          0,
          0,
          0,
          0,
          0,
          0,
          0,
          0,
          0,
          0,
          0,
          0,
          0,
          0,
          0,
          0,
          0
         ]
        },
        {
         "mode": "lines+markers",
         "name": "(0, 2)",
         "type": "scatter",
         "x": {
          "bdata": "AAAAAAAAAAB7FK5H4XqkP3sUrkfherQ/uR6F61G4vj97FK5H4XrEP5mZmZmZmck/uR6F61G4zj/sUbgehevRP3sUrkfhetQ/CtejcD0K1z+ZmZmZmZnZPylcj8L1KNw/uR6F61G43j+kcD0K16PgP+xRuB6F6+E/MzMzMzMz4z97FK5H4XrkP8P1KFyPwuU/CtejcD0K5z9SuB6F61HoP5mZmZmZmek/4XoUrkfh6j8pXI/C9SjsP3A9CtejcO0/uR6F61G47j8AAAAAAADwP6RwPQrXo/A/SOF6FK5H8T/sUbgehevxP5DC9Shcj/I/MzMzMzMz8z/Xo3A9CtfzP3sUrkfhevQ/H4XrUbge9T/D9Shcj8L1P2ZmZmZmZvY/CtejcD0K9z+uR+F6FK73P1K4HoXrUfg/9ihcj8L1+D+ZmZmZmZn5Pz0K16NwPfo/4XoUrkfh+j+F61G4HoX7Pylcj8L1KPw/zczMzMzM/D9wPQrXo3D9PxSuR+F6FP4/uR6F61G4/j9cj8L1KFz/PwAAAAAAAABA",
          "dtype": "f8"
         },
         "y": [
          0,
          5.643660925770042,
          11.26504890020949,
          16.841978873151103,
          22.352441249848642,
          27.774688752792073,
          33.087322248276514,
          38.269375199007165,
          43.30039640944082,
          48.16053073731634,
          52.830597452825295,
          57.29216593619195,
          61.52762841490941,
          65.52026945357291,
          69.25433192206687,
          72.71507918175907,
          75.88885324428064,
          78.7631286733662,
          81.32656201702866,
          83.56903657498196,
          85.48170232463495,
          87.05701084808756,
          88.28874512228775,
          89.17204405478121,
          89.70342166822229,
          89.88078085793406,
          89.70342166822248,
          89.1720440547814,
          88.2887451222879,
          87.0570108480874,
          85.48170232463477,
          83.56903657498188,
          81.32656201702882,
          78.7631286733664,
          75.8888532442809,
          72.71507918175915,
          69.254331922067,
          65.52026945357288,
          61.52762841491026,
          57.292165936192745,
          52.83059745282529,
          48.1605307373164,
          43.30039640944088,
          38.26937519900714,
          33.087322248276536,
          27.774688752792077,
          22.352441249848663,
          16.841978873151113,
          11.265048900209472,
          5.643660925770064,
          0
         ]
        },
        {
         "mode": "lines+markers",
         "name": "(0, 3)",
         "type": "scatter",
         "x": {
          "bdata": "AAAAAAAAAAB7FK5H4XqkP3sUrkfherQ/uR6F61G4vj97FK5H4XrEP5mZmZmZmck/uR6F61G4zj/sUbgehevRP3sUrkfhetQ/CtejcD0K1z+ZmZmZmZnZPylcj8L1KNw/uR6F61G43j+kcD0K16PgP+xRuB6F6+E/MzMzMzMz4z97FK5H4XrkP8P1KFyPwuU/CtejcD0K5z9SuB6F61HoP5mZmZmZmek/4XoUrkfh6j8pXI/C9SjsP3A9CtejcO0/uR6F61G47j8AAAAAAADwP6RwPQrXo/A/SOF6FK5H8T/sUbgehevxP5DC9Shcj/I/MzMzMzMz8z/Xo3A9CtfzP3sUrkfhevQ/H4XrUbge9T/D9Shcj8L1P2ZmZmZmZvY/CtejcD0K9z+uR+F6FK73P1K4HoXrUfg/9ihcj8L1+D+ZmZmZmZn5Pz0K16NwPfo/4XoUrkfh+j+F61G4HoX7Pylcj8L1KPw/zczMzMzM/D9wPQrXo3D9PxSuR+F6FP4/uR6F61G4/j9cj8L1KFz/PwAAAAAAAABA",
          "dtype": "f8"
         },
         "y": [
          0,
          5.643660925770045,
          11.26504890020948,
          16.841978873151113,
          22.352441249848663,
          27.7746887527921,
          33.087322248276536,
          38.269375199006696,
          43.30039640944086,
          48.160530737316364,
          52.83059745282594,
          57.29216593619198,
          61.52762841490945,
          65.52026945357288,
          69.25433192206687,
          72.7150791817591,
          75.88885324428068,
          78.76312867336623,
          81.32656201702866,
          83.56903657498198,
          85.48170232463492,
          87.05701084808756,
          88.28874512228778,
          89.17204405478121,
          89.70342166822226,
          89.88078085793403,
          89.70342166822243,
          89.1720440547814,
          88.2887451222879,
          87.05701084808739,
          85.48170232463477,
          83.56903657498191,
          81.32656201702882,
          78.76312867336638,
          75.88885324428088,
          72.71507918175914,
          69.25433192206701,
          65.52026945357288,
          61.52762841491025,
          57.29216593619267,
          52.83059745282529,
          48.1605307373164,
          43.300396409440864,
          38.269375199007165,
          33.087322248276536,
          27.774688752792077,
          22.352441249848663,
          16.841978873151113,
          11.265048900209472,
          5.643660925770064,
          0
         ]
        },
        {
         "mode": "lines+markers",
         "name": "(0, 4)",
         "type": "scatter",
         "x": {
          "bdata": "AAAAAAAAAAB7FK5H4XqkP3sUrkfherQ/uR6F61G4vj97FK5H4XrEP5mZmZmZmck/uR6F61G4zj/sUbgehevRP3sUrkfhetQ/CtejcD0K1z+ZmZmZmZnZPylcj8L1KNw/uR6F61G43j+kcD0K16PgP+xRuB6F6+E/MzMzMzMz4z97FK5H4XrkP8P1KFyPwuU/CtejcD0K5z9SuB6F61HoP5mZmZmZmek/4XoUrkfh6j8pXI/C9SjsP3A9CtejcO0/uR6F61G47j8AAAAAAADwP6RwPQrXo/A/SOF6FK5H8T/sUbgehevxP5DC9Shcj/I/MzMzMzMz8z/Xo3A9CtfzP3sUrkfhevQ/H4XrUbge9T/D9Shcj8L1P2ZmZmZmZvY/CtejcD0K9z+uR+F6FK73P1K4HoXrUfg/9ihcj8L1+D+ZmZmZmZn5Pz0K16NwPfo/4XoUrkfh+j+F61G4HoX7Pylcj8L1KPw/zczMzMzM/D9wPQrXo3D9PxSuR+F6FP4/uR6F61G4/j9cj8L1KFz/PwAAAAAAAABA",
          "dtype": "f8"
         },
         "y": [
          170.21084793415886,
          170.04291182044477,
          169.53976624642044,
          168.70339689780133,
          167.53710454230566,
          166.04549200303205,
          164.23444599322033,
          162.11111388408287,
          159.6838754973963,
          156.9623100341731,
          153.95715826993185,
          150.6802801657622,
          147.14460806247865,
          143.3640956425778,
          139.35366286142892,
          135.12913706502712,
          130.7071905266883,
          126.10527464920405,
          121.34155109212755,
          116.43482009600051,
          111.40444628639209,
          106.27028225056971,
          101.05259018840621,
          95.77196194673444,
          90.4492377527347,
          85.10542396707945,
          79.76161018142419,
          74.43888598742446,
          69.15825774575276,
          63.94056568358919,
          58.80640164776685,
          53.776027838158434,
          48.8692968420313,
          44.10557328495484,
          39.50365740747071,
          35.08171086913178,
          30.857185072729983,
          26.846752291581165,
          23.066239871680548,
          19.530567768396722,
          16.25368966422724,
          13.248537899985802,
          10.526972436762605,
          8.09973405007611,
          5.976401940938547,
          4.165355931126794,
          2.673743391853274,
          1.507451036357527,
          0.6710816877384161,
          0.1679361137141351,
          0
         ]
        },
        {
         "mode": "lines+markers",
         "name": "(0, 5)",
         "type": "scatter",
         "x": {
          "bdata": "AAAAAAAAAAB7FK5H4XqkP3sUrkfherQ/uR6F61G4vj97FK5H4XrEP5mZmZmZmck/uR6F61G4zj/sUbgehevRP3sUrkfhetQ/CtejcD0K1z+ZmZmZmZnZPylcj8L1KNw/uR6F61G43j+kcD0K16PgP+xRuB6F6+E/MzMzMzMz4z97FK5H4XrkP8P1KFyPwuU/CtejcD0K5z9SuB6F61HoP5mZmZmZmek/4XoUrkfh6j8pXI/C9SjsP3A9CtejcO0/uR6F61G47j8AAAAAAADwP6RwPQrXo/A/SOF6FK5H8T/sUbgehevxP5DC9Shcj/I/MzMzMzMz8z/Xo3A9CtfzP3sUrkfhevQ/H4XrUbge9T/D9Shcj8L1P2ZmZmZmZvY/CtejcD0K9z+uR+F6FK73P1K4HoXrUfg/9ihcj8L1+D+ZmZmZmZn5Pz0K16NwPfo/4XoUrkfh+j+F61G4HoX7Pylcj8L1KPw/zczMzMzM/D9wPQrXo3D9PxSuR+F6FP4/uR6F61G4/j9cj8L1KFz/PwAAAAAAAABA",
          "dtype": "f8"
         },
         "y": [
          170.21084793415886,
          170.04291182044477,
          169.53976624642044,
          168.70339689780133,
          167.53710454230566,
          166.04549200303205,
          164.23444599322033,
          162.11111388408295,
          159.6838754973963,
          156.9623100341731,
          153.95715826993157,
          150.68028016576218,
          147.14460806247862,
          143.3640956425778,
          139.35366286142892,
          135.1291370650271,
          130.70719052668832,
          126.10527464920402,
          121.34155109212757,
          116.43482009600051,
          111.40444628639209,
          106.27028225056971,
          101.05259018840619,
          95.77196194673442,
          90.4492377527347,
          85.10542396707947,
          79.76161018142419,
          74.43888598742446,
          69.15825774575276,
          63.94056568358919,
          58.80640164776685,
          53.77602783815841,
          48.8692968420313,
          44.10557328495484,
          39.503657407470705,
          35.08171086913181,
          30.85718507272998,
          26.846752291581186,
          23.066239871680516,
          19.530567768396935,
          16.253689664227252,
          13.24853789998581,
          10.52697243676261,
          8.099734050076014,
          5.976401940938551,
          4.165355931126796,
          2.673743391853271,
          1.5074510363575278,
          0.6710816877384157,
          0.16793611371413517,
          0
         ]
        },
        {
         "mode": "lines+markers",
         "name": "(0, 6)",
         "type": "scatter",
         "x": {
          "bdata": "AAAAAAAAAAB7FK5H4XqkP3sUrkfherQ/uR6F61G4vj97FK5H4XrEP5mZmZmZmck/uR6F61G4zj/sUbgehevRP3sUrkfhetQ/CtejcD0K1z+ZmZmZmZnZPylcj8L1KNw/uR6F61G43j+kcD0K16PgP+xRuB6F6+E/MzMzMzMz4z97FK5H4XrkP8P1KFyPwuU/CtejcD0K5z9SuB6F61HoP5mZmZmZmek/4XoUrkfh6j8pXI/C9SjsP3A9CtejcO0/uR6F61G47j8AAAAAAADwP6RwPQrXo/A/SOF6FK5H8T/sUbgehevxP5DC9Shcj/I/MzMzMzMz8z/Xo3A9CtfzP3sUrkfhevQ/H4XrUbge9T/D9Shcj8L1P2ZmZmZmZvY/CtejcD0K9z+uR+F6FK73P1K4HoXrUfg/9ihcj8L1+D+ZmZmZmZn5Pz0K16NwPfo/4XoUrkfh+j+F61G4HoX7Pylcj8L1KPw/zczMzMzM/D9wPQrXo3D9PxSuR+F6FP4/uR6F61G4/j9cj8L1KFz/PwAAAAAAAABA",
          "dtype": "f8"
         },
         "y": [
          0,
          4.177388660926216,
          8.338291077275088,
          12.46628606814481,
          16.545082323207914,
          20.55858269707044,
          24.490947737350645,
          28.326658195761187,
          32.05057627549233,
          35.64800537317954,
          39.104748079683375,
          42.407162210776555,
          45.54221464661343,
          48.49753276749912,
          51.261453282966166,
          53.82306826145591,
          56.17226817893859,
          58.29978181658732,
          60.19721285004271,
          61.85707298586944,
          63.27281151442961,
          64.43884116254029,
          65.3505601438887,
          66.00437032018006,
          66.39769140134615,
          66.52897112877089,
          66.39769140134614,
          66.00437032018007,
          65.35056014388867,
          64.43884116254027,
          63.272811514429634,
          61.857072985869515,
          60.197212850042725,
          58.29978181658734,
          56.17226817893887,
          53.82306826145591,
          51.26145328296619,
          48.497532767498846,
          45.54221464661399,
          42.40716221077703,
          39.10474807968328,
          35.648005373179544,
          32.050576275492325,
          28.326658195761574,
          24.490947737350634,
          20.558582697070424,
          16.545082323207918,
          12.466286068144809,
          8.338291077275079,
          4.177388660926229,
          0
         ]
        },
        {
         "mode": "lines+markers",
         "name": "(0, 7)",
         "type": "scatter",
         "x": {
          "bdata": "AAAAAAAAAAB7FK5H4XqkP3sUrkfherQ/uR6F61G4vj97FK5H4XrEP5mZmZmZmck/uR6F61G4zj/sUbgehevRP3sUrkfhetQ/CtejcD0K1z+ZmZmZmZnZPylcj8L1KNw/uR6F61G43j+kcD0K16PgP+xRuB6F6+E/MzMzMzMz4z97FK5H4XrkP8P1KFyPwuU/CtejcD0K5z9SuB6F61HoP5mZmZmZmek/4XoUrkfh6j8pXI/C9SjsP3A9CtejcO0/uR6F61G47j8AAAAAAADwP6RwPQrXo/A/SOF6FK5H8T/sUbgehevxP5DC9Shcj/I/MzMzMzMz8z/Xo3A9CtfzP3sUrkfhevQ/H4XrUbge9T/D9Shcj8L1P2ZmZmZmZvY/CtejcD0K9z+uR+F6FK73P1K4HoXrUfg/9ihcj8L1+D+ZmZmZmZn5Pz0K16NwPfo/4XoUrkfh+j+F61G4HoX7Pylcj8L1KPw/zczMzMzM/D9wPQrXo3D9PxSuR+F6FP4/uR6F61G4/j9cj8L1KFz/PwAAAAAAAABA",
          "dtype": "f8"
         },
         "y": [
          130.02926262024366,
          129.90097109653306,
          129.51660283343426,
          128.87767475688074,
          127.98670842409216,
          126.84722007214015,
          125.46370674096721,
          123.84162852562446,
          121.98738702777052,
          119.90830009147537,
          117.61257292303206,
          115.10926570875617,
          112.40825785857048,
          109.52020901648645,
          106.45651699185973,
          103.22927277744394,
          99.85121283176554,
          96.33566881414133,
          92.6965149707098,
          88.94811337911983,
          85.10525726797121,
          81.18311263470086,
          77.19715839231866,
          73.16312528121034,
          69.09693378709102,
          65.01463131012183,
          60.93232883315273,
          56.86613733903339,
          52.83210422792516,
          48.84614998554286,
          44.92400535227253,
          41.081149241123946,
          37.33274764953393,
          33.69359380610238,
          30.17804978847794,
          26.799989842799775,
          23.57274562838401,
          20.509053603757238,
          17.621004761673493,
          14.919996911487708,
          12.416689697211735,
          10.120962528768327,
          8.041875592473152,
          6.18763409461937,
          4.565555879276471,
          3.1820425481035435,
          2.0425541961515523,
          1.1515878633629346,
          0.51265978680941,
          0.12829152371066993,
          0
         ]
        }
       ],
       "layout": {
        "template": {
         "data": {
          "bar": [
           {
            "error_x": {
             "color": "#2a3f5f"
            },
            "error_y": {
             "color": "#2a3f5f"
            },
            "marker": {
             "line": {
              "color": "white",
              "width": 0.5
             },
             "pattern": {
              "fillmode": "overlay",
              "size": 10,
              "solidity": 0.2
             }
            },
            "type": "bar"
           }
          ],
          "barpolar": [
           {
            "marker": {
             "line": {
              "color": "white",
              "width": 0.5
             },
             "pattern": {
              "fillmode": "overlay",
              "size": 10,
              "solidity": 0.2
             }
            },
            "type": "barpolar"
           }
          ],
          "carpet": [
           {
            "aaxis": {
             "endlinecolor": "#2a3f5f",
             "gridcolor": "#C8D4E3",
             "linecolor": "#C8D4E3",
             "minorgridcolor": "#C8D4E3",
             "startlinecolor": "#2a3f5f"
            },
            "baxis": {
             "endlinecolor": "#2a3f5f",
             "gridcolor": "#C8D4E3",
             "linecolor": "#C8D4E3",
             "minorgridcolor": "#C8D4E3",
             "startlinecolor": "#2a3f5f"
            },
            "type": "carpet"
           }
          ],
          "choropleth": [
           {
            "colorbar": {
             "outlinewidth": 0,
             "ticks": ""
            },
            "type": "choropleth"
           }
          ],
          "contour": [
           {
            "colorbar": {
             "outlinewidth": 0,
             "ticks": ""
            },
            "colorscale": [
             [
              0,
              "#0d0887"
             ],
             [
              0.1111111111111111,
              "#46039f"
             ],
             [
              0.2222222222222222,
              "#7201a8"
             ],
             [
              0.3333333333333333,
              "#9c179e"
             ],
             [
              0.4444444444444444,
              "#bd3786"
             ],
             [
              0.5555555555555556,
              "#d8576b"
             ],
             [
              0.6666666666666666,
              "#ed7953"
             ],
             [
              0.7777777777777778,
              "#fb9f3a"
             ],
             [
              0.8888888888888888,
              "#fdca26"
             ],
             [
              1,
              "#f0f921"
             ]
            ],
            "type": "contour"
           }
          ],
          "contourcarpet": [
           {
            "colorbar": {
             "outlinewidth": 0,
             "ticks": ""
            },
            "type": "contourcarpet"
           }
          ],
          "heatmap": [
           {
            "colorbar": {
             "outlinewidth": 0,
             "ticks": ""
            },
            "colorscale": [
             [
              0,
              "#0d0887"
             ],
             [
              0.1111111111111111,
              "#46039f"
             ],
             [
              0.2222222222222222,
              "#7201a8"
             ],
             [
              0.3333333333333333,
              "#9c179e"
             ],
             [
              0.4444444444444444,
              "#bd3786"
             ],
             [
              0.5555555555555556,
              "#d8576b"
             ],
             [
              0.6666666666666666,
              "#ed7953"
             ],
             [
              0.7777777777777778,
              "#fb9f3a"
             ],
             [
              0.8888888888888888,
              "#fdca26"
             ],
             [
              1,
              "#f0f921"
             ]
            ],
            "type": "heatmap"
           }
          ],
          "histogram": [
           {
            "marker": {
             "pattern": {
              "fillmode": "overlay",
              "size": 10,
              "solidity": 0.2
             }
            },
            "type": "histogram"
           }
          ],
          "histogram2d": [
           {
            "colorbar": {
             "outlinewidth": 0,
             "ticks": ""
            },
            "colorscale": [
             [
              0,
              "#0d0887"
             ],
             [
              0.1111111111111111,
              "#46039f"
             ],
             [
              0.2222222222222222,
              "#7201a8"
             ],
             [
              0.3333333333333333,
              "#9c179e"
             ],
             [
              0.4444444444444444,
              "#bd3786"
             ],
             [
              0.5555555555555556,
              "#d8576b"
             ],
             [
              0.6666666666666666,
              "#ed7953"
             ],
             [
              0.7777777777777778,
              "#fb9f3a"
             ],
             [
              0.8888888888888888,
              "#fdca26"
             ],
             [
              1,
              "#f0f921"
             ]
            ],
            "type": "histogram2d"
           }
          ],
          "histogram2dcontour": [
           {
            "colorbar": {
             "outlinewidth": 0,
             "ticks": ""
            },
            "colorscale": [
             [
              0,
              "#0d0887"
             ],
             [
              0.1111111111111111,
              "#46039f"
             ],
             [
              0.2222222222222222,
              "#7201a8"
             ],
             [
              0.3333333333333333,
              "#9c179e"
             ],
             [
              0.4444444444444444,
              "#bd3786"
             ],
             [
              0.5555555555555556,
              "#d8576b"
             ],
             [
              0.6666666666666666,
              "#ed7953"
             ],
             [
              0.7777777777777778,
              "#fb9f3a"
             ],
             [
              0.8888888888888888,
              "#fdca26"
             ],
             [
              1,
              "#f0f921"
             ]
            ],
            "type": "histogram2dcontour"
           }
          ],
          "mesh3d": [
           {
            "colorbar": {
             "outlinewidth": 0,
             "ticks": ""
            },
            "type": "mesh3d"
           }
          ],
          "parcoords": [
           {
            "line": {
             "colorbar": {
              "outlinewidth": 0,
              "ticks": ""
             }
            },
            "type": "parcoords"
           }
          ],
          "pie": [
           {
            "automargin": true,
            "type": "pie"
           }
          ],
          "scatter": [
           {
            "fillpattern": {
             "fillmode": "overlay",
             "size": 10,
             "solidity": 0.2
            },
            "type": "scatter"
           }
          ],
          "scatter3d": [
           {
            "line": {
             "colorbar": {
              "outlinewidth": 0,
              "ticks": ""
             }
            },
            "marker": {
             "colorbar": {
              "outlinewidth": 0,
              "ticks": ""
             }
            },
            "type": "scatter3d"
           }
          ],
          "scattercarpet": [
           {
            "marker": {
             "colorbar": {
              "outlinewidth": 0,
              "ticks": ""
             }
            },
            "type": "scattercarpet"
           }
          ],
          "scattergeo": [
           {
            "marker": {
             "colorbar": {
              "outlinewidth": 0,
              "ticks": ""
             }
            },
            "type": "scattergeo"
           }
          ],
          "scattergl": [
           {
            "marker": {
             "colorbar": {
              "outlinewidth": 0,
              "ticks": ""
             }
            },
            "type": "scattergl"
           }
          ],
          "scattermap": [
           {
            "marker": {
             "colorbar": {
              "outlinewidth": 0,
              "ticks": ""
             }
            },
            "type": "scattermap"
           }
          ],
          "scattermapbox": [
           {
            "marker": {
             "colorbar": {
              "outlinewidth": 0,
              "ticks": ""
             }
            },
            "type": "scattermapbox"
           }
          ],
          "scatterpolar": [
           {
            "marker": {
             "colorbar": {
              "outlinewidth": 0,
              "ticks": ""
             }
            },
            "type": "scatterpolar"
           }
          ],
          "scatterpolargl": [
           {
            "marker": {
             "colorbar": {
              "outlinewidth": 0,
              "ticks": ""
             }
            },
            "type": "scatterpolargl"
           }
          ],
          "scatterternary": [
           {
            "marker": {
             "colorbar": {
              "outlinewidth": 0,
              "ticks": ""
             }
            },
            "type": "scatterternary"
           }
          ],
          "surface": [
           {
            "colorbar": {
             "outlinewidth": 0,
             "ticks": ""
            },
            "colorscale": [
             [
              0,
              "#0d0887"
             ],
             [
              0.1111111111111111,
              "#46039f"
             ],
             [
              0.2222222222222222,
              "#7201a8"
             ],
             [
              0.3333333333333333,
              "#9c179e"
             ],
             [
              0.4444444444444444,
              "#bd3786"
             ],
             [
              0.5555555555555556,
              "#d8576b"
             ],
             [
              0.6666666666666666,
              "#ed7953"
             ],
             [
              0.7777777777777778,
              "#fb9f3a"
             ],
             [
              0.8888888888888888,
              "#fdca26"
             ],
             [
              1,
              "#f0f921"
             ]
            ],
            "type": "surface"
           }
          ],
          "table": [
           {
            "cells": {
             "fill": {
              "color": "#EBF0F8"
             },
             "line": {
              "color": "white"
             }
            },
            "header": {
             "fill": {
              "color": "#C8D4E3"
             },
             "line": {
              "color": "white"
             }
            },
            "type": "table"
           }
          ]
         },
         "layout": {
          "annotationdefaults": {
           "arrowcolor": "#2a3f5f",
           "arrowhead": 0,
           "arrowwidth": 1
          },
          "autotypenumbers": "strict",
          "coloraxis": {
           "colorbar": {
            "outlinewidth": 0,
            "ticks": ""
           }
          },
          "colorscale": {
           "diverging": [
            [
             0,
             "#8e0152"
            ],
            [
             0.1,
             "#c51b7d"
            ],
            [
             0.2,
             "#de77ae"
            ],
            [
             0.3,
             "#f1b6da"
            ],
            [
             0.4,
             "#fde0ef"
            ],
            [
             0.5,
             "#f7f7f7"
            ],
            [
             0.6,
             "#e6f5d0"
            ],
            [
             0.7,
             "#b8e186"
            ],
            [
             0.8,
             "#7fbc41"
            ],
            [
             0.9,
             "#4d9221"
            ],
            [
             1,
             "#276419"
            ]
           ],
           "sequential": [
            [
             0,
             "#0d0887"
            ],
            [
             0.1111111111111111,
             "#46039f"
            ],
            [
             0.2222222222222222,
             "#7201a8"
            ],
            [
             0.3333333333333333,
             "#9c179e"
            ],
            [
             0.4444444444444444,
             "#bd3786"
            ],
            [
             0.5555555555555556,
             "#d8576b"
            ],
            [
             0.6666666666666666,
             "#ed7953"
            ],
            [
             0.7777777777777778,
             "#fb9f3a"
            ],
            [
             0.8888888888888888,
             "#fdca26"
            ],
            [
             1,
             "#f0f921"
            ]
           ],
           "sequentialminus": [
            [
             0,
             "#0d0887"
            ],
            [
             0.1111111111111111,
             "#46039f"
            ],
            [
             0.2222222222222222,
             "#7201a8"
            ],
            [
             0.3333333333333333,
             "#9c179e"
            ],
            [
             0.4444444444444444,
             "#bd3786"
            ],
            [
             0.5555555555555556,
             "#d8576b"
            ],
            [
             0.6666666666666666,
             "#ed7953"
            ],
            [
             0.7777777777777778,
             "#fb9f3a"
            ],
            [
             0.8888888888888888,
             "#fdca26"
            ],
            [
             1,
             "#f0f921"
            ]
           ]
          },
          "colorway": [
           "#636efa",
           "#EF553B",
           "#00cc96",
           "#ab63fa",
           "#FFA15A",
           "#19d3f3",
           "#FF6692",
           "#B6E880",
           "#FF97FF",
           "#FECB52"
          ],
          "font": {
           "color": "#2a3f5f"
          },
          "geo": {
           "bgcolor": "white",
           "lakecolor": "white",
           "landcolor": "white",
           "showlakes": true,
           "showland": true,
           "subunitcolor": "#C8D4E3"
          },
          "hoverlabel": {
           "align": "left"
          },
          "hovermode": "closest",
          "mapbox": {
           "style": "light"
          },
          "paper_bgcolor": "white",
          "plot_bgcolor": "white",
          "polar": {
           "angularaxis": {
            "gridcolor": "#EBF0F8",
            "linecolor": "#EBF0F8",
            "ticks": ""
           },
           "bgcolor": "white",
           "radialaxis": {
            "gridcolor": "#EBF0F8",
            "linecolor": "#EBF0F8",
            "ticks": ""
           }
          },
          "scene": {
           "xaxis": {
            "backgroundcolor": "white",
            "gridcolor": "#DFE8F3",
            "gridwidth": 2,
            "linecolor": "#EBF0F8",
            "showbackground": true,
            "ticks": "",
            "zerolinecolor": "#EBF0F8"
           },
           "yaxis": {
            "backgroundcolor": "white",
            "gridcolor": "#DFE8F3",
            "gridwidth": 2,
            "linecolor": "#EBF0F8",
            "showbackground": true,
            "ticks": "",
            "zerolinecolor": "#EBF0F8"
           },
           "zaxis": {
            "backgroundcolor": "white",
            "gridcolor": "#DFE8F3",
            "gridwidth": 2,
            "linecolor": "#EBF0F8",
            "showbackground": true,
            "ticks": "",
            "zerolinecolor": "#EBF0F8"
           }
          },
          "shapedefaults": {
           "line": {
            "color": "#2a3f5f"
           }
          },
          "ternary": {
           "aaxis": {
            "gridcolor": "#DFE8F3",
            "linecolor": "#A2B1C6",
            "ticks": ""
           },
           "baxis": {
            "gridcolor": "#DFE8F3",
            "linecolor": "#A2B1C6",
            "ticks": ""
           },
           "bgcolor": "white",
           "caxis": {
            "gridcolor": "#DFE8F3",
            "linecolor": "#A2B1C6",
            "ticks": ""
           }
          },
          "title": {
           "x": 0.05
          },
          "xaxis": {
           "automargin": true,
           "gridcolor": "#EBF0F8",
           "linecolor": "#EBF0F8",
           "ticks": "",
           "title": {
            "standoff": 15
           },
           "zerolinecolor": "#EBF0F8",
           "zerolinewidth": 2
          },
          "yaxis": {
           "automargin": true,
           "gridcolor": "#EBF0F8",
           "linecolor": "#EBF0F8",
           "ticks": "",
           "title": {
            "standoff": 15
           },
           "zerolinecolor": "#EBF0F8",
           "zerolinewidth": 2
          }
         }
        },
        "title": {
         "text": "Tracked c-coefficients for transitions from state 0"
        },
        "xaxis": {
         "title": {
          "text": "time [µs]"
         }
        },
        "yaxis": {
         "title": {
          "text": "c_coef (mean abs)"
         }
        }
       }
      }
     },
     "metadata": {},
     "output_type": "display_data"
    },
    {
     "name": "stdout",
     "output_type": "stream",
     "text": [
      "Done: c-coef tracking (from state 0) plotted.\n"
     ]
    }
   ],
   "source": [
    "# --- Collect c-coefs over t_list and plot per-transition (only transitions from state 0) ---\n",
    "# Define args for tracking (example Ep and parameters)\n",
    "Ep = params.get('Ep', 0.0)\n",
    "\n",
    "args_tracking = {\n",
    "    'args_H': lambda t: make_H_func(Ep)(t),\n",
    "    'n_qubits': n_qubits,\n",
    "    'lambda_2': lambda_2,\n",
    "    'T': T_K\n",
    "}\n",
    "\n",
    "c_coef_tracking_all = {}\n",
    "for t in t_list:\n",
    "    cct = c_ops_gen_new_with_tracking(t, args_tracking)\n",
    "    for key, vals in cct.items():\n",
    "        # consider only transitions that originate from state 0 (i.e., key[0] == 0)\n",
    "        try:\n",
    "            a_idx = key[0]\n",
    "        except Exception:\n",
    "            # if key isn't indexable, skip\n",
    "            continue\n",
    "\n",
    "\n",
    "        # convert to real scalars (abs) and append\n",
    "        scalars = [float(np.abs(v)) for v in vals]\n",
    "        c_coef_tracking_all.setdefault(key, []).append(np.mean(scalars) if scalars else 0.0)\n",
    "\n",
    "if not c_coef_tracking_all:\n",
    "    print('Warning: no transitions from state 0 were found in the tracking results.')\n",
    "\n",
    "# Build plot\n",
    "fig = go.Figure()\n",
    "for key, series in sorted(c_coef_tracking_all.items()):\n",
    "    fig.add_trace(go.Scatter(x=t_list*params['to_time_units'], y=series,\n",
    "                             mode='lines+markers', name=f\"{key}\"))\n",
    "fig.update_layout(title='Tracked c-coefficients for transitions from state 0',\n",
    "                  xaxis_title=params['time_unit_label'], yaxis_title='c_coef (mean abs)', template='plotly_white')\n",
    "fig.show()\n",
    "\n",
    "print('Done: c-coef tracking (from state 0) plotted.')"
   ]
  },
  {
   "cell_type": "code",
   "execution_count": 159,
   "id": "c0c1b52d",
   "metadata": {},
   "outputs": [
    {
     "name": "stderr",
     "output_type": "stream",
     "text": [
      "β=0.1:   0%|          | 0/8 [00:00<?, ?it/s]/Users/chenscheim/miniconda3/lib/python3.12/site-packages/qutip/solver/options.py:16: FutureWarning:\n",
      "\n",
      "Dedicated options class are no longer needed, options should be passed as dict to solvers.\n",
      "\n",
      "β=0.1:  12%|█▎        | 1/8 [00:00<00:01,  6.95it/s]/Users/chenscheim/miniconda3/lib/python3.12/site-packages/qutip/solver/options.py:16: FutureWarning:\n",
      "\n",
      "Dedicated options class are no longer needed, options should be passed as dict to solvers.\n",
      "\n",
      "                                                     "
     ]
    },
    {
     "data": {
      "application/vnd.plotly.v1+json": {
       "config": {
        "plotlyServerURL": "https://plot.ly"
       },
       "data": [
        {
         "mode": "lines+markers",
         "name": "β = Ep/(kB T) = 0.1",
         "type": "scatter",
         "x": {
          "bdata": "g+ezAlYPuUBSTOvT8KK5QJwkUIy6ELpA/n6icmGJukDAaFtV1Q67QFqUUAqPo7tAnWQxRKonvEDLsEBswJO8QA==",
          "dtype": "f8"
         },
         "y": {
          "bdata": "qQkKbMDA7T8uvIk7hp3tP9nmwCF/gu0/GLYAtP1j7T+yV/xiRkHtP5CZ0TVkGe0/3GePQ+z07D/LLeTwXNbsPw==",
          "dtype": "f8"
         }
        },
        {
         "mode": "lines+markers",
         "name": "β = Ep/(kB T) = 0.2",
         "type": "scatter",
         "x": {
          "bdata": "F6LVWi0Us0Bg4O6lWFmzQEFM/VHNirNAke8rTDy/s0BObboP8/azQEGB1+tKMrRAe6NtbKZktEBQmkDmQIy0QA==",
          "dtype": "f8"
         },
         "y": {
          "bdata": "ooPaPPXV7j8K651NLMjuP2JRSaUdvu4/5gTz6EWz7j/bOsDIi6fuP8PEt5PSmu4/7w55S9aP7j+QBZ+TE4fuPw==",
          "dtype": "f8"
         }
        },
        {
         "mode": "lines+markers",
         "name": "β = Ep/(kB T) = 0.5",
         "type": "scatter",
         "x": {
          "bdata": "l77zGVbXqkAXqaKRzvyqQMeHS13FFqtAt5LG+I8xq0CdFvnlN02rQF/uQEPHaatAb7cpNk6Bq0D5W5CnXJOrQA==",
          "dtype": "f8"
         },
         "y": {
          "bdata": "w9uOwwSl7z9/1dAROaLvPxEZEwZFoO8/uEzefj2e7z98QEVrIZzvPy4x/6Xvme8/xXt0yR2Y7z+d4LtbtpbvPw==",
          "dtype": "f8"
         }
        },
        {
         "mode": "lines+markers",
         "name": "β = Ep/(kB T) = 1",
         "type": "scatter",
         "x": {
          "bdata": "QHLFiZcwpkDSFECKCjqmQAf1XOWFQKZAk/pdwCdHpkCoVaAg8U2mQNBfDxTjVKZA8Nk9Yo9apkCTX8l04l6mQA==",
          "dtype": "f8"
         },
         "y": {
          "bdata": "uqZ26i/o7z9laB4FmufvPzt2ie8y5+8/zTn7Pcnm7z9EUSPUXObvPyQmmprt5e8/rXRnlJLl7z/b4yQETeXvPw==",
          "dtype": "f8"
         }
        },
        {
         "mode": "lines+markers",
         "name": "β = Ep/(kB T) = 2",
         "type": "scatter",
         "x": {
          "bdata": "LVxFhPWEpEBcibTHCoakQJhbGWDIhqRADKmm3YmHpEC1nDRVT4ikQJvLDtwYiaRAgXujD72JpED7Acn6OYqkQA==",
          "dtype": "f8"
         },
         "y": {
          "bdata": "/sYmQkH97z/SDbSfMf3vP1+8ue0m/e8/OSiZAhz97z8o8xfdEP3vP9RO9nsF/e8/T1SjNfz87z/C1+wm9fzvPw==",
          "dtype": "f8"
         }
        },
        {
         "mode": "lines+markers",
         "name": "β = Ep/(kB T) = 5",
         "type": "scatter",
         "x": {
          "bdata": "UttgzURKpEBo+fF4RUqkQGRAN+5FSqRAde3aZUZKpEBOQOnfRkqkQB64blxHSqRARa3bwUdKpEDx0v8OSEqkQA==",
          "dtype": "f8"
         },
         "y": {
          "bdata": "2Pg1kf3/7z+Cwq6H/f/vP9RJKYH9/+8/NiaBev3/7z8Ld8Jz/f/vP2XL0mz9/+8/iGYlZ/3/7z8z5PNi/f/vPw==",
          "dtype": "f8"
         }
        },
        {
         "mode": "lines+markers",
         "name": "β = Ep/(kB T) = 10",
         "type": "scatter",
         "x": {
          "bdata": "NsI0HiBKpEC9wDYeIEqkQLkdOB4gSqRAqoE5HiBKpEDh7DoeIEqkQIZfPB4gSqRAKY49HiBKpEDJdj4eIEqkQA==",
          "dtype": "f8"
         },
         "y": {
          "bdata": "wmZ/Q///7z/48HxD///vP9oNfkP//+8/yDeJQ///7z9+D4xD///vPw32c0P//+8/bSxtQ///7z/NqXpD///vPw==",
          "dtype": "f8"
         }
        },
        {
         "mode": "lines+markers",
         "name": "β = Ep/(kB T) = 20",
         "type": "scatter",
         "x": {
          "bdata": "CZzHHSBKpECHnMcdIEqkQJKcxx0gSqRAwZzHHSBKpEDWnMcdIEqkQBKdxx0gSqRAOZ/HHSBKpEDBoMcdIEqkQA==",
          "dtype": "f8"
         },
         "y": {
          "bdata": "deALRP//7z+KSphD///vP7/6hUP//+8/rNefQ///7z8lQpZD///vP3pchkP//+8/WeBZQ///7z/gpedD///vPw==",
          "dtype": "f8"
         }
        },
        {
         "mode": "lines+markers",
         "name": "β = Ep/(kB T) = 50",
         "type": "scatter",
         "x": {
          "bdata": "CJzHHSBKpEASnccdIEqkQKSdxx0gSqRAWJ7HHSBKpEA5n8cdIEqkQO2fxx0gSqRAwaDHHSBKpEABrscdIEqkQA==",
          "dtype": "f8"
         },
         "y": {
          "bdata": "R0M0RP//7z96XIZD///vP/tQgkP//+8/1YpXQ///7z9Z4FlD///vP7vi5EP//+8/4KXnQ///7z/4LJBB///vPw==",
          "dtype": "f8"
         }
        }
       ],
       "layout": {
        "template": {
         "data": {
          "bar": [
           {
            "error_x": {
             "color": "rgb(36,36,36)"
            },
            "error_y": {
             "color": "rgb(36,36,36)"
            },
            "marker": {
             "line": {
              "color": "white",
              "width": 0.5
             },
             "pattern": {
              "fillmode": "overlay",
              "size": 10,
              "solidity": 0.2
             }
            },
            "type": "bar"
           }
          ],
          "barpolar": [
           {
            "marker": {
             "line": {
              "color": "white",
              "width": 0.5
             },
             "pattern": {
              "fillmode": "overlay",
              "size": 10,
              "solidity": 0.2
             }
            },
            "type": "barpolar"
           }
          ],
          "carpet": [
           {
            "aaxis": {
             "endlinecolor": "rgb(36,36,36)",
             "gridcolor": "white",
             "linecolor": "white",
             "minorgridcolor": "white",
             "startlinecolor": "rgb(36,36,36)"
            },
            "baxis": {
             "endlinecolor": "rgb(36,36,36)",
             "gridcolor": "white",
             "linecolor": "white",
             "minorgridcolor": "white",
             "startlinecolor": "rgb(36,36,36)"
            },
            "type": "carpet"
           }
          ],
          "choropleth": [
           {
            "colorbar": {
             "outlinewidth": 1,
             "tickcolor": "rgb(36,36,36)",
             "ticks": "outside"
            },
            "type": "choropleth"
           }
          ],
          "contour": [
           {
            "colorbar": {
             "outlinewidth": 1,
             "tickcolor": "rgb(36,36,36)",
             "ticks": "outside"
            },
            "colorscale": [
             [
              0,
              "#440154"
             ],
             [
              0.1111111111111111,
              "#482878"
             ],
             [
              0.2222222222222222,
              "#3e4989"
             ],
             [
              0.3333333333333333,
              "#31688e"
             ],
             [
              0.4444444444444444,
              "#26828e"
             ],
             [
              0.5555555555555556,
              "#1f9e89"
             ],
             [
              0.6666666666666666,
              "#35b779"
             ],
             [
              0.7777777777777778,
              "#6ece58"
             ],
             [
              0.8888888888888888,
              "#b5de2b"
             ],
             [
              1,
              "#fde725"
             ]
            ],
            "type": "contour"
           }
          ],
          "contourcarpet": [
           {
            "colorbar": {
             "outlinewidth": 1,
             "tickcolor": "rgb(36,36,36)",
             "ticks": "outside"
            },
            "type": "contourcarpet"
           }
          ],
          "heatmap": [
           {
            "colorbar": {
             "outlinewidth": 1,
             "tickcolor": "rgb(36,36,36)",
             "ticks": "outside"
            },
            "colorscale": [
             [
              0,
              "#440154"
             ],
             [
              0.1111111111111111,
              "#482878"
             ],
             [
              0.2222222222222222,
              "#3e4989"
             ],
             [
              0.3333333333333333,
              "#31688e"
             ],
             [
              0.4444444444444444,
              "#26828e"
             ],
             [
              0.5555555555555556,
              "#1f9e89"
             ],
             [
              0.6666666666666666,
              "#35b779"
             ],
             [
              0.7777777777777778,
              "#6ece58"
             ],
             [
              0.8888888888888888,
              "#b5de2b"
             ],
             [
              1,
              "#fde725"
             ]
            ],
            "type": "heatmap"
           }
          ],
          "histogram": [
           {
            "marker": {
             "line": {
              "color": "white",
              "width": 0.6
             }
            },
            "type": "histogram"
           }
          ],
          "histogram2d": [
           {
            "colorbar": {
             "outlinewidth": 1,
             "tickcolor": "rgb(36,36,36)",
             "ticks": "outside"
            },
            "colorscale": [
             [
              0,
              "#440154"
             ],
             [
              0.1111111111111111,
              "#482878"
             ],
             [
              0.2222222222222222,
              "#3e4989"
             ],
             [
              0.3333333333333333,
              "#31688e"
             ],
             [
              0.4444444444444444,
              "#26828e"
             ],
             [
              0.5555555555555556,
              "#1f9e89"
             ],
             [
              0.6666666666666666,
              "#35b779"
             ],
             [
              0.7777777777777778,
              "#6ece58"
             ],
             [
              0.8888888888888888,
              "#b5de2b"
             ],
             [
              1,
              "#fde725"
             ]
            ],
            "type": "histogram2d"
           }
          ],
          "histogram2dcontour": [
           {
            "colorbar": {
             "outlinewidth": 1,
             "tickcolor": "rgb(36,36,36)",
             "ticks": "outside"
            },
            "colorscale": [
             [
              0,
              "#440154"
             ],
             [
              0.1111111111111111,
              "#482878"
             ],
             [
              0.2222222222222222,
              "#3e4989"
             ],
             [
              0.3333333333333333,
              "#31688e"
             ],
             [
              0.4444444444444444,
              "#26828e"
             ],
             [
              0.5555555555555556,
              "#1f9e89"
             ],
             [
              0.6666666666666666,
              "#35b779"
             ],
             [
              0.7777777777777778,
              "#6ece58"
             ],
             [
              0.8888888888888888,
              "#b5de2b"
             ],
             [
              1,
              "#fde725"
             ]
            ],
            "type": "histogram2dcontour"
           }
          ],
          "mesh3d": [
           {
            "colorbar": {
             "outlinewidth": 1,
             "tickcolor": "rgb(36,36,36)",
             "ticks": "outside"
            },
            "type": "mesh3d"
           }
          ],
          "parcoords": [
           {
            "line": {
             "colorbar": {
              "outlinewidth": 1,
              "tickcolor": "rgb(36,36,36)",
              "ticks": "outside"
             }
            },
            "type": "parcoords"
           }
          ],
          "pie": [
           {
            "automargin": true,
            "type": "pie"
           }
          ],
          "scatter": [
           {
            "fillpattern": {
             "fillmode": "overlay",
             "size": 10,
             "solidity": 0.2
            },
            "type": "scatter"
           }
          ],
          "scatter3d": [
           {
            "line": {
             "colorbar": {
              "outlinewidth": 1,
              "tickcolor": "rgb(36,36,36)",
              "ticks": "outside"
             }
            },
            "marker": {
             "colorbar": {
              "outlinewidth": 1,
              "tickcolor": "rgb(36,36,36)",
              "ticks": "outside"
             }
            },
            "type": "scatter3d"
           }
          ],
          "scattercarpet": [
           {
            "marker": {
             "colorbar": {
              "outlinewidth": 1,
              "tickcolor": "rgb(36,36,36)",
              "ticks": "outside"
             }
            },
            "type": "scattercarpet"
           }
          ],
          "scattergeo": [
           {
            "marker": {
             "colorbar": {
              "outlinewidth": 1,
              "tickcolor": "rgb(36,36,36)",
              "ticks": "outside"
             }
            },
            "type": "scattergeo"
           }
          ],
          "scattergl": [
           {
            "marker": {
             "colorbar": {
              "outlinewidth": 1,
              "tickcolor": "rgb(36,36,36)",
              "ticks": "outside"
             }
            },
            "type": "scattergl"
           }
          ],
          "scattermap": [
           {
            "marker": {
             "colorbar": {
              "outlinewidth": 1,
              "tickcolor": "rgb(36,36,36)",
              "ticks": "outside"
             }
            },
            "type": "scattermap"
           }
          ],
          "scattermapbox": [
           {
            "marker": {
             "colorbar": {
              "outlinewidth": 1,
              "tickcolor": "rgb(36,36,36)",
              "ticks": "outside"
             }
            },
            "type": "scattermapbox"
           }
          ],
          "scatterpolar": [
           {
            "marker": {
             "colorbar": {
              "outlinewidth": 1,
              "tickcolor": "rgb(36,36,36)",
              "ticks": "outside"
             }
            },
            "type": "scatterpolar"
           }
          ],
          "scatterpolargl": [
           {
            "marker": {
             "colorbar": {
              "outlinewidth": 1,
              "tickcolor": "rgb(36,36,36)",
              "ticks": "outside"
             }
            },
            "type": "scatterpolargl"
           }
          ],
          "scatterternary": [
           {
            "marker": {
             "colorbar": {
              "outlinewidth": 1,
              "tickcolor": "rgb(36,36,36)",
              "ticks": "outside"
             }
            },
            "type": "scatterternary"
           }
          ],
          "surface": [
           {
            "colorbar": {
             "outlinewidth": 1,
             "tickcolor": "rgb(36,36,36)",
             "ticks": "outside"
            },
            "colorscale": [
             [
              0,
              "#440154"
             ],
             [
              0.1111111111111111,
              "#482878"
             ],
             [
              0.2222222222222222,
              "#3e4989"
             ],
             [
              0.3333333333333333,
              "#31688e"
             ],
             [
              0.4444444444444444,
              "#26828e"
             ],
             [
              0.5555555555555556,
              "#1f9e89"
             ],
             [
              0.6666666666666666,
              "#35b779"
             ],
             [
              0.7777777777777778,
              "#6ece58"
             ],
             [
              0.8888888888888888,
              "#b5de2b"
             ],
             [
              1,
              "#fde725"
             ]
            ],
            "type": "surface"
           }
          ],
          "table": [
           {
            "cells": {
             "fill": {
              "color": "rgb(237,237,237)"
             },
             "line": {
              "color": "white"
             }
            },
            "header": {
             "fill": {
              "color": "rgb(217,217,217)"
             },
             "line": {
              "color": "white"
             }
            },
            "type": "table"
           }
          ]
         },
         "layout": {
          "annotationdefaults": {
           "arrowhead": 0,
           "arrowwidth": 1
          },
          "autotypenumbers": "strict",
          "coloraxis": {
           "colorbar": {
            "outlinewidth": 1,
            "tickcolor": "rgb(36,36,36)",
            "ticks": "outside"
           }
          },
          "colorscale": {
           "diverging": [
            [
             0,
             "rgb(103,0,31)"
            ],
            [
             0.1,
             "rgb(178,24,43)"
            ],
            [
             0.2,
             "rgb(214,96,77)"
            ],
            [
             0.3,
             "rgb(244,165,130)"
            ],
            [
             0.4,
             "rgb(253,219,199)"
            ],
            [
             0.5,
             "rgb(247,247,247)"
            ],
            [
             0.6,
             "rgb(209,229,240)"
            ],
            [
             0.7,
             "rgb(146,197,222)"
            ],
            [
             0.8,
             "rgb(67,147,195)"
            ],
            [
             0.9,
             "rgb(33,102,172)"
            ],
            [
             1,
             "rgb(5,48,97)"
            ]
           ],
           "sequential": [
            [
             0,
             "#440154"
            ],
            [
             0.1111111111111111,
             "#482878"
            ],
            [
             0.2222222222222222,
             "#3e4989"
            ],
            [
             0.3333333333333333,
             "#31688e"
            ],
            [
             0.4444444444444444,
             "#26828e"
            ],
            [
             0.5555555555555556,
             "#1f9e89"
            ],
            [
             0.6666666666666666,
             "#35b779"
            ],
            [
             0.7777777777777778,
             "#6ece58"
            ],
            [
             0.8888888888888888,
             "#b5de2b"
            ],
            [
             1,
             "#fde725"
            ]
           ],
           "sequentialminus": [
            [
             0,
             "#440154"
            ],
            [
             0.1111111111111111,
             "#482878"
            ],
            [
             0.2222222222222222,
             "#3e4989"
            ],
            [
             0.3333333333333333,
             "#31688e"
            ],
            [
             0.4444444444444444,
             "#26828e"
            ],
            [
             0.5555555555555556,
             "#1f9e89"
            ],
            [
             0.6666666666666666,
             "#35b779"
            ],
            [
             0.7777777777777778,
             "#6ece58"
            ],
            [
             0.8888888888888888,
             "#b5de2b"
            ],
            [
             1,
             "#fde725"
            ]
           ]
          },
          "colorway": [
           "#1F77B4",
           "#FF7F0E",
           "#2CA02C",
           "#D62728",
           "#9467BD",
           "#8C564B",
           "#E377C2",
           "#7F7F7F",
           "#BCBD22",
           "#17BECF"
          ],
          "font": {
           "color": "rgb(36,36,36)"
          },
          "geo": {
           "bgcolor": "white",
           "lakecolor": "white",
           "landcolor": "white",
           "showlakes": true,
           "showland": true,
           "subunitcolor": "white"
          },
          "hoverlabel": {
           "align": "left"
          },
          "hovermode": "closest",
          "mapbox": {
           "style": "light"
          },
          "paper_bgcolor": "white",
          "plot_bgcolor": "white",
          "polar": {
           "angularaxis": {
            "gridcolor": "rgb(232,232,232)",
            "linecolor": "rgb(36,36,36)",
            "showgrid": false,
            "showline": true,
            "ticks": "outside"
           },
           "bgcolor": "white",
           "radialaxis": {
            "gridcolor": "rgb(232,232,232)",
            "linecolor": "rgb(36,36,36)",
            "showgrid": false,
            "showline": true,
            "ticks": "outside"
           }
          },
          "scene": {
           "xaxis": {
            "backgroundcolor": "white",
            "gridcolor": "rgb(232,232,232)",
            "gridwidth": 2,
            "linecolor": "rgb(36,36,36)",
            "showbackground": true,
            "showgrid": false,
            "showline": true,
            "ticks": "outside",
            "zeroline": false,
            "zerolinecolor": "rgb(36,36,36)"
           },
           "yaxis": {
            "backgroundcolor": "white",
            "gridcolor": "rgb(232,232,232)",
            "gridwidth": 2,
            "linecolor": "rgb(36,36,36)",
            "showbackground": true,
            "showgrid": false,
            "showline": true,
            "ticks": "outside",
            "zeroline": false,
            "zerolinecolor": "rgb(36,36,36)"
           },
           "zaxis": {
            "backgroundcolor": "white",
            "gridcolor": "rgb(232,232,232)",
            "gridwidth": 2,
            "linecolor": "rgb(36,36,36)",
            "showbackground": true,
            "showgrid": false,
            "showline": true,
            "ticks": "outside",
            "zeroline": false,
            "zerolinecolor": "rgb(36,36,36)"
           }
          },
          "shapedefaults": {
           "fillcolor": "black",
           "line": {
            "width": 0
           },
           "opacity": 0.3
          },
          "ternary": {
           "aaxis": {
            "gridcolor": "rgb(232,232,232)",
            "linecolor": "rgb(36,36,36)",
            "showgrid": false,
            "showline": true,
            "ticks": "outside"
           },
           "baxis": {
            "gridcolor": "rgb(232,232,232)",
            "linecolor": "rgb(36,36,36)",
            "showgrid": false,
            "showline": true,
            "ticks": "outside"
           },
           "bgcolor": "white",
           "caxis": {
            "gridcolor": "rgb(232,232,232)",
            "linecolor": "rgb(36,36,36)",
            "showgrid": false,
            "showline": true,
            "ticks": "outside"
           }
          },
          "title": {
           "x": 0.05
          },
          "xaxis": {
           "automargin": true,
           "gridcolor": "rgb(232,232,232)",
           "linecolor": "rgb(36,36,36)",
           "showgrid": false,
           "showline": true,
           "ticks": "outside",
           "title": {
            "standoff": 15
           },
           "zeroline": false,
           "zerolinecolor": "rgb(36,36,36)"
          },
          "yaxis": {
           "automargin": true,
           "gridcolor": "rgb(232,232,232)",
           "linecolor": "rgb(36,36,36)",
           "showgrid": false,
           "showline": true,
           "ticks": "outside",
           "title": {
            "standoff": 15
           },
           "zeroline": false,
           "zerolinecolor": "rgb(36,36,36)"
          }
         }
        },
        "title": {
         "text": "Final fidelity vs summed collapse-coefs (curves = Ep/T families) — IBM"
        },
        "xaxis": {
         "title": {
          "text": "∑ |c_coef| over sampled times (proxy; sqrt(rate)), log scale"
         },
         "type": "log"
        },
        "yaxis": {
         "title": {
          "text": "Final fidelity to |1_L|"
         }
        }
       }
      }
     },
     "metadata": {},
     "output_type": "display_data"
    },
    {
     "name": "stdout",
     "output_type": "stream",
     "text": [
      "\n",
      "β = 0.1:\n",
      "  T=0.008 K | Ep=1.047e+08 rad/s (~16.7 MHz) | sum_coef=6.415e+03 | fid=0.9297792539730853\n",
      "  T=0.01 K | Ep=1.309e+08 rad/s (~20.8 MHz) | sum_coef=6.563e+03 | fid=0.9254790461399176\n",
      "  T=0.012 K | Ep=1.571e+08 rad/s (~25 MHz) | sum_coef=6.673e+03 | fid=0.9221797618149267\n",
      "  T=0.015 K | Ep=1.964e+08 rad/s (~31.3 MHz) | sum_coef=6.793e+03 | fid=0.9184559360198277\n",
      "  T=0.02 K | Ep=2.618e+08 rad/s (~41.7 MHz) | sum_coef=6.927e+03 | fid=0.9142181332888326\n",
      "  T=0.03 K | Ep=3.928e+08 rad/s (~62.5 MHz) | sum_coef=7.076e+03 | fid=0.9093495417735529\n",
      "  T=0.05 K | Ep=6.546e+08 rad/s (~104 MHz) | sum_coef=7.208e+03 | fid=0.9048978156599747\n",
      "  T=0.1 K | Ep=1.309e+09 rad/s (~208 MHz) | sum_coef=7.316e+03 | fid=0.9011673645886104\n",
      "\n",
      "β = 0.2:\n",
      "  T=0.008 K | Ep=2.095e+08 rad/s (~33.3 MHz) | sum_coef=4.884e+03 | fid=0.9636179150148687\n",
      "  T=0.01 K | Ep=2.618e+08 rad/s (~41.7 MHz) | sum_coef=4.953e+03 | fid=0.961935187907643\n",
      "  T=0.012 K | Ep=3.142e+08 rad/s (~50 MHz) | sum_coef=5.003e+03 | fid=0.9607074955224955\n",
      "  T=0.015 K | Ep=3.928e+08 rad/s (~62.5 MHz) | sum_coef=5.055e+03 | fid=0.9593839216032876\n",
      "  T=0.02 K | Ep=5.237e+08 rad/s (~83.3 MHz) | sum_coef=5.111e+03 | fid=0.9579523964801767\n",
      "  T=0.03 K | Ep=7.855e+08 rad/s (~125 MHz) | sum_coef=5.170e+03 | fid=0.9563992390741521\n",
      "  T=0.05 K | Ep=1.309e+09 rad/s (~208 MHz) | sum_coef=5.221e+03 | fid=0.955058238418557\n",
      "  T=0.1 K | Ep=2.618e+09 rad/s (~417 MHz) | sum_coef=5.260e+03 | fid=0.9539888270593782\n",
      "\n",
      "β = 0.5:\n",
      "  T=0.008 K | Ep=5.237e+08 rad/s (~83.3 MHz) | sum_coef=3.436e+03 | fid=0.9888938731663689\n",
      "  T=0.01 K | Ep=6.546e+08 rad/s (~104 MHz) | sum_coef=3.454e+03 | fid=0.9885526035274522\n",
      "  T=0.012 K | Ep=7.855e+08 rad/s (~125 MHz) | sum_coef=3.467e+03 | fid=0.9883141630787425\n",
      "  T=0.015 K | Ep=9.819e+08 rad/s (~156 MHz) | sum_coef=3.481e+03 | fid=0.9880664327523823\n",
      "  T=0.02 K | Ep=1.309e+09 rad/s (~208 MHz) | sum_coef=3.495e+03 | fid=0.9878089041831255\n",
      "  T=0.03 K | Ep=1.964e+09 rad/s (~313 MHz) | sum_coef=3.509e+03 | fid=0.9875410310865271\n",
      "  T=0.05 K | Ep=3.273e+09 rad/s (~521 MHz) | sum_coef=3.521e+03 | fid=0.9873188910167917\n",
      "  T=0.1 K | Ep=6.546e+09 rad/s (~1.04e+03 MHz) | sum_coef=3.530e+03 | fid=0.9871475021054895\n",
      "\n",
      "β = 1.0:\n",
      "  T=0.008 K | Ep=1.047e+09 rad/s (~167 MHz) | sum_coef=2.840e+03 | fid=0.9970931605687021\n",
      "  T=0.01 K | Ep=1.309e+09 rad/s (~208 MHz) | sum_coef=2.845e+03 | fid=0.9970216846443348\n",
      "  T=0.012 K | Ep=1.571e+09 rad/s (~250 MHz) | sum_coef=2.848e+03 | fid=0.9969725302177673\n",
      "  T=0.015 K | Ep=1.964e+09 rad/s (~313 MHz) | sum_coef=2.852e+03 | fid=0.9969221315930611\n",
      "  T=0.02 K | Ep=2.618e+09 rad/s (~417 MHz) | sum_coef=2.855e+03 | fid=0.9968704360312945\n",
      "  T=0.03 K | Ep=3.928e+09 rad/s (~625 MHz) | sum_coef=2.858e+03 | fid=0.9968173999379286\n",
      "  T=0.05 K | Ep=6.546e+09 rad/s (~1.04e+03 MHz) | sum_coef=2.861e+03 | fid=0.9967739962118195\n",
      "  T=0.1 K | Ep=1.309e+10 rad/s (~2.08e+03 MHz) | sum_coef=2.863e+03 | fid=0.9967408257426728\n",
      "\n",
      "β = 2.0:\n",
      "  T=0.008 K | Ep=2.095e+09 rad/s (~333 MHz) | sum_coef=2.626e+03 | fid=0.9996649066945051\n",
      "  T=0.01 K | Ep=2.618e+09 rad/s (~417 MHz) | sum_coef=2.627e+03 | fid=0.9996574515538958\n",
      "  T=0.012 K | Ep=3.142e+09 rad/s (~500 MHz) | sum_coef=2.627e+03 | fid=0.9996523516728181\n",
      "  T=0.015 K | Ep=3.928e+09 rad/s (~625 MHz) | sum_coef=2.628e+03 | fid=0.9996471453425847\n",
      "  T=0.02 K | Ep=5.237e+09 rad/s (~833 MHz) | sum_coef=2.628e+03 | fid=0.9996418302758672\n",
      "  T=0.03 K | Ep=7.855e+09 rad/s (~1.25e+03 MHz) | sum_coef=2.629e+03 | fid=0.9996364041457704\n",
      "  T=0.05 K | Ep=1.309e+10 rad/s (~2.08e+03 MHz) | sum_coef=2.629e+03 | fid=0.9996319816224374\n",
      "  T=0.1 K | Ep=2.618e+10 rad/s (~4.17e+03 MHz) | sum_coef=2.629e+03 | fid=0.9996286163575336\n",
      "\n",
      "β = 5.0:\n",
      "  T=0.008 K | Ep=5.237e+09 rad/s (~833 MHz) | sum_coef=2.597e+03 | fid=0.9999988399647703\n",
      "  T=0.01 K | Ep=6.546e+09 rad/s (~1.04e+03 MHz) | sum_coef=2.597e+03 | fid=0.9999988222171654\n",
      "  T=0.012 K | Ep=7.855e+09 rad/s (~1.25e+03 MHz) | sum_coef=2.597e+03 | fid=0.9999988100701622\n",
      "  T=0.015 K | Ep=9.819e+09 rad/s (~1.56e+03 MHz) | sum_coef=2.597e+03 | fid=0.9999987976709181\n",
      "  T=0.02 K | Ep=1.309e+10 rad/s (~2.08e+03 MHz) | sum_coef=2.597e+03 | fid=0.9999987851076367\n",
      "  T=0.03 K | Ep=1.964e+10 rad/s (~3.13e+03 MHz) | sum_coef=2.597e+03 | fid=0.9999987721879334\n",
      "  T=0.05 K | Ep=3.273e+10 rad/s (~5.21e+03 MHz) | sum_coef=2.597e+03 | fid=0.9999987616131003\n",
      "  T=0.1 K | Ep=6.546e+10 rad/s (~1.04e+04 MHz) | sum_coef=2.597e+03 | fid=0.9999987538022935\n",
      "\n",
      "β = 10.0:\n",
      "  T=0.008 K | Ep=1.047e+10 rad/s (~1.67e+03 MHz) | sum_coef=2.597e+03 | fid=0.999999648887034\n",
      "  T=0.01 K | Ep=1.309e+10 rad/s (~2.08e+03 MHz) | sum_coef=2.597e+03 | fid=0.9999996488691343\n",
      "  T=0.012 K | Ep=1.571e+10 rad/s (~2.5e+03 MHz) | sum_coef=2.597e+03 | fid=0.9999996488772311\n",
      "  T=0.015 K | Ep=1.964e+10 rad/s (~3.13e+03 MHz) | sum_coef=2.597e+03 | fid=0.9999996489584584\n",
      "  T=0.02 K | Ep=2.618e+10 rad/s (~4.17e+03 MHz) | sum_coef=2.597e+03 | fid=0.9999996489791412\n",
      "  T=0.03 K | Ep=3.928e+10 rad/s (~6.25e+03 MHz) | sum_coef=2.597e+03 | fid=0.9999996488037951\n",
      "  T=0.05 K | Ep=6.546e+10 rad/s (~1.04e+04 MHz) | sum_coef=2.597e+03 | fid=0.9999996487544088\n",
      "  T=0.1 K | Ep=1.309e+11 rad/s (~2.08e+04 MHz) | sum_coef=2.597e+03 | fid=0.9999996488525597\n",
      "\n",
      "β = 20.0:\n",
      "  T=0.008 K | Ep=2.095e+10 rad/s (~3.33e+03 MHz) | sum_coef=2.597e+03 | fid=0.9999996490681309\n",
      "  T=0.01 K | Ep=2.618e+10 rad/s (~4.17e+03 MHz) | sum_coef=2.597e+03 | fid=0.9999996489348958\n",
      "  T=0.012 K | Ep=3.142e+10 rad/s (~5e+03 MHz) | sum_coef=2.597e+03 | fid=0.9999996490533404\n",
      "  T=0.015 K | Ep=3.928e+10 rad/s (~6.25e+03 MHz) | sum_coef=2.597e+03 | fid=0.9999996491230738\n",
      "  T=0.02 K | Ep=5.237e+10 rad/s (~8.33e+03 MHz) | sum_coef=2.597e+03 | fid=0.9999996489376735\n",
      "  T=0.03 K | Ep=7.855e+10 rad/s (~1.25e+04 MHz) | sum_coef=2.597e+03 | fid=0.9999996486140034\n",
      "  T=0.05 K | Ep=1.309e+11 rad/s (~2.08e+04 MHz) | sum_coef=2.597e+03 | fid=0.9999996496455275\n",
      "  T=0.1 K | Ep=2.618e+11 rad/s (~4.17e+04 MHz) | sum_coef=2.597e+03 | fid=0.9999996499091269\n",
      "\n",
      "β = 50.0:\n",
      "  T=0.008 K | Ep=5.237e+10 rad/s (~8.33e+03 MHz) | sum_coef=2.597e+03 | fid=0.9999996489376735\n",
      "  T=0.01 K | Ep=6.546e+10 rad/s (~1.04e+04 MHz) | sum_coef=2.597e+03 | fid=0.9999996489082429\n",
      "  T=0.012 K | Ep=7.855e+10 rad/s (~1.25e+04 MHz) | sum_coef=2.597e+03 | fid=0.9999996486140034\n",
      "  T=0.015 K | Ep=9.819e+10 rad/s (~1.56e+04 MHz) | sum_coef=2.597e+03 | fid=0.9999996496254292\n",
      "  T=0.02 K | Ep=1.309e+11 rad/s (~2.08e+04 MHz) | sum_coef=2.597e+03 | fid=0.9999996496455275\n",
      "  T=0.03 K | Ep=1.964e+11 rad/s (~3.13e+04 MHz) | sum_coef=2.597e+03 | fid=0.9999996502029739\n",
      "  T=0.05 K | Ep=3.273e+11 rad/s (~5.21e+04 MHz) | sum_coef=2.597e+03 | fid=0.999999648597021\n",
      "  T=0.1 K | Ep=6.546e+11 rad/s (~1.04e+05 MHz) | sum_coef=2.597e+03 | fid=0.9999996452837925\n",
      "\n",
      "Done: reduced-grid Ep/T sweep complete with platform-correct β→Ep mapping.\n"
     ]
    }
   ],
   "source": [
    "# --- Reduced-grid Ep/T sweep (platform-correct β→Ep mapping, labeled plots) ---\n",
    "\n",
    "# Use platform temperatures (Kelvin) and beta_vec (dimensionless Ep/(kB T))\n",
    "T_vec   = temperatures.copy()\n",
    "beta_ls = beta_vec.copy()\n",
    "\n",
    "# sample ~10 times from t_list for speed\n",
    "max_samples = 10\n",
    "step = max(1, len(t_list) // max_samples)\n",
    "sampled_t_list = t_list[::step]\n",
    "if sampled_t_list[-1] != t_list[-1]:\n",
    "    sampled_t_list = np.concatenate((sampled_t_list, [t_list[-1]]))\n",
    "\n",
    "# Helper: kB T / ħ in simulator angular units\n",
    "def kBT_over_hbar_platform(T_K):\n",
    "    # base: rad/s\n",
    "    val = (kB * float(T_K)) / hbar\n",
    "    # convert to rad/µs for QuEra\n",
    "    return val * (1e-6 if PLATFORM.lower() == \"quera\" else 1.0)\n",
    "\n",
    "# Helper: Ep (angular) -> MHz for readability\n",
    "def Ep_to_MHz(Ep_val):\n",
    "    return (Ep_val/(2*np.pi)) / (1e6 if PLATFORM.lower() == \"ibm\" else 1.0)\n",
    "\n",
    "results_by_beta = {}\n",
    "\n",
    "for beta in beta_ls:\n",
    "    sums_per_T = []\n",
    "    fid_per_T  = []\n",
    "    Ep_per_T   = []\n",
    "    EpMHz_per_T= []\n",
    "\n",
    "    for T in tqdm(T_vec, desc=f\"β={beta}\", leave=False):\n",
    "        # ---- physics-correct mapping β → Ep ----\n",
    "        Ep = beta * kBT_over_hbar_platform(T)     # angular units of the simulator\n",
    "        Ep_per_T.append(Ep)\n",
    "        EpMHz_per_T.append(Ep_to_MHz(Ep))\n",
    "\n",
    "        # build H(t) with this Ep\n",
    "        H_fun = make_H_func(Ep)\n",
    "\n",
    "        # args for tracking helper (assumes c_ops_gen_new_with_tracking uses bose_einstein_N with Kelvin)\n",
    "        args_loc = {\n",
    "            'args_H': lambda tt, H_fun=H_fun: H_fun(tt),\n",
    "            'n_qubits': n_qubits,\n",
    "            'lambda_2': lambda_2,\n",
    "            'T': float(T)  # Kelvin, consistent with bose_einstein_N\n",
    "        }\n",
    "\n",
    "        # 1) accumulate a proxy: sum of |c_coef| over sampled times (dimension: sqrt(rate))\n",
    "        sum_coefs = 0.0\n",
    "        try:\n",
    "            for tt in sampled_t_list:\n",
    "                cct = c_ops_gen_new_with_tracking(tt, args_loc)\n",
    "                if isinstance(cct, dict):\n",
    "                    for key, vals in cct.items():\n",
    "                        # only transitions starting from ground index 0 (optional filter)\n",
    "                        try:\n",
    "                            if key[0] != 0:\n",
    "                                continue\n",
    "                        except Exception:\n",
    "                            pass\n",
    "                        if isinstance(vals, (list, tuple, np.ndarray)):\n",
    "                            sum_coefs += float(np.nansum(np.abs(np.asarray(vals, dtype=float))))\n",
    "                        else:\n",
    "                            try:\n",
    "                                sum_coefs += float(abs(vals))\n",
    "                            except Exception:\n",
    "                                pass\n",
    "                elif isinstance(cct, (list, tuple, np.ndarray)):\n",
    "                    sum_coefs += float(np.nansum(np.abs(np.asarray(cct, dtype=float))))\n",
    "        except Exception:\n",
    "            sum_coefs = np.nan\n",
    "\n",
    "        sums_per_T.append(sum_coefs)\n",
    "\n",
    "        # 2) piecewise open-system propagation on sampled grid\n",
    "        rho = logical_zero * logical_zero.dag()\n",
    "        prev_time = float(sampled_t_list[0])\n",
    "        final_fid = np.nan\n",
    "        try:\n",
    "            for dt in sampled_t_list[1:]:\n",
    "                t_mid = 0.5 * (prev_time + float(dt))\n",
    "                try:\n",
    "                    c_ops_segment = c_ops_gen_thermal(t_mid, H_fun, n_qubits, lambda_2, float(T))\n",
    "                except Exception:\n",
    "                    c_ops_segment = None\n",
    "\n",
    "                t_steps = [prev_time, float(dt)]\n",
    "                opts = Options(store_states=True, nsteps=10000, rtol=1e-7, atol=1e-9)\n",
    "                try:\n",
    "                    res = mesolve(H_fun, rho, t_steps, c_ops=c_ops_segment, args=None,\n",
    "                                  e_ops=[logical_zero*logical_zero.dag(), logical_one*logical_one.dag()],\n",
    "                                  options=opts)\n",
    "                except Exception:\n",
    "                    # fallback (unitary segment)\n",
    "                    res = mesolve(H_fun, rho, t_steps, c_ops=None, args=None,\n",
    "                                  e_ops=[logical_zero*logical_zero.dag(), logical_one*logical_one.dag()],\n",
    "                                  options=opts)\n",
    "\n",
    "                prev_time = float(dt)\n",
    "                rho = res.states[-1]\n",
    "\n",
    "            final_fid = float((rho1 * rho).tr().real)\n",
    "        except Exception:\n",
    "            final_fid = np.nan\n",
    "\n",
    "        fid_per_T.append(final_fid)\n",
    "\n",
    "    results_by_beta[beta] = {\n",
    "        \"T\": np.array(T_vec, dtype=float),\n",
    "        \"Ep\": np.array(Ep_per_T, dtype=float),\n",
    "        \"Ep_MHz\": np.array(EpMHz_per_T, dtype=float),\n",
    "        \"sum_coefs\": np.array(sums_per_T, dtype=float),\n",
    "        \"fid\": np.array(fid_per_T, dtype=float),\n",
    "    }\n",
    "\n",
    "# ---- Plot: final fidelity vs summed collapse-coefs (one curve per β), platform-aware labels ----\n",
    "fig1 = go.Figure()\n",
    "for beta, data in results_by_beta.items():\n",
    "    x = data[\"sum_coefs\"]\n",
    "    y = data[\"fid\"]\n",
    "    valid = np.isfinite(x) & np.isfinite(y)\n",
    "    if np.any(valid):\n",
    "        order = np.argsort(x[valid])\n",
    "        fig1.add_trace(go.Scatter(\n",
    "            x=x[valid][order], y=y[valid][order],\n",
    "            mode='lines+markers',\n",
    "            name=f\"β = Ep/(kB T) = {beta:g}\"\n",
    "        ))\n",
    "fig1.update_xaxes(title_text='∑ |c_coef| over sampled times (proxy; sqrt(rate)), log scale', type='log')\n",
    "fig1.update_yaxes(title_text='Final fidelity to |1_L|')\n",
    "fig1.update_layout(\n",
    "    title=f'Final fidelity vs summed collapse-coefs (curves = Ep/T families) — {PLATFORM.upper()}',\n",
    "    template='simple_white'\n",
    ")\n",
    "fig1.show()\n",
    "\n",
    "# ---- Optional: quick table so you see Ep values in MHz for each (β, T) ----\n",
    "for beta, data in results_by_beta.items():\n",
    "    print(f\"\\nβ = {beta}:\")\n",
    "    for T, Ep_val, EpMHz, s, f in zip(data[\"T\"], data[\"Ep\"], data[\"Ep_MHz\"], data[\"sum_coefs\"], data[\"fid\"]):\n",
    "        unit = \"rad/s\" if PLATFORM.lower()==\"ibm\" else \"rad/µs\"\n",
    "        print(f\"  T={T:.3g} K | Ep={Ep_val:.3e} {unit} (~{EpMHz:.3g} MHz) | sum_coef={s:.3e} | fid={f if np.isfinite(f) else 'nan'}\")\n",
    "\n",
    "# Expose for later\n",
    "globals()['results_by_beta'] = results_by_beta\n",
    "print('\\nDone: reduced-grid Ep/T sweep complete with platform-correct β→Ep mapping.')\n"
   ]
  },
  {
   "cell_type": "code",
   "execution_count": 160,
   "id": "4003f9fc",
   "metadata": {},
   "outputs": [
    {
     "name": "stderr",
     "output_type": "stream",
     "text": [
      "Processing temperatures: 100%|██████████| 8/8 [00:12<00:00,  1.59s/it]\n",
      "Processing temperatures: 100%|██████████| 8/8 [00:12<00:00,  1.59s/it]\n"
     ]
    },
    {
     "data": {
      "application/vnd.plotly.v1+json": {
       "config": {
        "plotlyServerURL": "https://plot.ly"
       },
       "data": [
        {
         "mode": "lines+markers",
         "name": "T = 0.008 K",
         "type": "scatter",
         "x": [
          10.000000000000002,
          20.000000000000004,
          50,
          100,
          200,
          500.00000000000006,
          1000.0000000000001
         ],
         "y": [
          0.9122879123911632,
          0.9399539629768133,
          0.9771784929766043,
          0.9917774455722563,
          0.9981640176056504,
          0.9999558255885259,
          1.0000001638509688
         ]
        },
        {
         "mode": "lines+markers",
         "name": "T = 0.01 K",
         "type": "scatter",
         "x": [
          10.000000000000002,
          20.000000000000004,
          50,
          100,
          200,
          500.00000000000006,
          1000.0000000000001
         ],
         "y": [
          0.8891210543837897,
          0.9226652720731773,
          0.9689271565093931,
          0.9877640905123681,
          0.9967149588171403,
          0.9998482621336118,
          0.9999990360704643
         ]
        },
        {
         "mode": "lines+markers",
         "name": "T = 0.012 K",
         "type": "scatter",
         "x": [
          10.000000000000002,
          20.000000000000004,
          50,
          100,
          200,
          500.00000000000006,
          1000.0000000000001
         ],
         "y": [
          0.8666365816422407,
          0.9056973445723804,
          0.9606263240877826,
          0.9835535067119817,
          0.9950194534080855,
          0.9996520757188324,
          0.9999940527340837
         ]
        },
        {
         "mode": "lines+markers",
         "name": "T = 0.015 K",
         "type": "scatter",
         "x": [
          10.000000000000002,
          20.000000000000004,
          50,
          100,
          200,
          500.00000000000006,
          1000.0000000000001
         ],
         "y": [
          0.8341768066660004,
          0.8808897723041472,
          0.9482017796437716,
          0.9770451324216416,
          0.9921715964530187,
          0.9991882681639045,
          0.9999689546568186
         ]
        },
        {
         "mode": "lines+markers",
         "name": "T = 0.02 K",
         "type": "scatter",
         "x": [
          10.000000000000002,
          20.000000000000004,
          50,
          100,
          200,
          500.00000000000006,
          1000.0000000000001
         ],
         "y": [
          0.7833306451532134,
          0.8412849595731089,
          0.9277492200514876,
          0.965988899986158,
          0.986954290228417,
          0.9980289571450226,
          0.999841385127267
         ]
        },
        {
         "mode": "lines+markers",
         "name": "T = 0.03 K",
         "type": "scatter",
         "x": [
          10.000000000000002,
          20.000000000000004,
          50,
          100,
          200,
          500.00000000000006,
          1000.0000000000001
         ],
         "y": [
          0.6928268824619095,
          0.7683590727052994,
          0.8881885651514271,
          0.9438358971518729,
          0.9757691914156231,
          0.994746625098917,
          0.9991630039917238
         ]
        },
        {
         "mode": "lines+markers",
         "name": "T = 0.05 K",
         "type": "scatter",
         "x": [
          10.000000000000002,
          20.000000000000004,
          50,
          100,
          200,
          500.00000000000006,
          1000.0000000000001
         ],
         "y": [
          0.5491814207137249,
          0.6448249852548216,
          0.8148781815619344,
          0.9007970361712807,
          0.9527511232605087,
          0.9864192454928646,
          0.9964386116479478
         ]
        },
        {
         "mode": "lines+markers",
         "name": "T = 0.1 K",
         "type": "scatter",
         "x": [
          10.000000000000002,
          20.000000000000004,
          50,
          100,
          200,
          500.00000000000006,
          1000.0000000000001
         ],
         "y": [
          0.33524187772562025,
          0.43319623225487003,
          0.6623271080528931,
          0.8028570591797546,
          0.8967895812347074,
          0.9631504159735951,
          0.9862317989143905
         ]
        }
       ],
       "layout": {
        "template": {
         "data": {
          "bar": [
           {
            "error_x": {
             "color": "#2a3f5f"
            },
            "error_y": {
             "color": "#2a3f5f"
            },
            "marker": {
             "line": {
              "color": "white",
              "width": 0.5
             },
             "pattern": {
              "fillmode": "overlay",
              "size": 10,
              "solidity": 0.2
             }
            },
            "type": "bar"
           }
          ],
          "barpolar": [
           {
            "marker": {
             "line": {
              "color": "white",
              "width": 0.5
             },
             "pattern": {
              "fillmode": "overlay",
              "size": 10,
              "solidity": 0.2
             }
            },
            "type": "barpolar"
           }
          ],
          "carpet": [
           {
            "aaxis": {
             "endlinecolor": "#2a3f5f",
             "gridcolor": "#C8D4E3",
             "linecolor": "#C8D4E3",
             "minorgridcolor": "#C8D4E3",
             "startlinecolor": "#2a3f5f"
            },
            "baxis": {
             "endlinecolor": "#2a3f5f",
             "gridcolor": "#C8D4E3",
             "linecolor": "#C8D4E3",
             "minorgridcolor": "#C8D4E3",
             "startlinecolor": "#2a3f5f"
            },
            "type": "carpet"
           }
          ],
          "choropleth": [
           {
            "colorbar": {
             "outlinewidth": 0,
             "ticks": ""
            },
            "type": "choropleth"
           }
          ],
          "contour": [
           {
            "colorbar": {
             "outlinewidth": 0,
             "ticks": ""
            },
            "colorscale": [
             [
              0,
              "#0d0887"
             ],
             [
              0.1111111111111111,
              "#46039f"
             ],
             [
              0.2222222222222222,
              "#7201a8"
             ],
             [
              0.3333333333333333,
              "#9c179e"
             ],
             [
              0.4444444444444444,
              "#bd3786"
             ],
             [
              0.5555555555555556,
              "#d8576b"
             ],
             [
              0.6666666666666666,
              "#ed7953"
             ],
             [
              0.7777777777777778,
              "#fb9f3a"
             ],
             [
              0.8888888888888888,
              "#fdca26"
             ],
             [
              1,
              "#f0f921"
             ]
            ],
            "type": "contour"
           }
          ],
          "contourcarpet": [
           {
            "colorbar": {
             "outlinewidth": 0,
             "ticks": ""
            },
            "type": "contourcarpet"
           }
          ],
          "heatmap": [
           {
            "colorbar": {
             "outlinewidth": 0,
             "ticks": ""
            },
            "colorscale": [
             [
              0,
              "#0d0887"
             ],
             [
              0.1111111111111111,
              "#46039f"
             ],
             [
              0.2222222222222222,
              "#7201a8"
             ],
             [
              0.3333333333333333,
              "#9c179e"
             ],
             [
              0.4444444444444444,
              "#bd3786"
             ],
             [
              0.5555555555555556,
              "#d8576b"
             ],
             [
              0.6666666666666666,
              "#ed7953"
             ],
             [
              0.7777777777777778,
              "#fb9f3a"
             ],
             [
              0.8888888888888888,
              "#fdca26"
             ],
             [
              1,
              "#f0f921"
             ]
            ],
            "type": "heatmap"
           }
          ],
          "histogram": [
           {
            "marker": {
             "pattern": {
              "fillmode": "overlay",
              "size": 10,
              "solidity": 0.2
             }
            },
            "type": "histogram"
           }
          ],
          "histogram2d": [
           {
            "colorbar": {
             "outlinewidth": 0,
             "ticks": ""
            },
            "colorscale": [
             [
              0,
              "#0d0887"
             ],
             [
              0.1111111111111111,
              "#46039f"
             ],
             [
              0.2222222222222222,
              "#7201a8"
             ],
             [
              0.3333333333333333,
              "#9c179e"
             ],
             [
              0.4444444444444444,
              "#bd3786"
             ],
             [
              0.5555555555555556,
              "#d8576b"
             ],
             [
              0.6666666666666666,
              "#ed7953"
             ],
             [
              0.7777777777777778,
              "#fb9f3a"
             ],
             [
              0.8888888888888888,
              "#fdca26"
             ],
             [
              1,
              "#f0f921"
             ]
            ],
            "type": "histogram2d"
           }
          ],
          "histogram2dcontour": [
           {
            "colorbar": {
             "outlinewidth": 0,
             "ticks": ""
            },
            "colorscale": [
             [
              0,
              "#0d0887"
             ],
             [
              0.1111111111111111,
              "#46039f"
             ],
             [
              0.2222222222222222,
              "#7201a8"
             ],
             [
              0.3333333333333333,
              "#9c179e"
             ],
             [
              0.4444444444444444,
              "#bd3786"
             ],
             [
              0.5555555555555556,
              "#d8576b"
             ],
             [
              0.6666666666666666,
              "#ed7953"
             ],
             [
              0.7777777777777778,
              "#fb9f3a"
             ],
             [
              0.8888888888888888,
              "#fdca26"
             ],
             [
              1,
              "#f0f921"
             ]
            ],
            "type": "histogram2dcontour"
           }
          ],
          "mesh3d": [
           {
            "colorbar": {
             "outlinewidth": 0,
             "ticks": ""
            },
            "type": "mesh3d"
           }
          ],
          "parcoords": [
           {
            "line": {
             "colorbar": {
              "outlinewidth": 0,
              "ticks": ""
             }
            },
            "type": "parcoords"
           }
          ],
          "pie": [
           {
            "automargin": true,
            "type": "pie"
           }
          ],
          "scatter": [
           {
            "fillpattern": {
             "fillmode": "overlay",
             "size": 10,
             "solidity": 0.2
            },
            "type": "scatter"
           }
          ],
          "scatter3d": [
           {
            "line": {
             "colorbar": {
              "outlinewidth": 0,
              "ticks": ""
             }
            },
            "marker": {
             "colorbar": {
              "outlinewidth": 0,
              "ticks": ""
             }
            },
            "type": "scatter3d"
           }
          ],
          "scattercarpet": [
           {
            "marker": {
             "colorbar": {
              "outlinewidth": 0,
              "ticks": ""
             }
            },
            "type": "scattercarpet"
           }
          ],
          "scattergeo": [
           {
            "marker": {
             "colorbar": {
              "outlinewidth": 0,
              "ticks": ""
             }
            },
            "type": "scattergeo"
           }
          ],
          "scattergl": [
           {
            "marker": {
             "colorbar": {
              "outlinewidth": 0,
              "ticks": ""
             }
            },
            "type": "scattergl"
           }
          ],
          "scattermap": [
           {
            "marker": {
             "colorbar": {
              "outlinewidth": 0,
              "ticks": ""
             }
            },
            "type": "scattermap"
           }
          ],
          "scattermapbox": [
           {
            "marker": {
             "colorbar": {
              "outlinewidth": 0,
              "ticks": ""
             }
            },
            "type": "scattermapbox"
           }
          ],
          "scatterpolar": [
           {
            "marker": {
             "colorbar": {
              "outlinewidth": 0,
              "ticks": ""
             }
            },
            "type": "scatterpolar"
           }
          ],
          "scatterpolargl": [
           {
            "marker": {
             "colorbar": {
              "outlinewidth": 0,
              "ticks": ""
             }
            },
            "type": "scatterpolargl"
           }
          ],
          "scatterternary": [
           {
            "marker": {
             "colorbar": {
              "outlinewidth": 0,
              "ticks": ""
             }
            },
            "type": "scatterternary"
           }
          ],
          "surface": [
           {
            "colorbar": {
             "outlinewidth": 0,
             "ticks": ""
            },
            "colorscale": [
             [
              0,
              "#0d0887"
             ],
             [
              0.1111111111111111,
              "#46039f"
             ],
             [
              0.2222222222222222,
              "#7201a8"
             ],
             [
              0.3333333333333333,
              "#9c179e"
             ],
             [
              0.4444444444444444,
              "#bd3786"
             ],
             [
              0.5555555555555556,
              "#d8576b"
             ],
             [
              0.6666666666666666,
              "#ed7953"
             ],
             [
              0.7777777777777778,
              "#fb9f3a"
             ],
             [
              0.8888888888888888,
              "#fdca26"
             ],
             [
              1,
              "#f0f921"
             ]
            ],
            "type": "surface"
           }
          ],
          "table": [
           {
            "cells": {
             "fill": {
              "color": "#EBF0F8"
             },
             "line": {
              "color": "white"
             }
            },
            "header": {
             "fill": {
              "color": "#C8D4E3"
             },
             "line": {
              "color": "white"
             }
            },
            "type": "table"
           }
          ]
         },
         "layout": {
          "annotationdefaults": {
           "arrowcolor": "#2a3f5f",
           "arrowhead": 0,
           "arrowwidth": 1
          },
          "autotypenumbers": "strict",
          "coloraxis": {
           "colorbar": {
            "outlinewidth": 0,
            "ticks": ""
           }
          },
          "colorscale": {
           "diverging": [
            [
             0,
             "#8e0152"
            ],
            [
             0.1,
             "#c51b7d"
            ],
            [
             0.2,
             "#de77ae"
            ],
            [
             0.3,
             "#f1b6da"
            ],
            [
             0.4,
             "#fde0ef"
            ],
            [
             0.5,
             "#f7f7f7"
            ],
            [
             0.6,
             "#e6f5d0"
            ],
            [
             0.7,
             "#b8e186"
            ],
            [
             0.8,
             "#7fbc41"
            ],
            [
             0.9,
             "#4d9221"
            ],
            [
             1,
             "#276419"
            ]
           ],
           "sequential": [
            [
             0,
             "#0d0887"
            ],
            [
             0.1111111111111111,
             "#46039f"
            ],
            [
             0.2222222222222222,
             "#7201a8"
            ],
            [
             0.3333333333333333,
             "#9c179e"
            ],
            [
             0.4444444444444444,
             "#bd3786"
            ],
            [
             0.5555555555555556,
             "#d8576b"
            ],
            [
             0.6666666666666666,
             "#ed7953"
            ],
            [
             0.7777777777777778,
             "#fb9f3a"
            ],
            [
             0.8888888888888888,
             "#fdca26"
            ],
            [
             1,
             "#f0f921"
            ]
           ],
           "sequentialminus": [
            [
             0,
             "#0d0887"
            ],
            [
             0.1111111111111111,
             "#46039f"
            ],
            [
             0.2222222222222222,
             "#7201a8"
            ],
            [
             0.3333333333333333,
             "#9c179e"
            ],
            [
             0.4444444444444444,
             "#bd3786"
            ],
            [
             0.5555555555555556,
             "#d8576b"
            ],
            [
             0.6666666666666666,
             "#ed7953"
            ],
            [
             0.7777777777777778,
             "#fb9f3a"
            ],
            [
             0.8888888888888888,
             "#fdca26"
            ],
            [
             1,
             "#f0f921"
            ]
           ]
          },
          "colorway": [
           "#636efa",
           "#EF553B",
           "#00cc96",
           "#ab63fa",
           "#FFA15A",
           "#19d3f3",
           "#FF6692",
           "#B6E880",
           "#FF97FF",
           "#FECB52"
          ],
          "font": {
           "color": "#2a3f5f"
          },
          "geo": {
           "bgcolor": "white",
           "lakecolor": "white",
           "landcolor": "white",
           "showlakes": true,
           "showland": true,
           "subunitcolor": "#C8D4E3"
          },
          "hoverlabel": {
           "align": "left"
          },
          "hovermode": "closest",
          "mapbox": {
           "style": "light"
          },
          "paper_bgcolor": "white",
          "plot_bgcolor": "white",
          "polar": {
           "angularaxis": {
            "gridcolor": "#EBF0F8",
            "linecolor": "#EBF0F8",
            "ticks": ""
           },
           "bgcolor": "white",
           "radialaxis": {
            "gridcolor": "#EBF0F8",
            "linecolor": "#EBF0F8",
            "ticks": ""
           }
          },
          "scene": {
           "xaxis": {
            "backgroundcolor": "white",
            "gridcolor": "#DFE8F3",
            "gridwidth": 2,
            "linecolor": "#EBF0F8",
            "showbackground": true,
            "ticks": "",
            "zerolinecolor": "#EBF0F8"
           },
           "yaxis": {
            "backgroundcolor": "white",
            "gridcolor": "#DFE8F3",
            "gridwidth": 2,
            "linecolor": "#EBF0F8",
            "showbackground": true,
            "ticks": "",
            "zerolinecolor": "#EBF0F8"
           },
           "zaxis": {
            "backgroundcolor": "white",
            "gridcolor": "#DFE8F3",
            "gridwidth": 2,
            "linecolor": "#EBF0F8",
            "showbackground": true,
            "ticks": "",
            "zerolinecolor": "#EBF0F8"
           }
          },
          "shapedefaults": {
           "line": {
            "color": "#2a3f5f"
           }
          },
          "ternary": {
           "aaxis": {
            "gridcolor": "#DFE8F3",
            "linecolor": "#A2B1C6",
            "ticks": ""
           },
           "baxis": {
            "gridcolor": "#DFE8F3",
            "linecolor": "#A2B1C6",
            "ticks": ""
           },
           "bgcolor": "white",
           "caxis": {
            "gridcolor": "#DFE8F3",
            "linecolor": "#A2B1C6",
            "ticks": ""
           }
          },
          "title": {
           "x": 0.05
          },
          "xaxis": {
           "automargin": true,
           "gridcolor": "#EBF0F8",
           "linecolor": "#EBF0F8",
           "ticks": "",
           "title": {
            "standoff": 15
           },
           "zerolinecolor": "#EBF0F8",
           "zerolinewidth": 2
          },
          "yaxis": {
           "automargin": true,
           "gridcolor": "#EBF0F8",
           "linecolor": "#EBF0F8",
           "ticks": "",
           "title": {
            "standoff": 15
           },
           "zerolinecolor": "#EBF0F8",
           "zerolinewidth": 2
          }
         }
        },
        "title": {
         "text": "Final Fidelity of |1_L> vs Ep"
        },
        "xaxis": {
         "title": {
          "text": "Energy gap parameter (same units as Ep)"
         }
        },
        "yaxis": {
         "title": {
          "text": "Final Fidelity to |1_L>"
         }
        }
       }
      }
     },
     "metadata": {},
     "output_type": "display_data"
    },
    {
     "name": "stdout",
     "output_type": "stream",
     "text": [
      "Done: temperature x Ep sweep complete. Results in final_fidelities_sweep\n"
     ]
    }
   ],
   "source": [
    "# --- Temperature x Ep sweep (converted snippet) ---\n",
    "# Uses existing helpers in this notebook: make_H_func, c_ops_gen_thermal, mesolve, initial_state, logical_one, rho1, t_list, e_ops, opts\n",
    "\n",
    "\n",
    "final_fidelities = {T: [] for T in temperatures}\n",
    "\n",
    "\n",
    "for T in tqdm(temperatures, desc=\"Processing temperatures\"):\n",
    "    for Ep in Ep_vec:\n",
    "        # Build H(t) for this Ep\n",
    "        H_fun = make_H_func(Ep)  # callable H(t)\n",
    "\n",
    "        # Initialize state for this run\n",
    "        rho = initial_state * initial_state.dag()\n",
    "        prev_time = float(t_list[0])\n",
    "\n",
    "        # Propagate piecewise across the t_list using collapse operators evaluated at segment midpoints\n",
    "        for t_next in t_list[1:]:\n",
    "            t_mid = 0.5 * (prev_time + float(t_next))\n",
    "            # Compute thermal collapse operators (list of Qobj) at segment midpoint\n",
    "            try:\n",
    "                c_ops = c_ops_gen_thermal(t_mid, H_fun, n_qubits, lambda_2, T)\n",
    "            except Exception:\n",
    "                c_ops = None\n",
    "\n",
    "            t_steps = [prev_time, float(t_next)]\n",
    "            try:\n",
    "                res = mesolve(H_fun, rho, t_steps, c_ops=c_ops, args=None, e_ops=e_ops, options={'store_states': True})\n",
    "            except Exception as exc:\n",
    "                # On solver failure try without collapse operators\n",
    "                try:\n",
    "                    res = mesolve(H_fun, rho, t_steps, c_ops=None, args=None, e_ops=e_ops)\n",
    "                except Exception:\n",
    "                    raise RuntimeError(f\"mesolve failed for Ep={Ep}, T={T}, segment {prev_time}->{t_next}: {exc}\")\n",
    "\n",
    "            # Advance\n",
    "            rho = res.states[-1]\n",
    "            prev_time = float(t_next)\n",
    "\n",
    "        # final fidelity to logical one\n",
    "        final_fid = float((rho1 * rho).tr().real)\n",
    "        final_fidelities[T].append(final_fid)\n",
    "\n",
    "# Plot results\n",
    "fig = go.Figure()\n",
    "for T, fidelities in final_fidelities.items():\n",
    "    fig.add_trace(go.Scatter(x=[i*p[\"to_freq_units\"] for i in Ep_vec], y=fidelities, mode='lines+markers', name=f\"T = {T} K\"))\n",
    "\n",
    "fig.update_layout(\n",
    "    title=\"Final Fidelity of |1_L> vs Ep\",\n",
    "    xaxis_title=\"Energy gap parameter (same units as Ep)\",\n",
    "    yaxis_title=\"Final Fidelity to |1_L>\",\n",
    "    template='plotly_white'\n",
    ")\n",
    "fig.show()\n",
    "\n",
    "# expose results\n",
    "globals()['final_fidelities_sweep'] = final_fidelities\n",
    "print('Done: temperature x Ep sweep complete. Results in final_fidelities_sweep')"
   ]
  },
  {
   "cell_type": "code",
   "execution_count": 161,
   "id": "12518217",
   "metadata": {},
   "outputs": [
    {
     "name": "stderr",
     "output_type": "stream",
     "text": [
      "Temperatures:   0%|          | 0/21 [00:00<?, ?it/s]/Users/chenscheim/miniconda3/lib/python3.12/site-packages/qutip/solver/options.py:16: FutureWarning:\n",
      "\n",
      "Dedicated options class are no longer needed, options should be passed as dict to solvers.\n",
      "\n",
      "/Users/chenscheim/miniconda3/lib/python3.12/site-packages/qutip/solver/options.py:16: FutureWarning:\n",
      "\n",
      "Dedicated options class are no longer needed, options should be passed as dict to solvers.\n",
      "\n",
      "Temperatures: 100%|██████████| 21/21 [01:44<00:00,  4.99s/it]"
     ]
    },
    {
     "name": "stdout",
     "output_type": "stream",
     "text": [
      "T=0.00, required Ep=62893428.28780622, final fidelity=0.9957442601726603\n",
      "T=0.01, required Ep=125724024.72254065, final fidelity=0.9579626389466323\n",
      "T=0.01, required Ep=251385217.5920095, final fidelity=0.9556232740895978\n",
      "T=0.02, required Ep=377046410.46147835, final fidelity=0.9544145598378889\n",
      "T=0.02, required Ep=502707603.3309472, final fidelity=0.9536982339444644\n",
      "T=0.03, required Ep=628368796.2004161, final fidelity=0.9532268507063173\n",
      "T=0.03, required Ep=754029989.0698849, final fidelity=0.9528936635282006\n",
      "T=0.04, required Ep=879691181.9393538, final fidelity=0.9526458545285679\n",
      "T=0.04, required Ep=1005352374.8088226, final fidelity=0.9524544024344829\n",
      "T=0.05, required Ep=1131013567.6782916, final fidelity=0.9523020936283884\n",
      "T=0.05, required Ep=1256674760.5477602, final fidelity=0.9521780246748913\n",
      "T=0.06, required Ep=1382335953.4172292, final fidelity=0.952075025923714\n",
      "T=0.06, required Ep=1507997146.286698, final fidelity=0.9519881544332552\n",
      "T=0.07, required Ep=1633658339.1561668, final fidelity=0.9519139000637188\n",
      "T=0.07, required Ep=1759319532.0256357, final fidelity=0.9518497017720193\n",
      "T=0.08, required Ep=1884980724.8951046, final fidelity=0.9517936473363313\n",
      "T=0.08, required Ep=2010641917.7645733, final fidelity=0.9517442802328442\n",
      "T=0.09, required Ep=2136303110.6340423, final fidelity=0.9517004715835493\n",
      "T=0.09, required Ep=2199133707.0687766, final fidelity=0.950028549784757\n",
      "T=0.10, required Ep=2324794899.938246, final fidelity=0.9500788148177458\n",
      "T=0.10, required Ep=2450456092.8077145, final fidelity=0.9501239655338045\n",
      "Done: required-Ep sweep complete. Results saved to notebook globals: required_Ep_for_95\n"
     ]
    },
    {
     "name": "stderr",
     "output_type": "stream",
     "text": [
      "\n"
     ]
    }
   ],
   "source": [
    "# --- Find minimum Ep from Ep_vec (notebook) that yields final fidelity >= 0.95 for each temperature ---\n",
    "\n",
    "# Use notebook-provided grids if available\n",
    "Ep_values = 2*np.pi*np.linspace(10000, 500000000, 51)\n",
    "T_values = np.linspace(0.001, 0.1, 21)\n",
    "\n",
    "required_Ep_for_95 = []\n",
    "\n",
    "# Ensure logical states exist\n",
    "if 'logical_zero' not in globals() or 'logical_one' not in globals():\n",
    "    raise RuntimeError('logical_zero / logical_one not found in the notebook namespace')\n",
    "\n",
    "# Main sweep: loop over temperatures and Ep_values (Ep_values assumed to be in same units used by make_H_func)\n",
    "for T in tqdm(T_values, desc='Temperatures'):\n",
    "    found = False\n",
    "    last_final_fid = np.nan\n",
    "    for Ep in tqdm(Ep_values, desc=f'Ep (T={T:.2f})', leave=False):\n",
    "        H_fun = make_H_func(Ep)\n",
    "\n",
    "        # initial state for this run\n",
    "        rho = logical_zero * logical_zero.dag()\n",
    "        prev_time = float(t_list[0])\n",
    "        final_res = None\n",
    "        for t_next in t_list[1:]:\n",
    "            t_mid = 0.5 * (prev_time + float(t_next))\n",
    "\n",
    "            # compute thermal collapse operators at midpoint using existing generator\n",
    "            c_ops_segment = c_ops_gen_thermal(t_mid, H_fun, globals().get('n_qubits', 3), globals().get('lambda_2', 0.1), T)\n",
    "\n",
    "            t_steps = [prev_time, float(t_next)]\n",
    "            opts = Options(store_states=True)\n",
    "            res = mesolve(H_fun, rho, t_steps, c_ops=c_ops_segment, args=None, e_ops=e_ops, options=opts)\n",
    "\n",
    "            prev_time = float(t_next)\n",
    "            rho = res.states[-1]\n",
    "            final_res = res\n",
    "\n",
    "            if final_res is None:\n",
    "                final_fidelity = np.nan\n",
    "            else:\n",
    "                final_fidelity = float(final_res.expect[1][-1])\n",
    "            last_final_fid = final_fidelity\n",
    "\n",
    "\n",
    "        if not np.isnan(last_final_fid) and last_final_fid >= 0.95:\n",
    "            required_Ep_for_95.append((T, Ep, last_final_fid))\n",
    "            found = True\n",
    "            break\n",
    "\n",
    "    if not found:\n",
    "        required_Ep_for_95.append((T, None, last_final_fid))\n",
    "\n",
    "# Unpack and expose results\n",
    "required_T = [x[0] for x in required_Ep_for_95]\n",
    "required_Ep = [x[1] for x in required_Ep_for_95]\n",
    "required_fid = [x[2] for x in required_Ep_for_95]\n",
    "globals()['required_Ep_for_95'] = required_Ep_for_95\n",
    "globals()['required_T'] = required_T\n",
    "globals()['required_Ep'] = required_Ep\n",
    "globals()['required_fid'] = required_fid\n",
    "\n",
    "# Print summary\n",
    "for T, Ep, fid in required_Ep_for_95:\n",
    "    print(f'T={T:.2f}, required Ep={Ep}, final fidelity={fid if not np.isnan(fid) else \"nan\"}')\n",
    "\n",
    "print('Done: required-Ep sweep complete. Results saved to notebook globals: required_Ep_for_95')"
   ]
  },
  {
   "cell_type": "code",
   "execution_count": 162,
   "id": "c3b110d0",
   "metadata": {},
   "outputs": [
    {
     "data": {
      "application/vnd.plotly.v1+json": {
       "config": {
        "plotlyServerURL": "https://plot.ly"
       },
       "data": [
        {
         "line": {
          "shape": "linear"
         },
         "mode": "lines+markers",
         "type": "scatter",
         "x": {
          "bdata": "/Knx0k1iUD90RpT2Bl94PzQRNjy9UoY/mP+Qfvs6kD+V9gZfmEyVP5LtfD81Xpo/kOTyH9Jvnz/GbTSAt0CiP0Vpb/CFyaQ/xGSqYFRSpz9CYOXQItupP8FbIEHxY6w/QFdbsb/srj9fKcsQx7qwPx6n6Egu/7E/3iQGgZVDsz+doiO5/Ie0P1wgQfFjzLU/HJ5eKcsQtz/bG3xhMlW4P5qZmZmZmbk/",
          "dtype": "f8"
         },
         "y": {
          "bdata": "aQBvgQQFJECmCkYldQI0QMaPMXctAURANxrAWyABTkBVUiegiQBUQI6XbhKDAFlAxty1hHwAXkAAkX77OoBhQJwzorQ3AGRAOdbFbTSAZkDVeOkmMQBpQHIbDeAtgGtAD74wmSoAbkBVMCqpE0BwQKQBvAUSgHFA8tJNYhDAckBApN++DgB0QI51cRsNQHVANV66SQzgdUCEL0ymCiB3QNIA3gIJYHhA",
          "dtype": "f8"
         }
        }
       ],
       "layout": {
        "template": {
         "data": {
          "bar": [
           {
            "error_x": {
             "color": "rgb(36,36,36)"
            },
            "error_y": {
             "color": "rgb(36,36,36)"
            },
            "marker": {
             "line": {
              "color": "white",
              "width": 0.5
             },
             "pattern": {
              "fillmode": "overlay",
              "size": 10,
              "solidity": 0.2
             }
            },
            "type": "bar"
           }
          ],
          "barpolar": [
           {
            "marker": {
             "line": {
              "color": "white",
              "width": 0.5
             },
             "pattern": {
              "fillmode": "overlay",
              "size": 10,
              "solidity": 0.2
             }
            },
            "type": "barpolar"
           }
          ],
          "carpet": [
           {
            "aaxis": {
             "endlinecolor": "rgb(36,36,36)",
             "gridcolor": "white",
             "linecolor": "white",
             "minorgridcolor": "white",
             "startlinecolor": "rgb(36,36,36)"
            },
            "baxis": {
             "endlinecolor": "rgb(36,36,36)",
             "gridcolor": "white",
             "linecolor": "white",
             "minorgridcolor": "white",
             "startlinecolor": "rgb(36,36,36)"
            },
            "type": "carpet"
           }
          ],
          "choropleth": [
           {
            "colorbar": {
             "outlinewidth": 1,
             "tickcolor": "rgb(36,36,36)",
             "ticks": "outside"
            },
            "type": "choropleth"
           }
          ],
          "contour": [
           {
            "colorbar": {
             "outlinewidth": 1,
             "tickcolor": "rgb(36,36,36)",
             "ticks": "outside"
            },
            "colorscale": [
             [
              0,
              "#440154"
             ],
             [
              0.1111111111111111,
              "#482878"
             ],
             [
              0.2222222222222222,
              "#3e4989"
             ],
             [
              0.3333333333333333,
              "#31688e"
             ],
             [
              0.4444444444444444,
              "#26828e"
             ],
             [
              0.5555555555555556,
              "#1f9e89"
             ],
             [
              0.6666666666666666,
              "#35b779"
             ],
             [
              0.7777777777777778,
              "#6ece58"
             ],
             [
              0.8888888888888888,
              "#b5de2b"
             ],
             [
              1,
              "#fde725"
             ]
            ],
            "type": "contour"
           }
          ],
          "contourcarpet": [
           {
            "colorbar": {
             "outlinewidth": 1,
             "tickcolor": "rgb(36,36,36)",
             "ticks": "outside"
            },
            "type": "contourcarpet"
           }
          ],
          "heatmap": [
           {
            "colorbar": {
             "outlinewidth": 1,
             "tickcolor": "rgb(36,36,36)",
             "ticks": "outside"
            },
            "colorscale": [
             [
              0,
              "#440154"
             ],
             [
              0.1111111111111111,
              "#482878"
             ],
             [
              0.2222222222222222,
              "#3e4989"
             ],
             [
              0.3333333333333333,
              "#31688e"
             ],
             [
              0.4444444444444444,
              "#26828e"
             ],
             [
              0.5555555555555556,
              "#1f9e89"
             ],
             [
              0.6666666666666666,
              "#35b779"
             ],
             [
              0.7777777777777778,
              "#6ece58"
             ],
             [
              0.8888888888888888,
              "#b5de2b"
             ],
             [
              1,
              "#fde725"
             ]
            ],
            "type": "heatmap"
           }
          ],
          "histogram": [
           {
            "marker": {
             "line": {
              "color": "white",
              "width": 0.6
             }
            },
            "type": "histogram"
           }
          ],
          "histogram2d": [
           {
            "colorbar": {
             "outlinewidth": 1,
             "tickcolor": "rgb(36,36,36)",
             "ticks": "outside"
            },
            "colorscale": [
             [
              0,
              "#440154"
             ],
             [
              0.1111111111111111,
              "#482878"
             ],
             [
              0.2222222222222222,
              "#3e4989"
             ],
             [
              0.3333333333333333,
              "#31688e"
             ],
             [
              0.4444444444444444,
              "#26828e"
             ],
             [
              0.5555555555555556,
              "#1f9e89"
             ],
             [
              0.6666666666666666,
              "#35b779"
             ],
             [
              0.7777777777777778,
              "#6ece58"
             ],
             [
              0.8888888888888888,
              "#b5de2b"
             ],
             [
              1,
              "#fde725"
             ]
            ],
            "type": "histogram2d"
           }
          ],
          "histogram2dcontour": [
           {
            "colorbar": {
             "outlinewidth": 1,
             "tickcolor": "rgb(36,36,36)",
             "ticks": "outside"
            },
            "colorscale": [
             [
              0,
              "#440154"
             ],
             [
              0.1111111111111111,
              "#482878"
             ],
             [
              0.2222222222222222,
              "#3e4989"
             ],
             [
              0.3333333333333333,
              "#31688e"
             ],
             [
              0.4444444444444444,
              "#26828e"
             ],
             [
              0.5555555555555556,
              "#1f9e89"
             ],
             [
              0.6666666666666666,
              "#35b779"
             ],
             [
              0.7777777777777778,
              "#6ece58"
             ],
             [
              0.8888888888888888,
              "#b5de2b"
             ],
             [
              1,
              "#fde725"
             ]
            ],
            "type": "histogram2dcontour"
           }
          ],
          "mesh3d": [
           {
            "colorbar": {
             "outlinewidth": 1,
             "tickcolor": "rgb(36,36,36)",
             "ticks": "outside"
            },
            "type": "mesh3d"
           }
          ],
          "parcoords": [
           {
            "line": {
             "colorbar": {
              "outlinewidth": 1,
              "tickcolor": "rgb(36,36,36)",
              "ticks": "outside"
             }
            },
            "type": "parcoords"
           }
          ],
          "pie": [
           {
            "automargin": true,
            "type": "pie"
           }
          ],
          "scatter": [
           {
            "fillpattern": {
             "fillmode": "overlay",
             "size": 10,
             "solidity": 0.2
            },
            "type": "scatter"
           }
          ],
          "scatter3d": [
           {
            "line": {
             "colorbar": {
              "outlinewidth": 1,
              "tickcolor": "rgb(36,36,36)",
              "ticks": "outside"
             }
            },
            "marker": {
             "colorbar": {
              "outlinewidth": 1,
              "tickcolor": "rgb(36,36,36)",
              "ticks": "outside"
             }
            },
            "type": "scatter3d"
           }
          ],
          "scattercarpet": [
           {
            "marker": {
             "colorbar": {
              "outlinewidth": 1,
              "tickcolor": "rgb(36,36,36)",
              "ticks": "outside"
             }
            },
            "type": "scattercarpet"
           }
          ],
          "scattergeo": [
           {
            "marker": {
             "colorbar": {
              "outlinewidth": 1,
              "tickcolor": "rgb(36,36,36)",
              "ticks": "outside"
             }
            },
            "type": "scattergeo"
           }
          ],
          "scattergl": [
           {
            "marker": {
             "colorbar": {
              "outlinewidth": 1,
              "tickcolor": "rgb(36,36,36)",
              "ticks": "outside"
             }
            },
            "type": "scattergl"
           }
          ],
          "scattermap": [
           {
            "marker": {
             "colorbar": {
              "outlinewidth": 1,
              "tickcolor": "rgb(36,36,36)",
              "ticks": "outside"
             }
            },
            "type": "scattermap"
           }
          ],
          "scattermapbox": [
           {
            "marker": {
             "colorbar": {
              "outlinewidth": 1,
              "tickcolor": "rgb(36,36,36)",
              "ticks": "outside"
             }
            },
            "type": "scattermapbox"
           }
          ],
          "scatterpolar": [
           {
            "marker": {
             "colorbar": {
              "outlinewidth": 1,
              "tickcolor": "rgb(36,36,36)",
              "ticks": "outside"
             }
            },
            "type": "scatterpolar"
           }
          ],
          "scatterpolargl": [
           {
            "marker": {
             "colorbar": {
              "outlinewidth": 1,
              "tickcolor": "rgb(36,36,36)",
              "ticks": "outside"
             }
            },
            "type": "scatterpolargl"
           }
          ],
          "scatterternary": [
           {
            "marker": {
             "colorbar": {
              "outlinewidth": 1,
              "tickcolor": "rgb(36,36,36)",
              "ticks": "outside"
             }
            },
            "type": "scatterternary"
           }
          ],
          "surface": [
           {
            "colorbar": {
             "outlinewidth": 1,
             "tickcolor": "rgb(36,36,36)",
             "ticks": "outside"
            },
            "colorscale": [
             [
              0,
              "#440154"
             ],
             [
              0.1111111111111111,
              "#482878"
             ],
             [
              0.2222222222222222,
              "#3e4989"
             ],
             [
              0.3333333333333333,
              "#31688e"
             ],
             [
              0.4444444444444444,
              "#26828e"
             ],
             [
              0.5555555555555556,
              "#1f9e89"
             ],
             [
              0.6666666666666666,
              "#35b779"
             ],
             [
              0.7777777777777778,
              "#6ece58"
             ],
             [
              0.8888888888888888,
              "#b5de2b"
             ],
             [
              1,
              "#fde725"
             ]
            ],
            "type": "surface"
           }
          ],
          "table": [
           {
            "cells": {
             "fill": {
              "color": "rgb(237,237,237)"
             },
             "line": {
              "color": "white"
             }
            },
            "header": {
             "fill": {
              "color": "rgb(217,217,217)"
             },
             "line": {
              "color": "white"
             }
            },
            "type": "table"
           }
          ]
         },
         "layout": {
          "annotationdefaults": {
           "arrowhead": 0,
           "arrowwidth": 1
          },
          "autotypenumbers": "strict",
          "coloraxis": {
           "colorbar": {
            "outlinewidth": 1,
            "tickcolor": "rgb(36,36,36)",
            "ticks": "outside"
           }
          },
          "colorscale": {
           "diverging": [
            [
             0,
             "rgb(103,0,31)"
            ],
            [
             0.1,
             "rgb(178,24,43)"
            ],
            [
             0.2,
             "rgb(214,96,77)"
            ],
            [
             0.3,
             "rgb(244,165,130)"
            ],
            [
             0.4,
             "rgb(253,219,199)"
            ],
            [
             0.5,
             "rgb(247,247,247)"
            ],
            [
             0.6,
             "rgb(209,229,240)"
            ],
            [
             0.7,
             "rgb(146,197,222)"
            ],
            [
             0.8,
             "rgb(67,147,195)"
            ],
            [
             0.9,
             "rgb(33,102,172)"
            ],
            [
             1,
             "rgb(5,48,97)"
            ]
           ],
           "sequential": [
            [
             0,
             "#440154"
            ],
            [
             0.1111111111111111,
             "#482878"
            ],
            [
             0.2222222222222222,
             "#3e4989"
            ],
            [
             0.3333333333333333,
             "#31688e"
            ],
            [
             0.4444444444444444,
             "#26828e"
            ],
            [
             0.5555555555555556,
             "#1f9e89"
            ],
            [
             0.6666666666666666,
             "#35b779"
            ],
            [
             0.7777777777777778,
             "#6ece58"
            ],
            [
             0.8888888888888888,
             "#b5de2b"
            ],
            [
             1,
             "#fde725"
            ]
           ],
           "sequentialminus": [
            [
             0,
             "#440154"
            ],
            [
             0.1111111111111111,
             "#482878"
            ],
            [
             0.2222222222222222,
             "#3e4989"
            ],
            [
             0.3333333333333333,
             "#31688e"
            ],
            [
             0.4444444444444444,
             "#26828e"
            ],
            [
             0.5555555555555556,
             "#1f9e89"
            ],
            [
             0.6666666666666666,
             "#35b779"
            ],
            [
             0.7777777777777778,
             "#6ece58"
            ],
            [
             0.8888888888888888,
             "#b5de2b"
            ],
            [
             1,
             "#fde725"
            ]
           ]
          },
          "colorway": [
           "#1F77B4",
           "#FF7F0E",
           "#2CA02C",
           "#D62728",
           "#9467BD",
           "#8C564B",
           "#E377C2",
           "#7F7F7F",
           "#BCBD22",
           "#17BECF"
          ],
          "font": {
           "color": "rgb(36,36,36)"
          },
          "geo": {
           "bgcolor": "white",
           "lakecolor": "white",
           "landcolor": "white",
           "showlakes": true,
           "showland": true,
           "subunitcolor": "white"
          },
          "hoverlabel": {
           "align": "left"
          },
          "hovermode": "closest",
          "mapbox": {
           "style": "light"
          },
          "paper_bgcolor": "white",
          "plot_bgcolor": "white",
          "polar": {
           "angularaxis": {
            "gridcolor": "rgb(232,232,232)",
            "linecolor": "rgb(36,36,36)",
            "showgrid": false,
            "showline": true,
            "ticks": "outside"
           },
           "bgcolor": "white",
           "radialaxis": {
            "gridcolor": "rgb(232,232,232)",
            "linecolor": "rgb(36,36,36)",
            "showgrid": false,
            "showline": true,
            "ticks": "outside"
           }
          },
          "scene": {
           "xaxis": {
            "backgroundcolor": "white",
            "gridcolor": "rgb(232,232,232)",
            "gridwidth": 2,
            "linecolor": "rgb(36,36,36)",
            "showbackground": true,
            "showgrid": false,
            "showline": true,
            "ticks": "outside",
            "zeroline": false,
            "zerolinecolor": "rgb(36,36,36)"
           },
           "yaxis": {
            "backgroundcolor": "white",
            "gridcolor": "rgb(232,232,232)",
            "gridwidth": 2,
            "linecolor": "rgb(36,36,36)",
            "showbackground": true,
            "showgrid": false,
            "showline": true,
            "ticks": "outside",
            "zeroline": false,
            "zerolinecolor": "rgb(36,36,36)"
           },
           "zaxis": {
            "backgroundcolor": "white",
            "gridcolor": "rgb(232,232,232)",
            "gridwidth": 2,
            "linecolor": "rgb(36,36,36)",
            "showbackground": true,
            "showgrid": false,
            "showline": true,
            "ticks": "outside",
            "zeroline": false,
            "zerolinecolor": "rgb(36,36,36)"
           }
          },
          "shapedefaults": {
           "fillcolor": "black",
           "line": {
            "width": 0
           },
           "opacity": 0.3
          },
          "ternary": {
           "aaxis": {
            "gridcolor": "rgb(232,232,232)",
            "linecolor": "rgb(36,36,36)",
            "showgrid": false,
            "showline": true,
            "ticks": "outside"
           },
           "baxis": {
            "gridcolor": "rgb(232,232,232)",
            "linecolor": "rgb(36,36,36)",
            "showgrid": false,
            "showline": true,
            "ticks": "outside"
           },
           "bgcolor": "white",
           "caxis": {
            "gridcolor": "rgb(232,232,232)",
            "linecolor": "rgb(36,36,36)",
            "showgrid": false,
            "showline": true,
            "ticks": "outside"
           }
          },
          "title": {
           "x": 0.05
          },
          "xaxis": {
           "automargin": true,
           "gridcolor": "rgb(232,232,232)",
           "linecolor": "rgb(36,36,36)",
           "showgrid": false,
           "showline": true,
           "ticks": "outside",
           "title": {
            "standoff": 15
           },
           "zeroline": false,
           "zerolinecolor": "rgb(36,36,36)"
          },
          "yaxis": {
           "automargin": true,
           "gridcolor": "rgb(232,232,232)",
           "linecolor": "rgb(36,36,36)",
           "showgrid": false,
           "showline": true,
           "ticks": "outside",
           "title": {
            "standoff": 15
           },
           "zeroline": false,
           "zerolinecolor": "rgb(36,36,36)"
          }
         }
        },
        "title": {
         "text": "Required $E_p$ for final fidelity ≥ 0.95 vs Temperature"
        },
        "xaxis": {
         "title": {
          "text": "Temperature T"
         }
        },
        "yaxis": {
         "title": {
          "text": "Required $E_p$"
         }
        }
       }
      }
     },
     "metadata": {},
     "output_type": "display_data"
    }
   ],
   "source": [
    "# --- Plot required Ep vs T and vs n_th ---\n",
    "# Verify required results exist\n",
    "if 'required_T' not in globals() or 'required_Ep' not in globals() or 'required_fid' not in globals():\n",
    "    raise RuntimeError('required_T/required_Ep/required_fid not found. Run the sweep cell first.')\n",
    "\n",
    "T = np.array(required_T, dtype=float)\n",
    "Ep = np.array([np.nan if v is None else v for v in required_Ep], dtype=float)\n",
    "fid = np.array(required_fid, dtype=float)\n",
    "\n",
    "if np.all(np.isnan(Ep)):\n",
    "    print('No Ep found for the fidelity target in the sweep (all values None).')\n",
    "else:\n",
    "    # Plot 1: Ep vs Temperature (color = final fidelity)\n",
    "    fig = go.Figure()\n",
    "    fig.add_trace(go.Scatter(\n",
    "        x=T, y=Ep*p[\"to_freq_units\"],  # convert Ep to MHz if needed\n",
    "        mode='lines+markers',\n",
    "        line=dict(shape='linear')\n",
    "    ))\n",
    "    fig.update_layout(\n",
    "        title='Required $E_p$ for final fidelity ≥ 0.95 vs Temperature',\n",
    "        xaxis_title='Temperature T',\n",
    "        yaxis_title='Required $E_p$',\n",
    "        template='simple_white',\n",
    "    )\n",
    "    fig.show()"
   ]
  },
  {
   "cell_type": "code",
   "execution_count": 163,
   "id": "adbf0ccf",
   "metadata": {},
   "outputs": [
    {
     "name": "stderr",
     "output_type": "stream",
     "text": [
      "Temperatures:   0%|          | 0/21 [00:00<?, ?it/s]/Users/chenscheim/miniconda3/lib/python3.12/site-packages/qutip/solver/options.py:16: FutureWarning:\n",
      "\n",
      "Dedicated options class are no longer needed, options should be passed as dict to solvers.\n",
      "\n",
      "/Users/chenscheim/miniconda3/lib/python3.12/site-packages/qutip/solver/options.py:16: FutureWarning:\n",
      "\n",
      "Dedicated options class are no longer needed, options should be passed as dict to solvers.\n",
      "\n",
      "Temperatures: 100%|██████████| 21/21 [01:42<00:00,  4.90s/it]"
     ]
    },
    {
     "name": "stdout",
     "output_type": "stream",
     "text": [
      "T=0.001, required Ep=62893428.28780622, n_th=0.6196713647504374, final fidelity=0.9957442601726603\n",
      "T=0.006, required Ep=125724024.72254065, n_th=4.475908049585832, final fidelity=0.9579626389466323\n",
      "T=0.011, required Ep=251385217.5920095, n_th=8.593936956703464, final fidelity=0.9556232740895978\n",
      "T=0.016, required Ep=377046410.46147835, n_th=12.716724083272643, final fidelity=0.9544145598378889\n",
      "T=0.021, required Ep=502707603.3309472, n_th=16.840873788844146, final fidelity=0.9536982339444644\n",
      "T=0.026, required Ep=628368796.2004161, n_th=20.965600452428458, final fidelity=0.9532268507063173\n",
      "T=0.031, required Ep=754029989.0698849, n_th=25.090625031550356, final fidelity=0.9528936635282006\n",
      "T=0.036, required Ep=879691181.9393538, n_th=29.21582344187692, final fidelity=0.9526458545285679\n",
      "T=0.041, required Ep=1005352374.8088226, n_th=33.341132106952536, final fidelity=0.9524544024344829\n",
      "T=0.046, required Ep=1131013567.6782916, n_th=37.46651508406414, final fidelity=0.9523020936283884\n",
      "T=0.051, required Ep=1256674760.5477602, n_th=41.591950522039475, final fidelity=0.9521780246748913\n",
      "T=0.055, required Ep=1382335953.4172292, n_th=45.71742437190882, final fidelity=0.952075025923714\n",
      "T=0.060, required Ep=1507997146.286698, n_th=49.84292718997454, final fidelity=0.9519881544332552\n",
      "T=0.065, required Ep=1633658339.1561668, n_th=53.968452393731575, final fidelity=0.9519139000637188\n",
      "T=0.070, required Ep=1759319532.0256357, n_th=58.093995254584705, final fidelity=0.9518497017720193\n",
      "T=0.075, required Ep=1884980724.8951046, n_th=62.21955228810984, final fidelity=0.9517936473363313\n",
      "T=0.080, required Ep=2010641917.7645733, n_th=66.34512087010773, final fidelity=0.9517442802328442\n",
      "T=0.085, required Ep=2136303110.6340423, n_th=70.47069898657809, final fidelity=0.9517004715835493\n",
      "T=0.090, required Ep=2199133707.0687766, n_th=74.59628506609808, final fidelity=0.950028549784757\n",
      "T=0.095, required Ep=2324794899.938246, n_th=78.72187786458575, final fidelity=0.9500788148177458\n",
      "T=0.100, required Ep=2450456092.8077145, n_th=82.8474763842861, final fidelity=0.9501239655338045\n"
     ]
    },
    {
     "name": "stderr",
     "output_type": "stream",
     "text": [
      "\n"
     ]
    }
   ],
   "source": [
    "# fixed sweep: find minimal Ep (from Ep_vec) that yields final fidelity >= 0.95 and record n_th\n",
    "Ep_vec = 2*np.pi*np.linspace(10000, 500000000, 51)\n",
    "T_vec = np.linspace(0.001, 0.1, 21)\n",
    "\n",
    "required_Ep_for_95 = []\n",
    "\n",
    "# ensure logical states and helpers are available\n",
    "assert 'logical_zero' in globals() and 'logical_one' in globals(), \"logical states not found\"\n",
    "rho0 = logical_zero * logical_zero.dag()\n",
    "rho1 = logical_one  * logical_one.dag()\n",
    "e_ops = [rho0, rho1]\n",
    "\n",
    "for T in tqdm(T_vec, desc=\"Temperatures\"):\n",
    "    found = False\n",
    "    last_final_fid = np.nan\n",
    "    for Ep in tqdm(Ep_vec, desc=f\"Ep (T={T:.3f})\", leave=False):\n",
    "        # build H(t) callable including penalty Ep\n",
    "        H_fun = make_H_func(Ep)\n",
    "\n",
    "        # compute avg gap between ground and first excited at start/end\n",
    "        try:\n",
    "            H_start = H_fun(float(t_list[0]))\n",
    "            H_end   = H_fun(float(t_list[-1]))\n",
    "            eig_start = np.sort(np.real(H_start.eigenenergies()))\n",
    "            eig_end   = np.sort(np.real(H_end.eigenenergies()))\n",
    "            gap_start = np.abs(eig_start[1] - eig_start[0])\n",
    "            gap_end   = np.abs(eig_end[1] - eig_end[0])\n",
    "            avg_gap = 0.5 * (gap_start + gap_end)\n",
    "        except Exception:\n",
    "            avg_gap = np.nan\n",
    "\n",
    "        # compute n_th using your unit-aware helper\n",
    "        try:\n",
    "            n_th = bose_einstein_N(avg_gap, T)\n",
    "        except Exception:\n",
    "            n_th = np.nan\n",
    "\n",
    "        # piecewise propagation using collapse operators at midpoints\n",
    "        rho = logical_zero * logical_zero.dag()\n",
    "        prev_time = float(t_list[0])\n",
    "        solver_failed = False\n",
    "        for t_next in t_list[1:]:\n",
    "            t_mid = 0.5 * (prev_time + float(t_next))\n",
    "            # thermal collapse ops at midpoint\n",
    "            try:\n",
    "                c_ops = c_ops_gen_thermal(t_mid, H_fun, n_qubits, lambda_2, T)\n",
    "            except Exception:\n",
    "                c_ops = None\n",
    "\n",
    "            t_steps = [prev_time, float(t_next)]\n",
    "            opts = Options(store_states=True)\n",
    "            try:\n",
    "                res = mesolve(H_fun, rho, t_steps, c_ops=c_ops, args=None, e_ops=e_ops, options=opts)\n",
    "            except Exception:\n",
    "                # fallback to no collapse ops\n",
    "                try:\n",
    "                    res = mesolve(H_fun, rho, t_steps, c_ops=None, args=None, e_ops=e_ops, options=opts)\n",
    "                except Exception:\n",
    "                    solver_failed = True\n",
    "                    break\n",
    "\n",
    "            prev_time = float(t_next)\n",
    "            rho = res.states[-1] if hasattr(res, \"states\") and res.states else rho\n",
    "            try:\n",
    "                last_final_fid = float(res.expect[1][-1])\n",
    "            except Exception:\n",
    "                last_final_fid = float((rho1 * rho).tr().real)\n",
    "\n",
    "        if solver_failed:\n",
    "            # skip this Ep and continue\n",
    "            continue\n",
    "\n",
    "        # record first Ep that meets fidelity threshold\n",
    "        if not np.isnan(last_final_fid) and last_final_fid >= 0.95:\n",
    "            required_Ep_for_95.append((T, Ep, n_th, last_final_fid))\n",
    "            found = True\n",
    "            break\n",
    "\n",
    "    if not found:\n",
    "        required_Ep_for_95.append((T, None, np.nan, last_final_fid))\n",
    "\n",
    "# expose results\n",
    "required_T   = [x[0] for x in required_Ep_for_95]\n",
    "required_Ep  = [x[1] for x in required_Ep_for_95]\n",
    "required_nth = [x[2] for x in required_Ep_for_95]\n",
    "required_fid = [x[3] for x in required_Ep_for_95]\n",
    "globals().update({\n",
    "    'required_Ep_for_95': required_Ep_for_95,\n",
    "    'required_T': required_T,\n",
    "    'required_Ep': required_Ep,\n",
    "    'required_nth': required_nth,\n",
    "    'required_fid': required_fid\n",
    "})\n",
    "\n",
    "# summary\n",
    "for T, Ep, nth, fid in required_Ep_for_95:\n",
    "    print(f\"T={T:.3f}, required Ep={Ep}, n_th={nth if not np.isnan(nth) else 'nan'}, final fidelity={fid if not np.isnan(fid) else 'nan'}\")"
   ]
  },
  {
   "cell_type": "code",
   "execution_count": 164,
   "id": "7e5df092",
   "metadata": {},
   "outputs": [
    {
     "data": {
      "application/vnd.plotly.v1+json": {
       "config": {
        "plotlyServerURL": "https://plot.ly"
       },
       "data": [
        {
         "line": {
          "shape": "linear"
         },
         "marker": {
          "color": [
           0.001,
           0.00595,
           0.0109,
           0.015850000000000003,
           0.020800000000000003,
           0.025750000000000002,
           0.030700000000000005,
           0.03565,
           0.040600000000000004,
           0.04555000000000001,
           0.0505,
           0.055450000000000006,
           0.06040000000000001,
           0.06535,
           0.0703,
           0.07525000000000001,
           0.08020000000000001,
           0.08515,
           0.09010000000000001,
           0.09505000000000001,
           0.1
          ],
          "colorbar": {
           "title": {
            "text": "T"
           }
          },
          "colorscale": [
           [
            0,
            "#0d0887"
           ],
           [
            0.1111111111111111,
            "#46039f"
           ],
           [
            0.2222222222222222,
            "#7201a8"
           ],
           [
            0.3333333333333333,
            "#9c179e"
           ],
           [
            0.4444444444444444,
            "#bd3786"
           ],
           [
            0.5555555555555556,
            "#d8576b"
           ],
           [
            0.6666666666666666,
            "#ed7953"
           ],
           [
            0.7777777777777778,
            "#fb9f3a"
           ],
           [
            0.8888888888888888,
            "#fdca26"
           ],
           [
            1,
            "#f0f921"
           ]
          ],
          "size": 8
         },
         "mode": "lines+markers",
         "type": "scatter",
         "x": [
          0.6196713647504374,
          4.475908049585832,
          8.593936956703464,
          12.716724083272643,
          16.840873788844146,
          20.965600452428458,
          25.090625031550356,
          29.21582344187692,
          33.341132106952536,
          37.46651508406414,
          41.591950522039475,
          45.71742437190882,
          49.84292718997454,
          53.968452393731575,
          58.093995254584705,
          62.21955228810984,
          66.34512087010773,
          70.47069898657809,
          74.59628506609808,
          78.72187786458575,
          82.8474763842861
         ],
         "y": [
          10.0098,
          20.0096,
          40.00920000000001,
          60.0088,
          80.00840000000001,
          100.00800000000001,
          120.0076,
          140.0072,
          160.0068,
          180.0064,
          200.006,
          220.00560000000002,
          240.00520000000003,
          260.0048,
          280.00440000000003,
          300.004,
          320.0036,
          340.0032,
          350.003,
          370.00260000000003,
          390.0022
         ]
        }
       ],
       "layout": {
        "template": {
         "data": {
          "bar": [
           {
            "error_x": {
             "color": "rgb(36,36,36)"
            },
            "error_y": {
             "color": "rgb(36,36,36)"
            },
            "marker": {
             "line": {
              "color": "white",
              "width": 0.5
             },
             "pattern": {
              "fillmode": "overlay",
              "size": 10,
              "solidity": 0.2
             }
            },
            "type": "bar"
           }
          ],
          "barpolar": [
           {
            "marker": {
             "line": {
              "color": "white",
              "width": 0.5
             },
             "pattern": {
              "fillmode": "overlay",
              "size": 10,
              "solidity": 0.2
             }
            },
            "type": "barpolar"
           }
          ],
          "carpet": [
           {
            "aaxis": {
             "endlinecolor": "rgb(36,36,36)",
             "gridcolor": "white",
             "linecolor": "white",
             "minorgridcolor": "white",
             "startlinecolor": "rgb(36,36,36)"
            },
            "baxis": {
             "endlinecolor": "rgb(36,36,36)",
             "gridcolor": "white",
             "linecolor": "white",
             "minorgridcolor": "white",
             "startlinecolor": "rgb(36,36,36)"
            },
            "type": "carpet"
           }
          ],
          "choropleth": [
           {
            "colorbar": {
             "outlinewidth": 1,
             "tickcolor": "rgb(36,36,36)",
             "ticks": "outside"
            },
            "type": "choropleth"
           }
          ],
          "contour": [
           {
            "colorbar": {
             "outlinewidth": 1,
             "tickcolor": "rgb(36,36,36)",
             "ticks": "outside"
            },
            "colorscale": [
             [
              0,
              "#440154"
             ],
             [
              0.1111111111111111,
              "#482878"
             ],
             [
              0.2222222222222222,
              "#3e4989"
             ],
             [
              0.3333333333333333,
              "#31688e"
             ],
             [
              0.4444444444444444,
              "#26828e"
             ],
             [
              0.5555555555555556,
              "#1f9e89"
             ],
             [
              0.6666666666666666,
              "#35b779"
             ],
             [
              0.7777777777777778,
              "#6ece58"
             ],
             [
              0.8888888888888888,
              "#b5de2b"
             ],
             [
              1,
              "#fde725"
             ]
            ],
            "type": "contour"
           }
          ],
          "contourcarpet": [
           {
            "colorbar": {
             "outlinewidth": 1,
             "tickcolor": "rgb(36,36,36)",
             "ticks": "outside"
            },
            "type": "contourcarpet"
           }
          ],
          "heatmap": [
           {
            "colorbar": {
             "outlinewidth": 1,
             "tickcolor": "rgb(36,36,36)",
             "ticks": "outside"
            },
            "colorscale": [
             [
              0,
              "#440154"
             ],
             [
              0.1111111111111111,
              "#482878"
             ],
             [
              0.2222222222222222,
              "#3e4989"
             ],
             [
              0.3333333333333333,
              "#31688e"
             ],
             [
              0.4444444444444444,
              "#26828e"
             ],
             [
              0.5555555555555556,
              "#1f9e89"
             ],
             [
              0.6666666666666666,
              "#35b779"
             ],
             [
              0.7777777777777778,
              "#6ece58"
             ],
             [
              0.8888888888888888,
              "#b5de2b"
             ],
             [
              1,
              "#fde725"
             ]
            ],
            "type": "heatmap"
           }
          ],
          "histogram": [
           {
            "marker": {
             "line": {
              "color": "white",
              "width": 0.6
             }
            },
            "type": "histogram"
           }
          ],
          "histogram2d": [
           {
            "colorbar": {
             "outlinewidth": 1,
             "tickcolor": "rgb(36,36,36)",
             "ticks": "outside"
            },
            "colorscale": [
             [
              0,
              "#440154"
             ],
             [
              0.1111111111111111,
              "#482878"
             ],
             [
              0.2222222222222222,
              "#3e4989"
             ],
             [
              0.3333333333333333,
              "#31688e"
             ],
             [
              0.4444444444444444,
              "#26828e"
             ],
             [
              0.5555555555555556,
              "#1f9e89"
             ],
             [
              0.6666666666666666,
              "#35b779"
             ],
             [
              0.7777777777777778,
              "#6ece58"
             ],
             [
              0.8888888888888888,
              "#b5de2b"
             ],
             [
              1,
              "#fde725"
             ]
            ],
            "type": "histogram2d"
           }
          ],
          "histogram2dcontour": [
           {
            "colorbar": {
             "outlinewidth": 1,
             "tickcolor": "rgb(36,36,36)",
             "ticks": "outside"
            },
            "colorscale": [
             [
              0,
              "#440154"
             ],
             [
              0.1111111111111111,
              "#482878"
             ],
             [
              0.2222222222222222,
              "#3e4989"
             ],
             [
              0.3333333333333333,
              "#31688e"
             ],
             [
              0.4444444444444444,
              "#26828e"
             ],
             [
              0.5555555555555556,
              "#1f9e89"
             ],
             [
              0.6666666666666666,
              "#35b779"
             ],
             [
              0.7777777777777778,
              "#6ece58"
             ],
             [
              0.8888888888888888,
              "#b5de2b"
             ],
             [
              1,
              "#fde725"
             ]
            ],
            "type": "histogram2dcontour"
           }
          ],
          "mesh3d": [
           {
            "colorbar": {
             "outlinewidth": 1,
             "tickcolor": "rgb(36,36,36)",
             "ticks": "outside"
            },
            "type": "mesh3d"
           }
          ],
          "parcoords": [
           {
            "line": {
             "colorbar": {
              "outlinewidth": 1,
              "tickcolor": "rgb(36,36,36)",
              "ticks": "outside"
             }
            },
            "type": "parcoords"
           }
          ],
          "pie": [
           {
            "automargin": true,
            "type": "pie"
           }
          ],
          "scatter": [
           {
            "fillpattern": {
             "fillmode": "overlay",
             "size": 10,
             "solidity": 0.2
            },
            "type": "scatter"
           }
          ],
          "scatter3d": [
           {
            "line": {
             "colorbar": {
              "outlinewidth": 1,
              "tickcolor": "rgb(36,36,36)",
              "ticks": "outside"
             }
            },
            "marker": {
             "colorbar": {
              "outlinewidth": 1,
              "tickcolor": "rgb(36,36,36)",
              "ticks": "outside"
             }
            },
            "type": "scatter3d"
           }
          ],
          "scattercarpet": [
           {
            "marker": {
             "colorbar": {
              "outlinewidth": 1,
              "tickcolor": "rgb(36,36,36)",
              "ticks": "outside"
             }
            },
            "type": "scattercarpet"
           }
          ],
          "scattergeo": [
           {
            "marker": {
             "colorbar": {
              "outlinewidth": 1,
              "tickcolor": "rgb(36,36,36)",
              "ticks": "outside"
             }
            },
            "type": "scattergeo"
           }
          ],
          "scattergl": [
           {
            "marker": {
             "colorbar": {
              "outlinewidth": 1,
              "tickcolor": "rgb(36,36,36)",
              "ticks": "outside"
             }
            },
            "type": "scattergl"
           }
          ],
          "scattermap": [
           {
            "marker": {
             "colorbar": {
              "outlinewidth": 1,
              "tickcolor": "rgb(36,36,36)",
              "ticks": "outside"
             }
            },
            "type": "scattermap"
           }
          ],
          "scattermapbox": [
           {
            "marker": {
             "colorbar": {
              "outlinewidth": 1,
              "tickcolor": "rgb(36,36,36)",
              "ticks": "outside"
             }
            },
            "type": "scattermapbox"
           }
          ],
          "scatterpolar": [
           {
            "marker": {
             "colorbar": {
              "outlinewidth": 1,
              "tickcolor": "rgb(36,36,36)",
              "ticks": "outside"
             }
            },
            "type": "scatterpolar"
           }
          ],
          "scatterpolargl": [
           {
            "marker": {
             "colorbar": {
              "outlinewidth": 1,
              "tickcolor": "rgb(36,36,36)",
              "ticks": "outside"
             }
            },
            "type": "scatterpolargl"
           }
          ],
          "scatterternary": [
           {
            "marker": {
             "colorbar": {
              "outlinewidth": 1,
              "tickcolor": "rgb(36,36,36)",
              "ticks": "outside"
             }
            },
            "type": "scatterternary"
           }
          ],
          "surface": [
           {
            "colorbar": {
             "outlinewidth": 1,
             "tickcolor": "rgb(36,36,36)",
             "ticks": "outside"
            },
            "colorscale": [
             [
              0,
              "#440154"
             ],
             [
              0.1111111111111111,
              "#482878"
             ],
             [
              0.2222222222222222,
              "#3e4989"
             ],
             [
              0.3333333333333333,
              "#31688e"
             ],
             [
              0.4444444444444444,
              "#26828e"
             ],
             [
              0.5555555555555556,
              "#1f9e89"
             ],
             [
              0.6666666666666666,
              "#35b779"
             ],
             [
              0.7777777777777778,
              "#6ece58"
             ],
             [
              0.8888888888888888,
              "#b5de2b"
             ],
             [
              1,
              "#fde725"
             ]
            ],
            "type": "surface"
           }
          ],
          "table": [
           {
            "cells": {
             "fill": {
              "color": "rgb(237,237,237)"
             },
             "line": {
              "color": "white"
             }
            },
            "header": {
             "fill": {
              "color": "rgb(217,217,217)"
             },
             "line": {
              "color": "white"
             }
            },
            "type": "table"
           }
          ]
         },
         "layout": {
          "annotationdefaults": {
           "arrowhead": 0,
           "arrowwidth": 1
          },
          "autotypenumbers": "strict",
          "coloraxis": {
           "colorbar": {
            "outlinewidth": 1,
            "tickcolor": "rgb(36,36,36)",
            "ticks": "outside"
           }
          },
          "colorscale": {
           "diverging": [
            [
             0,
             "rgb(103,0,31)"
            ],
            [
             0.1,
             "rgb(178,24,43)"
            ],
            [
             0.2,
             "rgb(214,96,77)"
            ],
            [
             0.3,
             "rgb(244,165,130)"
            ],
            [
             0.4,
             "rgb(253,219,199)"
            ],
            [
             0.5,
             "rgb(247,247,247)"
            ],
            [
             0.6,
             "rgb(209,229,240)"
            ],
            [
             0.7,
             "rgb(146,197,222)"
            ],
            [
             0.8,
             "rgb(67,147,195)"
            ],
            [
             0.9,
             "rgb(33,102,172)"
            ],
            [
             1,
             "rgb(5,48,97)"
            ]
           ],
           "sequential": [
            [
             0,
             "#440154"
            ],
            [
             0.1111111111111111,
             "#482878"
            ],
            [
             0.2222222222222222,
             "#3e4989"
            ],
            [
             0.3333333333333333,
             "#31688e"
            ],
            [
             0.4444444444444444,
             "#26828e"
            ],
            [
             0.5555555555555556,
             "#1f9e89"
            ],
            [
             0.6666666666666666,
             "#35b779"
            ],
            [
             0.7777777777777778,
             "#6ece58"
            ],
            [
             0.8888888888888888,
             "#b5de2b"
            ],
            [
             1,
             "#fde725"
            ]
           ],
           "sequentialminus": [
            [
             0,
             "#440154"
            ],
            [
             0.1111111111111111,
             "#482878"
            ],
            [
             0.2222222222222222,
             "#3e4989"
            ],
            [
             0.3333333333333333,
             "#31688e"
            ],
            [
             0.4444444444444444,
             "#26828e"
            ],
            [
             0.5555555555555556,
             "#1f9e89"
            ],
            [
             0.6666666666666666,
             "#35b779"
            ],
            [
             0.7777777777777778,
             "#6ece58"
            ],
            [
             0.8888888888888888,
             "#b5de2b"
            ],
            [
             1,
             "#fde725"
            ]
           ]
          },
          "colorway": [
           "#1F77B4",
           "#FF7F0E",
           "#2CA02C",
           "#D62728",
           "#9467BD",
           "#8C564B",
           "#E377C2",
           "#7F7F7F",
           "#BCBD22",
           "#17BECF"
          ],
          "font": {
           "color": "rgb(36,36,36)"
          },
          "geo": {
           "bgcolor": "white",
           "lakecolor": "white",
           "landcolor": "white",
           "showlakes": true,
           "showland": true,
           "subunitcolor": "white"
          },
          "hoverlabel": {
           "align": "left"
          },
          "hovermode": "closest",
          "mapbox": {
           "style": "light"
          },
          "paper_bgcolor": "white",
          "plot_bgcolor": "white",
          "polar": {
           "angularaxis": {
            "gridcolor": "rgb(232,232,232)",
            "linecolor": "rgb(36,36,36)",
            "showgrid": false,
            "showline": true,
            "ticks": "outside"
           },
           "bgcolor": "white",
           "radialaxis": {
            "gridcolor": "rgb(232,232,232)",
            "linecolor": "rgb(36,36,36)",
            "showgrid": false,
            "showline": true,
            "ticks": "outside"
           }
          },
          "scene": {
           "xaxis": {
            "backgroundcolor": "white",
            "gridcolor": "rgb(232,232,232)",
            "gridwidth": 2,
            "linecolor": "rgb(36,36,36)",
            "showbackground": true,
            "showgrid": false,
            "showline": true,
            "ticks": "outside",
            "zeroline": false,
            "zerolinecolor": "rgb(36,36,36)"
           },
           "yaxis": {
            "backgroundcolor": "white",
            "gridcolor": "rgb(232,232,232)",
            "gridwidth": 2,
            "linecolor": "rgb(36,36,36)",
            "showbackground": true,
            "showgrid": false,
            "showline": true,
            "ticks": "outside",
            "zeroline": false,
            "zerolinecolor": "rgb(36,36,36)"
           },
           "zaxis": {
            "backgroundcolor": "white",
            "gridcolor": "rgb(232,232,232)",
            "gridwidth": 2,
            "linecolor": "rgb(36,36,36)",
            "showbackground": true,
            "showgrid": false,
            "showline": true,
            "ticks": "outside",
            "zeroline": false,
            "zerolinecolor": "rgb(36,36,36)"
           }
          },
          "shapedefaults": {
           "fillcolor": "black",
           "line": {
            "width": 0
           },
           "opacity": 0.3
          },
          "ternary": {
           "aaxis": {
            "gridcolor": "rgb(232,232,232)",
            "linecolor": "rgb(36,36,36)",
            "showgrid": false,
            "showline": true,
            "ticks": "outside"
           },
           "baxis": {
            "gridcolor": "rgb(232,232,232)",
            "linecolor": "rgb(36,36,36)",
            "showgrid": false,
            "showline": true,
            "ticks": "outside"
           },
           "bgcolor": "white",
           "caxis": {
            "gridcolor": "rgb(232,232,232)",
            "linecolor": "rgb(36,36,36)",
            "showgrid": false,
            "showline": true,
            "ticks": "outside"
           }
          },
          "title": {
           "x": 0.05
          },
          "xaxis": {
           "automargin": true,
           "gridcolor": "rgb(232,232,232)",
           "linecolor": "rgb(36,36,36)",
           "showgrid": false,
           "showline": true,
           "ticks": "outside",
           "title": {
            "standoff": 15
           },
           "zeroline": false,
           "zerolinecolor": "rgb(36,36,36)"
          },
          "yaxis": {
           "automargin": true,
           "gridcolor": "rgb(232,232,232)",
           "linecolor": "rgb(36,36,36)",
           "showgrid": false,
           "showline": true,
           "ticks": "outside",
           "title": {
            "standoff": 15
           },
           "zeroline": false,
           "zerolinecolor": "rgb(36,36,36)"
          }
         }
        },
        "title": {
         "text": "Required $E_p$ vs n_th (mapping via protocol gap)"
        },
        "xaxis": {
         "title": {
          "text": "Bose–Einstein occupancy n_th"
         },
         "type": "log"
        },
        "yaxis": {
         "title": {
          "text": "Required $E_p$"
         }
        }
       }
      }
     },
     "metadata": {},
     "output_type": "display_data"
    }
   ],
   "source": [
    "fig2 = go.Figure()\n",
    "fig2.add_trace(go.Scatter(\n",
    "    x=required_nth, y=[i * params['to_freq_units'] for i in required_Ep],\n",
    "    mode='lines+markers',\n",
    "    marker=dict(size=8, color=required_T, colorscale='Plasma', colorbar=dict(title='T')),\n",
    "    line=dict(shape='linear')\n",
    "))\n",
    "fig2.update_xaxes(type='log', title_text='Bose–Einstein occupancy n_th')\n",
    "fig2.update_yaxes(title_text='Required $E_p$')\n",
    "fig2.update_layout(title='Required $E_p$ vs n_th (mapping via protocol gap)', template='simple_white')"
   ]
  },
  {
   "cell_type": "code",
   "execution_count": 178,
   "id": "7de66465",
   "metadata": {},
   "outputs": [
    {
     "data": {
      "application/vnd.plotly.v1+json": {
       "config": {
        "plotlyServerURL": "https://plot.ly"
       },
       "data": [
        {
         "mode": "lines+markers",
         "name": "Cumulative leakage  ∫ S_out dt",
         "type": "scatter",
         "x": {
          "bdata": "AAAAAAAAAAB7FK5H4XqkP3sUrkfherQ/uR6F61G4vj97FK5H4XrEP5mZmZmZmck/uR6F61G4zj/sUbgehevRP3sUrkfhetQ/CtejcD0K1z+ZmZmZmZnZPylcj8L1KNw/uR6F61G43j+kcD0K16PgP+xRuB6F6+E/MzMzMzMz4z97FK5H4XrkP8P1KFyPwuU/CtejcD0K5z9SuB6F61HoP5mZmZmZmek/4XoUrkfh6j8pXI/C9SjsP3A9CtejcO0/uR6F61G47j8AAAAAAADwP6RwPQrXo/A/SOF6FK5H8T/sUbgehevxP5DC9Shcj/I/MzMzMzMz8z/Xo3A9CtfzP3sUrkfhevQ/H4XrUbge9T/D9Shcj8L1P2ZmZmZmZvY/CtejcD0K9z+uR+F6FK73P1K4HoXrUfg/9ihcj8L1+D+ZmZmZmZn5Pz0K16NwPfo/4XoUrkfh+j+F61G4HoX7Pylcj8L1KPw/zczMzMzM/D9wPQrXo3D9PxSuR+F6FP4/uR6F61G4/j9cj8L1KFz/PwAAAAAAAABA",
          "dtype": "f8"
         },
         "y": {
          "bdata": "AAAAAAAAAADU077e/C6VP2ykzidNKqU/b+8eLr+zrz+C7/qBlhe1P3aWrrn7S7o/sM3XNMV0vz8S7pT510fCP9f6SMBAzcQ/apTswoRJxz8cZ/KzkbvJP/OEKftbIsw/AMXZlN98zj80ykV8EGXQP0J1iQOXhNE/aeiWf4+c0j80rd+7i6zTP0qlNK8jtNQ/KiuB/PWy1T/rEhN0qKjWP1sfcJTolNc/kXueCWx32D+USK4p8U/ZP9TPPm0/Hto/f9qq4ifi2j9raH2ahZvbP+HQygs+Stw/9XAKb0Hu3D8zkBIOi4fdP44e44chFt4/21P8Bhea3j8A6BNpiRPfP/lcFleigt8/mV2BTJfn3z8gE6TGVCHgPxRrzQQTSuA/FnOKlzJu4D/yoYJT5Y3gPy2M2YBiqeA/8TNap+bA4D8PZ09Rs9TgPzL0RsUO5eA/mOkWt0Py4D9Q35TwoPzgP00rh/J4BOE/RHBujiEK4T/N7tp58w3hP00OFNxJEOE/hnLp1oER4T+oZZML+hHhPwEwlBwSEuE/",
          "dtype": "f8"
         }
        },
        {
         "line": {
          "dash": "dash",
          "width": 2
         },
         "mode": "lines",
         "name": "β·E_p",
         "type": "scatter",
         "x": {
          "bdata": "AAAAAAAAAAB7FK5H4XqkP3sUrkfherQ/uR6F61G4vj97FK5H4XrEP5mZmZmZmck/uR6F61G4zj/sUbgehevRP3sUrkfhetQ/CtejcD0K1z+ZmZmZmZnZPylcj8L1KNw/uR6F61G43j+kcD0K16PgP+xRuB6F6+E/MzMzMzMz4z97FK5H4XrkP8P1KFyPwuU/CtejcD0K5z9SuB6F61HoP5mZmZmZmek/4XoUrkfh6j8pXI/C9SjsP3A9CtejcO0/uR6F61G47j8AAAAAAADwP6RwPQrXo/A/SOF6FK5H8T/sUbgehevxP5DC9Shcj/I/MzMzMzMz8z/Xo3A9CtfzP3sUrkfhevQ/H4XrUbge9T/D9Shcj8L1P2ZmZmZmZvY/CtejcD0K9z+uR+F6FK73P1K4HoXrUfg/9ihcj8L1+D+ZmZmZmZn5Pz0K16NwPfo/4XoUrkfh+j+F61G4HoX7Pylcj8L1KPw/zczMzMzM/D9wPQrXo3D9PxSuR+F6FP4/uR6F61G4/j9cj8L1KFz/PwAAAAAAAABA",
          "dtype": "f8"
         },
         "y": [
          0.24956204744010024,
          0.24956204744010024,
          0.24956204744010024,
          0.24956204744010024,
          0.24956204744010024,
          0.24956204744010024,
          0.24956204744010024,
          0.24956204744010024,
          0.24956204744010024,
          0.24956204744010024,
          0.24956204744010024,
          0.24956204744010024,
          0.24956204744010024,
          0.24956204744010024,
          0.24956204744010024,
          0.24956204744010024,
          0.24956204744010024,
          0.24956204744010024,
          0.24956204744010024,
          0.24956204744010024,
          0.24956204744010024,
          0.24956204744010024,
          0.24956204744010024,
          0.24956204744010024,
          0.24956204744010024,
          0.24956204744010024,
          0.24956204744010024,
          0.24956204744010024,
          0.24956204744010024,
          0.24956204744010024,
          0.24956204744010024,
          0.24956204744010024,
          0.24956204744010024,
          0.24956204744010024,
          0.24956204744010024,
          0.24956204744010024,
          0.24956204744010024,
          0.24956204744010024,
          0.24956204744010024,
          0.24956204744010024,
          0.24956204744010024,
          0.24956204744010024,
          0.24956204744010024,
          0.24956204744010024,
          0.24956204744010024,
          0.24956204744010024,
          0.24956204744010024,
          0.24956204744010024,
          0.24956204744010024,
          0.24956204744010024,
          0.24956204744010024
         ]
        }
       ],
       "layout": {
        "legend": {
         "title": {
          "text": ""
         }
        },
        "template": {
         "data": {
          "bar": [
           {
            "error_x": {
             "color": "#2a3f5f"
            },
            "error_y": {
             "color": "#2a3f5f"
            },
            "marker": {
             "line": {
              "color": "white",
              "width": 0.5
             },
             "pattern": {
              "fillmode": "overlay",
              "size": 10,
              "solidity": 0.2
             }
            },
            "type": "bar"
           }
          ],
          "barpolar": [
           {
            "marker": {
             "line": {
              "color": "white",
              "width": 0.5
             },
             "pattern": {
              "fillmode": "overlay",
              "size": 10,
              "solidity": 0.2
             }
            },
            "type": "barpolar"
           }
          ],
          "carpet": [
           {
            "aaxis": {
             "endlinecolor": "#2a3f5f",
             "gridcolor": "#C8D4E3",
             "linecolor": "#C8D4E3",
             "minorgridcolor": "#C8D4E3",
             "startlinecolor": "#2a3f5f"
            },
            "baxis": {
             "endlinecolor": "#2a3f5f",
             "gridcolor": "#C8D4E3",
             "linecolor": "#C8D4E3",
             "minorgridcolor": "#C8D4E3",
             "startlinecolor": "#2a3f5f"
            },
            "type": "carpet"
           }
          ],
          "choropleth": [
           {
            "colorbar": {
             "outlinewidth": 0,
             "ticks": ""
            },
            "type": "choropleth"
           }
          ],
          "contour": [
           {
            "colorbar": {
             "outlinewidth": 0,
             "ticks": ""
            },
            "colorscale": [
             [
              0,
              "#0d0887"
             ],
             [
              0.1111111111111111,
              "#46039f"
             ],
             [
              0.2222222222222222,
              "#7201a8"
             ],
             [
              0.3333333333333333,
              "#9c179e"
             ],
             [
              0.4444444444444444,
              "#bd3786"
             ],
             [
              0.5555555555555556,
              "#d8576b"
             ],
             [
              0.6666666666666666,
              "#ed7953"
             ],
             [
              0.7777777777777778,
              "#fb9f3a"
             ],
             [
              0.8888888888888888,
              "#fdca26"
             ],
             [
              1,
              "#f0f921"
             ]
            ],
            "type": "contour"
           }
          ],
          "contourcarpet": [
           {
            "colorbar": {
             "outlinewidth": 0,
             "ticks": ""
            },
            "type": "contourcarpet"
           }
          ],
          "heatmap": [
           {
            "colorbar": {
             "outlinewidth": 0,
             "ticks": ""
            },
            "colorscale": [
             [
              0,
              "#0d0887"
             ],
             [
              0.1111111111111111,
              "#46039f"
             ],
             [
              0.2222222222222222,
              "#7201a8"
             ],
             [
              0.3333333333333333,
              "#9c179e"
             ],
             [
              0.4444444444444444,
              "#bd3786"
             ],
             [
              0.5555555555555556,
              "#d8576b"
             ],
             [
              0.6666666666666666,
              "#ed7953"
             ],
             [
              0.7777777777777778,
              "#fb9f3a"
             ],
             [
              0.8888888888888888,
              "#fdca26"
             ],
             [
              1,
              "#f0f921"
             ]
            ],
            "type": "heatmap"
           }
          ],
          "histogram": [
           {
            "marker": {
             "pattern": {
              "fillmode": "overlay",
              "size": 10,
              "solidity": 0.2
             }
            },
            "type": "histogram"
           }
          ],
          "histogram2d": [
           {
            "colorbar": {
             "outlinewidth": 0,
             "ticks": ""
            },
            "colorscale": [
             [
              0,
              "#0d0887"
             ],
             [
              0.1111111111111111,
              "#46039f"
             ],
             [
              0.2222222222222222,
              "#7201a8"
             ],
             [
              0.3333333333333333,
              "#9c179e"
             ],
             [
              0.4444444444444444,
              "#bd3786"
             ],
             [
              0.5555555555555556,
              "#d8576b"
             ],
             [
              0.6666666666666666,
              "#ed7953"
             ],
             [
              0.7777777777777778,
              "#fb9f3a"
             ],
             [
              0.8888888888888888,
              "#fdca26"
             ],
             [
              1,
              "#f0f921"
             ]
            ],
            "type": "histogram2d"
           }
          ],
          "histogram2dcontour": [
           {
            "colorbar": {
             "outlinewidth": 0,
             "ticks": ""
            },
            "colorscale": [
             [
              0,
              "#0d0887"
             ],
             [
              0.1111111111111111,
              "#46039f"
             ],
             [
              0.2222222222222222,
              "#7201a8"
             ],
             [
              0.3333333333333333,
              "#9c179e"
             ],
             [
              0.4444444444444444,
              "#bd3786"
             ],
             [
              0.5555555555555556,
              "#d8576b"
             ],
             [
              0.6666666666666666,
              "#ed7953"
             ],
             [
              0.7777777777777778,
              "#fb9f3a"
             ],
             [
              0.8888888888888888,
              "#fdca26"
             ],
             [
              1,
              "#f0f921"
             ]
            ],
            "type": "histogram2dcontour"
           }
          ],
          "mesh3d": [
           {
            "colorbar": {
             "outlinewidth": 0,
             "ticks": ""
            },
            "type": "mesh3d"
           }
          ],
          "parcoords": [
           {
            "line": {
             "colorbar": {
              "outlinewidth": 0,
              "ticks": ""
             }
            },
            "type": "parcoords"
           }
          ],
          "pie": [
           {
            "automargin": true,
            "type": "pie"
           }
          ],
          "scatter": [
           {
            "fillpattern": {
             "fillmode": "overlay",
             "size": 10,
             "solidity": 0.2
            },
            "type": "scatter"
           }
          ],
          "scatter3d": [
           {
            "line": {
             "colorbar": {
              "outlinewidth": 0,
              "ticks": ""
             }
            },
            "marker": {
             "colorbar": {
              "outlinewidth": 0,
              "ticks": ""
             }
            },
            "type": "scatter3d"
           }
          ],
          "scattercarpet": [
           {
            "marker": {
             "colorbar": {
              "outlinewidth": 0,
              "ticks": ""
             }
            },
            "type": "scattercarpet"
           }
          ],
          "scattergeo": [
           {
            "marker": {
             "colorbar": {
              "outlinewidth": 0,
              "ticks": ""
             }
            },
            "type": "scattergeo"
           }
          ],
          "scattergl": [
           {
            "marker": {
             "colorbar": {
              "outlinewidth": 0,
              "ticks": ""
             }
            },
            "type": "scattergl"
           }
          ],
          "scattermap": [
           {
            "marker": {
             "colorbar": {
              "outlinewidth": 0,
              "ticks": ""
             }
            },
            "type": "scattermap"
           }
          ],
          "scattermapbox": [
           {
            "marker": {
             "colorbar": {
              "outlinewidth": 0,
              "ticks": ""
             }
            },
            "type": "scattermapbox"
           }
          ],
          "scatterpolar": [
           {
            "marker": {
             "colorbar": {
              "outlinewidth": 0,
              "ticks": ""
             }
            },
            "type": "scatterpolar"
           }
          ],
          "scatterpolargl": [
           {
            "marker": {
             "colorbar": {
              "outlinewidth": 0,
              "ticks": ""
             }
            },
            "type": "scatterpolargl"
           }
          ],
          "scatterternary": [
           {
            "marker": {
             "colorbar": {
              "outlinewidth": 0,
              "ticks": ""
             }
            },
            "type": "scatterternary"
           }
          ],
          "surface": [
           {
            "colorbar": {
             "outlinewidth": 0,
             "ticks": ""
            },
            "colorscale": [
             [
              0,
              "#0d0887"
             ],
             [
              0.1111111111111111,
              "#46039f"
             ],
             [
              0.2222222222222222,
              "#7201a8"
             ],
             [
              0.3333333333333333,
              "#9c179e"
             ],
             [
              0.4444444444444444,
              "#bd3786"
             ],
             [
              0.5555555555555556,
              "#d8576b"
             ],
             [
              0.6666666666666666,
              "#ed7953"
             ],
             [
              0.7777777777777778,
              "#fb9f3a"
             ],
             [
              0.8888888888888888,
              "#fdca26"
             ],
             [
              1,
              "#f0f921"
             ]
            ],
            "type": "surface"
           }
          ],
          "table": [
           {
            "cells": {
             "fill": {
              "color": "#EBF0F8"
             },
             "line": {
              "color": "white"
             }
            },
            "header": {
             "fill": {
              "color": "#C8D4E3"
             },
             "line": {
              "color": "white"
             }
            },
            "type": "table"
           }
          ]
         },
         "layout": {
          "annotationdefaults": {
           "arrowcolor": "#2a3f5f",
           "arrowhead": 0,
           "arrowwidth": 1
          },
          "autotypenumbers": "strict",
          "coloraxis": {
           "colorbar": {
            "outlinewidth": 0,
            "ticks": ""
           }
          },
          "colorscale": {
           "diverging": [
            [
             0,
             "#8e0152"
            ],
            [
             0.1,
             "#c51b7d"
            ],
            [
             0.2,
             "#de77ae"
            ],
            [
             0.3,
             "#f1b6da"
            ],
            [
             0.4,
             "#fde0ef"
            ],
            [
             0.5,
             "#f7f7f7"
            ],
            [
             0.6,
             "#e6f5d0"
            ],
            [
             0.7,
             "#b8e186"
            ],
            [
             0.8,
             "#7fbc41"
            ],
            [
             0.9,
             "#4d9221"
            ],
            [
             1,
             "#276419"
            ]
           ],
           "sequential": [
            [
             0,
             "#0d0887"
            ],
            [
             0.1111111111111111,
             "#46039f"
            ],
            [
             0.2222222222222222,
             "#7201a8"
            ],
            [
             0.3333333333333333,
             "#9c179e"
            ],
            [
             0.4444444444444444,
             "#bd3786"
            ],
            [
             0.5555555555555556,
             "#d8576b"
            ],
            [
             0.6666666666666666,
             "#ed7953"
            ],
            [
             0.7777777777777778,
             "#fb9f3a"
            ],
            [
             0.8888888888888888,
             "#fdca26"
            ],
            [
             1,
             "#f0f921"
            ]
           ],
           "sequentialminus": [
            [
             0,
             "#0d0887"
            ],
            [
             0.1111111111111111,
             "#46039f"
            ],
            [
             0.2222222222222222,
             "#7201a8"
            ],
            [
             0.3333333333333333,
             "#9c179e"
            ],
            [
             0.4444444444444444,
             "#bd3786"
            ],
            [
             0.5555555555555556,
             "#d8576b"
            ],
            [
             0.6666666666666666,
             "#ed7953"
            ],
            [
             0.7777777777777778,
             "#fb9f3a"
            ],
            [
             0.8888888888888888,
             "#fdca26"
            ],
            [
             1,
             "#f0f921"
            ]
           ]
          },
          "colorway": [
           "#636efa",
           "#EF553B",
           "#00cc96",
           "#ab63fa",
           "#FFA15A",
           "#19d3f3",
           "#FF6692",
           "#B6E880",
           "#FF97FF",
           "#FECB52"
          ],
          "font": {
           "color": "#2a3f5f"
          },
          "geo": {
           "bgcolor": "white",
           "lakecolor": "white",
           "landcolor": "white",
           "showlakes": true,
           "showland": true,
           "subunitcolor": "#C8D4E3"
          },
          "hoverlabel": {
           "align": "left"
          },
          "hovermode": "closest",
          "mapbox": {
           "style": "light"
          },
          "paper_bgcolor": "white",
          "plot_bgcolor": "white",
          "polar": {
           "angularaxis": {
            "gridcolor": "#EBF0F8",
            "linecolor": "#EBF0F8",
            "ticks": ""
           },
           "bgcolor": "white",
           "radialaxis": {
            "gridcolor": "#EBF0F8",
            "linecolor": "#EBF0F8",
            "ticks": ""
           }
          },
          "scene": {
           "xaxis": {
            "backgroundcolor": "white",
            "gridcolor": "#DFE8F3",
            "gridwidth": 2,
            "linecolor": "#EBF0F8",
            "showbackground": true,
            "ticks": "",
            "zerolinecolor": "#EBF0F8"
           },
           "yaxis": {
            "backgroundcolor": "white",
            "gridcolor": "#DFE8F3",
            "gridwidth": 2,
            "linecolor": "#EBF0F8",
            "showbackground": true,
            "ticks": "",
            "zerolinecolor": "#EBF0F8"
           },
           "zaxis": {
            "backgroundcolor": "white",
            "gridcolor": "#DFE8F3",
            "gridwidth": 2,
            "linecolor": "#EBF0F8",
            "showbackground": true,
            "ticks": "",
            "zerolinecolor": "#EBF0F8"
           }
          },
          "shapedefaults": {
           "line": {
            "color": "#2a3f5f"
           }
          },
          "ternary": {
           "aaxis": {
            "gridcolor": "#DFE8F3",
            "linecolor": "#A2B1C6",
            "ticks": ""
           },
           "baxis": {
            "gridcolor": "#DFE8F3",
            "linecolor": "#A2B1C6",
            "ticks": ""
           },
           "bgcolor": "white",
           "caxis": {
            "gridcolor": "#DFE8F3",
            "linecolor": "#A2B1C6",
            "ticks": ""
           }
          },
          "title": {
           "x": 0.05
          },
          "xaxis": {
           "automargin": true,
           "gridcolor": "#EBF0F8",
           "linecolor": "#EBF0F8",
           "ticks": "",
           "title": {
            "standoff": 15
           },
           "zerolinecolor": "#EBF0F8",
           "zerolinewidth": 2
          },
          "yaxis": {
           "automargin": true,
           "gridcolor": "#EBF0F8",
           "linecolor": "#EBF0F8",
           "ticks": "",
           "title": {
            "standoff": 15
           },
           "zerolinecolor": "#EBF0F8",
           "zerolinewidth": 2
          }
         }
        },
        "title": {
         "text": "Dimensionless cumulative leakage vs time — IBM"
        },
        "xaxis": {
         "title": {
          "text": "time [µs]"
         }
        },
        "yaxis": {
         "title": {
          "text": "Dimensionless (cumulative leakage, β·E_p)"
         }
        }
       }
      }
     },
     "metadata": {},
     "output_type": "display_data"
    },
    {
     "name": "stdout",
     "output_type": "stream",
     "text": [
      "Final cumulative leakage = 5.335e-01; β·E_p = 0.25 (Ep ≈ 78 MHz, T=0.015 K)\n"
     ]
    },
    {
     "name": "stderr",
     "output_type": "stream",
     "text": [
      "/Users/chenscheim/miniconda3/lib/python3.12/site-packages/qutip/solver/options.py:16: FutureWarning:\n",
      "\n",
      "Dedicated options class are no longer needed, options should be passed as dict to solvers.\n",
      "\n"
     ]
    },
    {
     "data": {
      "application/vnd.plotly.v1+json": {
       "config": {
        "plotlyServerURL": "https://plot.ly"
       },
       "data": [
        {
         "mode": "lines+markers",
         "name": "Fidelity to |1_L⟩",
         "type": "scatter",
         "x": {
          "bdata": "AAAAAAAAAAB7FK5H4XqkP3sUrkfherQ/uR6F61G4vj97FK5H4XrEP5mZmZmZmck/uR6F61G4zj/sUbgehevRP3sUrkfhetQ/CtejcD0K1z+ZmZmZmZnZPylcj8L1KNw/uR6F61G43j+kcD0K16PgP+xRuB6F6+E/MzMzMzMz4z97FK5H4XrkP8P1KFyPwuU/CtejcD0K5z9SuB6F61HoP5mZmZmZmek/4XoUrkfh6j8pXI/C9SjsP3A9CtejcO0/uR6F61G47j8AAAAAAADwP6RwPQrXo/A/SOF6FK5H8T/sUbgehevxP5DC9Shcj/I/MzMzMzMz8z/Xo3A9CtfzP3sUrkfhevQ/H4XrUbge9T/D9Shcj8L1P2ZmZmZmZvY/CtejcD0K9z+uR+F6FK73P1K4HoXrUfg/9ihcj8L1+D+ZmZmZmZn5Pz0K16NwPfo/4XoUrkfh+j+F61G4HoX7Pylcj8L1KPw/zczMzMzM/D9wPQrXo3D9PxSuR+F6FP4/uR6F61G4/j9cj8L1KFz/PwAAAAAAAABA",
          "dtype": "f8"
         },
         "y": [
          0,
          0.0009853296228266833,
          0.003932607503717097,
          0.008823047953254953,
          0.015630357071421772,
          0.024320854730069626,
          0.03485350192543851,
          0.04718056757231238,
          0.061247466667893845,
          0.07699312859724358,
          0.09435027592556923,
          0.11324572852292623,
          0.13360071601854723,
          0.1553312027194148,
          0.1783482659410633,
          0.20255842831187987,
          0.22786492832353378,
          0.2541656324654798,
          0.2813557503565725,
          0.3093279011250731,
          0.33797135203854267,
          0.36717357732857725,
          0.396820299360331,
          0.4267959040443558,
          0.45698385041541517,
          0.487267082340444,
          0.5175284386368204,
          0.5476510593188626,
          0.577518787611258,
          0.6070165674567182,
          0.6360308364074148,
          0.6644499117538035,
          0.6921643673410057,
          0.7190674093108418,
          0.7450548914367363,
          0.7700267698949271,
          0.7938863331240397,
          0.8165409196125923,
          0.8379022563294324,
          0.8578862927170472,
          0.8764151325663083,
          0.8934155666281949,
          0.908820023629526,
          0.9225668266888492,
          0.9346007201805411,
          0.9448722287534792,
          0.9533389046419337,
          0.9599651496900545,
          0.9647223689579384,
          0.9675891879307057,
          0.9685515751327616
         ]
        }
       ],
       "layout": {
        "legend": {
         "title": {
          "text": ""
         }
        },
        "template": {
         "data": {
          "bar": [
           {
            "error_x": {
             "color": "#2a3f5f"
            },
            "error_y": {
             "color": "#2a3f5f"
            },
            "marker": {
             "line": {
              "color": "white",
              "width": 0.5
             },
             "pattern": {
              "fillmode": "overlay",
              "size": 10,
              "solidity": 0.2
             }
            },
            "type": "bar"
           }
          ],
          "barpolar": [
           {
            "marker": {
             "line": {
              "color": "white",
              "width": 0.5
             },
             "pattern": {
              "fillmode": "overlay",
              "size": 10,
              "solidity": 0.2
             }
            },
            "type": "barpolar"
           }
          ],
          "carpet": [
           {
            "aaxis": {
             "endlinecolor": "#2a3f5f",
             "gridcolor": "#C8D4E3",
             "linecolor": "#C8D4E3",
             "minorgridcolor": "#C8D4E3",
             "startlinecolor": "#2a3f5f"
            },
            "baxis": {
             "endlinecolor": "#2a3f5f",
             "gridcolor": "#C8D4E3",
             "linecolor": "#C8D4E3",
             "minorgridcolor": "#C8D4E3",
             "startlinecolor": "#2a3f5f"
            },
            "type": "carpet"
           }
          ],
          "choropleth": [
           {
            "colorbar": {
             "outlinewidth": 0,
             "ticks": ""
            },
            "type": "choropleth"
           }
          ],
          "contour": [
           {
            "colorbar": {
             "outlinewidth": 0,
             "ticks": ""
            },
            "colorscale": [
             [
              0,
              "#0d0887"
             ],
             [
              0.1111111111111111,
              "#46039f"
             ],
             [
              0.2222222222222222,
              "#7201a8"
             ],
             [
              0.3333333333333333,
              "#9c179e"
             ],
             [
              0.4444444444444444,
              "#bd3786"
             ],
             [
              0.5555555555555556,
              "#d8576b"
             ],
             [
              0.6666666666666666,
              "#ed7953"
             ],
             [
              0.7777777777777778,
              "#fb9f3a"
             ],
             [
              0.8888888888888888,
              "#fdca26"
             ],
             [
              1,
              "#f0f921"
             ]
            ],
            "type": "contour"
           }
          ],
          "contourcarpet": [
           {
            "colorbar": {
             "outlinewidth": 0,
             "ticks": ""
            },
            "type": "contourcarpet"
           }
          ],
          "heatmap": [
           {
            "colorbar": {
             "outlinewidth": 0,
             "ticks": ""
            },
            "colorscale": [
             [
              0,
              "#0d0887"
             ],
             [
              0.1111111111111111,
              "#46039f"
             ],
             [
              0.2222222222222222,
              "#7201a8"
             ],
             [
              0.3333333333333333,
              "#9c179e"
             ],
             [
              0.4444444444444444,
              "#bd3786"
             ],
             [
              0.5555555555555556,
              "#d8576b"
             ],
             [
              0.6666666666666666,
              "#ed7953"
             ],
             [
              0.7777777777777778,
              "#fb9f3a"
             ],
             [
              0.8888888888888888,
              "#fdca26"
             ],
             [
              1,
              "#f0f921"
             ]
            ],
            "type": "heatmap"
           }
          ],
          "histogram": [
           {
            "marker": {
             "pattern": {
              "fillmode": "overlay",
              "size": 10,
              "solidity": 0.2
             }
            },
            "type": "histogram"
           }
          ],
          "histogram2d": [
           {
            "colorbar": {
             "outlinewidth": 0,
             "ticks": ""
            },
            "colorscale": [
             [
              0,
              "#0d0887"
             ],
             [
              0.1111111111111111,
              "#46039f"
             ],
             [
              0.2222222222222222,
              "#7201a8"
             ],
             [
              0.3333333333333333,
              "#9c179e"
             ],
             [
              0.4444444444444444,
              "#bd3786"
             ],
             [
              0.5555555555555556,
              "#d8576b"
             ],
             [
              0.6666666666666666,
              "#ed7953"
             ],
             [
              0.7777777777777778,
              "#fb9f3a"
             ],
             [
              0.8888888888888888,
              "#fdca26"
             ],
             [
              1,
              "#f0f921"
             ]
            ],
            "type": "histogram2d"
           }
          ],
          "histogram2dcontour": [
           {
            "colorbar": {
             "outlinewidth": 0,
             "ticks": ""
            },
            "colorscale": [
             [
              0,
              "#0d0887"
             ],
             [
              0.1111111111111111,
              "#46039f"
             ],
             [
              0.2222222222222222,
              "#7201a8"
             ],
             [
              0.3333333333333333,
              "#9c179e"
             ],
             [
              0.4444444444444444,
              "#bd3786"
             ],
             [
              0.5555555555555556,
              "#d8576b"
             ],
             [
              0.6666666666666666,
              "#ed7953"
             ],
             [
              0.7777777777777778,
              "#fb9f3a"
             ],
             [
              0.8888888888888888,
              "#fdca26"
             ],
             [
              1,
              "#f0f921"
             ]
            ],
            "type": "histogram2dcontour"
           }
          ],
          "mesh3d": [
           {
            "colorbar": {
             "outlinewidth": 0,
             "ticks": ""
            },
            "type": "mesh3d"
           }
          ],
          "parcoords": [
           {
            "line": {
             "colorbar": {
              "outlinewidth": 0,
              "ticks": ""
             }
            },
            "type": "parcoords"
           }
          ],
          "pie": [
           {
            "automargin": true,
            "type": "pie"
           }
          ],
          "scatter": [
           {
            "fillpattern": {
             "fillmode": "overlay",
             "size": 10,
             "solidity": 0.2
            },
            "type": "scatter"
           }
          ],
          "scatter3d": [
           {
            "line": {
             "colorbar": {
              "outlinewidth": 0,
              "ticks": ""
             }
            },
            "marker": {
             "colorbar": {
              "outlinewidth": 0,
              "ticks": ""
             }
            },
            "type": "scatter3d"
           }
          ],
          "scattercarpet": [
           {
            "marker": {
             "colorbar": {
              "outlinewidth": 0,
              "ticks": ""
             }
            },
            "type": "scattercarpet"
           }
          ],
          "scattergeo": [
           {
            "marker": {
             "colorbar": {
              "outlinewidth": 0,
              "ticks": ""
             }
            },
            "type": "scattergeo"
           }
          ],
          "scattergl": [
           {
            "marker": {
             "colorbar": {
              "outlinewidth": 0,
              "ticks": ""
             }
            },
            "type": "scattergl"
           }
          ],
          "scattermap": [
           {
            "marker": {
             "colorbar": {
              "outlinewidth": 0,
              "ticks": ""
             }
            },
            "type": "scattermap"
           }
          ],
          "scattermapbox": [
           {
            "marker": {
             "colorbar": {
              "outlinewidth": 0,
              "ticks": ""
             }
            },
            "type": "scattermapbox"
           }
          ],
          "scatterpolar": [
           {
            "marker": {
             "colorbar": {
              "outlinewidth": 0,
              "ticks": ""
             }
            },
            "type": "scatterpolar"
           }
          ],
          "scatterpolargl": [
           {
            "marker": {
             "colorbar": {
              "outlinewidth": 0,
              "ticks": ""
             }
            },
            "type": "scatterpolargl"
           }
          ],
          "scatterternary": [
           {
            "marker": {
             "colorbar": {
              "outlinewidth": 0,
              "ticks": ""
             }
            },
            "type": "scatterternary"
           }
          ],
          "surface": [
           {
            "colorbar": {
             "outlinewidth": 0,
             "ticks": ""
            },
            "colorscale": [
             [
              0,
              "#0d0887"
             ],
             [
              0.1111111111111111,
              "#46039f"
             ],
             [
              0.2222222222222222,
              "#7201a8"
             ],
             [
              0.3333333333333333,
              "#9c179e"
             ],
             [
              0.4444444444444444,
              "#bd3786"
             ],
             [
              0.5555555555555556,
              "#d8576b"
             ],
             [
              0.6666666666666666,
              "#ed7953"
             ],
             [
              0.7777777777777778,
              "#fb9f3a"
             ],
             [
              0.8888888888888888,
              "#fdca26"
             ],
             [
              1,
              "#f0f921"
             ]
            ],
            "type": "surface"
           }
          ],
          "table": [
           {
            "cells": {
             "fill": {
              "color": "#EBF0F8"
             },
             "line": {
              "color": "white"
             }
            },
            "header": {
             "fill": {
              "color": "#C8D4E3"
             },
             "line": {
              "color": "white"
             }
            },
            "type": "table"
           }
          ]
         },
         "layout": {
          "annotationdefaults": {
           "arrowcolor": "#2a3f5f",
           "arrowhead": 0,
           "arrowwidth": 1
          },
          "autotypenumbers": "strict",
          "coloraxis": {
           "colorbar": {
            "outlinewidth": 0,
            "ticks": ""
           }
          },
          "colorscale": {
           "diverging": [
            [
             0,
             "#8e0152"
            ],
            [
             0.1,
             "#c51b7d"
            ],
            [
             0.2,
             "#de77ae"
            ],
            [
             0.3,
             "#f1b6da"
            ],
            [
             0.4,
             "#fde0ef"
            ],
            [
             0.5,
             "#f7f7f7"
            ],
            [
             0.6,
             "#e6f5d0"
            ],
            [
             0.7,
             "#b8e186"
            ],
            [
             0.8,
             "#7fbc41"
            ],
            [
             0.9,
             "#4d9221"
            ],
            [
             1,
             "#276419"
            ]
           ],
           "sequential": [
            [
             0,
             "#0d0887"
            ],
            [
             0.1111111111111111,
             "#46039f"
            ],
            [
             0.2222222222222222,
             "#7201a8"
            ],
            [
             0.3333333333333333,
             "#9c179e"
            ],
            [
             0.4444444444444444,
             "#bd3786"
            ],
            [
             0.5555555555555556,
             "#d8576b"
            ],
            [
             0.6666666666666666,
             "#ed7953"
            ],
            [
             0.7777777777777778,
             "#fb9f3a"
            ],
            [
             0.8888888888888888,
             "#fdca26"
            ],
            [
             1,
             "#f0f921"
            ]
           ],
           "sequentialminus": [
            [
             0,
             "#0d0887"
            ],
            [
             0.1111111111111111,
             "#46039f"
            ],
            [
             0.2222222222222222,
             "#7201a8"
            ],
            [
             0.3333333333333333,
             "#9c179e"
            ],
            [
             0.4444444444444444,
             "#bd3786"
            ],
            [
             0.5555555555555556,
             "#d8576b"
            ],
            [
             0.6666666666666666,
             "#ed7953"
            ],
            [
             0.7777777777777778,
             "#fb9f3a"
            ],
            [
             0.8888888888888888,
             "#fdca26"
            ],
            [
             1,
             "#f0f921"
            ]
           ]
          },
          "colorway": [
           "#636efa",
           "#EF553B",
           "#00cc96",
           "#ab63fa",
           "#FFA15A",
           "#19d3f3",
           "#FF6692",
           "#B6E880",
           "#FF97FF",
           "#FECB52"
          ],
          "font": {
           "color": "#2a3f5f"
          },
          "geo": {
           "bgcolor": "white",
           "lakecolor": "white",
           "landcolor": "white",
           "showlakes": true,
           "showland": true,
           "subunitcolor": "#C8D4E3"
          },
          "hoverlabel": {
           "align": "left"
          },
          "hovermode": "closest",
          "mapbox": {
           "style": "light"
          },
          "paper_bgcolor": "white",
          "plot_bgcolor": "white",
          "polar": {
           "angularaxis": {
            "gridcolor": "#EBF0F8",
            "linecolor": "#EBF0F8",
            "ticks": ""
           },
           "bgcolor": "white",
           "radialaxis": {
            "gridcolor": "#EBF0F8",
            "linecolor": "#EBF0F8",
            "ticks": ""
           }
          },
          "scene": {
           "xaxis": {
            "backgroundcolor": "white",
            "gridcolor": "#DFE8F3",
            "gridwidth": 2,
            "linecolor": "#EBF0F8",
            "showbackground": true,
            "ticks": "",
            "zerolinecolor": "#EBF0F8"
           },
           "yaxis": {
            "backgroundcolor": "white",
            "gridcolor": "#DFE8F3",
            "gridwidth": 2,
            "linecolor": "#EBF0F8",
            "showbackground": true,
            "ticks": "",
            "zerolinecolor": "#EBF0F8"
           },
           "zaxis": {
            "backgroundcolor": "white",
            "gridcolor": "#DFE8F3",
            "gridwidth": 2,
            "linecolor": "#EBF0F8",
            "showbackground": true,
            "ticks": "",
            "zerolinecolor": "#EBF0F8"
           }
          },
          "shapedefaults": {
           "line": {
            "color": "#2a3f5f"
           }
          },
          "ternary": {
           "aaxis": {
            "gridcolor": "#DFE8F3",
            "linecolor": "#A2B1C6",
            "ticks": ""
           },
           "baxis": {
            "gridcolor": "#DFE8F3",
            "linecolor": "#A2B1C6",
            "ticks": ""
           },
           "bgcolor": "white",
           "caxis": {
            "gridcolor": "#DFE8F3",
            "linecolor": "#A2B1C6",
            "ticks": ""
           }
          },
          "title": {
           "x": 0.05
          },
          "xaxis": {
           "automargin": true,
           "gridcolor": "#EBF0F8",
           "linecolor": "#EBF0F8",
           "ticks": "",
           "title": {
            "standoff": 15
           },
           "zerolinecolor": "#EBF0F8",
           "zerolinewidth": 2
          },
          "yaxis": {
           "automargin": true,
           "gridcolor": "#EBF0F8",
           "linecolor": "#EBF0F8",
           "ticks": "",
           "title": {
            "standoff": 15
           },
           "zerolinecolor": "#EBF0F8",
           "zerolinewidth": 2
          }
         }
        },
        "title": {
         "text": "Logical |1_L⟩ fidelity over time with thermal noise — IBM"
        },
        "xaxis": {
         "title": {
          "text": "time [µs]"
         }
        },
        "yaxis": {
         "title": {
          "text": "Fidelity ⟨1_L|ρ|1_L⟩"
         }
        }
       }
      }
     },
     "metadata": {},
     "output_type": "display_data"
    },
    {
     "name": "stdout",
     "output_type": "stream",
     "text": [
      "Run params — PLATFORM=ibm, Ep ≈ 1.04e+05 MHz, T = 0.015 K, β·Ep ≈ 0.25\n"
     ]
    }
   ],
   "source": [
    "# ==== Dimensionless cumulative leakage with a single y-axis (β·Ep as dashed line) ====\n",
    "# --- helpers (robust scalar & codespace test) ---\n",
    "def _scalar(x):\n",
    "    try:    return complex(x.full()[0,0])\n",
    "    except: return complex(x)\n",
    "\n",
    "def in_codespace(psi, tol=1e-6):\n",
    "    s1 = float(np.real(_scalar(psi.dag()*S1*psi)))\n",
    "    s2 = float(np.real(_scalar(psi.dag()*S2*psi)))\n",
    "    return (abs(s1-1.0) < tol) and (abs(s2-1.0) < tol)\n",
    "\n",
    "# --- total out-of-codespace rate S_out(t) [1/time], per your JFS model ---\n",
    "def rate_out_of_codespace(t, H_func, n_qubits=3, lambda_2=lambda_2, T_K=T_phys_K):\n",
    "    Ht = H_func(t)\n",
    "    evals, evecs = Ht.eigenstates()\n",
    "    a_idx  = 0\n",
    "    a_vec  = evecs[a_idx]\n",
    "    Ea     = float(evals[a_idx])\n",
    "\n",
    "    sm_ops = [tensor([sigmam() if j==i else qeye(2) for j in range(n_qubits)]) for i in range(n_qubits)]\n",
    "\n",
    "    S_total = 0.0\n",
    "    for b_idx in range(len(evals)):\n",
    "        if b_idx == a_idx:\n",
    "            continue\n",
    "        b_vec = evecs[b_idx]\n",
    "        if in_codespace(b_vec):\n",
    "            continue\n",
    "        Eb = float(evals[b_idx])\n",
    "        omega = abs(Eb - Ea)\n",
    "        if omega <= 1e-12:\n",
    "            continue\n",
    "\n",
    "        rate_abs = 0.0\n",
    "        rate_em  = 0.0\n",
    "        for sm in sm_ops:\n",
    "            m = (b_vec.dag() * sm * a_vec)   # <b|σ^-|a>\n",
    "            mag2 = float(np.abs(m)**2)\n",
    "            if mag2 < 1e-16:\n",
    "                continue\n",
    "            g  = spectral_amp(omega, lambda_2, platform=PLATFORM, model=None)\n",
    "            N  = bose_einstein_N(omega, T_phys_K)  # Kelvin\n",
    "            rate_abs += N       * (g**2) * mag2\n",
    "            rate_em  += (N + 1) * (g**2) * mag2\n",
    "\n",
    "        S_total += (rate_abs + rate_em)\n",
    "\n",
    "    return float(S_total)  # [1/time]\n",
    "\n",
    "# ---- Build LOCAL H(t) with the Ep you are using (no global mutations) ----\n",
    "Ep_src = Ep*0.2  # or set Ep_src = your chosen penalty in angular units\n",
    "H_fun  = make_H_func(Ep_src)\n",
    "\n",
    "# ---- Compute S_out(t) and its dimensionless cumulative integral ----\n",
    "S_out_rate = np.array([rate_out_of_codespace(t, H_fun) for t in t_list], dtype=float)  # [1/time]\n",
    "cum_leak   = np.zeros_like(t_list, dtype=float)\n",
    "if len(t_list) > 1:\n",
    "    dt = np.diff(t_list)  # [time]\n",
    "    # trapezoid rule → dimensionless cumulative leakage\n",
    "    cum_leak[1:] = np.cumsum(0.5*(S_out_rate[:-1] + S_out_rate[1:]) * dt)\n",
    "\n",
    "# ---- β·Ep (dimensionless) for the same run on the SAME axis ----\n",
    "Ep_rad_s = Ep_src * (1e6 if PLATFORM.lower() == \"quera\" else 1.0)  # convert to rad/s if needed\n",
    "beta_Ep  = (hbar * Ep_rad_s) / (kB * T_phys_K) if T_phys_K > 0 else np.nan\n",
    "\n",
    "# ---- Plot (single y-axis, both curves dimensionless) ----\n",
    "t_plot = t_list * params[\"to_time_units\"]\n",
    "\n",
    "fig = go.Figure()\n",
    "fig.add_trace(go.Scatter(\n",
    "    x=t_plot, y=cum_leak,\n",
    "    mode='lines+markers',\n",
    "    name='Cumulative leakage  ∫ S_out dt'\n",
    "))\n",
    "fig.add_trace(go.Scatter(\n",
    "    x=t_plot, y=[beta_Ep]*len(t_plot),\n",
    "    mode='lines',\n",
    "    line=dict(dash='dash', width=2),\n",
    "    name='β·E_p'\n",
    "))\n",
    "fig.update_layout(\n",
    "    title=f\"Dimensionless cumulative leakage vs time — {PLATFORM.upper()}\",\n",
    "    xaxis_title=params[\"time_unit_label\"],\n",
    "    yaxis_title=\"Dimensionless (cumulative leakage, β·E_p)\",\n",
    "    template='plotly_white',\n",
    "    legend=dict(title=\"\")\n",
    ")\n",
    "fig.show()\n",
    "\n",
    "print(f\"Final cumulative leakage = {cum_leak[-1]:.3e}; β·E_p = {beta_Ep:.3g} \"\n",
    "      f\"(Ep ≈ {(Ep_src/(2*np.pi))/(1e6 if PLATFORM.lower()=='ibm' else 1.0):.3g} MHz, T={T_phys_K} K)\")\n",
    "\n",
    "\n",
    "# ======== Open-system fidelity vs time using c_ops_gen_thermal ========\n",
    "rho0 = logical_zero * logical_zero.dag()\n",
    "rho1 = logical_one  * logical_one.dag()\n",
    "e_ops = [rho0, rho1]\n",
    "\n",
    "rho    = logical_zero * logical_zero.dag()\n",
    "prev_t = float(t_list[0])\n",
    "fidelity_noise = [float((rho1 * rho).tr().real)]  # include t=0\n",
    "\n",
    "for dt in t_list[1:]:\n",
    "    t_mid = 0.5 * (prev_t + float(dt))\n",
    "    # Instantaneous thermal collapse operators at midpoint\n",
    "    c_ops = c_ops_gen_thermal(t_mid, H_fun, n_qubits=3, lambda_2=lambda_2, T_K=T_K)\n",
    "    # Propagate one segment\n",
    "    res = mesolve(H_fun, rho, [prev_t, float(dt)], c_ops=c_ops, e_ops=e_ops,\n",
    "                  options=Options(store_states=True, nsteps=10000, rtol=1e-7, atol=1e-9))\n",
    "    rho = res.states[-1]\n",
    "    prev_t = float(dt)\n",
    "    fidelity_noise.append(float(res.expect[1][-1]))\n",
    "\n",
    "# Plot fidelity\n",
    "fig2 = go.Figure()\n",
    "fig2.add_trace(go.Scatter(\n",
    "    x=t_plot,\n",
    "    y=fidelity_noise,\n",
    "    mode='lines+markers',\n",
    "    name='Fidelity to |1_L⟩'\n",
    "))\n",
    "fig2.update_layout(\n",
    "    title=f\"Logical |1_L⟩ fidelity over time with thermal noise — {PLATFORM.upper()}\",\n",
    "    xaxis_title=time_label,\n",
    "    yaxis_title='Fidelity ⟨1_L|ρ|1_L⟩',\n",
    "    template='plotly_white',\n",
    "    legend=dict(title=\"\")\n",
    ")\n",
    "fig2.show()\n",
    "\n",
    "print(f\"Run params — PLATFORM={PLATFORM}, Ep ≈ {Ep_to_MHz(Ep_val):.3g} MHz, T = {T_K} K, β·Ep ≈ {beta_Ep:.3g}\")\n"
   ]
  },
  {
   "cell_type": "code",
   "execution_count": 166,
   "id": "b347415b",
   "metadata": {},
   "outputs": [
    {
     "data": {
      "application/vnd.plotly.v1+json": {
       "config": {
        "plotlyServerURL": "https://plot.ly"
       },
       "data": [
        {
         "mode": "lines+markers",
         "name": "final cumulative leakage (∫ S_out dt)",
         "type": "scatter",
         "x": {
          "bdata": "AAAAAAAA8D8zMzMzM/M5QDMzMzMzc0lAZmZmZmb2UkAyMzMzMzNZQAAAAAAAcF9AZmZmZmbWYkDNzMzMzPRlQDMzMzMzE2lAmZmZmZkxbEAAAAAAAFBvQDMzMzMzN3FAZWZmZmbGckCZmZmZmVV0QM3MzMzM5HVAAAAAAAB0d0AzMzMzMwN5QGZmZmZmknpAmpmZmZkhfEDNzMzMzLB9QP//////P39A",
          "dtype": "f8"
         },
         "y": {
          "bdata": "vI3/L+ib9T+Wnye3ymfvP3g6HddpQOc/j4UwPvB74T8vSlfXEqLaPyK1kjryf9Q/6KwhgcbVzz/LBTkliebIP7Je4tLMmMM//3t7M7kBvz+Rp9rkTKO4P4yLRvJGprM/7fL5zDFwrz9G3U3KdDapP1T6jxuqQqQ/1TLWQl9OoD8oUSn2HkeaP5zlFj3xMJU/LFRUxygZkT+23ajsgpmLP3Mh3jfxRoY/",
          "dtype": "f8"
         }
        }
       ],
       "layout": {
        "template": {
         "data": {
          "bar": [
           {
            "error_x": {
             "color": "#2a3f5f"
            },
            "error_y": {
             "color": "#2a3f5f"
            },
            "marker": {
             "line": {
              "color": "white",
              "width": 0.5
             },
             "pattern": {
              "fillmode": "overlay",
              "size": 10,
              "solidity": 0.2
             }
            },
            "type": "bar"
           }
          ],
          "barpolar": [
           {
            "marker": {
             "line": {
              "color": "white",
              "width": 0.5
             },
             "pattern": {
              "fillmode": "overlay",
              "size": 10,
              "solidity": 0.2
             }
            },
            "type": "barpolar"
           }
          ],
          "carpet": [
           {
            "aaxis": {
             "endlinecolor": "#2a3f5f",
             "gridcolor": "#C8D4E3",
             "linecolor": "#C8D4E3",
             "minorgridcolor": "#C8D4E3",
             "startlinecolor": "#2a3f5f"
            },
            "baxis": {
             "endlinecolor": "#2a3f5f",
             "gridcolor": "#C8D4E3",
             "linecolor": "#C8D4E3",
             "minorgridcolor": "#C8D4E3",
             "startlinecolor": "#2a3f5f"
            },
            "type": "carpet"
           }
          ],
          "choropleth": [
           {
            "colorbar": {
             "outlinewidth": 0,
             "ticks": ""
            },
            "type": "choropleth"
           }
          ],
          "contour": [
           {
            "colorbar": {
             "outlinewidth": 0,
             "ticks": ""
            },
            "colorscale": [
             [
              0,
              "#0d0887"
             ],
             [
              0.1111111111111111,
              "#46039f"
             ],
             [
              0.2222222222222222,
              "#7201a8"
             ],
             [
              0.3333333333333333,
              "#9c179e"
             ],
             [
              0.4444444444444444,
              "#bd3786"
             ],
             [
              0.5555555555555556,
              "#d8576b"
             ],
             [
              0.6666666666666666,
              "#ed7953"
             ],
             [
              0.7777777777777778,
              "#fb9f3a"
             ],
             [
              0.8888888888888888,
              "#fdca26"
             ],
             [
              1,
              "#f0f921"
             ]
            ],
            "type": "contour"
           }
          ],
          "contourcarpet": [
           {
            "colorbar": {
             "outlinewidth": 0,
             "ticks": ""
            },
            "type": "contourcarpet"
           }
          ],
          "heatmap": [
           {
            "colorbar": {
             "outlinewidth": 0,
             "ticks": ""
            },
            "colorscale": [
             [
              0,
              "#0d0887"
             ],
             [
              0.1111111111111111,
              "#46039f"
             ],
             [
              0.2222222222222222,
              "#7201a8"
             ],
             [
              0.3333333333333333,
              "#9c179e"
             ],
             [
              0.4444444444444444,
              "#bd3786"
             ],
             [
              0.5555555555555556,
              "#d8576b"
             ],
             [
              0.6666666666666666,
              "#ed7953"
             ],
             [
              0.7777777777777778,
              "#fb9f3a"
             ],
             [
              0.8888888888888888,
              "#fdca26"
             ],
             [
              1,
              "#f0f921"
             ]
            ],
            "type": "heatmap"
           }
          ],
          "histogram": [
           {
            "marker": {
             "pattern": {
              "fillmode": "overlay",
              "size": 10,
              "solidity": 0.2
             }
            },
            "type": "histogram"
           }
          ],
          "histogram2d": [
           {
            "colorbar": {
             "outlinewidth": 0,
             "ticks": ""
            },
            "colorscale": [
             [
              0,
              "#0d0887"
             ],
             [
              0.1111111111111111,
              "#46039f"
             ],
             [
              0.2222222222222222,
              "#7201a8"
             ],
             [
              0.3333333333333333,
              "#9c179e"
             ],
             [
              0.4444444444444444,
              "#bd3786"
             ],
             [
              0.5555555555555556,
              "#d8576b"
             ],
             [
              0.6666666666666666,
              "#ed7953"
             ],
             [
              0.7777777777777778,
              "#fb9f3a"
             ],
             [
              0.8888888888888888,
              "#fdca26"
             ],
             [
              1,
              "#f0f921"
             ]
            ],
            "type": "histogram2d"
           }
          ],
          "histogram2dcontour": [
           {
            "colorbar": {
             "outlinewidth": 0,
             "ticks": ""
            },
            "colorscale": [
             [
              0,
              "#0d0887"
             ],
             [
              0.1111111111111111,
              "#46039f"
             ],
             [
              0.2222222222222222,
              "#7201a8"
             ],
             [
              0.3333333333333333,
              "#9c179e"
             ],
             [
              0.4444444444444444,
              "#bd3786"
             ],
             [
              0.5555555555555556,
              "#d8576b"
             ],
             [
              0.6666666666666666,
              "#ed7953"
             ],
             [
              0.7777777777777778,
              "#fb9f3a"
             ],
             [
              0.8888888888888888,
              "#fdca26"
             ],
             [
              1,
              "#f0f921"
             ]
            ],
            "type": "histogram2dcontour"
           }
          ],
          "mesh3d": [
           {
            "colorbar": {
             "outlinewidth": 0,
             "ticks": ""
            },
            "type": "mesh3d"
           }
          ],
          "parcoords": [
           {
            "line": {
             "colorbar": {
              "outlinewidth": 0,
              "ticks": ""
             }
            },
            "type": "parcoords"
           }
          ],
          "pie": [
           {
            "automargin": true,
            "type": "pie"
           }
          ],
          "scatter": [
           {
            "fillpattern": {
             "fillmode": "overlay",
             "size": 10,
             "solidity": 0.2
            },
            "type": "scatter"
           }
          ],
          "scatter3d": [
           {
            "line": {
             "colorbar": {
              "outlinewidth": 0,
              "ticks": ""
             }
            },
            "marker": {
             "colorbar": {
              "outlinewidth": 0,
              "ticks": ""
             }
            },
            "type": "scatter3d"
           }
          ],
          "scattercarpet": [
           {
            "marker": {
             "colorbar": {
              "outlinewidth": 0,
              "ticks": ""
             }
            },
            "type": "scattercarpet"
           }
          ],
          "scattergeo": [
           {
            "marker": {
             "colorbar": {
              "outlinewidth": 0,
              "ticks": ""
             }
            },
            "type": "scattergeo"
           }
          ],
          "scattergl": [
           {
            "marker": {
             "colorbar": {
              "outlinewidth": 0,
              "ticks": ""
             }
            },
            "type": "scattergl"
           }
          ],
          "scattermap": [
           {
            "marker": {
             "colorbar": {
              "outlinewidth": 0,
              "ticks": ""
             }
            },
            "type": "scattermap"
           }
          ],
          "scattermapbox": [
           {
            "marker": {
             "colorbar": {
              "outlinewidth": 0,
              "ticks": ""
             }
            },
            "type": "scattermapbox"
           }
          ],
          "scatterpolar": [
           {
            "marker": {
             "colorbar": {
              "outlinewidth": 0,
              "ticks": ""
             }
            },
            "type": "scatterpolar"
           }
          ],
          "scatterpolargl": [
           {
            "marker": {
             "colorbar": {
              "outlinewidth": 0,
              "ticks": ""
             }
            },
            "type": "scatterpolargl"
           }
          ],
          "scatterternary": [
           {
            "marker": {
             "colorbar": {
              "outlinewidth": 0,
              "ticks": ""
             }
            },
            "type": "scatterternary"
           }
          ],
          "surface": [
           {
            "colorbar": {
             "outlinewidth": 0,
             "ticks": ""
            },
            "colorscale": [
             [
              0,
              "#0d0887"
             ],
             [
              0.1111111111111111,
              "#46039f"
             ],
             [
              0.2222222222222222,
              "#7201a8"
             ],
             [
              0.3333333333333333,
              "#9c179e"
             ],
             [
              0.4444444444444444,
              "#bd3786"
             ],
             [
              0.5555555555555556,
              "#d8576b"
             ],
             [
              0.6666666666666666,
              "#ed7953"
             ],
             [
              0.7777777777777778,
              "#fb9f3a"
             ],
             [
              0.8888888888888888,
              "#fdca26"
             ],
             [
              1,
              "#f0f921"
             ]
            ],
            "type": "surface"
           }
          ],
          "table": [
           {
            "cells": {
             "fill": {
              "color": "#EBF0F8"
             },
             "line": {
              "color": "white"
             }
            },
            "header": {
             "fill": {
              "color": "#C8D4E3"
             },
             "line": {
              "color": "white"
             }
            },
            "type": "table"
           }
          ]
         },
         "layout": {
          "annotationdefaults": {
           "arrowcolor": "#2a3f5f",
           "arrowhead": 0,
           "arrowwidth": 1
          },
          "autotypenumbers": "strict",
          "coloraxis": {
           "colorbar": {
            "outlinewidth": 0,
            "ticks": ""
           }
          },
          "colorscale": {
           "diverging": [
            [
             0,
             "#8e0152"
            ],
            [
             0.1,
             "#c51b7d"
            ],
            [
             0.2,
             "#de77ae"
            ],
            [
             0.3,
             "#f1b6da"
            ],
            [
             0.4,
             "#fde0ef"
            ],
            [
             0.5,
             "#f7f7f7"
            ],
            [
             0.6,
             "#e6f5d0"
            ],
            [
             0.7,
             "#b8e186"
            ],
            [
             0.8,
             "#7fbc41"
            ],
            [
             0.9,
             "#4d9221"
            ],
            [
             1,
             "#276419"
            ]
           ],
           "sequential": [
            [
             0,
             "#0d0887"
            ],
            [
             0.1111111111111111,
             "#46039f"
            ],
            [
             0.2222222222222222,
             "#7201a8"
            ],
            [
             0.3333333333333333,
             "#9c179e"
            ],
            [
             0.4444444444444444,
             "#bd3786"
            ],
            [
             0.5555555555555556,
             "#d8576b"
            ],
            [
             0.6666666666666666,
             "#ed7953"
            ],
            [
             0.7777777777777778,
             "#fb9f3a"
            ],
            [
             0.8888888888888888,
             "#fdca26"
            ],
            [
             1,
             "#f0f921"
            ]
           ],
           "sequentialminus": [
            [
             0,
             "#0d0887"
            ],
            [
             0.1111111111111111,
             "#46039f"
            ],
            [
             0.2222222222222222,
             "#7201a8"
            ],
            [
             0.3333333333333333,
             "#9c179e"
            ],
            [
             0.4444444444444444,
             "#bd3786"
            ],
            [
             0.5555555555555556,
             "#d8576b"
            ],
            [
             0.6666666666666666,
             "#ed7953"
            ],
            [
             0.7777777777777778,
             "#fb9f3a"
            ],
            [
             0.8888888888888888,
             "#fdca26"
            ],
            [
             1,
             "#f0f921"
            ]
           ]
          },
          "colorway": [
           "#636efa",
           "#EF553B",
           "#00cc96",
           "#ab63fa",
           "#FFA15A",
           "#19d3f3",
           "#FF6692",
           "#B6E880",
           "#FF97FF",
           "#FECB52"
          ],
          "font": {
           "color": "#2a3f5f"
          },
          "geo": {
           "bgcolor": "white",
           "lakecolor": "white",
           "landcolor": "white",
           "showlakes": true,
           "showland": true,
           "subunitcolor": "#C8D4E3"
          },
          "hoverlabel": {
           "align": "left"
          },
          "hovermode": "closest",
          "mapbox": {
           "style": "light"
          },
          "paper_bgcolor": "white",
          "plot_bgcolor": "white",
          "polar": {
           "angularaxis": {
            "gridcolor": "#EBF0F8",
            "linecolor": "#EBF0F8",
            "ticks": ""
           },
           "bgcolor": "white",
           "radialaxis": {
            "gridcolor": "#EBF0F8",
            "linecolor": "#EBF0F8",
            "ticks": ""
           }
          },
          "scene": {
           "xaxis": {
            "backgroundcolor": "white",
            "gridcolor": "#DFE8F3",
            "gridwidth": 2,
            "linecolor": "#EBF0F8",
            "showbackground": true,
            "ticks": "",
            "zerolinecolor": "#EBF0F8"
           },
           "yaxis": {
            "backgroundcolor": "white",
            "gridcolor": "#DFE8F3",
            "gridwidth": 2,
            "linecolor": "#EBF0F8",
            "showbackground": true,
            "ticks": "",
            "zerolinecolor": "#EBF0F8"
           },
           "zaxis": {
            "backgroundcolor": "white",
            "gridcolor": "#DFE8F3",
            "gridwidth": 2,
            "linecolor": "#EBF0F8",
            "showbackground": true,
            "ticks": "",
            "zerolinecolor": "#EBF0F8"
           }
          },
          "shapedefaults": {
           "line": {
            "color": "#2a3f5f"
           }
          },
          "ternary": {
           "aaxis": {
            "gridcolor": "#DFE8F3",
            "linecolor": "#A2B1C6",
            "ticks": ""
           },
           "baxis": {
            "gridcolor": "#DFE8F3",
            "linecolor": "#A2B1C6",
            "ticks": ""
           },
           "bgcolor": "white",
           "caxis": {
            "gridcolor": "#DFE8F3",
            "linecolor": "#A2B1C6",
            "ticks": ""
           }
          },
          "title": {
           "x": 0.05
          },
          "xaxis": {
           "automargin": true,
           "gridcolor": "#EBF0F8",
           "linecolor": "#EBF0F8",
           "ticks": "",
           "title": {
            "standoff": 15
           },
           "zerolinecolor": "#EBF0F8",
           "zerolinewidth": 2
          },
          "yaxis": {
           "automargin": true,
           "gridcolor": "#EBF0F8",
           "linecolor": "#EBF0F8",
           "ticks": "",
           "title": {
            "standoff": 15
           },
           "zerolinecolor": "#EBF0F8",
           "zerolinewidth": 2
          }
         }
        },
        "title": {
         "text": "Cumulative leakage vs penalty Ep — IBM, T=0.015 K"
        },
        "xaxis": {
         "title": {
          "text": "Penalty Ep [MHz]"
         }
        },
        "yaxis": {
         "title": {
          "text": "Cumulative leakage (dimensionless)"
         }
        }
       }
      }
     },
     "metadata": {},
     "output_type": "display_data"
    },
    {
     "name": "stdout",
     "output_type": "stream",
     "text": [
      "No Ep in Ep_vec reached the example tolerance; consider increasing Ep or relaxing tol.\n"
     ]
    }
   ],
   "source": [
    "# === Cumulative leakage (dimensionless) vs Ep (MHz) ===\n",
    "# Uses: make_H_func, rate_out_of_codespace (from your previous cell), t_list, Ep_vec, T_phys_K, PLATFORM\n",
    "\n",
    "Ep_vec = 2*np.pi*np.linspace(1, 500, 21) * 1e6  # example Ep values in angular units\n",
    "# Convert Ep (angular units) to MHz for x-axis\n",
    "def Ep_to_MHz(Ep_val):\n",
    "    # IBM: Ep [rad/s] -> MHz ; QuEra: Ep [rad/µs] -> MHz\n",
    "    return (Ep_val/(2*np.pi)) / (1e6 if PLATFORM.lower()==\"ibm\" else 1.0)\n",
    "\n",
    "def cumulative_leakage_for_Ep(Ep_val, T_K=T_phys_K):\n",
    "    \"\"\"Return final (max) dimensionless cumulative leakage for a given Ep.\"\"\"\n",
    "    H_fun = make_H_func(Ep_val)  # local Hamiltonian with this Ep\n",
    "    # instantaneous total leakage rate S_out(t) [1/time]\n",
    "    S_out = np.array([rate_out_of_codespace(t, H_fun, n_qubits=3, lambda_2=lambda_2, T_K=T_K)\n",
    "                      for t in t_list], dtype=float)\n",
    "    if len(t_list) <= 1:\n",
    "        return 0.0\n",
    "    # trapezoid integral to get dimensionless cumulative leakage\n",
    "    dt = np.diff(t_list)\n",
    "    cum = np.zeros_like(t_list, dtype=float)\n",
    "    cum[1:] = np.cumsum(0.5*(S_out[:-1] + S_out[1:]) * dt)\n",
    "    # take the max over time (monotone ⇒ last value)\n",
    "    return float(np.nanmax(cum))\n",
    "\n",
    "# Sweep over your platform-specific Ep_vec\n",
    "Ep_vals     = np.asarray(Ep_vec, dtype=float)\n",
    "Ep_MHz_axis = np.array([Ep_to_MHz(Ep) for Ep in Ep_vals], dtype=float)\n",
    "cum_final   = np.array([cumulative_leakage_for_Ep(Ep) for Ep in Ep_vals], dtype=float)\n",
    "\n",
    "# Plot\n",
    "fig = go.Figure()\n",
    "fig.add_trace(go.Scatter(\n",
    "    x=Ep_MHz_axis, y=cum_final,\n",
    "    mode='lines+markers',\n",
    "    name='final cumulative leakage (∫ S_out dt)'\n",
    "))\n",
    "fig.update_layout(\n",
    "    title=f\"Cumulative leakage vs penalty Ep — {PLATFORM.upper()}, T={T_phys_K} K\",\n",
    "    xaxis_title=\"Penalty Ep [MHz]\",\n",
    "    yaxis_title=\"Cumulative leakage (dimensionless)\",\n",
    "    template=\"plotly_white\"\n",
    ")\n",
    "fig.show()\n",
    "\n",
    "# Optional: quick print of the smallest Ep meeting a simple tolerance (e.g., ≤ 1%)\n",
    "tol = 1e-2\n",
    "mask = np.isfinite(cum_final) & (cum_final <= tol)\n",
    "if np.any(mask):\n",
    "    idx = int(np.where(mask)[0][0])\n",
    "    print(f\"First Ep with cumulative leakage ≤ {tol:.1%}: ~{Ep_MHz_axis[idx]:.3g} MHz \"\n",
    "          f\"(value={cum_final[idx]:.3g})\")\n",
    "else:\n",
    "    print(\"No Ep in Ep_vec reached the example tolerance; consider increasing Ep or relaxing tol.\")\n"
   ]
  },
  {
   "cell_type": "code",
   "execution_count": 167,
   "id": "3ce0f78c",
   "metadata": {},
   "outputs": [
    {
     "data": {
      "application/vnd.plotly.v1+json": {
       "config": {
        "plotlyServerURL": "https://plot.ly"
       },
       "data": [
        {
         "mode": "lines+markers",
         "name": "Δ(Ep) = β·E_p − max cumulative leakage",
         "type": "scatter",
         "x": {
          "bdata": "AAAAAAAA8D8zMzMzM/M5QDMzMzMzc0lAZmZmZmb2UkAyMzMzMzNZQAAAAAAAcF9AZmZmZmbWYkDNzMzMzPRlQDMzMzMzE2lAmZmZmZkxbEAAAAAAAFBvQDMzMzMzN3FAZWZmZmbGckCZmZmZmVV0QM3MzMzM5HVAAAAAAAB0d0AzMzMzMwN5QGZmZmZmknpAmpmZmZkhfEDNzMzMzLB9QP//////P39A",
          "dtype": "f8"
         },
         "y": {
          "bdata": "iDP/Rc2O9b/wIuKsor/sv5L1kpZPCuK/1fDCjsdv07+gfb70Vfi3v5QYejC+/7Q/oOpT5cXhzT9c2ScNZoTXP2e93KIoR98/Hk/8lYI34z/sMRVWQpHmP659rErVvuk/LnhqQo3K7D/IAdpIG7zvPxtUBRWlTPE/d4bthkCz8j/p9k0gkBP0P7ekVPLhbvU/HBNOLzrG9j/RdrTnZBr4P2hwQCYDbPk/",
          "dtype": "f8"
         }
        }
       ],
       "layout": {
        "legend": {
         "title": {
          "text": ""
         }
        },
        "shapes": [
         {
          "line": {
           "color": "gray",
           "dash": "dot"
          },
          "type": "line",
          "x0": 0,
          "x1": 1,
          "xref": "x domain",
          "y0": 0,
          "y1": 0,
          "yref": "y"
         }
        ],
        "template": {
         "data": {
          "bar": [
           {
            "error_x": {
             "color": "#2a3f5f"
            },
            "error_y": {
             "color": "#2a3f5f"
            },
            "marker": {
             "line": {
              "color": "white",
              "width": 0.5
             },
             "pattern": {
              "fillmode": "overlay",
              "size": 10,
              "solidity": 0.2
             }
            },
            "type": "bar"
           }
          ],
          "barpolar": [
           {
            "marker": {
             "line": {
              "color": "white",
              "width": 0.5
             },
             "pattern": {
              "fillmode": "overlay",
              "size": 10,
              "solidity": 0.2
             }
            },
            "type": "barpolar"
           }
          ],
          "carpet": [
           {
            "aaxis": {
             "endlinecolor": "#2a3f5f",
             "gridcolor": "#C8D4E3",
             "linecolor": "#C8D4E3",
             "minorgridcolor": "#C8D4E3",
             "startlinecolor": "#2a3f5f"
            },
            "baxis": {
             "endlinecolor": "#2a3f5f",
             "gridcolor": "#C8D4E3",
             "linecolor": "#C8D4E3",
             "minorgridcolor": "#C8D4E3",
             "startlinecolor": "#2a3f5f"
            },
            "type": "carpet"
           }
          ],
          "choropleth": [
           {
            "colorbar": {
             "outlinewidth": 0,
             "ticks": ""
            },
            "type": "choropleth"
           }
          ],
          "contour": [
           {
            "colorbar": {
             "outlinewidth": 0,
             "ticks": ""
            },
            "colorscale": [
             [
              0,
              "#0d0887"
             ],
             [
              0.1111111111111111,
              "#46039f"
             ],
             [
              0.2222222222222222,
              "#7201a8"
             ],
             [
              0.3333333333333333,
              "#9c179e"
             ],
             [
              0.4444444444444444,
              "#bd3786"
             ],
             [
              0.5555555555555556,
              "#d8576b"
             ],
             [
              0.6666666666666666,
              "#ed7953"
             ],
             [
              0.7777777777777778,
              "#fb9f3a"
             ],
             [
              0.8888888888888888,
              "#fdca26"
             ],
             [
              1,
              "#f0f921"
             ]
            ],
            "type": "contour"
           }
          ],
          "contourcarpet": [
           {
            "colorbar": {
             "outlinewidth": 0,
             "ticks": ""
            },
            "type": "contourcarpet"
           }
          ],
          "heatmap": [
           {
            "colorbar": {
             "outlinewidth": 0,
             "ticks": ""
            },
            "colorscale": [
             [
              0,
              "#0d0887"
             ],
             [
              0.1111111111111111,
              "#46039f"
             ],
             [
              0.2222222222222222,
              "#7201a8"
             ],
             [
              0.3333333333333333,
              "#9c179e"
             ],
             [
              0.4444444444444444,
              "#bd3786"
             ],
             [
              0.5555555555555556,
              "#d8576b"
             ],
             [
              0.6666666666666666,
              "#ed7953"
             ],
             [
              0.7777777777777778,
              "#fb9f3a"
             ],
             [
              0.8888888888888888,
              "#fdca26"
             ],
             [
              1,
              "#f0f921"
             ]
            ],
            "type": "heatmap"
           }
          ],
          "histogram": [
           {
            "marker": {
             "pattern": {
              "fillmode": "overlay",
              "size": 10,
              "solidity": 0.2
             }
            },
            "type": "histogram"
           }
          ],
          "histogram2d": [
           {
            "colorbar": {
             "outlinewidth": 0,
             "ticks": ""
            },
            "colorscale": [
             [
              0,
              "#0d0887"
             ],
             [
              0.1111111111111111,
              "#46039f"
             ],
             [
              0.2222222222222222,
              "#7201a8"
             ],
             [
              0.3333333333333333,
              "#9c179e"
             ],
             [
              0.4444444444444444,
              "#bd3786"
             ],
             [
              0.5555555555555556,
              "#d8576b"
             ],
             [
              0.6666666666666666,
              "#ed7953"
             ],
             [
              0.7777777777777778,
              "#fb9f3a"
             ],
             [
              0.8888888888888888,
              "#fdca26"
             ],
             [
              1,
              "#f0f921"
             ]
            ],
            "type": "histogram2d"
           }
          ],
          "histogram2dcontour": [
           {
            "colorbar": {
             "outlinewidth": 0,
             "ticks": ""
            },
            "colorscale": [
             [
              0,
              "#0d0887"
             ],
             [
              0.1111111111111111,
              "#46039f"
             ],
             [
              0.2222222222222222,
              "#7201a8"
             ],
             [
              0.3333333333333333,
              "#9c179e"
             ],
             [
              0.4444444444444444,
              "#bd3786"
             ],
             [
              0.5555555555555556,
              "#d8576b"
             ],
             [
              0.6666666666666666,
              "#ed7953"
             ],
             [
              0.7777777777777778,
              "#fb9f3a"
             ],
             [
              0.8888888888888888,
              "#fdca26"
             ],
             [
              1,
              "#f0f921"
             ]
            ],
            "type": "histogram2dcontour"
           }
          ],
          "mesh3d": [
           {
            "colorbar": {
             "outlinewidth": 0,
             "ticks": ""
            },
            "type": "mesh3d"
           }
          ],
          "parcoords": [
           {
            "line": {
             "colorbar": {
              "outlinewidth": 0,
              "ticks": ""
             }
            },
            "type": "parcoords"
           }
          ],
          "pie": [
           {
            "automargin": true,
            "type": "pie"
           }
          ],
          "scatter": [
           {
            "fillpattern": {
             "fillmode": "overlay",
             "size": 10,
             "solidity": 0.2
            },
            "type": "scatter"
           }
          ],
          "scatter3d": [
           {
            "line": {
             "colorbar": {
              "outlinewidth": 0,
              "ticks": ""
             }
            },
            "marker": {
             "colorbar": {
              "outlinewidth": 0,
              "ticks": ""
             }
            },
            "type": "scatter3d"
           }
          ],
          "scattercarpet": [
           {
            "marker": {
             "colorbar": {
              "outlinewidth": 0,
              "ticks": ""
             }
            },
            "type": "scattercarpet"
           }
          ],
          "scattergeo": [
           {
            "marker": {
             "colorbar": {
              "outlinewidth": 0,
              "ticks": ""
             }
            },
            "type": "scattergeo"
           }
          ],
          "scattergl": [
           {
            "marker": {
             "colorbar": {
              "outlinewidth": 0,
              "ticks": ""
             }
            },
            "type": "scattergl"
           }
          ],
          "scattermap": [
           {
            "marker": {
             "colorbar": {
              "outlinewidth": 0,
              "ticks": ""
             }
            },
            "type": "scattermap"
           }
          ],
          "scattermapbox": [
           {
            "marker": {
             "colorbar": {
              "outlinewidth": 0,
              "ticks": ""
             }
            },
            "type": "scattermapbox"
           }
          ],
          "scatterpolar": [
           {
            "marker": {
             "colorbar": {
              "outlinewidth": 0,
              "ticks": ""
             }
            },
            "type": "scatterpolar"
           }
          ],
          "scatterpolargl": [
           {
            "marker": {
             "colorbar": {
              "outlinewidth": 0,
              "ticks": ""
             }
            },
            "type": "scatterpolargl"
           }
          ],
          "scatterternary": [
           {
            "marker": {
             "colorbar": {
              "outlinewidth": 0,
              "ticks": ""
             }
            },
            "type": "scatterternary"
           }
          ],
          "surface": [
           {
            "colorbar": {
             "outlinewidth": 0,
             "ticks": ""
            },
            "colorscale": [
             [
              0,
              "#0d0887"
             ],
             [
              0.1111111111111111,
              "#46039f"
             ],
             [
              0.2222222222222222,
              "#7201a8"
             ],
             [
              0.3333333333333333,
              "#9c179e"
             ],
             [
              0.4444444444444444,
              "#bd3786"
             ],
             [
              0.5555555555555556,
              "#d8576b"
             ],
             [
              0.6666666666666666,
              "#ed7953"
             ],
             [
              0.7777777777777778,
              "#fb9f3a"
             ],
             [
              0.8888888888888888,
              "#fdca26"
             ],
             [
              1,
              "#f0f921"
             ]
            ],
            "type": "surface"
           }
          ],
          "table": [
           {
            "cells": {
             "fill": {
              "color": "#EBF0F8"
             },
             "line": {
              "color": "white"
             }
            },
            "header": {
             "fill": {
              "color": "#C8D4E3"
             },
             "line": {
              "color": "white"
             }
            },
            "type": "table"
           }
          ]
         },
         "layout": {
          "annotationdefaults": {
           "arrowcolor": "#2a3f5f",
           "arrowhead": 0,
           "arrowwidth": 1
          },
          "autotypenumbers": "strict",
          "coloraxis": {
           "colorbar": {
            "outlinewidth": 0,
            "ticks": ""
           }
          },
          "colorscale": {
           "diverging": [
            [
             0,
             "#8e0152"
            ],
            [
             0.1,
             "#c51b7d"
            ],
            [
             0.2,
             "#de77ae"
            ],
            [
             0.3,
             "#f1b6da"
            ],
            [
             0.4,
             "#fde0ef"
            ],
            [
             0.5,
             "#f7f7f7"
            ],
            [
             0.6,
             "#e6f5d0"
            ],
            [
             0.7,
             "#b8e186"
            ],
            [
             0.8,
             "#7fbc41"
            ],
            [
             0.9,
             "#4d9221"
            ],
            [
             1,
             "#276419"
            ]
           ],
           "sequential": [
            [
             0,
             "#0d0887"
            ],
            [
             0.1111111111111111,
             "#46039f"
            ],
            [
             0.2222222222222222,
             "#7201a8"
            ],
            [
             0.3333333333333333,
             "#9c179e"
            ],
            [
             0.4444444444444444,
             "#bd3786"
            ],
            [
             0.5555555555555556,
             "#d8576b"
            ],
            [
             0.6666666666666666,
             "#ed7953"
            ],
            [
             0.7777777777777778,
             "#fb9f3a"
            ],
            [
             0.8888888888888888,
             "#fdca26"
            ],
            [
             1,
             "#f0f921"
            ]
           ],
           "sequentialminus": [
            [
             0,
             "#0d0887"
            ],
            [
             0.1111111111111111,
             "#46039f"
            ],
            [
             0.2222222222222222,
             "#7201a8"
            ],
            [
             0.3333333333333333,
             "#9c179e"
            ],
            [
             0.4444444444444444,
             "#bd3786"
            ],
            [
             0.5555555555555556,
             "#d8576b"
            ],
            [
             0.6666666666666666,
             "#ed7953"
            ],
            [
             0.7777777777777778,
             "#fb9f3a"
            ],
            [
             0.8888888888888888,
             "#fdca26"
            ],
            [
             1,
             "#f0f921"
            ]
           ]
          },
          "colorway": [
           "#636efa",
           "#EF553B",
           "#00cc96",
           "#ab63fa",
           "#FFA15A",
           "#19d3f3",
           "#FF6692",
           "#B6E880",
           "#FF97FF",
           "#FECB52"
          ],
          "font": {
           "color": "#2a3f5f"
          },
          "geo": {
           "bgcolor": "white",
           "lakecolor": "white",
           "landcolor": "white",
           "showlakes": true,
           "showland": true,
           "subunitcolor": "#C8D4E3"
          },
          "hoverlabel": {
           "align": "left"
          },
          "hovermode": "closest",
          "mapbox": {
           "style": "light"
          },
          "paper_bgcolor": "white",
          "plot_bgcolor": "white",
          "polar": {
           "angularaxis": {
            "gridcolor": "#EBF0F8",
            "linecolor": "#EBF0F8",
            "ticks": ""
           },
           "bgcolor": "white",
           "radialaxis": {
            "gridcolor": "#EBF0F8",
            "linecolor": "#EBF0F8",
            "ticks": ""
           }
          },
          "scene": {
           "xaxis": {
            "backgroundcolor": "white",
            "gridcolor": "#DFE8F3",
            "gridwidth": 2,
            "linecolor": "#EBF0F8",
            "showbackground": true,
            "ticks": "",
            "zerolinecolor": "#EBF0F8"
           },
           "yaxis": {
            "backgroundcolor": "white",
            "gridcolor": "#DFE8F3",
            "gridwidth": 2,
            "linecolor": "#EBF0F8",
            "showbackground": true,
            "ticks": "",
            "zerolinecolor": "#EBF0F8"
           },
           "zaxis": {
            "backgroundcolor": "white",
            "gridcolor": "#DFE8F3",
            "gridwidth": 2,
            "linecolor": "#EBF0F8",
            "showbackground": true,
            "ticks": "",
            "zerolinecolor": "#EBF0F8"
           }
          },
          "shapedefaults": {
           "line": {
            "color": "#2a3f5f"
           }
          },
          "ternary": {
           "aaxis": {
            "gridcolor": "#DFE8F3",
            "linecolor": "#A2B1C6",
            "ticks": ""
           },
           "baxis": {
            "gridcolor": "#DFE8F3",
            "linecolor": "#A2B1C6",
            "ticks": ""
           },
           "bgcolor": "white",
           "caxis": {
            "gridcolor": "#DFE8F3",
            "linecolor": "#A2B1C6",
            "ticks": ""
           }
          },
          "title": {
           "x": 0.05
          },
          "xaxis": {
           "automargin": true,
           "gridcolor": "#EBF0F8",
           "linecolor": "#EBF0F8",
           "ticks": "",
           "title": {
            "standoff": 15
           },
           "zerolinecolor": "#EBF0F8",
           "zerolinewidth": 2
          },
          "yaxis": {
           "automargin": true,
           "gridcolor": "#EBF0F8",
           "linecolor": "#EBF0F8",
           "ticks": "",
           "title": {
            "standoff": 15
           },
           "zerolinecolor": "#EBF0F8",
           "zerolinewidth": 2
          }
         }
        },
        "title": {
         "text": "Distance to β·E_p vs penalty — IBM, T=0.015 K"
        },
        "xaxis": {
         "title": {
          "text": "Penalty E_p [MHz]"
         }
        },
        "yaxis": {
         "title": {
          "text": "Δ(Ep) (dimensionless)"
         }
        }
       }
      }
     },
     "metadata": {},
     "output_type": "display_data"
    },
    {
     "name": "stdout",
     "output_type": "stream",
     "text": [
      "First Ep with max cumulative leakage ≤ β·E_p: ~126 MHz (β·E_p=0.402, leak=0.32)\n"
     ]
    }
   ],
   "source": [
    "# === Distance Δ(Ep) = β·Ep − max cumulative leakage (only this figure) ===\n",
    "import numpy as np\n",
    "import plotly.graph_objects as go\n",
    "\n",
    "# --- helpers (platform-aware) ---\n",
    "def Ep_to_MHz(Ep_val):\n",
    "    # IBM: Ep [rad/s] -> MHz ; QuEra: Ep [rad/µs] -> MHz\n",
    "    return (Ep_val/(2*np.pi)) / (1e6 if PLATFORM.lower()==\"ibm\" else 1.0)\n",
    "\n",
    "def cumulative_leakage_for_Ep(Ep_val, T_K=T_phys_K):\n",
    "    \"\"\"Final (max over time) dimensionless cumulative leakage for a given Ep.\"\"\"\n",
    "    H_fun = make_H_func(Ep_val)  # local H(t) with this Ep\n",
    "    S_out = np.array([rate_out_of_codespace(t, H_fun,\n",
    "                                            n_qubits=3, lambda_2=lambda_2, T_K=T_K)\n",
    "                      for t in t_list], dtype=float)  # [1/time]\n",
    "    if len(t_list) <= 1:\n",
    "        return 0.0\n",
    "    dt  = np.diff(t_list)\n",
    "    cum = np.zeros_like(t_list, dtype=float)\n",
    "    cum[1:] = np.cumsum(0.5*(S_out[:-1] + S_out[1:]) * dt)  # dimensionless\n",
    "    return float(cum[-1])  # monotone ⇒ final = max\n",
    "\n",
    "def betaEp_for_Ep(Ep_val, T_K=T_phys_K):\n",
    "    \"\"\"β·Ep = ħ Ep / (kB T) (dimensionless); convert Ep to rad/s if QuEra.\"\"\"\n",
    "    if T_K <= 0:\n",
    "        return np.nan\n",
    "    Ep_rad_s = Ep_val * (1e6 if PLATFORM.lower()==\"quera\" else 1.0)\n",
    "    return (hbar * Ep_rad_s) / (kB * T_K)\n",
    "\n",
    "# --- sweep over Ep_vec ---\n",
    "Ep_vals      = np.asarray(Ep_vec, dtype=float)\n",
    "Ep_MHz_axis  = np.array([Ep_to_MHz(Ep)         for Ep in Ep_vals], dtype=float)\n",
    "cum_final    = np.array([cumulative_leakage_for_Ep(Ep) for Ep in Ep_vals], dtype=float)\n",
    "betaEp_array = np.array([betaEp_for_Ep(Ep)     for Ep in Ep_vals], dtype=float)\n",
    "\n",
    "# distance Δ(Ep) (dimensionless)\n",
    "delta_signed = betaEp_array - cum_final\n",
    "\n",
    "# --- plot ONLY the distance curve ---\n",
    "fig = go.Figure()\n",
    "fig.add_trace(go.Scatter(\n",
    "    x=Ep_MHz_axis, y=delta_signed,\n",
    "    mode='lines+markers',\n",
    "    name='Δ(Ep) = β·E_p − max cumulative leakage'\n",
    "))\n",
    "fig.add_hline(y=0.0, line=dict(color='gray', dash='dot'))\n",
    "fig.update_layout(\n",
    "    title=f\"Distance to β·E_p vs penalty — {PLATFORM.upper()}, T={T_phys_K} K\",\n",
    "    xaxis_title=\"Penalty E_p [MHz]\",\n",
    "    yaxis_title=\"Δ(Ep) (dimensionless)\",\n",
    "    template=\"plotly_white\",\n",
    "    legend=dict(title=\"\")\n",
    ")\n",
    "fig.show()\n",
    "\n",
    "# Optional: print the first Ep where leakage ≤ β·Ep\n",
    "mask = np.isfinite(delta_signed) & (delta_signed >= 0)\n",
    "if np.any(mask):\n",
    "    idx = int(np.where(mask)[0][0])\n",
    "    print(f\"First Ep with max cumulative leakage ≤ β·E_p: ~{Ep_MHz_axis[idx]:.3g} MHz \"\n",
    "          f\"(β·E_p={betaEp_array[idx]:.3g}, leak={cum_final[idx]:.3g})\")\n",
    "else:\n",
    "    print(\"No Ep in Ep_vec satisfied max cumulative leakage ≤ β·E_p.\")\n"
   ]
  },
  {
   "cell_type": "markdown",
   "id": "ffdb999d",
   "metadata": {},
   "source": [
    "Now - the code for single qubit noise PRX"
   ]
  },
  {
   "cell_type": "code",
   "execution_count": null,
   "id": "c988743f",
   "metadata": {},
   "outputs": [],
   "source": []
  },
  {
   "cell_type": "code",
   "execution_count": 179,
   "id": "d8900382",
   "metadata": {},
   "outputs": [],
   "source": [
    "import numpy as np\n",
    "from numpy.fft import rfftfreq, irfft\n",
    "from scipy.interpolate import interp1d\n",
    "import qutip as qt\n",
    "from qutip import tensor, sigmax, qeye\n",
    "import plotly.graph_objects as go\n",
    "\n",
    "# ---- Expect these to exist from your notebook ----\n",
    "# PLATFORM, params, omega_t, delta_t, X_L, Z_L, S1, S2, logical_zero, logical_one, t_list, I_L\n",
    "S_list = [S1, S2]\n",
    "time_unit_label = params[\"time_unit_label\"]\n",
    "to_time_units   = params[\"to_time_units\"]\n",
    "omega_max       = params[\"omega_max\"]\n",
    "\n",
    "# ============ 1/f noise generator (S0, fmin interface) ============\n",
    "def generate_1f_noise_coeffs(t_grid,\n",
    "                             n_qubits=3,\n",
    "                             n_realizations=1,\n",
    "                             S0=1e-3,\n",
    "                             fmin=1e-6,\n",
    "                             seed=None,\n",
    "                             normalize=False):\n",
    "    \"\"\"\n",
    "    Synthesize time-domain noise xi[r,q,t] with one-sided PSD S(f)=S0/(2π f) for f>=fmin.\n",
    "    xi is dimensionless; multiply by noise_strength to get angular units.\n",
    "    \"\"\"\n",
    "    t_grid = np.asarray(t_grid, dtype=float)\n",
    "    N = int(len(t_grid))\n",
    "    if N < 2:\n",
    "        raise ValueError(\"t_grid must have at least 2 points\")\n",
    "    dt = float(t_grid[1] - t_grid[0])\n",
    "    freqs = rfftfreq(N, dt)  # in native 1/time units of t_grid\n",
    "    S = np.zeros_like(freqs, dtype=float)\n",
    "    mask = freqs >= fmin\n",
    "    S[mask] = S0 / (2.0 * np.pi * np.maximum(freqs[mask], fmin))\n",
    "    S[0] = 0.0\n",
    "\n",
    "    rng = np.random.default_rng(seed)\n",
    "    xis = np.zeros((int(n_realizations), int(n_qubits), N), dtype=float)\n",
    "    for r in range(n_realizations):\n",
    "        for q in range(n_qubits):\n",
    "            real_part = rng.normal(size=len(freqs))\n",
    "            imag_part = rng.normal(size=len(freqs))\n",
    "            spectrum = (real_part + 1j * imag_part) * np.sqrt(np.maximum(S, 0.0) / 2.0)\n",
    "            spectrum[0] = 0.0\n",
    "            x = irfft(spectrum, n=N)\n",
    "            x -= np.mean(x)\n",
    "            if normalize:\n",
    "                s = np.std(x)\n",
    "                if s > 0:\n",
    "                    x /= s\n",
    "            xis[r, q, :] = x\n",
    "    return xis\n",
    "\n",
    "# ============ Platform defaults for (S0, fmin, noise_strength) ============\n",
    "def platform_noise_defaults(PLATFORM, T_max, omega_max):\n",
    "    p = PLATFORM.lower()\n",
    "    if p == \"ibm\":\n",
    "        # seconds & rad/s\n",
    "        S0 = 1e-3\n",
    "        fmin = 1.0/(10.0*T_max)          # ~50 kHz for T_max=2 µs\n",
    "        noise_strength = 2*np.pi*0.25e6  # rad/s (~0.25 MHz ≈ 2% of 12.5 MHz)\n",
    "    elif p == \"quera\":\n",
    "        # microseconds & rad/µs\n",
    "        S0 = 3e-3\n",
    "        fmin = 1.0/(10.0*T_max)          # ~0.033 /µs for T_max=3 µs\n",
    "        noise_strength = 0.15            # rad/µs (~1.5% of 10 rad/µs)\n",
    "    else:\n",
    "        raise ValueError(\"PLATFORM must be 'ibm' or 'quera'\")\n",
    "    return S0, fmin, noise_strength\n"
   ]
  },
  {
   "cell_type": "code",
   "execution_count": 180,
   "id": "f1a29aa0",
   "metadata": {},
   "outputs": [
    {
     "name": "stdout",
     "output_type": "stream",
     "text": [
      "[ibm] S0=1.00e-03, fmin=5e+04 (native units), noise_strength=2.24e-07 MHz (~0.00% of ω_max)\n"
     ]
    },
    {
     "name": "stderr",
     "output_type": "stream",
     "text": [
      "/Users/chenscheim/miniconda3/lib/python3.12/site-packages/qutip/solver/options.py:16: FutureWarning:\n",
      "\n",
      "Dedicated options class are no longer needed, options should be passed as dict to solvers.\n",
      "\n"
     ]
    },
    {
     "data": {
      "application/vnd.plotly.v1+json": {
       "config": {
        "plotlyServerURL": "https://plot.ly"
       },
       "data": [
        {
         "mode": "lines",
         "name": "Fidelity to |1_L⟩",
         "type": "scatter",
         "x": {
          "bdata": "AAAAAAAAAAB7FK5H4XqkP3sUrkfherQ/uR6F61G4vj97FK5H4XrEP5mZmZmZmck/uR6F61G4zj/sUbgehevRP3sUrkfhetQ/CtejcD0K1z+ZmZmZmZnZPylcj8L1KNw/uR6F61G43j+kcD0K16PgP+xRuB6F6+E/MzMzMzMz4z97FK5H4XrkP8P1KFyPwuU/CtejcD0K5z9SuB6F61HoP5mZmZmZmek/4XoUrkfh6j8pXI/C9SjsP3A9CtejcO0/uR6F61G47j8AAAAAAADwP6RwPQrXo/A/SOF6FK5H8T/sUbgehevxP5DC9Shcj/I/MzMzMzMz8z/Xo3A9CtfzP3sUrkfhevQ/H4XrUbge9T/D9Shcj8L1P2ZmZmZmZvY/CtejcD0K9z+uR+F6FK73P1K4HoXrUfg/9ihcj8L1+D+ZmZmZmZn5Pz0K16NwPfo/4XoUrkfh+j+F61G4HoX7Pylcj8L1KPw/zczMzMzM/D9wPQrXo3D9PxSuR+F6FP4/uR6F61G4/j9cj8L1KFz/PwAAAAAAAABA",
          "dtype": "f8"
         },
         "y": [
          0,
          0.031409176556063845,
          0.06278735903192018,
          0.09410358416472298,
          0.1253269497433758,
          0.15642664517463148,
          0.18737198191326093,
          0.21813242372811528,
          0.24867761683213074,
          0.2789774198548673,
          0.3090019335595333,
          0.33872153036530905,
          0.3681068835806742,
          0.39712899632779824,
          0.42575923018118167,
          0.4539693334050558,
          0.4817314688395557,
          0.5090182413790457,
          0.5358027249846476,
          0.562058489275972,
          0.5877596255996562,
          0.6128807725922015,
          0.637397141222811,
          0.6612845392343037,
          0.6845193950290291,
          0.7070787809279377,
          0.7289404357834856,
          0.7500827869650583,
          0.7704849716306146,
          0.7901268573186613,
          0.8089890618215327,
          0.8270529722974035,
          0.8443007636508679,
          0.860715416115126,
          0.8762807320441094,
          0.8909813519064973,
          0.9048027694300876,
          0.9177313459237538,
          0.9297543237356608,
          0.9408598388359434,
          0.9510369325332401,
          0.9602755622809238,
          0.9685666115891347,
          0.9759018990237751,
          0.9822741862741649,
          0.9876771853007449,
          0.9921055645374474,
          0.9955549541522312,
          0.9980219503616722,
          0.9995041187870511,
          0.9999999968581423
         ]
        }
       ],
       "layout": {
        "template": {
         "data": {
          "bar": [
           {
            "error_x": {
             "color": "#2a3f5f"
            },
            "error_y": {
             "color": "#2a3f5f"
            },
            "marker": {
             "line": {
              "color": "white",
              "width": 0.5
             },
             "pattern": {
              "fillmode": "overlay",
              "size": 10,
              "solidity": 0.2
             }
            },
            "type": "bar"
           }
          ],
          "barpolar": [
           {
            "marker": {
             "line": {
              "color": "white",
              "width": 0.5
             },
             "pattern": {
              "fillmode": "overlay",
              "size": 10,
              "solidity": 0.2
             }
            },
            "type": "barpolar"
           }
          ],
          "carpet": [
           {
            "aaxis": {
             "endlinecolor": "#2a3f5f",
             "gridcolor": "#C8D4E3",
             "linecolor": "#C8D4E3",
             "minorgridcolor": "#C8D4E3",
             "startlinecolor": "#2a3f5f"
            },
            "baxis": {
             "endlinecolor": "#2a3f5f",
             "gridcolor": "#C8D4E3",
             "linecolor": "#C8D4E3",
             "minorgridcolor": "#C8D4E3",
             "startlinecolor": "#2a3f5f"
            },
            "type": "carpet"
           }
          ],
          "choropleth": [
           {
            "colorbar": {
             "outlinewidth": 0,
             "ticks": ""
            },
            "type": "choropleth"
           }
          ],
          "contour": [
           {
            "colorbar": {
             "outlinewidth": 0,
             "ticks": ""
            },
            "colorscale": [
             [
              0,
              "#0d0887"
             ],
             [
              0.1111111111111111,
              "#46039f"
             ],
             [
              0.2222222222222222,
              "#7201a8"
             ],
             [
              0.3333333333333333,
              "#9c179e"
             ],
             [
              0.4444444444444444,
              "#bd3786"
             ],
             [
              0.5555555555555556,
              "#d8576b"
             ],
             [
              0.6666666666666666,
              "#ed7953"
             ],
             [
              0.7777777777777778,
              "#fb9f3a"
             ],
             [
              0.8888888888888888,
              "#fdca26"
             ],
             [
              1,
              "#f0f921"
             ]
            ],
            "type": "contour"
           }
          ],
          "contourcarpet": [
           {
            "colorbar": {
             "outlinewidth": 0,
             "ticks": ""
            },
            "type": "contourcarpet"
           }
          ],
          "heatmap": [
           {
            "colorbar": {
             "outlinewidth": 0,
             "ticks": ""
            },
            "colorscale": [
             [
              0,
              "#0d0887"
             ],
             [
              0.1111111111111111,
              "#46039f"
             ],
             [
              0.2222222222222222,
              "#7201a8"
             ],
             [
              0.3333333333333333,
              "#9c179e"
             ],
             [
              0.4444444444444444,
              "#bd3786"
             ],
             [
              0.5555555555555556,
              "#d8576b"
             ],
             [
              0.6666666666666666,
              "#ed7953"
             ],
             [
              0.7777777777777778,
              "#fb9f3a"
             ],
             [
              0.8888888888888888,
              "#fdca26"
             ],
             [
              1,
              "#f0f921"
             ]
            ],
            "type": "heatmap"
           }
          ],
          "histogram": [
           {
            "marker": {
             "pattern": {
              "fillmode": "overlay",
              "size": 10,
              "solidity": 0.2
             }
            },
            "type": "histogram"
           }
          ],
          "histogram2d": [
           {
            "colorbar": {
             "outlinewidth": 0,
             "ticks": ""
            },
            "colorscale": [
             [
              0,
              "#0d0887"
             ],
             [
              0.1111111111111111,
              "#46039f"
             ],
             [
              0.2222222222222222,
              "#7201a8"
             ],
             [
              0.3333333333333333,
              "#9c179e"
             ],
             [
              0.4444444444444444,
              "#bd3786"
             ],
             [
              0.5555555555555556,
              "#d8576b"
             ],
             [
              0.6666666666666666,
              "#ed7953"
             ],
             [
              0.7777777777777778,
              "#fb9f3a"
             ],
             [
              0.8888888888888888,
              "#fdca26"
             ],
             [
              1,
              "#f0f921"
             ]
            ],
            "type": "histogram2d"
           }
          ],
          "histogram2dcontour": [
           {
            "colorbar": {
             "outlinewidth": 0,
             "ticks": ""
            },
            "colorscale": [
             [
              0,
              "#0d0887"
             ],
             [
              0.1111111111111111,
              "#46039f"
             ],
             [
              0.2222222222222222,
              "#7201a8"
             ],
             [
              0.3333333333333333,
              "#9c179e"
             ],
             [
              0.4444444444444444,
              "#bd3786"
             ],
             [
              0.5555555555555556,
              "#d8576b"
             ],
             [
              0.6666666666666666,
              "#ed7953"
             ],
             [
              0.7777777777777778,
              "#fb9f3a"
             ],
             [
              0.8888888888888888,
              "#fdca26"
             ],
             [
              1,
              "#f0f921"
             ]
            ],
            "type": "histogram2dcontour"
           }
          ],
          "mesh3d": [
           {
            "colorbar": {
             "outlinewidth": 0,
             "ticks": ""
            },
            "type": "mesh3d"
           }
          ],
          "parcoords": [
           {
            "line": {
             "colorbar": {
              "outlinewidth": 0,
              "ticks": ""
             }
            },
            "type": "parcoords"
           }
          ],
          "pie": [
           {
            "automargin": true,
            "type": "pie"
           }
          ],
          "scatter": [
           {
            "fillpattern": {
             "fillmode": "overlay",
             "size": 10,
             "solidity": 0.2
            },
            "type": "scatter"
           }
          ],
          "scatter3d": [
           {
            "line": {
             "colorbar": {
              "outlinewidth": 0,
              "ticks": ""
             }
            },
            "marker": {
             "colorbar": {
              "outlinewidth": 0,
              "ticks": ""
             }
            },
            "type": "scatter3d"
           }
          ],
          "scattercarpet": [
           {
            "marker": {
             "colorbar": {
              "outlinewidth": 0,
              "ticks": ""
             }
            },
            "type": "scattercarpet"
           }
          ],
          "scattergeo": [
           {
            "marker": {
             "colorbar": {
              "outlinewidth": 0,
              "ticks": ""
             }
            },
            "type": "scattergeo"
           }
          ],
          "scattergl": [
           {
            "marker": {
             "colorbar": {
              "outlinewidth": 0,
              "ticks": ""
             }
            },
            "type": "scattergl"
           }
          ],
          "scattermap": [
           {
            "marker": {
             "colorbar": {
              "outlinewidth": 0,
              "ticks": ""
             }
            },
            "type": "scattermap"
           }
          ],
          "scattermapbox": [
           {
            "marker": {
             "colorbar": {
              "outlinewidth": 0,
              "ticks": ""
             }
            },
            "type": "scattermapbox"
           }
          ],
          "scatterpolar": [
           {
            "marker": {
             "colorbar": {
              "outlinewidth": 0,
              "ticks": ""
             }
            },
            "type": "scatterpolar"
           }
          ],
          "scatterpolargl": [
           {
            "marker": {
             "colorbar": {
              "outlinewidth": 0,
              "ticks": ""
             }
            },
            "type": "scatterpolargl"
           }
          ],
          "scatterternary": [
           {
            "marker": {
             "colorbar": {
              "outlinewidth": 0,
              "ticks": ""
             }
            },
            "type": "scatterternary"
           }
          ],
          "surface": [
           {
            "colorbar": {
             "outlinewidth": 0,
             "ticks": ""
            },
            "colorscale": [
             [
              0,
              "#0d0887"
             ],
             [
              0.1111111111111111,
              "#46039f"
             ],
             [
              0.2222222222222222,
              "#7201a8"
             ],
             [
              0.3333333333333333,
              "#9c179e"
             ],
             [
              0.4444444444444444,
              "#bd3786"
             ],
             [
              0.5555555555555556,
              "#d8576b"
             ],
             [
              0.6666666666666666,
              "#ed7953"
             ],
             [
              0.7777777777777778,
              "#fb9f3a"
             ],
             [
              0.8888888888888888,
              "#fdca26"
             ],
             [
              1,
              "#f0f921"
             ]
            ],
            "type": "surface"
           }
          ],
          "table": [
           {
            "cells": {
             "fill": {
              "color": "#EBF0F8"
             },
             "line": {
              "color": "white"
             }
            },
            "header": {
             "fill": {
              "color": "#C8D4E3"
             },
             "line": {
              "color": "white"
             }
            },
            "type": "table"
           }
          ]
         },
         "layout": {
          "annotationdefaults": {
           "arrowcolor": "#2a3f5f",
           "arrowhead": 0,
           "arrowwidth": 1
          },
          "autotypenumbers": "strict",
          "coloraxis": {
           "colorbar": {
            "outlinewidth": 0,
            "ticks": ""
           }
          },
          "colorscale": {
           "diverging": [
            [
             0,
             "#8e0152"
            ],
            [
             0.1,
             "#c51b7d"
            ],
            [
             0.2,
             "#de77ae"
            ],
            [
             0.3,
             "#f1b6da"
            ],
            [
             0.4,
             "#fde0ef"
            ],
            [
             0.5,
             "#f7f7f7"
            ],
            [
             0.6,
             "#e6f5d0"
            ],
            [
             0.7,
             "#b8e186"
            ],
            [
             0.8,
             "#7fbc41"
            ],
            [
             0.9,
             "#4d9221"
            ],
            [
             1,
             "#276419"
            ]
           ],
           "sequential": [
            [
             0,
             "#0d0887"
            ],
            [
             0.1111111111111111,
             "#46039f"
            ],
            [
             0.2222222222222222,
             "#7201a8"
            ],
            [
             0.3333333333333333,
             "#9c179e"
            ],
            [
             0.4444444444444444,
             "#bd3786"
            ],
            [
             0.5555555555555556,
             "#d8576b"
            ],
            [
             0.6666666666666666,
             "#ed7953"
            ],
            [
             0.7777777777777778,
             "#fb9f3a"
            ],
            [
             0.8888888888888888,
             "#fdca26"
            ],
            [
             1,
             "#f0f921"
            ]
           ],
           "sequentialminus": [
            [
             0,
             "#0d0887"
            ],
            [
             0.1111111111111111,
             "#46039f"
            ],
            [
             0.2222222222222222,
             "#7201a8"
            ],
            [
             0.3333333333333333,
             "#9c179e"
            ],
            [
             0.4444444444444444,
             "#bd3786"
            ],
            [
             0.5555555555555556,
             "#d8576b"
            ],
            [
             0.6666666666666666,
             "#ed7953"
            ],
            [
             0.7777777777777778,
             "#fb9f3a"
            ],
            [
             0.8888888888888888,
             "#fdca26"
            ],
            [
             1,
             "#f0f921"
            ]
           ]
          },
          "colorway": [
           "#636efa",
           "#EF553B",
           "#00cc96",
           "#ab63fa",
           "#FFA15A",
           "#19d3f3",
           "#FF6692",
           "#B6E880",
           "#FF97FF",
           "#FECB52"
          ],
          "font": {
           "color": "#2a3f5f"
          },
          "geo": {
           "bgcolor": "white",
           "lakecolor": "white",
           "landcolor": "white",
           "showlakes": true,
           "showland": true,
           "subunitcolor": "#C8D4E3"
          },
          "hoverlabel": {
           "align": "left"
          },
          "hovermode": "closest",
          "mapbox": {
           "style": "light"
          },
          "paper_bgcolor": "white",
          "plot_bgcolor": "white",
          "polar": {
           "angularaxis": {
            "gridcolor": "#EBF0F8",
            "linecolor": "#EBF0F8",
            "ticks": ""
           },
           "bgcolor": "white",
           "radialaxis": {
            "gridcolor": "#EBF0F8",
            "linecolor": "#EBF0F8",
            "ticks": ""
           }
          },
          "scene": {
           "xaxis": {
            "backgroundcolor": "white",
            "gridcolor": "#DFE8F3",
            "gridwidth": 2,
            "linecolor": "#EBF0F8",
            "showbackground": true,
            "ticks": "",
            "zerolinecolor": "#EBF0F8"
           },
           "yaxis": {
            "backgroundcolor": "white",
            "gridcolor": "#DFE8F3",
            "gridwidth": 2,
            "linecolor": "#EBF0F8",
            "showbackground": true,
            "ticks": "",
            "zerolinecolor": "#EBF0F8"
           },
           "zaxis": {
            "backgroundcolor": "white",
            "gridcolor": "#DFE8F3",
            "gridwidth": 2,
            "linecolor": "#EBF0F8",
            "showbackground": true,
            "ticks": "",
            "zerolinecolor": "#EBF0F8"
           }
          },
          "shapedefaults": {
           "line": {
            "color": "#2a3f5f"
           }
          },
          "ternary": {
           "aaxis": {
            "gridcolor": "#DFE8F3",
            "linecolor": "#A2B1C6",
            "ticks": ""
           },
           "baxis": {
            "gridcolor": "#DFE8F3",
            "linecolor": "#A2B1C6",
            "ticks": ""
           },
           "bgcolor": "white",
           "caxis": {
            "gridcolor": "#DFE8F3",
            "linecolor": "#A2B1C6",
            "ticks": ""
           }
          },
          "title": {
           "x": 0.05
          },
          "xaxis": {
           "automargin": true,
           "gridcolor": "#EBF0F8",
           "linecolor": "#EBF0F8",
           "ticks": "",
           "title": {
            "standoff": 15
           },
           "zerolinecolor": "#EBF0F8",
           "zerolinewidth": 2
          },
          "yaxis": {
           "automargin": true,
           "gridcolor": "#EBF0F8",
           "linecolor": "#EBF0F8",
           "ticks": "",
           "title": {
            "standoff": 15
           },
           "zerolinecolor": "#EBF0F8",
           "zerolinewidth": 2
          }
         }
        },
        "title": {
         "text": "Logical |1⟩ fidelity vs time with 1/f X-noise — IBM (Ep≈100 MHz)"
        },
        "xaxis": {
         "title": {
          "text": "time [µs]"
         }
        },
        "yaxis": {
         "title": {
          "text": "Fidelity"
         }
        }
       }
      }
     },
     "metadata": {},
     "output_type": "display_data"
    }
   ],
   "source": [
    "# --- choose platform-aware values ---\n",
    "S0, fmin, noise_strength = platform_noise_defaults(PLATFORM, params[\"T_max\"], omega_max)\n",
    "\n",
    "# --- generate one 1/f noise realization on your native time grid ---\n",
    "t_grid = np.asarray(t_list, dtype=float)\n",
    "xis = generate_1f_noise_coeffs(\n",
    "    t_grid=t_grid,\n",
    "    n_qubits=3,\n",
    "    n_realizations=1,\n",
    "    S0=S0,\n",
    "    fmin=fmin,\n",
    "    seed=123,\n",
    "    normalize=False\n",
    ")[0]  # shape: (3, N)\n",
    "\n",
    "# build continuous-time interpolants xi_q(t)\n",
    "coeffs = [interp1d(t_grid, xis[q], kind='cubic', bounds_error=False,\n",
    "                   fill_value=(xis[q, 0], xis[q, -1])) for q in range(3)]\n",
    "\n",
    "# noise operators (X-noise)\n",
    "X_op, I_op = sigmax(), qeye(2)\n",
    "noise_ops = [tensor(X_op, I_op, I_op),\n",
    "             tensor(I_op, X_op, I_op),\n",
    "             tensor(I_op, I_op, X_op)]\n",
    "\n",
    "# penalty to use (angular units already platform-correct)\n",
    "Ep_use = float(params[\"Ep\"])\n",
    "\n",
    "# ---- Local noisy Hamiltonian (no global Hp/H mutation) ----\n",
    "def H_noisy(t, args=None):\n",
    "    H_RAP = X_L * omega_t(t) + Z_L * delta_t(t)\n",
    "    H_pen = -Ep_use * sum(S_list, 0*I_L)\n",
    "    H_noise = sum(float(coeffs[q](t)) * noise_strength * noise_ops[q] for q in range(3))\n",
    "    return (H_RAP + H_pen + H_noise).to('csr')\n",
    "\n",
    "# ---- Quick diagnostics: effective RMS noise amplitude vs omega_max ----\n",
    "rms_x = float(np.sqrt(np.mean(xis**2)))\n",
    "eff_rms_drive = noise_strength * rms_x\n",
    "print(f\"[{PLATFORM}] S0={S0:.2e}, fmin={fmin:.3g} (native units), \"\n",
    "      f\"noise_strength={eff_rms_drive*params['to_freq_units']:.3g} MHz \"\n",
    "      f\"(~{100*eff_rms_drive/omega_max:.2f}% of ω_max)\")\n",
    "\n",
    "# ---- Evolve (unitary) and plot fidelity to |1_L> ----\n",
    "res = qt.sesolve(H_noisy, logical_zero, t_list, e_ops=[], args={},\n",
    "                 options=qt.Options(store_states=True, nsteps=10000, rtol=1e-7, atol=1e-9))\n",
    "fidelity = [qt.metrics.fidelity(psi, logical_one) for psi in res.states]\n",
    "\n",
    "t_plot = t_list * to_time_units\n",
    "fig = go.Figure()\n",
    "fig.add_trace(go.Scatter(x=t_plot, y=fidelity, mode='lines', name='Fidelity to |1_L⟩'))\n",
    "fig.update_layout(\n",
    "    title=(f\"Logical |1⟩ fidelity vs time with 1/f X-noise — {PLATFORM.upper()} \"\n",
    "           f\"(Ep≈{((Ep_use/(2*np.pi))/(1e6 if PLATFORM.lower()=='ibm' else 1.0)):.3g} MHz)\"),\n",
    "    xaxis_title=time_unit_label,\n",
    "    yaxis_title='Fidelity',\n",
    "    template='plotly_white'\n",
    ")\n",
    "fig.show()"
   ]
  },
  {
   "cell_type": "markdown",
   "id": "0b9acc62",
   "metadata": {},
   "source": [
    "trying"
   ]
  },
  {
   "cell_type": "code",
   "execution_count": 170,
   "id": "97661b19",
   "metadata": {},
   "outputs": [
    {
     "data": {
      "application/vnd.plotly.v1+json": {
       "config": {
        "plotlyServerURL": "https://plot.ly"
       },
       "data": [
        {
         "line": {
          "color": "rgba(0,120,255,0.20)",
          "width": 1
         },
         "mode": "lines",
         "showlegend": false,
         "type": "scatter",
         "x": {
          "bdata": "AAAAAAAAAAB7FK5H4XqkP3sUrkfherQ/uR6F61G4vj97FK5H4XrEP5mZmZmZmck/uR6F61G4zj/sUbgehevRP3sUrkfhetQ/CtejcD0K1z+ZmZmZmZnZPylcj8L1KNw/uR6F61G43j+kcD0K16PgP+xRuB6F6+E/MzMzMzMz4z97FK5H4XrkP8P1KFyPwuU/CtejcD0K5z9SuB6F61HoP5mZmZmZmek/4XoUrkfh6j8pXI/C9SjsP3A9CtejcO0/uR6F61G47j8AAAAAAADwP6RwPQrXo/A/SOF6FK5H8T/sUbgehevxP5DC9Shcj/I/MzMzMzMz8z/Xo3A9CtfzP3sUrkfhevQ/H4XrUbge9T/D9Shcj8L1P2ZmZmZmZvY/CtejcD0K9z+uR+F6FK73P1K4HoXrUfg/9ihcj8L1+D+ZmZmZmZn5Pz0K16NwPfo/4XoUrkfh+j+F61G4HoX7Pylcj8L1KPw/zczMzMzM/D9wPQrXo3D9PxSuR+F6FP4/uR6F61G4/j9cj8L1KFz/PwAAAAAAAABA",
          "dtype": "f8"
         },
         "y": {
          "bdata": "+3uqWokLjT4FYT6+XysFvl3afekG74c+fslYquDthz6yO6qcNtd/Ph6B+Xy+b56+1QVHAsgUm76GZcrcLl2GvjPkRX93XpO++6PUTMUva76+S+30mJqgvtB5VokgypC+NsGsqusMjr4HaVUWD8qDvslUHEv8u2e+TnYwaTb0g76lVz2+B4pRPuLylpC3IYG+VI49lnpCjL4m1fLrn3mYvjZpWiEHc5G+zddL6lO3iT4xnL3EYEabPhsKn6MlqnU+LJnmKYORhz4rINmn836gPnXH+RRU9U6+nE2mm/LKdb5EAXpX4Qd7vn4MHOXcH5E+BVgdVyGukD4ojUIozZuKPrC/hOblxZo+aWiq9RKNi76mKmbKVdxtPsks6staKOU9J21rF4MRib5BW6rQvKNgPkwsFweFjHg+JOgm1fu9gz5suE047WCFPpe0xUsohIY+N7EW4EJRYb4msq95NdSHvvxARuCdQo4+x7HNJwubez4c3kGmi9F4PhQ0Ru8/1lY+Te9xmV/ebr5dsMGm2nSAPtT4KBqFC4A+",
          "dtype": "f8"
         }
        },
        {
         "line": {
          "color": "rgba(0,120,255,0.20)",
          "width": 1
         },
         "mode": "lines",
         "showlegend": false,
         "type": "scatter",
         "x": {
          "bdata": "AAAAAAAAAAB7FK5H4XqkP3sUrkfherQ/uR6F61G4vj97FK5H4XrEP5mZmZmZmck/uR6F61G4zj/sUbgehevRP3sUrkfhetQ/CtejcD0K1z+ZmZmZmZnZPylcj8L1KNw/uR6F61G43j+kcD0K16PgP+xRuB6F6+E/MzMzMzMz4z97FK5H4XrkP8P1KFyPwuU/CtejcD0K5z9SuB6F61HoP5mZmZmZmek/4XoUrkfh6j8pXI/C9SjsP3A9CtejcO0/uR6F61G47j8AAAAAAADwP6RwPQrXo/A/SOF6FK5H8T/sUbgehevxP5DC9Shcj/I/MzMzMzMz8z/Xo3A9CtfzP3sUrkfhevQ/H4XrUbge9T/D9Shcj8L1P2ZmZmZmZvY/CtejcD0K9z+uR+F6FK73P1K4HoXrUfg/9ihcj8L1+D+ZmZmZmZn5Pz0K16NwPfo/4XoUrkfh+j+F61G4HoX7Pylcj8L1KPw/zczMzMzM/D9wPQrXo3D9PxSuR+F6FP4/uR6F61G4/j9cj8L1KFz/PwAAAAAAAABA",
          "dtype": "f8"
         },
         "y": {
          "bdata": "mDi2wMUZir7kQxPo+LKNvkVHTDk54HU+hxwxejsliT7zcY0u5MB4vmKTTP9sPJI+WI2VmrKJkT7DIdtPmPRTPsw4e1JGjpG+WOa2ylCJjL7AYTUFfJOCvvtT3lFbjYG+Hcez3Mr6kj5BbSkxn8h5PjAVDhdji40+DpUJxZiPjz4XkMSOoLqEPsEbRtddrnq+lX54mEpsXL5CTD6dINCgvosldUjMuIK+NytIwwGrY75n44XmxqCUvvLczL8v6Ha+/eidslZ0iT4kUzqm/12JvotzVI/I1JC+bFs77QEsfr4AI9UD72KJvsfwlQ32OZO+WdfTocEhlr6SJMMdWrSWvqhO9zyzRI++HEpR1C1Hcr5VeIMQugx2vtayXrw20z2+Rhwp/oRChD7V/Y8pQFqLPvvaKxgLBGk+SSvHDB2+kj67Y+angjuSPhG/9uyDkpM+S7//21IGgD5+OsDbeZaSPrVBM1qjDp4+4NZHeeQCiD6tyNyKGj2UPqF+9FlRJIg+x9aQpRo0SD7ny21cRVOSvlrI2SDbnWk+",
          "dtype": "f8"
         }
        },
        {
         "line": {
          "color": "rgba(0,120,255,0.20)",
          "width": 1
         },
         "mode": "lines",
         "showlegend": false,
         "type": "scatter",
         "x": {
          "bdata": "AAAAAAAAAAB7FK5H4XqkP3sUrkfherQ/uR6F61G4vj97FK5H4XrEP5mZmZmZmck/uR6F61G4zj/sUbgehevRP3sUrkfhetQ/CtejcD0K1z+ZmZmZmZnZPylcj8L1KNw/uR6F61G43j+kcD0K16PgP+xRuB6F6+E/MzMzMzMz4z97FK5H4XrkP8P1KFyPwuU/CtejcD0K5z9SuB6F61HoP5mZmZmZmek/4XoUrkfh6j8pXI/C9SjsP3A9CtejcO0/uR6F61G47j8AAAAAAADwP6RwPQrXo/A/SOF6FK5H8T/sUbgehevxP5DC9Shcj/I/MzMzMzMz8z/Xo3A9CtfzP3sUrkfhevQ/H4XrUbge9T/D9Shcj8L1P2ZmZmZmZvY/CtejcD0K9z+uR+F6FK73P1K4HoXrUfg/9ihcj8L1+D+ZmZmZmZn5Pz0K16NwPfo/4XoUrkfh+j+F61G4HoX7Pylcj8L1KPw/zczMzMzM/D9wPQrXo3D9PxSuR+F6FP4/uR6F61G4/j9cj8L1KFz/PwAAAAAAAABA",
          "dtype": "f8"
         },
         "y": {
          "bdata": "HdaivrRylT6e6P6AFFqjPqrkehgAVJg+AAp403iHbj5kEtQ4wQhpPghexHjwkY8+MGmqX8wpg75ekygoNqaBvkwEd/wIU5W+0S/YMlO5nL7TtbpxK/hnPinAg3irckA+H9ZB8lq8eD4xyzDy2eKOPtM5AfZKoHY+cu1i5EwqXr4t4Ts0hWt7vto1tBCpdHO+SRuJLWE4eb7/y/XQQYWSvrhKUj+X/pO+VR4oJlzOmL4/VsNRgjelvv3kN4KbWaq+bPuVddmIor5RURmAwWmjvhknAryuXZe+hM+Eyrm6hr6vKxyF6dtCvrXMPzN7yW2+K8m/rnfdcr4yCqyyNu+UvsSC5Jfm4pa+WDG+q0jZZL59XIl7JdmQviMhd4L7BG0+LROvu/zxeT5jcOJGx3aJPn8BhDT0Jnk+3F2l3G42iL6kPHw0lZqGPsVlFCjopYk+AoZF29s1hj7sGPcrA3CcPvtaYpn02Zs+Azp5oTxvoD7Bwppe/h6TPuxhl9qzu5g+BKrimFmHnz7EJ3ST1nipPrZUH/BDAJg+",
          "dtype": "f8"
         }
        },
        {
         "line": {
          "color": "rgba(0,120,255,0.20)",
          "width": 1
         },
         "mode": "lines",
         "showlegend": false,
         "type": "scatter",
         "x": {
          "bdata": "AAAAAAAAAAB7FK5H4XqkP3sUrkfherQ/uR6F61G4vj97FK5H4XrEP5mZmZmZmck/uR6F61G4zj/sUbgehevRP3sUrkfhetQ/CtejcD0K1z+ZmZmZmZnZPylcj8L1KNw/uR6F61G43j+kcD0K16PgP+xRuB6F6+E/MzMzMzMz4z97FK5H4XrkP8P1KFyPwuU/CtejcD0K5z9SuB6F61HoP5mZmZmZmek/4XoUrkfh6j8pXI/C9SjsP3A9CtejcO0/uR6F61G47j8AAAAAAADwP6RwPQrXo/A/SOF6FK5H8T/sUbgehevxP5DC9Shcj/I/MzMzMzMz8z/Xo3A9CtfzP3sUrkfhevQ/H4XrUbge9T/D9Shcj8L1P2ZmZmZmZvY/CtejcD0K9z+uR+F6FK73P1K4HoXrUfg/9ihcj8L1+D+ZmZmZmZn5Pz0K16NwPfo/4XoUrkfh+j+F61G4HoX7Pylcj8L1KPw/zczMzMzM/D9wPQrXo3D9PxSuR+F6FP4/uR6F61G4/j9cj8L1KFz/PwAAAAAAAABA",
          "dtype": "f8"
         },
         "y": {
          "bdata": "tNXnO0l5kb6pnzFEJKugvkGDcZRxp6C+dmrKIi7wjL5qzd/VwtKTvmq0d/45gX6+zDFguOrSmL6RSEu5WChsvvacc7uAcns+A0GPxPrjdr4O73jHueR1PsWX7zykk5e++BIVvLhCmL5u6dNV2yqlvgYvklaBXHa+0rBQgvUOgT5dA5eKmkN7PgPf5q3m7n++07NiXLFtjr6jV3W0ppuGPo8N2pP87pk+VIbMgS8Zkz7FZNqzMldJPh3Qnj0GSm4+bijmB3dwmD6z2zDYJI+OPpYuM5ce52o+7UYuC4v+jb44jBU4FouHviwV9CCldSY+JPH0Sme4mD7zS1wY4vaWPox8VgmuY5A+de1zrfn2WD7CQaGHSoGVPp0NuB1uf6I+RQwQOD/Shz4eQKcZ2zKLPqKRAAVxE3W+YV4PvKS8jT5JNjMpcyeAPmYLHPy9pIO+1sozH5zBiT6VjfebmQp5PuzZB3w9+4A+nnlsJWl/gz4oTCji2ElLvtiX3Z7Zm3K+AprUo4E/gr5UDZQnCmd/vgd99T+4U1k+",
          "dtype": "f8"
         }
        },
        {
         "line": {
          "color": "rgba(0,120,255,0.20)",
          "width": 1
         },
         "mode": "lines",
         "showlegend": false,
         "type": "scatter",
         "x": {
          "bdata": "AAAAAAAAAAB7FK5H4XqkP3sUrkfherQ/uR6F61G4vj97FK5H4XrEP5mZmZmZmck/uR6F61G4zj/sUbgehevRP3sUrkfhetQ/CtejcD0K1z+ZmZmZmZnZPylcj8L1KNw/uR6F61G43j+kcD0K16PgP+xRuB6F6+E/MzMzMzMz4z97FK5H4XrkP8P1KFyPwuU/CtejcD0K5z9SuB6F61HoP5mZmZmZmek/4XoUrkfh6j8pXI/C9SjsP3A9CtejcO0/uR6F61G47j8AAAAAAADwP6RwPQrXo/A/SOF6FK5H8T/sUbgehevxP5DC9Shcj/I/MzMzMzMz8z/Xo3A9CtfzP3sUrkfhevQ/H4XrUbge9T/D9Shcj8L1P2ZmZmZmZvY/CtejcD0K9z+uR+F6FK73P1K4HoXrUfg/9ihcj8L1+D+ZmZmZmZn5Pz0K16NwPfo/4XoUrkfh+j+F61G4HoX7Pylcj8L1KPw/zczMzMzM/D9wPQrXo3D9PxSuR+F6FP4/uR6F61G4/j9cj8L1KFz/PwAAAAAAAABA",
          "dtype": "f8"
         },
         "y": {
          "bdata": "ewQupsKoiL4Bd6cqFjNbvlKynuQ5fYo+WWLUYd3Rer4haPvTC2CSvkL1KQQhWn0+hWlS2yvghb4ryt4c5/9XProgeL925nq+y8ybfPMji76FGDcPTJlYPvgxplmn24M+IanXexqSkD7ZLZcftbCUPud9CUN6VXU+o4kOnK8Hlz43ku7Cb614Pt9rlhnyC5Y+wS2urNOSgD7WHjX9wJqKPial9H6ubYg+8f/f3f3tZb62AyWtbWeRvsojc3dkJYq+lzrBSOPYYj5ISisg08tEvi12vIZUImO+D3q1mnv/g748nseoW2aSvlPIhfHPGpK+jRyhhZqOd74t11qwatmEvvUXu/kuoZG+GeP1kXvDhz5W8FHbqBqXPkec9RKmoVW+scCdbS0OmT4RBPQPAD6EPkrE5ZG/A3E+KFggThkZiz5fFUz1QZNxPpm8JNe2dX8+ECLO2ELdj76bGGzOpotUvo9CZjlXjI++DqmYO/OWer7z7mA2R1FlvoeTMfdzoGi+PMDpBjcFgb5tnLHiMDGOvnnNEk7piHm+",
          "dtype": "f8"
         }
        },
        {
         "line": {
          "color": "rgba(0,120,255,0.20)",
          "width": 1
         },
         "mode": "lines",
         "showlegend": false,
         "type": "scatter",
         "x": {
          "bdata": "AAAAAAAAAAB7FK5H4XqkP3sUrkfherQ/uR6F61G4vj97FK5H4XrEP5mZmZmZmck/uR6F61G4zj/sUbgehevRP3sUrkfhetQ/CtejcD0K1z+ZmZmZmZnZPylcj8L1KNw/uR6F61G43j+kcD0K16PgP+xRuB6F6+E/MzMzMzMz4z97FK5H4XrkP8P1KFyPwuU/CtejcD0K5z9SuB6F61HoP5mZmZmZmek/4XoUrkfh6j8pXI/C9SjsP3A9CtejcO0/uR6F61G47j8AAAAAAADwP6RwPQrXo/A/SOF6FK5H8T/sUbgehevxP5DC9Shcj/I/MzMzMzMz8z/Xo3A9CtfzP3sUrkfhevQ/H4XrUbge9T/D9Shcj8L1P2ZmZmZmZvY/CtejcD0K9z+uR+F6FK73P1K4HoXrUfg/9ihcj8L1+D+ZmZmZmZn5Pz0K16NwPfo/4XoUrkfh+j+F61G4HoX7Pylcj8L1KPw/zczMzMzM/D9wPQrXo3D9PxSuR+F6FP4/uR6F61G4/j9cj8L1KFz/PwAAAAAAAABA",
          "dtype": "f8"
         },
         "y": {
          "bdata": "7ihh5emdfT6Pt9k7aj80Phf62pG9jIS+ttP2/HMgjD4WxDBfQd5hvrNciW73QoQ+/6uzwBQJlT5EtBA9mb+XPoLExAvPW5A+WlIBOVs9iz44b+y0p9qIPgoXn9Tx3og+jLfE2EEPcT4f0oJuJ31cPknYPTheG4o+utiYAh2Vjz4pIq2F9g90Ps7hU9tQUYW+vytjWjKskL6TvbT3HH+Uvkic6/yGvZu+xVwLK6Q6mr7wTehlPpB4vqYdEht9GYw+H5eIpcXUWD5rlaSEBX2APi1bE8TGj5a+K0mdHSS9ij6kzygPIptYPvUo0WGQhIo+1VwBGr5QgD5T+3SivgGHProT+ccUKH4+Zy255iVBkj4Bbr9N30t5PgXE0zR2Fn6+W4uYPHI3Uz7k+WjXv5qOPnMz7/ildIS+IeNA/rWynr4VhOD1UEiVvkXBeA6UFpe+WKLUlCzfmL6+cF0F6vGbvlL/JA93aYe+ZpKx2eaQbL50R+xVwPxkPnztkMEDbXU+xTqUJn6zhj73nr7gOhlVPtD1Q5nN74C+",
          "dtype": "f8"
         }
        },
        {
         "line": {
          "color": "rgba(0,120,255,0.20)",
          "width": 1
         },
         "mode": "lines",
         "showlegend": false,
         "type": "scatter",
         "x": {
          "bdata": "AAAAAAAAAAB7FK5H4XqkP3sUrkfherQ/uR6F61G4vj97FK5H4XrEP5mZmZmZmck/uR6F61G4zj/sUbgehevRP3sUrkfhetQ/CtejcD0K1z+ZmZmZmZnZPylcj8L1KNw/uR6F61G43j+kcD0K16PgP+xRuB6F6+E/MzMzMzMz4z97FK5H4XrkP8P1KFyPwuU/CtejcD0K5z9SuB6F61HoP5mZmZmZmek/4XoUrkfh6j8pXI/C9SjsP3A9CtejcO0/uR6F61G47j8AAAAAAADwP6RwPQrXo/A/SOF6FK5H8T/sUbgehevxP5DC9Shcj/I/MzMzMzMz8z/Xo3A9CtfzP3sUrkfhevQ/H4XrUbge9T/D9Shcj8L1P2ZmZmZmZvY/CtejcD0K9z+uR+F6FK73P1K4HoXrUfg/9ihcj8L1+D+ZmZmZmZn5Pz0K16NwPfo/4XoUrkfh+j+F61G4HoX7Pylcj8L1KPw/zczMzMzM/D9wPQrXo3D9PxSuR+F6FP4/uR6F61G4/j9cj8L1KFz/PwAAAAAAAABA",
          "dtype": "f8"
         },
         "y": {
          "bdata": "UO6OPd5lhz6hfVIxiBWbPrZ2+P5iOpQ+y7RQMmefpT5co2qLZP2hPuBbhnNHejs+/8AB90Qugz7UQAyoizWAPi00dj1ospa+p6eSRpFbeb6G2xsc8x6Lvp56gBFhL3a+7NrUkNMCmr5lAPTCTf2Wvnb0XXMZo2u+HR578gDNgT604USA+GeHPt+NIzQJvX4+u46uG7pJbL6js3igOIGLvsIt0y+MIpi+IaznzLXnjr6nALMNbkd8PpMtUaCrW4E+m/XnNpnqaz79sfbEwCyFvmUsJ/DUtX2+RuRkhr9Olr4mxuEg+jOYvkxO2WiqiHu+vBPGeUf1lr6qkSz3bvt5vhXBamyUqYk+cWdNCUBqg77Mnssi+t9mPgZWca4Gd4w+9m3pYrEwaL5J9NHkCPKAPhF3TZR/IYW+HCtxwPFCkr7FPcyBO+ydvgzQhSZtL5K+GT5ON2yhkj67ra5oylibPgeVHyCgYn++8wsYzd/LVD4Nz2vc8oNLPsBBpnPH0n4+64FhsjiZlT5aiUdhN82dPhTnRcCTS3k+",
          "dtype": "f8"
         }
        },
        {
         "line": {
          "color": "rgba(0,120,255,0.20)",
          "width": 1
         },
         "mode": "lines",
         "showlegend": false,
         "type": "scatter",
         "x": {
          "bdata": "AAAAAAAAAAB7FK5H4XqkP3sUrkfherQ/uR6F61G4vj97FK5H4XrEP5mZmZmZmck/uR6F61G4zj/sUbgehevRP3sUrkfhetQ/CtejcD0K1z+ZmZmZmZnZPylcj8L1KNw/uR6F61G43j+kcD0K16PgP+xRuB6F6+E/MzMzMzMz4z97FK5H4XrkP8P1KFyPwuU/CtejcD0K5z9SuB6F61HoP5mZmZmZmek/4XoUrkfh6j8pXI/C9SjsP3A9CtejcO0/uR6F61G47j8AAAAAAADwP6RwPQrXo/A/SOF6FK5H8T/sUbgehevxP5DC9Shcj/I/MzMzMzMz8z/Xo3A9CtfzP3sUrkfhevQ/H4XrUbge9T/D9Shcj8L1P2ZmZmZmZvY/CtejcD0K9z+uR+F6FK73P1K4HoXrUfg/9ihcj8L1+D+ZmZmZmZn5Pz0K16NwPfo/4XoUrkfh+j+F61G4HoX7Pylcj8L1KPw/zczMzMzM/D9wPQrXo3D9PxSuR+F6FP4/uR6F61G4/j9cj8L1KFz/PwAAAAAAAABA",
          "dtype": "f8"
         },
         "y": {
          "bdata": "h/P1NBnqgD7whvyrAPU5PhVpJv+HYHc+lkoeBSRCXb7dlia4hRyQPtTTYSnItY0+9NxcPCg3kj6iRmzHfLSDPpEQbQrcR3o+JLVtziC7h76Lb4u2MHOGvuGQyl+HSXi+l++TmeMKcT6QF7f1Iah3Ps8Sa04PS4g+nar4Sp8/i74TYpBzhlaTvlVXrsjkeWA+LqZyx3A0mT4FfdFDAX+gPgnTErx3i5M+Ff2u+w1FjD6LRjaP8l2UPlk/t8iDaJg+zklpAW1DoT4T40Bh7VuEPlbFwLY1J4w+KAQPDhXHZb7ib2uw75OavsIv0HWMGaC+LH+2gk5Wcb4StVZp9jOJvuurvkUPLJy+1M7vp4FNl76731J/2g+Bvub0BdZSfKG+AIL5Zekllb7Qmdz0Bp2Ovm7RST5UboS+9hRCujqdnL6zfs6kvlSSvpZW86m31kM+4TdmkbHVhz68EbUqa0B1vpQYPJBKXpK+KxBYRS3en76/V208sQ6Pvqs9gEHsdn8+1/wBftKvlj66O35ltAuhPk46s/3zv5g+",
          "dtype": "f8"
         }
        },
        {
         "line": {
          "color": "rgba(0,120,255,0.20)",
          "width": 1
         },
         "mode": "lines",
         "showlegend": false,
         "type": "scatter",
         "x": {
          "bdata": "AAAAAAAAAAB7FK5H4XqkP3sUrkfherQ/uR6F61G4vj97FK5H4XrEP5mZmZmZmck/uR6F61G4zj/sUbgehevRP3sUrkfhetQ/CtejcD0K1z+ZmZmZmZnZPylcj8L1KNw/uR6F61G43j+kcD0K16PgP+xRuB6F6+E/MzMzMzMz4z97FK5H4XrkP8P1KFyPwuU/CtejcD0K5z9SuB6F61HoP5mZmZmZmek/4XoUrkfh6j8pXI/C9SjsP3A9CtejcO0/uR6F61G47j8AAAAAAADwP6RwPQrXo/A/SOF6FK5H8T/sUbgehevxP5DC9Shcj/I/MzMzMzMz8z/Xo3A9CtfzP3sUrkfhevQ/H4XrUbge9T/D9Shcj8L1P2ZmZmZmZvY/CtejcD0K9z+uR+F6FK73P1K4HoXrUfg/9ihcj8L1+D+ZmZmZmZn5Pz0K16NwPfo/4XoUrkfh+j+F61G4HoX7Pylcj8L1KPw/zczMzMzM/D9wPQrXo3D9PxSuR+F6FP4/uR6F61G4/j9cj8L1KFz/PwAAAAAAAABA",
          "dtype": "f8"
         },
         "y": {
          "bdata": "oLMLgr9wjr7QJ/hq/8agvpWUS6XBlJS+r4a6f5yHkb694nP+w+CgviMcASLgCqW+Pq471QYZa76gRue/U9l9vuP+gU2xbnG+gn2XXFjufr6aeipcO7ORvq55KcuftXg+ilYZCEjZZD5UMOyyDuGEPuftyABOI/A9KMapkV+3gD432rB/xhyDPmQ/4uOQ9Ii+2JqIsEFydj4tFk1y5gRbPhap+0u6FmG+rTK/NezVjD6uYQNs4ByHPtzHSHnFQYA+Ze+96769kz4NwiDeE3CAPoZPcEI9doM+nAaTOmejlD4mEal25MSPPkPUFI8nYjU+OZn9efdBjj6xwt7s4RBwvsSnXGkXJmY+nx9rxGZagD7114NlqiVdPsGvwwvoQFY+0xeZWPmofz4xjdr9mkF/PrsgxJnOwaI+6zAgjbolij4PuBFrLCF5PqZzJg89FmQ+dTJtssyFLr46uDfBrSRUvoDqOv9CMo6+N3M2++tTdD4H7FRCDlRcPpfF15Tgh4C+XeBO+X0Wfr45hdIPQDthvt5n9uG5Rn++",
          "dtype": "f8"
         }
        },
        {
         "line": {
          "color": "rgba(0,120,255,0.20)",
          "width": 1
         },
         "mode": "lines",
         "showlegend": false,
         "type": "scatter",
         "x": {
          "bdata": "AAAAAAAAAAB7FK5H4XqkP3sUrkfherQ/uR6F61G4vj97FK5H4XrEP5mZmZmZmck/uR6F61G4zj/sUbgehevRP3sUrkfhetQ/CtejcD0K1z+ZmZmZmZnZPylcj8L1KNw/uR6F61G43j+kcD0K16PgP+xRuB6F6+E/MzMzMzMz4z97FK5H4XrkP8P1KFyPwuU/CtejcD0K5z9SuB6F61HoP5mZmZmZmek/4XoUrkfh6j8pXI/C9SjsP3A9CtejcO0/uR6F61G47j8AAAAAAADwP6RwPQrXo/A/SOF6FK5H8T/sUbgehevxP5DC9Shcj/I/MzMzMzMz8z/Xo3A9CtfzP3sUrkfhevQ/H4XrUbge9T/D9Shcj8L1P2ZmZmZmZvY/CtejcD0K9z+uR+F6FK73P1K4HoXrUfg/9ihcj8L1+D+ZmZmZmZn5Pz0K16NwPfo/4XoUrkfh+j+F61G4HoX7Pylcj8L1KPw/zczMzMzM/D9wPQrXo3D9PxSuR+F6FP4/uR6F61G4/j9cj8L1KFz/PwAAAAAAAABA",
          "dtype": "f8"
         },
         "y": {
          "bdata": "IN9D1KV9eT6F74jClOOKviLaIh1xV34+Ss5hSFCdh75M+yFCDFtmvnDozV3mtoq+WqaUAn3wnL7IPPCL1Jl+vsliZHqVzKO+qeNHIZcvkb7blvnEKeKXvjXk7YIZYoW+S4ljfFS5lr6ft1XM0E+hvmcoJAXHj5y+ri6BHDtvhb4yZtnLzpuWvn0vD4AKXp++dOvV3kGJZj5resb9B/1QPuSPlRV5npq+LvIXXmX6i75GsV5mRqdPvhyNM0FJwWc+fI4bP3GucD5WHsv3cZOJvjJ7n4T21I++F71LRY/Mgr7Ww4nOD/KKvlrA0HwQVwC+VHLuDQlDoz5nrEZuLJqbPlAg9WMF34E+ljdPrQhlfT60NrOuo6+nPg5sSw6fMq8+e21LHPcdpj4OlKhvRjWmPkktQwGnb54+JyalrzKRlj4hKHndPdiJPmls53Ik+Iu+fr9b2ODla74+4fqrUqRcPlRs9Us7OVu+3mGjr2soij6KgwI9TmuePv2Cu9dSxHm+pI8aTv6mWj6LZ9+rRSpuPrFhg5fvUZA+",
          "dtype": "f8"
         }
        },
        {
         "line": {
          "color": "rgba(0,120,255,0.20)",
          "width": 1
         },
         "mode": "lines",
         "showlegend": false,
         "type": "scatter",
         "x": {
          "bdata": "AAAAAAAAAAB7FK5H4XqkP3sUrkfherQ/uR6F61G4vj97FK5H4XrEP5mZmZmZmck/uR6F61G4zj/sUbgehevRP3sUrkfhetQ/CtejcD0K1z+ZmZmZmZnZPylcj8L1KNw/uR6F61G43j+kcD0K16PgP+xRuB6F6+E/MzMzMzMz4z97FK5H4XrkP8P1KFyPwuU/CtejcD0K5z9SuB6F61HoP5mZmZmZmek/4XoUrkfh6j8pXI/C9SjsP3A9CtejcO0/uR6F61G47j8AAAAAAADwP6RwPQrXo/A/SOF6FK5H8T/sUbgehevxP5DC9Shcj/I/MzMzMzMz8z/Xo3A9CtfzP3sUrkfhevQ/H4XrUbge9T/D9Shcj8L1P2ZmZmZmZvY/CtejcD0K9z+uR+F6FK73P1K4HoXrUfg/9ihcj8L1+D+ZmZmZmZn5Pz0K16NwPfo/4XoUrkfh+j+F61G4HoX7Pylcj8L1KPw/zczMzMzM/D9wPQrXo3D9PxSuR+F6FP4/uR6F61G4/j9cj8L1KFz/PwAAAAAAAABA",
          "dtype": "f8"
         },
         "y": {
          "bdata": "L5+sx60/ZL5l6s6W40FGPqkfu0IG9YC+7vGOTOIPg76OzGy0xD+IvgzVzLh4M5O+uLDejcCkTT6aEra/wIiSvp68zn/dqXI+gdZfU67udb4lvulNzmKDPlQpC7lsZXQ+7ooZJbOwmj7fv+KHAmCXPq1zRRpZQpc+CfWXhjfAkT5tyuBrxlFDvsrh3IqodIE+1JqCcQPMlD6DZ3mIRL2FPkCOVzai4ZG+p8Yy1QZJbT5eMcGAWCZ1vqeWpUAZ15K+uxmMEoKXi74BFhyDVH6Jvlbe4BK6q32+/OxauKLCOD589UslvS6APkpn8l+MXIe+lbwKU5ABk76xqgZN5xBuvvfqyEjkOZK++YgOT6eikr7xM64fUSaXvldsR/fPRYm+mnwN0ELfdr4hyTsOioyCPqD6dAV8vVy+lWpLv8fAkT7Zyr9Yd7aBvvN0krjWjXY+qUfnn9nOkj7oxOB0VXORPtn0agTNDIQ+AN6QSIZTdr6cVBfobVB4PiS+2EDNd1c+ngszhXc3c76ViFVOIdiPPifJ7p1MM5M+",
          "dtype": "f8"
         }
        },
        {
         "line": {
          "color": "rgba(0,120,255,0.20)",
          "width": 1
         },
         "mode": "lines",
         "showlegend": false,
         "type": "scatter",
         "x": {
          "bdata": "AAAAAAAAAAB7FK5H4XqkP3sUrkfherQ/uR6F61G4vj97FK5H4XrEP5mZmZmZmck/uR6F61G4zj/sUbgehevRP3sUrkfhetQ/CtejcD0K1z+ZmZmZmZnZPylcj8L1KNw/uR6F61G43j+kcD0K16PgP+xRuB6F6+E/MzMzMzMz4z97FK5H4XrkP8P1KFyPwuU/CtejcD0K5z9SuB6F61HoP5mZmZmZmek/4XoUrkfh6j8pXI/C9SjsP3A9CtejcO0/uR6F61G47j8AAAAAAADwP6RwPQrXo/A/SOF6FK5H8T/sUbgehevxP5DC9Shcj/I/MzMzMzMz8z/Xo3A9CtfzP3sUrkfhevQ/H4XrUbge9T/D9Shcj8L1P2ZmZmZmZvY/CtejcD0K9z+uR+F6FK73P1K4HoXrUfg/9ihcj8L1+D+ZmZmZmZn5Pz0K16NwPfo/4XoUrkfh+j+F61G4HoX7Pylcj8L1KPw/zczMzMzM/D9wPQrXo3D9PxSuR+F6FP4/uR6F61G4/j9cj8L1KFz/PwAAAAAAAABA",
          "dtype": "f8"
         },
         "y": {
          "bdata": "UXdvh9QUcz5K8jvIeZGVvsKmw9R/8jK+9k6f8K8clD43vMg+Qx1zvgKBJRCPZne+tTOTsQYFiD5YUBK6oTptvhjYmwrAlVo+7qdr+ONnlr4CMTvb+OmIviBf600REzk++yVXIvKkhb4A7vciejx0vjKTyM3Ji4G+D+o+rTfVfj6W+GUWU5V5PuSvA8rIGJI+TGO2jl4PkT7VJO9LyRZXvmskJuObBzk+FGLXbFJRYr59yDN2siOAPuhJ84IX4H6+eqjZIrPlTD78LIo2wh51vm2MfPM0QJu+jJYpTN/adr7Ejut0jzSFPl13a+qq+4s+vQo1a2wXmz6b/yrra52LvkxkTLOqppm+sVt1oAVTRr5UI3IqXsWePgBMub+l/Xg+Rs+iLCjLID7UUl3gAKSBvjckqo0LZYa+QJFf1c7JYj4i32uMEgSSvlUZiOWngZ6+nvRLAzO3gr6LwWCrn5J3PkYBUEdenYE+dDuWn5m+Tr7Y4T5juw6IPp+eJFlwDog+HGjG/dmUcT7i1RyDwft7PgZMbDK2eJk+",
          "dtype": "f8"
         }
        },
        {
         "line": {
          "color": "rgba(0,120,255,0.20)",
          "width": 1
         },
         "mode": "lines",
         "showlegend": false,
         "type": "scatter",
         "x": {
          "bdata": "AAAAAAAAAAB7FK5H4XqkP3sUrkfherQ/uR6F61G4vj97FK5H4XrEP5mZmZmZmck/uR6F61G4zj/sUbgehevRP3sUrkfhetQ/CtejcD0K1z+ZmZmZmZnZPylcj8L1KNw/uR6F61G43j+kcD0K16PgP+xRuB6F6+E/MzMzMzMz4z97FK5H4XrkP8P1KFyPwuU/CtejcD0K5z9SuB6F61HoP5mZmZmZmek/4XoUrkfh6j8pXI/C9SjsP3A9CtejcO0/uR6F61G47j8AAAAAAADwP6RwPQrXo/A/SOF6FK5H8T/sUbgehevxP5DC9Shcj/I/MzMzMzMz8z/Xo3A9CtfzP3sUrkfhevQ/H4XrUbge9T/D9Shcj8L1P2ZmZmZmZvY/CtejcD0K9z+uR+F6FK73P1K4HoXrUfg/9ihcj8L1+D+ZmZmZmZn5Pz0K16NwPfo/4XoUrkfh+j+F61G4HoX7Pylcj8L1KPw/zczMzMzM/D9wPQrXo3D9PxSuR+F6FP4/uR6F61G4/j9cj8L1KFz/PwAAAAAAAABA",
          "dtype": "f8"
         },
         "y": {
          "bdata": "aFKJliXTa77Zf5/BY/p+PtsyW1CjO2y+SwTjcdA2iT5hlispzC6gPkIJo1CFP4w+Gr9YpN8cPT7Ow6BI+xl8PgXlse9WyXs+uk122SKqdD5Y6J9PrKSIPmp+oqTCHIA+9g8mmGSwgL4iojnq4sR5vv9P83p2DII+LOX2fMtWkT5QiMvo4P6aPjd1HkjrpZ0+A0B5SxsKeT4E86nw0idqPqg5xkL9b4C+3VEAlUJrh74B2Og/louTvgyJ70DAcZS+WcB1dlpUkL6XkmkD71uAvv/HKt/+VYu+ejMFMl9Zm76/HriVkP5tPlO40vdkgqC+59svzF0dl74KgeJw5yx7vpc73gKkUGY+LTeyebMWeD4T8Zf6NVxpPgsa37b72Zw+IqXWu82XgD7M5rJHbTVwvpXk9H9EATS+9Um3W6VdZD7HQM5BiRKTPtMHH9Nto3k+fHLs1mA5er5yauiuc5p6PrurypJuq5Q+0Lwqhc5jhr7U57leItmYvmpMTQaQz0E+cY6DjxNnib4T49EASNGLvlOCp96ZZJi+",
          "dtype": "f8"
         }
        },
        {
         "line": {
          "color": "rgba(0,120,255,0.20)",
          "width": 1
         },
         "mode": "lines",
         "showlegend": false,
         "type": "scatter",
         "x": {
          "bdata": "AAAAAAAAAAB7FK5H4XqkP3sUrkfherQ/uR6F61G4vj97FK5H4XrEP5mZmZmZmck/uR6F61G4zj/sUbgehevRP3sUrkfhetQ/CtejcD0K1z+ZmZmZmZnZPylcj8L1KNw/uR6F61G43j+kcD0K16PgP+xRuB6F6+E/MzMzMzMz4z97FK5H4XrkP8P1KFyPwuU/CtejcD0K5z9SuB6F61HoP5mZmZmZmek/4XoUrkfh6j8pXI/C9SjsP3A9CtejcO0/uR6F61G47j8AAAAAAADwP6RwPQrXo/A/SOF6FK5H8T/sUbgehevxP5DC9Shcj/I/MzMzMzMz8z/Xo3A9CtfzP3sUrkfhevQ/H4XrUbge9T/D9Shcj8L1P2ZmZmZmZvY/CtejcD0K9z+uR+F6FK73P1K4HoXrUfg/9ihcj8L1+D+ZmZmZmZn5Pz0K16NwPfo/4XoUrkfh+j+F61G4HoX7Pylcj8L1KPw/zczMzMzM/D9wPQrXo3D9PxSuR+F6FP4/uR6F61G4/j9cj8L1KFz/PwAAAAAAAABA",
          "dtype": "f8"
         },
         "y": {
          "bdata": "C/dnqgpdor4wO+je+/yjvggsNXArnIi+er3aHUFZlL4onclQkLqkvvhF18cC4pW+KqR/qMV5jr7rY2CwsH1oPq8KnD52myC+1aUUFjcSaz5HHKOSshJGvixb/Zv1zkI+dyxA2JbOaj4kVbGcIC2SPhPUWwCQ5KI+F+mg2ZSdoD6TuvAHioaDPp9L028z/ZC+SQ504f6LbD6meneSL2UkPsr7plVHV5M+YS/5O1iNbb6PXjFytASDPs7LdBaWmaE+UltyfbBJhD5BsJ74fdVpPhc+Q/BFglk+HapCULAYlj6GxDWZ9lCTPnwpNozzE6I+GPUGuLo5VD6nXxWdFLKGPvisjwVAtqI+X4d6qvolnD4nSd5y3u90PmSHDv1552Y+93/iF9vPgD5/erIBrhWWPq/xJ6Xd7VA+80aqIsUfYb5WfrwRpn5fvmoQnLTqRoi+ek2dQIUJlL46x/FKCXegvj/kyK+VJJ2+Lx+dARB3dL70RKw0GyhxPhQ0sGzSkIC+1QZ1OVO9ir7T7jOj1Seavm2f0HCJDZ++",
          "dtype": "f8"
         }
        },
        {
         "line": {
          "color": "rgba(0,120,255,0.20)",
          "width": 1
         },
         "mode": "lines",
         "showlegend": false,
         "type": "scatter",
         "x": {
          "bdata": "AAAAAAAAAAB7FK5H4XqkP3sUrkfherQ/uR6F61G4vj97FK5H4XrEP5mZmZmZmck/uR6F61G4zj/sUbgehevRP3sUrkfhetQ/CtejcD0K1z+ZmZmZmZnZPylcj8L1KNw/uR6F61G43j+kcD0K16PgP+xRuB6F6+E/MzMzMzMz4z97FK5H4XrkP8P1KFyPwuU/CtejcD0K5z9SuB6F61HoP5mZmZmZmek/4XoUrkfh6j8pXI/C9SjsP3A9CtejcO0/uR6F61G47j8AAAAAAADwP6RwPQrXo/A/SOF6FK5H8T/sUbgehevxP5DC9Shcj/I/MzMzMzMz8z/Xo3A9CtfzP3sUrkfhevQ/H4XrUbge9T/D9Shcj8L1P2ZmZmZmZvY/CtejcD0K9z+uR+F6FK73P1K4HoXrUfg/9ihcj8L1+D+ZmZmZmZn5Pz0K16NwPfo/4XoUrkfh+j+F61G4HoX7Pylcj8L1KPw/zczMzMzM/D9wPQrXo3D9PxSuR+F6FP4/uR6F61G4/j9cj8L1KFz/PwAAAAAAAABA",
          "dtype": "f8"
         },
         "y": {
          "bdata": "o6dI9I0gkD4vCKlEuZFmvjb5A8GSXo4+SRN76fn+cT5OTI83iReRPraR43ktwYQ+mLyeUsHenT4f3xWrIr9mvjJtRyyZMIQ+7Kgb6z3Sgj4NRr1Rq71BvkvgNTaM11a++eJR8g+nfz7xtMFKLnh0vpyv2JfUWXE+QUThYM6DgL4e7PhWdd+CPihbLdIOaIE+yZ4t3P1DmT4/n2THPDOWPiExp6vj6II+hR1bKLdMkD5ITWbws/CKPvtfuMFpTog+nJ2OMvQydL6G53IrjWtZvpypg7hF9IO+mbuhXUt7j77qZYD4NVxiPiOGOu0ZnYO+sMNT6CuVkL4lpA6pAhlyvhA3PYNZBHa+q5jI59Mamj72/vau+I+BPqWRU68o+YW+I3w6yljudr6Gx4idc3ZSPjCsZ6HFE4I+ovfSNn+9Z74tlVArjqZ8vlBfRBz7vZO+vi2cdoYrl7493naVKmqKvtWG4JJwVoW+WGuiivftor4XS/x3GR6RvsdjfT1DC5C+vjOrSLdXi76jnkY1UJWHvtEWRvkjsYK+",
          "dtype": "f8"
         }
        },
        {
         "line": {
          "color": "rgba(0,120,255,0.20)",
          "width": 1
         },
         "mode": "lines",
         "showlegend": false,
         "type": "scatter",
         "x": {
          "bdata": "AAAAAAAAAAB7FK5H4XqkP3sUrkfherQ/uR6F61G4vj97FK5H4XrEP5mZmZmZmck/uR6F61G4zj/sUbgehevRP3sUrkfhetQ/CtejcD0K1z+ZmZmZmZnZPylcj8L1KNw/uR6F61G43j+kcD0K16PgP+xRuB6F6+E/MzMzMzMz4z97FK5H4XrkP8P1KFyPwuU/CtejcD0K5z9SuB6F61HoP5mZmZmZmek/4XoUrkfh6j8pXI/C9SjsP3A9CtejcO0/uR6F61G47j8AAAAAAADwP6RwPQrXo/A/SOF6FK5H8T/sUbgehevxP5DC9Shcj/I/MzMzMzMz8z/Xo3A9CtfzP3sUrkfhevQ/H4XrUbge9T/D9Shcj8L1P2ZmZmZmZvY/CtejcD0K9z+uR+F6FK73P1K4HoXrUfg/9ihcj8L1+D+ZmZmZmZn5Pz0K16NwPfo/4XoUrkfh+j+F61G4HoX7Pylcj8L1KPw/zczMzMzM/D9wPQrXo3D9PxSuR+F6FP4/uR6F61G4/j9cj8L1KFz/PwAAAAAAAABA",
          "dtype": "f8"
         },
         "y": {
          "bdata": "hQsh7a09dL4TkaInxO1cPrg9VEwuj5G+dYERq6OTZT64SkFABqFgvnG+3PGYMpK+fXatxDDilL5vQ0Ju27RrPpsmDgahbDm+oRXoLeNglL6RcNIREcqBvvXT7TdTsYS+NXD9SuJBYz77KwtE7liOPlXYx+npY4E+95TKOF2qgL7yYUyVb8OXPrU4qLZMn4Y+PxdZZWmylj4jOGeDWKlpPhAHxR4h9Xg+tcAtHLaidD7m1oeL5L2RPv03efOiV4E+vbaliEwRlL6NNvOkVEaHvsTkaQhNOX8++qCwmPA3kD737/qu/H1vvsZK4t+BlaS+LBbwg+Wonr4GRo2COkmFvv8yqeBntIE+nGqW40VlkD4Ev67D14aAviKavZZOGIw+GK3Q9Akuiz5zesmxyJyAPn1aPvHE4ZU+dwalpUiqgD4oLbEaT/SIvr8CRjQVepa+M9RZfBKEZb4dV81JlPdjPs4wbwfEaIE+eYzRAmp/gD4f13ld/Oh+vtlFviKb9oQ+Tse6mmUccj7DRWJxBBtRPmcAEXhlIR6+",
          "dtype": "f8"
         }
        },
        {
         "line": {
          "color": "rgba(0,120,255,0.20)",
          "width": 1
         },
         "mode": "lines",
         "showlegend": false,
         "type": "scatter",
         "x": {
          "bdata": "AAAAAAAAAAB7FK5H4XqkP3sUrkfherQ/uR6F61G4vj97FK5H4XrEP5mZmZmZmck/uR6F61G4zj/sUbgehevRP3sUrkfhetQ/CtejcD0K1z+ZmZmZmZnZPylcj8L1KNw/uR6F61G43j+kcD0K16PgP+xRuB6F6+E/MzMzMzMz4z97FK5H4XrkP8P1KFyPwuU/CtejcD0K5z9SuB6F61HoP5mZmZmZmek/4XoUrkfh6j8pXI/C9SjsP3A9CtejcO0/uR6F61G47j8AAAAAAADwP6RwPQrXo/A/SOF6FK5H8T/sUbgehevxP5DC9Shcj/I/MzMzMzMz8z/Xo3A9CtfzP3sUrkfhevQ/H4XrUbge9T/D9Shcj8L1P2ZmZmZmZvY/CtejcD0K9z+uR+F6FK73P1K4HoXrUfg/9ihcj8L1+D+ZmZmZmZn5Pz0K16NwPfo/4XoUrkfh+j+F61G4HoX7Pylcj8L1KPw/zczMzMzM/D9wPQrXo3D9PxSuR+F6FP4/uR6F61G4/j9cj8L1KFz/PwAAAAAAAABA",
          "dtype": "f8"
         },
         "y": {
          "bdata": "htJNKnA0kr6SqXyyyRFVPlckIbd1wIK+U64hJ74pj76UETVqCkiHPozED2bbOoi+HZSSAAQiiL7lT5oDGq2Vvo3QnBWa7H6+vOfM1cLehL7+wdSfHIdwvvVhTB56WUW+/Bv5QkYShb6kQTTA5L+UPh4dpbIr6YY+tRArMHivdD7h7HqERZCLvtrbngtaVZm+uRVNImqXl74q7TRM1WVWvk+SAlEuCJC+ClmuI1L7aD52ct0l6neHPnuo17248KU+D57K9ge4lD4eFhJFjC6AvkCcANkoBI0+4vamieA0ej7GpsTge4aQPoHIpptXFHa+j9aVeIdQnD6ijh0ybq6lPmmtm80NGpg+w140F0k/oD7zwIT4f5CIPslxZgOJ/YA+e2IR/ZOAlT7rpGKL9zOGPojNgzkdVwI+C9H0Foj6Z77rproGOFOUPmYTmKGlDJU+drGA0SU3lb4jYAIbkgWCvucMankCD2Q+qFyQ+WL4m74fO/Zqm2yhvjPL4eIf96W+ycAb2SP6jr7tiTz3yzuCvr3Mn+rWMoi+",
          "dtype": "f8"
         }
        },
        {
         "line": {
          "color": "rgba(0,120,255,0.20)",
          "width": 1
         },
         "mode": "lines",
         "showlegend": false,
         "type": "scatter",
         "x": {
          "bdata": "AAAAAAAAAAB7FK5H4XqkP3sUrkfherQ/uR6F61G4vj97FK5H4XrEP5mZmZmZmck/uR6F61G4zj/sUbgehevRP3sUrkfhetQ/CtejcD0K1z+ZmZmZmZnZPylcj8L1KNw/uR6F61G43j+kcD0K16PgP+xRuB6F6+E/MzMzMzMz4z97FK5H4XrkP8P1KFyPwuU/CtejcD0K5z9SuB6F61HoP5mZmZmZmek/4XoUrkfh6j8pXI/C9SjsP3A9CtejcO0/uR6F61G47j8AAAAAAADwP6RwPQrXo/A/SOF6FK5H8T/sUbgehevxP5DC9Shcj/I/MzMzMzMz8z/Xo3A9CtfzP3sUrkfhevQ/H4XrUbge9T/D9Shcj8L1P2ZmZmZmZvY/CtejcD0K9z+uR+F6FK73P1K4HoXrUfg/9ihcj8L1+D+ZmZmZmZn5Pz0K16NwPfo/4XoUrkfh+j+F61G4HoX7Pylcj8L1KPw/zczMzMzM/D9wPQrXo3D9PxSuR+F6FP4/uR6F61G4/j9cj8L1KFz/PwAAAAAAAABA",
          "dtype": "f8"
         },
         "y": {
          "bdata": "Hj3oJznIeT4inx9qOHOAvgMeAV79Fn2+OD7fjSUsgT7UKtmn89MqPg8l/MAF/Zq+hgD7ejASn77ipPNQOmePvoHhAA+2c5e+HpPObrkYb75hGE3H8NqAvpGIxRp0+46+LHUE8QpzFr5QbYYoZz6TvhBQzUXh/p6+UFwfsCWPnL5F5KQTy6ltvu8WFOowuV4+ZxDeVqpNlb72x07Z8YyVvvynNTc603q+NwrR3iEvR74PsMzQSuJLvkRH0d4uHJM+AR17FVdglD62cMVO9uyQPnyu7Fxt85Q+7ZR7dJkRmT4w4RSx55uKPquCY9bvxXg+D/k7pC1Chj5uLBgJ+FSMPlO0Rzahs5Y+8eiRqlYHlj4JC79VoV6CPsIN96KekZM+GFQpvjTMdb5pamMVSamSPsFo8HjSeIw+Edg57DcThT7H3KDl6v1ZPoriytkRKIA+2GWXBGKsbz7kVOaDeuV+vuLCN+jgQ5G+rSBa7q/UUr66riXqSfqDPk23hYtIodw9MW1hx5+LeD6TdCBhym18vnae0wB5Pl4+",
          "dtype": "f8"
         }
        },
        {
         "line": {
          "color": "rgba(0,120,255,0.20)",
          "width": 1
         },
         "mode": "lines",
         "showlegend": false,
         "type": "scatter",
         "x": {
          "bdata": "AAAAAAAAAAB7FK5H4XqkP3sUrkfherQ/uR6F61G4vj97FK5H4XrEP5mZmZmZmck/uR6F61G4zj/sUbgehevRP3sUrkfhetQ/CtejcD0K1z+ZmZmZmZnZPylcj8L1KNw/uR6F61G43j+kcD0K16PgP+xRuB6F6+E/MzMzMzMz4z97FK5H4XrkP8P1KFyPwuU/CtejcD0K5z9SuB6F61HoP5mZmZmZmek/4XoUrkfh6j8pXI/C9SjsP3A9CtejcO0/uR6F61G47j8AAAAAAADwP6RwPQrXo/A/SOF6FK5H8T/sUbgehevxP5DC9Shcj/I/MzMzMzMz8z/Xo3A9CtfzP3sUrkfhevQ/H4XrUbge9T/D9Shcj8L1P2ZmZmZmZvY/CtejcD0K9z+uR+F6FK73P1K4HoXrUfg/9ihcj8L1+D+ZmZmZmZn5Pz0K16NwPfo/4XoUrkfh+j+F61G4HoX7Pylcj8L1KPw/zczMzMzM/D9wPQrXo3D9PxSuR+F6FP4/uR6F61G4/j9cj8L1KFz/PwAAAAAAAABA",
          "dtype": "f8"
         },
         "y": {
          "bdata": "DNC2e9Z+gj6Snw6xiC2fPkdBwGOgHY4+1Ittnaq1jj6Bj0FBM6R4PtWt3yUqdos+B+0FshEQhj7T6BNSp22RvowiltSkp1o+6Q4l/6AMkD5REsk0SjSDvuknBVVf7nu+zh2bIK6pqL4pzF5u+DCkvpVv7uHoNp++104jt0f0kr6xsKSv8GOlvlfc+G/qipO+h00swkLedT4Fsvmq6CSPvtf0rbckF4S+uUvSvAsFQr7R0TCrRUdpPqF2BzuqnY0+sVuPO31QcL57EahbCYGCPiH2uqUpe5A+F8N/S4ZUib49iozCGL6Uvm9ZhsFfEpG+RRRGnMpZer68yXiVuP+GvnefmjVdomC+ne5kLKq2b748AM2wO8uQPuM+uF4GK4G+ZNHiVBW4jb7TPWxXHzlKPiUZVRHo5JI+taFmrSZSmz7EjBcdBVCVPnDneq8coi6+DxvsH0p7kD48tCodciedPsyokWiuGIo+HX6Ry9uzcD68feYHvayMvqRTtAAecH0+eop2uhx1oD6ZlwXS6IabPicBV/NCX3W+",
          "dtype": "f8"
         }
        },
        {
         "line": {
          "color": "rgba(0,120,255,0.20)",
          "width": 1
         },
         "mode": "lines",
         "showlegend": false,
         "type": "scatter",
         "x": {
          "bdata": "AAAAAAAAAAB7FK5H4XqkP3sUrkfherQ/uR6F61G4vj97FK5H4XrEP5mZmZmZmck/uR6F61G4zj/sUbgehevRP3sUrkfhetQ/CtejcD0K1z+ZmZmZmZnZPylcj8L1KNw/uR6F61G43j+kcD0K16PgP+xRuB6F6+E/MzMzMzMz4z97FK5H4XrkP8P1KFyPwuU/CtejcD0K5z9SuB6F61HoP5mZmZmZmek/4XoUrkfh6j8pXI/C9SjsP3A9CtejcO0/uR6F61G47j8AAAAAAADwP6RwPQrXo/A/SOF6FK5H8T/sUbgehevxP5DC9Shcj/I/MzMzMzMz8z/Xo3A9CtfzP3sUrkfhevQ/H4XrUbge9T/D9Shcj8L1P2ZmZmZmZvY/CtejcD0K9z+uR+F6FK73P1K4HoXrUfg/9ihcj8L1+D+ZmZmZmZn5Pz0K16NwPfo/4XoUrkfh+j+F61G4HoX7Pylcj8L1KPw/zczMzMzM/D9wPQrXo3D9PxSuR+F6FP4/uR6F61G4/j9cj8L1KFz/PwAAAAAAAABA",
          "dtype": "f8"
         },
         "y": {
          "bdata": "t6anjGtPeb6BmVT2TrqSvudowqSHDpy+cbRuY9NNlL4ZstvOYJ6VPjNob+82UVE+4lKTYfC4jb6/Bwj8k9h0vvlz+d8cKDw+LSiZ6tC+i77oyiA7nJqQvvc3IS7drns+TvYPN4JDk74K4oqZQG+GvmHkl1STGkQ+hn0ENPQmkL6D271zMbWSvtNIkNPvw4S+z7mbQBkHZ759uPaPfGWVvu5slSqxxXa+ezVvTGwGZL77E4hU/NV2PtA5fRb5xIc+fMmzByrHcz5WNlqUZ4mAvv5Uq+iy7ii+dei1GtY5Pr5iE72bz2Ztvq2Lp8rUbYI+lzezwBzPWz6K6uiu3fFsPs8vQeHSwGc+V8Cu4qwdcT73ubqO1FZjPjm27ZQyGW8+JvGy1KCxkD76qh9oNIiVPthwdZ3kCYQ+xK86R45Sgz7yJgsY9uqVPnho938hros+q6OC+M9dmD72l+WM/4mNPiEtx5mudJk+m3CVSNbdlT4Vmo1RLTWZPlCM/SoOHoa+E2ZIEQ7mkb7bZllShBV9vuSZe+ZNu3a+",
          "dtype": "f8"
         }
        },
        {
         "line": {
          "color": "rgba(0,76,153,1.0)",
          "width": 3
         },
         "mode": "lines",
         "name": "mean noise",
         "type": "scatter",
         "x": {
          "bdata": "AAAAAAAAAAB7FK5H4XqkP3sUrkfherQ/uR6F61G4vj97FK5H4XrEP5mZmZmZmck/uR6F61G4zj/sUbgehevRP3sUrkfhetQ/CtejcD0K1z+ZmZmZmZnZPylcj8L1KNw/uR6F61G43j+kcD0K16PgP+xRuB6F6+E/MzMzMzMz4z97FK5H4XrkP8P1KFyPwuU/CtejcD0K5z9SuB6F61HoP5mZmZmZmek/4XoUrkfh6j8pXI/C9SjsP3A9CtejcO0/uR6F61G47j8AAAAAAADwP6RwPQrXo/A/SOF6FK5H8T/sUbgehevxP5DC9Shcj/I/MzMzMzMz8z/Xo3A9CtfzP3sUrkfhevQ/H4XrUbge9T/D9Shcj8L1P2ZmZmZmZvY/CtejcD0K9z+uR+F6FK73P1K4HoXrUfg/9ihcj8L1+D+ZmZmZmZn5Pz0K16NwPfo/4XoUrkfh+j+F61G4HoX7Pylcj8L1KPw/zczMzMzM/D9wPQrXo3D9PxSuR+F6FP4/uR6F61G4/j9cj8L1KFz/PwAAAAAAAABA",
          "dtype": "f8"
         },
         "y": {
          "bdata": "PI0X95mTVr4SufAjQq5ZvmwEYX5UjVG+W0nv6/syV74/ffqrMMBkvsHftj0GNmO+WKiuvzNeXL70J9owlAdMvmYterX+Y1q+/4iMZFXUQb4ED/0/f8I7PiNFvGk4tU6+qa0XELnuV74YpZAjf+VBvqgi3oz2l0O+qug79JblQj4hIlcTKahPvpc6Cw3jT/q9CZ70+p4cWT7BTo8xTGVCPrSn0CLhhys+Y3NE1ahxWj5RJr3IVplLPvblVwNhyDY+es5ACfeeRT6a50KIQhXlvT+U2I549DE+QHY6k7x7Rb6z6ugSE9woviYvnKlM+Tu+kwQeJgD3Sj7hLy+p3OQSPjq4gz3nTUU+PkCWP1ebUz46l7NT9ixnPhzuuDwUdGM+lzLSEHfJXT4dUP/pEK5kPgZ+r1fAmV0+yvL3+7pfSz6YxpEe3dVBPi320nUvnmI+HfJ+3LSWTT5hypg311ZGPtPfDqNKmEQ+XAW1v9xiM77TE1dqYrMXvikHKKfNIEm+UZ/tT+xtX77fGwxp8EdZvmPZnQgb6Fi+",
          "dtype": "f8"
         }
        },
        {
         "fill": "toself",
         "fillcolor": "rgba(0,120,255,0.15)",
         "line": {
          "color": "rgba(0,0,0,0)"
         },
         "name": "±1σ over realizations",
         "type": "scatter",
         "x": {
          "bdata": "AAAAAAAAAAB7FK5H4XqkP3sUrkfherQ/uR6F61G4vj97FK5H4XrEP5mZmZmZmck/uR6F61G4zj/sUbgehevRP3sUrkfhetQ/CtejcD0K1z+ZmZmZmZnZPylcj8L1KNw/uR6F61G43j+kcD0K16PgP+xRuB6F6+E/MzMzMzMz4z97FK5H4XrkP8P1KFyPwuU/CtejcD0K5z9SuB6F61HoP5mZmZmZmek/4XoUrkfh6j8pXI/C9SjsP3A9CtejcO0/uR6F61G47j8AAAAAAADwP6RwPQrXo/A/SOF6FK5H8T/sUbgehevxP5DC9Shcj/I/MzMzMzMz8z/Xo3A9CtfzP3sUrkfhevQ/H4XrUbge9T/D9Shcj8L1P2ZmZmZmZvY/CtejcD0K9z+uR+F6FK73P1K4HoXrUfg/9ihcj8L1+D+ZmZmZmZn5Pz0K16NwPfo/4XoUrkfh+j+F61G4HoX7Pylcj8L1KPw/zczMzMzM/D9wPQrXo3D9PxSuR+F6FP4/uR6F61G4/j9cj8L1KFz/PwAAAAAAAABAAAAAAAAAAEBcj8L1KFz/P7kehetRuP4/FK5H4XoU/j9wPQrXo3D9P83MzMzMzPw/KVyPwvUo/D+F61G4HoX7P+F6FK5H4fo/PQrXo3A9+j+ZmZmZmZn5P/YoXI/C9fg/UrgehetR+D+uR+F6FK73PwrXo3A9Cvc/ZmZmZmZm9j/D9Shcj8L1Px+F61G4HvU/exSuR+F69D/Xo3A9CtfzPzMzMzMzM/M/kML1KFyP8j/sUbgehevxP0jhehSuR/E/pHA9Ctej8D8AAAAAAADwP7kehetRuO4/cD0K16Nw7T8pXI/C9SjsP+F6FK5H4eo/mZmZmZmZ6T9SuB6F61HoPwrXo3A9Cuc/w/UoXI/C5T97FK5H4XrkPzMzMzMzM+M/7FG4HoXr4T+kcD0K16PgP7kehetRuN4/KVyPwvUo3D+ZmZmZmZnZPwrXo3A9Ctc/exSuR+F61D/sUbgehevRP7kehetRuM4/mZmZmZmZyT97FK5H4XrEP7kehetRuL4/exSuR+F6tD97FK5H4XqkPwAAAAAAAAAA",
          "dtype": "f8"
         },
         "y": {
          "bdata": "ILrpgj8Dkb4loCEhx1+SvufzzqQAzZC++4qOK+qukb54j9kYKKySvmVrp8IE+ZG+gE0OGsLckb5nX0vBlRKQvqbKkepF05C+RvHY874Zj762ex+/NbaLvs5BrsH6f46+DFTCVwt9kr54e8zZCBCQvlfuWIysypG+dzks2yOgj7638U8W35GRvmypOo4+xJC+vTRE132ljb4Dw81VSByQvqJI+eTMRJC+1oRs/G+bjb5qL4YYrumMvkVejEq+HpG+RAY1FoVgjL5x7VDgUWePvjozeCSpS42+850qu4EzkL7P4hXBCeeOvvWWbR0OSJG+UXeK/4oGj77glzstaGyQviQBPp+0oo6+oGbDphbEjr768bwZN0uLvk8rYbwlOY2+gKznm7qzi764+bahjVmKvvnsC1B+2oy+u6q3Wemwj76+bNadfdmNvt1N5AcVOo2+ZSdbWtWWkL5XOxV33HmQvgke+q1QkY++TGD/UAh7kL7kb4h/6bORvihzIGalFpG+Q1qshq/3kb5Bu5EhK2WSvv0ZxhrjFpK+or1kc7/zjT6Kb+AoWniOPrJMXfnjE4w+a+VbFzEJjz68wbO6goSRPkNwA9biv48+Av0tAS0SkT79x47qSd+RPocWI6hAcJI+euRmYZZEkz7JUtSgHAqQPopUm1xwjpE+Peb7Mncgkj7jUFsLS1iSPpMcDjAMk5E+LtFe7Zd5kz7LXssh2XCTPlh7VDt21ZE+Fjx3wzimkD5A9o3mMZKQPvIbJ4K1MpE+e7UguENokD55m34oKSCOPh7t7eOLt40+frxlrfBqjj79yww/x1yPPhQgXfdjFI8+dR2nUgHVkT4a6s54bC6QPtfQ3hjtG5I+QIuEaeyykD7vt+YYnUKRPiCuAMtS9pE+ziO0nBa3kD4q/zQKuS6PPkbb2Vxr/pA+LQyLIy2RkD5O4ibPYeONPq28fmto/o4+Krl2tFOpij6mTB+zXXKNPiZgR0c034w+8wnFJ4wNiz7PeXv8OKSMPuvwMET3oYw+6mZzZgZXij5Q4LXbN/iKPp9DIVwVkY0+tKYFKqw2jT4GEke5/VOOPvCQDYiYYYw+",
          "dtype": "f8"
         }
        }
       ],
       "layout": {
        "legend": {
         "title": {
          "text": ""
         }
        },
        "template": {
         "data": {
          "bar": [
           {
            "error_x": {
             "color": "#2a3f5f"
            },
            "error_y": {
             "color": "#2a3f5f"
            },
            "marker": {
             "line": {
              "color": "white",
              "width": 0.5
             },
             "pattern": {
              "fillmode": "overlay",
              "size": 10,
              "solidity": 0.2
             }
            },
            "type": "bar"
           }
          ],
          "barpolar": [
           {
            "marker": {
             "line": {
              "color": "white",
              "width": 0.5
             },
             "pattern": {
              "fillmode": "overlay",
              "size": 10,
              "solidity": 0.2
             }
            },
            "type": "barpolar"
           }
          ],
          "carpet": [
           {
            "aaxis": {
             "endlinecolor": "#2a3f5f",
             "gridcolor": "#C8D4E3",
             "linecolor": "#C8D4E3",
             "minorgridcolor": "#C8D4E3",
             "startlinecolor": "#2a3f5f"
            },
            "baxis": {
             "endlinecolor": "#2a3f5f",
             "gridcolor": "#C8D4E3",
             "linecolor": "#C8D4E3",
             "minorgridcolor": "#C8D4E3",
             "startlinecolor": "#2a3f5f"
            },
            "type": "carpet"
           }
          ],
          "choropleth": [
           {
            "colorbar": {
             "outlinewidth": 0,
             "ticks": ""
            },
            "type": "choropleth"
           }
          ],
          "contour": [
           {
            "colorbar": {
             "outlinewidth": 0,
             "ticks": ""
            },
            "colorscale": [
             [
              0,
              "#0d0887"
             ],
             [
              0.1111111111111111,
              "#46039f"
             ],
             [
              0.2222222222222222,
              "#7201a8"
             ],
             [
              0.3333333333333333,
              "#9c179e"
             ],
             [
              0.4444444444444444,
              "#bd3786"
             ],
             [
              0.5555555555555556,
              "#d8576b"
             ],
             [
              0.6666666666666666,
              "#ed7953"
             ],
             [
              0.7777777777777778,
              "#fb9f3a"
             ],
             [
              0.8888888888888888,
              "#fdca26"
             ],
             [
              1,
              "#f0f921"
             ]
            ],
            "type": "contour"
           }
          ],
          "contourcarpet": [
           {
            "colorbar": {
             "outlinewidth": 0,
             "ticks": ""
            },
            "type": "contourcarpet"
           }
          ],
          "heatmap": [
           {
            "colorbar": {
             "outlinewidth": 0,
             "ticks": ""
            },
            "colorscale": [
             [
              0,
              "#0d0887"
             ],
             [
              0.1111111111111111,
              "#46039f"
             ],
             [
              0.2222222222222222,
              "#7201a8"
             ],
             [
              0.3333333333333333,
              "#9c179e"
             ],
             [
              0.4444444444444444,
              "#bd3786"
             ],
             [
              0.5555555555555556,
              "#d8576b"
             ],
             [
              0.6666666666666666,
              "#ed7953"
             ],
             [
              0.7777777777777778,
              "#fb9f3a"
             ],
             [
              0.8888888888888888,
              "#fdca26"
             ],
             [
              1,
              "#f0f921"
             ]
            ],
            "type": "heatmap"
           }
          ],
          "histogram": [
           {
            "marker": {
             "pattern": {
              "fillmode": "overlay",
              "size": 10,
              "solidity": 0.2
             }
            },
            "type": "histogram"
           }
          ],
          "histogram2d": [
           {
            "colorbar": {
             "outlinewidth": 0,
             "ticks": ""
            },
            "colorscale": [
             [
              0,
              "#0d0887"
             ],
             [
              0.1111111111111111,
              "#46039f"
             ],
             [
              0.2222222222222222,
              "#7201a8"
             ],
             [
              0.3333333333333333,
              "#9c179e"
             ],
             [
              0.4444444444444444,
              "#bd3786"
             ],
             [
              0.5555555555555556,
              "#d8576b"
             ],
             [
              0.6666666666666666,
              "#ed7953"
             ],
             [
              0.7777777777777778,
              "#fb9f3a"
             ],
             [
              0.8888888888888888,
              "#fdca26"
             ],
             [
              1,
              "#f0f921"
             ]
            ],
            "type": "histogram2d"
           }
          ],
          "histogram2dcontour": [
           {
            "colorbar": {
             "outlinewidth": 0,
             "ticks": ""
            },
            "colorscale": [
             [
              0,
              "#0d0887"
             ],
             [
              0.1111111111111111,
              "#46039f"
             ],
             [
              0.2222222222222222,
              "#7201a8"
             ],
             [
              0.3333333333333333,
              "#9c179e"
             ],
             [
              0.4444444444444444,
              "#bd3786"
             ],
             [
              0.5555555555555556,
              "#d8576b"
             ],
             [
              0.6666666666666666,
              "#ed7953"
             ],
             [
              0.7777777777777778,
              "#fb9f3a"
             ],
             [
              0.8888888888888888,
              "#fdca26"
             ],
             [
              1,
              "#f0f921"
             ]
            ],
            "type": "histogram2dcontour"
           }
          ],
          "mesh3d": [
           {
            "colorbar": {
             "outlinewidth": 0,
             "ticks": ""
            },
            "type": "mesh3d"
           }
          ],
          "parcoords": [
           {
            "line": {
             "colorbar": {
              "outlinewidth": 0,
              "ticks": ""
             }
            },
            "type": "parcoords"
           }
          ],
          "pie": [
           {
            "automargin": true,
            "type": "pie"
           }
          ],
          "scatter": [
           {
            "fillpattern": {
             "fillmode": "overlay",
             "size": 10,
             "solidity": 0.2
            },
            "type": "scatter"
           }
          ],
          "scatter3d": [
           {
            "line": {
             "colorbar": {
              "outlinewidth": 0,
              "ticks": ""
             }
            },
            "marker": {
             "colorbar": {
              "outlinewidth": 0,
              "ticks": ""
             }
            },
            "type": "scatter3d"
           }
          ],
          "scattercarpet": [
           {
            "marker": {
             "colorbar": {
              "outlinewidth": 0,
              "ticks": ""
             }
            },
            "type": "scattercarpet"
           }
          ],
          "scattergeo": [
           {
            "marker": {
             "colorbar": {
              "outlinewidth": 0,
              "ticks": ""
             }
            },
            "type": "scattergeo"
           }
          ],
          "scattergl": [
           {
            "marker": {
             "colorbar": {
              "outlinewidth": 0,
              "ticks": ""
             }
            },
            "type": "scattergl"
           }
          ],
          "scattermap": [
           {
            "marker": {
             "colorbar": {
              "outlinewidth": 0,
              "ticks": ""
             }
            },
            "type": "scattermap"
           }
          ],
          "scattermapbox": [
           {
            "marker": {
             "colorbar": {
              "outlinewidth": 0,
              "ticks": ""
             }
            },
            "type": "scattermapbox"
           }
          ],
          "scatterpolar": [
           {
            "marker": {
             "colorbar": {
              "outlinewidth": 0,
              "ticks": ""
             }
            },
            "type": "scatterpolar"
           }
          ],
          "scatterpolargl": [
           {
            "marker": {
             "colorbar": {
              "outlinewidth": 0,
              "ticks": ""
             }
            },
            "type": "scatterpolargl"
           }
          ],
          "scatterternary": [
           {
            "marker": {
             "colorbar": {
              "outlinewidth": 0,
              "ticks": ""
             }
            },
            "type": "scatterternary"
           }
          ],
          "surface": [
           {
            "colorbar": {
             "outlinewidth": 0,
             "ticks": ""
            },
            "colorscale": [
             [
              0,
              "#0d0887"
             ],
             [
              0.1111111111111111,
              "#46039f"
             ],
             [
              0.2222222222222222,
              "#7201a8"
             ],
             [
              0.3333333333333333,
              "#9c179e"
             ],
             [
              0.4444444444444444,
              "#bd3786"
             ],
             [
              0.5555555555555556,
              "#d8576b"
             ],
             [
              0.6666666666666666,
              "#ed7953"
             ],
             [
              0.7777777777777778,
              "#fb9f3a"
             ],
             [
              0.8888888888888888,
              "#fdca26"
             ],
             [
              1,
              "#f0f921"
             ]
            ],
            "type": "surface"
           }
          ],
          "table": [
           {
            "cells": {
             "fill": {
              "color": "#EBF0F8"
             },
             "line": {
              "color": "white"
             }
            },
            "header": {
             "fill": {
              "color": "#C8D4E3"
             },
             "line": {
              "color": "white"
             }
            },
            "type": "table"
           }
          ]
         },
         "layout": {
          "annotationdefaults": {
           "arrowcolor": "#2a3f5f",
           "arrowhead": 0,
           "arrowwidth": 1
          },
          "autotypenumbers": "strict",
          "coloraxis": {
           "colorbar": {
            "outlinewidth": 0,
            "ticks": ""
           }
          },
          "colorscale": {
           "diverging": [
            [
             0,
             "#8e0152"
            ],
            [
             0.1,
             "#c51b7d"
            ],
            [
             0.2,
             "#de77ae"
            ],
            [
             0.3,
             "#f1b6da"
            ],
            [
             0.4,
             "#fde0ef"
            ],
            [
             0.5,
             "#f7f7f7"
            ],
            [
             0.6,
             "#e6f5d0"
            ],
            [
             0.7,
             "#b8e186"
            ],
            [
             0.8,
             "#7fbc41"
            ],
            [
             0.9,
             "#4d9221"
            ],
            [
             1,
             "#276419"
            ]
           ],
           "sequential": [
            [
             0,
             "#0d0887"
            ],
            [
             0.1111111111111111,
             "#46039f"
            ],
            [
             0.2222222222222222,
             "#7201a8"
            ],
            [
             0.3333333333333333,
             "#9c179e"
            ],
            [
             0.4444444444444444,
             "#bd3786"
            ],
            [
             0.5555555555555556,
             "#d8576b"
            ],
            [
             0.6666666666666666,
             "#ed7953"
            ],
            [
             0.7777777777777778,
             "#fb9f3a"
            ],
            [
             0.8888888888888888,
             "#fdca26"
            ],
            [
             1,
             "#f0f921"
            ]
           ],
           "sequentialminus": [
            [
             0,
             "#0d0887"
            ],
            [
             0.1111111111111111,
             "#46039f"
            ],
            [
             0.2222222222222222,
             "#7201a8"
            ],
            [
             0.3333333333333333,
             "#9c179e"
            ],
            [
             0.4444444444444444,
             "#bd3786"
            ],
            [
             0.5555555555555556,
             "#d8576b"
            ],
            [
             0.6666666666666666,
             "#ed7953"
            ],
            [
             0.7777777777777778,
             "#fb9f3a"
            ],
            [
             0.8888888888888888,
             "#fdca26"
            ],
            [
             1,
             "#f0f921"
            ]
           ]
          },
          "colorway": [
           "#636efa",
           "#EF553B",
           "#00cc96",
           "#ab63fa",
           "#FFA15A",
           "#19d3f3",
           "#FF6692",
           "#B6E880",
           "#FF97FF",
           "#FECB52"
          ],
          "font": {
           "color": "#2a3f5f"
          },
          "geo": {
           "bgcolor": "white",
           "lakecolor": "white",
           "landcolor": "white",
           "showlakes": true,
           "showland": true,
           "subunitcolor": "#C8D4E3"
          },
          "hoverlabel": {
           "align": "left"
          },
          "hovermode": "closest",
          "mapbox": {
           "style": "light"
          },
          "paper_bgcolor": "white",
          "plot_bgcolor": "white",
          "polar": {
           "angularaxis": {
            "gridcolor": "#EBF0F8",
            "linecolor": "#EBF0F8",
            "ticks": ""
           },
           "bgcolor": "white",
           "radialaxis": {
            "gridcolor": "#EBF0F8",
            "linecolor": "#EBF0F8",
            "ticks": ""
           }
          },
          "scene": {
           "xaxis": {
            "backgroundcolor": "white",
            "gridcolor": "#DFE8F3",
            "gridwidth": 2,
            "linecolor": "#EBF0F8",
            "showbackground": true,
            "ticks": "",
            "zerolinecolor": "#EBF0F8"
           },
           "yaxis": {
            "backgroundcolor": "white",
            "gridcolor": "#DFE8F3",
            "gridwidth": 2,
            "linecolor": "#EBF0F8",
            "showbackground": true,
            "ticks": "",
            "zerolinecolor": "#EBF0F8"
           },
           "zaxis": {
            "backgroundcolor": "white",
            "gridcolor": "#DFE8F3",
            "gridwidth": 2,
            "linecolor": "#EBF0F8",
            "showbackground": true,
            "ticks": "",
            "zerolinecolor": "#EBF0F8"
           }
          },
          "shapedefaults": {
           "line": {
            "color": "#2a3f5f"
           }
          },
          "ternary": {
           "aaxis": {
            "gridcolor": "#DFE8F3",
            "linecolor": "#A2B1C6",
            "ticks": ""
           },
           "baxis": {
            "gridcolor": "#DFE8F3",
            "linecolor": "#A2B1C6",
            "ticks": ""
           },
           "bgcolor": "white",
           "caxis": {
            "gridcolor": "#DFE8F3",
            "linecolor": "#A2B1C6",
            "ticks": ""
           }
          },
          "title": {
           "x": 0.05
          },
          "xaxis": {
           "automargin": true,
           "gridcolor": "#EBF0F8",
           "linecolor": "#EBF0F8",
           "ticks": "",
           "title": {
            "standoff": 15
           },
           "zerolinecolor": "#EBF0F8",
           "zerolinewidth": 2
          },
          "yaxis": {
           "automargin": true,
           "gridcolor": "#EBF0F8",
           "linecolor": "#EBF0F8",
           "ticks": "",
           "title": {
            "standoff": 15
           },
           "zerolinecolor": "#EBF0F8",
           "zerolinewidth": 2
          }
         }
        },
        "title": {
         "text": "1/f noise realizations (q0) — IBM [drive (scaled)] (S0=1.0e-03, f_min≈0.05 MHz, scale≈0.25 MHz)"
        },
        "xaxis": {
         "title": {
          "text": "time [µs]"
         }
        },
        "yaxis": {
         "title": {
          "text": "Noise amplitude [MHz]"
         }
        }
       }
      }
     },
     "metadata": {},
     "output_type": "display_data"
    },
    {
     "name": "stdout",
     "output_type": "stream",
     "text": [
      "R_total = 200, qubit = q0\n",
      "Mean RMS over realizations (MHz): 2.38e-07 ± 4.08e-08 MHz\n"
     ]
    }
   ],
   "source": [
    "# ==== Plot many 1/f noise realizations (per-qubit), with mean and ±1σ ====\n",
    "import numpy as np\n",
    "import plotly.graph_objects as go\n",
    "\n",
    "# --- knobs you can tweak ---\n",
    "which_qubit = 0            # 0,1,2\n",
    "R_total     = 200          # total realizations (use 1000 for publication)\n",
    "R_show      = 20           # number of individual traces to overlay\n",
    "USE_DRIVE_SCALE = True     # True: plot drive that enters H (scaled); False: plot raw i(t)\n",
    "\n",
    "# --- get platform defaults, compatible with either version of platform_noise_defaults ---\n",
    "def _get_platform_defaults():\n",
    "    try:\n",
    "        vals = platform_noise_defaults(PLATFORM, params[\"T_max\"], omega_max)  # 3-arg version\n",
    "    except TypeError:\n",
    "        vals = platform_noise_defaults(PLATFORM, params[\"T_max\"])            # 2-arg version\n",
    "    # normalize outputs\n",
    "    if isinstance(vals, (list, tuple)):\n",
    "        if len(vals) == 3:\n",
    "            S0, fmin, default_strength = vals\n",
    "        elif len(vals) == 2:\n",
    "            S0, fmin = vals\n",
    "            default_strength = 2*np.pi*0.25e6 if PLATFORM.lower()==\"ibm\" else 0.15\n",
    "        else:\n",
    "            raise ValueError(\"platform_noise_defaults returned an unexpected number of values.\")\n",
    "    else:\n",
    "        raise ValueError(\"platform_noise_defaults did not return a tuple/list.\")\n",
    "    return S0, fmin, default_strength\n",
    "\n",
    "S0, fmin, default_strength = _get_platform_defaults()\n",
    "scale_to_use = (globals().get(\"noise_strength\", default_strength) if USE_DRIVE_SCALE else 1.0)\n",
    "\n",
    "# --- generate R_total realizations on your simulation grid (expects generate_1f_noise_coeffs to exist) ---\n",
    "t_grid = np.asarray(t_list, dtype=float)\n",
    "xis = generate_1f_noise_coeffs(\n",
    "    t_grid=t_grid,\n",
    "    n_qubits=3,\n",
    "    n_realizations=R_total,\n",
    "    S0=S0,\n",
    "    fmin=fmin,\n",
    "    seed=123,\n",
    "    normalize=False\n",
    ")  # shape: (R_total, 3, N)\n",
    "\n",
    "# Convert to plotted amplitude:\n",
    "#   raw x_q(t) (dimensionless) -> angular drive via scale_to_use -> MHz for readability\n",
    "xi_drive_MHz = scale_to_use * xis[:, which_qubit, :] * params[\"to_freq_units\"]  # (R_total, N)\n",
    "\n",
    "# Stats across realizations\n",
    "mean_trace = np.mean(xi_drive_MHz, axis=0)\n",
    "std_trace  = np.std(xi_drive_MHz,  axis=0)\n",
    "\n",
    "t_plot    = t_grid * params[\"to_time_units\"]\n",
    "time_label = params[\"time_unit_label\"]\n",
    "\n",
    "# --- Plot ---\n",
    "fig = go.Figure()\n",
    "\n",
    "# overlay a subset of realizations (light)\n",
    "idx_show = np.linspace(0, R_total-1, num=min(R_show, R_total), dtype=int)\n",
    "for r in idx_show:\n",
    "    fig.add_trace(go.Scatter(\n",
    "        x=t_plot, y=xi_drive_MHz[r],\n",
    "        mode='lines',\n",
    "        line=dict(color='rgba(0,120,255,0.20)', width=1),\n",
    "        showlegend=False\n",
    "    ))\n",
    "\n",
    "# mean trace\n",
    "fig.add_trace(go.Scatter(\n",
    "    x=t_plot, y=mean_trace,\n",
    "    mode='lines',\n",
    "    line=dict(color='rgba(0,76,153,1.0)', width=3),\n",
    "    name='mean noise'\n",
    "))\n",
    "\n",
    "# ±1σ band\n",
    "fig.add_trace(go.Scatter(\n",
    "    x=np.concatenate([t_plot, t_plot[::-1]]),\n",
    "    y=np.concatenate([mean_trace-std_trace, (mean_trace+std_trace)[::-1]]),\n",
    "    fill='toself', fillcolor='rgba(0,120,255,0.15)',\n",
    "    line=dict(color='rgba(0,0,0,0)'),\n",
    "    name='±1σ over realizations'\n",
    "))\n",
    "\n",
    "title_scale = \"drive (scaled)\" if USE_DRIVE_SCALE else \"raw i(t)\"\n",
    "fig.update_layout(\n",
    "    title=(f\"1/f noise realizations (q{which_qubit}) — {PLATFORM.upper()} [{title_scale}] \"\n",
    "           f\"(S0={S0:.1e}, f_min≈{(fmin/1e6 if PLATFORM.lower()=='ibm' else fmin):.3g} MHz, \"\n",
    "           f\"scale≈{(scale_to_use*params['to_freq_units']):.3g} MHz)\"),\n",
    "    xaxis_title=time_label,\n",
    "    yaxis_title=\"Noise amplitude [MHz]\",\n",
    "    template=\"plotly_white\",\n",
    "    legend=dict(title=\"\")\n",
    ")\n",
    "fig.show()\n",
    "\n",
    "# quick numeric summary\n",
    "rms_over_time_per_real = np.sqrt(np.mean(xi_drive_MHz**2, axis=1))\n",
    "print(f\"R_total = {R_total}, qubit = q{which_qubit}\")\n",
    "print(f\"Mean RMS over realizations (MHz): {np.mean(rms_over_time_per_real):.3g} \"\n",
    "      f\"± {np.std(rms_over_time_per_real):.3g} MHz\")\n"
   ]
  },
  {
   "cell_type": "code",
   "execution_count": 171,
   "id": "724553df",
   "metadata": {},
   "outputs": [
    {
     "name": "stderr",
     "output_type": "stream",
     "text": [
      "/var/folders/sn/yn8dgjs53ml_hdwfm9mp_fyh0000gn/T/ipykernel_22774/956751215.py:46: UserWarning:\n",
      "\n",
      "nperseg=64 is greater than signal length max(len(x), len(y)) = 51, using nperseg = 51\n",
      "\n",
      "/var/folders/sn/yn8dgjs53ml_hdwfm9mp_fyh0000gn/T/ipykernel_22774/956751215.py:51: UserWarning:\n",
      "\n",
      "nperseg=64 is greater than signal length max(len(x), len(y)) = 51, using nperseg = 51\n",
      "\n"
     ]
    },
    {
     "data": {
      "application/vnd.plotly.v1+json": {
       "config": {
        "plotlyServerURL": "https://plot.ly"
       },
       "data": [
        {
         "fill": "toself",
         "fillcolor": "rgba(0,120,255,0.15)",
         "line": {
          "color": "rgba(0,0,0,0)"
         },
         "name": "±1σ (over realizations)",
         "type": "scatter",
         "x": {
          "bdata": "AAAAAAAAAABgX19fX1/fP2BfX19fX+8/iIeHh4eH9z9gX19fX1//P5ybm5ubmwNAiIeHh4eHB0B0c3Nzc3MLQGBfX19fXw9Ap6WlpaWlEUCcm5ubm5sTQJKRkZGRkRVAiIeHh4eHF0B+fX19fX0ZQHRzc3NzcxtAamlpaWlpHUBgX19fX18fQKuqqqqqqiBAp6WlpaWlIUChoKCgoKAiQJybm5ubmyNAl5aWlpaWJECSkZGRkZElQI2MjIyMjCZAiIeHh4eHJ0CDgoKCgoIoQIOCgoKCgihAiIeHh4eHJ0CNjIyMjIwmQJKRkZGRkSVAl5aWlpaWJECcm5ubm5sjQKGgoKCgoCJAp6WlpaWlIUCrqqqqqqogQGBfX19fXx9AamlpaWlpHUB0c3Nzc3MbQH59fX19fRlAiIeHh4eHF0CSkZGRkZEVQJybm5ubmxNAp6WlpaWlEUBgX19fX18PQHRzc3NzcwtAiIeHh4eHB0Ccm5ubm5sDQGBfX19fX/8/iIeHh4eH9z9gX19fX1/vP2BfX19fX98/AAAAAAAAAAA=",
          "dtype": "f8"
         },
         "y": {
          "bdata": "fnbVRqxI4ryALzIVkHPDvKgoSpv8K+a84FjCBlEb0bwAHylcqViIPHD5zI6cFbS8EOQqs+C1vzyo0TYBKMDKPMBbc3bZjp48IGCOfpnmrrxoVZ+FZEbAvIgZc0bmirG8uOmRvlvItbwAudx7TmFnPEDJg1sOxbM84Epi1C0bqDzgfqlP+HKbPKDHfCp1/Zo8OLr1og6Bubwgc0npC+KLvKC9Cqa06oY8qKOurNb4sDzAwVzH2w+aPAjGDH+ska68HIa1bEWruLyoftxOASm6vKMSmAmGauw8lFCHliQc7TwUjK+nctfsPAVVunjTres8NaEmlhu27jws8yJBkFbtPDi4aW1K4uw8lLR3kerh8TwqSFXllpnwPDoj2Bl9tvI8WvYp6QIM8jzqAv9yqDDyPPAsqRCRbfY8nlRJR7g2/Dw4YVxMrRT+PKCE5vOPqwA9GnJ9HqAEAT0M/WuqVUkBPQKmPZ/LhAI91uPrsXMmBz2+fIm/oZcLPVDsz5ncPRA9Lc3d0yNLFT2ex/cDzDgkPeH8rOQa7yo9MCpWs+VqDD0=",
          "dtype": "f8"
         }
        },
        {
         "line": {
          "width": 3
         },
         "mode": "lines",
         "name": "mean PSD",
         "type": "scatter",
         "x": {
          "bdata": "AAAAAAAAAABgX19fX1/fP2BfX19fX+8/iIeHh4eH9z9gX19fX1//P5ybm5ubmwNAiIeHh4eHB0B0c3Nzc3MLQGBfX19fXw9Ap6WlpaWlEUCcm5ubm5sTQJKRkZGRkRVAiIeHh4eHF0B+fX19fX0ZQHRzc3NzcxtAamlpaWlpHUBgX19fX18fQKuqqqqqqiBAp6WlpaWlIUChoKCgoKAiQJybm5ubmyNAl5aWlpaWJECSkZGRkZElQI2MjIyMjCZAiIeHh4eHJ0CDgoKCgoIoQA==",
          "dtype": "f8"
         },
         "y": {
          "bdata": "kcygobrY9zwjNFikTKEaPRMlQzoM1hI9n6dxw245BD3fAH7uCEoAPfIUE9v09vo89jqFtyIk+DwcE1EfzjD0PMTjWF1zhvE8mjiDuAWJ8DyUHhlXU07vPJ8v9ef+++w8AzZgizLa6jxMG+e3QXnmPH4/t1j5bOM8sQjNV9zM4jw2yRb7SCTjPEk7/7mMBeE88FhIp9lJ4DxsksQ9wnLcPCMeuxM7st081TreNZtq4DwTO/VWUn7cPLO/vt9X7to80Z/w6LsG2jzOgrzfZSXZPA==",
          "dtype": "f8"
         }
        },
        {
         "line": {
          "dash": "dash"
         },
         "mode": "lines",
         "name": "~1/f guide",
         "type": "scatter",
         "x": {
          "bdata": "AAAAAAAAAABgX19fX1/fP2BfX19fX+8/iIeHh4eH9z9gX19fX1//P5ybm5ubmwNAiIeHh4eHB0B0c3Nzc3MLQGBfX19fXw9Ap6WlpaWlEUCcm5ubm5sTQJKRkZGRkRVAiIeHh4eHF0B+fX19fX0ZQHRzc3NzcxtAamlpaWlpHUBgX19fX18fQKuqqqqqqiBAp6WlpaWlIUChoKCgoKAiQJybm5ubmyNAl5aWlpaWJECSkZGRkZElQI2MjIyMjCZAiIeHh4eHJ0CDgoKCgoIoQA==",
          "dtype": "f8"
         },
         "y": {
          "bdata": "n7ENi7emIz2fsQ2Lt6YjPZ+xDYu3phM9KkISZJ8zCj2fsQ2Lt6YDPTIcSaslcf88KkISZJ8z+jyS76EMZHX2PJ+xDYu3pvM8GywMmL938TwyHEmrJXHvPBbrExBolew8KkISZJ8z6jz/AYfSpi/oPJLvoQxkdeY8ImjbHBn25DyfsQ2Lt6bjPJYQOt3KfuI8GywMmL934TzXDv6qZIzgPDIcSaslcd88wpSCu9rx3TwW6xMQaJXcPHq/oyVCV9s8KkISZJ8z2jyPFtRVUSfZPA==",
          "dtype": "f8"
         }
        }
       ],
       "layout": {
        "annotations": [
         {
          "showarrow": false,
          "text": "f_min ≈ 0.05 MHz",
          "x": 0.05000000000000001,
          "xanchor": "left",
          "xref": "x",
          "y": 1,
          "yanchor": "top",
          "yref": "y domain"
         }
        ],
        "legend": {
         "title": {
          "text": ""
         }
        },
        "shapes": [
         {
          "line": {
           "color": "gray",
           "dash": "dot"
          },
          "type": "line",
          "x0": 0.05000000000000001,
          "x1": 0.05000000000000001,
          "xref": "x",
          "y0": 0,
          "y1": 1,
          "yref": "y domain"
         }
        ],
        "template": {
         "data": {
          "bar": [
           {
            "error_x": {
             "color": "#2a3f5f"
            },
            "error_y": {
             "color": "#2a3f5f"
            },
            "marker": {
             "line": {
              "color": "white",
              "width": 0.5
             },
             "pattern": {
              "fillmode": "overlay",
              "size": 10,
              "solidity": 0.2
             }
            },
            "type": "bar"
           }
          ],
          "barpolar": [
           {
            "marker": {
             "line": {
              "color": "white",
              "width": 0.5
             },
             "pattern": {
              "fillmode": "overlay",
              "size": 10,
              "solidity": 0.2
             }
            },
            "type": "barpolar"
           }
          ],
          "carpet": [
           {
            "aaxis": {
             "endlinecolor": "#2a3f5f",
             "gridcolor": "#C8D4E3",
             "linecolor": "#C8D4E3",
             "minorgridcolor": "#C8D4E3",
             "startlinecolor": "#2a3f5f"
            },
            "baxis": {
             "endlinecolor": "#2a3f5f",
             "gridcolor": "#C8D4E3",
             "linecolor": "#C8D4E3",
             "minorgridcolor": "#C8D4E3",
             "startlinecolor": "#2a3f5f"
            },
            "type": "carpet"
           }
          ],
          "choropleth": [
           {
            "colorbar": {
             "outlinewidth": 0,
             "ticks": ""
            },
            "type": "choropleth"
           }
          ],
          "contour": [
           {
            "colorbar": {
             "outlinewidth": 0,
             "ticks": ""
            },
            "colorscale": [
             [
              0,
              "#0d0887"
             ],
             [
              0.1111111111111111,
              "#46039f"
             ],
             [
              0.2222222222222222,
              "#7201a8"
             ],
             [
              0.3333333333333333,
              "#9c179e"
             ],
             [
              0.4444444444444444,
              "#bd3786"
             ],
             [
              0.5555555555555556,
              "#d8576b"
             ],
             [
              0.6666666666666666,
              "#ed7953"
             ],
             [
              0.7777777777777778,
              "#fb9f3a"
             ],
             [
              0.8888888888888888,
              "#fdca26"
             ],
             [
              1,
              "#f0f921"
             ]
            ],
            "type": "contour"
           }
          ],
          "contourcarpet": [
           {
            "colorbar": {
             "outlinewidth": 0,
             "ticks": ""
            },
            "type": "contourcarpet"
           }
          ],
          "heatmap": [
           {
            "colorbar": {
             "outlinewidth": 0,
             "ticks": ""
            },
            "colorscale": [
             [
              0,
              "#0d0887"
             ],
             [
              0.1111111111111111,
              "#46039f"
             ],
             [
              0.2222222222222222,
              "#7201a8"
             ],
             [
              0.3333333333333333,
              "#9c179e"
             ],
             [
              0.4444444444444444,
              "#bd3786"
             ],
             [
              0.5555555555555556,
              "#d8576b"
             ],
             [
              0.6666666666666666,
              "#ed7953"
             ],
             [
              0.7777777777777778,
              "#fb9f3a"
             ],
             [
              0.8888888888888888,
              "#fdca26"
             ],
             [
              1,
              "#f0f921"
             ]
            ],
            "type": "heatmap"
           }
          ],
          "histogram": [
           {
            "marker": {
             "pattern": {
              "fillmode": "overlay",
              "size": 10,
              "solidity": 0.2
             }
            },
            "type": "histogram"
           }
          ],
          "histogram2d": [
           {
            "colorbar": {
             "outlinewidth": 0,
             "ticks": ""
            },
            "colorscale": [
             [
              0,
              "#0d0887"
             ],
             [
              0.1111111111111111,
              "#46039f"
             ],
             [
              0.2222222222222222,
              "#7201a8"
             ],
             [
              0.3333333333333333,
              "#9c179e"
             ],
             [
              0.4444444444444444,
              "#bd3786"
             ],
             [
              0.5555555555555556,
              "#d8576b"
             ],
             [
              0.6666666666666666,
              "#ed7953"
             ],
             [
              0.7777777777777778,
              "#fb9f3a"
             ],
             [
              0.8888888888888888,
              "#fdca26"
             ],
             [
              1,
              "#f0f921"
             ]
            ],
            "type": "histogram2d"
           }
          ],
          "histogram2dcontour": [
           {
            "colorbar": {
             "outlinewidth": 0,
             "ticks": ""
            },
            "colorscale": [
             [
              0,
              "#0d0887"
             ],
             [
              0.1111111111111111,
              "#46039f"
             ],
             [
              0.2222222222222222,
              "#7201a8"
             ],
             [
              0.3333333333333333,
              "#9c179e"
             ],
             [
              0.4444444444444444,
              "#bd3786"
             ],
             [
              0.5555555555555556,
              "#d8576b"
             ],
             [
              0.6666666666666666,
              "#ed7953"
             ],
             [
              0.7777777777777778,
              "#fb9f3a"
             ],
             [
              0.8888888888888888,
              "#fdca26"
             ],
             [
              1,
              "#f0f921"
             ]
            ],
            "type": "histogram2dcontour"
           }
          ],
          "mesh3d": [
           {
            "colorbar": {
             "outlinewidth": 0,
             "ticks": ""
            },
            "type": "mesh3d"
           }
          ],
          "parcoords": [
           {
            "line": {
             "colorbar": {
              "outlinewidth": 0,
              "ticks": ""
             }
            },
            "type": "parcoords"
           }
          ],
          "pie": [
           {
            "automargin": true,
            "type": "pie"
           }
          ],
          "scatter": [
           {
            "fillpattern": {
             "fillmode": "overlay",
             "size": 10,
             "solidity": 0.2
            },
            "type": "scatter"
           }
          ],
          "scatter3d": [
           {
            "line": {
             "colorbar": {
              "outlinewidth": 0,
              "ticks": ""
             }
            },
            "marker": {
             "colorbar": {
              "outlinewidth": 0,
              "ticks": ""
             }
            },
            "type": "scatter3d"
           }
          ],
          "scattercarpet": [
           {
            "marker": {
             "colorbar": {
              "outlinewidth": 0,
              "ticks": ""
             }
            },
            "type": "scattercarpet"
           }
          ],
          "scattergeo": [
           {
            "marker": {
             "colorbar": {
              "outlinewidth": 0,
              "ticks": ""
             }
            },
            "type": "scattergeo"
           }
          ],
          "scattergl": [
           {
            "marker": {
             "colorbar": {
              "outlinewidth": 0,
              "ticks": ""
             }
            },
            "type": "scattergl"
           }
          ],
          "scattermap": [
           {
            "marker": {
             "colorbar": {
              "outlinewidth": 0,
              "ticks": ""
             }
            },
            "type": "scattermap"
           }
          ],
          "scattermapbox": [
           {
            "marker": {
             "colorbar": {
              "outlinewidth": 0,
              "ticks": ""
             }
            },
            "type": "scattermapbox"
           }
          ],
          "scatterpolar": [
           {
            "marker": {
             "colorbar": {
              "outlinewidth": 0,
              "ticks": ""
             }
            },
            "type": "scatterpolar"
           }
          ],
          "scatterpolargl": [
           {
            "marker": {
             "colorbar": {
              "outlinewidth": 0,
              "ticks": ""
             }
            },
            "type": "scatterpolargl"
           }
          ],
          "scatterternary": [
           {
            "marker": {
             "colorbar": {
              "outlinewidth": 0,
              "ticks": ""
             }
            },
            "type": "scatterternary"
           }
          ],
          "surface": [
           {
            "colorbar": {
             "outlinewidth": 0,
             "ticks": ""
            },
            "colorscale": [
             [
              0,
              "#0d0887"
             ],
             [
              0.1111111111111111,
              "#46039f"
             ],
             [
              0.2222222222222222,
              "#7201a8"
             ],
             [
              0.3333333333333333,
              "#9c179e"
             ],
             [
              0.4444444444444444,
              "#bd3786"
             ],
             [
              0.5555555555555556,
              "#d8576b"
             ],
             [
              0.6666666666666666,
              "#ed7953"
             ],
             [
              0.7777777777777778,
              "#fb9f3a"
             ],
             [
              0.8888888888888888,
              "#fdca26"
             ],
             [
              1,
              "#f0f921"
             ]
            ],
            "type": "surface"
           }
          ],
          "table": [
           {
            "cells": {
             "fill": {
              "color": "#EBF0F8"
             },
             "line": {
              "color": "white"
             }
            },
            "header": {
             "fill": {
              "color": "#C8D4E3"
             },
             "line": {
              "color": "white"
             }
            },
            "type": "table"
           }
          ]
         },
         "layout": {
          "annotationdefaults": {
           "arrowcolor": "#2a3f5f",
           "arrowhead": 0,
           "arrowwidth": 1
          },
          "autotypenumbers": "strict",
          "coloraxis": {
           "colorbar": {
            "outlinewidth": 0,
            "ticks": ""
           }
          },
          "colorscale": {
           "diverging": [
            [
             0,
             "#8e0152"
            ],
            [
             0.1,
             "#c51b7d"
            ],
            [
             0.2,
             "#de77ae"
            ],
            [
             0.3,
             "#f1b6da"
            ],
            [
             0.4,
             "#fde0ef"
            ],
            [
             0.5,
             "#f7f7f7"
            ],
            [
             0.6,
             "#e6f5d0"
            ],
            [
             0.7,
             "#b8e186"
            ],
            [
             0.8,
             "#7fbc41"
            ],
            [
             0.9,
             "#4d9221"
            ],
            [
             1,
             "#276419"
            ]
           ],
           "sequential": [
            [
             0,
             "#0d0887"
            ],
            [
             0.1111111111111111,
             "#46039f"
            ],
            [
             0.2222222222222222,
             "#7201a8"
            ],
            [
             0.3333333333333333,
             "#9c179e"
            ],
            [
             0.4444444444444444,
             "#bd3786"
            ],
            [
             0.5555555555555556,
             "#d8576b"
            ],
            [
             0.6666666666666666,
             "#ed7953"
            ],
            [
             0.7777777777777778,
             "#fb9f3a"
            ],
            [
             0.8888888888888888,
             "#fdca26"
            ],
            [
             1,
             "#f0f921"
            ]
           ],
           "sequentialminus": [
            [
             0,
             "#0d0887"
            ],
            [
             0.1111111111111111,
             "#46039f"
            ],
            [
             0.2222222222222222,
             "#7201a8"
            ],
            [
             0.3333333333333333,
             "#9c179e"
            ],
            [
             0.4444444444444444,
             "#bd3786"
            ],
            [
             0.5555555555555556,
             "#d8576b"
            ],
            [
             0.6666666666666666,
             "#ed7953"
            ],
            [
             0.7777777777777778,
             "#fb9f3a"
            ],
            [
             0.8888888888888888,
             "#fdca26"
            ],
            [
             1,
             "#f0f921"
            ]
           ]
          },
          "colorway": [
           "#636efa",
           "#EF553B",
           "#00cc96",
           "#ab63fa",
           "#FFA15A",
           "#19d3f3",
           "#FF6692",
           "#B6E880",
           "#FF97FF",
           "#FECB52"
          ],
          "font": {
           "color": "#2a3f5f"
          },
          "geo": {
           "bgcolor": "white",
           "lakecolor": "white",
           "landcolor": "white",
           "showlakes": true,
           "showland": true,
           "subunitcolor": "#C8D4E3"
          },
          "hoverlabel": {
           "align": "left"
          },
          "hovermode": "closest",
          "mapbox": {
           "style": "light"
          },
          "paper_bgcolor": "white",
          "plot_bgcolor": "white",
          "polar": {
           "angularaxis": {
            "gridcolor": "#EBF0F8",
            "linecolor": "#EBF0F8",
            "ticks": ""
           },
           "bgcolor": "white",
           "radialaxis": {
            "gridcolor": "#EBF0F8",
            "linecolor": "#EBF0F8",
            "ticks": ""
           }
          },
          "scene": {
           "xaxis": {
            "backgroundcolor": "white",
            "gridcolor": "#DFE8F3",
            "gridwidth": 2,
            "linecolor": "#EBF0F8",
            "showbackground": true,
            "ticks": "",
            "zerolinecolor": "#EBF0F8"
           },
           "yaxis": {
            "backgroundcolor": "white",
            "gridcolor": "#DFE8F3",
            "gridwidth": 2,
            "linecolor": "#EBF0F8",
            "showbackground": true,
            "ticks": "",
            "zerolinecolor": "#EBF0F8"
           },
           "zaxis": {
            "backgroundcolor": "white",
            "gridcolor": "#DFE8F3",
            "gridwidth": 2,
            "linecolor": "#EBF0F8",
            "showbackground": true,
            "ticks": "",
            "zerolinecolor": "#EBF0F8"
           }
          },
          "shapedefaults": {
           "line": {
            "color": "#2a3f5f"
           }
          },
          "ternary": {
           "aaxis": {
            "gridcolor": "#DFE8F3",
            "linecolor": "#A2B1C6",
            "ticks": ""
           },
           "baxis": {
            "gridcolor": "#DFE8F3",
            "linecolor": "#A2B1C6",
            "ticks": ""
           },
           "bgcolor": "white",
           "caxis": {
            "gridcolor": "#DFE8F3",
            "linecolor": "#A2B1C6",
            "ticks": ""
           }
          },
          "title": {
           "x": 0.05
          },
          "xaxis": {
           "automargin": true,
           "gridcolor": "#EBF0F8",
           "linecolor": "#EBF0F8",
           "ticks": "",
           "title": {
            "standoff": 15
           },
           "zerolinecolor": "#EBF0F8",
           "zerolinewidth": 2
          },
          "yaxis": {
           "automargin": true,
           "gridcolor": "#EBF0F8",
           "linecolor": "#EBF0F8",
           "ticks": "",
           "title": {
            "standoff": 15
           },
           "zerolinecolor": "#EBF0F8",
           "zerolinewidth": 2
          }
         }
        },
        "title": {
         "text": "PSD of 1/f noise (qubit q0) — IBM  (R=200)"
        },
        "xaxis": {
         "title": {
          "text": "Frequency [MHz]"
         },
         "type": "log"
        },
        "yaxis": {
         "title": {
          "text": "PSD (amplitude² per MHz)"
         },
         "type": "log"
        }
       }
      }
     },
     "metadata": {},
     "output_type": "display_data"
    },
    {
     "name": "stdout",
     "output_type": "stream",
     "text": [
      "Log–log slope near f≈4.99 MHz: -0.93  (ideal 1/f → −1)\n"
     ]
    }
   ],
   "source": [
    "# ==== PSD of 1/f noise across realizations (Welch, mean ± 1σ) ====\n",
    "import numpy as np\n",
    "import plotly.graph_objects as go\n",
    "from scipy.signal import welch\n",
    "\n",
    "# --- knobs you can tweak ---\n",
    "which_qubit   = 0      # 0, 1, or 2\n",
    "R_total       = 200    # number of realizations (use 1000 for publication)\n",
    "USE_DRIVE_SCALE = True # True: PSD of the drive that enters H; False: raw i(t)\n",
    "\n",
    "# --- get platform defaults; handle either 2-arg or 3-arg function signature ---\n",
    "def _get_platform_defaults():\n",
    "    try:\n",
    "        vals = platform_noise_defaults(PLATFORM, params[\"T_max\"], omega_max)  # 3-arg version\n",
    "    except TypeError:\n",
    "        vals = platform_noise_defaults(PLATFORM, params[\"T_max\"])             # 2-arg version\n",
    "    if len(vals) == 3:\n",
    "        S0, fmin, default_strength = vals\n",
    "    elif len(vals) == 2:\n",
    "        S0, fmin = vals\n",
    "        default_strength = 2*np.pi*0.25e6 if PLATFORM.lower()==\"ibm\" else 0.15\n",
    "    else:\n",
    "        raise ValueError(\"platform_noise_defaults returned unexpected values.\")\n",
    "    return S0, fmin, default_strength\n",
    "\n",
    "S0, fmin, default_strength = _get_platform_defaults()\n",
    "scale_to_use = (globals().get(\"noise_strength\", default_strength) if USE_DRIVE_SCALE else 1.0)\n",
    "\n",
    "# --- generate R_total realizations on your simulation grid ---\n",
    "t_grid = np.asarray(t_list, dtype=float)\n",
    "N  = len(t_grid)\n",
    "dt = float(t_grid[1] - t_grid[0])\n",
    "fs_native = 1.0 / dt  # Hz (IBM) or 1/µs = MHz (QuEra)\n",
    "\n",
    "xis = generate_1f_noise_coeffs(\n",
    "    t_grid=t_grid, n_qubits=3, n_realizations=R_total,\n",
    "    S0=S0, fmin=fmin, seed=123, normalize=False\n",
    ")  # shape: (R_total, 3, N)\n",
    "\n",
    "# convert to the series we want to analyze:\n",
    "#   raw x_q(t) (dimensionless) -> angular drive via scale_to_use -> MHz for plotting/PSD\n",
    "amp = scale_to_use * xis[:, which_qubit, :] * params[\"to_freq_units\"]  # (R_total, N), units: MHz\n",
    "\n",
    "# --- Welch PSD per realization ---\n",
    "nperseg = max(64, min(1024, (N//4)*2))  # robust segment length\n",
    "f_native, P0 = welch(amp[0], fs=fs_native, nperseg=nperseg,\n",
    "                     detrend='constant', scaling='density', return_onesided=True)\n",
    "P_all = np.empty((R_total, len(f_native)), dtype=float)\n",
    "P_all[0] = P0\n",
    "for r in range(1, R_total):\n",
    "    _, P_all[r] = welch(amp[r], fs=fs_native, nperseg=nperseg,\n",
    "                        detrend='constant', scaling='density', return_onesided=True)\n",
    "\n",
    "# --- Convert frequency axis & PSD to per-MHz density ---\n",
    "if PLATFORM.lower() == \"ibm\":\n",
    "    f_MHz = f_native / 1e6                # Hz -> MHz\n",
    "    P_per_MHz = P_all * 1e6               # (amp^2/Hz) -> (amp^2/MHz)\n",
    "else:\n",
    "    f_MHz = f_native                       # native 1/µs == MHz\n",
    "    P_per_MHz = P_all\n",
    "\n",
    "mean_psd = np.mean(P_per_MHz, axis=0)\n",
    "std_psd  = np.std(P_per_MHz, axis=0)\n",
    "\n",
    "# --- 1/f guide matched at geometric mid-frequency ---\n",
    "valid = f_MHz > 0\n",
    "f_mid = np.exp(np.mean(np.log(f_MHz[valid]))) if np.any(valid) else 1.0\n",
    "def _interp(x, y, x0):\n",
    "    i = np.searchsorted(x, x0)\n",
    "    if i <= 0: return y[0]\n",
    "    if i >= len(x): return y[-1]\n",
    "    w = (x0 - x[i-1]) / (x[i] - x[i-1])\n",
    "    return (1-w)*y[i-1] + w*y[i]\n",
    "P_mid = _interp(f_MHz[valid], mean_psd[valid], f_mid) if np.any(valid) else 1.0\n",
    "guide = (P_mid * f_mid) / np.maximum(f_MHz, f_MHz[1] if len(f_MHz)>1 else 1.0)\n",
    "\n",
    "# --- f_min vertical line (in MHz) ---\n",
    "fmin_MHz = (fmin/1e6) if PLATFORM.lower()==\"ibm\" else fmin\n",
    "\n",
    "# --- Plot: mean PSD ±1σ, 1/f guide, f_min line ---\n",
    "fig = go.Figure()\n",
    "# ±1σ band\n",
    "fig.add_trace(go.Scatter(\n",
    "    x=np.concatenate([f_MHz, f_MHz[::-1]]),\n",
    "    y=np.concatenate([mean_psd - std_psd, (mean_psd + std_psd)[::-1]]),\n",
    "    fill='toself', fillcolor='rgba(0,120,255,0.15)',\n",
    "    line=dict(color='rgba(0,0,0,0)'),\n",
    "    name='±1σ (over realizations)'\n",
    "))\n",
    "# mean PSD\n",
    "fig.add_trace(go.Scatter(x=f_MHz, y=mean_psd, mode='lines', line=dict(width=3), name='mean PSD'))\n",
    "# 1/f dashed guide\n",
    "fig.add_trace(go.Scatter(x=f_MHz, y=guide, mode='lines', line=dict(dash='dash'), name='~1/f guide'))\n",
    "# f_min vertical line\n",
    "fig.add_vline(x=fmin_MHz, line=dict(color='gray', dash='dot'),\n",
    "              annotation_text=f\"f_min ≈ {fmin_MHz:.3g} MHz\", annotation_position=\"top right\")\n",
    "\n",
    "fig.update_layout(\n",
    "    title=f\"PSD of 1/f noise (qubit q{which_qubit}) — {PLATFORM.upper()}  (R={R_total})\",\n",
    "    xaxis_title=\"Frequency [MHz]\", yaxis_title=\"PSD (amplitude² per MHz)\",\n",
    "    xaxis_type=\"log\", yaxis_type=\"log\",\n",
    "    template=\"plotly_white\", legend=dict(title=\"\")\n",
    ")\n",
    "fig.show()\n",
    "\n",
    "# Optional: slope sanity-check near f_mid\n",
    "sel = (f_MHz > f_mid/3) & (f_MHz < f_mid*3) & np.isfinite(mean_psd) & (mean_psd > 0)\n",
    "if np.any(sel):\n",
    "    slope = np.polyfit(np.log10(f_MHz[sel]), np.log10(mean_psd[sel]), 1)[0]\n",
    "    print(f\"Log–log slope near f≈{f_mid:.3g} MHz: {slope:.2f}  (ideal 1/f → −1)\")\n"
   ]
  },
  {
   "cell_type": "code",
   "execution_count": 172,
   "id": "b17383f6",
   "metadata": {},
   "outputs": [
    {
     "name": "stdout",
     "output_type": "stream",
     "text": [
      "Implied RMS of i(t): σ ≈ 0.0296 (angular units). In MHz: 4.72e-09.\n"
     ]
    },
    {
     "name": "stderr",
     "output_type": "stream",
     "text": [
      "Realizations:   0%|          | 0/10 [00:00<?, ?it/s]/Users/chenscheim/miniconda3/lib/python3.12/site-packages/qutip/solver/options.py:16: FutureWarning:\n",
      "\n",
      "Dedicated options class are no longer needed, options should be passed as dict to solvers.\n",
      "\n",
      "/Users/chenscheim/miniconda3/lib/python3.12/site-packages/qutip/solver/options.py:16: FutureWarning:\n",
      "\n",
      "Dedicated options class are no longer needed, options should be passed as dict to solvers.\n",
      "\n",
      "Realizations: 100%|██████████| 10/10 [00:11<00:00,  1.15s/it]\n",
      "Realizations: 100%|██████████| 10/10 [00:11<00:00,  1.15s/it]\n"
     ]
    },
    {
     "data": {
      "application/vnd.plotly.v1+json": {
       "config": {
        "plotlyServerURL": "https://plot.ly"
       },
       "data": [
        {
         "mode": "lines",
         "name": "mean fidelity",
         "type": "scatter",
         "x": {
          "bdata": "AAAAAAAAAAB7FK5H4XqkP3sUrkfherQ/uR6F61G4vj97FK5H4XrEP5mZmZmZmck/uR6F61G4zj/sUbgehevRP3sUrkfhetQ/CtejcD0K1z+ZmZmZmZnZPylcj8L1KNw/uR6F61G43j+kcD0K16PgP+xRuB6F6+E/MzMzMzMz4z97FK5H4XrkP8P1KFyPwuU/CtejcD0K5z9SuB6F61HoP5mZmZmZmek/4XoUrkfh6j8pXI/C9SjsP3A9CtejcO0/uR6F61G47j8AAAAAAADwP6RwPQrXo/A/SOF6FK5H8T/sUbgehevxP5DC9Shcj/I/MzMzMzMz8z/Xo3A9CtfzP3sUrkfhevQ/H4XrUbge9T/D9Shcj8L1P2ZmZmZmZvY/CtejcD0K9z+uR+F6FK73P1K4HoXrUfg/9ihcj8L1+D+ZmZmZmZn5Pz0K16NwPfo/4XoUrkfh+j+F61G4HoX7Pylcj8L1KPw/zczMzMzM/D9wPQrXo3D9PxSuR+F6FP4/uR6F61G4/j9cj8L1KFz/PwAAAAAAAABA",
          "dtype": "f8"
         },
         "y": {
          "bdata": "AAAAAAAAAADQTQpd1SlQPy9m0FXAJXA/H89ZBNMigj/RtOp6dBWQP1HhoZx6Dpk/DsSntbX5oT93+wy9olyoP/B3vMSQqa8/AZkW5I/ssz/QAqJohXG4PyL8fSkYX70/wLG02CZYwT9gIOlx4y/EPzfRCLXiM8c/AlBawBhhyj9e15kPULTNPydJ81wWldA/P4g065df0j9yyTWC3TfUP8MglQkKHNY/1xLgYjQK2D+YVrZXaQDaP4bDEpKt/Ns/Dj/UnP/83T8iPnHqWf/fP9cD5W/aAOE/Ob6McAQB4j9HqWwvKP/iP29PTvBE+uM/wejkBV3x5D9z5Q7SduPlP2q1A8Kdz+Y/snFkReO05z9dTju/X5LoPx2e+G8zZ+k/4oJ4V4cy6j/i+DYOjvPqP3Zj0JSEqes/Sir9GLNT7D/l/EavbfHsP+LXswAVgu0/Pii+6xYF7j/eL/UX73nuPw7+rXsn4O4/+xBD01g37z9mSmUJK3/vP2JiF5BVt+8/cEb6qZ/f7z/eE56j4PfvP2pfoPz//+8/",
          "dtype": "f8"
         }
        },
        {
         "fill": "toself",
         "fillcolor": "rgba(0, 120, 255, 0.15)",
         "line": {
          "color": "rgba(0,0,0,0)"
         },
         "name": "±1σ band",
         "type": "scatter",
         "x": {
          "bdata": "AAAAAAAAAAB7FK5H4XqkP3sUrkfherQ/uR6F61G4vj97FK5H4XrEP5mZmZmZmck/uR6F61G4zj/sUbgehevRP3sUrkfhetQ/CtejcD0K1z+ZmZmZmZnZPylcj8L1KNw/uR6F61G43j+kcD0K16PgP+xRuB6F6+E/MzMzMzMz4z97FK5H4XrkP8P1KFyPwuU/CtejcD0K5z9SuB6F61HoP5mZmZmZmek/4XoUrkfh6j8pXI/C9SjsP3A9CtejcO0/uR6F61G47j8AAAAAAADwP6RwPQrXo/A/SOF6FK5H8T/sUbgehevxP5DC9Shcj/I/MzMzMzMz8z/Xo3A9CtfzP3sUrkfhevQ/H4XrUbge9T/D9Shcj8L1P2ZmZmZmZvY/CtejcD0K9z+uR+F6FK73P1K4HoXrUfg/9ihcj8L1+D+ZmZmZmZn5Pz0K16NwPfo/4XoUrkfh+j+F61G4HoX7Pylcj8L1KPw/zczMzMzM/D9wPQrXo3D9PxSuR+F6FP4/uR6F61G4/j9cj8L1KFz/PwAAAAAAAABAAAAAAAAAAEBcj8L1KFz/P7kehetRuP4/FK5H4XoU/j9wPQrXo3D9P83MzMzMzPw/KVyPwvUo/D+F61G4HoX7P+F6FK5H4fo/PQrXo3A9+j+ZmZmZmZn5P/YoXI/C9fg/UrgehetR+D+uR+F6FK73PwrXo3A9Cvc/ZmZmZmZm9j/D9Shcj8L1Px+F61G4HvU/exSuR+F69D/Xo3A9CtfzPzMzMzMzM/M/kML1KFyP8j/sUbgehevxP0jhehSuR/E/pHA9Ctej8D8AAAAAAADwP7kehetRuO4/cD0K16Nw7T8pXI/C9SjsP+F6FK5H4eo/mZmZmZmZ6T9SuB6F61HoPwrXo3A9Cuc/w/UoXI/C5T97FK5H4XrkPzMzMzMzM+M/7FG4HoXr4T+kcD0K16PgP7kehetRuN4/KVyPwvUo3D+ZmZmZmZnZPwrXo3A9Ctc/exSuR+F61D/sUbgehevRP7kehetRuM4/mZmZmZmZyT97FK5H4XrEP7kehetRuL4/exSuR+F6tD97FK5H4XqkPwAAAAAAAAAA",
          "dtype": "f8"
         },
         "y": {
          "bdata": "AAAAAAAAAADQTQpd1SlQPy5m0FXAJXA/Hs9ZBNMigj/RtOp6dBWQP1HhoZx6Dpk/DcSntbX5oT92+wy9olyoP/B3vMSQqa8/AJkW5I/ssz/QAqJohXG4PyL8fSkYX70/wLG02CZYwT9gIOlx4y/EPzbRCLXiM8c/AFBawBhhyj9d15kPULTNPydJ81wWldA/P4g065df0j9xyTWC3TfUP8IglQkKHNY/1hLgYjQK2D+YVrZXaQDaP4bDEpKt/Ns/DT/UnP/83T8gPnHqWf/fP9YD5W/aAOE/Ob6McAQB4j9GqWwvKP/iP25PTvBE+uM/wejkBV3x5D9y5Q7SduPlP2m1A8Kdz+Y/sXFkReO05z9cTju/X5LoPxye+G8zZ+k/4oJ4V4cy6j/h+DYOjvPqP3Vj0JSEqes/SSr9GLNT7D/l/EavbfHsP+HXswAVgu0/Pii+6xYF7j/dL/UX73nuPwz+rXsn4O4/+xBD01g37z9kSmUJK3/vP2FiF5BVt+8/cEb6qZ/f7z/cE56j4PfvP2lfoPz//+8/a1+g/P//7z/gE56j4PfvP3BG+qmf3+8/Y2IXkFW37z9oSmUJK3/vP/sQQ9NYN+8/EP6teyfg7j/fL/UX73nuPz4ovusWBe4/49ezABWC7T/l/EavbfHsP0sq/RizU+w/d2PQlISp6z/j+DYOjvPqP+KCeFeHMuo/Hp74bzNn6T9eTju/X5LoP7NxZEXjtOc/a7UDwp3P5j905Q7SduPlP8Ho5AVd8eQ/cE9O8ET64z9IqWwvKP/iPzm+jHAEAeI/2APlb9oA4T8kPnHqWf/fPw8/1Jz//N0/hsMSkq382z+YVrZXaQDaP9gS4GI0Ctg/xCCVCQoc1j9zyTWC3TfUPz+INOuXX9I/J0nzXBaV0D9f15kPULTNPwRQWsAYYco/ONEIteIzxz9gIOlx4y/EP8CxtNgmWME/Ivx9KRhfvT/QAqJohXG4PwKZFuSP7LM/8He8xJCprz94+wy9olyoPw/Ep7W1+aE/UeGhnHoOmT/RtOp6dBWQPyDPWQTTIoI/MGbQVcAlcD/QTQpd1SlQPwAAAAAAAAAA",
          "dtype": "f8"
         }
        }
       ],
       "layout": {
        "legend": {
         "title": {
          "text": ""
         }
        },
        "template": {
         "data": {
          "bar": [
           {
            "error_x": {
             "color": "#2a3f5f"
            },
            "error_y": {
             "color": "#2a3f5f"
            },
            "marker": {
             "line": {
              "color": "white",
              "width": 0.5
             },
             "pattern": {
              "fillmode": "overlay",
              "size": 10,
              "solidity": 0.2
             }
            },
            "type": "bar"
           }
          ],
          "barpolar": [
           {
            "marker": {
             "line": {
              "color": "white",
              "width": 0.5
             },
             "pattern": {
              "fillmode": "overlay",
              "size": 10,
              "solidity": 0.2
             }
            },
            "type": "barpolar"
           }
          ],
          "carpet": [
           {
            "aaxis": {
             "endlinecolor": "#2a3f5f",
             "gridcolor": "#C8D4E3",
             "linecolor": "#C8D4E3",
             "minorgridcolor": "#C8D4E3",
             "startlinecolor": "#2a3f5f"
            },
            "baxis": {
             "endlinecolor": "#2a3f5f",
             "gridcolor": "#C8D4E3",
             "linecolor": "#C8D4E3",
             "minorgridcolor": "#C8D4E3",
             "startlinecolor": "#2a3f5f"
            },
            "type": "carpet"
           }
          ],
          "choropleth": [
           {
            "colorbar": {
             "outlinewidth": 0,
             "ticks": ""
            },
            "type": "choropleth"
           }
          ],
          "contour": [
           {
            "colorbar": {
             "outlinewidth": 0,
             "ticks": ""
            },
            "colorscale": [
             [
              0,
              "#0d0887"
             ],
             [
              0.1111111111111111,
              "#46039f"
             ],
             [
              0.2222222222222222,
              "#7201a8"
             ],
             [
              0.3333333333333333,
              "#9c179e"
             ],
             [
              0.4444444444444444,
              "#bd3786"
             ],
             [
              0.5555555555555556,
              "#d8576b"
             ],
             [
              0.6666666666666666,
              "#ed7953"
             ],
             [
              0.7777777777777778,
              "#fb9f3a"
             ],
             [
              0.8888888888888888,
              "#fdca26"
             ],
             [
              1,
              "#f0f921"
             ]
            ],
            "type": "contour"
           }
          ],
          "contourcarpet": [
           {
            "colorbar": {
             "outlinewidth": 0,
             "ticks": ""
            },
            "type": "contourcarpet"
           }
          ],
          "heatmap": [
           {
            "colorbar": {
             "outlinewidth": 0,
             "ticks": ""
            },
            "colorscale": [
             [
              0,
              "#0d0887"
             ],
             [
              0.1111111111111111,
              "#46039f"
             ],
             [
              0.2222222222222222,
              "#7201a8"
             ],
             [
              0.3333333333333333,
              "#9c179e"
             ],
             [
              0.4444444444444444,
              "#bd3786"
             ],
             [
              0.5555555555555556,
              "#d8576b"
             ],
             [
              0.6666666666666666,
              "#ed7953"
             ],
             [
              0.7777777777777778,
              "#fb9f3a"
             ],
             [
              0.8888888888888888,
              "#fdca26"
             ],
             [
              1,
              "#f0f921"
             ]
            ],
            "type": "heatmap"
           }
          ],
          "histogram": [
           {
            "marker": {
             "pattern": {
              "fillmode": "overlay",
              "size": 10,
              "solidity": 0.2
             }
            },
            "type": "histogram"
           }
          ],
          "histogram2d": [
           {
            "colorbar": {
             "outlinewidth": 0,
             "ticks": ""
            },
            "colorscale": [
             [
              0,
              "#0d0887"
             ],
             [
              0.1111111111111111,
              "#46039f"
             ],
             [
              0.2222222222222222,
              "#7201a8"
             ],
             [
              0.3333333333333333,
              "#9c179e"
             ],
             [
              0.4444444444444444,
              "#bd3786"
             ],
             [
              0.5555555555555556,
              "#d8576b"
             ],
             [
              0.6666666666666666,
              "#ed7953"
             ],
             [
              0.7777777777777778,
              "#fb9f3a"
             ],
             [
              0.8888888888888888,
              "#fdca26"
             ],
             [
              1,
              "#f0f921"
             ]
            ],
            "type": "histogram2d"
           }
          ],
          "histogram2dcontour": [
           {
            "colorbar": {
             "outlinewidth": 0,
             "ticks": ""
            },
            "colorscale": [
             [
              0,
              "#0d0887"
             ],
             [
              0.1111111111111111,
              "#46039f"
             ],
             [
              0.2222222222222222,
              "#7201a8"
             ],
             [
              0.3333333333333333,
              "#9c179e"
             ],
             [
              0.4444444444444444,
              "#bd3786"
             ],
             [
              0.5555555555555556,
              "#d8576b"
             ],
             [
              0.6666666666666666,
              "#ed7953"
             ],
             [
              0.7777777777777778,
              "#fb9f3a"
             ],
             [
              0.8888888888888888,
              "#fdca26"
             ],
             [
              1,
              "#f0f921"
             ]
            ],
            "type": "histogram2dcontour"
           }
          ],
          "mesh3d": [
           {
            "colorbar": {
             "outlinewidth": 0,
             "ticks": ""
            },
            "type": "mesh3d"
           }
          ],
          "parcoords": [
           {
            "line": {
             "colorbar": {
              "outlinewidth": 0,
              "ticks": ""
             }
            },
            "type": "parcoords"
           }
          ],
          "pie": [
           {
            "automargin": true,
            "type": "pie"
           }
          ],
          "scatter": [
           {
            "fillpattern": {
             "fillmode": "overlay",
             "size": 10,
             "solidity": 0.2
            },
            "type": "scatter"
           }
          ],
          "scatter3d": [
           {
            "line": {
             "colorbar": {
              "outlinewidth": 0,
              "ticks": ""
             }
            },
            "marker": {
             "colorbar": {
              "outlinewidth": 0,
              "ticks": ""
             }
            },
            "type": "scatter3d"
           }
          ],
          "scattercarpet": [
           {
            "marker": {
             "colorbar": {
              "outlinewidth": 0,
              "ticks": ""
             }
            },
            "type": "scattercarpet"
           }
          ],
          "scattergeo": [
           {
            "marker": {
             "colorbar": {
              "outlinewidth": 0,
              "ticks": ""
             }
            },
            "type": "scattergeo"
           }
          ],
          "scattergl": [
           {
            "marker": {
             "colorbar": {
              "outlinewidth": 0,
              "ticks": ""
             }
            },
            "type": "scattergl"
           }
          ],
          "scattermap": [
           {
            "marker": {
             "colorbar": {
              "outlinewidth": 0,
              "ticks": ""
             }
            },
            "type": "scattermap"
           }
          ],
          "scattermapbox": [
           {
            "marker": {
             "colorbar": {
              "outlinewidth": 0,
              "ticks": ""
             }
            },
            "type": "scattermapbox"
           }
          ],
          "scatterpolar": [
           {
            "marker": {
             "colorbar": {
              "outlinewidth": 0,
              "ticks": ""
             }
            },
            "type": "scatterpolar"
           }
          ],
          "scatterpolargl": [
           {
            "marker": {
             "colorbar": {
              "outlinewidth": 0,
              "ticks": ""
             }
            },
            "type": "scatterpolargl"
           }
          ],
          "scatterternary": [
           {
            "marker": {
             "colorbar": {
              "outlinewidth": 0,
              "ticks": ""
             }
            },
            "type": "scatterternary"
           }
          ],
          "surface": [
           {
            "colorbar": {
             "outlinewidth": 0,
             "ticks": ""
            },
            "colorscale": [
             [
              0,
              "#0d0887"
             ],
             [
              0.1111111111111111,
              "#46039f"
             ],
             [
              0.2222222222222222,
              "#7201a8"
             ],
             [
              0.3333333333333333,
              "#9c179e"
             ],
             [
              0.4444444444444444,
              "#bd3786"
             ],
             [
              0.5555555555555556,
              "#d8576b"
             ],
             [
              0.6666666666666666,
              "#ed7953"
             ],
             [
              0.7777777777777778,
              "#fb9f3a"
             ],
             [
              0.8888888888888888,
              "#fdca26"
             ],
             [
              1,
              "#f0f921"
             ]
            ],
            "type": "surface"
           }
          ],
          "table": [
           {
            "cells": {
             "fill": {
              "color": "#EBF0F8"
             },
             "line": {
              "color": "white"
             }
            },
            "header": {
             "fill": {
              "color": "#C8D4E3"
             },
             "line": {
              "color": "white"
             }
            },
            "type": "table"
           }
          ]
         },
         "layout": {
          "annotationdefaults": {
           "arrowcolor": "#2a3f5f",
           "arrowhead": 0,
           "arrowwidth": 1
          },
          "autotypenumbers": "strict",
          "coloraxis": {
           "colorbar": {
            "outlinewidth": 0,
            "ticks": ""
           }
          },
          "colorscale": {
           "diverging": [
            [
             0,
             "#8e0152"
            ],
            [
             0.1,
             "#c51b7d"
            ],
            [
             0.2,
             "#de77ae"
            ],
            [
             0.3,
             "#f1b6da"
            ],
            [
             0.4,
             "#fde0ef"
            ],
            [
             0.5,
             "#f7f7f7"
            ],
            [
             0.6,
             "#e6f5d0"
            ],
            [
             0.7,
             "#b8e186"
            ],
            [
             0.8,
             "#7fbc41"
            ],
            [
             0.9,
             "#4d9221"
            ],
            [
             1,
             "#276419"
            ]
           ],
           "sequential": [
            [
             0,
             "#0d0887"
            ],
            [
             0.1111111111111111,
             "#46039f"
            ],
            [
             0.2222222222222222,
             "#7201a8"
            ],
            [
             0.3333333333333333,
             "#9c179e"
            ],
            [
             0.4444444444444444,
             "#bd3786"
            ],
            [
             0.5555555555555556,
             "#d8576b"
            ],
            [
             0.6666666666666666,
             "#ed7953"
            ],
            [
             0.7777777777777778,
             "#fb9f3a"
            ],
            [
             0.8888888888888888,
             "#fdca26"
            ],
            [
             1,
             "#f0f921"
            ]
           ],
           "sequentialminus": [
            [
             0,
             "#0d0887"
            ],
            [
             0.1111111111111111,
             "#46039f"
            ],
            [
             0.2222222222222222,
             "#7201a8"
            ],
            [
             0.3333333333333333,
             "#9c179e"
            ],
            [
             0.4444444444444444,
             "#bd3786"
            ],
            [
             0.5555555555555556,
             "#d8576b"
            ],
            [
             0.6666666666666666,
             "#ed7953"
            ],
            [
             0.7777777777777778,
             "#fb9f3a"
            ],
            [
             0.8888888888888888,
             "#fdca26"
            ],
            [
             1,
             "#f0f921"
            ]
           ]
          },
          "colorway": [
           "#636efa",
           "#EF553B",
           "#00cc96",
           "#ab63fa",
           "#FFA15A",
           "#19d3f3",
           "#FF6692",
           "#B6E880",
           "#FF97FF",
           "#FECB52"
          ],
          "font": {
           "color": "#2a3f5f"
          },
          "geo": {
           "bgcolor": "white",
           "lakecolor": "white",
           "landcolor": "white",
           "showlakes": true,
           "showland": true,
           "subunitcolor": "#C8D4E3"
          },
          "hoverlabel": {
           "align": "left"
          },
          "hovermode": "closest",
          "mapbox": {
           "style": "light"
          },
          "paper_bgcolor": "white",
          "plot_bgcolor": "white",
          "polar": {
           "angularaxis": {
            "gridcolor": "#EBF0F8",
            "linecolor": "#EBF0F8",
            "ticks": ""
           },
           "bgcolor": "white",
           "radialaxis": {
            "gridcolor": "#EBF0F8",
            "linecolor": "#EBF0F8",
            "ticks": ""
           }
          },
          "scene": {
           "xaxis": {
            "backgroundcolor": "white",
            "gridcolor": "#DFE8F3",
            "gridwidth": 2,
            "linecolor": "#EBF0F8",
            "showbackground": true,
            "ticks": "",
            "zerolinecolor": "#EBF0F8"
           },
           "yaxis": {
            "backgroundcolor": "white",
            "gridcolor": "#DFE8F3",
            "gridwidth": 2,
            "linecolor": "#EBF0F8",
            "showbackground": true,
            "ticks": "",
            "zerolinecolor": "#EBF0F8"
           },
           "zaxis": {
            "backgroundcolor": "white",
            "gridcolor": "#DFE8F3",
            "gridwidth": 2,
            "linecolor": "#EBF0F8",
            "showbackground": true,
            "ticks": "",
            "zerolinecolor": "#EBF0F8"
           }
          },
          "shapedefaults": {
           "line": {
            "color": "#2a3f5f"
           }
          },
          "ternary": {
           "aaxis": {
            "gridcolor": "#DFE8F3",
            "linecolor": "#A2B1C6",
            "ticks": ""
           },
           "baxis": {
            "gridcolor": "#DFE8F3",
            "linecolor": "#A2B1C6",
            "ticks": ""
           },
           "bgcolor": "white",
           "caxis": {
            "gridcolor": "#DFE8F3",
            "linecolor": "#A2B1C6",
            "ticks": ""
           }
          },
          "title": {
           "x": 0.05
          },
          "xaxis": {
           "automargin": true,
           "gridcolor": "#EBF0F8",
           "linecolor": "#EBF0F8",
           "ticks": "",
           "title": {
            "standoff": 15
           },
           "zerolinecolor": "#EBF0F8",
           "zerolinewidth": 2
          },
          "yaxis": {
           "automargin": true,
           "gridcolor": "#EBF0F8",
           "linecolor": "#EBF0F8",
           "ticks": "",
           "title": {
            "standoff": 15
           },
           "zerolinecolor": "#EBF0F8",
           "zerolinewidth": 2
          }
         }
        },
        "title": {
         "text": "Noise-averaged fidelity over 10 realizations — IBM (S0=1e-3, f_min≈0.05 MHz)"
        },
        "xaxis": {
         "title": {
          "text": "time [µs]"
         }
        },
        "yaxis": {
         "title": {
          "text": "⟨Fidelity to |1_L⟩⟩"
         }
        }
       }
      }
     },
     "metadata": {},
     "output_type": "display_data"
    }
   ],
   "source": [
    "# === Noise-averaged fidelity over R realizations (1/f with S(ω)=S0/ω) ===\n",
    "import numpy as np\n",
    "import qutip as qt\n",
    "from qutip import tensor, sigmax, qeye\n",
    "from numpy.fft import rfftfreq, irfft\n",
    "from scipy.interpolate import interp1d\n",
    "import plotly.graph_objects as go\n",
    "\n",
    "# --- use your existing helpers/state ---\n",
    "S_list = [S1, S2]\n",
    "time_unit_label = params[\"time_unit_label\"]\n",
    "to_time_units   = params[\"to_time_units\"]\n",
    "\n",
    "# --- generator you already have (S0,fmin interface) ---\n",
    "def generate_1f_noise_coeffs(t_grid, n_qubits=3, n_realizations=1, S0=1e-3, fmin=1e-6, seed=None, normalize=False):\n",
    "    t_grid = np.asarray(t_grid, dtype=float)\n",
    "    N  = int(len(t_grid))\n",
    "    dt = float(t_grid[1]-t_grid[0])\n",
    "    freqs = rfftfreq(N, dt)\n",
    "    S = np.zeros_like(freqs, dtype=float)\n",
    "    mask = freqs >= fmin\n",
    "    S[mask] = S0 / (2.0*np.pi*np.maximum(freqs[mask], fmin))\n",
    "    S[0] = 0.0\n",
    "    rng = np.random.default_rng(seed)\n",
    "    xis = np.zeros((int(n_realizations), int(n_qubits), N), dtype=float)\n",
    "    for r in range(int(n_realizations)):\n",
    "        for q in range(int(n_qubits)):\n",
    "            real = rng.normal(size=len(freqs))\n",
    "            imag = rng.normal(size=len(freqs))\n",
    "            spectrum = (real + 1j*imag) * np.sqrt(np.maximum(S,0.0)/2.0)\n",
    "            spectrum[0] = 0.0\n",
    "            x = irfft(spectrum, n=N); x -= np.mean(x)\n",
    "            if normalize:\n",
    "                s = np.std(x); \n",
    "                if s>0: x/=s\n",
    "            xis[r,q,:] = x\n",
    "    return xis\n",
    "\n",
    "# --- platform defaults (exact PRX PSD level; set noise_strength=1 to match i(t) units) ---\n",
    "def platform_noise_defaults(PLATFORM, T_max):\n",
    "    if PLATFORM.lower()==\"ibm\":\n",
    "        S0    = 1e-3\n",
    "        fmin  = 1.0/(10.0*T_max)     # ~50 kHz for T_max=2 µs\n",
    "        scale = 1.0                  # i(t) already in rad/s from PSD\n",
    "    else:\n",
    "        S0    = 1e-3\n",
    "        fmin  = 1.0/(10.0*T_max)     # ~0.033 /µs for T_max=3 µs\n",
    "        scale = 1.0                  # i(t) in rad/µs\n",
    "    return S0, fmin, scale\n",
    "\n",
    "S0, fmin, noise_strength = platform_noise_defaults(PLATFORM, params[\"T_max\"])\n",
    "\n",
    "# --- theoretical RMS from bandwidth (sanity check) ---\n",
    "N     = len(t_list)\n",
    "dt    = float(t_list[1]-t_list[0])\n",
    "fs    = 1.0/dt             # Hz (IBM) or 1/µs (QuEra)\n",
    "fmax  = fs/2.0\n",
    "sigma = np.sqrt((S0/(2.0*np.pi))*np.log(max(fmax/fmin, 1.000001)))  # rad/s or rad/µs\n",
    "print(f\"Implied RMS of i(t): σ ≈ {sigma:.3g} (angular units). In MHz: {sigma*params['to_freq_units']:.3g}.\")\n",
    "\n",
    "# --- Monte-Carlo loop ---\n",
    "R = 10  # set 1000 for final figure; 200 is faster\n",
    "Ep_use = float(params[\"Ep\"])\n",
    "rho0   = logical_zero * logical_zero.dag()\n",
    "rho1   = logical_one  * logical_one.dag()\n",
    "\n",
    "fids = np.zeros((R, N), dtype=float)\n",
    "\n",
    "for r in tqdm(range(R), 'Realizations'):\n",
    "    # generate per-realization noise traces on the simulation grid\n",
    "    xi = generate_1f_noise_coeffs(t_list, n_qubits=3, n_realizations=1, S0=S0, fmin=fmin, seed=None, normalize=False)[0]\n",
    "    # continuous interpolants\n",
    "    coeffs = [interp1d(t_list, xi[q], kind='cubic', bounds_error=False, fill_value=(xi[q,0], xi[q,-1])) for q in range(3)]\n",
    "\n",
    "    # build local noisy H(t) for this realization\n",
    "    X_op, I_op = sigmax(), qeye(2)\n",
    "    noise_ops = [tensor(X_op, I_op, I_op), tensor(I_op, X_op, I_op), tensor(I_op, I_op, X_op)]\n",
    "\n",
    "    def H_noisy(t, args=None):\n",
    "        H_RAP = X_L * omega_t(t) + Z_L * delta_t(t)\n",
    "        H_pen = -Ep_use * sum(S_list, 0*I_L)\n",
    "        # i_q(t) already has angular units; do not scale further if you want PRX S(ω)=1e-3/ω literally\n",
    "        H_noise = sum(float(coeffs[q](t)) * noise_ops[q] for q in range(3))\n",
    "        return (H_RAP + H_pen + H_noise).to('csr')\n",
    "\n",
    "    res = qt.sesolve(H_noisy, logical_zero, t_list, e_ops=[rho0, rho1], args={},\n",
    "                     options=qt.Options(store_states=True, nsteps=10000, rtol=1e-7, atol=1e-9))\n",
    "    fids[r,:] = np.array(res.expect[1], dtype=float)  # <1_L|ρ|1_L>\n",
    "\n",
    "# --- average and uncertainty band ---\n",
    "mean_fid = np.mean(fids, axis=0)\n",
    "std_fid  = np.std(fids, axis=0)\n",
    "t_plot   = np.asarray(t_list) * params[\"to_time_units\"]\n",
    "\n",
    "fig = go.Figure()\n",
    "fig.add_trace(go.Scatter(x=t_plot, y=mean_fid, mode='lines', name='mean fidelity'))\n",
    "fig.add_trace(go.Scatter(\n",
    "    x=np.concatenate([t_plot, t_plot[::-1]]),\n",
    "    y=np.concatenate([mean_fid-std_fid, (mean_fid+std_fid)[::-1]]),\n",
    "    fill='toself', fillcolor='rgba(0, 120, 255, 0.15)', line=dict(color='rgba(0,0,0,0)'),\n",
    "    name='±1σ band'\n",
    "))\n",
    "fig.update_layout(\n",
    "    title=f\"Noise-averaged fidelity over {R} realizations — {PLATFORM.upper()} (S0=1e-3, f_min≈{(fmin/1e6 if PLATFORM.lower()=='ibm' else fmin):.3g} MHz)\",\n",
    "    xaxis_title=time_unit_label, yaxis_title='⟨Fidelity to |1_L⟩⟩',\n",
    "    template='plotly_white', legend=dict(title=\"\")\n",
    ")\n",
    "fig.show()\n"
   ]
  },
  {
   "cell_type": "code",
   "execution_count": 173,
   "id": "f2baeb01",
   "metadata": {},
   "outputs": [
    {
     "ename": "TypeError",
     "evalue": "platform_noise_defaults() takes 2 positional arguments but 3 were given",
     "output_type": "error",
     "traceback": [
      "\u001b[31m---------------------------------------------------------------------------\u001b[39m",
      "\u001b[31mTypeError\u001b[39m                                 Traceback (most recent call last)",
      "\u001b[36mCell\u001b[39m\u001b[36m \u001b[39m\u001b[32mIn[173]\u001b[39m\u001b[32m, line 11\u001b[39m\n\u001b[32m      8\u001b[39m R_show      = \u001b[32m20\u001b[39m         \u001b[38;5;66;03m# how many individual traces to overlay (visual clarity)\u001b[39;00m\n\u001b[32m     10\u001b[39m \u001b[38;5;66;03m# Platform-aware defaults for S0, fmin (if not already set elsewhere)\u001b[39;00m\n\u001b[32m---> \u001b[39m\u001b[32m11\u001b[39m S0, fmin, default_strength = \u001b[43mplatform_noise_defaults\u001b[49m\u001b[43m(\u001b[49m\u001b[43mPLATFORM\u001b[49m\u001b[43m,\u001b[49m\u001b[43m \u001b[49m\u001b[43mparams\u001b[49m\u001b[43m[\u001b[49m\u001b[33;43m\"\u001b[39;49m\u001b[33;43mT_max\u001b[39;49m\u001b[33;43m\"\u001b[39;49m\u001b[43m]\u001b[49m\u001b[43m,\u001b[49m\u001b[43m \u001b[49m\u001b[43momega_max\u001b[49m\u001b[43m)\u001b[49m\n\u001b[32m     13\u001b[39m \u001b[38;5;66;03m# Choose scaling to plot:\u001b[39;00m\n\u001b[32m     14\u001b[39m \u001b[38;5;66;03m# - If you want PRX-literal i(t) with S(ω)=1e-3/ω (no extra scaling), set scale_to_use = 1.0\u001b[39;00m\n\u001b[32m     15\u001b[39m \u001b[38;5;66;03m# - If you want to show the *drive* that enters H, use your platform's noise_strength (recommended)\u001b[39;00m\n\u001b[32m     16\u001b[39m scale_to_use = \u001b[38;5;28mglobals\u001b[39m().get(\u001b[33m\"\u001b[39m\u001b[33mnoise_strength\u001b[39m\u001b[33m\"\u001b[39m, default_strength)  \u001b[38;5;66;03m# use existing noise_strength if defined\u001b[39;00m\n",
      "\u001b[31mTypeError\u001b[39m: platform_noise_defaults() takes 2 positional arguments but 3 were given"
     ]
    }
   ],
   "source": [
    "# ==== Noise realizations: many 1/f samples over time (per-qubit view) ====\n",
    "import numpy as np\n",
    "import plotly.graph_objects as go\n",
    "\n",
    "# --- parameters you can tweak ---\n",
    "which_qubit = 0          # 0, 1, or 2\n",
    "R_total     = 200        # total realizations to draw (use 1000 for publication-quality)\n",
    "R_show      = 20         # how many individual traces to overlay (visual clarity)\n",
    "\n",
    "# Platform-aware defaults for S0, fmin (if not already set elsewhere)\n",
    "S0, fmin, default_strength = platform_noise_defaults(PLATFORM, params[\"T_max\"], omega_max)\n",
    "\n",
    "# Choose scaling to plot:\n",
    "# - If you want PRX-literal i(t) with S(ω)=1e-3/ω (no extra scaling), set scale_to_use = 1.0\n",
    "# - If you want to show the *drive* that enters H, use your platform's noise_strength (recommended)\n",
    "scale_to_use = globals().get(\"noise_strength\", default_strength)  # use existing noise_strength if defined\n",
    "\n",
    "# Generate R_total realizations on your simulation grid\n",
    "t_grid = np.asarray(t_list, dtype=float)\n",
    "xis = generate_1f_noise_coeffs(\n",
    "    t_grid=t_grid,\n",
    "    n_qubits=3,\n",
    "    n_realizations=R_total,\n",
    "    S0=S0,\n",
    "    fmin=fmin,\n",
    "    seed=123,\n",
    "    normalize=False\n",
    ")  # shape: (R_total, 3, N)\n",
    "\n",
    "# Convert to the plotted amplitude:\n",
    "#   raw dimensionless x_q(t)  →  angular drive via scale_to_use  →  MHz via params['to_freq_units']\n",
    "xi_drive_MHz = scale_to_use * xis[:, which_qubit, :] * params[\"to_freq_units\"]  # shape: (R_total, N)\n",
    "\n",
    "# Stats across realizations\n",
    "mean_trace = np.mean(xi_drive_MHz, axis=0)\n",
    "std_trace  = np.std(xi_drive_MHz,  axis=0)\n",
    "\n",
    "t_plot = t_grid * params[\"to_time_units\"]\n",
    "time_label = params[\"time_unit_label\"]\n",
    "\n",
    "# --- Plot ---\n",
    "fig = go.Figure()\n",
    "\n",
    "# light sample traces\n",
    "idx_show = np.linspace(0, R_total-1, num=min(R_show, R_total), dtype=int)\n",
    "for r in idx_show:\n",
    "    fig.add_trace(go.Scatter(\n",
    "        x=t_plot, y=xi_drive_MHz[r],\n",
    "        mode='lines',\n",
    "        line=dict(color='rgba(0,120,255,0.20)', width=1),\n",
    "        showlegend=False\n",
    "    ))\n",
    "\n",
    "# mean trace (bold)\n",
    "fig.add_trace(go.Scatter(\n",
    "    x=t_plot, y=mean_trace,\n",
    "    mode='lines',\n",
    "    line=dict(color='rgba(0,76,153,1.0)', width=3),\n",
    "    name='mean noise drive'\n",
    "))\n",
    "\n",
    "# ±1σ band\n",
    "fig.add_trace(go.Scatter(\n",
    "    x=np.concatenate([t_plot, t_plot[::-1]]),\n",
    "    y=np.concatenate([mean_trace-std_trace, (mean_trace+std_trace)[::-1]]),\n",
    "    fill='toself', fillcolor='rgba(0,120,255,0.15)',\n",
    "    line=dict(color='rgba(0,0,0,0)'),\n",
    "    name='±1σ over realizations'\n",
    "))\n",
    "\n",
    "fig.update_layout(\n",
    "    title=(f\"1/f noise realizations (qubit q{which_qubit}) — {PLATFORM.upper()}  \"\n",
    "           f\"(S0={S0:.1e}, f_min≈{(fmin/1e6 if PLATFORM.lower()=='ibm' else fmin):.3g} MHz, \"\n",
    "           f\"scale≈{(scale_to_use*params['to_freq_units']):.3g} MHz)\"),\n",
    "    xaxis_title=time_label,\n",
    "    yaxis_title=\"Noise drive amplitude [MHz]\",\n",
    "    template=\"plotly_white\",\n",
    "    legend=dict(title=\"\")\n",
    ")\n",
    "fig.show()\n",
    "\n",
    "# Quick numeric summary\n",
    "rms_over_time_per_real = np.sqrt(np.mean(xi_drive_MHz**2, axis=1))\n",
    "print(f\"R_total = {R_total}, qubit = q{which_qubit}\")\n",
    "print(f\"Mean RMS over realizations (drive, MHz): {np.mean(rms_over_time_per_real):.3g} \"\n",
    "      f\"± {np.std(rms_over_time_per_real):.3g} MHz\")\n"
   ]
  },
  {
   "cell_type": "code",
   "execution_count": null,
   "id": "37bb4e81",
   "metadata": {},
   "outputs": [
    {
     "data": {
      "application/vnd.plotly.v1+json": {
       "config": {
        "plotlyServerURL": "https://plot.ly"
       },
       "data": [
        {
         "mode": "lines",
         "name": "q0 noise drive",
         "type": "scatter",
         "x": {
          "bdata": "AAAAAAAAAAB7FK5H4XqkP3sUrkfherQ/uR6F61G4vj97FK5H4XrEP5mZmZmZmck/uR6F61G4zj/sUbgehevRP3sUrkfhetQ/CtejcD0K1z+ZmZmZmZnZPylcj8L1KNw/uR6F61G43j+kcD0K16PgP+xRuB6F6+E/MzMzMzMz4z97FK5H4XrkP8P1KFyPwuU/CtejcD0K5z9SuB6F61HoP5mZmZmZmek/4XoUrkfh6j8pXI/C9SjsP3A9CtejcO0/uR6F61G47j8AAAAAAADwP6RwPQrXo/A/SOF6FK5H8T/sUbgehevxP5DC9Shcj/I/MzMzMzMz8z/Xo3A9CtfzP3sUrkfhevQ/H4XrUbge9T/D9Shcj8L1P2ZmZmZmZvY/CtejcD0K9z+uR+F6FK73P1K4HoXrUfg/9ihcj8L1+D+ZmZmZmZn5Pz0K16NwPfo/4XoUrkfh+j+F61G4HoX7Pylcj8L1KPw/zczMzMzM/D9wPQrXo3D9PxSuR+F6FP4/uR6F61G4/j9cj8L1KFz/PwAAAAAAAABA",
          "dtype": "f8"
         },
         "y": {
          "bdata": "l1BdpYxjQz1nQ5LwV0O8vBK0MHMf9D894XXKmpbyPz2vXKGYS0E1PUnmvmxVUVS9R7opI/ATUr05/7cqoNs9vcuFgNv920m9wIMNZfQlIr0Cp99r7CpWvQCGXjdhaka9d6HGV10PRL3OuV/8oms6vdXWylv6rx+9dx1wW+qjOr2l+6RhlmoHPQ1iI/FR3za9WO4OolXdQr0+9R7elFZQveUQBJDgS0e9SSjEkakqQT1yFSnJCzVSPd48wcKY7Cw91mHVxEV3Pz0MMD2ZAwZWPVQ2pdSBqgS9hOjrdGMYLb23yQJ2UwsyveIROjfY3EY9Ot4mYABFRj1PBXu5LcNBPbLGVq1H31E9ANDoID1kQr2mlbqC7u4jPXss2PxPP5w8c9dKGvm7QL2zctVWIDcWPRaDjNkxYzA96Z0344NbOj3xrLZN14o8PVcsROyoDz49J8zCt8seF71eoxx8UdA/vYEioIs1M0Q90Cm8ZZBtMj2Ak2fFRZEwPb1gsKhCfQ49gBrLBC+bJL1yu6ljiPg1PZNQIP/mazU9",
          "dtype": "f8"
         }
        },
        {
         "mode": "lines",
         "name": "q1 noise drive",
         "type": "scatter",
         "x": {
          "bdata": "AAAAAAAAAAB7FK5H4XqkP3sUrkfherQ/uR6F61G4vj97FK5H4XrEP5mZmZmZmck/uR6F61G4zj/sUbgehevRP3sUrkfhetQ/CtejcD0K1z+ZmZmZmZnZPylcj8L1KNw/uR6F61G43j+kcD0K16PgP+xRuB6F6+E/MzMzMzMz4z97FK5H4XrkP8P1KFyPwuU/CtejcD0K5z9SuB6F61HoP5mZmZmZmek/4XoUrkfh6j8pXI/C9SjsP3A9CtejcO0/uR6F61G47j8AAAAAAADwP6RwPQrXo/A/SOF6FK5H8T/sUbgehevxP5DC9Shcj/I/MzMzMzMz8z/Xo3A9CtfzP3sUrkfhevQ/H4XrUbge9T/D9Shcj8L1P2ZmZmZmZvY/CtejcD0K9z+uR+F6FK73P1K4HoXrUfg/9ihcj8L1+D+ZmZmZmZn5Pz0K16NwPfo/4XoUrkfh+j+F61G4HoX7Pylcj8L1KPw/zczMzMzM/D9wPQrXo3D9PxSuR+F6FP4/uR6F61G4/j9cj8L1KFz/PwAAAAAAAABA",
          "dtype": "f8"
         },
         "y": {
          "bdata": "Fm79h5PpOr0hUEH5WR9Lvdj/FWmDc+m8Mw4hgskLGT2mwBtBPcgrvRaMrzgbxy29O+aBoixdET0BFQY9xT1UPd6B0POZ+U09wFFzgRedTD2BQ6KxziE/PatOxsaQgzY9AeW4xAfdRT24yVj2PTTePA2ABowtiCg9Wjg12i4BSz3DdZFQsHkjPYW03FI0mTa9jXcURvwdSb1bzwd7U9Q4PYjFdPb2hzC9XMh4PfwACb2qwbBoeckQPWUzmQfknSK9vB7bFLNHKT1WtvjvqHMmPYWpBvET9Du9CTJa100ZML2K5S9MWCNBPbLe/RV55jK9SH3h7I42Qr2aM4ix3DUevW7ICkV1Xyi9a3HbG6jZMD21CQBAYi8fvYn/cHHFxUs9QJ1SkeqKJD2t0CXnn3wjPXJ74MzA8ke9K/OuIwDwRb06KeeWurxMvUndDIZYl0O90WV0SANTUL11GlJELkrxvMmqlxXgxTk9plnTTSJXC71pSfzOQRRPPTKwepDpegK961If6a332bzZq/EuB4khvZQOBBb1ekS9",
          "dtype": "f8"
         }
        },
        {
         "mode": "lines",
         "name": "q2 noise drive",
         "type": "scatter",
         "x": {
          "bdata": "AAAAAAAAAAB7FK5H4XqkP3sUrkfherQ/uR6F61G4vj97FK5H4XrEP5mZmZmZmck/uR6F61G4zj/sUbgehevRP3sUrkfhetQ/CtejcD0K1z+ZmZmZmZnZPylcj8L1KNw/uR6F61G43j+kcD0K16PgP+xRuB6F6+E/MzMzMzMz4z97FK5H4XrkP8P1KFyPwuU/CtejcD0K5z9SuB6F61HoP5mZmZmZmek/4XoUrkfh6j8pXI/C9SjsP3A9CtejcO0/uR6F61G47j8AAAAAAADwP6RwPQrXo/A/SOF6FK5H8T/sUbgehevxP5DC9Shcj/I/MzMzMzMz8z/Xo3A9CtfzP3sUrkfhevQ/H4XrUbge9T/D9Shcj8L1P2ZmZmZmZvY/CtejcD0K9z+uR+F6FK73P1K4HoXrUfg/9ihcj8L1+D+ZmZmZmZn5Pz0K16NwPfo/4XoUrkfh+j+F61G4HoX7Pylcj8L1KPw/zczMzMzM/D9wPQrXo3D9PxSuR+F6FP4/uR6F61G4/j9cj8L1KFz/PwAAAAAAAABA",
          "dtype": "f8"
         },
         "y": {
          "bdata": "BjScXK6hRz1siM54Q1MZvXLeDwHzCkA9NfoH+NxcMD0j4Or4mP9FvRXx9QeTvUe9sILrWJgLUb3ZpS1eYRBTvbRdVCFxJUO91WduoVf7Jr1Udvgsr8ArvT9daAhlfvc8ZGIxhyIEOr10s/ui3+ArPSkA0EdCOiM9hhPTcD73Kr2clhAWPhVOveaZfbLQUTI9qjWnuS5LOb0MqfHbKoPRPBPQKbH3Bj69DE/bxALuUr3t4/wxkzJYvfhiAtE1pFG9zJd3VYrcRL3iNGRgX8pCvfvTLe7zPP+8NpzjftbWKL2HjmT47+oLvcNgKy4PpAi9dzLWbu4UQT3Vb2AaunpMPf31ItgaYVs9VNB1O3PLVD3JoIgY26hEPWjLHTdfFzM9Dmol+ky0RT087HNSN4tFPZuGDVVTWwG9oyi86VAoQL2UVHaNMQQ1PQHaA02aKEg9Cwgqp/2EST3jU2I+Y00rPfNz/KJzAzO92E+NuO0VTL26pqsMOWNOvXNoR/hp0EU9a23RfdbkTz3cX0PbVPRXPVVyuTtQ1lA9",
          "dtype": "f8"
         }
        }
       ],
       "layout": {
        "legend": {
         "title": {
          "text": ""
         }
        },
        "template": {
         "data": {
          "bar": [
           {
            "error_x": {
             "color": "#2a3f5f"
            },
            "error_y": {
             "color": "#2a3f5f"
            },
            "marker": {
             "line": {
              "color": "white",
              "width": 0.5
             },
             "pattern": {
              "fillmode": "overlay",
              "size": 10,
              "solidity": 0.2
             }
            },
            "type": "bar"
           }
          ],
          "barpolar": [
           {
            "marker": {
             "line": {
              "color": "white",
              "width": 0.5
             },
             "pattern": {
              "fillmode": "overlay",
              "size": 10,
              "solidity": 0.2
             }
            },
            "type": "barpolar"
           }
          ],
          "carpet": [
           {
            "aaxis": {
             "endlinecolor": "#2a3f5f",
             "gridcolor": "#C8D4E3",
             "linecolor": "#C8D4E3",
             "minorgridcolor": "#C8D4E3",
             "startlinecolor": "#2a3f5f"
            },
            "baxis": {
             "endlinecolor": "#2a3f5f",
             "gridcolor": "#C8D4E3",
             "linecolor": "#C8D4E3",
             "minorgridcolor": "#C8D4E3",
             "startlinecolor": "#2a3f5f"
            },
            "type": "carpet"
           }
          ],
          "choropleth": [
           {
            "colorbar": {
             "outlinewidth": 0,
             "ticks": ""
            },
            "type": "choropleth"
           }
          ],
          "contour": [
           {
            "colorbar": {
             "outlinewidth": 0,
             "ticks": ""
            },
            "colorscale": [
             [
              0,
              "#0d0887"
             ],
             [
              0.1111111111111111,
              "#46039f"
             ],
             [
              0.2222222222222222,
              "#7201a8"
             ],
             [
              0.3333333333333333,
              "#9c179e"
             ],
             [
              0.4444444444444444,
              "#bd3786"
             ],
             [
              0.5555555555555556,
              "#d8576b"
             ],
             [
              0.6666666666666666,
              "#ed7953"
             ],
             [
              0.7777777777777778,
              "#fb9f3a"
             ],
             [
              0.8888888888888888,
              "#fdca26"
             ],
             [
              1,
              "#f0f921"
             ]
            ],
            "type": "contour"
           }
          ],
          "contourcarpet": [
           {
            "colorbar": {
             "outlinewidth": 0,
             "ticks": ""
            },
            "type": "contourcarpet"
           }
          ],
          "heatmap": [
           {
            "colorbar": {
             "outlinewidth": 0,
             "ticks": ""
            },
            "colorscale": [
             [
              0,
              "#0d0887"
             ],
             [
              0.1111111111111111,
              "#46039f"
             ],
             [
              0.2222222222222222,
              "#7201a8"
             ],
             [
              0.3333333333333333,
              "#9c179e"
             ],
             [
              0.4444444444444444,
              "#bd3786"
             ],
             [
              0.5555555555555556,
              "#d8576b"
             ],
             [
              0.6666666666666666,
              "#ed7953"
             ],
             [
              0.7777777777777778,
              "#fb9f3a"
             ],
             [
              0.8888888888888888,
              "#fdca26"
             ],
             [
              1,
              "#f0f921"
             ]
            ],
            "type": "heatmap"
           }
          ],
          "histogram": [
           {
            "marker": {
             "pattern": {
              "fillmode": "overlay",
              "size": 10,
              "solidity": 0.2
             }
            },
            "type": "histogram"
           }
          ],
          "histogram2d": [
           {
            "colorbar": {
             "outlinewidth": 0,
             "ticks": ""
            },
            "colorscale": [
             [
              0,
              "#0d0887"
             ],
             [
              0.1111111111111111,
              "#46039f"
             ],
             [
              0.2222222222222222,
              "#7201a8"
             ],
             [
              0.3333333333333333,
              "#9c179e"
             ],
             [
              0.4444444444444444,
              "#bd3786"
             ],
             [
              0.5555555555555556,
              "#d8576b"
             ],
             [
              0.6666666666666666,
              "#ed7953"
             ],
             [
              0.7777777777777778,
              "#fb9f3a"
             ],
             [
              0.8888888888888888,
              "#fdca26"
             ],
             [
              1,
              "#f0f921"
             ]
            ],
            "type": "histogram2d"
           }
          ],
          "histogram2dcontour": [
           {
            "colorbar": {
             "outlinewidth": 0,
             "ticks": ""
            },
            "colorscale": [
             [
              0,
              "#0d0887"
             ],
             [
              0.1111111111111111,
              "#46039f"
             ],
             [
              0.2222222222222222,
              "#7201a8"
             ],
             [
              0.3333333333333333,
              "#9c179e"
             ],
             [
              0.4444444444444444,
              "#bd3786"
             ],
             [
              0.5555555555555556,
              "#d8576b"
             ],
             [
              0.6666666666666666,
              "#ed7953"
             ],
             [
              0.7777777777777778,
              "#fb9f3a"
             ],
             [
              0.8888888888888888,
              "#fdca26"
             ],
             [
              1,
              "#f0f921"
             ]
            ],
            "type": "histogram2dcontour"
           }
          ],
          "mesh3d": [
           {
            "colorbar": {
             "outlinewidth": 0,
             "ticks": ""
            },
            "type": "mesh3d"
           }
          ],
          "parcoords": [
           {
            "line": {
             "colorbar": {
              "outlinewidth": 0,
              "ticks": ""
             }
            },
            "type": "parcoords"
           }
          ],
          "pie": [
           {
            "automargin": true,
            "type": "pie"
           }
          ],
          "scatter": [
           {
            "fillpattern": {
             "fillmode": "overlay",
             "size": 10,
             "solidity": 0.2
            },
            "type": "scatter"
           }
          ],
          "scatter3d": [
           {
            "line": {
             "colorbar": {
              "outlinewidth": 0,
              "ticks": ""
             }
            },
            "marker": {
             "colorbar": {
              "outlinewidth": 0,
              "ticks": ""
             }
            },
            "type": "scatter3d"
           }
          ],
          "scattercarpet": [
           {
            "marker": {
             "colorbar": {
              "outlinewidth": 0,
              "ticks": ""
             }
            },
            "type": "scattercarpet"
           }
          ],
          "scattergeo": [
           {
            "marker": {
             "colorbar": {
              "outlinewidth": 0,
              "ticks": ""
             }
            },
            "type": "scattergeo"
           }
          ],
          "scattergl": [
           {
            "marker": {
             "colorbar": {
              "outlinewidth": 0,
              "ticks": ""
             }
            },
            "type": "scattergl"
           }
          ],
          "scattermap": [
           {
            "marker": {
             "colorbar": {
              "outlinewidth": 0,
              "ticks": ""
             }
            },
            "type": "scattermap"
           }
          ],
          "scattermapbox": [
           {
            "marker": {
             "colorbar": {
              "outlinewidth": 0,
              "ticks": ""
             }
            },
            "type": "scattermapbox"
           }
          ],
          "scatterpolar": [
           {
            "marker": {
             "colorbar": {
              "outlinewidth": 0,
              "ticks": ""
             }
            },
            "type": "scatterpolar"
           }
          ],
          "scatterpolargl": [
           {
            "marker": {
             "colorbar": {
              "outlinewidth": 0,
              "ticks": ""
             }
            },
            "type": "scatterpolargl"
           }
          ],
          "scatterternary": [
           {
            "marker": {
             "colorbar": {
              "outlinewidth": 0,
              "ticks": ""
             }
            },
            "type": "scatterternary"
           }
          ],
          "surface": [
           {
            "colorbar": {
             "outlinewidth": 0,
             "ticks": ""
            },
            "colorscale": [
             [
              0,
              "#0d0887"
             ],
             [
              0.1111111111111111,
              "#46039f"
             ],
             [
              0.2222222222222222,
              "#7201a8"
             ],
             [
              0.3333333333333333,
              "#9c179e"
             ],
             [
              0.4444444444444444,
              "#bd3786"
             ],
             [
              0.5555555555555556,
              "#d8576b"
             ],
             [
              0.6666666666666666,
              "#ed7953"
             ],
             [
              0.7777777777777778,
              "#fb9f3a"
             ],
             [
              0.8888888888888888,
              "#fdca26"
             ],
             [
              1,
              "#f0f921"
             ]
            ],
            "type": "surface"
           }
          ],
          "table": [
           {
            "cells": {
             "fill": {
              "color": "#EBF0F8"
             },
             "line": {
              "color": "white"
             }
            },
            "header": {
             "fill": {
              "color": "#C8D4E3"
             },
             "line": {
              "color": "white"
             }
            },
            "type": "table"
           }
          ]
         },
         "layout": {
          "annotationdefaults": {
           "arrowcolor": "#2a3f5f",
           "arrowhead": 0,
           "arrowwidth": 1
          },
          "autotypenumbers": "strict",
          "coloraxis": {
           "colorbar": {
            "outlinewidth": 0,
            "ticks": ""
           }
          },
          "colorscale": {
           "diverging": [
            [
             0,
             "#8e0152"
            ],
            [
             0.1,
             "#c51b7d"
            ],
            [
             0.2,
             "#de77ae"
            ],
            [
             0.3,
             "#f1b6da"
            ],
            [
             0.4,
             "#fde0ef"
            ],
            [
             0.5,
             "#f7f7f7"
            ],
            [
             0.6,
             "#e6f5d0"
            ],
            [
             0.7,
             "#b8e186"
            ],
            [
             0.8,
             "#7fbc41"
            ],
            [
             0.9,
             "#4d9221"
            ],
            [
             1,
             "#276419"
            ]
           ],
           "sequential": [
            [
             0,
             "#0d0887"
            ],
            [
             0.1111111111111111,
             "#46039f"
            ],
            [
             0.2222222222222222,
             "#7201a8"
            ],
            [
             0.3333333333333333,
             "#9c179e"
            ],
            [
             0.4444444444444444,
             "#bd3786"
            ],
            [
             0.5555555555555556,
             "#d8576b"
            ],
            [
             0.6666666666666666,
             "#ed7953"
            ],
            [
             0.7777777777777778,
             "#fb9f3a"
            ],
            [
             0.8888888888888888,
             "#fdca26"
            ],
            [
             1,
             "#f0f921"
            ]
           ],
           "sequentialminus": [
            [
             0,
             "#0d0887"
            ],
            [
             0.1111111111111111,
             "#46039f"
            ],
            [
             0.2222222222222222,
             "#7201a8"
            ],
            [
             0.3333333333333333,
             "#9c179e"
            ],
            [
             0.4444444444444444,
             "#bd3786"
            ],
            [
             0.5555555555555556,
             "#d8576b"
            ],
            [
             0.6666666666666666,
             "#ed7953"
            ],
            [
             0.7777777777777778,
             "#fb9f3a"
            ],
            [
             0.8888888888888888,
             "#fdca26"
            ],
            [
             1,
             "#f0f921"
            ]
           ]
          },
          "colorway": [
           "#636efa",
           "#EF553B",
           "#00cc96",
           "#ab63fa",
           "#FFA15A",
           "#19d3f3",
           "#FF6692",
           "#B6E880",
           "#FF97FF",
           "#FECB52"
          ],
          "font": {
           "color": "#2a3f5f"
          },
          "geo": {
           "bgcolor": "white",
           "lakecolor": "white",
           "landcolor": "white",
           "showlakes": true,
           "showland": true,
           "subunitcolor": "#C8D4E3"
          },
          "hoverlabel": {
           "align": "left"
          },
          "hovermode": "closest",
          "mapbox": {
           "style": "light"
          },
          "paper_bgcolor": "white",
          "plot_bgcolor": "white",
          "polar": {
           "angularaxis": {
            "gridcolor": "#EBF0F8",
            "linecolor": "#EBF0F8",
            "ticks": ""
           },
           "bgcolor": "white",
           "radialaxis": {
            "gridcolor": "#EBF0F8",
            "linecolor": "#EBF0F8",
            "ticks": ""
           }
          },
          "scene": {
           "xaxis": {
            "backgroundcolor": "white",
            "gridcolor": "#DFE8F3",
            "gridwidth": 2,
            "linecolor": "#EBF0F8",
            "showbackground": true,
            "ticks": "",
            "zerolinecolor": "#EBF0F8"
           },
           "yaxis": {
            "backgroundcolor": "white",
            "gridcolor": "#DFE8F3",
            "gridwidth": 2,
            "linecolor": "#EBF0F8",
            "showbackground": true,
            "ticks": "",
            "zerolinecolor": "#EBF0F8"
           },
           "zaxis": {
            "backgroundcolor": "white",
            "gridcolor": "#DFE8F3",
            "gridwidth": 2,
            "linecolor": "#EBF0F8",
            "showbackground": true,
            "ticks": "",
            "zerolinecolor": "#EBF0F8"
           }
          },
          "shapedefaults": {
           "line": {
            "color": "#2a3f5f"
           }
          },
          "ternary": {
           "aaxis": {
            "gridcolor": "#DFE8F3",
            "linecolor": "#A2B1C6",
            "ticks": ""
           },
           "baxis": {
            "gridcolor": "#DFE8F3",
            "linecolor": "#A2B1C6",
            "ticks": ""
           },
           "bgcolor": "white",
           "caxis": {
            "gridcolor": "#DFE8F3",
            "linecolor": "#A2B1C6",
            "ticks": ""
           }
          },
          "title": {
           "x": 0.05
          },
          "xaxis": {
           "automargin": true,
           "gridcolor": "#EBF0F8",
           "linecolor": "#EBF0F8",
           "ticks": "",
           "title": {
            "standoff": 15
           },
           "zerolinecolor": "#EBF0F8",
           "zerolinewidth": 2
          },
          "yaxis": {
           "automargin": true,
           "gridcolor": "#EBF0F8",
           "linecolor": "#EBF0F8",
           "ticks": "",
           "title": {
            "standoff": 15
           },
           "zerolinecolor": "#EBF0F8",
           "zerolinewidth": 2
          }
         }
        },
        "title": {
         "text": "Stochastic 1/f noise drive per qubit — IBM (S0=1.0e-03, f_min≈0.05 MHz, noise_strength≈1.59e-07 MHz)"
        },
        "xaxis": {
         "title": {
          "text": "time [µs]"
         }
        },
        "yaxis": {
         "title": {
          "text": "Noise drive amplitude [MHz]"
         }
        }
       }
      }
     },
     "metadata": {},
     "output_type": "display_data"
    },
    {
     "name": "stdout",
     "output_type": "stream",
     "text": [
      "[ibm] S0=1.00e-03, fmin (native)=5e+04, noise_strength=1 (angular)\n",
      "Per-qubit RMS (dimensionless x): ['8.67e-07', '7.38e-07', '1.05e-06']\n",
      "Per-qubit RMS drive [MHz]:      ['1.38e-13', '1.18e-13', '1.67e-13']\n",
      "Effective RMS / ω_max ≈ 0.00%\n"
     ]
    }
   ],
   "source": [
    "# ==== Plot 1/f noise drive vs time (platform-aware units) ====\n",
    "import numpy as np\n",
    "import plotly.graph_objects as go\n",
    "from scipy.interpolate import interp1d\n",
    "\n",
    "# Get platform defaults (S0, fmin, noise_strength) and generate one realization\n",
    "S0, fmin, noise_strength = platform_noise_defaults(PLATFORM, params[\"T_max\"], omega_max)\n",
    "xis = generate_1f_noise_coeffs(\n",
    "    t_grid=np.asarray(t_list, dtype=float),\n",
    "    n_qubits=3,\n",
    "    n_realizations=1000,\n",
    "    S0=S0,\n",
    "    fmin=fmin,\n",
    "    seed=123,          # change for a new random draw\n",
    "    normalize=False\n",
    ")[0]  # shape: (3, N)\n",
    "\n",
    "# Evaluate noise on the simulation grid\n",
    "xi_raw = np.array([xis[q] for q in range(3)], dtype=float)                # dimensionless\n",
    "xi_drive_ang = noise_strength * xi_raw                                     # angular units (rad/s or rad/µs)\n",
    "xi_drive_MHz = xi_drive_ang * params[\"to_freq_units\"]                      # convert to MHz for plotting\n",
    "\n",
    "# Time axis in nice units\n",
    "t_plot = np.asarray(t_list) * params[\"to_time_units\"]\n",
    "\n",
    "# Plot: per-qubit noise drive amplitude in MHz\n",
    "fig = go.Figure()\n",
    "for q in range(3):\n",
    "    fig.add_trace(go.Scatter(\n",
    "        x=t_plot, y=xi_drive_MHz[q], mode='lines', name=f\"q{q} noise drive\"\n",
    "    ))\n",
    "fig.update_layout(\n",
    "    title=(f\"Stochastic 1/f noise drive per qubit — {PLATFORM.upper()} \"\n",
    "           f\"(S0={S0:.1e}, f_min≈{(fmin/1e6 if PLATFORM.lower()=='ibm' else fmin):.3g} MHz, \"\n",
    "           f\"noise_strength≈{(noise_strength*params['to_freq_units']):.3g} MHz)\"),\n",
    "    xaxis_title=params[\"time_unit_label\"],\n",
    "    yaxis_title=\"Noise drive amplitude [MHz]\",\n",
    "    template=\"plotly_white\",\n",
    "    legend=dict(title=\"\")\n",
    ")\n",
    "fig.show()\n",
    "\n",
    "# Quick numeric summary\n",
    "rms_dimless = np.sqrt(np.mean(xi_raw**2, axis=1))\n",
    "rms_drive_MHz = np.sqrt(np.mean(xi_drive_MHz**2, axis=1))\n",
    "eff_rms_ang = np.sqrt(np.mean((noise_strength*xi_raw)**2))  # angular units\n",
    "print(f\"[{PLATFORM}] S0={S0:.2e}, fmin (native)={fmin:.3g}, \"\n",
    "      f\"noise_strength={noise_strength:.3g} (angular)\")\n",
    "print(\"Per-qubit RMS (dimensionless x):\", [f\"{v:.3g}\" for v in rms_dimless])\n",
    "print(\"Per-qubit RMS drive [MHz]:     \", [f\"{v:.3g}\" for v in rms_drive_MHz])\n",
    "print(f\"Effective RMS / ω_max ≈ {100*eff_rms_ang/omega_max:.2f}%\")\n"
   ]
  }
 ],
 "metadata": {
  "kernelspec": {
   "display_name": "base",
   "language": "python",
   "name": "python3"
  },
  "language_info": {
   "codemirror_mode": {
    "name": "ipython",
    "version": 3
   },
   "file_extension": ".py",
   "mimetype": "text/x-python",
   "name": "python",
   "nbconvert_exporter": "python",
   "pygments_lexer": "ipython3",
   "version": "3.12.2"
  }
 },
 "nbformat": 4,
 "nbformat_minor": 5
}
