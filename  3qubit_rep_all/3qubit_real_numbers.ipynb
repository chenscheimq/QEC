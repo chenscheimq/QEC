{
 "cells": [
  {
   "cell_type": "code",
   "execution_count": 1,
   "id": "3ad0a448",
   "metadata": {},
   "outputs": [
    {
     "data": {
      "application/vnd.plotly.v1+json": {
       "config": {
        "plotlyServerURL": "https://plot.ly"
       },
       "data": [
        {
         "mode": "lines",
         "name": "Ω(t)",
         "type": "scatter",
         "x": {
          "bdata": "AAAAAAAAAADb+X5qvHSTP9v5fmq8dKM/yHa+nxovrT/b+X5qvHSzP1K4HoXrUbg/yHa+nxovvT+gGi/dJAbBP9v5fmq8dMM/FtnO91PjxT9SuB6F61HIP42XbhKDwMo/yHa+nxovzT8EVg4tsp3PP6AaL90kBtE/PQrXo3A90j/b+X5qvHTTP3npJjEIrNQ/FtnO91Pj1T+0yHa+nxrXP1K4HoXrUdg/76fGSzeJ2T+Nl24Sg8DaPyuHFtnO99s/yHa+nxov3T9mZmZmZmbePwRWDi2ynd8/0SLb+X5q4D+gGi/dJAbhP24Sg8DKoeE/PQrXo3A94j8MAiuHFtniP9v5fmq8dOM/qvHSTWIQ5D956SYxCKzkP0jhehSuR+U/FtnO91Pj5T/l0CLb+X7mP7TIdr6fGuc/g8DKoUW25z9SuB6F61HoPyGwcmiR7eg/76fGSzeJ6T++nxov3STqP42XbhKDwOo/XI/C9Shc6z8rhxbZzvfrP/p+arx0k+w/yHa+nxov7T+XbhKDwMrtP2ZmZmZmZu4/NV66SQwC7z8EVg4tsp3vP+kmMQisHPA/0SLb+X5q8D+4HoXrUbjwP6AaL90kBvE/hxbZzvdT8T9uEoPAyqHxP1YOLbKd7/E/PQrXo3A98j8lBoGVQ4vyPwwCK4cW2fI/9P3UeOkm8z/b+X5qvHTzP8L1KFyPwvM/qvHSTWIQ9D+R7Xw/NV70P3npJjEIrPQ/YOXQItv59D9I4XoUrkf1Py/dJAaBlfU/FtnO91Pj9T/+1HjpJjH2P+XQItv5fvY/zczMzMzM9j+0yHa+nxr3P5vEILByaPc/g8DKoUW29z9qvHSTGAT4P1K4HoXrUfg/ObTIdr6f+D8hsHJoke34PwisHFpkO/k/76fGSzeJ+T/Xo3A9Ctf5P76fGi/dJPo/ppvEILBy+j+Nl24Sg8D6P3WTGARWDvs/XI/C9Shc+z9Di2zn+6n7PyuHFtnO9/s/EoPAyqFF/D/6fmq8dJP8P+F6FK5H4fw/yHa+nxov/T+wcmiR7Xz9P5duEoPAyv0/f2q8dJMY/j9mZmZmZmb+Pw==",
          "dtype": "f8"
         },
         "y": {
          "bdata": "AAAAAAAAAADYw7SjhZipP5w+2+tJlbk/FlWjM+0rwz9Ri7N/XYjJPx4+BnFa3s8/Nk7bHyUW0z9iCE2WSjjWP7TdIfTSVNk/tCu1/PRq3D/cVUsR6XnfPxA2wLF0QOE/t8CgE5m/4j80CSLiADrkP01+d4NMr+U/oFVUqB0f5z+cIr9jF4noPwXpi0Le7Ok/vrx2YhhK6z9tGNmIbaDsP28u9DiH7+0/SJLKyRA37z/L2sG9WzvwP3/oKUYV1/A/iXhxpo1u8T/V/xaangHyP+hhbvkikPI/9voDw/YZ8z/iVLUk957zP+E6fYQCH/Q/yfLwiPiZ9D/1dmwhug/1Pzqg640pgPU/SUSOZirr9T9eYsWioVD2PySOJ6B1sPY/CN/qKI4K9z8lwQJ61F73PzYc4Egzrfc/klzSyJb19z9cAgiw7Df4P2BzLTwkdPg/uOSoNi6q+D99SnL4/Nn4P9lUhm2EA/k/ZpvzF7om+T+SMYESlUP5P4347RIOWvk/VB3Iax9q+T/iS9wNxXP5P6Q6PIn8dvk/4kvcDcVz+T9UHchrH2r5P4347RIOWvk/kTGBEpVD+T9mm/MXuib5P9lUhm2EA/k/f0py+PzZ+D+65Kg2Lqr4P2BzLTwkdPg/XQIIsOw3+D+SXNLIlvX3PzUc4Egzrfc/JcECetRe9z8H3+oojgr3PySOJ6B1sPY/XWLFoqFQ9j9LRI5mKuv1Pzqg640pgPU/9nZsIboP9T/I8vCI+Jn0P+E6fYQCH/Q/4lS1JPee8z/3+gPD9hnzP+dhbvkikPI/0/8Wmp4B8j+IeHGmjW7xP4HoKUYV1/A/zNrBvVs78D9IksrJEDfvP3Au9DiH7+0/cRjZiG2g7D++vHZiGErrPwHpi0Le7Ok/miK/YxeJ6D+gVVSoHR/nP09+d4NMr+U/NAki4gA65D+1wKATmb/iPw82wLF0QOE/31VLEel53z+7K7X89GrcP6fdIfTSVNk/aAhNlko41j81TtsfJRbTPyU+BnFa3s8/YIuzf12IyT8YVaMz7SvDP7Q+2+tJlbk/y8O0o4WYqT9GQcOZ2xasPA==",
          "dtype": "f8"
         }
        },
        {
         "line": {
          "dash": "dash"
         },
         "mode": "lines",
         "name": "Δ(t)",
         "type": "scatter",
         "x": {
          "bdata": "AAAAAAAAAADb+X5qvHSTP9v5fmq8dKM/yHa+nxovrT/b+X5qvHSzP1K4HoXrUbg/yHa+nxovvT+gGi/dJAbBP9v5fmq8dMM/FtnO91PjxT9SuB6F61HIP42XbhKDwMo/yHa+nxovzT8EVg4tsp3PP6AaL90kBtE/PQrXo3A90j/b+X5qvHTTP3npJjEIrNQ/FtnO91Pj1T+0yHa+nxrXP1K4HoXrUdg/76fGSzeJ2T+Nl24Sg8DaPyuHFtnO99s/yHa+nxov3T9mZmZmZmbePwRWDi2ynd8/0SLb+X5q4D+gGi/dJAbhP24Sg8DKoeE/PQrXo3A94j8MAiuHFtniP9v5fmq8dOM/qvHSTWIQ5D956SYxCKzkP0jhehSuR+U/FtnO91Pj5T/l0CLb+X7mP7TIdr6fGuc/g8DKoUW25z9SuB6F61HoPyGwcmiR7eg/76fGSzeJ6T++nxov3STqP42XbhKDwOo/XI/C9Shc6z8rhxbZzvfrP/p+arx0k+w/yHa+nxov7T+XbhKDwMrtP2ZmZmZmZu4/NV66SQwC7z8EVg4tsp3vP+kmMQisHPA/0SLb+X5q8D+4HoXrUbjwP6AaL90kBvE/hxbZzvdT8T9uEoPAyqHxP1YOLbKd7/E/PQrXo3A98j8lBoGVQ4vyPwwCK4cW2fI/9P3UeOkm8z/b+X5qvHTzP8L1KFyPwvM/qvHSTWIQ9D+R7Xw/NV70P3npJjEIrPQ/YOXQItv59D9I4XoUrkf1Py/dJAaBlfU/FtnO91Pj9T/+1HjpJjH2P+XQItv5fvY/zczMzMzM9j+0yHa+nxr3P5vEILByaPc/g8DKoUW29z9qvHSTGAT4P1K4HoXrUfg/ObTIdr6f+D8hsHJoke34PwisHFpkO/k/76fGSzeJ+T/Xo3A9Ctf5P76fGi/dJPo/ppvEILBy+j+Nl24Sg8D6P3WTGARWDvs/XI/C9Shc+z9Di2zn+6n7PyuHFtnO9/s/EoPAyqFF/D/6fmq8dJP8P+F6FK5H4fw/yHa+nxov/T+wcmiR7Xz9P5duEoPAyv0/f2q8dJMY/j9mZmZmZmb+Pw==",
          "dtype": "f8"
         },
         "y": {
          "bdata": "pDo8ifx2+b/iS9wNxXP5v1QdyGsfavm/jfjtEg5a+b+SMYESlUP5v2ab8xe6Jvm/2VSGbYQD+b9/SnL4/Nn4v7jkqDYuqvi/YHMtPCR0+L9cAgiw7Df4v5Jc0siW9fe/NhzgSDOt978lwQJ61F73vwff6iiOCve/JI4noHWw9r9eYsWioVD2v0lEjmYq6/W/OqDrjSmA9b/1dmwhug/1v8ny8Ij4mfS/4jp9hAIf9L/hVLUk957zv/b6A8P2GfO/6GFu+SKQ8r/V/xaangHyv4l4caaNbvG/fugpRhXX8L/K2sG9Wzvwv0mSyskQN++/by70OIfv7b9tGNmIbaDsv7y8dmIYSuu/BOmLQt7s6b+cIr9jF4nov55VVKgdH+e/TX53g0yv5b8zCSLiADrkv7fAoBOZv+K/ETbAsXRA4b/dVUsR6Xnfv7Qrtfz0aty/sd0h9NJU2b9mCE2WSjjWvzRO2x8lFtO/Ij4GcVrez79Ei7N/XYjJvxRVozPtK8O/rT7b60mVub/ww7SjhZipv0ZBw5nbFpy81sO0o4WYqT+fPtvrSZW5Pw1VozPtK8M/V4uzf12IyT8cPgZxWt7PPz1O2x8lFtM/WwhNlko41j+v3SH00lTZP7Artfz0atw/21VLEel53z8PNsCxdEDhP7jAoBOZv+I/NQki4gA65D9NfneDTK/lP59VVKgdH+c/nSK/YxeJ6D8A6YtC3uzpP7u8dmIYSus/ahjZiG2g7D9zLvQ4h+/tP0mSyskQN+8/y9rBvVs78D9+6ClGFdfwP4p4caaNbvE/1/8Wmp4B8j/pYW75IpDyP/T6A8P2GfM/4VS1JPee8z/iOn2EAh/0P8jy8Ij4mfQ/9HZsIboP9T86oOuNKYD1P0lEjmYq6/U/XmLFoqFQ9j8kjiegdbD2PwXf6iiOCvc/JcECetRe9z82HOBIM633P5Jc0siW9fc/XAIIsOw3+D9gcy08JHT4P7rkqDYuqvg/fUpy+PzZ+D/ZVIZthAP5P2Sb8xe6Jvk/kTGBEpVD+T+N+O0SDlr5P1QdyGsfavk/4kvcDcVz+T+kOjyJ/Hb5Pw==",
          "dtype": "f8"
         }
        }
       ],
       "layout": {
        "template": {
         "data": {
          "bar": [
           {
            "error_x": {
             "color": "rgb(36,36,36)"
            },
            "error_y": {
             "color": "rgb(36,36,36)"
            },
            "marker": {
             "line": {
              "color": "white",
              "width": 0.5
             },
             "pattern": {
              "fillmode": "overlay",
              "size": 10,
              "solidity": 0.2
             }
            },
            "type": "bar"
           }
          ],
          "barpolar": [
           {
            "marker": {
             "line": {
              "color": "white",
              "width": 0.5
             },
             "pattern": {
              "fillmode": "overlay",
              "size": 10,
              "solidity": 0.2
             }
            },
            "type": "barpolar"
           }
          ],
          "carpet": [
           {
            "aaxis": {
             "endlinecolor": "rgb(36,36,36)",
             "gridcolor": "white",
             "linecolor": "white",
             "minorgridcolor": "white",
             "startlinecolor": "rgb(36,36,36)"
            },
            "baxis": {
             "endlinecolor": "rgb(36,36,36)",
             "gridcolor": "white",
             "linecolor": "white",
             "minorgridcolor": "white",
             "startlinecolor": "rgb(36,36,36)"
            },
            "type": "carpet"
           }
          ],
          "choropleth": [
           {
            "colorbar": {
             "outlinewidth": 1,
             "tickcolor": "rgb(36,36,36)",
             "ticks": "outside"
            },
            "type": "choropleth"
           }
          ],
          "contour": [
           {
            "colorbar": {
             "outlinewidth": 1,
             "tickcolor": "rgb(36,36,36)",
             "ticks": "outside"
            },
            "colorscale": [
             [
              0,
              "#440154"
             ],
             [
              0.1111111111111111,
              "#482878"
             ],
             [
              0.2222222222222222,
              "#3e4989"
             ],
             [
              0.3333333333333333,
              "#31688e"
             ],
             [
              0.4444444444444444,
              "#26828e"
             ],
             [
              0.5555555555555556,
              "#1f9e89"
             ],
             [
              0.6666666666666666,
              "#35b779"
             ],
             [
              0.7777777777777778,
              "#6ece58"
             ],
             [
              0.8888888888888888,
              "#b5de2b"
             ],
             [
              1,
              "#fde725"
             ]
            ],
            "type": "contour"
           }
          ],
          "contourcarpet": [
           {
            "colorbar": {
             "outlinewidth": 1,
             "tickcolor": "rgb(36,36,36)",
             "ticks": "outside"
            },
            "type": "contourcarpet"
           }
          ],
          "heatmap": [
           {
            "colorbar": {
             "outlinewidth": 1,
             "tickcolor": "rgb(36,36,36)",
             "ticks": "outside"
            },
            "colorscale": [
             [
              0,
              "#440154"
             ],
             [
              0.1111111111111111,
              "#482878"
             ],
             [
              0.2222222222222222,
              "#3e4989"
             ],
             [
              0.3333333333333333,
              "#31688e"
             ],
             [
              0.4444444444444444,
              "#26828e"
             ],
             [
              0.5555555555555556,
              "#1f9e89"
             ],
             [
              0.6666666666666666,
              "#35b779"
             ],
             [
              0.7777777777777778,
              "#6ece58"
             ],
             [
              0.8888888888888888,
              "#b5de2b"
             ],
             [
              1,
              "#fde725"
             ]
            ],
            "type": "heatmap"
           }
          ],
          "histogram": [
           {
            "marker": {
             "line": {
              "color": "white",
              "width": 0.6
             }
            },
            "type": "histogram"
           }
          ],
          "histogram2d": [
           {
            "colorbar": {
             "outlinewidth": 1,
             "tickcolor": "rgb(36,36,36)",
             "ticks": "outside"
            },
            "colorscale": [
             [
              0,
              "#440154"
             ],
             [
              0.1111111111111111,
              "#482878"
             ],
             [
              0.2222222222222222,
              "#3e4989"
             ],
             [
              0.3333333333333333,
              "#31688e"
             ],
             [
              0.4444444444444444,
              "#26828e"
             ],
             [
              0.5555555555555556,
              "#1f9e89"
             ],
             [
              0.6666666666666666,
              "#35b779"
             ],
             [
              0.7777777777777778,
              "#6ece58"
             ],
             [
              0.8888888888888888,
              "#b5de2b"
             ],
             [
              1,
              "#fde725"
             ]
            ],
            "type": "histogram2d"
           }
          ],
          "histogram2dcontour": [
           {
            "colorbar": {
             "outlinewidth": 1,
             "tickcolor": "rgb(36,36,36)",
             "ticks": "outside"
            },
            "colorscale": [
             [
              0,
              "#440154"
             ],
             [
              0.1111111111111111,
              "#482878"
             ],
             [
              0.2222222222222222,
              "#3e4989"
             ],
             [
              0.3333333333333333,
              "#31688e"
             ],
             [
              0.4444444444444444,
              "#26828e"
             ],
             [
              0.5555555555555556,
              "#1f9e89"
             ],
             [
              0.6666666666666666,
              "#35b779"
             ],
             [
              0.7777777777777778,
              "#6ece58"
             ],
             [
              0.8888888888888888,
              "#b5de2b"
             ],
             [
              1,
              "#fde725"
             ]
            ],
            "type": "histogram2dcontour"
           }
          ],
          "mesh3d": [
           {
            "colorbar": {
             "outlinewidth": 1,
             "tickcolor": "rgb(36,36,36)",
             "ticks": "outside"
            },
            "type": "mesh3d"
           }
          ],
          "parcoords": [
           {
            "line": {
             "colorbar": {
              "outlinewidth": 1,
              "tickcolor": "rgb(36,36,36)",
              "ticks": "outside"
             }
            },
            "type": "parcoords"
           }
          ],
          "pie": [
           {
            "automargin": true,
            "type": "pie"
           }
          ],
          "scatter": [
           {
            "fillpattern": {
             "fillmode": "overlay",
             "size": 10,
             "solidity": 0.2
            },
            "type": "scatter"
           }
          ],
          "scatter3d": [
           {
            "line": {
             "colorbar": {
              "outlinewidth": 1,
              "tickcolor": "rgb(36,36,36)",
              "ticks": "outside"
             }
            },
            "marker": {
             "colorbar": {
              "outlinewidth": 1,
              "tickcolor": "rgb(36,36,36)",
              "ticks": "outside"
             }
            },
            "type": "scatter3d"
           }
          ],
          "scattercarpet": [
           {
            "marker": {
             "colorbar": {
              "outlinewidth": 1,
              "tickcolor": "rgb(36,36,36)",
              "ticks": "outside"
             }
            },
            "type": "scattercarpet"
           }
          ],
          "scattergeo": [
           {
            "marker": {
             "colorbar": {
              "outlinewidth": 1,
              "tickcolor": "rgb(36,36,36)",
              "ticks": "outside"
             }
            },
            "type": "scattergeo"
           }
          ],
          "scattergl": [
           {
            "marker": {
             "colorbar": {
              "outlinewidth": 1,
              "tickcolor": "rgb(36,36,36)",
              "ticks": "outside"
             }
            },
            "type": "scattergl"
           }
          ],
          "scattermap": [
           {
            "marker": {
             "colorbar": {
              "outlinewidth": 1,
              "tickcolor": "rgb(36,36,36)",
              "ticks": "outside"
             }
            },
            "type": "scattermap"
           }
          ],
          "scattermapbox": [
           {
            "marker": {
             "colorbar": {
              "outlinewidth": 1,
              "tickcolor": "rgb(36,36,36)",
              "ticks": "outside"
             }
            },
            "type": "scattermapbox"
           }
          ],
          "scatterpolar": [
           {
            "marker": {
             "colorbar": {
              "outlinewidth": 1,
              "tickcolor": "rgb(36,36,36)",
              "ticks": "outside"
             }
            },
            "type": "scatterpolar"
           }
          ],
          "scatterpolargl": [
           {
            "marker": {
             "colorbar": {
              "outlinewidth": 1,
              "tickcolor": "rgb(36,36,36)",
              "ticks": "outside"
             }
            },
            "type": "scatterpolargl"
           }
          ],
          "scatterternary": [
           {
            "marker": {
             "colorbar": {
              "outlinewidth": 1,
              "tickcolor": "rgb(36,36,36)",
              "ticks": "outside"
             }
            },
            "type": "scatterternary"
           }
          ],
          "surface": [
           {
            "colorbar": {
             "outlinewidth": 1,
             "tickcolor": "rgb(36,36,36)",
             "ticks": "outside"
            },
            "colorscale": [
             [
              0,
              "#440154"
             ],
             [
              0.1111111111111111,
              "#482878"
             ],
             [
              0.2222222222222222,
              "#3e4989"
             ],
             [
              0.3333333333333333,
              "#31688e"
             ],
             [
              0.4444444444444444,
              "#26828e"
             ],
             [
              0.5555555555555556,
              "#1f9e89"
             ],
             [
              0.6666666666666666,
              "#35b779"
             ],
             [
              0.7777777777777778,
              "#6ece58"
             ],
             [
              0.8888888888888888,
              "#b5de2b"
             ],
             [
              1,
              "#fde725"
             ]
            ],
            "type": "surface"
           }
          ],
          "table": [
           {
            "cells": {
             "fill": {
              "color": "rgb(237,237,237)"
             },
             "line": {
              "color": "white"
             }
            },
            "header": {
             "fill": {
              "color": "rgb(217,217,217)"
             },
             "line": {
              "color": "white"
             }
            },
            "type": "table"
           }
          ]
         },
         "layout": {
          "annotationdefaults": {
           "arrowhead": 0,
           "arrowwidth": 1
          },
          "autotypenumbers": "strict",
          "coloraxis": {
           "colorbar": {
            "outlinewidth": 1,
            "tickcolor": "rgb(36,36,36)",
            "ticks": "outside"
           }
          },
          "colorscale": {
           "diverging": [
            [
             0,
             "rgb(103,0,31)"
            ],
            [
             0.1,
             "rgb(178,24,43)"
            ],
            [
             0.2,
             "rgb(214,96,77)"
            ],
            [
             0.3,
             "rgb(244,165,130)"
            ],
            [
             0.4,
             "rgb(253,219,199)"
            ],
            [
             0.5,
             "rgb(247,247,247)"
            ],
            [
             0.6,
             "rgb(209,229,240)"
            ],
            [
             0.7,
             "rgb(146,197,222)"
            ],
            [
             0.8,
             "rgb(67,147,195)"
            ],
            [
             0.9,
             "rgb(33,102,172)"
            ],
            [
             1,
             "rgb(5,48,97)"
            ]
           ],
           "sequential": [
            [
             0,
             "#440154"
            ],
            [
             0.1111111111111111,
             "#482878"
            ],
            [
             0.2222222222222222,
             "#3e4989"
            ],
            [
             0.3333333333333333,
             "#31688e"
            ],
            [
             0.4444444444444444,
             "#26828e"
            ],
            [
             0.5555555555555556,
             "#1f9e89"
            ],
            [
             0.6666666666666666,
             "#35b779"
            ],
            [
             0.7777777777777778,
             "#6ece58"
            ],
            [
             0.8888888888888888,
             "#b5de2b"
            ],
            [
             1,
             "#fde725"
            ]
           ],
           "sequentialminus": [
            [
             0,
             "#440154"
            ],
            [
             0.1111111111111111,
             "#482878"
            ],
            [
             0.2222222222222222,
             "#3e4989"
            ],
            [
             0.3333333333333333,
             "#31688e"
            ],
            [
             0.4444444444444444,
             "#26828e"
            ],
            [
             0.5555555555555556,
             "#1f9e89"
            ],
            [
             0.6666666666666666,
             "#35b779"
            ],
            [
             0.7777777777777778,
             "#6ece58"
            ],
            [
             0.8888888888888888,
             "#b5de2b"
            ],
            [
             1,
             "#fde725"
            ]
           ]
          },
          "colorway": [
           "#1F77B4",
           "#FF7F0E",
           "#2CA02C",
           "#D62728",
           "#9467BD",
           "#8C564B",
           "#E377C2",
           "#7F7F7F",
           "#BCBD22",
           "#17BECF"
          ],
          "font": {
           "color": "rgb(36,36,36)"
          },
          "geo": {
           "bgcolor": "white",
           "lakecolor": "white",
           "landcolor": "white",
           "showlakes": true,
           "showland": true,
           "subunitcolor": "white"
          },
          "hoverlabel": {
           "align": "left"
          },
          "hovermode": "closest",
          "mapbox": {
           "style": "light"
          },
          "paper_bgcolor": "white",
          "plot_bgcolor": "white",
          "polar": {
           "angularaxis": {
            "gridcolor": "rgb(232,232,232)",
            "linecolor": "rgb(36,36,36)",
            "showgrid": false,
            "showline": true,
            "ticks": "outside"
           },
           "bgcolor": "white",
           "radialaxis": {
            "gridcolor": "rgb(232,232,232)",
            "linecolor": "rgb(36,36,36)",
            "showgrid": false,
            "showline": true,
            "ticks": "outside"
           }
          },
          "scene": {
           "xaxis": {
            "backgroundcolor": "white",
            "gridcolor": "rgb(232,232,232)",
            "gridwidth": 2,
            "linecolor": "rgb(36,36,36)",
            "showbackground": true,
            "showgrid": false,
            "showline": true,
            "ticks": "outside",
            "zeroline": false,
            "zerolinecolor": "rgb(36,36,36)"
           },
           "yaxis": {
            "backgroundcolor": "white",
            "gridcolor": "rgb(232,232,232)",
            "gridwidth": 2,
            "linecolor": "rgb(36,36,36)",
            "showbackground": true,
            "showgrid": false,
            "showline": true,
            "ticks": "outside",
            "zeroline": false,
            "zerolinecolor": "rgb(36,36,36)"
           },
           "zaxis": {
            "backgroundcolor": "white",
            "gridcolor": "rgb(232,232,232)",
            "gridwidth": 2,
            "linecolor": "rgb(36,36,36)",
            "showbackground": true,
            "showgrid": false,
            "showline": true,
            "ticks": "outside",
            "zeroline": false,
            "zerolinecolor": "rgb(36,36,36)"
           }
          },
          "shapedefaults": {
           "fillcolor": "black",
           "line": {
            "width": 0
           },
           "opacity": 0.3
          },
          "ternary": {
           "aaxis": {
            "gridcolor": "rgb(232,232,232)",
            "linecolor": "rgb(36,36,36)",
            "showgrid": false,
            "showline": true,
            "ticks": "outside"
           },
           "baxis": {
            "gridcolor": "rgb(232,232,232)",
            "linecolor": "rgb(36,36,36)",
            "showgrid": false,
            "showline": true,
            "ticks": "outside"
           },
           "bgcolor": "white",
           "caxis": {
            "gridcolor": "rgb(232,232,232)",
            "linecolor": "rgb(36,36,36)",
            "showgrid": false,
            "showline": true,
            "ticks": "outside"
           }
          },
          "title": {
           "x": 0.05
          },
          "xaxis": {
           "automargin": true,
           "gridcolor": "rgb(232,232,232)",
           "linecolor": "rgb(36,36,36)",
           "showgrid": false,
           "showline": true,
           "ticks": "outside",
           "title": {
            "standoff": 15
           },
           "zeroline": false,
           "zerolinecolor": "rgb(36,36,36)"
          },
          "yaxis": {
           "automargin": true,
           "gridcolor": "rgb(232,232,232)",
           "linecolor": "rgb(36,36,36)",
           "showgrid": false,
           "showline": true,
           "ticks": "outside",
           "title": {
            "standoff": 15
           },
           "zeroline": false,
           "zerolinecolor": "rgb(36,36,36)"
          }
         }
        },
        "title": {
         "text": "RAP pulses (QUERA)"
        },
        "xaxis": {
         "title": {
          "text": "time [µs]"
         }
        },
        "yaxis": {
         "title": {
          "text": "amplitude [MHz]"
         }
        }
       }
      }
     },
     "metadata": {},
     "output_type": "display_data"
    },
    {
     "data": {
      "application/vnd.plotly.v1+json": {
       "config": {
        "plotlyServerURL": "https://plot.ly"
       },
       "data": [
        {
         "line": {
          "color": "red",
          "width": 3
         },
         "mode": "lines",
         "name": "tracked state 0",
         "type": "scatter",
         "x": {
          "bdata": "AAAAAAAAAADb+X5qvHSTP9v5fmq8dKM/yHa+nxovrT/b+X5qvHSzP1K4HoXrUbg/yHa+nxovvT+gGi/dJAbBP9v5fmq8dMM/FtnO91PjxT9SuB6F61HIP42XbhKDwMo/yHa+nxovzT8EVg4tsp3PP6AaL90kBtE/PQrXo3A90j/b+X5qvHTTP3npJjEIrNQ/FtnO91Pj1T+0yHa+nxrXP1K4HoXrUdg/76fGSzeJ2T+Nl24Sg8DaPyuHFtnO99s/yHa+nxov3T9mZmZmZmbePwRWDi2ynd8/0SLb+X5q4D+gGi/dJAbhP24Sg8DKoeE/PQrXo3A94j8MAiuHFtniP9v5fmq8dOM/qvHSTWIQ5D956SYxCKzkP0jhehSuR+U/FtnO91Pj5T/l0CLb+X7mP7TIdr6fGuc/g8DKoUW25z9SuB6F61HoPyGwcmiR7eg/76fGSzeJ6T++nxov3STqP42XbhKDwOo/XI/C9Shc6z8rhxbZzvfrP/p+arx0k+w/yHa+nxov7T+XbhKDwMrtP2ZmZmZmZu4/NV66SQwC7z8EVg4tsp3vP+kmMQisHPA/0SLb+X5q8D+4HoXrUbjwP6AaL90kBvE/hxbZzvdT8T9uEoPAyqHxP1YOLbKd7/E/PQrXo3A98j8lBoGVQ4vyPwwCK4cW2fI/9P3UeOkm8z/b+X5qvHTzP8L1KFyPwvM/qvHSTWIQ9D+R7Xw/NV70P3npJjEIrPQ/YOXQItv59D9I4XoUrkf1Py/dJAaBlfU/FtnO91Pj9T/+1HjpJjH2P+XQItv5fvY/zczMzMzM9j+0yHa+nxr3P5vEILByaPc/g8DKoUW29z9qvHSTGAT4P1K4HoXrUfg/ObTIdr6f+D8hsHJoke34PwisHFpkO/k/76fGSzeJ+T/Xo3A9Ctf5P76fGi/dJPo/ppvEILBy+j+Nl24Sg8D6P3WTGARWDvs/XI/C9Shc+z9Di2zn+6n7PyuHFtnO9/s/EoPAyqFF/D/6fmq8dJP8P+F6FK5H4fw/yHa+nxov/T+wcmiR7Xz9P5duEoPAyv0/f2q8dJMY/j9mZmZmZmb+Pw==",
          "dtype": "f8"
         },
         "y": {
          "bdata": "T7MU+BxIJsBOsxT4HEgmwE+zFPgcSCbAT7MU+BxIJsBPsxT4HEgmwE+zFPgcSCbAT7MU+BxIJsBPsxT4HEgmwE+zFPgcSCbAT7MU+BxIJsBSsxT4HEgmwE+zFPgcSCbAT7MU+BxIJsBOsxT4HEgmwE+zFPgcSCbATrMU+BxIJsBPsxT4HEgmwE+zFPgcSCbATrMU+BxIJsBPsxT4HEgmwE+zFPgcSCbAT7MU+BxIJsBPsxT4HEgmwE+zFPgcSCbAT7MU+BxIJsBPsxT4HEgmwE+zFPgcSCbATrMU+BxIJsBPsxT4HEgmwE+zFPgcSCbATrMU+BxIJsBOsxT4HEgmwE6zFPgcSCbAT7MU+BxIJsBPsxT4HEgmwE+zFPgcSCbAT7MU+BxIJsBPsxT4HEgmwE+zFPgcSCbAT7MU+BxIJsBOsxT4HEgmwE6zFPgcSCbATrMU+BxIJsBOsxT4HEgmwE6zFPgcSCbAT7MU+BxIJsBPsxT4HEgmwE6zFPgcSCbATbMU+BxIJsBPsxT4HEgmwE6zFPgcSCbATUmLq7vUH8BLSYuru9QfwEtJi6u71B/ATUmLq7vUH8BNSYuru9QfwE1Ji6u71B/ATUmLq7vUH8BNSYuru9QfwE1Ji6u71B/AS0mLq7vUH8BNSYuru9QfwE1Ji6u71B/ATUmLq7vUH8BNSYuru9QfwE1Ji6u71B/ATUmLq7vUH8BOSYuru9QfwE1Ji6u71B/ATUmLq7vUH8BOSYuru9QfwE1Ji6u71B/ATUmLq7vUH8BLSYuru9QfwE1Ji6u71B/ATUmLq7vUH8BNSYuru9QfwE1Ji6u71B/ATUmLq7vUH8BNSYuru9QfwE1Ji6u71B/ATUmLq7vUH8BPSYuru9QfwE1Ji6u71B/ATUmLq7vUH8BPSYuru9QfwE1Ji6u71B/AUUmLq7vUH8BPSYuru9QfwE1Ji6u71B/ATUmLq7vUH8BNSYuru9QfwFFJi6u71B/ATkmLq7vUH8BRSYuru9QfwE1Ji6u71B/AUUmLq7vUH8BNSYuru9QfwE1Ji6u71B/AUUmLq7vUH8BNSYuru9QfwA==",
          "dtype": "f8"
         }
        },
        {
         "line": {
          "color": "blue",
          "width": 3
         },
         "mode": "lines",
         "name": "tracked state 1",
         "type": "scatter",
         "x": {
          "bdata": "AAAAAAAAAADb+X5qvHSTP9v5fmq8dKM/yHa+nxovrT/b+X5qvHSzP1K4HoXrUbg/yHa+nxovvT+gGi/dJAbBP9v5fmq8dMM/FtnO91PjxT9SuB6F61HIP42XbhKDwMo/yHa+nxovzT8EVg4tsp3PP6AaL90kBtE/PQrXo3A90j/b+X5qvHTTP3npJjEIrNQ/FtnO91Pj1T+0yHa+nxrXP1K4HoXrUdg/76fGSzeJ2T+Nl24Sg8DaPyuHFtnO99s/yHa+nxov3T9mZmZmZmbePwRWDi2ynd8/0SLb+X5q4D+gGi/dJAbhP24Sg8DKoeE/PQrXo3A94j8MAiuHFtniP9v5fmq8dOM/qvHSTWIQ5D956SYxCKzkP0jhehSuR+U/FtnO91Pj5T/l0CLb+X7mP7TIdr6fGuc/g8DKoUW25z9SuB6F61HoPyGwcmiR7eg/76fGSzeJ6T++nxov3STqP42XbhKDwOo/XI/C9Shc6z8rhxbZzvfrP/p+arx0k+w/yHa+nxov7T+XbhKDwMrtP2ZmZmZmZu4/NV66SQwC7z8EVg4tsp3vP+kmMQisHPA/0SLb+X5q8D+4HoXrUbjwP6AaL90kBvE/hxbZzvdT8T9uEoPAyqHxP1YOLbKd7/E/PQrXo3A98j8lBoGVQ4vyPwwCK4cW2fI/9P3UeOkm8z/b+X5qvHTzP8L1KFyPwvM/qvHSTWIQ9D+R7Xw/NV70P3npJjEIrPQ/YOXQItv59D9I4XoUrkf1Py/dJAaBlfU/FtnO91Pj9T/+1HjpJjH2P+XQItv5fvY/zczMzMzM9j+0yHa+nxr3P5vEILByaPc/g8DKoUW29z9qvHSTGAT4P1K4HoXrUfg/ObTIdr6f+D8hsHJoke34PwisHFpkO/k/76fGSzeJ+T/Xo3A9Ctf5P76fGi/dJPo/ppvEILBy+j+Nl24Sg8D6P3WTGARWDvs/XI/C9Shc+z9Di2zn+6n7PyuHFtnO9/s/EoPAyqFF/D/6fmq8dJP8P+F6FK5H4fw/yHa+nxov/T+wcmiR7Xz9P5duEoPAyv0/f2q8dJMY/j9mZmZmZmb+Pw==",
          "dtype": "f8"
         },
         "y": {
          "bdata": "TUmLq7vUH8BNSYuru9QfwE1Ji6u71B/ATUmLq7vUH8BNSYuru9QfwE1Ji6u71B/ATUmLq7vUH8BNSYuru9QfwE1Ji6u71B/ATUmLq7vUH8BNSYuru9QfwE1Ji6u71B/ATUmLq7vUH8BNSYuru9QfwE1Ji6u71B/ATUmLq7vUH8BNSYuru9QfwEtJi6u71B/ATUmLq7vUH8BKSYuru9QfwE1Ji6u71B/ATUmLq7vUH8BOSYuru9QfwE1Ji6u71B/ATUmLq7vUH8BNSYuru9QfwE1Ji6u71B/ATUmLq7vUH8BNSYuru9QfwE1Ji6u71B/ATUmLq7vUH8BNSYuru9QfwE1Ji6u71B/ATUmLq7vUH8BOSYuru9QfwE1Ji6u71B/ATUmLq7vUH8BNSYuru9QfwE1Ji6u71B/ATkmLq7vUH8BNSYuru9QfwE1Ji6u71B/ATUmLq7vUH8BOSYuru9QfwEtJi6u71B/AS0mLq7vUH8BOSYuru9QfwEtJi6u71B/ASkmLq7vUH8BNSYuru9QfwE1Ji6u71B/ATrMU+BxIJsBNsxT4HEgmwE6zFPgcSCbATrMU+BxIJsBOsxT4HEgmwE6zFPgcSCbATrMU+BxIJsBPsxT4HEgmwE6zFPgcSCbATbMU+BxIJsBOsxT4HEgmwE6zFPgcSCbATrMU+BxIJsBOsxT4HEgmwE6zFPgcSCbATbMU+BxIJsBPsxT4HEgmwE6zFPgcSCbATrMU+BxIJsBPsxT4HEgmwE6zFPgcSCbATrMU+BxIJsBLsxT4HEgmwE2zFPgcSCbATbMU+BxIJsBOsxT4HEgmwE6zFPgcSCbATrMU+BxIJsBOsxT4HEgmwE6zFPgcSCbATbMU+BxIJsBLsxT4HEgmwE6zFPgcSCbATrMU+BxIJsBNsxT4HEgmwE6zFPgcSCbAS7MU+BxIJsBKsxT4HEgmwE6zFPgcSCbATrMU+BxIJsBOsxT4HEgmwE6zFPgcSCbATbMU+BxIJsBPsxT4HEgmwE6zFPgcSCbASrMU+BxIJsBNsxT4HEgmwE6zFPgcSCbAS7MU+BxIJsBPsxT4HEgmwA==",
          "dtype": "f8"
         }
        },
        {
         "line": {
          "dash": "dash",
          "width": 1
         },
         "mode": "lines",
         "name": "state 2",
         "type": "scatter",
         "x": {
          "bdata": "AAAAAAAAAADb+X5qvHSTP9v5fmq8dKM/yHa+nxovrT/b+X5qvHSzP1K4HoXrUbg/yHa+nxovvT+gGi/dJAbBP9v5fmq8dMM/FtnO91PjxT9SuB6F61HIP42XbhKDwMo/yHa+nxovzT8EVg4tsp3PP6AaL90kBtE/PQrXo3A90j/b+X5qvHTTP3npJjEIrNQ/FtnO91Pj1T+0yHa+nxrXP1K4HoXrUdg/76fGSzeJ2T+Nl24Sg8DaPyuHFtnO99s/yHa+nxov3T9mZmZmZmbePwRWDi2ynd8/0SLb+X5q4D+gGi/dJAbhP24Sg8DKoeE/PQrXo3A94j8MAiuHFtniP9v5fmq8dOM/qvHSTWIQ5D956SYxCKzkP0jhehSuR+U/FtnO91Pj5T/l0CLb+X7mP7TIdr6fGuc/g8DKoUW25z9SuB6F61HoPyGwcmiR7eg/76fGSzeJ6T++nxov3STqP42XbhKDwOo/XI/C9Shc6z8rhxbZzvfrP/p+arx0k+w/yHa+nxov7T+XbhKDwMrtP2ZmZmZmZu4/NV66SQwC7z8EVg4tsp3vP+kmMQisHPA/0SLb+X5q8D+4HoXrUbjwP6AaL90kBvE/hxbZzvdT8T9uEoPAyqHxP1YOLbKd7/E/PQrXo3A98j8lBoGVQ4vyPwwCK4cW2fI/9P3UeOkm8z/b+X5qvHTzP8L1KFyPwvM/qvHSTWIQ9D+R7Xw/NV70P3npJjEIrPQ/YOXQItv59D9I4XoUrkf1Py/dJAaBlfU/FtnO91Pj9T/+1HjpJjH2P+XQItv5fvY/zczMzMzM9j+0yHa+nxr3P5vEILByaPc/g8DKoUW29z9qvHSTGAT4P1K4HoXrUfg/ObTIdr6f+D8hsHJoke34PwisHFpkO/k/76fGSzeJ+T/Xo3A9Ctf5P76fGi/dJPo/ppvEILBy+j+Nl24Sg8D6P3WTGARWDvs/XI/C9Shc+z9Di2zn+6n7PyuHFtnO9/s/EoPAyqFF/D/6fmq8dJP8P+F6FK5H4fw/yHa+nxov/T+wcmiR7Xz9P5duEoPAyv0/f2q8dJMY/j9mZmZmZmb+Pw==",
          "dtype": "f8"
         },
         "y": {
          "bdata": "pDo8ifx2+b+kOjyJ/Hb5v6Y6PIn8dvm/pjo8ifx2+b+kOjyJ/Hb5v6Q6PIn8dvm/pDo8ifx2+b+mOjyJ/Hb5v6Y6PIn8dvm/pDo8ifx2+b+mOjyJ/Hb5v7k6PIn8dvm/pDo8ifx2+b+kOjyJ/Hb5v6Q6PIn8dvm/pDo8ifx2+b+mOjyJ/Hb5v6Y6PIn8dvm/pjo8ifx2+b+iOjyJ/Hb5v6Q6PIn8dvm/pDo8ifx2+b+kOjyJ/Hb5v6Q6PIn8dvm/pjo8ifx2+b+dOjyJ/Hb5v6A6PIn8dvm/nTo8ifx2+b+dOjyJ/Hb5v506PIn8dvm/nTo8ifx2+b+YOjyJ/Hb5v5s6PIn8dvm/mzo8ifx2+b+YOjyJ/Hb5v506PIn8dvm/oDo8ifx2+b+bOjyJ/Hb5v506PIn8dvm/mzo8ifx2+b+dOjyJ/Hb5v506PIn8dvm/nTo8ifx2+b+bOjyJ/Hb5v506PIn8dvm/nTo8ifx2+b+bOjyJ/Hb5v5s6PIn8dvm/mzo8ifx2+b+dOjyJ/Hb5v5w6PIn8dvm/nTo8ifx2+b+gOjyJ/Hb5v506PIn8dvm/nTo8ifx2+b+gOjyJ/Hb5v506PIn8dvm/nTo8ifx2+b+dOjyJ/Hb5v506PIn8dvm/nTo8ifx2+b+dOjyJ/Hb5v5s6PIn8dvm/nTo8ifx2+b+dOjyJ/Hb5v506PIn8dvm/nTo8ifx2+b+iOjyJ/Hb5v506PIn8dvm/oDo8ifx2+b+iOjyJ/Hb5v506PIn8dvm/oDo8ifx2+b+gOjyJ/Hb5v6A6PIn8dvm/ojo8ifx2+b+kOjyJ/Hb5v6Q6PIn8dvm/pDo8ifx2+b+kOjyJ/Hb5v6Q6PIn8dvm/zzo8ifx2+b+mOjyJ/Hb5v6Q6PIn8dvm/pDo8ifx2+b+kOjyJ/Hb5v6Q6PIn8dvm/pDo8ifx2+b+kOjyJ/Hb5v6k6PIn8dvm/pDo8ifx2+b+mOjyJ/Hb5v6k6PIn8dvm/pjo8ifx2+b+kOjyJ/Hb5v6Q6PIn8dvm/pDo8ifx2+b+mOjyJ/Hb5v6Y6PIn8dvm/pjo8ifx2+b+kOjyJ/Hb5vw==",
          "dtype": "f8"
         }
        },
        {
         "line": {
          "dash": "dash",
          "width": 1
         },
         "mode": "lines",
         "name": "state 3",
         "type": "scatter",
         "x": {
          "bdata": "AAAAAAAAAADb+X5qvHSTP9v5fmq8dKM/yHa+nxovrT/b+X5qvHSzP1K4HoXrUbg/yHa+nxovvT+gGi/dJAbBP9v5fmq8dMM/FtnO91PjxT9SuB6F61HIP42XbhKDwMo/yHa+nxovzT8EVg4tsp3PP6AaL90kBtE/PQrXo3A90j/b+X5qvHTTP3npJjEIrNQ/FtnO91Pj1T+0yHa+nxrXP1K4HoXrUdg/76fGSzeJ2T+Nl24Sg8DaPyuHFtnO99s/yHa+nxov3T9mZmZmZmbePwRWDi2ynd8/0SLb+X5q4D+gGi/dJAbhP24Sg8DKoeE/PQrXo3A94j8MAiuHFtniP9v5fmq8dOM/qvHSTWIQ5D956SYxCKzkP0jhehSuR+U/FtnO91Pj5T/l0CLb+X7mP7TIdr6fGuc/g8DKoUW25z9SuB6F61HoPyGwcmiR7eg/76fGSzeJ6T++nxov3STqP42XbhKDwOo/XI/C9Shc6z8rhxbZzvfrP/p+arx0k+w/yHa+nxov7T+XbhKDwMrtP2ZmZmZmZu4/NV66SQwC7z8EVg4tsp3vP+kmMQisHPA/0SLb+X5q8D+4HoXrUbjwP6AaL90kBvE/hxbZzvdT8T9uEoPAyqHxP1YOLbKd7/E/PQrXo3A98j8lBoGVQ4vyPwwCK4cW2fI/9P3UeOkm8z/b+X5qvHTzP8L1KFyPwvM/qvHSTWIQ9D+R7Xw/NV70P3npJjEIrPQ/YOXQItv59D9I4XoUrkf1Py/dJAaBlfU/FtnO91Pj9T/+1HjpJjH2P+XQItv5fvY/zczMzMzM9j+0yHa+nxr3P5vEILByaPc/g8DKoUW29z9qvHSTGAT4P1K4HoXrUfg/ObTIdr6f+D8hsHJoke34PwisHFpkO/k/76fGSzeJ+T/Xo3A9Ctf5P76fGi/dJPo/ppvEILBy+j+Nl24Sg8D6P3WTGARWDvs/XI/C9Shc+z9Di2zn+6n7PyuHFtnO9/s/EoPAyqFF/D/6fmq8dJP8P+F6FK5H4fw/yHa+nxov/T+wcmiR7Xz9P5duEoPAyv0/f2q8dJMY/j9mZmZmZmb+Pw==",
          "dtype": "f8"
         },
         "y": {
          "bdata": "pDo8ifx2+b+kOjyJ/Hb5v6Y6PIn8dvm/oTo8ifx2+b+kOjyJ/Hb5v6Q6PIn8dvm/ojo8ifx2+b+kOjyJ/Hb5v6A6PIn8dvm/pDo8ifx2+b+hOjyJ/Hb5v5s6PIn8dvm/pDo8ifx2+b+kOjyJ/Hb5v6E6PIn8dvm/oTo8ifx2+b+kOjyJ/Hb5v6Y6PIn8dvm/pDo8ifx2+b+dOjyJ/Hb5v6A6PIn8dvm/ojo8ifx2+b+kOjyJ/Hb5v6Q6PIn8dvm/oDo8ifx2+b+WOjyJ/Hb5v5Y6PIn8dvm/kzo8ifx2+b+TOjyJ/Hb5v5M6PIn8dvm/mzo8ifx2+b+YOjyJ/Hb5v5Y6PIn8dvm/mDo8ifx2+b+YOjyJ/Hb5v5s6PIn8dvm/mzo8ifx2+b+bOjyJ/Hb5v5s6PIn8dvm/ljo8ifx2+b+bOjyJ/Hb5v5g6PIn8dvm/mzo8ifx2+b+YOjyJ/Hb5v5g6PIn8dvm/mzo8ifx2+b+bOjyJ/Hb5v5s6PIn8dvm/mDo8ifx2+b+dOjyJ/Hb5v5w6PIn8dvm/nTo8ifx2+b+YOjyJ/Hb5v5s6PIn8dvm/mzo8ifx2+b+bOjyJ/Hb5v5s6PIn8dvm/mzo8ifx2+b+dOjyJ/Hb5v5g6PIn8dvm/mDo8ifx2+b+YOjyJ/Hb5v5g6PIn8dvm/mDo8ifx2+b+bOjyJ/Hb5v506PIn8dvm/nTo8ifx2+b+dOjyJ/Hb5v506PIn8dvm/mDo8ifx2+b+dOjyJ/Hb5v5M6PIn8dvm/nTo8ifx2+b+gOjyJ/Hb5v506PIn8dvm/oDo8ifx2+b+kOjyJ/Hb5v6E6PIn8dvm/oTo8ifx2+b+iOjyJ/Hb5v6E6PIn8dvm/nDo8ifx2+b+fOjyJ/Hb5v6Q6PIn8dvm/pDo8ifx2+b+cOjyJ/Hb5v6Q6PIn8dvm/nzo8ifx2+b+fOjyJ/Hb5v6Q6PIn8dvm/pDo8ifx2+b+kOjyJ/Hb5v6Y6PIn8dvm/oTo8ifx2+b+fOjyJ/Hb5v6A6PIn8dvm/pDo8ifx2+b+hOjyJ/Hb5v6I6PIn8dvm/nzo8ifx2+b+kOjyJ/Hb5vw==",
          "dtype": "f8"
         }
        },
        {
         "line": {
          "dash": "dash",
          "width": 1
         },
         "mode": "lines",
         "name": "state 4",
         "type": "scatter",
         "x": {
          "bdata": "AAAAAAAAAADb+X5qvHSTP9v5fmq8dKM/yHa+nxovrT/b+X5qvHSzP1K4HoXrUbg/yHa+nxovvT+gGi/dJAbBP9v5fmq8dMM/FtnO91PjxT9SuB6F61HIP42XbhKDwMo/yHa+nxovzT8EVg4tsp3PP6AaL90kBtE/PQrXo3A90j/b+X5qvHTTP3npJjEIrNQ/FtnO91Pj1T+0yHa+nxrXP1K4HoXrUdg/76fGSzeJ2T+Nl24Sg8DaPyuHFtnO99s/yHa+nxov3T9mZmZmZmbePwRWDi2ynd8/0SLb+X5q4D+gGi/dJAbhP24Sg8DKoeE/PQrXo3A94j8MAiuHFtniP9v5fmq8dOM/qvHSTWIQ5D956SYxCKzkP0jhehSuR+U/FtnO91Pj5T/l0CLb+X7mP7TIdr6fGuc/g8DKoUW25z9SuB6F61HoPyGwcmiR7eg/76fGSzeJ6T++nxov3STqP42XbhKDwOo/XI/C9Shc6z8rhxbZzvfrP/p+arx0k+w/yHa+nxov7T+XbhKDwMrtP2ZmZmZmZu4/NV66SQwC7z8EVg4tsp3vP+kmMQisHPA/0SLb+X5q8D+4HoXrUbjwP6AaL90kBvE/hxbZzvdT8T9uEoPAyqHxP1YOLbKd7/E/PQrXo3A98j8lBoGVQ4vyPwwCK4cW2fI/9P3UeOkm8z/b+X5qvHTzP8L1KFyPwvM/qvHSTWIQ9D+R7Xw/NV70P3npJjEIrPQ/YOXQItv59D9I4XoUrkf1Py/dJAaBlfU/FtnO91Pj9T/+1HjpJjH2P+XQItv5fvY/zczMzMzM9j+0yHa+nxr3P5vEILByaPc/g8DKoUW29z9qvHSTGAT4P1K4HoXrUfg/ObTIdr6f+D8hsHJoke34PwisHFpkO/k/76fGSzeJ+T/Xo3A9Ctf5P76fGi/dJPo/ppvEILBy+j+Nl24Sg8D6P3WTGARWDvs/XI/C9Shc+z9Di2zn+6n7PyuHFtnO9/s/EoPAyqFF/D/6fmq8dJP8P+F6FK5H4fw/yHa+nxov/T+wcmiR7Xz9P5duEoPAyv0/f2q8dJMY/j9mZmZmZmb+Pw==",
          "dtype": "f8"
         },
         "y": {
          "bdata": "pDo8ifx2+T+kOjyJ/Hb5P6Q6PIn8dvk/oTo8ifx2+T+hOjyJ/Hb5P6I6PIn8dvk/pDo8ifx2+T+kOjyJ/Hb5P6Q6PIn8dvk/pDo8ifx2+T+iOjyJ/Hb5P646PIn8dvk/pDo8ifx2+T+kOjyJ/Hb5P6Q6PIn8dvk/pDo8ifx2+T+kOjyJ/Hb5P6Q6PIn8dvk/pDo8ifx2+T+lOjyJ/Hb5P6I6PIn8dvk/pDo8ifx2+T+hOjyJ/Hb5P6I6PIn8dvk/pDo8ifx2+T+kOjyJ/Hb5P6Q6PIn8dvk/pDo8ifx2+T+iOjyJ/Hb5P6Q6PIn8dvk/pDo8ifx2+T+iOjyJ/Hb5P6I6PIn8dvk/pDo8ifx2+T+iOjyJ/Hb5P6Q6PIn8dvk/pTo8ifx2+T+iOjyJ/Hb5P6Q6PIn8dvk/ojo8ifx2+T+iOjyJ/Hb5P6Q6PIn8dvk/pDo8ifx2+T+iOjyJ/Hb5P6I6PIn8dvk/pTo8ifx2+T+iOjyJ/Hb5P6Q6PIn8dvk/ojo8ifx2+T+kOjyJ/Hb5P6Q6PIn8dvk/pDo8ifx2+T+iOjyJ/Hb5P6I6PIn8dvk/ojo8ifx2+T+kOjyJ/Hb5P6Q6PIn8dvk/pDo8ifx2+T+kOjyJ/Hb5P6Q6PIn8dvk/pDo8ifx2+T+iOjyJ/Hb5P6I6PIn8dvk/ojo8ifx2+T+iOjyJ/Hb5P6Q6PIn8dvk/oTo8ifx2+T+kOjyJ/Hb5P6E6PIn8dvk/pDo8ifx2+T+kOjyJ/Hb5P6Q6PIn8dvk/pDo8ifx2+T+gOjyJ/Hb5P586PIn8dvk/ojo8ifx2+T+kOjyJ/Hb5P6Q6PIn8dvk/ojo8ifx2+T+kOjyJ/Hb5P6Q6PIn8dvk/nzo8ifx2+T+fOjyJ/Hb5P6Q6PIn8dvk/pDo8ifx2+T+fOjyJ/Hb5P6I6PIn8dvk/nzo8ifx2+T+kOjyJ/Hb5P6I6PIn8dvk/ojo8ifx2+T+kOjyJ/Hb5P6Q6PIn8dvk/oTo8ifx2+T+kOjyJ/Hb5P6I6PIn8dvk/ojo8ifx2+T+hOjyJ/Hb5P6Q6PIn8dvk/pDo8ifx2+T+kOjyJ/Hb5Pw==",
          "dtype": "f8"
         }
        },
        {
         "line": {
          "dash": "dash",
          "width": 1
         },
         "mode": "lines",
         "name": "state 5",
         "type": "scatter",
         "x": {
          "bdata": "AAAAAAAAAADb+X5qvHSTP9v5fmq8dKM/yHa+nxovrT/b+X5qvHSzP1K4HoXrUbg/yHa+nxovvT+gGi/dJAbBP9v5fmq8dMM/FtnO91PjxT9SuB6F61HIP42XbhKDwMo/yHa+nxovzT8EVg4tsp3PP6AaL90kBtE/PQrXo3A90j/b+X5qvHTTP3npJjEIrNQ/FtnO91Pj1T+0yHa+nxrXP1K4HoXrUdg/76fGSzeJ2T+Nl24Sg8DaPyuHFtnO99s/yHa+nxov3T9mZmZmZmbePwRWDi2ynd8/0SLb+X5q4D+gGi/dJAbhP24Sg8DKoeE/PQrXo3A94j8MAiuHFtniP9v5fmq8dOM/qvHSTWIQ5D956SYxCKzkP0jhehSuR+U/FtnO91Pj5T/l0CLb+X7mP7TIdr6fGuc/g8DKoUW25z9SuB6F61HoPyGwcmiR7eg/76fGSzeJ6T++nxov3STqP42XbhKDwOo/XI/C9Shc6z8rhxbZzvfrP/p+arx0k+w/yHa+nxov7T+XbhKDwMrtP2ZmZmZmZu4/NV66SQwC7z8EVg4tsp3vP+kmMQisHPA/0SLb+X5q8D+4HoXrUbjwP6AaL90kBvE/hxbZzvdT8T9uEoPAyqHxP1YOLbKd7/E/PQrXo3A98j8lBoGVQ4vyPwwCK4cW2fI/9P3UeOkm8z/b+X5qvHTzP8L1KFyPwvM/qvHSTWIQ9D+R7Xw/NV70P3npJjEIrPQ/YOXQItv59D9I4XoUrkf1Py/dJAaBlfU/FtnO91Pj9T/+1HjpJjH2P+XQItv5fvY/zczMzMzM9j+0yHa+nxr3P5vEILByaPc/g8DKoUW29z9qvHSTGAT4P1K4HoXrUfg/ObTIdr6f+D8hsHJoke34PwisHFpkO/k/76fGSzeJ+T/Xo3A9Ctf5P76fGi/dJPo/ppvEILBy+j+Nl24Sg8D6P3WTGARWDvs/XI/C9Shc+z9Di2zn+6n7PyuHFtnO9/s/EoPAyqFF/D/6fmq8dJP8P+F6FK5H4fw/yHa+nxov/T+wcmiR7Xz9P5duEoPAyv0/f2q8dJMY/j9mZmZmZmb+Pw==",
          "dtype": "f8"
         },
         "y": {
          "bdata": "pDo8ifx2+T+kOjyJ/Hb5P6U6PIn8dvk/pDo8ifx2+T+kOjyJ/Hb5P6U6PIn8dvk/pTo8ifx2+T+lOjyJ/Hb5P6Q6PIn8dvk/pTo8ifx2+T+kOjyJ/Hb5P7Q6PIn8dvk/pTo8ifx2+T+kOjyJ/Hb5P6U6PIn8dvk/pDo8ifx2+T+kOjyJ/Hb5P6Y6PIn8dvk/pDo8ifx2+T/GOjyJ/Hb5P6Q6PIn8dvk/pTo8ifx2+T+kOjyJ/Hb5P6Q6PIn8dvk/pjo8ifx2+T+kOjyJ/Hb5P6Q6PIn8dvk/pDo8ifx2+T+kOjyJ/Hb5P6Q6PIn8dvk/pTo8ifx2+T+lOjyJ/Hb5P6Q6PIn8dvk/pjo8ifx2+T+lOjyJ/Hb5P6Q6PIn8dvk/pTo8ifx2+T+kOjyJ/Hb5P6U6PIn8dvk/pDo8ifx2+T+kOjyJ/Hb5P6Q6PIn8dvk/pDo8ifx2+T+kOjyJ/Hb5P6U6PIn8dvk/pTo8ifx2+T+lOjyJ/Hb5P6U6PIn8dvk/pDo8ifx2+T+lOjyJ/Hb5P6Q6PIn8dvk/pTo8ifx2+T+kOjyJ/Hb5P6U6PIn8dvk/ojo8ifx2+T+mOjyJ/Hb5P6Q6PIn8dvk/pTo8ifx2+T+lOjyJ/Hb5P6Q6PIn8dvk/pTo8ifx2+T+kOjyJ/Hb5P6Q6PIn8dvk/pDo8ifx2+T+kOjyJ/Hb5P6Q6PIn8dvk/oTo8ifx2+T+oOjyJ/Hb5P6Q6PIn8dvk/pTo8ifx2+T+oOjyJ/Hb5P6Q6PIn8dvk/pjo8ifx2+T+iOjyJ/Hb5P6Q6PIn8dvk/ojo8ifx2+T+lOjyJ/Hb5P6U6PIn8dvk/pDo8ifx2+T+lOjyJ/Hb5P6Q6PIn8dvk/pDo8ifx2+T+lOjyJ/Hb5P6Y6PIn8dvk/pDo8ifx2+T+kOjyJ/Hb5P6U6PIn8dvk/pDo8ifx2+T+lOjyJ/Hb5P6U6PIn8dvk/pTo8ifx2+T+lOjyJ/Hb5P6Q6PIn8dvk/pDo8ifx2+T+lOjyJ/Hb5P6Q6PIn8dvk/pDo8ifx2+T+kOjyJ/Hb5P6U6PIn8dvk/pDo8ifx2+T+kOjyJ/Hb5Pw==",
          "dtype": "f8"
         }
        },
        {
         "line": {
          "dash": "dash",
          "width": 1
         },
         "mode": "lines",
         "name": "state 6",
         "type": "scatter",
         "x": {
          "bdata": "AAAAAAAAAADb+X5qvHSTP9v5fmq8dKM/yHa+nxovrT/b+X5qvHSzP1K4HoXrUbg/yHa+nxovvT+gGi/dJAbBP9v5fmq8dMM/FtnO91PjxT9SuB6F61HIP42XbhKDwMo/yHa+nxovzT8EVg4tsp3PP6AaL90kBtE/PQrXo3A90j/b+X5qvHTTP3npJjEIrNQ/FtnO91Pj1T+0yHa+nxrXP1K4HoXrUdg/76fGSzeJ2T+Nl24Sg8DaPyuHFtnO99s/yHa+nxov3T9mZmZmZmbePwRWDi2ynd8/0SLb+X5q4D+gGi/dJAbhP24Sg8DKoeE/PQrXo3A94j8MAiuHFtniP9v5fmq8dOM/qvHSTWIQ5D956SYxCKzkP0jhehSuR+U/FtnO91Pj5T/l0CLb+X7mP7TIdr6fGuc/g8DKoUW25z9SuB6F61HoPyGwcmiR7eg/76fGSzeJ6T++nxov3STqP42XbhKDwOo/XI/C9Shc6z8rhxbZzvfrP/p+arx0k+w/yHa+nxov7T+XbhKDwMrtP2ZmZmZmZu4/NV66SQwC7z8EVg4tsp3vP+kmMQisHPA/0SLb+X5q8D+4HoXrUbjwP6AaL90kBvE/hxbZzvdT8T9uEoPAyqHxP1YOLbKd7/E/PQrXo3A98j8lBoGVQ4vyPwwCK4cW2fI/9P3UeOkm8z/b+X5qvHTzP8L1KFyPwvM/qvHSTWIQ9D+R7Xw/NV70P3npJjEIrPQ/YOXQItv59D9I4XoUrkf1Py/dJAaBlfU/FtnO91Pj9T/+1HjpJjH2P+XQItv5fvY/zczMzMzM9j+0yHa+nxr3P5vEILByaPc/g8DKoUW29z9qvHSTGAT4P1K4HoXrUfg/ObTIdr6f+D8hsHJoke34PwisHFpkO/k/76fGSzeJ+T/Xo3A9Ctf5P76fGi/dJPo/ppvEILBy+j+Nl24Sg8D6P3WTGARWDvs/XI/C9Shc+z9Di2zn+6n7PyuHFtnO9/s/EoPAyqFF/D/6fmq8dJP8P+F6FK5H4fw/yHa+nxov/T+wcmiR7Xz9P5duEoPAyv0/f2q8dJMY/j9mZmZmZmb+Pw==",
          "dtype": "f8"
         },
         "y": {
          "bdata": "TUmLq7vUH0BPSYuru9QfQE9Ji6u71B9ATkmLq7vUH0BOSYuru9QfQE5Ji6u71B9AT0mLq7vUH0BPSYuru9QfQFFJi6u71B9AT0mLq7vUH0BKSYuru9QfQFRJi6u71B9AT0mLq7vUH0BPSYuru9QfQFFJi6u71B9AT0mLq7vUH0BPSYuru9QfQE1Ji6u71B9AT0mLq7vUH0BPSYuru9QfQE9Ji6u71B9AT0mLq7vUH0BPSYuru9QfQE9Ji6u71B9ATUmLq7vUH0BPSYuru9QfQE9Ji6u71B9AT0mLq7vUH0BRSYuru9QfQE9Ji6u71B9AT0mLq7vUH0BPSYuru9QfQE9Ji6u71B9ATkmLq7vUH0BPSYuru9QfQE9Ji6u71B9AT0mLq7vUH0BPSYuru9QfQE9Ji6u71B9AT0mLq7vUH0BPSYuru9QfQE9Ji6u71B9AT0mLq7vUH0BPSYuru9QfQE1Ji6u71B9ATUmLq7vUH0BPSYuru9QfQE5Ji6u71B9ATUmLq7vUH0BPSYuru9QfQE9Ji6u71B9ATkmLq7vUH0BNSYuru9QfQE9Ji6u71B9ATkmLq7vUH0BPSYuru9QfQE5Ji6u71B9AT0mLq7vUH0BPSYuru9QfQE9Ji6u71B9ATkmLq7vUH0BPSYuru9QfQE9Ji6u71B9ATkmLq7vUH0BPSYuru9QfQE5Ji6u71B9AT0mLq7vUH0BRSYuru9QfQE9Ji6u71B9ATkmLq7vUH0BRSYuru9QfQE5Ji6u71B9AUUmLq7vUH0BPSYuru9QfQE9Ji6u71B9AT0mLq7vUH0BPSYuru9QfQE1Ji6u71B9AT0mLq7vUH0BNSYuru9QfQE5Ji6u71B9AT0mLq7vUH0BNSYuru9QfQE9Ji6u71B9ATUmLq7vUH0BJSYuru9QfQE9Ji6u71B9ASEmLq7vUH0BPSYuru9QfQE9Ji6u71B9ATUmLq7vUH0BNSYuru9QfQE9Ji6u71B9AUUmLq7vUH0BPSYuru9QfQE5Ji6u71B9AT0mLq7vUH0BRSYuru9QfQE1Ji6u71B9ATkmLq7vUH0BNSYuru9QfQA==",
          "dtype": "f8"
         }
        },
        {
         "line": {
          "dash": "dash",
          "width": 1
         },
         "mode": "lines",
         "name": "state 7",
         "type": "scatter",
         "x": {
          "bdata": "AAAAAAAAAADb+X5qvHSTP9v5fmq8dKM/yHa+nxovrT/b+X5qvHSzP1K4HoXrUbg/yHa+nxovvT+gGi/dJAbBP9v5fmq8dMM/FtnO91PjxT9SuB6F61HIP42XbhKDwMo/yHa+nxovzT8EVg4tsp3PP6AaL90kBtE/PQrXo3A90j/b+X5qvHTTP3npJjEIrNQ/FtnO91Pj1T+0yHa+nxrXP1K4HoXrUdg/76fGSzeJ2T+Nl24Sg8DaPyuHFtnO99s/yHa+nxov3T9mZmZmZmbePwRWDi2ynd8/0SLb+X5q4D+gGi/dJAbhP24Sg8DKoeE/PQrXo3A94j8MAiuHFtniP9v5fmq8dOM/qvHSTWIQ5D956SYxCKzkP0jhehSuR+U/FtnO91Pj5T/l0CLb+X7mP7TIdr6fGuc/g8DKoUW25z9SuB6F61HoPyGwcmiR7eg/76fGSzeJ6T++nxov3STqP42XbhKDwOo/XI/C9Shc6z8rhxbZzvfrP/p+arx0k+w/yHa+nxov7T+XbhKDwMrtP2ZmZmZmZu4/NV66SQwC7z8EVg4tsp3vP+kmMQisHPA/0SLb+X5q8D+4HoXrUbjwP6AaL90kBvE/hxbZzvdT8T9uEoPAyqHxP1YOLbKd7/E/PQrXo3A98j8lBoGVQ4vyPwwCK4cW2fI/9P3UeOkm8z/b+X5qvHTzP8L1KFyPwvM/qvHSTWIQ9D+R7Xw/NV70P3npJjEIrPQ/YOXQItv59D9I4XoUrkf1Py/dJAaBlfU/FtnO91Pj9T/+1HjpJjH2P+XQItv5fvY/zczMzMzM9j+0yHa+nxr3P5vEILByaPc/g8DKoUW29z9qvHSTGAT4P1K4HoXrUfg/ObTIdr6f+D8hsHJoke34PwisHFpkO/k/76fGSzeJ+T/Xo3A9Ctf5P76fGi/dJPo/ppvEILBy+j+Nl24Sg8D6P3WTGARWDvs/XI/C9Shc+z9Di2zn+6n7PyuHFtnO9/s/EoPAyqFF/D/6fmq8dJP8P+F6FK5H4fw/yHa+nxov/T+wcmiR7Xz9P5duEoPAyv0/f2q8dJMY/j9mZmZmZmb+Pw==",
          "dtype": "f8"
         },
         "y": {
          "bdata": "T7MU+BxIJkBPsxT4HEgmQE+zFPgcSCZAT7MU+BxIJkBPsxT4HEgmQE+zFPgcSCZAT7MU+BxIJkBPsxT4HEgmQE+zFPgcSCZAT7MU+BxIJkBPsxT4HEgmQFOzFPgcSCZAT7MU+BxIJkBPsxT4HEgmQE+zFPgcSCZAT7MU+BxIJkBPsxT4HEgmQE+zFPgcSCZAT7MU+BxIJkBOsxT4HEgmQE+zFPgcSCZAT7MU+BxIJkBPsxT4HEgmQE+zFPgcSCZAT7MU+BxIJkBPsxT4HEgmQE+zFPgcSCZAT7MU+BxIJkBPsxT4HEgmQE+zFPgcSCZAT7MU+BxIJkBPsxT4HEgmQE+zFPgcSCZAT7MU+BxIJkBPsxT4HEgmQE+zFPgcSCZAT7MU+BxIJkBPsxT4HEgmQE+zFPgcSCZAT7MU+BxIJkBPsxT4HEgmQE+zFPgcSCZAT7MU+BxIJkBPsxT4HEgmQE+zFPgcSCZAT7MU+BxIJkBPsxT4HEgmQE+zFPgcSCZATrMU+BxIJkBPsxT4HEgmQE+zFPgcSCZAT7MU+BxIJkBOsxT4HEgmQE+zFPgcSCZAT7MU+BxIJkBPsxT4HEgmQE+zFPgcSCZAT7MU+BxIJkBPsxT4HEgmQE+zFPgcSCZATrMU+BxIJkBPsxT4HEgmQE+zFPgcSCZAT7MU+BxIJkBPsxT4HEgmQE+zFPgcSCZATbMU+BxIJkBRsxT4HEgmQE+zFPgcSCZAT7MU+BxIJkBRsxT4HEgmQE+zFPgcSCZAT7MU+BxIJkBNsxT4HEgmQE6zFPgcSCZATrMU+BxIJkBPsxT4HEgmQE+zFPgcSCZAT7MU+BxIJkBPsxT4HEgmQE+zFPgcSCZATrMU+BxIJkBPsxT4HEgmQE+zFPgcSCZAT7MU+BxIJkBPsxT4HEgmQE+zFPgcSCZAUrMU+BxIJkBOsxT4HEgmQE+zFPgcSCZAT7MU+BxIJkBPsxT4HEgmQFGzFPgcSCZAT7MU+BxIJkBOsxT4HEgmQE+zFPgcSCZATrMU+BxIJkBPsxT4HEgmQE+zFPgcSCZAT7MU+BxIJkBPsxT4HEgmQA==",
          "dtype": "f8"
         }
        }
       ],
       "layout": {
        "legend": {
         "title": {
          "text": ""
         }
        },
        "template": {
         "data": {
          "bar": [
           {
            "error_x": {
             "color": "rgb(36,36,36)"
            },
            "error_y": {
             "color": "rgb(36,36,36)"
            },
            "marker": {
             "line": {
              "color": "white",
              "width": 0.5
             },
             "pattern": {
              "fillmode": "overlay",
              "size": 10,
              "solidity": 0.2
             }
            },
            "type": "bar"
           }
          ],
          "barpolar": [
           {
            "marker": {
             "line": {
              "color": "white",
              "width": 0.5
             },
             "pattern": {
              "fillmode": "overlay",
              "size": 10,
              "solidity": 0.2
             }
            },
            "type": "barpolar"
           }
          ],
          "carpet": [
           {
            "aaxis": {
             "endlinecolor": "rgb(36,36,36)",
             "gridcolor": "white",
             "linecolor": "white",
             "minorgridcolor": "white",
             "startlinecolor": "rgb(36,36,36)"
            },
            "baxis": {
             "endlinecolor": "rgb(36,36,36)",
             "gridcolor": "white",
             "linecolor": "white",
             "minorgridcolor": "white",
             "startlinecolor": "rgb(36,36,36)"
            },
            "type": "carpet"
           }
          ],
          "choropleth": [
           {
            "colorbar": {
             "outlinewidth": 1,
             "tickcolor": "rgb(36,36,36)",
             "ticks": "outside"
            },
            "type": "choropleth"
           }
          ],
          "contour": [
           {
            "colorbar": {
             "outlinewidth": 1,
             "tickcolor": "rgb(36,36,36)",
             "ticks": "outside"
            },
            "colorscale": [
             [
              0,
              "#440154"
             ],
             [
              0.1111111111111111,
              "#482878"
             ],
             [
              0.2222222222222222,
              "#3e4989"
             ],
             [
              0.3333333333333333,
              "#31688e"
             ],
             [
              0.4444444444444444,
              "#26828e"
             ],
             [
              0.5555555555555556,
              "#1f9e89"
             ],
             [
              0.6666666666666666,
              "#35b779"
             ],
             [
              0.7777777777777778,
              "#6ece58"
             ],
             [
              0.8888888888888888,
              "#b5de2b"
             ],
             [
              1,
              "#fde725"
             ]
            ],
            "type": "contour"
           }
          ],
          "contourcarpet": [
           {
            "colorbar": {
             "outlinewidth": 1,
             "tickcolor": "rgb(36,36,36)",
             "ticks": "outside"
            },
            "type": "contourcarpet"
           }
          ],
          "heatmap": [
           {
            "colorbar": {
             "outlinewidth": 1,
             "tickcolor": "rgb(36,36,36)",
             "ticks": "outside"
            },
            "colorscale": [
             [
              0,
              "#440154"
             ],
             [
              0.1111111111111111,
              "#482878"
             ],
             [
              0.2222222222222222,
              "#3e4989"
             ],
             [
              0.3333333333333333,
              "#31688e"
             ],
             [
              0.4444444444444444,
              "#26828e"
             ],
             [
              0.5555555555555556,
              "#1f9e89"
             ],
             [
              0.6666666666666666,
              "#35b779"
             ],
             [
              0.7777777777777778,
              "#6ece58"
             ],
             [
              0.8888888888888888,
              "#b5de2b"
             ],
             [
              1,
              "#fde725"
             ]
            ],
            "type": "heatmap"
           }
          ],
          "histogram": [
           {
            "marker": {
             "line": {
              "color": "white",
              "width": 0.6
             }
            },
            "type": "histogram"
           }
          ],
          "histogram2d": [
           {
            "colorbar": {
             "outlinewidth": 1,
             "tickcolor": "rgb(36,36,36)",
             "ticks": "outside"
            },
            "colorscale": [
             [
              0,
              "#440154"
             ],
             [
              0.1111111111111111,
              "#482878"
             ],
             [
              0.2222222222222222,
              "#3e4989"
             ],
             [
              0.3333333333333333,
              "#31688e"
             ],
             [
              0.4444444444444444,
              "#26828e"
             ],
             [
              0.5555555555555556,
              "#1f9e89"
             ],
             [
              0.6666666666666666,
              "#35b779"
             ],
             [
              0.7777777777777778,
              "#6ece58"
             ],
             [
              0.8888888888888888,
              "#b5de2b"
             ],
             [
              1,
              "#fde725"
             ]
            ],
            "type": "histogram2d"
           }
          ],
          "histogram2dcontour": [
           {
            "colorbar": {
             "outlinewidth": 1,
             "tickcolor": "rgb(36,36,36)",
             "ticks": "outside"
            },
            "colorscale": [
             [
              0,
              "#440154"
             ],
             [
              0.1111111111111111,
              "#482878"
             ],
             [
              0.2222222222222222,
              "#3e4989"
             ],
             [
              0.3333333333333333,
              "#31688e"
             ],
             [
              0.4444444444444444,
              "#26828e"
             ],
             [
              0.5555555555555556,
              "#1f9e89"
             ],
             [
              0.6666666666666666,
              "#35b779"
             ],
             [
              0.7777777777777778,
              "#6ece58"
             ],
             [
              0.8888888888888888,
              "#b5de2b"
             ],
             [
              1,
              "#fde725"
             ]
            ],
            "type": "histogram2dcontour"
           }
          ],
          "mesh3d": [
           {
            "colorbar": {
             "outlinewidth": 1,
             "tickcolor": "rgb(36,36,36)",
             "ticks": "outside"
            },
            "type": "mesh3d"
           }
          ],
          "parcoords": [
           {
            "line": {
             "colorbar": {
              "outlinewidth": 1,
              "tickcolor": "rgb(36,36,36)",
              "ticks": "outside"
             }
            },
            "type": "parcoords"
           }
          ],
          "pie": [
           {
            "automargin": true,
            "type": "pie"
           }
          ],
          "scatter": [
           {
            "fillpattern": {
             "fillmode": "overlay",
             "size": 10,
             "solidity": 0.2
            },
            "type": "scatter"
           }
          ],
          "scatter3d": [
           {
            "line": {
             "colorbar": {
              "outlinewidth": 1,
              "tickcolor": "rgb(36,36,36)",
              "ticks": "outside"
             }
            },
            "marker": {
             "colorbar": {
              "outlinewidth": 1,
              "tickcolor": "rgb(36,36,36)",
              "ticks": "outside"
             }
            },
            "type": "scatter3d"
           }
          ],
          "scattercarpet": [
           {
            "marker": {
             "colorbar": {
              "outlinewidth": 1,
              "tickcolor": "rgb(36,36,36)",
              "ticks": "outside"
             }
            },
            "type": "scattercarpet"
           }
          ],
          "scattergeo": [
           {
            "marker": {
             "colorbar": {
              "outlinewidth": 1,
              "tickcolor": "rgb(36,36,36)",
              "ticks": "outside"
             }
            },
            "type": "scattergeo"
           }
          ],
          "scattergl": [
           {
            "marker": {
             "colorbar": {
              "outlinewidth": 1,
              "tickcolor": "rgb(36,36,36)",
              "ticks": "outside"
             }
            },
            "type": "scattergl"
           }
          ],
          "scattermap": [
           {
            "marker": {
             "colorbar": {
              "outlinewidth": 1,
              "tickcolor": "rgb(36,36,36)",
              "ticks": "outside"
             }
            },
            "type": "scattermap"
           }
          ],
          "scattermapbox": [
           {
            "marker": {
             "colorbar": {
              "outlinewidth": 1,
              "tickcolor": "rgb(36,36,36)",
              "ticks": "outside"
             }
            },
            "type": "scattermapbox"
           }
          ],
          "scatterpolar": [
           {
            "marker": {
             "colorbar": {
              "outlinewidth": 1,
              "tickcolor": "rgb(36,36,36)",
              "ticks": "outside"
             }
            },
            "type": "scatterpolar"
           }
          ],
          "scatterpolargl": [
           {
            "marker": {
             "colorbar": {
              "outlinewidth": 1,
              "tickcolor": "rgb(36,36,36)",
              "ticks": "outside"
             }
            },
            "type": "scatterpolargl"
           }
          ],
          "scatterternary": [
           {
            "marker": {
             "colorbar": {
              "outlinewidth": 1,
              "tickcolor": "rgb(36,36,36)",
              "ticks": "outside"
             }
            },
            "type": "scatterternary"
           }
          ],
          "surface": [
           {
            "colorbar": {
             "outlinewidth": 1,
             "tickcolor": "rgb(36,36,36)",
             "ticks": "outside"
            },
            "colorscale": [
             [
              0,
              "#440154"
             ],
             [
              0.1111111111111111,
              "#482878"
             ],
             [
              0.2222222222222222,
              "#3e4989"
             ],
             [
              0.3333333333333333,
              "#31688e"
             ],
             [
              0.4444444444444444,
              "#26828e"
             ],
             [
              0.5555555555555556,
              "#1f9e89"
             ],
             [
              0.6666666666666666,
              "#35b779"
             ],
             [
              0.7777777777777778,
              "#6ece58"
             ],
             [
              0.8888888888888888,
              "#b5de2b"
             ],
             [
              1,
              "#fde725"
             ]
            ],
            "type": "surface"
           }
          ],
          "table": [
           {
            "cells": {
             "fill": {
              "color": "rgb(237,237,237)"
             },
             "line": {
              "color": "white"
             }
            },
            "header": {
             "fill": {
              "color": "rgb(217,217,217)"
             },
             "line": {
              "color": "white"
             }
            },
            "type": "table"
           }
          ]
         },
         "layout": {
          "annotationdefaults": {
           "arrowhead": 0,
           "arrowwidth": 1
          },
          "autotypenumbers": "strict",
          "coloraxis": {
           "colorbar": {
            "outlinewidth": 1,
            "tickcolor": "rgb(36,36,36)",
            "ticks": "outside"
           }
          },
          "colorscale": {
           "diverging": [
            [
             0,
             "rgb(103,0,31)"
            ],
            [
             0.1,
             "rgb(178,24,43)"
            ],
            [
             0.2,
             "rgb(214,96,77)"
            ],
            [
             0.3,
             "rgb(244,165,130)"
            ],
            [
             0.4,
             "rgb(253,219,199)"
            ],
            [
             0.5,
             "rgb(247,247,247)"
            ],
            [
             0.6,
             "rgb(209,229,240)"
            ],
            [
             0.7,
             "rgb(146,197,222)"
            ],
            [
             0.8,
             "rgb(67,147,195)"
            ],
            [
             0.9,
             "rgb(33,102,172)"
            ],
            [
             1,
             "rgb(5,48,97)"
            ]
           ],
           "sequential": [
            [
             0,
             "#440154"
            ],
            [
             0.1111111111111111,
             "#482878"
            ],
            [
             0.2222222222222222,
             "#3e4989"
            ],
            [
             0.3333333333333333,
             "#31688e"
            ],
            [
             0.4444444444444444,
             "#26828e"
            ],
            [
             0.5555555555555556,
             "#1f9e89"
            ],
            [
             0.6666666666666666,
             "#35b779"
            ],
            [
             0.7777777777777778,
             "#6ece58"
            ],
            [
             0.8888888888888888,
             "#b5de2b"
            ],
            [
             1,
             "#fde725"
            ]
           ],
           "sequentialminus": [
            [
             0,
             "#440154"
            ],
            [
             0.1111111111111111,
             "#482878"
            ],
            [
             0.2222222222222222,
             "#3e4989"
            ],
            [
             0.3333333333333333,
             "#31688e"
            ],
            [
             0.4444444444444444,
             "#26828e"
            ],
            [
             0.5555555555555556,
             "#1f9e89"
            ],
            [
             0.6666666666666666,
             "#35b779"
            ],
            [
             0.7777777777777778,
             "#6ece58"
            ],
            [
             0.8888888888888888,
             "#b5de2b"
            ],
            [
             1,
             "#fde725"
            ]
           ]
          },
          "colorway": [
           "#1F77B4",
           "#FF7F0E",
           "#2CA02C",
           "#D62728",
           "#9467BD",
           "#8C564B",
           "#E377C2",
           "#7F7F7F",
           "#BCBD22",
           "#17BECF"
          ],
          "font": {
           "color": "rgb(36,36,36)"
          },
          "geo": {
           "bgcolor": "white",
           "lakecolor": "white",
           "landcolor": "white",
           "showlakes": true,
           "showland": true,
           "subunitcolor": "white"
          },
          "hoverlabel": {
           "align": "left"
          },
          "hovermode": "closest",
          "mapbox": {
           "style": "light"
          },
          "paper_bgcolor": "white",
          "plot_bgcolor": "white",
          "polar": {
           "angularaxis": {
            "gridcolor": "rgb(232,232,232)",
            "linecolor": "rgb(36,36,36)",
            "showgrid": false,
            "showline": true,
            "ticks": "outside"
           },
           "bgcolor": "white",
           "radialaxis": {
            "gridcolor": "rgb(232,232,232)",
            "linecolor": "rgb(36,36,36)",
            "showgrid": false,
            "showline": true,
            "ticks": "outside"
           }
          },
          "scene": {
           "xaxis": {
            "backgroundcolor": "white",
            "gridcolor": "rgb(232,232,232)",
            "gridwidth": 2,
            "linecolor": "rgb(36,36,36)",
            "showbackground": true,
            "showgrid": false,
            "showline": true,
            "ticks": "outside",
            "zeroline": false,
            "zerolinecolor": "rgb(36,36,36)"
           },
           "yaxis": {
            "backgroundcolor": "white",
            "gridcolor": "rgb(232,232,232)",
            "gridwidth": 2,
            "linecolor": "rgb(36,36,36)",
            "showbackground": true,
            "showgrid": false,
            "showline": true,
            "ticks": "outside",
            "zeroline": false,
            "zerolinecolor": "rgb(36,36,36)"
           },
           "zaxis": {
            "backgroundcolor": "white",
            "gridcolor": "rgb(232,232,232)",
            "gridwidth": 2,
            "linecolor": "rgb(36,36,36)",
            "showbackground": true,
            "showgrid": false,
            "showline": true,
            "ticks": "outside",
            "zeroline": false,
            "zerolinecolor": "rgb(36,36,36)"
           }
          },
          "shapedefaults": {
           "fillcolor": "black",
           "line": {
            "width": 0
           },
           "opacity": 0.3
          },
          "ternary": {
           "aaxis": {
            "gridcolor": "rgb(232,232,232)",
            "linecolor": "rgb(36,36,36)",
            "showgrid": false,
            "showline": true,
            "ticks": "outside"
           },
           "baxis": {
            "gridcolor": "rgb(232,232,232)",
            "linecolor": "rgb(36,36,36)",
            "showgrid": false,
            "showline": true,
            "ticks": "outside"
           },
           "bgcolor": "white",
           "caxis": {
            "gridcolor": "rgb(232,232,232)",
            "linecolor": "rgb(36,36,36)",
            "showgrid": false,
            "showline": true,
            "ticks": "outside"
           }
          },
          "title": {
           "x": 0.05
          },
          "xaxis": {
           "automargin": true,
           "gridcolor": "rgb(232,232,232)",
           "linecolor": "rgb(36,36,36)",
           "showgrid": false,
           "showline": true,
           "ticks": "outside",
           "title": {
            "standoff": 15
           },
           "zeroline": false,
           "zerolinecolor": "rgb(36,36,36)"
          },
          "yaxis": {
           "automargin": true,
           "gridcolor": "rgb(232,232,232)",
           "linecolor": "rgb(36,36,36)",
           "showgrid": false,
           "showline": true,
           "ticks": "outside",
           "title": {
            "standoff": 15
           },
           "zeroline": false,
           "zerolinecolor": "rgb(36,36,36)"
          }
         }
        },
        "title": {
         "text": "Instantaneous spectrum vs time (QUERA)"
        },
        "xaxis": {
         "title": {
          "text": "time [µs]"
         }
        },
        "yaxis": {
         "title": {
          "text": "energy [MHz]"
         }
        }
       }
      }
     },
     "metadata": {},
     "output_type": "display_data"
    }
   ],
   "source": [
    "import numpy as np\n",
    "from qutip import *\n",
    "\n",
    "# --------------------------\n",
    "# Platform scaling (pick one)\n",
    "# --------------------------\n",
    "PLATFORM = \"quera\"   # \"ibm\" or \"quera\"\n",
    "\n",
    "def platform_params(platform=\"ibm\"):\n",
    "    if platform.lower() == \"ibm\":\n",
    "        # IBM-style transmon (rad/s, seconds)\n",
    "        omega_max = 2*np.pi*12.5e6      # 40 ns pi pulse -> 12.5 MHz\n",
    "        T_max     = 0.32e-6             # ~8*pi/omega_max; use 1e-6..2e-6 for very adiabatic\n",
    "        Ep        = 2*np.pi*100e6       # penalty ~100 MHz\n",
    "        time_unit_label = \"time [µs]\"\n",
    "        energy_unit_label = \"energy [MHz]\"  # plots will convert rad/s -> MHz\n",
    "        to_time_units = 1e6             # s -> µs\n",
    "        to_freq_units = 1/(2*np.pi*1e6) # rad/s -> MHz\n",
    "    elif platform.lower() == \"quera\":\n",
    "        # QuEra Aquila (rad/µs, microseconds)\n",
    "        omega_max = 10.0                # <= 15.8 rad/µs\n",
    "        T_max     = 1.9                 # µs\n",
    "        Ep        = 30.0                # rad/µs (>> omega_max)\n",
    "        time_unit_label = \"time [µs]\"\n",
    "        energy_unit_label = \"energy [MHz]\"  # convert rad/µs -> MHz\n",
    "        to_time_units = 1.0             # µs -> µs\n",
    "        to_freq_units = 1/(2*np.pi)     # rad/µs -> MHz\n",
    "    else:\n",
    "        raise ValueError(\"PLATFORM must be 'ibm' or 'quera'\")\n",
    "    return dict(omega_max=omega_max, T_max=T_max, Ep=Ep,\n",
    "                time_unit_label=time_unit_label,\n",
    "                energy_unit_label=energy_unit_label,\n",
    "                to_time_units=to_time_units,\n",
    "                to_freq_units=to_freq_units)\n",
    "\n",
    "params = platform_params(PLATFORM)\n",
    "omega_max = params[\"omega_max\"]\n",
    "T_max     = params[\"T_max\"]\n",
    "Ep        = params[\"Ep\"]\n",
    "\n",
    "# --------------------------\n",
    "# Single-qubit primitives\n",
    "# --------------------------\n",
    "I = qeye(2)\n",
    "X = sigmax()\n",
    "Y = sigmay()\n",
    "Z = sigmaz()\n",
    "\n",
    "# --------------------------\n",
    "# Logical operators (3-qubit repetition, bit-flip code)\n",
    "# Code space: |0_L>=|000>, |1_L>=|111>\n",
    "# Stabilizers for X-error protection: Z1Z2 and Z2Z3\n",
    "# --------------------------\n",
    "X_L = tensor(X, X, X)\n",
    "Z_L = tensor(Z, Z, Z)              # acts nontrivially on code; anticommutes with X_L\n",
    "I_L = tensor(I, I, I)\n",
    "\n",
    "S1 = tensor(Z, Z, I)               # Z1 Z2\n",
    "S2 = tensor(I, Z, Z)               # Z2 Z3\n",
    "S_list = [S1, S2]\n",
    "\n",
    "# Penalty Hamiltonian: -Ep * (S1 + S2)\n",
    "Hp = -Ep * sum(S_list, 0*I_L)      # 'start' ensures Qobj sum\n",
    "\n",
    "# --------------------------\n",
    "# Basis & logical states (optional, for checks)\n",
    "# --------------------------\n",
    "basis_states = [basis(2, 0), basis(2, 1)]\n",
    "logical_zero = tensor(basis_states[0], basis_states[0], basis_states[0])\n",
    "logical_one  = tensor(basis_states[1], basis_states[1], basis_states[1])\n",
    "\n",
    "# --------------------------\n",
    "# RAP pulses\n",
    "# --------------------------\n",
    "def omega_t(t, T_max=T_max, omega_max=omega_max):\n",
    "    return omega_max * np.sin(np.pi * t / T_max)\n",
    "\n",
    "def delta_t(t, T_max=T_max, omega_max=omega_max):\n",
    "    return -omega_max * np.cos(np.pi * t / T_max)\n",
    "\n",
    "def H(t):\n",
    "    # Logical RAP drive\n",
    "    return X_L * omega_t(t) + Z_L * delta_t(t) + Hp\n",
    "\n",
    "# --------------------------\n",
    "# Time grid\n",
    "# --------------------------\n",
    "def time_list(num_points=101):\n",
    "    return np.linspace(0, T_max, num_points)\n",
    "\n",
    "t_list = time_list()\n",
    "\n",
    "# --------------------------\n",
    "# Spectrum vs. time with simple eigenstate matching\n",
    "# --------------------------\n",
    "def spectrum_track(t_list, n_track=2):\n",
    "    \"\"\"\n",
    "    Track the lowest 'n_track' eigenstates by overlap with t=0 eigenstates.\n",
    "    Returns: dict {idx: energies_over_time}\n",
    "    \"\"\"\n",
    "    # t=0 diagonalization\n",
    "    evals0, estates0 = H(0).eigenstates()\n",
    "    dim = len(evals0)\n",
    "    energies = {i: [evals0[i]] for i in range(dim)}\n",
    "\n",
    "    for k in range(1, len(t_list)):\n",
    "        t = t_list[k]\n",
    "        evals, estates = H(t).eigenstates()\n",
    "\n",
    "        # Track the first n_track states by overlap with initial estates0\n",
    "        used = set()\n",
    "        for i in range(n_track):\n",
    "            ref = estates0[i]\n",
    "            best_j, best_over = 0, -1.0\n",
    "            for j, psi in enumerate(estates):\n",
    "                if j in used:\n",
    "                    continue\n",
    "                ov = abs(ref.overlap(psi))**2\n",
    "                if ov > best_over:\n",
    "                    best_over, best_j = ov, j\n",
    "            energies[i].append(evals[best_j])\n",
    "            used.add(best_j)\n",
    "\n",
    "        # Append the rest by index (no tracking)\n",
    "        for i in range(n_track, dim):\n",
    "            energies[i].append(evals[i])\n",
    "\n",
    "    return energies, params\n",
    "\n",
    "energies, p = spectrum_track(t_list, n_track=2)\n",
    "\n",
    "# --------------------------\n",
    "# Plot with Plotly (kept your style; kaleido optional)\n",
    "# --------------------------\n",
    "import plotly.graph_objects as go\n",
    "import os\n",
    "\n",
    "# Pulses\n",
    "omega_vals = [omega_t(t) for t in t_list]\n",
    "delta_vals = [delta_t(t) for t in t_list]\n",
    "\n",
    "# Convert to nice plot units\n",
    "t_plot   = t_list * p[\"to_time_units\"]\n",
    "w_plot   = np.array(omega_vals) * p[\"to_freq_units\"]\n",
    "d_plot   = np.array(delta_vals) * p[\"to_freq_units\"]\n",
    "\n",
    "os.makedirs('pngs', exist_ok=True)\n",
    "\n",
    "fig = go.Figure()\n",
    "fig.add_trace(go.Scatter(x=t_plot, y=w_plot, mode='lines', name='Ω(t)'))\n",
    "fig.add_trace(go.Scatter(x=t_plot, y=d_plot, mode='lines', name='Δ(t)', line=dict(dash='dash')))\n",
    "fig.update_layout(\n",
    "    title=f\"RAP pulses ({PLATFORM.upper()})\",\n",
    "    xaxis_title=p[\"time_unit_label\"],\n",
    "    yaxis_title=\"amplitude [MHz]\",\n",
    "    template=\"simple_white\"\n",
    ")\n",
    "try:\n",
    "    fig.write_image('pngs/omega_delta.png', scale=2, width=800, height=500)\n",
    "except Exception as e:\n",
    "    pass\n",
    "fig.show()\n",
    "\n",
    "# Spectrum figure\n",
    "fig2 = go.Figure()\n",
    "colors_main = ['red', 'blue']\n",
    "for i, e_list in energies.items():\n",
    "    e_plot = np.array(e_list) * p[\"to_freq_units\"]\n",
    "    if i < 2:\n",
    "        fig2.add_trace(go.Scatter(x=t_plot, y=e_plot, mode='lines',\n",
    "                                  line=dict(width=3, color=colors_main[i%2]),\n",
    "                                  name=f\"tracked state {i}\"))\n",
    "    else:\n",
    "        fig2.add_trace(go.Scatter(x=t_plot, y=e_plot, mode='lines',\n",
    "                                  line=dict(width=1, dash='dash'),\n",
    "                                  name=f\"state {i}\"))\n",
    "fig2.update_layout(\n",
    "    title=f\"Instantaneous spectrum vs time ({PLATFORM.upper()})\",\n",
    "    xaxis_title=p[\"time_unit_label\"],\n",
    "    yaxis_title=p[\"energy_unit_label\"],\n",
    "    template=\"simple_white\",\n",
    "    legend_title=\"\"\n",
    ")\n",
    "try:\n",
    "    fig2.write_image('pngs/spectrum.png', scale=2, width=900, height=600)\n",
    "except Exception as e:\n",
    "    pass\n",
    "fig2.show()\n"
   ]
  }
 ],
 "metadata": {
  "kernelspec": {
   "display_name": "base",
   "language": "python",
   "name": "python3"
  },
  "language_info": {
   "codemirror_mode": {
    "name": "ipython",
    "version": 3
   },
   "file_extension": ".py",
   "mimetype": "text/x-python",
   "name": "python",
   "nbconvert_exporter": "python",
   "pygments_lexer": "ipython3",
   "version": "3.12.2"
  }
 },
 "nbformat": 4,
 "nbformat_minor": 5
}
