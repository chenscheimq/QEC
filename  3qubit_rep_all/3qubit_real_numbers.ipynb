{
 "cells": [
  {
   "cell_type": "code",
   "execution_count": 11,
   "id": "3ad0a448",
   "metadata": {},
   "outputs": [
    {
     "data": {
      "application/vnd.plotly.v1+json": {
       "config": {
        "plotlyServerURL": "https://plot.ly"
       },
       "data": [
        {
         "mode": "lines",
         "name": "Ω(t)",
         "type": "scatter",
         "x": {
          "bdata": "AAAAAAAAAAB7FK5H4XqUP3sUrkfheqQ/uR6F61G4rj97FK5H4Xq0P5mZmZmZmbk/uR6F61G4vj/sUbgehevBP3sUrkfhesQ/CtejcD0Kxz+ZmZmZmZnJPylcj8L1KMw/uR6F61G4zj+kcD0K16PQP+xRuB6F69E/MzMzMzMz0z97FK5H4XrUP8P1KFyPwtU/CtejcD0K1z9SuB6F61HYP5mZmZmZmdk/4XoUrkfh2j8pXI/C9SjcP3A9CtejcN0/uR6F61G43j8AAAAAAADgP6RwPQrXo+A/SOF6FK5H4T/sUbgehevhP5DC9Shcj+I/MzMzMzMz4z/Xo3A9CtfjP3sUrkfheuQ/H4XrUbge5T/D9Shcj8LlP2ZmZmZmZuY/CtejcD0K5z+uR+F6FK7nP1K4HoXrUeg/9ihcj8L16D+ZmZmZmZnpPz0K16NwPeo/4XoUrkfh6j+F61G4HoXrPylcj8L1KOw/zczMzMzM7D9wPQrXo3DtPxSuR+F6FO4/uR6F61G47j9cj8L1KFzvPwAAAAAAAPA/UrgehetR8D+kcD0K16PwP/YoXI/C9fA/SOF6FK5H8T+amZmZmZnxP+xRuB6F6/E/PgrXo3A98j+QwvUoXI/yP+F6FK5H4fI/MzMzMzMz8z+F61G4HoXzP9ejcD0K1/M/KVyPwvUo9D97FK5H4Xr0P83MzMzMzPQ/H4XrUbge9T9xPQrXo3D1P8P1KFyPwvU/Fa5H4XoU9j9mZmZmZmb2P7gehetRuPY/CtejcD0K9z9cj8L1KFz3P65H4XoUrvc/AAAAAAAA+D9SuB6F61H4P6RwPQrXo/g/9ihcj8L1+D9I4XoUrkf5P5mZmZmZmfk/61G4HoXr+T89CtejcD36P4/C9Shcj/o/4XoUrkfh+j8zMzMzMzP7P4XrUbgehfs/16NwPQrX+z8pXI/C9Sj8P3sUrkfhevw/zczMzMzM/D8ehetRuB79P3A9CtejcP0/wvUoXI/C/T8UrkfhehT+P2ZmZmZmZv4/uR6F61G4/j8L16NwPQr/P1yPwvUoXP8/r0fhehSu/z8AAAAAAAAAQA==",
          "dtype": "f8"
         },
         "y": {
          "bdata": "AAAAAAAAAAAWetJn7CDZP2zmjsu/Hek/s/L8e1jS8j+OH0zCDxH5P2YC99FxSf8/rrfqLva8AkCLKPyLd9AFQO3lZQt23ghA9lXPHCzmC0CL3DrG1eYOQN1txGrY7xBAG8TDiP5nEkCflkE1ftsTQENNJZX5SRVAcM3NERSzFkBHvHVwchYYQITeP+m6cxlAr8PlPZXKGkBtAQPQqhocQDJd97amYx1A0Fxa1TWlHkC10vrtBt8fQMiLMlxliCBAEGF1+hkdIUC3ZhPAe60hQNGf/DJmOSJAlML6+bXAIkBPbJ/lSEMjQAUa5/j9wCNAI7eOcbU5JEBPpxnQUK0kQFlEht+yGyVA/t2uvL+EJUBFXlXdXOglQLXK1xZxRiZA1fCLpOSeJkCxosAtofEmQAL/YsuRPidA4VdGDaOFJ0BnYg3/wsYnQMBxsyzhAShAH5i0pu42KEDhoNMF3mUoQM/vfG6jjihAaGrFkzSxKECLqQS6iM0oQB/LCbmY4yhAH1Xq/V7zKEDotGqM1/woQAAAAAAAAClA6LRqjNf8KEAfVer9XvMoQB/LCbmY4yhAiakEuojNKEBoasWTNLEoQM7vfG6jjihA4aDTBd5lKEAfmLSm7jYoQMBxsyzhAShAaGIN/8LGJ0DfV0YNo4UnQAL/YsuRPidAsqLALaHxJkDV8Iuk5J4mQLXK1xZxRiZARV5V3VzoJUD93a68v4QlQFlEht+yGyVATqcZ0FCtJEAjt45xtTkkQAUa5/j9wCNAT2yf5UhDI0CSwvr5tcAiQNKf/DJmOSJAuGYTwHutIUAOYXX6GR0hQMmLMlxliCBAs9L67QbfH0DLXFrVNaUeQDRd97amYx1AcAED0KoaHECvw+U9lcoaQIbeP+m6cxlARrx1cHIWGEBszc0RFLMWQEVNJZX5SRVAn5ZBNX7bE0AYxMOI/mcSQNttxGrY7xBAg9w6xtXmDkDxVc8cLOYLQO7lZQt23ghAkCj8i3fQBUCtt+ou9rwCQG0C99FxSf8/hB9Mwg8R+T+c8vx7WNLyP4Tmjsu/Hek/CXrSZ+wg2T/Kz8+vm5PbPA==",
          "dtype": "f8"
         }
        },
        {
         "line": {
          "dash": "dash"
         },
         "mode": "lines",
         "name": "Δ(t)",
         "type": "scatter",
         "x": {
          "bdata": "AAAAAAAAAAB7FK5H4XqUP3sUrkfheqQ/uR6F61G4rj97FK5H4Xq0P5mZmZmZmbk/uR6F61G4vj/sUbgehevBP3sUrkfhesQ/CtejcD0Kxz+ZmZmZmZnJPylcj8L1KMw/uR6F61G4zj+kcD0K16PQP+xRuB6F69E/MzMzMzMz0z97FK5H4XrUP8P1KFyPwtU/CtejcD0K1z9SuB6F61HYP5mZmZmZmdk/4XoUrkfh2j8pXI/C9SjcP3A9CtejcN0/uR6F61G43j8AAAAAAADgP6RwPQrXo+A/SOF6FK5H4T/sUbgehevhP5DC9Shcj+I/MzMzMzMz4z/Xo3A9CtfjP3sUrkfheuQ/H4XrUbge5T/D9Shcj8LlP2ZmZmZmZuY/CtejcD0K5z+uR+F6FK7nP1K4HoXrUeg/9ihcj8L16D+ZmZmZmZnpPz0K16NwPeo/4XoUrkfh6j+F61G4HoXrPylcj8L1KOw/zczMzMzM7D9wPQrXo3DtPxSuR+F6FO4/uR6F61G47j9cj8L1KFzvPwAAAAAAAPA/UrgehetR8D+kcD0K16PwP/YoXI/C9fA/SOF6FK5H8T+amZmZmZnxP+xRuB6F6/E/PgrXo3A98j+QwvUoXI/yP+F6FK5H4fI/MzMzMzMz8z+F61G4HoXzP9ejcD0K1/M/KVyPwvUo9D97FK5H4Xr0P83MzMzMzPQ/H4XrUbge9T9xPQrXo3D1P8P1KFyPwvU/Fa5H4XoU9j9mZmZmZmb2P7gehetRuPY/CtejcD0K9z9cj8L1KFz3P65H4XoUrvc/AAAAAAAA+D9SuB6F61H4P6RwPQrXo/g/9ihcj8L1+D9I4XoUrkf5P5mZmZmZmfk/61G4HoXr+T89CtejcD36P4/C9Shcj/o/4XoUrkfh+j8zMzMzMzP7P4XrUbgehfs/16NwPQrX+z8pXI/C9Sj8P3sUrkfhevw/zczMzMzM/D8ehetRuB79P3A9CtejcP0/wvUoXI/C/T8UrkfhehT+P2ZmZmZmZv4/uR6F61G4/j8L16NwPQr/P1yPwvUoXP8/r0fhehSu/z8AAAAAAAAAQA==",
          "dtype": "f8"
         },
         "y": {
          "bdata": "AAAAAAAAKcDotGqM1/wowB9V6v1e8yjAH8sJuZjjKMCLqQS6iM0owGhqxZM0sSjAz+98bqOOKMDioNMF3mUowB+YtKbuNijAwHGzLOEBKMBnYg3/wsYnwN9XRg2jhSfAAv9iy5E+J8CxosAtofEmwNXwi6TknibAtcrXFnFGJsBFXlXdXOglwP7drry/hCXAWUSG37IbJcBPpxnQUK0kwCO3jnG1OSTABRrn+P3AI8BObJ/lSEMjwJTC+vm1wCLA0Z/8MmY5IsC4ZhPAe60hwA5hdfoZHSHAyIsyXGWIIMC00vrtBt8fwNBcWtU1pR7AMl33tqZjHcBsAQPQqhocwK3D5T2VyhrAgt4/6bpzGcBHvHVwchYYwHLNzREUsxbAQU0llflJFcCilkE1ftsTwBrEw4j+ZxLA2m3EatjvEMCM3DrG1eYOwPZVzxws5gvA6+VlC3beCMCPKPyLd9AFwKu36i72vALAXQL30XFJ/7+OH0zCDxH5v7Hy/HtY0vK/ZuaOy78d6b8tetJn7CDZv8rPz6+bk8u8EnrSZ+wg2T9w5o7Lvx3pP7by/HtY0vI/lB9Mwg8R+T9jAvfRcUn/P7S36i72vAJAkCj8i3fQBUDu5WULdt4IQPJVzxws5gtAitw6xtXmDkDebcRq2O8QQB/Ew4j+ZxJAnZZBNX7bE0BDTSWV+UkVQHDNzREUsxZASrx1cHIWGECI3j/punMZQKvD5T2VyhpAbwED0KoaHEAxXfe2pmMdQM5cWtU1pR5AtdL67QbfH0DKizJcZYggQA1hdfoZHSFAt2YTwHutIUDSn/wyZjkiQJTC+vm1wCJAT2yf5UhDI0AHGuf4/cAjQCK3jnG1OSRATqcZ0FCtJEBZRIbfshslQP7drry/hCVARV5V3VzoJUC1ytcWcUYmQNPwi6TkniZAsaLALaHxJkAC/2LLkT4nQN9XRg2jhSdAaGIN/8LGJ0DAcbMs4QEoQB+YtKbuNihA4aDTBd5lKEDP73xuo44oQGZqxZM0sShAi6kEuojNKEAhywm5mOMoQB9V6v1e8yhA6LRqjNf8KEAAAAAAAAApQA==",
          "dtype": "f8"
         }
        }
       ],
       "layout": {
        "template": {
         "data": {
          "bar": [
           {
            "error_x": {
             "color": "rgb(36,36,36)"
            },
            "error_y": {
             "color": "rgb(36,36,36)"
            },
            "marker": {
             "line": {
              "color": "white",
              "width": 0.5
             },
             "pattern": {
              "fillmode": "overlay",
              "size": 10,
              "solidity": 0.2
             }
            },
            "type": "bar"
           }
          ],
          "barpolar": [
           {
            "marker": {
             "line": {
              "color": "white",
              "width": 0.5
             },
             "pattern": {
              "fillmode": "overlay",
              "size": 10,
              "solidity": 0.2
             }
            },
            "type": "barpolar"
           }
          ],
          "carpet": [
           {
            "aaxis": {
             "endlinecolor": "rgb(36,36,36)",
             "gridcolor": "white",
             "linecolor": "white",
             "minorgridcolor": "white",
             "startlinecolor": "rgb(36,36,36)"
            },
            "baxis": {
             "endlinecolor": "rgb(36,36,36)",
             "gridcolor": "white",
             "linecolor": "white",
             "minorgridcolor": "white",
             "startlinecolor": "rgb(36,36,36)"
            },
            "type": "carpet"
           }
          ],
          "choropleth": [
           {
            "colorbar": {
             "outlinewidth": 1,
             "tickcolor": "rgb(36,36,36)",
             "ticks": "outside"
            },
            "type": "choropleth"
           }
          ],
          "contour": [
           {
            "colorbar": {
             "outlinewidth": 1,
             "tickcolor": "rgb(36,36,36)",
             "ticks": "outside"
            },
            "colorscale": [
             [
              0,
              "#440154"
             ],
             [
              0.1111111111111111,
              "#482878"
             ],
             [
              0.2222222222222222,
              "#3e4989"
             ],
             [
              0.3333333333333333,
              "#31688e"
             ],
             [
              0.4444444444444444,
              "#26828e"
             ],
             [
              0.5555555555555556,
              "#1f9e89"
             ],
             [
              0.6666666666666666,
              "#35b779"
             ],
             [
              0.7777777777777778,
              "#6ece58"
             ],
             [
              0.8888888888888888,
              "#b5de2b"
             ],
             [
              1,
              "#fde725"
             ]
            ],
            "type": "contour"
           }
          ],
          "contourcarpet": [
           {
            "colorbar": {
             "outlinewidth": 1,
             "tickcolor": "rgb(36,36,36)",
             "ticks": "outside"
            },
            "type": "contourcarpet"
           }
          ],
          "heatmap": [
           {
            "colorbar": {
             "outlinewidth": 1,
             "tickcolor": "rgb(36,36,36)",
             "ticks": "outside"
            },
            "colorscale": [
             [
              0,
              "#440154"
             ],
             [
              0.1111111111111111,
              "#482878"
             ],
             [
              0.2222222222222222,
              "#3e4989"
             ],
             [
              0.3333333333333333,
              "#31688e"
             ],
             [
              0.4444444444444444,
              "#26828e"
             ],
             [
              0.5555555555555556,
              "#1f9e89"
             ],
             [
              0.6666666666666666,
              "#35b779"
             ],
             [
              0.7777777777777778,
              "#6ece58"
             ],
             [
              0.8888888888888888,
              "#b5de2b"
             ],
             [
              1,
              "#fde725"
             ]
            ],
            "type": "heatmap"
           }
          ],
          "histogram": [
           {
            "marker": {
             "line": {
              "color": "white",
              "width": 0.6
             }
            },
            "type": "histogram"
           }
          ],
          "histogram2d": [
           {
            "colorbar": {
             "outlinewidth": 1,
             "tickcolor": "rgb(36,36,36)",
             "ticks": "outside"
            },
            "colorscale": [
             [
              0,
              "#440154"
             ],
             [
              0.1111111111111111,
              "#482878"
             ],
             [
              0.2222222222222222,
              "#3e4989"
             ],
             [
              0.3333333333333333,
              "#31688e"
             ],
             [
              0.4444444444444444,
              "#26828e"
             ],
             [
              0.5555555555555556,
              "#1f9e89"
             ],
             [
              0.6666666666666666,
              "#35b779"
             ],
             [
              0.7777777777777778,
              "#6ece58"
             ],
             [
              0.8888888888888888,
              "#b5de2b"
             ],
             [
              1,
              "#fde725"
             ]
            ],
            "type": "histogram2d"
           }
          ],
          "histogram2dcontour": [
           {
            "colorbar": {
             "outlinewidth": 1,
             "tickcolor": "rgb(36,36,36)",
             "ticks": "outside"
            },
            "colorscale": [
             [
              0,
              "#440154"
             ],
             [
              0.1111111111111111,
              "#482878"
             ],
             [
              0.2222222222222222,
              "#3e4989"
             ],
             [
              0.3333333333333333,
              "#31688e"
             ],
             [
              0.4444444444444444,
              "#26828e"
             ],
             [
              0.5555555555555556,
              "#1f9e89"
             ],
             [
              0.6666666666666666,
              "#35b779"
             ],
             [
              0.7777777777777778,
              "#6ece58"
             ],
             [
              0.8888888888888888,
              "#b5de2b"
             ],
             [
              1,
              "#fde725"
             ]
            ],
            "type": "histogram2dcontour"
           }
          ],
          "mesh3d": [
           {
            "colorbar": {
             "outlinewidth": 1,
             "tickcolor": "rgb(36,36,36)",
             "ticks": "outside"
            },
            "type": "mesh3d"
           }
          ],
          "parcoords": [
           {
            "line": {
             "colorbar": {
              "outlinewidth": 1,
              "tickcolor": "rgb(36,36,36)",
              "ticks": "outside"
             }
            },
            "type": "parcoords"
           }
          ],
          "pie": [
           {
            "automargin": true,
            "type": "pie"
           }
          ],
          "scatter": [
           {
            "fillpattern": {
             "fillmode": "overlay",
             "size": 10,
             "solidity": 0.2
            },
            "type": "scatter"
           }
          ],
          "scatter3d": [
           {
            "line": {
             "colorbar": {
              "outlinewidth": 1,
              "tickcolor": "rgb(36,36,36)",
              "ticks": "outside"
             }
            },
            "marker": {
             "colorbar": {
              "outlinewidth": 1,
              "tickcolor": "rgb(36,36,36)",
              "ticks": "outside"
             }
            },
            "type": "scatter3d"
           }
          ],
          "scattercarpet": [
           {
            "marker": {
             "colorbar": {
              "outlinewidth": 1,
              "tickcolor": "rgb(36,36,36)",
              "ticks": "outside"
             }
            },
            "type": "scattercarpet"
           }
          ],
          "scattergeo": [
           {
            "marker": {
             "colorbar": {
              "outlinewidth": 1,
              "tickcolor": "rgb(36,36,36)",
              "ticks": "outside"
             }
            },
            "type": "scattergeo"
           }
          ],
          "scattergl": [
           {
            "marker": {
             "colorbar": {
              "outlinewidth": 1,
              "tickcolor": "rgb(36,36,36)",
              "ticks": "outside"
             }
            },
            "type": "scattergl"
           }
          ],
          "scattermap": [
           {
            "marker": {
             "colorbar": {
              "outlinewidth": 1,
              "tickcolor": "rgb(36,36,36)",
              "ticks": "outside"
             }
            },
            "type": "scattermap"
           }
          ],
          "scattermapbox": [
           {
            "marker": {
             "colorbar": {
              "outlinewidth": 1,
              "tickcolor": "rgb(36,36,36)",
              "ticks": "outside"
             }
            },
            "type": "scattermapbox"
           }
          ],
          "scatterpolar": [
           {
            "marker": {
             "colorbar": {
              "outlinewidth": 1,
              "tickcolor": "rgb(36,36,36)",
              "ticks": "outside"
             }
            },
            "type": "scatterpolar"
           }
          ],
          "scatterpolargl": [
           {
            "marker": {
             "colorbar": {
              "outlinewidth": 1,
              "tickcolor": "rgb(36,36,36)",
              "ticks": "outside"
             }
            },
            "type": "scatterpolargl"
           }
          ],
          "scatterternary": [
           {
            "marker": {
             "colorbar": {
              "outlinewidth": 1,
              "tickcolor": "rgb(36,36,36)",
              "ticks": "outside"
             }
            },
            "type": "scatterternary"
           }
          ],
          "surface": [
           {
            "colorbar": {
             "outlinewidth": 1,
             "tickcolor": "rgb(36,36,36)",
             "ticks": "outside"
            },
            "colorscale": [
             [
              0,
              "#440154"
             ],
             [
              0.1111111111111111,
              "#482878"
             ],
             [
              0.2222222222222222,
              "#3e4989"
             ],
             [
              0.3333333333333333,
              "#31688e"
             ],
             [
              0.4444444444444444,
              "#26828e"
             ],
             [
              0.5555555555555556,
              "#1f9e89"
             ],
             [
              0.6666666666666666,
              "#35b779"
             ],
             [
              0.7777777777777778,
              "#6ece58"
             ],
             [
              0.8888888888888888,
              "#b5de2b"
             ],
             [
              1,
              "#fde725"
             ]
            ],
            "type": "surface"
           }
          ],
          "table": [
           {
            "cells": {
             "fill": {
              "color": "rgb(237,237,237)"
             },
             "line": {
              "color": "white"
             }
            },
            "header": {
             "fill": {
              "color": "rgb(217,217,217)"
             },
             "line": {
              "color": "white"
             }
            },
            "type": "table"
           }
          ]
         },
         "layout": {
          "annotationdefaults": {
           "arrowhead": 0,
           "arrowwidth": 1
          },
          "autotypenumbers": "strict",
          "coloraxis": {
           "colorbar": {
            "outlinewidth": 1,
            "tickcolor": "rgb(36,36,36)",
            "ticks": "outside"
           }
          },
          "colorscale": {
           "diverging": [
            [
             0,
             "rgb(103,0,31)"
            ],
            [
             0.1,
             "rgb(178,24,43)"
            ],
            [
             0.2,
             "rgb(214,96,77)"
            ],
            [
             0.3,
             "rgb(244,165,130)"
            ],
            [
             0.4,
             "rgb(253,219,199)"
            ],
            [
             0.5,
             "rgb(247,247,247)"
            ],
            [
             0.6,
             "rgb(209,229,240)"
            ],
            [
             0.7,
             "rgb(146,197,222)"
            ],
            [
             0.8,
             "rgb(67,147,195)"
            ],
            [
             0.9,
             "rgb(33,102,172)"
            ],
            [
             1,
             "rgb(5,48,97)"
            ]
           ],
           "sequential": [
            [
             0,
             "#440154"
            ],
            [
             0.1111111111111111,
             "#482878"
            ],
            [
             0.2222222222222222,
             "#3e4989"
            ],
            [
             0.3333333333333333,
             "#31688e"
            ],
            [
             0.4444444444444444,
             "#26828e"
            ],
            [
             0.5555555555555556,
             "#1f9e89"
            ],
            [
             0.6666666666666666,
             "#35b779"
            ],
            [
             0.7777777777777778,
             "#6ece58"
            ],
            [
             0.8888888888888888,
             "#b5de2b"
            ],
            [
             1,
             "#fde725"
            ]
           ],
           "sequentialminus": [
            [
             0,
             "#440154"
            ],
            [
             0.1111111111111111,
             "#482878"
            ],
            [
             0.2222222222222222,
             "#3e4989"
            ],
            [
             0.3333333333333333,
             "#31688e"
            ],
            [
             0.4444444444444444,
             "#26828e"
            ],
            [
             0.5555555555555556,
             "#1f9e89"
            ],
            [
             0.6666666666666666,
             "#35b779"
            ],
            [
             0.7777777777777778,
             "#6ece58"
            ],
            [
             0.8888888888888888,
             "#b5de2b"
            ],
            [
             1,
             "#fde725"
            ]
           ]
          },
          "colorway": [
           "#1F77B4",
           "#FF7F0E",
           "#2CA02C",
           "#D62728",
           "#9467BD",
           "#8C564B",
           "#E377C2",
           "#7F7F7F",
           "#BCBD22",
           "#17BECF"
          ],
          "font": {
           "color": "rgb(36,36,36)"
          },
          "geo": {
           "bgcolor": "white",
           "lakecolor": "white",
           "landcolor": "white",
           "showlakes": true,
           "showland": true,
           "subunitcolor": "white"
          },
          "hoverlabel": {
           "align": "left"
          },
          "hovermode": "closest",
          "mapbox": {
           "style": "light"
          },
          "paper_bgcolor": "white",
          "plot_bgcolor": "white",
          "polar": {
           "angularaxis": {
            "gridcolor": "rgb(232,232,232)",
            "linecolor": "rgb(36,36,36)",
            "showgrid": false,
            "showline": true,
            "ticks": "outside"
           },
           "bgcolor": "white",
           "radialaxis": {
            "gridcolor": "rgb(232,232,232)",
            "linecolor": "rgb(36,36,36)",
            "showgrid": false,
            "showline": true,
            "ticks": "outside"
           }
          },
          "scene": {
           "xaxis": {
            "backgroundcolor": "white",
            "gridcolor": "rgb(232,232,232)",
            "gridwidth": 2,
            "linecolor": "rgb(36,36,36)",
            "showbackground": true,
            "showgrid": false,
            "showline": true,
            "ticks": "outside",
            "zeroline": false,
            "zerolinecolor": "rgb(36,36,36)"
           },
           "yaxis": {
            "backgroundcolor": "white",
            "gridcolor": "rgb(232,232,232)",
            "gridwidth": 2,
            "linecolor": "rgb(36,36,36)",
            "showbackground": true,
            "showgrid": false,
            "showline": true,
            "ticks": "outside",
            "zeroline": false,
            "zerolinecolor": "rgb(36,36,36)"
           },
           "zaxis": {
            "backgroundcolor": "white",
            "gridcolor": "rgb(232,232,232)",
            "gridwidth": 2,
            "linecolor": "rgb(36,36,36)",
            "showbackground": true,
            "showgrid": false,
            "showline": true,
            "ticks": "outside",
            "zeroline": false,
            "zerolinecolor": "rgb(36,36,36)"
           }
          },
          "shapedefaults": {
           "fillcolor": "black",
           "line": {
            "width": 0
           },
           "opacity": 0.3
          },
          "ternary": {
           "aaxis": {
            "gridcolor": "rgb(232,232,232)",
            "linecolor": "rgb(36,36,36)",
            "showgrid": false,
            "showline": true,
            "ticks": "outside"
           },
           "baxis": {
            "gridcolor": "rgb(232,232,232)",
            "linecolor": "rgb(36,36,36)",
            "showgrid": false,
            "showline": true,
            "ticks": "outside"
           },
           "bgcolor": "white",
           "caxis": {
            "gridcolor": "rgb(232,232,232)",
            "linecolor": "rgb(36,36,36)",
            "showgrid": false,
            "showline": true,
            "ticks": "outside"
           }
          },
          "title": {
           "x": 0.05
          },
          "xaxis": {
           "automargin": true,
           "gridcolor": "rgb(232,232,232)",
           "linecolor": "rgb(36,36,36)",
           "showgrid": false,
           "showline": true,
           "ticks": "outside",
           "title": {
            "standoff": 15
           },
           "zeroline": false,
           "zerolinecolor": "rgb(36,36,36)"
          },
          "yaxis": {
           "automargin": true,
           "gridcolor": "rgb(232,232,232)",
           "linecolor": "rgb(36,36,36)",
           "showgrid": false,
           "showline": true,
           "ticks": "outside",
           "title": {
            "standoff": 15
           },
           "zeroline": false,
           "zerolinecolor": "rgb(36,36,36)"
          }
         }
        },
        "title": {
         "text": "RAP pulses (IBM)"
        },
        "xaxis": {
         "title": {
          "text": "time [µs]"
         }
        },
        "yaxis": {
         "title": {
          "text": "amplitude [MHz]"
         }
        }
       }
      }
     },
     "metadata": {},
     "output_type": "display_data"
    },
    {
     "data": {
      "application/vnd.plotly.v1+json": {
       "config": {
        "plotlyServerURL": "https://plot.ly"
       },
       "data": [
        {
         "line": {
          "color": "red",
          "width": 3
         },
         "mode": "lines",
         "name": "tracked state 0",
         "type": "scatter",
         "x": {
          "bdata": "AAAAAAAAAAB7FK5H4XqUP3sUrkfheqQ/uR6F61G4rj97FK5H4Xq0P5mZmZmZmbk/uR6F61G4vj/sUbgehevBP3sUrkfhesQ/CtejcD0Kxz+ZmZmZmZnJPylcj8L1KMw/uR6F61G4zj+kcD0K16PQP+xRuB6F69E/MzMzMzMz0z97FK5H4XrUP8P1KFyPwtU/CtejcD0K1z9SuB6F61HYP5mZmZmZmdk/4XoUrkfh2j8pXI/C9SjcP3A9CtejcN0/uR6F61G43j8AAAAAAADgP6RwPQrXo+A/SOF6FK5H4T/sUbgehevhP5DC9Shcj+I/MzMzMzMz4z/Xo3A9CtfjP3sUrkfheuQ/H4XrUbge5T/D9Shcj8LlP2ZmZmZmZuY/CtejcD0K5z+uR+F6FK7nP1K4HoXrUeg/9ihcj8L16D+ZmZmZmZnpPz0K16NwPeo/4XoUrkfh6j+F61G4HoXrPylcj8L1KOw/zczMzMzM7D9wPQrXo3DtPxSuR+F6FO4/uR6F61G47j9cj8L1KFzvPwAAAAAAAPA/UrgehetR8D+kcD0K16PwP/YoXI/C9fA/SOF6FK5H8T+amZmZmZnxP+xRuB6F6/E/PgrXo3A98j+QwvUoXI/yP+F6FK5H4fI/MzMzMzMz8z+F61G4HoXzP9ejcD0K1/M/KVyPwvUo9D97FK5H4Xr0P83MzMzMzPQ/H4XrUbge9T9xPQrXo3D1P8P1KFyPwvU/Fa5H4XoU9j9mZmZmZmb2P7gehetRuPY/CtejcD0K9z9cj8L1KFz3P65H4XoUrvc/AAAAAAAA+D9SuB6F61H4P6RwPQrXo/g/9ihcj8L1+D9I4XoUrkf5P5mZmZmZmfk/61G4HoXr+T89CtejcD36P4/C9Shcj/o/4XoUrkfh+j8zMzMzMzP7P4XrUbgehfs/16NwPQrX+z8pXI/C9Sj8P3sUrkfhevw/zczMzMzM/D8ehetRuB79P3A9CtejcP0/wvUoXI/C/T8UrkfhehT+P2ZmZmZmZv4/uR6F61G4/j8L16NwPQr/P1yPwvUoXP8/r0fhehSu/z8AAAAAAAAAQA==",
          "dtype": "f8"
         },
         "y": {
          "bdata": "AAAAAACQasAFAAAAAJBqwAAAAAAAkGrAAgAAAACQasAAAAAAAJBqwAAAAAAAkGrAAAAAAACQasAFAAAAAJBqwAAAAAAAkGrAAgAAAACQasAAAAAAAJBqwAIAAAAAkGrAAAAAAACQasACAAAAAJBqwAIAAAAAkGrAAgAAAACQasAAAAAAAJBqwAIAAAAAkGrAAAAAAACQasAAAAAAAJBqwAIAAAAAkGrAAgAAAACQasAAAAAAAJBqwAIAAAAAkGrAAAAAAACQasAAAAAAAJBqwAAAAAAAkGrAAAAAAACQasAAAAAAAJBqwAAAAAAAkGrAAAAAAACQasAAAAAAAJBqwAAAAAAAkGrAAAAAAACQasAAAAAAAJBqwAAAAAAAkGrAAAAAAACQasAAAAAAAJBqwAAAAAAAkGrA/v////+PasAAAAAAAJBqwAAAAAAAkGrAAAAAAACQasAAAAAAAJBqwAAAAAAAkGrAAAAAAACQasAAAAAAAJBqwAAAAAAAkGrAAAAAAACQasD+/////49qwAAAAAAAkGrA/v////9vZ8D+/////29nwAAAAAAAcGfAAAAAAABwZ8AAAAAAAHBnwAAAAAAAcGfAAAAAAABwZ8AAAAAAAHBnwAAAAAAAcGfAAAAAAABwZ8AAAAAAAHBnwAAAAAAAcGfAAAAAAABwZ8AAAAAAAHBnwAAAAAAAcGfAAAAAAABwZ8AAAAAAAHBnwP7/////b2fAAAAAAABwZ8AAAAAAAHBnwAAAAAAAcGfAAAAAAABwZ8AAAAAAAHBnwAAAAAAAcGfAAAAAAABwZ8ABAAAAAHBnwAAAAAAAcGfAAQAAAABwZ8AAAAAAAHBnwAAAAAAAcGfAAAAAAABwZ8AAAAAAAHBnwAEAAAAAcGfAAAAAAABwZ8AAAAAAAHBnwAIAAAAAcGfAAQAAAABwZ8AAAAAAAHBnwAIAAAAAcGfAAAAAAABwZ8ACAAAAAHBnwAAAAAAAcGfAAgAAAABwZ8AAAAAAAHBnwAAAAAAAcGfAAAAAAABwZ8ACAAAAAHBnwAAAAAAAcGfAAQAAAABwZ8AAAAAAAHBnwA==",
          "dtype": "f8"
         }
        },
        {
         "line": {
          "color": "blue",
          "width": 3
         },
         "mode": "lines",
         "name": "tracked state 1",
         "type": "scatter",
         "x": {
          "bdata": "AAAAAAAAAAB7FK5H4XqUP3sUrkfheqQ/uR6F61G4rj97FK5H4Xq0P5mZmZmZmbk/uR6F61G4vj/sUbgehevBP3sUrkfhesQ/CtejcD0Kxz+ZmZmZmZnJPylcj8L1KMw/uR6F61G4zj+kcD0K16PQP+xRuB6F69E/MzMzMzMz0z97FK5H4XrUP8P1KFyPwtU/CtejcD0K1z9SuB6F61HYP5mZmZmZmdk/4XoUrkfh2j8pXI/C9SjcP3A9CtejcN0/uR6F61G43j8AAAAAAADgP6RwPQrXo+A/SOF6FK5H4T/sUbgehevhP5DC9Shcj+I/MzMzMzMz4z/Xo3A9CtfjP3sUrkfheuQ/H4XrUbge5T/D9Shcj8LlP2ZmZmZmZuY/CtejcD0K5z+uR+F6FK7nP1K4HoXrUeg/9ihcj8L16D+ZmZmZmZnpPz0K16NwPeo/4XoUrkfh6j+F61G4HoXrPylcj8L1KOw/zczMzMzM7D9wPQrXo3DtPxSuR+F6FO4/uR6F61G47j9cj8L1KFzvPwAAAAAAAPA/UrgehetR8D+kcD0K16PwP/YoXI/C9fA/SOF6FK5H8T+amZmZmZnxP+xRuB6F6/E/PgrXo3A98j+QwvUoXI/yP+F6FK5H4fI/MzMzMzMz8z+F61G4HoXzP9ejcD0K1/M/KVyPwvUo9D97FK5H4Xr0P83MzMzMzPQ/H4XrUbge9T9xPQrXo3D1P8P1KFyPwvU/Fa5H4XoU9j9mZmZmZmb2P7gehetRuPY/CtejcD0K9z9cj8L1KFz3P65H4XoUrvc/AAAAAAAA+D9SuB6F61H4P6RwPQrXo/g/9ihcj8L1+D9I4XoUrkf5P5mZmZmZmfk/61G4HoXr+T89CtejcD36P4/C9Shcj/o/4XoUrkfh+j8zMzMzMzP7P4XrUbgehfs/16NwPQrX+z8pXI/C9Sj8P3sUrkfhevw/zczMzMzM/D8ehetRuB79P3A9CtejcP0/wvUoXI/C/T8UrkfhehT+P2ZmZmZmZv4/uR6F61G4/j8L16NwPQr/P1yPwvUoXP8/r0fhehSu/z8AAAAAAAAAQA==",
          "dtype": "f8"
         },
         "y": {
          "bdata": "AAAAAABwZ8D6/////29nwAAAAAAAcGfAAgAAAABwZ8AAAAAAAHBnwAAAAAAAcGfAAAAAAABwZ8D6/////29nwAAAAAAAcGfAAAAAAABwZ8AAAAAAAHBnwPr/////b2fAAAAAAABwZ8AAAAAAAHBnwAAAAAAAcGfAAAAAAABwZ8AAAAAAAHBnwAAAAAAAcGfAAAAAAABwZ8AAAAAAAHBnwAAAAAAAcGfAAAAAAABwZ8AAAAAAAHBnwAAAAAAAcGfAAAAAAABwZ8ABAAAAAHBnwP3/////b2fAAAAAAABwZ8ABAAAAAHBnwAAAAAAAcGfAAAAAAABwZ8ABAAAAAHBnwAAAAAAAcGfA/v////9vZ8ABAAAAAHBnwAAAAAAAcGfAAQAAAABwZ8AAAAAAAHBnwP7/////b2fA/f////9vZ8D+/////29nwAAAAAAAcGfA/v////9vZ8ABAAAAAHBnwAAAAAAAcGfAAAAAAABwZ8AAAAAAAHBnwAEAAAAAcGfAAAAAAABwZ8D+/////29nwAAAAAAAcGfA/v////+PasD+/////49qwP7/////j2rA/v////+PasAAAAAAAJBqwP7/////j2rA/v////+PasAAAAAAAJBqwAAAAAAAkGrAAAAAAACQasAAAAAAAJBqwAAAAAAAkGrAAAAAAACQasD+/////49qwAAAAAAAkGrA/v////+PasAAAAAAAJBqwP3/////j2rA/f////+PasAAAAAAAJBqwP7/////j2rA/f////+PasD+/////49qwAAAAAAAkGrA/f////+PasACAAAAAJBqwAAAAAAAkGrA/P////+PasAAAAAAAJBqwP7/////j2rAAAAAAACQasD+/////49qwPz/////j2rA/v////+PasD+/////49qwAIAAAAAkGrABQAAAACQasD+/////49qwAIAAAAAkGrA/v////+PasAAAAAAAJBqwAAAAAAAkGrAAgAAAACQasAAAAAAAJBqwP7/////j2rAAAAAAACQasAAAAAAAJBqwAAAAAAAkGrABQAAAACQasAAAAAAAJBqwA==",
          "dtype": "f8"
         }
        },
        {
         "line": {
          "dash": "dash",
          "width": 1
         },
         "mode": "lines",
         "name": "state 2",
         "type": "scatter",
         "x": {
          "bdata": "AAAAAAAAAAB7FK5H4XqUP3sUrkfheqQ/uR6F61G4rj97FK5H4Xq0P5mZmZmZmbk/uR6F61G4vj/sUbgehevBP3sUrkfhesQ/CtejcD0Kxz+ZmZmZmZnJPylcj8L1KMw/uR6F61G4zj+kcD0K16PQP+xRuB6F69E/MzMzMzMz0z97FK5H4XrUP8P1KFyPwtU/CtejcD0K1z9SuB6F61HYP5mZmZmZmdk/4XoUrkfh2j8pXI/C9SjcP3A9CtejcN0/uR6F61G43j8AAAAAAADgP6RwPQrXo+A/SOF6FK5H4T/sUbgehevhP5DC9Shcj+I/MzMzMzMz4z/Xo3A9CtfjP3sUrkfheuQ/H4XrUbge5T/D9Shcj8LlP2ZmZmZmZuY/CtejcD0K5z+uR+F6FK7nP1K4HoXrUeg/9ihcj8L16D+ZmZmZmZnpPz0K16NwPeo/4XoUrkfh6j+F61G4HoXrPylcj8L1KOw/zczMzMzM7D9wPQrXo3DtPxSuR+F6FO4/uR6F61G47j9cj8L1KFzvPwAAAAAAAPA/UrgehetR8D+kcD0K16PwP/YoXI/C9fA/SOF6FK5H8T+amZmZmZnxP+xRuB6F6/E/PgrXo3A98j+QwvUoXI/yP+F6FK5H4fI/MzMzMzMz8z+F61G4HoXzP9ejcD0K1/M/KVyPwvUo9D97FK5H4Xr0P83MzMzMzPQ/H4XrUbge9T9xPQrXo3D1P8P1KFyPwvU/Fa5H4XoU9j9mZmZmZmb2P7gehetRuPY/CtejcD0K9z9cj8L1KFz3P65H4XoUrvc/AAAAAAAA+D9SuB6F61H4P6RwPQrXo/g/9ihcj8L1+D9I4XoUrkf5P5mZmZmZmfk/61G4HoXr+T89CtejcD36P4/C9Shcj/o/4XoUrkfh+j8zMzMzMzP7P4XrUbgehfs/16NwPQrX+z8pXI/C9Sj8P3sUrkfhevw/zczMzMzM/D8ehetRuB79P3A9CtejcP0/wvUoXI/C/T8UrkfhehT+P2ZmZmZmZv4/uR6F61G4/j8L16NwPQr/P1yPwvUoXP8/r0fhehSu/z8AAAAAAAAAQA==",
          "dtype": "f8"
         },
         "y": {
          "bdata": "AAAAAAAAKcAFAAAAAAApwAEAAAAAACnA/P//////KMABAAAAAAApwAEAAAAAACnABAAAAAAAKcAFAAAAAAApwAEAAAAAACnA/v//////KMD+//////8owP7//////yjAAQAAAAAAKcAFAAAAAAApwAUAAAAAACnABAAAAAAAKcABAAAAAAApwAQAAAAAACnAAQAAAAAAKcABAAAAAAApwAEAAAAAACnA/v//////KMD+//////8owAEAAAAAACnAAQAAAAAAKcDy//////8owAYAAAAAACnA+v//////KMDy//////8owPr//////yjA+v//////KMD1//////8owPr//////yjA+v//////KMD4//////8owPr//////yjA+P//////KMD6//////8owP3//////yjA/f//////KMD4//////8owPr//////yjA/f//////KMD4//////8owP3//////yjA+v//////KMD6//////8owPr//////yjA+v//////KMD9//////8owPj//////yjAAAAAAAAAKcD6//////8owP3//////yjA/f//////KMD4//////8owP3//////yjA/f//////KMACAAAAAAApwPr//////yjAAAAAAAAAKcD9//////8owPr//////yjA+v//////KMD6//////8owPr//////yjA/f//////KMD4//////8owA0AAAAAACnA/f//////KMD6//////8owP3//////yjA/f//////KMD6//////8owPr//////yjA/f//////KMAOAAAAAAApwAEAAAAAACnA/v//////KMAGAAAAAAApwP7//////yjAAQAAAAAAKcABAAAAAAApwAQAAAAAACnA/v//////KMAEAAAAAAApwAYAAAAAACnABgAAAAAAKcABAAAAAAApwAEAAAAAACnAAQAAAAAAKcD+//////8owAEAAAAAACnABAAAAAAAKcAEAAAAAAApwP7//////yjABAAAAAAAKcD+//////8owAEAAAAAACnACQAAAAAAKcAAAAAAAAApwA==",
          "dtype": "f8"
         }
        },
        {
         "line": {
          "dash": "dash",
          "width": 1
         },
         "mode": "lines",
         "name": "state 3",
         "type": "scatter",
         "x": {
          "bdata": "AAAAAAAAAAB7FK5H4XqUP3sUrkfheqQ/uR6F61G4rj97FK5H4Xq0P5mZmZmZmbk/uR6F61G4vj/sUbgehevBP3sUrkfhesQ/CtejcD0Kxz+ZmZmZmZnJPylcj8L1KMw/uR6F61G4zj+kcD0K16PQP+xRuB6F69E/MzMzMzMz0z97FK5H4XrUP8P1KFyPwtU/CtejcD0K1z9SuB6F61HYP5mZmZmZmdk/4XoUrkfh2j8pXI/C9SjcP3A9CtejcN0/uR6F61G43j8AAAAAAADgP6RwPQrXo+A/SOF6FK5H4T/sUbgehevhP5DC9Shcj+I/MzMzMzMz4z/Xo3A9CtfjP3sUrkfheuQ/H4XrUbge5T/D9Shcj8LlP2ZmZmZmZuY/CtejcD0K5z+uR+F6FK7nP1K4HoXrUeg/9ihcj8L16D+ZmZmZmZnpPz0K16NwPeo/4XoUrkfh6j+F61G4HoXrPylcj8L1KOw/zczMzMzM7D9wPQrXo3DtPxSuR+F6FO4/uR6F61G47j9cj8L1KFzvPwAAAAAAAPA/UrgehetR8D+kcD0K16PwP/YoXI/C9fA/SOF6FK5H8T+amZmZmZnxP+xRuB6F6/E/PgrXo3A98j+QwvUoXI/yP+F6FK5H4fI/MzMzMzMz8z+F61G4HoXzP9ejcD0K1/M/KVyPwvUo9D97FK5H4Xr0P83MzMzMzPQ/H4XrUbge9T9xPQrXo3D1P8P1KFyPwvU/Fa5H4XoU9j9mZmZmZmb2P7gehetRuPY/CtejcD0K9z9cj8L1KFz3P65H4XoUrvc/AAAAAAAA+D9SuB6F61H4P6RwPQrXo/g/9ihcj8L1+D9I4XoUrkf5P5mZmZmZmfk/61G4HoXr+T89CtejcD36P4/C9Shcj/o/4XoUrkfh+j8zMzMzMzP7P4XrUbgehfs/16NwPQrX+z8pXI/C9Sj8P3sUrkfhevw/zczMzMzM/D8ehetRuB79P3A9CtejcP0/wvUoXI/C/T8UrkfhehT+P2ZmZmZmZv4/uR6F61G4/j8L16NwPQr/P1yPwvUoXP8/r0fhehSu/z8AAAAAAAAAQA==",
          "dtype": "f8"
         },
         "y": {
          "bdata": "AAAAAAAAKcD+//////8owPn//////yjA9v//////KMABAAAAAAApwPn//////yjA/P//////KMABAAAAAAApwPz//////yjA+P//////KMD5//////8owPb//////yjA/v//////KMD+//////8owAIAAAAAACnA/v//////KMD5//////8owPz//////yjA/P//////KMABAAAAAAApwP3//////yjA9v//////KMD8//////8owP7//////yjA+f//////KMDw//////8owP7//////yjA8v//////KMDt//////8owPj//////yjA8v//////KMDw//////8owPX//////yjA8v//////KMDt//////8owPj//////yjA8v//////KMD4//////8owPX//////yjA+P//////KMD1//////8owPL//////yjA8v//////KMDy//////8owPL//////yjA+P//////KMDy//////8owPX//////yjA9f//////KMD1//////8owPj//////yjA8v//////KMDy//////8owPX//////yjA8v//////KMD4//////8owPX//////yjA+P//////KMD1//////8owPX//////yjA+P//////KMD1//////8owPj//////yjA+P//////KMDy//////8owPr//////yjA8v//////KMD4//////8owAAAAAAAACnA8v//////KMDy//////8owPr//////yjA9f//////KMDt//////8owPX//////yjA9f//////KMD+//////8owAEAAAAAACnA+f//////KMABAAAAAAApwPz//////yjAAQAAAAAAKcD8//////8owAEAAAAAACnA+f//////KMAEAAAAAAApwAEAAAAAACnABAAAAAAAKcD5//////8owPH//////yjA/P//////KMDx//////8owPz//////yjAAQAAAAAAKcD5//////8owPn//////yjAAQAAAAAAKcD2//////8owPn//////yjABAAAAAAAKcD+//////8owA==",
          "dtype": "f8"
         }
        },
        {
         "line": {
          "dash": "dash",
          "width": 1
         },
         "mode": "lines",
         "name": "state 4",
         "type": "scatter",
         "x": {
          "bdata": "AAAAAAAAAAB7FK5H4XqUP3sUrkfheqQ/uR6F61G4rj97FK5H4Xq0P5mZmZmZmbk/uR6F61G4vj/sUbgehevBP3sUrkfhesQ/CtejcD0Kxz+ZmZmZmZnJPylcj8L1KMw/uR6F61G4zj+kcD0K16PQP+xRuB6F69E/MzMzMzMz0z97FK5H4XrUP8P1KFyPwtU/CtejcD0K1z9SuB6F61HYP5mZmZmZmdk/4XoUrkfh2j8pXI/C9SjcP3A9CtejcN0/uR6F61G43j8AAAAAAADgP6RwPQrXo+A/SOF6FK5H4T/sUbgehevhP5DC9Shcj+I/MzMzMzMz4z/Xo3A9CtfjP3sUrkfheuQ/H4XrUbge5T/D9Shcj8LlP2ZmZmZmZuY/CtejcD0K5z+uR+F6FK7nP1K4HoXrUeg/9ihcj8L16D+ZmZmZmZnpPz0K16NwPeo/4XoUrkfh6j+F61G4HoXrPylcj8L1KOw/zczMzMzM7D9wPQrXo3DtPxSuR+F6FO4/uR6F61G47j9cj8L1KFzvPwAAAAAAAPA/UrgehetR8D+kcD0K16PwP/YoXI/C9fA/SOF6FK5H8T+amZmZmZnxP+xRuB6F6/E/PgrXo3A98j+QwvUoXI/yP+F6FK5H4fI/MzMzMzMz8z+F61G4HoXzP9ejcD0K1/M/KVyPwvUo9D97FK5H4Xr0P83MzMzMzPQ/H4XrUbge9T9xPQrXo3D1P8P1KFyPwvU/Fa5H4XoU9j9mZmZmZmb2P7gehetRuPY/CtejcD0K9z9cj8L1KFz3P65H4XoUrvc/AAAAAAAA+D9SuB6F61H4P6RwPQrXo/g/9ihcj8L1+D9I4XoUrkf5P5mZmZmZmfk/61G4HoXr+T89CtejcD36P4/C9Shcj/o/4XoUrkfh+j8zMzMzMzP7P4XrUbgehfs/16NwPQrX+z8pXI/C9Sj8P3sUrkfhevw/zczMzMzM/D8ehetRuB79P3A9CtejcP0/wvUoXI/C/T8UrkfhehT+P2ZmZmZmZv4/uR6F61G4/j8L16NwPQr/P1yPwvUoXP8/r0fhehSu/z8AAAAAAAAAQA==",
          "dtype": "f8"
         },
         "y": {
          "bdata": "AAAAAAAAKUACAAAAAAApQP3//////yhA+f//////KEABAAAAAAApQP7//////yhA/f//////KED+//////8oQAAAAAAAAClA9v//////KED9//////8oQPX//////yhA/v//////KED+//////8oQAIAAAAAAClAAgAAAAAAKUD8//////8oQAIAAAAAAClA/P//////KEAAAAAAAAApQPr//////yhA9v//////KED8//////8oQO7//////yhA/f//////KED5//////8oQPn//////yhA/v//////KED6//////8oQAAAAAAAAClA/v//////KED5//////8oQAAAAAAAAClA/f//////KED6//////8oQAAAAAAAAClA+v//////KED+//////8oQP7//////yhA9v//////KED9//////8oQP3//////yhA/P//////KED8//////8oQP3//////yhA/v//////KED9//////8oQPz//////yhA/f//////KED6//////8oQAAAAAAAAClA+v//////KED8//////8oQPz//////yhA/P//////KED+//////8oQPr//////yhA+v//////KED8//////8oQP7//////yhA/v//////KED9//////8oQAAAAAAAAClAAAAAAAAAKUD6//////8oQAAAAAAAAClA+f//////KED+//////8oQPn//////yhA+f//////KED+//////8oQP3//////yhA+v//////KED9//////8oQP7//////yhA+v//////KED8//////8oQAEAAAAAAClA+f//////KEAAAAAAAAApQPz//////yhAAAAAAAAAKUD8//////8oQAAAAAAAAClA/P//////KEAAAAAAAAApQP7//////yhAAAAAAAAAKUD+//////8oQPT//////yhA/P//////KED0//////8oQAAAAAAAAClAAAAAAAAAKUD9//////8oQAAAAAAAAClAAQAAAAAAKUD5//////8oQP7//////yhAAAAAAAAAKUD+//////8oQA==",
          "dtype": "f8"
         }
        },
        {
         "line": {
          "dash": "dash",
          "width": 1
         },
         "mode": "lines",
         "name": "state 5",
         "type": "scatter",
         "x": {
          "bdata": "AAAAAAAAAAB7FK5H4XqUP3sUrkfheqQ/uR6F61G4rj97FK5H4Xq0P5mZmZmZmbk/uR6F61G4vj/sUbgehevBP3sUrkfhesQ/CtejcD0Kxz+ZmZmZmZnJPylcj8L1KMw/uR6F61G4zj+kcD0K16PQP+xRuB6F69E/MzMzMzMz0z97FK5H4XrUP8P1KFyPwtU/CtejcD0K1z9SuB6F61HYP5mZmZmZmdk/4XoUrkfh2j8pXI/C9SjcP3A9CtejcN0/uR6F61G43j8AAAAAAADgP6RwPQrXo+A/SOF6FK5H4T/sUbgehevhP5DC9Shcj+I/MzMzMzMz4z/Xo3A9CtfjP3sUrkfheuQ/H4XrUbge5T/D9Shcj8LlP2ZmZmZmZuY/CtejcD0K5z+uR+F6FK7nP1K4HoXrUeg/9ihcj8L16D+ZmZmZmZnpPz0K16NwPeo/4XoUrkfh6j+F61G4HoXrPylcj8L1KOw/zczMzMzM7D9wPQrXo3DtPxSuR+F6FO4/uR6F61G47j9cj8L1KFzvPwAAAAAAAPA/UrgehetR8D+kcD0K16PwP/YoXI/C9fA/SOF6FK5H8T+amZmZmZnxP+xRuB6F6/E/PgrXo3A98j+QwvUoXI/yP+F6FK5H4fI/MzMzMzMz8z+F61G4HoXzP9ejcD0K1/M/KVyPwvUo9D97FK5H4Xr0P83MzMzMzPQ/H4XrUbge9T9xPQrXo3D1P8P1KFyPwvU/Fa5H4XoU9j9mZmZmZmb2P7gehetRuPY/CtejcD0K9z9cj8L1KFz3P65H4XoUrvc/AAAAAAAA+D9SuB6F61H4P6RwPQrXo/g/9ihcj8L1+D9I4XoUrkf5P5mZmZmZmfk/61G4HoXr+T89CtejcD36P4/C9Shcj/o/4XoUrkfh+j8zMzMzMzP7P4XrUbgehfs/16NwPQrX+z8pXI/C9Sj8P3sUrkfhevw/zczMzMzM/D8ehetRuB79P3A9CtejcP0/wvUoXI/C/T8UrkfhehT+P2ZmZmZmZv4/uR6F61G4/j8L16NwPQr/P1yPwvUoXP8/r0fhehSu/z8AAAAAAAAAQA==",
          "dtype": "f8"
         },
         "y": {
          "bdata": "AAAAAAAAKUAIAAAAAAApQAAAAAAAAClA/v//////KEAFAAAAAAApQAAAAAAAAClAAAAAAAAAKUAGAAAAAAApQAEAAAAAAClA/v//////KEAAAAAAAAApQAIAAAAAAClAAAAAAAAAKUAIAAAAAAApQAgAAAAAAClABgAAAAAAKUAAAAAAAAApQAYAAAAAAClAAQAAAAAAKUABAAAAAAApQP7//////yhAAgAAAAAAKUAAAAAAAAApQAAAAAAAAClAAQAAAAAAKUABAAAAAAApQBIAAAAAAClAAQAAAAAAKUABAAAAAAApQAIAAAAAAClAAAAAAAAAKUABAAAAAAApQAAAAAAAAClABAAAAAAAKUABAAAAAAApQAEAAAAAAClAAQAAAAAAKUABAAAAAAApQAQAAAAAAClA/f//////KEACAAAAAAApQAAAAAAAAClABQAAAAAAKUACAAAAAAApQAEAAAAAAClAAQAAAAAAKUAEAAAAAAApQAIAAAAAAClABAAAAAAAKUAFAAAAAAApQAAAAAAAAClABQAAAAAAKUAEAAAAAAApQAIAAAAAAClAAgAAAAAAKUABAAAAAAApQAEAAAAAAClAAgAAAAAAKUAFAAAAAAApQAAAAAAAAClABQAAAAAAKUAEAAAAAAApQAIAAAAAAClAAQAAAAAAKUABAAAAAAApQAEAAAAAAClAAgAAAAAAKUACAAAAAAApQAYAAAAAAClAAQAAAAAAKUAAAAAAAAApQAQAAAAAAClAAQAAAAAAKUAAAAAAAAApQAAAAAAAAClAAQAAAAAAKUD9//////8oQAEAAAAAAClAAAAAAAAAKUAJAAAAAAApQAAAAAAAAClAAQAAAAAAKUABAAAAAAApQAYAAAAAAClAAAAAAAAAKUAJAAAAAAApQAYAAAAAAClACQAAAAAAKUAAAAAAAAApQAAAAAAAAClAAAAAAAAAKUAAAAAAAAApQAEAAAAAAClABgAAAAAAKUAAAAAAAAApQAAAAAAAAClABQAAAAAAKUABAAAAAAApQAEAAAAAAClACQAAAAAAKUAAAAAAAAApQA==",
          "dtype": "f8"
         }
        },
        {
         "line": {
          "dash": "dash",
          "width": 1
         },
         "mode": "lines",
         "name": "state 6",
         "type": "scatter",
         "x": {
          "bdata": "AAAAAAAAAAB7FK5H4XqUP3sUrkfheqQ/uR6F61G4rj97FK5H4Xq0P5mZmZmZmbk/uR6F61G4vj/sUbgehevBP3sUrkfhesQ/CtejcD0Kxz+ZmZmZmZnJPylcj8L1KMw/uR6F61G4zj+kcD0K16PQP+xRuB6F69E/MzMzMzMz0z97FK5H4XrUP8P1KFyPwtU/CtejcD0K1z9SuB6F61HYP5mZmZmZmdk/4XoUrkfh2j8pXI/C9SjcP3A9CtejcN0/uR6F61G43j8AAAAAAADgP6RwPQrXo+A/SOF6FK5H4T/sUbgehevhP5DC9Shcj+I/MzMzMzMz4z/Xo3A9CtfjP3sUrkfheuQ/H4XrUbge5T/D9Shcj8LlP2ZmZmZmZuY/CtejcD0K5z+uR+F6FK7nP1K4HoXrUeg/9ihcj8L16D+ZmZmZmZnpPz0K16NwPeo/4XoUrkfh6j+F61G4HoXrPylcj8L1KOw/zczMzMzM7D9wPQrXo3DtPxSuR+F6FO4/uR6F61G47j9cj8L1KFzvPwAAAAAAAPA/UrgehetR8D+kcD0K16PwP/YoXI/C9fA/SOF6FK5H8T+amZmZmZnxP+xRuB6F6/E/PgrXo3A98j+QwvUoXI/yP+F6FK5H4fI/MzMzMzMz8z+F61G4HoXzP9ejcD0K1/M/KVyPwvUo9D97FK5H4Xr0P83MzMzMzPQ/H4XrUbge9T9xPQrXo3D1P8P1KFyPwvU/Fa5H4XoU9j9mZmZmZmb2P7gehetRuPY/CtejcD0K9z9cj8L1KFz3P65H4XoUrvc/AAAAAAAA+D9SuB6F61H4P6RwPQrXo/g/9ihcj8L1+D9I4XoUrkf5P5mZmZmZmfk/61G4HoXr+T89CtejcD36P4/C9Shcj/o/4XoUrkfh+j8zMzMzMzP7P4XrUbgehfs/16NwPQrX+z8pXI/C9Sj8P3sUrkfhevw/zczMzMzM/D8ehetRuB79P3A9CtejcP0/wvUoXI/C/T8UrkfhehT+P2ZmZmZmZv4/uR6F61G4/j8L16NwPQr/P1yPwvUoXP8/r0fhehSu/z8AAAAAAAAAQA==",
          "dtype": "f8"
         },
         "y": {
          "bdata": "AAAAAABwZ0D+/////29nQAEAAAAAcGdAAgAAAABwZ0AAAAAAAHBnQAAAAAAAcGdAAQAAAABwZ0D+/////29nQAAAAAAAcGdAAgAAAABwZ0ABAAAAAHBnQP3/////b2dAAAAAAABwZ0D+/////29nQP7/////b2dA/v////9vZ0ABAAAAAHBnQP7/////b2dAAQAAAABwZ0AAAAAAAHBnQAEAAAAAcGdAAgAAAABwZ0AAAAAAAHBnQP3/////b2dAAQAAAABwZ0ABAAAAAHBnQAAAAAAAcGdAAQAAAABwZ0ABAAAAAHBnQAAAAAAAcGdAAAAAAABwZ0ABAAAAAHBnQAAAAAAAcGdA/v////9vZ0ABAAAAAHBnQAAAAAAAcGdAAQAAAABwZ0AAAAAAAHBnQAAAAAAAcGdA/f////9vZ0AAAAAAAHBnQAAAAAAAcGdAAAAAAABwZ0ABAAAAAHBnQAAAAAAAcGdAAAAAAABwZ0ABAAAAAHBnQAEAAAAAcGdAAQAAAABwZ0AAAAAAAHBnQAAAAAAAcGdAAAAAAABwZ0AAAAAAAHBnQAAAAAAAcGdAAAAAAABwZ0AAAAAAAHBnQAAAAAAAcGdAAAAAAABwZ0ABAAAAAHBnQAAAAAAAcGdAAQAAAABwZ0ABAAAAAHBnQAAAAAAAcGdAAAAAAABwZ0AAAAAAAHBnQAAAAAAAcGdAAAAAAABwZ0AAAAAAAHBnQP7/////b2dAAAAAAABwZ0AAAAAAAHBnQAAAAAAAcGdAAQAAAABwZ0AAAAAAAHBnQAAAAAAAcGdAAAAAAABwZ0AAAAAAAHBnQAAAAAAAcGdAAAAAAABwZ0AAAAAAAHBnQAAAAAAAcGdAAAAAAABwZ0AAAAAAAHBnQAAAAAAAcGdAAAAAAABwZ0AAAAAAAHBnQAAAAAAAcGdAAAAAAABwZ0AAAAAAAHBnQAAAAAAAcGdAAAAAAABwZ0ABAAAAAHBnQAAAAAAAcGdAAAAAAABwZ0AAAAAAAHBnQAAAAAAAcGdAAAAAAABwZ0AAAAAAAHBnQAAAAAAAcGdAAAAAAABwZ0AAAAAAAHBnQA==",
          "dtype": "f8"
         }
        },
        {
         "line": {
          "dash": "dash",
          "width": 1
         },
         "mode": "lines",
         "name": "state 7",
         "type": "scatter",
         "x": {
          "bdata": "AAAAAAAAAAB7FK5H4XqUP3sUrkfheqQ/uR6F61G4rj97FK5H4Xq0P5mZmZmZmbk/uR6F61G4vj/sUbgehevBP3sUrkfhesQ/CtejcD0Kxz+ZmZmZmZnJPylcj8L1KMw/uR6F61G4zj+kcD0K16PQP+xRuB6F69E/MzMzMzMz0z97FK5H4XrUP8P1KFyPwtU/CtejcD0K1z9SuB6F61HYP5mZmZmZmdk/4XoUrkfh2j8pXI/C9SjcP3A9CtejcN0/uR6F61G43j8AAAAAAADgP6RwPQrXo+A/SOF6FK5H4T/sUbgehevhP5DC9Shcj+I/MzMzMzMz4z/Xo3A9CtfjP3sUrkfheuQ/H4XrUbge5T/D9Shcj8LlP2ZmZmZmZuY/CtejcD0K5z+uR+F6FK7nP1K4HoXrUeg/9ihcj8L16D+ZmZmZmZnpPz0K16NwPeo/4XoUrkfh6j+F61G4HoXrPylcj8L1KOw/zczMzMzM7D9wPQrXo3DtPxSuR+F6FO4/uR6F61G47j9cj8L1KFzvPwAAAAAAAPA/UrgehetR8D+kcD0K16PwP/YoXI/C9fA/SOF6FK5H8T+amZmZmZnxP+xRuB6F6/E/PgrXo3A98j+QwvUoXI/yP+F6FK5H4fI/MzMzMzMz8z+F61G4HoXzP9ejcD0K1/M/KVyPwvUo9D97FK5H4Xr0P83MzMzMzPQ/H4XrUbge9T9xPQrXo3D1P8P1KFyPwvU/Fa5H4XoU9j9mZmZmZmb2P7gehetRuPY/CtejcD0K9z9cj8L1KFz3P65H4XoUrvc/AAAAAAAA+D9SuB6F61H4P6RwPQrXo/g/9ihcj8L1+D9I4XoUrkf5P5mZmZmZmfk/61G4HoXr+T89CtejcD36P4/C9Shcj/o/4XoUrkfh+j8zMzMzMzP7P4XrUbgehfs/16NwPQrX+z8pXI/C9Sj8P3sUrkfhevw/zczMzMzM/D8ehetRuB79P3A9CtejcP0/wvUoXI/C/T8UrkfhehT+P2ZmZmZmZv4/uR6F61G4/j8L16NwPQr/P1yPwvUoXP8/r0fhehSu/z8AAAAAAAAAQA==",
          "dtype": "f8"
         },
         "y": {
          "bdata": "AAAAAACQakAAAAAAAJBqQAAAAAAAkGpAAAAAAACQakAAAAAAAJBqQAAAAAAAkGpAAAAAAACQakAAAAAAAJBqQAAAAAAAkGpAAAAAAACQakAAAAAAAJBqQAAAAAAAkGpAAAAAAACQakAAAAAAAJBqQAAAAAAAkGpAAAAAAACQakAAAAAAAJBqQAAAAAAAkGpAAAAAAACQakAAAAAAAJBqQAAAAAAAkGpAAAAAAACQakAAAAAAAJBqQAAAAAAAkGpAAAAAAACQakAAAAAAAJBqQPr/////j2pAAAAAAACQakAAAAAAAJBqQAAAAAAAkGpAAAAAAACQakAAAAAAAJBqQAAAAAAAkGpAAAAAAACQakAAAAAAAJBqQAAAAAAAkGpAAAAAAACQakAAAAAAAJBqQAAAAAAAkGpA/v////+PakAAAAAAAJBqQAAAAAAAkGpAAAAAAACQakAAAAAAAJBqQAAAAAAAkGpAAAAAAACQakABAAAAAJBqQAAAAAAAkGpAAQAAAACQakAAAAAAAJBqQAAAAAAAkGpAAAAAAACQakAAAAAAAJBqQP7/////j2pA/v////+PakAAAAAAAJBqQP7/////j2pA/v////+PakABAAAAAJBqQAAAAAAAkGpAAQAAAACQakABAAAAAJBqQAAAAAAAkGpAAAAAAACQakD+/////49qQAAAAAAAkGpA/v////+PakAAAAAAAJBqQAEAAAAAkGpA/v////+PakAAAAAAAJBqQP7/////j2pA/v////+PakAAAAAAAJBqQAAAAAAAkGpA/v////+PakD9/////49qQAAAAAAAkGpA/v////+PakABAAAAAJBqQAAAAAAAkGpAAAAAAACQakAAAAAAAJBqQP7/////j2pAAAAAAACQakABAAAAAJBqQAEAAAAAkGpAAQAAAACQakAAAAAAAJBqQAEAAAAAkGpAAAAAAACQakD+/////49qQAAAAAAAkGpAAQAAAACQakAAAAAAAJBqQAAAAAAAkGpAAAAAAACQakD+/////49qQAAAAAAAkGpAAQAAAACQakAAAAAAAJBqQA==",
          "dtype": "f8"
         }
        }
       ],
       "layout": {
        "legend": {
         "title": {
          "text": ""
         }
        },
        "template": {
         "data": {
          "bar": [
           {
            "error_x": {
             "color": "rgb(36,36,36)"
            },
            "error_y": {
             "color": "rgb(36,36,36)"
            },
            "marker": {
             "line": {
              "color": "white",
              "width": 0.5
             },
             "pattern": {
              "fillmode": "overlay",
              "size": 10,
              "solidity": 0.2
             }
            },
            "type": "bar"
           }
          ],
          "barpolar": [
           {
            "marker": {
             "line": {
              "color": "white",
              "width": 0.5
             },
             "pattern": {
              "fillmode": "overlay",
              "size": 10,
              "solidity": 0.2
             }
            },
            "type": "barpolar"
           }
          ],
          "carpet": [
           {
            "aaxis": {
             "endlinecolor": "rgb(36,36,36)",
             "gridcolor": "white",
             "linecolor": "white",
             "minorgridcolor": "white",
             "startlinecolor": "rgb(36,36,36)"
            },
            "baxis": {
             "endlinecolor": "rgb(36,36,36)",
             "gridcolor": "white",
             "linecolor": "white",
             "minorgridcolor": "white",
             "startlinecolor": "rgb(36,36,36)"
            },
            "type": "carpet"
           }
          ],
          "choropleth": [
           {
            "colorbar": {
             "outlinewidth": 1,
             "tickcolor": "rgb(36,36,36)",
             "ticks": "outside"
            },
            "type": "choropleth"
           }
          ],
          "contour": [
           {
            "colorbar": {
             "outlinewidth": 1,
             "tickcolor": "rgb(36,36,36)",
             "ticks": "outside"
            },
            "colorscale": [
             [
              0,
              "#440154"
             ],
             [
              0.1111111111111111,
              "#482878"
             ],
             [
              0.2222222222222222,
              "#3e4989"
             ],
             [
              0.3333333333333333,
              "#31688e"
             ],
             [
              0.4444444444444444,
              "#26828e"
             ],
             [
              0.5555555555555556,
              "#1f9e89"
             ],
             [
              0.6666666666666666,
              "#35b779"
             ],
             [
              0.7777777777777778,
              "#6ece58"
             ],
             [
              0.8888888888888888,
              "#b5de2b"
             ],
             [
              1,
              "#fde725"
             ]
            ],
            "type": "contour"
           }
          ],
          "contourcarpet": [
           {
            "colorbar": {
             "outlinewidth": 1,
             "tickcolor": "rgb(36,36,36)",
             "ticks": "outside"
            },
            "type": "contourcarpet"
           }
          ],
          "heatmap": [
           {
            "colorbar": {
             "outlinewidth": 1,
             "tickcolor": "rgb(36,36,36)",
             "ticks": "outside"
            },
            "colorscale": [
             [
              0,
              "#440154"
             ],
             [
              0.1111111111111111,
              "#482878"
             ],
             [
              0.2222222222222222,
              "#3e4989"
             ],
             [
              0.3333333333333333,
              "#31688e"
             ],
             [
              0.4444444444444444,
              "#26828e"
             ],
             [
              0.5555555555555556,
              "#1f9e89"
             ],
             [
              0.6666666666666666,
              "#35b779"
             ],
             [
              0.7777777777777778,
              "#6ece58"
             ],
             [
              0.8888888888888888,
              "#b5de2b"
             ],
             [
              1,
              "#fde725"
             ]
            ],
            "type": "heatmap"
           }
          ],
          "histogram": [
           {
            "marker": {
             "line": {
              "color": "white",
              "width": 0.6
             }
            },
            "type": "histogram"
           }
          ],
          "histogram2d": [
           {
            "colorbar": {
             "outlinewidth": 1,
             "tickcolor": "rgb(36,36,36)",
             "ticks": "outside"
            },
            "colorscale": [
             [
              0,
              "#440154"
             ],
             [
              0.1111111111111111,
              "#482878"
             ],
             [
              0.2222222222222222,
              "#3e4989"
             ],
             [
              0.3333333333333333,
              "#31688e"
             ],
             [
              0.4444444444444444,
              "#26828e"
             ],
             [
              0.5555555555555556,
              "#1f9e89"
             ],
             [
              0.6666666666666666,
              "#35b779"
             ],
             [
              0.7777777777777778,
              "#6ece58"
             ],
             [
              0.8888888888888888,
              "#b5de2b"
             ],
             [
              1,
              "#fde725"
             ]
            ],
            "type": "histogram2d"
           }
          ],
          "histogram2dcontour": [
           {
            "colorbar": {
             "outlinewidth": 1,
             "tickcolor": "rgb(36,36,36)",
             "ticks": "outside"
            },
            "colorscale": [
             [
              0,
              "#440154"
             ],
             [
              0.1111111111111111,
              "#482878"
             ],
             [
              0.2222222222222222,
              "#3e4989"
             ],
             [
              0.3333333333333333,
              "#31688e"
             ],
             [
              0.4444444444444444,
              "#26828e"
             ],
             [
              0.5555555555555556,
              "#1f9e89"
             ],
             [
              0.6666666666666666,
              "#35b779"
             ],
             [
              0.7777777777777778,
              "#6ece58"
             ],
             [
              0.8888888888888888,
              "#b5de2b"
             ],
             [
              1,
              "#fde725"
             ]
            ],
            "type": "histogram2dcontour"
           }
          ],
          "mesh3d": [
           {
            "colorbar": {
             "outlinewidth": 1,
             "tickcolor": "rgb(36,36,36)",
             "ticks": "outside"
            },
            "type": "mesh3d"
           }
          ],
          "parcoords": [
           {
            "line": {
             "colorbar": {
              "outlinewidth": 1,
              "tickcolor": "rgb(36,36,36)",
              "ticks": "outside"
             }
            },
            "type": "parcoords"
           }
          ],
          "pie": [
           {
            "automargin": true,
            "type": "pie"
           }
          ],
          "scatter": [
           {
            "fillpattern": {
             "fillmode": "overlay",
             "size": 10,
             "solidity": 0.2
            },
            "type": "scatter"
           }
          ],
          "scatter3d": [
           {
            "line": {
             "colorbar": {
              "outlinewidth": 1,
              "tickcolor": "rgb(36,36,36)",
              "ticks": "outside"
             }
            },
            "marker": {
             "colorbar": {
              "outlinewidth": 1,
              "tickcolor": "rgb(36,36,36)",
              "ticks": "outside"
             }
            },
            "type": "scatter3d"
           }
          ],
          "scattercarpet": [
           {
            "marker": {
             "colorbar": {
              "outlinewidth": 1,
              "tickcolor": "rgb(36,36,36)",
              "ticks": "outside"
             }
            },
            "type": "scattercarpet"
           }
          ],
          "scattergeo": [
           {
            "marker": {
             "colorbar": {
              "outlinewidth": 1,
              "tickcolor": "rgb(36,36,36)",
              "ticks": "outside"
             }
            },
            "type": "scattergeo"
           }
          ],
          "scattergl": [
           {
            "marker": {
             "colorbar": {
              "outlinewidth": 1,
              "tickcolor": "rgb(36,36,36)",
              "ticks": "outside"
             }
            },
            "type": "scattergl"
           }
          ],
          "scattermap": [
           {
            "marker": {
             "colorbar": {
              "outlinewidth": 1,
              "tickcolor": "rgb(36,36,36)",
              "ticks": "outside"
             }
            },
            "type": "scattermap"
           }
          ],
          "scattermapbox": [
           {
            "marker": {
             "colorbar": {
              "outlinewidth": 1,
              "tickcolor": "rgb(36,36,36)",
              "ticks": "outside"
             }
            },
            "type": "scattermapbox"
           }
          ],
          "scatterpolar": [
           {
            "marker": {
             "colorbar": {
              "outlinewidth": 1,
              "tickcolor": "rgb(36,36,36)",
              "ticks": "outside"
             }
            },
            "type": "scatterpolar"
           }
          ],
          "scatterpolargl": [
           {
            "marker": {
             "colorbar": {
              "outlinewidth": 1,
              "tickcolor": "rgb(36,36,36)",
              "ticks": "outside"
             }
            },
            "type": "scatterpolargl"
           }
          ],
          "scatterternary": [
           {
            "marker": {
             "colorbar": {
              "outlinewidth": 1,
              "tickcolor": "rgb(36,36,36)",
              "ticks": "outside"
             }
            },
            "type": "scatterternary"
           }
          ],
          "surface": [
           {
            "colorbar": {
             "outlinewidth": 1,
             "tickcolor": "rgb(36,36,36)",
             "ticks": "outside"
            },
            "colorscale": [
             [
              0,
              "#440154"
             ],
             [
              0.1111111111111111,
              "#482878"
             ],
             [
              0.2222222222222222,
              "#3e4989"
             ],
             [
              0.3333333333333333,
              "#31688e"
             ],
             [
              0.4444444444444444,
              "#26828e"
             ],
             [
              0.5555555555555556,
              "#1f9e89"
             ],
             [
              0.6666666666666666,
              "#35b779"
             ],
             [
              0.7777777777777778,
              "#6ece58"
             ],
             [
              0.8888888888888888,
              "#b5de2b"
             ],
             [
              1,
              "#fde725"
             ]
            ],
            "type": "surface"
           }
          ],
          "table": [
           {
            "cells": {
             "fill": {
              "color": "rgb(237,237,237)"
             },
             "line": {
              "color": "white"
             }
            },
            "header": {
             "fill": {
              "color": "rgb(217,217,217)"
             },
             "line": {
              "color": "white"
             }
            },
            "type": "table"
           }
          ]
         },
         "layout": {
          "annotationdefaults": {
           "arrowhead": 0,
           "arrowwidth": 1
          },
          "autotypenumbers": "strict",
          "coloraxis": {
           "colorbar": {
            "outlinewidth": 1,
            "tickcolor": "rgb(36,36,36)",
            "ticks": "outside"
           }
          },
          "colorscale": {
           "diverging": [
            [
             0,
             "rgb(103,0,31)"
            ],
            [
             0.1,
             "rgb(178,24,43)"
            ],
            [
             0.2,
             "rgb(214,96,77)"
            ],
            [
             0.3,
             "rgb(244,165,130)"
            ],
            [
             0.4,
             "rgb(253,219,199)"
            ],
            [
             0.5,
             "rgb(247,247,247)"
            ],
            [
             0.6,
             "rgb(209,229,240)"
            ],
            [
             0.7,
             "rgb(146,197,222)"
            ],
            [
             0.8,
             "rgb(67,147,195)"
            ],
            [
             0.9,
             "rgb(33,102,172)"
            ],
            [
             1,
             "rgb(5,48,97)"
            ]
           ],
           "sequential": [
            [
             0,
             "#440154"
            ],
            [
             0.1111111111111111,
             "#482878"
            ],
            [
             0.2222222222222222,
             "#3e4989"
            ],
            [
             0.3333333333333333,
             "#31688e"
            ],
            [
             0.4444444444444444,
             "#26828e"
            ],
            [
             0.5555555555555556,
             "#1f9e89"
            ],
            [
             0.6666666666666666,
             "#35b779"
            ],
            [
             0.7777777777777778,
             "#6ece58"
            ],
            [
             0.8888888888888888,
             "#b5de2b"
            ],
            [
             1,
             "#fde725"
            ]
           ],
           "sequentialminus": [
            [
             0,
             "#440154"
            ],
            [
             0.1111111111111111,
             "#482878"
            ],
            [
             0.2222222222222222,
             "#3e4989"
            ],
            [
             0.3333333333333333,
             "#31688e"
            ],
            [
             0.4444444444444444,
             "#26828e"
            ],
            [
             0.5555555555555556,
             "#1f9e89"
            ],
            [
             0.6666666666666666,
             "#35b779"
            ],
            [
             0.7777777777777778,
             "#6ece58"
            ],
            [
             0.8888888888888888,
             "#b5de2b"
            ],
            [
             1,
             "#fde725"
            ]
           ]
          },
          "colorway": [
           "#1F77B4",
           "#FF7F0E",
           "#2CA02C",
           "#D62728",
           "#9467BD",
           "#8C564B",
           "#E377C2",
           "#7F7F7F",
           "#BCBD22",
           "#17BECF"
          ],
          "font": {
           "color": "rgb(36,36,36)"
          },
          "geo": {
           "bgcolor": "white",
           "lakecolor": "white",
           "landcolor": "white",
           "showlakes": true,
           "showland": true,
           "subunitcolor": "white"
          },
          "hoverlabel": {
           "align": "left"
          },
          "hovermode": "closest",
          "mapbox": {
           "style": "light"
          },
          "paper_bgcolor": "white",
          "plot_bgcolor": "white",
          "polar": {
           "angularaxis": {
            "gridcolor": "rgb(232,232,232)",
            "linecolor": "rgb(36,36,36)",
            "showgrid": false,
            "showline": true,
            "ticks": "outside"
           },
           "bgcolor": "white",
           "radialaxis": {
            "gridcolor": "rgb(232,232,232)",
            "linecolor": "rgb(36,36,36)",
            "showgrid": false,
            "showline": true,
            "ticks": "outside"
           }
          },
          "scene": {
           "xaxis": {
            "backgroundcolor": "white",
            "gridcolor": "rgb(232,232,232)",
            "gridwidth": 2,
            "linecolor": "rgb(36,36,36)",
            "showbackground": true,
            "showgrid": false,
            "showline": true,
            "ticks": "outside",
            "zeroline": false,
            "zerolinecolor": "rgb(36,36,36)"
           },
           "yaxis": {
            "backgroundcolor": "white",
            "gridcolor": "rgb(232,232,232)",
            "gridwidth": 2,
            "linecolor": "rgb(36,36,36)",
            "showbackground": true,
            "showgrid": false,
            "showline": true,
            "ticks": "outside",
            "zeroline": false,
            "zerolinecolor": "rgb(36,36,36)"
           },
           "zaxis": {
            "backgroundcolor": "white",
            "gridcolor": "rgb(232,232,232)",
            "gridwidth": 2,
            "linecolor": "rgb(36,36,36)",
            "showbackground": true,
            "showgrid": false,
            "showline": true,
            "ticks": "outside",
            "zeroline": false,
            "zerolinecolor": "rgb(36,36,36)"
           }
          },
          "shapedefaults": {
           "fillcolor": "black",
           "line": {
            "width": 0
           },
           "opacity": 0.3
          },
          "ternary": {
           "aaxis": {
            "gridcolor": "rgb(232,232,232)",
            "linecolor": "rgb(36,36,36)",
            "showgrid": false,
            "showline": true,
            "ticks": "outside"
           },
           "baxis": {
            "gridcolor": "rgb(232,232,232)",
            "linecolor": "rgb(36,36,36)",
            "showgrid": false,
            "showline": true,
            "ticks": "outside"
           },
           "bgcolor": "white",
           "caxis": {
            "gridcolor": "rgb(232,232,232)",
            "linecolor": "rgb(36,36,36)",
            "showgrid": false,
            "showline": true,
            "ticks": "outside"
           }
          },
          "title": {
           "x": 0.05
          },
          "xaxis": {
           "automargin": true,
           "gridcolor": "rgb(232,232,232)",
           "linecolor": "rgb(36,36,36)",
           "showgrid": false,
           "showline": true,
           "ticks": "outside",
           "title": {
            "standoff": 15
           },
           "zeroline": false,
           "zerolinecolor": "rgb(36,36,36)"
          },
          "yaxis": {
           "automargin": true,
           "gridcolor": "rgb(232,232,232)",
           "linecolor": "rgb(36,36,36)",
           "showgrid": false,
           "showline": true,
           "ticks": "outside",
           "title": {
            "standoff": 15
           },
           "zeroline": false,
           "zerolinecolor": "rgb(36,36,36)"
          }
         }
        },
        "title": {
         "text": "Instantaneous spectrum vs time (IBM)"
        },
        "xaxis": {
         "title": {
          "text": "time [µs]"
         }
        },
        "yaxis": {
         "title": {
          "text": "energy [MHz]"
         }
        }
       }
      }
     },
     "metadata": {},
     "output_type": "display_data"
    }
   ],
   "source": [
    "import numpy as np\n",
    "from qutip import *\n",
    "\n",
    "# --------------------------\n",
    "# Platform scaling (pick one)\n",
    "# --------------------------\n",
    "PLATFORM = \"ibm\"   # \"ibm\" or \"quera\"\n",
    "\n",
    "def platform_params(platform=\"ibm\"):\n",
    "    if platform.lower() == \"ibm\":\n",
    "        # IBM-style transmon (rad/s, seconds)\n",
    "        omega_max = 2*np.pi*12.5e6      # 40 ns pi pulse -> 12.5 MHz\n",
    "        # T_max     = 0.32e-6             # ~8*pi/omega_max; use 1e-6..2e-6 for very adiabatic\n",
    "        T_max     = 2e-6             # ~8*pi/omega_max; use 1e-6..2e-6 for very adiabatic\n",
    "        Ep        = 2*np.pi*100e6       # penalty ~100 MHz\n",
    "        time_unit_label = \"time [µs]\"\n",
    "        energy_unit_label = \"energy [MHz]\"  # plots will convert rad/s -> MHz\n",
    "        to_time_units = 1e6             # s -> µs\n",
    "        to_freq_units = 1/(2*np.pi*1e6) # rad/s -> MHz\n",
    "    elif platform.lower() == \"quera\":\n",
    "        # QuEra Aquila (rad/µs, microseconds)\n",
    "        omega_max = 10.0                # <= 15.8 rad/µs\n",
    "        T_max     = 1.9                 # µs\n",
    "        Ep        = 30.0                # rad/µs (>> omega_max)\n",
    "        time_unit_label = \"time [µs]\"\n",
    "        energy_unit_label = \"energy [MHz]\"  # convert rad/µs -> MHz\n",
    "        to_time_units = 1.0             # µs -> µs\n",
    "        to_freq_units = 1/(2*np.pi)     # rad/µs -> MHz\n",
    "    else:\n",
    "        raise ValueError(\"PLATFORM must be 'ibm' or 'quera'\")\n",
    "    return dict(omega_max=omega_max, T_max=T_max, Ep=Ep,\n",
    "                time_unit_label=time_unit_label,\n",
    "                energy_unit_label=energy_unit_label,\n",
    "                to_time_units=to_time_units,\n",
    "                to_freq_units=to_freq_units)\n",
    "\n",
    "params = platform_params(PLATFORM)\n",
    "omega_max = params[\"omega_max\"]\n",
    "T_max     = params[\"T_max\"]\n",
    "Ep        = params[\"Ep\"]\n",
    "\n",
    "# --------------------------\n",
    "# Single-qubit primitives\n",
    "# --------------------------\n",
    "I = qeye(2)\n",
    "X = sigmax()\n",
    "Y = sigmay()\n",
    "Z = sigmaz()\n",
    "\n",
    "# --------------------------\n",
    "# Logical operators (3-qubit repetition, bit-flip code)\n",
    "# Code space: |0_L>=|000>, |1_L>=|111>\n",
    "# Stabilizers for X-error protection: Z1Z2 and Z2Z3\n",
    "# --------------------------\n",
    "X_L = tensor(X, X, X)\n",
    "Z_L = tensor(Z, Z, Z)              # acts nontrivially on code; anticommutes with X_L\n",
    "I_L = tensor(I, I, I)\n",
    "\n",
    "S1 = tensor(Z, Z, I)               # Z1 Z2\n",
    "S2 = tensor(I, Z, Z)               # Z2 Z3\n",
    "S_list = [S1, S2]\n",
    "\n",
    "# Penalty Hamiltonian: -Ep * (S1 + S2)\n",
    "Hp = -Ep * sum(S_list, 0*I_L)      # 'start' ensures Qobj sum\n",
    "\n",
    "# --------------------------\n",
    "# Basis & logical states (optional, for checks)\n",
    "# --------------------------\n",
    "basis_states = [basis(2, 0), basis(2, 1)]\n",
    "logical_zero = tensor(basis_states[0], basis_states[0], basis_states[0])\n",
    "logical_one  = tensor(basis_states[1], basis_states[1], basis_states[1])\n",
    "\n",
    "# --------------------------\n",
    "# RAP pulses\n",
    "# --------------------------\n",
    "def omega_t(t, T_max=T_max, omega_max=omega_max):\n",
    "    return omega_max * np.sin(np.pi * t / T_max)\n",
    "\n",
    "def delta_t(t, T_max=T_max, omega_max=omega_max):\n",
    "    return -omega_max * np.cos(np.pi * t / T_max)\n",
    "\n",
    "def H(t):\n",
    "    # Logical RAP drive\n",
    "    return X_L * omega_t(t) + Z_L * delta_t(t) + Hp\n",
    "\n",
    "# --------------------------\n",
    "# Time grid\n",
    "# --------------------------\n",
    "def time_list(num_points=101):\n",
    "    return np.linspace(0, T_max, num_points)\n",
    "\n",
    "t_list = time_list()\n",
    "\n",
    "# --------------------------\n",
    "# Spectrum vs. time with simple eigenstate matching\n",
    "# --------------------------\n",
    "def spectrum_track(t_list, n_track=2):\n",
    "    \"\"\"\n",
    "    Track the lowest 'n_track' eigenstates by overlap with t=0 eigenstates.\n",
    "    Returns: dict {idx: energies_over_time}\n",
    "    \"\"\"\n",
    "    # t=0 diagonalization\n",
    "    evals0, estates0 = H(0).eigenstates()\n",
    "    dim = len(evals0)\n",
    "    energies = {i: [evals0[i]] for i in range(dim)}\n",
    "\n",
    "    for k in range(1, len(t_list)):\n",
    "        t = t_list[k]\n",
    "        evals, estates = H(t).eigenstates()\n",
    "\n",
    "        # Track the first n_track states by overlap with initial estates0\n",
    "        used = set()\n",
    "        for i in range(n_track):\n",
    "            ref = estates0[i]\n",
    "            best_j, best_over = 0, -1.0\n",
    "            for j, psi in enumerate(estates):\n",
    "                if j in used:\n",
    "                    continue\n",
    "                ov = abs(ref.overlap(psi))**2\n",
    "                if ov > best_over:\n",
    "                    best_over, best_j = ov, j\n",
    "            energies[i].append(evals[best_j])\n",
    "            used.add(best_j)\n",
    "\n",
    "        # Append the rest by index (no tracking)\n",
    "        for i in range(n_track, dim):\n",
    "            energies[i].append(evals[i])\n",
    "\n",
    "    return energies, params\n",
    "\n",
    "energies, p = spectrum_track(t_list, n_track=2)\n",
    "\n",
    "# --------------------------\n",
    "# Plot with Plotly (kept your style; kaleido optional)\n",
    "# --------------------------\n",
    "import plotly.graph_objects as go\n",
    "import os\n",
    "\n",
    "# Pulses\n",
    "omega_vals = [omega_t(t) for t in t_list]\n",
    "delta_vals = [delta_t(t) for t in t_list]\n",
    "\n",
    "# Convert to nice plot units\n",
    "t_plot   = t_list * p[\"to_time_units\"]\n",
    "w_plot   = np.array(omega_vals) * p[\"to_freq_units\"]\n",
    "d_plot   = np.array(delta_vals) * p[\"to_freq_units\"]\n",
    "\n",
    "os.makedirs('pngs', exist_ok=True)\n",
    "\n",
    "fig = go.Figure()\n",
    "fig.add_trace(go.Scatter(x=t_plot, y=w_plot, mode='lines', name='Ω(t)'))\n",
    "fig.add_trace(go.Scatter(x=t_plot, y=d_plot, mode='lines', name='Δ(t)', line=dict(dash='dash')))\n",
    "fig.update_layout(\n",
    "    title=f\"RAP pulses ({PLATFORM.upper()})\",\n",
    "    xaxis_title=p[\"time_unit_label\"],\n",
    "    yaxis_title=\"amplitude [MHz]\",\n",
    "    template=\"simple_white\"\n",
    ")\n",
    "try:\n",
    "    fig.write_image('pngs/omega_delta.png', scale=2, width=800, height=500)\n",
    "except Exception as e:\n",
    "    pass\n",
    "fig.show()\n",
    "\n",
    "# Spectrum figure\n",
    "fig2 = go.Figure()\n",
    "colors_main = ['red', 'blue']\n",
    "for i, e_list in energies.items():\n",
    "    e_plot = np.array(e_list) * p[\"to_freq_units\"]\n",
    "    if i < 2:\n",
    "        fig2.add_trace(go.Scatter(x=t_plot, y=e_plot, mode='lines',\n",
    "                                  line=dict(width=3, color=colors_main[i%2]),\n",
    "                                  name=f\"tracked state {i}\"))\n",
    "    else:\n",
    "        fig2.add_trace(go.Scatter(x=t_plot, y=e_plot, mode='lines',\n",
    "                                  line=dict(width=1, dash='dash'),\n",
    "                                  name=f\"state {i}\"))\n",
    "fig2.update_layout(\n",
    "    title=f\"Instantaneous spectrum vs time ({PLATFORM.upper()})\",\n",
    "    xaxis_title=p[\"time_unit_label\"],\n",
    "    yaxis_title=p[\"energy_unit_label\"],\n",
    "    template=\"simple_white\",\n",
    "    legend_title=\"\"\n",
    ")\n",
    "try:\n",
    "    fig2.write_image('pngs/spectrum.png', scale=2, width=900, height=600)\n",
    "except Exception as e:\n",
    "    pass\n",
    "fig2.show()\n"
   ]
  },
  {
   "cell_type": "code",
   "execution_count": 12,
   "id": "ff0a1549",
   "metadata": {},
   "outputs": [
    {
     "name": "stdout",
     "output_type": "stream",
     "text": [
      "Ep = 0\n"
     ]
    },
    {
     "name": "stderr",
     "output_type": "stream",
     "text": [
      "/Users/chenscheim/miniconda3/lib/python3.12/site-packages/qutip/solver/options.py:16: FutureWarning:\n",
      "\n",
      "Dedicated options class are no longer needed, options should be passed as dict to solvers.\n",
      "\n"
     ]
    },
    {
     "name": "stdout",
     "output_type": "stream",
     "text": [
      "Ep = 1\n",
      "Ep = 2\n",
      "Ep = 3\n",
      "Ep = 4\n",
      "Ep = 5\n",
      "Ep = 10\n",
      "Ep = 25\n",
      "Ep = 50\n"
     ]
    },
    {
     "data": {
      "application/vnd.plotly.v1+json": {
       "config": {
        "plotlyServerURL": "https://plot.ly"
       },
       "data": [
        {
         "line": {
          "dash": "dash",
          "width": 3
         },
         "mode": "lines",
         "name": "Ideal (unitary)",
         "type": "scatter",
         "x": {
          "bdata": "AAAAAAAAAAB7FK5H4XqUP3sUrkfheqQ/uR6F61G4rj97FK5H4Xq0P5mZmZmZmbk/uR6F61G4vj/sUbgehevBP3sUrkfhesQ/CtejcD0Kxz+ZmZmZmZnJPylcj8L1KMw/uR6F61G4zj+kcD0K16PQP+xRuB6F69E/MzMzMzMz0z97FK5H4XrUP8P1KFyPwtU/CtejcD0K1z9SuB6F61HYP5mZmZmZmdk/4XoUrkfh2j8pXI/C9SjcP3A9CtejcN0/uR6F61G43j8AAAAAAADgP6RwPQrXo+A/SOF6FK5H4T/sUbgehevhP5DC9Shcj+I/MzMzMzMz4z/Xo3A9CtfjP3sUrkfheuQ/H4XrUbge5T/D9Shcj8LlP2ZmZmZmZuY/CtejcD0K5z+uR+F6FK7nP1K4HoXrUeg/9ihcj8L16D+ZmZmZmZnpPz0K16NwPeo/4XoUrkfh6j+F61G4HoXrPylcj8L1KOw/zczMzMzM7D9wPQrXo3DtPxSuR+F6FO4/uR6F61G47j9cj8L1KFzvPwAAAAAAAPA/UrgehetR8D+kcD0K16PwP/YoXI/C9fA/SOF6FK5H8T+amZmZmZnxP+xRuB6F6/E/PgrXo3A98j+QwvUoXI/yP+F6FK5H4fI/MzMzMzMz8z+F61G4HoXzP9ejcD0K1/M/KVyPwvUo9D97FK5H4Xr0P83MzMzMzPQ/H4XrUbge9T9xPQrXo3D1P8P1KFyPwvU/Fa5H4XoU9j9mZmZmZmb2P7gehetRuPY/CtejcD0K9z9cj8L1KFz3P65H4XoUrvc/AAAAAAAA+D9SuB6F61H4P6RwPQrXo/g/9ihcj8L1+D9I4XoUrkf5P5mZmZmZmfk/61G4HoXr+T89CtejcD36P4/C9Shcj/o/4XoUrkfh+j8zMzMzMzP7P4XrUbgehfs/16NwPQrX+z8pXI/C9Sj8P3sUrkfhevw/zczMzMzM/D8ehetRuB79P3A9CtejcP0/wvUoXI/C/T8UrkfhehT+P2ZmZmZmZv4/uR6F61G4/j8L16NwPQr/P1yPwvUoXP8/r0fhehSu/z8AAAAAAAAAQA==",
          "dtype": "f8"
         },
         "y": {
          "bdata": "AAAAAAAAAACMkUFQbrg2P1dcI0rYKVA/SfiWdtz+Yj9JFmX4wCVwP1SFX8QUn3k/hydqqdEigj8qG+lEF92IP+rmTwpyFZA/pT85sBhulD92tngUdw6ZP4/iVz9VXp4/TcQxB7T5oT/jlQUfnRqlP2R2ukGfXKg/1XQnE2fzqz9R/SchjamvPzOdVdxO2bE/RckAfo3ssz9MNdbMNii2P+5Mdd6Ccbg/4z1O4Q/iuj+9kGBfFl+9P+CUW9UKAcA/8hbfxiVYwT/Pz7tYjcHCP+yr5AjjL8Q/b5JWn8WvxT/92wrX4TPHP+ai4MC/yMg/Hgxyixhhyj/WDBEWWQnMP+Yg9ttOtM0/0v1F4khuzz8YI2j4FZXQP6lvPfoQetE/f6ICaZdf0j8dBDXBqUvTP211ZyvdN9Q/q1UEAxkq1T8iL7Z7CRzWP64z7/B6E9c/8xwBnzMK2D+Qqd0U4QXZP3129v5mANo/bFqwgFX/2j+WTgNgrfzbP14wV3nW/dw/piFfg/783T9/dCDvYP/eP5eRqcRW/98/oFDkH/iA4D9eJHvq2ADhPwlwhOK7geE/ihr21wIB4j/AgRNH/IDiP8IqdTwm/+I//JA6o7J94z8i5ddDRPrjPyBUB3jjduQ/qyfYxFvx5D8IbmrskGvlP0Orfwh24+U/YcaoZsRa5j+YlmxXnM/mPxlJdTWNQ+c/PSNVReK05z/cetKy/SToP+1Ydjhfkug/GLkWfDT+6D9wAaAgM2fpPzQow0JUzuk/TII6Hocy6j8fRRzsi5TqP3be8KeN8+o/5cdUKhNQ6z9pFcr3g6nrP2dE9SssAOw/fnbhobJT7D+QsXOZJKTsP2OlYixt8ew/udwlbFc77T9V+12HFILtP6qbIY8rxe0/QmSNbRYF7j+rbUm2FUHuP8e3H6juee4//G1T1piu7j+aAUYSJ+DuPyL59ShGDe8/6OBRd1g37z+n8RsEvlzvP4WWxcAqf+8/jA0JNrCc7z9uOH5XVbfvP68P6grczO8/cK8Qg5/f7z+kz+3mEO3vP+95R47g9+8/WGulMS797z+Q15L8///vPw==",
          "dtype": "f8"
         }
        },
        {
         "mode": "lines",
         "name": "Ep=0",
         "type": "scatter",
         "x": {
          "bdata": "AAAAAAAAAAB7FK5H4XqUP3sUrkfheqQ/uR6F61G4rj97FK5H4Xq0P5mZmZmZmbk/uR6F61G4vj/sUbgehevBP3sUrkfhesQ/CtejcD0Kxz+ZmZmZmZnJPylcj8L1KMw/uR6F61G4zj+kcD0K16PQP+xRuB6F69E/MzMzMzMz0z97FK5H4XrUP8P1KFyPwtU/CtejcD0K1z9SuB6F61HYP5mZmZmZmdk/4XoUrkfh2j8pXI/C9SjcP3A9CtejcN0/uR6F61G43j8AAAAAAADgP6RwPQrXo+A/SOF6FK5H4T/sUbgehevhP5DC9Shcj+I/MzMzMzMz4z/Xo3A9CtfjP3sUrkfheuQ/H4XrUbge5T/D9Shcj8LlP2ZmZmZmZuY/CtejcD0K5z+uR+F6FK7nP1K4HoXrUeg/9ihcj8L16D+ZmZmZmZnpPz0K16NwPeo/4XoUrkfh6j+F61G4HoXrPylcj8L1KOw/zczMzMzM7D9wPQrXo3DtPxSuR+F6FO4/uR6F61G47j9cj8L1KFzvPwAAAAAAAPA/UrgehetR8D+kcD0K16PwP/YoXI/C9fA/SOF6FK5H8T+amZmZmZnxP+xRuB6F6/E/PgrXo3A98j+QwvUoXI/yP+F6FK5H4fI/MzMzMzMz8z+F61G4HoXzP9ejcD0K1/M/KVyPwvUo9D97FK5H4Xr0P83MzMzMzPQ/H4XrUbge9T9xPQrXo3D1P8P1KFyPwvU/Fa5H4XoU9j9mZmZmZmb2P7gehetRuPY/CtejcD0K9z9cj8L1KFz3P65H4XoUrvc/AAAAAAAA+D9SuB6F61H4P6RwPQrXo/g/9ihcj8L1+D9I4XoUrkf5P5mZmZmZmfk/61G4HoXr+T89CtejcD36P4/C9Shcj/o/4XoUrkfh+j8zMzMzMzP7P4XrUbgehfs/16NwPQrX+z8pXI/C9Sj8P3sUrkfhevw/zczMzMzM/D8ehetRuB79P3A9CtejcP0/wvUoXI/C/T8UrkfhehT+P2ZmZmZmZv4/uR6F61G4/j8L16NwPQr/P1yPwvUoXP8/r0fhehSu/z8AAAAAAAAAQA==",
          "dtype": "f8"
         },
         "y": {
          "bdata": "AAAAAAAAAAD0ZB8HB2g2P9WhuPg+mko/fr0ElaLLTj9XakthE61SP9WzfARqn1g/cCA/vMNIYT86Mr6c28RmP127p+YARnI/IF91Cubycj9vgMFPSa53P+IX8jzXoHw/7wTxiNw2gT/3OxMxNi+EP5p2X18lsoo/LvglXRrdij86AxBOC5qOP3o+m5/NR5E/zqwHCFlekz+BIDWFDJCVP/JFUmRL3Jc/wQicLG5Cmj8PyTIAzMGcP8+L2OiPVZ8/rst/ot0EoT+PGRI4TmiiP1OoOePv1qM/W8QP62FQpT8Fl2J+QNSmP0nYOJQeYag/nbn8eyT4qT+6oyhhFZmrP0wHoDDOQ60/vGEoyGv0rj8YLts0tlewP3AlOv82GLI/7FjXE/IYsj9XsH1qiQCzP5TkEEpB1bQ/c5vyUOrVtD+ToHv8Oca1P1mE+UrquLY//S4eRMuhuD/icswZyKK4P/qI9Bw/m7k/V40BHiiOuz9Gd2S43467P3aJMx70irw/7wuzx6WHvT/KQHBntoS+P277Qdzlgb8/ljVqLHo/wD82Otfy0L3AP1wsql/XO8E/Q88FTHo2wj/q38Lm7DbCP28Eoz46L8M/I2V33q8vwz/D3ernf6rDPzeMgWZDJMQ/8kCj4qycxD+L4R6SLBTFP6Hck8g4/8U/sgo6Sf3/xT+TNAzP5nLGP/SimJZJVMc/u0J53ipVxz/qnZdRpMLHP5HwlUO5Lcg/vSHy9jKXyD8BXn4jHf7IP+z6RDBUYsk/zp4JBb3EyT9qwCL26iPKPwXS2wodgco/WCFqdcPayj9vG9fcDzLLP+d0y4AG2ss/5i2FPcfayz+eu7NixynMP8zYdIsNdcw/1tN1COcCzT/PTXdExwTNP5z1g3NORs0/lDzaMnKEzT/vboR+JL/NP7QlwFjpKc4/rhCmtA0tzj8hNSaiv1zOP8bLiDmoic4/G8wM0Myxzj+yGh6cvNfOPzo1Xw5y+c4/cxhUVqMXzz/1hdrrKDDPP25m1sxWSc8/icQEz4hazz9erRoH92rPP0frKpaJdM8/TDbzxfN6zz8GVM3/1HzPPw==",
          "dtype": "f8"
         }
        },
        {
         "mode": "lines",
         "name": "Ep=1",
         "type": "scatter",
         "x": {
          "bdata": "AAAAAAAAAAB7FK5H4XqUP3sUrkfheqQ/uR6F61G4rj97FK5H4Xq0P5mZmZmZmbk/uR6F61G4vj/sUbgehevBP3sUrkfhesQ/CtejcD0Kxz+ZmZmZmZnJPylcj8L1KMw/uR6F61G4zj+kcD0K16PQP+xRuB6F69E/MzMzMzMz0z97FK5H4XrUP8P1KFyPwtU/CtejcD0K1z9SuB6F61HYP5mZmZmZmdk/4XoUrkfh2j8pXI/C9SjcP3A9CtejcN0/uR6F61G43j8AAAAAAADgP6RwPQrXo+A/SOF6FK5H4T/sUbgehevhP5DC9Shcj+I/MzMzMzMz4z/Xo3A9CtfjP3sUrkfheuQ/H4XrUbge5T/D9Shcj8LlP2ZmZmZmZuY/CtejcD0K5z+uR+F6FK7nP1K4HoXrUeg/9ihcj8L16D+ZmZmZmZnpPz0K16NwPeo/4XoUrkfh6j+F61G4HoXrPylcj8L1KOw/zczMzMzM7D9wPQrXo3DtPxSuR+F6FO4/uR6F61G47j9cj8L1KFzvPwAAAAAAAPA/UrgehetR8D+kcD0K16PwP/YoXI/C9fA/SOF6FK5H8T+amZmZmZnxP+xRuB6F6/E/PgrXo3A98j+QwvUoXI/yP+F6FK5H4fI/MzMzMzMz8z+F61G4HoXzP9ejcD0K1/M/KVyPwvUo9D97FK5H4Xr0P83MzMzMzPQ/H4XrUbge9T9xPQrXo3D1P8P1KFyPwvU/Fa5H4XoU9j9mZmZmZmb2P7gehetRuPY/CtejcD0K9z9cj8L1KFz3P65H4XoUrvc/AAAAAAAA+D9SuB6F61H4P6RwPQrXo/g/9ihcj8L1+D9I4XoUrkf5P5mZmZmZmfk/61G4HoXr+T89CtejcD36P4/C9Shcj/o/4XoUrkfh+j8zMzMzMzP7P4XrUbgehfs/16NwPQrX+z8pXI/C9Sj8P3sUrkfhevw/zczMzMzM/D8ehetRuB79P3A9CtejcP0/wvUoXI/C/T8UrkfhehT+P2ZmZmZmZv4/uR6F61G4/j8L16NwPQr/P1yPwvUoXP8/r0fhehSu/z8AAAAAAAAAQA==",
          "dtype": "f8"
         },
         "y": {
          "bdata": "AAAAAAAAAAC0JwwfPbg2P3JHkSCTKFA/1EoQZ7n5Yj9VD0pERBtwP1EyPquWfnk/dKs+DRj7gT+rAVnrCIeIPwbjfqaqhY8/xGt5UffZkz9S+ElmwReYP7l8e3xQ1Zw/ORXrZ//PoD+dzLtwnmWjPy3xYjFf8qU/8/RMzFKdqD+f3g5hyi6rP/rx4kizy60/Ro0WcqwfsD/OhwdoilaxP4wx5mBdcrI/cllCalKEsz/Ktu++Nne0P99dmRPlW7U/ziSrtW0gtj+sydO2VtW2Px2Vy+0DbLc/lY9MCnX0tz9AaRTfJWO4P6V7/ro2x7g/8vPeLMYXuT92GpImrGK5P0dtrrAWobk/6tP9DjPfuT+SE12CsRe6P6pkXZTPVLo/G27ScwuSuj+ccWlc5te6P7e2ixejIrs/3jvF6H14uz8JhpB5Sta7P0T1qZ+1QLw/kcCqsq20vD9J7ZV8QTW9P1mtDuXUv70/Ciu1N1pWvj/ObrimRPa+P565IIHQoL8/GHvUAeEpwD9VKfN7zYfAPyFf3UE26cA/JV2/zCdOwT8Gkkroz7XBP4ncLEobIMI/66x83FmMwj+d1+tvcfrCP0KtC/vHacM/TGmmQzzawz+NlXSySUvEP46U1pe8vMQ/DSVs6TMuxT870jeUfJ/FP1ze6LRIEMY/fGpxuoCAxj/fVctkzO/GP4b9dkX6Xcc/HVkP1/DKxz/kphzzajbIP20iVPQ0oMg/oulMByoIyT9asizEIW7JP93/GFL50ck/kIS8RI8zyj+1HinmwpLKPwQKkXp378o/M8+QZI5Jyz+qh7IM76DLPyUlltB+9cs/lEIQkUBHzD9pLOtUAJbMP2knRwuo4cw/O3gePSIqzT9oxz+Sb2/NP03yK2tmsc0/I2sVRfjvzT9nYD9rEivOP7YzNnGpYs4/UMO4TbaWzj96aO9XIsfOP6wik3nd884/fYoh9+Aczz9MM/2jHULPP51r2CaPY88/3SYTpyeBzz/FKrUC5JrPP0NThAm3sM8/qtRYOaDCzz/DWudWk9DPP4BfRraR2s8/I4o3bZDgzz9sewH6kuLPPw==",
          "dtype": "f8"
         }
        },
        {
         "mode": "lines",
         "name": "Ep=2",
         "type": "scatter",
         "x": {
          "bdata": "AAAAAAAAAAB7FK5H4XqUP3sUrkfheqQ/uR6F61G4rj97FK5H4Xq0P5mZmZmZmbk/uR6F61G4vj/sUbgehevBP3sUrkfhesQ/CtejcD0Kxz+ZmZmZmZnJPylcj8L1KMw/uR6F61G4zj+kcD0K16PQP+xRuB6F69E/MzMzMzMz0z97FK5H4XrUP8P1KFyPwtU/CtejcD0K1z9SuB6F61HYP5mZmZmZmdk/4XoUrkfh2j8pXI/C9SjcP3A9CtejcN0/uR6F61G43j8AAAAAAADgP6RwPQrXo+A/SOF6FK5H4T/sUbgehevhP5DC9Shcj+I/MzMzMzMz4z/Xo3A9CtfjP3sUrkfheuQ/H4XrUbge5T/D9Shcj8LlP2ZmZmZmZuY/CtejcD0K5z+uR+F6FK7nP1K4HoXrUeg/9ihcj8L16D+ZmZmZmZnpPz0K16NwPeo/4XoUrkfh6j+F61G4HoXrPylcj8L1KOw/zczMzMzM7D9wPQrXo3DtPxSuR+F6FO4/uR6F61G47j9cj8L1KFzvPwAAAAAAAPA/UrgehetR8D+kcD0K16PwP/YoXI/C9fA/SOF6FK5H8T+amZmZmZnxP+xRuB6F6/E/PgrXo3A98j+QwvUoXI/yP+F6FK5H4fI/MzMzMzMz8z+F61G4HoXzP9ejcD0K1/M/KVyPwvUo9D97FK5H4Xr0P83MzMzMzPQ/H4XrUbge9T9xPQrXo3D1P8P1KFyPwvU/Fa5H4XoU9j9mZmZmZmb2P7gehetRuPY/CtejcD0K9z9cj8L1KFz3P65H4XoUrvc/AAAAAAAA+D9SuB6F61H4P6RwPQrXo/g/9ihcj8L1+D9I4XoUrkf5P5mZmZmZmfk/61G4HoXr+T89CtejcD36P4/C9Shcj/o/4XoUrkfh+j8zMzMzMzP7P4XrUbgehfs/16NwPQrX+z8pXI/C9Sj8P3sUrkfhevw/zczMzMzM/D8ehetRuB79P3A9CtejcP0/wvUoXI/C/T8UrkfhehT+P2ZmZmZmZv4/uR6F61G4/j8L16NwPQr/P1yPwvUoXP8/r0fhehSu/z8AAAAAAAAAQA==",
          "dtype": "f8"
         },
         "y": {
          "bdata": "AAAAAAAAAAAh/FSqU7g2P5XhyV4zKVA/KbfwY0v8Yj9keKjLfiBwP2TDCvrQjnk/rxLOMeMOgj8aBtNb4LGIP6FzyCSx148/RxbTZFEjlD9d/qYRcZGYP0jxraBalp0/YT8rHGthoT9NvTRexzmkP+aP37xNHKc/cyeleow1qj8RpwUInk2tP61tSkmoR7A/M8JMYsThsT+eaQsVrYmzPwUoMDyhJLU/hNDDPWHGtj++P0vQYFW4P5rMLfix5Lk/P9pVyFpcuz/MuLMQ2M68P1S3/lIQJr4/wk382vdzvz9hdlWhRlLAP+JmisSc5MA/ohNv9xZowT8kpl/FGuXBPzZMH6/ZU8I/xyDi5li8wj+WG3Vt1hfDP0XV0HXhbcM/2wwlf6G4wz+I+ciKLf/DP0/qk1iFPMQ/SM/ubBd3xD/qUVg/n6rEP897pB3q3MQ/Hp8eDkgKxT/gBSlyyTfFPyxpQL1GYsU/7fbI/h+OxT/BIhQmirjFP4C+2NhE5cU/UJeekt4Rxj/xnIXeZkHGP3DBH0jBccY/aCOq62Clxj/4swDXctrGPzaBokjhEsc/TL3jPBdNxz8GPi5llYrHP866bUv0ycc/G87RfFoMyD8apn9Zi1DIP+ARn9xYl8g/hzWiGLnfyD9chnm6PCrJP4xHveYEdsk/NMxr1nzDyT9vqyI62hHKP7h8Qe1UYco/Mo/G31uxyj9mS+ag/QHLP1QKKFSyUss/6bE7pH6jyz/MJVoo9/PLP5IKcCUNRMw/Xq3s4G2TzD+ZFjbp+OHMP263kUhyL80/Z898bq17zT8cAxRJgMbNPyeiabm1D84/Juawz0BXzj8eorwS1pzOPyYKqa9p4M4/h+93S7Yhzz+IcUDcyGDPP7SlheFInc8/+r7yLkjXzz91XBM2OAfQPzWQdqpwIdA/ur9WcSA60D/Ux/iVWlHQP7CLdcHqZtA/l6yJ3+160D95YrR3Ko3QPzmJKAXEndA/AMRAt3us0D/rRE5de7nQPxZ6xWF+xNA/zCAtabXN0D+OPfT61dTQP3ocxpYX2tA/mgOL5Cnd0D/ISg6hS97QPw==",
          "dtype": "f8"
         }
        },
        {
         "mode": "lines",
         "name": "Ep=3",
         "type": "scatter",
         "x": {
          "bdata": "AAAAAAAAAAB7FK5H4XqUP3sUrkfheqQ/uR6F61G4rj97FK5H4Xq0P5mZmZmZmbk/uR6F61G4vj/sUbgehevBP3sUrkfhesQ/CtejcD0Kxz+ZmZmZmZnJPylcj8L1KMw/uR6F61G4zj+kcD0K16PQP+xRuB6F69E/MzMzMzMz0z97FK5H4XrUP8P1KFyPwtU/CtejcD0K1z9SuB6F61HYP5mZmZmZmdk/4XoUrkfh2j8pXI/C9SjcP3A9CtejcN0/uR6F61G43j8AAAAAAADgP6RwPQrXo+A/SOF6FK5H4T/sUbgehevhP5DC9Shcj+I/MzMzMzMz4z/Xo3A9CtfjP3sUrkfheuQ/H4XrUbge5T/D9Shcj8LlP2ZmZmZmZuY/CtejcD0K5z+uR+F6FK7nP1K4HoXrUeg/9ihcj8L16D+ZmZmZmZnpPz0K16NwPeo/4XoUrkfh6j+F61G4HoXrPylcj8L1KOw/zczMzMzM7D9wPQrXo3DtPxSuR+F6FO4/uR6F61G47j9cj8L1KFzvPwAAAAAAAPA/UrgehetR8D+kcD0K16PwP/YoXI/C9fA/SOF6FK5H8T+amZmZmZnxP+xRuB6F6/E/PgrXo3A98j+QwvUoXI/yP+F6FK5H4fI/MzMzMzMz8z+F61G4HoXzP9ejcD0K1/M/KVyPwvUo9D97FK5H4Xr0P83MzMzMzPQ/H4XrUbge9T9xPQrXo3D1P8P1KFyPwvU/Fa5H4XoU9j9mZmZmZmb2P7gehetRuPY/CtejcD0K9z9cj8L1KFz3P65H4XoUrvc/AAAAAAAA+D9SuB6F61H4P6RwPQrXo/g/9ihcj8L1+D9I4XoUrkf5P5mZmZmZmfk/61G4HoXr+T89CtejcD36P4/C9Shcj/o/4XoUrkfh+j8zMzMzMzP7P4XrUbgehfs/16NwPQrX+z8pXI/C9Sj8P3sUrkfhevw/zczMzMzM/D8ehetRuB79P3A9CtejcP0/wvUoXI/C/T8UrkfhehT+P2ZmZmZmZv4/uR6F61G4/j8L16NwPQr/P1yPwvUoXP8/r0fhehSu/z8AAAAAAAAAQA==",
          "dtype": "f8"
         },
         "y": {
          "bdata": "AAAAAAAAAABQpB0uW7g2P5yYospoKVA/udXz0Sb9Yj/PMmF5PSJwP26ZdtA8lHk/C0efxoIVgj+b/KGgPsCIP4CvkiNJ848/J4rorxY8lD+NINpyu7qYP+y5sco/2J0/56cFIGOToT+24WoxSoOkP9NjBAp9hKc/iXTEXNXFqj8aaeaPyQ+uP0BNFmjsx7A/00fJ6WKHsj9VfENBTly0P2+IlJt2K7Y/Q5Bhci4KuD8MSzQy6d25Pz/q/1ZOu7s/9peR6sWIvT8k0LEpVlq/P+1Hz5rOi8A/2G6mSQVqwT/52ib9VTzCP2GoNKgvDMM/q562KObOwz/FayXUno3EP98zclCIPsU/osLEWXjqxT+j2zJugojGP3qxKVseIcc/QdFTEDqsxz+h9CMT9jHIP4urwt4Tq8g/w9+jbz8fyT/j7McMAojJP2R1oSWR7Mk/vH4CoytHyj9VCZC6eZ7KP2hm9mFh7co/j3m6FP05yz8n8QUlwH/LP9OWj1s3xMs/itYnpFYDzD9FfYpNDkLMP3eH2WDLfMw/QwmECeC3zD8z5vTjLvDMP0X0DU1oKc0/HeoP5tlgzT9IRCJzqpnNP2rOEJR20c0/wqaE3uwKzj/vxk1l7kPOP/VJcyS2fs4/W9LDrG65zj87PxEa5vXOP8T92K+MMs8/zSrPZt5wzz+BkJg2dq/PP3OVMFF/788/EL5WqOkX0D+HJhbjqjjQP+fxJpuAWdA/vPT0/MN60D+L1bnSCJzQP+gBn7yNvdA/kR4uwfve0D8VsBRGeQDRP6E3B/XEIdE/7+cFde1C0T+6XKMuxmPRP/hyCIRJhNE/WYuj4mGk0T+qbHha8sPRP169v7Ty4tE/F+OUYTgB0j+WLNpS0B7SP5ecamZ6O9I/DUJ8ZFJX0j90OBpfCXLSPzc8ngjNi9I/OsDf0T2k0j+tN2vpmLvSP4pzGGdq0dI/NvCdlwPm0j8pK5Za3fjSP8kbfD9bCtM/tuvJmeIZ0z84ZARt6SfTPwYTPAvBM9M/hqR6vfI90z/7rZehu0XTP2w8yty4S9M/Ds6IYxNP0z/FV2EafVDTPw==",
          "dtype": "f8"
         }
        },
        {
         "mode": "lines",
         "name": "Ep=4",
         "type": "scatter",
         "x": {
          "bdata": "AAAAAAAAAAB7FK5H4XqUP3sUrkfheqQ/uR6F61G4rj97FK5H4Xq0P5mZmZmZmbk/uR6F61G4vj/sUbgehevBP3sUrkfhesQ/CtejcD0Kxz+ZmZmZmZnJPylcj8L1KMw/uR6F61G4zj+kcD0K16PQP+xRuB6F69E/MzMzMzMz0z97FK5H4XrUP8P1KFyPwtU/CtejcD0K1z9SuB6F61HYP5mZmZmZmdk/4XoUrkfh2j8pXI/C9SjcP3A9CtejcN0/uR6F61G43j8AAAAAAADgP6RwPQrXo+A/SOF6FK5H4T/sUbgehevhP5DC9Shcj+I/MzMzMzMz4z/Xo3A9CtfjP3sUrkfheuQ/H4XrUbge5T/D9Shcj8LlP2ZmZmZmZuY/CtejcD0K5z+uR+F6FK7nP1K4HoXrUeg/9ihcj8L16D+ZmZmZmZnpPz0K16NwPeo/4XoUrkfh6j+F61G4HoXrPylcj8L1KOw/zczMzMzM7D9wPQrXo3DtPxSuR+F6FO4/uR6F61G47j9cj8L1KFzvPwAAAAAAAPA/UrgehetR8D+kcD0K16PwP/YoXI/C9fA/SOF6FK5H8T+amZmZmZnxP+xRuB6F6/E/PgrXo3A98j+QwvUoXI/yP+F6FK5H4fI/MzMzMzMz8z+F61G4HoXzP9ejcD0K1/M/KVyPwvUo9D97FK5H4Xr0P83MzMzMzPQ/H4XrUbge9T9xPQrXo3D1P8P1KFyPwvU/Fa5H4XoU9j9mZmZmZmb2P7gehetRuPY/CtejcD0K9z9cj8L1KFz3P65H4XoUrvc/AAAAAAAA+D9SuB6F61H4P6RwPQrXo/g/9ihcj8L1+D9I4XoUrkf5P5mZmZmZmfk/61G4HoXr+T89CtejcD36P4/C9Shcj/o/4XoUrkfh+j8zMzMzMzP7P4XrUbgehfs/16NwPQrX+z8pXI/C9Sj8P3sUrkfhevw/zczMzMzM/D8ehetRuB79P3A9CtejcP0/wvUoXI/C/T8UrkfhehT+P2ZmZmZmZv4/uR6F61G4/j8L16NwPQr/P1yPwvUoXP8/r0fhehSu/z8AAAAAAAAAQA==",
          "dtype": "f8"
         },
         "y": {
          "bdata": "AAAAAAAAAADM7ALwXrg2P+iZ44CDKVA/+8nGjZT9Yj97MFzoHCNwP/bcKE/zlnk/4aSGy9MYgj/1aZP+cceIP/yJ16eQAJA/XtB32IhIlD+eDbXOhM+YP+bccaN7+Z0/fe8+g6qsoT/m6Xzik6ikP6Y6ET+Juac/oyx6TJQPqz9uB903f3OuP1K1cnceCrE/ipJ06Fndsj9smkIPT8q0Py0cNXCutbY/E7TbSri1uD/zUGJQja+6P+qCiszTuLw/COhQTFK3vj9o5JsNDWDAP2ZbQU7nXME/Ap1ZRHdcwj+8vuoVmFLDP/QpUiBAScQ/22pN8Og0xT8Sd+EjQR/GPwHdzB5z/cY/aTMdXN3Yxz9CaNsPbqfIP/M+IXcrcsk//vb8TsQvyj+leAjQ8ejKP+DnUhEdlcs/WtafBaQ8zD9yVSDIptfMP6z14fMhbs0/Z9eQsO34zT/Vk0lch3/OP4zuxKyB+84/cG9WWtJzzz9amhuir+LPP4+Al1hKJ9A/d93bEiJZ0D/Bu3tH2InQP34rPuAWt9A/Zo1Pwonj0D8FBNlpIg3RP30NzkQ/NtE/FERosQ9d0T/B19xmsIPRP3+JKzd/qNE/mH5Gcl3N0T9xQ34Y0/DRP+g5/TeFFNI/RbPLLSg30j8NsaB0I1rSPxHJEGhYfNI/DcoK//me0j+iyvcrCsHSPx/GPH6I49I/JOtz7Z4F0z8qSBoJHSjTP6wIeJNIStM/dVQ6cMls0z8uQSVLBo/TPwLq2VF9sdM/uiSoqrXT0z94YPc4BvbTP0zX5pUUGNQ/IckRtRM61D8bvdtRxlvUP6IWQjQ9fdQ/WRrEolqe1D9tvQBjC7/UP1UH2llK39Q/a+H1Jef+1D84TMwu+x3VPyEd3E4zPNU/IkfrLcNZ1T/HjxN/OXbVPzEu/8fmkdU/JfIVIzqs1T8jPUCNn8XVP3dEj6Rj3dU/8yhrsRH01T+U26ll1AjWP3Yl431VHNY/cL1kX50t1j8a7erodD3WP9fon8DBStY/GXvHJG1W1j/Uu/DPOV/WP+k0FHsyZtY/ii9jFPdp1j9re3owtWvWPw==",
          "dtype": "f8"
         }
        },
        {
         "mode": "lines",
         "name": "Ep=5",
         "type": "scatter",
         "x": {
          "bdata": "AAAAAAAAAAB7FK5H4XqUP3sUrkfheqQ/uR6F61G4rj97FK5H4Xq0P5mZmZmZmbk/uR6F61G4vj/sUbgehevBP3sUrkfhesQ/CtejcD0Kxz+ZmZmZmZnJPylcj8L1KMw/uR6F61G4zj+kcD0K16PQP+xRuB6F69E/MzMzMzMz0z97FK5H4XrUP8P1KFyPwtU/CtejcD0K1z9SuB6F61HYP5mZmZmZmdk/4XoUrkfh2j8pXI/C9SjcP3A9CtejcN0/uR6F61G43j8AAAAAAADgP6RwPQrXo+A/SOF6FK5H4T/sUbgehevhP5DC9Shcj+I/MzMzMzMz4z/Xo3A9CtfjP3sUrkfheuQ/H4XrUbge5T/D9Shcj8LlP2ZmZmZmZuY/CtejcD0K5z+uR+F6FK7nP1K4HoXrUeg/9ihcj8L16D+ZmZmZmZnpPz0K16NwPeo/4XoUrkfh6j+F61G4HoXrPylcj8L1KOw/zczMzMzM7D9wPQrXo3DtPxSuR+F6FO4/uR6F61G47j9cj8L1KFzvPwAAAAAAAPA/UrgehetR8D+kcD0K16PwP/YoXI/C9fA/SOF6FK5H8T+amZmZmZnxP+xRuB6F6/E/PgrXo3A98j+QwvUoXI/yP+F6FK5H4fI/MzMzMzMz8z+F61G4HoXzP9ejcD0K1/M/KVyPwvUo9D97FK5H4Xr0P83MzMzMzPQ/H4XrUbge9T9xPQrXo3D1P8P1KFyPwvU/Fa5H4XoU9j9mZmZmZmb2P7gehetRuPY/CtejcD0K9z9cj8L1KFz3P65H4XoUrvc/AAAAAAAA+D9SuB6F61H4P6RwPQrXo/g/9ihcj8L1+D9I4XoUrkf5P5mZmZmZmfk/61G4HoXr+T89CtejcD36P4/C9Shcj/o/4XoUrkfh+j8zMzMzMzP7P4XrUbgehfs/16NwPQrX+z8pXI/C9Sj8P3sUrkfhevw/zczMzMzM/D8ehetRuB79P3A9CtejcP0/wvUoXI/C/T8UrkfhehT+P2ZmZmZmZv4/uR6F61G4/j8L16NwPQr/P1yPwvUoXP8/r0fhehSu/z8AAAAAAAAAQA==",
          "dtype": "f8"
         },
         "y": {
          "bdata": "AAAAAAAAAAC2ayYxYbg2P/bI8oeTKVA/M+dqZtb9Yj+TrHr/oiNwP1zZ1TCUmHk/irepmdEagj8ko6EHxcuIP4vy3xK6BJA/tYUYTgVQlD9dWYzrCNyYP4zPaIGEDZ4/clZtIOq7oT+AUFX/I7+kP/XjlIKo2ac/bFpml148qz9UuFGkKbCuP/HCJGCGMrE/ZfKnL/YRsz+ZnY+P4A21P4LW9KreCrc/Whi6u+MfuT/Sfg6L2DG7P+rY73QkV70/9ww2oS91vz9nevwy6tDAP9ArvOeS4cE/4tRK3Dr3wj/8+nGrVgXEP3duBvZKFsU/py/Fzgsexj+E+08luSbHP4SO5X3YJMg/pzYkXD8iyT/H1xYCFxTKP6QdVLfnA8s/zxUbY3znyz+IBHXdGcjMP8wgceAunM0/4rhS3K9szj9wONHDsjDPPzRj5Y/T8M8/Byz4xGpS0D+lHIWBdKrQP2nDht/A/NA/ToG/WClN0T9297WnPZjRP+zLgdWd4dE/kU1gXCIm0j80Kk8GLmnSP2nUWgjjp9I/asZ/vGDl0j/FlIrqEB/TP8uDXOLMV9M/caJq0kKN0z9g/bUNB8LTP4ai6JIC9NM/8fJw04kl1D+mcgW4v1TUPyRVSfitg9Q/sCVwk7aw1D86zYLWnt3UP4wvyOT7CNU/pbx+E1k01T/cJ85hdV7VP50zTNKjiNU/W0NmFdCx1T+FWUP6FtvVP41H7ciJA9Y/358gBhIs1j/A2NN27FPWP5YIMw3Ne9Y/aTv2Fxqj1j+5OEfIVcrWP73eD3AN8dY/8QwcDZQX1z80Q1zsnD3XP5jgg0dNY9c/BdCs63+I1z9b4zIeK63XP5Zg8F1M0dc/eXg9g6/01z8RnGaWeRfYP7zHFuRHOdg/ADu152Na2D+9eHeEP3rYP4K7szFLmdg/BtbmFcy22D8ykvf9WNPYP+cGD+8H7tg/FTNDbZkH2T+pXW1y9B7ZP/8Z7k8DNdk/x1VHjn1I2T/o+39UeFrZP5P53kl7adk/hIeCCMh22T/3AWEstoDZP3GKgEi1iNk/MbRfGu2M2T9eDA3t/I7ZPw==",
          "dtype": "f8"
         }
        },
        {
         "mode": "lines",
         "name": "Ep=10",
         "type": "scatter",
         "x": {
          "bdata": "AAAAAAAAAAB7FK5H4XqUP3sUrkfheqQ/uR6F61G4rj97FK5H4Xq0P5mZmZmZmbk/uR6F61G4vj/sUbgehevBP3sUrkfhesQ/CtejcD0Kxz+ZmZmZmZnJPylcj8L1KMw/uR6F61G4zj+kcD0K16PQP+xRuB6F69E/MzMzMzMz0z97FK5H4XrUP8P1KFyPwtU/CtejcD0K1z9SuB6F61HYP5mZmZmZmdk/4XoUrkfh2j8pXI/C9SjcP3A9CtejcN0/uR6F61G43j8AAAAAAADgP6RwPQrXo+A/SOF6FK5H4T/sUbgehevhP5DC9Shcj+I/MzMzMzMz4z/Xo3A9CtfjP3sUrkfheuQ/H4XrUbge5T/D9Shcj8LlP2ZmZmZmZuY/CtejcD0K5z+uR+F6FK7nP1K4HoXrUeg/9ihcj8L16D+ZmZmZmZnpPz0K16NwPeo/4XoUrkfh6j+F61G4HoXrPylcj8L1KOw/zczMzMzM7D9wPQrXo3DtPxSuR+F6FO4/uR6F61G47j9cj8L1KFzvPwAAAAAAAPA/UrgehetR8D+kcD0K16PwP/YoXI/C9fA/SOF6FK5H8T+amZmZmZnxP+xRuB6F6/E/PgrXo3A98j+QwvUoXI/yP+F6FK5H4fI/MzMzMzMz8z+F61G4HoXzP9ejcD0K1/M/KVyPwvUo9D97FK5H4Xr0P83MzMzMzPQ/H4XrUbge9T9xPQrXo3D1P8P1KFyPwvU/Fa5H4XoU9j9mZmZmZmb2P7gehetRuPY/CtejcD0K9z9cj8L1KFz3P65H4XoUrvc/AAAAAAAA+D9SuB6F61H4P6RwPQrXo/g/9ihcj8L1+D9I4XoUrkf5P5mZmZmZmfk/61G4HoXr+T89CtejcD36P4/C9Shcj/o/4XoUrkfh+j8zMzMzMzP7P4XrUbgehfs/16NwPQrX+z8pXI/C9Sj8P3sUrkfhevw/zczMzMzM/D8ehetRuB79P3A9CtejcP0/wvUoXI/C/T8UrkfhehT+P2ZmZmZmZv4/uR6F61G4/j8L16NwPQr/P1yPwvUoXP8/r0fhehSu/z8AAAAAAAAAQA==",
          "dtype": "f8"
         },
         "y": {
          "bdata": "AAAAAAAAAACKBZeJZbg2P943ZpazKVA/jLreFVr+Yj9HZyo/ryRwP4Sc01vWm3k/bBbqGM4egj+DOP/VbtSIP5iN+uMQDZA/iK0F6AlflD9s7p9wKvWYP2sbsszPNZ4/1DCRW6PaoT9d3Y6Fo+ykPyvpEpKfGqg/Cg+DNiGXqz91czbRdSuvP0bRofnjhLE/Iajm5pN9sz/xq8S7nJi1P6VjqMKCurc/Ztift8b7uT/at86mB0G8P9AKcfBkor4/jiFvv1qCwD/kbpEz27/BP1oMdPRE/MI/iG2szERDxD8K/20on4fFPzsgfVTM1MY/CJqpCtMdyD8ggum48W3JP5mWWkqCuMo/bh6gfoYIzD/6JgZ0tVHNP3561L3Rns4/7mjZxffjzz8ENP5J2ZXQP8UA5eNBNdE/IR02x13V0T+oFZkkpXDSP6AOnkAdDNM/7DKMpYCi0z+6DjbVqTjUP03gxQqXydQ/ezgFmfFZ1T/vS7DDBOXVP/5Q121Ib9Y/KtYNsEz01j+4WwTQTnjXP3C1zzs999c/wbzWCwB12D9UrRfk5O3YP0f6ljeKZdk/yo5z8JPY2T9xcKh0V0raPycN3IfCt9o/0+YC8u4j2z/Qv04IDozbP186bOzy8ts/kz0V7R1W3D8XfkzLFbjcPxx3mzyjFt0/zHUIpAl03T9GnI76T87dPzu7P7h1J94/WrbkesR93j/KQfBQ9tLeP1cYOl6RJd8/E8dYIAt33z80uVi/KcbfP7ko6DENCuA/7EkH3PEv4D+Yo2ajNFXgP1eq9195eeA/9veZWwyd4D8u0Jxesr/gPxBUA4+R4eA/BhCRK5AC4T9SK6LFrSLhPzV6xH/xQeE/W4uZDzRg4T8WrlVgn33hPyZjiMbjmeE/b6pQP0614T/kRHpcZs/hP3U7fH2d6OE/FavWxVEA4j+7Iqp8GRfiP78UwlcoLOI/8EgENjtA4j+qRWvRWlLiP6ILzYVrY+I/QFM3skpy4j+TTNtABYDiP2klM+VMi+I/SPTWXFiV4j93JL5+rZziPyWMOxKuouI/n/UYF7Sl4j/NlZOVTafiPw==",
          "dtype": "f8"
         }
        },
        {
         "mode": "lines",
         "name": "Ep=25",
         "type": "scatter",
         "x": {
          "bdata": "AAAAAAAAAAB7FK5H4XqUP3sUrkfheqQ/uR6F61G4rj97FK5H4Xq0P5mZmZmZmbk/uR6F61G4vj/sUbgehevBP3sUrkfhesQ/CtejcD0Kxz+ZmZmZmZnJPylcj8L1KMw/uR6F61G4zj+kcD0K16PQP+xRuB6F69E/MzMzMzMz0z97FK5H4XrUP8P1KFyPwtU/CtejcD0K1z9SuB6F61HYP5mZmZmZmdk/4XoUrkfh2j8pXI/C9SjcP3A9CtejcN0/uR6F61G43j8AAAAAAADgP6RwPQrXo+A/SOF6FK5H4T/sUbgehevhP5DC9Shcj+I/MzMzMzMz4z/Xo3A9CtfjP3sUrkfheuQ/H4XrUbge5T/D9Shcj8LlP2ZmZmZmZuY/CtejcD0K5z+uR+F6FK7nP1K4HoXrUeg/9ihcj8L16D+ZmZmZmZnpPz0K16NwPeo/4XoUrkfh6j+F61G4HoXrPylcj8L1KOw/zczMzMzM7D9wPQrXo3DtPxSuR+F6FO4/uR6F61G47j9cj8L1KFzvPwAAAAAAAPA/UrgehetR8D+kcD0K16PwP/YoXI/C9fA/SOF6FK5H8T+amZmZmZnxP+xRuB6F6/E/PgrXo3A98j+QwvUoXI/yP+F6FK5H4fI/MzMzMzMz8z+F61G4HoXzP9ejcD0K1/M/KVyPwvUo9D97FK5H4Xr0P83MzMzMzPQ/H4XrUbge9T9xPQrXo3D1P8P1KFyPwvU/Fa5H4XoU9j9mZmZmZmb2P7gehetRuPY/CtejcD0K9z9cj8L1KFz3P65H4XoUrvc/AAAAAAAA+D9SuB6F61H4P6RwPQrXo/g/9ihcj8L1+D9I4XoUrkf5P5mZmZmZmfk/61G4HoXr+T89CtejcD36P4/C9Shcj/o/4XoUrkfh+j8zMzMzMzP7P4XrUbgehfs/16NwPQrX+z8pXI/C9Sj8P3sUrkfhevw/zczMzMzM/D8ehetRuB79P3A9CtejcP0/wvUoXI/C/T8UrkfhehT+P2ZmZmZmZv4/uR6F61G4/j8L16NwPQr/P1yPwvUoXP8/r0fhehSu/z8AAAAAAAAAQA==",
          "dtype": "f8"
         },
         "y": {
          "bdata": "AAAAAAAAAAB91Ck+aLg2P+HOXdLGKVA/PyIlHqn+Yj98gUM9UCVwP2DiuCHLnXk/p9aY9jIhgj+JQY97o9mIP9oi85oUEpA/+zoh4xNolD8LOTK5SgSZP1MSg7smTp4/wY03kTLtoT8dowPKOAilP8/hUpcGQqg/yHNIx2XOqz/JCfbrrXavPxlc+WRWt7E/36Hos7O/sz9K/WcfOu61P99Zz15aJ7g/C1+DtrmEuj8GFkgTw+q8P/xqWmLvcr8/8rL6jtkAwT/o7t/LKFjCP83vNzCsscM/bIJf7ucZxT8NmoUaN4PGP4EPewf7+cc/FK2ECLNwyT9FTSVujfPKP4NWi+w9dcw/47w1tsEBzj9CJmKS/ovPPxZ1Einij9A//MqwkRVY0T+YbEEFbiTSP176PX2V7tI/34nCqUS80z+pZPH6SIfUP3wqADU9VdU/kSPSwh8g1j+zkTvdX+3WPyFpChoxt9c/+6dxE9iC2D/vDlTgvErZP7UQ8uP9E9o/IREO6jrZ2j9xfHxjXJ/bP/gWP4xIYdw/sBlvSaYj3T8o7vFmtOHdPw3WSKLEn94/8jEEUnVZ3z9lF8WsZAngP0Gv4/zWY+A/nZAKG/K94D+7Yamk0xXhPxR5TFw2beE/2nMX0GDC4T8Rp51K6RbiP2w56Rc+aeI/9qFL3s+64j99/bGaMwrjPwuOau+zWOM/PpZB7Q6l4z/ToGUjZ/DjPy7tP1+jOeQ/mgI4WLuB5D9pI8NhwsfkP5WaUKOCDOU/J88E6zxP5T8AU0JYi5DlPwn1/KXez+U/q7nfKJ8N5j9bI17KbUnmP/Qy3xaAg+Y/7DEn16e75j9Pjx175/HmP6NDv/9BJuc/xp2LsYRY5z+sW8RJ5ojnPyQwmgr9tuc/9jKD9jTj5z9uR8hL6wzoP7BIGXfDNOg/cJRmYuBZ6D/yE+MRHn3oP46w2dRjneg/XUbAOsi76D9RJOKy9dboP7soq88+8Og/gGF/WBAG6T+JQqM7+hnpP/+gEOQqKuk/1AJNFXE46T8lQVpGvELpP3fmuGMbS+k/lTHGlz5P6T+jNjgjdlHpPw==",
          "dtype": "f8"
         }
        },
        {
         "mode": "lines",
         "name": "Ep=50",
         "type": "scatter",
         "x": {
          "bdata": "AAAAAAAAAAB7FK5H4XqUP3sUrkfheqQ/uR6F61G4rj97FK5H4Xq0P5mZmZmZmbk/uR6F61G4vj/sUbgehevBP3sUrkfhesQ/CtejcD0Kxz+ZmZmZmZnJPylcj8L1KMw/uR6F61G4zj+kcD0K16PQP+xRuB6F69E/MzMzMzMz0z97FK5H4XrUP8P1KFyPwtU/CtejcD0K1z9SuB6F61HYP5mZmZmZmdk/4XoUrkfh2j8pXI/C9SjcP3A9CtejcN0/uR6F61G43j8AAAAAAADgP6RwPQrXo+A/SOF6FK5H4T/sUbgehevhP5DC9Shcj+I/MzMzMzMz4z/Xo3A9CtfjP3sUrkfheuQ/H4XrUbge5T/D9Shcj8LlP2ZmZmZmZuY/CtejcD0K5z+uR+F6FK7nP1K4HoXrUeg/9ihcj8L16D+ZmZmZmZnpPz0K16NwPeo/4XoUrkfh6j+F61G4HoXrPylcj8L1KOw/zczMzMzM7D9wPQrXo3DtPxSuR+F6FO4/uR6F61G47j9cj8L1KFzvPwAAAAAAAPA/UrgehetR8D+kcD0K16PwP/YoXI/C9fA/SOF6FK5H8T+amZmZmZnxP+xRuB6F6/E/PgrXo3A98j+QwvUoXI/yP+F6FK5H4fI/MzMzMzMz8z+F61G4HoXzP9ejcD0K1/M/KVyPwvUo9D97FK5H4Xr0P83MzMzMzPQ/H4XrUbge9T9xPQrXo3D1P8P1KFyPwvU/Fa5H4XoU9j9mZmZmZmb2P7gehetRuPY/CtejcD0K9z9cj8L1KFz3P65H4XoUrvc/AAAAAAAA+D9SuB6F61H4P6RwPQrXo/g/9ihcj8L1+D9I4XoUrkf5P5mZmZmZmfk/61G4HoXr+T89CtejcD36P4/C9Shcj/o/4XoUrkfh+j8zMzMzMzP7P4XrUbgehfs/16NwPQrX+z8pXI/C9Sj8P3sUrkfhevw/zczMzMzM/D8ehetRuB79P3A9CtejcP0/wvUoXI/C/T8UrkfhehT+P2ZmZmZmZv4/uR6F61G4/j8L16NwPQr/P1yPwvUoXP8/r0fhehSu/z8AAAAAAAAAQA==",
          "dtype": "f8"
         },
         "y": {
          "bdata": "AAAAAAAAAABthAUlabg2P1vctjvNKVA/HXibdsP+Yj/21ibphSVwPzUVtRlynnk/HGi8WP8hgj8rxnYGYNuIPwbkVPvAE5A/m4WNaxhrlD+/DqS6WQmZP/BY6OVGVp4/XvH1dGnzoT/ENmyVcRGlP1BIUc9AT6g/I/Kru+7gqz84GBma94+vP/t9yTxWyLE/OQDYQv/Vsz9wO73PLgu2PxEKOCo2TLg/Jq7HIT+zuj+/HNwSiiS9P0QUgDAnur8/zu5xfykswT8btKhFfozCP9UwzOUz8MM/s6HTWi1kxT+hkrfkl9rGP2NtSOI7YMg/D3Qe+VrnyT+i3+vSnXzLP0wGVathEs0/9EFqXiq1zj96mxWpvSvQP/mpL0LWAtE/lRAtYzPZ0T+xcE3T8bTSP7VHgOB4j9M/bp4Hs89u1D/YKdI4dkzVP6xMLEFYLtY/m8UKJx8O1z8XyrojjvHXP1peiUV60tg/Q6JlJXu22T9Yf8MJmZfaP5krKq5Ce9s/8f3gX7Fb3D+Oq04WHT7dPxm7FjYFHd4/48IDmF/93j9i9koR9tnfP8kXsRW6W+A/AX5fN3zI4D/uCoATczXhPxEZ/vBRoOE/Fn/IsSgL4j82fEQK03PiP930fno33OI/4fk7HF9C4z/Puv6jBajjP2fRSxNiC+Q/AERYxAVu5D8KeBbTUM7kP0qwRMeuLeU/XMF+XqiK5T/sdH8VgeblP1Z8UensP+Y/tTPJzAGY5j9cs0o1pe3mP5LBnXC7Qec/7Dyr2FyT5z+StUd6OuPnP3Ak6WehMOg/yCioKA186D9DXmSSAcXoPzrmO4vCC+k/26d11wtQ6T+sS/8d6ZHpP+n1iWxP0ek/kvJM1w4O6j/UD94rWUjqPzN2UJvAf+o/i1lz17W06j9BKMHEiubqP6+/gAzxFes/+/VuCflB6z/wBnmhlmvrP75RkyOXkes/Z8H15TK16z8+T2Nz8tTrP2Qggz9U8us/OnAFApsL7D8Ir5qsjCLsP02TyjElNew/Rw1LgXNF7D+jEcbaK1HsP4FcOHunWuw/EApIWFJf7D+oOMEE0WHsPw==",
          "dtype": "f8"
         }
        }
       ],
       "layout": {
        "template": {
         "data": {
          "bar": [
           {
            "error_x": {
             "color": "#2a3f5f"
            },
            "error_y": {
             "color": "#2a3f5f"
            },
            "marker": {
             "line": {
              "color": "white",
              "width": 0.5
             },
             "pattern": {
              "fillmode": "overlay",
              "size": 10,
              "solidity": 0.2
             }
            },
            "type": "bar"
           }
          ],
          "barpolar": [
           {
            "marker": {
             "line": {
              "color": "white",
              "width": 0.5
             },
             "pattern": {
              "fillmode": "overlay",
              "size": 10,
              "solidity": 0.2
             }
            },
            "type": "barpolar"
           }
          ],
          "carpet": [
           {
            "aaxis": {
             "endlinecolor": "#2a3f5f",
             "gridcolor": "#C8D4E3",
             "linecolor": "#C8D4E3",
             "minorgridcolor": "#C8D4E3",
             "startlinecolor": "#2a3f5f"
            },
            "baxis": {
             "endlinecolor": "#2a3f5f",
             "gridcolor": "#C8D4E3",
             "linecolor": "#C8D4E3",
             "minorgridcolor": "#C8D4E3",
             "startlinecolor": "#2a3f5f"
            },
            "type": "carpet"
           }
          ],
          "choropleth": [
           {
            "colorbar": {
             "outlinewidth": 0,
             "ticks": ""
            },
            "type": "choropleth"
           }
          ],
          "contour": [
           {
            "colorbar": {
             "outlinewidth": 0,
             "ticks": ""
            },
            "colorscale": [
             [
              0,
              "#0d0887"
             ],
             [
              0.1111111111111111,
              "#46039f"
             ],
             [
              0.2222222222222222,
              "#7201a8"
             ],
             [
              0.3333333333333333,
              "#9c179e"
             ],
             [
              0.4444444444444444,
              "#bd3786"
             ],
             [
              0.5555555555555556,
              "#d8576b"
             ],
             [
              0.6666666666666666,
              "#ed7953"
             ],
             [
              0.7777777777777778,
              "#fb9f3a"
             ],
             [
              0.8888888888888888,
              "#fdca26"
             ],
             [
              1,
              "#f0f921"
             ]
            ],
            "type": "contour"
           }
          ],
          "contourcarpet": [
           {
            "colorbar": {
             "outlinewidth": 0,
             "ticks": ""
            },
            "type": "contourcarpet"
           }
          ],
          "heatmap": [
           {
            "colorbar": {
             "outlinewidth": 0,
             "ticks": ""
            },
            "colorscale": [
             [
              0,
              "#0d0887"
             ],
             [
              0.1111111111111111,
              "#46039f"
             ],
             [
              0.2222222222222222,
              "#7201a8"
             ],
             [
              0.3333333333333333,
              "#9c179e"
             ],
             [
              0.4444444444444444,
              "#bd3786"
             ],
             [
              0.5555555555555556,
              "#d8576b"
             ],
             [
              0.6666666666666666,
              "#ed7953"
             ],
             [
              0.7777777777777778,
              "#fb9f3a"
             ],
             [
              0.8888888888888888,
              "#fdca26"
             ],
             [
              1,
              "#f0f921"
             ]
            ],
            "type": "heatmap"
           }
          ],
          "histogram": [
           {
            "marker": {
             "pattern": {
              "fillmode": "overlay",
              "size": 10,
              "solidity": 0.2
             }
            },
            "type": "histogram"
           }
          ],
          "histogram2d": [
           {
            "colorbar": {
             "outlinewidth": 0,
             "ticks": ""
            },
            "colorscale": [
             [
              0,
              "#0d0887"
             ],
             [
              0.1111111111111111,
              "#46039f"
             ],
             [
              0.2222222222222222,
              "#7201a8"
             ],
             [
              0.3333333333333333,
              "#9c179e"
             ],
             [
              0.4444444444444444,
              "#bd3786"
             ],
             [
              0.5555555555555556,
              "#d8576b"
             ],
             [
              0.6666666666666666,
              "#ed7953"
             ],
             [
              0.7777777777777778,
              "#fb9f3a"
             ],
             [
              0.8888888888888888,
              "#fdca26"
             ],
             [
              1,
              "#f0f921"
             ]
            ],
            "type": "histogram2d"
           }
          ],
          "histogram2dcontour": [
           {
            "colorbar": {
             "outlinewidth": 0,
             "ticks": ""
            },
            "colorscale": [
             [
              0,
              "#0d0887"
             ],
             [
              0.1111111111111111,
              "#46039f"
             ],
             [
              0.2222222222222222,
              "#7201a8"
             ],
             [
              0.3333333333333333,
              "#9c179e"
             ],
             [
              0.4444444444444444,
              "#bd3786"
             ],
             [
              0.5555555555555556,
              "#d8576b"
             ],
             [
              0.6666666666666666,
              "#ed7953"
             ],
             [
              0.7777777777777778,
              "#fb9f3a"
             ],
             [
              0.8888888888888888,
              "#fdca26"
             ],
             [
              1,
              "#f0f921"
             ]
            ],
            "type": "histogram2dcontour"
           }
          ],
          "mesh3d": [
           {
            "colorbar": {
             "outlinewidth": 0,
             "ticks": ""
            },
            "type": "mesh3d"
           }
          ],
          "parcoords": [
           {
            "line": {
             "colorbar": {
              "outlinewidth": 0,
              "ticks": ""
             }
            },
            "type": "parcoords"
           }
          ],
          "pie": [
           {
            "automargin": true,
            "type": "pie"
           }
          ],
          "scatter": [
           {
            "fillpattern": {
             "fillmode": "overlay",
             "size": 10,
             "solidity": 0.2
            },
            "type": "scatter"
           }
          ],
          "scatter3d": [
           {
            "line": {
             "colorbar": {
              "outlinewidth": 0,
              "ticks": ""
             }
            },
            "marker": {
             "colorbar": {
              "outlinewidth": 0,
              "ticks": ""
             }
            },
            "type": "scatter3d"
           }
          ],
          "scattercarpet": [
           {
            "marker": {
             "colorbar": {
              "outlinewidth": 0,
              "ticks": ""
             }
            },
            "type": "scattercarpet"
           }
          ],
          "scattergeo": [
           {
            "marker": {
             "colorbar": {
              "outlinewidth": 0,
              "ticks": ""
             }
            },
            "type": "scattergeo"
           }
          ],
          "scattergl": [
           {
            "marker": {
             "colorbar": {
              "outlinewidth": 0,
              "ticks": ""
             }
            },
            "type": "scattergl"
           }
          ],
          "scattermap": [
           {
            "marker": {
             "colorbar": {
              "outlinewidth": 0,
              "ticks": ""
             }
            },
            "type": "scattermap"
           }
          ],
          "scattermapbox": [
           {
            "marker": {
             "colorbar": {
              "outlinewidth": 0,
              "ticks": ""
             }
            },
            "type": "scattermapbox"
           }
          ],
          "scatterpolar": [
           {
            "marker": {
             "colorbar": {
              "outlinewidth": 0,
              "ticks": ""
             }
            },
            "type": "scatterpolar"
           }
          ],
          "scatterpolargl": [
           {
            "marker": {
             "colorbar": {
              "outlinewidth": 0,
              "ticks": ""
             }
            },
            "type": "scatterpolargl"
           }
          ],
          "scatterternary": [
           {
            "marker": {
             "colorbar": {
              "outlinewidth": 0,
              "ticks": ""
             }
            },
            "type": "scatterternary"
           }
          ],
          "surface": [
           {
            "colorbar": {
             "outlinewidth": 0,
             "ticks": ""
            },
            "colorscale": [
             [
              0,
              "#0d0887"
             ],
             [
              0.1111111111111111,
              "#46039f"
             ],
             [
              0.2222222222222222,
              "#7201a8"
             ],
             [
              0.3333333333333333,
              "#9c179e"
             ],
             [
              0.4444444444444444,
              "#bd3786"
             ],
             [
              0.5555555555555556,
              "#d8576b"
             ],
             [
              0.6666666666666666,
              "#ed7953"
             ],
             [
              0.7777777777777778,
              "#fb9f3a"
             ],
             [
              0.8888888888888888,
              "#fdca26"
             ],
             [
              1,
              "#f0f921"
             ]
            ],
            "type": "surface"
           }
          ],
          "table": [
           {
            "cells": {
             "fill": {
              "color": "#EBF0F8"
             },
             "line": {
              "color": "white"
             }
            },
            "header": {
             "fill": {
              "color": "#C8D4E3"
             },
             "line": {
              "color": "white"
             }
            },
            "type": "table"
           }
          ]
         },
         "layout": {
          "annotationdefaults": {
           "arrowcolor": "#2a3f5f",
           "arrowhead": 0,
           "arrowwidth": 1
          },
          "autotypenumbers": "strict",
          "coloraxis": {
           "colorbar": {
            "outlinewidth": 0,
            "ticks": ""
           }
          },
          "colorscale": {
           "diverging": [
            [
             0,
             "#8e0152"
            ],
            [
             0.1,
             "#c51b7d"
            ],
            [
             0.2,
             "#de77ae"
            ],
            [
             0.3,
             "#f1b6da"
            ],
            [
             0.4,
             "#fde0ef"
            ],
            [
             0.5,
             "#f7f7f7"
            ],
            [
             0.6,
             "#e6f5d0"
            ],
            [
             0.7,
             "#b8e186"
            ],
            [
             0.8,
             "#7fbc41"
            ],
            [
             0.9,
             "#4d9221"
            ],
            [
             1,
             "#276419"
            ]
           ],
           "sequential": [
            [
             0,
             "#0d0887"
            ],
            [
             0.1111111111111111,
             "#46039f"
            ],
            [
             0.2222222222222222,
             "#7201a8"
            ],
            [
             0.3333333333333333,
             "#9c179e"
            ],
            [
             0.4444444444444444,
             "#bd3786"
            ],
            [
             0.5555555555555556,
             "#d8576b"
            ],
            [
             0.6666666666666666,
             "#ed7953"
            ],
            [
             0.7777777777777778,
             "#fb9f3a"
            ],
            [
             0.8888888888888888,
             "#fdca26"
            ],
            [
             1,
             "#f0f921"
            ]
           ],
           "sequentialminus": [
            [
             0,
             "#0d0887"
            ],
            [
             0.1111111111111111,
             "#46039f"
            ],
            [
             0.2222222222222222,
             "#7201a8"
            ],
            [
             0.3333333333333333,
             "#9c179e"
            ],
            [
             0.4444444444444444,
             "#bd3786"
            ],
            [
             0.5555555555555556,
             "#d8576b"
            ],
            [
             0.6666666666666666,
             "#ed7953"
            ],
            [
             0.7777777777777778,
             "#fb9f3a"
            ],
            [
             0.8888888888888888,
             "#fdca26"
            ],
            [
             1,
             "#f0f921"
            ]
           ]
          },
          "colorway": [
           "#636efa",
           "#EF553B",
           "#00cc96",
           "#ab63fa",
           "#FFA15A",
           "#19d3f3",
           "#FF6692",
           "#B6E880",
           "#FF97FF",
           "#FECB52"
          ],
          "font": {
           "color": "#2a3f5f"
          },
          "geo": {
           "bgcolor": "white",
           "lakecolor": "white",
           "landcolor": "white",
           "showlakes": true,
           "showland": true,
           "subunitcolor": "#C8D4E3"
          },
          "hoverlabel": {
           "align": "left"
          },
          "hovermode": "closest",
          "mapbox": {
           "style": "light"
          },
          "paper_bgcolor": "white",
          "plot_bgcolor": "white",
          "polar": {
           "angularaxis": {
            "gridcolor": "#EBF0F8",
            "linecolor": "#EBF0F8",
            "ticks": ""
           },
           "bgcolor": "white",
           "radialaxis": {
            "gridcolor": "#EBF0F8",
            "linecolor": "#EBF0F8",
            "ticks": ""
           }
          },
          "scene": {
           "xaxis": {
            "backgroundcolor": "white",
            "gridcolor": "#DFE8F3",
            "gridwidth": 2,
            "linecolor": "#EBF0F8",
            "showbackground": true,
            "ticks": "",
            "zerolinecolor": "#EBF0F8"
           },
           "yaxis": {
            "backgroundcolor": "white",
            "gridcolor": "#DFE8F3",
            "gridwidth": 2,
            "linecolor": "#EBF0F8",
            "showbackground": true,
            "ticks": "",
            "zerolinecolor": "#EBF0F8"
           },
           "zaxis": {
            "backgroundcolor": "white",
            "gridcolor": "#DFE8F3",
            "gridwidth": 2,
            "linecolor": "#EBF0F8",
            "showbackground": true,
            "ticks": "",
            "zerolinecolor": "#EBF0F8"
           }
          },
          "shapedefaults": {
           "line": {
            "color": "#2a3f5f"
           }
          },
          "ternary": {
           "aaxis": {
            "gridcolor": "#DFE8F3",
            "linecolor": "#A2B1C6",
            "ticks": ""
           },
           "baxis": {
            "gridcolor": "#DFE8F3",
            "linecolor": "#A2B1C6",
            "ticks": ""
           },
           "bgcolor": "white",
           "caxis": {
            "gridcolor": "#DFE8F3",
            "linecolor": "#A2B1C6",
            "ticks": ""
           }
          },
          "title": {
           "x": 0.05
          },
          "xaxis": {
           "automargin": true,
           "gridcolor": "#EBF0F8",
           "linecolor": "#EBF0F8",
           "ticks": "",
           "title": {
            "standoff": 15
           },
           "zerolinecolor": "#EBF0F8",
           "zerolinewidth": 2
          },
          "yaxis": {
           "automargin": true,
           "gridcolor": "#EBF0F8",
           "linecolor": "#EBF0F8",
           "ticks": "",
           "title": {
            "standoff": 15
           },
           "zerolinecolor": "#EBF0F8",
           "zerolinewidth": 2
          }
         }
        },
        "title": {
         "text": "Protocol fidelity vs time — IBM units"
        },
        "xaxis": {
         "title": {
          "text": "time [µs]"
         }
        },
        "yaxis": {
         "title": {
          "text": "Fidelity to |1_L⟩"
         }
        }
       }
      }
     },
     "metadata": {},
     "output_type": "display_data"
    },
    {
     "name": "stdout",
     "output_type": "stream",
     "text": [
      "Done: Fidelity curves plotted.\n"
     ]
    }
   ],
   "source": [
    "# =========================\n",
    "# Additions for open-system\n",
    "# =========================\n",
    "from qutip import sigmam, sigmap, Options, sesolve, mesolve\n",
    "\n",
    "# --- Physical constants\n",
    "kB   = 1.380649e-23        # J/K\n",
    "hbar = 1.054571817e-34     # J*s\n",
    "\n",
    "# Platform temperature for thermal factors\n",
    "if \"T_phys_K\" not in params:\n",
    "    params[\"T_phys_K\"] = 0.015 if PLATFORM.lower() == \"ibm\" else 300.0\n",
    "\n",
    "# ---------- Hamiltonians ----------\n",
    "def H0(t):\n",
    "    \"\"\"Bare RAP logical Hamiltonian (no penalty).\"\"\"\n",
    "    return X_L * omega_t(t) + Z_L * delta_t(t)\n",
    "\n",
    "def make_H_func(Ep_val):\n",
    "    \"\"\"Return H(t, args) including the chosen penalty.\"\"\"\n",
    "    S_sum = S1 + S2\n",
    "    def _H(t, args=None):\n",
    "        return H0(t) - Ep_val * S_sum\n",
    "    return _H\n",
    "\n",
    "# ---------- Thermal factor (unit-consistent) ----------\n",
    "def bose_einstein_N(omega_pos, T_K, platform=PLATFORM):\n",
    "    if T_K <= 0 or omega_pos <= 0:\n",
    "        return 0.0\n",
    "    kBT_over_hbar_rad_per_s = (kB * T_K) / hbar      # [rad/s]\n",
    "    kBT_over_hbar = kBT_over_hbar_rad_per_s * (1e-6 if platform.lower() == \"quera\" else 1.0)\n",
    "    x = omega_pos / kBT_over_hbar\n",
    "    x = np.clip(x, 1e-12, 700.0)\n",
    "    return 1.0 / (np.exp(x) - 1.0)\n",
    "\n",
    "def spectral_amp(omega_pos, lambda_2):\n",
    "    return 0.0 if omega_pos <= 0 else np.sqrt(lambda_2)\n",
    "\n",
    "# ---------- Collapse-operator generator ----------\n",
    "def c_ops_gen_thermal(t_eval, H_func, n_qubits, lambda_2, T_K):\n",
    "    Ht = H_func(t_eval, None)\n",
    "    evals, evecs = Ht.eigenstates()\n",
    "    dim = len(evals)\n",
    "\n",
    "    c_ops = []\n",
    "    for a in range(dim):\n",
    "        for b in range(a+1, dim):\n",
    "            omega = float(evals[b] - evals[a])  # >0\n",
    "            if abs(omega) < 1e-12:\n",
    "                continue\n",
    "\n",
    "            rate_abs = 0.0  # a -> b\n",
    "            rate_em  = 0.0  # b -> a\n",
    "            for i in range(n_qubits):\n",
    "                sigmam_i = tensor([sigmam() if j == i else I for j in range(n_qubits)])\n",
    "                # complex scalar matrix element <b|sigmam_i|a>\n",
    "                m_ba = (evecs[b].dag() * sigmam_i * evecs[a])\n",
    "                mag2 = float(np.abs(m_ba)**2)\n",
    "                if mag2 < 1e-16:\n",
    "                    continue\n",
    "\n",
    "                g = spectral_amp(omega, lambda_2)\n",
    "                N = bose_einstein_N(omega, T_K)\n",
    "                rate_abs += N       * (g**2) * mag2\n",
    "                rate_em  += (N + 1) * (g**2) * mag2\n",
    "\n",
    "            if rate_abs > 1e-16:\n",
    "                Lop = (evecs[b] * evecs[a].dag())      # |b><a|\n",
    "                c_ops.append(np.sqrt(rate_abs) * Lop)\n",
    "            if rate_em > 1e-16:\n",
    "                Lop = (evecs[a] * evecs[b].dag())      # |a><b|\n",
    "                c_ops.append(np.sqrt(rate_em) * Lop)\n",
    "\n",
    "    return c_ops\n",
    "\n",
    "# ---------- Simulation setup ----------\n",
    "n_qubits = 3\n",
    "initial_state = logical_zero\n",
    "\n",
    "rho0 = logical_zero * logical_zero.dag()\n",
    "rho1 = logical_one  * logical_one.dag()\n",
    "e_ops = [rho0, rho1]\n",
    "\n",
    "# Ideal (unitary) benchmark with Ep=0\n",
    "H_ideal = make_H_func(Ep_val=0.0)\n",
    "res_ideal = sesolve(H_ideal, initial_state, t_list, e_ops=e_ops)\n",
    "ideal_fidelity = res_ideal.expect[1]   # <1_L|rho|1_L>\n",
    "\n",
    "# Sweep Ep values\n",
    "gamma_sqrt = 0.1\n",
    "lambda_2   = gamma_sqrt**2\n",
    "T_K        = params[\"T_phys_K\"]\n",
    "\n",
    "Ep_values  = [0, 1, 2, 3, 4, 5, 10, 25, 50]  # same units as H\n",
    "\n",
    "def _last_state(result):\n",
    "    \"\"\"Robustly fetch last state from a QuTiP result.\"\"\"\n",
    "    if hasattr(result, \"states\") and result.states:\n",
    "        return result.states[-1]\n",
    "    if hasattr(result, \"state\") and (result.state is not None):\n",
    "        return result.state\n",
    "    raise RuntimeError(\"Solver returned no states. Enable store_states=True.\")\n",
    "\n",
    "fidelity_curves = []\n",
    "for Ep_val in Ep_values:\n",
    "    print(f\"Ep = {Ep_val}\")\n",
    "    H_fun = make_H_func(Ep_val)\n",
    "\n",
    "    rho = initial_state * initial_state.dag()\n",
    "    f_track = [float((rho1*rho).tr().real)]  # include t0\n",
    "\n",
    "    for k in range(1, len(t_list)):\n",
    "        t0, t1  = t_list[k-1], t_list[k]\n",
    "        t_mid   = 0.5*(t0 + t1)\n",
    "        c_ops   = c_ops_gen_thermal(t_mid, H_fun, n_qubits=n_qubits,\n",
    "                                    lambda_2=lambda_2, T_K=T_K)\n",
    "\n",
    "        opts = Options(store_states=True, nsteps=10000, rtol=1e-7, atol=1e-9)\n",
    "        result = mesolve(H_fun, rho, [t0, t1], c_ops=c_ops,\n",
    "                         e_ops=e_ops, args=None, options=opts)\n",
    "\n",
    "        rho = _last_state(result)\n",
    "        f_track.append(result.expect[1][-1])\n",
    "\n",
    "    fidelity_curves.append(np.array(f_track))\n",
    "\n",
    "# ---------- Plot ----------\n",
    "import plotly.graph_objects as go\n",
    "fig = go.Figure()\n",
    "fig.add_trace(go.Scatter(x=t_list*params[\"to_time_units\"], y=ideal_fidelity,\n",
    "                         mode='lines', line=dict(dash='dash', width=3), name='Ideal (unitary)'))\n",
    "for i, Ep_val in enumerate(Ep_values):\n",
    "    fig.add_trace(go.Scatter(x=t_list*params[\"to_time_units\"], y=fidelity_curves[i],\n",
    "                             mode='lines', name=f\"Ep={Ep_val}\"))\n",
    "fig.update_layout(\n",
    "    title=f'Protocol fidelity vs time — {PLATFORM.upper()} units',\n",
    "    xaxis_title=params[\"time_unit_label\"],\n",
    "    yaxis_title='Fidelity to |1_L⟩',\n",
    "    template='plotly_white'\n",
    ")\n",
    "fig.show()\n",
    "\n",
    "print(\"Done: Fidelity curves plotted.\")\n"
   ]
  }
 ],
 "metadata": {
  "kernelspec": {
   "display_name": "base",
   "language": "python",
   "name": "python3"
  },
  "language_info": {
   "codemirror_mode": {
    "name": "ipython",
    "version": 3
   },
   "file_extension": ".py",
   "mimetype": "text/x-python",
   "name": "python",
   "nbconvert_exporter": "python",
   "pygments_lexer": "ipython3",
   "version": "3.12.2"
  }
 },
 "nbformat": 4,
 "nbformat_minor": 5
}
