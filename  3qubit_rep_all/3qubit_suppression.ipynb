{
 "cells": [
  {
   "cell_type": "code",
   "id": "initial_id",
   "metadata": {
    "ExecuteTime": {
     "end_time": "2025-07-30T12:21:28.939526Z",
     "start_time": "2025-07-30T12:21:28.936834Z"
    }
   },
   "source": [
    "import numpy as np\n",
    "import matplotlib.pyplot as plt\n",
    "from qutip import *"
   ],
   "outputs": [],
   "execution_count": 80
  },
  {
   "cell_type": "code",
   "id": "3f9204af",
   "metadata": {
    "ExecuteTime": {
     "end_time": "2025-07-30T12:21:28.968615Z",
     "start_time": "2025-07-30T12:21:28.964936Z"
    }
   },
   "source": [
    "def print_quantum_state_as_superposition(state):\n",
    "    \"\"\"\n",
    "    Helper function to print quantum state as superposition of basis functions\n",
    "    \"\"\"\n",
    "    state = state.unit()\n",
    "    dimension = int(np.log2(state.shape[0]))\n",
    "    state_vector = state.full().flatten()\n",
    "    basis_states = ['0', '1']\n",
    "    \n",
    "    superposition = []\n",
    "    for i, amplitude in enumerate(state_vector):\n",
    "        abs_amplitude = np.abs(amplitude)\n",
    "\n",
    "        if round(abs_amplitude, 2) > 0:\n",
    "            sign = '-' if amplitude.real < 0 else '+'\n",
    "            binary_state = ''.join(basis_states[int(bit)] for bit in f\"{i:0{dimension}b}\")\n",
    "            superposition.append(f\"{sign} {abs_amplitude:.2f}|{binary_state}⟩\")\n",
    "\n",
    "    # Removing the first sign\n",
    "    if superposition and superposition[0][0] == '+':\n",
    "        superposition[0] = superposition[0][2:]\n",
    "\n",
    "    superposition_str = ' '.join(superposition).replace('+-', '- ')\n",
    "    \n",
    "    print(f\"|ψ⟩ = {superposition_str}\")"
   ],
   "outputs": [],
   "execution_count": 81
  },
  {
   "metadata": {
    "ExecuteTime": {
     "end_time": "2025-07-30T12:21:28.999910Z",
     "start_time": "2025-07-30T12:21:28.996415Z"
    }
   },
   "cell_type": "code",
   "source": [
    "X = sigmax()\n",
    "Z = sigmaz()\n",
    "Y = sigmay()\n",
    "I = qeye(2)\n",
    "\n",
    "s1 = tensor(Z, Z, I)\n",
    "s2 = tensor(I, Z, Z)\n",
    "S = [s1, s2]\n",
    "X_L = tensor(X, X, X)\n",
    "Z_L = (tensor(Z, I, I) + tensor(I, Z, I) + tensor(I, I, Z)) / 3\n",
    "logical_zero = tensor(basis(2, 0), basis(2, 0), basis(2, 0))\n",
    "logical_one = X_L * logical_zero\n",
    "initial_state = logical_zero\n",
    "n_qubits = 3"
   ],
   "id": "4f695a4237c68e81",
   "outputs": [],
   "execution_count": 82
  },
  {
   "cell_type": "code",
   "id": "9054bef1",
   "metadata": {
    "ExecuteTime": {
     "end_time": "2025-07-30T12:22:03.514950Z",
     "start_time": "2025-07-30T12:22:03.447469Z"
    }
   },
   "source": [
    "T_max = 10\n",
    "times = np.linspace(0, T_max, 500)\n",
    "sigma = 1\n",
    "omega_max = 10\n",
    "# omega_t = lambda t: omega_max * np.exp(-0.5 * ((t - T_max/2) / sigma) ** 2)\n",
    "# delta_t = lambda t: 2*omega_max*(t / (T_max/2) - 1)\n",
    "omega_t = lambda t: omega_max * np.sin(np.pi*t/T_max)\n",
    "delta_t = lambda t: -5*omega_max * np.cos(np.pi*t/T_max)\n",
    "\n",
    "plt.plot(times, omega_t(times))\n",
    "plt.plot(times, delta_t(times))"
   ],
   "outputs": [
    {
     "data": {
      "text/plain": [
       "[<matplotlib.lines.Line2D at 0x108628ce0>]"
      ]
     },
     "execution_count": 89,
     "metadata": {},
     "output_type": "execute_result"
    },
    {
     "data": {
      "text/plain": [
       "<Figure size 640x480 with 1 Axes>"
      ],
      "image/png": "[encoded data removed]"
     },
     "metadata": {},
     "output_type": "display_data"
    }
   ],
   "execution_count": 89
  },
  {
   "cell_type": "code",
   "id": "44b942c2",
   "metadata": {
    "ExecuteTime": {
     "end_time": "2025-07-30T12:22:09.154316Z",
     "start_time": "2025-07-30T12:22:09.148022Z"
    }
   },
   "source": [
    "def H(t):\n",
    "    \"\"\"\n",
    "    Rapid Adiabatic Hamiltonian\n",
    "    \"\"\"\n",
    "    return  X_L * omega_t(t) + Z_L * delta_t(t)\n",
    "\n",
    "def H_error_gaussian(t, error_time, strength):\n",
    "    \"\"\"\n",
    "    Error Hamiltonian localized at a specific time (e.g., bit-flip on the first qubit).\n",
    "    \"\"\"\n",
    "    error_width = 0.5\n",
    "    f_t = strength * np.exp(-((t - error_time) ** 2) / (2 * error_width ** 2))\n",
    "    return f_t * tensor(X, I, I, I)\n",
    "\n",
    "def H_error(t, error_time, strength, duration=2):\n",
    "    if error_time <= t < error_time + duration:\n",
    "        # ramp_strength = strength * (t - error_time) / duration\n",
    "        bit_flip_1 = tensor(X, I, I)\n",
    "        bit_flip_2 = tensor(I, X, I)\n",
    "        bit_flip_3 = tensor(I, I, X)\n",
    "        return strength * bit_flip_1\n",
    "    else:\n",
    "        # Identity when error is not active\n",
    "        return tensor(I, I, I)\n",
    "\n",
    "def H_supp(t, stabs=S):\n",
    "    H_supp_stab = sum(stabs)\n",
    "    return H_supp_stab\n",
    "    \n",
    "def H_total(t, error_time, error_strength, duration, Ep):\n",
    "    \"\"\"\n",
    "    Total Hamiltonian including AQC evolution and error simulation.\n",
    "    \"\"\"\n",
    "    H_n = H(t) + Ep * H_supp(t) + H_error(t, error_time, error_strength, duration)\n",
    "    return H_n\n"
   ],
   "outputs": [],
   "execution_count": 90
  },
  {
   "cell_type": "code",
   "id": "d225feb7",
   "metadata": {
    "ExecuteTime": {
     "end_time": "2025-07-30T12:21:29.122972Z",
     "start_time": "2025-07-30T12:21:29.120915Z"
    }
   },
   "source": [
    "# Ep = -200\n",
    "# error_time = 6\n",
    "# duration = T_max - error_time\n",
    "# error_strength = 50"
   ],
   "outputs": [],
   "execution_count": 85
  },
  {
   "cell_type": "code",
   "id": "19930223",
   "metadata": {},
   "source": [
    "# # Simulate evolution\n",
    "# e_ops = [logical_zero*logical_zero.dag(), logical_one*logical_one.dag()]\n",
    "#\n",
    "# result = sesolve(lambda t: H_total(t, error_time, error_strength, duration, Ep),\n",
    "#                  logical_zero, times, e_ops=e_ops,\n",
    "#                  options={'nsteps': 1e5})\n",
    "#\n",
    "# plt.figure(figsize=(8, 6))\n",
    "# plt.plot(times, result.expect[0], label=r\"$|0_L\\rangle$ Population\", color='red')\n",
    "# plt.plot(times, result.expect[1], label=r\"$|1_L\\rangle$ Population\", color='blue')\n",
    "# # Add vertical lines for the start and end of the error\n",
    "# plt.axvline(error_time, color='black', linestyle='--', label=\"Error Start\")\n",
    "# plt.axvline(error_time + duration, color='black', linestyle='--', label=\"Error End\")\n",
    "#\n",
    "# # Shade the area between the lines\n",
    "# plt.fill_betweenx(\n",
    "#     [0, 1],  # Adjust y-limits based on your data range\n",
    "#     error_time,\n",
    "#     error_time + duration,\n",
    "#     color='gray',\n",
    "#     alpha=0.3,\n",
    "#     label=\"Error Region\"\n",
    "# )\n",
    "#\n",
    "# plt.xlabel(\"Time (t)\")\n",
    "# plt.ylabel(\"Population\")\n",
    "# plt.title(\"Logical State Populations with Bit-Flip Error\")\n",
    "# plt.legend()\n",
    "# plt.grid()\n",
    "# plt.show()"
   ],
   "outputs": [],
   "execution_count": null
  },
  {
   "metadata": {
    "ExecuteTime": {
     "end_time": "2025-07-30T12:32:45.554658Z",
     "start_time": "2025-07-30T12:32:45.505248Z"
    }
   },
   "cell_type": "code",
   "source": [
    "import plotly.graph_objects as go\n",
    "\n",
    "Ep = 50\n",
    "Hp = -Ep * sum(S)\n",
    "# Calculate the initial Hamiltonian eigenstates\n",
    "H_S_0 = omega_t(0) * X_L + delta_t(0) * Z_L + Hp\n",
    "eigenvalues_0, eigenstates_0 = H_S_0.eigenstates()\n",
    "\n",
    "# Initialize storage for the first two eigenstates and the rest\n",
    "states = {index: [eigenvalues_0[index]] for index in range(len(eigenvalues_0))}\n",
    "\n",
    "# Loop through time steps\n",
    "for t_step in range(1, len(times)):\n",
    "    H_S = omega_t(times[t_step]) * X_L + delta_t(times[t_step]) * Z_L + Hp\n",
    "    eigenvalues, eigenstates = H_S.eigenstates()\n",
    "\n",
    "    # Handle the first two eigenstates with overlap matching\n",
    "    for state_index in range(2):  # Restrict to the first two eigenstates of H_S_0\n",
    "        state_0 = eigenstates_0[state_index]\n",
    "        max_overlap = 0\n",
    "        best_match_index = 0\n",
    "\n",
    "        for i, state_t in enumerate(eigenstates):\n",
    "            proj = np.abs(state_0.overlap(state_t))**2\n",
    "            if proj > max_overlap:\n",
    "                max_overlap = proj\n",
    "                best_match_index = i\n",
    "\n",
    "        # Append the best matching eigenvalue for the first two eigenstates\n",
    "        states[state_index].append(eigenvalues[best_match_index])\n",
    "\n",
    "    # For the remaining eigenstates, just append their eigenvalues directly\n",
    "    for state_index in range(2, len(eigenvalues)):\n",
    "        states[state_index].append(eigenvalues[state_index])\n",
    "\n",
    "# Create the plot\n",
    "fig = go.Figure()\n",
    "\n",
    "colors = ['red', 'blue']\n",
    "for state_index, energies in states.items():\n",
    "    if state_index < 2:  # Highlight the first two eigenstates\n",
    "        fig.add_trace(go.Scatter(\n",
    "            x=times,\n",
    "            y=energies,\n",
    "            mode='lines',\n",
    "            line=dict(color=colors[state_index % len(colors)], width=2),\n",
    "            name=f\"Eigenstate {state_index + 1}\"\n",
    "        ))\n",
    "    else:  # Plot the rest as dashed lines\n",
    "        fig.add_trace(go.Scatter(\n",
    "            x=times,\n",
    "            y=energies,\n",
    "            mode='lines',\n",
    "            line=dict(color='black', width=1, dash='dash'),\n",
    "            name=f\"Eigenstate {state_index + 1}\"\n",
    "        ))\n",
    "\n",
    "# Update layout\n",
    "fig.update_layout(\n",
    "    title=\"Energy Spectrum as a Function of Time\",\n",
    "    xaxis_title=\"Time [a.u.]\",\n",
    "    yaxis_title=\"Energy\",\n",
    "    font=dict(family=\"sans-serif\", size=18),\n",
    "    legend_title=\"Eigenstates\",\n",
    "    template=\"plotly\"\n",
    ")\n",
    "\n",
    "# Show the plot\n",
    "fig.show()"
   ],
   "id": "b5969e03d19a51ca",
   "outputs": [
    {
     "data": {
      "application/vnd.plotly.v1+json": {
       "data": [
        {
         "line": {
          "color": "red",
          "width": 2
         },
         "mode": "lines",
         "name": "Eigenstate 1",
         "x": {
          "dtype": "f8",
          "bdata": "AAAAAAAAAACamZmZmZm5P5qZmZmZmck/NDMzMzMz0z+amZmZmZnZPwAAAAAAAOA/NDMzMzMz4z9nZmZmZmbmP5qZmZmZmek/zczMzMzM7D8AAAAAAADwP5qZmZmZmfE/NDMzMzMz8z/NzMzMzMz0P2dmZmZmZvY/AAAAAAAA+D+amZmZmZn5PzQzMzMzM/s/zczMzMzM/D9nZmZmZmb+PwAAAAAAAABAzczMzMzMAECamZmZmZkBQGdmZmZmZgJANDMzMzMzA0AAAAAAAAAEQM3MzMzMzARAmpmZmZmZBUBnZmZmZmYGQDQzMzMzMwdAAAAAAAAACEDNzMzMzMwIQJqZmZmZmQlAZ2ZmZmZmCkA0MzMzMzMLQAAAAAAAAAxAzczMzMzMDECamZmZmZkNQGdmZmZmZg5ANDMzMzMzD0AAAAAAAAAQQGdmZmZmZhBAzczMzMzMEEAzMzMzMzMRQJqZmZmZmRFAAAAAAAAAEkBnZmZmZmYSQM3MzMzMzBJANDMzMzMzE0CamZmZmZkTQAAAAAAAABRAZ2ZmZmZmFEDNzMzMzMwUQDQzMzMzMxVAmpmZmZmZFUAAAAAAAAAWQGdmZmZmZhZAzczMzMzMFkA0MzMzMzMXQJqZmZmZmRdAAAAAAAAAGEBnZmZmZmYYQM3MzMzMzBhANDMzMzMzGUCamZmZmZkZQAAAAAAAABpAZ2ZmZmZmGkDNzMzMzMwaQDQzMzMzMxtAmpmZmZmZG0AAAAAAAAAcQGdmZmZmZhxAzczMzMzMHEA0MzMzMzMdQJqZmZmZmR1AAAAAAAAAHkBnZmZmZmYeQM3MzMzMzB5ANDMzMzMzH0CamZmZmZkfQAAAAAAAACBAMzMzMzMzIEBnZmZmZmYgQJqZmZmZmSBAzczMzMzMIEAAAAAAAAAhQDMzMzMzMyFAZ2ZmZmZmIUCamZmZmZkhQM3MzMzMzCFAAAAAAAAAIkAzMzMzMzMiQGdmZmZmZiJAmpmZmZmZIkDNzMzMzMwiQAAAAAAAACNANDMzMzMzI0BnZmZmZmYjQJqZmZmZmSNAzczMzMzMI0AAAAAAAAAkQA=="
         },
         "y": [
          -150.0,
          -149.97631513140925,
          -149.90528670970014,
          -149.78699329015996,
          -149.62156580917576,
          -149.40918760265322,
          -149.1500944359816,
          -148.84457454988456,
          -148.4929687279778,
          -148.0956703935231,
          -147.65312574480237,
          -147.16583394079814,
          -146.63434735155727,
          -146.05927189084116,
          -145.44126745259672,
          -144.78104847757547,
          -144.07938468235233,
          -143.3371019903507,
          -142.55508371367733,
          -141.73427204614472,
          -140.87566994252128,
          -139.98034347773694,
          -139.04942480373904,
          -138.08411585263815,
          -137.08569297498934,
          -136.0555127546399,
          -134.99501931082227,
          -133.9057534899733,
          -132.78936447229694,
          -131.64762448276613,
          -130.48244751902416,
          -129.29591331190053,
          -128.09029814939507,
          -126.86811476598129,
          -125.63216428679411,
          -124.38560430354417,
          -123.13203865424688,
          -121.87563651383826,
          -120.62129111123515,
          -119.37483183589092,
          -118.14330749202203,
          -116.93536209821276,
          -115.76172528460522,
          -114.6358305893713,
          -113.57454297330477,
          -112.59889600107151,
          -111.73457313435995,
          -111.01159839104085,
          -110.46242602949366,
          -110.11770358757727,
          -109.99999999999999,
          -89.88229641242272,
          -89.53757397050632,
          -88.98840160895914,
          -88.26542686564004,
          -87.4011039989285,
          -86.42545702669521,
          -85.3641694106287,
          -84.23827471539475,
          -83.06463790178722,
          -81.85669250797797,
          -80.62516816410906,
          -79.37870888876483,
          -78.12436348616174,
          -76.8679613457531,
          -75.61439569645583,
          -74.36783571320589,
          -73.13188523401871,
          -71.90970185060483,
          -70.70408668809958,
          -69.51755248097584,
          -68.35237551723395,
          -67.21063552770306,
          -66.09424651002672,
          -65.00498068917776,
          -63.94448724536011,
          -62.91430702501066,
          -61.91588414736188,
          -60.950575196260985,
          -60.01965652226298,
          -59.12433005747874,
          -58.26572795385532,
          -57.44491628632262,
          -56.662898009649254,
          -55.92061531764768,
          -55.218951522424504,
          -54.55873254740328,
          -53.94072810915889,
          -53.36565264844279,
          -52.83416605920186,
          -52.34687425519773,
          -51.904329606476885,
          -51.50703127202216,
          -51.155425450115544,
          -50.84990556401847,
          -50.590812397346745,
          -50.37843419082431,
          -50.21300670984012,
          -50.09471329029982,
          -50.02368486859074,
          -50.0
         ],
         "type": "scatter"
        },
        {
         "line": {
          "color": "blue",
          "width": 2
         },
         "mode": "lines",
         "name": "Eigenstate 2",
         "x": {
          "dtype": "f8",
          "bdata": "AAAAAAAAAACamZmZmZm5P5qZmZmZmck/NDMzMzMz0z+amZmZmZnZPwAAAAAAAOA/NDMzMzMz4z9nZmZmZmbmP5qZmZmZmek/zczMzMzM7D8AAAAAAADwP5qZmZmZmfE/NDMzMzMz8z/NzMzMzMz0P2dmZmZmZvY/AAAAAAAA+D+amZmZmZn5PzQzMzMzM/s/zczMzMzM/D9nZmZmZmb+PwAAAAAAAABAzczMzMzMAECamZmZmZkBQGdmZmZmZgJANDMzMzMzA0AAAAAAAAAEQM3MzMzMzARAmpmZmZmZBUBnZmZmZmYGQDQzMzMzMwdAAAAAAAAACEDNzMzMzMwIQJqZmZmZmQlAZ2ZmZmZmCkA0MzMzMzMLQAAAAAAAAAxAzczMzMzMDECamZmZmZkNQGdmZmZmZg5ANDMzMzMzD0AAAAAAAAAQQGdmZmZmZhBAzczMzMzMEEAzMzMzMzMRQJqZmZmZmRFAAAAAAAAAEkBnZmZmZmYSQM3MzMzMzBJANDMzMzMzE0CamZmZmZkTQAAAAAAAABRAZ2ZmZmZmFEDNzMzMzMwUQDQzMzMzMxVAmpmZmZmZFUAAAAAAAAAWQGdmZmZmZhZAzczMzMzMFkA0MzMzMzMXQJqZmZmZmRdAAAAAAAAAGEBnZmZmZmYYQM3MzMzMzBhANDMzMzMzGUCamZmZmZkZQAAAAAAAABpAZ2ZmZmZmGkDNzMzMzMwaQDQzMzMzMxtAmpmZmZmZG0AAAAAAAAAcQGdmZmZmZhxAzczMzMzMHEA0MzMzMzMdQJqZmZmZmR1AAAAAAAAAHkBnZmZmZmYeQM3MzMzMzB5ANDMzMzMzH0CamZmZmZkfQAAAAAAAACBAMzMzMzMzIEBnZmZmZmYgQJqZmZmZmSBAzczMzMzMIEAAAAAAAAAhQDMzMzMzMyFAZ2ZmZmZmIUCamZmZmZkhQM3MzMzMzCFAAAAAAAAAIkAzMzMzMzMiQGdmZmZmZiJAmpmZmZmZIkDNzMzMzMwiQAAAAAAAACNANDMzMzMzI0BnZmZmZmYjQJqZmZmZmSNAzczMzMzMI0AAAAAAAAAkQA=="
         },
         "y": [
          -50.0,
          -50.02368486859076,
          -50.094713290299865,
          -50.21300670984007,
          -50.378434190824294,
          -50.59081239734674,
          -50.8499055640185,
          -51.15542545011553,
          -51.50703127202216,
          -51.90432960647686,
          -52.34687425519775,
          -52.834166059201834,
          -53.36565264844273,
          -53.94072810915887,
          -54.55873254740326,
          -55.21895152242449,
          -55.92061531764768,
          -56.662898009649304,
          -57.444916286322645,
          -58.265727953855276,
          -59.12433005747872,
          -60.01965652226301,
          -60.95057519626097,
          -61.91588414736185,
          -62.914307025010636,
          -63.94448724536011,
          -65.00498068917771,
          -66.0942465100267,
          -67.21063552770302,
          -68.35237551723398,
          -69.51755248097582,
          -70.70408668809955,
          -71.90970185060488,
          -73.1318852340187,
          -74.36783571320588,
          -75.61439569645583,
          -76.86796134575312,
          -78.12436348616174,
          -79.37870888876483,
          -80.62516816410907,
          -81.85669250797795,
          -83.06463790178724,
          -84.23827471539477,
          -85.36416941062869,
          -86.42545702669523,
          -87.40110399892848,
          -88.26542686564004,
          -88.98840160895915,
          -89.53757397050633,
          -89.88229641242273,
          -90.0,
          -110.11770358757727,
          -110.46242602949363,
          -111.01159839104085,
          -111.73457313435995,
          -112.59889600107148,
          -113.57454297330479,
          -114.63583058937127,
          -115.76172528460522,
          -116.93536209821278,
          -118.14330749202199,
          -119.37483183589092,
          -120.62129111123512,
          -121.87563651383822,
          -123.13203865424684,
          -124.38560430354414,
          -125.63216428679408,
          -126.86811476598126,
          -128.09029814939512,
          -129.29591331190045,
          -130.4824475190241,
          -131.6476244827661,
          -132.78936447229694,
          -133.9057534899732,
          -134.99501931082216,
          -136.05551275463984,
          -137.08569297498926,
          -138.0841158526382,
          -139.0494248037391,
          -139.9803434777369,
          -140.87566994252114,
          -141.73427204614455,
          -142.55508371367728,
          -143.33710199035076,
          -144.07938468235224,
          -144.78104847757544,
          -145.4412674525966,
          -146.05927189084107,
          -146.63434735155727,
          -147.165833940798,
          -147.6531257448022,
          -148.09567039352322,
          -148.49296872797774,
          -148.8445745498845,
          -149.1500944359815,
          -149.40918760265316,
          -149.62156580917576,
          -149.78699329015996,
          -149.90528670970016,
          -149.97631513140914,
          -150.0
         ],
         "type": "scatter"
        },
        {
         "line": {
          "color": "black",
          "dash": "dash",
          "width": 1
         },
         "mode": "lines",
         "name": "Eigenstate 3",
         "x": {
          "dtype": "f8",
          "bdata": "AAAAAAAAAACamZmZmZm5P5qZmZmZmck/NDMzMzMz0z+amZmZmZnZPwAAAAAAAOA/NDMzMzMz4z9nZmZmZmbmP5qZmZmZmek/zczMzMzM7D8AAAAAAADwP5qZmZmZmfE/NDMzMzMz8z/NzMzMzMz0P2dmZmZmZvY/AAAAAAAA+D+amZmZmZn5PzQzMzMzM/s/zczMzMzM/D9nZmZmZmb+PwAAAAAAAABAzczMzMzMAECamZmZmZkBQGdmZmZmZgJANDMzMzMzA0AAAAAAAAAEQM3MzMzMzARAmpmZmZmZBUBnZmZmZmYGQDQzMzMzMwdAAAAAAAAACEDNzMzMzMwIQJqZmZmZmQlAZ2ZmZmZmCkA0MzMzMzMLQAAAAAAAAAxAzczMzMzMDECamZmZmZkNQGdmZmZmZg5ANDMzMzMzD0AAAAAAAAAQQGdmZmZmZhBAzczMzMzMEEAzMzMzMzMRQJqZmZmZmRFAAAAAAAAAEkBnZmZmZmYSQM3MzMzMzBJANDMzMzMzE0CamZmZmZkTQAAAAAAAABRAZ2ZmZmZmFEDNzMzMzMwUQDQzMzMzMxVAmpmZmZmZFUAAAAAAAAAWQGdmZmZmZhZAzczMzMzMFkA0MzMzMzMXQJqZmZmZmRdAAAAAAAAAGEBnZmZmZmYYQM3MzMzMzBhANDMzMzMzGUCamZmZmZkZQAAAAAAAABpAZ2ZmZmZmGkDNzMzMzMwaQDQzMzMzMxtAmpmZmZmZG0AAAAAAAAAcQGdmZmZmZhxAzczMzMzMHEA0MzMzMzMdQJqZmZmZmR1AAAAAAAAAHkBnZmZmZmYeQM3MzMzMzB5ANDMzMzMzH0CamZmZmZkfQAAAAAAAACBAMzMzMzMzIEBnZmZmZmYgQJqZmZmZmSBAzczMzMzMIEAAAAAAAAAhQDMzMzMzMyFAZ2ZmZmZmIUCamZmZmZkhQM3MzMzMzCFAAAAAAAAAIkAzMzMzMzMiQGdmZmZmZiJAmpmZmZmZIkDNzMzMzMwiQAAAAAAAACNANDMzMzMzI0BnZmZmZmYjQJqZmZmZmSNAzczMzMzMI0AAAAAAAAAkQA=="
         },
         "y": [
          -16.666666666666664,
          -16.661403778202157,
          -16.645625922117343,
          -16.619365546731427,
          -16.582676800749045,
          -16.53563563619199,
          -16.47833995384581,
          -16.41090979254964,
          -16.333487564017034,
          -16.246238335215438,
          -16.14935016064444,
          -16.04303446712633,
          -15.927526493942354,
          -15.803085791293814,
          -15.669996780113664,
          -15.52856937616734,
          -15.379139681122169,
          -15.222070742771184,
          -15.05775338581445,
          -14.88660711343426,
          -14.709081078254416,
          -14.525655119025657,
          -14.33684085637255,
          -14.143182837016264,
          -13.945259710833858,
          -13.743685418725535,
          -13.539110361289332,
          -13.332222508513215,
          -13.123748398869303,
          -12.914453962165876,
          -12.705145084221424,
          -12.496667812982334,
          -12.289908085489142,
          -12.085790833861365,
          -11.885278307482379,
          -11.689367429734414,
          -11.499085993634683,
          -11.315487495056631,
          -11.139644409160509,
          -10.972639740024919,
          -10.815556720144885,
          -10.669466609589913,
          -10.535414646509103,
          -10.414404330473051,
          -10.307380372493602,
          -10.215210809614998,
          -10.138668941220883,
          -10.078415877601707,
          -10.034984575908071,
          -10.008766253514304,
          -9.99999999999999,
          -10.008766253514304,
          -10.034984575908068,
          -10.078415877601703,
          -10.138668941220887,
          -10.215210809614995,
          -10.307380372493599,
          -10.414404330473051,
          -10.535414646509107,
          -10.669466609589902,
          -10.815556720144878,
          -10.972639740024912,
          -11.139644409160509,
          -11.315487495056635,
          -11.499085993634665,
          -11.689367429734396,
          -11.885278307482379,
          -12.085790833861351,
          -12.289908085489145,
          -12.496667812982334,
          -12.705145084221424,
          -12.914453962165876,
          -13.123748398869296,
          -13.332222508513212,
          -13.539110361289387,
          -13.74368541872554,
          -13.945259710833845,
          -14.143182837016273,
          -14.336840856372557,
          -14.525655119025647,
          -14.709081078254416,
          -14.886607113434232,
          -15.0577533858145,
          -15.22207074277123,
          -15.379139681122169,
          -15.528569376167374,
          -15.669996780113724,
          -15.803085791293885,
          -15.92752649394238,
          -16.04303446712639,
          -16.14935016064444,
          -16.246238335215434,
          -16.333487564017037,
          -16.41090979254965,
          -16.478339953845875,
          -16.53563563619199,
          -16.58267680074904,
          -16.619365546731416,
          -16.645625922117404,
          -16.661403778202214,
          -16.666666666666664
         ],
         "type": "scatter"
        },
        {
         "line": {
          "color": "black",
          "dash": "dash",
          "width": 1
         },
         "mode": "lines",
         "name": "Eigenstate 4",
         "x": {
          "dtype": "f8",
          "bdata": "AAAAAAAAAACamZmZmZm5P5qZmZmZmck/NDMzMzMz0z+amZmZmZnZPwAAAAAAAOA/NDMzMzMz4z9nZmZmZmbmP5qZmZmZmek/zczMzMzM7D8AAAAAAADwP5qZmZmZmfE/NDMzMzMz8z/NzMzMzMz0P2dmZmZmZvY/AAAAAAAA+D+amZmZmZn5PzQzMzMzM/s/zczMzMzM/D9nZmZmZmb+PwAAAAAAAABAzczMzMzMAECamZmZmZkBQGdmZmZmZgJANDMzMzMzA0AAAAAAAAAEQM3MzMzMzARAmpmZmZmZBUBnZmZmZmYGQDQzMzMzMwdAAAAAAAAACEDNzMzMzMwIQJqZmZmZmQlAZ2ZmZmZmCkA0MzMzMzMLQAAAAAAAAAxAzczMzMzMDECamZmZmZkNQGdmZmZmZg5ANDMzMzMzD0AAAAAAAAAQQGdmZmZmZhBAzczMzMzMEEAzMzMzMzMRQJqZmZmZmRFAAAAAAAAAEkBnZmZmZmYSQM3MzMzMzBJANDMzMzMzE0CamZmZmZkTQAAAAAAAABRAZ2ZmZmZmFEDNzMzMzMwUQDQzMzMzMxVAmpmZmZmZFUAAAAAAAAAWQGdmZmZmZhZAzczMzMzMFkA0MzMzMzMXQJqZmZmZmRdAAAAAAAAAGEBnZmZmZmYYQM3MzMzMzBhANDMzMzMzGUCamZmZmZkZQAAAAAAAABpAZ2ZmZmZmGkDNzMzMzMwaQDQzMzMzMxtAmpmZmZmZG0AAAAAAAAAcQGdmZmZmZhxAzczMzMzMHEA0MzMzMzMdQJqZmZmZmR1AAAAAAAAAHkBnZmZmZmYeQM3MzMzMzB5ANDMzMzMzH0CamZmZmZkfQAAAAAAAACBAMzMzMzMzIEBnZmZmZmYgQJqZmZmZmSBAzczMzMzMIEAAAAAAAAAhQDMzMzMzMyFAZ2ZmZmZmIUCamZmZmZkhQM3MzMzMzCFAAAAAAAAAIkAzMzMzMzMiQGdmZmZmZiJAmpmZmZmZIkDNzMzMzMwiQAAAAAAAACNANDMzMzMzI0BnZmZmZmYjQJqZmZmZmSNAzczMzMzMI0AAAAAAAAAkQA=="
         },
         "y": [
          -16.666666666666664,
          -16.66140377820215,
          -16.645625922117333,
          -16.619365546731405,
          -16.58267680074903,
          -16.535635636191977,
          -16.478339953845804,
          -16.41090979254963,
          -16.33348756401702,
          -16.246238335215434,
          -16.149350160644417,
          -16.043034467126322,
          -15.92752649394231,
          -15.80308579129381,
          -15.66999678011366,
          -15.52856937616734,
          -15.379139681122165,
          -15.22207074277118,
          -15.057753385814433,
          -14.886607113434156,
          -14.709081078254407,
          -14.52565511902565,
          -14.33684085637255,
          -14.14318283701626,
          -13.945259710833842,
          -13.743685418725534,
          -13.539110361289328,
          -13.332222508513212,
          -13.123748398869289,
          -12.914453962165872,
          -12.70514508422142,
          -12.496667812982324,
          -12.289908085489138,
          -12.085790833861358,
          -11.885278307482361,
          -11.689367429734407,
          -11.499085993634676,
          -11.315487495056628,
          -11.139644409160502,
          -10.972639740024912,
          -10.815556720144878,
          -10.669466609589902,
          -10.535414646509103,
          -10.414404330473047,
          -10.307380372493599,
          -10.215210809614991,
          -10.13866894122088,
          -10.078415877601703,
          -10.034984575908071,
          -10.008766253514304,
          -9.99999999999999,
          -10.008766253514304,
          -10.034984575908064,
          -10.078415877601703,
          -10.138668941220883,
          -10.215210809614995,
          -10.307380372493595,
          -10.414404330473044,
          -10.5354146465091,
          -10.669466609589902,
          -10.81555672014487,
          -10.972639740024904,
          -11.139644409160502,
          -11.315487495056624,
          -11.499085993634655,
          -11.689367429734396,
          -11.885278307482357,
          -12.08579083386134,
          -12.289908085489142,
          -12.496667812982324,
          -12.70514508422142,
          -12.914453962165869,
          -13.123748398869289,
          -13.332222508513212,
          -13.539110361289342,
          -13.743685418725532,
          -13.945259710833843,
          -14.143182837016258,
          -14.33684085637255,
          -14.525655119025645,
          -14.709081078254409,
          -14.886607113434176,
          -15.05775338581445,
          -15.222070742771171,
          -15.379139681122165,
          -15.528569376167331,
          -15.669996780113642,
          -15.803085791293878,
          -15.927526493942377,
          -16.043034467126333,
          -16.14935016064443,
          -16.246238335215413,
          -16.333487564017027,
          -16.410909792549646,
          -16.47833995384581,
          -16.535635636191984,
          -16.582676800749038,
          -16.619365546731412,
          -16.645625922117326,
          -16.66140377820221,
          -16.666666666666664
         ],
         "type": "scatter"
        },
        {
         "line": {
          "color": "black",
          "dash": "dash",
          "width": 1
         },
         "mode": "lines",
         "name": "Eigenstate 5",
         "x": {
          "dtype": "f8",
          "bdata": "AAAAAAAAAACamZmZmZm5P5qZmZmZmck/NDMzMzMz0z+amZmZmZnZPwAAAAAAAOA/NDMzMzMz4z9nZmZmZmbmP5qZmZmZmek/zczMzMzM7D8AAAAAAADwP5qZmZmZmfE/NDMzMzMz8z/NzMzMzMz0P2dmZmZmZvY/AAAAAAAA+D+amZmZmZn5PzQzMzMzM/s/zczMzMzM/D9nZmZmZmb+PwAAAAAAAABAzczMzMzMAECamZmZmZkBQGdmZmZmZgJANDMzMzMzA0AAAAAAAAAEQM3MzMzMzARAmpmZmZmZBUBnZmZmZmYGQDQzMzMzMwdAAAAAAAAACEDNzMzMzMwIQJqZmZmZmQlAZ2ZmZmZmCkA0MzMzMzMLQAAAAAAAAAxAzczMzMzMDECamZmZmZkNQGdmZmZmZg5ANDMzMzMzD0AAAAAAAAAQQGdmZmZmZhBAzczMzMzMEEAzMzMzMzMRQJqZmZmZmRFAAAAAAAAAEkBnZmZmZmYSQM3MzMzMzBJANDMzMzMzE0CamZmZmZkTQAAAAAAAABRAZ2ZmZmZmFEDNzMzMzMwUQDQzMzMzMxVAmpmZmZmZFUAAAAAAAAAWQGdmZmZmZhZAzczMzMzMFkA0MzMzMzMXQJqZmZmZmRdAAAAAAAAAGEBnZmZmZmYYQM3MzMzMzBhANDMzMzMzGUCamZmZmZkZQAAAAAAAABpAZ2ZmZmZmGkDNzMzMzMwaQDQzMzMzMxtAmpmZmZmZG0AAAAAAAAAcQGdmZmZmZhxAzczMzMzMHEA0MzMzMzMdQJqZmZmZmR1AAAAAAAAAHkBnZmZmZmYeQM3MzMzMzB5ANDMzMzMzH0CamZmZmZkfQAAAAAAAACBAMzMzMzMzIEBnZmZmZmYgQJqZmZmZmSBAzczMzMzMIEAAAAAAAAAhQDMzMzMzMyFAZ2ZmZmZmIUCamZmZmZkhQM3MzMzMzCFAAAAAAAAAIkAzMzMzMzMiQGdmZmZmZiJAmpmZmZmZIkDNzMzMzMwiQAAAAAAAACNANDMzMzMzI0BnZmZmZmYjQJqZmZmZmSNAzczMzMzMI0AAAAAAAAAkQA=="
         },
         "y": [
          16.666666666666664,
          16.66140377820217,
          16.645625922117336,
          16.619365546731412,
          16.58267680074904,
          16.535635636191994,
          16.47833995384581,
          16.410909792549642,
          16.33348756401702,
          16.246238335215423,
          16.14935016064443,
          16.043034467126326,
          15.927526493942336,
          15.803085791293837,
          15.669996780113658,
          15.528569376167338,
          15.379139681122162,
          15.22207074277117,
          15.057753385814438,
          14.886607113434172,
          14.709081078254401,
          14.52565511902564,
          14.336840856372552,
          14.143182837016257,
          13.945259710833838,
          13.743685418725535,
          13.53911036128933,
          13.332222508513212,
          13.123748398869298,
          12.91445396216587,
          12.70514508422142,
          12.496667812982327,
          12.289908085489138,
          12.085790833861367,
          11.885278307482386,
          11.689367429734412,
          11.499085993634683,
          11.31548749505664,
          11.139644409160518,
          10.972639740024924,
          10.815556720144887,
          10.66946660958992,
          10.535414646509114,
          10.414404330473058,
          10.30738037249361,
          10.215210809615005,
          10.138668941220894,
          10.078415877601714,
          10.034984575908078,
          10.008766253514313,
          10.0,
          10.008766253514315,
          10.03498457590808,
          10.078415877601714,
          10.138668941220894,
          10.215210809615003,
          10.307380372493608,
          10.41440433047306,
          10.535414646509114,
          10.669466609589916,
          10.815556720144887,
          10.97263974002492,
          11.139644409160518,
          11.315487495056642,
          11.499085993634683,
          11.689367429734396,
          11.885278307482386,
          12.085790833861356,
          12.28990808548914,
          12.496667812982325,
          12.70514508422142,
          12.914453962165872,
          13.123748398869285,
          13.332222508513205,
          13.539110361289316,
          13.743685418725532,
          13.945259710833817,
          14.14318283701625,
          14.336840856372538,
          14.525655119025647,
          14.709081078254409,
          14.886607113434183,
          15.057753385814504,
          15.222070742771184,
          15.379139681122162,
          15.528569376167386,
          15.669996780113708,
          15.803085791293878,
          15.927526493942377,
          16.043034467126375,
          16.14935016064443,
          16.246238335215423,
          16.33348756401703,
          16.410909792549642,
          16.47833995384581,
          16.53563563619199,
          16.58267680074904,
          16.619365546731412,
          16.645625922117336,
          16.661403778202207,
          16.666666666666664
         ],
         "type": "scatter"
        },
        {
         "line": {
          "color": "black",
          "dash": "dash",
          "width": 1
         },
         "mode": "lines",
         "name": "Eigenstate 6",
         "x": {
          "dtype": "f8",
          "bdata": "AAAAAAAAAACamZmZmZm5P5qZmZmZmck/NDMzMzMz0z+amZmZmZnZPwAAAAAAAOA/NDMzMzMz4z9nZmZmZmbmP5qZmZmZmek/zczMzMzM7D8AAAAAAADwP5qZmZmZmfE/NDMzMzMz8z/NzMzMzMz0P2dmZmZmZvY/AAAAAAAA+D+amZmZmZn5PzQzMzMzM/s/zczMzMzM/D9nZmZmZmb+PwAAAAAAAABAzczMzMzMAECamZmZmZkBQGdmZmZmZgJANDMzMzMzA0AAAAAAAAAEQM3MzMzMzARAmpmZmZmZBUBnZmZmZmYGQDQzMzMzMwdAAAAAAAAACEDNzMzMzMwIQJqZmZmZmQlAZ2ZmZmZmCkA0MzMzMzMLQAAAAAAAAAxAzczMzMzMDECamZmZmZkNQGdmZmZmZg5ANDMzMzMzD0AAAAAAAAAQQGdmZmZmZhBAzczMzMzMEEAzMzMzMzMRQJqZmZmZmRFAAAAAAAAAEkBnZmZmZmYSQM3MzMzMzBJANDMzMzMzE0CamZmZmZkTQAAAAAAAABRAZ2ZmZmZmFEDNzMzMzMwUQDQzMzMzMxVAmpmZmZmZFUAAAAAAAAAWQGdmZmZmZhZAzczMzMzMFkA0MzMzMzMXQJqZmZmZmRdAAAAAAAAAGEBnZmZmZmYYQM3MzMzMzBhANDMzMzMzGUCamZmZmZkZQAAAAAAAABpAZ2ZmZmZmGkDNzMzMzMwaQDQzMzMzMxtAmpmZmZmZG0AAAAAAAAAcQGdmZmZmZhxAzczMzMzMHEA0MzMzMzMdQJqZmZmZmR1AAAAAAAAAHkBnZmZmZmYeQM3MzMzMzB5ANDMzMzMzH0CamZmZmZkfQAAAAAAAACBAMzMzMzMzIEBnZmZmZmYgQJqZmZmZmSBAzczMzMzMIEAAAAAAAAAhQDMzMzMzMyFAZ2ZmZmZmIUCamZmZmZkhQM3MzMzMzCFAAAAAAAAAIkAzMzMzMzMiQGdmZmZmZiJAmpmZmZmZIkDNzMzMzMwiQAAAAAAAACNANDMzMzMzI0BnZmZmZmYjQJqZmZmZmSNAzczMzMzMI0AAAAAAAAAkQA=="
         },
         "y": [
          16.666666666666664,
          16.661403778202217,
          16.645625922117336,
          16.61936554673142,
          16.58267680074905,
          16.535635636191994,
          16.47833995384581,
          16.41090979254965,
          16.333487564017034,
          16.24623833521544,
          16.149350160644435,
          16.043034467126343,
          15.927526493942382,
          15.803085791293901,
          15.669996780113665,
          15.528569376167345,
          15.379139681122165,
          15.222070742771177,
          15.05775338581447,
          14.886607113434179,
          14.709081078254423,
          14.525655119025696,
          14.336840856372552,
          14.143182837016287,
          13.945259710833863,
          13.743685418725535,
          13.539110361289332,
          13.332222508513217,
          13.1237483988693,
          12.914453962165876,
          12.705145084221424,
          12.496667812982334,
          12.289908085489142,
          12.085790833861374,
          11.885278307482388,
          11.68936742973442,
          11.49908599363469,
          11.315487495056642,
          11.139644409160518,
          10.972639740024928,
          10.815556720144894,
          10.66946660958992,
          10.535414646509118,
          10.414404330473062,
          10.307380372493611,
          10.215210809615007,
          10.138668941220896,
          10.078415877601717,
          10.034984575908084,
          10.008766253514318,
          10.0,
          10.008766253514317,
          10.03498457590808,
          10.078415877601717,
          10.138668941220896,
          10.215210809615007,
          10.307380372493613,
          10.414404330473062,
          10.535414646509118,
          10.66946660958992,
          10.815556720144894,
          10.972639740024928,
          11.139644409160518,
          11.315487495056642,
          11.4990859936347,
          11.689367429734414,
          11.885278307482386,
          12.08579083386137,
          12.289908085489142,
          12.496667812982327,
          12.70514508422142,
          12.914453962165886,
          13.1237483988693,
          13.332222508513217,
          13.539110361289376,
          13.743685418725535,
          13.945259710833843,
          14.143182837016267,
          14.336840856372556,
          14.525655119025663,
          14.709081078254416,
          14.886607113434273,
          15.057753385814506,
          15.222070742771237,
          15.379139681122165,
          15.528569376167395,
          15.669996780113735,
          15.80308579129388,
          15.927526493942384,
          16.043034467126382,
          16.149350160644435,
          16.24623833521543,
          16.33348756401703,
          16.41090979254965,
          16.478339953845875,
          16.535635636191994,
          16.58267680074905,
          16.61936554673142,
          16.645625922117404,
          16.661403778202207,
          16.666666666666664
         ],
         "type": "scatter"
        },
        {
         "line": {
          "color": "black",
          "dash": "dash",
          "width": 1
         },
         "mode": "lines",
         "name": "Eigenstate 7",
         "x": {
          "dtype": "f8",
          "bdata": "AAAAAAAAAACamZmZmZm5P5qZmZmZmck/NDMzMzMz0z+amZmZmZnZPwAAAAAAAOA/NDMzMzMz4z9nZmZmZmbmP5qZmZmZmek/zczMzMzM7D8AAAAAAADwP5qZmZmZmfE/NDMzMzMz8z/NzMzMzMz0P2dmZmZmZvY/AAAAAAAA+D+amZmZmZn5PzQzMzMzM/s/zczMzMzM/D9nZmZmZmb+PwAAAAAAAABAzczMzMzMAECamZmZmZkBQGdmZmZmZgJANDMzMzMzA0AAAAAAAAAEQM3MzMzMzARAmpmZmZmZBUBnZmZmZmYGQDQzMzMzMwdAAAAAAAAACEDNzMzMzMwIQJqZmZmZmQlAZ2ZmZmZmCkA0MzMzMzMLQAAAAAAAAAxAzczMzMzMDECamZmZmZkNQGdmZmZmZg5ANDMzMzMzD0AAAAAAAAAQQGdmZmZmZhBAzczMzMzMEEAzMzMzMzMRQJqZmZmZmRFAAAAAAAAAEkBnZmZmZmYSQM3MzMzMzBJANDMzMzMzE0CamZmZmZkTQAAAAAAAABRAZ2ZmZmZmFEDNzMzMzMwUQDQzMzMzMxVAmpmZmZmZFUAAAAAAAAAWQGdmZmZmZhZAzczMzMzMFkA0MzMzMzMXQJqZmZmZmRdAAAAAAAAAGEBnZmZmZmYYQM3MzMzMzBhANDMzMzMzGUCamZmZmZkZQAAAAAAAABpAZ2ZmZmZmGkDNzMzMzMwaQDQzMzMzMxtAmpmZmZmZG0AAAAAAAAAcQGdmZmZmZhxAzczMzMzMHEA0MzMzMzMdQJqZmZmZmR1AAAAAAAAAHkBnZmZmZmYeQM3MzMzMzB5ANDMzMzMzH0CamZmZmZkfQAAAAAAAACBAMzMzMzMzIEBnZmZmZmYgQJqZmZmZmSBAzczMzMzMIEAAAAAAAAAhQDMzMzMzMyFAZ2ZmZmZmIUCamZmZmZkhQM3MzMzMzCFAAAAAAAAAIkAzMzMzMzMiQGdmZmZmZiJAmpmZmZmZIkDNzMzMzMwiQAAAAAAAACNANDMzMzMzI0BnZmZmZmYjQJqZmZmZmSNAzczMzMzMI0AAAAAAAAAkQA=="
         },
         "y": [
          83.33333333333334,
          83.3385962217978,
          83.35437407788267,
          83.38063445326861,
          83.41732319925099,
          83.46436436380802,
          83.52166004615421,
          83.58909020745038,
          83.66651243598304,
          83.75376166478458,
          83.85064983935558,
          83.95696553287368,
          84.07247350605759,
          84.1969142087061,
          84.33000321988635,
          84.47143062383266,
          84.62086031887787,
          84.77792925722883,
          84.94224661418552,
          85.11339288656585,
          85.29091892174563,
          85.47434488097437,
          85.66315914362745,
          85.85681716298369,
          86.05474028916618,
          86.25631458127447,
          86.46088963871068,
          86.6677774914868,
          86.8762516011307,
          87.08554603783415,
          87.29485491577859,
          87.50333218701769,
          87.71009191451088,
          87.91420916613865,
          88.11472169251762,
          88.3106325702656,
          88.50091400636533,
          88.68451250494337,
          88.86035559083949,
          89.02736025997508,
          89.18444327985513,
          89.3305333904101,
          89.46458535349089,
          89.58559566952695,
          89.6926196275064,
          89.784789190385,
          89.86133105877911,
          89.9215841223983,
          89.96501542409193,
          89.9912337464857,
          90.00000000000001,
          89.9912337464857,
          89.96501542409192,
          89.9215841223983,
          89.86133105877911,
          89.784789190385,
          89.6926196275064,
          89.58559566952695,
          89.46458535349089,
          89.3305333904101,
          89.18444327985512,
          89.02736025997508,
          88.8603555908395,
          88.68451250494337,
          88.5009140063653,
          88.31063257026561,
          88.11472169251763,
          87.91420916613865,
          87.71009191451088,
          87.50333218701769,
          87.29485491577859,
          87.08554603783413,
          86.8762516011307,
          86.66777749148677,
          86.46088963871081,
          86.2563145812745,
          86.05474028916615,
          85.85681716298375,
          85.66315914362745,
          85.47434488097436,
          85.2909189217456,
          85.11339288656579,
          84.94224661418556,
          84.77792925722883,
          84.62086031887787,
          84.47143062383273,
          84.33000321988642,
          84.19691420870615,
          84.0724735060576,
          83.9569655328738,
          83.85064983935558,
          83.75376166478458,
          83.666512435983,
          83.58909020745037,
          83.52166004615418,
          83.46436436380804,
          83.41732319925096,
          83.38063445326858,
          83.35437407788274,
          83.33859622179783,
          83.33333333333334
         ],
         "type": "scatter"
        },
        {
         "line": {
          "color": "black",
          "dash": "dash",
          "width": 1
         },
         "mode": "lines",
         "name": "Eigenstate 8",
         "x": {
          "dtype": "f8",
          "bdata": "AAAAAAAAAACamZmZmZm5P5qZmZmZmck/NDMzMzMz0z+amZmZmZnZPwAAAAAAAOA/NDMzMzMz4z9nZmZmZmbmP5qZmZmZmek/zczMzMzM7D8AAAAAAADwP5qZmZmZmfE/NDMzMzMz8z/NzMzMzMz0P2dmZmZmZvY/AAAAAAAA+D+amZmZmZn5PzQzMzMzM/s/zczMzMzM/D9nZmZmZmb+PwAAAAAAAABAzczMzMzMAECamZmZmZkBQGdmZmZmZgJANDMzMzMzA0AAAAAAAAAEQM3MzMzMzARAmpmZmZmZBUBnZmZmZmYGQDQzMzMzMwdAAAAAAAAACEDNzMzMzMwIQJqZmZmZmQlAZ2ZmZmZmCkA0MzMzMzMLQAAAAAAAAAxAzczMzMzMDECamZmZmZkNQGdmZmZmZg5ANDMzMzMzD0AAAAAAAAAQQGdmZmZmZhBAzczMzMzMEEAzMzMzMzMRQJqZmZmZmRFAAAAAAAAAEkBnZmZmZmYSQM3MzMzMzBJANDMzMzMzE0CamZmZmZkTQAAAAAAAABRAZ2ZmZmZmFEDNzMzMzMwUQDQzMzMzMxVAmpmZmZmZFUAAAAAAAAAWQGdmZmZmZhZAzczMzMzMFkA0MzMzMzMXQJqZmZmZmRdAAAAAAAAAGEBnZmZmZmYYQM3MzMzMzBhANDMzMzMzGUCamZmZmZkZQAAAAAAAABpAZ2ZmZmZmGkDNzMzMzMwaQDQzMzMzMxtAmpmZmZmZG0AAAAAAAAAcQGdmZmZmZhxAzczMzMzMHEA0MzMzMzMdQJqZmZmZmR1AAAAAAAAAHkBnZmZmZmYeQM3MzMzMzB5ANDMzMzMzH0CamZmZmZkfQAAAAAAAACBAMzMzMzMzIEBnZmZmZmYgQJqZmZmZmSBAzczMzMzMIEAAAAAAAAAhQDMzMzMzMyFAZ2ZmZmZmIUCamZmZmZkhQM3MzMzMzCFAAAAAAAAAIkAzMzMzMzMiQGdmZmZmZiJAmpmZmZmZIkDNzMzMzMwiQAAAAAAAACNANDMzMzMzI0BnZmZmZmYjQJqZmZmZmSNAzczMzMzMI0AAAAAAAAAkQA=="
         },
         "y": [
          116.66666666666666,
          116.66140377820219,
          116.64562592211733,
          116.61936554673142,
          116.58267680074904,
          116.535635636192,
          116.47833995384576,
          116.41090979254965,
          116.33348756401708,
          116.2462383352154,
          116.1493501606444,
          116.0430344671264,
          115.9275264939423,
          115.80308579129391,
          115.66999678011366,
          115.52856937616734,
          115.37913968112215,
          115.22207074277117,
          115.05775338581451,
          114.88660711343414,
          114.70908107825439,
          114.52565511902577,
          114.33684085637255,
          114.14318283701627,
          113.94525971083387,
          113.74368541872553,
          113.53911036128933,
          113.33222250851321,
          113.1237483988693,
          112.9144539621659,
          112.70514508422141,
          112.49666781298232,
          112.28990808548915,
          112.08579083386137,
          111.88527830748238,
          111.68936742973442,
          111.4990859936347,
          111.31548749505664,
          111.13964440916052,
          110.97263974002493,
          110.81555672014488,
          110.66946660958992,
          110.53541464650911,
          110.41440433047305,
          110.30738037249361,
          110.215210809615,
          110.1386689412209,
          110.07841587760173,
          110.03498457590807,
          110.00876625351432,
          110.0,
          110.00876625351431,
          110.03498457590807,
          110.07841587760171,
          110.1386689412209,
          110.215210809615,
          110.30738037249361,
          110.41440433047306,
          110.53541464650911,
          110.66946660958992,
          110.81555672014488,
          110.97263974002492,
          111.13964440916052,
          111.31548749505664,
          111.49908599363468,
          111.68936742973442,
          111.88527830748238,
          112.08579083386137,
          112.28990808548915,
          112.49666781298232,
          112.70514508422141,
          112.91445396216588,
          113.1237483988693,
          113.33222250851321,
          113.53911036128932,
          113.74368541872553,
          113.94525971083384,
          114.14318283701627,
          114.33684085637255,
          114.52565511902564,
          114.70908107825441,
          114.88660711343418,
          115.05775338581445,
          115.22207074277117,
          115.37913968112215,
          115.52856937616731,
          115.6699967801137,
          115.80308579129388,
          115.92752649394238,
          116.04303446712636,
          116.14935016064443,
          116.24623833521542,
          116.33348756401703,
          116.41090979254965,
          116.47833995384582,
          116.535635636192,
          116.58267680074904,
          116.61936554673142,
          116.64562592211733,
          116.66140377820221,
          116.66666666666666
         ],
         "type": "scatter"
        }
       ],
       "layout": {
        "template": {
         "data": {
          "histogram2dcontour": [
           {
            "type": "histogram2dcontour",
            "colorbar": {
             "outlinewidth": 0,
             "ticks": ""
            },
            "colorscale": [
             [
              0.0,
              "#0d0887"
             ],
             [
              0.1111111111111111,
              "#46039f"
             ],
             [
              0.2222222222222222,
              "#7201a8"
             ],
             [
              0.3333333333333333,
              "#9c179e"
             ],
             [
              0.4444444444444444,
              "#bd3786"
             ],
             [
              0.5555555555555556,
              "#d8576b"
             ],
             [
              0.6666666666666666,
              "#ed7953"
             ],
             [
              0.7777777777777778,
              "#fb9f3a"
             ],
             [
              0.8888888888888888,
              "#fdca26"
             ],
             [
              1.0,
              "#f0f921"
             ]
            ]
           }
          ],
          "choropleth": [
           {
            "type": "choropleth",
            "colorbar": {
             "outlinewidth": 0,
             "ticks": ""
            }
           }
          ],
          "histogram2d": [
           {
            "type": "histogram2d",
            "colorbar": {
             "outlinewidth": 0,
             "ticks": ""
            },
            "colorscale": [
             [
              0.0,
              "#0d0887"
             ],
             [
              0.1111111111111111,
              "#46039f"
             ],
             [
              0.2222222222222222,
              "#7201a8"
             ],
             [
              0.3333333333333333,
              "#9c179e"
             ],
             [
              0.4444444444444444,
              "#bd3786"
             ],
             [
              0.5555555555555556,
              "#d8576b"
             ],
             [
              0.6666666666666666,
              "#ed7953"
             ],
             [
              0.7777777777777778,
              "#fb9f3a"
             ],
             [
              0.8888888888888888,
              "#fdca26"
             ],
             [
              1.0,
              "#f0f921"
             ]
            ]
           }
          ],
          "heatmap": [
           {
            "type": "heatmap",
            "colorbar": {
             "outlinewidth": 0,
             "ticks": ""
            },
            "colorscale": [
             [
              0.0,
              "#0d0887"
             ],
             [
              0.1111111111111111,
              "#46039f"
             ],
             [
              0.2222222222222222,
              "#7201a8"
             ],
             [
              0.3333333333333333,
              "#9c179e"
             ],
             [
              0.4444444444444444,
              "#bd3786"
             ],
             [
              0.5555555555555556,
              "#d8576b"
             ],
             [
              0.6666666666666666,
              "#ed7953"
             ],
             [
              0.7777777777777778,
              "#fb9f3a"
             ],
             [
              0.8888888888888888,
              "#fdca26"
             ],
             [
              1.0,
              "#f0f921"
             ]
            ]
           }
          ],
          "contourcarpet": [
           {
            "type": "contourcarpet",
            "colorbar": {
             "outlinewidth": 0,
             "ticks": ""
            }
           }
          ],
          "contour": [
           {
            "type": "contour",
            "colorbar": {
             "outlinewidth": 0,
             "ticks": ""
            },
            "colorscale": [
             [
              0.0,
              "#0d0887"
             ],
             [
              0.1111111111111111,
              "#46039f"
             ],
             [
              0.2222222222222222,
              "#7201a8"
             ],
             [
              0.3333333333333333,
              "#9c179e"
             ],
             [
              0.4444444444444444,
              "#bd3786"
             ],
             [
              0.5555555555555556,
              "#d8576b"
             ],
             [
              0.6666666666666666,
              "#ed7953"
             ],
             [
              0.7777777777777778,
              "#fb9f3a"
             ],
             [
              0.8888888888888888,
              "#fdca26"
             ],
             [
              1.0,
              "#f0f921"
             ]
            ]
           }
          ],
          "surface": [
           {
            "type": "surface",
            "colorbar": {
             "outlinewidth": 0,
             "ticks": ""
            },
            "colorscale": [
             [
              0.0,
              "#0d0887"
             ],
             [
              0.1111111111111111,
              "#46039f"
             ],
             [
              0.2222222222222222,
              "#7201a8"
             ],
             [
              0.3333333333333333,
              "#9c179e"
             ],
             [
              0.4444444444444444,
              "#bd3786"
             ],
             [
              0.5555555555555556,
              "#d8576b"
             ],
             [
              0.6666666666666666,
              "#ed7953"
             ],
             [
              0.7777777777777778,
              "#fb9f3a"
             ],
             [
              0.8888888888888888,
              "#fdca26"
             ],
             [
              1.0,
              "#f0f921"
             ]
            ]
           }
          ],
          "mesh3d": [
           {
            "type": "mesh3d",
            "colorbar": {
             "outlinewidth": 0,
             "ticks": ""
            }
           }
          ],
          "scatter": [
           {
            "fillpattern": {
             "fillmode": "overlay",
             "size": 10,
             "solidity": 0.2
            },
            "type": "scatter"
           }
          ],
          "parcoords": [
           {
            "type": "parcoords",
            "line": {
             "colorbar": {
              "outlinewidth": 0,
              "ticks": ""
             }
            }
           }
          ],
          "scatterpolargl": [
           {
            "type": "scatterpolargl",
            "marker": {
             "colorbar": {
              "outlinewidth": 0,
              "ticks": ""
             }
            }
           }
          ],
          "bar": [
           {
            "error_x": {
             "color": "#2a3f5f"
            },
            "error_y": {
             "color": "#2a3f5f"
            },
            "marker": {
             "line": {
              "color": "#E5ECF6",
              "width": 0.5
             },
             "pattern": {
              "fillmode": "overlay",
              "size": 10,
              "solidity": 0.2
             }
            },
            "type": "bar"
           }
          ],
          "scattergeo": [
           {
            "type": "scattergeo",
            "marker": {
             "colorbar": {
              "outlinewidth": 0,
              "ticks": ""
             }
            }
           }
          ],
          "scatterpolar": [
           {
            "type": "scatterpolar",
            "marker": {
             "colorbar": {
              "outlinewidth": 0,
              "ticks": ""
             }
            }
           }
          ],
          "histogram": [
           {
            "marker": {
             "pattern": {
              "fillmode": "overlay",
              "size": 10,
              "solidity": 0.2
             }
            },
            "type": "histogram"
           }
          ],
          "scattergl": [
           {
            "type": "scattergl",
            "marker": {
             "colorbar": {
              "outlinewidth": 0,
              "ticks": ""
             }
            }
           }
          ],
          "scatter3d": [
           {
            "type": "scatter3d",
            "line": {
             "colorbar": {
              "outlinewidth": 0,
              "ticks": ""
             }
            },
            "marker": {
             "colorbar": {
              "outlinewidth": 0,
              "ticks": ""
             }
            }
           }
          ],
          "scattermap": [
           {
            "type": "scattermap",
            "marker": {
             "colorbar": {
              "outlinewidth": 0,
              "ticks": ""
             }
            }
           }
          ],
          "scattermapbox": [
           {
            "type": "scattermapbox",
            "marker": {
             "colorbar": {
              "outlinewidth": 0,
              "ticks": ""
             }
            }
           }
          ],
          "scatterternary": [
           {
            "type": "scatterternary",
            "marker": {
             "colorbar": {
              "outlinewidth": 0,
              "ticks": ""
             }
            }
           }
          ],
          "scattercarpet": [
           {
            "type": "scattercarpet",
            "marker": {
             "colorbar": {
              "outlinewidth": 0,
              "ticks": ""
             }
            }
           }
          ],
          "carpet": [
           {
            "aaxis": {
             "endlinecolor": "#2a3f5f",
             "gridcolor": "white",
             "linecolor": "white",
             "minorgridcolor": "white",
             "startlinecolor": "#2a3f5f"
            },
            "baxis": {
             "endlinecolor": "#2a3f5f",
             "gridcolor": "white",
             "linecolor": "white",
             "minorgridcolor": "white",
             "startlinecolor": "#2a3f5f"
            },
            "type": "carpet"
           }
          ],
          "table": [
           {
            "cells": {
             "fill": {
              "color": "#EBF0F8"
             },
             "line": {
              "color": "white"
             }
            },
            "header": {
             "fill": {
              "color": "#C8D4E3"
             },
             "line": {
              "color": "white"
             }
            },
            "type": "table"
           }
          ],
          "barpolar": [
           {
            "marker": {
             "line": {
              "color": "#E5ECF6",
              "width": 0.5
             },
             "pattern": {
              "fillmode": "overlay",
              "size": 10,
              "solidity": 0.2
             }
            },
            "type": "barpolar"
           }
          ],
          "pie": [
           {
            "automargin": true,
            "type": "pie"
           }
          ]
         },
         "layout": {
          "autotypenumbers": "strict",
          "colorway": [
           "#636efa",
           "#EF553B",
           "#00cc96",
           "#ab63fa",
           "#FFA15A",
           "#19d3f3",
           "#FF6692",
           "#B6E880",
           "#FF97FF",
           "#FECB52"
          ],
          "font": {
           "color": "#2a3f5f"
          },
          "hovermode": "closest",
          "hoverlabel": {
           "align": "left"
          },
          "paper_bgcolor": "white",
          "plot_bgcolor": "#E5ECF6",
          "polar": {
           "bgcolor": "#E5ECF6",
           "angularaxis": {
            "gridcolor": "white",
            "linecolor": "white",
            "ticks": ""
           },
           "radialaxis": {
            "gridcolor": "white",
            "linecolor": "white",
            "ticks": ""
           }
          },
          "ternary": {
           "bgcolor": "#E5ECF6",
           "aaxis": {
            "gridcolor": "white",
            "linecolor": "white",
            "ticks": ""
           },
           "baxis": {
            "gridcolor": "white",
            "linecolor": "white",
            "ticks": ""
           },
           "caxis": {
            "gridcolor": "white",
            "linecolor": "white",
            "ticks": ""
           }
          },
          "coloraxis": {
           "colorbar": {
            "outlinewidth": 0,
            "ticks": ""
           }
          },
          "colorscale": {
           "sequential": [
            [
             0.0,
             "#0d0887"
            ],
            [
             0.1111111111111111,
             "#46039f"
            ],
            [
             0.2222222222222222,
             "#7201a8"
            ],
            [
             0.3333333333333333,
             "#9c179e"
            ],
            [
             0.4444444444444444,
             "#bd3786"
            ],
            [
             0.5555555555555556,
             "#d8576b"
            ],
            [
             0.6666666666666666,
             "#ed7953"
            ],
            [
             0.7777777777777778,
             "#fb9f3a"
            ],
            [
             0.8888888888888888,
             "#fdca26"
            ],
            [
             1.0,
             "#f0f921"
            ]
           ],
           "sequentialminus": [
            [
             0.0,
             "#0d0887"
            ],
            [
             0.1111111111111111,
             "#46039f"
            ],
            [
             0.2222222222222222,
             "#7201a8"
            ],
            [
             0.3333333333333333,
             "#9c179e"
            ],
            [
             0.4444444444444444,
             "#bd3786"
            ],
            [
             0.5555555555555556,
             "#d8576b"
            ],
            [
             0.6666666666666666,
             "#ed7953"
            ],
            [
             0.7777777777777778,
             "#fb9f3a"
            ],
            [
             0.8888888888888888,
             "#fdca26"
            ],
            [
             1.0,
             "#f0f921"
            ]
           ],
           "diverging": [
            [
             0,
             "#8e0152"
            ],
            [
             0.1,
             "#c51b7d"
            ],
            [
             0.2,
             "#de77ae"
            ],
            [
             0.3,
             "#f1b6da"
            ],
            [
             0.4,
             "#fde0ef"
            ],
            [
             0.5,
             "#f7f7f7"
            ],
            [
             0.6,
             "#e6f5d0"
            ],
            [
             0.7,
             "#b8e186"
            ],
            [
             0.8,
             "#7fbc41"
            ],
            [
             0.9,
             "#4d9221"
            ],
            [
             1,
             "#276419"
            ]
           ]
          },
          "xaxis": {
           "gridcolor": "white",
           "linecolor": "white",
           "ticks": "",
           "title": {
            "standoff": 15
           },
           "zerolinecolor": "white",
           "automargin": true,
           "zerolinewidth": 2
          },
          "yaxis": {
           "gridcolor": "white",
           "linecolor": "white",
           "ticks": "",
           "title": {
            "standoff": 15
           },
           "zerolinecolor": "white",
           "automargin": true,
           "zerolinewidth": 2
          },
          "scene": {
           "xaxis": {
            "backgroundcolor": "#E5ECF6",
            "gridcolor": "white",
            "linecolor": "white",
            "showbackground": true,
            "ticks": "",
            "zerolinecolor": "white",
            "gridwidth": 2
           },
           "yaxis": {
            "backgroundcolor": "#E5ECF6",
            "gridcolor": "white",
            "linecolor": "white",
            "showbackground": true,
            "ticks": "",
            "zerolinecolor": "white",
            "gridwidth": 2
           },
           "zaxis": {
            "backgroundcolor": "#E5ECF6",
            "gridcolor": "white",
            "linecolor": "white",
            "showbackground": true,
            "ticks": "",
            "zerolinecolor": "white",
            "gridwidth": 2
           }
          },
          "shapedefaults": {
           "line": {
            "color": "#2a3f5f"
           }
          },
          "annotationdefaults": {
           "arrowcolor": "#2a3f5f",
           "arrowhead": 0,
           "arrowwidth": 1
          },
          "geo": {
           "bgcolor": "white",
           "landcolor": "#E5ECF6",
           "subunitcolor": "white",
           "showland": true,
           "showlakes": true,
           "lakecolor": "white"
          },
          "title": {
           "x": 0.05
          },
          "mapbox": {
           "style": "light"
          }
         }
        },
        "font": {
         "family": "sans-serif",
         "size": 18
        },
        "title": {
         "text": "Energy Spectrum as a Function of Time"
        },
        "xaxis": {
         "title": {
          "text": "Time [a.u.]"
         }
        },
        "yaxis": {
         "title": {
          "text": "Energy"
         }
        },
        "legend": {
         "title": {
          "text": "Eigenstates"
         }
        }
       },
       "config": {
        "plotlyServerURL": "https://plot.ly"
       }
      }
     },
     "metadata": {},
     "output_type": "display_data"
    }
   ],
   "execution_count": 102
  },
  {
   "cell_type": "code",
   "id": "bc3f3573",
   "metadata": {
    "ExecuteTime": {
     "end_time": "2025-07-30T12:22:12.705424Z",
     "start_time": "2025-07-30T12:22:12.696953Z"
    }
   },
   "source": [
    "def bose_einstein_distribution(energy_diff, temperature):\n",
    "    if temperature == 0:\n",
    "        return 0\n",
    "    return 1 / (np.exp(energy_diff / (temperature)) - 1)\n",
    "\n",
    "def gab(omega1, omega2, lambda_2):\n",
    "    if omega1 >= omega2:\n",
    "        return 0\n",
    "    return np.sqrt(lambda_2)\n",
    "\n",
    "def c_ops_gen_new(t, args):\n",
    "    H_inst_t = args['args_H'](t)  # Instantaneous Hamiltonian at time t\n",
    "    eigenvalues, eigenstates = H_inst_t.eigenstates()\n",
    "    c_s = []\n",
    "    c_ops = []\n",
    "    for a_i, a in enumerate(eigenstates):\n",
    "\n",
    "        omega_a = eigenvalues[a_i]\n",
    "        for b_i, b in enumerate(eigenstates[a_i+1:]):\n",
    "            omega_b = eigenvalues[a_i + b_i + 1]\n",
    "            \n",
    "            c = b*a.dag()\n",
    "            c_coef = 0\n",
    "            for i in range(args['n_qubits']):\n",
    "                sigmam_i = tensor([sigmam() if j == i else I for j in range(args['n_qubits'])])\n",
    "                \n",
    "                if np.abs(omega_a - omega_b) < 1e-6:\n",
    "                    continue  # Skip nearly degenerate states\n",
    "                \n",
    "                # For decay transitions (omega_b > omega_a)\n",
    "                if omega_b > omega_a:\n",
    "                    Nba = bose_einstein_distribution(omega_b - omega_a, args['T'])\n",
    "                    g_ba = gab(omega_a, omega_b, args['lambda_2'])\n",
    "\n",
    "                    ma_ba = a.dag() * sigmam_i * b * b.dag() * sigmam_i.dag() * a\n",
    "                    decay_op = np.sqrt(Nba * (g_ba ** 2) * ma_ba)\n",
    "                    c_coef += decay_op\n",
    "\n",
    "                # For excitation transitions (omega_a > omega_b)\n",
    "                elif omega_a > omega_b:\n",
    "                    Nab = bose_einstein_distribution(omega_a - omega_b, args['T'])\n",
    "                    g_ab = gab(omega_b, omega_a, args['lambda_2'])\n",
    "                    ma_ab = b.dag() * sigmam_i * a * a.dag() * sigmam_i.dag() * b\n",
    "                    excitation_op = np.sqrt((Nab + 1) * (g_ab ** 2) * ma_ab)                    \n",
    "                    c_coef += excitation_op\n",
    "                    \n",
    "                    \n",
    "            if c_coef > 1e-5:\n",
    "                c_ops.append(c.to('csr')*c_coef)\n",
    "                c_s.append(c_coef)\n",
    "            else:\n",
    "                c_s.append(0)\n",
    "\n",
    "    return c_ops, c_s"
   ],
   "outputs": [],
   "execution_count": 91
  },
  {
   "cell_type": "code",
   "id": "4ab9f444",
   "metadata": {
    "ExecuteTime": {
     "end_time": "2025-07-30T12:23:31.217150Z",
     "start_time": "2025-07-30T12:23:03.646696Z"
    }
   },
   "source": [
    "print_quantum_state_as_superposition(initial_state)\n",
    "\n",
    " \n",
    "times = np.linspace(0, T_max, 501) # has to be +1 for the final time stamp\n",
    "\n",
    "nsteps = 1e5\n",
    "gamma_sqrt = 0.1\n",
    "T = 20 # temp\n",
    "\n",
    "# Eps = [0, 50, 100, 200, 300]\n",
    "Eps = [0, 1, 2, 3, 4, 5, 10, 25, 50]\n",
    "\n",
    "rho0 = logical_zero * logical_zero.dag()\n",
    "rho1 = logical_one * logical_one.dag()\n",
    "e_ops = [rho0, rho1]\n",
    "\n",
    "plt.figure(figsize=(8, 6))\n",
    "\n",
    "# Plotting Ideal\n",
    "def H_se(t):\n",
    "    return omega_t(t) * X_L + delta_t(t) * Z_L\n",
    "\n",
    "results_se = sesolve(H_se, logical_zero, times, e_ops=e_ops)\n",
    "plt.plot(times, results_se.expect[1], linestyle=\"--\", label=r\"ideal\")\n",
    "\n",
    "# Loop over different values of Ep\n",
    "for Ep in Eps:\n",
    "    print(Ep)\n",
    "    rho_init = initial_state * initial_state.dag()\n",
    "    e_ops = [rho0, rho1]\n",
    "    \n",
    "    # Time-dependent Hamiltonian\n",
    "    def H_t(t):\n",
    "        H_RAP = X_L * omega_t(t) + Z_L * delta_t(t)\n",
    "        \n",
    "        Ht = H_RAP - Ep * sum(S)\n",
    "        return Ht.to('csr')  # Assuming H_x and H_z are valid Qobjs\n",
    "\n",
    "    args_C = {\"args_H\": H_t,\n",
    "              \"n_qubits\": n_qubits,\n",
    "              \"lambda_2\":gamma_sqrt,\n",
    "              \"T\":T}\n",
    "\n",
    "    prev_time = times[0]\n",
    "    expects_0 = []\n",
    "    expects_1 = []\n",
    "    \n",
    "    time_inter = times[1] - times[0]\n",
    "\n",
    "    tot_time = times[1:]\n",
    "    tot_time = np.append(tot_time, times[-1] + time_inter)\n",
    "    \n",
    "    for dt in tot_time:\n",
    "        c_ops, c_s = c_ops_gen_new(dt, args=args_C)\n",
    "        # c_ops = [i*1e-1 for i in [tensor(sigmam(),I,I), tensor(I,sigmam(),I), tensor(I,I,sigmam())]]\n",
    "\n",
    "        t_steps = [prev_time, dt]\n",
    "        results = mesolve(H_t, rho_init, t_steps, c_ops=c_ops, args=args_C, e_ops=e_ops,\n",
    "                          options={'store_states': True})\n",
    "\n",
    "        # Updating\n",
    "        prev_time = dt\n",
    "        rho_init = results.states[-1]\n",
    "\n",
    "        # Saving\n",
    "        expects_1.append(results.expect[1][0])\n",
    "        expects_0.append(results.expect[0][0])\n",
    "    \n",
    "    # Plotting results\n",
    "    expects_all = [expects_1[i] for i in range(len(expects_1))]\n",
    "\n",
    "    plt.plot(times, expects_all, label=r\"$E_{P}$=\" + str(Ep))\n",
    "\n",
    "    \n",
    "    \n",
    "plt.legend()\n",
    "plt.xlabel('[a.u.]', size=22)\n",
    "plt.ylabel('Fidelity', size=22)\n",
    "plt.show()\n",
    "plt.close()\n",
    "\n",
    "print(\"Done\")"
   ],
   "outputs": [
    {
     "name": "stdout",
     "output_type": "stream",
     "text": [
      "|ψ⟩ = 1.00|000⟩\n",
      "0\n",
      "1\n",
      "2\n",
      "3\n",
      "4\n",
      "5\n",
      "10\n",
      "25\n",
      "50\n"
     ]
    },
    {
     "data": {
      "text/plain": [
       "<Figure size 800x600 with 1 Axes>"
      ],
      "image/png": "[encoded data removed]"
     },
     "metadata": {},
     "output_type": "display_data"
    },
    {
     "name": "stdout",
     "output_type": "stream",
     "text": [
      "Done\n"
     ]
    }
   ],
   "execution_count": 93
  },
  {
   "metadata": {},
   "cell_type": "markdown",
   "source": [
    "# Plotting the evolution of transition coefficients (c_coef) over time\n",
    "The plot illustrates the evolution of transition coefficients (c_coef) over time for various quantum state transitions. Notably, the transitions involving (0, i) and (1, i) remain consistently low throughout the protocol. This behavior is crucial as it ensures that the logical state remains confined to the ground space, preserving the fidelity of the quantum computation and minimizing leakage to higher energy states. This characteristic is essential for maintaining the robustness of the logical qubit during the adiabatic evolution."
   ],
   "id": "e4ebebabf98b7574"
  },
  {
   "metadata": {
    "ExecuteTime": {
     "end_time": "2025-07-30T12:20:31.038967Z",
     "start_time": "2025-07-30T12:20:31.035243Z"
    }
   },
   "cell_type": "code",
   "source": [
    "def c_ops_gen_new_with_tracking(t, args):\n",
    "    H_inst_t = args['args_H'](t)  # Instantaneous Hamiltonian at time t\n",
    "    eigenvalues, eigenstates = H_inst_t.eigenstates()\n",
    "    c_coef_tracking = {}\n",
    "    for a_i, a in enumerate(eigenstates):\n",
    "        omega_a = eigenvalues[a_i]\n",
    "        for b_i, b in enumerate(eigenstates[a_i+1:]):\n",
    "            omega_b = eigenvalues[a_i + b_i + 1]\n",
    "            c_coef = 0\n",
    "            for i in range(args['n_qubits']):\n",
    "                sigmam_i = tensor([sigmam() if j == i else qeye(2) for j in range(args['n_qubits'])])\n",
    "                if np.abs(omega_a - omega_b) < 1e-6:\n",
    "                    continue  # Skip nearly degenerate states\n",
    "                if omega_b > omega_a:  # Decay transitions\n",
    "                    Nba = bose_einstein_distribution(omega_b - omega_a, args['T'])\n",
    "                    g_ba = gab(omega_a, omega_b, args['lambda_2'])\n",
    "                    ma_ba = a.dag() * sigmam_i * b * b.dag() * sigmam_i.dag() * a\n",
    "                    c_coef += np.sqrt(Nba * (g_ba ** 2) * ma_ba)\n",
    "                elif omega_a > omega_b:  # Excitation transitions\n",
    "                    Nab = bose_einstein_distribution(omega_a - omega_b, args['T'])\n",
    "                    g_ab = gab(omega_b, omega_a, args['lambda_2'])\n",
    "                    ma_ab = b.dag() * sigmam_i * a * a.dag() * sigmam_i.dag() * b\n",
    "                    c_coef += np.sqrt((Nab + 1) * (g_ab ** 2) * ma_ab)\n",
    "            # Store c_coef for transition (a_i, b_i)\n",
    "            transition_key = (a_i, a_i + b_i + 1)\n",
    "            if transition_key not in c_coef_tracking:\n",
    "                c_coef_tracking[transition_key] = []\n",
    "            c_coef_tracking[transition_key].append(c_coef)\n",
    "    return c_coef_tracking\n",
    "\n",
    "# Define args\n",
    "args = {\n",
    "    \"args_H\": lambda t: omega_t(t) * X_L + delta_t(t) * Z_L - 0 * sum(S),\n",
    "    \"n_qubits\": 3,\n",
    "    \"lambda_2\": 0.1,\n",
    "    \"T\": 100\n",
    "}\n"
   ],
   "id": "54b4d026764811b4",
   "outputs": [],
   "execution_count": 77
  },
  {
   "metadata": {
    "ExecuteTime": {
     "end_time": "2025-07-30T12:24:04.578270Z",
     "start_time": "2025-07-30T12:24:04.258980Z"
    }
   },
   "cell_type": "code",
   "source": [
    "import plotly.graph_objects as go\n",
    "# Initialize c_coef_tracking\n",
    "c_coef_tracking = {}\n",
    "times = np.linspace(0, T_max, 101)\n",
    "\n",
    "for t in times:\n",
    "    c_coef_t = c_ops_gen_new_with_tracking(t, args)\n",
    "    for key, values in c_coef_t.items():\n",
    "        if key[0] != 0: # and key[0] != 1:\n",
    "            continue  # Skip transitions that are not (0, i) or (1, i)\n",
    "        if key not in c_coef_tracking:\n",
    "            c_coef_tracking[key] = []\n",
    "        # Convert complex values to real values (e.g., absolute values)\n",
    "        c_coef_tracking[key].extend([np.abs(value) for value in values])\n",
    "\n",
    "# Create interactive plot\n",
    "fig = go.Figure()\n",
    "\n",
    "for transition, coefs in c_coef_tracking.items():\n",
    "    fig.add_trace(go.Scatter(\n",
    "        x=times,\n",
    "        y=coefs[:len(times)],\n",
    "        mode='markers',\n",
    "        name=f\"Transition {transition}\"  # Label for hover/click\n",
    "    ))\n",
    "\n",
    "fig.update_layout(\n",
    "    title=\"Evolution of c_coef Per Transition Over Time\",\n",
    "    xaxis_title=\"Time\",\n",
    "    yaxis_title=\"c_coef\",\n",
    "    legend_title=\"Transitions\",\n",
    "    template=\"plotly\"\n",
    ")\n",
    "\n",
    "fig.show()"
   ],
   "id": "69b72a2f1d60d3ac",
   "outputs": [
    {
     "data": {
      "application/vnd.plotly.v1+json": {
       "data": [
        {
         "mode": "markers",
         "name": "Transition (0, 1)",
         "x": {
          "dtype": "f8",
          "bdata": "AAAAAAAAAACamZmZmZm5P5qZmZmZmck/NDMzMzMz0z+amZmZmZnZPwAAAAAAAOA/NDMzMzMz4z9nZmZmZmbmP5qZmZmZmek/zczMzMzM7D8AAAAAAADwP5qZmZmZmfE/NDMzMzMz8z/NzMzMzMz0P2dmZmZmZvY/AAAAAAAA+D+amZmZmZn5PzQzMzMzM/s/zczMzMzM/D9nZmZmZmb+PwAAAAAAAABAzczMzMzMAECamZmZmZkBQGdmZmZmZgJANDMzMzMzA0AAAAAAAAAEQM3MzMzMzARAmpmZmZmZBUBnZmZmZmYGQDQzMzMzMwdAAAAAAAAACEDNzMzMzMwIQJqZmZmZmQlAZ2ZmZmZmCkA0MzMzMzMLQAAAAAAAAAxAzczMzMzMDECamZmZmZkNQGdmZmZmZg5ANDMzMzMzD0AAAAAAAAAQQGdmZmZmZhBAzczMzMzMEEAzMzMzMzMRQJqZmZmZmRFAAAAAAAAAEkBnZmZmZmYSQM3MzMzMzBJANDMzMzMzE0CamZmZmZkTQAAAAAAAABRAZ2ZmZmZmFEDNzMzMzMwUQDQzMzMzMxVAmpmZmZmZFUAAAAAAAAAWQGdmZmZmZhZAzczMzMzMFkA0MzMzMzMXQJqZmZmZmRdAAAAAAAAAGEBnZmZmZmYYQM3MzMzMzBhANDMzMzMzGUCamZmZmZkZQAAAAAAAABpAZ2ZmZmZmGkDNzMzMzMwaQDQzMzMzMxtAmpmZmZmZG0AAAAAAAAAcQGdmZmZmZhxAzczMzMzMHEA0MzMzMzMdQJqZmZmZmR1AAAAAAAAAHkBnZmZmZmYeQM3MzMzMzB5ANDMzMzMzH0CamZmZmZkfQAAAAAAAACBAMzMzMzMzIEBnZmZmZmYgQJqZmZmZmSBAzczMzMzMIEAAAAAAAAAhQDMzMzMzMyFAZ2ZmZmZmIUCamZmZmZkhQM3MzMzMzCFAAAAAAAAAIkAzMzMzMzMiQGdmZmZmZiJAmpmZmZmZIkDNzMzMzMwiQAAAAAAAACNANDMzMzMzI0BnZmZmZmYjQJqZmZmZmSNAzczMzMzMI0AAAAAAAAAkQA=="
         },
         "y": [
          0.0,
          1.4898710558412612E-5,
          5.9744410706302886E-5,
          1.349883834020368E-4,
          2.4139143015971216E-4,
          3.8003711895224417E-4,
          5.523508481502762E-4,
          7.60125269265143E-4,
          0.0011498618777508014,
          0.0015917797496621618,
          0.0019323649338049932,
          0.002160085613891504,
          0.0024422090630088576,
          0.003836445218056798,
          0.0034543622466813692,
          0.00406957209583844,
          0.004761676017189529,
          0.005539857678555337,
          0.006414827528139106,
          0.0074836233004513825,
          0.00850736452998129,
          0.00975686367908323,
          0.011167972972482934,
          0.012916067920699593,
          0.015923006217775357,
          0.01663652878955136,
          0.021057313056048015,
          0.02167844156676155,
          0.029481490940022975,
          0.03283084991577562,
          0.032481277557026705,
          0.03730757615550802,
          0.04296701416033736,
          0.04964680751439653,
          0.07450231704904076,
          0.06710855489465847,
          0.07862629040660774,
          0.09270831650249277,
          0.11013378674068412,
          0.13199744755222478,
          0.15987563935136487,
          0.1961039787230719,
          0.24426278932831608,
          0.31007345521866925,
          0.40317405402723655,
          0.5409813703005233,
          0.7582461790730112,
          1.1355284952140756,
          1.9128347784048965,
          4.285165789306184,
          0,
          5.280412616382985,
          2.8946271972242936,
          2.0972073781589295,
          1.695619583018503,
          1.4520529108744242,
          1.287556541425857,
          1.168398528455698,
          1.077724371885062,
          1.0061532744882735,
          0.9480367330843892,
          0.8997650519320541,
          0.8589221442798695,
          0.8238300213122874,
          0.7932876550752429,
          0.7664135267553555,
          0.7425466482462172,
          0.7211821335569502,
          0.7043337062532813,
          0.6844755021849444,
          0.66857821246413,
          0.655992802673374,
          0.6462866715312219,
          0.6298128201447027,
          0.6183841233891235,
          0.6065789003901606,
          0.5968703428608927,
          0.5878701819957606,
          0.5795206926308565,
          0.5717721094281814,
          0.5659357570934478,
          0.5685269280888129,
          0.5517275516270475,
          0.5469506761652386,
          0.5407116878712754,
          0.5358313341106331,
          0.5313422011794289,
          0.5288890839359878,
          0.5237762956765448,
          0.5200577871933522,
          0.5169784837231172,
          0.5142215013123609,
          0.5117776596767063,
          0.5096389987466421,
          0.5077986863481597,
          0.5062981200992434,
          0.5049909713344984,
          0.5040149200779585,
          0.5033198288260899,
          0.5029036051878717,
          0.5027650020792148
         ],
         "type": "scatter"
        },
        {
         "mode": "markers",
         "name": "Transition (0, 2)",
         "x": {
          "dtype": "f8",
          "bdata": "AAAAAAAAAACamZmZmZm5P5qZmZmZmck/NDMzMzMz0z+amZmZmZnZPwAAAAAAAOA/NDMzMzMz4z9nZmZmZmbmP5qZmZmZmek/zczMzMzM7D8AAAAAAADwP5qZmZmZmfE/NDMzMzMz8z/NzMzMzMz0P2dmZmZmZvY/AAAAAAAA+D+amZmZmZn5PzQzMzMzM/s/zczMzMzM/D9nZmZmZmb+PwAAAAAAAABAzczMzMzMAECamZmZmZkBQGdmZmZmZgJANDMzMzMzA0AAAAAAAAAEQM3MzMzMzARAmpmZmZmZBUBnZmZmZmYGQDQzMzMzMwdAAAAAAAAACEDNzMzMzMwIQJqZmZmZmQlAZ2ZmZmZmCkA0MzMzMzMLQAAAAAAAAAxAzczMzMzMDECamZmZmZkNQGdmZmZmZg5ANDMzMzMzD0AAAAAAAAAQQGdmZmZmZhBAzczMzMzMEEAzMzMzMzMRQJqZmZmZmRFAAAAAAAAAEkBnZmZmZmYSQM3MzMzMzBJANDMzMzMzE0CamZmZmZkTQAAAAAAAABRAZ2ZmZmZmFEDNzMzMzMwUQDQzMzMzMxVAmpmZmZmZFUAAAAAAAAAWQGdmZmZmZhZAzczMzMzMFkA0MzMzMzMXQJqZmZmZmRdAAAAAAAAAGEBnZmZmZmYYQM3MzMzMzBhANDMzMzMzGUCamZmZmZkZQAAAAAAAABpAZ2ZmZmZmGkDNzMzMzMwaQDQzMzMzMxtAmpmZmZmZG0AAAAAAAAAcQGdmZmZmZhxAzczMzMzMHEA0MzMzMzMdQJqZmZmZmR1AAAAAAAAAHkBnZmZmZmYeQM3MzMzMzB5ANDMzMzMzH0CamZmZmZkfQAAAAAAAACBAMzMzMzMzIEBnZmZmZmYgQJqZmZmZmSBAzczMzMzMIEAAAAAAAAAhQDMzMzMzMyFAZ2ZmZmZmIUCamZmZmZkhQM3MzMzMzCFAAAAAAAAAIkAzMzMzMzMiQGdmZmZmZiJAmpmZmZmZIkDNzMzMzMwiQAAAAAAAACNANDMzMzMzI0BnZmZmZmYjQJqZmZmZmSNAzczMzMzMI0AAAAAAAAAkQA=="
         },
         "y": [
          0.0,
          1.4898710558412612E-5,
          5.9744410706302886E-5,
          1.349883834020368E-4,
          2.4139143015971216E-4,
          3.8003711895224417E-4,
          5.538566296313327E-4,
          7.60125269265143E-4,
          0.0010701375501987029,
          0.00150914963526043,
          0.00204545471298177,
          0.002366933425903822,
          0.002424179775043635,
          0.004149256102168995,
          0.0034543622466813666,
          0.00406957209583844,
          0.004761676017189529,
          0.005539857678555334,
          0.006414827528139106,
          0.007426238447833126,
          0.00850736452998129,
          0.00975686367908323,
          0.011167972972482934,
          0.01815674009216417,
          0.021414981096596265,
          0.01663652878955136,
          0.02490193459489852,
          0.02167844156676155,
          0.0363561984472748,
          0.03474259810086376,
          0.032481277557026705,
          0.03730757615550802,
          0.04296701416033734,
          0.04964680751439653,
          0.057588617422026755,
          0.06710855489465847,
          0.07862629040660774,
          0.09270831650249277,
          0.11013378674068397,
          0.13199744755222478,
          0.15987563935136487,
          0.1961039787230719,
          0.244262789328316,
          0.3100734552186693,
          0.40317405402723655,
          0.5409813703005233,
          0.7582461790730111,
          1.1355284952140756,
          1.9128347784048974,
          4.285165789306184,
          0,
          5.280412616382983,
          2.8946271972242927,
          2.097207378158928,
          1.695619583018503,
          1.4520529108744236,
          1.2875565414258567,
          1.1683985284556981,
          1.0777243718850622,
          1.0061532744882737,
          0.9480367330843876,
          0.8997650519320541,
          0.8589221442798686,
          0.8238300213122864,
          0.7932876550752437,
          0.766413526755354,
          0.7425466482462166,
          0.7211821335569494,
          0.7143596630384709,
          0.6844755021849444,
          0.66857821246413,
          0.6572092988831997,
          0.6445732556176582,
          0.6311748240233371,
          0.6194250062542418,
          0.6065789003901606,
          0.8440766539472423,
          0.5878701819957606,
          0.5795206926308565,
          0.5717721094281814,
          0.5656897605013606,
          0.5685269280888129,
          0.5517275516270475,
          0.5471037657045114,
          0.5407116878712752,
          0.5358313341106331,
          0.5313422011794289,
          0.527472297575931,
          0.5238130464274356,
          0.5200577871933522,
          0.5169784837231172,
          0.5142215013123607,
          0.5117776596767063,
          0.509638998746642,
          0.6991453036827657,
          0.5072394884086872,
          0.5049909713344984,
          0.5040149200779582,
          0.5033198288260898,
          0.5029036051878717,
          0.5027650020792148
         ],
         "type": "scatter"
        },
        {
         "mode": "markers",
         "name": "Transition (0, 3)",
         "x": {
          "dtype": "f8",
          "bdata": "AAAAAAAAAACamZmZmZm5P5qZmZmZmck/NDMzMzMz0z+amZmZmZnZPwAAAAAAAOA/NDMzMzMz4z9nZmZmZmbmP5qZmZmZmek/zczMzMzM7D8AAAAAAADwP5qZmZmZmfE/NDMzMzMz8z/NzMzMzMz0P2dmZmZmZvY/AAAAAAAA+D+amZmZmZn5PzQzMzMzM/s/zczMzMzM/D9nZmZmZmb+PwAAAAAAAABAzczMzMzMAECamZmZmZkBQGdmZmZmZgJANDMzMzMzA0AAAAAAAAAEQM3MzMzMzARAmpmZmZmZBUBnZmZmZmYGQDQzMzMzMwdAAAAAAAAACEDNzMzMzMwIQJqZmZmZmQlAZ2ZmZmZmCkA0MzMzMzMLQAAAAAAAAAxAzczMzMzMDECamZmZmZkNQGdmZmZmZg5ANDMzMzMzD0AAAAAAAAAQQGdmZmZmZhBAzczMzMzMEEAzMzMzMzMRQJqZmZmZmRFAAAAAAAAAEkBnZmZmZmYSQM3MzMzMzBJANDMzMzMzE0CamZmZmZkTQAAAAAAAABRAZ2ZmZmZmFEDNzMzMzMwUQDQzMzMzMxVAmpmZmZmZFUAAAAAAAAAWQGdmZmZmZhZAzczMzMzMFkA0MzMzMzMXQJqZmZmZmRdAAAAAAAAAGEBnZmZmZmYYQM3MzMzMzBhANDMzMzMzGUCamZmZmZkZQAAAAAAAABpAZ2ZmZmZmGkDNzMzMzMwaQDQzMzMzMxtAmpmZmZmZG0AAAAAAAAAcQGdmZmZmZhxAzczMzMzMHEA0MzMzMzMdQJqZmZmZmR1AAAAAAAAAHkBnZmZmZmYeQM3MzMzMzB5ANDMzMzMzH0CamZmZmZkfQAAAAAAAACBAMzMzMzMzIEBnZmZmZmYgQJqZmZmZmSBAzczMzMzMIEAAAAAAAAAhQDMzMzMzMyFAZ2ZmZmZmIUCamZmZmZkhQM3MzMzMzCFAAAAAAAAAIkAzMzMzMzMiQGdmZmZmZiJAmpmZmZmZIkDNzMzMzMwiQAAAAAAAACNANDMzMzMzI0BnZmZmZmYjQJqZmZmZmSNAzczMzMzMI0AAAAAAAAAkQA=="
         },
         "y": [
          0.0,
          1.4898710558412623E-5,
          5.9744410706302906E-5,
          1.3498838340203687E-4,
          2.4139143015971227E-4,
          3.8003711895224433E-4,
          5.538566296313319E-4,
          7.601252692651431E-4,
          0.001091028501371141,
          0.0014185052363415592,
          0.0017635958806405299,
          0.002221771055178729,
          0.0024422090630088567,
          0.004385027435122977,
          0.0034543622466813666,
          0.004069572095838443,
          0.004761676017189531,
          0.005539857678555334,
          0.0064148275281391085,
          0.007509210657242632,
          0.008507364529981295,
          0.009756863679083239,
          0.011167972972482943,
          0.018110171253560278,
          0.020923281139674114,
          0.016636528789551373,
          0.025722899125023416,
          0.021678441566761568,
          0.0332132123038304,
          0.037181556350617685,
          0.03248127755702672,
          0.03730757615550803,
          0.04296701416033734,
          0.04964680751439654,
          0.07450231704904073,
          0.06710855489465846,
          0.07862629040660771,
          0.09270831650249274,
          0.110133786740684,
          0.13199744755222484,
          0.15987563935136476,
          0.1961039787230717,
          0.24426278932831552,
          0.31007345521866825,
          0.40317405402723655,
          0.5409813703005236,
          0.7582461790730107,
          1.1355284952140763,
          1.9128347784048967,
          4.285165789306186,
          0,
          5.280412616382448,
          2.894627197224293,
          2.097207378158928,
          1.6956195830184921,
          1.4520529108744236,
          1.2875565414258567,
          1.1683985284556981,
          1.0777243718850624,
          1.0061532744882737,
          0.9480367330843875,
          0.8997650519320541,
          0.8589221442798686,
          0.8238300213122864,
          0.7932876550752438,
          0.7664135267553545,
          0.7425466482462166,
          0.7211821335569494,
          0.7166870131474294,
          0.6844755021849444,
          0.66857821246413,
          0.6591444632985406,
          0.6501119897478081,
          0.6325729778631545,
          0.6207323794274481,
          0.6065789003901606,
          0.844076653947242,
          0.5878701819957606,
          0.5795206926308561,
          0.5717721094281814,
          0.5670394479313816,
          0.5579107269912771,
          0.5517275516270475,
          0.5480484041324409,
          0.5407116878712752,
          0.5358313341106331,
          0.5313422011794289,
          0.5291325443025363,
          0.5241187602744849,
          0.5200577871933522,
          0.5169784837231172,
          0.5142215013123607,
          0.5117776596767063,
          0.509638998746642,
          0.6991453036827655,
          0.5072865379781796,
          0.5049909713344984,
          0.5040149200779582,
          0.5033198288260898,
          0.5029036051878717,
          0.5027650020792148
         ],
         "type": "scatter"
        },
        {
         "mode": "markers",
         "name": "Transition (0, 4)",
         "x": {
          "dtype": "f8",
          "bdata": "AAAAAAAAAACamZmZmZm5P5qZmZmZmck/NDMzMzMz0z+amZmZmZnZPwAAAAAAAOA/NDMzMzMz4z9nZmZmZmbmP5qZmZmZmek/zczMzMzM7D8AAAAAAADwP5qZmZmZmfE/NDMzMzMz8z/NzMzMzMz0P2dmZmZmZvY/AAAAAAAA+D+amZmZmZn5PzQzMzMzM/s/zczMzMzM/D9nZmZmZmb+PwAAAAAAAABAzczMzMzMAECamZmZmZkBQGdmZmZmZgJANDMzMzMzA0AAAAAAAAAEQM3MzMzMzARAmpmZmZmZBUBnZmZmZmYGQDQzMzMzMwdAAAAAAAAACEDNzMzMzMwIQJqZmZmZmQlAZ2ZmZmZmCkA0MzMzMzMLQAAAAAAAAAxAzczMzMzMDECamZmZmZkNQGdmZmZmZg5ANDMzMzMzD0AAAAAAAAAQQGdmZmZmZhBAzczMzMzMEEAzMzMzMzMRQJqZmZmZmRFAAAAAAAAAEkBnZmZmZmYSQM3MzMzMzBJANDMzMzMzE0CamZmZmZkTQAAAAAAAABRAZ2ZmZmZmFEDNzMzMzMwUQDQzMzMzMxVAmpmZmZmZFUAAAAAAAAAWQGdmZmZmZhZAzczMzMzMFkA0MzMzMzMXQJqZmZmZmRdAAAAAAAAAGEBnZmZmZmYYQM3MzMzMzBhANDMzMzMzGUCamZmZmZkZQAAAAAAAABpAZ2ZmZmZmGkDNzMzMzMwaQDQzMzMzMxtAmpmZmZmZG0AAAAAAAAAcQGdmZmZmZhxAzczMzMzMHEA0MzMzMzMdQJqZmZmZmR1AAAAAAAAAHkBnZmZmZmYeQM3MzMzMzB5ANDMzMzMzH0CamZmZmZkfQAAAAAAAACBAMzMzMzMzIEBnZmZmZmYgQJqZmZmZmSBAzczMzMzMIEAAAAAAAAAhQDMzMzMzMyFAZ2ZmZmZmIUCamZmZmZkhQM3MzMzMzCFAAAAAAAAAIkAzMzMzMzMiQGdmZmZmZiJAmpmZmZmZIkDNzMzMzMwiQAAAAAAAACNANDMzMzMzI0BnZmZmZmYjQJqZmZmZmSNAzczMzMzMI0AAAAAAAAAkQA=="
         },
         "y": [
          0.0,
          0.0010210641240418132,
          0.0020456083271457406,
          0.0030771399577361022,
          0.00411922130889784,
          0.005175498115393757,
          0.008838447740874736,
          0.007345818493587027,
          0.008473953300943263,
          0.009624566613556384,
          0.010817681447826312,
          0.012047778551768145,
          0.018815884365862418,
          0.01626522671617971,
          0.016005847949746077,
          0.01744744052599731,
          0.018959366453981243,
          0.02054955753790244,
          0.022226763612313946,
          0.030190821446781584,
          0.02588208066646617,
          0.027883014325587888,
          0.030016980420128472,
          0.03319998559673,
          0.04049771547419039,
          0.037379327067431245,
          0.04051790294703914,
          0.04329125551639592,
          0.05106013551648509,
          0.06759136555104012,
          0.05421927104131916,
          0.05856384820466978,
          0.06334198002749854,
          0.06861626443279005,
          0.08593831449712383,
          0.08096200666619473,
          0.08822426254410516,
          0.09637005189194496,
          0.10554474768144316,
          0.11591944542240641,
          0.12769296974767788,
          0.14109085305621744,
          0.15635763915580975,
          0.1737359798772268,
          0.19342182958893725,
          0.21548078467216697,
          0.23971134854197482,
          0.26545932737017924,
          0.29144181272416547,
          0.31572485334301637,
          0.0,
          0.3503770057622684,
          0.357729546482053,
          0.3582268554113177,
          0.35289964840934906,
          0.34316767936838233,
          0.3304290280635192,
          0.31585034668335205,
          0.3003147431361931,
          0.284449949752936,
          0.26868224354209147,
          0.25328959709535526,
          0.23844496862910358,
          0.22424866489812245,
          0.21075151203332418,
          0.19797108162012234,
          0.1859029301858936,
          0.1745283458623692,
          0.2208501302980518,
          0.15374397976250972,
          0.1442655362664747,
          0.21542716257784128,
          0.14168086764242413,
          0.1778014531407009,
          0.16174916366229866,
          0.10455993816349983,
          0.09791534374014829,
          0.09162999444664031,
          0.08567618932080678,
          0.08002799216588428,
          0.11781297720593895,
          0.06955306060731084,
          0.06468256280070102,
          0.08487129889748331,
          0.05557678196016538,
          0.051305848173439646,
          0.04720101134543233,
          0.06273738628638696,
          0.06296405554144538,
          0.03573619488260275,
          0.03215304252191732,
          0.028668528919348145,
          0.025271220356743184,
          0.02195019576701773,
          0.01869498037698236,
          0.018234686503817675,
          0.012341934206411227,
          0.009224832057611645,
          0.006134883151976124,
          0.00306295039832724,
          0.0
         ],
         "type": "scatter"
        },
        {
         "mode": "markers",
         "name": "Transition (0, 5)",
         "x": {
          "dtype": "f8",
          "bdata": "AAAAAAAAAACamZmZmZm5P5qZmZmZmck/NDMzMzMz0z+amZmZmZnZPwAAAAAAAOA/NDMzMzMz4z9nZmZmZmbmP5qZmZmZmek/zczMzMzM7D8AAAAAAADwP5qZmZmZmfE/NDMzMzMz8z/NzMzMzMz0P2dmZmZmZvY/AAAAAAAA+D+amZmZmZn5PzQzMzMzM/s/zczMzMzM/D9nZmZmZmb+PwAAAAAAAABAzczMzMzMAECamZmZmZkBQGdmZmZmZgJANDMzMzMzA0AAAAAAAAAEQM3MzMzMzARAmpmZmZmZBUBnZmZmZmYGQDQzMzMzMwdAAAAAAAAACEDNzMzMzMwIQJqZmZmZmQlAZ2ZmZmZmCkA0MzMzMzMLQAAAAAAAAAxAzczMzMzMDECamZmZmZkNQGdmZmZmZg5ANDMzMzMzD0AAAAAAAAAQQGdmZmZmZhBAzczMzMzMEEAzMzMzMzMRQJqZmZmZmRFAAAAAAAAAEkBnZmZmZmYSQM3MzMzMzBJANDMzMzMzE0CamZmZmZkTQAAAAAAAABRAZ2ZmZmZmFEDNzMzMzMwUQDQzMzMzMxVAmpmZmZmZFUAAAAAAAAAWQGdmZmZmZhZAzczMzMzMFkA0MzMzMzMXQJqZmZmZmRdAAAAAAAAAGEBnZmZmZmYYQM3MzMzMzBhANDMzMzMzGUCamZmZmZkZQAAAAAAAABpAZ2ZmZmZmGkDNzMzMzMwaQDQzMzMzMxtAmpmZmZmZG0AAAAAAAAAcQGdmZmZmZhxAzczMzMzMHEA0MzMzMzMdQJqZmZmZmR1AAAAAAAAAHkBnZmZmZmYeQM3MzMzMzB5ANDMzMzMzH0CamZmZmZkfQAAAAAAAACBAMzMzMzMzIEBnZmZmZmYgQJqZmZmZmSBAzczMzMzMIEAAAAAAAAAhQDMzMzMzMyFAZ2ZmZmZmIUCamZmZmZkhQM3MzMzMzCFAAAAAAAAAIkAzMzMzMzMiQGdmZmZmZiJAmpmZmZmZIkDNzMzMzMwiQAAAAAAAACNANDMzMzMzI0BnZmZmZmYjQJqZmZmZmSNAzczMzMzMI0AAAAAAAAAkQA=="
         },
         "y": [
          0.0,
          0.0010210641240418132,
          0.0020456083271457406,
          0.0030771399577361022,
          0.00411922130889784,
          0.005175498115393757,
          0.00624972930823127,
          0.007345818493587027,
          0.008503485922542454,
          0.00963125118006504,
          0.010807262323380208,
          0.012204282724567845,
          0.018815884365862415,
          0.016231952507300394,
          0.016005847949746077,
          0.01744744052599731,
          0.018959366453981243,
          0.02054955753790244,
          0.022226763612313946,
          0.03445219963419836,
          0.02588208066646617,
          0.027883014325587888,
          0.030016980420128472,
          0.03299579616393601,
          0.04275034652367469,
          0.037379327067431245,
          0.040982675816047066,
          0.04329125551639592,
          0.04800116546107184,
          0.06417659034131247,
          0.05421927104131916,
          0.05856384820466978,
          0.06334198002749854,
          0.06861626443279005,
          0.07446050635745945,
          0.08096200666619473,
          0.08822426254410516,
          0.09637005189194496,
          0.10554474768144308,
          0.11591944542240641,
          0.12769296974767788,
          0.14109085305621744,
          0.15635763915580975,
          0.1737359798772268,
          0.19342182958893725,
          0.21548078467216697,
          0.23971134854197476,
          0.26545932737017924,
          0.2914418127241655,
          0.31572485334301637,
          0.3360303396319669,
          0.3503770057622682,
          0.357729546482053,
          0.3582268554113177,
          0.3528996484093492,
          0.34316767936838233,
          0.3304290280635192,
          0.31585034668335205,
          0.3003147431361931,
          0.2844499497529361,
          0.2686822435420913,
          0.25328959709535526,
          0.23844496862910358,
          0.22424866489812245,
          0.21075151203332415,
          0.19797108162012247,
          0.18590293018589368,
          0.1745283458623693,
          0.21319988482183208,
          0.15374397976250978,
          0.14426553626647473,
          0.17998803366452046,
          0.17908379759780482,
          0.1676282522075259,
          0.18438843465573107,
          0.10455993816349989,
          0.12654394619418394,
          0.09162999444664036,
          0.08567618932080683,
          0.08002799216588434,
          0.09978278802549928,
          0.07467906798491393,
          0.06468256280070102,
          0.09969694028879807,
          0.05557678196016541,
          0.05130584817343966,
          0.04720101134543236,
          0.06829501843882593,
          0.06528908854710873,
          0.03573619488260277,
          0.03215304252191733,
          0.028668528919348162,
          0.025271220356743184,
          0.02195019576701775,
          0.025010441085743188,
          0.023163180142865305,
          0.012341934206411232,
          0.009224832057611652,
          0.006134883151976124,
          0.0030629503983272415,
          0.0
         ],
         "type": "scatter"
        },
        {
         "mode": "markers",
         "name": "Transition (0, 6)",
         "x": {
          "dtype": "f8",
          "bdata": "AAAAAAAAAACamZmZmZm5P5qZmZmZmck/NDMzMzMz0z+amZmZmZnZPwAAAAAAAOA/NDMzMzMz4z9nZmZmZmbmP5qZmZmZmek/zczMzMzM7D8AAAAAAADwP5qZmZmZmfE/NDMzMzMz8z/NzMzMzMz0P2dmZmZmZvY/AAAAAAAA+D+amZmZmZn5PzQzMzMzM/s/zczMzMzM/D9nZmZmZmb+PwAAAAAAAABAzczMzMzMAECamZmZmZkBQGdmZmZmZgJANDMzMzMzA0AAAAAAAAAEQM3MzMzMzARAmpmZmZmZBUBnZmZmZmYGQDQzMzMzMwdAAAAAAAAACEDNzMzMzMwIQJqZmZmZmQlAZ2ZmZmZmCkA0MzMzMzMLQAAAAAAAAAxAzczMzMzMDECamZmZmZkNQGdmZmZmZg5ANDMzMzMzD0AAAAAAAAAQQGdmZmZmZhBAzczMzMzMEEAzMzMzMzMRQJqZmZmZmRFAAAAAAAAAEkBnZmZmZmYSQM3MzMzMzBJANDMzMzMzE0CamZmZmZkTQAAAAAAAABRAZ2ZmZmZmFEDNzMzMzMwUQDQzMzMzMxVAmpmZmZmZFUAAAAAAAAAWQGdmZmZmZhZAzczMzMzMFkA0MzMzMzMXQJqZmZmZmRdAAAAAAAAAGEBnZmZmZmYYQM3MzMzMzBhANDMzMzMzGUCamZmZmZkZQAAAAAAAABpAZ2ZmZmZmGkDNzMzMzMwaQDQzMzMzMxtAmpmZmZmZG0AAAAAAAAAcQGdmZmZmZhxAzczMzMzMHEA0MzMzMzMdQJqZmZmZmR1AAAAAAAAAHkBnZmZmZmYeQM3MzMzMzB5ANDMzMzMzH0CamZmZmZkfQAAAAAAAACBAMzMzMzMzIEBnZmZmZmYgQJqZmZmZmSBAzczMzMzMIEAAAAAAAAAhQDMzMzMzMyFAZ2ZmZmZmIUCamZmZmZkhQM3MzMzMzCFAAAAAAAAAIkAzMzMzMzMiQGdmZmZmZiJAmpmZmZmZIkDNzMzMzMwiQAAAAAAAACNANDMzMzMzI0BnZmZmZmYjQJqZmZmZmSNAzczMzMzMI0AAAAAAAAAkQA=="
         },
         "y": [
          0.0,
          0.0010210641240418132,
          0.0020456083271457406,
          0.0030771399577361022,
          0.00411922130889784,
          0.005175498115393757,
          0.008838447740874736,
          0.007345818493587027,
          0.00850954891211702,
          0.009635685810457028,
          0.010817775107554172,
          0.012217927921513667,
          0.013305394758336952,
          0.01467192028162718,
          0.016005847949746074,
          0.01744744052599731,
          0.018959366453981243,
          0.02054955753790244,
          0.022226763612313946,
          0.029743012057838587,
          0.02588208066646617,
          0.027883014325587888,
          0.03001698042012847,
          0.03381931196480882,
          0.04673753010062393,
          0.03737932706743126,
          0.0412351939466677,
          0.04329125551639592,
          0.051729866088549244,
          0.07475052599820271,
          0.05421927104131915,
          0.058563848204669776,
          0.06334198002749852,
          0.06861626443279005,
          0.0859383144971238,
          0.08096200666619473,
          0.08822426254410515,
          0.09637005189194495,
          0.1055447476814431,
          0.11591944542240637,
          0.12769296974767788,
          0.14109085305621738,
          0.15635763915580975,
          0.1737359798772268,
          0.19342182958893725,
          0.21548078467216683,
          0.23971134854197484,
          0.26545932737017913,
          0.2914418127241656,
          0.31572485334301625,
          0.3360303396319669,
          0.3503770057622684,
          0.3577295464820527,
          0.35822685541131766,
          0.35289964840934923,
          0.3431676793683822,
          0.33042902806351904,
          0.3158503466833518,
          0.3003147431361931,
          0.2844499497529361,
          0.2686822435420914,
          0.25328959709535515,
          0.23844496862910347,
          0.22424866489812229,
          0.2107515120333242,
          0.1979710816201224,
          0.18590293018589352,
          0.17452834586236926,
          0.20515770691342894,
          0.15374397976250978,
          0.14426553626647473,
          0.21911678007405005,
          0.1750936628868134,
          0.18038832290150747,
          0.15477526261366975,
          0.10455993816349989,
          0.126543946194184,
          0.09162999444664036,
          0.08567618932080683,
          0.08002799216588434,
          0.11567287035294212,
          0.07467906798491378,
          0.06468256280070098,
          0.08736097515711658,
          0.05557678196016541,
          0.05130584817343966,
          0.04720101134543236,
          0.07014942756310254,
          0.0577330781815332,
          0.03573619488260277,
          0.03215304252191733,
          0.028668528919348162,
          0.02527122035674317,
          0.02195019576701775,
          0.025010441085743206,
          0.021633242423846552,
          0.012341934206411232,
          0.009224832057611652,
          0.006134883151976118,
          0.0030629503983272415,
          0.0
         ],
         "type": "scatter"
        },
        {
         "mode": "markers",
         "name": "Transition (0, 7)",
         "x": {
          "dtype": "f8",
          "bdata": "AAAAAAAAAACamZmZmZm5P5qZmZmZmck/NDMzMzMz0z+amZmZmZnZPwAAAAAAAOA/NDMzMzMz4z9nZmZmZmbmP5qZmZmZmek/zczMzMzM7D8AAAAAAADwP5qZmZmZmfE/NDMzMzMz8z/NzMzMzMz0P2dmZmZmZvY/AAAAAAAA+D+amZmZmZn5PzQzMzMzM/s/zczMzMzM/D9nZmZmZmb+PwAAAAAAAABAzczMzMzMAECamZmZmZkBQGdmZmZmZgJANDMzMzMzA0AAAAAAAAAEQM3MzMzMzARAmpmZmZmZBUBnZmZmZmYGQDQzMzMzMwdAAAAAAAAACEDNzMzMzMwIQJqZmZmZmQlAZ2ZmZmZmCkA0MzMzMzMLQAAAAAAAAAxAzczMzMzMDECamZmZmZkNQGdmZmZmZg5ANDMzMzMzD0AAAAAAAAAQQGdmZmZmZhBAzczMzMzMEEAzMzMzMzMRQJqZmZmZmRFAAAAAAAAAEkBnZmZmZmYSQM3MzMzMzBJANDMzMzMzE0CamZmZmZkTQAAAAAAAABRAZ2ZmZmZmFEDNzMzMzMwUQDQzMzMzMxVAmpmZmZmZFUAAAAAAAAAWQGdmZmZmZhZAzczMzMzMFkA0MzMzMzMXQJqZmZmZmRdAAAAAAAAAGEBnZmZmZmYYQM3MzMzMzBhANDMzMzMzGUCamZmZmZkZQAAAAAAAABpAZ2ZmZmZmGkDNzMzMzMwaQDQzMzMzMxtAmpmZmZmZG0AAAAAAAAAcQGdmZmZmZhxAzczMzMzMHEA0MzMzMzMdQJqZmZmZmR1AAAAAAAAAHkBnZmZmZmYeQM3MzMzMzB5ANDMzMzMzH0CamZmZmZkfQAAAAAAAACBAMzMzMzMzIEBnZmZmZmYgQJqZmZmZmSBAzczMzMzMIEAAAAAAAAAhQDMzMzMzMyFAZ2ZmZmZmIUCamZmZmZkhQM3MzMzMzCFAAAAAAAAAIkAzMzMzMzMiQGdmZmZmZiJAmpmZmZmZIkDNzMzMzMwiQAAAAAAAACNANDMzMzMzI0BnZmZmZmYjQJqZmZmZmSNAzczMzMzMI0AAAAAAAAAkQA=="
         },
         "y": [
          0.0,
          0.0,
          0.0,
          0.0,
          0.0,
          0.0,
          1.1401519477415143E-20,
          0.0,
          9.72490402283349E-21,
          1.9704924748962056E-20,
          3.1922390262421394E-20,
          4.687303582356556E-20,
          6.491524610325163E-20,
          0.0,
          0.0,
          0.0,
          0.0,
          0.0,
          0.0,
          1.9663094900480928E-19,
          0.0,
          0.0,
          0.0,
          0.0,
          0.0,
          0.0,
          0.0,
          0.0,
          0.0,
          0.0,
          0.0,
          0.0,
          0.0,
          0.0,
          0.0,
          0.0,
          0.0,
          0.0,
          0.0,
          0.0,
          0.0,
          0.0,
          0.0,
          0.0,
          0.0,
          0.0,
          0.0,
          0.0,
          0.0,
          0.0,
          0.33603033963196677,
          0.0,
          0.0,
          0.0,
          0.0,
          0.0,
          0.0,
          0.0,
          0.0,
          0.0,
          0.0,
          0.0,
          0.0,
          0.0,
          0.0,
          0.0,
          0.0,
          0.0,
          3.7392626666843905E-17,
          0.0,
          0.0,
          0.0,
          0.0,
          0.0,
          3.328725929968963E-17,
          0.0,
          6.509325490929216E-17,
          0.0,
          0.0,
          0.0,
          0.0,
          0.0,
          0.0,
          0.0,
          0.0,
          0.0,
          0.0,
          0.0,
          5.631050574447623E-17,
          0.0,
          0.0,
          0.0,
          0.0,
          0.0,
          2.709891822882322E-17,
          2.701246009399863E-17,
          0.0,
          0.0,
          0.0,
          0.0,
          0.0
         ],
         "type": "scatter"
        }
       ],
       "layout": {
        "template": {
         "data": {
          "histogram2dcontour": [
           {
            "type": "histogram2dcontour",
            "colorbar": {
             "outlinewidth": 0,
             "ticks": ""
            },
            "colorscale": [
             [
              0.0,
              "#0d0887"
             ],
             [
              0.1111111111111111,
              "#46039f"
             ],
             [
              0.2222222222222222,
              "#7201a8"
             ],
             [
              0.3333333333333333,
              "#9c179e"
             ],
             [
              0.4444444444444444,
              "#bd3786"
             ],
             [
              0.5555555555555556,
              "#d8576b"
             ],
             [
              0.6666666666666666,
              "#ed7953"
             ],
             [
              0.7777777777777778,
              "#fb9f3a"
             ],
             [
              0.8888888888888888,
              "#fdca26"
             ],
             [
              1.0,
              "#f0f921"
             ]
            ]
           }
          ],
          "choropleth": [
           {
            "type": "choropleth",
            "colorbar": {
             "outlinewidth": 0,
             "ticks": ""
            }
           }
          ],
          "histogram2d": [
           {
            "type": "histogram2d",
            "colorbar": {
             "outlinewidth": 0,
             "ticks": ""
            },
            "colorscale": [
             [
              0.0,
              "#0d0887"
             ],
             [
              0.1111111111111111,
              "#46039f"
             ],
             [
              0.2222222222222222,
              "#7201a8"
             ],
             [
              0.3333333333333333,
              "#9c179e"
             ],
             [
              0.4444444444444444,
              "#bd3786"
             ],
             [
              0.5555555555555556,
              "#d8576b"
             ],
             [
              0.6666666666666666,
              "#ed7953"
             ],
             [
              0.7777777777777778,
              "#fb9f3a"
             ],
             [
              0.8888888888888888,
              "#fdca26"
             ],
             [
              1.0,
              "#f0f921"
             ]
            ]
           }
          ],
          "heatmap": [
           {
            "type": "heatmap",
            "colorbar": {
             "outlinewidth": 0,
             "ticks": ""
            },
            "colorscale": [
             [
              0.0,
              "#0d0887"
             ],
             [
              0.1111111111111111,
              "#46039f"
             ],
             [
              0.2222222222222222,
              "#7201a8"
             ],
             [
              0.3333333333333333,
              "#9c179e"
             ],
             [
              0.4444444444444444,
              "#bd3786"
             ],
             [
              0.5555555555555556,
              "#d8576b"
             ],
             [
              0.6666666666666666,
              "#ed7953"
             ],
             [
              0.7777777777777778,
              "#fb9f3a"
             ],
             [
              0.8888888888888888,
              "#fdca26"
             ],
             [
              1.0,
              "#f0f921"
             ]
            ]
           }
          ],
          "contourcarpet": [
           {
            "type": "contourcarpet",
            "colorbar": {
             "outlinewidth": 0,
             "ticks": ""
            }
           }
          ],
          "contour": [
           {
            "type": "contour",
            "colorbar": {
             "outlinewidth": 0,
             "ticks": ""
            },
            "colorscale": [
             [
              0.0,
              "#0d0887"
             ],
             [
              0.1111111111111111,
              "#46039f"
             ],
             [
              0.2222222222222222,
              "#7201a8"
             ],
             [
              0.3333333333333333,
              "#9c179e"
             ],
             [
              0.4444444444444444,
              "#bd3786"
             ],
             [
              0.5555555555555556,
              "#d8576b"
             ],
             [
              0.6666666666666666,
              "#ed7953"
             ],
             [
              0.7777777777777778,
              "#fb9f3a"
             ],
             [
              0.8888888888888888,
              "#fdca26"
             ],
             [
              1.0,
              "#f0f921"
             ]
            ]
           }
          ],
          "surface": [
           {
            "type": "surface",
            "colorbar": {
             "outlinewidth": 0,
             "ticks": ""
            },
            "colorscale": [
             [
              0.0,
              "#0d0887"
             ],
             [
              0.1111111111111111,
              "#46039f"
             ],
             [
              0.2222222222222222,
              "#7201a8"
             ],
             [
              0.3333333333333333,
              "#9c179e"
             ],
             [
              0.4444444444444444,
              "#bd3786"
             ],
             [
              0.5555555555555556,
              "#d8576b"
             ],
             [
              0.6666666666666666,
              "#ed7953"
             ],
             [
              0.7777777777777778,
              "#fb9f3a"
             ],
             [
              0.8888888888888888,
              "#fdca26"
             ],
             [
              1.0,
              "#f0f921"
             ]
            ]
           }
          ],
          "mesh3d": [
           {
            "type": "mesh3d",
            "colorbar": {
             "outlinewidth": 0,
             "ticks": ""
            }
           }
          ],
          "scatter": [
           {
            "fillpattern": {
             "fillmode": "overlay",
             "size": 10,
             "solidity": 0.2
            },
            "type": "scatter"
           }
          ],
          "parcoords": [
           {
            "type": "parcoords",
            "line": {
             "colorbar": {
              "outlinewidth": 0,
              "ticks": ""
             }
            }
           }
          ],
          "scatterpolargl": [
           {
            "type": "scatterpolargl",
            "marker": {
             "colorbar": {
              "outlinewidth": 0,
              "ticks": ""
             }
            }
           }
          ],
          "bar": [
           {
            "error_x": {
             "color": "#2a3f5f"
            },
            "error_y": {
             "color": "#2a3f5f"
            },
            "marker": {
             "line": {
              "color": "#E5ECF6",
              "width": 0.5
             },
             "pattern": {
              "fillmode": "overlay",
              "size": 10,
              "solidity": 0.2
             }
            },
            "type": "bar"
           }
          ],
          "scattergeo": [
           {
            "type": "scattergeo",
            "marker": {
             "colorbar": {
              "outlinewidth": 0,
              "ticks": ""
             }
            }
           }
          ],
          "scatterpolar": [
           {
            "type": "scatterpolar",
            "marker": {
             "colorbar": {
              "outlinewidth": 0,
              "ticks": ""
             }
            }
           }
          ],
          "histogram": [
           {
            "marker": {
             "pattern": {
              "fillmode": "overlay",
              "size": 10,
              "solidity": 0.2
             }
            },
            "type": "histogram"
           }
          ],
          "scattergl": [
           {
            "type": "scattergl",
            "marker": {
             "colorbar": {
              "outlinewidth": 0,
              "ticks": ""
             }
            }
           }
          ],
          "scatter3d": [
           {
            "type": "scatter3d",
            "line": {
             "colorbar": {
              "outlinewidth": 0,
              "ticks": ""
             }
            },
            "marker": {
             "colorbar": {
              "outlinewidth": 0,
              "ticks": ""
             }
            }
           }
          ],
          "scattermap": [
           {
            "type": "scattermap",
            "marker": {
             "colorbar": {
              "outlinewidth": 0,
              "ticks": ""
             }
            }
           }
          ],
          "scattermapbox": [
           {
            "type": "scattermapbox",
            "marker": {
             "colorbar": {
              "outlinewidth": 0,
              "ticks": ""
             }
            }
           }
          ],
          "scatterternary": [
           {
            "type": "scatterternary",
            "marker": {
             "colorbar": {
              "outlinewidth": 0,
              "ticks": ""
             }
            }
           }
          ],
          "scattercarpet": [
           {
            "type": "scattercarpet",
            "marker": {
             "colorbar": {
              "outlinewidth": 0,
              "ticks": ""
             }
            }
           }
          ],
          "carpet": [
           {
            "aaxis": {
             "endlinecolor": "#2a3f5f",
             "gridcolor": "white",
             "linecolor": "white",
             "minorgridcolor": "white",
             "startlinecolor": "#2a3f5f"
            },
            "baxis": {
             "endlinecolor": "#2a3f5f",
             "gridcolor": "white",
             "linecolor": "white",
             "minorgridcolor": "white",
             "startlinecolor": "#2a3f5f"
            },
            "type": "carpet"
           }
          ],
          "table": [
           {
            "cells": {
             "fill": {
              "color": "#EBF0F8"
             },
             "line": {
              "color": "white"
             }
            },
            "header": {
             "fill": {
              "color": "#C8D4E3"
             },
             "line": {
              "color": "white"
             }
            },
            "type": "table"
           }
          ],
          "barpolar": [
           {
            "marker": {
             "line": {
              "color": "#E5ECF6",
              "width": 0.5
             },
             "pattern": {
              "fillmode": "overlay",
              "size": 10,
              "solidity": 0.2
             }
            },
            "type": "barpolar"
           }
          ],
          "pie": [
           {
            "automargin": true,
            "type": "pie"
           }
          ]
         },
         "layout": {
          "autotypenumbers": "strict",
          "colorway": [
           "#636efa",
           "#EF553B",
           "#00cc96",
           "#ab63fa",
           "#FFA15A",
           "#19d3f3",
           "#FF6692",
           "#B6E880",
           "#FF97FF",
           "#FECB52"
          ],
          "font": {
           "color": "#2a3f5f"
          },
          "hovermode": "closest",
          "hoverlabel": {
           "align": "left"
          },
          "paper_bgcolor": "white",
          "plot_bgcolor": "#E5ECF6",
          "polar": {
           "bgcolor": "#E5ECF6",
           "angularaxis": {
            "gridcolor": "white",
            "linecolor": "white",
            "ticks": ""
           },
           "radialaxis": {
            "gridcolor": "white",
            "linecolor": "white",
            "ticks": ""
           }
          },
          "ternary": {
           "bgcolor": "#E5ECF6",
           "aaxis": {
            "gridcolor": "white",
            "linecolor": "white",
            "ticks": ""
           },
           "baxis": {
            "gridcolor": "white",
            "linecolor": "white",
            "ticks": ""
           },
           "caxis": {
            "gridcolor": "white",
            "linecolor": "white",
            "ticks": ""
           }
          },
          "coloraxis": {
           "colorbar": {
            "outlinewidth": 0,
            "ticks": ""
           }
          },
          "colorscale": {
           "sequential": [
            [
             0.0,
             "#0d0887"
            ],
            [
             0.1111111111111111,
             "#46039f"
            ],
            [
             0.2222222222222222,
             "#7201a8"
            ],
            [
             0.3333333333333333,
             "#9c179e"
            ],
            [
             0.4444444444444444,
             "#bd3786"
            ],
            [
             0.5555555555555556,
             "#d8576b"
            ],
            [
             0.6666666666666666,
             "#ed7953"
            ],
            [
             0.7777777777777778,
             "#fb9f3a"
            ],
            [
             0.8888888888888888,
             "#fdca26"
            ],
            [
             1.0,
             "#f0f921"
            ]
           ],
           "sequentialminus": [
            [
             0.0,
             "#0d0887"
            ],
            [
             0.1111111111111111,
             "#46039f"
            ],
            [
             0.2222222222222222,
             "#7201a8"
            ],
            [
             0.3333333333333333,
             "#9c179e"
            ],
            [
             0.4444444444444444,
             "#bd3786"
            ],
            [
             0.5555555555555556,
             "#d8576b"
            ],
            [
             0.6666666666666666,
             "#ed7953"
            ],
            [
             0.7777777777777778,
             "#fb9f3a"
            ],
            [
             0.8888888888888888,
             "#fdca26"
            ],
            [
             1.0,
             "#f0f921"
            ]
           ],
           "diverging": [
            [
             0,
             "#8e0152"
            ],
            [
             0.1,
             "#c51b7d"
            ],
            [
             0.2,
             "#de77ae"
            ],
            [
             0.3,
             "#f1b6da"
            ],
            [
             0.4,
             "#fde0ef"
            ],
            [
             0.5,
             "#f7f7f7"
            ],
            [
             0.6,
             "#e6f5d0"
            ],
            [
             0.7,
             "#b8e186"
            ],
            [
             0.8,
             "#7fbc41"
            ],
            [
             0.9,
             "#4d9221"
            ],
            [
             1,
             "#276419"
            ]
           ]
          },
          "xaxis": {
           "gridcolor": "white",
           "linecolor": "white",
           "ticks": "",
           "title": {
            "standoff": 15
           },
           "zerolinecolor": "white",
           "automargin": true,
           "zerolinewidth": 2
          },
          "yaxis": {
           "gridcolor": "white",
           "linecolor": "white",
           "ticks": "",
           "title": {
            "standoff": 15
           },
           "zerolinecolor": "white",
           "automargin": true,
           "zerolinewidth": 2
          },
          "scene": {
           "xaxis": {
            "backgroundcolor": "#E5ECF6",
            "gridcolor": "white",
            "linecolor": "white",
            "showbackground": true,
            "ticks": "",
            "zerolinecolor": "white",
            "gridwidth": 2
           },
           "yaxis": {
            "backgroundcolor": "#E5ECF6",
            "gridcolor": "white",
            "linecolor": "white",
            "showbackground": true,
            "ticks": "",
            "zerolinecolor": "white",
            "gridwidth": 2
           },
           "zaxis": {
            "backgroundcolor": "#E5ECF6",
            "gridcolor": "white",
            "linecolor": "white",
            "showbackground": true,
            "ticks": "",
            "zerolinecolor": "white",
            "gridwidth": 2
           }
          },
          "shapedefaults": {
           "line": {
            "color": "#2a3f5f"
           }
          },
          "annotationdefaults": {
           "arrowcolor": "#2a3f5f",
           "arrowhead": 0,
           "arrowwidth": 1
          },
          "geo": {
           "bgcolor": "white",
           "landcolor": "#E5ECF6",
           "subunitcolor": "white",
           "showland": true,
           "showlakes": true,
           "lakecolor": "white"
          },
          "title": {
           "x": 0.05
          },
          "mapbox": {
           "style": "light"
          }
         }
        },
        "title": {
         "text": "Evolution of c_coef Per Transition Over Time"
        },
        "xaxis": {
         "title": {
          "text": "Time"
         }
        },
        "yaxis": {
         "title": {
          "text": "c_coef"
         }
        },
        "legend": {
         "title": {
          "text": "Transitions"
         }
        }
       },
       "config": {
        "plotlyServerURL": "https://plot.ly"
       }
      }
     },
     "metadata": {},
     "output_type": "display_data"
    }
   ],
   "execution_count": 94
  },
  {
   "metadata": {
    "ExecuteTime": {
     "end_time": "2025-07-30T09:22:05.830454Z",
     "start_time": "2025-07-30T09:22:05.812930Z"
    }
   },
   "cell_type": "code",
   "source": [
    "def print_states_for_transitions(transitions, protocol_start, protocol_end, args):\n",
    "    \"\"\"\n",
    "    Prints the quantum states and their energies for the given transitions at the start and end of the protocol.\n",
    "    \"\"\"\n",
    "    # Get the Hamiltonian at the start and end of the protocol\n",
    "    H_start = args['args_H'](protocol_start)\n",
    "    H_end = args['args_H'](protocol_end)\n",
    "\n",
    "    # Compute eigenvalues and eigenstates at the start and end\n",
    "    eigenvalues_start, eigenstates_start = H_start.eigenstates()\n",
    "    eigenvalues_end, eigenstates_end = H_end.eigenstates()\n",
    "\n",
    "    print(\"Quantum states and energies at the start of the protocol:\")\n",
    "    for transition in transitions:\n",
    "        print(f\"Transition: {transition}\")\n",
    "        state_start = eigenstates_start[transition[0]]\n",
    "        energy_start = eigenvalues_start[transition[0]]\n",
    "        print(f\"Energy: {energy_start}\")\n",
    "        print_quantum_state_as_superposition(state_start)\n",
    "\n",
    "    print(\"\\nQuantum states and energies at the end of the protocol:\")\n",
    "    for transition in transitions:\n",
    "        print(f\"Transition: {transition}\")\n",
    "        state_end = eigenstates_end[transition[1]]\n",
    "        energy_end = eigenvalues_end[transition[1]]\n",
    "        print(f\"Energy: {energy_end}\")\n",
    "        print_quantum_state_as_superposition(state_end)\n",
    "\n",
    "# Define the transitions and protocol start/end times\n",
    "transitions = [(0, i) for i in range(1, 8)] + [(1, i) for i in range(2, 8)]  # Example transitions\n",
    "protocol_start = 0\n",
    "protocol_end = T_max\n",
    "\n",
    "# Test the function\n",
    "print_states_for_transitions(transitions, protocol_start, protocol_end, args)"
   ],
   "id": "fae5af9d39966c36",
   "outputs": [
    {
     "name": "stdout",
     "output_type": "stream",
     "text": [
      "Quantum states and energies at the start of the protocol:\n",
      "Transition: (0, 1)\n",
      "Energy: -2050.0\n",
      "|ψ⟩ = 1.00|000⟩\n",
      "Transition: (0, 2)\n",
      "Energy: -2050.0\n",
      "|ψ⟩ = 1.00|000⟩\n",
      "Transition: (0, 3)\n",
      "Energy: -2050.0\n",
      "|ψ⟩ = 1.00|000⟩\n",
      "Transition: (0, 4)\n",
      "Energy: -2050.0\n",
      "|ψ⟩ = 1.00|000⟩\n",
      "Transition: (0, 5)\n",
      "Energy: -2050.0\n",
      "|ψ⟩ = 1.00|000⟩\n",
      "Transition: (0, 6)\n",
      "Energy: -2050.0\n",
      "|ψ⟩ = 1.00|000⟩\n",
      "Transition: (0, 7)\n",
      "Energy: -2050.0\n",
      "|ψ⟩ = 1.00|000⟩\n",
      "Transition: (1, 2)\n",
      "Energy: -1950.0\n",
      "|ψ⟩ = 1.00|111⟩\n",
      "Transition: (1, 3)\n",
      "Energy: -1950.0\n",
      "|ψ⟩ = 1.00|111⟩\n",
      "Transition: (1, 4)\n",
      "Energy: -1950.0\n",
      "|ψ⟩ = 1.00|111⟩\n",
      "Transition: (1, 5)\n",
      "Energy: -1950.0\n",
      "|ψ⟩ = 1.00|111⟩\n",
      "Transition: (1, 6)\n",
      "Energy: -1950.0\n",
      "|ψ⟩ = 1.00|111⟩\n",
      "Transition: (1, 7)\n",
      "Energy: -1950.0\n",
      "|ψ⟩ = 1.00|111⟩\n",
      "\n",
      "Quantum states and energies at the end of the protocol:\n",
      "Transition: (0, 1)\n",
      "Energy: -1950.0\n",
      "|ψ⟩ = 1.00|000⟩\n",
      "Transition: (0, 2)\n",
      "Energy: -16.666666666666664\n",
      "|ψ⟩ = 1.00|011⟩\n",
      "Transition: (0, 3)\n",
      "Energy: -16.666666666666664\n",
      "|ψ⟩ = 1.00|110⟩\n",
      "Transition: (0, 4)\n",
      "Energy: 16.666666666666664\n",
      "|ψ⟩ = 1.00|100⟩\n",
      "Transition: (0, 5)\n",
      "Energy: 16.666666666666664\n",
      "|ψ⟩ = 1.00|001⟩\n",
      "Transition: (0, 6)\n",
      "Energy: 1983.3333333333333\n",
      "|ψ⟩ = 1.00|101⟩\n",
      "Transition: (0, 7)\n",
      "Energy: 2016.6666666666667\n",
      "|ψ⟩ = 1.00|010⟩\n",
      "Transition: (1, 2)\n",
      "Energy: -16.666666666666664\n",
      "|ψ⟩ = 1.00|011⟩\n",
      "Transition: (1, 3)\n",
      "Energy: -16.666666666666664\n",
      "|ψ⟩ = 1.00|110⟩\n",
      "Transition: (1, 4)\n",
      "Energy: 16.666666666666664\n",
      "|ψ⟩ = 1.00|100⟩\n",
      "Transition: (1, 5)\n",
      "Energy: 16.666666666666664\n",
      "|ψ⟩ = 1.00|001⟩\n",
      "Transition: (1, 6)\n",
      "Energy: 1983.3333333333333\n",
      "|ψ⟩ = 1.00|101⟩\n",
      "Transition: (1, 7)\n",
      "Energy: 2016.6666666666667\n",
      "|ψ⟩ = 1.00|010⟩\n"
     ]
    }
   ],
   "execution_count": 33
  },
  {
   "metadata": {
    "ExecuteTime": {
     "end_time": "2025-07-30T08:56:59.108525Z",
     "start_time": "2025-07-30T08:56:59.097751Z"
    }
   },
   "cell_type": "code",
   "source": [
    "# Generate all possible transitions\n",
    "H_start = args['args_H'](0)  # Hamiltonian at the start of the protocol\n",
    "eigenvalues, eigenstates = H_start.eigenstates()\n",
    "num_states = len(eigenstates)\n",
    "transitions = [(i, j) for i in range(num_states) for j in range(i + 1, num_states)]\n",
    "\n",
    "# Define protocol start and end times\n",
    "protocol_start = 0\n",
    "protocol_end = T_max\n",
    "\n",
    "# Test the function\n",
    "print_states_for_transitions(transitions, protocol_start, protocol_end, args)"
   ],
   "id": "d398bc969835452d",
   "outputs": [
    {
     "name": "stdout",
     "output_type": "stream",
     "text": [
      "Quantum states and energies at the start of the protocol:\n",
      "Transition: (0, 1)\n",
      "Energy: -2050.0\n",
      "|ψ⟩ = 1.00|000⟩\n",
      "Transition: (0, 2)\n",
      "Energy: -2050.0\n",
      "|ψ⟩ = 1.00|000⟩\n",
      "Transition: (0, 3)\n",
      "Energy: -2050.0\n",
      "|ψ⟩ = 1.00|000⟩\n",
      "Transition: (0, 4)\n",
      "Energy: -2050.0\n",
      "|ψ⟩ = 1.00|000⟩\n",
      "Transition: (0, 5)\n",
      "Energy: -2050.0\n",
      "|ψ⟩ = 1.00|000⟩\n",
      "Transition: (0, 6)\n",
      "Energy: -2050.0\n",
      "|ψ⟩ = 1.00|000⟩\n",
      "Transition: (0, 7)\n",
      "Energy: -2050.0\n",
      "|ψ⟩ = 1.00|000⟩\n",
      "Transition: (1, 2)\n",
      "Energy: -1950.0\n",
      "|ψ⟩ = 1.00|111⟩\n",
      "Transition: (1, 3)\n",
      "Energy: -1950.0\n",
      "|ψ⟩ = 1.00|111⟩\n",
      "Transition: (1, 4)\n",
      "Energy: -1950.0\n",
      "|ψ⟩ = 1.00|111⟩\n",
      "Transition: (1, 5)\n",
      "Energy: -1950.0\n",
      "|ψ⟩ = 1.00|111⟩\n",
      "Transition: (1, 6)\n",
      "Energy: -1950.0\n",
      "|ψ⟩ = 1.00|111⟩\n",
      "Transition: (1, 7)\n",
      "Energy: -1950.0\n",
      "|ψ⟩ = 1.00|111⟩\n",
      "Transition: (2, 3)\n",
      "Energy: -16.666666666666664\n",
      "|ψ⟩ = 1.00|100⟩\n",
      "Transition: (2, 4)\n",
      "Energy: -16.666666666666664\n",
      "|ψ⟩ = 1.00|100⟩\n",
      "Transition: (2, 5)\n",
      "Energy: -16.666666666666664\n",
      "|ψ⟩ = 1.00|100⟩\n",
      "Transition: (2, 6)\n",
      "Energy: -16.666666666666664\n",
      "|ψ⟩ = 1.00|100⟩\n",
      "Transition: (2, 7)\n",
      "Energy: -16.666666666666664\n",
      "|ψ⟩ = 1.00|100⟩\n",
      "Transition: (3, 4)\n",
      "Energy: -16.666666666666664\n",
      "|ψ⟩ = 1.00|001⟩\n",
      "Transition: (3, 5)\n",
      "Energy: -16.666666666666664\n",
      "|ψ⟩ = 1.00|001⟩\n",
      "Transition: (3, 6)\n",
      "Energy: -16.666666666666664\n",
      "|ψ⟩ = 1.00|001⟩\n",
      "Transition: (3, 7)\n",
      "Energy: -16.666666666666664\n",
      "|ψ⟩ = 1.00|001⟩\n",
      "Transition: (4, 5)\n",
      "Energy: 16.666666666666664\n",
      "|ψ⟩ = 1.00|110⟩\n",
      "Transition: (4, 6)\n",
      "Energy: 16.666666666666664\n",
      "|ψ⟩ = 1.00|110⟩\n",
      "Transition: (4, 7)\n",
      "Energy: 16.666666666666664\n",
      "|ψ⟩ = 1.00|110⟩\n",
      "Transition: (5, 6)\n",
      "Energy: 16.666666666666664\n",
      "|ψ⟩ = 1.00|011⟩\n",
      "Transition: (5, 7)\n",
      "Energy: 16.666666666666664\n",
      "|ψ⟩ = 1.00|011⟩\n",
      "Transition: (6, 7)\n",
      "Energy: 1983.3333333333333\n",
      "|ψ⟩ = 1.00|010⟩\n",
      "\n",
      "Quantum states and energies at the end of the protocol:\n",
      "Transition: (0, 1)\n",
      "Energy: -1950.0\n",
      "|ψ⟩ = 1.00|000⟩\n",
      "Transition: (0, 2)\n",
      "Energy: -16.666666666666664\n",
      "|ψ⟩ = 1.00|011⟩\n",
      "Transition: (0, 3)\n",
      "Energy: -16.666666666666664\n",
      "|ψ⟩ = 1.00|110⟩\n",
      "Transition: (0, 4)\n",
      "Energy: 16.666666666666664\n",
      "|ψ⟩ = 1.00|100⟩\n",
      "Transition: (0, 5)\n",
      "Energy: 16.666666666666664\n",
      "|ψ⟩ = 1.00|001⟩\n",
      "Transition: (0, 6)\n",
      "Energy: 1983.3333333333333\n",
      "|ψ⟩ = 1.00|101⟩\n",
      "Transition: (0, 7)\n",
      "Energy: 2016.6666666666667\n",
      "|ψ⟩ = 1.00|010⟩\n",
      "Transition: (1, 2)\n",
      "Energy: -16.666666666666664\n",
      "|ψ⟩ = 1.00|011⟩\n",
      "Transition: (1, 3)\n",
      "Energy: -16.666666666666664\n",
      "|ψ⟩ = 1.00|110⟩\n",
      "Transition: (1, 4)\n",
      "Energy: 16.666666666666664\n",
      "|ψ⟩ = 1.00|100⟩\n",
      "Transition: (1, 5)\n",
      "Energy: 16.666666666666664\n",
      "|ψ⟩ = 1.00|001⟩\n",
      "Transition: (1, 6)\n",
      "Energy: 1983.3333333333333\n",
      "|ψ⟩ = 1.00|101⟩\n",
      "Transition: (1, 7)\n",
      "Energy: 2016.6666666666667\n",
      "|ψ⟩ = 1.00|010⟩\n",
      "Transition: (2, 3)\n",
      "Energy: -16.666666666666664\n",
      "|ψ⟩ = 1.00|110⟩\n",
      "Transition: (2, 4)\n",
      "Energy: 16.666666666666664\n",
      "|ψ⟩ = 1.00|100⟩\n",
      "Transition: (2, 5)\n",
      "Energy: 16.666666666666664\n",
      "|ψ⟩ = 1.00|001⟩\n",
      "Transition: (2, 6)\n",
      "Energy: 1983.3333333333333\n",
      "|ψ⟩ = 1.00|101⟩\n",
      "Transition: (2, 7)\n",
      "Energy: 2016.6666666666667\n",
      "|ψ⟩ = 1.00|010⟩\n",
      "Transition: (3, 4)\n",
      "Energy: 16.666666666666664\n",
      "|ψ⟩ = 1.00|100⟩\n",
      "Transition: (3, 5)\n",
      "Energy: 16.666666666666664\n",
      "|ψ⟩ = 1.00|001⟩\n",
      "Transition: (3, 6)\n",
      "Energy: 1983.3333333333333\n",
      "|ψ⟩ = 1.00|101⟩\n",
      "Transition: (3, 7)\n",
      "Energy: 2016.6666666666667\n",
      "|ψ⟩ = 1.00|010⟩\n",
      "Transition: (4, 5)\n",
      "Energy: 16.666666666666664\n",
      "|ψ⟩ = 1.00|001⟩\n",
      "Transition: (4, 6)\n",
      "Energy: 1983.3333333333333\n",
      "|ψ⟩ = 1.00|101⟩\n",
      "Transition: (4, 7)\n",
      "Energy: 2016.6666666666667\n",
      "|ψ⟩ = 1.00|010⟩\n",
      "Transition: (5, 6)\n",
      "Energy: 1983.3333333333333\n",
      "|ψ⟩ = 1.00|101⟩\n",
      "Transition: (5, 7)\n",
      "Energy: 2016.6666666666667\n",
      "|ψ⟩ = 1.00|010⟩\n",
      "Transition: (6, 7)\n",
      "Energy: 2016.6666666666667\n",
      "|ψ⟩ = 1.00|010⟩\n"
     ]
    }
   ],
   "execution_count": 14
  },
  {
   "metadata": {},
   "cell_type": "markdown",
   "source": "# As function of energy gap\n",
   "id": "2ad323252b1d4850"
  },
  {
   "metadata": {},
   "cell_type": "markdown",
   "source": "## Simulating the final fidelity of the logical state |1_L⟩ as a function of the energy gap E_P at different temperatures",
   "id": "6a40654b0e9649ae"
  },
  {
   "metadata": {
    "ExecuteTime": {
     "end_time": "2025-07-30T09:18:53.118311Z",
     "start_time": "2025-07-30T09:17:47.698360Z"
    }
   },
   "cell_type": "code",
   "source": [
    "# Define parameters\n",
    "times = np.linspace(0, T_max, 101)  # Time array\n",
    "gamma_sqrt = 0.1\n",
    "temperatures = [1, 10, 20, 50, 100]  # Different temperatures\n",
    "Eps = np.linspace(0, 50, 20)  # Energy gaps\n",
    "\n",
    "rho0 = logical_zero * logical_zero.dag()\n",
    "rho1 = logical_one * logical_one.dag()\n",
    "e_ops = [rho0, rho1]\n",
    "\n",
    "# Initialize data storage\n",
    "final_fidelities = {T: [] for T in temperatures}\n",
    "\n",
    "# Loop over temperatures\n",
    "for T in temperatures:\n",
    "    print(f\"Processing temperature: {T}\")\n",
    "    for Ep in Eps:\n",
    "        # Time-dependent Hamiltonian\n",
    "        def H_t(t):\n",
    "            H_RAP = X_L * omega_t(t) + Z_L * delta_t(t)\n",
    "            Ht = H_RAP - Ep * sum(S)\n",
    "            return Ht.to('csr')\n",
    "\n",
    "        args_C = {\"args_H\": H_t, \"n_qubits\": n_qubits, \"lambda_2\": gamma_sqrt, \"T\": T}\n",
    "\n",
    "        # Simulate evolution\n",
    "        rho_init = initial_state * initial_state.dag()\n",
    "        prev_time = times[0]\n",
    "        time_inter = times[1] - times[0]\n",
    "        tot_time = times[1:]\n",
    "        tot_time = np.append(tot_time, times[-1] + time_inter)\n",
    "\n",
    "        for dt in tot_time:\n",
    "            c_ops, c_s = c_ops_gen_new(dt, args=args_C)\n",
    "            t_steps = [prev_time, dt]\n",
    "            results = mesolve(H_t, rho_init, t_steps, c_ops=c_ops, args=args_C, e_ops=e_ops,\n",
    "                              options={'store_states': True})\n",
    "            prev_time = dt\n",
    "            rho_init = results.states[-1]\n",
    "\n",
    "        # Store final fidelity for logical_one state\n",
    "        final_fidelity = results.expect[1][-1]\n",
    "        final_fidelities[T].append(final_fidelity)\n",
    "\n",
    "# Create interactive plot\n",
    "fig = go.Figure()\n",
    "\n",
    "for T, fidelities in final_fidelities.items():\n",
    "    fig.add_trace(go.Scatter(\n",
    "        x=Eps,\n",
    "        y=fidelities,\n",
    "        mode='lines+markers',\n",
    "        name=f\"T = {T} K\"\n",
    "    ))\n",
    "\n",
    "fig.update_layout(\n",
    "    title=r\"Final Fidelity of $|1_L\\rangle$\",\n",
    "    xaxis_title=\"Energy Gap\",\n",
    "    yaxis_title=r\"Final Fidelity of $|1_L\\rangle$\"\n",
    ")\n",
    "\n",
    "fig.show()"
   ],
   "id": "43c77ee77cca597b",
   "outputs": [
    {
     "name": "stdout",
     "output_type": "stream",
     "text": [
      "Processing temperature: 1\n",
      "Processing temperature: 10\n",
      "Processing temperature: 20\n",
      "Processing temperature: 50\n",
      "Processing temperature: 100\n"
     ]
    },
    {
     "data": {
      "application/vnd.plotly.v1+json": {
       "data": [
        {
         "mode": "lines+markers",
         "name": "T = 1 K",
         "x": {
          "dtype": "f8",
          "bdata": "AAAAAAAAAADYUF5DeQ0FQNhQXkN5DRVARHkN5TWUH0DYUF5DeQ0lQA7lNZTXUCpARHkN5TWUL0C9hvIaymsyQNhQXkN5DTVA8xrKayivN0AO5TWU11A6QCmvobyG8jxARHkN5TWUP0CwobyG8hpBQL2G8hrKa0JAymsor6G8Q0DYUF5DeQ1FQOY1lNdQXkZA8xrKayivR0AAAAAAAABJQA=="
         },
         "y": [
          0.8374706670756359,
          0.999695391468186,
          0.9999427279162564,
          0.9999777744290269,
          0.999910162134483,
          0.9998362276913323,
          0.9999771892365595,
          0.999978856525804,
          0.9999790579976756,
          0.9999790373457524,
          0.9999792261852064,
          0.9999792334609744,
          0.9999792525127486,
          0.9999792552715099,
          0.9999792554082585,
          0.9999792554089189,
          0.9999792554089217,
          0.999979255408919,
          0.9999792554089237,
          0.9999792554089206
         ],
         "type": "scatter"
        },
        {
         "mode": "lines+markers",
         "name": "T = 10 K",
         "x": {
          "dtype": "f8",
          "bdata": "AAAAAAAAAADYUF5DeQ0FQNhQXkN5DRVARHkN5TWUH0DYUF5DeQ0lQA7lNZTXUCpARHkN5TWUL0C9hvIaymsyQNhQXkN5DTVA8xrKayivN0AO5TWU11A6QCmvobyG8jxARHkN5TWUP0CwobyG8hpBQL2G8hrKa0JAymsor6G8Q0DYUF5DeQ1FQOY1lNdQXkZA8xrKayivR0AAAAAAAABJQA=="
         },
         "y": [
          0.0919884802980559,
          0.8126870543243384,
          0.9122873072574879,
          0.9543380000518191,
          0.9739480764668683,
          0.9845306102037821,
          0.9917005490167087,
          0.995178126610743,
          0.9971560715962356,
          0.9983290107868016,
          0.9990088863259865,
          0.9994070227598428,
          0.9996417910099111,
          0.9997790291582662,
          0.9998616064764068,
          0.9999097857783399,
          0.9999382291496469,
          0.9999550161665022,
          0.9999649389953038,
          0.9999707970248013
         ],
         "type": "scatter"
        },
        {
         "mode": "lines+markers",
         "name": "T = 20 K",
         "x": {
          "dtype": "f8",
          "bdata": "AAAAAAAAAADYUF5DeQ0FQNhQXkN5DRVARHkN5TWUH0DYUF5DeQ0lQA7lNZTXUCpARHkN5TWUL0C9hvIaymsyQNhQXkN5DTVA8xrKayivN0AO5TWU11A6QCmvobyG8jxARHkN5TWUP0CwobyG8hpBQL2G8hrKa0JAymsor6G8Q0DYUF5DeQ1FQOY1lNdQXkZA8xrKayivR0AAAAAAAABJQA=="
         },
         "y": [
          0.005738527819821286,
          0.4902497398109478,
          0.66204811442495,
          0.7647388974347369,
          0.8302981808684583,
          0.8759717964439286,
          0.9098963556204126,
          0.9331012389770015,
          0.9494947148944738,
          0.9623425514966405,
          0.9715265163772597,
          0.9783898596532321,
          0.9835529315432412,
          0.9873316909642108,
          0.9904042870960145,
          0.992656899498933,
          0.994373425902713,
          0.995680961636431,
          0.9966834561418746,
          0.9974496022306469
         ],
         "type": "scatter"
        },
        {
         "mode": "lines+markers",
         "name": "T = 50 K",
         "x": {
          "dtype": "f8",
          "bdata": "AAAAAAAAAADYUF5DeQ0FQNhQXkN5DRVARHkN5TWUH0DYUF5DeQ0lQA7lNZTXUCpARHkN5TWUL0C9hvIaymsyQNhQXkN5DTVA8xrKayivN0AO5TWU11A6QCmvobyG8jxARHkN5TWUP0CwobyG8hpBQL2G8hrKa0JAymsor6G8Q0DYUF5DeQ1FQOY1lNdQXkZA8xrKayivR0AAAAAAAABJQA=="
         },
         "y": [
          8.175305845511142E-6,
          0.07790634170284526,
          0.17837480544729334,
          0.2750030829991618,
          0.3612562044756012,
          0.43921621512704995,
          0.5091500179132276,
          0.5689863656154014,
          0.6181494828284362,
          0.6667615846462365,
          0.7063774443473111,
          0.7409450048993362,
          0.7711688242816267,
          0.7956082715656838,
          0.8206250763268002,
          0.8409907688358643,
          0.8588744675496321,
          0.8745145454143465,
          0.8883889624020102,
          0.9005707809863487
         ],
         "type": "scatter"
        },
        {
         "mode": "lines+markers",
         "name": "T = 100 K",
         "x": {
          "dtype": "f8",
          "bdata": "AAAAAAAAAADYUF5DeQ0FQNhQXkN5DRVARHkN5TWUH0DYUF5DeQ0lQA7lNZTXUCpARHkN5TWUL0C9hvIaymsyQNhQXkN5DTVA8xrKayivN0AO5TWU11A6QCmvobyG8jxARHkN5TWUP0CwobyG8hpBQL2G8hrKa0JAymsor6G8Q0DYUF5DeQ1FQOY1lNdQXkZA8xrKayivR0AAAAAAAABJQA=="
         },
         "y": [
          7.773716447790758E-6,
          0.0031565398175034155,
          0.016937771159002357,
          0.04127311540782091,
          0.07311233828718856,
          0.11090382595507538,
          0.1524675948871529,
          0.194891942638685,
          0.2341923462304617,
          0.27996483177648274,
          0.32099523917913425,
          0.36052609450244294,
          0.39838251472064967,
          0.43048925389161324,
          0.46818423960513916,
          0.5004657436624963,
          0.5308499141809669,
          0.559160717662983,
          0.5859917882394079,
          0.610966764878022
         ],
         "type": "scatter"
        }
       ],
       "layout": {
        "template": {
         "data": {
          "histogram2dcontour": [
           {
            "type": "histogram2dcontour",
            "colorbar": {
             "outlinewidth": 0,
             "ticks": ""
            },
            "colorscale": [
             [
              0.0,
              "#0d0887"
             ],
             [
              0.1111111111111111,
              "#46039f"
             ],
             [
              0.2222222222222222,
              "#7201a8"
             ],
             [
              0.3333333333333333,
              "#9c179e"
             ],
             [
              0.4444444444444444,
              "#bd3786"
             ],
             [
              0.5555555555555556,
              "#d8576b"
             ],
             [
              0.6666666666666666,
              "#ed7953"
             ],
             [
              0.7777777777777778,
              "#fb9f3a"
             ],
             [
              0.8888888888888888,
              "#fdca26"
             ],
             [
              1.0,
              "#f0f921"
             ]
            ]
           }
          ],
          "choropleth": [
           {
            "type": "choropleth",
            "colorbar": {
             "outlinewidth": 0,
             "ticks": ""
            }
           }
          ],
          "histogram2d": [
           {
            "type": "histogram2d",
            "colorbar": {
             "outlinewidth": 0,
             "ticks": ""
            },
            "colorscale": [
             [
              0.0,
              "#0d0887"
             ],
             [
              0.1111111111111111,
              "#46039f"
             ],
             [
              0.2222222222222222,
              "#7201a8"
             ],
             [
              0.3333333333333333,
              "#9c179e"
             ],
             [
              0.4444444444444444,
              "#bd3786"
             ],
             [
              0.5555555555555556,
              "#d8576b"
             ],
             [
              0.6666666666666666,
              "#ed7953"
             ],
             [
              0.7777777777777778,
              "#fb9f3a"
             ],
             [
              0.8888888888888888,
              "#fdca26"
             ],
             [
              1.0,
              "#f0f921"
             ]
            ]
           }
          ],
          "heatmap": [
           {
            "type": "heatmap",
            "colorbar": {
             "outlinewidth": 0,
             "ticks": ""
            },
            "colorscale": [
             [
              0.0,
              "#0d0887"
             ],
             [
              0.1111111111111111,
              "#46039f"
             ],
             [
              0.2222222222222222,
              "#7201a8"
             ],
             [
              0.3333333333333333,
              "#9c179e"
             ],
             [
              0.4444444444444444,
              "#bd3786"
             ],
             [
              0.5555555555555556,
              "#d8576b"
             ],
             [
              0.6666666666666666,
              "#ed7953"
             ],
             [
              0.7777777777777778,
              "#fb9f3a"
             ],
             [
              0.8888888888888888,
              "#fdca26"
             ],
             [
              1.0,
              "#f0f921"
             ]
            ]
           }
          ],
          "contourcarpet": [
           {
            "type": "contourcarpet",
            "colorbar": {
             "outlinewidth": 0,
             "ticks": ""
            }
           }
          ],
          "contour": [
           {
            "type": "contour",
            "colorbar": {
             "outlinewidth": 0,
             "ticks": ""
            },
            "colorscale": [
             [
              0.0,
              "#0d0887"
             ],
             [
              0.1111111111111111,
              "#46039f"
             ],
             [
              0.2222222222222222,
              "#7201a8"
             ],
             [
              0.3333333333333333,
              "#9c179e"
             ],
             [
              0.4444444444444444,
              "#bd3786"
             ],
             [
              0.5555555555555556,
              "#d8576b"
             ],
             [
              0.6666666666666666,
              "#ed7953"
             ],
             [
              0.7777777777777778,
              "#fb9f3a"
             ],
             [
              0.8888888888888888,
              "#fdca26"
             ],
             [
              1.0,
              "#f0f921"
             ]
            ]
           }
          ],
          "surface": [
           {
            "type": "surface",
            "colorbar": {
             "outlinewidth": 0,
             "ticks": ""
            },
            "colorscale": [
             [
              0.0,
              "#0d0887"
             ],
             [
              0.1111111111111111,
              "#46039f"
             ],
             [
              0.2222222222222222,
              "#7201a8"
             ],
             [
              0.3333333333333333,
              "#9c179e"
             ],
             [
              0.4444444444444444,
              "#bd3786"
             ],
             [
              0.5555555555555556,
              "#d8576b"
             ],
             [
              0.6666666666666666,
              "#ed7953"
             ],
             [
              0.7777777777777778,
              "#fb9f3a"
             ],
             [
              0.8888888888888888,
              "#fdca26"
             ],
             [
              1.0,
              "#f0f921"
             ]
            ]
           }
          ],
          "mesh3d": [
           {
            "type": "mesh3d",
            "colorbar": {
             "outlinewidth": 0,
             "ticks": ""
            }
           }
          ],
          "scatter": [
           {
            "fillpattern": {
             "fillmode": "overlay",
             "size": 10,
             "solidity": 0.2
            },
            "type": "scatter"
           }
          ],
          "parcoords": [
           {
            "type": "parcoords",
            "line": {
             "colorbar": {
              "outlinewidth": 0,
              "ticks": ""
             }
            }
           }
          ],
          "scatterpolargl": [
           {
            "type": "scatterpolargl",
            "marker": {
             "colorbar": {
              "outlinewidth": 0,
              "ticks": ""
             }
            }
           }
          ],
          "bar": [
           {
            "error_x": {
             "color": "#2a3f5f"
            },
            "error_y": {
             "color": "#2a3f5f"
            },
            "marker": {
             "line": {
              "color": "#E5ECF6",
              "width": 0.5
             },
             "pattern": {
              "fillmode": "overlay",
              "size": 10,
              "solidity": 0.2
             }
            },
            "type": "bar"
           }
          ],
          "scattergeo": [
           {
            "type": "scattergeo",
            "marker": {
             "colorbar": {
              "outlinewidth": 0,
              "ticks": ""
             }
            }
           }
          ],
          "scatterpolar": [
           {
            "type": "scatterpolar",
            "marker": {
             "colorbar": {
              "outlinewidth": 0,
              "ticks": ""
             }
            }
           }
          ],
          "histogram": [
           {
            "marker": {
             "pattern": {
              "fillmode": "overlay",
              "size": 10,
              "solidity": 0.2
             }
            },
            "type": "histogram"
           }
          ],
          "scattergl": [
           {
            "type": "scattergl",
            "marker": {
             "colorbar": {
              "outlinewidth": 0,
              "ticks": ""
             }
            }
           }
          ],
          "scatter3d": [
           {
            "type": "scatter3d",
            "line": {
             "colorbar": {
              "outlinewidth": 0,
              "ticks": ""
             }
            },
            "marker": {
             "colorbar": {
              "outlinewidth": 0,
              "ticks": ""
             }
            }
           }
          ],
          "scattermap": [
           {
            "type": "scattermap",
            "marker": {
             "colorbar": {
              "outlinewidth": 0,
              "ticks": ""
             }
            }
           }
          ],
          "scattermapbox": [
           {
            "type": "scattermapbox",
            "marker": {
             "colorbar": {
              "outlinewidth": 0,
              "ticks": ""
             }
            }
           }
          ],
          "scatterternary": [
           {
            "type": "scatterternary",
            "marker": {
             "colorbar": {
              "outlinewidth": 0,
              "ticks": ""
             }
            }
           }
          ],
          "scattercarpet": [
           {
            "type": "scattercarpet",
            "marker": {
             "colorbar": {
              "outlinewidth": 0,
              "ticks": ""
             }
            }
           }
          ],
          "carpet": [
           {
            "aaxis": {
             "endlinecolor": "#2a3f5f",
             "gridcolor": "white",
             "linecolor": "white",
             "minorgridcolor": "white",
             "startlinecolor": "#2a3f5f"
            },
            "baxis": {
             "endlinecolor": "#2a3f5f",
             "gridcolor": "white",
             "linecolor": "white",
             "minorgridcolor": "white",
             "startlinecolor": "#2a3f5f"
            },
            "type": "carpet"
           }
          ],
          "table": [
           {
            "cells": {
             "fill": {
              "color": "#EBF0F8"
             },
             "line": {
              "color": "white"
             }
            },
            "header": {
             "fill": {
              "color": "#C8D4E3"
             },
             "line": {
              "color": "white"
             }
            },
            "type": "table"
           }
          ],
          "barpolar": [
           {
            "marker": {
             "line": {
              "color": "#E5ECF6",
              "width": 0.5
             },
             "pattern": {
              "fillmode": "overlay",
              "size": 10,
              "solidity": 0.2
             }
            },
            "type": "barpolar"
           }
          ],
          "pie": [
           {
            "automargin": true,
            "type": "pie"
           }
          ]
         },
         "layout": {
          "autotypenumbers": "strict",
          "colorway": [
           "#636efa",
           "#EF553B",
           "#00cc96",
           "#ab63fa",
           "#FFA15A",
           "#19d3f3",
           "#FF6692",
           "#B6E880",
           "#FF97FF",
           "#FECB52"
          ],
          "font": {
           "color": "#2a3f5f"
          },
          "hovermode": "closest",
          "hoverlabel": {
           "align": "left"
          },
          "paper_bgcolor": "white",
          "plot_bgcolor": "#E5ECF6",
          "polar": {
           "bgcolor": "#E5ECF6",
           "angularaxis": {
            "gridcolor": "white",
            "linecolor": "white",
            "ticks": ""
           },
           "radialaxis": {
            "gridcolor": "white",
            "linecolor": "white",
            "ticks": ""
           }
          },
          "ternary": {
           "bgcolor": "#E5ECF6",
           "aaxis": {
            "gridcolor": "white",
            "linecolor": "white",
            "ticks": ""
           },
           "baxis": {
            "gridcolor": "white",
            "linecolor": "white",
            "ticks": ""
           },
           "caxis": {
            "gridcolor": "white",
            "linecolor": "white",
            "ticks": ""
           }
          },
          "coloraxis": {
           "colorbar": {
            "outlinewidth": 0,
            "ticks": ""
           }
          },
          "colorscale": {
           "sequential": [
            [
             0.0,
             "#0d0887"
            ],
            [
             0.1111111111111111,
             "#46039f"
            ],
            [
             0.2222222222222222,
             "#7201a8"
            ],
            [
             0.3333333333333333,
             "#9c179e"
            ],
            [
             0.4444444444444444,
             "#bd3786"
            ],
            [
             0.5555555555555556,
             "#d8576b"
            ],
            [
             0.6666666666666666,
             "#ed7953"
            ],
            [
             0.7777777777777778,
             "#fb9f3a"
            ],
            [
             0.8888888888888888,
             "#fdca26"
            ],
            [
             1.0,
             "#f0f921"
            ]
           ],
           "sequentialminus": [
            [
             0.0,
             "#0d0887"
            ],
            [
             0.1111111111111111,
             "#46039f"
            ],
            [
             0.2222222222222222,
             "#7201a8"
            ],
            [
             0.3333333333333333,
             "#9c179e"
            ],
            [
             0.4444444444444444,
             "#bd3786"
            ],
            [
             0.5555555555555556,
             "#d8576b"
            ],
            [
             0.6666666666666666,
             "#ed7953"
            ],
            [
             0.7777777777777778,
             "#fb9f3a"
            ],
            [
             0.8888888888888888,
             "#fdca26"
            ],
            [
             1.0,
             "#f0f921"
            ]
           ],
           "diverging": [
            [
             0,
             "#8e0152"
            ],
            [
             0.1,
             "#c51b7d"
            ],
            [
             0.2,
             "#de77ae"
            ],
            [
             0.3,
             "#f1b6da"
            ],
            [
             0.4,
             "#fde0ef"
            ],
            [
             0.5,
             "#f7f7f7"
            ],
            [
             0.6,
             "#e6f5d0"
            ],
            [
             0.7,
             "#b8e186"
            ],
            [
             0.8,
             "#7fbc41"
            ],
            [
             0.9,
             "#4d9221"
            ],
            [
             1,
             "#276419"
            ]
           ]
          },
          "xaxis": {
           "gridcolor": "white",
           "linecolor": "white",
           "ticks": "",
           "title": {
            "standoff": 15
           },
           "zerolinecolor": "white",
           "automargin": true,
           "zerolinewidth": 2
          },
          "yaxis": {
           "gridcolor": "white",
           "linecolor": "white",
           "ticks": "",
           "title": {
            "standoff": 15
           },
           "zerolinecolor": "white",
           "automargin": true,
           "zerolinewidth": 2
          },
          "scene": {
           "xaxis": {
            "backgroundcolor": "#E5ECF6",
            "gridcolor": "white",
            "linecolor": "white",
            "showbackground": true,
            "ticks": "",
            "zerolinecolor": "white",
            "gridwidth": 2
           },
           "yaxis": {
            "backgroundcolor": "#E5ECF6",
            "gridcolor": "white",
            "linecolor": "white",
            "showbackground": true,
            "ticks": "",
            "zerolinecolor": "white",
            "gridwidth": 2
           },
           "zaxis": {
            "backgroundcolor": "#E5ECF6",
            "gridcolor": "white",
            "linecolor": "white",
            "showbackground": true,
            "ticks": "",
            "zerolinecolor": "white",
            "gridwidth": 2
           }
          },
          "shapedefaults": {
           "line": {
            "color": "#2a3f5f"
           }
          },
          "annotationdefaults": {
           "arrowcolor": "#2a3f5f",
           "arrowhead": 0,
           "arrowwidth": 1
          },
          "geo": {
           "bgcolor": "white",
           "landcolor": "#E5ECF6",
           "subunitcolor": "white",
           "showland": true,
           "showlakes": true,
           "lakecolor": "white"
          },
          "title": {
           "x": 0.05
          },
          "mapbox": {
           "style": "light"
          }
         }
        },
        "title": {
         "text": "Final Fidelity of $|1_L\\rangle$"
        },
        "xaxis": {
         "title": {
          "text": "Energy Gap"
         }
        },
        "yaxis": {
         "title": {
          "text": "Final Fidelity of $|1_L\\rangle$"
         }
        }
       },
       "config": {
        "plotlyServerURL": "https://plot.ly"
       }
      }
     },
     "metadata": {},
     "output_type": "display_data"
    }
   ],
   "execution_count": 30
  },
  {
   "metadata": {},
   "cell_type": "markdown",
   "source": "## Simulating the final fidelity of the logical state |1_L⟩ as a function of the energy gap E_P for different gamma_sqrt values",
   "id": "8d85d740114a920b"
  },
  {
   "metadata": {
    "ExecuteTime": {
     "end_time": "2025-07-30T08:44:50.425692Z",
     "start_time": "2025-07-30T08:43:41.142027Z"
    }
   },
   "cell_type": "code",
   "source": [
    "# Define parameters\n",
    "times = np.linspace(0, T_max, 101)  # Time array\n",
    "temperature = 20  # Constant temperature\n",
    "gamma_sqrt_values = [0.05, 0.1, 0.2, 0.5, 1.0]  # Different gamma_sqrt values\n",
    "Eps = np.linspace(0, 50, 20)  # Energy gaps\n",
    "\n",
    "rho0 = logical_zero * logical_zero.dag()\n",
    "rho1 = logical_one * logical_one.dag()\n",
    "e_ops = [rho0, rho1]\n",
    "\n",
    "# Initialize data storage\n",
    "final_fidelities = {gamma: [] for gamma in gamma_sqrt_values}\n",
    "\n",
    "# Loop over gamma_sqrt values\n",
    "for gamma_sqrt in gamma_sqrt_values:\n",
    "    print(f\"Processing gamma_sqrt: {gamma_sqrt}\")\n",
    "    for Ep in Eps:\n",
    "        # Time-dependent Hamiltonian\n",
    "        def H_t(t):\n",
    "            H_RAP = X_L * omega_t(t) + Z_L * delta_t(t)\n",
    "            Ht = H_RAP - Ep * sum(S)\n",
    "            return Ht.to('csr')\n",
    "\n",
    "        args_C = {\"args_H\": H_t, \"n_qubits\": n_qubits, \"lambda_2\": gamma_sqrt, \"T\": temperature}\n",
    "\n",
    "        # Simulate evolution\n",
    "        rho_init = initial_state * initial_state.dag()\n",
    "        prev_time = times[0]\n",
    "        time_inter = times[1] - times[0]\n",
    "        tot_time = times[1:]\n",
    "        tot_time = np.append(tot_time, times[-1] + time_inter)\n",
    "\n",
    "        for dt in tot_time:\n",
    "            c_ops, c_s = c_ops_gen_new(dt, args=args_C)\n",
    "            t_steps = [prev_time, dt]\n",
    "            results = mesolve(H_t, rho_init, t_steps, c_ops=c_ops, args=args_C, e_ops=e_ops,\n",
    "                              options={'store_states': True})\n",
    "            prev_time = dt\n",
    "            rho_init = results.states[-1]\n",
    "\n",
    "        # Store final fidelity for logical_one state\n",
    "        final_fidelity = results.expect[1][-1]\n",
    "        final_fidelities[gamma_sqrt].append(final_fidelity)\n",
    "\n",
    "# Create interactive plot\n",
    "fig = go.Figure()\n",
    "\n",
    "for gamma_sqrt, fidelities in final_fidelities.items():\n",
    "    fig.add_trace(go.Scatter(\n",
    "        x=Eps,\n",
    "        y=fidelities,\n",
    "        mode='lines+markers',\n",
    "        name=f\"gamma_sqrt = {gamma_sqrt}\"\n",
    "    ))\n",
    "\n",
    "fig.update_layout(\n",
    "    title=\"Final Fidelity vs Energy Gap for Different gamma_sqrt Values\",\n",
    "    xaxis=dict(\n",
    "        title=\"Energy Gap ($E_P$)\",\n",
    "        titlefont=dict(size=14)\n",
    "    ),\n",
    "    yaxis=dict(\n",
    "        title=\"Final Fidelity of $|1_L\\\\rangle$\",\n",
    "        titlefont=dict(size=14)\n",
    "    ),\n",
    "    legend_title=\"gamma_sqrt Values\",\n",
    "    template=\"plotly\"\n",
    ")\n",
    "\n",
    "fig.show()"
   ],
   "id": "7a2ab0b394aa1265",
   "outputs": [
    {
     "name": "stdout",
     "output_type": "stream",
     "text": [
      "Processing gamma_sqrt: 0.05\n",
      "Processing gamma_sqrt: 0.1\n",
      "Processing gamma_sqrt: 0.2\n",
      "Processing gamma_sqrt: 0.5\n",
      "Processing gamma_sqrt: 1.0\n"
     ]
    },
    {
     "data": {
      "application/vnd.plotly.v1+json": {
       "data": [
        {
         "mode": "lines+markers",
         "name": "gamma_sqrt = 0.05",
         "x": {
          "dtype": "f8",
          "bdata": "AAAAAAAAAADYUF5DeQ0FQNhQXkN5DRVARHkN5TWUH0DYUF5DeQ0lQA7lNZTXUCpARHkN5TWUL0C9hvIaymsyQNhQXkN5DTVA8xrKayivN0AO5TWU11A6QCmvobyG8jxARHkN5TWUP0CwobyG8hpBQL2G8hrKa0JAymsor6G8Q0DYUF5DeQ1FQOY1lNdQXkZA8xrKayivR0AAAAAAAABJQA=="
         },
         "y": [
          0.07565913122021137,
          0.6999901274621727,
          0.8136454381484877,
          0.874482316272947,
          0.9111814534756519,
          0.9356849641857861,
          0.9538704460508804,
          0.965962108687717,
          0.9744101486286376,
          0.9809803166306756,
          0.9856501937618669,
          0.9891257179467661,
          0.9917323178835394,
          0.9936355336623716,
          0.9951803952784856,
          0.9963114940403652,
          0.9971722593474683,
          0.9978276516683329,
          0.9983299923593285,
          0.9987136280071359
         ],
         "type": "scatter"
        },
        {
         "mode": "lines+markers",
         "name": "gamma_sqrt = 0.1",
         "x": {
          "dtype": "f8",
          "bdata": "AAAAAAAAAADYUF5DeQ0FQNhQXkN5DRVARHkN5TWUH0DYUF5DeQ0lQA7lNZTXUCpARHkN5TWUL0C9hvIaymsyQNhQXkN5DTVA8xrKayivN0AO5TWU11A6QCmvobyG8jxARHkN5TWUP0CwobyG8hpBQL2G8hrKa0JAymsor6G8Q0DYUF5DeQ1FQOY1lNdQXkZA8xrKayivR0AAAAAAAABJQA=="
         },
         "y": [
          0.005738527819821286,
          0.4902497398109478,
          0.66204811442495,
          0.7647388974347369,
          0.8302981808684583,
          0.8759717964439286,
          0.9098963556204126,
          0.9331012389770015,
          0.9494947148944738,
          0.9623425514966405,
          0.9715265163772597,
          0.9783898596532321,
          0.9835529315432412,
          0.9873316909642108,
          0.9904042870960145,
          0.992656899498933,
          0.994373425902713,
          0.995680961636431,
          0.9966834561418746,
          0.9974496022306469
         ],
         "type": "scatter"
        },
        {
         "mode": "lines+markers",
         "name": "gamma_sqrt = 0.2",
         "x": {
          "dtype": "f8",
          "bdata": "AAAAAAAAAADYUF5DeQ0FQNhQXkN5DRVARHkN5TWUH0DYUF5DeQ0lQA7lNZTXUCpARHkN5TWUL0C9hvIaymsyQNhQXkN5DTVA8xrKayivN0AO5TWU11A6QCmvobyG8jxARHkN5TWUP0CwobyG8hpBQL2G8hrKa0JAymsor6G8Q0DYUF5DeQ1FQOY1lNdQXkZA8xrKayivR0AAAAAAAABJQA=="
         },
         "y": [
          4.115331247699469E-5,
          0.24060292719568288,
          0.43834364802386494,
          0.5848471877159017,
          0.6894821290046607,
          0.7681479433215491,
          0.8279409630220269,
          0.8706973075698298,
          0.9015594968933093,
          0.9261229609065257,
          0.9438832052587791,
          0.9572663939600795,
          0.9673963490327817,
          0.974843827255144,
          0.98092053508248,
          0.9853877964133894,
          0.9887987448791374,
          0.9914008577859825,
          0.993398788082698,
          0.9949263549074302
         ],
         "type": "scatter"
        },
        {
         "mode": "lines+markers",
         "name": "gamma_sqrt = 0.5",
         "x": {
          "dtype": "f8",
          "bdata": "AAAAAAAAAADYUF5DeQ0FQNhQXkN5DRVARHkN5TWUH0DYUF5DeQ0lQA7lNZTXUCpARHkN5TWUL0C9hvIaymsyQNhQXkN5DTVA8xrKayivN0AO5TWU11A6QCmvobyG8jxARHkN5TWUP0CwobyG8hpBQL2G8hrKa0JAymsor6G8Q0DYUF5DeQ1FQOY1lNdQXkZA8xrKayivR0AAAAAAAABJQA=="
         },
         "y": [
          6.35466720640831E-6,
          0.028472960830541204,
          0.12727123409818314,
          0.26161947377844935,
          0.3949764744866572,
          0.5185163966836216,
          0.623790901723072,
          0.7074315122454258,
          0.7717905804219346,
          0.8254393209626268,
          0.8655842928636683,
          0.8965931007297471,
          0.9205015620087917,
          0.938319721216957,
          0.9530111250463477,
          0.9638984896560048,
          0.9722613537764769,
          0.9786704544106072,
          0.9836086879157689,
          0.9873948327603403
         ],
         "type": "scatter"
        },
        {
         "mode": "lines+markers",
         "name": "gamma_sqrt = 1.0",
         "x": {
          "dtype": "f8",
          "bdata": "AAAAAAAAAADYUF5DeQ0FQNhQXkN5DRVARHkN5TWUH0DYUF5DeQ0lQA7lNZTXUCpARHkN5TWUL0C9hvIaymsyQNhQXkN5DTVA8xrKayivN0AO5TWU11A6QCmvobyG8jxARHkN5TWUP0CwobyG8hpBQL2G8hrKa0JAymsor6G8Q0DYUF5DeQ1FQOY1lNdQXkZA8xrKayivR0AAAAAAAABJQA=="
         },
         "y": [
          8.01950357619764E-6,
          8.206017427750982E-4,
          0.01622575289762009,
          0.06847386976002678,
          0.1562853842354401,
          0.2695524642278724,
          0.38916104333537865,
          0.5004748673244722,
          0.595673571259525,
          0.6813661440112712,
          0.7492528181707379,
          0.8038956527074679,
          0.8473403354481959,
          0.8804624824455642,
          0.9082490081892085,
          0.9291191421327197,
          0.9453112813839761,
          0.9578153506014959,
          0.9675056848015843,
          0.9749687234830913
         ],
         "type": "scatter"
        }
       ],
       "layout": {
        "template": {
         "data": {
          "histogram2dcontour": [
           {
            "type": "histogram2dcontour",
            "colorbar": {
             "outlinewidth": 0,
             "ticks": ""
            },
            "colorscale": [
             [
              0.0,
              "#0d0887"
             ],
             [
              0.1111111111111111,
              "#46039f"
             ],
             [
              0.2222222222222222,
              "#7201a8"
             ],
             [
              0.3333333333333333,
              "#9c179e"
             ],
             [
              0.4444444444444444,
              "#bd3786"
             ],
             [
              0.5555555555555556,
              "#d8576b"
             ],
             [
              0.6666666666666666,
              "#ed7953"
             ],
             [
              0.7777777777777778,
              "#fb9f3a"
             ],
             [
              0.8888888888888888,
              "#fdca26"
             ],
             [
              1.0,
              "#f0f921"
             ]
            ]
           }
          ],
          "choropleth": [
           {
            "type": "choropleth",
            "colorbar": {
             "outlinewidth": 0,
             "ticks": ""
            }
           }
          ],
          "histogram2d": [
           {
            "type": "histogram2d",
            "colorbar": {
             "outlinewidth": 0,
             "ticks": ""
            },
            "colorscale": [
             [
              0.0,
              "#0d0887"
             ],
             [
              0.1111111111111111,
              "#46039f"
             ],
             [
              0.2222222222222222,
              "#7201a8"
             ],
             [
              0.3333333333333333,
              "#9c179e"
             ],
             [
              0.4444444444444444,
              "#bd3786"
             ],
             [
              0.5555555555555556,
              "#d8576b"
             ],
             [
              0.6666666666666666,
              "#ed7953"
             ],
             [
              0.7777777777777778,
              "#fb9f3a"
             ],
             [
              0.8888888888888888,
              "#fdca26"
             ],
             [
              1.0,
              "#f0f921"
             ]
            ]
           }
          ],
          "heatmap": [
           {
            "type": "heatmap",
            "colorbar": {
             "outlinewidth": 0,
             "ticks": ""
            },
            "colorscale": [
             [
              0.0,
              "#0d0887"
             ],
             [
              0.1111111111111111,
              "#46039f"
             ],
             [
              0.2222222222222222,
              "#7201a8"
             ],
             [
              0.3333333333333333,
              "#9c179e"
             ],
             [
              0.4444444444444444,
              "#bd3786"
             ],
             [
              0.5555555555555556,
              "#d8576b"
             ],
             [
              0.6666666666666666,
              "#ed7953"
             ],
             [
              0.7777777777777778,
              "#fb9f3a"
             ],
             [
              0.8888888888888888,
              "#fdca26"
             ],
             [
              1.0,
              "#f0f921"
             ]
            ]
           }
          ],
          "contourcarpet": [
           {
            "type": "contourcarpet",
            "colorbar": {
             "outlinewidth": 0,
             "ticks": ""
            }
           }
          ],
          "contour": [
           {
            "type": "contour",
            "colorbar": {
             "outlinewidth": 0,
             "ticks": ""
            },
            "colorscale": [
             [
              0.0,
              "#0d0887"
             ],
             [
              0.1111111111111111,
              "#46039f"
             ],
             [
              0.2222222222222222,
              "#7201a8"
             ],
             [
              0.3333333333333333,
              "#9c179e"
             ],
             [
              0.4444444444444444,
              "#bd3786"
             ],
             [
              0.5555555555555556,
              "#d8576b"
             ],
             [
              0.6666666666666666,
              "#ed7953"
             ],
             [
              0.7777777777777778,
              "#fb9f3a"
             ],
             [
              0.8888888888888888,
              "#fdca26"
             ],
             [
              1.0,
              "#f0f921"
             ]
            ]
           }
          ],
          "surface": [
           {
            "type": "surface",
            "colorbar": {
             "outlinewidth": 0,
             "ticks": ""
            },
            "colorscale": [
             [
              0.0,
              "#0d0887"
             ],
             [
              0.1111111111111111,
              "#46039f"
             ],
             [
              0.2222222222222222,
              "#7201a8"
             ],
             [
              0.3333333333333333,
              "#9c179e"
             ],
             [
              0.4444444444444444,
              "#bd3786"
             ],
             [
              0.5555555555555556,
              "#d8576b"
             ],
             [
              0.6666666666666666,
              "#ed7953"
             ],
             [
              0.7777777777777778,
              "#fb9f3a"
             ],
             [
              0.8888888888888888,
              "#fdca26"
             ],
             [
              1.0,
              "#f0f921"
             ]
            ]
           }
          ],
          "mesh3d": [
           {
            "type": "mesh3d",
            "colorbar": {
             "outlinewidth": 0,
             "ticks": ""
            }
           }
          ],
          "scatter": [
           {
            "fillpattern": {
             "fillmode": "overlay",
             "size": 10,
             "solidity": 0.2
            },
            "type": "scatter"
           }
          ],
          "parcoords": [
           {
            "type": "parcoords",
            "line": {
             "colorbar": {
              "outlinewidth": 0,
              "ticks": ""
             }
            }
           }
          ],
          "scatterpolargl": [
           {
            "type": "scatterpolargl",
            "marker": {
             "colorbar": {
              "outlinewidth": 0,
              "ticks": ""
             }
            }
           }
          ],
          "bar": [
           {
            "error_x": {
             "color": "#2a3f5f"
            },
            "error_y": {
             "color": "#2a3f5f"
            },
            "marker": {
             "line": {
              "color": "#E5ECF6",
              "width": 0.5
             },
             "pattern": {
              "fillmode": "overlay",
              "size": 10,
              "solidity": 0.2
             }
            },
            "type": "bar"
           }
          ],
          "scattergeo": [
           {
            "type": "scattergeo",
            "marker": {
             "colorbar": {
              "outlinewidth": 0,
              "ticks": ""
             }
            }
           }
          ],
          "scatterpolar": [
           {
            "type": "scatterpolar",
            "marker": {
             "colorbar": {
              "outlinewidth": 0,
              "ticks": ""
             }
            }
           }
          ],
          "histogram": [
           {
            "marker": {
             "pattern": {
              "fillmode": "overlay",
              "size": 10,
              "solidity": 0.2
             }
            },
            "type": "histogram"
           }
          ],
          "scattergl": [
           {
            "type": "scattergl",
            "marker": {
             "colorbar": {
              "outlinewidth": 0,
              "ticks": ""
             }
            }
           }
          ],
          "scatter3d": [
           {
            "type": "scatter3d",
            "line": {
             "colorbar": {
              "outlinewidth": 0,
              "ticks": ""
             }
            },
            "marker": {
             "colorbar": {
              "outlinewidth": 0,
              "ticks": ""
             }
            }
           }
          ],
          "scattermap": [
           {
            "type": "scattermap",
            "marker": {
             "colorbar": {
              "outlinewidth": 0,
              "ticks": ""
             }
            }
           }
          ],
          "scattermapbox": [
           {
            "type": "scattermapbox",
            "marker": {
             "colorbar": {
              "outlinewidth": 0,
              "ticks": ""
             }
            }
           }
          ],
          "scatterternary": [
           {
            "type": "scatterternary",
            "marker": {
             "colorbar": {
              "outlinewidth": 0,
              "ticks": ""
             }
            }
           }
          ],
          "scattercarpet": [
           {
            "type": "scattercarpet",
            "marker": {
             "colorbar": {
              "outlinewidth": 0,
              "ticks": ""
             }
            }
           }
          ],
          "carpet": [
           {
            "aaxis": {
             "endlinecolor": "#2a3f5f",
             "gridcolor": "white",
             "linecolor": "white",
             "minorgridcolor": "white",
             "startlinecolor": "#2a3f5f"
            },
            "baxis": {
             "endlinecolor": "#2a3f5f",
             "gridcolor": "white",
             "linecolor": "white",
             "minorgridcolor": "white",
             "startlinecolor": "#2a3f5f"
            },
            "type": "carpet"
           }
          ],
          "table": [
           {
            "cells": {
             "fill": {
              "color": "#EBF0F8"
             },
             "line": {
              "color": "white"
             }
            },
            "header": {
             "fill": {
              "color": "#C8D4E3"
             },
             "line": {
              "color": "white"
             }
            },
            "type": "table"
           }
          ],
          "barpolar": [
           {
            "marker": {
             "line": {
              "color": "#E5ECF6",
              "width": 0.5
             },
             "pattern": {
              "fillmode": "overlay",
              "size": 10,
              "solidity": 0.2
             }
            },
            "type": "barpolar"
           }
          ],
          "pie": [
           {
            "automargin": true,
            "type": "pie"
           }
          ]
         },
         "layout": {
          "autotypenumbers": "strict",
          "colorway": [
           "#636efa",
           "#EF553B",
           "#00cc96",
           "#ab63fa",
           "#FFA15A",
           "#19d3f3",
           "#FF6692",
           "#B6E880",
           "#FF97FF",
           "#FECB52"
          ],
          "font": {
           "color": "#2a3f5f"
          },
          "hovermode": "closest",
          "hoverlabel": {
           "align": "left"
          },
          "paper_bgcolor": "white",
          "plot_bgcolor": "#E5ECF6",
          "polar": {
           "bgcolor": "#E5ECF6",
           "angularaxis": {
            "gridcolor": "white",
            "linecolor": "white",
            "ticks": ""
           },
           "radialaxis": {
            "gridcolor": "white",
            "linecolor": "white",
            "ticks": ""
           }
          },
          "ternary": {
           "bgcolor": "#E5ECF6",
           "aaxis": {
            "gridcolor": "white",
            "linecolor": "white",
            "ticks": ""
           },
           "baxis": {
            "gridcolor": "white",
            "linecolor": "white",
            "ticks": ""
           },
           "caxis": {
            "gridcolor": "white",
            "linecolor": "white",
            "ticks": ""
           }
          },
          "coloraxis": {
           "colorbar": {
            "outlinewidth": 0,
            "ticks": ""
           }
          },
          "colorscale": {
           "sequential": [
            [
             0.0,
             "#0d0887"
            ],
            [
             0.1111111111111111,
             "#46039f"
            ],
            [
             0.2222222222222222,
             "#7201a8"
            ],
            [
             0.3333333333333333,
             "#9c179e"
            ],
            [
             0.4444444444444444,
             "#bd3786"
            ],
            [
             0.5555555555555556,
             "#d8576b"
            ],
            [
             0.6666666666666666,
             "#ed7953"
            ],
            [
             0.7777777777777778,
             "#fb9f3a"
            ],
            [
             0.8888888888888888,
             "#fdca26"
            ],
            [
             1.0,
             "#f0f921"
            ]
           ],
           "sequentialminus": [
            [
             0.0,
             "#0d0887"
            ],
            [
             0.1111111111111111,
             "#46039f"
            ],
            [
             0.2222222222222222,
             "#7201a8"
            ],
            [
             0.3333333333333333,
             "#9c179e"
            ],
            [
             0.4444444444444444,
             "#bd3786"
            ],
            [
             0.5555555555555556,
             "#d8576b"
            ],
            [
             0.6666666666666666,
             "#ed7953"
            ],
            [
             0.7777777777777778,
             "#fb9f3a"
            ],
            [
             0.8888888888888888,
             "#fdca26"
            ],
            [
             1.0,
             "#f0f921"
            ]
           ],
           "diverging": [
            [
             0,
             "#8e0152"
            ],
            [
             0.1,
             "#c51b7d"
            ],
            [
             0.2,
             "#de77ae"
            ],
            [
             0.3,
             "#f1b6da"
            ],
            [
             0.4,
             "#fde0ef"
            ],
            [
             0.5,
             "#f7f7f7"
            ],
            [
             0.6,
             "#e6f5d0"
            ],
            [
             0.7,
             "#b8e186"
            ],
            [
             0.8,
             "#7fbc41"
            ],
            [
             0.9,
             "#4d9221"
            ],
            [
             1,
             "#276419"
            ]
           ]
          },
          "xaxis": {
           "gridcolor": "white",
           "linecolor": "white",
           "ticks": "",
           "title": {
            "standoff": 15
           },
           "zerolinecolor": "white",
           "automargin": true,
           "zerolinewidth": 2
          },
          "yaxis": {
           "gridcolor": "white",
           "linecolor": "white",
           "ticks": "",
           "title": {
            "standoff": 15
           },
           "zerolinecolor": "white",
           "automargin": true,
           "zerolinewidth": 2
          },
          "scene": {
           "xaxis": {
            "backgroundcolor": "#E5ECF6",
            "gridcolor": "white",
            "linecolor": "white",
            "showbackground": true,
            "ticks": "",
            "zerolinecolor": "white",
            "gridwidth": 2
           },
           "yaxis": {
            "backgroundcolor": "#E5ECF6",
            "gridcolor": "white",
            "linecolor": "white",
            "showbackground": true,
            "ticks": "",
            "zerolinecolor": "white",
            "gridwidth": 2
           },
           "zaxis": {
            "backgroundcolor": "#E5ECF6",
            "gridcolor": "white",
            "linecolor": "white",
            "showbackground": true,
            "ticks": "",
            "zerolinecolor": "white",
            "gridwidth": 2
           }
          },
          "shapedefaults": {
           "line": {
            "color": "#2a3f5f"
           }
          },
          "annotationdefaults": {
           "arrowcolor": "#2a3f5f",
           "arrowhead": 0,
           "arrowwidth": 1
          },
          "geo": {
           "bgcolor": "white",
           "landcolor": "#E5ECF6",
           "subunitcolor": "white",
           "showland": true,
           "showlakes": true,
           "lakecolor": "white"
          },
          "title": {
           "x": 0.05
          },
          "mapbox": {
           "style": "light"
          }
         }
        },
        "title": {
         "text": "Final Fidelity vs Energy Gap for Different gamma_sqrt Values"
        },
        "xaxis": {
         "title": {
          "text": "Energy Gap ($E_P$)"
         }
        },
        "yaxis": {
         "title": {
          "text": "Final Fidelity of $|1_L\\rangle$"
         }
        },
        "legend": {
         "title": {
          "text": "gamma_sqrt Values"
         }
        }
       },
       "config": {
        "plotlyServerURL": "https://plot.ly"
       }
      }
     },
     "metadata": {},
     "output_type": "display_data"
    }
   ],
   "execution_count": 55
  }
 ],
 "metadata": {
  "kernelspec": {
   "display_name": "Python 3 (ipykernel)",
   "language": "python",
   "name": "python3"
  },
  "language_info": {
   "codemirror_mode": {
    "name": "ipython",
    "version": 3
   },
   "file_extension": ".py",
   "mimetype": "text/x-python",
   "name": "python",
   "nbconvert_exporter": "python",
   "pygments_lexer": "ipython3",
   "version": "3.11.2"
  }
 },
 "nbformat": 4,
 "nbformat_minor": 5
}
