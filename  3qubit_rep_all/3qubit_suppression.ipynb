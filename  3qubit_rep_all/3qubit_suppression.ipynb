{
 "cells": [
  {
   "cell_type": "code",
   "execution_count": 1,
   "id": "initial_id",
   "metadata": {
    "ExecuteTime": {
     "end_time": "2025-07-30T12:21:28.939526Z",
     "start_time": "2025-07-30T12:21:28.936834Z"
    }
   },
   "outputs": [],
   "source": [
    "import numpy as np\n",
    "import matplotlib.pyplot as plt\n",
    "from qutip import *"
   ]
  },
  {
   "cell_type": "code",
   "execution_count": 2,
   "id": "3f9204af",
   "metadata": {
    "ExecuteTime": {
     "end_time": "2025-07-30T12:21:28.968615Z",
     "start_time": "2025-07-30T12:21:28.964936Z"
    }
   },
   "outputs": [],
   "source": [
    "def print_quantum_state_as_superposition(state):\n",
    "    \"\"\"\n",
    "    Helper function to print quantum state as superposition of basis functions\n",
    "    \"\"\"\n",
    "    state = state.unit()\n",
    "    dimension = int(np.log2(state.shape[0]))\n",
    "    state_vector = state.full().flatten()\n",
    "    basis_states = ['0', '1']\n",
    "    \n",
    "    superposition = []\n",
    "    for i, amplitude in enumerate(state_vector):\n",
    "        abs_amplitude = np.abs(amplitude)\n",
    "\n",
    "        if round(abs_amplitude, 2) > 0:\n",
    "            sign = '-' if amplitude.real < 0 else '+'\n",
    "            binary_state = ''.join(basis_states[int(bit)] for bit in f\"{i:0{dimension}b}\")\n",
    "            superposition.append(f\"{sign} {abs_amplitude:.2f}|{binary_state}⟩\")\n",
    "\n",
    "    # Removing the first sign\n",
    "    if superposition and superposition[0][0] == '+':\n",
    "        superposition[0] = superposition[0][2:]\n",
    "\n",
    "    superposition_str = ' '.join(superposition).replace('+-', '- ')\n",
    "    \n",
    "    print(f\"|ψ⟩ = {superposition_str}\")"
   ]
  },
  {
   "cell_type": "code",
   "execution_count": 3,
   "id": "4f695a4237c68e81",
   "metadata": {
    "ExecuteTime": {
     "end_time": "2025-07-30T12:21:28.999910Z",
     "start_time": "2025-07-30T12:21:28.996415Z"
    }
   },
   "outputs": [],
   "source": [
    "X = sigmax()\n",
    "Z = sigmaz()\n",
    "Y = sigmay()\n",
    "I = qeye(2)\n",
    "\n",
    "s1 = tensor(Z, Z, I)\n",
    "s2 = tensor(I, Z, Z)\n",
    "S = [s1, s2]\n",
    "X_L = tensor(X, X, X)\n",
    "Z_L = (tensor(Z, I, I) + tensor(I, Z, I) + tensor(I, I, Z)) / 3\n",
    "logical_zero = tensor(basis(2, 0), basis(2, 0), basis(2, 0))\n",
    "logical_one = X_L * logical_zero\n",
    "initial_state = logical_zero\n",
    "n_qubits = 3"
   ]
  },
  {
   "cell_type": "code",
   "execution_count": null,
   "id": "9054bef1",
   "metadata": {
    "ExecuteTime": {
     "end_time": "2025-07-30T12:22:03.514950Z",
     "start_time": "2025-07-30T12:22:03.447469Z"
    }
   },
   "outputs": [
    {
     "data": {
      "text/plain": [
       "[<matplotlib.lines.Line2D at 0x142b03350>]"
      ]
     },
     "execution_count": 4,
     "metadata": {},
     "output_type": "execute_result"
    },
    {
     "data": {
      "image/png": "[encoded data removed]",
      "text/plain": [
       "<Figure size 640x480 with 1 Axes>"
      ]
     },
     "metadata": {},
     "output_type": "display_data"
    }
   ],
   "source": [
    "T_max = 10\n",
    "times = np.linspace(0, T_max, 500)\n",
    "sigma = 1\n",
    "omega_max = 10\n",
    "# omega_t = lambda t: omega_max * np.exp(-0.5 * ((t - T_max/2) / sigma) ** 2)\n",
    "# delta_t = lambda t: 2*omega_max*(t / (T_max/2) - 1)\n",
    "omega_t = lambda t: omega_max * np.sin(np.pi*t/T_max)\n",
    "delta_t = lambda t: -omega_max * np.cos(np.pi*t/T_max)\n",
    "\n",
    "plt.plot(times, omega_t(times))\n",
    "plt.plot(times, delta_t(times))"
   ]
  },
  {
   "cell_type": "code",
   "execution_count": 5,
   "id": "44b942c2",
   "metadata": {
    "ExecuteTime": {
     "end_time": "2025-07-30T12:22:09.154316Z",
     "start_time": "2025-07-30T12:22:09.148022Z"
    }
   },
   "outputs": [],
   "source": [
    "def H(t):\n",
    "    \"\"\"\n",
    "    Rapid Adiabatic Hamiltonian\n",
    "    \"\"\"\n",
    "    return  X_L * omega_t(t) + Z_L * delta_t(t)\n",
    "\n",
    "def H_error_gaussian(t, error_time, strength):\n",
    "    \"\"\"\n",
    "    Error Hamiltonian localized at a specific time (e.g., bit-flip on the first qubit).\n",
    "    \"\"\"\n",
    "    error_width = 0.5\n",
    "    f_t = strength * np.exp(-((t - error_time) ** 2) / (2 * error_width ** 2))\n",
    "    return f_t * tensor(X, I, I, I)\n",
    "\n",
    "def H_error(t, error_time, strength, duration=2):\n",
    "    if error_time <= t < error_time + duration:\n",
    "        # ramp_strength = strength * (t - error_time) / duration\n",
    "        bit_flip_1 = tensor(X, I, I)\n",
    "        bit_flip_2 = tensor(I, X, I)\n",
    "        bit_flip_3 = tensor(I, I, X)\n",
    "        return strength * bit_flip_1\n",
    "    else:\n",
    "        # Identity when error is not active\n",
    "        return tensor(I, I, I)\n",
    "\n",
    "def H_supp(t, stabs=S):\n",
    "    H_supp_stab = sum(stabs)\n",
    "    return H_supp_stab\n",
    "    \n",
    "def H_total(t, error_time, error_strength, duration, Ep):\n",
    "    \"\"\"\n",
    "    Total Hamiltonian including AQC evolution and error simulation.\n",
    "    \"\"\"\n",
    "    H_n = H(t) + Ep * H_supp(t) + H_error(t, error_time, error_strength, duration)\n",
    "    return H_n\n"
   ]
  },
  {
   "cell_type": "code",
   "execution_count": 6,
   "id": "d225feb7",
   "metadata": {
    "ExecuteTime": {
     "end_time": "2025-07-30T12:21:29.122972Z",
     "start_time": "2025-07-30T12:21:29.120915Z"
    }
   },
   "outputs": [],
   "source": [
    "# Ep = -200\n",
    "# error_time = 6\n",
    "# duration = T_max - error_time\n",
    "# error_strength = 50"
   ]
  },
  {
   "cell_type": "code",
   "execution_count": 7,
   "id": "19930223",
   "metadata": {},
   "outputs": [],
   "source": [
    "# # Simulate evolution\n",
    "# e_ops = [logical_zero*logical_zero.dag(), logical_one*logical_one.dag()]\n",
    "#\n",
    "# result = sesolve(lambda t: H_total(t, error_time, error_strength, duration, Ep),\n",
    "#                  logical_zero, times, e_ops=e_ops,\n",
    "#                  options={'nsteps': 1e5})\n",
    "#\n",
    "# plt.figure(figsize=(8, 6))\n",
    "# plt.plot(times, result.expect[0], label=r\"$|0_L\\rangle$ Population\", color='red')\n",
    "# plt.plot(times, result.expect[1], label=r\"$|1_L\\rangle$ Population\", color='blue')\n",
    "# # Add vertical lines for the start and end of the error\n",
    "# plt.axvline(error_time, color='black', linestyle='--', label=\"Error Start\")\n",
    "# plt.axvline(error_time + duration, color='black', linestyle='--', label=\"Error End\")\n",
    "#\n",
    "# # Shade the area between the lines\n",
    "# plt.fill_betweenx(\n",
    "#     [0, 1],  # Adjust y-limits based on your data range\n",
    "#     error_time,\n",
    "#     error_time + duration,\n",
    "#     color='gray',\n",
    "#     alpha=0.3,\n",
    "#     label=\"Error Region\"\n",
    "# )\n",
    "#\n",
    "# plt.xlabel(\"Time (t)\")\n",
    "# plt.ylabel(\"Population\")\n",
    "# plt.title(\"Logical State Populations with Bit-Flip Error\")\n",
    "# plt.legend()\n",
    "# plt.grid()\n",
    "# plt.show()"
   ]
  },
  {
   "cell_type": "code",
   "execution_count": 8,
   "id": "b5969e03d19a51ca",
   "metadata": {
    "ExecuteTime": {
     "end_time": "2025-07-30T12:32:45.554658Z",
     "start_time": "2025-07-30T12:32:45.505248Z"
    }
   },
   "outputs": [
    {
     "data": {
      "application/vnd.plotly.v1+json": {
       "config": {
        "plotlyServerURL": "https://plot.ly"
       },
       "data": [
        {
         "line": {
          "color": "red",
          "width": 2
         },
         "mode": "lines",
         "name": "Eigenstate 1",
         "type": "scatter",
         "x": {
          "bdata": "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",
          "dtype": "f8"
         },
         "y": [
          -120,
          -119.99970272567126,
          -119.99881092330568,
          -119.99732465476703,
          -119.99524402316712,
          -119.99256917287491,
          -119.98930028952788,
          -119.98543760004841,
          -119.98098137266192,
          -119.97593191691999,
          -119.97028958372616,
          -119.96405476536535,
          -119.95722789553716,
          -119.94980944939206,
          -119.94179994357202,
          -119.93319993625408,
          -119.92401002719777,
          -119.91423085779645,
          -119.90386311113177,
          -119.89290751203245,
          -119.8813648271366,
          -119.86923586495762,
          -119.85652147595465,
          -119.843222552606,
          -119.82934002948716,
          -119.81487488335284,
          -119.79982813322277,
          -119.78420084047158,
          -119.7679941089232,
          -119.75120908494907,
          -119.73384695757107,
          -119.71590895856853,
          -119.69739636258984,
          -119.67831048726825,
          -119.65865269334245,
          -119.63842438478207,
          -119.61762700891745,
          -119.59626205657469,
          -119.57433106221475,
          -119.55183560407872,
          -119.52877730433741,
          -119.50515782924614,
          -119.48097888930516,
          -119.456242239425,
          -119.43094967909772,
          -119.40510305257351,
          -119.37870424904295,
          -119.35175520282533,
          -119.32425789356267,
          -119.29621434641953,
          -119.26762663228988,
          -119.23849686800918,
          -119.20882721657387,
          -119.17861988736652,
          -119.1478771363882,
          -119.11660126649804,
          -119.08479462765857,
          -119.05245961718978,
          -119.01959868002893,
          -118.98621430899902,
          -118.95230904508406,
          -118.91788547771264,
          -118.88294624504897,
          -118.84749403429225,
          -118.81153158198461,
          -118.77506167432679,
          -118.73808714750314,
          -118.70061088801492,
          -118.66263583302317,
          -118.6241649707004,
          -118.58520134059157,
          -118.54574803398495,
          -118.50580819429285,
          -118.4653850174422,
          -118.42448175227509,
          -118.38310170096076,
          -118.34124821941671,
          -118.29892471774241,
          -118.25613466066255,
          -118.21288156798298,
          -118.16916901505752,
          -118.12500063326658,
          -118.08038011050826,
          -118.03531119170118,
          -117.98979767930095,
          -117.94384343382785,
          -117.89745237440923,
          -117.85062847933415,
          -117.80337578662207,
          -117.75569839460526,
          -117.70760046252545,
          -117.65908621114465,
          -117.61015992337066,
          -117.56082594489796,
          -117.511088684863,
          -117.46095261651551,
          -117.41042227790538,
          -117.35950227258542,
          -117.30819727033057,
          -117.2565120078734,
          -117.20445128965659,
          -117.1520199886023,
          -117.09922304689903,
          -117.04606547680568,
          -116.99255236147383,
          -116.93868885578769,
          -116.88448018722258,
          -116.82993165672174,
          -116.77504863959189,
          -116.7198365864178,
          -116.66430102399582,
          -116.60844755628692,
          -116.55228186538892,
          -116.49580971252868,
          -116.43903693907382,
          -116.38196946756435,
          -116.32461330276446,
          -116.26697453273428,
          -116.20905932992162,
          -116.15087395227421,
          -116.09242474437178,
          -116.03371813857846,
          -115.97476065621528,
          -115.91555890875242,
          -115.8561195990217,
          -115.79644952244834,
          -115.7365555683024,
          -115.67644472096953,
          -115.61612406124014,
          -115.5556007676177,
          -115.49488211764456,
          -115.43397548924573,
          -115.37288836208943,
          -115.31162831896424,
          -115.2502030471718,
          -115.18862033993453,
          -115.12688809781724,
          -115.06501433016199,
          -115.00300715653479,
          -114.94087480818332,
          -114.87862562950411,
          -114.81626807951793,
          -114.75381073335193,
          -114.69126228372679,
          -114.62863154244717,
          -114.56592744189345,
          -114.50315903651287,
          -114.44033550430771,
          -114.37746614831806,
          -114.31456039809683,
          -114.25162781117405,
          -114.1886780745075,
          -114.12572100591676,
          -114.06276655549706,
          -113.99982480700942,
          -113.93690597924335,
          -113.874020427348,
          -113.81117864412742,
          -113.74839126129545,
          -113.68566905068536,
          -113.6230229254091,
          -113.5604639409609,
          -113.49800329625933,
          -113.43565233462192,
          -113.37342254466617,
          -113.31132556112999,
          -113.24937316560488,
          -113.18757728717445,
          -113.12595000295059,
          -113.06450353849932,
          -113.00325026814814,
          -112.94220271516578,
          -112.88137355180571,
          -112.82077559920376,
          -112.76042182712015,
          -112.70032535351568,
          -112.64049944395184,
          -112.5809575108038,
          -112.52171311227522,
          -112.4627799512035,
          -112.40417187364339,
          -112.3459028672175,
          -112.28798705922065,
          -112.23043871446615,
          -112.17327223286091,
          -112.11650214669639,
          -112.06014311764282,
          -112.00420993343275,
          -111.94871750422135,
          -111.8936808586101,
          -111.83911513932038,
          -111.78503559850449,
          -111.73145759268071,
          -111.67839657728024,
          -111.62586810079344,
          -111.57388779850382,
          -111.52247138579823,
          -111.47163465104262,
          -111.42139344801343,
          -111.37176368787524,
          -111.32276133069642,
          -111.2744023764956,
          -111.22670285581262,
          -111.17967881979928,
          -111.13334632982622,
          -111.08772144660401,
          -111.04282021881797,
          -110.99865867127822,
          -110.95525279258813,
          -110.9126185223363,
          -110.87077173781967,
          -110.82972824030689,
          -110.78950374085427,
          -110.7501138456883,
          -110.71157404117179,
          -110.67389967837252,
          -110.63710595725719,
          -110.60120791053473,
          -110.56622038717666,
          -110.53215803564493,
          -110.49903528685968,
          -110.46686633694316,
          -110.4356651297775,
          -110.40544533941811,
          -110.3762203524051,
          -110.34800325001966,
          -110.32080679053259,
          -110.29464339149581,
          -110.2695251121285,
          -110.24546363585193,
          -110.22247025302782,
          -110.20055584395712,
          -110.17973086219567,
          -110.16000531824537,
          -110.14138876367822,
          -110.12389027575166,
          -110.10751844257227,
          -110.09228134886501,
          -110.07818656240289,
          -110.06524112115157,
          -110.05345152118045,
          -110.04282370539005,
          -110.03336305310283,
          -110.02507437056111,
          -110.01796188237316,
          -110.0120292239439,
          -110.00727943492376,
          -110.00371495370418,
          -110.00133761298419,
          -110.00014863642795,
          -89.99985136357205,
          -89.9986623870158,
          -89.99628504629581,
          -89.99272056507623,
          -89.9879707760561,
          -89.98203811762683,
          -89.97492562943887,
          -89.96663694689715,
          -89.95717629460995,
          -89.94654847881955,
          -89.93475887884843,
          -89.9218134375971,
          -89.90771865113497,
          -89.89248155742769,
          -89.87610972424832,
          -89.85861123632176,
          -89.83999468175462,
          -89.8202691378043,
          -89.79944415604287,
          -89.77752974697216,
          -89.75453636414807,
          -89.73047488787148,
          -89.70535660850418,
          -89.6791932094674,
          -89.65199674998033,
          -89.62377964759489,
          -89.59455466058188,
          -89.56433487022248,
          -89.53313366305684,
          -89.5009647131403,
          -89.46784196435507,
          -89.43377961282334,
          -89.39879208946527,
          -89.3628940427428,
          -89.32610032162746,
          -89.2884259588282,
          -89.24988615431168,
          -89.21049625914573,
          -89.17027175969311,
          -89.12922826218032,
          -89.08738147766368,
          -89.04474720741187,
          -89.00134132872178,
          -88.95717978118202,
          -88.91227855339598,
          -88.86665367017376,
          -88.82032118020071,
          -88.77329714418737,
          -88.7255976235044,
          -88.67723866930356,
          -88.62823631212476,
          -88.57860655198655,
          -88.52836534895738,
          -88.47752861420179,
          -88.42611220149618,
          -88.37413189920656,
          -88.32160342271975,
          -88.26854240731929,
          -88.21496440149551,
          -88.16088486067962,
          -88.1063191413899,
          -88.05128249577864,
          -87.99579006656725,
          -87.93985688235718,
          -87.8834978533036,
          -87.82672776713909,
          -87.76956128553384,
          -87.71201294077933,
          -87.6540971327825,
          -87.5958281263566,
          -87.5372200487965,
          -87.47828688772476,
          -87.41904248919619,
          -87.35950055604816,
          -87.2996746464843,
          -87.23957817287985,
          -87.17922440079623,
          -87.11862644819428,
          -87.05779728483422,
          -86.99674973185186,
          -86.93549646150068,
          -86.87404999704943,
          -86.81242271282555,
          -86.75062683439512,
          -86.68867443887001,
          -86.62657745533383,
          -86.56434766537807,
          -86.50199670374067,
          -86.43953605903909,
          -86.3769770745909,
          -86.31433094931464,
          -86.25160873870453,
          -86.18882135587258,
          -86.125979572652,
          -86.06309402075664,
          -86.00017519299057,
          -85.93723344450294,
          -85.87427899408324,
          -85.8113219254925,
          -85.74837218882595,
          -85.68543960190316,
          -85.62253385168192,
          -85.55966449569229,
          -85.49684096348712,
          -85.43407255810654,
          -85.37136845755282,
          -85.3087377162732,
          -85.24618926664807,
          -85.18373192048207,
          -85.12137437049589,
          -85.05912519181666,
          -84.99699284346521,
          -84.934985669838,
          -84.87311190218274,
          -84.81137966006546,
          -84.74979695282819,
          -84.68837168103576,
          -84.62711163791056,
          -84.56602451075426,
          -84.50511788235542,
          -84.4443992323823,
          -84.38387593875984,
          -84.32355527903049,
          -84.26344443169758,
          -84.20355047755166,
          -84.14388040097829,
          -84.08444109124757,
          -84.02523934378473,
          -83.96628186142152,
          -83.90757525562822,
          -83.84912604772579,
          -83.79094067007837,
          -83.7330254672657,
          -83.67538669723552,
          -83.61803053243565,
          -83.56096306092618,
          -83.50419028747132,
          -83.44771813461107,
          -83.39155244371307,
          -83.33569897600417,
          -83.2801634135822,
          -83.2249513604081,
          -83.17006834327826,
          -83.1155198127774,
          -83.0613111442123,
          -83.00744763852617,
          -82.95393452319432,
          -82.90077695310097,
          -82.8479800113977,
          -82.79554871034343,
          -82.7434879921266,
          -82.69180272966943,
          -82.64049772741457,
          -82.58957772209462,
          -82.53904738348447,
          -82.48891131513699,
          -82.43917405510203,
          -82.38984007662938,
          -82.34091378885542,
          -82.29239953747454,
          -82.24430160539474,
          -82.196624213378,
          -82.14937152066592,
          -82.10254762559087,
          -82.0561565661722,
          -82.01020232069914,
          -81.96468880829885,
          -81.91961988949183,
          -81.87499936673345,
          -81.83083098494248,
          -81.78711843201702,
          -81.74386533933753,
          -81.7010752822577,
          -81.65875178058329,
          -81.6168982990393,
          -81.57551824772491,
          -81.53461498255793,
          -81.49419180570722,
          -81.4542519660151,
          -81.41479865940852,
          -81.3758350292996,
          -81.33736416697681,
          -81.29938911198516,
          -81.26191285249695,
          -81.22493832567321,
          -81.18846841801538,
          -81.15250596570775,
          -81.11705375495112,
          -81.08211452228744,
          -81.04769095491602,
          -81.01378569100106,
          -80.98040131997111,
          -80.9475403828103,
          -80.91520537234143,
          -80.88339873350203,
          -80.8521228636118,
          -80.82138011263356,
          -80.79117278342613,
          -80.7615031319908,
          -80.73237336771021,
          -80.70378565358055,
          -80.67574210643743,
          -80.6482447971747,
          -80.62129575095705,
          -80.59489694742658,
          -80.56905032090236,
          -80.5437577605751,
          -80.51902111069495,
          -80.49484217075394,
          -80.4712226956627,
          -80.44816439592138,
          -80.42566893778536,
          -80.40373794342541,
          -80.38237299108253,
          -80.36157561521803,
          -80.34134730665764,
          -80.32168951273185,
          -80.30260363741016,
          -80.2840910414315,
          -80.26615304242902,
          -80.24879091505105,
          -80.23200589107691,
          -80.21579915952842,
          -80.20017186677723,
          -80.18512511664716,
          -80.17065997051293,
          -80.15677744739412,
          -80.14347852404542,
          -80.13076413504238,
          -80.11863517286348,
          -80.10709248796755,
          -80.09613688886822,
          -80.08576914220353,
          -80.07598997280222,
          -80.066800063746,
          -80.05820005642806,
          -80.05019055060804,
          -80.04277210446294,
          -80.03594523463464,
          -80.02971041627389,
          -80.02406808308008,
          -80.01901862733818,
          -80.01456239995167,
          -80.01069971047211,
          -80.00743082712516,
          -80.00475597683288,
          -80.00267534523307,
          -80.00118907669432,
          -80.00029727432874,
          -80
         ]
        },
        {
         "line": {
          "color": "blue",
          "width": 2
         },
         "mode": "lines",
         "name": "Eigenstate 2",
         "type": "scatter",
         "x": {
          "bdata": "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",
          "dtype": "f8"
         },
         "y": [
          -80,
          -80.00029727432874,
          -80.00118907669432,
          -80.00267534523304,
          -80.00475597683288,
          -80.00743082712508,
          -80.01069971047211,
          -80.0145623999516,
          -80.01901862733811,
          -80.02406808308002,
          -80.02971041627382,
          -80.03594523463464,
          -80.04277210446286,
          -80.05019055060794,
          -80.05820005642806,
          -80.06680006374593,
          -80.07598997280222,
          -80.08576914220353,
          -80.09613688886822,
          -80.10709248796755,
          -80.11863517286346,
          -80.13076413504238,
          -80.14347852404535,
          -80.15677744739412,
          -80.17065997051292,
          -80.18512511664716,
          -80.20017186677723,
          -80.21579915952842,
          -80.23200589107688,
          -80.248790915051,
          -80.26615304242897,
          -80.28409104143145,
          -80.30260363741014,
          -80.32168951273178,
          -80.3413473066576,
          -80.36157561521802,
          -80.38237299108253,
          -80.40373794342534,
          -80.42566893778535,
          -80.4481643959213,
          -80.4712226956627,
          -80.49484217075387,
          -80.51902111069492,
          -80.5437577605751,
          -80.56905032090233,
          -80.59489694742655,
          -80.62129575095702,
          -80.64824479717466,
          -80.6757421064374,
          -80.70378565358057,
          -80.73237336771015,
          -80.7615031319908,
          -80.79117278342613,
          -80.8213801126335,
          -80.8521228636118,
          -80.88339873350198,
          -80.91520537234143,
          -80.94754038281025,
          -80.98040131997107,
          -81.01378569100109,
          -81.04769095491602,
          -81.08211452228737,
          -81.11705375495113,
          -81.15250596570775,
          -81.18846841801538,
          -81.22493832567321,
          -81.26191285249689,
          -81.29938911198516,
          -81.33736416697681,
          -81.3758350292996,
          -81.41479865940849,
          -81.45425196601504,
          -81.49419180570713,
          -81.5346149825579,
          -81.57551824772491,
          -81.61689829903926,
          -81.65875178058327,
          -81.70107528225769,
          -81.74386533933752,
          -81.78711843201702,
          -81.83083098494248,
          -81.87499936673339,
          -81.9196198894918,
          -81.9646888082988,
          -82.01020232069914,
          -82.0561565661722,
          -82.1025476255908,
          -82.14937152066585,
          -82.196624213378,
          -82.24430160539474,
          -82.29239953747454,
          -82.3409137888554,
          -82.38984007662933,
          -82.43917405510203,
          -82.48891131513699,
          -82.53904738348449,
          -82.5895777220946,
          -82.64049772741456,
          -82.69180272966943,
          -82.74348799212659,
          -82.79554871034341,
          -82.8479800113977,
          -82.90077695310096,
          -82.95393452319429,
          -83.00744763852617,
          -83.06131114421231,
          -83.1155198127774,
          -83.17006834327823,
          -83.22495136040811,
          -83.28016341358222,
          -83.33569897600414,
          -83.39155244371305,
          -83.44771813461108,
          -83.5041902874713,
          -83.56096306092618,
          -83.61803053243564,
          -83.67538669723552,
          -83.7330254672657,
          -83.79094067007836,
          -83.84912604772578,
          -83.90757525562822,
          -83.9662818614215,
          -84.02523934378472,
          -84.08444109124756,
          -84.1438804009783,
          -84.20355047755164,
          -84.26344443169758,
          -84.32355527903044,
          -84.38387593875983,
          -84.4443992323823,
          -84.50511788235542,
          -84.56602451075426,
          -84.62711163791055,
          -84.68837168103578,
          -84.74979695282819,
          -84.81137966006546,
          -84.87311190218271,
          -84.93498566983799,
          -84.99699284346518,
          -85.05912519181666,
          -85.12137437049587,
          -85.18373192048205,
          -85.24618926664806,
          -85.30873771627321,
          -85.3713684575528,
          -85.43407255810651,
          -85.49684096348709,
          -85.55966449569227,
          -85.62253385168192,
          -85.68543960190314,
          -85.74837218882594,
          -85.8113219254925,
          -85.87427899408324,
          -85.93723344450292,
          -86.00017519299057,
          -86.06309402075664,
          -86.12597957265199,
          -86.18882135587256,
          -86.25160873870455,
          -86.31433094931461,
          -86.3769770745909,
          -86.43953605903907,
          -86.50199670374067,
          -86.56434766537807,
          -86.62657745533382,
          -86.68867443887001,
          -86.7506268343951,
          -86.81242271282555,
          -86.87404999704941,
          -86.93549646150068,
          -86.99674973185185,
          -87.05779728483421,
          -87.11862644819429,
          -87.17922440079622,
          -87.23957817287983,
          -87.2996746464843,
          -87.35950055604815,
          -87.41904248919617,
          -87.47828688772478,
          -87.53722004879651,
          -87.59582812635661,
          -87.65409713278248,
          -87.71201294077933,
          -87.76956128553381,
          -87.82672776713909,
          -87.88349785330361,
          -87.93985688235718,
          -87.99579006656727,
          -88.05128249577864,
          -88.10631914138989,
          -88.16088486067962,
          -88.21496440149548,
          -88.26854240731929,
          -88.32160342271976,
          -88.37413189920655,
          -88.42611220149618,
          -88.47752861420179,
          -88.52836534895738,
          -88.57860655198658,
          -88.62823631212476,
          -88.67723866930356,
          -88.72559762350438,
          -88.77329714418738,
          -88.82032118020071,
          -88.86665367017376,
          -88.91227855339596,
          -88.957179781182,
          -89.00134132872178,
          -89.04474720741187,
          -89.08738147766368,
          -89.1292282621803,
          -89.17027175969311,
          -89.21049625914574,
          -89.24988615431167,
          -89.2884259588282,
          -89.32610032162746,
          -89.36289404274281,
          -89.39879208946527,
          -89.43377961282333,
          -89.46784196435507,
          -89.5009647131403,
          -89.53313366305684,
          -89.56433487022248,
          -89.59455466058188,
          -89.62377964759486,
          -89.65199674998033,
          -89.67919320946739,
          -89.70535660850419,
          -89.73047488787148,
          -89.75453636414807,
          -89.77752974697215,
          -89.79944415604288,
          -89.82026913780432,
          -89.83999468175462,
          -89.85861123632175,
          -89.87610972424832,
          -89.89248155742769,
          -89.90771865113497,
          -89.9218134375971,
          -89.93475887884841,
          -89.94654847881955,
          -89.95717629460995,
          -89.96663694689718,
          -89.97492562943887,
          -89.98203811762683,
          -89.98797077605609,
          -89.99272056507624,
          -89.99628504629581,
          -89.9986623870158,
          -89.99985136357205,
          -110.00014863642795,
          -110.00133761298419,
          -110.00371495370418,
          -110.00727943492375,
          -110.0120292239439,
          -110.01796188237316,
          -110.02507437056111,
          -110.03336305310282,
          -110.04282370539005,
          -110.05345152118045,
          -110.06524112115157,
          -110.07818656240289,
          -110.092281348865,
          -110.10751844257227,
          -110.12389027575166,
          -110.14138876367824,
          -110.16000531824537,
          -110.17973086219567,
          -110.2005558439571,
          -110.22247025302784,
          -110.24546363585192,
          -110.26952511212849,
          -110.2946433914958,
          -110.32080679053259,
          -110.34800325001966,
          -110.37622035240508,
          -110.4054453394181,
          -110.4356651297775,
          -110.46686633694314,
          -110.49903528685968,
          -110.53215803564491,
          -110.56622038717664,
          -110.6012079105347,
          -110.63710595725718,
          -110.6738996783725,
          -110.71157404117179,
          -110.75011384568833,
          -110.78950374085424,
          -110.82972824030686,
          -110.87077173781967,
          -110.9126185223363,
          -110.95525279258813,
          -110.9986586712782,
          -111.04282021881798,
          -111.08772144660402,
          -111.13334632982622,
          -111.17967881979928,
          -111.22670285581259,
          -111.27440237649559,
          -111.32276133069641,
          -111.37176368787524,
          -111.42139344801342,
          -111.47163465104259,
          -111.52247138579821,
          -111.57388779850382,
          -111.62586810079344,
          -111.6783965772802,
          -111.7314575926807,
          -111.78503559850446,
          -111.83911513932037,
          -111.89368085861007,
          -111.94871750422134,
          -112.00420993343272,
          -112.06014311764281,
          -112.11650214669638,
          -112.17327223286087,
          -112.23043871446613,
          -112.28798705922064,
          -112.34590286721748,
          -112.40417187364336,
          -112.46277995120349,
          -112.5217131122752,
          -112.58095751080378,
          -112.64049944395182,
          -112.70032535351567,
          -112.76042182712015,
          -112.82077559920376,
          -112.8813735518057,
          -112.94220271516576,
          -113.00325026814814,
          -113.06450353849931,
          -113.12595000295055,
          -113.18757728717442,
          -113.24937316560488,
          -113.31132556112996,
          -113.37342254466614,
          -113.4356523346219,
          -113.4980032962593,
          -113.56046394096089,
          -113.6230229254091,
          -113.68566905068535,
          -113.74839126129544,
          -113.81117864412741,
          -113.874020427348,
          -113.93690597924335,
          -113.99982480700942,
          -114.06276655549703,
          -114.12572100591676,
          -114.18867807450748,
          -114.25162781117403,
          -114.31456039809682,
          -114.37746614831806,
          -114.44033550430768,
          -114.50315903651284,
          -114.56592744189341,
          -114.62863154244714,
          -114.69126228372676,
          -114.75381073335191,
          -114.81626807951787,
          -114.87862562950407,
          -114.94087480818331,
          -115.00300715653476,
          -115.06501433016197,
          -115.12688809781723,
          -115.18862033993452,
          -115.25020304717178,
          -115.31162831896421,
          -115.37288836208943,
          -115.43397548924571,
          -115.49488211764452,
          -115.55560076761766,
          -115.61612406124013,
          -115.67644472096949,
          -115.7365555683024,
          -115.7964495224483,
          -115.85611959902167,
          -115.91555890875242,
          -115.97476065621522,
          -116.03371813857845,
          -116.09242474437174,
          -116.1508739522742,
          -116.20905932992162,
          -116.26697453273427,
          -116.32461330276445,
          -116.38196946756429,
          -116.43903693907379,
          -116.49580971252865,
          -116.5522818653889,
          -116.60844755628692,
          -116.66430102399582,
          -116.71983658641776,
          -116.77504863959186,
          -116.8299316567217,
          -116.88448018722256,
          -116.93868885578767,
          -116.9925523614738,
          -117.04606547680567,
          -117.09922304689898,
          -117.15201998860229,
          -117.20445128965656,
          -117.2565120078734,
          -117.30819727033057,
          -117.35950227258539,
          -117.41042227790535,
          -117.46095261651548,
          -117.51108868486298,
          -117.56082594489794,
          -117.61015992337067,
          -117.65908621114463,
          -117.70760046252545,
          -117.75569839460525,
          -117.80337578662204,
          -117.85062847933415,
          -117.8974523744092,
          -117.94384343382777,
          -117.98979767930084,
          -118.03531119170123,
          -118.08038011050817,
          -118.12500063326661,
          -118.16916901505749,
          -118.21288156798295,
          -118.25613466066247,
          -118.29892471774238,
          -118.34124821941668,
          -118.38310170096076,
          -118.42448175227504,
          -118.46538501744209,
          -118.50580819429285,
          -118.54574803398486,
          -118.5852013405916,
          -118.62416497070038,
          -118.66263583302316,
          -118.70061088801492,
          -118.73808714750311,
          -118.77506167432675,
          -118.81153158198458,
          -118.84749403429223,
          -118.88294624504894,
          -118.91788547771264,
          -118.95230904508404,
          -118.986214308999,
          -119.01959868002885,
          -119.05245961718975,
          -119.08479462765854,
          -119.11660126649804,
          -119.14787713638817,
          -119.17861988736647,
          -119.20882721657384,
          -119.23849686800915,
          -119.26762663228972,
          -119.2962143464195,
          -119.32425789356267,
          -119.35175520282536,
          -119.37870424904291,
          -119.40510305257348,
          -119.4309496790977,
          -119.45624223942488,
          -119.48097888930516,
          -119.50515782924614,
          -119.52877730433735,
          -119.55183560407872,
          -119.5743310622147,
          -119.59626205657466,
          -119.61762700891742,
          -119.63842438478207,
          -119.65865269334233,
          -119.67831048726822,
          -119.6973963625898,
          -119.71590895856855,
          -119.73384695757105,
          -119.75120908494904,
          -119.76799410892315,
          -119.78420084047156,
          -119.79982813322275,
          -119.81487488335281,
          -119.82934002948716,
          -119.84322255260594,
          -119.85652147595468,
          -119.86923586495759,
          -119.88136482713662,
          -119.89290751203241,
          -119.90386311113173,
          -119.91423085779643,
          -119.92401002719774,
          -119.93319993625406,
          -119.94179994357202,
          -119.94980944939206,
          -119.95722789553713,
          -119.96405476536532,
          -119.97028958372609,
          -119.97593191691999,
          -119.98098137266189,
          -119.98543760004841,
          -119.98930028952786,
          -119.99256917287491,
          -119.99524402316707,
          -119.997324654767,
          -119.99881092330565,
          -119.99970272567123,
          -120
         ]
        },
        {
         "line": {
          "color": "black",
          "dash": "dash",
          "width": 1
         },
         "mode": "lines",
         "name": "Eigenstate 3",
         "type": "scatter",
         "x": {
          "bdata": "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",
          "dtype": "f8"
         },
         "y": [
          -6.666666666666666,
          -6.66683181579857,
          -6.667327212468578,
          -6.6681527045414235,
          -6.669308038597679,
          -6.67079286014252,
          -6.672606713897361,
          -6.674749044173776,
          -6.677219195329018,
          -6.680016412302125,
          -6.683139841229542,
          -6.686588530139089,
          -6.6903614297207845,
          -6.69445739417303,
          -6.698875182122588,
          -6.703613457616252,
          -6.7086707911826355,
          -6.714045660961736,
          -6.71973645390022,
          -6.725741467010142,
          -6.732058908688708,
          -6.738686900096612,
          -6.745623476592382,
          -6.752866589220162,
          -6.760414106248174,
          -6.768263814755194,
          -6.776413422262159,
          -6.78486055840615,
          -6.7936027766538745,
          -6.802637556051718,
          -6.8119623030095555,
          -6.821574353115333,
          -6.8314709729776055,
          -6.841649362093024,
          -6.8521066547360565,
          -6.8628399218679865,
          -6.873846173062383,
          -6.885122358444376,
          -6.896665370640792,
          -6.908472046738749,
          -6.9205391702498655,
          -6.932863473077576,
          -6.945441637485177,
          -6.958270298062016,
          -6.9713460436855454,
          -6.984665419476964,
          -6.998224928748485,
          -7.012021034939213,
          -7.026050163539318,
          -7.040308703998641,
          -7.054793011619258,
          -7.069499409429646,
          -7.084424190038984,
          -7.099563617469887,
          -7.114913928968234,
          -7.130471336788635,
          -7.146232029954206,
          -7.162192175989583,
          -7.178347922625893,
          -7.19469539947679,
          -7.211230719684635,
          -7.227949981535803,
          -7.24484927004457,
          -7.261924658504763,
          -7.279172210008636,
          -7.296587978932409,
          -7.314168012388059,
          -7.331908351640987,
          -7.349805033493254,
          -7.3678540916321555,
          -7.386051557943964,
          -7.404393463792726,
          -7.422875841264156,
          -7.441494724374485,
          -7.460246150244469,
          -7.4791261602386285,
          -7.4981308010698555,
          -7.517256125869703,
          -7.536498195224474,
          -7.555853078177529,
          -7.5753168531980855,
          -7.594885609116927,
          -7.614555446029354,
          -7.634322476165918,
          -7.65418282473127,
          -7.67413263071174,
          -7.694168047652083,
          -7.714285244401933,
          -7.734480405832539,
          -7.7547497335242745,
          -7.7750894464256834,
          -7.795495781484406,
          -7.815964994250788,
          -7.836493359454693,
          -7.857077171556183,
          -7.877712745270666,
          -7.8983964160691,
          -7.919124540654035,
          -7.939893497411955,
          -7.960699686842632,
          -7.981539531966217,
          -8.002409478708486,
          -8.023305996265073,
          -8.04422557744527,
          -8.06516473899588,
          -8.086120021906003,
          -8.107087991693023,
          -8.12806523867076,
          -8.149048378200085,
          -8.17003405092279,
          -8.191018922979126,
          -8.211999686209724,
          -8.232973058342408,
          -8.253935783164332,
          -8.274884630680225,
          -8.295816397256992,
          -8.316727905755439,
          -8.33761600564944,
          -8.358477573133179,
          -8.379309511216805,
          -8.40010874981114,
          -8.420872245801776,
          -8.441596983113023,
          -8.46227997276225,
          -8.48291825290486,
          -8.503508888870542,
          -8.524048973190931,
          -8.544535625619384,
          -8.564965993142968,
          -8.585337249987143,
          -8.605646597613571,
          -8.625891264711282,
          -8.64606850718156,
          -8.66617560811692,
          -8.68620987777445,
          -8.706168653543836,
          -8.726049299910327,
          -8.745849208413022,
          -8.765565797598605,
          -8.785196512970955,
          -8.804738826936724,
          -8.82419023874731,
          -8.843548274437223,
          -8.862810486759388,
          -8.88197445511725,
          -8.901037785494184,
          -8.919998110380279,
          -8.93885308869665,
          -8.957600405717617,
          -8.976237772990757,
          -8.994762928255135,
          -9.013173635357811,
          -9.031467684168804,
          -9.04964289049463,
          -9.067697095990662,
          -9.085628168072283,
          -9.103433999825128,
          -9.121112509914465,
          -9.138661642493812,
          -9.156079367113012,
          -9.173363678625696,
          -9.190512597096449,
          -9.207524167707659,
          -9.224396460666116,
          -9.241127571109548,
          -9.257715619013133,
          -9.274158749096056,
          -9.290455130728205,
          -9.306602957837104,
          -9.322600448815114,
          -9.338445846426962,
          -9.354137417717743,
          -9.369673453921353,
          -9.385052270369444,
          -9.400272206401048,
          -9.415331625272703,
          -9.430228914069392,
          -9.444962483616141,
          -9.459530768390405,
          -9.473932226435274,
          -9.48816533927352,
          -9.502228611822536,
          -9.516120572310191,
          -9.529839772191645,
          -9.54338478606707,
          -9.556754211600536,
          -9.569946669439734,
          -9.582960803136896,
          -9.595795279070714,
          -9.608448786369394,
          -9.620920036834793,
          -9.633207764867713,
          -9.645310727394305,
          -9.657227703793671,
          -9.668957495826655,
          -9.680498927565703,
          -9.6918508453261,
          -9.703012117598268,
          -9.713981634981335,
          -9.724758310117927,
          -9.735341077630178,
          -9.745728894056992,
          -9.755920737792533,
          -9.765915609025953,
          -9.775712529682409,
          -9.785310543365277,
          -9.794708715299674,
          -9.803906132277218,
          -9.812901902602034,
          -9.821695156038038,
          -9.830285043757494,
          -9.838670738290803,
          -9.846851433477598,
          -9.854826344419036,
          -9.862594707431425,
          -9.870155780001069,
          -9.877508840740367,
          -9.884653189345208,
          -9.891588146553573,
          -9.89831305410543,
          -9.904827274703859,
          -9.911130191977445,
          -9.917221210443913,
          -9.92309975547498,
          -9.928765273262492,
          -9.93421723078578,
          -9.939455115780252,
          -9.94447843670724,
          -9.949286722725041,
          -9.953879523661211,
          -9.958256409986117,
          -9.962416972787638,
          -9.966360823747161,
          -9.970087595116746,
          -9.973596939697552,
          -9.976888530819428,
          -9.979962062321755,
          -9.982817248535477,
          -9.985453824266356,
          -9.987871544779422,
          -9.990070185784608,
          -9.992049543423624,
          -9.993809434258031,
          -9.995349695258449,
          -9.996670183795063,
          -9.997770777629237,
          -9.99865137490636,
          -9.99931189414991,
          -9.99975227425666,
          -9.999972474493108,
          -9.999972474493108,
          -9.99975227425666,
          -9.999311894149907,
          -9.998651374906357,
          -9.99777077762924,
          -9.996670183795063,
          -9.995349695258449,
          -9.993809434258031,
          -9.992049543423624,
          -9.990070185784605,
          -9.987871544779422,
          -9.985453824266363,
          -9.982817248535477,
          -9.979962062321752,
          -9.976888530819428,
          -9.973596939697549,
          -9.970087595116743,
          -9.966360823747161,
          -9.962416972787638,
          -9.958256409986117,
          -9.953879523661215,
          -9.949286722725038,
          -9.94447843670724,
          -9.939455115780252,
          -9.934217230785777,
          -9.928765273262485,
          -9.92309975547498,
          -9.917221210443913,
          -9.911130191977445,
          -9.904827274703859,
          -9.898313054105426,
          -9.891588146553573,
          -9.884653189345208,
          -9.87750884074037,
          -9.870155780001065,
          -9.862594707431422,
          -9.85482634441903,
          -9.846851433477594,
          -9.838670738290803,
          -9.830285043757494,
          -9.821695156038038,
          -9.81290190260203,
          -9.803906132277218,
          -9.794708715299674,
          -9.78531054336527,
          -9.775712529682405,
          -9.765915609025953,
          -9.755920737792529,
          -9.745728894056992,
          -9.735341077630178,
          -9.72475831011792,
          -9.713981634981335,
          -9.703012117598265,
          -9.691850845326096,
          -9.680498927565695,
          -9.668957495826644,
          -9.657227703793668,
          -9.645310727394298,
          -9.63320776486771,
          -9.620920036834793,
          -9.608448786369387,
          -9.595795279070714,
          -9.582960803136892,
          -9.56994666943973,
          -9.556754211600536,
          -9.54338478606707,
          -9.52983977219165,
          -9.516120572310195,
          -9.502228611822533,
          -9.488165339273516,
          -9.473932226435267,
          -9.459530768390401,
          -9.444962483616141,
          -9.430228914069392,
          -9.415331625272703,
          -9.400272206401041,
          -9.385052270369444,
          -9.369673453921349,
          -9.354137417717743,
          -9.338445846426955,
          -9.322600448815107,
          -9.306602957837107,
          -9.290455130728205,
          -9.274158749096053,
          -9.257715619013133,
          -9.241127571109551,
          -9.224396460666116,
          -9.207524167707662,
          -9.190512597096449,
          -9.173363678625686,
          -9.156079367113009,
          -9.138661642493815,
          -9.121112509914461,
          -9.103433999825125,
          -9.085628168072283,
          -9.067697095990665,
          -9.049642890494633,
          -9.031467684168804,
          -9.013173635357811,
          -8.994762928255135,
          -8.976237772990757,
          -8.957600405717617,
          -8.938853088696654,
          -8.919998110380279,
          -8.901037785494188,
          -8.881974455117243,
          -8.862810486759388,
          -8.84354827443722,
          -8.824190238747299,
          -8.804738826936724,
          -8.785196512970955,
          -8.765565797598608,
          -8.745849208413022,
          -8.726049299910331,
          -8.706168653543836,
          -8.68620987777445,
          -8.666175608116912,
          -8.646068507181553,
          -8.625891264711282,
          -8.605646597613571,
          -8.585337249987143,
          -8.564965993142964,
          -8.544535625619387,
          -8.524048973190917,
          -8.503508888870531,
          -8.48291825290486,
          -8.462279972762243,
          -8.441596983113023,
          -8.420872245801773,
          -8.400108749811144,
          -8.379309511216798,
          -8.358477573133175,
          -8.33761600564944,
          -8.316727905755428,
          -8.295816397256978,
          -8.274884630680225,
          -8.253935783164335,
          -8.232973058342397,
          -8.211999686209714,
          -8.191018922979108,
          -8.170034050922784,
          -8.149048378200089,
          -8.128065238670754,
          -8.107087991693023,
          -8.086120021905993,
          -8.06516473899588,
          -8.044225577445255,
          -8.023305996265062,
          -8.002409478708472,
          -7.981539531966218,
          -7.9606996868426245,
          -7.939893497411944,
          -7.919124540654028,
          -7.8983964160690965,
          -7.877712745270659,
          -7.857077171556179,
          -7.836493359454694,
          -7.815964994250791,
          -7.795495781484403,
          -7.7750894464256834,
          -7.7547497335242745,
          -7.734480405832533,
          -7.714285244401935,
          -7.694168047652088,
          -7.674132630711739,
          -7.654182824731267,
          -7.63432247616592,
          -7.614555446029359,
          -7.594885609116929,
          -7.5753168531980855,
          -7.555853078177531,
          -7.536498195224477,
          -7.517256125869708,
          -7.4981308010698555,
          -7.479126160238623,
          -7.460246150244473,
          -7.441494724374487,
          -7.422875841264157,
          -7.404393463792728,
          -7.386051557943961,
          -7.367854091632158,
          -7.349805033493254,
          -7.331908351640991,
          -7.314168012388054,
          -7.296587978932406,
          -7.279172210008636,
          -7.261924658504764,
          -7.244849270044569,
          -7.227949981535804,
          -7.2112307196846395,
          -7.194695399476797,
          -7.178347922625875,
          -7.162192175989583,
          -7.146232029954209,
          -7.130471336788643,
          -7.114913928968234,
          -7.099563617469892,
          -7.084424190038984,
          -7.069499409429646,
          -7.054793011619303,
          -7.040308703998649,
          -7.026050163539316,
          -7.012021034939217,
          -6.998224928748465,
          -6.984665419477006,
          -6.971346043685537,
          -6.958270298062015,
          -6.945441637485172,
          -6.932863473077576,
          -6.920539170249869,
          -6.908472046738755,
          -6.8966653706407905,
          -6.885122358444379,
          -6.873846173062384,
          -6.862839921867989,
          -6.852106654736057,
          -6.84164936209303,
          -6.831470972977604,
          -6.821574353115334,
          -6.811962303009548,
          -6.802637556051711,
          -6.793602776653877,
          -6.78486055840615,
          -6.776413422262159,
          -6.768263814755198,
          -6.760414106248172,
          -6.752866589220162,
          -6.745623476592376,
          -6.738686900096612,
          -6.732058908688711,
          -6.725741467010142,
          -6.71973645390022,
          -6.714045660961737,
          -6.7086707911826355,
          -6.703613457616255,
          -6.698875182122592,
          -6.69445739417303,
          -6.690361429720776,
          -6.686588530139089,
          -6.683139841229542,
          -6.680016412302129,
          -6.67721919532902,
          -6.6747490441737725,
          -6.672606713897361,
          -6.670792860142527,
          -6.669308038597679,
          -6.668152704541418,
          -6.667327212468578,
          -6.66683181579857,
          -6.666666666666666
         ]
        },
        {
         "line": {
          "color": "black",
          "dash": "dash",
          "width": 1
         },
         "mode": "lines",
         "name": "Eigenstate 4",
         "type": "scatter",
         "x": {
          "bdata": "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",
          "dtype": "f8"
         },
         "y": [
          -6.666666666666666,
          -6.666831815798568,
          -6.6673272124685745,
          -6.668152704541411,
          -6.669308038597675,
          -6.670792860142514,
          -6.672606713897357,
          -6.674749044173767,
          -6.677219195329016,
          -6.680016412302117,
          -6.683139841229536,
          -6.686588530139087,
          -6.690361429720775,
          -6.6944573941730265,
          -6.698875182122579,
          -6.7036134576162505,
          -6.708670791182632,
          -6.714045660961736,
          -6.71973645390022,
          -6.725741467010138,
          -6.732058908688702,
          -6.73868690009661,
          -6.745623476592371,
          -6.752866589220158,
          -6.760414106248167,
          -6.768263814755194,
          -6.7764134222621575,
          -6.784860558406148,
          -6.7936027766538665,
          -6.8026375560517085,
          -6.811962303009548,
          -6.821574353115327,
          -6.831470972977598,
          -6.841649362093016,
          -6.852106654736053,
          -6.862839921867979,
          -6.8738461730623825,
          -6.885122358444371,
          -6.896665370640783,
          -6.908472046738744,
          -6.920539170249861,
          -6.9328634730775685,
          -6.945441637485167,
          -6.95827029806201,
          -6.971346043685535,
          -6.984665419476864,
          -6.998224928748463,
          -7.01202103493921,
          -7.026050163539312,
          -7.040308703998639,
          -7.054793011619256,
          -7.069499409429641,
          -7.084424190038982,
          -7.099563617469887,
          -7.114913928968228,
          -7.130471336788633,
          -7.146232029954202,
          -7.1621921759895795,
          -7.178347922625884,
          -7.194695399476783,
          -7.211230719684633,
          -7.227949981535801,
          -7.244849270044566,
          -7.2619246585047605,
          -7.279172210008634,
          -7.296587978932408,
          -7.314168012388058,
          -7.331908351640979,
          -7.349805033493253,
          -7.367854091632155,
          -7.386051557943954,
          -7.404393463792722,
          -7.422875841264152,
          -7.441494724374478,
          -7.4602461502444655,
          -7.479126160238619,
          -7.49813080106985,
          -7.517256125869701,
          -7.5364981952244685,
          -7.5558530781775275,
          -7.5753168531980855,
          -7.594885609116886,
          -7.6145554460293505,
          -7.6343224761659165,
          -7.654182824731268,
          -7.674132630711731,
          -7.694168047652082,
          -7.714285244401928,
          -7.734480405832531,
          -7.754749733524273,
          -7.775089446425682,
          -7.795495781484398,
          -7.8159649942507805,
          -7.836493359454691,
          -7.857077171556178,
          -7.877712745270663,
          -7.898396416069093,
          -7.919124540654028,
          -7.939893497411948,
          -7.960699686842628,
          -7.981539531966208,
          -8.00240947870848,
          -8.023305996265066,
          -8.044225577445262,
          -8.065164738995874,
          -8.086120021905996,
          -8.107087991693012,
          -8.1280652386707,
          -8.149048378200078,
          -8.170034050922787,
          -8.191018922979119,
          -8.21199968620972,
          -8.232973058342404,
          -8.253935783164325,
          -8.274884630680214,
          -8.295816397256988,
          -8.316727905755432,
          -8.337616005649437,
          -8.358477573133175,
          -8.379309511216801,
          -8.400108749811134,
          -8.42087224580177,
          -8.441596983113023,
          -8.462279972762243,
          -8.482918252904856,
          -8.503508888870535,
          -8.524048973190924,
          -8.544535625619375,
          -8.564965993142964,
          -8.585337249987136,
          -8.605646597613568,
          -8.625891264711278,
          -8.646068507181553,
          -8.666175608116916,
          -8.686209877774447,
          -8.706168653543829,
          -8.726049299910327,
          -8.745849208413018,
          -8.765565797598601,
          -8.785196512970948,
          -8.804738826936724,
          -8.824190238747306,
          -8.843548274437216,
          -8.862810486759384,
          -8.881974455117243,
          -8.901037785494184,
          -8.919998110380135,
          -8.93885308869665,
          -8.957600405717617,
          -8.976237772990753,
          -8.994762928255135,
          -9.013173635357811,
          -9.031467684168797,
          -9.04964289049463,
          -9.067697095990658,
          -9.085628168072276,
          -9.103433999825121,
          -9.121112509914457,
          -9.138661642493812,
          -9.156079367112994,
          -9.173363678625686,
          -9.190512597096445,
          -9.207524167707655,
          -9.224396460666108,
          -9.241127571109548,
          -9.25771561901313,
          -9.274158749096049,
          -9.290455130728201,
          -9.306602957837104,
          -9.32260044881511,
          -9.338445846426955,
          -9.35413741771774,
          -9.369673453921346,
          -9.38505227036944,
          -9.400272206401041,
          -9.415331625272696,
          -9.430228914069389,
          -9.444962483616138,
          -9.459530768390401,
          -9.473932226435267,
          -9.488165339273516,
          -9.50222861182253,
          -9.516120572310191,
          -9.529839772191638,
          -9.543384786067067,
          -9.556754211600532,
          -9.56994666943973,
          -9.582960803136892,
          -9.595795279070707,
          -9.60844878636939,
          -9.62092003683479,
          -9.63320776486771,
          -9.645310727394298,
          -9.657227703793668,
          -9.668957495826644,
          -9.680498927565695,
          -9.691850845326096,
          -9.703012117598261,
          -9.713981634981328,
          -9.72475831011792,
          -9.735341077630174,
          -9.745728894056988,
          -9.755920737792525,
          -9.765915609025942,
          -9.775712529682398,
          -9.78531054336527,
          -9.79470871529967,
          -9.803906132277211,
          -9.812901902602027,
          -9.82169515603803,
          -9.830285043757486,
          -9.838670738290803,
          -9.84685143347759,
          -9.85482634441903,
          -9.862594707431418,
          -9.870155780001065,
          -9.877508840740367,
          -9.884653189345205,
          -9.89158814655357,
          -9.898313054105422,
          -9.904827274703852,
          -9.911130191977442,
          -9.917221210443913,
          -9.923099755474976,
          -9.928765273262488,
          -9.934217230785773,
          -9.939455115780248,
          -9.94447843670724,
          -9.94928672272503,
          -9.953879523661211,
          -9.958256409986113,
          -9.962416972787635,
          -9.966360823747157,
          -9.970087595116743,
          -9.973596939697549,
          -9.976888530819425,
          -9.979962062321748,
          -9.982817248535477,
          -9.985453824266356,
          -9.987871544779415,
          -9.990070185784605,
          -9.99204954342362,
          -9.993809434258024,
          -9.995349695258449,
          -9.996670183795063,
          -9.997770777629233,
          -9.998651374906357,
          -9.99931189414991,
          -9.999752274256652,
          -9.999972474493108,
          -9.999972474493108,
          -9.999752274256656,
          -9.999311894149907,
          -9.99865137490635,
          -9.99777077762923,
          -9.99667018379506,
          -9.995349695258449,
          -9.993809434258024,
          -9.992049543423624,
          -9.990070185784598,
          -9.987871544779415,
          -9.98545382426636,
          -9.982817248535474,
          -9.979962062321748,
          -9.976888530819425,
          -9.973596939697549,
          -9.970087595116743,
          -9.96636082374715,
          -9.962416972787635,
          -9.958256409986117,
          -9.953879523661211,
          -9.94928672272503,
          -9.944478436707236,
          -9.939455115780252,
          -9.93421723078577,
          -9.928765273262478,
          -9.923099755474976,
          -9.917221210443909,
          -9.911130191977442,
          -9.904827274703852,
          -9.898313054105422,
          -9.891588146553566,
          -9.884653189345208,
          -9.877508840740363,
          -9.870155780001062,
          -9.862594707431418,
          -9.854826344419026,
          -9.846851433477587,
          -9.838670738290796,
          -9.830285043757486,
          -9.82169515603803,
          -9.812901902602027,
          -9.803906132277215,
          -9.79470871529967,
          -9.785310543365267,
          -9.775712529682401,
          -9.765915609025946,
          -9.755920737792522,
          -9.745728894056985,
          -9.73534107763017,
          -9.72475831011792,
          -9.713981634981325,
          -9.703012117598261,
          -9.691850845326089,
          -9.680498927565688,
          -9.66895749582664,
          -9.657227703793664,
          -9.645310727394298,
          -9.633207764867706,
          -9.62092003683479,
          -9.608448786369383,
          -9.595795279070707,
          -9.582960803136892,
          -9.569946669439727,
          -9.556754211600529,
          -9.543384786067067,
          -9.529839772191634,
          -9.516120572310188,
          -9.502228611822533,
          -9.48816533927351,
          -9.47393222643526,
          -9.459530768390398,
          -9.444962483616134,
          -9.430228914069385,
          -9.415331625272696,
          -9.400272206401041,
          -9.38505227036944,
          -9.369673453921342,
          -9.354137417717743,
          -9.338445846426952,
          -9.322600448815104,
          -9.3066029578371,
          -9.290455130728198,
          -9.274158749096049,
          -9.25771561901313,
          -9.24112757110954,
          -9.224396460666112,
          -9.207524167707655,
          -9.190512597096442,
          -9.173363678625686,
          -9.156079367113005,
          -9.138661642493815,
          -9.121112509914457,
          -9.103433999825125,
          -9.085628168072283,
          -9.067697095990662,
          -9.049642890494633,
          -9.031467684168797,
          -9.013173635357811,
          -8.994762928255131,
          -8.976237772990753,
          -8.957600405717617,
          -8.93885308869665,
          -8.919998110380275,
          -8.901037785494184,
          -8.881974455116989,
          -8.86281048675938,
          -8.843548274437216,
          -8.824190238747295,
          -8.80473882693672,
          -8.785196512970948,
          -8.765565797598601,
          -8.745849208413018,
          -8.726049299910324,
          -8.706168653543832,
          -8.686209877774447,
          -8.666175608116912,
          -8.646068507181553,
          -8.625891264711282,
          -8.605646597613568,
          -8.585337249987136,
          -8.564965993142957,
          -8.54453562561938,
          -8.524048973190913,
          -8.503508888870524,
          -8.482918252904852,
          -8.462279972762236,
          -8.441596983113019,
          -8.420872245801766,
          -8.400108749811137,
          -8.379309511216798,
          -8.358477573133172,
          -8.337616005649437,
          -8.316727905755425,
          -8.295816397256978,
          -8.274884630680214,
          -8.253935783164328,
          -8.232973058342393,
          -8.211999686209714,
          -8.191018922979108,
          -8.170034050922773,
          -8.149048378200082,
          -8.12806523867075,
          -8.107087991693012,
          -8.086120021905986,
          -8.06516473899587,
          -8.044225577445252,
          -8.023305996265062,
          -8.002409478708469,
          -7.981539531966211,
          -7.960699686842623,
          -7.939893497411941,
          -7.919124540654023,
          -7.898396416069086,
          -7.8777127452706575,
          -7.857077171556169,
          -7.836493359454691,
          -7.8159649942507805,
          -7.7954957814844015,
          -7.775089446425682,
          -7.754749733524273,
          -7.734480405832526,
          -7.714285244401932,
          -7.694168047652082,
          -7.674132630711739,
          -7.654182824731267,
          -7.634322476165915,
          -7.614555446029357,
          -7.594885609116926,
          -7.5753168531980855,
          -7.555853078177529,
          -7.536498195224471,
          -7.517256125869703,
          -7.498130801069854,
          -7.479126160238623,
          -7.460246150244471,
          -7.44149472437448,
          -7.422875841264155,
          -7.404393463792726,
          -7.386051557943959,
          -7.367854091632155,
          -7.349805033493253,
          -7.3319083516409815,
          -7.31416801238805,
          -7.296587978932405,
          -7.279172210008634,
          -7.261924658504763,
          -7.244849270044567,
          -7.227949981535799,
          -7.21123071968463,
          -7.194695399476784,
          -7.178347922625867,
          -7.162192175989578,
          -7.146232029954206,
          -7.130471336788632,
          -7.11491392896823,
          -7.099563617469883,
          -7.084424190038984,
          -7.069499409429644,
          -7.054793011619237,
          -7.040308703998639,
          -7.026050163539313,
          -7.01202103493921,
          -6.998224928748465,
          -6.984665419476995,
          -6.97134604368553,
          -6.95827029806201,
          -6.945441637485169,
          -6.932863473077575,
          -6.92053917024986,
          -6.908472046738746,
          -6.896665370640784,
          -6.885122358444373,
          -6.873846173062383,
          -6.862839921867981,
          -6.8521066547360565,
          -6.841649362093019,
          -6.8314709729776,
          -6.821574353115331,
          -6.811962303009544,
          -6.802637556051707,
          -6.793602776653869,
          -6.784860558406148,
          -6.776413422262152,
          -6.768263814755191,
          -6.760414106248168,
          -6.752866589220158,
          -6.745623476592371,
          -6.738686900096612,
          -6.732058908688705,
          -6.72574146701014,
          -6.71973645390022,
          -6.714045660961737,
          -6.708670791182632,
          -6.703613457616247,
          -6.698875182122581,
          -6.6944573941730265,
          -6.690361429720772,
          -6.686588530139087,
          -6.683139841229536,
          -6.6800164123021215,
          -6.677219195329016,
          -6.674749044173769,
          -6.672606713897359,
          -6.670792860142518,
          -6.669308038597677,
          -6.668152704541413,
          -6.667327212468576,
          -6.66683181579857,
          -6.666666666666666
         ]
        },
        {
         "line": {
          "color": "black",
          "dash": "dash",
          "width": 1
         },
         "mode": "lines",
         "name": "Eigenstate 5",
         "type": "scatter",
         "x": {
          "bdata": "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",
          "dtype": "f8"
         },
         "y": [
          6.666666666666666,
          6.666831815798568,
          6.667327212468576,
          6.668152704541409,
          6.669308038597677,
          6.670792860142514,
          6.67260671389736,
          6.674749044173767,
          6.677219195329016,
          6.680016412302121,
          6.683139841229538,
          6.686588530139087,
          6.6903614297207765,
          6.6944573941730265,
          6.698875182122583,
          6.703613457616248,
          6.708670791182634,
          6.7140456609617365,
          6.719736453900219,
          6.72574146701014,
          6.732058908688704,
          6.73868690009661,
          6.745623476592373,
          6.752866589220156,
          6.7604141062481675,
          6.768263814755194,
          6.776413422262157,
          6.784860558406148,
          6.79360277665387,
          6.8026375560517085,
          6.811962303009541,
          6.8215743531153334,
          6.831470972977602,
          6.84164936209302,
          6.852106654736053,
          6.86283992186798,
          6.873846173062382,
          6.885122358444373,
          6.896665370640786,
          6.908472046738748,
          6.920539170249861,
          6.932863473077571,
          6.94544163748517,
          6.9582702980620095,
          6.971346043685533,
          6.984665419476949,
          6.9982249287484635,
          7.01202103493921,
          7.026050163539313,
          7.040308703998639,
          7.054793011619252,
          7.069499409429643,
          7.084424190038982,
          7.099563617469885,
          7.1149139289682335,
          7.130471336788632,
          7.146232029954205,
          7.1621921759895795,
          7.178347922625878,
          7.194695399476785,
          7.2112307196846315,
          7.227949981535801,
          7.244849270044567,
          7.261924658504763,
          7.279172210008636,
          7.296587978932408,
          7.314168012388055,
          7.331908351640982,
          7.349805033493253,
          7.3678540916321555,
          7.386051557943954,
          7.404393463792723,
          7.422875841264155,
          7.4414947243744844,
          7.460246150244469,
          7.479126160238622,
          7.498130801069852,
          7.517256125869702,
          7.536498195224473,
          7.5558530781775275,
          7.575316853198086,
          7.5948856091169255,
          7.614555446029353,
          7.634322476165919,
          7.654182824731266,
          7.67413263071173,
          7.694168047652082,
          7.714285244401932,
          7.734480405832533,
          7.754749733524272,
          7.77508944642568,
          7.795495781484398,
          7.815964994250782,
          7.83649335945469,
          7.857077171556184,
          7.877712745270668,
          7.898396416069099,
          7.919124540654035,
          7.939893497411954,
          7.960699686842634,
          7.981539531966221,
          8.002409478708486,
          8.023305996265071,
          8.044225577445264,
          8.065164738995886,
          8.086120021906003,
          8.107087991693026,
          8.128065238670743,
          8.14904837820009,
          8.17003405092279,
          8.19101892297912,
          8.211999686209728,
          8.23297305834241,
          8.253935783164339,
          8.274884630680228,
          8.295816397256994,
          8.31672790575544,
          8.337616005649448,
          8.35847757313318,
          8.379309511216809,
          8.400108749811148,
          8.420872245801778,
          8.441596983113032,
          8.462279972762252,
          8.482918252904867,
          8.503508888870536,
          8.524048973190931,
          8.544535625619375,
          8.564965993142973,
          8.585337249987148,
          8.60564659761358,
          8.62589126471129,
          8.646068507181562,
          8.666175608116925,
          8.686209877774457,
          8.706168653543841,
          8.726049299910336,
          8.745849208413027,
          8.765565797598617,
          8.78519651297096,
          8.804738826936733,
          8.824190238747308,
          8.843548274437225,
          8.862810486759392,
          8.881974455117252,
          8.901037785494193,
          8.919998110380284,
          8.93885308869666,
          8.957600405717626,
          8.976237772990762,
          8.994762928255144,
          9.01317363535782,
          9.031467684168808,
          9.049642890494638,
          9.06769709599067,
          9.085628168072288,
          9.103433999825128,
          9.121112509914465,
          9.13866164249382,
          9.156079367113009,
          9.173363678625696,
          9.190512597096452,
          9.207524167707666,
          9.22439646066612,
          9.241127571109555,
          9.25771561901314,
          9.274158749096056,
          9.29045513072821,
          9.306602957837113,
          9.322600448815118,
          9.338445846426964,
          9.354137417717748,
          9.369673453921353,
          9.38505227036945,
          9.400272206401052,
          9.415331625272707,
          9.430228914069396,
          9.444962483616147,
          9.45953076839041,
          9.473932226435275,
          9.488165339273523,
          9.502228611822543,
          9.5161205723102,
          9.529839772191645,
          9.543384786067078,
          9.556754211600543,
          9.569946669439739,
          9.582960803136901,
          9.595795279070721,
          9.608448786369403,
          9.620920036834802,
          9.633207764867715,
          9.645310727394307,
          9.65722770379368,
          9.668957495826653,
          9.680498927565704,
          9.691850845326103,
          9.703012117598274,
          9.713981634981337,
          9.72475831011793,
          9.735341077630181,
          9.745728894056995,
          9.755920737792534,
          9.765915609025958,
          9.775712529682412,
          9.785310543365279,
          9.794708715299679,
          9.803906132277225,
          9.812901902602036,
          9.821695156038045,
          9.830285043757495,
          9.838670738290812,
          9.8468514334776,
          9.85482634441904,
          9.862594707431432,
          9.870155780001076,
          9.877508840740376,
          9.884653189345215,
          9.891588146553579,
          9.898313054105435,
          9.904827274703864,
          9.911130191977454,
          9.917221210443923,
          9.923099755474986,
          9.928765273262492,
          9.934217230785782,
          9.939455115780259,
          9.944478436707248,
          9.949286722725043,
          9.953879523661223,
          9.958256409986125,
          9.962416972787645,
          9.966360823747168,
          9.970087595116755,
          9.97359693969756,
          9.976888530819437,
          9.979962062321762,
          9.982817248535486,
          9.985453824266367,
          9.987871544779427,
          9.990070185784614,
          9.992049543423633,
          9.993809434258036,
          9.995349695258458,
          9.996670183795075,
          9.997770777629242,
          9.998651374906366,
          9.999311894149917,
          9.999752274256664,
          9.999972474493116,
          9.999972474493118,
          9.999752274256666,
          9.999311894149917,
          9.998651374906364,
          9.997770777629244,
          9.996670183795073,
          9.99534969525846,
          9.993809434258035,
          9.992049543423633,
          9.99007018578461,
          9.987871544779429,
          9.985453824266367,
          9.982817248535484,
          9.979962062321762,
          9.976888530819437,
          9.97359693969756,
          9.970087595116754,
          9.966360823747168,
          9.962416972787645,
          9.958256409986127,
          9.953879523661222,
          9.949286722725043,
          9.944478436707247,
          9.93945511578026,
          9.934217230785782,
          9.928765273262492,
          9.923099755474986,
          9.917221210443921,
          9.911130191977454,
          9.904827274703864,
          9.898313054105435,
          9.891588146553582,
          9.884653189345217,
          9.877508840740374,
          9.870155780001074,
          9.862594707431432,
          9.85482634441904,
          9.846851433477601,
          9.83867073829081,
          9.830285043757499,
          9.821695156038043,
          9.812901902602038,
          9.803906132277225,
          9.794708715299679,
          9.785310543365279,
          9.775712529682412,
          9.765915609025958,
          9.755920737792534,
          9.745728894056997,
          9.735341077630181,
          9.724758310117927,
          9.713981634981339,
          9.703012117598274,
          9.691850845326101,
          9.680498927565703,
          9.668957495826653,
          9.65722770379368,
          9.645310727394307,
          9.633207764867715,
          9.620920036834802,
          9.6084487863694,
          9.595795279070721,
          9.582960803136901,
          9.56994666943974,
          9.556754211600541,
          9.54338478606708,
          9.529839772191643,
          9.516120572310202,
          9.502228611822545,
          9.488165339273522,
          9.473932226435274,
          9.45953076839041,
          9.444962483616147,
          9.430228914069398,
          9.415331625272712,
          9.400272206401054,
          9.385052270369451,
          9.369673453921354,
          9.354137417717753,
          9.338445846426964,
          9.322600448815118,
          9.306602957837114,
          9.29045513072821,
          9.274158749096056,
          9.25771561901314,
          9.241127571109555,
          9.224396460666123,
          9.207524167707668,
          9.190512597096452,
          9.173363678625693,
          9.156079367113017,
          9.138661642493824,
          9.121112509914465,
          9.103433999825132,
          9.08562816807229,
          9.067697095990672,
          9.04964289049464,
          9.031467684168806,
          9.01317363535782,
          8.994762928255142,
          8.976237772990766,
          8.957600405717626,
          8.93885308869666,
          8.919998110380288,
          8.901037785494195,
          8.881974455117252,
          8.862810486759392,
          8.843548274437229,
          8.82419023874731,
          8.804738826936735,
          8.78519651297096,
          8.765565797598615,
          8.74584920841303,
          8.726049299910336,
          8.706168653543843,
          8.68620987777446,
          8.666175608116925,
          8.646068507181564,
          8.625891264711292,
          8.605646597613582,
          8.58533724998715,
          8.564965993142973,
          8.544535625619393,
          8.524048973190927,
          8.50350888887054,
          8.482918252904867,
          8.462279972762252,
          8.441596983113032,
          8.42087224580178,
          8.400108749811151,
          8.37930951121681,
          8.358477573133184,
          8.337616005649448,
          8.316727905755437,
          8.295816397256994,
          8.274884630680228,
          8.25393578316434,
          8.232973058342406,
          8.211999686209728,
          8.191018922979122,
          8.170034050922792,
          8.149048378200094,
          8.128065238670763,
          8.107087991693026,
          8.086120021906,
          8.065164738995888,
          8.044225577445266,
          8.023305996265071,
          8.002409478708483,
          7.981539531966224,
          7.960699686842635,
          7.939893497411952,
          7.919124540654037,
          7.8983964160691,
          7.877712745270669,
          7.857077171556184,
          7.8364933594546935,
          7.815964994250785,
          7.7954957814844015,
          7.775089446425681,
          7.754749733524272,
          7.734480405832529,
          7.714285244401928,
          7.694168047652082,
          7.674132630711738,
          7.654182824731263,
          7.63432247616592,
          7.614555446029355,
          7.594885609116927,
          7.575316853198086,
          7.555853078177528,
          7.536498195224472,
          7.5172561258697,
          7.498130801069855,
          7.479126160238621,
          7.46024615024447,
          7.441494724374482,
          7.422875841264153,
          7.404393463792728,
          7.386051557943958,
          7.367854091632158,
          7.349805033493254,
          7.331908351640983,
          7.31416801238805,
          7.296587978932407,
          7.279172210008636,
          7.261924658504765,
          7.244849270044568,
          7.227949981535801,
          7.211230719684636,
          7.194695399476785,
          7.178347922625846,
          7.162192175989581,
          7.1462320299542075,
          7.130471336788631,
          7.114913928968235,
          7.099563617469881,
          7.084424190038983,
          7.069499409429644,
          7.05479301161927,
          7.04030870399864,
          7.026050163539314,
          7.0120210349392105,
          6.998224928748465,
          6.984665419476999,
          6.971346043685532,
          6.958270298062006,
          6.945441637485169,
          6.932863473077576,
          6.92053917024986,
          6.9084720467387495,
          6.896665370640784,
          6.88512235844437,
          6.873846173062382,
          6.86283992186798,
          6.852106654736055,
          6.841649362093024,
          6.831470972977603,
          6.821574353115334,
          6.811962303009544,
          6.802637556051705,
          6.793602776653872,
          6.784860558406151,
          6.7764134222621575,
          6.768263814755196,
          6.760414106248169,
          6.7528665892201545,
          6.745623476592374,
          6.738686900096612,
          6.732058908688704,
          6.725741467010141,
          6.71973645390022,
          6.7140456609617365,
          6.708670791182634,
          6.703613457616251,
          6.698875182122585,
          6.6944573941730265,
          6.69036142972077,
          6.686588530139087,
          6.683139841229539,
          6.680016412302123,
          6.677219195329017,
          6.674749044173769,
          6.67260671389736,
          6.670792860142516,
          6.669308038597677,
          6.668152704541414,
          6.667327212468576,
          6.666831815798568,
          6.666666666666666
         ]
        },
        {
         "line": {
          "color": "black",
          "dash": "dash",
          "width": 1
         },
         "mode": "lines",
         "name": "Eigenstate 6",
         "type": "scatter",
         "x": {
          "bdata": "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",
          "dtype": "f8"
         },
         "y": [
          6.666666666666666,
          6.66683181579857,
          6.667327212468578,
          6.668152704541419,
          6.669308038597678,
          6.670792860142523,
          6.672606713897363,
          6.674749044173773,
          6.67721919532902,
          6.680016412302128,
          6.68313984122954,
          6.6865885301390895,
          6.690361429720782,
          6.69445739417303,
          6.698875182122587,
          6.7036134576162585,
          6.7086707911826355,
          6.714045660961738,
          6.719736453900221,
          6.725741467010142,
          6.7320589086887095,
          6.738686900096612,
          6.745623476592379,
          6.752866589220167,
          6.760414106248173,
          6.768263814755194,
          6.776413422262158,
          6.78486055840615,
          6.793602776653881,
          6.80263755605171,
          6.8119623030095475,
          6.8215743531153334,
          6.831470972977604,
          6.841649362093027,
          6.8521066547360565,
          6.862839921867993,
          6.873846173062383,
          6.885122358444379,
          6.896665370640791,
          6.908472046738752,
          6.920539170249869,
          6.932863473077576,
          6.945441637485174,
          6.95827029806202,
          6.971346043685537,
          6.984665419476992,
          6.998224928748471,
          7.012021034939212,
          7.026050163539317,
          7.040308703998643,
          7.054793011619264,
          7.069499409429645,
          7.084424190038984,
          7.099563617469888,
          7.114913928968234,
          7.1304713367886325,
          7.146232029954206,
          7.162192175989583,
          7.178347922625881,
          7.194695399476791,
          7.211230719684632,
          7.227949981535804,
          7.2448492700445755,
          7.261924658504766,
          7.279172210008637,
          7.29658797893241,
          7.314168012388063,
          7.331908351640987,
          7.349805033493254,
          7.367854091632156,
          7.3860515579439605,
          7.404393463792727,
          7.422875841264157,
          7.441494724374487,
          7.46024615024447,
          7.479126160238632,
          7.498130801069854,
          7.5172561258697055,
          7.536498195224474,
          7.5558530781775275,
          7.575316853198089,
          7.594885609116929,
          7.6145554460293585,
          7.634322476165922,
          7.6541828247312775,
          7.674132630711737,
          7.694168047652085,
          7.714285244401936,
          7.734480405832539,
          7.754749733524273,
          7.775089446425682,
          7.795495781484404,
          7.815964994250785,
          7.836493359454691,
          7.857077171556189,
          7.877712745270672,
          7.898396416069106,
          7.919124540654041,
          7.939893497411961,
          7.96069968684264,
          7.981539531966223,
          8.002409478708493,
          8.023305996265076,
          8.044225577445266,
          8.065164738995888,
          8.086120021906009,
          8.107087991693028,
          8.128065238670759,
          8.149048378200092,
          8.170034050922798,
          8.191018922979122,
          8.211999686209731,
          8.232973058342417,
          8.25393578316434,
          8.27488463068023,
          8.295816397256997,
          8.316727905755448,
          8.33761600564945,
          8.358477573133186,
          8.379309511216814,
          8.40010874981115,
          8.420872245801784,
          8.441596983113035,
          8.462279972762255,
          8.48291825290487,
          8.503508888870542,
          8.524048973190938,
          8.54453562561939,
          8.564965993142977,
          8.585337249987148,
          8.605646597613584,
          8.62589126471129,
          8.646068507181567,
          8.666175608116928,
          8.68620987777446,
          8.706168653543843,
          8.726049299910336,
          8.745849208413032,
          8.76556579759862,
          8.785196512970963,
          8.804738826936736,
          8.82419023874731,
          8.843548274437232,
          8.862810486759395,
          8.881974455117257,
          8.901037785494196,
          8.919998110380476,
          8.938853088696662,
          8.957600405717628,
          8.976237772990766,
          8.994762928255144,
          9.01317363535782,
          9.031467684168815,
          9.04964289049464,
          9.06769709599067,
          9.08562816807229,
          9.103433999825135,
          9.121112509914472,
          9.13866164249382,
          9.156079367113012,
          9.173363678625702,
          9.190512597096458,
          9.20752416770767,
          9.224396460666123,
          9.241127571109555,
          9.257715619013144,
          9.274158749096063,
          9.290455130728214,
          9.306602957837114,
          9.322600448815125,
          9.33844584642697,
          9.354137417717752,
          9.36967345392136,
          9.385052270369457,
          9.400272206401057,
          9.415331625272712,
          9.430228914069403,
          9.44496248361615,
          9.459530768390414,
          9.473932226435284,
          9.488165339273529,
          9.502228611822545,
          9.516120572310204,
          9.529839772191645,
          9.54338478606708,
          9.556754211600545,
          9.569946669439746,
          9.582960803136904,
          9.595795279070721,
          9.608448786369404,
          9.620920036834802,
          9.633207764867716,
          9.645310727394314,
          9.657227703793682,
          9.668957495826659,
          9.68049892756571,
          9.69185084532611,
          9.703012117598275,
          9.713981634981343,
          9.724758310117936,
          9.735341077630187,
          9.745728894056999,
          9.75592073779254,
          9.76591560902596,
          9.775712529682414,
          9.785310543365286,
          9.794708715299683,
          9.803906132277227,
          9.812901902602041,
          9.821695156038045,
          9.8302850437575,
          9.838670738290814,
          9.846851433477607,
          9.854826344419045,
          9.862594707431434,
          9.870155780001078,
          9.87750884074038,
          9.884653189345219,
          9.891588146553582,
          9.898313054105436,
          9.904827274703866,
          9.911130191977458,
          9.917221210443923,
          9.923099755474988,
          9.928765273262494,
          9.934217230785787,
          9.939455115780262,
          9.944478436707252,
          9.94928672272505,
          9.953879523661223,
          9.958256409986129,
          9.96241697278765,
          9.966360823747172,
          9.970087595116759,
          9.973596939697563,
          9.976888530819437,
          9.979962062321762,
          9.982817248535488,
          9.985453824266369,
          9.987871544779434,
          9.990070185784619,
          9.992049543423636,
          9.993809434258042,
          9.995349695258462,
          9.996670183795075,
          9.997770777629247,
          9.99865137490637,
          9.999311894149919,
          9.999752274256668,
          9.999972474493118,
          9.999972474493118,
          9.999752274256668,
          9.999311894149919,
          9.99865137490637,
          9.997770777629247,
          9.996670183795075,
          9.995349695258462,
          9.993809434258042,
          9.99204954342364,
          9.990070185784619,
          9.987871544779434,
          9.98545382426637,
          9.982817248535488,
          9.979962062321762,
          9.976888530819437,
          9.973596939697565,
          9.970087595116759,
          9.966360823747172,
          9.962416972787649,
          9.958256409986129,
          9.953879523661225,
          9.94928672272505,
          9.944478436707252,
          9.93945511578026,
          9.934217230785785,
          9.9287652732625,
          9.923099755474988,
          9.917221210443923,
          9.911130191977456,
          9.904827274703866,
          9.898313054105436,
          9.891588146553582,
          9.88465318934522,
          9.877508840740381,
          9.87015578000108,
          9.862594707431434,
          9.854826344419044,
          9.846851433477607,
          9.838670738290816,
          9.8302850437575,
          9.821695156038045,
          9.812901902602043,
          9.803906132277229,
          9.794708715299684,
          9.785310543365284,
          9.775712529682414,
          9.765915609025958,
          9.755920737792541,
          9.745728894057,
          9.735341077630185,
          9.72475831011793,
          9.713981634981344,
          9.703012117598277,
          9.691850845326108,
          9.680498927565708,
          9.66895749582666,
          9.657227703793684,
          9.645310727394314,
          9.633207764867722,
          9.620920036834802,
          9.608448786369403,
          9.595795279070721,
          9.582960803136904,
          9.569946669439744,
          9.556754211600547,
          9.543384786067085,
          9.52983977219165,
          9.516120572310205,
          9.502228611822545,
          9.488165339273529,
          9.47393222643528,
          9.459530768390417,
          9.44496248361615,
          9.430228914069403,
          9.415331625272714,
          9.400272206401059,
          9.385052270369458,
          9.36967345392136,
          9.354137417717753,
          9.33844584642697,
          9.322600448815123,
          9.306602957837118,
          9.290455130728214,
          9.274158749096062,
          9.257715619013142,
          9.241127571109557,
          9.224396460666124,
          9.207524167707671,
          9.190512597096458,
          9.1733636786257,
          9.156079367113021,
          9.138661642493824,
          9.121112509914472,
          9.103433999825137,
          9.08562816807229,
          9.067697095990672,
          9.049642890494646,
          9.031467684168812,
          9.01317363535782,
          8.994762928255142,
          8.976237772990766,
          8.957600405717628,
          8.938853088696664,
          8.919998110380291,
          8.901037785494195,
          8.881974455117302,
          8.862810486759399,
          8.843548274437234,
          8.824190238747313,
          8.804738826936738,
          8.785196512970963,
          8.765565797598622,
          8.745849208413032,
          8.726049299910336,
          8.706168653543843,
          8.686209877774461,
          8.666175608116928,
          8.646068507181567,
          8.625891264711294,
          8.605646597613585,
          8.585337249987152,
          8.564965993142977,
          8.544535625619396,
          8.524048973190933,
          8.503508888870545,
          8.482918252904872,
          8.462279972762255,
          8.441596983113037,
          8.420872245801784,
          8.400108749811151,
          8.379309511216816,
          8.358477573133188,
          8.33761600564945,
          8.316727905755444,
          8.295816397256996,
          8.27488463068023,
          8.253935783164343,
          8.232973058342413,
          8.211999686209731,
          8.191018922979126,
          8.170034050922798,
          8.149048378200094,
          8.12806523867077,
          8.107087991693028,
          8.086120021906007,
          8.065164738995888,
          8.044225577445271,
          8.023305996265078,
          8.002409478708486,
          7.981539531966225,
          7.96069968684264,
          7.9398934974119575,
          7.9191245406540425,
          7.898396416069105,
          7.877712745270673,
          7.85707717155619,
          7.836493359454695,
          7.8159649942507885,
          7.795495781484405,
          7.775089446425683,
          7.754749733524273,
          7.734480405832535,
          7.714285244401935,
          7.694168047652085,
          7.674132630711739,
          7.654182824731273,
          7.634322476165924,
          7.614555446029357,
          7.594885609116933,
          7.575316853198089,
          7.555853078177528,
          7.536498195224476,
          7.517256125869706,
          7.498130801069857,
          7.479126160238628,
          7.46024615024447,
          7.441494724374486,
          7.422875841264158,
          7.4043934637927284,
          7.386051557943965,
          7.367854091632158,
          7.349805033493254,
          7.331908351640989,
          7.314168012388059,
          7.2965879789324095,
          7.279172210008637,
          7.261924658504768,
          7.244849270044573,
          7.227949981535807,
          7.211230719684639,
          7.194695399476792,
          7.178347922625878,
          7.162192175989585,
          7.1462320299542075,
          7.130471336788639,
          7.114913928968236,
          7.099563617469888,
          7.084424190038986,
          7.069499409429646,
          7.054793011619357,
          7.0403087039986465,
          7.026050163539318,
          7.012021034939214,
          6.998224928748468,
          6.984665419477002,
          6.9713460436855375,
          6.958270298062017,
          6.945441637485176,
          6.932863473077578,
          6.920539170249867,
          6.908472046738753,
          6.89666537064079,
          6.885122358444379,
          6.873846173062383,
          6.862839921867988,
          6.852106654736059,
          6.841649362093027,
          6.831470972977604,
          6.821574353115334,
          6.8119623030095475,
          6.802637556051707,
          6.793602776653877,
          6.784860558406152,
          6.776413422262159,
          6.768263814755196,
          6.760414106248172,
          6.7528665892201625,
          6.745623476592378,
          6.738686900096612,
          6.732058908688709,
          6.725741467010143,
          6.719736453900222,
          6.714045660961738,
          6.7086707911826355,
          6.703613457616254,
          6.69887518212259,
          6.69445739417303,
          6.690361429720776,
          6.6865885301390895,
          6.683139841229541,
          6.680016412302126,
          6.6772191953290205,
          6.674749044173776,
          6.672606713897363,
          6.670792860142527,
          6.669308038597678,
          6.6681527045414235,
          6.667327212468578,
          6.66683181579857,
          6.666666666666666
         ]
        },
        {
         "line": {
          "color": "black",
          "dash": "dash",
          "width": 1
         },
         "mode": "lines",
         "name": "Eigenstate 7",
         "type": "scatter",
         "x": {
          "bdata": "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",
          "dtype": "f8"
         },
         "y": [
          93.33333333333333,
          93.33316818420144,
          93.33267278753142,
          93.33184729545859,
          93.33069196140232,
          93.32920713985749,
          93.32739328610265,
          93.32525095582623,
          93.322780804671,
          93.31998358769788,
          93.31686015877048,
          93.31341146986091,
          93.30963857027922,
          93.30554260582699,
          93.30112481787742,
          93.29638654238376,
          93.29132920881737,
          93.28595433903827,
          93.28026354609977,
          93.27425853298986,
          93.2679410913113,
          93.26131309990339,
          93.25437652340763,
          93.24713341077984,
          93.23958589375184,
          93.23173618524481,
          93.22358657773785,
          93.21513944159386,
          93.20639722334613,
          93.1973624439483,
          93.18803769699046,
          93.17842564688468,
          93.1685290270224,
          93.15835063790698,
          93.14789334526395,
          93.13716007813201,
          93.12615382693762,
          93.11487764155562,
          93.10333462935922,
          93.09152795326125,
          93.07946082975013,
          93.06713652692243,
          93.05455836251484,
          93.04172970193798,
          93.02865395631447,
          93.01533458052296,
          93.00177507125147,
          92.98797896506079,
          92.9739498364607,
          92.95969129600137,
          92.94520698838075,
          92.93050059057036,
          92.91557580996101,
          92.90043638253013,
          92.88508607103176,
          92.86952866321137,
          92.8537679700458,
          92.83780782401043,
          92.82165207737413,
          92.80530460052321,
          92.78876928031536,
          92.77205001846421,
          92.75515072995543,
          92.73807534149523,
          92.72082778999138,
          92.70341202106759,
          92.68583198761195,
          92.66809164835902,
          92.65019496650675,
          92.63214590836785,
          92.61394844205606,
          92.59560653620728,
          92.57712415873586,
          92.55850527562552,
          92.53975384975554,
          92.52087383976138,
          92.50186919893015,
          92.4827438741303,
          92.46350180477553,
          92.44414692182248,
          92.42468314680191,
          92.40511439088306,
          92.38544455397064,
          92.36567752383408,
          92.34581717526873,
          92.32586736928826,
          92.30583195234793,
          92.28571475559808,
          92.26551959416747,
          92.24525026647574,
          92.22491055357432,
          92.20450421851561,
          92.18403500574922,
          92.16350664054531,
          92.14292282844383,
          92.12228725472934,
          92.10160358393091,
          92.08087545934598,
          92.06010650258806,
          92.03930031315737,
          92.01846046803378,
          91.99759052129153,
          91.97669400373495,
          91.95577442255474,
          91.93483526100412,
          91.913879978094,
          91.89291200830698,
          91.87193476132923,
          91.85095162179991,
          91.82996594907722,
          91.80898107702089,
          91.78800031379029,
          91.7670269416576,
          91.74606421683566,
          91.72511536931978,
          91.70418360274303,
          91.68327209424457,
          91.66238399435056,
          91.64152242686683,
          91.6206904887832,
          91.59989125018886,
          91.57912775419823,
          91.55840301688697,
          91.53772002723775,
          91.51708174709515,
          91.49649111112942,
          91.47595102680907,
          91.45546437438058,
          91.43503400685704,
          91.41466275001287,
          91.39435340238643,
          91.37410873528871,
          91.35393149281845,
          91.33382439188308,
          91.31379012222556,
          91.29383134645616,
          91.27395070008967,
          91.25415079158698,
          91.23443420240139,
          91.21480348702904,
          91.19526117306327,
          91.1758097612527,
          91.15645172556279,
          91.13718951324061,
          91.11802554488276,
          91.0989622145058,
          91.0800018896197,
          91.06114691130335,
          91.04239959428239,
          91.02376222700924,
          91.00523707174486,
          90.98682636464218,
          90.9685323158312,
          90.95035710950538,
          90.93230290400933,
          90.91437183192772,
          90.89656600017489,
          90.87888749008555,
          90.86133835750618,
          90.84392063288695,
          90.82663632137431,
          90.80948740290356,
          90.79247583229234,
          90.77560353933389,
          90.75887242889046,
          90.74228438098686,
          90.72584125090395,
          90.70954486927181,
          90.6933970421629,
          90.67739955118489,
          90.66155415357304,
          90.64586258228226,
          90.63032654607866,
          90.61494772963056,
          90.59972779359896,
          90.5846683747273,
          90.56977108593061,
          90.55503751638386,
          90.5404692316096,
          90.52606777356473,
          90.51183466072649,
          90.49777138817747,
          90.48387942768981,
          90.47016022780835,
          90.45661521393293,
          90.44324578839948,
          90.43005333056027,
          90.41703919686312,
          90.40420472092929,
          90.3915512136306,
          90.37907996316521,
          90.36679223513228,
          90.3546892726057,
          90.34277229620633,
          90.33104250417335,
          90.3195010724343,
          90.30814915467391,
          90.29698788240174,
          90.28601836501868,
          90.27524168988208,
          90.26465892236982,
          90.254271105943,
          90.24407926220748,
          90.23408439097405,
          90.22428747031759,
          90.21468945663472,
          90.20529128470032,
          90.19609386772278,
          90.18709809739798,
          90.17830484396197,
          90.1697149562425,
          90.1613292617092,
          90.15314856652242,
          90.14517365558096,
          90.13740529256857,
          90.12984421999894,
          90.12249115925964,
          90.11534681065478,
          90.10841185344643,
          90.10168694589457,
          90.09517272529615,
          90.08886980802255,
          90.08277878955609,
          90.07690024452502,
          90.07123472673752,
          90.06578276921422,
          90.06054488421975,
          90.05552156329277,
          90.05071327727495,
          90.04612047633879,
          90.04174359001388,
          90.03758302721238,
          90.03363917625285,
          90.02991240488325,
          90.02640306030244,
          90.02311146918058,
          90.02003793767824,
          90.01718275146452,
          90.01454617573364,
          90.01212845522059,
          90.00992981421541,
          90.00795045657638,
          90.00619056574197,
          90.00465030474155,
          90.00332981620494,
          90.00222922237076,
          90.00134862509366,
          90.00068810585009,
          90.00024772574335,
          90.0000275255069,
          90.0000275255069,
          90.00024772574335,
          90.00068810585009,
          90.00134862509364,
          90.00222922237077,
          90.00332981620494,
          90.00465030474155,
          90.00619056574196,
          90.00795045657638,
          90.0099298142154,
          90.01212845522059,
          90.01454617573364,
          90.01718275146452,
          90.02003793767824,
          90.02311146918058,
          90.02640306030246,
          90.02991240488325,
          90.03363917625283,
          90.03758302721235,
          90.04174359001388,
          90.04612047633879,
          90.05071327727495,
          90.05552156329276,
          90.06054488421975,
          90.06578276921422,
          90.0712347267375,
          90.07690024452502,
          90.08277878955609,
          90.08886980802257,
          90.09517272529615,
          90.10168694589458,
          90.10841185344643,
          90.11534681065478,
          90.12249115925962,
          90.12984421999892,
          90.13740529256859,
          90.14517365558098,
          90.15314856652239,
          90.16132926170918,
          90.16971495624252,
          90.17830484396197,
          90.18709809739798,
          90.1960938677228,
          90.20529128470034,
          90.21468945663474,
          90.22428747031759,
          90.23408439097405,
          90.24407926220746,
          90.25427110594302,
          90.26465892236983,
          90.27524168988208,
          90.28601836501866,
          90.29698788240174,
          90.30814915467391,
          90.31950107243432,
          90.33104250417335,
          90.3427722962063,
          90.35468927260571,
          90.36679223513228,
          90.37907996316521,
          90.3915512136306,
          90.4042047209293,
          90.4170391968631,
          90.43005333056027,
          90.44324578839945,
          90.45661521393292,
          90.47016022780836,
          90.4838794276898,
          90.49777138817747,
          90.51183466072646,
          90.52606777356473,
          90.54046923160959,
          90.55503751638386,
          90.56977108593063,
          90.5846683747273,
          90.59972779359896,
          90.61494772963056,
          90.63032654607863,
          90.64586258228226,
          90.66155415357305,
          90.67739955118489,
          90.69339704216289,
          90.7095448692718,
          90.72584125090395,
          90.74228438098686,
          90.75887242889046,
          90.77560353933389,
          90.79247583229234,
          90.80948740290354,
          90.82663632137432,
          90.843920632887,
          90.86133835750618,
          90.87888749008556,
          90.89656600017489,
          90.91437183192772,
          90.93230290400933,
          90.95035710950536,
          90.96853231583121,
          90.9868263646422,
          91.00523707174486,
          91.02376222700924,
          91.04239959428239,
          91.06114691130335,
          91.08000188961972,
          91.09896221450579,
          91.11802554488276,
          91.1371895132406,
          91.15645172556279,
          91.17580976125268,
          91.19526117306327,
          91.21480348702906,
          91.23443420240139,
          91.25415079158698,
          91.27395070008967,
          91.29383134645617,
          91.31379012222556,
          91.33382439188308,
          91.35393149281845,
          91.37410873528871,
          91.39435340238641,
          91.41466275001287,
          91.43503400685705,
          91.45546437438063,
          91.4759510268091,
          91.49649111112944,
          91.51708174709512,
          91.53772002723777,
          91.55840301688696,
          91.57912775419823,
          91.59989125018886,
          91.6206904887832,
          91.64152242686683,
          91.66238399435056,
          91.68327209424459,
          91.70418360274299,
          91.72511536931978,
          91.74606421683568,
          91.7670269416576,
          91.78800031379028,
          91.80898107702089,
          91.8299659490772,
          91.85095162179992,
          91.87193476132924,
          91.892912008307,
          91.913879978094,
          91.93483526100412,
          91.95577442255475,
          91.97669400373492,
          91.99759052129153,
          92.0184604680338,
          92.03930031315738,
          92.06010650258807,
          92.08087545934596,
          92.10160358393091,
          92.12228725472933,
          92.14292282844382,
          92.16350664054532,
          92.18403500574922,
          92.20450421851558,
          92.22491055357433,
          92.24525026647574,
          92.26551959416747,
          92.28571475559808,
          92.30583195234792,
          92.32586736928828,
          92.34581717526873,
          92.36567752383407,
          92.38544455397066,
          92.40511439088306,
          92.42468314680193,
          92.44414692182248,
          92.46350180477553,
          92.48274387413029,
          92.50186919893015,
          92.52087383976136,
          92.53975384975554,
          92.55850527562554,
          92.57712415873587,
          92.59560653620728,
          92.61394844205606,
          92.63214590836785,
          92.65019496650675,
          92.66809164835901,
          92.68583198761195,
          92.7034120210676,
          92.72082778999138,
          92.73807534149525,
          92.75515072995542,
          92.77205001846418,
          92.78876928031535,
          92.8053046005232,
          92.82165207737417,
          92.83780782401041,
          92.85376797004581,
          92.86952866321136,
          92.88508607103178,
          92.90043638253007,
          92.91557580996103,
          92.93050059057038,
          92.9452069883807,
          92.95969129600135,
          92.97394983646069,
          92.98797896506079,
          93.00177507125154,
          93.01533458052299,
          93.02865395631446,
          93.041729701938,
          93.05455836251485,
          93.06713652692241,
          93.07946082975013,
          93.09152795326128,
          93.1033346293592,
          93.11487764155561,
          93.12615382693762,
          93.13716007813201,
          93.14789334526394,
          93.15835063790696,
          93.16852902702242,
          93.17842564688465,
          93.18803769699046,
          93.19736244394832,
          93.20639722334613,
          93.21513944159386,
          93.22358657773786,
          93.23173618524481,
          93.23958589375185,
          93.24713341077982,
          93.25437652340764,
          93.2613130999034,
          93.26794109131131,
          93.27425853298988,
          93.28026354609979,
          93.28595433903827,
          93.29132920881737,
          93.29638654238374,
          93.30112481787742,
          93.30554260582697,
          93.30963857027922,
          93.31341146986092,
          93.31686015877047,
          93.31998358769786,
          93.32278080467098,
          93.32525095582625,
          93.32739328610265,
          93.32920713985749,
          93.33069196140234,
          93.3318472954586,
          93.33267278753144,
          93.33316818420144,
          93.33333333333333
         ]
        },
        {
         "line": {
          "color": "black",
          "dash": "dash",
          "width": 1
         },
         "mode": "lines",
         "name": "Eigenstate 8",
         "type": "scatter",
         "x": {
          "bdata": "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",
          "dtype": "f8"
         },
         "y": [
          106.66666666666667,
          106.66683181579857,
          106.66732721246858,
          106.6681527045414,
          106.66930803859768,
          106.67079286014251,
          106.67260671389737,
          106.67474904417375,
          106.67721919532902,
          106.68001641230214,
          106.6831398412295,
          106.68658853013909,
          106.69036142972078,
          106.69445739417303,
          106.69887518212259,
          106.70361345761627,
          106.70867079118264,
          106.71404566096174,
          106.71973645390023,
          106.72574146701014,
          106.73205890868869,
          106.73868690009661,
          106.74562347659236,
          106.75286658922018,
          106.76041410624815,
          106.7682638147552,
          106.77641342226215,
          106.78486055840615,
          106.79360277665387,
          106.80263755605166,
          106.81196230300951,
          106.82157435311534,
          106.8314709729776,
          106.84164936209304,
          106.85210665473606,
          106.86283992186799,
          106.87384617306238,
          106.88512235844439,
          106.89666537064079,
          106.90847204673874,
          106.92053917024988,
          106.93286347307759,
          106.94544163748516,
          106.95827029806202,
          106.97134604368549,
          106.98466541947697,
          106.99822492874848,
          107.01202103493921,
          107.02605016353931,
          107.04030870399865,
          107.05479301161927,
          107.06949940942964,
          107.08442419003899,
          107.09956361746988,
          107.11491392896824,
          107.13047133678864,
          107.1462320299542,
          107.16219217598959,
          107.17834792262585,
          107.1946953994768,
          107.21123071968465,
          107.2279499815358,
          107.24484927004458,
          107.26192465850477,
          107.27917221000864,
          107.29658797893241,
          107.31416801238807,
          107.331908351641,
          107.34980503349325,
          107.36785409163215,
          107.38605155794394,
          107.40439346379273,
          107.42287584126414,
          107.44149472437448,
          107.46024615024447,
          107.47912616023864,
          107.49813080106985,
          107.51725612586971,
          107.53649819522445,
          107.55585307817752,
          107.57531685319809,
          107.59488560911691,
          107.61455544602934,
          107.63432247616592,
          107.65418282473128,
          107.67413263071172,
          107.69416804765208,
          107.71428524440192,
          107.73448040583254,
          107.75474973352428,
          107.77508944642568,
          107.79549578148439,
          107.81596499425079,
          107.83649335945469,
          107.85707717155617,
          107.87771274527067,
          107.8983964160691,
          107.91912454065402,
          107.93989349741197,
          107.96069968684262,
          107.98153953196622,
          108.00240947870849,
          108.02330599626507,
          108.04422557744523,
          108.06516473899589,
          108.08612002190603,
          108.10708799169302,
          108.12806523867079,
          108.14904837820009,
          108.17003405092281,
          108.19101892297908,
          108.21199968620972,
          108.23297305834242,
          108.25393578316434,
          108.27488463068023,
          108.295816397257,
          108.31672790575544,
          108.33761600564945,
          108.35847757313317,
          108.3793095112168,
          108.40010874981115,
          108.42087224580177,
          108.44159698311303,
          108.46227997276225,
          108.48291825290487,
          108.50350888887053,
          108.52404897319093,
          108.54453562561935,
          108.56496599314298,
          108.58533724998715,
          108.60564659761359,
          108.62589126471129,
          108.64606850718155,
          108.66617560811693,
          108.68620987777446,
          108.70616865354384,
          108.72604929991031,
          108.74584920841302,
          108.76556579759863,
          108.78519651297096,
          108.80473882693674,
          108.82419023874729,
          108.84354827443723,
          108.8628104867594,
          108.88197445511724,
          108.90103778549417,
          108.91999811038023,
          108.93885308869666,
          108.95760040571763,
          108.97623777299076,
          108.99476292825514,
          109.01317363535782,
          109.03146768416882,
          109.04964289049464,
          109.06769709599067,
          109.08562816807229,
          109.10343399982513,
          109.12111250991447,
          109.13866164249382,
          109.15607936711298,
          109.1733636786257,
          109.19051259709644,
          109.20752416770767,
          109.22439646066613,
          109.24112757110956,
          109.25771561901314,
          109.27415874909605,
          109.29045513072822,
          109.30660295783711,
          109.32260044881514,
          109.33844584642695,
          109.35413741771775,
          109.36967345392137,
          109.38505227036944,
          109.40027220640104,
          109.4153316252727,
          109.43022891406939,
          109.44496248361615,
          109.45953076839041,
          109.4739322264353,
          109.48816533927354,
          109.50222861182255,
          109.5161205723102,
          109.52983977219162,
          109.54338478606708,
          109.55675421160055,
          109.56994666943976,
          109.5829608031369,
          109.59579527907073,
          109.60844878636941,
          109.6209200368348,
          109.63320776486769,
          109.64531072739432,
          109.65722770379368,
          109.66895749582665,
          109.68049892756572,
          109.69185084532612,
          109.70301211759828,
          109.71398163498135,
          109.72475831011795,
          109.73534107763018,
          109.745728894057,
          109.75592073779255,
          109.76591560902595,
          109.77571252968241,
          109.78531054336527,
          109.79470871529968,
          109.80390613227722,
          109.81290190260205,
          109.82169515603805,
          109.83028504375748,
          109.83867073829082,
          109.84685143347761,
          109.85482634441904,
          109.86259470743143,
          109.87015578000107,
          109.87750884074039,
          109.88465318934522,
          109.89158814655357,
          109.89831305410543,
          109.90482727470386,
          109.91113019197745,
          109.91722121044393,
          109.923099755475,
          109.92876527326248,
          109.93421723078578,
          109.93945511578026,
          109.94447843670726,
          109.94928672272503,
          109.95387952366123,
          109.95825640998612,
          109.96241697278765,
          109.96636082374717,
          109.97008759511675,
          109.97359693969756,
          109.97688853081944,
          109.97996206232175,
          109.98281724853548,
          109.98545382426637,
          109.98787154477944,
          109.99007018578462,
          109.99204954342365,
          109.99380943425804,
          109.99534969525845,
          109.99667018379508,
          109.99777077762924,
          109.99865137490637,
          109.99931189414991,
          109.99975227425666,
          109.99997247449312,
          109.99997247449312,
          109.99975227425666,
          109.99931189414991,
          109.99865137490636,
          109.99777077762926,
          109.99667018379508,
          109.99534969525845,
          109.99380943425803,
          109.99204954342365,
          109.99007018578462,
          109.98787154477944,
          109.98545382426637,
          109.98281724853548,
          109.97996206232175,
          109.97688853081944,
          109.97359693969757,
          109.97008759511675,
          109.96636082374717,
          109.96241697278764,
          109.95825640998613,
          109.95387952366123,
          109.94928672272505,
          109.94447843670724,
          109.93945511578026,
          109.93421723078579,
          109.92876527326248,
          109.923099755475,
          109.91722121044393,
          109.91113019197745,
          109.90482727470386,
          109.89831305410543,
          109.89158814655359,
          109.88465318934522,
          109.87750884074038,
          109.87015578000107,
          109.86259470743143,
          109.85482634441905,
          109.8468514334776,
          109.8386707382908,
          109.8302850437575,
          109.82169515603805,
          109.81290190260205,
          109.80390613227723,
          109.79470871529969,
          109.78531054336528,
          109.77571252968241,
          109.76591560902595,
          109.75592073779254,
          109.745728894057,
          109.73534107763018,
          109.72475831011793,
          109.71398163498134,
          109.70301211759828,
          109.69185084532612,
          109.68049892756571,
          109.66895749582666,
          109.65722770379367,
          109.64531072739432,
          109.6332077648677,
          109.6209200368348,
          109.6084487863694,
          109.59579527907073,
          109.5829608031369,
          109.56994666943974,
          109.55675421160053,
          109.54338478606708,
          109.52983977219162,
          109.5161205723102,
          109.50222861182255,
          109.48816533927352,
          109.47393222643528,
          109.45953076839041,
          109.44496248361615,
          109.4302289140694,
          109.41533162527271,
          109.40027220640106,
          109.38505227036946,
          109.36967345392135,
          109.35413741771775,
          109.33844584642696,
          109.32260044881512,
          109.30660295783711,
          109.2904551307282,
          109.27415874909606,
          109.25771561901314,
          109.24112757110956,
          109.22439646066613,
          109.20752416770767,
          109.19051259709644,
          109.1733636786257,
          109.15607936711302,
          109.13866164249383,
          109.12111250991447,
          109.10343399982514,
          109.08562816807229,
          109.06769709599067,
          109.04964289049464,
          109.03146768416882,
          109.01317363535782,
          108.99476292825514,
          108.97623777299077,
          108.95760040571763,
          108.93885308869666,
          108.91999811038029,
          108.90103778549418,
          108.88197445511722,
          108.86281048675939,
          108.84354827443724,
          108.8241902387473,
          108.80473882693674,
          108.78519651297096,
          108.76556579759863,
          108.74584920841303,
          108.72604929991034,
          108.70616865354384,
          108.68620987777446,
          108.66617560811693,
          108.64606850718157,
          108.6258912647113,
          108.60564659761359,
          108.58533724998715,
          108.56496599314298,
          108.54453562561939,
          108.52404897319093,
          108.50350888887054,
          108.48291825290487,
          108.46227997276226,
          108.44159698311303,
          108.42087224580177,
          108.40010874981115,
          108.37930951121682,
          108.35847757313319,
          108.33761600564945,
          108.31672790575544,
          108.29581639725698,
          108.27488463068023,
          108.25393578316434,
          108.23297305834241,
          108.21199968620972,
          108.19101892297913,
          108.1700340509228,
          108.14904837820009,
          108.12806523867077,
          108.10708799169302,
          108.086120021906,
          108.06516473899589,
          108.04422557744527,
          108.02330599626507,
          108.00240947870849,
          107.98153953196622,
          107.96069968684264,
          107.93989349741196,
          107.91912454065404,
          107.8983964160691,
          107.87771274527067,
          107.85707717155618,
          107.83649335945469,
          107.81596499425079,
          107.79549578148439,
          107.77508944642568,
          107.75474973352428,
          107.73448040583253,
          107.71428524440194,
          107.69416804765208,
          107.67413263071174,
          107.65418282473127,
          107.63432247616592,
          107.61455544602936,
          107.59488560911693,
          107.57531685319809,
          107.55585307817753,
          107.53649819522447,
          107.51725612586971,
          107.49813080106986,
          107.47912616023862,
          107.46024615024447,
          107.44149472437448,
          107.42287584126416,
          107.40439346379273,
          107.38605155794396,
          107.36785409163215,
          107.34980503349325,
          107.33190835164099,
          107.31416801238805,
          107.29658797893241,
          107.27917221000864,
          107.26192465850477,
          107.24484927004457,
          107.2279499815358,
          107.21123071968464,
          107.19469539947679,
          107.17834792262583,
          107.16219217598959,
          107.1462320299542,
          107.13047133678863,
          107.11491392896824,
          107.09956361746988,
          107.08442419003899,
          107.06949940942964,
          107.05479301161925,
          107.04030870399865,
          107.02605016353931,
          107.01202103493921,
          106.99822492874847,
          106.984665419477,
          106.97134604368553,
          106.95827029806202,
          106.94544163748517,
          106.93286347307757,
          106.92053917024987,
          106.90847204673875,
          106.89666537064079,
          106.88512235844438,
          106.87384617306238,
          106.86283992186799,
          106.85210665473606,
          106.84164936209302,
          106.8314709729776,
          106.82157435311534,
          106.81196230300955,
          106.8026375560517,
          106.79360277665387,
          106.78486055840615,
          106.77641342226215,
          106.7682638147552,
          106.76041410624816,
          106.75286658922016,
          106.74562347659237,
          106.73868690009661,
          106.7320589086887,
          106.72574146701014,
          106.71973645390023,
          106.71404566096174,
          106.70867079118264,
          106.70361345761626,
          106.69887518212259,
          106.69445739417303,
          106.69036142972077,
          106.68658853013909,
          106.68313984122953,
          106.68001641230212,
          106.67721919532902,
          106.67474904417377,
          106.67260671389737,
          106.67079286014251,
          106.66930803859768,
          106.66815270454141,
          106.66732721246858,
          106.66683181579857,
          106.66666666666667
         ]
        }
       ],
       "layout": {
        "font": {
         "family": "sans-serif",
         "size": 18
        },
        "legend": {
         "title": {
          "text": "Eigenstates"
         }
        },
        "template": {
         "data": {
          "bar": [
           {
            "error_x": {
             "color": "#2a3f5f"
            },
            "error_y": {
             "color": "#2a3f5f"
            },
            "marker": {
             "line": {
              "color": "#E5ECF6",
              "width": 0.5
             },
             "pattern": {
              "fillmode": "overlay",
              "size": 10,
              "solidity": 0.2
             }
            },
            "type": "bar"
           }
          ],
          "barpolar": [
           {
            "marker": {
             "line": {
              "color": "#E5ECF6",
              "width": 0.5
             },
             "pattern": {
              "fillmode": "overlay",
              "size": 10,
              "solidity": 0.2
             }
            },
            "type": "barpolar"
           }
          ],
          "carpet": [
           {
            "aaxis": {
             "endlinecolor": "#2a3f5f",
             "gridcolor": "white",
             "linecolor": "white",
             "minorgridcolor": "white",
             "startlinecolor": "#2a3f5f"
            },
            "baxis": {
             "endlinecolor": "#2a3f5f",
             "gridcolor": "white",
             "linecolor": "white",
             "minorgridcolor": "white",
             "startlinecolor": "#2a3f5f"
            },
            "type": "carpet"
           }
          ],
          "choropleth": [
           {
            "colorbar": {
             "outlinewidth": 0,
             "ticks": ""
            },
            "type": "choropleth"
           }
          ],
          "contour": [
           {
            "colorbar": {
             "outlinewidth": 0,
             "ticks": ""
            },
            "colorscale": [
             [
              0,
              "#0d0887"
             ],
             [
              0.1111111111111111,
              "#46039f"
             ],
             [
              0.2222222222222222,
              "#7201a8"
             ],
             [
              0.3333333333333333,
              "#9c179e"
             ],
             [
              0.4444444444444444,
              "#bd3786"
             ],
             [
              0.5555555555555556,
              "#d8576b"
             ],
             [
              0.6666666666666666,
              "#ed7953"
             ],
             [
              0.7777777777777778,
              "#fb9f3a"
             ],
             [
              0.8888888888888888,
              "#fdca26"
             ],
             [
              1,
              "#f0f921"
             ]
            ],
            "type": "contour"
           }
          ],
          "contourcarpet": [
           {
            "colorbar": {
             "outlinewidth": 0,
             "ticks": ""
            },
            "type": "contourcarpet"
           }
          ],
          "heatmap": [
           {
            "colorbar": {
             "outlinewidth": 0,
             "ticks": ""
            },
            "colorscale": [
             [
              0,
              "#0d0887"
             ],
             [
              0.1111111111111111,
              "#46039f"
             ],
             [
              0.2222222222222222,
              "#7201a8"
             ],
             [
              0.3333333333333333,
              "#9c179e"
             ],
             [
              0.4444444444444444,
              "#bd3786"
             ],
             [
              0.5555555555555556,
              "#d8576b"
             ],
             [
              0.6666666666666666,
              "#ed7953"
             ],
             [
              0.7777777777777778,
              "#fb9f3a"
             ],
             [
              0.8888888888888888,
              "#fdca26"
             ],
             [
              1,
              "#f0f921"
             ]
            ],
            "type": "heatmap"
           }
          ],
          "histogram": [
           {
            "marker": {
             "pattern": {
              "fillmode": "overlay",
              "size": 10,
              "solidity": 0.2
             }
            },
            "type": "histogram"
           }
          ],
          "histogram2d": [
           {
            "colorbar": {
             "outlinewidth": 0,
             "ticks": ""
            },
            "colorscale": [
             [
              0,
              "#0d0887"
             ],
             [
              0.1111111111111111,
              "#46039f"
             ],
             [
              0.2222222222222222,
              "#7201a8"
             ],
             [
              0.3333333333333333,
              "#9c179e"
             ],
             [
              0.4444444444444444,
              "#bd3786"
             ],
             [
              0.5555555555555556,
              "#d8576b"
             ],
             [
              0.6666666666666666,
              "#ed7953"
             ],
             [
              0.7777777777777778,
              "#fb9f3a"
             ],
             [
              0.8888888888888888,
              "#fdca26"
             ],
             [
              1,
              "#f0f921"
             ]
            ],
            "type": "histogram2d"
           }
          ],
          "histogram2dcontour": [
           {
            "colorbar": {
             "outlinewidth": 0,
             "ticks": ""
            },
            "colorscale": [
             [
              0,
              "#0d0887"
             ],
             [
              0.1111111111111111,
              "#46039f"
             ],
             [
              0.2222222222222222,
              "#7201a8"
             ],
             [
              0.3333333333333333,
              "#9c179e"
             ],
             [
              0.4444444444444444,
              "#bd3786"
             ],
             [
              0.5555555555555556,
              "#d8576b"
             ],
             [
              0.6666666666666666,
              "#ed7953"
             ],
             [
              0.7777777777777778,
              "#fb9f3a"
             ],
             [
              0.8888888888888888,
              "#fdca26"
             ],
             [
              1,
              "#f0f921"
             ]
            ],
            "type": "histogram2dcontour"
           }
          ],
          "mesh3d": [
           {
            "colorbar": {
             "outlinewidth": 0,
             "ticks": ""
            },
            "type": "mesh3d"
           }
          ],
          "parcoords": [
           {
            "line": {
             "colorbar": {
              "outlinewidth": 0,
              "ticks": ""
             }
            },
            "type": "parcoords"
           }
          ],
          "pie": [
           {
            "automargin": true,
            "type": "pie"
           }
          ],
          "scatter": [
           {
            "fillpattern": {
             "fillmode": "overlay",
             "size": 10,
             "solidity": 0.2
            },
            "type": "scatter"
           }
          ],
          "scatter3d": [
           {
            "line": {
             "colorbar": {
              "outlinewidth": 0,
              "ticks": ""
             }
            },
            "marker": {
             "colorbar": {
              "outlinewidth": 0,
              "ticks": ""
             }
            },
            "type": "scatter3d"
           }
          ],
          "scattercarpet": [
           {
            "marker": {
             "colorbar": {
              "outlinewidth": 0,
              "ticks": ""
             }
            },
            "type": "scattercarpet"
           }
          ],
          "scattergeo": [
           {
            "marker": {
             "colorbar": {
              "outlinewidth": 0,
              "ticks": ""
             }
            },
            "type": "scattergeo"
           }
          ],
          "scattergl": [
           {
            "marker": {
             "colorbar": {
              "outlinewidth": 0,
              "ticks": ""
             }
            },
            "type": "scattergl"
           }
          ],
          "scattermap": [
           {
            "marker": {
             "colorbar": {
              "outlinewidth": 0,
              "ticks": ""
             }
            },
            "type": "scattermap"
           }
          ],
          "scattermapbox": [
           {
            "marker": {
             "colorbar": {
              "outlinewidth": 0,
              "ticks": ""
             }
            },
            "type": "scattermapbox"
           }
          ],
          "scatterpolar": [
           {
            "marker": {
             "colorbar": {
              "outlinewidth": 0,
              "ticks": ""
             }
            },
            "type": "scatterpolar"
           }
          ],
          "scatterpolargl": [
           {
            "marker": {
             "colorbar": {
              "outlinewidth": 0,
              "ticks": ""
             }
            },
            "type": "scatterpolargl"
           }
          ],
          "scatterternary": [
           {
            "marker": {
             "colorbar": {
              "outlinewidth": 0,
              "ticks": ""
             }
            },
            "type": "scatterternary"
           }
          ],
          "surface": [
           {
            "colorbar": {
             "outlinewidth": 0,
             "ticks": ""
            },
            "colorscale": [
             [
              0,
              "#0d0887"
             ],
             [
              0.1111111111111111,
              "#46039f"
             ],
             [
              0.2222222222222222,
              "#7201a8"
             ],
             [
              0.3333333333333333,
              "#9c179e"
             ],
             [
              0.4444444444444444,
              "#bd3786"
             ],
             [
              0.5555555555555556,
              "#d8576b"
             ],
             [
              0.6666666666666666,
              "#ed7953"
             ],
             [
              0.7777777777777778,
              "#fb9f3a"
             ],
             [
              0.8888888888888888,
              "#fdca26"
             ],
             [
              1,
              "#f0f921"
             ]
            ],
            "type": "surface"
           }
          ],
          "table": [
           {
            "cells": {
             "fill": {
              "color": "#EBF0F8"
             },
             "line": {
              "color": "white"
             }
            },
            "header": {
             "fill": {
              "color": "#C8D4E3"
             },
             "line": {
              "color": "white"
             }
            },
            "type": "table"
           }
          ]
         },
         "layout": {
          "annotationdefaults": {
           "arrowcolor": "#2a3f5f",
           "arrowhead": 0,
           "arrowwidth": 1
          },
          "autotypenumbers": "strict",
          "coloraxis": {
           "colorbar": {
            "outlinewidth": 0,
            "ticks": ""
           }
          },
          "colorscale": {
           "diverging": [
            [
             0,
             "#8e0152"
            ],
            [
             0.1,
             "#c51b7d"
            ],
            [
             0.2,
             "#de77ae"
            ],
            [
             0.3,
             "#f1b6da"
            ],
            [
             0.4,
             "#fde0ef"
            ],
            [
             0.5,
             "#f7f7f7"
            ],
            [
             0.6,
             "#e6f5d0"
            ],
            [
             0.7,
             "#b8e186"
            ],
            [
             0.8,
             "#7fbc41"
            ],
            [
             0.9,
             "#4d9221"
            ],
            [
             1,
             "#276419"
            ]
           ],
           "sequential": [
            [
             0,
             "#0d0887"
            ],
            [
             0.1111111111111111,
             "#46039f"
            ],
            [
             0.2222222222222222,
             "#7201a8"
            ],
            [
             0.3333333333333333,
             "#9c179e"
            ],
            [
             0.4444444444444444,
             "#bd3786"
            ],
            [
             0.5555555555555556,
             "#d8576b"
            ],
            [
             0.6666666666666666,
             "#ed7953"
            ],
            [
             0.7777777777777778,
             "#fb9f3a"
            ],
            [
             0.8888888888888888,
             "#fdca26"
            ],
            [
             1,
             "#f0f921"
            ]
           ],
           "sequentialminus": [
            [
             0,
             "#0d0887"
            ],
            [
             0.1111111111111111,
             "#46039f"
            ],
            [
             0.2222222222222222,
             "#7201a8"
            ],
            [
             0.3333333333333333,
             "#9c179e"
            ],
            [
             0.4444444444444444,
             "#bd3786"
            ],
            [
             0.5555555555555556,
             "#d8576b"
            ],
            [
             0.6666666666666666,
             "#ed7953"
            ],
            [
             0.7777777777777778,
             "#fb9f3a"
            ],
            [
             0.8888888888888888,
             "#fdca26"
            ],
            [
             1,
             "#f0f921"
            ]
           ]
          },
          "colorway": [
           "#636efa",
           "#EF553B",
           "#00cc96",
           "#ab63fa",
           "#FFA15A",
           "#19d3f3",
           "#FF6692",
           "#B6E880",
           "#FF97FF",
           "#FECB52"
          ],
          "font": {
           "color": "#2a3f5f"
          },
          "geo": {
           "bgcolor": "white",
           "lakecolor": "white",
           "landcolor": "#E5ECF6",
           "showlakes": true,
           "showland": true,
           "subunitcolor": "white"
          },
          "hoverlabel": {
           "align": "left"
          },
          "hovermode": "closest",
          "mapbox": {
           "style": "light"
          },
          "paper_bgcolor": "white",
          "plot_bgcolor": "#E5ECF6",
          "polar": {
           "angularaxis": {
            "gridcolor": "white",
            "linecolor": "white",
            "ticks": ""
           },
           "bgcolor": "#E5ECF6",
           "radialaxis": {
            "gridcolor": "white",
            "linecolor": "white",
            "ticks": ""
           }
          },
          "scene": {
           "xaxis": {
            "backgroundcolor": "#E5ECF6",
            "gridcolor": "white",
            "gridwidth": 2,
            "linecolor": "white",
            "showbackground": true,
            "ticks": "",
            "zerolinecolor": "white"
           },
           "yaxis": {
            "backgroundcolor": "#E5ECF6",
            "gridcolor": "white",
            "gridwidth": 2,
            "linecolor": "white",
            "showbackground": true,
            "ticks": "",
            "zerolinecolor": "white"
           },
           "zaxis": {
            "backgroundcolor": "#E5ECF6",
            "gridcolor": "white",
            "gridwidth": 2,
            "linecolor": "white",
            "showbackground": true,
            "ticks": "",
            "zerolinecolor": "white"
           }
          },
          "shapedefaults": {
           "line": {
            "color": "#2a3f5f"
           }
          },
          "ternary": {
           "aaxis": {
            "gridcolor": "white",
            "linecolor": "white",
            "ticks": ""
           },
           "baxis": {
            "gridcolor": "white",
            "linecolor": "white",
            "ticks": ""
           },
           "bgcolor": "#E5ECF6",
           "caxis": {
            "gridcolor": "white",
            "linecolor": "white",
            "ticks": ""
           }
          },
          "title": {
           "x": 0.05
          },
          "xaxis": {
           "automargin": true,
           "gridcolor": "white",
           "linecolor": "white",
           "ticks": "",
           "title": {
            "standoff": 15
           },
           "zerolinecolor": "white",
           "zerolinewidth": 2
          },
          "yaxis": {
           "automargin": true,
           "gridcolor": "white",
           "linecolor": "white",
           "ticks": "",
           "title": {
            "standoff": 15
           },
           "zerolinecolor": "white",
           "zerolinewidth": 2
          }
         }
        },
        "title": {
         "text": "Energy Spectrum as a Function of Time"
        },
        "xaxis": {
         "title": {
          "text": "Time [a.u.]"
         }
        },
        "yaxis": {
         "title": {
          "text": "Energy"
         }
        }
       }
      }
     },
     "metadata": {},
     "output_type": "display_data"
    }
   ],
   "source": [
    "import plotly.graph_objects as go\n",
    "\n",
    "Ep = 50\n",
    "Hp = -Ep * sum(S)\n",
    "# Calculate the initial Hamiltonian eigenstates\n",
    "H_S_0 = omega_t(0) * X_L + delta_t(0) * Z_L + Hp\n",
    "eigenvalues_0, eigenstates_0 = H_S_0.eigenstates()\n",
    "\n",
    "# Initialize storage for the first two eigenstates and the rest\n",
    "states = {index: [eigenvalues_0[index]] for index in range(len(eigenvalues_0))}\n",
    "\n",
    "# Loop through time steps\n",
    "for t_step in range(1, len(times)):\n",
    "    H_S = omega_t(times[t_step]) * X_L + delta_t(times[t_step]) * Z_L + Hp\n",
    "    eigenvalues, eigenstates = H_S.eigenstates()\n",
    "\n",
    "    # Handle the first two eigenstates with overlap matching\n",
    "    for state_index in range(2):  # Restrict to the first two eigenstates of H_S_0\n",
    "        state_0 = eigenstates_0[state_index]\n",
    "        max_overlap = 0\n",
    "        best_match_index = 0\n",
    "\n",
    "        for i, state_t in enumerate(eigenstates):\n",
    "            proj = np.abs(state_0.overlap(state_t))**2\n",
    "            if proj > max_overlap:\n",
    "                max_overlap = proj\n",
    "                best_match_index = i\n",
    "\n",
    "        # Append the best matching eigenvalue for the first two eigenstates\n",
    "        states[state_index].append(eigenvalues[best_match_index])\n",
    "\n",
    "    # For the remaining eigenstates, just append their eigenvalues directly\n",
    "    for state_index in range(2, len(eigenvalues)):\n",
    "        states[state_index].append(eigenvalues[state_index])\n",
    "\n",
    "# Create the plot\n",
    "fig = go.Figure()\n",
    "\n",
    "colors = ['red', 'blue']\n",
    "for state_index, energies in states.items():\n",
    "    if state_index < 2:  # Highlight the first two eigenstates\n",
    "        fig.add_trace(go.Scatter(\n",
    "            x=times,\n",
    "            y=energies,\n",
    "            mode='lines',\n",
    "            line=dict(color=colors[state_index % len(colors)], width=2),\n",
    "            name=f\"Eigenstate {state_index + 1}\"\n",
    "        ))\n",
    "    else:  # Plot the rest as dashed lines\n",
    "        fig.add_trace(go.Scatter(\n",
    "            x=times,\n",
    "            y=energies,\n",
    "            mode='lines',\n",
    "            line=dict(color='black', width=1, dash='dash'),\n",
    "            name=f\"Eigenstate {state_index + 1}\"\n",
    "        ))\n",
    "\n",
    "# Update layout\n",
    "fig.update_layout(\n",
    "    title=\"Energy Spectrum as a Function of Time\",\n",
    "    xaxis_title=\"Time [a.u.]\",\n",
    "    yaxis_title=\"Energy\",\n",
    "    font=dict(family=\"sans-serif\", size=18),\n",
    "    legend_title=\"Eigenstates\",\n",
    "    template=\"plotly\"\n",
    ")\n",
    "\n",
    "# Show the plot\n",
    "fig.show()"
   ]
  },
  {
   "cell_type": "code",
   "execution_count": 9,
   "id": "bc3f3573",
   "metadata": {
    "ExecuteTime": {
     "end_time": "2025-07-30T12:22:12.705424Z",
     "start_time": "2025-07-30T12:22:12.696953Z"
    }
   },
   "outputs": [],
   "source": [
    "def bose_einstein_distribution(energy_diff, temperature):\n",
    "    if temperature == 0:\n",
    "        return 0\n",
    "    return 1 / (np.exp(energy_diff / (temperature)) - 1)\n",
    "\n",
    "def gab(omega1, omega2, lambda_2):\n",
    "    if omega1 >= omega2:\n",
    "        return 0\n",
    "    return np.sqrt(lambda_2)\n",
    "\n",
    "def c_ops_gen_new(t, args):\n",
    "    H_inst_t = args['args_H'](t)  # Instantaneous Hamiltonian at time t\n",
    "    eigenvalues, eigenstates = H_inst_t.eigenstates()\n",
    "    c_s = []\n",
    "    c_ops = []\n",
    "    for a_i, a in enumerate(eigenstates):\n",
    "\n",
    "        omega_a = eigenvalues[a_i]\n",
    "        for b_i, b in enumerate(eigenstates[a_i+1:]):\n",
    "            omega_b = eigenvalues[a_i + b_i + 1]\n",
    "            \n",
    "            c = b*a.dag()\n",
    "            c_coef = 0\n",
    "            for i in range(args['n_qubits']):\n",
    "                sigmam_i = tensor([sigmam() if j == i else I for j in range(args['n_qubits'])])\n",
    "                \n",
    "                if np.abs(omega_a - omega_b) < 1e-6:\n",
    "                    continue  # Skip nearly degenerate states\n",
    "                \n",
    "                # For decay transitions (omega_b > omega_a)\n",
    "                if omega_b > omega_a:\n",
    "                    Nba = bose_einstein_distribution(omega_b - omega_a, args['T'])\n",
    "                    g_ba = gab(omega_a, omega_b, args['lambda_2'])\n",
    "\n",
    "                    ma_ba = a.dag() * sigmam_i * b * b.dag() * sigmam_i.dag() * a\n",
    "                    decay_op = np.sqrt(Nba * (g_ba ** 2) * ma_ba)\n",
    "                    c_coef += decay_op\n",
    "\n",
    "                # For excitation transitions (omega_a > omega_b)\n",
    "                elif omega_a > omega_b:\n",
    "                    Nab = bose_einstein_distribution(omega_a - omega_b, args['T'])\n",
    "                    g_ab = gab(omega_b, omega_a, args['lambda_2'])\n",
    "                    ma_ab = b.dag() * sigmam_i * a * a.dag() * sigmam_i.dag() * b\n",
    "                    excitation_op = np.sqrt((Nab + 1) * (g_ab ** 2) * ma_ab)                    \n",
    "                    c_coef += excitation_op\n",
    "                    \n",
    "                    \n",
    "            if c_coef > 1e-5:\n",
    "                c_ops.append(c.to('csr')*c_coef)\n",
    "                c_s.append(c_coef)\n",
    "            else:\n",
    "                c_s.append(0)\n",
    "\n",
    "    return c_ops, c_s"
   ]
  },
  {
   "cell_type": "code",
   "execution_count": 10,
   "id": "4ab9f444",
   "metadata": {
    "ExecuteTime": {
     "end_time": "2025-07-30T12:23:31.217150Z",
     "start_time": "2025-07-30T12:23:03.646696Z"
    }
   },
   "outputs": [
    {
     "name": "stdout",
     "output_type": "stream",
     "text": [
      "|ψ⟩ = 1.00|000⟩\n",
      "0\n",
      "1\n",
      "2\n",
      "3\n",
      "4\n",
      "5\n",
      "10\n",
      "25\n",
      "50\n"
     ]
    },
    {
     "data": {
      "image/png": "[encoded data removed]",
      "text/plain": [
       "<Figure size 800x600 with 1 Axes>"
      ]
     },
     "metadata": {},
     "output_type": "display_data"
    },
    {
     "name": "stdout",
     "output_type": "stream",
     "text": [
      "Done\n"
     ]
    }
   ],
   "source": [
    "print_quantum_state_as_superposition(initial_state)\n",
    "\n",
    " \n",
    "times = np.linspace(0, T_max, 501) # has to be +1 for the final time stamp\n",
    "\n",
    "nsteps = 1e5\n",
    "gamma_sqrt = 0.1\n",
    "T = 20 # temp\n",
    "\n",
    "# Eps = [0, 50, 100, 200, 300]\n",
    "Eps = [0, 1, 2, 3, 4, 5, 10, 25, 50]\n",
    "\n",
    "rho0 = logical_zero * logical_zero.dag()\n",
    "rho1 = logical_one * logical_one.dag()\n",
    "e_ops = [rho0, rho1]\n",
    "\n",
    "plt.figure(figsize=(8, 6))\n",
    "\n",
    "# Plotting Ideal\n",
    "def H_se(t):\n",
    "    return omega_t(t) * X_L + delta_t(t) * Z_L\n",
    "\n",
    "results_se = sesolve(H_se, logical_zero, times, e_ops=e_ops)\n",
    "plt.plot(times, results_se.expect[1], linestyle=\"--\", label=r\"ideal\")\n",
    "\n",
    "# Loop over different values of Ep\n",
    "for Ep in Eps:\n",
    "    print(Ep)\n",
    "    rho_init = initial_state * initial_state.dag()\n",
    "    e_ops = [rho0, rho1]\n",
    "    \n",
    "    # Time-dependent Hamiltonian\n",
    "    def H_t(t):\n",
    "        H_RAP = X_L * omega_t(t) + Z_L * delta_t(t)\n",
    "        \n",
    "        Ht = H_RAP - Ep * sum(S)\n",
    "        return Ht.to('csr')  # Assuming H_x and H_z are valid Qobjs\n",
    "\n",
    "    args_C = {\"args_H\": H_t,\n",
    "              \"n_qubits\": n_qubits,\n",
    "              \"lambda_2\":gamma_sqrt,\n",
    "              \"T\":T}\n",
    "\n",
    "    prev_time = times[0]\n",
    "    expects_0 = []\n",
    "    expects_1 = []\n",
    "    \n",
    "    time_inter = times[1] - times[0]\n",
    "\n",
    "    tot_time = times[1:]\n",
    "    tot_time = np.append(tot_time, times[-1] + time_inter)\n",
    "    \n",
    "    for dt in tot_time:\n",
    "        c_ops, c_s = c_ops_gen_new(dt, args=args_C)\n",
    "        # c_ops = [i*1e-1 for i in [tensor(sigmam(),I,I), tensor(I,sigmam(),I), tensor(I,I,sigmam())]]\n",
    "\n",
    "        t_steps = [prev_time, dt]\n",
    "        results = mesolve(H_t, rho_init, t_steps, c_ops=c_ops, args=args_C, e_ops=e_ops,\n",
    "                          options={'store_states': True})\n",
    "\n",
    "        # Updating\n",
    "        prev_time = dt\n",
    "        rho_init = results.states[-1]\n",
    "\n",
    "        # Saving\n",
    "        expects_1.append(results.expect[1][0])\n",
    "        expects_0.append(results.expect[0][0])\n",
    "    \n",
    "    # Plotting results\n",
    "    expects_all = [expects_1[i] for i in range(len(expects_1))]\n",
    "\n",
    "    plt.plot(times, expects_all, label=r\"$E_{P}$=\" + str(Ep))\n",
    "\n",
    "    \n",
    "    \n",
    "plt.legend()\n",
    "plt.xlabel('[a.u.]', size=22)\n",
    "plt.ylabel('Fidelity', size=22)\n",
    "plt.show()\n",
    "plt.close()\n",
    "\n",
    "print(\"Done\")"
   ]
  },
  {
   "cell_type": "markdown",
   "id": "e4ebebabf98b7574",
   "metadata": {},
   "source": [
    "# Plotting the evolution of transition coefficients (c_coef) over time\n",
    "The plot illustrates the evolution of transition coefficients (c_coef) over time for various quantum state transitions. Notably, the transitions involving (0, i) and (1, i) remain consistently low throughout the protocol. This behavior is crucial as it ensures that the logical state remains confined to the ground space, preserving the fidelity of the quantum computation and minimizing leakage to higher energy states. This characteristic is essential for maintaining the robustness of the logical qubit during the adiabatic evolution."
   ]
  },
  {
   "cell_type": "code",
   "execution_count": 11,
   "id": "54b4d026764811b4",
   "metadata": {
    "ExecuteTime": {
     "end_time": "2025-07-30T12:20:31.038967Z",
     "start_time": "2025-07-30T12:20:31.035243Z"
    }
   },
   "outputs": [],
   "source": [
    "def c_ops_gen_new_with_tracking(t, args):\n",
    "    H_inst_t = args['args_H'](t)  # Instantaneous Hamiltonian at time t\n",
    "    eigenvalues, eigenstates = H_inst_t.eigenstates()\n",
    "    c_coef_tracking = {}\n",
    "    for a_i, a in enumerate(eigenstates):\n",
    "        omega_a = eigenvalues[a_i]\n",
    "        for b_i, b in enumerate(eigenstates[a_i+1:]):\n",
    "            omega_b = eigenvalues[a_i + b_i + 1]\n",
    "            c_coef = 0\n",
    "            for i in range(args['n_qubits']):\n",
    "                sigmam_i = tensor([sigmam() if j == i else qeye(2) for j in range(args['n_qubits'])])\n",
    "                if np.abs(omega_a - omega_b) < 1e-6:\n",
    "                    continue  # Skip nearly degenerate states\n",
    "                if omega_b > omega_a:  # Decay transitions\n",
    "                    Nba = bose_einstein_distribution(omega_b - omega_a, args['T'])\n",
    "                    g_ba = gab(omega_a, omega_b, args['lambda_2'])\n",
    "                    ma_ba = a.dag() * sigmam_i * b * b.dag() * sigmam_i.dag() * a\n",
    "                    c_coef += np.sqrt(Nba * (g_ba ** 2) * ma_ba)\n",
    "                elif omega_a > omega_b:  # Excitation transitions\n",
    "                    Nab = bose_einstein_distribution(omega_a - omega_b, args['T'])\n",
    "                    g_ab = gab(omega_b, omega_a, args['lambda_2'])\n",
    "                    ma_ab = b.dag() * sigmam_i * a * a.dag() * sigmam_i.dag() * b\n",
    "                    c_coef += np.sqrt((Nab + 1) * (g_ab ** 2) * ma_ab)\n",
    "            # Store c_coef for transition (a_i, b_i)\n",
    "            transition_key = (a_i, a_i + b_i + 1)\n",
    "            if transition_key not in c_coef_tracking:\n",
    "                c_coef_tracking[transition_key] = []\n",
    "            c_coef_tracking[transition_key].append(c_coef)\n",
    "    return c_coef_tracking\n",
    "\n",
    "# Define args\n",
    "args = {\n",
    "    \"args_H\": lambda t: omega_t(t) * X_L + delta_t(t) * Z_L - 0 * sum(S),\n",
    "    \"n_qubits\": 3,\n",
    "    \"lambda_2\": 0.1,\n",
    "    \"T\": 100\n",
    "}\n"
   ]
  },
  {
   "cell_type": "code",
   "execution_count": 12,
   "id": "69b72a2f1d60d3ac",
   "metadata": {
    "ExecuteTime": {
     "end_time": "2025-07-30T12:24:04.578270Z",
     "start_time": "2025-07-30T12:24:04.258980Z"
    }
   },
   "outputs": [
    {
     "data": {
      "application/vnd.plotly.v1+json": {
       "config": {
        "plotlyServerURL": "https://plot.ly"
       },
       "data": [
        {
         "mode": "markers",
         "name": "Transition (0, 1)",
         "type": "scatter",
         "x": {
          "bdata": "AAAAAAAAAACamZmZmZm5P5qZmZmZmck/NDMzMzMz0z+amZmZmZnZPwAAAAAAAOA/NDMzMzMz4z9nZmZmZmbmP5qZmZmZmek/zczMzMzM7D8AAAAAAADwP5qZmZmZmfE/NDMzMzMz8z/NzMzMzMz0P2dmZmZmZvY/AAAAAAAA+D+amZmZmZn5PzQzMzMzM/s/zczMzMzM/D9nZmZmZmb+PwAAAAAAAABAzczMzMzMAECamZmZmZkBQGdmZmZmZgJANDMzMzMzA0AAAAAAAAAEQM3MzMzMzARAmpmZmZmZBUBnZmZmZmYGQDQzMzMzMwdAAAAAAAAACEDNzMzMzMwIQJqZmZmZmQlAZ2ZmZmZmCkA0MzMzMzMLQAAAAAAAAAxAzczMzMzMDECamZmZmZkNQGdmZmZmZg5ANDMzMzMzD0AAAAAAAAAQQGdmZmZmZhBAzczMzMzMEEAzMzMzMzMRQJqZmZmZmRFAAAAAAAAAEkBnZmZmZmYSQM3MzMzMzBJANDMzMzMzE0CamZmZmZkTQAAAAAAAABRAZ2ZmZmZmFEDNzMzMzMwUQDQzMzMzMxVAmpmZmZmZFUAAAAAAAAAWQGdmZmZmZhZAzczMzMzMFkA0MzMzMzMXQJqZmZmZmRdAAAAAAAAAGEBnZmZmZmYYQM3MzMzMzBhANDMzMzMzGUCamZmZmZkZQAAAAAAAABpAZ2ZmZmZmGkDNzMzMzMwaQDQzMzMzMxtAmpmZmZmZG0AAAAAAAAAcQGdmZmZmZhxAzczMzMzMHEA0MzMzMzMdQJqZmZmZmR1AAAAAAAAAHkBnZmZmZmYeQM3MzMzMzB5ANDMzMzMzH0CamZmZmZkfQAAAAAAAACBAMzMzMzMzIEBnZmZmZmYgQJqZmZmZmSBAzczMzMzMIEAAAAAAAAAhQDMzMzMzMyFAZ2ZmZmZmIUCamZmZmZkhQM3MzMzMzCFAAAAAAAAAIkAzMzMzMzMiQGdmZmZmZiJAmpmZmZmZIkDNzMzMzMwiQAAAAAAAACNANDMzMzMzI0BnZmZmZmYjQJqZmZmZmSNAzczMzMzMI0AAAAAAAAAkQA==",
          "dtype": "f8"
         },
         "y": [
          0,
          0.00015498110360226972,
          0.0006202892400343813,
          0.0013970442652811949,
          0.0024871965385681004,
          0.005016622430801204,
          0.005620434338963759,
          0.007672910290708665,
          0.011901528697061056,
          0.012784603441498996,
          0.019701947485426946,
          0.019308769955404512,
          0.023136471147940547,
          0.02736670759429653,
          0.03202333771701321,
          0.03713470754112446,
          0.04772910160175864,
          0.05838999107478207,
          0.05798684664547841,
          0.06289171239364434,
          0.07091198879920427,
          0.07969743532287131,
          0.0893345707002923,
          0.12443351687072707,
          0.11158705064911377,
          0.12446161802320733,
          0.13871416805617465,
          0.15454140350164744,
          0.17217799833321853,
          0.1919055340264269,
          0.2140640774910181,
          0.2390673572011321,
          0.2674229156330444,
          0.2997592609449421,
          0.3368630489689232,
          0.3797309411008112,
          0.4296434390464465,
          0.4882724962385073,
          0.5578425869413447,
          0.6413792556078383,
          0.7431064343213741,
          0.8691083663987024,
          1.0284879131848625,
          1.2355180363103146,
          1.5139457754844698,
          1.9064630638635345,
          2.498387408922641,
          3.488709949392543,
          5.474297602253747,
          11.439327251829702,
          0,
          12.438763834486917,
          6.472059894391876,
          4.483733800862286,
          3.489682835860354,
          2.893136678084941,
          2.4952171555463942,
          2.210729702826825,
          1.9971092077961898,
          1.8307340130383385,
          1.6974508463324813,
          1.588267751417415,
          1.497200628841594,
          1.4201139219152756,
          1.354058462424105,
          1.2968744962801781,
          1.2469438641062305,
          1.2030298915955853,
          1.1641708440526544,
          1.1296071741486389,
          1.0987307018137544,
          1.071048387101634,
          1.0461560296823167,
          1.0237188556424175,
          1.0034569689054713,
          0.985134294855,
          0.9685500685483438,
          0.953532202813489,
          0.9399320632908947,
          0.9276203096390636,
          0.9164835546282721,
          0.9825028808378621,
          0.8973455238865929,
          0.8942899521634309,
          0.8818388482814659,
          0.8752706368614924,
          0.8694106476042575,
          0.8642036404934555,
          0.8611151227115567,
          0.855547908289116,
          0.8520077588647288,
          0.8489372341252677,
          0.8462985985426145,
          0.8440572554113444,
          0.8421818641431305,
          0.8406445262071829,
          0.839421018242581,
          0.8384910485924169,
          0.8378385123833496,
          0.8374517207944089,
          0.8373235826323617
         ]
        },
        {
         "mode": "markers",
         "name": "Transition (0, 2)",
         "type": "scatter",
         "x": {
          "bdata": "AAAAAAAAAACamZmZmZm5P5qZmZmZmck/NDMzMzMz0z+amZmZmZnZPwAAAAAAAOA/NDMzMzMz4z9nZmZmZmbmP5qZmZmZmek/zczMzMzM7D8AAAAAAADwP5qZmZmZmfE/NDMzMzMz8z/NzMzMzMz0P2dmZmZmZvY/AAAAAAAA+D+amZmZmZn5PzQzMzMzM/s/zczMzMzM/D9nZmZmZmb+PwAAAAAAAABAzczMzMzMAECamZmZmZkBQGdmZmZmZgJANDMzMzMzA0AAAAAAAAAEQM3MzMzMzARAmpmZmZmZBUBnZmZmZmYGQDQzMzMzMwdAAAAAAAAACEDNzMzMzMwIQJqZmZmZmQlAZ2ZmZmZmCkA0MzMzMzMLQAAAAAAAAAxAzczMzMzMDECamZmZmZkNQGdmZmZmZg5ANDMzMzMzD0AAAAAAAAAQQGdmZmZmZhBAzczMzMzMEEAzMzMzMzMRQJqZmZmZmRFAAAAAAAAAEkBnZmZmZmYSQM3MzMzMzBJANDMzMzMzE0CamZmZmZkTQAAAAAAAABRAZ2ZmZmZmFEDNzMzMzMwUQDQzMzMzMxVAmpmZmZmZFUAAAAAAAAAWQGdmZmZmZhZAzczMzMzMFkA0MzMzMzMXQJqZmZmZmRdAAAAAAAAAGEBnZmZmZmYYQM3MzMzMzBhANDMzMzMzGUCamZmZmZkZQAAAAAAAABpAZ2ZmZmZmGkDNzMzMzMwaQDQzMzMzMxtAmpmZmZmZG0AAAAAAAAAcQGdmZmZmZhxAzczMzMzMHEA0MzMzMzMdQJqZmZmZmR1AAAAAAAAAHkBnZmZmZmYeQM3MzMzMzB5ANDMzMzMzH0CamZmZmZkfQAAAAAAAACBAMzMzMzMzIEBnZmZmZmYgQJqZmZmZmSBAzczMzMzMIEAAAAAAAAAhQDMzMzMzMyFAZ2ZmZmZmIUCamZmZmZkhQM3MzMzMzCFAAAAAAAAAIkAzMzMzMzMiQGdmZmZmZiJAmpmZmZmZIkDNzMzMzMwiQAAAAAAAACNANDMzMzMzI0BnZmZmZmYjQJqZmZmZmSNAzczMzMzMI0AAAAAAAAAkQA==",
          "dtype": "f8"
         },
         "y": [
          0,
          0.00015498110360226972,
          0.0006202892400343813,
          0.0013970442652811949,
          0.0024871965385680986,
          0.005249322444920275,
          0.005683624837449009,
          0.00767291029070866,
          0.014149436683680393,
          0.012784603441498996,
          0.019701947485426967,
          0.0202552977512674,
          0.023937028470222766,
          0.02736670759429653,
          0.03202333771701321,
          0.03713470754112446,
          0.06396311440733321,
          0.06658405865223813,
          0.07188446729336562,
          0.06289171239364438,
          0.07091198879920427,
          0.07969743532287131,
          0.08933457070029228,
          0.09992476438076635,
          0.11158705064911377,
          0.12446161802320733,
          0.13871416805617465,
          0.15454140350164744,
          0.1721779983332186,
          0.19190553402642677,
          0.21406407749101802,
          0.23906735720113184,
          0.2674229156330444,
          0.2997592609449421,
          0.3368630489689232,
          0.3797309411008112,
          0.42964343904644486,
          0.4882724962385076,
          0.5578425869413448,
          0.6413792556078378,
          0.7431064343213689,
          0.8691083663987026,
          1.0284879131848625,
          1.2355180363103146,
          1.5139457754844698,
          1.9064630638635345,
          2.498387408922641,
          3.4887099493925424,
          5.4742976022537455,
          11.439327251829702,
          0,
          12.43876383448691,
          6.472059894391875,
          4.483733800862284,
          3.489682835860354,
          2.89313667808494,
          2.4952171555463956,
          2.2107297028268245,
          1.9971092077961907,
          1.830734013038338,
          1.697450846332481,
          1.5882677514174144,
          1.4972006288415938,
          1.4201139219152759,
          1.3540584624241054,
          1.2968744962801781,
          1.2469438641062305,
          1.2030298915955855,
          1.1641708440526544,
          1.1296071741486386,
          1.0987307018137544,
          1.0710483871016345,
          1.0461560296823174,
          1.0237188556424184,
          1.0034569689054718,
          0.985134294854999,
          0.9685500685483436,
          0.9535322028134874,
          0.9399320632908946,
          0.9276203096390636,
          0.9164835546282721,
          0.9825028808378619,
          0.8973455238865927,
          0.8946117700175413,
          0.8983596353626859,
          0.8752706368614924,
          0.8694106476042576,
          0.8642036404934555,
          0.8657186132535482,
          0.855547908289116,
          0.8520077588647287,
          0.8489372341252677,
          0.8462985985426145,
          0.8440572554113444,
          1.0810725559720376,
          0.8406445262071829,
          0.839421018242581,
          0.8384910485924169,
          0.8378385123833496,
          0.8374517207944089,
          0.8373235826323617
         ]
        },
        {
         "mode": "markers",
         "name": "Transition (0, 3)",
         "type": "scatter",
         "x": {
          "bdata": "AAAAAAAAAACamZmZmZm5P5qZmZmZmck/NDMzMzMz0z+amZmZmZnZPwAAAAAAAOA/NDMzMzMz4z9nZmZmZmbmP5qZmZmZmek/zczMzMzM7D8AAAAAAADwP5qZmZmZmfE/NDMzMzMz8z/NzMzMzMz0P2dmZmZmZvY/AAAAAAAA+D+amZmZmZn5PzQzMzMzM/s/zczMzMzM/D9nZmZmZmb+PwAAAAAAAABAzczMzMzMAECamZmZmZkBQGdmZmZmZgJANDMzMzMzA0AAAAAAAAAEQM3MzMzMzARAmpmZmZmZBUBnZmZmZmYGQDQzMzMzMwdAAAAAAAAACEDNzMzMzMwIQJqZmZmZmQlAZ2ZmZmZmCkA0MzMzMzMLQAAAAAAAAAxAzczMzMzMDECamZmZmZkNQGdmZmZmZg5ANDMzMzMzD0AAAAAAAAAQQGdmZmZmZhBAzczMzMzMEEAzMzMzMzMRQJqZmZmZmRFAAAAAAAAAEkBnZmZmZmYSQM3MzMzMzBJANDMzMzMzE0CamZmZmZkTQAAAAAAAABRAZ2ZmZmZmFEDNzMzMzMwUQDQzMzMzMxVAmpmZmZmZFUAAAAAAAAAWQGdmZmZmZhZAzczMzMzMFkA0MzMzMzMXQJqZmZmZmRdAAAAAAAAAGEBnZmZmZmYYQM3MzMzMzBhANDMzMzMzGUCamZmZmZkZQAAAAAAAABpAZ2ZmZmZmGkDNzMzMzMwaQDQzMzMzMxtAmpmZmZmZG0AAAAAAAAAcQGdmZmZmZhxAzczMzMzMHEA0MzMzMzMdQJqZmZmZmR1AAAAAAAAAHkBnZmZmZmYeQM3MzMzMzB5ANDMzMzMzH0CamZmZmZkfQAAAAAAAACBAMzMzMzMzIEBnZmZmZmYgQJqZmZmZmSBAzczMzMzMIEAAAAAAAAAhQDMzMzMzMyFAZ2ZmZmZmIUCamZmZmZkhQM3MzMzMzCFAAAAAAAAAIkAzMzMzMzMiQGdmZmZmZiJAmpmZmZmZIkDNzMzMzMwiQAAAAAAAACNANDMzMzMzI0BnZmZmZmYjQJqZmZmZmSNAzczMzMzMI0AAAAAAAAAkQA==",
          "dtype": "f8"
         },
         "y": [
          0,
          0.00015498110360226983,
          0.0006202892400343817,
          0.001397044265281196,
          0.002487196538568098,
          0.005596747433723467,
          0.005683624837449008,
          0.00767291029070866,
          0.014514915085602688,
          0.01278460344149901,
          0.015863659345657723,
          0.020255297751267377,
          0.023937028470222752,
          0.02736670759429655,
          0.03202333771701324,
          0.03713470754112449,
          0.06309380846101255,
          0.07020944143108312,
          0.07282926810823992,
          0.06289171239364436,
          0.07091198879920432,
          0.07969743532287135,
          0.08933457070029234,
          0.12443351687072708,
          0.11158705064911383,
          0.12446161802320738,
          0.13871416805617473,
          0.1545414035016475,
          0.1721779983332184,
          0.19190553402642674,
          0.21406407749101813,
          0.239067357201132,
          0.26742291563304443,
          0.2997592609449423,
          0.3368630489689232,
          0.3797309411008114,
          0.4296434390464446,
          0.4882724962385072,
          0.5578425869413447,
          0.6413792556078382,
          0.7431064343213694,
          0.8691083663987027,
          1.028487913184852,
          1.2355180363103153,
          1.513945775484471,
          1.9064630638635347,
          2.4983874089226425,
          3.4887099493925446,
          5.4742976022537455,
          11.43932725182971,
          0,
          12.438763834486908,
          6.47205989439188,
          4.483733800862284,
          3.489682835860355,
          2.89313667808494,
          2.495217155546396,
          2.2107297028268245,
          1.9971092077961903,
          1.830734013038338,
          1.6974508463324807,
          1.5882677514174144,
          1.4972006288415942,
          1.420113921915276,
          1.354058462424105,
          1.2968744962801781,
          1.2469438641062307,
          1.2030298915955855,
          1.1641708440526517,
          1.1296071741486386,
          1.0987307018137544,
          1.0710483871016327,
          1.0461560296823176,
          1.023718855642418,
          1.0034569689054706,
          0.9851342948549999,
          0.9685500685483422,
          0.9535322028134876,
          0.9399320632908946,
          0.9276203096390636,
          0.9164835546282721,
          0.9064216585689979,
          0.8973455238865927,
          0.8996694639344052,
          0.8983596353626881,
          0.8752706368614924,
          0.8694106476042576,
          0.8642036404934555,
          0.8672100184232545,
          0.855547908289116,
          0.8520077588647287,
          0.8489372341252677,
          0.8462985985426145,
          0.8440572554113444,
          1.0810725559720373,
          0.8406445262071827,
          0.839421018242581,
          0.8384910485924169,
          0.8378385123833496,
          0.8374517207944089,
          0.8373235826323617
         ]
        },
        {
         "mode": "markers",
         "name": "Transition (0, 4)",
         "type": "scatter",
         "x": {
          "bdata": "AAAAAAAAAACamZmZmZm5P5qZmZmZmck/NDMzMzMz0z+amZmZmZnZPwAAAAAAAOA/NDMzMzMz4z9nZmZmZmbmP5qZmZmZmek/zczMzMzM7D8AAAAAAADwP5qZmZmZmfE/NDMzMzMz8z/NzMzMzMz0P2dmZmZmZvY/AAAAAAAA+D+amZmZmZn5PzQzMzMzM/s/zczMzMzM/D9nZmZmZmb+PwAAAAAAAABAzczMzMzMAECamZmZmZkBQGdmZmZmZgJANDMzMzMzA0AAAAAAAAAEQM3MzMzMzARAmpmZmZmZBUBnZmZmZmYGQDQzMzMzMwdAAAAAAAAACEDNzMzMzMwIQJqZmZmZmQlAZ2ZmZmZmCkA0MzMzMzMLQAAAAAAAAAxAzczMzMzMDECamZmZmZkNQGdmZmZmZg5ANDMzMzMzD0AAAAAAAAAQQGdmZmZmZhBAzczMzMzMEEAzMzMzMzMRQJqZmZmZmRFAAAAAAAAAEkBnZmZmZmYSQM3MzMzMzBJANDMzMzMzE0CamZmZmZkTQAAAAAAAABRAZ2ZmZmZmFEDNzMzMzMwUQDQzMzMzMxVAmpmZmZmZFUAAAAAAAAAWQGdmZmZmZhZAzczMzMzMFkA0MzMzMzMXQJqZmZmZmRdAAAAAAAAAGEBnZmZmZmYYQM3MzMzMzBhANDMzMzMzGUCamZmZmZkZQAAAAAAAABpAZ2ZmZmZmGkDNzMzMzMwaQDQzMzMzMxtAmpmZmZmZG0AAAAAAAAAcQGdmZmZmZhxAzczMzMzMHEA0MzMzMzMdQJqZmZmZmR1AAAAAAAAAHkBnZmZmZmYeQM3MzMzMzB5ANDMzMzMzH0CamZmZmZkfQAAAAAAAACBAMzMzMzMzIEBnZmZmZmYgQJqZmZmZmSBAzczMzMzMIEAAAAAAAAAhQDMzMzMzMyFAZ2ZmZmZmIUCamZmZmZkhQM3MzMzMzCFAAAAAAAAAIkAzMzMzMzMiQGdmZmZmZiJAmpmZmZmZIkDNzMzMzMwiQAAAAAAAACNANDMzMzMzI0BnZmZmZmYjQJqZmZmZmSNAzczMzMzMI0AAAAAAAAAkQA==",
          "dtype": "f8"
         },
         "y": [
          0,
          0.004492854007204643,
          0.00898652946075758,
          0.013481989019424474,
          0.01798047227841278,
          0.02261363834381944,
          0.03817285876931102,
          0.03151313918563282,
          0.03644871865217638,
          0.04059547781055034,
          0.06384707534450372,
          0.07028688012056147,
          0.07683323060931622,
          0.059077376649480234,
          0.06380321358892178,
          0.06858778992763231,
          0.0754586400333403,
          0.08152008825469009,
          0.11134570584161997,
          0.08851632196465678,
          0.09375269072959108,
          0.09911565022837406,
          0.1046186634629107,
          0.12661916065631812,
          0.11610117106661659,
          0.12210984398047767,
          0.12831672921387757,
          0.13473693091331124,
          0.1413854507849265,
          0.14827693308724857,
          0.1554253367843645,
          0.1628435192738374,
          0.17054271494984105,
          0.1785318916363628,
          0.18681696928360078,
          0.1953998891501045,
          0.20427752911459984,
          0.21344047306778258,
          0.22287166081792598,
          0.23254497055479773,
          0.24242381870246613,
          0.25245990031905324,
          0.2625922328549413,
          0.2727466995270721,
          0.2828363048835211,
          0.2927623412625133,
          0.30241660873514,
          0.31168472667735786,
          0.3204504278764992,
          0.3286005570014362,
          0,
          0.3426483874739082,
          0.348380894264253,
          0.35317456825229643,
          0.3569980251429247,
          0.3598415887985877,
          0.36171566326694404,
          0.3626480028426761,
          0.3626802910796303,
          0.3618644435012902,
          0.3602589900625901,
          0.3579257992963444,
          0.35492730303776415,
          0.35132428825153317,
          0.3471742514254637,
          0.3425302640590265,
          0.33744027255995884,
          0.3319467474265089,
          0.3260865994831089,
          0.31989129037285874,
          0.3133870768697482,
          0.30659534142844536,
          0.29953297330918727,
          0.2922127749011382,
          0.2846438763012951,
          0.2768321478499267,
          0.268780605378618,
          0.2604898066408079,
          0.251958240007649,
          0.24318270822892252,
          0.23415871103800467,
          0.2248808307318573,
          0.2153431246492843,
          0.3075878685554421,
          0.2751205962271964,
          0.1851122890058072,
          0.17447969538937913,
          0.16356418648295704,
          0.22001031339994362,
          0.14088583808246993,
          0.1291302624351544,
          0.11710704811768884,
          0.10482796835423465,
          0.09230849437346314,
          0.07956788854754018,
          0.06662917348604112,
          0.05351896424974212,
          0.04026715767214747,
          0.026906481304555654,
          0.013471914033791837,
          0
         ]
        },
        {
         "mode": "markers",
         "name": "Transition (0, 5)",
         "type": "scatter",
         "x": {
          "bdata": "AAAAAAAAAACamZmZmZm5P5qZmZmZmck/NDMzMzMz0z+amZmZmZnZPwAAAAAAAOA/NDMzMzMz4z9nZmZmZmbmP5qZmZmZmek/zczMzMzM7D8AAAAAAADwP5qZmZmZmfE/NDMzMzMz8z/NzMzMzMz0P2dmZmZmZvY/AAAAAAAA+D+amZmZmZn5PzQzMzMzM/s/zczMzMzM/D9nZmZmZmb+PwAAAAAAAABAzczMzMzMAECamZmZmZkBQGdmZmZmZgJANDMzMzMzA0AAAAAAAAAEQM3MzMzMzARAmpmZmZmZBUBnZmZmZmYGQDQzMzMzMwdAAAAAAAAACEDNzMzMzMwIQJqZmZmZmQlAZ2ZmZmZmCkA0MzMzMzMLQAAAAAAAAAxAzczMzMzMDECamZmZmZkNQGdmZmZmZg5ANDMzMzMzD0AAAAAAAAAQQGdmZmZmZhBAzczMzMzMEEAzMzMzMzMRQJqZmZmZmRFAAAAAAAAAEkBnZmZmZmYSQM3MzMzMzBJANDMzMzMzE0CamZmZmZkTQAAAAAAAABRAZ2ZmZmZmFEDNzMzMzMwUQDQzMzMzMxVAmpmZmZmZFUAAAAAAAAAWQGdmZmZmZhZAzczMzMzMFkA0MzMzMzMXQJqZmZmZmRdAAAAAAAAAGEBnZmZmZmYYQM3MzMzMzBhANDMzMzMzGUCamZmZmZkZQAAAAAAAABpAZ2ZmZmZmGkDNzMzMzMwaQDQzMzMzMxtAmpmZmZmZG0AAAAAAAAAcQGdmZmZmZhxAzczMzMzMHEA0MzMzMzMdQJqZmZmZmR1AAAAAAAAAHkBnZmZmZmYeQM3MzMzMzB5ANDMzMzMzH0CamZmZmZkfQAAAAAAAACBAMzMzMzMzIEBnZmZmZmYgQJqZmZmZmSBAzczMzMzMIEAAAAAAAAAhQDMzMzMzMyFAZ2ZmZmZmIUCamZmZmZkhQM3MzMzMzCFAAAAAAAAAIkAzMzMzMzMiQGdmZmZmZiJAmpmZmZmZIkDNzMzMzMwiQAAAAAAAACNANDMzMzMzI0BnZmZmZmYjQJqZmZmZmSNAzczMzMzMI0AAAAAAAAAkQA==",
          "dtype": "f8"
         },
         "y": [
          0,
          0.004492854007204643,
          0.00898652946075758,
          0.013481989019424474,
          0.017980472278412783,
          0.023083717147153283,
          0.0269935897802674,
          0.03151313918563282,
          0.03632862815541453,
          0.04059547781055034,
          0.06384707534450372,
          0.04976718677129592,
          0.05440140508128783,
          0.059077376649480234,
          0.06380321358892178,
          0.06858778992763231,
          0.07466101406261362,
          0.0842091151040538,
          0.1262873486846131,
          0.08851632196465678,
          0.09375269072959108,
          0.09911565022837406,
          0.10461866346291067,
          0.11027570001363582,
          0.11610117106661659,
          0.12210984398047767,
          0.12831672921387757,
          0.13473693091331124,
          0.14138545078492634,
          0.1482769330872485,
          0.15542533678436452,
          0.16284351927383733,
          0.17054271494984105,
          0.1785318916363628,
          0.18681696928360073,
          0.1953998891501045,
          0.20427752911459984,
          0.21344047306778258,
          0.22287166081792598,
          0.2325449705547977,
          0.24242381870246602,
          0.25245990031905313,
          0.2625922328549414,
          0.27274669952707226,
          0.2828363048835211,
          0.2927623412625134,
          0.30241660873514,
          0.3116847266773579,
          0.3204504278764991,
          0.3286005570014362,
          0.3360303396319669,
          0.3426483874739082,
          0.3483808942642531,
          0.35317456825229643,
          0.3569980251429247,
          0.3598415887985878,
          0.3617156632669439,
          0.3626480028426761,
          0.3626802910796304,
          0.3618644435012904,
          0.3602589900625901,
          0.3579257992963444,
          0.3549273030377641,
          0.351324288251533,
          0.3471742514254638,
          0.3425302640590265,
          0.33744027255995895,
          0.331946747426509,
          0.32608659948310903,
          0.31989129037285874,
          0.3133870768697482,
          0.3065953414284453,
          0.2995329733091872,
          0.2922127749011383,
          0.28464387630129495,
          0.2768321478499267,
          0.2687806053786177,
          0.26048980664080806,
          0.25195824000764916,
          0.24318270822892252,
          0.23415871103800476,
          0.28685770965849594,
          0.2153431246492844,
          0.31009996359668124,
          0.2751205962271964,
          0.1851122890058072,
          0.17447969538937913,
          0.16356418648295717,
          0.22094382612508423,
          0.14088583808246993,
          0.1291302624351545,
          0.11710704811768892,
          0.1048279683542347,
          0.09230849437346314,
          0.10379159751137715,
          0.06662917348604112,
          0.05351896424974212,
          0.04026715767214747,
          0.026906481304555654,
          0.013471914033791844,
          0
         ]
        },
        {
         "mode": "markers",
         "name": "Transition (0, 6)",
         "type": "scatter",
         "x": {
          "bdata": "AAAAAAAAAACamZmZmZm5P5qZmZmZmck/NDMzMzMz0z+amZmZmZnZPwAAAAAAAOA/NDMzMzMz4z9nZmZmZmbmP5qZmZmZmek/zczMzMzM7D8AAAAAAADwP5qZmZmZmfE/NDMzMzMz8z/NzMzMzMz0P2dmZmZmZvY/AAAAAAAA+D+amZmZmZn5PzQzMzMzM/s/zczMzMzM/D9nZmZmZmb+PwAAAAAAAABAzczMzMzMAECamZmZmZkBQGdmZmZmZgJANDMzMzMzA0AAAAAAAAAEQM3MzMzMzARAmpmZmZmZBUBnZmZmZmYGQDQzMzMzMwdAAAAAAAAACEDNzMzMzMwIQJqZmZmZmQlAZ2ZmZmZmCkA0MzMzMzMLQAAAAAAAAAxAzczMzMzMDECamZmZmZkNQGdmZmZmZg5ANDMzMzMzD0AAAAAAAAAQQGdmZmZmZhBAzczMzMzMEEAzMzMzMzMRQJqZmZmZmRFAAAAAAAAAEkBnZmZmZmYSQM3MzMzMzBJANDMzMzMzE0CamZmZmZkTQAAAAAAAABRAZ2ZmZmZmFEDNzMzMzMwUQDQzMzMzMxVAmpmZmZmZFUAAAAAAAAAWQGdmZmZmZhZAzczMzMzMFkA0MzMzMzMXQJqZmZmZmRdAAAAAAAAAGEBnZmZmZmYYQM3MzMzMzBhANDMzMzMzGUCamZmZmZkZQAAAAAAAABpAZ2ZmZmZmGkDNzMzMzMwaQDQzMzMzMxtAmpmZmZmZG0AAAAAAAAAcQGdmZmZmZhxAzczMzMzMHEA0MzMzMzMdQJqZmZmZmR1AAAAAAAAAHkBnZmZmZmYeQM3MzMzMzB5ANDMzMzMzH0CamZmZmZkfQAAAAAAAACBAMzMzMzMzIEBnZmZmZmYgQJqZmZmZmSBAzczMzMzMIEAAAAAAAAAhQDMzMzMzMyFAZ2ZmZmZmIUCamZmZmZkhQM3MzMzMzCFAAAAAAAAAIkAzMzMzMzMiQGdmZmZmZiJAmpmZmZmZIkDNzMzMzMwiQAAAAAAAACNANDMzMzMzI0BnZmZmZmYjQJqZmZmZmSNAzczMzMzMI0AAAAAAAAAkQA==",
          "dtype": "f8"
         },
         "y": [
          0,
          0.004492854007204643,
          0.00898652946075758,
          0.013481989019424474,
          0.01798047227841278,
          0.0229564113267231,
          0.03817285876931102,
          0.031513139185632824,
          0.03671423948220189,
          0.04059547781055034,
          0.045167390276431345,
          0.07028688012056147,
          0.07683323060931624,
          0.05907737664948023,
          0.06380321358892177,
          0.06858778992763231,
          0.07465904326768694,
          0.08663301940077389,
          0.10609393617624097,
          0.0885163219646568,
          0.09375269072959108,
          0.09911565022837401,
          0.10461866346291065,
          0.12661916065631812,
          0.11610117106661658,
          0.12210984398047767,
          0.12831672921387755,
          0.13473693091331124,
          0.14138545078492643,
          0.14827693308724854,
          0.15542533678436443,
          0.16284351927383736,
          0.17054271494984102,
          0.1785318916363628,
          0.1868169692836008,
          0.19539988915010445,
          0.2042775291145999,
          0.21344047306778252,
          0.222871660817926,
          0.23254497055479767,
          0.24242381870246618,
          0.2524599003190532,
          0.2625922328549414,
          0.27274669952707226,
          0.28283630488352096,
          0.2927623412625134,
          0.30241660873513987,
          0.3116847266773579,
          0.3204504278764991,
          0.32860055700143603,
          0.3360303396319669,
          0.342648387473908,
          0.34838089426425295,
          0.35317456825229626,
          0.35699802514292456,
          0.35984158879858763,
          0.36171566326694415,
          0.362648002842676,
          0.3626802910796304,
          0.3618644435012904,
          0.36025899006259005,
          0.3579257992963442,
          0.35492730303776426,
          0.35132428825153295,
          0.3471742514254639,
          0.3425302640590263,
          0.33744027255995895,
          0.331946747426509,
          0.3260865994831091,
          0.3198912903728586,
          0.31338707686974815,
          0.3065953414284453,
          0.299532973309187,
          0.2922127749011383,
          0.2846438763012949,
          0.2768321478499267,
          0.2687806053786178,
          0.26048980664080806,
          0.25195824000764916,
          0.24318270822892235,
          0.23415871103800476,
          0.28685770965849605,
          0.2153431246492844,
          0.23744395360446727,
          0.1954642671406923,
          0.1851122890058071,
          0.17447969538937902,
          0.16356418648295717,
          0.17346193056593226,
          0.1408858380824698,
          0.1291302624351545,
          0.11710704811768892,
          0.1048279683542347,
          0.09230849437346308,
          0.1037915975113772,
          0.06662917348604105,
          0.05351896424974208,
          0.04026715767214743,
          0.026906481304555637,
          0.013471914033791844,
          0
         ]
        },
        {
         "mode": "markers",
         "name": "Transition (0, 7)",
         "type": "scatter",
         "x": {
          "bdata": "AAAAAAAAAACamZmZmZm5P5qZmZmZmck/NDMzMzMz0z+amZmZmZnZPwAAAAAAAOA/NDMzMzMz4z9nZmZmZmbmP5qZmZmZmek/zczMzMzM7D8AAAAAAADwP5qZmZmZmfE/NDMzMzMz8z/NzMzMzMz0P2dmZmZmZvY/AAAAAAAA+D+amZmZmZn5PzQzMzMzM/s/zczMzMzM/D9nZmZmZmb+PwAAAAAAAABAzczMzMzMAECamZmZmZkBQGdmZmZmZgJANDMzMzMzA0AAAAAAAAAEQM3MzMzMzARAmpmZmZmZBUBnZmZmZmYGQDQzMzMzMwdAAAAAAAAACEDNzMzMzMwIQJqZmZmZmQlAZ2ZmZmZmCkA0MzMzMzMLQAAAAAAAAAxAzczMzMzMDECamZmZmZkNQGdmZmZmZg5ANDMzMzMzD0AAAAAAAAAQQGdmZmZmZhBAzczMzMzMEEAzMzMzMzMRQJqZmZmZmRFAAAAAAAAAEkBnZmZmZmYSQM3MzMzMzBJANDMzMzMzE0CamZmZmZkTQAAAAAAAABRAZ2ZmZmZmFEDNzMzMzMwUQDQzMzMzMxVAmpmZmZmZFUAAAAAAAAAWQGdmZmZmZhZAzczMzMzMFkA0MzMzMzMXQJqZmZmZmRdAAAAAAAAAGEBnZmZmZmYYQM3MzMzMzBhANDMzMzMzGUCamZmZmZkZQAAAAAAAABpAZ2ZmZmZmGkDNzMzMzMwaQDQzMzMzMxtAmpmZmZmZG0AAAAAAAAAcQGdmZmZmZhxAzczMzMzMHEA0MzMzMzMdQJqZmZmZmR1AAAAAAAAAHkBnZmZmZmYeQM3MzMzMzB5ANDMzMzMzH0CamZmZmZkfQAAAAAAAACBAMzMzMzMzIEBnZmZmZmYgQJqZmZmZmSBAzczMzMzMIEAAAAAAAAAhQDMzMzMzMyFAZ2ZmZmZmIUCamZmZmZkhQM3MzMzMzCFAAAAAAAAAIkAzMzMzMzMiQGdmZmZmZiJAmpmZmZmZIkDNzMzMzMwiQAAAAAAAACNANDMzMzMzI0BnZmZmZmYjQJqZmZmZmSNAzczMzMzMI0AAAAAAAAAkQA==",
          "dtype": "f8"
         },
         "y": [
          0,
          0,
          0,
          0,
          0,
          0,
          1.4040966083584e-19,
          0,
          0,
          0,
          6.164858671647988e-19,
          4.688701511558766e-19,
          7.778244213083839e-19,
          0,
          0,
          0,
          0,
          0,
          0,
          0,
          0,
          0,
          0,
          0,
          0,
          0,
          0,
          0,
          0,
          0,
          0,
          0,
          0,
          0,
          0,
          0,
          0,
          0,
          0,
          0,
          0,
          0,
          0,
          0,
          0,
          0,
          0,
          0,
          0,
          0,
          0.33603033963196677,
          0,
          0,
          0,
          0,
          0,
          0,
          0,
          0,
          0,
          0,
          0,
          0,
          0,
          0,
          0,
          0,
          0,
          0,
          0,
          0,
          0,
          0,
          0,
          0,
          0,
          0,
          0,
          0,
          0,
          0,
          0,
          0,
          0,
          0,
          0,
          0,
          0,
          1.0025237137141954e-16,
          0,
          0,
          0,
          0,
          0,
          1.002318000185546e-16,
          0,
          0,
          0,
          0,
          0,
          0
         ]
        }
       ],
       "layout": {
        "legend": {
         "title": {
          "text": "Transitions"
         }
        },
        "template": {
         "data": {
          "bar": [
           {
            "error_x": {
             "color": "#2a3f5f"
            },
            "error_y": {
             "color": "#2a3f5f"
            },
            "marker": {
             "line": {
              "color": "#E5ECF6",
              "width": 0.5
             },
             "pattern": {
              "fillmode": "overlay",
              "size": 10,
              "solidity": 0.2
             }
            },
            "type": "bar"
           }
          ],
          "barpolar": [
           {
            "marker": {
             "line": {
              "color": "#E5ECF6",
              "width": 0.5
             },
             "pattern": {
              "fillmode": "overlay",
              "size": 10,
              "solidity": 0.2
             }
            },
            "type": "barpolar"
           }
          ],
          "carpet": [
           {
            "aaxis": {
             "endlinecolor": "#2a3f5f",
             "gridcolor": "white",
             "linecolor": "white",
             "minorgridcolor": "white",
             "startlinecolor": "#2a3f5f"
            },
            "baxis": {
             "endlinecolor": "#2a3f5f",
             "gridcolor": "white",
             "linecolor": "white",
             "minorgridcolor": "white",
             "startlinecolor": "#2a3f5f"
            },
            "type": "carpet"
           }
          ],
          "choropleth": [
           {
            "colorbar": {
             "outlinewidth": 0,
             "ticks": ""
            },
            "type": "choropleth"
           }
          ],
          "contour": [
           {
            "colorbar": {
             "outlinewidth": 0,
             "ticks": ""
            },
            "colorscale": [
             [
              0,
              "#0d0887"
             ],
             [
              0.1111111111111111,
              "#46039f"
             ],
             [
              0.2222222222222222,
              "#7201a8"
             ],
             [
              0.3333333333333333,
              "#9c179e"
             ],
             [
              0.4444444444444444,
              "#bd3786"
             ],
             [
              0.5555555555555556,
              "#d8576b"
             ],
             [
              0.6666666666666666,
              "#ed7953"
             ],
             [
              0.7777777777777778,
              "#fb9f3a"
             ],
             [
              0.8888888888888888,
              "#fdca26"
             ],
             [
              1,
              "#f0f921"
             ]
            ],
            "type": "contour"
           }
          ],
          "contourcarpet": [
           {
            "colorbar": {
             "outlinewidth": 0,
             "ticks": ""
            },
            "type": "contourcarpet"
           }
          ],
          "heatmap": [
           {
            "colorbar": {
             "outlinewidth": 0,
             "ticks": ""
            },
            "colorscale": [
             [
              0,
              "#0d0887"
             ],
             [
              0.1111111111111111,
              "#46039f"
             ],
             [
              0.2222222222222222,
              "#7201a8"
             ],
             [
              0.3333333333333333,
              "#9c179e"
             ],
             [
              0.4444444444444444,
              "#bd3786"
             ],
             [
              0.5555555555555556,
              "#d8576b"
             ],
             [
              0.6666666666666666,
              "#ed7953"
             ],
             [
              0.7777777777777778,
              "#fb9f3a"
             ],
             [
              0.8888888888888888,
              "#fdca26"
             ],
             [
              1,
              "#f0f921"
             ]
            ],
            "type": "heatmap"
           }
          ],
          "histogram": [
           {
            "marker": {
             "pattern": {
              "fillmode": "overlay",
              "size": 10,
              "solidity": 0.2
             }
            },
            "type": "histogram"
           }
          ],
          "histogram2d": [
           {
            "colorbar": {
             "outlinewidth": 0,
             "ticks": ""
            },
            "colorscale": [
             [
              0,
              "#0d0887"
             ],
             [
              0.1111111111111111,
              "#46039f"
             ],
             [
              0.2222222222222222,
              "#7201a8"
             ],
             [
              0.3333333333333333,
              "#9c179e"
             ],
             [
              0.4444444444444444,
              "#bd3786"
             ],
             [
              0.5555555555555556,
              "#d8576b"
             ],
             [
              0.6666666666666666,
              "#ed7953"
             ],
             [
              0.7777777777777778,
              "#fb9f3a"
             ],
             [
              0.8888888888888888,
              "#fdca26"
             ],
             [
              1,
              "#f0f921"
             ]
            ],
            "type": "histogram2d"
           }
          ],
          "histogram2dcontour": [
           {
            "colorbar": {
             "outlinewidth": 0,
             "ticks": ""
            },
            "colorscale": [
             [
              0,
              "#0d0887"
             ],
             [
              0.1111111111111111,
              "#46039f"
             ],
             [
              0.2222222222222222,
              "#7201a8"
             ],
             [
              0.3333333333333333,
              "#9c179e"
             ],
             [
              0.4444444444444444,
              "#bd3786"
             ],
             [
              0.5555555555555556,
              "#d8576b"
             ],
             [
              0.6666666666666666,
              "#ed7953"
             ],
             [
              0.7777777777777778,
              "#fb9f3a"
             ],
             [
              0.8888888888888888,
              "#fdca26"
             ],
             [
              1,
              "#f0f921"
             ]
            ],
            "type": "histogram2dcontour"
           }
          ],
          "mesh3d": [
           {
            "colorbar": {
             "outlinewidth": 0,
             "ticks": ""
            },
            "type": "mesh3d"
           }
          ],
          "parcoords": [
           {
            "line": {
             "colorbar": {
              "outlinewidth": 0,
              "ticks": ""
             }
            },
            "type": "parcoords"
           }
          ],
          "pie": [
           {
            "automargin": true,
            "type": "pie"
           }
          ],
          "scatter": [
           {
            "fillpattern": {
             "fillmode": "overlay",
             "size": 10,
             "solidity": 0.2
            },
            "type": "scatter"
           }
          ],
          "scatter3d": [
           {
            "line": {
             "colorbar": {
              "outlinewidth": 0,
              "ticks": ""
             }
            },
            "marker": {
             "colorbar": {
              "outlinewidth": 0,
              "ticks": ""
             }
            },
            "type": "scatter3d"
           }
          ],
          "scattercarpet": [
           {
            "marker": {
             "colorbar": {
              "outlinewidth": 0,
              "ticks": ""
             }
            },
            "type": "scattercarpet"
           }
          ],
          "scattergeo": [
           {
            "marker": {
             "colorbar": {
              "outlinewidth": 0,
              "ticks": ""
             }
            },
            "type": "scattergeo"
           }
          ],
          "scattergl": [
           {
            "marker": {
             "colorbar": {
              "outlinewidth": 0,
              "ticks": ""
             }
            },
            "type": "scattergl"
           }
          ],
          "scattermap": [
           {
            "marker": {
             "colorbar": {
              "outlinewidth": 0,
              "ticks": ""
             }
            },
            "type": "scattermap"
           }
          ],
          "scattermapbox": [
           {
            "marker": {
             "colorbar": {
              "outlinewidth": 0,
              "ticks": ""
             }
            },
            "type": "scattermapbox"
           }
          ],
          "scatterpolar": [
           {
            "marker": {
             "colorbar": {
              "outlinewidth": 0,
              "ticks": ""
             }
            },
            "type": "scatterpolar"
           }
          ],
          "scatterpolargl": [
           {
            "marker": {
             "colorbar": {
              "outlinewidth": 0,
              "ticks": ""
             }
            },
            "type": "scatterpolargl"
           }
          ],
          "scatterternary": [
           {
            "marker": {
             "colorbar": {
              "outlinewidth": 0,
              "ticks": ""
             }
            },
            "type": "scatterternary"
           }
          ],
          "surface": [
           {
            "colorbar": {
             "outlinewidth": 0,
             "ticks": ""
            },
            "colorscale": [
             [
              0,
              "#0d0887"
             ],
             [
              0.1111111111111111,
              "#46039f"
             ],
             [
              0.2222222222222222,
              "#7201a8"
             ],
             [
              0.3333333333333333,
              "#9c179e"
             ],
             [
              0.4444444444444444,
              "#bd3786"
             ],
             [
              0.5555555555555556,
              "#d8576b"
             ],
             [
              0.6666666666666666,
              "#ed7953"
             ],
             [
              0.7777777777777778,
              "#fb9f3a"
             ],
             [
              0.8888888888888888,
              "#fdca26"
             ],
             [
              1,
              "#f0f921"
             ]
            ],
            "type": "surface"
           }
          ],
          "table": [
           {
            "cells": {
             "fill": {
              "color": "#EBF0F8"
             },
             "line": {
              "color": "white"
             }
            },
            "header": {
             "fill": {
              "color": "#C8D4E3"
             },
             "line": {
              "color": "white"
             }
            },
            "type": "table"
           }
          ]
         },
         "layout": {
          "annotationdefaults": {
           "arrowcolor": "#2a3f5f",
           "arrowhead": 0,
           "arrowwidth": 1
          },
          "autotypenumbers": "strict",
          "coloraxis": {
           "colorbar": {
            "outlinewidth": 0,
            "ticks": ""
           }
          },
          "colorscale": {
           "diverging": [
            [
             0,
             "#8e0152"
            ],
            [
             0.1,
             "#c51b7d"
            ],
            [
             0.2,
             "#de77ae"
            ],
            [
             0.3,
             "#f1b6da"
            ],
            [
             0.4,
             "#fde0ef"
            ],
            [
             0.5,
             "#f7f7f7"
            ],
            [
             0.6,
             "#e6f5d0"
            ],
            [
             0.7,
             "#b8e186"
            ],
            [
             0.8,
             "#7fbc41"
            ],
            [
             0.9,
             "#4d9221"
            ],
            [
             1,
             "#276419"
            ]
           ],
           "sequential": [
            [
             0,
             "#0d0887"
            ],
            [
             0.1111111111111111,
             "#46039f"
            ],
            [
             0.2222222222222222,
             "#7201a8"
            ],
            [
             0.3333333333333333,
             "#9c179e"
            ],
            [
             0.4444444444444444,
             "#bd3786"
            ],
            [
             0.5555555555555556,
             "#d8576b"
            ],
            [
             0.6666666666666666,
             "#ed7953"
            ],
            [
             0.7777777777777778,
             "#fb9f3a"
            ],
            [
             0.8888888888888888,
             "#fdca26"
            ],
            [
             1,
             "#f0f921"
            ]
           ],
           "sequentialminus": [
            [
             0,
             "#0d0887"
            ],
            [
             0.1111111111111111,
             "#46039f"
            ],
            [
             0.2222222222222222,
             "#7201a8"
            ],
            [
             0.3333333333333333,
             "#9c179e"
            ],
            [
             0.4444444444444444,
             "#bd3786"
            ],
            [
             0.5555555555555556,
             "#d8576b"
            ],
            [
             0.6666666666666666,
             "#ed7953"
            ],
            [
             0.7777777777777778,
             "#fb9f3a"
            ],
            [
             0.8888888888888888,
             "#fdca26"
            ],
            [
             1,
             "#f0f921"
            ]
           ]
          },
          "colorway": [
           "#636efa",
           "#EF553B",
           "#00cc96",
           "#ab63fa",
           "#FFA15A",
           "#19d3f3",
           "#FF6692",
           "#B6E880",
           "#FF97FF",
           "#FECB52"
          ],
          "font": {
           "color": "#2a3f5f"
          },
          "geo": {
           "bgcolor": "white",
           "lakecolor": "white",
           "landcolor": "#E5ECF6",
           "showlakes": true,
           "showland": true,
           "subunitcolor": "white"
          },
          "hoverlabel": {
           "align": "left"
          },
          "hovermode": "closest",
          "mapbox": {
           "style": "light"
          },
          "paper_bgcolor": "white",
          "plot_bgcolor": "#E5ECF6",
          "polar": {
           "angularaxis": {
            "gridcolor": "white",
            "linecolor": "white",
            "ticks": ""
           },
           "bgcolor": "#E5ECF6",
           "radialaxis": {
            "gridcolor": "white",
            "linecolor": "white",
            "ticks": ""
           }
          },
          "scene": {
           "xaxis": {
            "backgroundcolor": "#E5ECF6",
            "gridcolor": "white",
            "gridwidth": 2,
            "linecolor": "white",
            "showbackground": true,
            "ticks": "",
            "zerolinecolor": "white"
           },
           "yaxis": {
            "backgroundcolor": "#E5ECF6",
            "gridcolor": "white",
            "gridwidth": 2,
            "linecolor": "white",
            "showbackground": true,
            "ticks": "",
            "zerolinecolor": "white"
           },
           "zaxis": {
            "backgroundcolor": "#E5ECF6",
            "gridcolor": "white",
            "gridwidth": 2,
            "linecolor": "white",
            "showbackground": true,
            "ticks": "",
            "zerolinecolor": "white"
           }
          },
          "shapedefaults": {
           "line": {
            "color": "#2a3f5f"
           }
          },
          "ternary": {
           "aaxis": {
            "gridcolor": "white",
            "linecolor": "white",
            "ticks": ""
           },
           "baxis": {
            "gridcolor": "white",
            "linecolor": "white",
            "ticks": ""
           },
           "bgcolor": "#E5ECF6",
           "caxis": {
            "gridcolor": "white",
            "linecolor": "white",
            "ticks": ""
           }
          },
          "title": {
           "x": 0.05
          },
          "xaxis": {
           "automargin": true,
           "gridcolor": "white",
           "linecolor": "white",
           "ticks": "",
           "title": {
            "standoff": 15
           },
           "zerolinecolor": "white",
           "zerolinewidth": 2
          },
          "yaxis": {
           "automargin": true,
           "gridcolor": "white",
           "linecolor": "white",
           "ticks": "",
           "title": {
            "standoff": 15
           },
           "zerolinecolor": "white",
           "zerolinewidth": 2
          }
         }
        },
        "title": {
         "text": "Evolution of c_coef Per Transition Over Time"
        },
        "xaxis": {
         "title": {
          "text": "Time"
         }
        },
        "yaxis": {
         "title": {
          "text": "c_coef"
         }
        }
       }
      }
     },
     "metadata": {},
     "output_type": "display_data"
    }
   ],
   "source": [
    "import plotly.graph_objects as go\n",
    "# Initialize c_coef_tracking\n",
    "c_coef_tracking = {}\n",
    "times = np.linspace(0, T_max, 101)\n",
    "\n",
    "for t in times:\n",
    "    c_coef_t = c_ops_gen_new_with_tracking(t, args)\n",
    "    for key, values in c_coef_t.items():\n",
    "        if key[0] != 0: # and key[0] != 1:\n",
    "            continue  # Skip transitions that are not (0, i) or (1, i)\n",
    "        if key not in c_coef_tracking:\n",
    "            c_coef_tracking[key] = []\n",
    "        # Convert complex values to real values (e.g., absolute values)\n",
    "        c_coef_tracking[key].extend([np.abs(value) for value in values])\n",
    "\n",
    "# Create interactive plot\n",
    "fig = go.Figure()\n",
    "\n",
    "for transition, coefs in c_coef_tracking.items():\n",
    "    fig.add_trace(go.Scatter(\n",
    "        x=times,\n",
    "        y=coefs[:len(times)],\n",
    "        mode='markers',\n",
    "        name=f\"Transition {transition}\"  # Label for hover/click\n",
    "    ))\n",
    "\n",
    "fig.update_layout(\n",
    "    title=\"Evolution of c_coef Per Transition Over Time\",\n",
    "    xaxis_title=\"Time\",\n",
    "    yaxis_title=\"c_coef\",\n",
    "    legend_title=\"Transitions\",\n",
    "    template=\"plotly\"\n",
    ")\n",
    "\n",
    "fig.show()"
   ]
  },
  {
   "cell_type": "code",
   "execution_count": 13,
   "id": "fae5af9d39966c36",
   "metadata": {
    "ExecuteTime": {
     "end_time": "2025-07-30T09:22:05.830454Z",
     "start_time": "2025-07-30T09:22:05.812930Z"
    }
   },
   "outputs": [
    {
     "name": "stdout",
     "output_type": "stream",
     "text": [
      "Quantum states and energies at the start of the protocol:\n",
      "Transition: (0, 1)\n",
      "Energy: -20.0\n",
      "|ψ⟩ = 1.00|000⟩\n",
      "Transition: (0, 2)\n",
      "Energy: -20.0\n",
      "|ψ⟩ = 1.00|000⟩\n",
      "Transition: (0, 3)\n",
      "Energy: -20.0\n",
      "|ψ⟩ = 1.00|000⟩\n",
      "Transition: (0, 4)\n",
      "Energy: -20.0\n",
      "|ψ⟩ = 1.00|000⟩\n",
      "Transition: (0, 5)\n",
      "Energy: -20.0\n",
      "|ψ⟩ = 1.00|000⟩\n",
      "Transition: (0, 6)\n",
      "Energy: -20.0\n",
      "|ψ⟩ = 1.00|000⟩\n",
      "Transition: (0, 7)\n",
      "Energy: -20.0\n",
      "|ψ⟩ = 1.00|000⟩\n",
      "Transition: (1, 2)\n",
      "Energy: -6.666666666666666\n",
      "|ψ⟩ = 1.00|001⟩\n",
      "Transition: (1, 3)\n",
      "Energy: -6.666666666666666\n",
      "|ψ⟩ = 1.00|001⟩\n",
      "Transition: (1, 4)\n",
      "Energy: -6.666666666666666\n",
      "|ψ⟩ = 1.00|001⟩\n",
      "Transition: (1, 5)\n",
      "Energy: -6.666666666666666\n",
      "|ψ⟩ = 1.00|001⟩\n",
      "Transition: (1, 6)\n",
      "Energy: -6.666666666666666\n",
      "|ψ⟩ = 1.00|001⟩\n",
      "Transition: (1, 7)\n",
      "Energy: -6.666666666666666\n",
      "|ψ⟩ = 1.00|001⟩\n",
      "\n",
      "Quantum states and energies at the end of the protocol:\n",
      "Transition: (0, 1)\n",
      "Energy: -6.666666666666666\n",
      "|ψ⟩ = 1.00|011⟩\n",
      "Transition: (0, 2)\n",
      "Energy: -6.666666666666666\n",
      "|ψ⟩ = 1.00|101⟩\n",
      "Transition: (0, 3)\n",
      "Energy: -6.666666666666666\n",
      "|ψ⟩ = 1.00|110⟩\n",
      "Transition: (0, 4)\n",
      "Energy: 6.666666666666666\n",
      "|ψ⟩ = 1.00|100⟩\n",
      "Transition: (0, 5)\n",
      "Energy: 6.666666666666666\n",
      "|ψ⟩ = 1.00|010⟩\n",
      "Transition: (0, 6)\n",
      "Energy: 6.666666666666666\n",
      "|ψ⟩ = 1.00|001⟩\n",
      "Transition: (0, 7)\n",
      "Energy: 20.0\n",
      "|ψ⟩ = 1.00|000⟩\n",
      "Transition: (1, 2)\n",
      "Energy: -6.666666666666666\n",
      "|ψ⟩ = 1.00|101⟩\n",
      "Transition: (1, 3)\n",
      "Energy: -6.666666666666666\n",
      "|ψ⟩ = 1.00|110⟩\n",
      "Transition: (1, 4)\n",
      "Energy: 6.666666666666666\n",
      "|ψ⟩ = 1.00|100⟩\n",
      "Transition: (1, 5)\n",
      "Energy: 6.666666666666666\n",
      "|ψ⟩ = 1.00|010⟩\n",
      "Transition: (1, 6)\n",
      "Energy: 6.666666666666666\n",
      "|ψ⟩ = 1.00|001⟩\n",
      "Transition: (1, 7)\n",
      "Energy: 20.0\n",
      "|ψ⟩ = 1.00|000⟩\n"
     ]
    }
   ],
   "source": [
    "def print_states_for_transitions(transitions, protocol_start, protocol_end, args):\n",
    "    \"\"\"\n",
    "    Prints the quantum states and their energies for the given transitions at the start and end of the protocol.\n",
    "    \"\"\"\n",
    "    # Get the Hamiltonian at the start and end of the protocol\n",
    "    H_start = args['args_H'](protocol_start)\n",
    "    H_end = args['args_H'](protocol_end)\n",
    "\n",
    "    # Compute eigenvalues and eigenstates at the start and end\n",
    "    eigenvalues_start, eigenstates_start = H_start.eigenstates()\n",
    "    eigenvalues_end, eigenstates_end = H_end.eigenstates()\n",
    "\n",
    "    print(\"Quantum states and energies at the start of the protocol:\")\n",
    "    for transition in transitions:\n",
    "        print(f\"Transition: {transition}\")\n",
    "        state_start = eigenstates_start[transition[0]]\n",
    "        energy_start = eigenvalues_start[transition[0]]\n",
    "        print(f\"Energy: {energy_start}\")\n",
    "        print_quantum_state_as_superposition(state_start)\n",
    "\n",
    "    print(\"\\nQuantum states and energies at the end of the protocol:\")\n",
    "    for transition in transitions:\n",
    "        print(f\"Transition: {transition}\")\n",
    "        state_end = eigenstates_end[transition[1]]\n",
    "        energy_end = eigenvalues_end[transition[1]]\n",
    "        print(f\"Energy: {energy_end}\")\n",
    "        print_quantum_state_as_superposition(state_end)\n",
    "\n",
    "# Define the transitions and protocol start/end times\n",
    "transitions = [(0, i) for i in range(1, 8)] + [(1, i) for i in range(2, 8)]  # Example transitions\n",
    "protocol_start = 0\n",
    "protocol_end = T_max\n",
    "\n",
    "# Test the function\n",
    "print_states_for_transitions(transitions, protocol_start, protocol_end, args)"
   ]
  },
  {
   "cell_type": "code",
   "execution_count": 14,
   "id": "d398bc969835452d",
   "metadata": {
    "ExecuteTime": {
     "end_time": "2025-07-30T08:56:59.108525Z",
     "start_time": "2025-07-30T08:56:59.097751Z"
    }
   },
   "outputs": [
    {
     "name": "stdout",
     "output_type": "stream",
     "text": [
      "Quantum states and energies at the start of the protocol:\n",
      "Transition: (0, 1)\n",
      "Energy: -20.0\n",
      "|ψ⟩ = 1.00|000⟩\n",
      "Transition: (0, 2)\n",
      "Energy: -20.0\n",
      "|ψ⟩ = 1.00|000⟩\n",
      "Transition: (0, 3)\n",
      "Energy: -20.0\n",
      "|ψ⟩ = 1.00|000⟩\n",
      "Transition: (0, 4)\n",
      "Energy: -20.0\n",
      "|ψ⟩ = 1.00|000⟩\n",
      "Transition: (0, 5)\n",
      "Energy: -20.0\n",
      "|ψ⟩ = 1.00|000⟩\n",
      "Transition: (0, 6)\n",
      "Energy: -20.0\n",
      "|ψ⟩ = 1.00|000⟩\n",
      "Transition: (0, 7)\n",
      "Energy: -20.0\n",
      "|ψ⟩ = 1.00|000⟩\n",
      "Transition: (1, 2)\n",
      "Energy: -6.666666666666666\n",
      "|ψ⟩ = 1.00|001⟩\n",
      "Transition: (1, 3)\n",
      "Energy: -6.666666666666666\n",
      "|ψ⟩ = 1.00|001⟩\n",
      "Transition: (1, 4)\n",
      "Energy: -6.666666666666666\n",
      "|ψ⟩ = 1.00|001⟩\n",
      "Transition: (1, 5)\n",
      "Energy: -6.666666666666666\n",
      "|ψ⟩ = 1.00|001⟩\n",
      "Transition: (1, 6)\n",
      "Energy: -6.666666666666666\n",
      "|ψ⟩ = 1.00|001⟩\n",
      "Transition: (1, 7)\n",
      "Energy: -6.666666666666666\n",
      "|ψ⟩ = 1.00|001⟩\n",
      "Transition: (2, 3)\n",
      "Energy: -6.666666666666666\n",
      "|ψ⟩ = 1.00|010⟩\n",
      "Transition: (2, 4)\n",
      "Energy: -6.666666666666666\n",
      "|ψ⟩ = 1.00|010⟩\n",
      "Transition: (2, 5)\n",
      "Energy: -6.666666666666666\n",
      "|ψ⟩ = 1.00|010⟩\n",
      "Transition: (2, 6)\n",
      "Energy: -6.666666666666666\n",
      "|ψ⟩ = 1.00|010⟩\n",
      "Transition: (2, 7)\n",
      "Energy: -6.666666666666666\n",
      "|ψ⟩ = 1.00|010⟩\n",
      "Transition: (3, 4)\n",
      "Energy: -6.666666666666666\n",
      "|ψ⟩ = 1.00|100⟩\n",
      "Transition: (3, 5)\n",
      "Energy: -6.666666666666666\n",
      "|ψ⟩ = 1.00|100⟩\n",
      "Transition: (3, 6)\n",
      "Energy: -6.666666666666666\n",
      "|ψ⟩ = 1.00|100⟩\n",
      "Transition: (3, 7)\n",
      "Energy: -6.666666666666666\n",
      "|ψ⟩ = 1.00|100⟩\n",
      "Transition: (4, 5)\n",
      "Energy: 6.666666666666666\n",
      "|ψ⟩ = 1.00|011⟩\n",
      "Transition: (4, 6)\n",
      "Energy: 6.666666666666666\n",
      "|ψ⟩ = 1.00|011⟩\n",
      "Transition: (4, 7)\n",
      "Energy: 6.666666666666666\n",
      "|ψ⟩ = 1.00|011⟩\n",
      "Transition: (5, 6)\n",
      "Energy: 6.666666666666666\n",
      "|ψ⟩ = 1.00|101⟩\n",
      "Transition: (5, 7)\n",
      "Energy: 6.666666666666666\n",
      "|ψ⟩ = 1.00|101⟩\n",
      "Transition: (6, 7)\n",
      "Energy: 6.666666666666666\n",
      "|ψ⟩ = 1.00|110⟩\n",
      "\n",
      "Quantum states and energies at the end of the protocol:\n",
      "Transition: (0, 1)\n",
      "Energy: -6.666666666666666\n",
      "|ψ⟩ = 1.00|011⟩\n",
      "Transition: (0, 2)\n",
      "Energy: -6.666666666666666\n",
      "|ψ⟩ = 1.00|101⟩\n",
      "Transition: (0, 3)\n",
      "Energy: -6.666666666666666\n",
      "|ψ⟩ = 1.00|110⟩\n",
      "Transition: (0, 4)\n",
      "Energy: 6.666666666666666\n",
      "|ψ⟩ = 1.00|100⟩\n",
      "Transition: (0, 5)\n",
      "Energy: 6.666666666666666\n",
      "|ψ⟩ = 1.00|010⟩\n",
      "Transition: (0, 6)\n",
      "Energy: 6.666666666666666\n",
      "|ψ⟩ = 1.00|001⟩\n",
      "Transition: (0, 7)\n",
      "Energy: 20.0\n",
      "|ψ⟩ = 1.00|000⟩\n",
      "Transition: (1, 2)\n",
      "Energy: -6.666666666666666\n",
      "|ψ⟩ = 1.00|101⟩\n",
      "Transition: (1, 3)\n",
      "Energy: -6.666666666666666\n",
      "|ψ⟩ = 1.00|110⟩\n",
      "Transition: (1, 4)\n",
      "Energy: 6.666666666666666\n",
      "|ψ⟩ = 1.00|100⟩\n",
      "Transition: (1, 5)\n",
      "Energy: 6.666666666666666\n",
      "|ψ⟩ = 1.00|010⟩\n",
      "Transition: (1, 6)\n",
      "Energy: 6.666666666666666\n",
      "|ψ⟩ = 1.00|001⟩\n",
      "Transition: (1, 7)\n",
      "Energy: 20.0\n",
      "|ψ⟩ = 1.00|000⟩\n",
      "Transition: (2, 3)\n",
      "Energy: -6.666666666666666\n",
      "|ψ⟩ = 1.00|110⟩\n",
      "Transition: (2, 4)\n",
      "Energy: 6.666666666666666\n",
      "|ψ⟩ = 1.00|100⟩\n",
      "Transition: (2, 5)\n",
      "Energy: 6.666666666666666\n",
      "|ψ⟩ = 1.00|010⟩\n",
      "Transition: (2, 6)\n",
      "Energy: 6.666666666666666\n",
      "|ψ⟩ = 1.00|001⟩\n",
      "Transition: (2, 7)\n",
      "Energy: 20.0\n",
      "|ψ⟩ = 1.00|000⟩\n",
      "Transition: (3, 4)\n",
      "Energy: 6.666666666666666\n",
      "|ψ⟩ = 1.00|100⟩\n",
      "Transition: (3, 5)\n",
      "Energy: 6.666666666666666\n",
      "|ψ⟩ = 1.00|010⟩\n",
      "Transition: (3, 6)\n",
      "Energy: 6.666666666666666\n",
      "|ψ⟩ = 1.00|001⟩\n",
      "Transition: (3, 7)\n",
      "Energy: 20.0\n",
      "|ψ⟩ = 1.00|000⟩\n",
      "Transition: (4, 5)\n",
      "Energy: 6.666666666666666\n",
      "|ψ⟩ = 1.00|010⟩\n",
      "Transition: (4, 6)\n",
      "Energy: 6.666666666666666\n",
      "|ψ⟩ = 1.00|001⟩\n",
      "Transition: (4, 7)\n",
      "Energy: 20.0\n",
      "|ψ⟩ = 1.00|000⟩\n",
      "Transition: (5, 6)\n",
      "Energy: 6.666666666666666\n",
      "|ψ⟩ = 1.00|001⟩\n",
      "Transition: (5, 7)\n",
      "Energy: 20.0\n",
      "|ψ⟩ = 1.00|000⟩\n",
      "Transition: (6, 7)\n",
      "Energy: 20.0\n",
      "|ψ⟩ = 1.00|000⟩\n"
     ]
    }
   ],
   "source": [
    "# Generate all possible transitions\n",
    "H_start = args['args_H'](0)  # Hamiltonian at the start of the protocol\n",
    "eigenvalues, eigenstates = H_start.eigenstates()\n",
    "num_states = len(eigenstates)\n",
    "transitions = [(i, j) for i in range(num_states) for j in range(i + 1, num_states)]\n",
    "\n",
    "# Define protocol start and end times\n",
    "protocol_start = 0\n",
    "protocol_end = T_max\n",
    "\n",
    "# Test the function\n",
    "print_states_for_transitions(transitions, protocol_start, protocol_end, args)"
   ]
  },
  {
   "cell_type": "markdown",
   "id": "2ad323252b1d4850",
   "metadata": {},
   "source": [
    "# As function of energy gap\n"
   ]
  },
  {
   "cell_type": "markdown",
   "id": "6a40654b0e9649ae",
   "metadata": {},
   "source": [
    "## Simulating the final fidelity of the logical state |1_L⟩ as a function of the energy gap E_P at different temperatures"
   ]
  },
  {
   "cell_type": "code",
   "execution_count": 15,
   "id": "43c77ee77cca597b",
   "metadata": {
    "ExecuteTime": {
     "end_time": "2025-07-30T09:18:53.118311Z",
     "start_time": "2025-07-30T09:17:47.698360Z"
    }
   },
   "outputs": [
    {
     "name": "stdout",
     "output_type": "stream",
     "text": [
      "Processing temperature: 1\n",
      "Processing temperature: 10\n",
      "Processing temperature: 20\n",
      "Processing temperature: 50\n",
      "Processing temperature: 100\n"
     ]
    },
    {
     "data": {
      "application/vnd.plotly.v1+json": {
       "config": {
        "plotlyServerURL": "https://plot.ly"
       },
       "data": [
        {
         "mode": "lines+markers",
         "name": "T = 1 K",
         "type": "scatter",
         "x": {
          "bdata": "AAAAAAAAAADYUF5DeQ0FQNhQXkN5DRVARHkN5TWUH0DYUF5DeQ0lQA7lNZTXUCpARHkN5TWUL0C9hvIaymsyQNhQXkN5DTVA8xrKayivN0AO5TWU11A6QCmvobyG8jxARHkN5TWUP0CwobyG8hpBQL2G8hrKa0JAymsor6G8Q0DYUF5DeQ1FQOY1lNdQXkZA8xrKayivR0AAAAAAAABJQA==",
          "dtype": "f8"
         },
         "y": [
          0.27730067771002914,
          0.9995056899927638,
          0.9998594613126369,
          0.9998900285340614,
          0.9998386498419994,
          0.9998884394486238,
          0.9998900525115119,
          0.9998900577938893,
          0.9998900578212471,
          0.9998900578213443,
          0.9998900578213431,
          0.9998900578213431,
          0.9998900578213422,
          0.9998900578213427,
          0.9998900578213423,
          0.999890057821343,
          0.9998900578213428,
          0.9998900578213427,
          0.9998900578213413,
          0.9998900578213423
         ]
        },
        {
         "mode": "lines+markers",
         "name": "T = 10 K",
         "type": "scatter",
         "x": {
          "bdata": "AAAAAAAAAADYUF5DeQ0FQNhQXkN5DRVARHkN5TWUH0DYUF5DeQ0lQA7lNZTXUCpARHkN5TWUL0C9hvIaymsyQNhQXkN5DTVA8xrKayivN0AO5TWU11A6QCmvobyG8jxARHkN5TWUP0CwobyG8hpBQL2G8hrKa0JAymsor6G8Q0DYUF5DeQ1FQOY1lNdQXkZA8xrKayivR0AAAAAAAABJQA==",
          "dtype": "f8"
         },
         "y": [
          0.000005284004256903994,
          0.6191785466843813,
          0.812594081596743,
          0.9006366338549732,
          0.9443443226847023,
          0.968628376243693,
          0.9818961508112328,
          0.9894177857724451,
          0.9937581606134073,
          0.9962866283857259,
          0.9977679509208468,
          0.9986219581873418,
          0.9991516905307547,
          0.9994541963686848,
          0.9996325630422613,
          0.9997379702151237,
          0.9998002179457582,
          0.9998369880364093,
          0.9998587066904798,
          0.9998715372047909
         ]
        },
        {
         "mode": "lines+markers",
         "name": "T = 20 K",
         "type": "scatter",
         "x": {
          "bdata": "AAAAAAAAAADYUF5DeQ0FQNhQXkN5DRVARHkN5TWUH0DYUF5DeQ0lQA7lNZTXUCpARHkN5TWUL0C9hvIaymsyQNhQXkN5DTVA8xrKayivN0AO5TWU11A6QCmvobyG8jxARHkN5TWUP0CwobyG8hpBQL2G8hrKa0JAymsor6G8Q0DYUF5DeQ1FQOY1lNdQXkZA8xrKayivR0AAAAAAAABJQA==",
          "dtype": "f8"
         },
         "y": [
          0.000015253363768565374,
          0.2456083929733074,
          0.4660579930701859,
          0.6191881130398593,
          0.7240465289892205,
          0.7990345084540293,
          0.8519237592727428,
          0.8899526033352503,
          0.9176477575724341,
          0.9380205572477557,
          0.9531349597416279,
          0.9639375564266928,
          0.9729147711876235,
          0.9793233825764032,
          0.9841811096479756,
          0.9878744810033767,
          0.9906889563403665,
          0.9928387733650704,
          0.9944823995960747,
          0.9957408769204741
         ]
        },
        {
         "mode": "lines+markers",
         "name": "T = 50 K",
         "type": "scatter",
         "x": {
          "bdata": "AAAAAAAAAADYUF5DeQ0FQNhQXkN5DRVARHkN5TWUH0DYUF5DeQ0lQA7lNZTXUCpARHkN5TWUL0C9hvIaymsyQNhQXkN5DTVA8xrKayivN0AO5TWU11A6QCmvobyG8jxARHkN5TWUP0CwobyG8hpBQL2G8hrKa0JAymsor6G8Q0DYUF5DeQ1FQOY1lNdQXkZA8xrKayivR0AAAAAAAABJQA==",
          "dtype": "f8"
         },
         "y": [
          0.000043944771001848464,
          0.01207618484587562,
          0.06503970795089652,
          0.14347007098426634,
          0.228898367235092,
          0.3138923630084272,
          0.39249903277380394,
          0.46349562231002844,
          0.5267208971940479,
          0.582569242846075,
          0.6316845564306476,
          0.6714017475837111,
          0.7125739898992464,
          0.7457095135786724,
          0.7747809811339051,
          0.8003099045837067,
          0.8227435373211011,
          0.8425081646692928,
          0.8599172800003836,
          0.8752858235222036
         ]
        },
        {
         "mode": "lines+markers",
         "name": "T = 100 K",
         "type": "scatter",
         "x": {
          "bdata": "AAAAAAAAAADYUF5DeQ0FQNhQXkN5DRVARHkN5TWUH0DYUF5DeQ0lQA7lNZTXUCpARHkN5TWUL0C9hvIaymsyQNhQXkN5DTVA8xrKayivN0AO5TWU11A6QCmvobyG8jxARHkN5TWUP0CwobyG8hpBQL2G8hrKa0JAymsor6G8Q0DYUF5DeQ1FQOY1lNdQXkZA8xrKayivR0AAAAAAAABJQA==",
          "dtype": "f8"
         },
         "y": [
          0.00006023690119141751,
          0.0001495971957007148,
          0.00221102021000336,
          0.010783236811740256,
          0.02817713735711274,
          0.05429562006102846,
          0.08704418593369585,
          0.12438317908267067,
          0.16449916006199922,
          0.20593734758662915,
          0.24760956687056415,
          0.28446782088143446,
          0.32878384398509986,
          0.3673956695762355,
          0.40435340001491754,
          0.4395358883823886,
          0.4728693615886121,
          0.5044153806522433,
          0.5341325711465512,
          0.5621153343719691
         ]
        }
       ],
       "layout": {
        "template": {
         "data": {
          "bar": [
           {
            "error_x": {
             "color": "#2a3f5f"
            },
            "error_y": {
             "color": "#2a3f5f"
            },
            "marker": {
             "line": {
              "color": "#E5ECF6",
              "width": 0.5
             },
             "pattern": {
              "fillmode": "overlay",
              "size": 10,
              "solidity": 0.2
             }
            },
            "type": "bar"
           }
          ],
          "barpolar": [
           {
            "marker": {
             "line": {
              "color": "#E5ECF6",
              "width": 0.5
             },
             "pattern": {
              "fillmode": "overlay",
              "size": 10,
              "solidity": 0.2
             }
            },
            "type": "barpolar"
           }
          ],
          "carpet": [
           {
            "aaxis": {
             "endlinecolor": "#2a3f5f",
             "gridcolor": "white",
             "linecolor": "white",
             "minorgridcolor": "white",
             "startlinecolor": "#2a3f5f"
            },
            "baxis": {
             "endlinecolor": "#2a3f5f",
             "gridcolor": "white",
             "linecolor": "white",
             "minorgridcolor": "white",
             "startlinecolor": "#2a3f5f"
            },
            "type": "carpet"
           }
          ],
          "choropleth": [
           {
            "colorbar": {
             "outlinewidth": 0,
             "ticks": ""
            },
            "type": "choropleth"
           }
          ],
          "contour": [
           {
            "colorbar": {
             "outlinewidth": 0,
             "ticks": ""
            },
            "colorscale": [
             [
              0,
              "#0d0887"
             ],
             [
              0.1111111111111111,
              "#46039f"
             ],
             [
              0.2222222222222222,
              "#7201a8"
             ],
             [
              0.3333333333333333,
              "#9c179e"
             ],
             [
              0.4444444444444444,
              "#bd3786"
             ],
             [
              0.5555555555555556,
              "#d8576b"
             ],
             [
              0.6666666666666666,
              "#ed7953"
             ],
             [
              0.7777777777777778,
              "#fb9f3a"
             ],
             [
              0.8888888888888888,
              "#fdca26"
             ],
             [
              1,
              "#f0f921"
             ]
            ],
            "type": "contour"
           }
          ],
          "contourcarpet": [
           {
            "colorbar": {
             "outlinewidth": 0,
             "ticks": ""
            },
            "type": "contourcarpet"
           }
          ],
          "heatmap": [
           {
            "colorbar": {
             "outlinewidth": 0,
             "ticks": ""
            },
            "colorscale": [
             [
              0,
              "#0d0887"
             ],
             [
              0.1111111111111111,
              "#46039f"
             ],
             [
              0.2222222222222222,
              "#7201a8"
             ],
             [
              0.3333333333333333,
              "#9c179e"
             ],
             [
              0.4444444444444444,
              "#bd3786"
             ],
             [
              0.5555555555555556,
              "#d8576b"
             ],
             [
              0.6666666666666666,
              "#ed7953"
             ],
             [
              0.7777777777777778,
              "#fb9f3a"
             ],
             [
              0.8888888888888888,
              "#fdca26"
             ],
             [
              1,
              "#f0f921"
             ]
            ],
            "type": "heatmap"
           }
          ],
          "histogram": [
           {
            "marker": {
             "pattern": {
              "fillmode": "overlay",
              "size": 10,
              "solidity": 0.2
             }
            },
            "type": "histogram"
           }
          ],
          "histogram2d": [
           {
            "colorbar": {
             "outlinewidth": 0,
             "ticks": ""
            },
            "colorscale": [
             [
              0,
              "#0d0887"
             ],
             [
              0.1111111111111111,
              "#46039f"
             ],
             [
              0.2222222222222222,
              "#7201a8"
             ],
             [
              0.3333333333333333,
              "#9c179e"
             ],
             [
              0.4444444444444444,
              "#bd3786"
             ],
             [
              0.5555555555555556,
              "#d8576b"
             ],
             [
              0.6666666666666666,
              "#ed7953"
             ],
             [
              0.7777777777777778,
              "#fb9f3a"
             ],
             [
              0.8888888888888888,
              "#fdca26"
             ],
             [
              1,
              "#f0f921"
             ]
            ],
            "type": "histogram2d"
           }
          ],
          "histogram2dcontour": [
           {
            "colorbar": {
             "outlinewidth": 0,
             "ticks": ""
            },
            "colorscale": [
             [
              0,
              "#0d0887"
             ],
             [
              0.1111111111111111,
              "#46039f"
             ],
             [
              0.2222222222222222,
              "#7201a8"
             ],
             [
              0.3333333333333333,
              "#9c179e"
             ],
             [
              0.4444444444444444,
              "#bd3786"
             ],
             [
              0.5555555555555556,
              "#d8576b"
             ],
             [
              0.6666666666666666,
              "#ed7953"
             ],
             [
              0.7777777777777778,
              "#fb9f3a"
             ],
             [
              0.8888888888888888,
              "#fdca26"
             ],
             [
              1,
              "#f0f921"
             ]
            ],
            "type": "histogram2dcontour"
           }
          ],
          "mesh3d": [
           {
            "colorbar": {
             "outlinewidth": 0,
             "ticks": ""
            },
            "type": "mesh3d"
           }
          ],
          "parcoords": [
           {
            "line": {
             "colorbar": {
              "outlinewidth": 0,
              "ticks": ""
             }
            },
            "type": "parcoords"
           }
          ],
          "pie": [
           {
            "automargin": true,
            "type": "pie"
           }
          ],
          "scatter": [
           {
            "fillpattern": {
             "fillmode": "overlay",
             "size": 10,
             "solidity": 0.2
            },
            "type": "scatter"
           }
          ],
          "scatter3d": [
           {
            "line": {
             "colorbar": {
              "outlinewidth": 0,
              "ticks": ""
             }
            },
            "marker": {
             "colorbar": {
              "outlinewidth": 0,
              "ticks": ""
             }
            },
            "type": "scatter3d"
           }
          ],
          "scattercarpet": [
           {
            "marker": {
             "colorbar": {
              "outlinewidth": 0,
              "ticks": ""
             }
            },
            "type": "scattercarpet"
           }
          ],
          "scattergeo": [
           {
            "marker": {
             "colorbar": {
              "outlinewidth": 0,
              "ticks": ""
             }
            },
            "type": "scattergeo"
           }
          ],
          "scattergl": [
           {
            "marker": {
             "colorbar": {
              "outlinewidth": 0,
              "ticks": ""
             }
            },
            "type": "scattergl"
           }
          ],
          "scattermap": [
           {
            "marker": {
             "colorbar": {
              "outlinewidth": 0,
              "ticks": ""
             }
            },
            "type": "scattermap"
           }
          ],
          "scattermapbox": [
           {
            "marker": {
             "colorbar": {
              "outlinewidth": 0,
              "ticks": ""
             }
            },
            "type": "scattermapbox"
           }
          ],
          "scatterpolar": [
           {
            "marker": {
             "colorbar": {
              "outlinewidth": 0,
              "ticks": ""
             }
            },
            "type": "scatterpolar"
           }
          ],
          "scatterpolargl": [
           {
            "marker": {
             "colorbar": {
              "outlinewidth": 0,
              "ticks": ""
             }
            },
            "type": "scatterpolargl"
           }
          ],
          "scatterternary": [
           {
            "marker": {
             "colorbar": {
              "outlinewidth": 0,
              "ticks": ""
             }
            },
            "type": "scatterternary"
           }
          ],
          "surface": [
           {
            "colorbar": {
             "outlinewidth": 0,
             "ticks": ""
            },
            "colorscale": [
             [
              0,
              "#0d0887"
             ],
             [
              0.1111111111111111,
              "#46039f"
             ],
             [
              0.2222222222222222,
              "#7201a8"
             ],
             [
              0.3333333333333333,
              "#9c179e"
             ],
             [
              0.4444444444444444,
              "#bd3786"
             ],
             [
              0.5555555555555556,
              "#d8576b"
             ],
             [
              0.6666666666666666,
              "#ed7953"
             ],
             [
              0.7777777777777778,
              "#fb9f3a"
             ],
             [
              0.8888888888888888,
              "#fdca26"
             ],
             [
              1,
              "#f0f921"
             ]
            ],
            "type": "surface"
           }
          ],
          "table": [
           {
            "cells": {
             "fill": {
              "color": "#EBF0F8"
             },
             "line": {
              "color": "white"
             }
            },
            "header": {
             "fill": {
              "color": "#C8D4E3"
             },
             "line": {
              "color": "white"
             }
            },
            "type": "table"
           }
          ]
         },
         "layout": {
          "annotationdefaults": {
           "arrowcolor": "#2a3f5f",
           "arrowhead": 0,
           "arrowwidth": 1
          },
          "autotypenumbers": "strict",
          "coloraxis": {
           "colorbar": {
            "outlinewidth": 0,
            "ticks": ""
           }
          },
          "colorscale": {
           "diverging": [
            [
             0,
             "#8e0152"
            ],
            [
             0.1,
             "#c51b7d"
            ],
            [
             0.2,
             "#de77ae"
            ],
            [
             0.3,
             "#f1b6da"
            ],
            [
             0.4,
             "#fde0ef"
            ],
            [
             0.5,
             "#f7f7f7"
            ],
            [
             0.6,
             "#e6f5d0"
            ],
            [
             0.7,
             "#b8e186"
            ],
            [
             0.8,
             "#7fbc41"
            ],
            [
             0.9,
             "#4d9221"
            ],
            [
             1,
             "#276419"
            ]
           ],
           "sequential": [
            [
             0,
             "#0d0887"
            ],
            [
             0.1111111111111111,
             "#46039f"
            ],
            [
             0.2222222222222222,
             "#7201a8"
            ],
            [
             0.3333333333333333,
             "#9c179e"
            ],
            [
             0.4444444444444444,
             "#bd3786"
            ],
            [
             0.5555555555555556,
             "#d8576b"
            ],
            [
             0.6666666666666666,
             "#ed7953"
            ],
            [
             0.7777777777777778,
             "#fb9f3a"
            ],
            [
             0.8888888888888888,
             "#fdca26"
            ],
            [
             1,
             "#f0f921"
            ]
           ],
           "sequentialminus": [
            [
             0,
             "#0d0887"
            ],
            [
             0.1111111111111111,
             "#46039f"
            ],
            [
             0.2222222222222222,
             "#7201a8"
            ],
            [
             0.3333333333333333,
             "#9c179e"
            ],
            [
             0.4444444444444444,
             "#bd3786"
            ],
            [
             0.5555555555555556,
             "#d8576b"
            ],
            [
             0.6666666666666666,
             "#ed7953"
            ],
            [
             0.7777777777777778,
             "#fb9f3a"
            ],
            [
             0.8888888888888888,
             "#fdca26"
            ],
            [
             1,
             "#f0f921"
            ]
           ]
          },
          "colorway": [
           "#636efa",
           "#EF553B",
           "#00cc96",
           "#ab63fa",
           "#FFA15A",
           "#19d3f3",
           "#FF6692",
           "#B6E880",
           "#FF97FF",
           "#FECB52"
          ],
          "font": {
           "color": "#2a3f5f"
          },
          "geo": {
           "bgcolor": "white",
           "lakecolor": "white",
           "landcolor": "#E5ECF6",
           "showlakes": true,
           "showland": true,
           "subunitcolor": "white"
          },
          "hoverlabel": {
           "align": "left"
          },
          "hovermode": "closest",
          "mapbox": {
           "style": "light"
          },
          "paper_bgcolor": "white",
          "plot_bgcolor": "#E5ECF6",
          "polar": {
           "angularaxis": {
            "gridcolor": "white",
            "linecolor": "white",
            "ticks": ""
           },
           "bgcolor": "#E5ECF6",
           "radialaxis": {
            "gridcolor": "white",
            "linecolor": "white",
            "ticks": ""
           }
          },
          "scene": {
           "xaxis": {
            "backgroundcolor": "#E5ECF6",
            "gridcolor": "white",
            "gridwidth": 2,
            "linecolor": "white",
            "showbackground": true,
            "ticks": "",
            "zerolinecolor": "white"
           },
           "yaxis": {
            "backgroundcolor": "#E5ECF6",
            "gridcolor": "white",
            "gridwidth": 2,
            "linecolor": "white",
            "showbackground": true,
            "ticks": "",
            "zerolinecolor": "white"
           },
           "zaxis": {
            "backgroundcolor": "#E5ECF6",
            "gridcolor": "white",
            "gridwidth": 2,
            "linecolor": "white",
            "showbackground": true,
            "ticks": "",
            "zerolinecolor": "white"
           }
          },
          "shapedefaults": {
           "line": {
            "color": "#2a3f5f"
           }
          },
          "ternary": {
           "aaxis": {
            "gridcolor": "white",
            "linecolor": "white",
            "ticks": ""
           },
           "baxis": {
            "gridcolor": "white",
            "linecolor": "white",
            "ticks": ""
           },
           "bgcolor": "#E5ECF6",
           "caxis": {
            "gridcolor": "white",
            "linecolor": "white",
            "ticks": ""
           }
          },
          "title": {
           "x": 0.05
          },
          "xaxis": {
           "automargin": true,
           "gridcolor": "white",
           "linecolor": "white",
           "ticks": "",
           "title": {
            "standoff": 15
           },
           "zerolinecolor": "white",
           "zerolinewidth": 2
          },
          "yaxis": {
           "automargin": true,
           "gridcolor": "white",
           "linecolor": "white",
           "ticks": "",
           "title": {
            "standoff": 15
           },
           "zerolinecolor": "white",
           "zerolinewidth": 2
          }
         }
        },
        "title": {
         "text": "Final Fidelity of $|1_L\\rangle$"
        },
        "xaxis": {
         "title": {
          "text": "Energy Gap"
         }
        },
        "yaxis": {
         "title": {
          "text": "Final Fidelity of $|1_L\\rangle$"
         }
        }
       }
      }
     },
     "metadata": {},
     "output_type": "display_data"
    }
   ],
   "source": [
    "# Define parameters\n",
    "times = np.linspace(0, T_max, 101)  # Time array\n",
    "gamma_sqrt = 0.1\n",
    "temperatures = [1, 10, 20, 50, 100]  # Different temperatures\n",
    "Eps = np.linspace(0, 50, 20)  # Energy gaps\n",
    "\n",
    "rho0 = logical_zero * logical_zero.dag()\n",
    "rho1 = logical_one * logical_one.dag()\n",
    "e_ops = [rho0, rho1]\n",
    "\n",
    "# Initialize data storage\n",
    "final_fidelities = {T: [] for T in temperatures}\n",
    "\n",
    "# Loop over temperatures\n",
    "for T in temperatures:\n",
    "    print(f\"Processing temperature: {T}\")\n",
    "    for Ep in Eps:\n",
    "        # Time-dependent Hamiltonian\n",
    "        def H_t(t):\n",
    "            H_RAP = X_L * omega_t(t) + Z_L * delta_t(t)\n",
    "            Ht = H_RAP - Ep * sum(S)\n",
    "            return Ht.to('csr')\n",
    "\n",
    "        args_C = {\"args_H\": H_t, \"n_qubits\": n_qubits, \"lambda_2\": gamma_sqrt, \"T\": T}\n",
    "\n",
    "        # Simulate evolution\n",
    "        rho_init = initial_state * initial_state.dag()\n",
    "        prev_time = times[0]\n",
    "        time_inter = times[1] - times[0]\n",
    "        tot_time = times[1:]\n",
    "        tot_time = np.append(tot_time, times[-1] + time_inter)\n",
    "\n",
    "        for dt in tot_time:\n",
    "            c_ops, c_s = c_ops_gen_new(dt, args=args_C)\n",
    "            t_steps = [prev_time, dt]\n",
    "            results = mesolve(H_t, rho_init, t_steps, c_ops=c_ops, args=args_C, e_ops=e_ops,\n",
    "                              options={'store_states': True})\n",
    "            prev_time = dt\n",
    "            rho_init = results.states[-1]\n",
    "\n",
    "        # Store final fidelity for logical_one state\n",
    "        final_fidelity = results.expect[1][-1]\n",
    "        final_fidelities[T].append(final_fidelity)\n",
    "\n",
    "# Create interactive plot\n",
    "fig = go.Figure()\n",
    "\n",
    "for T, fidelities in final_fidelities.items():\n",
    "    fig.add_trace(go.Scatter(\n",
    "        x=Eps,\n",
    "        y=fidelities,\n",
    "        mode='lines+markers',\n",
    "        name=f\"T = {T} K\"\n",
    "    ))\n",
    "\n",
    "fig.update_layout(\n",
    "    title=r\"Final Fidelity of $|1_L\\rangle$\",\n",
    "    xaxis_title=\"Energy Gap\",\n",
    "    yaxis_title=r\"Final Fidelity of $|1_L\\rangle$\"\n",
    ")\n",
    "\n",
    "fig.show()"
   ]
  },
  {
   "cell_type": "markdown",
   "id": "8d85d740114a920b",
   "metadata": {},
   "source": [
    "## Simulating the final fidelity of the logical state |1_L⟩ as a function of the energy gap E_P for different gamma_sqrt values"
   ]
  },
  {
   "cell_type": "markdown",
   "id": "715e8e0e",
   "metadata": {},
   "source": []
  },
  {
   "cell_type": "code",
   "execution_count": 17,
   "id": "7a2ab0b394aa1265",
   "metadata": {
    "ExecuteTime": {
     "end_time": "2025-07-30T08:44:50.425692Z",
     "start_time": "2025-07-30T08:43:41.142027Z"
    }
   },
   "outputs": [
    {
     "name": "stdout",
     "output_type": "stream",
     "text": [
      "Processing gamma_sqrt: 0.05\n",
      "Processing gamma_sqrt: 0.1\n",
      "Processing gamma_sqrt: 0.2\n",
      "Processing gamma_sqrt: 0.5\n",
      "Processing gamma_sqrt: 1.0\n"
     ]
    },
    {
     "data": {
      "application/vnd.plotly.v1+json": {
       "config": {
        "plotlyServerURL": "https://plot.ly"
       },
       "data": [
        {
         "mode": "lines+markers",
         "name": "gamma_sqrt = 0.05",
         "type": "scatter",
         "x": {
          "bdata": "AAAAAAAAAADYUF5DeQ0FQNhQXkN5DRVARHkN5TWUH0DYUF5DeQ0lQA7lNZTXUCpARHkN5TWUL0C9hvIaymsyQNhQXkN5DTVA8xrKayivN0AO5TWU11A6QCmvobyG8jxARHkN5TWUP0CwobyG8hpBQL2G8hrKa0JAymsor6G8Q0DYUF5DeQ1FQOY1lNdQXkZA8xrKayivR0AAAAAAAABJQA==",
          "dtype": "f8"
         },
         "y": [
          0.000008939308435343482,
          0.49554164400016054,
          0.6826356353891571,
          0.7868430422141991,
          0.8508597112772845,
          0.893842715943073,
          0.9229469889659863,
          0.9433216040989777,
          0.9578867306962745,
          0.9684614593827193,
          0.976232727206217,
          0.9817493511359744,
          0.9863103016040978,
          0.9895533815252067,
          0.9920045716822169,
          0.9938641933952451,
          0.9952789561777403,
          0.9963582594646552,
          0.9971826446630545,
          0.9978133923080469
         ]
        },
        {
         "mode": "lines+markers",
         "name": "gamma_sqrt = 0.1",
         "type": "scatter",
         "x": {
          "bdata": "AAAAAAAAAADYUF5DeQ0FQNhQXkN5DRVARHkN5TWUH0DYUF5DeQ0lQA7lNZTXUCpARHkN5TWUL0C9hvIaymsyQNhQXkN5DTVA8xrKayivN0AO5TWU11A6QCmvobyG8jxARHkN5TWUP0CwobyG8hpBQL2G8hrKa0JAymsor6G8Q0DYUF5DeQ1FQOY1lNdQXkZA8xrKayivR0AAAAAAAABJQA==",
          "dtype": "f8"
         },
         "y": [
          0.000015253363768565374,
          0.2456083929733074,
          0.4660579930701859,
          0.6191881130398593,
          0.7240465289892205,
          0.7990345084540293,
          0.8519237592727428,
          0.8899526033352503,
          0.9176477575724341,
          0.9380205572477557,
          0.9531349597416279,
          0.9639375564266928,
          0.9729147711876235,
          0.9793233825764032,
          0.9841811096479756,
          0.9878744810033767,
          0.9906889563403665,
          0.9928387733650704,
          0.9944823995960747,
          0.9957408769204741
         ]
        },
        {
         "mode": "lines+markers",
         "name": "gamma_sqrt = 0.2",
         "type": "scatter",
         "x": {
          "bdata": "AAAAAAAAAADYUF5DeQ0FQNhQXkN5DRVARHkN5TWUH0DYUF5DeQ0lQA7lNZTXUCpARHkN5TWUL0C9hvIaymsyQNhQXkN5DTVA8xrKayivN0AO5TWU11A6QCmvobyG8jxARHkN5TWUP0CwobyG8hpBQL2G8hrKa0JAymsor6G8Q0DYUF5DeQ1FQOY1lNdQXkZA8xrKayivR0AAAAAAAABJQA==",
          "dtype": "f8"
         },
         "y": [
          0.00002978915324769123,
          0.06037200930488531,
          0.21726709513275483,
          0.38344162660060954,
          0.5243257910933636,
          0.6385184123524327,
          0.7258516394486714,
          0.7921016722132226,
          0.8421691582303603,
          0.879978817928543,
          0.9085660517549862,
          0.9292776106475119,
          0.9466670859766783,
          0.9591795624181955,
          0.9687187543970776,
          0.9760030917432612,
          0.981572360185664,
          0.9858370518022753,
          0.9891039040816162,
          0.9916088307225277
         ]
        },
        {
         "mode": "lines+markers",
         "name": "gamma_sqrt = 0.5",
         "type": "scatter",
         "x": {
          "bdata": "AAAAAAAAAADYUF5DeQ0FQNhQXkN5DRVARHkN5TWUH0DYUF5DeQ0lQA7lNZTXUCpARHkN5TWUL0C9hvIaymsyQNhQXkN5DTVA8xrKayivN0AO5TWU11A6QCmvobyG8jxARHkN5TWUP0CwobyG8hpBQL2G8hrKa0JAymsor6G8Q0DYUF5DeQ1FQOY1lNdQXkZA8xrKayivR0AAAAAAAABJQA==",
          "dtype": "f8"
         },
         "y": [
          0.00005474439964365914,
          0.0009743613192341551,
          0.02207699876523896,
          0.09107212634321514,
          0.19922484845114405,
          0.3258398873831513,
          0.4489384855270394,
          0.5584977129030564,
          0.650981188540684,
          0.7265265020436149,
          0.7869772720075899,
          0.8325972468195956,
          0.8720964953604372,
          0.9012003380100899,
          0.923774175187469,
          0.9412382021489847,
          0.9547228723260054,
          0.9651267930304892,
          0.9731419636633108,
          0.9793149690542459
         ]
        },
        {
         "mode": "lines+markers",
         "name": "gamma_sqrt = 1.0",
         "type": "scatter",
         "x": {
          "bdata": "AAAAAAAAAADYUF5DeQ0FQNhQXkN5DRVARHkN5TWUH0DYUF5DeQ0lQA7lNZTXUCpARHkN5TWUL0C9hvIaymsyQNhQXkN5DTVA8xrKayivN0AO5TWU11A6QCmvobyG8jxARHkN5TWUP0CwobyG8hpBQL2G8hrKa0JAymsor6G8Q0DYUF5DeQ1FQOY1lNdQXkZA8xrKayivR0AAAAAAAABJQA==",
          "dtype": "f8"
         },
         "y": [
          0.00006164026443546612,
          0.00007778400305364809,
          0.0005338215697353125,
          0.008306423383915946,
          0.039782235288612605,
          0.10618475929703151,
          0.20156788357972444,
          0.31195307168496683,
          0.4238214495292038,
          0.527897262338335,
          0.6193999705056163,
          0.6932933915424794,
          0.7606354005710572,
          0.8122506020843274,
          0.8534519388727202,
          0.8860263545952005,
          0.9115958493392862,
          0.931571884378618,
          0.9471093026866015,
          0.959163094419339
         ]
        }
       ],
       "layout": {
        "template": {
         "data": {
          "bar": [
           {
            "error_x": {
             "color": "#2a3f5f"
            },
            "error_y": {
             "color": "#2a3f5f"
            },
            "marker": {
             "line": {
              "color": "#E5ECF6",
              "width": 0.5
             },
             "pattern": {
              "fillmode": "overlay",
              "size": 10,
              "solidity": 0.2
             }
            },
            "type": "bar"
           }
          ],
          "barpolar": [
           {
            "marker": {
             "line": {
              "color": "#E5ECF6",
              "width": 0.5
             },
             "pattern": {
              "fillmode": "overlay",
              "size": 10,
              "solidity": 0.2
             }
            },
            "type": "barpolar"
           }
          ],
          "carpet": [
           {
            "aaxis": {
             "endlinecolor": "#2a3f5f",
             "gridcolor": "white",
             "linecolor": "white",
             "minorgridcolor": "white",
             "startlinecolor": "#2a3f5f"
            },
            "baxis": {
             "endlinecolor": "#2a3f5f",
             "gridcolor": "white",
             "linecolor": "white",
             "minorgridcolor": "white",
             "startlinecolor": "#2a3f5f"
            },
            "type": "carpet"
           }
          ],
          "choropleth": [
           {
            "colorbar": {
             "outlinewidth": 0,
             "ticks": ""
            },
            "type": "choropleth"
           }
          ],
          "contour": [
           {
            "colorbar": {
             "outlinewidth": 0,
             "ticks": ""
            },
            "colorscale": [
             [
              0,
              "#0d0887"
             ],
             [
              0.1111111111111111,
              "#46039f"
             ],
             [
              0.2222222222222222,
              "#7201a8"
             ],
             [
              0.3333333333333333,
              "#9c179e"
             ],
             [
              0.4444444444444444,
              "#bd3786"
             ],
             [
              0.5555555555555556,
              "#d8576b"
             ],
             [
              0.6666666666666666,
              "#ed7953"
             ],
             [
              0.7777777777777778,
              "#fb9f3a"
             ],
             [
              0.8888888888888888,
              "#fdca26"
             ],
             [
              1,
              "#f0f921"
             ]
            ],
            "type": "contour"
           }
          ],
          "contourcarpet": [
           {
            "colorbar": {
             "outlinewidth": 0,
             "ticks": ""
            },
            "type": "contourcarpet"
           }
          ],
          "heatmap": [
           {
            "colorbar": {
             "outlinewidth": 0,
             "ticks": ""
            },
            "colorscale": [
             [
              0,
              "#0d0887"
             ],
             [
              0.1111111111111111,
              "#46039f"
             ],
             [
              0.2222222222222222,
              "#7201a8"
             ],
             [
              0.3333333333333333,
              "#9c179e"
             ],
             [
              0.4444444444444444,
              "#bd3786"
             ],
             [
              0.5555555555555556,
              "#d8576b"
             ],
             [
              0.6666666666666666,
              "#ed7953"
             ],
             [
              0.7777777777777778,
              "#fb9f3a"
             ],
             [
              0.8888888888888888,
              "#fdca26"
             ],
             [
              1,
              "#f0f921"
             ]
            ],
            "type": "heatmap"
           }
          ],
          "histogram": [
           {
            "marker": {
             "pattern": {
              "fillmode": "overlay",
              "size": 10,
              "solidity": 0.2
             }
            },
            "type": "histogram"
           }
          ],
          "histogram2d": [
           {
            "colorbar": {
             "outlinewidth": 0,
             "ticks": ""
            },
            "colorscale": [
             [
              0,
              "#0d0887"
             ],
             [
              0.1111111111111111,
              "#46039f"
             ],
             [
              0.2222222222222222,
              "#7201a8"
             ],
             [
              0.3333333333333333,
              "#9c179e"
             ],
             [
              0.4444444444444444,
              "#bd3786"
             ],
             [
              0.5555555555555556,
              "#d8576b"
             ],
             [
              0.6666666666666666,
              "#ed7953"
             ],
             [
              0.7777777777777778,
              "#fb9f3a"
             ],
             [
              0.8888888888888888,
              "#fdca26"
             ],
             [
              1,
              "#f0f921"
             ]
            ],
            "type": "histogram2d"
           }
          ],
          "histogram2dcontour": [
           {
            "colorbar": {
             "outlinewidth": 0,
             "ticks": ""
            },
            "colorscale": [
             [
              0,
              "#0d0887"
             ],
             [
              0.1111111111111111,
              "#46039f"
             ],
             [
              0.2222222222222222,
              "#7201a8"
             ],
             [
              0.3333333333333333,
              "#9c179e"
             ],
             [
              0.4444444444444444,
              "#bd3786"
             ],
             [
              0.5555555555555556,
              "#d8576b"
             ],
             [
              0.6666666666666666,
              "#ed7953"
             ],
             [
              0.7777777777777778,
              "#fb9f3a"
             ],
             [
              0.8888888888888888,
              "#fdca26"
             ],
             [
              1,
              "#f0f921"
             ]
            ],
            "type": "histogram2dcontour"
           }
          ],
          "mesh3d": [
           {
            "colorbar": {
             "outlinewidth": 0,
             "ticks": ""
            },
            "type": "mesh3d"
           }
          ],
          "parcoords": [
           {
            "line": {
             "colorbar": {
              "outlinewidth": 0,
              "ticks": ""
             }
            },
            "type": "parcoords"
           }
          ],
          "pie": [
           {
            "automargin": true,
            "type": "pie"
           }
          ],
          "scatter": [
           {
            "fillpattern": {
             "fillmode": "overlay",
             "size": 10,
             "solidity": 0.2
            },
            "type": "scatter"
           }
          ],
          "scatter3d": [
           {
            "line": {
             "colorbar": {
              "outlinewidth": 0,
              "ticks": ""
             }
            },
            "marker": {
             "colorbar": {
              "outlinewidth": 0,
              "ticks": ""
             }
            },
            "type": "scatter3d"
           }
          ],
          "scattercarpet": [
           {
            "marker": {
             "colorbar": {
              "outlinewidth": 0,
              "ticks": ""
             }
            },
            "type": "scattercarpet"
           }
          ],
          "scattergeo": [
           {
            "marker": {
             "colorbar": {
              "outlinewidth": 0,
              "ticks": ""
             }
            },
            "type": "scattergeo"
           }
          ],
          "scattergl": [
           {
            "marker": {
             "colorbar": {
              "outlinewidth": 0,
              "ticks": ""
             }
            },
            "type": "scattergl"
           }
          ],
          "scattermap": [
           {
            "marker": {
             "colorbar": {
              "outlinewidth": 0,
              "ticks": ""
             }
            },
            "type": "scattermap"
           }
          ],
          "scattermapbox": [
           {
            "marker": {
             "colorbar": {
              "outlinewidth": 0,
              "ticks": ""
             }
            },
            "type": "scattermapbox"
           }
          ],
          "scatterpolar": [
           {
            "marker": {
             "colorbar": {
              "outlinewidth": 0,
              "ticks": ""
             }
            },
            "type": "scatterpolar"
           }
          ],
          "scatterpolargl": [
           {
            "marker": {
             "colorbar": {
              "outlinewidth": 0,
              "ticks": ""
             }
            },
            "type": "scatterpolargl"
           }
          ],
          "scatterternary": [
           {
            "marker": {
             "colorbar": {
              "outlinewidth": 0,
              "ticks": ""
             }
            },
            "type": "scatterternary"
           }
          ],
          "surface": [
           {
            "colorbar": {
             "outlinewidth": 0,
             "ticks": ""
            },
            "colorscale": [
             [
              0,
              "#0d0887"
             ],
             [
              0.1111111111111111,
              "#46039f"
             ],
             [
              0.2222222222222222,
              "#7201a8"
             ],
             [
              0.3333333333333333,
              "#9c179e"
             ],
             [
              0.4444444444444444,
              "#bd3786"
             ],
             [
              0.5555555555555556,
              "#d8576b"
             ],
             [
              0.6666666666666666,
              "#ed7953"
             ],
             [
              0.7777777777777778,
              "#fb9f3a"
             ],
             [
              0.8888888888888888,
              "#fdca26"
             ],
             [
              1,
              "#f0f921"
             ]
            ],
            "type": "surface"
           }
          ],
          "table": [
           {
            "cells": {
             "fill": {
              "color": "#EBF0F8"
             },
             "line": {
              "color": "white"
             }
            },
            "header": {
             "fill": {
              "color": "#C8D4E3"
             },
             "line": {
              "color": "white"
             }
            },
            "type": "table"
           }
          ]
         },
         "layout": {
          "annotationdefaults": {
           "arrowcolor": "#2a3f5f",
           "arrowhead": 0,
           "arrowwidth": 1
          },
          "autotypenumbers": "strict",
          "coloraxis": {
           "colorbar": {
            "outlinewidth": 0,
            "ticks": ""
           }
          },
          "colorscale": {
           "diverging": [
            [
             0,
             "#8e0152"
            ],
            [
             0.1,
             "#c51b7d"
            ],
            [
             0.2,
             "#de77ae"
            ],
            [
             0.3,
             "#f1b6da"
            ],
            [
             0.4,
             "#fde0ef"
            ],
            [
             0.5,
             "#f7f7f7"
            ],
            [
             0.6,
             "#e6f5d0"
            ],
            [
             0.7,
             "#b8e186"
            ],
            [
             0.8,
             "#7fbc41"
            ],
            [
             0.9,
             "#4d9221"
            ],
            [
             1,
             "#276419"
            ]
           ],
           "sequential": [
            [
             0,
             "#0d0887"
            ],
            [
             0.1111111111111111,
             "#46039f"
            ],
            [
             0.2222222222222222,
             "#7201a8"
            ],
            [
             0.3333333333333333,
             "#9c179e"
            ],
            [
             0.4444444444444444,
             "#bd3786"
            ],
            [
             0.5555555555555556,
             "#d8576b"
            ],
            [
             0.6666666666666666,
             "#ed7953"
            ],
            [
             0.7777777777777778,
             "#fb9f3a"
            ],
            [
             0.8888888888888888,
             "#fdca26"
            ],
            [
             1,
             "#f0f921"
            ]
           ],
           "sequentialminus": [
            [
             0,
             "#0d0887"
            ],
            [
             0.1111111111111111,
             "#46039f"
            ],
            [
             0.2222222222222222,
             "#7201a8"
            ],
            [
             0.3333333333333333,
             "#9c179e"
            ],
            [
             0.4444444444444444,
             "#bd3786"
            ],
            [
             0.5555555555555556,
             "#d8576b"
            ],
            [
             0.6666666666666666,
             "#ed7953"
            ],
            [
             0.7777777777777778,
             "#fb9f3a"
            ],
            [
             0.8888888888888888,
             "#fdca26"
            ],
            [
             1,
             "#f0f921"
            ]
           ]
          },
          "colorway": [
           "#636efa",
           "#EF553B",
           "#00cc96",
           "#ab63fa",
           "#FFA15A",
           "#19d3f3",
           "#FF6692",
           "#B6E880",
           "#FF97FF",
           "#FECB52"
          ],
          "font": {
           "color": "#2a3f5f"
          },
          "geo": {
           "bgcolor": "white",
           "lakecolor": "white",
           "landcolor": "#E5ECF6",
           "showlakes": true,
           "showland": true,
           "subunitcolor": "white"
          },
          "hoverlabel": {
           "align": "left"
          },
          "hovermode": "closest",
          "mapbox": {
           "style": "light"
          },
          "paper_bgcolor": "white",
          "plot_bgcolor": "#E5ECF6",
          "polar": {
           "angularaxis": {
            "gridcolor": "white",
            "linecolor": "white",
            "ticks": ""
           },
           "bgcolor": "#E5ECF6",
           "radialaxis": {
            "gridcolor": "white",
            "linecolor": "white",
            "ticks": ""
           }
          },
          "scene": {
           "xaxis": {
            "backgroundcolor": "#E5ECF6",
            "gridcolor": "white",
            "gridwidth": 2,
            "linecolor": "white",
            "showbackground": true,
            "ticks": "",
            "zerolinecolor": "white"
           },
           "yaxis": {
            "backgroundcolor": "#E5ECF6",
            "gridcolor": "white",
            "gridwidth": 2,
            "linecolor": "white",
            "showbackground": true,
            "ticks": "",
            "zerolinecolor": "white"
           },
           "zaxis": {
            "backgroundcolor": "#E5ECF6",
            "gridcolor": "white",
            "gridwidth": 2,
            "linecolor": "white",
            "showbackground": true,
            "ticks": "",
            "zerolinecolor": "white"
           }
          },
          "shapedefaults": {
           "line": {
            "color": "#2a3f5f"
           }
          },
          "ternary": {
           "aaxis": {
            "gridcolor": "white",
            "linecolor": "white",
            "ticks": ""
           },
           "baxis": {
            "gridcolor": "white",
            "linecolor": "white",
            "ticks": ""
           },
           "bgcolor": "#E5ECF6",
           "caxis": {
            "gridcolor": "white",
            "linecolor": "white",
            "ticks": ""
           }
          },
          "title": {
           "x": 0.05
          },
          "xaxis": {
           "automargin": true,
           "gridcolor": "white",
           "linecolor": "white",
           "ticks": "",
           "title": {
            "standoff": 15
           },
           "zerolinecolor": "white",
           "zerolinewidth": 2
          },
          "yaxis": {
           "automargin": true,
           "gridcolor": "white",
           "linecolor": "white",
           "ticks": "",
           "title": {
            "standoff": 15
           },
           "zerolinecolor": "white",
           "zerolinewidth": 2
          }
         }
        },
        "title": {
         "text": "Final Fidelity of $|1_L\\rangle$"
        },
        "xaxis": {
         "title": {
          "text": "Energy Gap"
         }
        },
        "yaxis": {
         "title": {
          "text": "Final Fidelity of $|1_L\\rangle$"
         }
        }
       }
      }
     },
     "metadata": {},
     "output_type": "display_data"
    }
   ],
   "source": [
    "# Define parameters\n",
    "times = np.linspace(0, T_max, 101)  # Time array\n",
    "temperature = 20  # Constant temperature\n",
    "gamma_sqrt_values = [0.05, 0.1, 0.2, 0.5, 1.0]  # Different gamma_sqrt values\n",
    "Eps = np.linspace(0, 50, 20)  # Energy gaps\n",
    "\n",
    "rho0 = logical_zero * logical_zero.dag()\n",
    "rho1 = logical_one * logical_one.dag()\n",
    "e_ops = [rho0, rho1]\n",
    "\n",
    "# Initialize data storage\n",
    "final_fidelities = {gamma: [] for gamma in gamma_sqrt_values}\n",
    "\n",
    "# Loop over gamma_sqrt values\n",
    "for gamma_sqrt in gamma_sqrt_values:\n",
    "    print(f\"Processing gamma_sqrt: {gamma_sqrt}\")\n",
    "    for Ep in Eps:\n",
    "        # Time-dependent Hamiltonian\n",
    "        def H_t(t):\n",
    "            H_RAP = X_L * omega_t(t) + Z_L * delta_t(t)\n",
    "            Ht = H_RAP - Ep * sum(S)\n",
    "            return Ht.to('csr')\n",
    "\n",
    "        args_C = {\"args_H\": H_t, \"n_qubits\": n_qubits, \"lambda_2\": gamma_sqrt, \"T\": temperature}\n",
    "\n",
    "        # Simulate evolution\n",
    "        rho_init = initial_state * initial_state.dag()\n",
    "        prev_time = times[0]\n",
    "        time_inter = times[1] - times[0]\n",
    "        tot_time = times[1:]\n",
    "        tot_time = np.append(tot_time, times[-1] + time_inter)\n",
    "\n",
    "        for dt in tot_time:\n",
    "            c_ops, c_s = c_ops_gen_new(dt, args=args_C)\n",
    "            t_steps = [prev_time, dt]\n",
    "            results = mesolve(H_t, rho_init, t_steps, c_ops=c_ops, args=args_C, e_ops=e_ops,\n",
    "                              options={'store_states': True})\n",
    "            prev_time = dt\n",
    "            rho_init = results.states[-1]\n",
    "\n",
    "        # Store final fidelity for logical_one state\n",
    "        final_fidelity = results.expect[1][-1]\n",
    "        final_fidelities[gamma_sqrt].append(final_fidelity)\n",
    "\n",
    "# Create interactive plot\n",
    "fig = go.Figure()\n",
    "\n",
    "for gamma_sqrt, fidelities in final_fidelities.items():\n",
    "    fig.add_trace(go.Scatter(\n",
    "        x=Eps,\n",
    "        y=fidelities,\n",
    "        mode='lines+markers',\n",
    "        name=f\"gamma_sqrt = {gamma_sqrt}\"\n",
    "    ))\n",
    "\n",
    "fig.update_layout(\n",
    "    title=r\"Final Fidelity of $|1_L\\rangle$\",\n",
    "    xaxis_title=\"Energy Gap\",\n",
    "    yaxis_title=r\"Final Fidelity of $|1_L\\rangle$\"\n",
    ")\n",
    "\n",
    "fig.show()"
   ]
  },
  {
   "cell_type": "code",
   "execution_count": 19,
   "id": "18bf9dd7",
   "metadata": {},
   "outputs": [
    {
     "data": {
      "application/vnd.plotly.v1+json": {
       "config": {
        "plotlyServerURL": "https://plot.ly"
       },
       "data": [
        {
         "line": {
          "color": "black",
          "dash": "dash",
          "width": 2
         },
         "mode": "lines",
         "name": "Ideal (No Noise)",
         "type": "scatter",
         "x": {
          "bdata": "AAAAAAAAAACamZmZmZm5P5qZmZmZmck/NDMzMzMz0z+amZmZmZnZPwAAAAAAAOA/NDMzMzMz4z9nZmZmZmbmP5qZmZmZmek/zczMzMzM7D8AAAAAAADwP5qZmZmZmfE/NDMzMzMz8z/NzMzMzMz0P2dmZmZmZvY/AAAAAAAA+D+amZmZmZn5PzQzMzMzM/s/zczMzMzM/D9nZmZmZmb+PwAAAAAAAABAzczMzMzMAECamZmZmZkBQGdmZmZmZgJANDMzMzMzA0AAAAAAAAAEQM3MzMzMzARAmpmZmZmZBUBnZmZmZmYGQDQzMzMzMwdAAAAAAAAACEDNzMzMzMwIQJqZmZmZmQlAZ2ZmZmZmCkA0MzMzMzMLQAAAAAAAAAxAzczMzMzMDECamZmZmZkNQGdmZmZmZg5ANDMzMzMzD0AAAAAAAAAQQGdmZmZmZhBAzczMzMzMEEAzMzMzMzMRQJqZmZmZmRFAAAAAAAAAEkBnZmZmZmYSQM3MzMzMzBJANDMzMzMzE0CamZmZmZkTQAAAAAAAABRAZ2ZmZmZmFEDNzMzMzMwUQDQzMzMzMxVAmpmZmZmZFUAAAAAAAAAWQGdmZmZmZhZAzczMzMzMFkA0MzMzMzMXQJqZmZmZmRdAAAAAAAAAGEBnZmZmZmYYQM3MzMzMzBhANDMzMzMzGUCamZmZmZkZQAAAAAAAABpAZ2ZmZmZmGkDNzMzMzMwaQDQzMzMzMxtAmpmZmZmZG0AAAAAAAAAcQGdmZmZmZhxAzczMzMzMHEA0MzMzMzMdQJqZmZmZmR1AAAAAAAAAHkBnZmZmZmYeQM3MzMzMzB5ANDMzMzMzH0CamZmZmZkfQAAAAAAAACBAMzMzMzMzIEBnZmZmZmYgQJqZmZmZmSBAzczMzMzMIEAAAAAAAAAhQDMzMzMzMyFAZ2ZmZmZmIUCamZmZmZkhQM3MzMzMzCFAAAAAAAAAIkAzMzMzMzMiQGdmZmZmZiJAmpmZmZmZIkDNzMzMzMwiQAAAAAAAACNANDMzMzMzI0BnZmZmZmYjQJqZmZmZmSNAzczMzMzMI0AAAAAAAAAkQA==",
          "dtype": "f8"
         },
         "y": {
          "bdata": "AAAAAAAAAAC5BW8JlqIZP4aPJSoJiyk/1UEkDgr4Qz9DfF8PRxBRP/nKWzEyYVc/F7N+o8j8Yz+r7turwbJoP2D6x9o0VXA/INVOMIdWdj+IVaQgR0l5P1HYcET+nYA/EMfIiRSNgz/3igUGTKGGP8DvhQ12HIw/ANCM2Fy/jj+KQD2/UrGSP5j/RFEe15Q/5qhQWljqlz+sCZq9L4abP/rdRAg0RZ4/Rnb2t26koT+gK/kLpBCjPxFp0ZsZJqY/DokYd+rWpz8gRx0Y03erP1Ur9V2mja0/MIxwmdLmsD+gck5PgzCyP7A5lo5eqbQ/XBjsi2xPtj8CrKUcwRC5Pzw5ycx1W7s/CEaMuIktvj8UkNUXhL/APzi7b9TgI8I/FRP9jA9MxD9+e/Q0r/7FP4tYWRHYN8g/vApGGDW/yj+WGRgPrOXMP9aXPuex6c8/d28Sywds0T92AyWwvs/SP0Shw2MgptQ/6tYZQ1Zf1j9pBk4GLwfYPyb8wLDMG9o/QVBqpmIR3D+FAPPLh93dP/b/ZgVRBOA/UcM456YN4T+d/on9v/HhP7QhrFxM+uI/5pAZM7X64z+4MDn6/8nkP8OMt9J5tOU/dfs2hayW5j/w3P2lfETnPyz4aiDuDOg/+dhYUhjD6D8OmOqJ1E3pPzrQl5sw+Ok/ApkFbR966j+GvELwY/DqP1pUcI9bd+s//JJ1i77M6z+5Q6yeVj/sP0oC6rk6j+w/tAR1labi7D9sANxaVTLtP4gpFA2Gbe0/Ui037xy47T9uqIPtXOTtPwl6K4pDJu4/8K2vJlFJ7j/cRWamn4HuP2gUg9vfnu4/M4gr0UfN7j9nHwOj3OfuP9oWwg9QC+8/IWY2uYQm7z8RKJ9zGj7vPwSFOvlPW+8/Ana0qFZp7z9nqYVnAYXvP6Jh7cmZkO8/ymlZRNCj7z+pBTK4brPvP37oJfmNvO8/ikehv2zN7z+VEU+ZJdTvP2EplL493u8/sPximQzo7z/Ox0FO7evvP3iOPune8+8/weyYBAP47z+GBo2mtvrvPwD2iRNn/u8/LEJd8Ur/7z/qIsit/f/vPw==",
          "dtype": "f8"
         }
        },
        {
         "line": {
          "color": "red",
          "width": 2
         },
         "mode": "lines",
         "name": "Full Noise Model",
         "type": "scatter",
         "x": {
          "bdata": "AAAAAAAAAACamZmZmZm5P5qZmZmZmck/NDMzMzMz0z+amZmZmZnZPwAAAAAAAOA/NDMzMzMz4z9nZmZmZmbmP5qZmZmZmek/zczMzMzM7D8AAAAAAADwP5qZmZmZmfE/NDMzMzMz8z/NzMzMzMz0P2dmZmZmZvY/AAAAAAAA+D+amZmZmZn5PzQzMzMzM/s/zczMzMzM/D9nZmZmZmb+PwAAAAAAAABAzczMzMzMAECamZmZmZkBQGdmZmZmZgJANDMzMzMzA0AAAAAAAAAEQM3MzMzMzARAmpmZmZmZBUBnZmZmZmYGQDQzMzMzMwdAAAAAAAAACEDNzMzMzMwIQJqZmZmZmQlAZ2ZmZmZmCkA0MzMzMzMLQAAAAAAAAAxAzczMzMzMDECamZmZmZkNQGdmZmZmZg5ANDMzMzMzD0AAAAAAAAAQQGdmZmZmZhBAzczMzMzMEEAzMzMzMzMRQJqZmZmZmRFAAAAAAAAAEkBnZmZmZmYSQM3MzMzMzBJANDMzMzMzE0CamZmZmZkTQAAAAAAAABRAZ2ZmZmZmFEDNzMzMzMwUQDQzMzMzMxVAmpmZmZmZFUAAAAAAAAAWQGdmZmZmZhZAzczMzMzMFkA0MzMzMzMXQJqZmZmZmRdAAAAAAAAAGEBnZmZmZmYYQM3MzMzMzBhANDMzMzMzGUCamZmZmZkZQAAAAAAAABpAZ2ZmZmZmGkDNzMzMzMwaQDQzMzMzMxtAmpmZmZmZG0AAAAAAAAAcQGdmZmZmZhxAzczMzMzMHEA0MzMzMzMdQJqZmZmZmR1AAAAAAAAAHkBnZmZmZmYeQM3MzMzMzB5ANDMzMzMzH0CamZmZmZkfQAAAAAAAACBAMzMzMzMzIEBnZmZmZmYgQJqZmZmZmSBAzczMzMzMIEAAAAAAAAAhQDMzMzMzMyFAZ2ZmZmZmIUCamZmZmZkhQM3MzMzMzCFAAAAAAAAAIkAzMzMzMzMiQGdmZmZmZiJAmpmZmZmZIkDNzMzMzMwiQAAAAAAAACNANDMzMzMzI0BnZmZmZmYjQJqZmZmZmSNAzczMzMzMI0AAAAAAAAAkQA==",
          "dtype": "f8"
         },
         "y": [
          0,
          0,
          0.00009521092668004812,
          0.00019683051023612397,
          0.0006043557238123721,
          0.0010315851564423014,
          0.001443367864304622,
          0.002409012678406674,
          0.0030217369347594293,
          0.004002364590986537,
          0.005391304248524053,
          0.006234685821301782,
          0.00806016871277428,
          0.009528041564688339,
          0.011114334010245518,
          0.013590748808237829,
          0.0151381444305386,
          0.01812868122177461,
          0.020386433138953625,
          0.023358049538671863,
          0.026753298628639965,
          0.02969973306456973,
          0.034198723531723416,
          0.03745113391617903,
          0.04291532469799207,
          0.04679981308478505,
          0.05323136903089422,
          0.05796073812216743,
          0.06550984896037677,
          0.07126926859282949,
          0.08009314867453181,
          0.0872413499322467,
          0.09727504358931385,
          0.10656768850742439,
          0.11741492522529359,
          0.12982900824954263,
          0.14139951453623503,
          0.15693691178336847,
          0.17086553191553008,
          0.18765335847964013,
          0.20640168026190903,
          0.2239645772810649,
          0.2459721438598854,
          0.26822860810259086,
          0.2903384187662896,
          0.3170332399659442,
          0.34340097923289903,
          0.3698197246799413,
          0.4008863964004698,
          0.43204478275909597,
          0.4616473363447123,
          0.4904240608253331,
          0.5208330505514127,
          0.5462970302453866,
          0.5728691132330932,
          0.5983433247993472,
          0.6198143277881217,
          0.6415895971332367,
          0.6621388135990355,
          0.6784555193556179,
          0.6950681393621407,
          0.7099709782898086,
          0.721208752262614,
          0.7333310222701672,
          0.7426130627720907,
          0.7501526203552651,
          0.758220033457209,
          0.7628301106027434,
          0.7684350752592051,
          0.7718758112122982,
          0.7747960597796587,
          0.7774597060638633,
          0.7783970250512758,
          0.7801487167883394,
          0.7798067656712039,
          0.7806106607224882,
          0.779418778611138,
          0.7793724121179498,
          0.7775948936938256,
          0.7767954017482289,
          0.7746681432880244,
          0.7731317443514711,
          0.7709018011063514,
          0.7686074626398932,
          0.7664290708067734,
          0.7634969140694844,
          0.7612460493061511,
          0.7580716798893988,
          0.7553818586304624,
          0.7523797096434744,
          0.7491079672709616,
          0.7462070931247001,
          0.7427398156332853,
          0.7395049558954554,
          0.736192673234901,
          0.7325939456871298,
          0.7292125460496315,
          0.7255988827854389,
          0.7219327668888008,
          0.7183010343400548,
          0.7145150620625452
         ]
        },
        {
         "line": {
          "color": "blue",
          "width": 2
         },
         "mode": "lines",
         "name": "Single Bit-Flip Noise",
         "type": "scatter",
         "x": {
          "bdata": "AAAAAAAAAACamZmZmZm5P5qZmZmZmck/NDMzMzMz0z+amZmZmZnZPwAAAAAAAOA/NDMzMzMz4z9nZmZmZmbmP5qZmZmZmek/zczMzMzM7D8AAAAAAADwP5qZmZmZmfE/NDMzMzMz8z/NzMzMzMz0P2dmZmZmZvY/AAAAAAAA+D+amZmZmZn5PzQzMzMzM/s/zczMzMzM/D9nZmZmZmb+PwAAAAAAAABAzczMzMzMAECamZmZmZkBQGdmZmZmZgJANDMzMzMzA0AAAAAAAAAEQM3MzMzMzARAmpmZmZmZBUBnZmZmZmYGQDQzMzMzMwdAAAAAAAAACEDNzMzMzMwIQJqZmZmZmQlAZ2ZmZmZmCkA0MzMzMzMLQAAAAAAAAAxAzczMzMzMDECamZmZmZkNQGdmZmZmZg5ANDMzMzMzD0AAAAAAAAAQQGdmZmZmZhBAzczMzMzMEEAzMzMzMzMRQJqZmZmZmRFAAAAAAAAAEkBnZmZmZmYSQM3MzMzMzBJANDMzMzMzE0CamZmZmZkTQAAAAAAAABRAZ2ZmZmZmFEDNzMzMzMwUQDQzMzMzMxVAmpmZmZmZFUAAAAAAAAAWQGdmZmZmZhZAzczMzMzMFkA0MzMzMzMXQJqZmZmZmRdAAAAAAAAAGEBnZmZmZmYYQM3MzMzMzBhANDMzMzMzGUCamZmZmZkZQAAAAAAAABpAZ2ZmZmZmGkDNzMzMzMwaQDQzMzMzMxtAmpmZmZmZG0AAAAAAAAAcQGdmZmZmZhxAzczMzMzMHEA0MzMzMzMdQJqZmZmZmR1AAAAAAAAAHkBnZmZmZmYeQM3MzMzMzB5ANDMzMzMzH0CamZmZmZkfQAAAAAAAACBAMzMzMzMzIEBnZmZmZmYgQJqZmZmZmSBAzczMzMzMIEAAAAAAAAAhQDMzMzMzMyFAZ2ZmZmZmIUCamZmZmZkhQM3MzMzMzCFAAAAAAAAAIkAzMzMzMzMiQGdmZmZmZiJAmpmZmZmZIkDNzMzMzMwiQAAAAAAAACNANDMzMzMzI0BnZmZmZmYjQJqZmZmZmSNAzczMzMzMI0AAAAAAAAAkQA==",
          "dtype": "f8"
         },
         "y": {
          "bdata": "AAAAAAAAAADlHnUHEYoZP+3L3cDoQyk/CzgB+zSxQz+9gd3lE8FQP7ovZ/Uw01Y/ImTrXHB2Yz9PlyCkV+9nP6FwTbPHgm8/0hKWg+h9dT8PDfp/YzV4P4Pcjl5+tn8/tsk18viXgj/honot6WuFP4KUgU/kioo/ynhiGN/mjD+3rtP3GoORP7p1M8+GdJM/FPTyTP46lj8FOJlAe4KZP2it9la365s/Qk33NK05oD/Kye4l1HKhP+gnQqroNKQ/uRgF+JmkpT+qwSOIn9moP8D6sTb3mqo/RLQi9LdRrj+V4dDOFzuwP36m5qdNXrI/LBHFEPC5sz9bWQ2+TRS2P0IMB2ge97c/+K5KXopTuj9BHBH5WBO9P2+I5cMZVb8/aPXXz8B0wT/WYhCYa8/CPyem2gqTn8Q/5LVeGTmrxj8p7BMR4VzIPw+IxCuBzMo/My5bVowezT+XYDl490rPP2sAw2ihHNE/iypuyTd10j8SDKA6aL3TPz7YjXJMYdU/Kghku+fl1j+NpBagckbYP8eUkorz99k/xBprQiSR2z+jt4zqX+vcP2ePcdX5hd4/fOlsBjEI4D9G3PwNb6TgP2VYT+r/WeE/U8eWvbEH4j/D0GrMOoriP9/p8QMrJuM/gckqNIKx4z9K/fs3PBrkP+D1SEcvoOQ/podc6VEC5T++DOOYb17lPy7A9T9hyOU/0NWShBoJ5j/Srk37SmXmPwZfKT1touY/iNen7Evm5j/NRsPvIiXnPxX7Fu6fVec/f2k0/SKS5z8jCH5b3rbnPzGWttmg7ec/jC6Mzo4L6D9c2EWoSTvoP4gEz1NvVeg/VUYTXXR96D/UCKSxgZboPxdjK326teg/mhk5PEPQ6D91f0/4DOboP+TcXU+zAuk/J7BmNXgR6T+POKF/lSzpP+90wyyhOuk/lfXOAlFO6T93oGO/hGDpP2Xd+LQ1bOk/6v9u4S5/6T8Y4Dvy74npPy2nU3Dmluk/7a+/dJSk6T9Y42zH4qzpP9n5INakuOk/dJAfwq7B6T8fK+pWJ8npP5IogLix0ek/qzHLhPDX6T+4E1p5993pPw==",
          "dtype": "f8"
         }
        }
       ],
       "layout": {
        "font": {
         "family": "sans-serif",
         "size": 18
        },
        "legend": {
         "title": {
          "text": "Model"
         }
        },
        "template": {
         "data": {
          "bar": [
           {
            "error_x": {
             "color": "#2a3f5f"
            },
            "error_y": {
             "color": "#2a3f5f"
            },
            "marker": {
             "line": {
              "color": "#E5ECF6",
              "width": 0.5
             },
             "pattern": {
              "fillmode": "overlay",
              "size": 10,
              "solidity": 0.2
             }
            },
            "type": "bar"
           }
          ],
          "barpolar": [
           {
            "marker": {
             "line": {
              "color": "#E5ECF6",
              "width": 0.5
             },
             "pattern": {
              "fillmode": "overlay",
              "size": 10,
              "solidity": 0.2
             }
            },
            "type": "barpolar"
           }
          ],
          "carpet": [
           {
            "aaxis": {
             "endlinecolor": "#2a3f5f",
             "gridcolor": "white",
             "linecolor": "white",
             "minorgridcolor": "white",
             "startlinecolor": "#2a3f5f"
            },
            "baxis": {
             "endlinecolor": "#2a3f5f",
             "gridcolor": "white",
             "linecolor": "white",
             "minorgridcolor": "white",
             "startlinecolor": "#2a3f5f"
            },
            "type": "carpet"
           }
          ],
          "choropleth": [
           {
            "colorbar": {
             "outlinewidth": 0,
             "ticks": ""
            },
            "type": "choropleth"
           }
          ],
          "contour": [
           {
            "colorbar": {
             "outlinewidth": 0,
             "ticks": ""
            },
            "colorscale": [
             [
              0,
              "#0d0887"
             ],
             [
              0.1111111111111111,
              "#46039f"
             ],
             [
              0.2222222222222222,
              "#7201a8"
             ],
             [
              0.3333333333333333,
              "#9c179e"
             ],
             [
              0.4444444444444444,
              "#bd3786"
             ],
             [
              0.5555555555555556,
              "#d8576b"
             ],
             [
              0.6666666666666666,
              "#ed7953"
             ],
             [
              0.7777777777777778,
              "#fb9f3a"
             ],
             [
              0.8888888888888888,
              "#fdca26"
             ],
             [
              1,
              "#f0f921"
             ]
            ],
            "type": "contour"
           }
          ],
          "contourcarpet": [
           {
            "colorbar": {
             "outlinewidth": 0,
             "ticks": ""
            },
            "type": "contourcarpet"
           }
          ],
          "heatmap": [
           {
            "colorbar": {
             "outlinewidth": 0,
             "ticks": ""
            },
            "colorscale": [
             [
              0,
              "#0d0887"
             ],
             [
              0.1111111111111111,
              "#46039f"
             ],
             [
              0.2222222222222222,
              "#7201a8"
             ],
             [
              0.3333333333333333,
              "#9c179e"
             ],
             [
              0.4444444444444444,
              "#bd3786"
             ],
             [
              0.5555555555555556,
              "#d8576b"
             ],
             [
              0.6666666666666666,
              "#ed7953"
             ],
             [
              0.7777777777777778,
              "#fb9f3a"
             ],
             [
              0.8888888888888888,
              "#fdca26"
             ],
             [
              1,
              "#f0f921"
             ]
            ],
            "type": "heatmap"
           }
          ],
          "histogram": [
           {
            "marker": {
             "pattern": {
              "fillmode": "overlay",
              "size": 10,
              "solidity": 0.2
             }
            },
            "type": "histogram"
           }
          ],
          "histogram2d": [
           {
            "colorbar": {
             "outlinewidth": 0,
             "ticks": ""
            },
            "colorscale": [
             [
              0,
              "#0d0887"
             ],
             [
              0.1111111111111111,
              "#46039f"
             ],
             [
              0.2222222222222222,
              "#7201a8"
             ],
             [
              0.3333333333333333,
              "#9c179e"
             ],
             [
              0.4444444444444444,
              "#bd3786"
             ],
             [
              0.5555555555555556,
              "#d8576b"
             ],
             [
              0.6666666666666666,
              "#ed7953"
             ],
             [
              0.7777777777777778,
              "#fb9f3a"
             ],
             [
              0.8888888888888888,
              "#fdca26"
             ],
             [
              1,
              "#f0f921"
             ]
            ],
            "type": "histogram2d"
           }
          ],
          "histogram2dcontour": [
           {
            "colorbar": {
             "outlinewidth": 0,
             "ticks": ""
            },
            "colorscale": [
             [
              0,
              "#0d0887"
             ],
             [
              0.1111111111111111,
              "#46039f"
             ],
             [
              0.2222222222222222,
              "#7201a8"
             ],
             [
              0.3333333333333333,
              "#9c179e"
             ],
             [
              0.4444444444444444,
              "#bd3786"
             ],
             [
              0.5555555555555556,
              "#d8576b"
             ],
             [
              0.6666666666666666,
              "#ed7953"
             ],
             [
              0.7777777777777778,
              "#fb9f3a"
             ],
             [
              0.8888888888888888,
              "#fdca26"
             ],
             [
              1,
              "#f0f921"
             ]
            ],
            "type": "histogram2dcontour"
           }
          ],
          "mesh3d": [
           {
            "colorbar": {
             "outlinewidth": 0,
             "ticks": ""
            },
            "type": "mesh3d"
           }
          ],
          "parcoords": [
           {
            "line": {
             "colorbar": {
              "outlinewidth": 0,
              "ticks": ""
             }
            },
            "type": "parcoords"
           }
          ],
          "pie": [
           {
            "automargin": true,
            "type": "pie"
           }
          ],
          "scatter": [
           {
            "fillpattern": {
             "fillmode": "overlay",
             "size": 10,
             "solidity": 0.2
            },
            "type": "scatter"
           }
          ],
          "scatter3d": [
           {
            "line": {
             "colorbar": {
              "outlinewidth": 0,
              "ticks": ""
             }
            },
            "marker": {
             "colorbar": {
              "outlinewidth": 0,
              "ticks": ""
             }
            },
            "type": "scatter3d"
           }
          ],
          "scattercarpet": [
           {
            "marker": {
             "colorbar": {
              "outlinewidth": 0,
              "ticks": ""
             }
            },
            "type": "scattercarpet"
           }
          ],
          "scattergeo": [
           {
            "marker": {
             "colorbar": {
              "outlinewidth": 0,
              "ticks": ""
             }
            },
            "type": "scattergeo"
           }
          ],
          "scattergl": [
           {
            "marker": {
             "colorbar": {
              "outlinewidth": 0,
              "ticks": ""
             }
            },
            "type": "scattergl"
           }
          ],
          "scattermap": [
           {
            "marker": {
             "colorbar": {
              "outlinewidth": 0,
              "ticks": ""
             }
            },
            "type": "scattermap"
           }
          ],
          "scattermapbox": [
           {
            "marker": {
             "colorbar": {
              "outlinewidth": 0,
              "ticks": ""
             }
            },
            "type": "scattermapbox"
           }
          ],
          "scatterpolar": [
           {
            "marker": {
             "colorbar": {
              "outlinewidth": 0,
              "ticks": ""
             }
            },
            "type": "scatterpolar"
           }
          ],
          "scatterpolargl": [
           {
            "marker": {
             "colorbar": {
              "outlinewidth": 0,
              "ticks": ""
             }
            },
            "type": "scatterpolargl"
           }
          ],
          "scatterternary": [
           {
            "marker": {
             "colorbar": {
              "outlinewidth": 0,
              "ticks": ""
             }
            },
            "type": "scatterternary"
           }
          ],
          "surface": [
           {
            "colorbar": {
             "outlinewidth": 0,
             "ticks": ""
            },
            "colorscale": [
             [
              0,
              "#0d0887"
             ],
             [
              0.1111111111111111,
              "#46039f"
             ],
             [
              0.2222222222222222,
              "#7201a8"
             ],
             [
              0.3333333333333333,
              "#9c179e"
             ],
             [
              0.4444444444444444,
              "#bd3786"
             ],
             [
              0.5555555555555556,
              "#d8576b"
             ],
             [
              0.6666666666666666,
              "#ed7953"
             ],
             [
              0.7777777777777778,
              "#fb9f3a"
             ],
             [
              0.8888888888888888,
              "#fdca26"
             ],
             [
              1,
              "#f0f921"
             ]
            ],
            "type": "surface"
           }
          ],
          "table": [
           {
            "cells": {
             "fill": {
              "color": "#EBF0F8"
             },
             "line": {
              "color": "white"
             }
            },
            "header": {
             "fill": {
              "color": "#C8D4E3"
             },
             "line": {
              "color": "white"
             }
            },
            "type": "table"
           }
          ]
         },
         "layout": {
          "annotationdefaults": {
           "arrowcolor": "#2a3f5f",
           "arrowhead": 0,
           "arrowwidth": 1
          },
          "autotypenumbers": "strict",
          "coloraxis": {
           "colorbar": {
            "outlinewidth": 0,
            "ticks": ""
           }
          },
          "colorscale": {
           "diverging": [
            [
             0,
             "#8e0152"
            ],
            [
             0.1,
             "#c51b7d"
            ],
            [
             0.2,
             "#de77ae"
            ],
            [
             0.3,
             "#f1b6da"
            ],
            [
             0.4,
             "#fde0ef"
            ],
            [
             0.5,
             "#f7f7f7"
            ],
            [
             0.6,
             "#e6f5d0"
            ],
            [
             0.7,
             "#b8e186"
            ],
            [
             0.8,
             "#7fbc41"
            ],
            [
             0.9,
             "#4d9221"
            ],
            [
             1,
             "#276419"
            ]
           ],
           "sequential": [
            [
             0,
             "#0d0887"
            ],
            [
             0.1111111111111111,
             "#46039f"
            ],
            [
             0.2222222222222222,
             "#7201a8"
            ],
            [
             0.3333333333333333,
             "#9c179e"
            ],
            [
             0.4444444444444444,
             "#bd3786"
            ],
            [
             0.5555555555555556,
             "#d8576b"
            ],
            [
             0.6666666666666666,
             "#ed7953"
            ],
            [
             0.7777777777777778,
             "#fb9f3a"
            ],
            [
             0.8888888888888888,
             "#fdca26"
            ],
            [
             1,
             "#f0f921"
            ]
           ],
           "sequentialminus": [
            [
             0,
             "#0d0887"
            ],
            [
             0.1111111111111111,
             "#46039f"
            ],
            [
             0.2222222222222222,
             "#7201a8"
            ],
            [
             0.3333333333333333,
             "#9c179e"
            ],
            [
             0.4444444444444444,
             "#bd3786"
            ],
            [
             0.5555555555555556,
             "#d8576b"
            ],
            [
             0.6666666666666666,
             "#ed7953"
            ],
            [
             0.7777777777777778,
             "#fb9f3a"
            ],
            [
             0.8888888888888888,
             "#fdca26"
            ],
            [
             1,
             "#f0f921"
            ]
           ]
          },
          "colorway": [
           "#636efa",
           "#EF553B",
           "#00cc96",
           "#ab63fa",
           "#FFA15A",
           "#19d3f3",
           "#FF6692",
           "#B6E880",
           "#FF97FF",
           "#FECB52"
          ],
          "font": {
           "color": "#2a3f5f"
          },
          "geo": {
           "bgcolor": "white",
           "lakecolor": "white",
           "landcolor": "#E5ECF6",
           "showlakes": true,
           "showland": true,
           "subunitcolor": "white"
          },
          "hoverlabel": {
           "align": "left"
          },
          "hovermode": "closest",
          "mapbox": {
           "style": "light"
          },
          "paper_bgcolor": "white",
          "plot_bgcolor": "#E5ECF6",
          "polar": {
           "angularaxis": {
            "gridcolor": "white",
            "linecolor": "white",
            "ticks": ""
           },
           "bgcolor": "#E5ECF6",
           "radialaxis": {
            "gridcolor": "white",
            "linecolor": "white",
            "ticks": ""
           }
          },
          "scene": {
           "xaxis": {
            "backgroundcolor": "#E5ECF6",
            "gridcolor": "white",
            "gridwidth": 2,
            "linecolor": "white",
            "showbackground": true,
            "ticks": "",
            "zerolinecolor": "white"
           },
           "yaxis": {
            "backgroundcolor": "#E5ECF6",
            "gridcolor": "white",
            "gridwidth": 2,
            "linecolor": "white",
            "showbackground": true,
            "ticks": "",
            "zerolinecolor": "white"
           },
           "zaxis": {
            "backgroundcolor": "#E5ECF6",
            "gridcolor": "white",
            "gridwidth": 2,
            "linecolor": "white",
            "showbackground": true,
            "ticks": "",
            "zerolinecolor": "white"
           }
          },
          "shapedefaults": {
           "line": {
            "color": "#2a3f5f"
           }
          },
          "ternary": {
           "aaxis": {
            "gridcolor": "white",
            "linecolor": "white",
            "ticks": ""
           },
           "baxis": {
            "gridcolor": "white",
            "linecolor": "white",
            "ticks": ""
           },
           "bgcolor": "#E5ECF6",
           "caxis": {
            "gridcolor": "white",
            "linecolor": "white",
            "ticks": ""
           }
          },
          "title": {
           "x": 0.05
          },
          "xaxis": {
           "automargin": true,
           "gridcolor": "white",
           "linecolor": "white",
           "ticks": "",
           "title": {
            "standoff": 15
           },
           "zerolinecolor": "white",
           "zerolinewidth": 2
          },
          "yaxis": {
           "automargin": true,
           "gridcolor": "white",
           "linecolor": "white",
           "ticks": "",
           "title": {
            "standoff": 15
           },
           "zerolinecolor": "white",
           "zerolinewidth": 2
          }
         }
        },
        "title": {
         "text": "Logical State Fidelity Over Time: Noise Model Comparison"
        },
        "xaxis": {
         "title": {
          "text": "Time [a.u.]"
         }
        },
        "yaxis": {
         "title": {
          "text": "Fidelity of $|1_L\\rangle$"
         }
        }
       }
      }
     },
     "metadata": {},
     "output_type": "display_data"
    }
   ],
   "source": [
    "# --- Comparison of noise models: full model vs. single bit-flip noise ---\n",
    "\n",
    "import plotly.graph_objects as go\n",
    "\n",
    "# Parameters\n",
    "times = np.linspace(0, T_max, 101)\n",
    "Ep = 10  # Example penalty strength\n",
    "gamma_sqrt = 0.1\n",
    "T = 20\n",
    "lambda_bitflip = 0.05  # Bit-flip rate\n",
    "\n",
    "# Hamiltonian (no noise)\n",
    "def H_t(t):\n",
    "    H_RAP = X_L * omega_t(t) + Z_L * delta_t(t)\n",
    "    Ht = H_RAP - Ep * sum(S)\n",
    "    return Ht.to('csr')\n",
    "\n",
    "# Initial state and observables\n",
    "rho0 = logical_zero * logical_zero.dag()\n",
    "rho1 = logical_one * logical_one.dag()\n",
    "e_ops = [rho0, rho1]\n",
    "\n",
    "# 1. Ideal evolution (no noise)\n",
    "results_ideal = sesolve(H_t, logical_zero, times, e_ops=e_ops)\n",
    "fidelity_ideal = results_ideal.expect[1]\n",
    "\n",
    "# 2. Full noise model (c_ops from c_ops_gen_new)\n",
    "args_C = {\"args_H\": H_t, \"n_qubits\": n_qubits, \"lambda_2\": gamma_sqrt, \"T\": T}\n",
    "rho_init = logical_zero * logical_zero.dag()\n",
    "prev_time = times[0]\n",
    "fidelity_full = []\n",
    "for dt in times[1:]:\n",
    "    c_ops, _ = c_ops_gen_new(dt, args=args_C)\n",
    "    t_steps = [prev_time, dt]\n",
    "    results = mesolve(H_t, rho_init, t_steps, c_ops=c_ops, args=args_C, e_ops=e_ops, options={'store_states': True})\n",
    "    prev_time = dt\n",
    "    rho_init = results.states[-1]\n",
    "    fidelity_full.append(results.expect[1][0])\n",
    "# Add initial fidelity\n",
    "fidelity_full = [results_ideal.expect[1][0]] + fidelity_full\n",
    "\n",
    "# 3. Single bit-flip noise (on first qubit)\n",
    "bitflip_op = np.sqrt(lambda_bitflip) * tensor(sigmam(), I, I)\n",
    "c_ops_bitflip = [bitflip_op]\n",
    "results_bitflip = mesolve(H_t, logical_zero * logical_zero.dag(), times, c_ops=c_ops_bitflip, e_ops=e_ops)\n",
    "fidelity_bitflip = results_bitflip.expect[1]\n",
    "\n",
    "# --- Plotting ---\n",
    "fig = go.Figure()\n",
    "\n",
    "fig.add_trace(go.Scatter(\n",
    "    x=times, y=fidelity_ideal,\n",
    "    mode='lines', name='Ideal (No Noise)',\n",
    "    line=dict(color='black', width=2, dash='dash')\n",
    "))\n",
    "fig.add_trace(go.Scatter(\n",
    "    x=times, y=fidelity_full,\n",
    "    mode='lines', name='Full Noise Model',\n",
    "    line=dict(color='red', width=2)\n",
    "))\n",
    "fig.add_trace(go.Scatter(\n",
    "    x=times, y=fidelity_bitflip,\n",
    "    mode='lines', name='Single Bit-Flip Noise',\n",
    "    line=dict(color='blue', width=2)\n",
    "))\n",
    "\n",
    "fig.update_layout(\n",
    "    title=\"Logical State Fidelity Over Time: Noise Model Comparison\",\n",
    "    xaxis_title=\"Time [a.u.]\",\n",
    "    yaxis_title=\"Fidelity of $|1_L\\\\rangle$\",\n",
    "    font=dict(family=\"sans-serif\", size=18),\n",
    "    legend_title=\"Model\",\n",
    "    template=\"plotly\"\n",
    ")\n",
    "\n",
    "fig.show()"
   ]
  },
  {
   "cell_type": "markdown",
   "id": "41b52bcb",
   "metadata": {},
   "source": [
    "# compair to bit flips (bregitta)\n",
    "\n",
    "# and add dephasing\n",
    "\n",
    "# calc also the sum over Mab to show the condition"
   ]
  }
 ],
 "metadata": {
  "kernelspec": {
   "display_name": "base",
   "language": "python",
   "name": "python3"
  },
  "language_info": {
   "codemirror_mode": {
    "name": "ipython",
    "version": 3
   },
   "file_extension": ".py",
   "mimetype": "text/x-python",
   "name": "python",
   "nbconvert_exporter": "python",
   "pygments_lexer": "ipython3",
   "version": "3.12.2"
  }
 },
 "nbformat": 4,
 "nbformat_minor": 5
}
