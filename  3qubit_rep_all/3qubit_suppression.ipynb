{
 "cells": [
  {
   "cell_type": "code",
   "execution_count": 1,
   "id": "initial_id",
   "metadata": {
    "ExecuteTime": {
     "end_time": "2025-07-30T12:21:28.939526Z",
     "start_time": "2025-07-30T12:21:28.936834Z"
    }
   },
   "outputs": [],
   "source": [
    "import numpy as np\n",
    "import matplotlib.pyplot as plt\n",
    "from qutip import *"
   ]
  },
  {
   "cell_type": "code",
   "execution_count": 2,
   "id": "3f9204af",
   "metadata": {
    "ExecuteTime": {
     "end_time": "2025-07-30T12:21:28.968615Z",
     "start_time": "2025-07-30T12:21:28.964936Z"
    }
   },
   "outputs": [],
   "source": [
    "def print_quantum_state_as_superposition(state):\n",
    "    \"\"\"\n",
    "    Helper function to print quantum state as superposition of basis functions\n",
    "    \"\"\"\n",
    "    state = state.unit()\n",
    "    dimension = int(np.log2(state.shape[0]))\n",
    "    state_vector = state.full().flatten()\n",
    "    basis_states = ['0', '1']\n",
    "    \n",
    "    superposition = []\n",
    "    for i, amplitude in enumerate(state_vector):\n",
    "        abs_amplitude = np.abs(amplitude)\n",
    "\n",
    "        if round(abs_amplitude, 2) > 0:\n",
    "            sign = '-' if amplitude.real < 0 else '+'\n",
    "            binary_state = ''.join(basis_states[int(bit)] for bit in f\"{i:0{dimension}b}\")\n",
    "            superposition.append(f\"{sign} {abs_amplitude:.2f}|{binary_state}⟩\")\n",
    "\n",
    "    # Removing the first sign\n",
    "    if superposition and superposition[0][0] == '+':\n",
    "        superposition[0] = superposition[0][2:]\n",
    "\n",
    "    superposition_str = ' '.join(superposition).replace('+-', '- ')\n",
    "    \n",
    "    print(f\"|ψ⟩ = {superposition_str}\")"
   ]
  },
  {
   "cell_type": "code",
   "execution_count": 3,
   "id": "4f695a4237c68e81",
   "metadata": {
    "ExecuteTime": {
     "end_time": "2025-07-30T12:21:28.999910Z",
     "start_time": "2025-07-30T12:21:28.996415Z"
    }
   },
   "outputs": [],
   "source": [
    "X = sigmax()\n",
    "Z = sigmaz()\n",
    "Y = sigmay()\n",
    "I = qeye(2)\n",
    "\n",
    "s1 = tensor(Z, Z, I)\n",
    "s2 = tensor(I, Z, Z)\n",
    "S = [s1, s2]\n",
    "X_L = tensor(X, X, X)\n",
    "Z_L = (tensor(Z, I, I) + tensor(I, Z, I) + tensor(I, I, Z)) / 3\n",
    "logical_zero = tensor(basis(2, 0), basis(2, 0), basis(2, 0))\n",
    "logical_one = X_L * logical_zero\n",
    "initial_state = logical_zero\n",
    "n_qubits = 3"
   ]
  },
  {
   "cell_type": "code",
   "execution_count": null,
   "id": "9054bef1",
   "metadata": {
    "ExecuteTime": {
     "end_time": "2025-07-30T12:22:03.514950Z",
     "start_time": "2025-07-30T12:22:03.447469Z"
    }
   },
   "outputs": [
    {
     "data": {
      "text/plain": [
       "[<matplotlib.lines.Line2D at 0x142b03350>]"
      ]
     },
     "execution_count": 4,
     "metadata": {},
     "output_type": "execute_result"
    },
    {
     "data": {
      "image/png": "[encoded data removed]",
      "text/plain": [
       "<Figure size 640x480 with 1 Axes>"
      ]
     },
     "metadata": {},
     "output_type": "display_data"
    }
   ],
   "source": [
    "T_max = 10\n",
    "times = np.linspace(0, T_max, 500)\n",
    "sigma = 1\n",
    "omega_max = 10\n",
    "# omega_t = lambda t: omega_max * np.exp(-0.5 * ((t - T_max/2) / sigma) ** 2)\n",
    "# delta_t = lambda t: 2*omega_max*(t / (T_max/2) - 1)\n",
    "omega_t = lambda t: omega_max * np.sin(np.pi*t/T_max)\n",
    "delta_t = lambda t: -omega_max * np.cos(np.pi*t/T_max)\n",
    "\n",
    "plt.plot(times, omega_t(times))\n",
    "plt.plot(times, delta_t(times))"
   ]
  },
  {
   "cell_type": "code",
   "execution_count": 5,
   "id": "44b942c2",
   "metadata": {
    "ExecuteTime": {
     "end_time": "2025-07-30T12:22:09.154316Z",
     "start_time": "2025-07-30T12:22:09.148022Z"
    }
   },
   "outputs": [],
   "source": [
    "def H(t):\n",
    "    \"\"\"\n",
    "    Rapid Adiabatic Hamiltonian\n",
    "    \"\"\"\n",
    "    return  X_L * omega_t(t) + Z_L * delta_t(t)\n",
    "\n",
    "def H_error_gaussian(t, error_time, strength):\n",
    "    \"\"\"\n",
    "    Error Hamiltonian localized at a specific time (e.g., bit-flip on the first qubit).\n",
    "    \"\"\"\n",
    "    error_width = 0.5\n",
    "    f_t = strength * np.exp(-((t - error_time) ** 2) / (2 * error_width ** 2))\n",
    "    return f_t * tensor(X, I, I, I)\n",
    "\n",
    "def H_error(t, error_time, strength, duration=2):\n",
    "    if error_time <= t < error_time + duration:\n",
    "        # ramp_strength = strength * (t - error_time) / duration\n",
    "        bit_flip_1 = tensor(X, I, I)\n",
    "        bit_flip_2 = tensor(I, X, I)\n",
    "        bit_flip_3 = tensor(I, I, X)\n",
    "        return strength * bit_flip_1\n",
    "    else:\n",
    "        # Identity when error is not active\n",
    "        return tensor(I, I, I)\n",
    "\n",
    "def H_supp(t, stabs=S):\n",
    "    H_supp_stab = sum(stabs)\n",
    "    return H_supp_stab\n",
    "    \n",
    "def H_total(t, error_time, error_strength, duration, Ep):\n",
    "    \"\"\"\n",
    "    Total Hamiltonian including AQC evolution and error simulation.\n",
    "    \"\"\"\n",
    "    H_n = H(t) + Ep * H_supp(t) + H_error(t, error_time, error_strength, duration)\n",
    "    return H_n\n"
   ]
  },
  {
   "cell_type": "code",
   "execution_count": 6,
   "id": "d225feb7",
   "metadata": {
    "ExecuteTime": {
     "end_time": "2025-07-30T12:21:29.122972Z",
     "start_time": "2025-07-30T12:21:29.120915Z"
    }
   },
   "outputs": [],
   "source": [
    "# Ep = -200\n",
    "# error_time = 6\n",
    "# duration = T_max - error_time\n",
    "# error_strength = 50"
   ]
  },
  {
   "cell_type": "code",
   "execution_count": 7,
   "id": "19930223",
   "metadata": {},
   "outputs": [],
   "source": [
    "# # Simulate evolution\n",
    "# e_ops = [logical_zero*logical_zero.dag(), logical_one*logical_one.dag()]\n",
    "#\n",
    "# result = sesolve(lambda t: H_total(t, error_time, error_strength, duration, Ep),\n",
    "#                  logical_zero, times, e_ops=e_ops,\n",
    "#                  options={'nsteps': 1e5})\n",
    "#\n",
    "# plt.figure(figsize=(8, 6))\n",
    "# plt.plot(times, result.expect[0], label=r\"$|0_L\\rangle$ Population\", color='red')\n",
    "# plt.plot(times, result.expect[1], label=r\"$|1_L\\rangle$ Population\", color='blue')\n",
    "# # Add vertical lines for the start and end of the error\n",
    "# plt.axvline(error_time, color='black', linestyle='--', label=\"Error Start\")\n",
    "# plt.axvline(error_time + duration, color='black', linestyle='--', label=\"Error End\")\n",
    "#\n",
    "# # Shade the area between the lines\n",
    "# plt.fill_betweenx(\n",
    "#     [0, 1],  # Adjust y-limits based on your data range\n",
    "#     error_time,\n",
    "#     error_time + duration,\n",
    "#     color='gray',\n",
    "#     alpha=0.3,\n",
    "#     label=\"Error Region\"\n",
    "# )\n",
    "#\n",
    "# plt.xlabel(\"Time (t)\")\n",
    "# plt.ylabel(\"Population\")\n",
    "# plt.title(\"Logical State Populations with Bit-Flip Error\")\n",
    "# plt.legend()\n",
    "# plt.grid()\n",
    "# plt.show()"
   ]
  },
  {
   "cell_type": "code",
   "execution_count": 8,
   "id": "b5969e03d19a51ca",
   "metadata": {
    "ExecuteTime": {
     "end_time": "2025-07-30T12:32:45.554658Z",
     "start_time": "2025-07-30T12:32:45.505248Z"
    }
   },
   "outputs": [
    {
     "data": {
      "application/vnd.plotly.v1+json": {
       "config": {
        "plotlyServerURL": "https://plot.ly"
       },
       "data": [
        {
         "line": {
          "color": "red",
          "width": 2
         },
         "mode": "lines",
         "name": "Eigenstate 1",
         "type": "scatter",
         "x": {
          "bdata": "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",
          "dtype": "f8"
         },
         "y": [
          -120,
          -119.99970272567126,
          -119.99881092330568,
          -119.99732465476703,
          -119.99524402316712,
          -119.99256917287491,
          -119.98930028952788,
          -119.98543760004841,
          -119.98098137266192,
          -119.97593191691999,
          -119.97028958372616,
          -119.96405476536535,
          -119.95722789553716,
          -119.94980944939206,
          -119.94179994357202,
          -119.93319993625408,
          -119.92401002719777,
          -119.91423085779645,
          -119.90386311113177,
          -119.89290751203245,
          -119.8813648271366,
          -119.86923586495762,
          -119.85652147595465,
          -119.843222552606,
          -119.82934002948716,
          -119.81487488335284,
          -119.79982813322277,
          -119.78420084047158,
          -119.7679941089232,
          -119.75120908494907,
          -119.73384695757107,
          -119.71590895856853,
          -119.69739636258984,
          -119.67831048726825,
          -119.65865269334245,
          -119.63842438478207,
          -119.61762700891745,
          -119.59626205657469,
          -119.57433106221475,
          -119.55183560407872,
          -119.52877730433741,
          -119.50515782924614,
          -119.48097888930516,
          -119.456242239425,
          -119.43094967909772,
          -119.40510305257351,
          -119.37870424904295,
          -119.35175520282533,
          -119.32425789356267,
          -119.29621434641953,
          -119.26762663228988,
          -119.23849686800918,
          -119.20882721657387,
          -119.17861988736652,
          -119.1478771363882,
          -119.11660126649804,
          -119.08479462765857,
          -119.05245961718978,
          -119.01959868002893,
          -118.98621430899902,
          -118.95230904508406,
          -118.91788547771264,
          -118.88294624504897,
          -118.84749403429225,
          -118.81153158198461,
          -118.77506167432679,
          -118.73808714750314,
          -118.70061088801492,
          -118.66263583302317,
          -118.6241649707004,
          -118.58520134059157,
          -118.54574803398495,
          -118.50580819429285,
          -118.4653850174422,
          -118.42448175227509,
          -118.38310170096076,
          -118.34124821941671,
          -118.29892471774241,
          -118.25613466066255,
          -118.21288156798298,
          -118.16916901505752,
          -118.12500063326658,
          -118.08038011050826,
          -118.03531119170118,
          -117.98979767930095,
          -117.94384343382785,
          -117.89745237440923,
          -117.85062847933415,
          -117.80337578662207,
          -117.75569839460526,
          -117.70760046252545,
          -117.65908621114465,
          -117.61015992337066,
          -117.56082594489796,
          -117.511088684863,
          -117.46095261651551,
          -117.41042227790538,
          -117.35950227258542,
          -117.30819727033057,
          -117.2565120078734,
          -117.20445128965659,
          -117.1520199886023,
          -117.09922304689903,
          -117.04606547680568,
          -116.99255236147383,
          -116.93868885578769,
          -116.88448018722258,
          -116.82993165672174,
          -116.77504863959189,
          -116.7198365864178,
          -116.66430102399582,
          -116.60844755628692,
          -116.55228186538892,
          -116.49580971252868,
          -116.43903693907382,
          -116.38196946756435,
          -116.32461330276446,
          -116.26697453273428,
          -116.20905932992162,
          -116.15087395227421,
          -116.09242474437178,
          -116.03371813857846,
          -115.97476065621528,
          -115.91555890875242,
          -115.8561195990217,
          -115.79644952244834,
          -115.7365555683024,
          -115.67644472096953,
          -115.61612406124014,
          -115.5556007676177,
          -115.49488211764456,
          -115.43397548924573,
          -115.37288836208943,
          -115.31162831896424,
          -115.2502030471718,
          -115.18862033993453,
          -115.12688809781724,
          -115.06501433016199,
          -115.00300715653479,
          -114.94087480818332,
          -114.87862562950411,
          -114.81626807951793,
          -114.75381073335193,
          -114.69126228372679,
          -114.62863154244717,
          -114.56592744189345,
          -114.50315903651287,
          -114.44033550430771,
          -114.37746614831806,
          -114.31456039809683,
          -114.25162781117405,
          -114.1886780745075,
          -114.12572100591676,
          -114.06276655549706,
          -113.99982480700942,
          -113.93690597924335,
          -113.874020427348,
          -113.81117864412742,
          -113.74839126129545,
          -113.68566905068536,
          -113.6230229254091,
          -113.5604639409609,
          -113.49800329625933,
          -113.43565233462192,
          -113.37342254466617,
          -113.31132556112999,
          -113.24937316560488,
          -113.18757728717445,
          -113.12595000295059,
          -113.06450353849932,
          -113.00325026814814,
          -112.94220271516578,
          -112.88137355180571,
          -112.82077559920376,
          -112.76042182712015,
          -112.70032535351568,
          -112.64049944395184,
          -112.5809575108038,
          -112.52171311227522,
          -112.4627799512035,
          -112.40417187364339,
          -112.3459028672175,
          -112.28798705922065,
          -112.23043871446615,
          -112.17327223286091,
          -112.11650214669639,
          -112.06014311764282,
          -112.00420993343275,
          -111.94871750422135,
          -111.8936808586101,
          -111.83911513932038,
          -111.78503559850449,
          -111.73145759268071,
          -111.67839657728024,
          -111.62586810079344,
          -111.57388779850382,
          -111.52247138579823,
          -111.47163465104262,
          -111.42139344801343,
          -111.37176368787524,
          -111.32276133069642,
          -111.2744023764956,
          -111.22670285581262,
          -111.17967881979928,
          -111.13334632982622,
          -111.08772144660401,
          -111.04282021881797,
          -110.99865867127822,
          -110.95525279258813,
          -110.9126185223363,
          -110.87077173781967,
          -110.82972824030689,
          -110.78950374085427,
          -110.7501138456883,
          -110.71157404117179,
          -110.67389967837252,
          -110.63710595725719,
          -110.60120791053473,
          -110.56622038717666,
          -110.53215803564493,
          -110.49903528685968,
          -110.46686633694316,
          -110.4356651297775,
          -110.40544533941811,
          -110.3762203524051,
          -110.34800325001966,
          -110.32080679053259,
          -110.29464339149581,
          -110.2695251121285,
          -110.24546363585193,
          -110.22247025302782,
          -110.20055584395712,
          -110.17973086219567,
          -110.16000531824537,
          -110.14138876367822,
          -110.12389027575166,
          -110.10751844257227,
          -110.09228134886501,
          -110.07818656240289,
          -110.06524112115157,
          -110.05345152118045,
          -110.04282370539005,
          -110.03336305310283,
          -110.02507437056111,
          -110.01796188237316,
          -110.0120292239439,
          -110.00727943492376,
          -110.00371495370418,
          -110.00133761298419,
          -110.00014863642795,
          -89.99985136357205,
          -89.9986623870158,
          -89.99628504629581,
          -89.99272056507623,
          -89.9879707760561,
          -89.98203811762683,
          -89.97492562943887,
          -89.96663694689715,
          -89.95717629460995,
          -89.94654847881955,
          -89.93475887884843,
          -89.9218134375971,
          -89.90771865113497,
          -89.89248155742769,
          -89.87610972424832,
          -89.85861123632176,
          -89.83999468175462,
          -89.8202691378043,
          -89.79944415604287,
          -89.77752974697216,
          -89.75453636414807,
          -89.73047488787148,
          -89.70535660850418,
          -89.6791932094674,
          -89.65199674998033,
          -89.62377964759489,
          -89.59455466058188,
          -89.56433487022248,
          -89.53313366305684,
          -89.5009647131403,
          -89.46784196435507,
          -89.43377961282334,
          -89.39879208946527,
          -89.3628940427428,
          -89.32610032162746,
          -89.2884259588282,
          -89.24988615431168,
          -89.21049625914573,
          -89.17027175969311,
          -89.12922826218032,
          -89.08738147766368,
          -89.04474720741187,
          -89.00134132872178,
          -88.95717978118202,
          -88.91227855339598,
          -88.86665367017376,
          -88.82032118020071,
          -88.77329714418737,
          -88.7255976235044,
          -88.67723866930356,
          -88.62823631212476,
          -88.57860655198655,
          -88.52836534895738,
          -88.47752861420179,
          -88.42611220149618,
          -88.37413189920656,
          -88.32160342271975,
          -88.26854240731929,
          -88.21496440149551,
          -88.16088486067962,
          -88.1063191413899,
          -88.05128249577864,
          -87.99579006656725,
          -87.93985688235718,
          -87.8834978533036,
          -87.82672776713909,
          -87.76956128553384,
          -87.71201294077933,
          -87.6540971327825,
          -87.5958281263566,
          -87.5372200487965,
          -87.47828688772476,
          -87.41904248919619,
          -87.35950055604816,
          -87.2996746464843,
          -87.23957817287985,
          -87.17922440079623,
          -87.11862644819428,
          -87.05779728483422,
          -86.99674973185186,
          -86.93549646150068,
          -86.87404999704943,
          -86.81242271282555,
          -86.75062683439512,
          -86.68867443887001,
          -86.62657745533383,
          -86.56434766537807,
          -86.50199670374067,
          -86.43953605903909,
          -86.3769770745909,
          -86.31433094931464,
          -86.25160873870453,
          -86.18882135587258,
          -86.125979572652,
          -86.06309402075664,
          -86.00017519299057,
          -85.93723344450294,
          -85.87427899408324,
          -85.8113219254925,
          -85.74837218882595,
          -85.68543960190316,
          -85.62253385168192,
          -85.55966449569229,
          -85.49684096348712,
          -85.43407255810654,
          -85.37136845755282,
          -85.3087377162732,
          -85.24618926664807,
          -85.18373192048207,
          -85.12137437049589,
          -85.05912519181666,
          -84.99699284346521,
          -84.934985669838,
          -84.87311190218274,
          -84.81137966006546,
          -84.74979695282819,
          -84.68837168103576,
          -84.62711163791056,
          -84.56602451075426,
          -84.50511788235542,
          -84.4443992323823,
          -84.38387593875984,
          -84.32355527903049,
          -84.26344443169758,
          -84.20355047755166,
          -84.14388040097829,
          -84.08444109124757,
          -84.02523934378473,
          -83.96628186142152,
          -83.90757525562822,
          -83.84912604772579,
          -83.79094067007837,
          -83.7330254672657,
          -83.67538669723552,
          -83.61803053243565,
          -83.56096306092618,
          -83.50419028747132,
          -83.44771813461107,
          -83.39155244371307,
          -83.33569897600417,
          -83.2801634135822,
          -83.2249513604081,
          -83.17006834327826,
          -83.1155198127774,
          -83.0613111442123,
          -83.00744763852617,
          -82.95393452319432,
          -82.90077695310097,
          -82.8479800113977,
          -82.79554871034343,
          -82.7434879921266,
          -82.69180272966943,
          -82.64049772741457,
          -82.58957772209462,
          -82.53904738348447,
          -82.48891131513699,
          -82.43917405510203,
          -82.38984007662938,
          -82.34091378885542,
          -82.29239953747454,
          -82.24430160539474,
          -82.196624213378,
          -82.14937152066592,
          -82.10254762559087,
          -82.0561565661722,
          -82.01020232069914,
          -81.96468880829885,
          -81.91961988949183,
          -81.87499936673345,
          -81.83083098494248,
          -81.78711843201702,
          -81.74386533933753,
          -81.7010752822577,
          -81.65875178058329,
          -81.6168982990393,
          -81.57551824772491,
          -81.53461498255793,
          -81.49419180570722,
          -81.4542519660151,
          -81.41479865940852,
          -81.3758350292996,
          -81.33736416697681,
          -81.29938911198516,
          -81.26191285249695,
          -81.22493832567321,
          -81.18846841801538,
          -81.15250596570775,
          -81.11705375495112,
          -81.08211452228744,
          -81.04769095491602,
          -81.01378569100106,
          -80.98040131997111,
          -80.9475403828103,
          -80.91520537234143,
          -80.88339873350203,
          -80.8521228636118,
          -80.82138011263356,
          -80.79117278342613,
          -80.7615031319908,
          -80.73237336771021,
          -80.70378565358055,
          -80.67574210643743,
          -80.6482447971747,
          -80.62129575095705,
          -80.59489694742658,
          -80.56905032090236,
          -80.5437577605751,
          -80.51902111069495,
          -80.49484217075394,
          -80.4712226956627,
          -80.44816439592138,
          -80.42566893778536,
          -80.40373794342541,
          -80.38237299108253,
          -80.36157561521803,
          -80.34134730665764,
          -80.32168951273185,
          -80.30260363741016,
          -80.2840910414315,
          -80.26615304242902,
          -80.24879091505105,
          -80.23200589107691,
          -80.21579915952842,
          -80.20017186677723,
          -80.18512511664716,
          -80.17065997051293,
          -80.15677744739412,
          -80.14347852404542,
          -80.13076413504238,
          -80.11863517286348,
          -80.10709248796755,
          -80.09613688886822,
          -80.08576914220353,
          -80.07598997280222,
          -80.066800063746,
          -80.05820005642806,
          -80.05019055060804,
          -80.04277210446294,
          -80.03594523463464,
          -80.02971041627389,
          -80.02406808308008,
          -80.01901862733818,
          -80.01456239995167,
          -80.01069971047211,
          -80.00743082712516,
          -80.00475597683288,
          -80.00267534523307,
          -80.00118907669432,
          -80.00029727432874,
          -80
         ]
        },
        {
         "line": {
          "color": "blue",
          "width": 2
         },
         "mode": "lines",
         "name": "Eigenstate 2",
         "type": "scatter",
         "x": {
          "bdata": "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",
          "dtype": "f8"
         },
         "y": [
          -80,
          -80.00029727432874,
          -80.00118907669432,
          -80.00267534523304,
          -80.00475597683288,
          -80.00743082712508,
          -80.01069971047211,
          -80.0145623999516,
          -80.01901862733811,
          -80.02406808308002,
          -80.02971041627382,
          -80.03594523463464,
          -80.04277210446286,
          -80.05019055060794,
          -80.05820005642806,
          -80.06680006374593,
          -80.07598997280222,
          -80.08576914220353,
          -80.09613688886822,
          -80.10709248796755,
          -80.11863517286346,
          -80.13076413504238,
          -80.14347852404535,
          -80.15677744739412,
          -80.17065997051292,
          -80.18512511664716,
          -80.20017186677723,
          -80.21579915952842,
          -80.23200589107688,
          -80.248790915051,
          -80.26615304242897,
          -80.28409104143145,
          -80.30260363741014,
          -80.32168951273178,
          -80.3413473066576,
          -80.36157561521802,
          -80.38237299108253,
          -80.40373794342534,
          -80.42566893778535,
          -80.4481643959213,
          -80.4712226956627,
          -80.49484217075387,
          -80.51902111069492,
          -80.5437577605751,
          -80.56905032090233,
          -80.59489694742655,
          -80.62129575095702,
          -80.64824479717466,
          -80.6757421064374,
          -80.70378565358057,
          -80.73237336771015,
          -80.7615031319908,
          -80.79117278342613,
          -80.8213801126335,
          -80.8521228636118,
          -80.88339873350198,
          -80.91520537234143,
          -80.94754038281025,
          -80.98040131997107,
          -81.01378569100109,
          -81.04769095491602,
          -81.08211452228737,
          -81.11705375495113,
          -81.15250596570775,
          -81.18846841801538,
          -81.22493832567321,
          -81.26191285249689,
          -81.29938911198516,
          -81.33736416697681,
          -81.3758350292996,
          -81.41479865940849,
          -81.45425196601504,
          -81.49419180570713,
          -81.5346149825579,
          -81.57551824772491,
          -81.61689829903926,
          -81.65875178058327,
          -81.70107528225769,
          -81.74386533933752,
          -81.78711843201702,
          -81.83083098494248,
          -81.87499936673339,
          -81.9196198894918,
          -81.9646888082988,
          -82.01020232069914,
          -82.0561565661722,
          -82.1025476255908,
          -82.14937152066585,
          -82.196624213378,
          -82.24430160539474,
          -82.29239953747454,
          -82.3409137888554,
          -82.38984007662933,
          -82.43917405510203,
          -82.48891131513699,
          -82.53904738348449,
          -82.5895777220946,
          -82.64049772741456,
          -82.69180272966943,
          -82.74348799212659,
          -82.79554871034341,
          -82.8479800113977,
          -82.90077695310096,
          -82.95393452319429,
          -83.00744763852617,
          -83.06131114421231,
          -83.1155198127774,
          -83.17006834327823,
          -83.22495136040811,
          -83.28016341358222,
          -83.33569897600414,
          -83.39155244371305,
          -83.44771813461108,
          -83.5041902874713,
          -83.56096306092618,
          -83.61803053243564,
          -83.67538669723552,
          -83.7330254672657,
          -83.79094067007836,
          -83.84912604772578,
          -83.90757525562822,
          -83.9662818614215,
          -84.02523934378472,
          -84.08444109124756,
          -84.1438804009783,
          -84.20355047755164,
          -84.26344443169758,
          -84.32355527903044,
          -84.38387593875983,
          -84.4443992323823,
          -84.50511788235542,
          -84.56602451075426,
          -84.62711163791055,
          -84.68837168103578,
          -84.74979695282819,
          -84.81137966006546,
          -84.87311190218271,
          -84.93498566983799,
          -84.99699284346518,
          -85.05912519181666,
          -85.12137437049587,
          -85.18373192048205,
          -85.24618926664806,
          -85.30873771627321,
          -85.3713684575528,
          -85.43407255810651,
          -85.49684096348709,
          -85.55966449569227,
          -85.62253385168192,
          -85.68543960190314,
          -85.74837218882594,
          -85.8113219254925,
          -85.87427899408324,
          -85.93723344450292,
          -86.00017519299057,
          -86.06309402075664,
          -86.12597957265199,
          -86.18882135587256,
          -86.25160873870455,
          -86.31433094931461,
          -86.3769770745909,
          -86.43953605903907,
          -86.50199670374067,
          -86.56434766537807,
          -86.62657745533382,
          -86.68867443887001,
          -86.7506268343951,
          -86.81242271282555,
          -86.87404999704941,
          -86.93549646150068,
          -86.99674973185185,
          -87.05779728483421,
          -87.11862644819429,
          -87.17922440079622,
          -87.23957817287983,
          -87.2996746464843,
          -87.35950055604815,
          -87.41904248919617,
          -87.47828688772478,
          -87.53722004879651,
          -87.59582812635661,
          -87.65409713278248,
          -87.71201294077933,
          -87.76956128553381,
          -87.82672776713909,
          -87.88349785330361,
          -87.93985688235718,
          -87.99579006656727,
          -88.05128249577864,
          -88.10631914138989,
          -88.16088486067962,
          -88.21496440149548,
          -88.26854240731929,
          -88.32160342271976,
          -88.37413189920655,
          -88.42611220149618,
          -88.47752861420179,
          -88.52836534895738,
          -88.57860655198658,
          -88.62823631212476,
          -88.67723866930356,
          -88.72559762350438,
          -88.77329714418738,
          -88.82032118020071,
          -88.86665367017376,
          -88.91227855339596,
          -88.957179781182,
          -89.00134132872178,
          -89.04474720741187,
          -89.08738147766368,
          -89.1292282621803,
          -89.17027175969311,
          -89.21049625914574,
          -89.24988615431167,
          -89.2884259588282,
          -89.32610032162746,
          -89.36289404274281,
          -89.39879208946527,
          -89.43377961282333,
          -89.46784196435507,
          -89.5009647131403,
          -89.53313366305684,
          -89.56433487022248,
          -89.59455466058188,
          -89.62377964759486,
          -89.65199674998033,
          -89.67919320946739,
          -89.70535660850419,
          -89.73047488787148,
          -89.75453636414807,
          -89.77752974697215,
          -89.79944415604288,
          -89.82026913780432,
          -89.83999468175462,
          -89.85861123632175,
          -89.87610972424832,
          -89.89248155742769,
          -89.90771865113497,
          -89.9218134375971,
          -89.93475887884841,
          -89.94654847881955,
          -89.95717629460995,
          -89.96663694689718,
          -89.97492562943887,
          -89.98203811762683,
          -89.98797077605609,
          -89.99272056507624,
          -89.99628504629581,
          -89.9986623870158,
          -89.99985136357205,
          -110.00014863642795,
          -110.00133761298419,
          -110.00371495370418,
          -110.00727943492375,
          -110.0120292239439,
          -110.01796188237316,
          -110.02507437056111,
          -110.03336305310282,
          -110.04282370539005,
          -110.05345152118045,
          -110.06524112115157,
          -110.07818656240289,
          -110.092281348865,
          -110.10751844257227,
          -110.12389027575166,
          -110.14138876367824,
          -110.16000531824537,
          -110.17973086219567,
          -110.2005558439571,
          -110.22247025302784,
          -110.24546363585192,
          -110.26952511212849,
          -110.2946433914958,
          -110.32080679053259,
          -110.34800325001966,
          -110.37622035240508,
          -110.4054453394181,
          -110.4356651297775,
          -110.46686633694314,
          -110.49903528685968,
          -110.53215803564491,
          -110.56622038717664,
          -110.6012079105347,
          -110.63710595725718,
          -110.6738996783725,
          -110.71157404117179,
          -110.75011384568833,
          -110.78950374085424,
          -110.82972824030686,
          -110.87077173781967,
          -110.9126185223363,
          -110.95525279258813,
          -110.9986586712782,
          -111.04282021881798,
          -111.08772144660402,
          -111.13334632982622,
          -111.17967881979928,
          -111.22670285581259,
          -111.27440237649559,
          -111.32276133069641,
          -111.37176368787524,
          -111.42139344801342,
          -111.47163465104259,
          -111.52247138579821,
          -111.57388779850382,
          -111.62586810079344,
          -111.6783965772802,
          -111.7314575926807,
          -111.78503559850446,
          -111.83911513932037,
          -111.89368085861007,
          -111.94871750422134,
          -112.00420993343272,
          -112.06014311764281,
          -112.11650214669638,
          -112.17327223286087,
          -112.23043871446613,
          -112.28798705922064,
          -112.34590286721748,
          -112.40417187364336,
          -112.46277995120349,
          -112.5217131122752,
          -112.58095751080378,
          -112.64049944395182,
          -112.70032535351567,
          -112.76042182712015,
          -112.82077559920376,
          -112.8813735518057,
          -112.94220271516576,
          -113.00325026814814,
          -113.06450353849931,
          -113.12595000295055,
          -113.18757728717442,
          -113.24937316560488,
          -113.31132556112996,
          -113.37342254466614,
          -113.4356523346219,
          -113.4980032962593,
          -113.56046394096089,
          -113.6230229254091,
          -113.68566905068535,
          -113.74839126129544,
          -113.81117864412741,
          -113.874020427348,
          -113.93690597924335,
          -113.99982480700942,
          -114.06276655549703,
          -114.12572100591676,
          -114.18867807450748,
          -114.25162781117403,
          -114.31456039809682,
          -114.37746614831806,
          -114.44033550430768,
          -114.50315903651284,
          -114.56592744189341,
          -114.62863154244714,
          -114.69126228372676,
          -114.75381073335191,
          -114.81626807951787,
          -114.87862562950407,
          -114.94087480818331,
          -115.00300715653476,
          -115.06501433016197,
          -115.12688809781723,
          -115.18862033993452,
          -115.25020304717178,
          -115.31162831896421,
          -115.37288836208943,
          -115.43397548924571,
          -115.49488211764452,
          -115.55560076761766,
          -115.61612406124013,
          -115.67644472096949,
          -115.7365555683024,
          -115.7964495224483,
          -115.85611959902167,
          -115.91555890875242,
          -115.97476065621522,
          -116.03371813857845,
          -116.09242474437174,
          -116.1508739522742,
          -116.20905932992162,
          -116.26697453273427,
          -116.32461330276445,
          -116.38196946756429,
          -116.43903693907379,
          -116.49580971252865,
          -116.5522818653889,
          -116.60844755628692,
          -116.66430102399582,
          -116.71983658641776,
          -116.77504863959186,
          -116.8299316567217,
          -116.88448018722256,
          -116.93868885578767,
          -116.9925523614738,
          -117.04606547680567,
          -117.09922304689898,
          -117.15201998860229,
          -117.20445128965656,
          -117.2565120078734,
          -117.30819727033057,
          -117.35950227258539,
          -117.41042227790535,
          -117.46095261651548,
          -117.51108868486298,
          -117.56082594489794,
          -117.61015992337067,
          -117.65908621114463,
          -117.70760046252545,
          -117.75569839460525,
          -117.80337578662204,
          -117.85062847933415,
          -117.8974523744092,
          -117.94384343382777,
          -117.98979767930084,
          -118.03531119170123,
          -118.08038011050817,
          -118.12500063326661,
          -118.16916901505749,
          -118.21288156798295,
          -118.25613466066247,
          -118.29892471774238,
          -118.34124821941668,
          -118.38310170096076,
          -118.42448175227504,
          -118.46538501744209,
          -118.50580819429285,
          -118.54574803398486,
          -118.5852013405916,
          -118.62416497070038,
          -118.66263583302316,
          -118.70061088801492,
          -118.73808714750311,
          -118.77506167432675,
          -118.81153158198458,
          -118.84749403429223,
          -118.88294624504894,
          -118.91788547771264,
          -118.95230904508404,
          -118.986214308999,
          -119.01959868002885,
          -119.05245961718975,
          -119.08479462765854,
          -119.11660126649804,
          -119.14787713638817,
          -119.17861988736647,
          -119.20882721657384,
          -119.23849686800915,
          -119.26762663228972,
          -119.2962143464195,
          -119.32425789356267,
          -119.35175520282536,
          -119.37870424904291,
          -119.40510305257348,
          -119.4309496790977,
          -119.45624223942488,
          -119.48097888930516,
          -119.50515782924614,
          -119.52877730433735,
          -119.55183560407872,
          -119.5743310622147,
          -119.59626205657466,
          -119.61762700891742,
          -119.63842438478207,
          -119.65865269334233,
          -119.67831048726822,
          -119.6973963625898,
          -119.71590895856855,
          -119.73384695757105,
          -119.75120908494904,
          -119.76799410892315,
          -119.78420084047156,
          -119.79982813322275,
          -119.81487488335281,
          -119.82934002948716,
          -119.84322255260594,
          -119.85652147595468,
          -119.86923586495759,
          -119.88136482713662,
          -119.89290751203241,
          -119.90386311113173,
          -119.91423085779643,
          -119.92401002719774,
          -119.93319993625406,
          -119.94179994357202,
          -119.94980944939206,
          -119.95722789553713,
          -119.96405476536532,
          -119.97028958372609,
          -119.97593191691999,
          -119.98098137266189,
          -119.98543760004841,
          -119.98930028952786,
          -119.99256917287491,
          -119.99524402316707,
          -119.997324654767,
          -119.99881092330565,
          -119.99970272567123,
          -120
         ]
        },
        {
         "line": {
          "color": "black",
          "dash": "dash",
          "width": 1
         },
         "mode": "lines",
         "name": "Eigenstate 3",
         "type": "scatter",
         "x": {
          "bdata": "AAAAAAAAAAC6V5cDY4WUP7pXlwNjhaQ/lwNjhRTIrj+6V5cDY4W0P6gtfcS7prk/lwNjhRTIvj/DbCSjtvTBP7pXlwNjhcQ/sUIKZA8Wxz+oLX3Eu6bJP6AY8CRoN8w/lwNjhRTIzj9H9+pyYKzQP8NsJKO29NE/PuJd0ww90z+6V5cDY4XUPzbN0DO5zdU/sUIKZA8W1z8tuEOUZV7YP6gtfcS7ptk/JKO29BHv2j+gGPAkaDfcPxuOKVW+f90/lwNjhRTI3j+JPM5aNQjgP0f36nJgrOA/BbIHi4tQ4T/DbCSjtvThP4EnQbvhmOI/PuJd0ww94z/8nHrrN+HjP7pXlwNjheQ/eBK0G44p5T82zdAzuc3lP/OH7UvkceY/sUIKZA8W5z9v/SZ8OrrnPy24Q5RlXug/63JgrJAC6T+oLX3Eu6bpP2bomdzmSuo/JKO29BHv6j/iXdMMPZPrP6AY8CRoN+w/XtMMPZPb7D8bjilVvn/tP9lIRm3pI+4/lwNjhRTI7j9Vvn+dP2zvP4k8zlo1CPA/6Jnc5kpa8D9H9+pyYKzwP6ZU+f51/vA/BbIHi4tQ8T9kDxYXoaLxP8NsJKO29PE/IsoyL8xG8j+BJ0G74ZjyP9+ET0f36vI/PuJd0ww98z+dP2xfIo/zP/yceus34fM/W/qId00z9D+6V5cDY4X0Pxm1pY941/Q/eBK0G44p9T/Xb8Kno3v1PzbN0DO5zfU/lSrfv84f9j/zh+1L5HH2P1Ll+9f5w/Y/sUIKZA8W9z8QoBjwJGj3P2/9Jnw6uvc/zlo1CFAM+D8tuEOUZV74P4wVUiB7sPg/63JgrJAC+T9K0G44plT5P6gtfcS7pvk/B4uLUNH4+T9m6Jnc5kr6P8VFqGj8nPo/JKO29BHv+j+DAMWAJ0H7P+Jd0ww9k/s/QbvhmFLl+z+gGPAkaDf8P/91/rB9ifw/XtMMPZPb/D+8MBvJqC39PxuOKVW+f/0/eus34dPR/T/ZSEZt6SP+PzimVPn+df4/lwNjhRTI/j/2YHERKhr/P1W+f50/bP8/tBuOKVW+/z+JPM5aNQgAQDlr1SBAMQBA6Jnc5kpaAECYyOOsVYMAQEf36nJgrABA9yXyOGvVAECmVPn+df4AQFWDAMWAJwFABbIHi4tQAUC04A5RlnkBQGQPFhehogFAEz4d3avLAUDDbCSjtvQBQHKbK2nBHQJAIsoyL8xGAkDR+Dn11m8CQIEnQbvhmAJAMFZIgezBAkDfhE9H9+oCQI+zVg0CFANAPuJd0ww9A0DuEGWZF2YDQJ0/bF8ijwNATW5zJS24A0D8nHrrN+EDQKzLgbFCCgRAW/qId00zBEALKZA9WFwEQLpXlwNjhQRAaYaeyW2uBEAZtaWPeNcEQMjjrFWDAAVAeBK0G44pBUAnQbvhmFIFQNdvwqejewVAhp7Jba6kBUA2zdAzuc0FQOX71/nD9gVAlSrfv84fBkBEWeaF2UgGQPOH7UvkcQZAo7b0Ee+aBkBS5fvX+cMGQAIUA54E7QZAsUIKZA8WB0BhcREqGj8HQBCgGPAkaAdAwM4fti+RB0Bv/SZ8OroHQB8sLkJF4wdAzlo1CFAMCEB9iTzOWjUIQC24Q5RlXghA3OZKWnCHCECMFVIge7AIQDtEWeaF2QhA63JgrJACCUCaoWdymysJQErQbjimVAlA+f51/rB9CUCoLX3Eu6YJQFhchIrGzwlAB4uLUNH4CUC3uZIW3CEKQGbomdzmSgpAFhehovFzCkDFRaho/JwKQHV0ry4HxgpAJKO29BHvCkDU0b26HBgLQIMAxYAnQQtAMi/MRjJqC0DiXdMMPZMLQJGM2tJHvAtAQbvhmFLlC0Dw6eheXQ4MQKAY8CRoNwxAT0f36nJgDED/df6wfYkMQK6kBXeIsgxAXtMMPZPbDEANAhQDngQNQLwwG8moLQ1AbF8ij7NWDUAbjilVvn8NQMu8MBvJqA1Aeus34dPRDUAqGj+n3voNQNlIRm3pIw5AiXdNM/RMDkA4plT5/nUOQOjUW78Jnw5AlwNjhRTIDkBGMmpLH/EOQPZgcREqGg9ApY941zRDD0BVvn+dP2wPQATthmNKlQ9AtBuOKVW+D0BjSpXvX+cPQIk8zlo1CBBA4dPRvbocEEA5a9UgQDEQQJAC2YPFRRBA6Jnc5kpaEEBAMeBJ0G4QQJjI46xVgxBA71/nD9uXEEBH9+pyYKwQQJ+O7tXlwBBA9yXyOGvVEEBOvfWb8OkQQKZU+f51/hBA/uv8YfsSEUBVgwDFgCcRQK0aBCgGPBFABbIHi4tQEUBdSQvuEGURQLTgDlGWeRFADHgStBuOEUBkDxYXoaIRQLymGXomtxFAEz4d3avLEUBr1SBAMeARQMNsJKO29BFAGgQoBjwJEkBymytpwR0SQMoyL8xGMhJAIsoyL8xGEkB5YTaSUVsSQNH4OfXWbxJAKZA9WFyEEkCBJ0G74ZgSQNi+RB5nrRJAMFZIgezBEkCI7UvkcdYSQN+ET0f36hJANxxTqnz/EkCPs1YNAhQTQOdKWnCHKBNAPuJd0ww9E0CWeWE2klETQO4QZZkXZhNARqho/Jx6E0CdP2xfIo8TQPXWb8KnoxNATW5zJS24E0CkBXeIsswTQPyceus34RNAVDR+Tr31E0Csy4GxQgoUQANjhRTIHhRAW/qId00zFECzkYza0kcUQAspkD1YXBRAYsCToN1wFEC6V5cDY4UUQBLvmmbomRRAaYaeyW2uFEDBHaIs88IUQBm1pY941xRAcUyp8v3rFEDI46xVgwAVQCB7sLgIFRVAeBK0G44pFUDQqbd+Ez4VQCdBu+GYUhVAf9i+RB5nFUDXb8Kno3sVQC4HxgopkBVAhp7Jba6kFUDeNc3QM7kVQDbN0DO5zRVAjWTUlj7iFUDl+9f5w/YVQD2T21xJCxZAlSrfv84fFkDsweIiVDQWQERZ5oXZSBZAnPDp6F5dFkDzh+1L5HEWQEsf8a5phhZAo7b0Ee+aFkD7Tfh0dK8WQFLl+9f5wxZAqnz/On/YFkACFAOeBO0WQFqrBgGKARdAsUIKZA8WF0AJ2g3HlCoXQGFxESoaPxdAuAgVjZ9TF0AQoBjwJGgXQGg3HFOqfBdAwM4fti+RF0AXZiMZtaUXQG/9Jnw6uhdAx5Qq37/OF0AfLC5CReMXQHbDMaXK9xdAzlo1CFAMGEAm8jhr1SAYQH2JPM5aNRhA1SBAMeBJGEAtuEOUZV4YQIVPR/fqchhA3OZKWnCHGEA0fk699ZsYQIwVUiB7sBhA5KxVgwDFGEA7RFnmhdkYQJPbXEkL7hhA63JgrJACGUBCCmQPFhcZQJqhZ3KbKxlA8jhr1SBAGUBK0G44plQZQKFncpsraRlA+f51/rB9GUBRlnlhNpIZQKgtfcS7phlAAMWAJ0G7GUBYXISKxs8ZQLDzh+1L5BlAB4uLUNH4GUBfIo+zVg0aQLe5khbcIRpAD1GWeWE2GkBm6Jnc5koaQL5/nT9sXxpAFhehovFzGkBtrqQFd4gaQMVFqGj8nBpAHd2ry4GxGkB1dK8uB8YaQMwLs5GM2hpAJKO29BHvGkB8OrpXlwMbQNTRvbocGBtAK2nBHaIsG0CDAMWAJ0EbQNuXyOOsVRtAMi/MRjJqG0CKxs+pt34bQOJd0ww9kxtAOvXWb8KnG0CRjNrSR7wbQOkj3jXN0BtAQbvhmFLlG0CZUuX71/kbQPDp6F5dDhxASIHsweIiHECgGPAkaDccQPev84ftSxxAT0f36nJgHECn3vpN+HQcQP91/rB9iRxAVg0CFAOeHECupAV3iLIcQAY8CdoNxxxAXtMMPZPbHEC1ahCgGPAcQA0CFAOeBB1AZZkXZiMZHUC8MBvJqC0dQBTIHiwuQh1AbF8ij7NWHUDE9iXyOGsdQBuOKVW+fx1AcyUtuEOUHUDLvDAbyagdQCNUNH5OvR1Aeus34dPRHUDSgjtEWeYdQCoaP6fe+h1AgbFCCmQPHkDZSEZt6SMeQDHgSdBuOB5AiXdNM/RMHkDgDlGWeWEeQDimVPn+dR5AkD1YXISKHkDo1Fu/CZ8eQD9sXyKPsx5AlwNjhRTIHkDvmmbomdweQEYyaksf8R5AnsltrqQFH0D2YHERKhofQE74dHSvLh9ApY941zRDH0D9Jnw6ulcfQFW+f50/bB9ArVWDAMWAH0AE7YZjSpUfQFyEisbPqR9AtBuOKVW+H0ALs5GM2tIfQGNKle9f5x9Au+GYUuX7H0CJPM5aNQggQDUIUAx4EiBA4dPRvbocIECNn1Nv/SYgQDlr1SBAMSBA5TZX0oI7IECQAtmDxUUgQDzOWjUIUCBA6Jnc5kpaIECUZV6YjWQgQEAx4EnQbiBA7Pxh+xJ5IECYyOOsVYMgQESUZV6YjSBA71/nD9uXIECbK2nBHaIgQEf36nJgrCBA88JsJKO2IECfju7V5cAgQEtacIcoyyBA9yXyOGvVIECi8XPqrd8gQE699Zvw6SBA+oh3TTP0IECmVPn+df4gQFIge7C4CCFA/uv8YfsSIUCqt34TPh0hQFWDAMWAJyFAAU+CdsMxIUCtGgQoBjwhQFnmhdlIRiFABbIHi4tQIUCxfYk8zlohQF1JC+4QZSFACRWNn1NvIUC04A5RlnkhQGCskALZgyFADHgStBuOIUC4Q5RlXpghQGQPFhehoiFAENuXyOOsIUC8phl6JrchQGdymytpwSFAEz4d3avLIUC/CZ+O7tUhQGvVIEAx4CFAF6Gi8XPqIUDDbCSjtvQhQG84plT5/iFAGgQoBjwJIkDGz6m3fhMiQHKbK2nBHSJAHmetGgQoIkDKMi/MRjIiQHb+sH2JPCJAIsoyL8xGIkDOlbTgDlEiQHlhNpJRWyJAJS24Q5RlIkDR+Dn11m8iQH3Eu6YZeiJAKZA9WFyEIkDVW78Jn44iQIEnQbvhmCJALPPCbCSjIkDYvkQeZ60iQISKxs+ptyJAMFZIgezBIkDcIcoyL8wiQIjtS+Rx1iJANLnNlbTgIkDfhE9H9+oiQItQ0fg59SJANxxTqnz/IkDj59RbvwkjQI+zVg0CFCNAO3/YvkQeI0DnSlpwhygjQJMW3CHKMiNAPuJd0ww9I0Dqrd+ET0cjQJZ5YTaSUSNAQkXj59RbI0DuEGWZF2YjQJrc5kpacCNARqho/Jx6I0Dxc+qt34QjQJ0/bF8ijyNASQvuEGWZI0D11m/Cp6MjQKGi8XPqrSNATW5zJS24I0D5OfXWb8IjQKQFd4iyzCNAUNH4OfXWI0D8nHrrN+EjQKho/Jx66yNAVDR+Tr31I0AAAAAAAAAkQA==",
          "dtype": "f8"
         },
         "y": [
          -6.666666666666666,
          -6.66683181579857,
          -6.667327212468578,
          -6.6681527045414235,
          -6.669308038597679,
          -6.67079286014252,
          -6.672606713897361,
          -6.674749044173776,
          -6.677219195329018,
          -6.680016412302125,
          -6.683139841229542,
          -6.686588530139089,
          -6.6903614297207845,
          -6.69445739417303,
          -6.698875182122588,
          -6.703613457616252,
          -6.7086707911826355,
          -6.714045660961736,
          -6.71973645390022,
          -6.725741467010142,
          -6.732058908688708,
          -6.738686900096612,
          -6.745623476592382,
          -6.752866589220162,
          -6.760414106248174,
          -6.768263814755194,
          -6.776413422262159,
          -6.78486055840615,
          -6.7936027766538745,
          -6.802637556051718,
          -6.8119623030095555,
          -6.821574353115333,
          -6.8314709729776055,
          -6.841649362093024,
          -6.8521066547360565,
          -6.8628399218679865,
          -6.873846173062383,
          -6.885122358444376,
          -6.896665370640792,
          -6.908472046738749,
          -6.9205391702498655,
          -6.932863473077576,
          -6.945441637485177,
          -6.958270298062016,
          -6.9713460436855454,
          -6.984665419476964,
          -6.998224928748485,
          -7.012021034939213,
          -7.026050163539318,
          -7.040308703998641,
          -7.054793011619258,
          -7.069499409429646,
          -7.084424190038984,
          -7.099563617469887,
          -7.114913928968234,
          -7.130471336788635,
          -7.146232029954206,
          -7.162192175989583,
          -7.178347922625893,
          -7.19469539947679,
          -7.211230719684635,
          -7.227949981535803,
          -7.24484927004457,
          -7.261924658504763,
          -7.279172210008636,
          -7.296587978932409,
          -7.314168012388059,
          -7.331908351640987,
          -7.349805033493254,
          -7.3678540916321555,
          -7.386051557943964,
          -7.404393463792726,
          -7.422875841264156,
          -7.441494724374485,
          -7.460246150244469,
          -7.4791261602386285,
          -7.4981308010698555,
          -7.517256125869703,
          -7.536498195224474,
          -7.555853078177529,
          -7.5753168531980855,
          -7.594885609116927,
          -7.614555446029354,
          -7.634322476165918,
          -7.65418282473127,
          -7.67413263071174,
          -7.694168047652083,
          -7.714285244401933,
          -7.734480405832539,
          -7.7547497335242745,
          -7.7750894464256834,
          -7.795495781484406,
          -7.815964994250788,
          -7.836493359454693,
          -7.857077171556183,
          -7.877712745270666,
          -7.8983964160691,
          -7.919124540654035,
          -7.939893497411955,
          -7.960699686842632,
          -7.981539531966217,
          -8.002409478708486,
          -8.023305996265073,
          -8.04422557744527,
          -8.06516473899588,
          -8.086120021906003,
          -8.107087991693023,
          -8.12806523867076,
          -8.149048378200085,
          -8.17003405092279,
          -8.191018922979126,
          -8.211999686209724,
          -8.232973058342408,
          -8.253935783164332,
          -8.274884630680225,
          -8.295816397256992,
          -8.316727905755439,
          -8.33761600564944,
          -8.358477573133179,
          -8.379309511216805,
          -8.40010874981114,
          -8.420872245801776,
          -8.441596983113023,
          -8.46227997276225,
          -8.48291825290486,
          -8.503508888870542,
          -8.524048973190931,
          -8.544535625619384,
          -8.564965993142968,
          -8.585337249987143,
          -8.605646597613571,
          -8.625891264711282,
          -8.64606850718156,
          -8.66617560811692,
          -8.68620987777445,
          -8.706168653543836,
          -8.726049299910327,
          -8.745849208413022,
          -8.765565797598605,
          -8.785196512970955,
          -8.804738826936724,
          -8.82419023874731,
          -8.843548274437223,
          -8.862810486759388,
          -8.88197445511725,
          -8.901037785494184,
          -8.919998110380279,
          -8.93885308869665,
          -8.957600405717617,
          -8.976237772990757,
          -8.994762928255135,
          -9.013173635357811,
          -9.031467684168804,
          -9.04964289049463,
          -9.067697095990662,
          -9.085628168072283,
          -9.103433999825128,
          -9.121112509914465,
          -9.138661642493812,
          -9.156079367113012,
          -9.173363678625696,
          -9.190512597096449,
          -9.207524167707659,
          -9.224396460666116,
          -9.241127571109548,
          -9.257715619013133,
          -9.274158749096056,
          -9.290455130728205,
          -9.306602957837104,
          -9.322600448815114,
          -9.338445846426962,
          -9.354137417717743,
          -9.369673453921353,
          -9.385052270369444,
          -9.400272206401048,
          -9.415331625272703,
          -9.430228914069392,
          -9.444962483616141,
          -9.459530768390405,
          -9.473932226435274,
          -9.48816533927352,
          -9.502228611822536,
          -9.516120572310191,
          -9.529839772191645,
          -9.54338478606707,
          -9.556754211600536,
          -9.569946669439734,
          -9.582960803136896,
          -9.595795279070714,
          -9.608448786369394,
          -9.620920036834793,
          -9.633207764867713,
          -9.645310727394305,
          -9.657227703793671,
          -9.668957495826655,
          -9.680498927565703,
          -9.6918508453261,
          -9.703012117598268,
          -9.713981634981335,
          -9.724758310117927,
          -9.735341077630178,
          -9.745728894056992,
          -9.755920737792533,
          -9.765915609025953,
          -9.775712529682409,
          -9.785310543365277,
          -9.794708715299674,
          -9.803906132277218,
          -9.812901902602034,
          -9.821695156038038,
          -9.830285043757494,
          -9.838670738290803,
          -9.846851433477598,
          -9.854826344419036,
          -9.862594707431425,
          -9.870155780001069,
          -9.877508840740367,
          -9.884653189345208,
          -9.891588146553573,
          -9.89831305410543,
          -9.904827274703859,
          -9.911130191977445,
          -9.917221210443913,
          -9.92309975547498,
          -9.928765273262492,
          -9.93421723078578,
          -9.939455115780252,
          -9.94447843670724,
          -9.949286722725041,
          -9.953879523661211,
          -9.958256409986117,
          -9.962416972787638,
          -9.966360823747161,
          -9.970087595116746,
          -9.973596939697552,
          -9.976888530819428,
          -9.979962062321755,
          -9.982817248535477,
          -9.985453824266356,
          -9.987871544779422,
          -9.990070185784608,
          -9.992049543423624,
          -9.993809434258031,
          -9.995349695258449,
          -9.996670183795063,
          -9.997770777629237,
          -9.99865137490636,
          -9.99931189414991,
          -9.99975227425666,
          -9.999972474493108,
          -9.999972474493108,
          -9.99975227425666,
          -9.999311894149907,
          -9.998651374906357,
          -9.99777077762924,
          -9.996670183795063,
          -9.995349695258449,
          -9.993809434258031,
          -9.992049543423624,
          -9.990070185784605,
          -9.987871544779422,
          -9.985453824266363,
          -9.982817248535477,
          -9.979962062321752,
          -9.976888530819428,
          -9.973596939697549,
          -9.970087595116743,
          -9.966360823747161,
          -9.962416972787638,
          -9.958256409986117,
          -9.953879523661215,
          -9.949286722725038,
          -9.94447843670724,
          -9.939455115780252,
          -9.934217230785777,
          -9.928765273262485,
          -9.92309975547498,
          -9.917221210443913,
          -9.911130191977445,
          -9.904827274703859,
          -9.898313054105426,
          -9.891588146553573,
          -9.884653189345208,
          -9.87750884074037,
          -9.870155780001065,
          -9.862594707431422,
          -9.85482634441903,
          -9.846851433477594,
          -9.838670738290803,
          -9.830285043757494,
          -9.821695156038038,
          -9.81290190260203,
          -9.803906132277218,
          -9.794708715299674,
          -9.78531054336527,
          -9.775712529682405,
          -9.765915609025953,
          -9.755920737792529,
          -9.745728894056992,
          -9.735341077630178,
          -9.72475831011792,
          -9.713981634981335,
          -9.703012117598265,
          -9.691850845326096,
          -9.680498927565695,
          -9.668957495826644,
          -9.657227703793668,
          -9.645310727394298,
          -9.63320776486771,
          -9.620920036834793,
          -9.608448786369387,
          -9.595795279070714,
          -9.582960803136892,
          -9.56994666943973,
          -9.556754211600536,
          -9.54338478606707,
          -9.52983977219165,
          -9.516120572310195,
          -9.502228611822533,
          -9.488165339273516,
          -9.473932226435267,
          -9.459530768390401,
          -9.444962483616141,
          -9.430228914069392,
          -9.415331625272703,
          -9.400272206401041,
          -9.385052270369444,
          -9.369673453921349,
          -9.354137417717743,
          -9.338445846426955,
          -9.322600448815107,
          -9.306602957837107,
          -9.290455130728205,
          -9.274158749096053,
          -9.257715619013133,
          -9.241127571109551,
          -9.224396460666116,
          -9.207524167707662,
          -9.190512597096449,
          -9.173363678625686,
          -9.156079367113009,
          -9.138661642493815,
          -9.121112509914461,
          -9.103433999825125,
          -9.085628168072283,
          -9.067697095990665,
          -9.049642890494633,
          -9.031467684168804,
          -9.013173635357811,
          -8.994762928255135,
          -8.976237772990757,
          -8.957600405717617,
          -8.938853088696654,
          -8.919998110380279,
          -8.901037785494188,
          -8.881974455117243,
          -8.862810486759388,
          -8.84354827443722,
          -8.824190238747299,
          -8.804738826936724,
          -8.785196512970955,
          -8.765565797598608,
          -8.745849208413022,
          -8.726049299910331,
          -8.706168653543836,
          -8.68620987777445,
          -8.666175608116912,
          -8.646068507181553,
          -8.625891264711282,
          -8.605646597613571,
          -8.585337249987143,
          -8.564965993142964,
          -8.544535625619387,
          -8.524048973190917,
          -8.503508888870531,
          -8.48291825290486,
          -8.462279972762243,
          -8.441596983113023,
          -8.420872245801773,
          -8.400108749811144,
          -8.379309511216798,
          -8.358477573133175,
          -8.33761600564944,
          -8.316727905755428,
          -8.295816397256978,
          -8.274884630680225,
          -8.253935783164335,
          -8.232973058342397,
          -8.211999686209714,
          -8.191018922979108,
          -8.170034050922784,
          -8.149048378200089,
          -8.128065238670754,
          -8.107087991693023,
          -8.086120021905993,
          -8.06516473899588,
          -8.044225577445255,
          -8.023305996265062,
          -8.002409478708472,
          -7.981539531966218,
          -7.9606996868426245,
          -7.939893497411944,
          -7.919124540654028,
          -7.8983964160690965,
          -7.877712745270659,
          -7.857077171556179,
          -7.836493359454694,
          -7.815964994250791,
          -7.795495781484403,
          -7.7750894464256834,
          -7.7547497335242745,
          -7.734480405832533,
          -7.714285244401935,
          -7.694168047652088,
          -7.674132630711739,
          -7.654182824731267,
          -7.63432247616592,
          -7.614555446029359,
          -7.594885609116929,
          -7.5753168531980855,
          -7.555853078177531,
          -7.536498195224477,
          -7.517256125869708,
          -7.4981308010698555,
          -7.479126160238623,
          -7.460246150244473,
          -7.441494724374487,
          -7.422875841264157,
          -7.404393463792728,
          -7.386051557943961,
          -7.367854091632158,
          -7.349805033493254,
          -7.331908351640991,
          -7.314168012388054,
          -7.296587978932406,
          -7.279172210008636,
          -7.261924658504764,
          -7.244849270044569,
          -7.227949981535804,
          -7.2112307196846395,
          -7.194695399476797,
          -7.178347922625875,
          -7.162192175989583,
          -7.146232029954209,
          -7.130471336788643,
          -7.114913928968234,
          -7.099563617469892,
          -7.084424190038984,
          -7.069499409429646,
          -7.054793011619303,
          -7.040308703998649,
          -7.026050163539316,
          -7.012021034939217,
          -6.998224928748465,
          -6.984665419477006,
          -6.971346043685537,
          -6.958270298062015,
          -6.945441637485172,
          -6.932863473077576,
          -6.920539170249869,
          -6.908472046738755,
          -6.8966653706407905,
          -6.885122358444379,
          -6.873846173062384,
          -6.862839921867989,
          -6.852106654736057,
          -6.84164936209303,
          -6.831470972977604,
          -6.821574353115334,
          -6.811962303009548,
          -6.802637556051711,
          -6.793602776653877,
          -6.78486055840615,
          -6.776413422262159,
          -6.768263814755198,
          -6.760414106248172,
          -6.752866589220162,
          -6.745623476592376,
          -6.738686900096612,
          -6.732058908688711,
          -6.725741467010142,
          -6.71973645390022,
          -6.714045660961737,
          -6.7086707911826355,
          -6.703613457616255,
          -6.698875182122592,
          -6.69445739417303,
          -6.690361429720776,
          -6.686588530139089,
          -6.683139841229542,
          -6.680016412302129,
          -6.67721919532902,
          -6.6747490441737725,
          -6.672606713897361,
          -6.670792860142527,
          -6.669308038597679,
          -6.668152704541418,
          -6.667327212468578,
          -6.66683181579857,
          -6.666666666666666
         ]
        },
        {
         "line": {
          "color": "black",
          "dash": "dash",
          "width": 1
         },
         "mode": "lines",
         "name": "Eigenstate 4",
         "type": "scatter",
         "x": {
          "bdata": "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",
          "dtype": "f8"
         },
         "y": [
          -6.666666666666666,
          -6.666831815798568,
          -6.6673272124685745,
          -6.668152704541411,
          -6.669308038597675,
          -6.670792860142514,
          -6.672606713897357,
          -6.674749044173767,
          -6.677219195329016,
          -6.680016412302117,
          -6.683139841229536,
          -6.686588530139087,
          -6.690361429720775,
          -6.6944573941730265,
          -6.698875182122579,
          -6.7036134576162505,
          -6.708670791182632,
          -6.714045660961736,
          -6.71973645390022,
          -6.725741467010138,
          -6.732058908688702,
          -6.73868690009661,
          -6.745623476592371,
          -6.752866589220158,
          -6.760414106248167,
          -6.768263814755194,
          -6.7764134222621575,
          -6.784860558406148,
          -6.7936027766538665,
          -6.8026375560517085,
          -6.811962303009548,
          -6.821574353115327,
          -6.831470972977598,
          -6.841649362093016,
          -6.852106654736053,
          -6.862839921867979,
          -6.8738461730623825,
          -6.885122358444371,
          -6.896665370640783,
          -6.908472046738744,
          -6.920539170249861,
          -6.9328634730775685,
          -6.945441637485167,
          -6.95827029806201,
          -6.971346043685535,
          -6.984665419476864,
          -6.998224928748463,
          -7.01202103493921,
          -7.026050163539312,
          -7.040308703998639,
          -7.054793011619256,
          -7.069499409429641,
          -7.084424190038982,
          -7.099563617469887,
          -7.114913928968228,
          -7.130471336788633,
          -7.146232029954202,
          -7.1621921759895795,
          -7.178347922625884,
          -7.194695399476783,
          -7.211230719684633,
          -7.227949981535801,
          -7.244849270044566,
          -7.2619246585047605,
          -7.279172210008634,
          -7.296587978932408,
          -7.314168012388058,
          -7.331908351640979,
          -7.349805033493253,
          -7.367854091632155,
          -7.386051557943954,
          -7.404393463792722,
          -7.422875841264152,
          -7.441494724374478,
          -7.4602461502444655,
          -7.479126160238619,
          -7.49813080106985,
          -7.517256125869701,
          -7.5364981952244685,
          -7.5558530781775275,
          -7.5753168531980855,
          -7.594885609116886,
          -7.6145554460293505,
          -7.6343224761659165,
          -7.654182824731268,
          -7.674132630711731,
          -7.694168047652082,
          -7.714285244401928,
          -7.734480405832531,
          -7.754749733524273,
          -7.775089446425682,
          -7.795495781484398,
          -7.8159649942507805,
          -7.836493359454691,
          -7.857077171556178,
          -7.877712745270663,
          -7.898396416069093,
          -7.919124540654028,
          -7.939893497411948,
          -7.960699686842628,
          -7.981539531966208,
          -8.00240947870848,
          -8.023305996265066,
          -8.044225577445262,
          -8.065164738995874,
          -8.086120021905996,
          -8.107087991693012,
          -8.1280652386707,
          -8.149048378200078,
          -8.170034050922787,
          -8.191018922979119,
          -8.21199968620972,
          -8.232973058342404,
          -8.253935783164325,
          -8.274884630680214,
          -8.295816397256988,
          -8.316727905755432,
          -8.337616005649437,
          -8.358477573133175,
          -8.379309511216801,
          -8.400108749811134,
          -8.42087224580177,
          -8.441596983113023,
          -8.462279972762243,
          -8.482918252904856,
          -8.503508888870535,
          -8.524048973190924,
          -8.544535625619375,
          -8.564965993142964,
          -8.585337249987136,
          -8.605646597613568,
          -8.625891264711278,
          -8.646068507181553,
          -8.666175608116916,
          -8.686209877774447,
          -8.706168653543829,
          -8.726049299910327,
          -8.745849208413018,
          -8.765565797598601,
          -8.785196512970948,
          -8.804738826936724,
          -8.824190238747306,
          -8.843548274437216,
          -8.862810486759384,
          -8.881974455117243,
          -8.901037785494184,
          -8.919998110380135,
          -8.93885308869665,
          -8.957600405717617,
          -8.976237772990753,
          -8.994762928255135,
          -9.013173635357811,
          -9.031467684168797,
          -9.04964289049463,
          -9.067697095990658,
          -9.085628168072276,
          -9.103433999825121,
          -9.121112509914457,
          -9.138661642493812,
          -9.156079367112994,
          -9.173363678625686,
          -9.190512597096445,
          -9.207524167707655,
          -9.224396460666108,
          -9.241127571109548,
          -9.25771561901313,
          -9.274158749096049,
          -9.290455130728201,
          -9.306602957837104,
          -9.32260044881511,
          -9.338445846426955,
          -9.35413741771774,
          -9.369673453921346,
          -9.38505227036944,
          -9.400272206401041,
          -9.415331625272696,
          -9.430228914069389,
          -9.444962483616138,
          -9.459530768390401,
          -9.473932226435267,
          -9.488165339273516,
          -9.50222861182253,
          -9.516120572310191,
          -9.529839772191638,
          -9.543384786067067,
          -9.556754211600532,
          -9.56994666943973,
          -9.582960803136892,
          -9.595795279070707,
          -9.60844878636939,
          -9.62092003683479,
          -9.63320776486771,
          -9.645310727394298,
          -9.657227703793668,
          -9.668957495826644,
          -9.680498927565695,
          -9.691850845326096,
          -9.703012117598261,
          -9.713981634981328,
          -9.72475831011792,
          -9.735341077630174,
          -9.745728894056988,
          -9.755920737792525,
          -9.765915609025942,
          -9.775712529682398,
          -9.78531054336527,
          -9.79470871529967,
          -9.803906132277211,
          -9.812901902602027,
          -9.82169515603803,
          -9.830285043757486,
          -9.838670738290803,
          -9.84685143347759,
          -9.85482634441903,
          -9.862594707431418,
          -9.870155780001065,
          -9.877508840740367,
          -9.884653189345205,
          -9.89158814655357,
          -9.898313054105422,
          -9.904827274703852,
          -9.911130191977442,
          -9.917221210443913,
          -9.923099755474976,
          -9.928765273262488,
          -9.934217230785773,
          -9.939455115780248,
          -9.94447843670724,
          -9.94928672272503,
          -9.953879523661211,
          -9.958256409986113,
          -9.962416972787635,
          -9.966360823747157,
          -9.970087595116743,
          -9.973596939697549,
          -9.976888530819425,
          -9.979962062321748,
          -9.982817248535477,
          -9.985453824266356,
          -9.987871544779415,
          -9.990070185784605,
          -9.99204954342362,
          -9.993809434258024,
          -9.995349695258449,
          -9.996670183795063,
          -9.997770777629233,
          -9.998651374906357,
          -9.99931189414991,
          -9.999752274256652,
          -9.999972474493108,
          -9.999972474493108,
          -9.999752274256656,
          -9.999311894149907,
          -9.99865137490635,
          -9.99777077762923,
          -9.99667018379506,
          -9.995349695258449,
          -9.993809434258024,
          -9.992049543423624,
          -9.990070185784598,
          -9.987871544779415,
          -9.98545382426636,
          -9.982817248535474,
          -9.979962062321748,
          -9.976888530819425,
          -9.973596939697549,
          -9.970087595116743,
          -9.96636082374715,
          -9.962416972787635,
          -9.958256409986117,
          -9.953879523661211,
          -9.94928672272503,
          -9.944478436707236,
          -9.939455115780252,
          -9.93421723078577,
          -9.928765273262478,
          -9.923099755474976,
          -9.917221210443909,
          -9.911130191977442,
          -9.904827274703852,
          -9.898313054105422,
          -9.891588146553566,
          -9.884653189345208,
          -9.877508840740363,
          -9.870155780001062,
          -9.862594707431418,
          -9.854826344419026,
          -9.846851433477587,
          -9.838670738290796,
          -9.830285043757486,
          -9.82169515603803,
          -9.812901902602027,
          -9.803906132277215,
          -9.79470871529967,
          -9.785310543365267,
          -9.775712529682401,
          -9.765915609025946,
          -9.755920737792522,
          -9.745728894056985,
          -9.73534107763017,
          -9.72475831011792,
          -9.713981634981325,
          -9.703012117598261,
          -9.691850845326089,
          -9.680498927565688,
          -9.66895749582664,
          -9.657227703793664,
          -9.645310727394298,
          -9.633207764867706,
          -9.62092003683479,
          -9.608448786369383,
          -9.595795279070707,
          -9.582960803136892,
          -9.569946669439727,
          -9.556754211600529,
          -9.543384786067067,
          -9.529839772191634,
          -9.516120572310188,
          -9.502228611822533,
          -9.48816533927351,
          -9.47393222643526,
          -9.459530768390398,
          -9.444962483616134,
          -9.430228914069385,
          -9.415331625272696,
          -9.400272206401041,
          -9.38505227036944,
          -9.369673453921342,
          -9.354137417717743,
          -9.338445846426952,
          -9.322600448815104,
          -9.3066029578371,
          -9.290455130728198,
          -9.274158749096049,
          -9.25771561901313,
          -9.24112757110954,
          -9.224396460666112,
          -9.207524167707655,
          -9.190512597096442,
          -9.173363678625686,
          -9.156079367113005,
          -9.138661642493815,
          -9.121112509914457,
          -9.103433999825125,
          -9.085628168072283,
          -9.067697095990662,
          -9.049642890494633,
          -9.031467684168797,
          -9.013173635357811,
          -8.994762928255131,
          -8.976237772990753,
          -8.957600405717617,
          -8.93885308869665,
          -8.919998110380275,
          -8.901037785494184,
          -8.881974455116989,
          -8.86281048675938,
          -8.843548274437216,
          -8.824190238747295,
          -8.80473882693672,
          -8.785196512970948,
          -8.765565797598601,
          -8.745849208413018,
          -8.726049299910324,
          -8.706168653543832,
          -8.686209877774447,
          -8.666175608116912,
          -8.646068507181553,
          -8.625891264711282,
          -8.605646597613568,
          -8.585337249987136,
          -8.564965993142957,
          -8.54453562561938,
          -8.524048973190913,
          -8.503508888870524,
          -8.482918252904852,
          -8.462279972762236,
          -8.441596983113019,
          -8.420872245801766,
          -8.400108749811137,
          -8.379309511216798,
          -8.358477573133172,
          -8.337616005649437,
          -8.316727905755425,
          -8.295816397256978,
          -8.274884630680214,
          -8.253935783164328,
          -8.232973058342393,
          -8.211999686209714,
          -8.191018922979108,
          -8.170034050922773,
          -8.149048378200082,
          -8.12806523867075,
          -8.107087991693012,
          -8.086120021905986,
          -8.06516473899587,
          -8.044225577445252,
          -8.023305996265062,
          -8.002409478708469,
          -7.981539531966211,
          -7.960699686842623,
          -7.939893497411941,
          -7.919124540654023,
          -7.898396416069086,
          -7.8777127452706575,
          -7.857077171556169,
          -7.836493359454691,
          -7.8159649942507805,
          -7.7954957814844015,
          -7.775089446425682,
          -7.754749733524273,
          -7.734480405832526,
          -7.714285244401932,
          -7.694168047652082,
          -7.674132630711739,
          -7.654182824731267,
          -7.634322476165915,
          -7.614555446029357,
          -7.594885609116926,
          -7.5753168531980855,
          -7.555853078177529,
          -7.536498195224471,
          -7.517256125869703,
          -7.498130801069854,
          -7.479126160238623,
          -7.460246150244471,
          -7.44149472437448,
          -7.422875841264155,
          -7.404393463792726,
          -7.386051557943959,
          -7.367854091632155,
          -7.349805033493253,
          -7.3319083516409815,
          -7.31416801238805,
          -7.296587978932405,
          -7.279172210008634,
          -7.261924658504763,
          -7.244849270044567,
          -7.227949981535799,
          -7.21123071968463,
          -7.194695399476784,
          -7.178347922625867,
          -7.162192175989578,
          -7.146232029954206,
          -7.130471336788632,
          -7.11491392896823,
          -7.099563617469883,
          -7.084424190038984,
          -7.069499409429644,
          -7.054793011619237,
          -7.040308703998639,
          -7.026050163539313,
          -7.01202103493921,
          -6.998224928748465,
          -6.984665419476995,
          -6.97134604368553,
          -6.95827029806201,
          -6.945441637485169,
          -6.932863473077575,
          -6.92053917024986,
          -6.908472046738746,
          -6.896665370640784,
          -6.885122358444373,
          -6.873846173062383,
          -6.862839921867981,
          -6.8521066547360565,
          -6.841649362093019,
          -6.8314709729776,
          -6.821574353115331,
          -6.811962303009544,
          -6.802637556051707,
          -6.793602776653869,
          -6.784860558406148,
          -6.776413422262152,
          -6.768263814755191,
          -6.760414106248168,
          -6.752866589220158,
          -6.745623476592371,
          -6.738686900096612,
          -6.732058908688705,
          -6.72574146701014,
          -6.71973645390022,
          -6.714045660961737,
          -6.708670791182632,
          -6.703613457616247,
          -6.698875182122581,
          -6.6944573941730265,
          -6.690361429720772,
          -6.686588530139087,
          -6.683139841229536,
          -6.6800164123021215,
          -6.677219195329016,
          -6.674749044173769,
          -6.672606713897359,
          -6.670792860142518,
          -6.669308038597677,
          -6.668152704541413,
          -6.667327212468576,
          -6.66683181579857,
          -6.666666666666666
         ]
        },
        {
         "line": {
          "color": "black",
          "dash": "dash",
          "width": 1
         },
         "mode": "lines",
         "name": "Eigenstate 5",
         "type": "scatter",
         "x": {
          "bdata": "AAAAAAAAAAC6V5cDY4WUP7pXlwNjhaQ/lwNjhRTIrj+6V5cDY4W0P6gtfcS7prk/lwNjhRTIvj/DbCSjtvTBP7pXlwNjhcQ/sUIKZA8Wxz+oLX3Eu6bJP6AY8CRoN8w/lwNjhRTIzj9H9+pyYKzQP8NsJKO29NE/PuJd0ww90z+6V5cDY4XUPzbN0DO5zdU/sUIKZA8W1z8tuEOUZV7YP6gtfcS7ptk/JKO29BHv2j+gGPAkaDfcPxuOKVW+f90/lwNjhRTI3j+JPM5aNQjgP0f36nJgrOA/BbIHi4tQ4T/DbCSjtvThP4EnQbvhmOI/PuJd0ww94z/8nHrrN+HjP7pXlwNjheQ/eBK0G44p5T82zdAzuc3lP/OH7UvkceY/sUIKZA8W5z9v/SZ8OrrnPy24Q5RlXug/63JgrJAC6T+oLX3Eu6bpP2bomdzmSuo/JKO29BHv6j/iXdMMPZPrP6AY8CRoN+w/XtMMPZPb7D8bjilVvn/tP9lIRm3pI+4/lwNjhRTI7j9Vvn+dP2zvP4k8zlo1CPA/6Jnc5kpa8D9H9+pyYKzwP6ZU+f51/vA/BbIHi4tQ8T9kDxYXoaLxP8NsJKO29PE/IsoyL8xG8j+BJ0G74ZjyP9+ET0f36vI/PuJd0ww98z+dP2xfIo/zP/yceus34fM/W/qId00z9D+6V5cDY4X0Pxm1pY941/Q/eBK0G44p9T/Xb8Kno3v1PzbN0DO5zfU/lSrfv84f9j/zh+1L5HH2P1Ll+9f5w/Y/sUIKZA8W9z8QoBjwJGj3P2/9Jnw6uvc/zlo1CFAM+D8tuEOUZV74P4wVUiB7sPg/63JgrJAC+T9K0G44plT5P6gtfcS7pvk/B4uLUNH4+T9m6Jnc5kr6P8VFqGj8nPo/JKO29BHv+j+DAMWAJ0H7P+Jd0ww9k/s/QbvhmFLl+z+gGPAkaDf8P/91/rB9ifw/XtMMPZPb/D+8MBvJqC39PxuOKVW+f/0/eus34dPR/T/ZSEZt6SP+PzimVPn+df4/lwNjhRTI/j/2YHERKhr/P1W+f50/bP8/tBuOKVW+/z+JPM5aNQgAQDlr1SBAMQBA6Jnc5kpaAECYyOOsVYMAQEf36nJgrABA9yXyOGvVAECmVPn+df4AQFWDAMWAJwFABbIHi4tQAUC04A5RlnkBQGQPFhehogFAEz4d3avLAUDDbCSjtvQBQHKbK2nBHQJAIsoyL8xGAkDR+Dn11m8CQIEnQbvhmAJAMFZIgezBAkDfhE9H9+oCQI+zVg0CFANAPuJd0ww9A0DuEGWZF2YDQJ0/bF8ijwNATW5zJS24A0D8nHrrN+EDQKzLgbFCCgRAW/qId00zBEALKZA9WFwEQLpXlwNjhQRAaYaeyW2uBEAZtaWPeNcEQMjjrFWDAAVAeBK0G44pBUAnQbvhmFIFQNdvwqejewVAhp7Jba6kBUA2zdAzuc0FQOX71/nD9gVAlSrfv84fBkBEWeaF2UgGQPOH7UvkcQZAo7b0Ee+aBkBS5fvX+cMGQAIUA54E7QZAsUIKZA8WB0BhcREqGj8HQBCgGPAkaAdAwM4fti+RB0Bv/SZ8OroHQB8sLkJF4wdAzlo1CFAMCEB9iTzOWjUIQC24Q5RlXghA3OZKWnCHCECMFVIge7AIQDtEWeaF2QhA63JgrJACCUCaoWdymysJQErQbjimVAlA+f51/rB9CUCoLX3Eu6YJQFhchIrGzwlAB4uLUNH4CUC3uZIW3CEKQGbomdzmSgpAFhehovFzCkDFRaho/JwKQHV0ry4HxgpAJKO29BHvCkDU0b26HBgLQIMAxYAnQQtAMi/MRjJqC0DiXdMMPZMLQJGM2tJHvAtAQbvhmFLlC0Dw6eheXQ4MQKAY8CRoNwxAT0f36nJgDED/df6wfYkMQK6kBXeIsgxAXtMMPZPbDEANAhQDngQNQLwwG8moLQ1AbF8ij7NWDUAbjilVvn8NQMu8MBvJqA1Aeus34dPRDUAqGj+n3voNQNlIRm3pIw5AiXdNM/RMDkA4plT5/nUOQOjUW78Jnw5AlwNjhRTIDkBGMmpLH/EOQPZgcREqGg9ApY941zRDD0BVvn+dP2wPQATthmNKlQ9AtBuOKVW+D0BjSpXvX+cPQIk8zlo1CBBA4dPRvbocEEA5a9UgQDEQQJAC2YPFRRBA6Jnc5kpaEEBAMeBJ0G4QQJjI46xVgxBA71/nD9uXEEBH9+pyYKwQQJ+O7tXlwBBA9yXyOGvVEEBOvfWb8OkQQKZU+f51/hBA/uv8YfsSEUBVgwDFgCcRQK0aBCgGPBFABbIHi4tQEUBdSQvuEGURQLTgDlGWeRFADHgStBuOEUBkDxYXoaIRQLymGXomtxFAEz4d3avLEUBr1SBAMeARQMNsJKO29BFAGgQoBjwJEkBymytpwR0SQMoyL8xGMhJAIsoyL8xGEkB5YTaSUVsSQNH4OfXWbxJAKZA9WFyEEkCBJ0G74ZgSQNi+RB5nrRJAMFZIgezBEkCI7UvkcdYSQN+ET0f36hJANxxTqnz/EkCPs1YNAhQTQOdKWnCHKBNAPuJd0ww9E0CWeWE2klETQO4QZZkXZhNARqho/Jx6E0CdP2xfIo8TQPXWb8KnoxNATW5zJS24E0CkBXeIsswTQPyceus34RNAVDR+Tr31E0Csy4GxQgoUQANjhRTIHhRAW/qId00zFECzkYza0kcUQAspkD1YXBRAYsCToN1wFEC6V5cDY4UUQBLvmmbomRRAaYaeyW2uFEDBHaIs88IUQBm1pY941xRAcUyp8v3rFEDI46xVgwAVQCB7sLgIFRVAeBK0G44pFUDQqbd+Ez4VQCdBu+GYUhVAf9i+RB5nFUDXb8Kno3sVQC4HxgopkBVAhp7Jba6kFUDeNc3QM7kVQDbN0DO5zRVAjWTUlj7iFUDl+9f5w/YVQD2T21xJCxZAlSrfv84fFkDsweIiVDQWQERZ5oXZSBZAnPDp6F5dFkDzh+1L5HEWQEsf8a5phhZAo7b0Ee+aFkD7Tfh0dK8WQFLl+9f5wxZAqnz/On/YFkACFAOeBO0WQFqrBgGKARdAsUIKZA8WF0AJ2g3HlCoXQGFxESoaPxdAuAgVjZ9TF0AQoBjwJGgXQGg3HFOqfBdAwM4fti+RF0AXZiMZtaUXQG/9Jnw6uhdAx5Qq37/OF0AfLC5CReMXQHbDMaXK9xdAzlo1CFAMGEAm8jhr1SAYQH2JPM5aNRhA1SBAMeBJGEAtuEOUZV4YQIVPR/fqchhA3OZKWnCHGEA0fk699ZsYQIwVUiB7sBhA5KxVgwDFGEA7RFnmhdkYQJPbXEkL7hhA63JgrJACGUBCCmQPFhcZQJqhZ3KbKxlA8jhr1SBAGUBK0G44plQZQKFncpsraRlA+f51/rB9GUBRlnlhNpIZQKgtfcS7phlAAMWAJ0G7GUBYXISKxs8ZQLDzh+1L5BlAB4uLUNH4GUBfIo+zVg0aQLe5khbcIRpAD1GWeWE2GkBm6Jnc5koaQL5/nT9sXxpAFhehovFzGkBtrqQFd4gaQMVFqGj8nBpAHd2ry4GxGkB1dK8uB8YaQMwLs5GM2hpAJKO29BHvGkB8OrpXlwMbQNTRvbocGBtAK2nBHaIsG0CDAMWAJ0EbQNuXyOOsVRtAMi/MRjJqG0CKxs+pt34bQOJd0ww9kxtAOvXWb8KnG0CRjNrSR7wbQOkj3jXN0BtAQbvhmFLlG0CZUuX71/kbQPDp6F5dDhxASIHsweIiHECgGPAkaDccQPev84ftSxxAT0f36nJgHECn3vpN+HQcQP91/rB9iRxAVg0CFAOeHECupAV3iLIcQAY8CdoNxxxAXtMMPZPbHEC1ahCgGPAcQA0CFAOeBB1AZZkXZiMZHUC8MBvJqC0dQBTIHiwuQh1AbF8ij7NWHUDE9iXyOGsdQBuOKVW+fx1AcyUtuEOUHUDLvDAbyagdQCNUNH5OvR1Aeus34dPRHUDSgjtEWeYdQCoaP6fe+h1AgbFCCmQPHkDZSEZt6SMeQDHgSdBuOB5AiXdNM/RMHkDgDlGWeWEeQDimVPn+dR5AkD1YXISKHkDo1Fu/CZ8eQD9sXyKPsx5AlwNjhRTIHkDvmmbomdweQEYyaksf8R5AnsltrqQFH0D2YHERKhofQE74dHSvLh9ApY941zRDH0D9Jnw6ulcfQFW+f50/bB9ArVWDAMWAH0AE7YZjSpUfQFyEisbPqR9AtBuOKVW+H0ALs5GM2tIfQGNKle9f5x9Au+GYUuX7H0CJPM5aNQggQDUIUAx4EiBA4dPRvbocIECNn1Nv/SYgQDlr1SBAMSBA5TZX0oI7IECQAtmDxUUgQDzOWjUIUCBA6Jnc5kpaIECUZV6YjWQgQEAx4EnQbiBA7Pxh+xJ5IECYyOOsVYMgQESUZV6YjSBA71/nD9uXIECbK2nBHaIgQEf36nJgrCBA88JsJKO2IECfju7V5cAgQEtacIcoyyBA9yXyOGvVIECi8XPqrd8gQE699Zvw6SBA+oh3TTP0IECmVPn+df4gQFIge7C4CCFA/uv8YfsSIUCqt34TPh0hQFWDAMWAJyFAAU+CdsMxIUCtGgQoBjwhQFnmhdlIRiFABbIHi4tQIUCxfYk8zlohQF1JC+4QZSFACRWNn1NvIUC04A5RlnkhQGCskALZgyFADHgStBuOIUC4Q5RlXpghQGQPFhehoiFAENuXyOOsIUC8phl6JrchQGdymytpwSFAEz4d3avLIUC/CZ+O7tUhQGvVIEAx4CFAF6Gi8XPqIUDDbCSjtvQhQG84plT5/iFAGgQoBjwJIkDGz6m3fhMiQHKbK2nBHSJAHmetGgQoIkDKMi/MRjIiQHb+sH2JPCJAIsoyL8xGIkDOlbTgDlEiQHlhNpJRWyJAJS24Q5RlIkDR+Dn11m8iQH3Eu6YZeiJAKZA9WFyEIkDVW78Jn44iQIEnQbvhmCJALPPCbCSjIkDYvkQeZ60iQISKxs+ptyJAMFZIgezBIkDcIcoyL8wiQIjtS+Rx1iJANLnNlbTgIkDfhE9H9+oiQItQ0fg59SJANxxTqnz/IkDj59RbvwkjQI+zVg0CFCNAO3/YvkQeI0DnSlpwhygjQJMW3CHKMiNAPuJd0ww9I0Dqrd+ET0cjQJZ5YTaSUSNAQkXj59RbI0DuEGWZF2YjQJrc5kpacCNARqho/Jx6I0Dxc+qt34QjQJ0/bF8ijyNASQvuEGWZI0D11m/Cp6MjQKGi8XPqrSNATW5zJS24I0D5OfXWb8IjQKQFd4iyzCNAUNH4OfXWI0D8nHrrN+EjQKho/Jx66yNAVDR+Tr31I0AAAAAAAAAkQA==",
          "dtype": "f8"
         },
         "y": [
          6.666666666666666,
          6.666831815798568,
          6.667327212468576,
          6.668152704541409,
          6.669308038597677,
          6.670792860142514,
          6.67260671389736,
          6.674749044173767,
          6.677219195329016,
          6.680016412302121,
          6.683139841229538,
          6.686588530139087,
          6.6903614297207765,
          6.6944573941730265,
          6.698875182122583,
          6.703613457616248,
          6.708670791182634,
          6.7140456609617365,
          6.719736453900219,
          6.72574146701014,
          6.732058908688704,
          6.73868690009661,
          6.745623476592373,
          6.752866589220156,
          6.7604141062481675,
          6.768263814755194,
          6.776413422262157,
          6.784860558406148,
          6.79360277665387,
          6.8026375560517085,
          6.811962303009541,
          6.8215743531153334,
          6.831470972977602,
          6.84164936209302,
          6.852106654736053,
          6.86283992186798,
          6.873846173062382,
          6.885122358444373,
          6.896665370640786,
          6.908472046738748,
          6.920539170249861,
          6.932863473077571,
          6.94544163748517,
          6.9582702980620095,
          6.971346043685533,
          6.984665419476949,
          6.9982249287484635,
          7.01202103493921,
          7.026050163539313,
          7.040308703998639,
          7.054793011619252,
          7.069499409429643,
          7.084424190038982,
          7.099563617469885,
          7.1149139289682335,
          7.130471336788632,
          7.146232029954205,
          7.1621921759895795,
          7.178347922625878,
          7.194695399476785,
          7.2112307196846315,
          7.227949981535801,
          7.244849270044567,
          7.261924658504763,
          7.279172210008636,
          7.296587978932408,
          7.314168012388055,
          7.331908351640982,
          7.349805033493253,
          7.3678540916321555,
          7.386051557943954,
          7.404393463792723,
          7.422875841264155,
          7.4414947243744844,
          7.460246150244469,
          7.479126160238622,
          7.498130801069852,
          7.517256125869702,
          7.536498195224473,
          7.5558530781775275,
          7.575316853198086,
          7.5948856091169255,
          7.614555446029353,
          7.634322476165919,
          7.654182824731266,
          7.67413263071173,
          7.694168047652082,
          7.714285244401932,
          7.734480405832533,
          7.754749733524272,
          7.77508944642568,
          7.795495781484398,
          7.815964994250782,
          7.83649335945469,
          7.857077171556184,
          7.877712745270668,
          7.898396416069099,
          7.919124540654035,
          7.939893497411954,
          7.960699686842634,
          7.981539531966221,
          8.002409478708486,
          8.023305996265071,
          8.044225577445264,
          8.065164738995886,
          8.086120021906003,
          8.107087991693026,
          8.128065238670743,
          8.14904837820009,
          8.17003405092279,
          8.19101892297912,
          8.211999686209728,
          8.23297305834241,
          8.253935783164339,
          8.274884630680228,
          8.295816397256994,
          8.31672790575544,
          8.337616005649448,
          8.35847757313318,
          8.379309511216809,
          8.400108749811148,
          8.420872245801778,
          8.441596983113032,
          8.462279972762252,
          8.482918252904867,
          8.503508888870536,
          8.524048973190931,
          8.544535625619375,
          8.564965993142973,
          8.585337249987148,
          8.60564659761358,
          8.62589126471129,
          8.646068507181562,
          8.666175608116925,
          8.686209877774457,
          8.706168653543841,
          8.726049299910336,
          8.745849208413027,
          8.765565797598617,
          8.78519651297096,
          8.804738826936733,
          8.824190238747308,
          8.843548274437225,
          8.862810486759392,
          8.881974455117252,
          8.901037785494193,
          8.919998110380284,
          8.93885308869666,
          8.957600405717626,
          8.976237772990762,
          8.994762928255144,
          9.01317363535782,
          9.031467684168808,
          9.049642890494638,
          9.06769709599067,
          9.085628168072288,
          9.103433999825128,
          9.121112509914465,
          9.13866164249382,
          9.156079367113009,
          9.173363678625696,
          9.190512597096452,
          9.207524167707666,
          9.22439646066612,
          9.241127571109555,
          9.25771561901314,
          9.274158749096056,
          9.29045513072821,
          9.306602957837113,
          9.322600448815118,
          9.338445846426964,
          9.354137417717748,
          9.369673453921353,
          9.38505227036945,
          9.400272206401052,
          9.415331625272707,
          9.430228914069396,
          9.444962483616147,
          9.45953076839041,
          9.473932226435275,
          9.488165339273523,
          9.502228611822543,
          9.5161205723102,
          9.529839772191645,
          9.543384786067078,
          9.556754211600543,
          9.569946669439739,
          9.582960803136901,
          9.595795279070721,
          9.608448786369403,
          9.620920036834802,
          9.633207764867715,
          9.645310727394307,
          9.65722770379368,
          9.668957495826653,
          9.680498927565704,
          9.691850845326103,
          9.703012117598274,
          9.713981634981337,
          9.72475831011793,
          9.735341077630181,
          9.745728894056995,
          9.755920737792534,
          9.765915609025958,
          9.775712529682412,
          9.785310543365279,
          9.794708715299679,
          9.803906132277225,
          9.812901902602036,
          9.821695156038045,
          9.830285043757495,
          9.838670738290812,
          9.8468514334776,
          9.85482634441904,
          9.862594707431432,
          9.870155780001076,
          9.877508840740376,
          9.884653189345215,
          9.891588146553579,
          9.898313054105435,
          9.904827274703864,
          9.911130191977454,
          9.917221210443923,
          9.923099755474986,
          9.928765273262492,
          9.934217230785782,
          9.939455115780259,
          9.944478436707248,
          9.949286722725043,
          9.953879523661223,
          9.958256409986125,
          9.962416972787645,
          9.966360823747168,
          9.970087595116755,
          9.97359693969756,
          9.976888530819437,
          9.979962062321762,
          9.982817248535486,
          9.985453824266367,
          9.987871544779427,
          9.990070185784614,
          9.992049543423633,
          9.993809434258036,
          9.995349695258458,
          9.996670183795075,
          9.997770777629242,
          9.998651374906366,
          9.999311894149917,
          9.999752274256664,
          9.999972474493116,
          9.999972474493118,
          9.999752274256666,
          9.999311894149917,
          9.998651374906364,
          9.997770777629244,
          9.996670183795073,
          9.99534969525846,
          9.993809434258035,
          9.992049543423633,
          9.99007018578461,
          9.987871544779429,
          9.985453824266367,
          9.982817248535484,
          9.979962062321762,
          9.976888530819437,
          9.97359693969756,
          9.970087595116754,
          9.966360823747168,
          9.962416972787645,
          9.958256409986127,
          9.953879523661222,
          9.949286722725043,
          9.944478436707247,
          9.93945511578026,
          9.934217230785782,
          9.928765273262492,
          9.923099755474986,
          9.917221210443921,
          9.911130191977454,
          9.904827274703864,
          9.898313054105435,
          9.891588146553582,
          9.884653189345217,
          9.877508840740374,
          9.870155780001074,
          9.862594707431432,
          9.85482634441904,
          9.846851433477601,
          9.83867073829081,
          9.830285043757499,
          9.821695156038043,
          9.812901902602038,
          9.803906132277225,
          9.794708715299679,
          9.785310543365279,
          9.775712529682412,
          9.765915609025958,
          9.755920737792534,
          9.745728894056997,
          9.735341077630181,
          9.724758310117927,
          9.713981634981339,
          9.703012117598274,
          9.691850845326101,
          9.680498927565703,
          9.668957495826653,
          9.65722770379368,
          9.645310727394307,
          9.633207764867715,
          9.620920036834802,
          9.6084487863694,
          9.595795279070721,
          9.582960803136901,
          9.56994666943974,
          9.556754211600541,
          9.54338478606708,
          9.529839772191643,
          9.516120572310202,
          9.502228611822545,
          9.488165339273522,
          9.473932226435274,
          9.45953076839041,
          9.444962483616147,
          9.430228914069398,
          9.415331625272712,
          9.400272206401054,
          9.385052270369451,
          9.369673453921354,
          9.354137417717753,
          9.338445846426964,
          9.322600448815118,
          9.306602957837114,
          9.29045513072821,
          9.274158749096056,
          9.25771561901314,
          9.241127571109555,
          9.224396460666123,
          9.207524167707668,
          9.190512597096452,
          9.173363678625693,
          9.156079367113017,
          9.138661642493824,
          9.121112509914465,
          9.103433999825132,
          9.08562816807229,
          9.067697095990672,
          9.04964289049464,
          9.031467684168806,
          9.01317363535782,
          8.994762928255142,
          8.976237772990766,
          8.957600405717626,
          8.93885308869666,
          8.919998110380288,
          8.901037785494195,
          8.881974455117252,
          8.862810486759392,
          8.843548274437229,
          8.82419023874731,
          8.804738826936735,
          8.78519651297096,
          8.765565797598615,
          8.74584920841303,
          8.726049299910336,
          8.706168653543843,
          8.68620987777446,
          8.666175608116925,
          8.646068507181564,
          8.625891264711292,
          8.605646597613582,
          8.58533724998715,
          8.564965993142973,
          8.544535625619393,
          8.524048973190927,
          8.50350888887054,
          8.482918252904867,
          8.462279972762252,
          8.441596983113032,
          8.42087224580178,
          8.400108749811151,
          8.37930951121681,
          8.358477573133184,
          8.337616005649448,
          8.316727905755437,
          8.295816397256994,
          8.274884630680228,
          8.25393578316434,
          8.232973058342406,
          8.211999686209728,
          8.191018922979122,
          8.170034050922792,
          8.149048378200094,
          8.128065238670763,
          8.107087991693026,
          8.086120021906,
          8.065164738995888,
          8.044225577445266,
          8.023305996265071,
          8.002409478708483,
          7.981539531966224,
          7.960699686842635,
          7.939893497411952,
          7.919124540654037,
          7.8983964160691,
          7.877712745270669,
          7.857077171556184,
          7.8364933594546935,
          7.815964994250785,
          7.7954957814844015,
          7.775089446425681,
          7.754749733524272,
          7.734480405832529,
          7.714285244401928,
          7.694168047652082,
          7.674132630711738,
          7.654182824731263,
          7.63432247616592,
          7.614555446029355,
          7.594885609116927,
          7.575316853198086,
          7.555853078177528,
          7.536498195224472,
          7.5172561258697,
          7.498130801069855,
          7.479126160238621,
          7.46024615024447,
          7.441494724374482,
          7.422875841264153,
          7.404393463792728,
          7.386051557943958,
          7.367854091632158,
          7.349805033493254,
          7.331908351640983,
          7.31416801238805,
          7.296587978932407,
          7.279172210008636,
          7.261924658504765,
          7.244849270044568,
          7.227949981535801,
          7.211230719684636,
          7.194695399476785,
          7.178347922625846,
          7.162192175989581,
          7.1462320299542075,
          7.130471336788631,
          7.114913928968235,
          7.099563617469881,
          7.084424190038983,
          7.069499409429644,
          7.05479301161927,
          7.04030870399864,
          7.026050163539314,
          7.0120210349392105,
          6.998224928748465,
          6.984665419476999,
          6.971346043685532,
          6.958270298062006,
          6.945441637485169,
          6.932863473077576,
          6.92053917024986,
          6.9084720467387495,
          6.896665370640784,
          6.88512235844437,
          6.873846173062382,
          6.86283992186798,
          6.852106654736055,
          6.841649362093024,
          6.831470972977603,
          6.821574353115334,
          6.811962303009544,
          6.802637556051705,
          6.793602776653872,
          6.784860558406151,
          6.7764134222621575,
          6.768263814755196,
          6.760414106248169,
          6.7528665892201545,
          6.745623476592374,
          6.738686900096612,
          6.732058908688704,
          6.725741467010141,
          6.71973645390022,
          6.7140456609617365,
          6.708670791182634,
          6.703613457616251,
          6.698875182122585,
          6.6944573941730265,
          6.69036142972077,
          6.686588530139087,
          6.683139841229539,
          6.680016412302123,
          6.677219195329017,
          6.674749044173769,
          6.67260671389736,
          6.670792860142516,
          6.669308038597677,
          6.668152704541414,
          6.667327212468576,
          6.666831815798568,
          6.666666666666666
         ]
        },
        {
         "line": {
          "color": "black",
          "dash": "dash",
          "width": 1
         },
         "mode": "lines",
         "name": "Eigenstate 6",
         "type": "scatter",
         "x": {
          "bdata": "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",
          "dtype": "f8"
         },
         "y": [
          6.666666666666666,
          6.66683181579857,
          6.667327212468578,
          6.668152704541419,
          6.669308038597678,
          6.670792860142523,
          6.672606713897363,
          6.674749044173773,
          6.67721919532902,
          6.680016412302128,
          6.68313984122954,
          6.6865885301390895,
          6.690361429720782,
          6.69445739417303,
          6.698875182122587,
          6.7036134576162585,
          6.7086707911826355,
          6.714045660961738,
          6.719736453900221,
          6.725741467010142,
          6.7320589086887095,
          6.738686900096612,
          6.745623476592379,
          6.752866589220167,
          6.760414106248173,
          6.768263814755194,
          6.776413422262158,
          6.78486055840615,
          6.793602776653881,
          6.80263755605171,
          6.8119623030095475,
          6.8215743531153334,
          6.831470972977604,
          6.841649362093027,
          6.8521066547360565,
          6.862839921867993,
          6.873846173062383,
          6.885122358444379,
          6.896665370640791,
          6.908472046738752,
          6.920539170249869,
          6.932863473077576,
          6.945441637485174,
          6.95827029806202,
          6.971346043685537,
          6.984665419476992,
          6.998224928748471,
          7.012021034939212,
          7.026050163539317,
          7.040308703998643,
          7.054793011619264,
          7.069499409429645,
          7.084424190038984,
          7.099563617469888,
          7.114913928968234,
          7.1304713367886325,
          7.146232029954206,
          7.162192175989583,
          7.178347922625881,
          7.194695399476791,
          7.211230719684632,
          7.227949981535804,
          7.2448492700445755,
          7.261924658504766,
          7.279172210008637,
          7.29658797893241,
          7.314168012388063,
          7.331908351640987,
          7.349805033493254,
          7.367854091632156,
          7.3860515579439605,
          7.404393463792727,
          7.422875841264157,
          7.441494724374487,
          7.46024615024447,
          7.479126160238632,
          7.498130801069854,
          7.5172561258697055,
          7.536498195224474,
          7.5558530781775275,
          7.575316853198089,
          7.594885609116929,
          7.6145554460293585,
          7.634322476165922,
          7.6541828247312775,
          7.674132630711737,
          7.694168047652085,
          7.714285244401936,
          7.734480405832539,
          7.754749733524273,
          7.775089446425682,
          7.795495781484404,
          7.815964994250785,
          7.836493359454691,
          7.857077171556189,
          7.877712745270672,
          7.898396416069106,
          7.919124540654041,
          7.939893497411961,
          7.96069968684264,
          7.981539531966223,
          8.002409478708493,
          8.023305996265076,
          8.044225577445266,
          8.065164738995888,
          8.086120021906009,
          8.107087991693028,
          8.128065238670759,
          8.149048378200092,
          8.170034050922798,
          8.191018922979122,
          8.211999686209731,
          8.232973058342417,
          8.25393578316434,
          8.27488463068023,
          8.295816397256997,
          8.316727905755448,
          8.33761600564945,
          8.358477573133186,
          8.379309511216814,
          8.40010874981115,
          8.420872245801784,
          8.441596983113035,
          8.462279972762255,
          8.48291825290487,
          8.503508888870542,
          8.524048973190938,
          8.54453562561939,
          8.564965993142977,
          8.585337249987148,
          8.605646597613584,
          8.62589126471129,
          8.646068507181567,
          8.666175608116928,
          8.68620987777446,
          8.706168653543843,
          8.726049299910336,
          8.745849208413032,
          8.76556579759862,
          8.785196512970963,
          8.804738826936736,
          8.82419023874731,
          8.843548274437232,
          8.862810486759395,
          8.881974455117257,
          8.901037785494196,
          8.919998110380476,
          8.938853088696662,
          8.957600405717628,
          8.976237772990766,
          8.994762928255144,
          9.01317363535782,
          9.031467684168815,
          9.04964289049464,
          9.06769709599067,
          9.08562816807229,
          9.103433999825135,
          9.121112509914472,
          9.13866164249382,
          9.156079367113012,
          9.173363678625702,
          9.190512597096458,
          9.20752416770767,
          9.224396460666123,
          9.241127571109555,
          9.257715619013144,
          9.274158749096063,
          9.290455130728214,
          9.306602957837114,
          9.322600448815125,
          9.33844584642697,
          9.354137417717752,
          9.36967345392136,
          9.385052270369457,
          9.400272206401057,
          9.415331625272712,
          9.430228914069403,
          9.44496248361615,
          9.459530768390414,
          9.473932226435284,
          9.488165339273529,
          9.502228611822545,
          9.516120572310204,
          9.529839772191645,
          9.54338478606708,
          9.556754211600545,
          9.569946669439746,
          9.582960803136904,
          9.595795279070721,
          9.608448786369404,
          9.620920036834802,
          9.633207764867716,
          9.645310727394314,
          9.657227703793682,
          9.668957495826659,
          9.68049892756571,
          9.69185084532611,
          9.703012117598275,
          9.713981634981343,
          9.724758310117936,
          9.735341077630187,
          9.745728894056999,
          9.75592073779254,
          9.76591560902596,
          9.775712529682414,
          9.785310543365286,
          9.794708715299683,
          9.803906132277227,
          9.812901902602041,
          9.821695156038045,
          9.8302850437575,
          9.838670738290814,
          9.846851433477607,
          9.854826344419045,
          9.862594707431434,
          9.870155780001078,
          9.87750884074038,
          9.884653189345219,
          9.891588146553582,
          9.898313054105436,
          9.904827274703866,
          9.911130191977458,
          9.917221210443923,
          9.923099755474988,
          9.928765273262494,
          9.934217230785787,
          9.939455115780262,
          9.944478436707252,
          9.94928672272505,
          9.953879523661223,
          9.958256409986129,
          9.96241697278765,
          9.966360823747172,
          9.970087595116759,
          9.973596939697563,
          9.976888530819437,
          9.979962062321762,
          9.982817248535488,
          9.985453824266369,
          9.987871544779434,
          9.990070185784619,
          9.992049543423636,
          9.993809434258042,
          9.995349695258462,
          9.996670183795075,
          9.997770777629247,
          9.99865137490637,
          9.999311894149919,
          9.999752274256668,
          9.999972474493118,
          9.999972474493118,
          9.999752274256668,
          9.999311894149919,
          9.99865137490637,
          9.997770777629247,
          9.996670183795075,
          9.995349695258462,
          9.993809434258042,
          9.99204954342364,
          9.990070185784619,
          9.987871544779434,
          9.98545382426637,
          9.982817248535488,
          9.979962062321762,
          9.976888530819437,
          9.973596939697565,
          9.970087595116759,
          9.966360823747172,
          9.962416972787649,
          9.958256409986129,
          9.953879523661225,
          9.94928672272505,
          9.944478436707252,
          9.93945511578026,
          9.934217230785785,
          9.9287652732625,
          9.923099755474988,
          9.917221210443923,
          9.911130191977456,
          9.904827274703866,
          9.898313054105436,
          9.891588146553582,
          9.88465318934522,
          9.877508840740381,
          9.87015578000108,
          9.862594707431434,
          9.854826344419044,
          9.846851433477607,
          9.838670738290816,
          9.8302850437575,
          9.821695156038045,
          9.812901902602043,
          9.803906132277229,
          9.794708715299684,
          9.785310543365284,
          9.775712529682414,
          9.765915609025958,
          9.755920737792541,
          9.745728894057,
          9.735341077630185,
          9.72475831011793,
          9.713981634981344,
          9.703012117598277,
          9.691850845326108,
          9.680498927565708,
          9.66895749582666,
          9.657227703793684,
          9.645310727394314,
          9.633207764867722,
          9.620920036834802,
          9.608448786369403,
          9.595795279070721,
          9.582960803136904,
          9.569946669439744,
          9.556754211600547,
          9.543384786067085,
          9.52983977219165,
          9.516120572310205,
          9.502228611822545,
          9.488165339273529,
          9.47393222643528,
          9.459530768390417,
          9.44496248361615,
          9.430228914069403,
          9.415331625272714,
          9.400272206401059,
          9.385052270369458,
          9.36967345392136,
          9.354137417717753,
          9.33844584642697,
          9.322600448815123,
          9.306602957837118,
          9.290455130728214,
          9.274158749096062,
          9.257715619013142,
          9.241127571109557,
          9.224396460666124,
          9.207524167707671,
          9.190512597096458,
          9.1733636786257,
          9.156079367113021,
          9.138661642493824,
          9.121112509914472,
          9.103433999825137,
          9.08562816807229,
          9.067697095990672,
          9.049642890494646,
          9.031467684168812,
          9.01317363535782,
          8.994762928255142,
          8.976237772990766,
          8.957600405717628,
          8.938853088696664,
          8.919998110380291,
          8.901037785494195,
          8.881974455117302,
          8.862810486759399,
          8.843548274437234,
          8.824190238747313,
          8.804738826936738,
          8.785196512970963,
          8.765565797598622,
          8.745849208413032,
          8.726049299910336,
          8.706168653543843,
          8.686209877774461,
          8.666175608116928,
          8.646068507181567,
          8.625891264711294,
          8.605646597613585,
          8.585337249987152,
          8.564965993142977,
          8.544535625619396,
          8.524048973190933,
          8.503508888870545,
          8.482918252904872,
          8.462279972762255,
          8.441596983113037,
          8.420872245801784,
          8.400108749811151,
          8.379309511216816,
          8.358477573133188,
          8.33761600564945,
          8.316727905755444,
          8.295816397256996,
          8.27488463068023,
          8.253935783164343,
          8.232973058342413,
          8.211999686209731,
          8.191018922979126,
          8.170034050922798,
          8.149048378200094,
          8.12806523867077,
          8.107087991693028,
          8.086120021906007,
          8.065164738995888,
          8.044225577445271,
          8.023305996265078,
          8.002409478708486,
          7.981539531966225,
          7.96069968684264,
          7.9398934974119575,
          7.9191245406540425,
          7.898396416069105,
          7.877712745270673,
          7.85707717155619,
          7.836493359454695,
          7.8159649942507885,
          7.795495781484405,
          7.775089446425683,
          7.754749733524273,
          7.734480405832535,
          7.714285244401935,
          7.694168047652085,
          7.674132630711739,
          7.654182824731273,
          7.634322476165924,
          7.614555446029357,
          7.594885609116933,
          7.575316853198089,
          7.555853078177528,
          7.536498195224476,
          7.517256125869706,
          7.498130801069857,
          7.479126160238628,
          7.46024615024447,
          7.441494724374486,
          7.422875841264158,
          7.4043934637927284,
          7.386051557943965,
          7.367854091632158,
          7.349805033493254,
          7.331908351640989,
          7.314168012388059,
          7.2965879789324095,
          7.279172210008637,
          7.261924658504768,
          7.244849270044573,
          7.227949981535807,
          7.211230719684639,
          7.194695399476792,
          7.178347922625878,
          7.162192175989585,
          7.1462320299542075,
          7.130471336788639,
          7.114913928968236,
          7.099563617469888,
          7.084424190038986,
          7.069499409429646,
          7.054793011619357,
          7.0403087039986465,
          7.026050163539318,
          7.012021034939214,
          6.998224928748468,
          6.984665419477002,
          6.9713460436855375,
          6.958270298062017,
          6.945441637485176,
          6.932863473077578,
          6.920539170249867,
          6.908472046738753,
          6.89666537064079,
          6.885122358444379,
          6.873846173062383,
          6.862839921867988,
          6.852106654736059,
          6.841649362093027,
          6.831470972977604,
          6.821574353115334,
          6.8119623030095475,
          6.802637556051707,
          6.793602776653877,
          6.784860558406152,
          6.776413422262159,
          6.768263814755196,
          6.760414106248172,
          6.7528665892201625,
          6.745623476592378,
          6.738686900096612,
          6.732058908688709,
          6.725741467010143,
          6.719736453900222,
          6.714045660961738,
          6.7086707911826355,
          6.703613457616254,
          6.69887518212259,
          6.69445739417303,
          6.690361429720776,
          6.6865885301390895,
          6.683139841229541,
          6.680016412302126,
          6.6772191953290205,
          6.674749044173776,
          6.672606713897363,
          6.670792860142527,
          6.669308038597678,
          6.6681527045414235,
          6.667327212468578,
          6.66683181579857,
          6.666666666666666
         ]
        },
        {
         "line": {
          "color": "black",
          "dash": "dash",
          "width": 1
         },
         "mode": "lines",
         "name": "Eigenstate 7",
         "type": "scatter",
         "x": {
          "bdata": "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",
          "dtype": "f8"
         },
         "y": [
          93.33333333333333,
          93.33316818420144,
          93.33267278753142,
          93.33184729545859,
          93.33069196140232,
          93.32920713985749,
          93.32739328610265,
          93.32525095582623,
          93.322780804671,
          93.31998358769788,
          93.31686015877048,
          93.31341146986091,
          93.30963857027922,
          93.30554260582699,
          93.30112481787742,
          93.29638654238376,
          93.29132920881737,
          93.28595433903827,
          93.28026354609977,
          93.27425853298986,
          93.2679410913113,
          93.26131309990339,
          93.25437652340763,
          93.24713341077984,
          93.23958589375184,
          93.23173618524481,
          93.22358657773785,
          93.21513944159386,
          93.20639722334613,
          93.1973624439483,
          93.18803769699046,
          93.17842564688468,
          93.1685290270224,
          93.15835063790698,
          93.14789334526395,
          93.13716007813201,
          93.12615382693762,
          93.11487764155562,
          93.10333462935922,
          93.09152795326125,
          93.07946082975013,
          93.06713652692243,
          93.05455836251484,
          93.04172970193798,
          93.02865395631447,
          93.01533458052296,
          93.00177507125147,
          92.98797896506079,
          92.9739498364607,
          92.95969129600137,
          92.94520698838075,
          92.93050059057036,
          92.91557580996101,
          92.90043638253013,
          92.88508607103176,
          92.86952866321137,
          92.8537679700458,
          92.83780782401043,
          92.82165207737413,
          92.80530460052321,
          92.78876928031536,
          92.77205001846421,
          92.75515072995543,
          92.73807534149523,
          92.72082778999138,
          92.70341202106759,
          92.68583198761195,
          92.66809164835902,
          92.65019496650675,
          92.63214590836785,
          92.61394844205606,
          92.59560653620728,
          92.57712415873586,
          92.55850527562552,
          92.53975384975554,
          92.52087383976138,
          92.50186919893015,
          92.4827438741303,
          92.46350180477553,
          92.44414692182248,
          92.42468314680191,
          92.40511439088306,
          92.38544455397064,
          92.36567752383408,
          92.34581717526873,
          92.32586736928826,
          92.30583195234793,
          92.28571475559808,
          92.26551959416747,
          92.24525026647574,
          92.22491055357432,
          92.20450421851561,
          92.18403500574922,
          92.16350664054531,
          92.14292282844383,
          92.12228725472934,
          92.10160358393091,
          92.08087545934598,
          92.06010650258806,
          92.03930031315737,
          92.01846046803378,
          91.99759052129153,
          91.97669400373495,
          91.95577442255474,
          91.93483526100412,
          91.913879978094,
          91.89291200830698,
          91.87193476132923,
          91.85095162179991,
          91.82996594907722,
          91.80898107702089,
          91.78800031379029,
          91.7670269416576,
          91.74606421683566,
          91.72511536931978,
          91.70418360274303,
          91.68327209424457,
          91.66238399435056,
          91.64152242686683,
          91.6206904887832,
          91.59989125018886,
          91.57912775419823,
          91.55840301688697,
          91.53772002723775,
          91.51708174709515,
          91.49649111112942,
          91.47595102680907,
          91.45546437438058,
          91.43503400685704,
          91.41466275001287,
          91.39435340238643,
          91.37410873528871,
          91.35393149281845,
          91.33382439188308,
          91.31379012222556,
          91.29383134645616,
          91.27395070008967,
          91.25415079158698,
          91.23443420240139,
          91.21480348702904,
          91.19526117306327,
          91.1758097612527,
          91.15645172556279,
          91.13718951324061,
          91.11802554488276,
          91.0989622145058,
          91.0800018896197,
          91.06114691130335,
          91.04239959428239,
          91.02376222700924,
          91.00523707174486,
          90.98682636464218,
          90.9685323158312,
          90.95035710950538,
          90.93230290400933,
          90.91437183192772,
          90.89656600017489,
          90.87888749008555,
          90.86133835750618,
          90.84392063288695,
          90.82663632137431,
          90.80948740290356,
          90.79247583229234,
          90.77560353933389,
          90.75887242889046,
          90.74228438098686,
          90.72584125090395,
          90.70954486927181,
          90.6933970421629,
          90.67739955118489,
          90.66155415357304,
          90.64586258228226,
          90.63032654607866,
          90.61494772963056,
          90.59972779359896,
          90.5846683747273,
          90.56977108593061,
          90.55503751638386,
          90.5404692316096,
          90.52606777356473,
          90.51183466072649,
          90.49777138817747,
          90.48387942768981,
          90.47016022780835,
          90.45661521393293,
          90.44324578839948,
          90.43005333056027,
          90.41703919686312,
          90.40420472092929,
          90.3915512136306,
          90.37907996316521,
          90.36679223513228,
          90.3546892726057,
          90.34277229620633,
          90.33104250417335,
          90.3195010724343,
          90.30814915467391,
          90.29698788240174,
          90.28601836501868,
          90.27524168988208,
          90.26465892236982,
          90.254271105943,
          90.24407926220748,
          90.23408439097405,
          90.22428747031759,
          90.21468945663472,
          90.20529128470032,
          90.19609386772278,
          90.18709809739798,
          90.17830484396197,
          90.1697149562425,
          90.1613292617092,
          90.15314856652242,
          90.14517365558096,
          90.13740529256857,
          90.12984421999894,
          90.12249115925964,
          90.11534681065478,
          90.10841185344643,
          90.10168694589457,
          90.09517272529615,
          90.08886980802255,
          90.08277878955609,
          90.07690024452502,
          90.07123472673752,
          90.06578276921422,
          90.06054488421975,
          90.05552156329277,
          90.05071327727495,
          90.04612047633879,
          90.04174359001388,
          90.03758302721238,
          90.03363917625285,
          90.02991240488325,
          90.02640306030244,
          90.02311146918058,
          90.02003793767824,
          90.01718275146452,
          90.01454617573364,
          90.01212845522059,
          90.00992981421541,
          90.00795045657638,
          90.00619056574197,
          90.00465030474155,
          90.00332981620494,
          90.00222922237076,
          90.00134862509366,
          90.00068810585009,
          90.00024772574335,
          90.0000275255069,
          90.0000275255069,
          90.00024772574335,
          90.00068810585009,
          90.00134862509364,
          90.00222922237077,
          90.00332981620494,
          90.00465030474155,
          90.00619056574196,
          90.00795045657638,
          90.0099298142154,
          90.01212845522059,
          90.01454617573364,
          90.01718275146452,
          90.02003793767824,
          90.02311146918058,
          90.02640306030246,
          90.02991240488325,
          90.03363917625283,
          90.03758302721235,
          90.04174359001388,
          90.04612047633879,
          90.05071327727495,
          90.05552156329276,
          90.06054488421975,
          90.06578276921422,
          90.0712347267375,
          90.07690024452502,
          90.08277878955609,
          90.08886980802257,
          90.09517272529615,
          90.10168694589458,
          90.10841185344643,
          90.11534681065478,
          90.12249115925962,
          90.12984421999892,
          90.13740529256859,
          90.14517365558098,
          90.15314856652239,
          90.16132926170918,
          90.16971495624252,
          90.17830484396197,
          90.18709809739798,
          90.1960938677228,
          90.20529128470034,
          90.21468945663474,
          90.22428747031759,
          90.23408439097405,
          90.24407926220746,
          90.25427110594302,
          90.26465892236983,
          90.27524168988208,
          90.28601836501866,
          90.29698788240174,
          90.30814915467391,
          90.31950107243432,
          90.33104250417335,
          90.3427722962063,
          90.35468927260571,
          90.36679223513228,
          90.37907996316521,
          90.3915512136306,
          90.4042047209293,
          90.4170391968631,
          90.43005333056027,
          90.44324578839945,
          90.45661521393292,
          90.47016022780836,
          90.4838794276898,
          90.49777138817747,
          90.51183466072646,
          90.52606777356473,
          90.54046923160959,
          90.55503751638386,
          90.56977108593063,
          90.5846683747273,
          90.59972779359896,
          90.61494772963056,
          90.63032654607863,
          90.64586258228226,
          90.66155415357305,
          90.67739955118489,
          90.69339704216289,
          90.7095448692718,
          90.72584125090395,
          90.74228438098686,
          90.75887242889046,
          90.77560353933389,
          90.79247583229234,
          90.80948740290354,
          90.82663632137432,
          90.843920632887,
          90.86133835750618,
          90.87888749008556,
          90.89656600017489,
          90.91437183192772,
          90.93230290400933,
          90.95035710950536,
          90.96853231583121,
          90.9868263646422,
          91.00523707174486,
          91.02376222700924,
          91.04239959428239,
          91.06114691130335,
          91.08000188961972,
          91.09896221450579,
          91.11802554488276,
          91.1371895132406,
          91.15645172556279,
          91.17580976125268,
          91.19526117306327,
          91.21480348702906,
          91.23443420240139,
          91.25415079158698,
          91.27395070008967,
          91.29383134645617,
          91.31379012222556,
          91.33382439188308,
          91.35393149281845,
          91.37410873528871,
          91.39435340238641,
          91.41466275001287,
          91.43503400685705,
          91.45546437438063,
          91.4759510268091,
          91.49649111112944,
          91.51708174709512,
          91.53772002723777,
          91.55840301688696,
          91.57912775419823,
          91.59989125018886,
          91.6206904887832,
          91.64152242686683,
          91.66238399435056,
          91.68327209424459,
          91.70418360274299,
          91.72511536931978,
          91.74606421683568,
          91.7670269416576,
          91.78800031379028,
          91.80898107702089,
          91.8299659490772,
          91.85095162179992,
          91.87193476132924,
          91.892912008307,
          91.913879978094,
          91.93483526100412,
          91.95577442255475,
          91.97669400373492,
          91.99759052129153,
          92.0184604680338,
          92.03930031315738,
          92.06010650258807,
          92.08087545934596,
          92.10160358393091,
          92.12228725472933,
          92.14292282844382,
          92.16350664054532,
          92.18403500574922,
          92.20450421851558,
          92.22491055357433,
          92.24525026647574,
          92.26551959416747,
          92.28571475559808,
          92.30583195234792,
          92.32586736928828,
          92.34581717526873,
          92.36567752383407,
          92.38544455397066,
          92.40511439088306,
          92.42468314680193,
          92.44414692182248,
          92.46350180477553,
          92.48274387413029,
          92.50186919893015,
          92.52087383976136,
          92.53975384975554,
          92.55850527562554,
          92.57712415873587,
          92.59560653620728,
          92.61394844205606,
          92.63214590836785,
          92.65019496650675,
          92.66809164835901,
          92.68583198761195,
          92.7034120210676,
          92.72082778999138,
          92.73807534149525,
          92.75515072995542,
          92.77205001846418,
          92.78876928031535,
          92.8053046005232,
          92.82165207737417,
          92.83780782401041,
          92.85376797004581,
          92.86952866321136,
          92.88508607103178,
          92.90043638253007,
          92.91557580996103,
          92.93050059057038,
          92.9452069883807,
          92.95969129600135,
          92.97394983646069,
          92.98797896506079,
          93.00177507125154,
          93.01533458052299,
          93.02865395631446,
          93.041729701938,
          93.05455836251485,
          93.06713652692241,
          93.07946082975013,
          93.09152795326128,
          93.1033346293592,
          93.11487764155561,
          93.12615382693762,
          93.13716007813201,
          93.14789334526394,
          93.15835063790696,
          93.16852902702242,
          93.17842564688465,
          93.18803769699046,
          93.19736244394832,
          93.20639722334613,
          93.21513944159386,
          93.22358657773786,
          93.23173618524481,
          93.23958589375185,
          93.24713341077982,
          93.25437652340764,
          93.2613130999034,
          93.26794109131131,
          93.27425853298988,
          93.28026354609979,
          93.28595433903827,
          93.29132920881737,
          93.29638654238374,
          93.30112481787742,
          93.30554260582697,
          93.30963857027922,
          93.31341146986092,
          93.31686015877047,
          93.31998358769786,
          93.32278080467098,
          93.32525095582625,
          93.32739328610265,
          93.32920713985749,
          93.33069196140234,
          93.3318472954586,
          93.33267278753144,
          93.33316818420144,
          93.33333333333333
         ]
        },
        {
         "line": {
          "color": "black",
          "dash": "dash",
          "width": 1
         },
         "mode": "lines",
         "name": "Eigenstate 8",
         "type": "scatter",
         "x": {
          "bdata": "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",
          "dtype": "f8"
         },
         "y": [
          106.66666666666667,
          106.66683181579857,
          106.66732721246858,
          106.6681527045414,
          106.66930803859768,
          106.67079286014251,
          106.67260671389737,
          106.67474904417375,
          106.67721919532902,
          106.68001641230214,
          106.6831398412295,
          106.68658853013909,
          106.69036142972078,
          106.69445739417303,
          106.69887518212259,
          106.70361345761627,
          106.70867079118264,
          106.71404566096174,
          106.71973645390023,
          106.72574146701014,
          106.73205890868869,
          106.73868690009661,
          106.74562347659236,
          106.75286658922018,
          106.76041410624815,
          106.7682638147552,
          106.77641342226215,
          106.78486055840615,
          106.79360277665387,
          106.80263755605166,
          106.81196230300951,
          106.82157435311534,
          106.8314709729776,
          106.84164936209304,
          106.85210665473606,
          106.86283992186799,
          106.87384617306238,
          106.88512235844439,
          106.89666537064079,
          106.90847204673874,
          106.92053917024988,
          106.93286347307759,
          106.94544163748516,
          106.95827029806202,
          106.97134604368549,
          106.98466541947697,
          106.99822492874848,
          107.01202103493921,
          107.02605016353931,
          107.04030870399865,
          107.05479301161927,
          107.06949940942964,
          107.08442419003899,
          107.09956361746988,
          107.11491392896824,
          107.13047133678864,
          107.1462320299542,
          107.16219217598959,
          107.17834792262585,
          107.1946953994768,
          107.21123071968465,
          107.2279499815358,
          107.24484927004458,
          107.26192465850477,
          107.27917221000864,
          107.29658797893241,
          107.31416801238807,
          107.331908351641,
          107.34980503349325,
          107.36785409163215,
          107.38605155794394,
          107.40439346379273,
          107.42287584126414,
          107.44149472437448,
          107.46024615024447,
          107.47912616023864,
          107.49813080106985,
          107.51725612586971,
          107.53649819522445,
          107.55585307817752,
          107.57531685319809,
          107.59488560911691,
          107.61455544602934,
          107.63432247616592,
          107.65418282473128,
          107.67413263071172,
          107.69416804765208,
          107.71428524440192,
          107.73448040583254,
          107.75474973352428,
          107.77508944642568,
          107.79549578148439,
          107.81596499425079,
          107.83649335945469,
          107.85707717155617,
          107.87771274527067,
          107.8983964160691,
          107.91912454065402,
          107.93989349741197,
          107.96069968684262,
          107.98153953196622,
          108.00240947870849,
          108.02330599626507,
          108.04422557744523,
          108.06516473899589,
          108.08612002190603,
          108.10708799169302,
          108.12806523867079,
          108.14904837820009,
          108.17003405092281,
          108.19101892297908,
          108.21199968620972,
          108.23297305834242,
          108.25393578316434,
          108.27488463068023,
          108.295816397257,
          108.31672790575544,
          108.33761600564945,
          108.35847757313317,
          108.3793095112168,
          108.40010874981115,
          108.42087224580177,
          108.44159698311303,
          108.46227997276225,
          108.48291825290487,
          108.50350888887053,
          108.52404897319093,
          108.54453562561935,
          108.56496599314298,
          108.58533724998715,
          108.60564659761359,
          108.62589126471129,
          108.64606850718155,
          108.66617560811693,
          108.68620987777446,
          108.70616865354384,
          108.72604929991031,
          108.74584920841302,
          108.76556579759863,
          108.78519651297096,
          108.80473882693674,
          108.82419023874729,
          108.84354827443723,
          108.8628104867594,
          108.88197445511724,
          108.90103778549417,
          108.91999811038023,
          108.93885308869666,
          108.95760040571763,
          108.97623777299076,
          108.99476292825514,
          109.01317363535782,
          109.03146768416882,
          109.04964289049464,
          109.06769709599067,
          109.08562816807229,
          109.10343399982513,
          109.12111250991447,
          109.13866164249382,
          109.15607936711298,
          109.1733636786257,
          109.19051259709644,
          109.20752416770767,
          109.22439646066613,
          109.24112757110956,
          109.25771561901314,
          109.27415874909605,
          109.29045513072822,
          109.30660295783711,
          109.32260044881514,
          109.33844584642695,
          109.35413741771775,
          109.36967345392137,
          109.38505227036944,
          109.40027220640104,
          109.4153316252727,
          109.43022891406939,
          109.44496248361615,
          109.45953076839041,
          109.4739322264353,
          109.48816533927354,
          109.50222861182255,
          109.5161205723102,
          109.52983977219162,
          109.54338478606708,
          109.55675421160055,
          109.56994666943976,
          109.5829608031369,
          109.59579527907073,
          109.60844878636941,
          109.6209200368348,
          109.63320776486769,
          109.64531072739432,
          109.65722770379368,
          109.66895749582665,
          109.68049892756572,
          109.69185084532612,
          109.70301211759828,
          109.71398163498135,
          109.72475831011795,
          109.73534107763018,
          109.745728894057,
          109.75592073779255,
          109.76591560902595,
          109.77571252968241,
          109.78531054336527,
          109.79470871529968,
          109.80390613227722,
          109.81290190260205,
          109.82169515603805,
          109.83028504375748,
          109.83867073829082,
          109.84685143347761,
          109.85482634441904,
          109.86259470743143,
          109.87015578000107,
          109.87750884074039,
          109.88465318934522,
          109.89158814655357,
          109.89831305410543,
          109.90482727470386,
          109.91113019197745,
          109.91722121044393,
          109.923099755475,
          109.92876527326248,
          109.93421723078578,
          109.93945511578026,
          109.94447843670726,
          109.94928672272503,
          109.95387952366123,
          109.95825640998612,
          109.96241697278765,
          109.96636082374717,
          109.97008759511675,
          109.97359693969756,
          109.97688853081944,
          109.97996206232175,
          109.98281724853548,
          109.98545382426637,
          109.98787154477944,
          109.99007018578462,
          109.99204954342365,
          109.99380943425804,
          109.99534969525845,
          109.99667018379508,
          109.99777077762924,
          109.99865137490637,
          109.99931189414991,
          109.99975227425666,
          109.99997247449312,
          109.99997247449312,
          109.99975227425666,
          109.99931189414991,
          109.99865137490636,
          109.99777077762926,
          109.99667018379508,
          109.99534969525845,
          109.99380943425803,
          109.99204954342365,
          109.99007018578462,
          109.98787154477944,
          109.98545382426637,
          109.98281724853548,
          109.97996206232175,
          109.97688853081944,
          109.97359693969757,
          109.97008759511675,
          109.96636082374717,
          109.96241697278764,
          109.95825640998613,
          109.95387952366123,
          109.94928672272505,
          109.94447843670724,
          109.93945511578026,
          109.93421723078579,
          109.92876527326248,
          109.923099755475,
          109.91722121044393,
          109.91113019197745,
          109.90482727470386,
          109.89831305410543,
          109.89158814655359,
          109.88465318934522,
          109.87750884074038,
          109.87015578000107,
          109.86259470743143,
          109.85482634441905,
          109.8468514334776,
          109.8386707382908,
          109.8302850437575,
          109.82169515603805,
          109.81290190260205,
          109.80390613227723,
          109.79470871529969,
          109.78531054336528,
          109.77571252968241,
          109.76591560902595,
          109.75592073779254,
          109.745728894057,
          109.73534107763018,
          109.72475831011793,
          109.71398163498134,
          109.70301211759828,
          109.69185084532612,
          109.68049892756571,
          109.66895749582666,
          109.65722770379367,
          109.64531072739432,
          109.6332077648677,
          109.6209200368348,
          109.6084487863694,
          109.59579527907073,
          109.5829608031369,
          109.56994666943974,
          109.55675421160053,
          109.54338478606708,
          109.52983977219162,
          109.5161205723102,
          109.50222861182255,
          109.48816533927352,
          109.47393222643528,
          109.45953076839041,
          109.44496248361615,
          109.4302289140694,
          109.41533162527271,
          109.40027220640106,
          109.38505227036946,
          109.36967345392135,
          109.35413741771775,
          109.33844584642696,
          109.32260044881512,
          109.30660295783711,
          109.2904551307282,
          109.27415874909606,
          109.25771561901314,
          109.24112757110956,
          109.22439646066613,
          109.20752416770767,
          109.19051259709644,
          109.1733636786257,
          109.15607936711302,
          109.13866164249383,
          109.12111250991447,
          109.10343399982514,
          109.08562816807229,
          109.06769709599067,
          109.04964289049464,
          109.03146768416882,
          109.01317363535782,
          108.99476292825514,
          108.97623777299077,
          108.95760040571763,
          108.93885308869666,
          108.91999811038029,
          108.90103778549418,
          108.88197445511722,
          108.86281048675939,
          108.84354827443724,
          108.8241902387473,
          108.80473882693674,
          108.78519651297096,
          108.76556579759863,
          108.74584920841303,
          108.72604929991034,
          108.70616865354384,
          108.68620987777446,
          108.66617560811693,
          108.64606850718157,
          108.6258912647113,
          108.60564659761359,
          108.58533724998715,
          108.56496599314298,
          108.54453562561939,
          108.52404897319093,
          108.50350888887054,
          108.48291825290487,
          108.46227997276226,
          108.44159698311303,
          108.42087224580177,
          108.40010874981115,
          108.37930951121682,
          108.35847757313319,
          108.33761600564945,
          108.31672790575544,
          108.29581639725698,
          108.27488463068023,
          108.25393578316434,
          108.23297305834241,
          108.21199968620972,
          108.19101892297913,
          108.1700340509228,
          108.14904837820009,
          108.12806523867077,
          108.10708799169302,
          108.086120021906,
          108.06516473899589,
          108.04422557744527,
          108.02330599626507,
          108.00240947870849,
          107.98153953196622,
          107.96069968684264,
          107.93989349741196,
          107.91912454065404,
          107.8983964160691,
          107.87771274527067,
          107.85707717155618,
          107.83649335945469,
          107.81596499425079,
          107.79549578148439,
          107.77508944642568,
          107.75474973352428,
          107.73448040583253,
          107.71428524440194,
          107.69416804765208,
          107.67413263071174,
          107.65418282473127,
          107.63432247616592,
          107.61455544602936,
          107.59488560911693,
          107.57531685319809,
          107.55585307817753,
          107.53649819522447,
          107.51725612586971,
          107.49813080106986,
          107.47912616023862,
          107.46024615024447,
          107.44149472437448,
          107.42287584126416,
          107.40439346379273,
          107.38605155794396,
          107.36785409163215,
          107.34980503349325,
          107.33190835164099,
          107.31416801238805,
          107.29658797893241,
          107.27917221000864,
          107.26192465850477,
          107.24484927004457,
          107.2279499815358,
          107.21123071968464,
          107.19469539947679,
          107.17834792262583,
          107.16219217598959,
          107.1462320299542,
          107.13047133678863,
          107.11491392896824,
          107.09956361746988,
          107.08442419003899,
          107.06949940942964,
          107.05479301161925,
          107.04030870399865,
          107.02605016353931,
          107.01202103493921,
          106.99822492874847,
          106.984665419477,
          106.97134604368553,
          106.95827029806202,
          106.94544163748517,
          106.93286347307757,
          106.92053917024987,
          106.90847204673875,
          106.89666537064079,
          106.88512235844438,
          106.87384617306238,
          106.86283992186799,
          106.85210665473606,
          106.84164936209302,
          106.8314709729776,
          106.82157435311534,
          106.81196230300955,
          106.8026375560517,
          106.79360277665387,
          106.78486055840615,
          106.77641342226215,
          106.7682638147552,
          106.76041410624816,
          106.75286658922016,
          106.74562347659237,
          106.73868690009661,
          106.7320589086887,
          106.72574146701014,
          106.71973645390023,
          106.71404566096174,
          106.70867079118264,
          106.70361345761626,
          106.69887518212259,
          106.69445739417303,
          106.69036142972077,
          106.68658853013909,
          106.68313984122953,
          106.68001641230212,
          106.67721919532902,
          106.67474904417377,
          106.67260671389737,
          106.67079286014251,
          106.66930803859768,
          106.66815270454141,
          106.66732721246858,
          106.66683181579857,
          106.66666666666667
         ]
        }
       ],
       "layout": {
        "font": {
         "family": "sans-serif",
         "size": 18
        },
        "legend": {
         "title": {
          "text": "Eigenstates"
         }
        },
        "template": {
         "data": {
          "bar": [
           {
            "error_x": {
             "color": "#2a3f5f"
            },
            "error_y": {
             "color": "#2a3f5f"
            },
            "marker": {
             "line": {
              "color": "#E5ECF6",
              "width": 0.5
             },
             "pattern": {
              "fillmode": "overlay",
              "size": 10,
              "solidity": 0.2
             }
            },
            "type": "bar"
           }
          ],
          "barpolar": [
           {
            "marker": {
             "line": {
              "color": "#E5ECF6",
              "width": 0.5
             },
             "pattern": {
              "fillmode": "overlay",
              "size": 10,
              "solidity": 0.2
             }
            },
            "type": "barpolar"
           }
          ],
          "carpet": [
           {
            "aaxis": {
             "endlinecolor": "#2a3f5f",
             "gridcolor": "white",
             "linecolor": "white",
             "minorgridcolor": "white",
             "startlinecolor": "#2a3f5f"
            },
            "baxis": {
             "endlinecolor": "#2a3f5f",
             "gridcolor": "white",
             "linecolor": "white",
             "minorgridcolor": "white",
             "startlinecolor": "#2a3f5f"
            },
            "type": "carpet"
           }
          ],
          "choropleth": [
           {
            "colorbar": {
             "outlinewidth": 0,
             "ticks": ""
            },
            "type": "choropleth"
           }
          ],
          "contour": [
           {
            "colorbar": {
             "outlinewidth": 0,
             "ticks": ""
            },
            "colorscale": [
             [
              0,
              "#0d0887"
             ],
             [
              0.1111111111111111,
              "#46039f"
             ],
             [
              0.2222222222222222,
              "#7201a8"
             ],
             [
              0.3333333333333333,
              "#9c179e"
             ],
             [
              0.4444444444444444,
              "#bd3786"
             ],
             [
              0.5555555555555556,
              "#d8576b"
             ],
             [
              0.6666666666666666,
              "#ed7953"
             ],
             [
              0.7777777777777778,
              "#fb9f3a"
             ],
             [
              0.8888888888888888,
              "#fdca26"
             ],
             [
              1,
              "#f0f921"
             ]
            ],
            "type": "contour"
           }
          ],
          "contourcarpet": [
           {
            "colorbar": {
             "outlinewidth": 0,
             "ticks": ""
            },
            "type": "contourcarpet"
           }
          ],
          "heatmap": [
           {
            "colorbar": {
             "outlinewidth": 0,
             "ticks": ""
            },
            "colorscale": [
             [
              0,
              "#0d0887"
             ],
             [
              0.1111111111111111,
              "#46039f"
             ],
             [
              0.2222222222222222,
              "#7201a8"
             ],
             [
              0.3333333333333333,
              "#9c179e"
             ],
             [
              0.4444444444444444,
              "#bd3786"
             ],
             [
              0.5555555555555556,
              "#d8576b"
             ],
             [
              0.6666666666666666,
              "#ed7953"
             ],
             [
              0.7777777777777778,
              "#fb9f3a"
             ],
             [
              0.8888888888888888,
              "#fdca26"
             ],
             [
              1,
              "#f0f921"
             ]
            ],
            "type": "heatmap"
           }
          ],
          "histogram": [
           {
            "marker": {
             "pattern": {
              "fillmode": "overlay",
              "size": 10,
              "solidity": 0.2
             }
            },
            "type": "histogram"
           }
          ],
          "histogram2d": [
           {
            "colorbar": {
             "outlinewidth": 0,
             "ticks": ""
            },
            "colorscale": [
             [
              0,
              "#0d0887"
             ],
             [
              0.1111111111111111,
              "#46039f"
             ],
             [
              0.2222222222222222,
              "#7201a8"
             ],
             [
              0.3333333333333333,
              "#9c179e"
             ],
             [
              0.4444444444444444,
              "#bd3786"
             ],
             [
              0.5555555555555556,
              "#d8576b"
             ],
             [
              0.6666666666666666,
              "#ed7953"
             ],
             [
              0.7777777777777778,
              "#fb9f3a"
             ],
             [
              0.8888888888888888,
              "#fdca26"
             ],
             [
              1,
              "#f0f921"
             ]
            ],
            "type": "histogram2d"
           }
          ],
          "histogram2dcontour": [
           {
            "colorbar": {
             "outlinewidth": 0,
             "ticks": ""
            },
            "colorscale": [
             [
              0,
              "#0d0887"
             ],
             [
              0.1111111111111111,
              "#46039f"
             ],
             [
              0.2222222222222222,
              "#7201a8"
             ],
             [
              0.3333333333333333,
              "#9c179e"
             ],
             [
              0.4444444444444444,
              "#bd3786"
             ],
             [
              0.5555555555555556,
              "#d8576b"
             ],
             [
              0.6666666666666666,
              "#ed7953"
             ],
             [
              0.7777777777777778,
              "#fb9f3a"
             ],
             [
              0.8888888888888888,
              "#fdca26"
             ],
             [
              1,
              "#f0f921"
             ]
            ],
            "type": "histogram2dcontour"
           }
          ],
          "mesh3d": [
           {
            "colorbar": {
             "outlinewidth": 0,
             "ticks": ""
            },
            "type": "mesh3d"
           }
          ],
          "parcoords": [
           {
            "line": {
             "colorbar": {
              "outlinewidth": 0,
              "ticks": ""
             }
            },
            "type": "parcoords"
           }
          ],
          "pie": [
           {
            "automargin": true,
            "type": "pie"
           }
          ],
          "scatter": [
           {
            "fillpattern": {
             "fillmode": "overlay",
             "size": 10,
             "solidity": 0.2
            },
            "type": "scatter"
           }
          ],
          "scatter3d": [
           {
            "line": {
             "colorbar": {
              "outlinewidth": 0,
              "ticks": ""
             }
            },
            "marker": {
             "colorbar": {
              "outlinewidth": 0,
              "ticks": ""
             }
            },
            "type": "scatter3d"
           }
          ],
          "scattercarpet": [
           {
            "marker": {
             "colorbar": {
              "outlinewidth": 0,
              "ticks": ""
             }
            },
            "type": "scattercarpet"
           }
          ],
          "scattergeo": [
           {
            "marker": {
             "colorbar": {
              "outlinewidth": 0,
              "ticks": ""
             }
            },
            "type": "scattergeo"
           }
          ],
          "scattergl": [
           {
            "marker": {
             "colorbar": {
              "outlinewidth": 0,
              "ticks": ""
             }
            },
            "type": "scattergl"
           }
          ],
          "scattermap": [
           {
            "marker": {
             "colorbar": {
              "outlinewidth": 0,
              "ticks": ""
             }
            },
            "type": "scattermap"
           }
          ],
          "scattermapbox": [
           {
            "marker": {
             "colorbar": {
              "outlinewidth": 0,
              "ticks": ""
             }
            },
            "type": "scattermapbox"
           }
          ],
          "scatterpolar": [
           {
            "marker": {
             "colorbar": {
              "outlinewidth": 0,
              "ticks": ""
             }
            },
            "type": "scatterpolar"
           }
          ],
          "scatterpolargl": [
           {
            "marker": {
             "colorbar": {
              "outlinewidth": 0,
              "ticks": ""
             }
            },
            "type": "scatterpolargl"
           }
          ],
          "scatterternary": [
           {
            "marker": {
             "colorbar": {
              "outlinewidth": 0,
              "ticks": ""
             }
            },
            "type": "scatterternary"
           }
          ],
          "surface": [
           {
            "colorbar": {
             "outlinewidth": 0,
             "ticks": ""
            },
            "colorscale": [
             [
              0,
              "#0d0887"
             ],
             [
              0.1111111111111111,
              "#46039f"
             ],
             [
              0.2222222222222222,
              "#7201a8"
             ],
             [
              0.3333333333333333,
              "#9c179e"
             ],
             [
              0.4444444444444444,
              "#bd3786"
             ],
             [
              0.5555555555555556,
              "#d8576b"
             ],
             [
              0.6666666666666666,
              "#ed7953"
             ],
             [
              0.7777777777777778,
              "#fb9f3a"
             ],
             [
              0.8888888888888888,
              "#fdca26"
             ],
             [
              1,
              "#f0f921"
             ]
            ],
            "type": "surface"
           }
          ],
          "table": [
           {
            "cells": {
             "fill": {
              "color": "#EBF0F8"
             },
             "line": {
              "color": "white"
             }
            },
            "header": {
             "fill": {
              "color": "#C8D4E3"
             },
             "line": {
              "color": "white"
             }
            },
            "type": "table"
           }
          ]
         },
         "layout": {
          "annotationdefaults": {
           "arrowcolor": "#2a3f5f",
           "arrowhead": 0,
           "arrowwidth": 1
          },
          "autotypenumbers": "strict",
          "coloraxis": {
           "colorbar": {
            "outlinewidth": 0,
            "ticks": ""
           }
          },
          "colorscale": {
           "diverging": [
            [
             0,
             "#8e0152"
            ],
            [
             0.1,
             "#c51b7d"
            ],
            [
             0.2,
             "#de77ae"
            ],
            [
             0.3,
             "#f1b6da"
            ],
            [
             0.4,
             "#fde0ef"
            ],
            [
             0.5,
             "#f7f7f7"
            ],
            [
             0.6,
             "#e6f5d0"
            ],
            [
             0.7,
             "#b8e186"
            ],
            [
             0.8,
             "#7fbc41"
            ],
            [
             0.9,
             "#4d9221"
            ],
            [
             1,
             "#276419"
            ]
           ],
           "sequential": [
            [
             0,
             "#0d0887"
            ],
            [
             0.1111111111111111,
             "#46039f"
            ],
            [
             0.2222222222222222,
             "#7201a8"
            ],
            [
             0.3333333333333333,
             "#9c179e"
            ],
            [
             0.4444444444444444,
             "#bd3786"
            ],
            [
             0.5555555555555556,
             "#d8576b"
            ],
            [
             0.6666666666666666,
             "#ed7953"
            ],
            [
             0.7777777777777778,
             "#fb9f3a"
            ],
            [
             0.8888888888888888,
             "#fdca26"
            ],
            [
             1,
             "#f0f921"
            ]
           ],
           "sequentialminus": [
            [
             0,
             "#0d0887"
            ],
            [
             0.1111111111111111,
             "#46039f"
            ],
            [
             0.2222222222222222,
             "#7201a8"
            ],
            [
             0.3333333333333333,
             "#9c179e"
            ],
            [
             0.4444444444444444,
             "#bd3786"
            ],
            [
             0.5555555555555556,
             "#d8576b"
            ],
            [
             0.6666666666666666,
             "#ed7953"
            ],
            [
             0.7777777777777778,
             "#fb9f3a"
            ],
            [
             0.8888888888888888,
             "#fdca26"
            ],
            [
             1,
             "#f0f921"
            ]
           ]
          },
          "colorway": [
           "#636efa",
           "#EF553B",
           "#00cc96",
           "#ab63fa",
           "#FFA15A",
           "#19d3f3",
           "#FF6692",
           "#B6E880",
           "#FF97FF",
           "#FECB52"
          ],
          "font": {
           "color": "#2a3f5f"
          },
          "geo": {
           "bgcolor": "white",
           "lakecolor": "white",
           "landcolor": "#E5ECF6",
           "showlakes": true,
           "showland": true,
           "subunitcolor": "white"
          },
          "hoverlabel": {
           "align": "left"
          },
          "hovermode": "closest",
          "mapbox": {
           "style": "light"
          },
          "paper_bgcolor": "white",
          "plot_bgcolor": "#E5ECF6",
          "polar": {
           "angularaxis": {
            "gridcolor": "white",
            "linecolor": "white",
            "ticks": ""
           },
           "bgcolor": "#E5ECF6",
           "radialaxis": {
            "gridcolor": "white",
            "linecolor": "white",
            "ticks": ""
           }
          },
          "scene": {
           "xaxis": {
            "backgroundcolor": "#E5ECF6",
            "gridcolor": "white",
            "gridwidth": 2,
            "linecolor": "white",
            "showbackground": true,
            "ticks": "",
            "zerolinecolor": "white"
           },
           "yaxis": {
            "backgroundcolor": "#E5ECF6",
            "gridcolor": "white",
            "gridwidth": 2,
            "linecolor": "white",
            "showbackground": true,
            "ticks": "",
            "zerolinecolor": "white"
           },
           "zaxis": {
            "backgroundcolor": "#E5ECF6",
            "gridcolor": "white",
            "gridwidth": 2,
            "linecolor": "white",
            "showbackground": true,
            "ticks": "",
            "zerolinecolor": "white"
           }
          },
          "shapedefaults": {
           "line": {
            "color": "#2a3f5f"
           }
          },
          "ternary": {
           "aaxis": {
            "gridcolor": "white",
            "linecolor": "white",
            "ticks": ""
           },
           "baxis": {
            "gridcolor": "white",
            "linecolor": "white",
            "ticks": ""
           },
           "bgcolor": "#E5ECF6",
           "caxis": {
            "gridcolor": "white",
            "linecolor": "white",
            "ticks": ""
           }
          },
          "title": {
           "x": 0.05
          },
          "xaxis": {
           "automargin": true,
           "gridcolor": "white",
           "linecolor": "white",
           "ticks": "",
           "title": {
            "standoff": 15
           },
           "zerolinecolor": "white",
           "zerolinewidth": 2
          },
          "yaxis": {
           "automargin": true,
           "gridcolor": "white",
           "linecolor": "white",
           "ticks": "",
           "title": {
            "standoff": 15
           },
           "zerolinecolor": "white",
           "zerolinewidth": 2
          }
         }
        },
        "title": {
         "text": "Energy Spectrum as a Function of Time"
        },
        "xaxis": {
         "title": {
          "text": "Time [a.u.]"
         }
        },
        "yaxis": {
         "title": {
          "text": "Energy"
         }
        }
       }
      }
     },
     "metadata": {},
     "output_type": "display_data"
    }
   ],
   "source": [
    "import plotly.graph_objects as go\n",
    "\n",
    "Ep = 50\n",
    "Hp = -Ep * sum(S)\n",
    "# Calculate the initial Hamiltonian eigenstates\n",
    "H_S_0 = omega_t(0) * X_L + delta_t(0) * Z_L + Hp\n",
    "eigenvalues_0, eigenstates_0 = H_S_0.eigenstates()\n",
    "\n",
    "# Initialize storage for the first two eigenstates and the rest\n",
    "states = {index: [eigenvalues_0[index]] for index in range(len(eigenvalues_0))}\n",
    "\n",
    "# Loop through time steps\n",
    "for t_step in range(1, len(times)):\n",
    "    H_S = omega_t(times[t_step]) * X_L + delta_t(times[t_step]) * Z_L + Hp\n",
    "    eigenvalues, eigenstates = H_S.eigenstates()\n",
    "\n",
    "    # Handle the first two eigenstates with overlap matching\n",
    "    for state_index in range(2):  # Restrict to the first two eigenstates of H_S_0\n",
    "        state_0 = eigenstates_0[state_index]\n",
    "        max_overlap = 0\n",
    "        best_match_index = 0\n",
    "\n",
    "        for i, state_t in enumerate(eigenstates):\n",
    "            proj = np.abs(state_0.overlap(state_t))**2\n",
    "            if proj > max_overlap:\n",
    "                max_overlap = proj\n",
    "                best_match_index = i\n",
    "\n",
    "        # Append the best matching eigenvalue for the first two eigenstates\n",
    "        states[state_index].append(eigenvalues[best_match_index])\n",
    "\n",
    "    # For the remaining eigenstates, just append their eigenvalues directly\n",
    "    for state_index in range(2, len(eigenvalues)):\n",
    "        states[state_index].append(eigenvalues[state_index])\n",
    "\n",
    "# Create the plot\n",
    "fig = go.Figure()\n",
    "\n",
    "colors = ['red', 'blue']\n",
    "for state_index, energies in states.items():\n",
    "    if state_index < 2:  # Highlight the first two eigenstates\n",
    "        fig.add_trace(go.Scatter(\n",
    "            x=times,\n",
    "            y=energies,\n",
    "            mode='lines',\n",
    "            line=dict(color=colors[state_index % len(colors)], width=2),\n",
    "            name=f\"Eigenstate {state_index + 1}\"\n",
    "        ))\n",
    "    else:  # Plot the rest as dashed lines\n",
    "        fig.add_trace(go.Scatter(\n",
    "            x=times,\n",
    "            y=energies,\n",
    "            mode='lines',\n",
    "            line=dict(color='black', width=1, dash='dash'),\n",
    "            name=f\"Eigenstate {state_index + 1}\"\n",
    "        ))\n",
    "\n",
    "# Update layout\n",
    "fig.update_layout(\n",
    "    title=\"Energy Spectrum as a Function of Time\",\n",
    "    xaxis_title=\"Time [a.u.]\",\n",
    "    yaxis_title=\"Energy\",\n",
    "    font=dict(family=\"sans-serif\", size=18),\n",
    "    legend_title=\"Eigenstates\",\n",
    "    template=\"plotly\"\n",
    ")\n",
    "\n",
    "# Show the plot\n",
    "fig.show()"
   ]
  },
  {
   "cell_type": "code",
   "execution_count": 9,
   "id": "bc3f3573",
   "metadata": {
    "ExecuteTime": {
     "end_time": "2025-07-30T12:22:12.705424Z",
     "start_time": "2025-07-30T12:22:12.696953Z"
    }
   },
   "outputs": [],
   "source": [
    "def bose_einstein_distribution(energy_diff, temperature):\n",
    "    if temperature == 0:\n",
    "        return 0\n",
    "    return 1 / (np.exp(energy_diff / (temperature)) - 1)\n",
    "\n",
    "def gab(omega1, omega2, lambda_2):\n",
    "    if omega1 >= omega2:\n",
    "        return 0\n",
    "    return np.sqrt(lambda_2)\n",
    "\n",
    "def c_ops_gen_new(t, args):\n",
    "    H_inst_t = args['args_H'](t)  # Instantaneous Hamiltonian at time t\n",
    "    eigenvalues, eigenstates = H_inst_t.eigenstates()\n",
    "    c_s = []\n",
    "    c_ops = []\n",
    "    for a_i, a in enumerate(eigenstates):\n",
    "\n",
    "        omega_a = eigenvalues[a_i]\n",
    "        for b_i, b in enumerate(eigenstates[a_i+1:]):\n",
    "            omega_b = eigenvalues[a_i + b_i + 1]\n",
    "            \n",
    "            c = b*a.dag()\n",
    "            c_coef = 0\n",
    "            for i in range(args['n_qubits']):\n",
    "                sigmam_i = tensor([sigmam() if j == i else I for j in range(args['n_qubits'])])\n",
    "                \n",
    "                if np.abs(omega_a - omega_b) < 1e-6:\n",
    "                    continue  # Skip nearly degenerate states\n",
    "                \n",
    "                # For decay transitions (omega_b > omega_a)\n",
    "                if omega_b > omega_a:\n",
    "                    Nba = bose_einstein_distribution(omega_b - omega_a, args['T'])\n",
    "                    g_ba = gab(omega_a, omega_b, args['lambda_2'])\n",
    "\n",
    "                    ma_ba = a.dag() * sigmam_i * b * b.dag() * sigmam_i.dag() * a\n",
    "                    decay_op = np.sqrt(Nba * (g_ba ** 2) * ma_ba)\n",
    "                    c_coef += decay_op\n",
    "\n",
    "                # For excitation transitions (omega_a > omega_b)\n",
    "                elif omega_a > omega_b:\n",
    "                    Nab = bose_einstein_distribution(omega_a - omega_b, args['T'])\n",
    "                    g_ab = gab(omega_b, omega_a, args['lambda_2'])\n",
    "                    ma_ab = b.dag() * sigmam_i * a * a.dag() * sigmam_i.dag() * b\n",
    "                    excitation_op = np.sqrt((Nab + 1) * (g_ab ** 2) * ma_ab)                    \n",
    "                    c_coef += excitation_op\n",
    "                    \n",
    "                    \n",
    "            if c_coef > 1e-5:\n",
    "                c_ops.append(c.to('csr')*c_coef)\n",
    "                c_s.append(c_coef)\n",
    "            else:\n",
    "                c_s.append(0)\n",
    "\n",
    "    return c_ops, c_s"
   ]
  },
  {
   "cell_type": "code",
   "execution_count": 10,
   "id": "4ab9f444",
   "metadata": {
    "ExecuteTime": {
     "end_time": "2025-07-30T12:23:31.217150Z",
     "start_time": "2025-07-30T12:23:03.646696Z"
    }
   },
   "outputs": [
    {
     "name": "stdout",
     "output_type": "stream",
     "text": [
      "|ψ⟩ = 1.00|000⟩\n",
      "0\n",
      "1\n",
      "2\n",
      "3\n",
      "4\n",
      "5\n",
      "10\n",
      "25\n",
      "50\n"
     ]
    },
    {
     "data": {
      "image/png": "[encoded data removed]",
      "text/plain": [
       "<Figure size 800x600 with 1 Axes>"
      ]
     },
     "metadata": {},
     "output_type": "display_data"
    },
    {
     "name": "stdout",
     "output_type": "stream",
     "text": [
      "Done\n"
     ]
    }
   ],
   "source": [
    "print_quantum_state_as_superposition(initial_state)\n",
    "\n",
    " \n",
    "times = np.linspace(0, T_max, 501) # has to be +1 for the final time stamp\n",
    "\n",
    "nsteps = 1e5\n",
    "gamma_sqrt = 0.1\n",
    "T = 20 # temp\n",
    "\n",
    "# Eps = [0, 50, 100, 200, 300]\n",
    "Eps = [0, 1, 2, 3, 4, 5, 10, 25, 50]\n",
    "\n",
    "rho0 = logical_zero * logical_zero.dag()\n",
    "rho1 = logical_one * logical_one.dag()\n",
    "e_ops = [rho0, rho1]\n",
    "\n",
    "plt.figure(figsize=(8, 6))\n",
    "\n",
    "# Plotting Ideal\n",
    "def H_se(t):\n",
    "    return omega_t(t) * X_L + delta_t(t) * Z_L\n",
    "\n",
    "results_se = sesolve(H_se, logical_zero, times, e_ops=e_ops)\n",
    "plt.plot(times, results_se.expect[1], linestyle=\"--\", label=r\"ideal\")\n",
    "\n",
    "# Loop over different values of Ep\n",
    "for Ep in Eps:\n",
    "    print(Ep)\n",
    "    rho_init = initial_state * initial_state.dag()\n",
    "    e_ops = [rho0, rho1]\n",
    "    \n",
    "    # Time-dependent Hamiltonian\n",
    "    def H_t(t):\n",
    "        H_RAP = X_L * omega_t(t) + Z_L * delta_t(t)\n",
    "        \n",
    "        Ht = H_RAP - Ep * sum(S)\n",
    "        return Ht.to('csr')  # Assuming H_x and H_z are valid Qobjs\n",
    "\n",
    "    args_C = {\"args_H\": H_t,\n",
    "              \"n_qubits\": n_qubits,\n",
    "              \"lambda_2\":gamma_sqrt,\n",
    "              \"T\":T}\n",
    "\n",
    "    prev_time = times[0]\n",
    "    expects_0 = []\n",
    "    expects_1 = []\n",
    "    \n",
    "    time_inter = times[1] - times[0]\n",
    "\n",
    "    tot_time = times[1:]\n",
    "    tot_time = np.append(tot_time, times[-1] + time_inter)\n",
    "    \n",
    "    for dt in tot_time:\n",
    "        c_ops, c_s = c_ops_gen_new(dt, args=args_C)\n",
    "        # c_ops = [i*1e-1 for i in [tensor(sigmam(),I,I), tensor(I,sigmam(),I), tensor(I,I,sigmam())]]\n",
    "\n",
    "        t_steps = [prev_time, dt]\n",
    "        results = mesolve(H_t, rho_init, t_steps, c_ops=c_ops, args=args_C, e_ops=e_ops,\n",
    "                          options={'store_states': True})\n",
    "\n",
    "        # Updating\n",
    "        prev_time = dt\n",
    "        rho_init = results.states[-1]\n",
    "\n",
    "        # Saving\n",
    "        expects_1.append(results.expect[1][0])\n",
    "        expects_0.append(results.expect[0][0])\n",
    "    \n",
    "    # Plotting results\n",
    "    expects_all = [expects_1[i] for i in range(len(expects_1))]\n",
    "\n",
    "    plt.plot(times, expects_all, label=r\"$E_{P}$=\" + str(Ep))\n",
    "\n",
    "    \n",
    "    \n",
    "plt.legend()\n",
    "plt.xlabel('[a.u.]', size=22)\n",
    "plt.ylabel('Fidelity', size=22)\n",
    "plt.show()\n",
    "plt.close()\n",
    "\n",
    "print(\"Done\")"
   ]
  },
  {
   "cell_type": "markdown",
   "id": "e4ebebabf98b7574",
   "metadata": {},
   "source": [
    "# Plotting the evolution of transition coefficients (c_coef) over time\n",
    "The plot illustrates the evolution of transition coefficients (c_coef) over time for various quantum state transitions. Notably, the transitions involving (0, i) and (1, i) remain consistently low throughout the protocol. This behavior is crucial as it ensures that the logical state remains confined to the ground space, preserving the fidelity of the quantum computation and minimizing leakage to higher energy states. This characteristic is essential for maintaining the robustness of the logical qubit during the adiabatic evolution."
   ]
  },
  {
   "cell_type": "code",
   "execution_count": 11,
   "id": "54b4d026764811b4",
   "metadata": {
    "ExecuteTime": {
     "end_time": "2025-07-30T12:20:31.038967Z",
     "start_time": "2025-07-30T12:20:31.035243Z"
    }
   },
   "outputs": [],
   "source": [
    "def c_ops_gen_new_with_tracking(t, args):\n",
    "    H_inst_t = args['args_H'](t)  # Instantaneous Hamiltonian at time t\n",
    "    eigenvalues, eigenstates = H_inst_t.eigenstates()\n",
    "    c_coef_tracking = {}\n",
    "    for a_i, a in enumerate(eigenstates):\n",
    "        omega_a = eigenvalues[a_i]\n",
    "        for b_i, b in enumerate(eigenstates[a_i+1:]):\n",
    "            omega_b = eigenvalues[a_i + b_i + 1]\n",
    "            c_coef = 0\n",
    "            for i in range(args['n_qubits']):\n",
    "                sigmam_i = tensor([sigmam() if j == i else qeye(2) for j in range(args['n_qubits'])])\n",
    "                if np.abs(omega_a - omega_b) < 1e-6:\n",
    "                    continue  # Skip nearly degenerate states\n",
    "                if omega_b > omega_a:  # Decay transitions\n",
    "                    Nba = bose_einstein_distribution(omega_b - omega_a, args['T'])\n",
    "                    g_ba = gab(omega_a, omega_b, args['lambda_2'])\n",
    "                    ma_ba = a.dag() * sigmam_i * b * b.dag() * sigmam_i.dag() * a\n",
    "                    c_coef += np.sqrt(Nba * (g_ba ** 2) * ma_ba)\n",
    "                elif omega_a > omega_b:  # Excitation transitions\n",
    "                    Nab = bose_einstein_distribution(omega_a - omega_b, args['T'])\n",
    "                    g_ab = gab(omega_b, omega_a, args['lambda_2'])\n",
    "                    ma_ab = b.dag() * sigmam_i * a * a.dag() * sigmam_i.dag() * b\n",
    "                    c_coef += np.sqrt((Nab + 1) * (g_ab ** 2) * ma_ab)\n",
    "            # Store c_coef for transition (a_i, b_i)\n",
    "            transition_key = (a_i, a_i + b_i + 1)\n",
    "            if transition_key not in c_coef_tracking:\n",
    "                c_coef_tracking[transition_key] = []\n",
    "            c_coef_tracking[transition_key].append(c_coef)\n",
    "    return c_coef_tracking\n",
    "\n",
    "# Define args\n",
    "args = {\n",
    "    \"args_H\": lambda t: omega_t(t) * X_L + delta_t(t) * Z_L - 0 * sum(S),\n",
    "    \"n_qubits\": 3,\n",
    "    \"lambda_2\": 0.1,\n",
    "    \"T\": 100\n",
    "}\n"
   ]
  },
  {
   "cell_type": "code",
   "execution_count": 12,
   "id": "69b72a2f1d60d3ac",
   "metadata": {
    "ExecuteTime": {
     "end_time": "2025-07-30T12:24:04.578270Z",
     "start_time": "2025-07-30T12:24:04.258980Z"
    }
   },
   "outputs": [
    {
     "data": {
      "application/vnd.plotly.v1+json": {
       "config": {
        "plotlyServerURL": "https://plot.ly"
       },
       "data": [
        {
         "mode": "markers",
         "name": "Transition (0, 1)",
         "type": "scatter",
         "x": {
          "bdata": "AAAAAAAAAACamZmZmZm5P5qZmZmZmck/NDMzMzMz0z+amZmZmZnZPwAAAAAAAOA/NDMzMzMz4z9nZmZmZmbmP5qZmZmZmek/zczMzMzM7D8AAAAAAADwP5qZmZmZmfE/NDMzMzMz8z/NzMzMzMz0P2dmZmZmZvY/AAAAAAAA+D+amZmZmZn5PzQzMzMzM/s/zczMzMzM/D9nZmZmZmb+PwAAAAAAAABAzczMzMzMAECamZmZmZkBQGdmZmZmZgJANDMzMzMzA0AAAAAAAAAEQM3MzMzMzARAmpmZmZmZBUBnZmZmZmYGQDQzMzMzMwdAAAAAAAAACEDNzMzMzMwIQJqZmZmZmQlAZ2ZmZmZmCkA0MzMzMzMLQAAAAAAAAAxAzczMzMzMDECamZmZmZkNQGdmZmZmZg5ANDMzMzMzD0AAAAAAAAAQQGdmZmZmZhBAzczMzMzMEEAzMzMzMzMRQJqZmZmZmRFAAAAAAAAAEkBnZmZmZmYSQM3MzMzMzBJANDMzMzMzE0CamZmZmZkTQAAAAAAAABRAZ2ZmZmZmFEDNzMzMzMwUQDQzMzMzMxVAmpmZmZmZFUAAAAAAAAAWQGdmZmZmZhZAzczMzMzMFkA0MzMzMzMXQJqZmZmZmRdAAAAAAAAAGEBnZmZmZmYYQM3MzMzMzBhANDMzMzMzGUCamZmZmZkZQAAAAAAAABpAZ2ZmZmZmGkDNzMzMzMwaQDQzMzMzMxtAmpmZmZmZG0AAAAAAAAAcQGdmZmZmZhxAzczMzMzMHEA0MzMzMzMdQJqZmZmZmR1AAAAAAAAAHkBnZmZmZmYeQM3MzMzMzB5ANDMzMzMzH0CamZmZmZkfQAAAAAAAACBAMzMzMzMzIEBnZmZmZmYgQJqZmZmZmSBAzczMzMzMIEAAAAAAAAAhQDMzMzMzMyFAZ2ZmZmZmIUCamZmZmZkhQM3MzMzMzCFAAAAAAAAAIkAzMzMzMzMiQGdmZmZmZiJAmpmZmZmZIkDNzMzMzMwiQAAAAAAAACNANDMzMzMzI0BnZmZmZmYjQJqZmZmZmSNAzczMzMzMI0AAAAAAAAAkQA==",
          "dtype": "f8"
         },
         "y": [
          0,
          0.00015498110360226972,
          0.0006202892400343813,
          0.0013970442652811949,
          0.0024871965385681004,
          0.005016622430801204,
          0.005620434338963759,
          0.007672910290708665,
          0.011901528697061056,
          0.012784603441498996,
          0.019701947485426946,
          0.019308769955404512,
          0.023136471147940547,
          0.02736670759429653,
          0.03202333771701321,
          0.03713470754112446,
          0.04772910160175864,
          0.05838999107478207,
          0.05798684664547841,
          0.06289171239364434,
          0.07091198879920427,
          0.07969743532287131,
          0.0893345707002923,
          0.12443351687072707,
          0.11158705064911377,
          0.12446161802320733,
          0.13871416805617465,
          0.15454140350164744,
          0.17217799833321853,
          0.1919055340264269,
          0.2140640774910181,
          0.2390673572011321,
          0.2674229156330444,
          0.2997592609449421,
          0.3368630489689232,
          0.3797309411008112,
          0.4296434390464465,
          0.4882724962385073,
          0.5578425869413447,
          0.6413792556078383,
          0.7431064343213741,
          0.8691083663987024,
          1.0284879131848625,
          1.2355180363103146,
          1.5139457754844698,
          1.9064630638635345,
          2.498387408922641,
          3.488709949392543,
          5.474297602253747,
          11.439327251829702,
          0,
          12.438763834486917,
          6.472059894391876,
          4.483733800862286,
          3.489682835860354,
          2.893136678084941,
          2.4952171555463942,
          2.210729702826825,
          1.9971092077961898,
          1.8307340130383385,
          1.6974508463324813,
          1.588267751417415,
          1.497200628841594,
          1.4201139219152756,
          1.354058462424105,
          1.2968744962801781,
          1.2469438641062305,
          1.2030298915955853,
          1.1641708440526544,
          1.1296071741486389,
          1.0987307018137544,
          1.071048387101634,
          1.0461560296823167,
          1.0237188556424175,
          1.0034569689054713,
          0.985134294855,
          0.9685500685483438,
          0.953532202813489,
          0.9399320632908947,
          0.9276203096390636,
          0.9164835546282721,
          0.9825028808378621,
          0.8973455238865929,
          0.8942899521634309,
          0.8818388482814659,
          0.8752706368614924,
          0.8694106476042575,
          0.8642036404934555,
          0.8611151227115567,
          0.855547908289116,
          0.8520077588647288,
          0.8489372341252677,
          0.8462985985426145,
          0.8440572554113444,
          0.8421818641431305,
          0.8406445262071829,
          0.839421018242581,
          0.8384910485924169,
          0.8378385123833496,
          0.8374517207944089,
          0.8373235826323617
         ]
        },
        {
         "mode": "markers",
         "name": "Transition (0, 2)",
         "type": "scatter",
         "x": {
          "bdata": "AAAAAAAAAACamZmZmZm5P5qZmZmZmck/NDMzMzMz0z+amZmZmZnZPwAAAAAAAOA/NDMzMzMz4z9nZmZmZmbmP5qZmZmZmek/zczMzMzM7D8AAAAAAADwP5qZmZmZmfE/NDMzMzMz8z/NzMzMzMz0P2dmZmZmZvY/AAAAAAAA+D+amZmZmZn5PzQzMzMzM/s/zczMzMzM/D9nZmZmZmb+PwAAAAAAAABAzczMzMzMAECamZmZmZkBQGdmZmZmZgJANDMzMzMzA0AAAAAAAAAEQM3MzMzMzARAmpmZmZmZBUBnZmZmZmYGQDQzMzMzMwdAAAAAAAAACEDNzMzMzMwIQJqZmZmZmQlAZ2ZmZmZmCkA0MzMzMzMLQAAAAAAAAAxAzczMzMzMDECamZmZmZkNQGdmZmZmZg5ANDMzMzMzD0AAAAAAAAAQQGdmZmZmZhBAzczMzMzMEEAzMzMzMzMRQJqZmZmZmRFAAAAAAAAAEkBnZmZmZmYSQM3MzMzMzBJANDMzMzMzE0CamZmZmZkTQAAAAAAAABRAZ2ZmZmZmFEDNzMzMzMwUQDQzMzMzMxVAmpmZmZmZFUAAAAAAAAAWQGdmZmZmZhZAzczMzMzMFkA0MzMzMzMXQJqZmZmZmRdAAAAAAAAAGEBnZmZmZmYYQM3MzMzMzBhANDMzMzMzGUCamZmZmZkZQAAAAAAAABpAZ2ZmZmZmGkDNzMzMzMwaQDQzMzMzMxtAmpmZmZmZG0AAAAAAAAAcQGdmZmZmZhxAzczMzMzMHEA0MzMzMzMdQJqZmZmZmR1AAAAAAAAAHkBnZmZmZmYeQM3MzMzMzB5ANDMzMzMzH0CamZmZmZkfQAAAAAAAACBAMzMzMzMzIEBnZmZmZmYgQJqZmZmZmSBAzczMzMzMIEAAAAAAAAAhQDMzMzMzMyFAZ2ZmZmZmIUCamZmZmZkhQM3MzMzMzCFAAAAAAAAAIkAzMzMzMzMiQGdmZmZmZiJAmpmZmZmZIkDNzMzMzMwiQAAAAAAAACNANDMzMzMzI0BnZmZmZmYjQJqZmZmZmSNAzczMzMzMI0AAAAAAAAAkQA==",
          "dtype": "f8"
         },
         "y": [
          0,
          0.00015498110360226972,
          0.0006202892400343813,
          0.0013970442652811949,
          0.0024871965385680986,
          0.005249322444920275,
          0.005683624837449009,
          0.00767291029070866,
          0.014149436683680393,
          0.012784603441498996,
          0.019701947485426967,
          0.0202552977512674,
          0.023937028470222766,
          0.02736670759429653,
          0.03202333771701321,
          0.03713470754112446,
          0.06396311440733321,
          0.06658405865223813,
          0.07188446729336562,
          0.06289171239364438,
          0.07091198879920427,
          0.07969743532287131,
          0.08933457070029228,
          0.09992476438076635,
          0.11158705064911377,
          0.12446161802320733,
          0.13871416805617465,
          0.15454140350164744,
          0.1721779983332186,
          0.19190553402642677,
          0.21406407749101802,
          0.23906735720113184,
          0.2674229156330444,
          0.2997592609449421,
          0.3368630489689232,
          0.3797309411008112,
          0.42964343904644486,
          0.4882724962385076,
          0.5578425869413448,
          0.6413792556078378,
          0.7431064343213689,
          0.8691083663987026,
          1.0284879131848625,
          1.2355180363103146,
          1.5139457754844698,
          1.9064630638635345,
          2.498387408922641,
          3.4887099493925424,
          5.4742976022537455,
          11.439327251829702,
          0,
          12.43876383448691,
          6.472059894391875,
          4.483733800862284,
          3.489682835860354,
          2.89313667808494,
          2.4952171555463956,
          2.2107297028268245,
          1.9971092077961907,
          1.830734013038338,
          1.697450846332481,
          1.5882677514174144,
          1.4972006288415938,
          1.4201139219152759,
          1.3540584624241054,
          1.2968744962801781,
          1.2469438641062305,
          1.2030298915955855,
          1.1641708440526544,
          1.1296071741486386,
          1.0987307018137544,
          1.0710483871016345,
          1.0461560296823174,
          1.0237188556424184,
          1.0034569689054718,
          0.985134294854999,
          0.9685500685483436,
          0.9535322028134874,
          0.9399320632908946,
          0.9276203096390636,
          0.9164835546282721,
          0.9825028808378619,
          0.8973455238865927,
          0.8946117700175413,
          0.8983596353626859,
          0.8752706368614924,
          0.8694106476042576,
          0.8642036404934555,
          0.8657186132535482,
          0.855547908289116,
          0.8520077588647287,
          0.8489372341252677,
          0.8462985985426145,
          0.8440572554113444,
          1.0810725559720376,
          0.8406445262071829,
          0.839421018242581,
          0.8384910485924169,
          0.8378385123833496,
          0.8374517207944089,
          0.8373235826323617
         ]
        },
        {
         "mode": "markers",
         "name": "Transition (0, 3)",
         "type": "scatter",
         "x": {
          "bdata": "AAAAAAAAAACamZmZmZm5P5qZmZmZmck/NDMzMzMz0z+amZmZmZnZPwAAAAAAAOA/NDMzMzMz4z9nZmZmZmbmP5qZmZmZmek/zczMzMzM7D8AAAAAAADwP5qZmZmZmfE/NDMzMzMz8z/NzMzMzMz0P2dmZmZmZvY/AAAAAAAA+D+amZmZmZn5PzQzMzMzM/s/zczMzMzM/D9nZmZmZmb+PwAAAAAAAABAzczMzMzMAECamZmZmZkBQGdmZmZmZgJANDMzMzMzA0AAAAAAAAAEQM3MzMzMzARAmpmZmZmZBUBnZmZmZmYGQDQzMzMzMwdAAAAAAAAACEDNzMzMzMwIQJqZmZmZmQlAZ2ZmZmZmCkA0MzMzMzMLQAAAAAAAAAxAzczMzMzMDECamZmZmZkNQGdmZmZmZg5ANDMzMzMzD0AAAAAAAAAQQGdmZmZmZhBAzczMzMzMEEAzMzMzMzMRQJqZmZmZmRFAAAAAAAAAEkBnZmZmZmYSQM3MzMzMzBJANDMzMzMzE0CamZmZmZkTQAAAAAAAABRAZ2ZmZmZmFEDNzMzMzMwUQDQzMzMzMxVAmpmZmZmZFUAAAAAAAAAWQGdmZmZmZhZAzczMzMzMFkA0MzMzMzMXQJqZmZmZmRdAAAAAAAAAGEBnZmZmZmYYQM3MzMzMzBhANDMzMzMzGUCamZmZmZkZQAAAAAAAABpAZ2ZmZmZmGkDNzMzMzMwaQDQzMzMzMxtAmpmZmZmZG0AAAAAAAAAcQGdmZmZmZhxAzczMzMzMHEA0MzMzMzMdQJqZmZmZmR1AAAAAAAAAHkBnZmZmZmYeQM3MzMzMzB5ANDMzMzMzH0CamZmZmZkfQAAAAAAAACBAMzMzMzMzIEBnZmZmZmYgQJqZmZmZmSBAzczMzMzMIEAAAAAAAAAhQDMzMzMzMyFAZ2ZmZmZmIUCamZmZmZkhQM3MzMzMzCFAAAAAAAAAIkAzMzMzMzMiQGdmZmZmZiJAmpmZmZmZIkDNzMzMzMwiQAAAAAAAACNANDMzMzMzI0BnZmZmZmYjQJqZmZmZmSNAzczMzMzMI0AAAAAAAAAkQA==",
          "dtype": "f8"
         },
         "y": [
          0,
          0.00015498110360226983,
          0.0006202892400343817,
          0.001397044265281196,
          0.002487196538568098,
          0.005596747433723467,
          0.005683624837449008,
          0.00767291029070866,
          0.014514915085602688,
          0.01278460344149901,
          0.015863659345657723,
          0.020255297751267377,
          0.023937028470222752,
          0.02736670759429655,
          0.03202333771701324,
          0.03713470754112449,
          0.06309380846101255,
          0.07020944143108312,
          0.07282926810823992,
          0.06289171239364436,
          0.07091198879920432,
          0.07969743532287135,
          0.08933457070029234,
          0.12443351687072708,
          0.11158705064911383,
          0.12446161802320738,
          0.13871416805617473,
          0.1545414035016475,
          0.1721779983332184,
          0.19190553402642674,
          0.21406407749101813,
          0.239067357201132,
          0.26742291563304443,
          0.2997592609449423,
          0.3368630489689232,
          0.3797309411008114,
          0.4296434390464446,
          0.4882724962385072,
          0.5578425869413447,
          0.6413792556078382,
          0.7431064343213694,
          0.8691083663987027,
          1.028487913184852,
          1.2355180363103153,
          1.513945775484471,
          1.9064630638635347,
          2.4983874089226425,
          3.4887099493925446,
          5.4742976022537455,
          11.43932725182971,
          0,
          12.438763834486908,
          6.47205989439188,
          4.483733800862284,
          3.489682835860355,
          2.89313667808494,
          2.495217155546396,
          2.2107297028268245,
          1.9971092077961903,
          1.830734013038338,
          1.6974508463324807,
          1.5882677514174144,
          1.4972006288415942,
          1.420113921915276,
          1.354058462424105,
          1.2968744962801781,
          1.2469438641062307,
          1.2030298915955855,
          1.1641708440526517,
          1.1296071741486386,
          1.0987307018137544,
          1.0710483871016327,
          1.0461560296823176,
          1.023718855642418,
          1.0034569689054706,
          0.9851342948549999,
          0.9685500685483422,
          0.9535322028134876,
          0.9399320632908946,
          0.9276203096390636,
          0.9164835546282721,
          0.9064216585689979,
          0.8973455238865927,
          0.8996694639344052,
          0.8983596353626881,
          0.8752706368614924,
          0.8694106476042576,
          0.8642036404934555,
          0.8672100184232545,
          0.855547908289116,
          0.8520077588647287,
          0.8489372341252677,
          0.8462985985426145,
          0.8440572554113444,
          1.0810725559720373,
          0.8406445262071827,
          0.839421018242581,
          0.8384910485924169,
          0.8378385123833496,
          0.8374517207944089,
          0.8373235826323617
         ]
        },
        {
         "mode": "markers",
         "name": "Transition (0, 4)",
         "type": "scatter",
         "x": {
          "bdata": "AAAAAAAAAACamZmZmZm5P5qZmZmZmck/NDMzMzMz0z+amZmZmZnZPwAAAAAAAOA/NDMzMzMz4z9nZmZmZmbmP5qZmZmZmek/zczMzMzM7D8AAAAAAADwP5qZmZmZmfE/NDMzMzMz8z/NzMzMzMz0P2dmZmZmZvY/AAAAAAAA+D+amZmZmZn5PzQzMzMzM/s/zczMzMzM/D9nZmZmZmb+PwAAAAAAAABAzczMzMzMAECamZmZmZkBQGdmZmZmZgJANDMzMzMzA0AAAAAAAAAEQM3MzMzMzARAmpmZmZmZBUBnZmZmZmYGQDQzMzMzMwdAAAAAAAAACEDNzMzMzMwIQJqZmZmZmQlAZ2ZmZmZmCkA0MzMzMzMLQAAAAAAAAAxAzczMzMzMDECamZmZmZkNQGdmZmZmZg5ANDMzMzMzD0AAAAAAAAAQQGdmZmZmZhBAzczMzMzMEEAzMzMzMzMRQJqZmZmZmRFAAAAAAAAAEkBnZmZmZmYSQM3MzMzMzBJANDMzMzMzE0CamZmZmZkTQAAAAAAAABRAZ2ZmZmZmFEDNzMzMzMwUQDQzMzMzMxVAmpmZmZmZFUAAAAAAAAAWQGdmZmZmZhZAzczMzMzMFkA0MzMzMzMXQJqZmZmZmRdAAAAAAAAAGEBnZmZmZmYYQM3MzMzMzBhANDMzMzMzGUCamZmZmZkZQAAAAAAAABpAZ2ZmZmZmGkDNzMzMzMwaQDQzMzMzMxtAmpmZmZmZG0AAAAAAAAAcQGdmZmZmZhxAzczMzMzMHEA0MzMzMzMdQJqZmZmZmR1AAAAAAAAAHkBnZmZmZmYeQM3MzMzMzB5ANDMzMzMzH0CamZmZmZkfQAAAAAAAACBAMzMzMzMzIEBnZmZmZmYgQJqZmZmZmSBAzczMzMzMIEAAAAAAAAAhQDMzMzMzMyFAZ2ZmZmZmIUCamZmZmZkhQM3MzMzMzCFAAAAAAAAAIkAzMzMzMzMiQGdmZmZmZiJAmpmZmZmZIkDNzMzMzMwiQAAAAAAAACNANDMzMzMzI0BnZmZmZmYjQJqZmZmZmSNAzczMzMzMI0AAAAAAAAAkQA==",
          "dtype": "f8"
         },
         "y": [
          0,
          0.004492854007204643,
          0.00898652946075758,
          0.013481989019424474,
          0.01798047227841278,
          0.02261363834381944,
          0.03817285876931102,
          0.03151313918563282,
          0.03644871865217638,
          0.04059547781055034,
          0.06384707534450372,
          0.07028688012056147,
          0.07683323060931622,
          0.059077376649480234,
          0.06380321358892178,
          0.06858778992763231,
          0.0754586400333403,
          0.08152008825469009,
          0.11134570584161997,
          0.08851632196465678,
          0.09375269072959108,
          0.09911565022837406,
          0.1046186634629107,
          0.12661916065631812,
          0.11610117106661659,
          0.12210984398047767,
          0.12831672921387757,
          0.13473693091331124,
          0.1413854507849265,
          0.14827693308724857,
          0.1554253367843645,
          0.1628435192738374,
          0.17054271494984105,
          0.1785318916363628,
          0.18681696928360078,
          0.1953998891501045,
          0.20427752911459984,
          0.21344047306778258,
          0.22287166081792598,
          0.23254497055479773,
          0.24242381870246613,
          0.25245990031905324,
          0.2625922328549413,
          0.2727466995270721,
          0.2828363048835211,
          0.2927623412625133,
          0.30241660873514,
          0.31168472667735786,
          0.3204504278764992,
          0.3286005570014362,
          0,
          0.3426483874739082,
          0.348380894264253,
          0.35317456825229643,
          0.3569980251429247,
          0.3598415887985877,
          0.36171566326694404,
          0.3626480028426761,
          0.3626802910796303,
          0.3618644435012902,
          0.3602589900625901,
          0.3579257992963444,
          0.35492730303776415,
          0.35132428825153317,
          0.3471742514254637,
          0.3425302640590265,
          0.33744027255995884,
          0.3319467474265089,
          0.3260865994831089,
          0.31989129037285874,
          0.3133870768697482,
          0.30659534142844536,
          0.29953297330918727,
          0.2922127749011382,
          0.2846438763012951,
          0.2768321478499267,
          0.268780605378618,
          0.2604898066408079,
          0.251958240007649,
          0.24318270822892252,
          0.23415871103800467,
          0.2248808307318573,
          0.2153431246492843,
          0.3075878685554421,
          0.2751205962271964,
          0.1851122890058072,
          0.17447969538937913,
          0.16356418648295704,
          0.22001031339994362,
          0.14088583808246993,
          0.1291302624351544,
          0.11710704811768884,
          0.10482796835423465,
          0.09230849437346314,
          0.07956788854754018,
          0.06662917348604112,
          0.05351896424974212,
          0.04026715767214747,
          0.026906481304555654,
          0.013471914033791837,
          0
         ]
        },
        {
         "mode": "markers",
         "name": "Transition (0, 5)",
         "type": "scatter",
         "x": {
          "bdata": "AAAAAAAAAACamZmZmZm5P5qZmZmZmck/NDMzMzMz0z+amZmZmZnZPwAAAAAAAOA/NDMzMzMz4z9nZmZmZmbmP5qZmZmZmek/zczMzMzM7D8AAAAAAADwP5qZmZmZmfE/NDMzMzMz8z/NzMzMzMz0P2dmZmZmZvY/AAAAAAAA+D+amZmZmZn5PzQzMzMzM/s/zczMzMzM/D9nZmZmZmb+PwAAAAAAAABAzczMzMzMAECamZmZmZkBQGdmZmZmZgJANDMzMzMzA0AAAAAAAAAEQM3MzMzMzARAmpmZmZmZBUBnZmZmZmYGQDQzMzMzMwdAAAAAAAAACEDNzMzMzMwIQJqZmZmZmQlAZ2ZmZmZmCkA0MzMzMzMLQAAAAAAAAAxAzczMzMzMDECamZmZmZkNQGdmZmZmZg5ANDMzMzMzD0AAAAAAAAAQQGdmZmZmZhBAzczMzMzMEEAzMzMzMzMRQJqZmZmZmRFAAAAAAAAAEkBnZmZmZmYSQM3MzMzMzBJANDMzMzMzE0CamZmZmZkTQAAAAAAAABRAZ2ZmZmZmFEDNzMzMzMwUQDQzMzMzMxVAmpmZmZmZFUAAAAAAAAAWQGdmZmZmZhZAzczMzMzMFkA0MzMzMzMXQJqZmZmZmRdAAAAAAAAAGEBnZmZmZmYYQM3MzMzMzBhANDMzMzMzGUCamZmZmZkZQAAAAAAAABpAZ2ZmZmZmGkDNzMzMzMwaQDQzMzMzMxtAmpmZmZmZG0AAAAAAAAAcQGdmZmZmZhxAzczMzMzMHEA0MzMzMzMdQJqZmZmZmR1AAAAAAAAAHkBnZmZmZmYeQM3MzMzMzB5ANDMzMzMzH0CamZmZmZkfQAAAAAAAACBAMzMzMzMzIEBnZmZmZmYgQJqZmZmZmSBAzczMzMzMIEAAAAAAAAAhQDMzMzMzMyFAZ2ZmZmZmIUCamZmZmZkhQM3MzMzMzCFAAAAAAAAAIkAzMzMzMzMiQGdmZmZmZiJAmpmZmZmZIkDNzMzMzMwiQAAAAAAAACNANDMzMzMzI0BnZmZmZmYjQJqZmZmZmSNAzczMzMzMI0AAAAAAAAAkQA==",
          "dtype": "f8"
         },
         "y": [
          0,
          0.004492854007204643,
          0.00898652946075758,
          0.013481989019424474,
          0.017980472278412783,
          0.023083717147153283,
          0.0269935897802674,
          0.03151313918563282,
          0.03632862815541453,
          0.04059547781055034,
          0.06384707534450372,
          0.04976718677129592,
          0.05440140508128783,
          0.059077376649480234,
          0.06380321358892178,
          0.06858778992763231,
          0.07466101406261362,
          0.0842091151040538,
          0.1262873486846131,
          0.08851632196465678,
          0.09375269072959108,
          0.09911565022837406,
          0.10461866346291067,
          0.11027570001363582,
          0.11610117106661659,
          0.12210984398047767,
          0.12831672921387757,
          0.13473693091331124,
          0.14138545078492634,
          0.1482769330872485,
          0.15542533678436452,
          0.16284351927383733,
          0.17054271494984105,
          0.1785318916363628,
          0.18681696928360073,
          0.1953998891501045,
          0.20427752911459984,
          0.21344047306778258,
          0.22287166081792598,
          0.2325449705547977,
          0.24242381870246602,
          0.25245990031905313,
          0.2625922328549414,
          0.27274669952707226,
          0.2828363048835211,
          0.2927623412625134,
          0.30241660873514,
          0.3116847266773579,
          0.3204504278764991,
          0.3286005570014362,
          0.3360303396319669,
          0.3426483874739082,
          0.3483808942642531,
          0.35317456825229643,
          0.3569980251429247,
          0.3598415887985878,
          0.3617156632669439,
          0.3626480028426761,
          0.3626802910796304,
          0.3618644435012904,
          0.3602589900625901,
          0.3579257992963444,
          0.3549273030377641,
          0.351324288251533,
          0.3471742514254638,
          0.3425302640590265,
          0.33744027255995895,
          0.331946747426509,
          0.32608659948310903,
          0.31989129037285874,
          0.3133870768697482,
          0.3065953414284453,
          0.2995329733091872,
          0.2922127749011383,
          0.28464387630129495,
          0.2768321478499267,
          0.2687806053786177,
          0.26048980664080806,
          0.25195824000764916,
          0.24318270822892252,
          0.23415871103800476,
          0.28685770965849594,
          0.2153431246492844,
          0.31009996359668124,
          0.2751205962271964,
          0.1851122890058072,
          0.17447969538937913,
          0.16356418648295717,
          0.22094382612508423,
          0.14088583808246993,
          0.1291302624351545,
          0.11710704811768892,
          0.1048279683542347,
          0.09230849437346314,
          0.10379159751137715,
          0.06662917348604112,
          0.05351896424974212,
          0.04026715767214747,
          0.026906481304555654,
          0.013471914033791844,
          0
         ]
        },
        {
         "mode": "markers",
         "name": "Transition (0, 6)",
         "type": "scatter",
         "x": {
          "bdata": "AAAAAAAAAACamZmZmZm5P5qZmZmZmck/NDMzMzMz0z+amZmZmZnZPwAAAAAAAOA/NDMzMzMz4z9nZmZmZmbmP5qZmZmZmek/zczMzMzM7D8AAAAAAADwP5qZmZmZmfE/NDMzMzMz8z/NzMzMzMz0P2dmZmZmZvY/AAAAAAAA+D+amZmZmZn5PzQzMzMzM/s/zczMzMzM/D9nZmZmZmb+PwAAAAAAAABAzczMzMzMAECamZmZmZkBQGdmZmZmZgJANDMzMzMzA0AAAAAAAAAEQM3MzMzMzARAmpmZmZmZBUBnZmZmZmYGQDQzMzMzMwdAAAAAAAAACEDNzMzMzMwIQJqZmZmZmQlAZ2ZmZmZmCkA0MzMzMzMLQAAAAAAAAAxAzczMzMzMDECamZmZmZkNQGdmZmZmZg5ANDMzMzMzD0AAAAAAAAAQQGdmZmZmZhBAzczMzMzMEEAzMzMzMzMRQJqZmZmZmRFAAAAAAAAAEkBnZmZmZmYSQM3MzMzMzBJANDMzMzMzE0CamZmZmZkTQAAAAAAAABRAZ2ZmZmZmFEDNzMzMzMwUQDQzMzMzMxVAmpmZmZmZFUAAAAAAAAAWQGdmZmZmZhZAzczMzMzMFkA0MzMzMzMXQJqZmZmZmRdAAAAAAAAAGEBnZmZmZmYYQM3MzMzMzBhANDMzMzMzGUCamZmZmZkZQAAAAAAAABpAZ2ZmZmZmGkDNzMzMzMwaQDQzMzMzMxtAmpmZmZmZG0AAAAAAAAAcQGdmZmZmZhxAzczMzMzMHEA0MzMzMzMdQJqZmZmZmR1AAAAAAAAAHkBnZmZmZmYeQM3MzMzMzB5ANDMzMzMzH0CamZmZmZkfQAAAAAAAACBAMzMzMzMzIEBnZmZmZmYgQJqZmZmZmSBAzczMzMzMIEAAAAAAAAAhQDMzMzMzMyFAZ2ZmZmZmIUCamZmZmZkhQM3MzMzMzCFAAAAAAAAAIkAzMzMzMzMiQGdmZmZmZiJAmpmZmZmZIkDNzMzMzMwiQAAAAAAAACNANDMzMzMzI0BnZmZmZmYjQJqZmZmZmSNAzczMzMzMI0AAAAAAAAAkQA==",
          "dtype": "f8"
         },
         "y": [
          0,
          0.004492854007204643,
          0.00898652946075758,
          0.013481989019424474,
          0.01798047227841278,
          0.0229564113267231,
          0.03817285876931102,
          0.031513139185632824,
          0.03671423948220189,
          0.04059547781055034,
          0.045167390276431345,
          0.07028688012056147,
          0.07683323060931624,
          0.05907737664948023,
          0.06380321358892177,
          0.06858778992763231,
          0.07465904326768694,
          0.08663301940077389,
          0.10609393617624097,
          0.0885163219646568,
          0.09375269072959108,
          0.09911565022837401,
          0.10461866346291065,
          0.12661916065631812,
          0.11610117106661658,
          0.12210984398047767,
          0.12831672921387755,
          0.13473693091331124,
          0.14138545078492643,
          0.14827693308724854,
          0.15542533678436443,
          0.16284351927383736,
          0.17054271494984102,
          0.1785318916363628,
          0.1868169692836008,
          0.19539988915010445,
          0.2042775291145999,
          0.21344047306778252,
          0.222871660817926,
          0.23254497055479767,
          0.24242381870246618,
          0.2524599003190532,
          0.2625922328549414,
          0.27274669952707226,
          0.28283630488352096,
          0.2927623412625134,
          0.30241660873513987,
          0.3116847266773579,
          0.3204504278764991,
          0.32860055700143603,
          0.3360303396319669,
          0.342648387473908,
          0.34838089426425295,
          0.35317456825229626,
          0.35699802514292456,
          0.35984158879858763,
          0.36171566326694415,
          0.362648002842676,
          0.3626802910796304,
          0.3618644435012904,
          0.36025899006259005,
          0.3579257992963442,
          0.35492730303776426,
          0.35132428825153295,
          0.3471742514254639,
          0.3425302640590263,
          0.33744027255995895,
          0.331946747426509,
          0.3260865994831091,
          0.3198912903728586,
          0.31338707686974815,
          0.3065953414284453,
          0.299532973309187,
          0.2922127749011383,
          0.2846438763012949,
          0.2768321478499267,
          0.2687806053786178,
          0.26048980664080806,
          0.25195824000764916,
          0.24318270822892235,
          0.23415871103800476,
          0.28685770965849605,
          0.2153431246492844,
          0.23744395360446727,
          0.1954642671406923,
          0.1851122890058071,
          0.17447969538937902,
          0.16356418648295717,
          0.17346193056593226,
          0.1408858380824698,
          0.1291302624351545,
          0.11710704811768892,
          0.1048279683542347,
          0.09230849437346308,
          0.1037915975113772,
          0.06662917348604105,
          0.05351896424974208,
          0.04026715767214743,
          0.026906481304555637,
          0.013471914033791844,
          0
         ]
        },
        {
         "mode": "markers",
         "name": "Transition (0, 7)",
         "type": "scatter",
         "x": {
          "bdata": "AAAAAAAAAACamZmZmZm5P5qZmZmZmck/NDMzMzMz0z+amZmZmZnZPwAAAAAAAOA/NDMzMzMz4z9nZmZmZmbmP5qZmZmZmek/zczMzMzM7D8AAAAAAADwP5qZmZmZmfE/NDMzMzMz8z/NzMzMzMz0P2dmZmZmZvY/AAAAAAAA+D+amZmZmZn5PzQzMzMzM/s/zczMzMzM/D9nZmZmZmb+PwAAAAAAAABAzczMzMzMAECamZmZmZkBQGdmZmZmZgJANDMzMzMzA0AAAAAAAAAEQM3MzMzMzARAmpmZmZmZBUBnZmZmZmYGQDQzMzMzMwdAAAAAAAAACEDNzMzMzMwIQJqZmZmZmQlAZ2ZmZmZmCkA0MzMzMzMLQAAAAAAAAAxAzczMzMzMDECamZmZmZkNQGdmZmZmZg5ANDMzMzMzD0AAAAAAAAAQQGdmZmZmZhBAzczMzMzMEEAzMzMzMzMRQJqZmZmZmRFAAAAAAAAAEkBnZmZmZmYSQM3MzMzMzBJANDMzMzMzE0CamZmZmZkTQAAAAAAAABRAZ2ZmZmZmFEDNzMzMzMwUQDQzMzMzMxVAmpmZmZmZFUAAAAAAAAAWQGdmZmZmZhZAzczMzMzMFkA0MzMzMzMXQJqZmZmZmRdAAAAAAAAAGEBnZmZmZmYYQM3MzMzMzBhANDMzMzMzGUCamZmZmZkZQAAAAAAAABpAZ2ZmZmZmGkDNzMzMzMwaQDQzMzMzMxtAmpmZmZmZG0AAAAAAAAAcQGdmZmZmZhxAzczMzMzMHEA0MzMzMzMdQJqZmZmZmR1AAAAAAAAAHkBnZmZmZmYeQM3MzMzMzB5ANDMzMzMzH0CamZmZmZkfQAAAAAAAACBAMzMzMzMzIEBnZmZmZmYgQJqZmZmZmSBAzczMzMzMIEAAAAAAAAAhQDMzMzMzMyFAZ2ZmZmZmIUCamZmZmZkhQM3MzMzMzCFAAAAAAAAAIkAzMzMzMzMiQGdmZmZmZiJAmpmZmZmZIkDNzMzMzMwiQAAAAAAAACNANDMzMzMzI0BnZmZmZmYjQJqZmZmZmSNAzczMzMzMI0AAAAAAAAAkQA==",
          "dtype": "f8"
         },
         "y": [
          0,
          0,
          0,
          0,
          0,
          0,
          1.4040966083584e-19,
          0,
          0,
          0,
          6.164858671647988e-19,
          4.688701511558766e-19,
          7.778244213083839e-19,
          0,
          0,
          0,
          0,
          0,
          0,
          0,
          0,
          0,
          0,
          0,
          0,
          0,
          0,
          0,
          0,
          0,
          0,
          0,
          0,
          0,
          0,
          0,
          0,
          0,
          0,
          0,
          0,
          0,
          0,
          0,
          0,
          0,
          0,
          0,
          0,
          0,
          0.33603033963196677,
          0,
          0,
          0,
          0,
          0,
          0,
          0,
          0,
          0,
          0,
          0,
          0,
          0,
          0,
          0,
          0,
          0,
          0,
          0,
          0,
          0,
          0,
          0,
          0,
          0,
          0,
          0,
          0,
          0,
          0,
          0,
          0,
          0,
          0,
          0,
          0,
          0,
          1.0025237137141954e-16,
          0,
          0,
          0,
          0,
          0,
          1.002318000185546e-16,
          0,
          0,
          0,
          0,
          0,
          0
         ]
        }
       ],
       "layout": {
        "legend": {
         "title": {
          "text": "Transitions"
         }
        },
        "template": {
         "data": {
          "bar": [
           {
            "error_x": {
             "color": "#2a3f5f"
            },
            "error_y": {
             "color": "#2a3f5f"
            },
            "marker": {
             "line": {
              "color": "#E5ECF6",
              "width": 0.5
             },
             "pattern": {
              "fillmode": "overlay",
              "size": 10,
              "solidity": 0.2
             }
            },
            "type": "bar"
           }
          ],
          "barpolar": [
           {
            "marker": {
             "line": {
              "color": "#E5ECF6",
              "width": 0.5
             },
             "pattern": {
              "fillmode": "overlay",
              "size": 10,
              "solidity": 0.2
             }
            },
            "type": "barpolar"
           }
          ],
          "carpet": [
           {
            "aaxis": {
             "endlinecolor": "#2a3f5f",
             "gridcolor": "white",
             "linecolor": "white",
             "minorgridcolor": "white",
             "startlinecolor": "#2a3f5f"
            },
            "baxis": {
             "endlinecolor": "#2a3f5f",
             "gridcolor": "white",
             "linecolor": "white",
             "minorgridcolor": "white",
             "startlinecolor": "#2a3f5f"
            },
            "type": "carpet"
           }
          ],
          "choropleth": [
           {
            "colorbar": {
             "outlinewidth": 0,
             "ticks": ""
            },
            "type": "choropleth"
           }
          ],
          "contour": [
           {
            "colorbar": {
             "outlinewidth": 0,
             "ticks": ""
            },
            "colorscale": [
             [
              0,
              "#0d0887"
             ],
             [
              0.1111111111111111,
              "#46039f"
             ],
             [
              0.2222222222222222,
              "#7201a8"
             ],
             [
              0.3333333333333333,
              "#9c179e"
             ],
             [
              0.4444444444444444,
              "#bd3786"
             ],
             [
              0.5555555555555556,
              "#d8576b"
             ],
             [
              0.6666666666666666,
              "#ed7953"
             ],
             [
              0.7777777777777778,
              "#fb9f3a"
             ],
             [
              0.8888888888888888,
              "#fdca26"
             ],
             [
              1,
              "#f0f921"
             ]
            ],
            "type": "contour"
           }
          ],
          "contourcarpet": [
           {
            "colorbar": {
             "outlinewidth": 0,
             "ticks": ""
            },
            "type": "contourcarpet"
           }
          ],
          "heatmap": [
           {
            "colorbar": {
             "outlinewidth": 0,
             "ticks": ""
            },
            "colorscale": [
             [
              0,
              "#0d0887"
             ],
             [
              0.1111111111111111,
              "#46039f"
             ],
             [
              0.2222222222222222,
              "#7201a8"
             ],
             [
              0.3333333333333333,
              "#9c179e"
             ],
             [
              0.4444444444444444,
              "#bd3786"
             ],
             [
              0.5555555555555556,
              "#d8576b"
             ],
             [
              0.6666666666666666,
              "#ed7953"
             ],
             [
              0.7777777777777778,
              "#fb9f3a"
             ],
             [
              0.8888888888888888,
              "#fdca26"
             ],
             [
              1,
              "#f0f921"
             ]
            ],
            "type": "heatmap"
           }
          ],
          "histogram": [
           {
            "marker": {
             "pattern": {
              "fillmode": "overlay",
              "size": 10,
              "solidity": 0.2
             }
            },
            "type": "histogram"
           }
          ],
          "histogram2d": [
           {
            "colorbar": {
             "outlinewidth": 0,
             "ticks": ""
            },
            "colorscale": [
             [
              0,
              "#0d0887"
             ],
             [
              0.1111111111111111,
              "#46039f"
             ],
             [
              0.2222222222222222,
              "#7201a8"
             ],
             [
              0.3333333333333333,
              "#9c179e"
             ],
             [
              0.4444444444444444,
              "#bd3786"
             ],
             [
              0.5555555555555556,
              "#d8576b"
             ],
             [
              0.6666666666666666,
              "#ed7953"
             ],
             [
              0.7777777777777778,
              "#fb9f3a"
             ],
             [
              0.8888888888888888,
              "#fdca26"
             ],
             [
              1,
              "#f0f921"
             ]
            ],
            "type": "histogram2d"
           }
          ],
          "histogram2dcontour": [
           {
            "colorbar": {
             "outlinewidth": 0,
             "ticks": ""
            },
            "colorscale": [
             [
              0,
              "#0d0887"
             ],
             [
              0.1111111111111111,
              "#46039f"
             ],
             [
              0.2222222222222222,
              "#7201a8"
             ],
             [
              0.3333333333333333,
              "#9c179e"
             ],
             [
              0.4444444444444444,
              "#bd3786"
             ],
             [
              0.5555555555555556,
              "#d8576b"
             ],
             [
              0.6666666666666666,
              "#ed7953"
             ],
             [
              0.7777777777777778,
              "#fb9f3a"
             ],
             [
              0.8888888888888888,
              "#fdca26"
             ],
             [
              1,
              "#f0f921"
             ]
            ],
            "type": "histogram2dcontour"
           }
          ],
          "mesh3d": [
           {
            "colorbar": {
             "outlinewidth": 0,
             "ticks": ""
            },
            "type": "mesh3d"
           }
          ],
          "parcoords": [
           {
            "line": {
             "colorbar": {
              "outlinewidth": 0,
              "ticks": ""
             }
            },
            "type": "parcoords"
           }
          ],
          "pie": [
           {
            "automargin": true,
            "type": "pie"
           }
          ],
          "scatter": [
           {
            "fillpattern": {
             "fillmode": "overlay",
             "size": 10,
             "solidity": 0.2
            },
            "type": "scatter"
           }
          ],
          "scatter3d": [
           {
            "line": {
             "colorbar": {
              "outlinewidth": 0,
              "ticks": ""
             }
            },
            "marker": {
             "colorbar": {
              "outlinewidth": 0,
              "ticks": ""
             }
            },
            "type": "scatter3d"
           }
          ],
          "scattercarpet": [
           {
            "marker": {
             "colorbar": {
              "outlinewidth": 0,
              "ticks": ""
             }
            },
            "type": "scattercarpet"
           }
          ],
          "scattergeo": [
           {
            "marker": {
             "colorbar": {
              "outlinewidth": 0,
              "ticks": ""
             }
            },
            "type": "scattergeo"
           }
          ],
          "scattergl": [
           {
            "marker": {
             "colorbar": {
              "outlinewidth": 0,
              "ticks": ""
             }
            },
            "type": "scattergl"
           }
          ],
          "scattermap": [
           {
            "marker": {
             "colorbar": {
              "outlinewidth": 0,
              "ticks": ""
             }
            },
            "type": "scattermap"
           }
          ],
          "scattermapbox": [
           {
            "marker": {
             "colorbar": {
              "outlinewidth": 0,
              "ticks": ""
             }
            },
            "type": "scattermapbox"
           }
          ],
          "scatterpolar": [
           {
            "marker": {
             "colorbar": {
              "outlinewidth": 0,
              "ticks": ""
             }
            },
            "type": "scatterpolar"
           }
          ],
          "scatterpolargl": [
           {
            "marker": {
             "colorbar": {
              "outlinewidth": 0,
              "ticks": ""
             }
            },
            "type": "scatterpolargl"
           }
          ],
          "scatterternary": [
           {
            "marker": {
             "colorbar": {
              "outlinewidth": 0,
              "ticks": ""
             }
            },
            "type": "scatterternary"
           }
          ],
          "surface": [
           {
            "colorbar": {
             "outlinewidth": 0,
             "ticks": ""
            },
            "colorscale": [
             [
              0,
              "#0d0887"
             ],
             [
              0.1111111111111111,
              "#46039f"
             ],
             [
              0.2222222222222222,
              "#7201a8"
             ],
             [
              0.3333333333333333,
              "#9c179e"
             ],
             [
              0.4444444444444444,
              "#bd3786"
             ],
             [
              0.5555555555555556,
              "#d8576b"
             ],
             [
              0.6666666666666666,
              "#ed7953"
             ],
             [
              0.7777777777777778,
              "#fb9f3a"
             ],
             [
              0.8888888888888888,
              "#fdca26"
             ],
             [
              1,
              "#f0f921"
             ]
            ],
            "type": "surface"
           }
          ],
          "table": [
           {
            "cells": {
             "fill": {
              "color": "#EBF0F8"
             },
             "line": {
              "color": "white"
             }
            },
            "header": {
             "fill": {
              "color": "#C8D4E3"
             },
             "line": {
              "color": "white"
             }
            },
            "type": "table"
           }
          ]
         },
         "layout": {
          "annotationdefaults": {
           "arrowcolor": "#2a3f5f",
           "arrowhead": 0,
           "arrowwidth": 1
          },
          "autotypenumbers": "strict",
          "coloraxis": {
           "colorbar": {
            "outlinewidth": 0,
            "ticks": ""
           }
          },
          "colorscale": {
           "diverging": [
            [
             0,
             "#8e0152"
            ],
            [
             0.1,
             "#c51b7d"
            ],
            [
             0.2,
             "#de77ae"
            ],
            [
             0.3,
             "#f1b6da"
            ],
            [
             0.4,
             "#fde0ef"
            ],
            [
             0.5,
             "#f7f7f7"
            ],
            [
             0.6,
             "#e6f5d0"
            ],
            [
             0.7,
             "#b8e186"
            ],
            [
             0.8,
             "#7fbc41"
            ],
            [
             0.9,
             "#4d9221"
            ],
            [
             1,
             "#276419"
            ]
           ],
           "sequential": [
            [
             0,
             "#0d0887"
            ],
            [
             0.1111111111111111,
             "#46039f"
            ],
            [
             0.2222222222222222,
             "#7201a8"
            ],
            [
             0.3333333333333333,
             "#9c179e"
            ],
            [
             0.4444444444444444,
             "#bd3786"
            ],
            [
             0.5555555555555556,
             "#d8576b"
            ],
            [
             0.6666666666666666,
             "#ed7953"
            ],
            [
             0.7777777777777778,
             "#fb9f3a"
            ],
            [
             0.8888888888888888,
             "#fdca26"
            ],
            [
             1,
             "#f0f921"
            ]
           ],
           "sequentialminus": [
            [
             0,
             "#0d0887"
            ],
            [
             0.1111111111111111,
             "#46039f"
            ],
            [
             0.2222222222222222,
             "#7201a8"
            ],
            [
             0.3333333333333333,
             "#9c179e"
            ],
            [
             0.4444444444444444,
             "#bd3786"
            ],
            [
             0.5555555555555556,
             "#d8576b"
            ],
            [
             0.6666666666666666,
             "#ed7953"
            ],
            [
             0.7777777777777778,
             "#fb9f3a"
            ],
            [
             0.8888888888888888,
             "#fdca26"
            ],
            [
             1,
             "#f0f921"
            ]
           ]
          },
          "colorway": [
           "#636efa",
           "#EF553B",
           "#00cc96",
           "#ab63fa",
           "#FFA15A",
           "#19d3f3",
           "#FF6692",
           "#B6E880",
           "#FF97FF",
           "#FECB52"
          ],
          "font": {
           "color": "#2a3f5f"
          },
          "geo": {
           "bgcolor": "white",
           "lakecolor": "white",
           "landcolor": "#E5ECF6",
           "showlakes": true,
           "showland": true,
           "subunitcolor": "white"
          },
          "hoverlabel": {
           "align": "left"
          },
          "hovermode": "closest",
          "mapbox": {
           "style": "light"
          },
          "paper_bgcolor": "white",
          "plot_bgcolor": "#E5ECF6",
          "polar": {
           "angularaxis": {
            "gridcolor": "white",
            "linecolor": "white",
            "ticks": ""
           },
           "bgcolor": "#E5ECF6",
           "radialaxis": {
            "gridcolor": "white",
            "linecolor": "white",
            "ticks": ""
           }
          },
          "scene": {
           "xaxis": {
            "backgroundcolor": "#E5ECF6",
            "gridcolor": "white",
            "gridwidth": 2,
            "linecolor": "white",
            "showbackground": true,
            "ticks": "",
            "zerolinecolor": "white"
           },
           "yaxis": {
            "backgroundcolor": "#E5ECF6",
            "gridcolor": "white",
            "gridwidth": 2,
            "linecolor": "white",
            "showbackground": true,
            "ticks": "",
            "zerolinecolor": "white"
           },
           "zaxis": {
            "backgroundcolor": "#E5ECF6",
            "gridcolor": "white",
            "gridwidth": 2,
            "linecolor": "white",
            "showbackground": true,
            "ticks": "",
            "zerolinecolor": "white"
           }
          },
          "shapedefaults": {
           "line": {
            "color": "#2a3f5f"
           }
          },
          "ternary": {
           "aaxis": {
            "gridcolor": "white",
            "linecolor": "white",
            "ticks": ""
           },
           "baxis": {
            "gridcolor": "white",
            "linecolor": "white",
            "ticks": ""
           },
           "bgcolor": "#E5ECF6",
           "caxis": {
            "gridcolor": "white",
            "linecolor": "white",
            "ticks": ""
           }
          },
          "title": {
           "x": 0.05
          },
          "xaxis": {
           "automargin": true,
           "gridcolor": "white",
           "linecolor": "white",
           "ticks": "",
           "title": {
            "standoff": 15
           },
           "zerolinecolor": "white",
           "zerolinewidth": 2
          },
          "yaxis": {
           "automargin": true,
           "gridcolor": "white",
           "linecolor": "white",
           "ticks": "",
           "title": {
            "standoff": 15
           },
           "zerolinecolor": "white",
           "zerolinewidth": 2
          }
         }
        },
        "title": {
         "text": "Evolution of c_coef Per Transition Over Time"
        },
        "xaxis": {
         "title": {
          "text": "Time"
         }
        },
        "yaxis": {
         "title": {
          "text": "c_coef"
         }
        }
       }
      }
     },
     "metadata": {},
     "output_type": "display_data"
    }
   ],
   "source": [
    "import plotly.graph_objects as go\n",
    "# Initialize c_coef_tracking\n",
    "c_coef_tracking = {}\n",
    "times = np.linspace(0, T_max, 101)\n",
    "\n",
    "for t in times:\n",
    "    c_coef_t = c_ops_gen_new_with_tracking(t, args)\n",
    "    for key, values in c_coef_t.items():\n",
    "        if key[0] != 0: # and key[0] != 1:\n",
    "            continue  # Skip transitions that are not (0, i) or (1, i)\n",
    "        if key not in c_coef_tracking:\n",
    "            c_coef_tracking[key] = []\n",
    "        # Convert complex values to real values (e.g., absolute values)\n",
    "        c_coef_tracking[key].extend([np.abs(value) for value in values])\n",
    "\n",
    "# Create interactive plot\n",
    "fig = go.Figure()\n",
    "\n",
    "for transition, coefs in c_coef_tracking.items():\n",
    "    fig.add_trace(go.Scatter(\n",
    "        x=times,\n",
    "        y=coefs[:len(times)],\n",
    "        mode='markers',\n",
    "        name=f\"Transition {transition}\"  # Label for hover/click\n",
    "    ))\n",
    "\n",
    "fig.update_layout(\n",
    "    title=\"Evolution of c_coef Per Transition Over Time\",\n",
    "    xaxis_title=\"Time\",\n",
    "    yaxis_title=\"c_coef\",\n",
    "    legend_title=\"Transitions\",\n",
    "    template=\"plotly\"\n",
    ")\n",
    "\n",
    "fig.show()"
   ]
  },
  {
   "cell_type": "code",
   "execution_count": 13,
   "id": "fae5af9d39966c36",
   "metadata": {
    "ExecuteTime": {
     "end_time": "2025-07-30T09:22:05.830454Z",
     "start_time": "2025-07-30T09:22:05.812930Z"
    }
   },
   "outputs": [
    {
     "name": "stdout",
     "output_type": "stream",
     "text": [
      "Quantum states and energies at the start of the protocol:\n",
      "Transition: (0, 1)\n",
      "Energy: -20.0\n",
      "|ψ⟩ = 1.00|000⟩\n",
      "Transition: (0, 2)\n",
      "Energy: -20.0\n",
      "|ψ⟩ = 1.00|000⟩\n",
      "Transition: (0, 3)\n",
      "Energy: -20.0\n",
      "|ψ⟩ = 1.00|000⟩\n",
      "Transition: (0, 4)\n",
      "Energy: -20.0\n",
      "|ψ⟩ = 1.00|000⟩\n",
      "Transition: (0, 5)\n",
      "Energy: -20.0\n",
      "|ψ⟩ = 1.00|000⟩\n",
      "Transition: (0, 6)\n",
      "Energy: -20.0\n",
      "|ψ⟩ = 1.00|000⟩\n",
      "Transition: (0, 7)\n",
      "Energy: -20.0\n",
      "|ψ⟩ = 1.00|000⟩\n",
      "Transition: (1, 2)\n",
      "Energy: -6.666666666666666\n",
      "|ψ⟩ = 1.00|001⟩\n",
      "Transition: (1, 3)\n",
      "Energy: -6.666666666666666\n",
      "|ψ⟩ = 1.00|001⟩\n",
      "Transition: (1, 4)\n",
      "Energy: -6.666666666666666\n",
      "|ψ⟩ = 1.00|001⟩\n",
      "Transition: (1, 5)\n",
      "Energy: -6.666666666666666\n",
      "|ψ⟩ = 1.00|001⟩\n",
      "Transition: (1, 6)\n",
      "Energy: -6.666666666666666\n",
      "|ψ⟩ = 1.00|001⟩\n",
      "Transition: (1, 7)\n",
      "Energy: -6.666666666666666\n",
      "|ψ⟩ = 1.00|001⟩\n",
      "\n",
      "Quantum states and energies at the end of the protocol:\n",
      "Transition: (0, 1)\n",
      "Energy: -6.666666666666666\n",
      "|ψ⟩ = 1.00|011⟩\n",
      "Transition: (0, 2)\n",
      "Energy: -6.666666666666666\n",
      "|ψ⟩ = 1.00|101⟩\n",
      "Transition: (0, 3)\n",
      "Energy: -6.666666666666666\n",
      "|ψ⟩ = 1.00|110⟩\n",
      "Transition: (0, 4)\n",
      "Energy: 6.666666666666666\n",
      "|ψ⟩ = 1.00|100⟩\n",
      "Transition: (0, 5)\n",
      "Energy: 6.666666666666666\n",
      "|ψ⟩ = 1.00|010⟩\n",
      "Transition: (0, 6)\n",
      "Energy: 6.666666666666666\n",
      "|ψ⟩ = 1.00|001⟩\n",
      "Transition: (0, 7)\n",
      "Energy: 20.0\n",
      "|ψ⟩ = 1.00|000⟩\n",
      "Transition: (1, 2)\n",
      "Energy: -6.666666666666666\n",
      "|ψ⟩ = 1.00|101⟩\n",
      "Transition: (1, 3)\n",
      "Energy: -6.666666666666666\n",
      "|ψ⟩ = 1.00|110⟩\n",
      "Transition: (1, 4)\n",
      "Energy: 6.666666666666666\n",
      "|ψ⟩ = 1.00|100⟩\n",
      "Transition: (1, 5)\n",
      "Energy: 6.666666666666666\n",
      "|ψ⟩ = 1.00|010⟩\n",
      "Transition: (1, 6)\n",
      "Energy: 6.666666666666666\n",
      "|ψ⟩ = 1.00|001⟩\n",
      "Transition: (1, 7)\n",
      "Energy: 20.0\n",
      "|ψ⟩ = 1.00|000⟩\n"
     ]
    }
   ],
   "source": [
    "def print_states_for_transitions(transitions, protocol_start, protocol_end, args):\n",
    "    \"\"\"\n",
    "    Prints the quantum states and their energies for the given transitions at the start and end of the protocol.\n",
    "    \"\"\"\n",
    "    # Get the Hamiltonian at the start and end of the protocol\n",
    "    H_start = args['args_H'](protocol_start)\n",
    "    H_end = args['args_H'](protocol_end)\n",
    "\n",
    "    # Compute eigenvalues and eigenstates at the start and end\n",
    "    eigenvalues_start, eigenstates_start = H_start.eigenstates()\n",
    "    eigenvalues_end, eigenstates_end = H_end.eigenstates()\n",
    "\n",
    "    print(\"Quantum states and energies at the start of the protocol:\")\n",
    "    for transition in transitions:\n",
    "        print(f\"Transition: {transition}\")\n",
    "        state_start = eigenstates_start[transition[0]]\n",
    "        energy_start = eigenvalues_start[transition[0]]\n",
    "        print(f\"Energy: {energy_start}\")\n",
    "        print_quantum_state_as_superposition(state_start)\n",
    "\n",
    "    print(\"\\nQuantum states and energies at the end of the protocol:\")\n",
    "    for transition in transitions:\n",
    "        print(f\"Transition: {transition}\")\n",
    "        state_end = eigenstates_end[transition[1]]\n",
    "        energy_end = eigenvalues_end[transition[1]]\n",
    "        print(f\"Energy: {energy_end}\")\n",
    "        print_quantum_state_as_superposition(state_end)\n",
    "\n",
    "# Define the transitions and protocol start/end times\n",
    "transitions = [(0, i) for i in range(1, 8)] + [(1, i) for i in range(2, 8)]  # Example transitions\n",
    "protocol_start = 0\n",
    "protocol_end = T_max\n",
    "\n",
    "# Test the function\n",
    "print_states_for_transitions(transitions, protocol_start, protocol_end, args)"
   ]
  },
  {
   "cell_type": "code",
   "execution_count": 14,
   "id": "d398bc969835452d",
   "metadata": {
    "ExecuteTime": {
     "end_time": "2025-07-30T08:56:59.108525Z",
     "start_time": "2025-07-30T08:56:59.097751Z"
    }
   },
   "outputs": [
    {
     "name": "stdout",
     "output_type": "stream",
     "text": [
      "Quantum states and energies at the start of the protocol:\n",
      "Transition: (0, 1)\n",
      "Energy: -20.0\n",
      "|ψ⟩ = 1.00|000⟩\n",
      "Transition: (0, 2)\n",
      "Energy: -20.0\n",
      "|ψ⟩ = 1.00|000⟩\n",
      "Transition: (0, 3)\n",
      "Energy: -20.0\n",
      "|ψ⟩ = 1.00|000⟩\n",
      "Transition: (0, 4)\n",
      "Energy: -20.0\n",
      "|ψ⟩ = 1.00|000⟩\n",
      "Transition: (0, 5)\n",
      "Energy: -20.0\n",
      "|ψ⟩ = 1.00|000⟩\n",
      "Transition: (0, 6)\n",
      "Energy: -20.0\n",
      "|ψ⟩ = 1.00|000⟩\n",
      "Transition: (0, 7)\n",
      "Energy: -20.0\n",
      "|ψ⟩ = 1.00|000⟩\n",
      "Transition: (1, 2)\n",
      "Energy: -6.666666666666666\n",
      "|ψ⟩ = 1.00|001⟩\n",
      "Transition: (1, 3)\n",
      "Energy: -6.666666666666666\n",
      "|ψ⟩ = 1.00|001⟩\n",
      "Transition: (1, 4)\n",
      "Energy: -6.666666666666666\n",
      "|ψ⟩ = 1.00|001⟩\n",
      "Transition: (1, 5)\n",
      "Energy: -6.666666666666666\n",
      "|ψ⟩ = 1.00|001⟩\n",
      "Transition: (1, 6)\n",
      "Energy: -6.666666666666666\n",
      "|ψ⟩ = 1.00|001⟩\n",
      "Transition: (1, 7)\n",
      "Energy: -6.666666666666666\n",
      "|ψ⟩ = 1.00|001⟩\n",
      "Transition: (2, 3)\n",
      "Energy: -6.666666666666666\n",
      "|ψ⟩ = 1.00|010⟩\n",
      "Transition: (2, 4)\n",
      "Energy: -6.666666666666666\n",
      "|ψ⟩ = 1.00|010⟩\n",
      "Transition: (2, 5)\n",
      "Energy: -6.666666666666666\n",
      "|ψ⟩ = 1.00|010⟩\n",
      "Transition: (2, 6)\n",
      "Energy: -6.666666666666666\n",
      "|ψ⟩ = 1.00|010⟩\n",
      "Transition: (2, 7)\n",
      "Energy: -6.666666666666666\n",
      "|ψ⟩ = 1.00|010⟩\n",
      "Transition: (3, 4)\n",
      "Energy: -6.666666666666666\n",
      "|ψ⟩ = 1.00|100⟩\n",
      "Transition: (3, 5)\n",
      "Energy: -6.666666666666666\n",
      "|ψ⟩ = 1.00|100⟩\n",
      "Transition: (3, 6)\n",
      "Energy: -6.666666666666666\n",
      "|ψ⟩ = 1.00|100⟩\n",
      "Transition: (3, 7)\n",
      "Energy: -6.666666666666666\n",
      "|ψ⟩ = 1.00|100⟩\n",
      "Transition: (4, 5)\n",
      "Energy: 6.666666666666666\n",
      "|ψ⟩ = 1.00|011⟩\n",
      "Transition: (4, 6)\n",
      "Energy: 6.666666666666666\n",
      "|ψ⟩ = 1.00|011⟩\n",
      "Transition: (4, 7)\n",
      "Energy: 6.666666666666666\n",
      "|ψ⟩ = 1.00|011⟩\n",
      "Transition: (5, 6)\n",
      "Energy: 6.666666666666666\n",
      "|ψ⟩ = 1.00|101⟩\n",
      "Transition: (5, 7)\n",
      "Energy: 6.666666666666666\n",
      "|ψ⟩ = 1.00|101⟩\n",
      "Transition: (6, 7)\n",
      "Energy: 6.666666666666666\n",
      "|ψ⟩ = 1.00|110⟩\n",
      "\n",
      "Quantum states and energies at the end of the protocol:\n",
      "Transition: (0, 1)\n",
      "Energy: -6.666666666666666\n",
      "|ψ⟩ = 1.00|011⟩\n",
      "Transition: (0, 2)\n",
      "Energy: -6.666666666666666\n",
      "|ψ⟩ = 1.00|101⟩\n",
      "Transition: (0, 3)\n",
      "Energy: -6.666666666666666\n",
      "|ψ⟩ = 1.00|110⟩\n",
      "Transition: (0, 4)\n",
      "Energy: 6.666666666666666\n",
      "|ψ⟩ = 1.00|100⟩\n",
      "Transition: (0, 5)\n",
      "Energy: 6.666666666666666\n",
      "|ψ⟩ = 1.00|010⟩\n",
      "Transition: (0, 6)\n",
      "Energy: 6.666666666666666\n",
      "|ψ⟩ = 1.00|001⟩\n",
      "Transition: (0, 7)\n",
      "Energy: 20.0\n",
      "|ψ⟩ = 1.00|000⟩\n",
      "Transition: (1, 2)\n",
      "Energy: -6.666666666666666\n",
      "|ψ⟩ = 1.00|101⟩\n",
      "Transition: (1, 3)\n",
      "Energy: -6.666666666666666\n",
      "|ψ⟩ = 1.00|110⟩\n",
      "Transition: (1, 4)\n",
      "Energy: 6.666666666666666\n",
      "|ψ⟩ = 1.00|100⟩\n",
      "Transition: (1, 5)\n",
      "Energy: 6.666666666666666\n",
      "|ψ⟩ = 1.00|010⟩\n",
      "Transition: (1, 6)\n",
      "Energy: 6.666666666666666\n",
      "|ψ⟩ = 1.00|001⟩\n",
      "Transition: (1, 7)\n",
      "Energy: 20.0\n",
      "|ψ⟩ = 1.00|000⟩\n",
      "Transition: (2, 3)\n",
      "Energy: -6.666666666666666\n",
      "|ψ⟩ = 1.00|110⟩\n",
      "Transition: (2, 4)\n",
      "Energy: 6.666666666666666\n",
      "|ψ⟩ = 1.00|100⟩\n",
      "Transition: (2, 5)\n",
      "Energy: 6.666666666666666\n",
      "|ψ⟩ = 1.00|010⟩\n",
      "Transition: (2, 6)\n",
      "Energy: 6.666666666666666\n",
      "|ψ⟩ = 1.00|001⟩\n",
      "Transition: (2, 7)\n",
      "Energy: 20.0\n",
      "|ψ⟩ = 1.00|000⟩\n",
      "Transition: (3, 4)\n",
      "Energy: 6.666666666666666\n",
      "|ψ⟩ = 1.00|100⟩\n",
      "Transition: (3, 5)\n",
      "Energy: 6.666666666666666\n",
      "|ψ⟩ = 1.00|010⟩\n",
      "Transition: (3, 6)\n",
      "Energy: 6.666666666666666\n",
      "|ψ⟩ = 1.00|001⟩\n",
      "Transition: (3, 7)\n",
      "Energy: 20.0\n",
      "|ψ⟩ = 1.00|000⟩\n",
      "Transition: (4, 5)\n",
      "Energy: 6.666666666666666\n",
      "|ψ⟩ = 1.00|010⟩\n",
      "Transition: (4, 6)\n",
      "Energy: 6.666666666666666\n",
      "|ψ⟩ = 1.00|001⟩\n",
      "Transition: (4, 7)\n",
      "Energy: 20.0\n",
      "|ψ⟩ = 1.00|000⟩\n",
      "Transition: (5, 6)\n",
      "Energy: 6.666666666666666\n",
      "|ψ⟩ = 1.00|001⟩\n",
      "Transition: (5, 7)\n",
      "Energy: 20.0\n",
      "|ψ⟩ = 1.00|000⟩\n",
      "Transition: (6, 7)\n",
      "Energy: 20.0\n",
      "|ψ⟩ = 1.00|000⟩\n"
     ]
    }
   ],
   "source": [
    "# Generate all possible transitions\n",
    "H_start = args['args_H'](0)  # Hamiltonian at the start of the protocol\n",
    "eigenvalues, eigenstates = H_start.eigenstates()\n",
    "num_states = len(eigenstates)\n",
    "transitions = [(i, j) for i in range(num_states) for j in range(i + 1, num_states)]\n",
    "\n",
    "# Define protocol start and end times\n",
    "protocol_start = 0\n",
    "protocol_end = T_max\n",
    "\n",
    "# Test the function\n",
    "print_states_for_transitions(transitions, protocol_start, protocol_end, args)"
   ]
  },
  {
   "cell_type": "markdown",
   "id": "2ad323252b1d4850",
   "metadata": {},
   "source": [
    "# As function of energy gap\n"
   ]
  },
  {
   "cell_type": "markdown",
   "id": "6a40654b0e9649ae",
   "metadata": {},
   "source": [
    "## Simulating the final fidelity of the logical state |1_L⟩ as a function of the energy gap E_P at different temperatures"
   ]
  },
  {
   "cell_type": "code",
   "execution_count": 15,
   "id": "43c77ee77cca597b",
   "metadata": {
    "ExecuteTime": {
     "end_time": "2025-07-30T09:18:53.118311Z",
     "start_time": "2025-07-30T09:17:47.698360Z"
    }
   },
   "outputs": [
    {
     "name": "stdout",
     "output_type": "stream",
     "text": [
      "Processing temperature: 1\n",
      "Processing temperature: 10\n",
      "Processing temperature: 20\n",
      "Processing temperature: 50\n",
      "Processing temperature: 100\n"
     ]
    },
    {
     "data": {
      "application/vnd.plotly.v1+json": {
       "config": {
        "plotlyServerURL": "https://plot.ly"
       },
       "data": [
        {
         "mode": "lines+markers",
         "name": "T = 1 K",
         "type": "scatter",
         "x": {
          "bdata": "AAAAAAAAAADYUF5DeQ0FQNhQXkN5DRVARHkN5TWUH0DYUF5DeQ0lQA7lNZTXUCpARHkN5TWUL0C9hvIaymsyQNhQXkN5DTVA8xrKayivN0AO5TWU11A6QCmvobyG8jxARHkN5TWUP0CwobyG8hpBQL2G8hrKa0JAymsor6G8Q0DYUF5DeQ1FQOY1lNdQXkZA8xrKayivR0AAAAAAAABJQA==",
          "dtype": "f8"
         },
         "y": [
          0.27730067771002914,
          0.9995056899927638,
          0.9998594613126369,
          0.9998900285340614,
          0.9998386498419994,
          0.9998884394486238,
          0.9998900525115119,
          0.9998900577938893,
          0.9998900578212471,
          0.9998900578213443,
          0.9998900578213431,
          0.9998900578213431,
          0.9998900578213422,
          0.9998900578213427,
          0.9998900578213423,
          0.999890057821343,
          0.9998900578213428,
          0.9998900578213427,
          0.9998900578213413,
          0.9998900578213423
         ]
        },
        {
         "mode": "lines+markers",
         "name": "T = 10 K",
         "type": "scatter",
         "x": {
          "bdata": "AAAAAAAAAADYUF5DeQ0FQNhQXkN5DRVARHkN5TWUH0DYUF5DeQ0lQA7lNZTXUCpARHkN5TWUL0C9hvIaymsyQNhQXkN5DTVA8xrKayivN0AO5TWU11A6QCmvobyG8jxARHkN5TWUP0CwobyG8hpBQL2G8hrKa0JAymsor6G8Q0DYUF5DeQ1FQOY1lNdQXkZA8xrKayivR0AAAAAAAABJQA==",
          "dtype": "f8"
         },
         "y": [
          0.000005284004256903994,
          0.6191785466843813,
          0.812594081596743,
          0.9006366338549732,
          0.9443443226847023,
          0.968628376243693,
          0.9818961508112328,
          0.9894177857724451,
          0.9937581606134073,
          0.9962866283857259,
          0.9977679509208468,
          0.9986219581873418,
          0.9991516905307547,
          0.9994541963686848,
          0.9996325630422613,
          0.9997379702151237,
          0.9998002179457582,
          0.9998369880364093,
          0.9998587066904798,
          0.9998715372047909
         ]
        },
        {
         "mode": "lines+markers",
         "name": "T = 20 K",
         "type": "scatter",
         "x": {
          "bdata": "AAAAAAAAAADYUF5DeQ0FQNhQXkN5DRVARHkN5TWUH0DYUF5DeQ0lQA7lNZTXUCpARHkN5TWUL0C9hvIaymsyQNhQXkN5DTVA8xrKayivN0AO5TWU11A6QCmvobyG8jxARHkN5TWUP0CwobyG8hpBQL2G8hrKa0JAymsor6G8Q0DYUF5DeQ1FQOY1lNdQXkZA8xrKayivR0AAAAAAAABJQA==",
          "dtype": "f8"
         },
         "y": [
          0.000015253363768565374,
          0.2456083929733074,
          0.4660579930701859,
          0.6191881130398593,
          0.7240465289892205,
          0.7990345084540293,
          0.8519237592727428,
          0.8899526033352503,
          0.9176477575724341,
          0.9380205572477557,
          0.9531349597416279,
          0.9639375564266928,
          0.9729147711876235,
          0.9793233825764032,
          0.9841811096479756,
          0.9878744810033767,
          0.9906889563403665,
          0.9928387733650704,
          0.9944823995960747,
          0.9957408769204741
         ]
        },
        {
         "mode": "lines+markers",
         "name": "T = 50 K",
         "type": "scatter",
         "x": {
          "bdata": "AAAAAAAAAADYUF5DeQ0FQNhQXkN5DRVARHkN5TWUH0DYUF5DeQ0lQA7lNZTXUCpARHkN5TWUL0C9hvIaymsyQNhQXkN5DTVA8xrKayivN0AO5TWU11A6QCmvobyG8jxARHkN5TWUP0CwobyG8hpBQL2G8hrKa0JAymsor6G8Q0DYUF5DeQ1FQOY1lNdQXkZA8xrKayivR0AAAAAAAABJQA==",
          "dtype": "f8"
         },
         "y": [
          0.000043944771001848464,
          0.01207618484587562,
          0.06503970795089652,
          0.14347007098426634,
          0.228898367235092,
          0.3138923630084272,
          0.39249903277380394,
          0.46349562231002844,
          0.5267208971940479,
          0.582569242846075,
          0.6316845564306476,
          0.6714017475837111,
          0.7125739898992464,
          0.7457095135786724,
          0.7747809811339051,
          0.8003099045837067,
          0.8227435373211011,
          0.8425081646692928,
          0.8599172800003836,
          0.8752858235222036
         ]
        },
        {
         "mode": "lines+markers",
         "name": "T = 100 K",
         "type": "scatter",
         "x": {
          "bdata": "AAAAAAAAAADYUF5DeQ0FQNhQXkN5DRVARHkN5TWUH0DYUF5DeQ0lQA7lNZTXUCpARHkN5TWUL0C9hvIaymsyQNhQXkN5DTVA8xrKayivN0AO5TWU11A6QCmvobyG8jxARHkN5TWUP0CwobyG8hpBQL2G8hrKa0JAymsor6G8Q0DYUF5DeQ1FQOY1lNdQXkZA8xrKayivR0AAAAAAAABJQA==",
          "dtype": "f8"
         },
         "y": [
          0.00006023690119141751,
          0.0001495971957007148,
          0.00221102021000336,
          0.010783236811740256,
          0.02817713735711274,
          0.05429562006102846,
          0.08704418593369585,
          0.12438317908267067,
          0.16449916006199922,
          0.20593734758662915,
          0.24760956687056415,
          0.28446782088143446,
          0.32878384398509986,
          0.3673956695762355,
          0.40435340001491754,
          0.4395358883823886,
          0.4728693615886121,
          0.5044153806522433,
          0.5341325711465512,
          0.5621153343719691
         ]
        }
       ],
       "layout": {
        "template": {
         "data": {
          "bar": [
           {
            "error_x": {
             "color": "#2a3f5f"
            },
            "error_y": {
             "color": "#2a3f5f"
            },
            "marker": {
             "line": {
              "color": "#E5ECF6",
              "width": 0.5
             },
             "pattern": {
              "fillmode": "overlay",
              "size": 10,
              "solidity": 0.2
             }
            },
            "type": "bar"
           }
          ],
          "barpolar": [
           {
            "marker": {
             "line": {
              "color": "#E5ECF6",
              "width": 0.5
             },
             "pattern": {
              "fillmode": "overlay",
              "size": 10,
              "solidity": 0.2
             }
            },
            "type": "barpolar"
           }
          ],
          "carpet": [
           {
            "aaxis": {
             "endlinecolor": "#2a3f5f",
             "gridcolor": "white",
             "linecolor": "white",
             "minorgridcolor": "white",
             "startlinecolor": "#2a3f5f"
            },
            "baxis": {
             "endlinecolor": "#2a3f5f",
             "gridcolor": "white",
             "linecolor": "white",
             "minorgridcolor": "white",
             "startlinecolor": "#2a3f5f"
            },
            "type": "carpet"
           }
          ],
          "choropleth": [
           {
            "colorbar": {
             "outlinewidth": 0,
             "ticks": ""
            },
            "type": "choropleth"
           }
          ],
          "contour": [
           {
            "colorbar": {
             "outlinewidth": 0,
             "ticks": ""
            },
            "colorscale": [
             [
              0,
              "#0d0887"
             ],
             [
              0.1111111111111111,
              "#46039f"
             ],
             [
              0.2222222222222222,
              "#7201a8"
             ],
             [
              0.3333333333333333,
              "#9c179e"
             ],
             [
              0.4444444444444444,
              "#bd3786"
             ],
             [
              0.5555555555555556,
              "#d8576b"
             ],
             [
              0.6666666666666666,
              "#ed7953"
             ],
             [
              0.7777777777777778,
              "#fb9f3a"
             ],
             [
              0.8888888888888888,
              "#fdca26"
             ],
             [
              1,
              "#f0f921"
             ]
            ],
            "type": "contour"
           }
          ],
          "contourcarpet": [
           {
            "colorbar": {
             "outlinewidth": 0,
             "ticks": ""
            },
            "type": "contourcarpet"
           }
          ],
          "heatmap": [
           {
            "colorbar": {
             "outlinewidth": 0,
             "ticks": ""
            },
            "colorscale": [
             [
              0,
              "#0d0887"
             ],
             [
              0.1111111111111111,
              "#46039f"
             ],
             [
              0.2222222222222222,
              "#7201a8"
             ],
             [
              0.3333333333333333,
              "#9c179e"
             ],
             [
              0.4444444444444444,
              "#bd3786"
             ],
             [
              0.5555555555555556,
              "#d8576b"
             ],
             [
              0.6666666666666666,
              "#ed7953"
             ],
             [
              0.7777777777777778,
              "#fb9f3a"
             ],
             [
              0.8888888888888888,
              "#fdca26"
             ],
             [
              1,
              "#f0f921"
             ]
            ],
            "type": "heatmap"
           }
          ],
          "histogram": [
           {
            "marker": {
             "pattern": {
              "fillmode": "overlay",
              "size": 10,
              "solidity": 0.2
             }
            },
            "type": "histogram"
           }
          ],
          "histogram2d": [
           {
            "colorbar": {
             "outlinewidth": 0,
             "ticks": ""
            },
            "colorscale": [
             [
              0,
              "#0d0887"
             ],
             [
              0.1111111111111111,
              "#46039f"
             ],
             [
              0.2222222222222222,
              "#7201a8"
             ],
             [
              0.3333333333333333,
              "#9c179e"
             ],
             [
              0.4444444444444444,
              "#bd3786"
             ],
             [
              0.5555555555555556,
              "#d8576b"
             ],
             [
              0.6666666666666666,
              "#ed7953"
             ],
             [
              0.7777777777777778,
              "#fb9f3a"
             ],
             [
              0.8888888888888888,
              "#fdca26"
             ],
             [
              1,
              "#f0f921"
             ]
            ],
            "type": "histogram2d"
           }
          ],
          "histogram2dcontour": [
           {
            "colorbar": {
             "outlinewidth": 0,
             "ticks": ""
            },
            "colorscale": [
             [
              0,
              "#0d0887"
             ],
             [
              0.1111111111111111,
              "#46039f"
             ],
             [
              0.2222222222222222,
              "#7201a8"
             ],
             [
              0.3333333333333333,
              "#9c179e"
             ],
             [
              0.4444444444444444,
              "#bd3786"
             ],
             [
              0.5555555555555556,
              "#d8576b"
             ],
             [
              0.6666666666666666,
              "#ed7953"
             ],
             [
              0.7777777777777778,
              "#fb9f3a"
             ],
             [
              0.8888888888888888,
              "#fdca26"
             ],
             [
              1,
              "#f0f921"
             ]
            ],
            "type": "histogram2dcontour"
           }
          ],
          "mesh3d": [
           {
            "colorbar": {
             "outlinewidth": 0,
             "ticks": ""
            },
            "type": "mesh3d"
           }
          ],
          "parcoords": [
           {
            "line": {
             "colorbar": {
              "outlinewidth": 0,
              "ticks": ""
             }
            },
            "type": "parcoords"
           }
          ],
          "pie": [
           {
            "automargin": true,
            "type": "pie"
           }
          ],
          "scatter": [
           {
            "fillpattern": {
             "fillmode": "overlay",
             "size": 10,
             "solidity": 0.2
            },
            "type": "scatter"
           }
          ],
          "scatter3d": [
           {
            "line": {
             "colorbar": {
              "outlinewidth": 0,
              "ticks": ""
             }
            },
            "marker": {
             "colorbar": {
              "outlinewidth": 0,
              "ticks": ""
             }
            },
            "type": "scatter3d"
           }
          ],
          "scattercarpet": [
           {
            "marker": {
             "colorbar": {
              "outlinewidth": 0,
              "ticks": ""
             }
            },
            "type": "scattercarpet"
           }
          ],
          "scattergeo": [
           {
            "marker": {
             "colorbar": {
              "outlinewidth": 0,
              "ticks": ""
             }
            },
            "type": "scattergeo"
           }
          ],
          "scattergl": [
           {
            "marker": {
             "colorbar": {
              "outlinewidth": 0,
              "ticks": ""
             }
            },
            "type": "scattergl"
           }
          ],
          "scattermap": [
           {
            "marker": {
             "colorbar": {
              "outlinewidth": 0,
              "ticks": ""
             }
            },
            "type": "scattermap"
           }
          ],
          "scattermapbox": [
           {
            "marker": {
             "colorbar": {
              "outlinewidth": 0,
              "ticks": ""
             }
            },
            "type": "scattermapbox"
           }
          ],
          "scatterpolar": [
           {
            "marker": {
             "colorbar": {
              "outlinewidth": 0,
              "ticks": ""
             }
            },
            "type": "scatterpolar"
           }
          ],
          "scatterpolargl": [
           {
            "marker": {
             "colorbar": {
              "outlinewidth": 0,
              "ticks": ""
             }
            },
            "type": "scatterpolargl"
           }
          ],
          "scatterternary": [
           {
            "marker": {
             "colorbar": {
              "outlinewidth": 0,
              "ticks": ""
             }
            },
            "type": "scatterternary"
           }
          ],
          "surface": [
           {
            "colorbar": {
             "outlinewidth": 0,
             "ticks": ""
            },
            "colorscale": [
             [
              0,
              "#0d0887"
             ],
             [
              0.1111111111111111,
              "#46039f"
             ],
             [
              0.2222222222222222,
              "#7201a8"
             ],
             [
              0.3333333333333333,
              "#9c179e"
             ],
             [
              0.4444444444444444,
              "#bd3786"
             ],
             [
              0.5555555555555556,
              "#d8576b"
             ],
             [
              0.6666666666666666,
              "#ed7953"
             ],
             [
              0.7777777777777778,
              "#fb9f3a"
             ],
             [
              0.8888888888888888,
              "#fdca26"
             ],
             [
              1,
              "#f0f921"
             ]
            ],
            "type": "surface"
           }
          ],
          "table": [
           {
            "cells": {
             "fill": {
              "color": "#EBF0F8"
             },
             "line": {
              "color": "white"
             }
            },
            "header": {
             "fill": {
              "color": "#C8D4E3"
             },
             "line": {
              "color": "white"
             }
            },
            "type": "table"
           }
          ]
         },
         "layout": {
          "annotationdefaults": {
           "arrowcolor": "#2a3f5f",
           "arrowhead": 0,
           "arrowwidth": 1
          },
          "autotypenumbers": "strict",
          "coloraxis": {
           "colorbar": {
            "outlinewidth": 0,
            "ticks": ""
           }
          },
          "colorscale": {
           "diverging": [
            [
             0,
             "#8e0152"
            ],
            [
             0.1,
             "#c51b7d"
            ],
            [
             0.2,
             "#de77ae"
            ],
            [
             0.3,
             "#f1b6da"
            ],
            [
             0.4,
             "#fde0ef"
            ],
            [
             0.5,
             "#f7f7f7"
            ],
            [
             0.6,
             "#e6f5d0"
            ],
            [
             0.7,
             "#b8e186"
            ],
            [
             0.8,
             "#7fbc41"
            ],
            [
             0.9,
             "#4d9221"
            ],
            [
             1,
             "#276419"
            ]
           ],
           "sequential": [
            [
             0,
             "#0d0887"
            ],
            [
             0.1111111111111111,
             "#46039f"
            ],
            [
             0.2222222222222222,
             "#7201a8"
            ],
            [
             0.3333333333333333,
             "#9c179e"
            ],
            [
             0.4444444444444444,
             "#bd3786"
            ],
            [
             0.5555555555555556,
             "#d8576b"
            ],
            [
             0.6666666666666666,
             "#ed7953"
            ],
            [
             0.7777777777777778,
             "#fb9f3a"
            ],
            [
             0.8888888888888888,
             "#fdca26"
            ],
            [
             1,
             "#f0f921"
            ]
           ],
           "sequentialminus": [
            [
             0,
             "#0d0887"
            ],
            [
             0.1111111111111111,
             "#46039f"
            ],
            [
             0.2222222222222222,
             "#7201a8"
            ],
            [
             0.3333333333333333,
             "#9c179e"
            ],
            [
             0.4444444444444444,
             "#bd3786"
            ],
            [
             0.5555555555555556,
             "#d8576b"
            ],
            [
             0.6666666666666666,
             "#ed7953"
            ],
            [
             0.7777777777777778,
             "#fb9f3a"
            ],
            [
             0.8888888888888888,
             "#fdca26"
            ],
            [
             1,
             "#f0f921"
            ]
           ]
          },
          "colorway": [
           "#636efa",
           "#EF553B",
           "#00cc96",
           "#ab63fa",
           "#FFA15A",
           "#19d3f3",
           "#FF6692",
           "#B6E880",
           "#FF97FF",
           "#FECB52"
          ],
          "font": {
           "color": "#2a3f5f"
          },
          "geo": {
           "bgcolor": "white",
           "lakecolor": "white",
           "landcolor": "#E5ECF6",
           "showlakes": true,
           "showland": true,
           "subunitcolor": "white"
          },
          "hoverlabel": {
           "align": "left"
          },
          "hovermode": "closest",
          "mapbox": {
           "style": "light"
          },
          "paper_bgcolor": "white",
          "plot_bgcolor": "#E5ECF6",
          "polar": {
           "angularaxis": {
            "gridcolor": "white",
            "linecolor": "white",
            "ticks": ""
           },
           "bgcolor": "#E5ECF6",
           "radialaxis": {
            "gridcolor": "white",
            "linecolor": "white",
            "ticks": ""
           }
          },
          "scene": {
           "xaxis": {
            "backgroundcolor": "#E5ECF6",
            "gridcolor": "white",
            "gridwidth": 2,
            "linecolor": "white",
            "showbackground": true,
            "ticks": "",
            "zerolinecolor": "white"
           },
           "yaxis": {
            "backgroundcolor": "#E5ECF6",
            "gridcolor": "white",
            "gridwidth": 2,
            "linecolor": "white",
            "showbackground": true,
            "ticks": "",
            "zerolinecolor": "white"
           },
           "zaxis": {
            "backgroundcolor": "#E5ECF6",
            "gridcolor": "white",
            "gridwidth": 2,
            "linecolor": "white",
            "showbackground": true,
            "ticks": "",
            "zerolinecolor": "white"
           }
          },
          "shapedefaults": {
           "line": {
            "color": "#2a3f5f"
           }
          },
          "ternary": {
           "aaxis": {
            "gridcolor": "white",
            "linecolor": "white",
            "ticks": ""
           },
           "baxis": {
            "gridcolor": "white",
            "linecolor": "white",
            "ticks": ""
           },
           "bgcolor": "#E5ECF6",
           "caxis": {
            "gridcolor": "white",
            "linecolor": "white",
            "ticks": ""
           }
          },
          "title": {
           "x": 0.05
          },
          "xaxis": {
           "automargin": true,
           "gridcolor": "white",
           "linecolor": "white",
           "ticks": "",
           "title": {
            "standoff": 15
           },
           "zerolinecolor": "white",
           "zerolinewidth": 2
          },
          "yaxis": {
           "automargin": true,
           "gridcolor": "white",
           "linecolor": "white",
           "ticks": "",
           "title": {
            "standoff": 15
           },
           "zerolinecolor": "white",
           "zerolinewidth": 2
          }
         }
        },
        "title": {
         "text": "Final Fidelity of $|1_L\\rangle$"
        },
        "xaxis": {
         "title": {
          "text": "Energy Gap"
         }
        },
        "yaxis": {
         "title": {
          "text": "Final Fidelity of $|1_L\\rangle$"
         }
        }
       }
      }
     },
     "metadata": {},
     "output_type": "display_data"
    }
   ],
   "source": [
    "# Define parameters\n",
    "times = np.linspace(0, T_max, 101)  # Time array\n",
    "gamma_sqrt = 0.1\n",
    "temperatures = [1, 10, 20, 50, 100]  # Different temperatures\n",
    "Eps = np.linspace(0, 50, 20)  # Energy gaps\n",
    "\n",
    "rho0 = logical_zero * logical_zero.dag()\n",
    "rho1 = logical_one * logical_one.dag()\n",
    "e_ops = [rho0, rho1]\n",
    "\n",
    "# Initialize data storage\n",
    "final_fidelities = {T: [] for T in temperatures}\n",
    "\n",
    "# Loop over temperatures\n",
    "for T in temperatures:\n",
    "    print(f\"Processing temperature: {T}\")\n",
    "    for Ep in Eps:\n",
    "        # Time-dependent Hamiltonian\n",
    "        def H_t(t):\n",
    "            H_RAP = X_L * omega_t(t) + Z_L * delta_t(t)\n",
    "            Ht = H_RAP - Ep * sum(S)\n",
    "            return Ht.to('csr')\n",
    "\n",
    "        args_C = {\"args_H\": H_t, \"n_qubits\": n_qubits, \"lambda_2\": gamma_sqrt, \"T\": T}\n",
    "\n",
    "        # Simulate evolution\n",
    "        rho_init = initial_state * initial_state.dag()\n",
    "        prev_time = times[0]\n",
    "        time_inter = times[1] - times[0]\n",
    "        tot_time = times[1:]\n",
    "        tot_time = np.append(tot_time, times[-1] + time_inter)\n",
    "\n",
    "        for dt in tot_time:\n",
    "            c_ops, c_s = c_ops_gen_new(dt, args=args_C)\n",
    "            t_steps = [prev_time, dt]\n",
    "            results = mesolve(H_t, rho_init, t_steps, c_ops=c_ops, args=args_C, e_ops=e_ops,\n",
    "                              options={'store_states': True})\n",
    "            prev_time = dt\n",
    "            rho_init = results.states[-1]\n",
    "\n",
    "        # Store final fidelity for logical_one state\n",
    "        final_fidelity = results.expect[1][-1]\n",
    "        final_fidelities[T].append(final_fidelity)\n",
    "\n",
    "# Create interactive plot\n",
    "fig = go.Figure()\n",
    "\n",
    "for T, fidelities in final_fidelities.items():\n",
    "    fig.add_trace(go.Scatter(\n",
    "        x=Eps,\n",
    "        y=fidelities,\n",
    "        mode='lines+markers',\n",
    "        name=f\"T = {T} K\"\n",
    "    ))\n",
    "\n",
    "fig.update_layout(\n",
    "    title=r\"Final Fidelity of $|1_L\\rangle$\",\n",
    "    xaxis_title=\"Energy Gap\",\n",
    "    yaxis_title=r\"Final Fidelity of $|1_L\\rangle$\"\n",
    ")\n",
    "\n",
    "fig.show()"
   ]
  },
  {
   "cell_type": "markdown",
   "id": "8d85d740114a920b",
   "metadata": {},
   "source": [
    "## Simulating the final fidelity of the logical state |1_L⟩ as a function of the energy gap E_P for different gamma_sqrt values"
   ]
  },
  {
   "cell_type": "markdown",
   "id": "715e8e0e",
   "metadata": {},
   "source": []
  },
  {
   "cell_type": "code",
   "execution_count": 17,
   "id": "7a2ab0b394aa1265",
   "metadata": {
    "ExecuteTime": {
     "end_time": "2025-07-30T08:44:50.425692Z",
     "start_time": "2025-07-30T08:43:41.142027Z"
    }
   },
   "outputs": [
    {
     "name": "stdout",
     "output_type": "stream",
     "text": [
      "Processing gamma_sqrt: 0.05\n",
      "Processing gamma_sqrt: 0.1\n",
      "Processing gamma_sqrt: 0.2\n",
      "Processing gamma_sqrt: 0.5\n",
      "Processing gamma_sqrt: 1.0\n"
     ]
    },
    {
     "data": {
      "application/vnd.plotly.v1+json": {
       "config": {
        "plotlyServerURL": "https://plot.ly"
       },
       "data": [
        {
         "mode": "lines+markers",
         "name": "gamma_sqrt = 0.05",
         "type": "scatter",
         "x": {
          "bdata": "AAAAAAAAAADYUF5DeQ0FQNhQXkN5DRVARHkN5TWUH0DYUF5DeQ0lQA7lNZTXUCpARHkN5TWUL0C9hvIaymsyQNhQXkN5DTVA8xrKayivN0AO5TWU11A6QCmvobyG8jxARHkN5TWUP0CwobyG8hpBQL2G8hrKa0JAymsor6G8Q0DYUF5DeQ1FQOY1lNdQXkZA8xrKayivR0AAAAAAAABJQA==",
          "dtype": "f8"
         },
         "y": [
          0.000008939308435343482,
          0.49554164400016054,
          0.6826356353891571,
          0.7868430422141991,
          0.8508597112772845,
          0.893842715943073,
          0.9229469889659863,
          0.9433216040989777,
          0.9578867306962745,
          0.9684614593827193,
          0.976232727206217,
          0.9817493511359744,
          0.9863103016040978,
          0.9895533815252067,
          0.9920045716822169,
          0.9938641933952451,
          0.9952789561777403,
          0.9963582594646552,
          0.9971826446630545,
          0.9978133923080469
         ]
        },
        {
         "mode": "lines+markers",
         "name": "gamma_sqrt = 0.1",
         "type": "scatter",
         "x": {
          "bdata": "AAAAAAAAAADYUF5DeQ0FQNhQXkN5DRVARHkN5TWUH0DYUF5DeQ0lQA7lNZTXUCpARHkN5TWUL0C9hvIaymsyQNhQXkN5DTVA8xrKayivN0AO5TWU11A6QCmvobyG8jxARHkN5TWUP0CwobyG8hpBQL2G8hrKa0JAymsor6G8Q0DYUF5DeQ1FQOY1lNdQXkZA8xrKayivR0AAAAAAAABJQA==",
          "dtype": "f8"
         },
         "y": [
          0.000015253363768565374,
          0.2456083929733074,
          0.4660579930701859,
          0.6191881130398593,
          0.7240465289892205,
          0.7990345084540293,
          0.8519237592727428,
          0.8899526033352503,
          0.9176477575724341,
          0.9380205572477557,
          0.9531349597416279,
          0.9639375564266928,
          0.9729147711876235,
          0.9793233825764032,
          0.9841811096479756,
          0.9878744810033767,
          0.9906889563403665,
          0.9928387733650704,
          0.9944823995960747,
          0.9957408769204741
         ]
        },
        {
         "mode": "lines+markers",
         "name": "gamma_sqrt = 0.2",
         "type": "scatter",
         "x": {
          "bdata": "AAAAAAAAAADYUF5DeQ0FQNhQXkN5DRVARHkN5TWUH0DYUF5DeQ0lQA7lNZTXUCpARHkN5TWUL0C9hvIaymsyQNhQXkN5DTVA8xrKayivN0AO5TWU11A6QCmvobyG8jxARHkN5TWUP0CwobyG8hpBQL2G8hrKa0JAymsor6G8Q0DYUF5DeQ1FQOY1lNdQXkZA8xrKayivR0AAAAAAAABJQA==",
          "dtype": "f8"
         },
         "y": [
          0.00002978915324769123,
          0.06037200930488531,
          0.21726709513275483,
          0.38344162660060954,
          0.5243257910933636,
          0.6385184123524327,
          0.7258516394486714,
          0.7921016722132226,
          0.8421691582303603,
          0.879978817928543,
          0.9085660517549862,
          0.9292776106475119,
          0.9466670859766783,
          0.9591795624181955,
          0.9687187543970776,
          0.9760030917432612,
          0.981572360185664,
          0.9858370518022753,
          0.9891039040816162,
          0.9916088307225277
         ]
        },
        {
         "mode": "lines+markers",
         "name": "gamma_sqrt = 0.5",
         "type": "scatter",
         "x": {
          "bdata": "AAAAAAAAAADYUF5DeQ0FQNhQXkN5DRVARHkN5TWUH0DYUF5DeQ0lQA7lNZTXUCpARHkN5TWUL0C9hvIaymsyQNhQXkN5DTVA8xrKayivN0AO5TWU11A6QCmvobyG8jxARHkN5TWUP0CwobyG8hpBQL2G8hrKa0JAymsor6G8Q0DYUF5DeQ1FQOY1lNdQXkZA8xrKayivR0AAAAAAAABJQA==",
          "dtype": "f8"
         },
         "y": [
          0.00005474439964365914,
          0.0009743613192341551,
          0.02207699876523896,
          0.09107212634321514,
          0.19922484845114405,
          0.3258398873831513,
          0.4489384855270394,
          0.5584977129030564,
          0.650981188540684,
          0.7265265020436149,
          0.7869772720075899,
          0.8325972468195956,
          0.8720964953604372,
          0.9012003380100899,
          0.923774175187469,
          0.9412382021489847,
          0.9547228723260054,
          0.9651267930304892,
          0.9731419636633108,
          0.9793149690542459
         ]
        },
        {
         "mode": "lines+markers",
         "name": "gamma_sqrt = 1.0",
         "type": "scatter",
         "x": {
          "bdata": "AAAAAAAAAADYUF5DeQ0FQNhQXkN5DRVARHkN5TWUH0DYUF5DeQ0lQA7lNZTXUCpARHkN5TWUL0C9hvIaymsyQNhQXkN5DTVA8xrKayivN0AO5TWU11A6QCmvobyG8jxARHkN5TWUP0CwobyG8hpBQL2G8hrKa0JAymsor6G8Q0DYUF5DeQ1FQOY1lNdQXkZA8xrKayivR0AAAAAAAABJQA==",
          "dtype": "f8"
         },
         "y": [
          0.00006164026443546612,
          0.00007778400305364809,
          0.0005338215697353125,
          0.008306423383915946,
          0.039782235288612605,
          0.10618475929703151,
          0.20156788357972444,
          0.31195307168496683,
          0.4238214495292038,
          0.527897262338335,
          0.6193999705056163,
          0.6932933915424794,
          0.7606354005710572,
          0.8122506020843274,
          0.8534519388727202,
          0.8860263545952005,
          0.9115958493392862,
          0.931571884378618,
          0.9471093026866015,
          0.959163094419339
         ]
        }
       ],
       "layout": {
        "template": {
         "data": {
          "bar": [
           {
            "error_x": {
             "color": "#2a3f5f"
            },
            "error_y": {
             "color": "#2a3f5f"
            },
            "marker": {
             "line": {
              "color": "#E5ECF6",
              "width": 0.5
             },
             "pattern": {
              "fillmode": "overlay",
              "size": 10,
              "solidity": 0.2
             }
            },
            "type": "bar"
           }
          ],
          "barpolar": [
           {
            "marker": {
             "line": {
              "color": "#E5ECF6",
              "width": 0.5
             },
             "pattern": {
              "fillmode": "overlay",
              "size": 10,
              "solidity": 0.2
             }
            },
            "type": "barpolar"
           }
          ],
          "carpet": [
           {
            "aaxis": {
             "endlinecolor": "#2a3f5f",
             "gridcolor": "white",
             "linecolor": "white",
             "minorgridcolor": "white",
             "startlinecolor": "#2a3f5f"
            },
            "baxis": {
             "endlinecolor": "#2a3f5f",
             "gridcolor": "white",
             "linecolor": "white",
             "minorgridcolor": "white",
             "startlinecolor": "#2a3f5f"
            },
            "type": "carpet"
           }
          ],
          "choropleth": [
           {
            "colorbar": {
             "outlinewidth": 0,
             "ticks": ""
            },
            "type": "choropleth"
           }
          ],
          "contour": [
           {
            "colorbar": {
             "outlinewidth": 0,
             "ticks": ""
            },
            "colorscale": [
             [
              0,
              "#0d0887"
             ],
             [
              0.1111111111111111,
              "#46039f"
             ],
             [
              0.2222222222222222,
              "#7201a8"
             ],
             [
              0.3333333333333333,
              "#9c179e"
             ],
             [
              0.4444444444444444,
              "#bd3786"
             ],
             [
              0.5555555555555556,
              "#d8576b"
             ],
             [
              0.6666666666666666,
              "#ed7953"
             ],
             [
              0.7777777777777778,
              "#fb9f3a"
             ],
             [
              0.8888888888888888,
              "#fdca26"
             ],
             [
              1,
              "#f0f921"
             ]
            ],
            "type": "contour"
           }
          ],
          "contourcarpet": [
           {
            "colorbar": {
             "outlinewidth": 0,
             "ticks": ""
            },
            "type": "contourcarpet"
           }
          ],
          "heatmap": [
           {
            "colorbar": {
             "outlinewidth": 0,
             "ticks": ""
            },
            "colorscale": [
             [
              0,
              "#0d0887"
             ],
             [
              0.1111111111111111,
              "#46039f"
             ],
             [
              0.2222222222222222,
              "#7201a8"
             ],
             [
              0.3333333333333333,
              "#9c179e"
             ],
             [
              0.4444444444444444,
              "#bd3786"
             ],
             [
              0.5555555555555556,
              "#d8576b"
             ],
             [
              0.6666666666666666,
              "#ed7953"
             ],
             [
              0.7777777777777778,
              "#fb9f3a"
             ],
             [
              0.8888888888888888,
              "#fdca26"
             ],
             [
              1,
              "#f0f921"
             ]
            ],
            "type": "heatmap"
           }
          ],
          "histogram": [
           {
            "marker": {
             "pattern": {
              "fillmode": "overlay",
              "size": 10,
              "solidity": 0.2
             }
            },
            "type": "histogram"
           }
          ],
          "histogram2d": [
           {
            "colorbar": {
             "outlinewidth": 0,
             "ticks": ""
            },
            "colorscale": [
             [
              0,
              "#0d0887"
             ],
             [
              0.1111111111111111,
              "#46039f"
             ],
             [
              0.2222222222222222,
              "#7201a8"
             ],
             [
              0.3333333333333333,
              "#9c179e"
             ],
             [
              0.4444444444444444,
              "#bd3786"
             ],
             [
              0.5555555555555556,
              "#d8576b"
             ],
             [
              0.6666666666666666,
              "#ed7953"
             ],
             [
              0.7777777777777778,
              "#fb9f3a"
             ],
             [
              0.8888888888888888,
              "#fdca26"
             ],
             [
              1,
              "#f0f921"
             ]
            ],
            "type": "histogram2d"
           }
          ],
          "histogram2dcontour": [
           {
            "colorbar": {
             "outlinewidth": 0,
             "ticks": ""
            },
            "colorscale": [
             [
              0,
              "#0d0887"
             ],
             [
              0.1111111111111111,
              "#46039f"
             ],
             [
              0.2222222222222222,
              "#7201a8"
             ],
             [
              0.3333333333333333,
              "#9c179e"
             ],
             [
              0.4444444444444444,
              "#bd3786"
             ],
             [
              0.5555555555555556,
              "#d8576b"
             ],
             [
              0.6666666666666666,
              "#ed7953"
             ],
             [
              0.7777777777777778,
              "#fb9f3a"
             ],
             [
              0.8888888888888888,
              "#fdca26"
             ],
             [
              1,
              "#f0f921"
             ]
            ],
            "type": "histogram2dcontour"
           }
          ],
          "mesh3d": [
           {
            "colorbar": {
             "outlinewidth": 0,
             "ticks": ""
            },
            "type": "mesh3d"
           }
          ],
          "parcoords": [
           {
            "line": {
             "colorbar": {
              "outlinewidth": 0,
              "ticks": ""
             }
            },
            "type": "parcoords"
           }
          ],
          "pie": [
           {
            "automargin": true,
            "type": "pie"
           }
          ],
          "scatter": [
           {
            "fillpattern": {
             "fillmode": "overlay",
             "size": 10,
             "solidity": 0.2
            },
            "type": "scatter"
           }
          ],
          "scatter3d": [
           {
            "line": {
             "colorbar": {
              "outlinewidth": 0,
              "ticks": ""
             }
            },
            "marker": {
             "colorbar": {
              "outlinewidth": 0,
              "ticks": ""
             }
            },
            "type": "scatter3d"
           }
          ],
          "scattercarpet": [
           {
            "marker": {
             "colorbar": {
              "outlinewidth": 0,
              "ticks": ""
             }
            },
            "type": "scattercarpet"
           }
          ],
          "scattergeo": [
           {
            "marker": {
             "colorbar": {
              "outlinewidth": 0,
              "ticks": ""
             }
            },
            "type": "scattergeo"
           }
          ],
          "scattergl": [
           {
            "marker": {
             "colorbar": {
              "outlinewidth": 0,
              "ticks": ""
             }
            },
            "type": "scattergl"
           }
          ],
          "scattermap": [
           {
            "marker": {
             "colorbar": {
              "outlinewidth": 0,
              "ticks": ""
             }
            },
            "type": "scattermap"
           }
          ],
          "scattermapbox": [
           {
            "marker": {
             "colorbar": {
              "outlinewidth": 0,
              "ticks": ""
             }
            },
            "type": "scattermapbox"
           }
          ],
          "scatterpolar": [
           {
            "marker": {
             "colorbar": {
              "outlinewidth": 0,
              "ticks": ""
             }
            },
            "type": "scatterpolar"
           }
          ],
          "scatterpolargl": [
           {
            "marker": {
             "colorbar": {
              "outlinewidth": 0,
              "ticks": ""
             }
            },
            "type": "scatterpolargl"
           }
          ],
          "scatterternary": [
           {
            "marker": {
             "colorbar": {
              "outlinewidth": 0,
              "ticks": ""
             }
            },
            "type": "scatterternary"
           }
          ],
          "surface": [
           {
            "colorbar": {
             "outlinewidth": 0,
             "ticks": ""
            },
            "colorscale": [
             [
              0,
              "#0d0887"
             ],
             [
              0.1111111111111111,
              "#46039f"
             ],
             [
              0.2222222222222222,
              "#7201a8"
             ],
             [
              0.3333333333333333,
              "#9c179e"
             ],
             [
              0.4444444444444444,
              "#bd3786"
             ],
             [
              0.5555555555555556,
              "#d8576b"
             ],
             [
              0.6666666666666666,
              "#ed7953"
             ],
             [
              0.7777777777777778,
              "#fb9f3a"
             ],
             [
              0.8888888888888888,
              "#fdca26"
             ],
             [
              1,
              "#f0f921"
             ]
            ],
            "type": "surface"
           }
          ],
          "table": [
           {
            "cells": {
             "fill": {
              "color": "#EBF0F8"
             },
             "line": {
              "color": "white"
             }
            },
            "header": {
             "fill": {
              "color": "#C8D4E3"
             },
             "line": {
              "color": "white"
             }
            },
            "type": "table"
           }
          ]
         },
         "layout": {
          "annotationdefaults": {
           "arrowcolor": "#2a3f5f",
           "arrowhead": 0,
           "arrowwidth": 1
          },
          "autotypenumbers": "strict",
          "coloraxis": {
           "colorbar": {
            "outlinewidth": 0,
            "ticks": ""
           }
          },
          "colorscale": {
           "diverging": [
            [
             0,
             "#8e0152"
            ],
            [
             0.1,
             "#c51b7d"
            ],
            [
             0.2,
             "#de77ae"
            ],
            [
             0.3,
             "#f1b6da"
            ],
            [
             0.4,
             "#fde0ef"
            ],
            [
             0.5,
             "#f7f7f7"
            ],
            [
             0.6,
             "#e6f5d0"
            ],
            [
             0.7,
             "#b8e186"
            ],
            [
             0.8,
             "#7fbc41"
            ],
            [
             0.9,
             "#4d9221"
            ],
            [
             1,
             "#276419"
            ]
           ],
           "sequential": [
            [
             0,
             "#0d0887"
            ],
            [
             0.1111111111111111,
             "#46039f"
            ],
            [
             0.2222222222222222,
             "#7201a8"
            ],
            [
             0.3333333333333333,
             "#9c179e"
            ],
            [
             0.4444444444444444,
             "#bd3786"
            ],
            [
             0.5555555555555556,
             "#d8576b"
            ],
            [
             0.6666666666666666,
             "#ed7953"
            ],
            [
             0.7777777777777778,
             "#fb9f3a"
            ],
            [
             0.8888888888888888,
             "#fdca26"
            ],
            [
             1,
             "#f0f921"
            ]
           ],
           "sequentialminus": [
            [
             0,
             "#0d0887"
            ],
            [
             0.1111111111111111,
             "#46039f"
            ],
            [
             0.2222222222222222,
             "#7201a8"
            ],
            [
             0.3333333333333333,
             "#9c179e"
            ],
            [
             0.4444444444444444,
             "#bd3786"
            ],
            [
             0.5555555555555556,
             "#d8576b"
            ],
            [
             0.6666666666666666,
             "#ed7953"
            ],
            [
             0.7777777777777778,
             "#fb9f3a"
            ],
            [
             0.8888888888888888,
             "#fdca26"
            ],
            [
             1,
             "#f0f921"
            ]
           ]
          },
          "colorway": [
           "#636efa",
           "#EF553B",
           "#00cc96",
           "#ab63fa",
           "#FFA15A",
           "#19d3f3",
           "#FF6692",
           "#B6E880",
           "#FF97FF",
           "#FECB52"
          ],
          "font": {
           "color": "#2a3f5f"
          },
          "geo": {
           "bgcolor": "white",
           "lakecolor": "white",
           "landcolor": "#E5ECF6",
           "showlakes": true,
           "showland": true,
           "subunitcolor": "white"
          },
          "hoverlabel": {
           "align": "left"
          },
          "hovermode": "closest",
          "mapbox": {
           "style": "light"
          },
          "paper_bgcolor": "white",
          "plot_bgcolor": "#E5ECF6",
          "polar": {
           "angularaxis": {
            "gridcolor": "white",
            "linecolor": "white",
            "ticks": ""
           },
           "bgcolor": "#E5ECF6",
           "radialaxis": {
            "gridcolor": "white",
            "linecolor": "white",
            "ticks": ""
           }
          },
          "scene": {
           "xaxis": {
            "backgroundcolor": "#E5ECF6",
            "gridcolor": "white",
            "gridwidth": 2,
            "linecolor": "white",
            "showbackground": true,
            "ticks": "",
            "zerolinecolor": "white"
           },
           "yaxis": {
            "backgroundcolor": "#E5ECF6",
            "gridcolor": "white",
            "gridwidth": 2,
            "linecolor": "white",
            "showbackground": true,
            "ticks": "",
            "zerolinecolor": "white"
           },
           "zaxis": {
            "backgroundcolor": "#E5ECF6",
            "gridcolor": "white",
            "gridwidth": 2,
            "linecolor": "white",
            "showbackground": true,
            "ticks": "",
            "zerolinecolor": "white"
           }
          },
          "shapedefaults": {
           "line": {
            "color": "#2a3f5f"
           }
          },
          "ternary": {
           "aaxis": {
            "gridcolor": "white",
            "linecolor": "white",
            "ticks": ""
           },
           "baxis": {
            "gridcolor": "white",
            "linecolor": "white",
            "ticks": ""
           },
           "bgcolor": "#E5ECF6",
           "caxis": {
            "gridcolor": "white",
            "linecolor": "white",
            "ticks": ""
           }
          },
          "title": {
           "x": 0.05
          },
          "xaxis": {
           "automargin": true,
           "gridcolor": "white",
           "linecolor": "white",
           "ticks": "",
           "title": {
            "standoff": 15
           },
           "zerolinecolor": "white",
           "zerolinewidth": 2
          },
          "yaxis": {
           "automargin": true,
           "gridcolor": "white",
           "linecolor": "white",
           "ticks": "",
           "title": {
            "standoff": 15
           },
           "zerolinecolor": "white",
           "zerolinewidth": 2
          }
         }
        },
        "title": {
         "text": "Final Fidelity of $|1_L\\rangle$"
        },
        "xaxis": {
         "title": {
          "text": "Energy Gap"
         }
        },
        "yaxis": {
         "title": {
          "text": "Final Fidelity of $|1_L\\rangle$"
         }
        }
       }
      }
     },
     "metadata": {},
     "output_type": "display_data"
    }
   ],
   "source": [
    "# Define parameters\n",
    "times = np.linspace(0, T_max, 101)  # Time array\n",
    "temperature = 20  # Constant temperature\n",
    "gamma_sqrt_values = [0.05, 0.1, 0.2, 0.5, 1.0]  # Different gamma_sqrt values\n",
    "Eps = np.linspace(0, 50, 20)  # Energy gaps\n",
    "\n",
    "rho0 = logical_zero * logical_zero.dag()\n",
    "rho1 = logical_one * logical_one.dag()\n",
    "e_ops = [rho0, rho1]\n",
    "\n",
    "# Initialize data storage\n",
    "final_fidelities = {gamma: [] for gamma in gamma_sqrt_values}\n",
    "\n",
    "# Loop over gamma_sqrt values\n",
    "for gamma_sqrt in gamma_sqrt_values:\n",
    "    print(f\"Processing gamma_sqrt: {gamma_sqrt}\")\n",
    "    for Ep in Eps:\n",
    "        # Time-dependent Hamiltonian\n",
    "        def H_t(t):\n",
    "            H_RAP = X_L * omega_t(t) + Z_L * delta_t(t)\n",
    "            Ht = H_RAP - Ep * sum(S)\n",
    "            return Ht.to('csr')\n",
    "\n",
    "        args_C = {\"args_H\": H_t, \"n_qubits\": n_qubits, \"lambda_2\": gamma_sqrt, \"T\": temperature}\n",
    "\n",
    "        # Simulate evolution\n",
    "        rho_init = initial_state * initial_state.dag()\n",
    "        prev_time = times[0]\n",
    "        time_inter = times[1] - times[0]\n",
    "        tot_time = times[1:]\n",
    "        tot_time = np.append(tot_time, times[-1] + time_inter)\n",
    "\n",
    "        for dt in tot_time:\n",
    "            c_ops, c_s = c_ops_gen_new(dt, args=args_C)\n",
    "            t_steps = [prev_time, dt]\n",
    "            results = mesolve(H_t, rho_init, t_steps, c_ops=c_ops, args=args_C, e_ops=e_ops,\n",
    "                              options={'store_states': True})\n",
    "            prev_time = dt\n",
    "            rho_init = results.states[-1]\n",
    "\n",
    "        # Store final fidelity for logical_one state\n",
    "        final_fidelity = results.expect[1][-1]\n",
    "        final_fidelities[gamma_sqrt].append(final_fidelity)\n",
    "\n",
    "# Create interactive plot\n",
    "fig = go.Figure()\n",
    "\n",
    "for gamma_sqrt, fidelities in final_fidelities.items():\n",
    "    fig.add_trace(go.Scatter(\n",
    "        x=Eps,\n",
    "        y=fidelities,\n",
    "        mode='lines+markers',\n",
    "        name=f\"gamma_sqrt = {gamma_sqrt}\"\n",
    "    ))\n",
    "\n",
    "fig.update_layout(\n",
    "    title=r\"Final Fidelity of $|1_L\\rangle$\",\n",
    "    xaxis_title=\"Energy Gap\",\n",
    "    yaxis_title=r\"Final Fidelity of $|1_L\\rangle$\"\n",
    ")\n",
    "\n",
    "fig.show()"
   ]
  },
  {
   "cell_type": "markdown",
   "id": "46ae0e64",
   "metadata": {},
   "source": [
    "### Comparison: Full noise model vs. static bit-flip noise (mesolve)\n",
    "\n",
    "#### Thermal-bath noise is energy-gap dependent\n",
    "\n",
    "In the Jordan–Farhi–Shor model, the bit-raising and bit-lowering rates\n",
    "\n",
    "$$\n",
    "\\gamma_i^- \\;\\propto\\; \\lvert g(\\omega_0)\\rvert^2\\bigl[N(\\omega_0)+1\\bigr], \n",
    "\\qquad\n",
    "\\gamma_i^+ \\;\\propto\\; \\lvert g(\\omega_0)\\rvert^2\\,N(\\omega_0),\n",
    "$$\n",
    "\n",
    "with\n",
    "\n",
    "$$\n",
    "N(\\omega) \\;=\\;\\frac{1}{e^{\\beta\\omega}-1}.\n",
    "$$\n",
    "\n",
    "When you boost the energy gap by adding a penalty \\(E_p\\), the transition frequency becomes\n",
    "\\(\\omega_0 \\to \\omega_0 + E_p\\). Since \\(N(\\omega)\\) falls off exponentially for \\(\\beta\\omega\\gg1\\), both \\(\\gamma_i^-\\) and \\(\\gamma_i^+\\) decrease rapidly with \\(E_p\\), which suppresses the thermal-bath decoherence as the penalty grows.\n",
    "\n",
    "---\n",
    "\n",
    "#### Phenomenological bit-flip noise is gap-agnostic (Atalaya)\n",
    "\n",
    "In the simpler Lindblad model you used in the first paper, each qubit suffers bit-flip errors at a fixed rate \\(\\gamma_{\\rm bf}\\), implemented via collapse operators\n",
    "\n",
    "$$\n",
    "L_q = \\sqrt{\\gamma_{\\rm bf}}\\;X_q,\n",
    "\\qquad q = 1,2,3.\n",
    "$$\n",
    "\n",
    "Because \\(\\gamma_{\\rm bf}\\) is a constant parameter with no dependence on the system’s energy spectrum, adding an energy-penalty term does not affect these rates or operators—hence the static bit-flip curve remains unchanged by \\(E_p\\).\n"
   ]
  },
  {
   "cell_type": "code",
   "execution_count": 32,
   "id": "18bf9dd7",
   "metadata": {},
   "outputs": [
    {
     "data": {
      "application/vnd.plotly.v1+json": {
       "config": {
        "plotlyServerURL": "https://plot.ly"
       },
       "data": [
        {
         "line": {
          "color": "black",
          "dash": "dash",
          "width": 2
         },
         "mode": "lines",
         "name": "Ideal (No Noise)",
         "type": "scatter",
         "x": {
          "bdata": "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",
          "dtype": "f8"
         },
         "y": {
          "bdata": "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",
          "dtype": "f8"
         }
        },
        {
         "line": {
          "color": "red",
          "width": 2
         },
         "mode": "lines",
         "name": "Full Noise Model",
         "type": "scatter",
         "x": {
          "bdata": "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",
          "dtype": "f8"
         },
         "y": [
          0,
          0,
          2.4655935723968902e-8,
          3.8138743517730476e-7,
          0.0000018449181060049028,
          0.000005474121046420983,
          0.00001231806997023243,
          0.0000231020352675196,
          0.000037966454298215856,
          0.0000563232508295007,
          0.00007687136681439786,
          0.00009778120813194118,
          0.00011702140210394,
          0.00013277398402658156,
          0.00014384888598000038,
          0.00015002270796058846,
          0.00015221715495419163,
          0.00015246930874629025,
          0.00015367990641208982,
          0.00015916856178640608,
          0.00017210427663323346,
          0.00019490846293463627,
          0.00022874004534551384,
          0.0002731648339546156,
          0.00032608453146916347,
          0.0003839583470064101,
          0.0004422991872577659,
          0.0004963756374027087,
          0.0005420096562644589,
          0.0005763359798334895,
          0.0005983876823626522,
          0.0006093947659909333,
          0.0006127261539592067,
          0.000613463416119122,
          0.0006176575405693014,
          0.0006313773657501597,
          0.000659699705050325,
          0.0007058088727748095,
          0.0007703631864997507,
          0.0008512486029356256,
          0.0009437801432564553,
          0.0010413393547126439,
          0.0011363624583348656,
          0.0012215314196824213,
          0.001290979956012494,
          0.0013413161432328962,
          0.0013722841010358712,
          0.0013869498089319838,
          0.001391340634660227,
          0.0013936018973810006,
          0.0014027703032539905,
          0.0014273563848797323,
          0.0014739577634028782,
          0.0015461287951835973,
          0.001643698241488829,
          0.0017626605372250057,
          0.0018956777360945101,
          0.002033131930205348,
          0.00216457726341736,
          0.002280371474049658,
          0.002373231473501165,
          0.002439462615089136,
          0.0024796566393308715,
          0.002498732153796993,
          0.0025052923253930355,
          0.002510382097080344,
          0.002525825087573713,
          0.0025623920338798357,
          0.0026280852408427043,
          0.002726811517275602,
          0.0028576614483851537,
          0.003014922974848872,
          0.0031888452761226036,
          0.0033670519385391048,
          0.003536397928920269,
          0.0036849899433594583,
          0.0038040585256605497,
          0.003889388528433505,
          0.00394207761038688,
          0.0039684915446479094,
          0.003979406093839859,
          0.003988450411848704,
          0.0040100782825228075,
          0.004057372036875384,
          0.004140013924704528,
          0.004262737816886137,
          0.0044245062129434866,
          0.004618551321384287,
          0.004833289875968969,
          0.005053988855664614,
          0.005264941521940444,
          0.0054518289317838815,
          0.005603909785038505,
          0.005715706166958432,
          0.0057879242770037176,
          0.005827461188879704,
          0.005846479046272107,
          0.005860673454318896,
          0.005886981944319559,
          0.0059410730901280715,
          0.006034990863005312,
          0.006175305107852884,
          0.0063620487854367785,
          0.006588610421614507,
          0.00684261053174917,
          0.0071076472079898735,
          0.007365664144220028,
          0.0075995940973598375,
          0.007795885640781678,
          0.007946542779429454,
          0.008050376008194804,
          0.008113273023373146,
          0.008147438349813714,
          0.008169698624921493,
          0.008199109095285552,
          0.00825420849988416,
          0.008350325077199724,
          0.008497320884399686,
          0.008698100668718544,
          0.008948108253992674,
          0.009235891777096166,
          0.009544668780711554,
          0.009854678801175581,
          0.010145989756673737,
          0.010401348956231272,
          0.010608671123217358,
          0.010762814355060496,
          0.010866386759352724,
          0.010929462541507406,
          0.010968237773403939,
          0.011002802549221072,
          0.011054338936116565,
          0.011142148964869808,
          0.011280933183634639,
          0.011478691727169392,
          0.011735544539029875,
          0.012043641615474863,
          0.01238818139035251,
          0.012749407810607787,
          0.013105318301652383,
          0.013434702630687006,
          0.01372007827696484,
          0.013950125146701312,
          0.01412129185429844,
          0.014238347331909781,
          0.01431379966749603,
          0.01436625226594577,
          0.01441790928014994,
          0.014491570379242286,
          0.014607541660465906,
          0.014780879906918707,
          0.015019327253452475,
          0.015322219720838868,
          0.015680519140063767,
          0.016077966082726387,
          0.016493211225841665,
          0.016902648434668956,
          0.017283562370151145,
          0.017617150209329472,
          0.01789102975842837,
          0.018100913853796134,
          0.018251224113040466,
          0.018354565298712426,
          0.018430122706970177,
          0.01850118012660749,
          0.01859208284953944,
          0.01872506754837913,
          0.018917376440570056,
          0.019179005083455356,
          0.019511378193066354,
          0.019907127252508677,
          0.020350993639991464,
          0.020821750984281937,
          0.02129490992039211,
          0.021745855665834056,
          0.02215298719043595,
          0.022500459947867837,
          0.022780231161412944,
          0.02299302881996373,
          0.023148410722265134,
          0.02326353166657817,
          0.023361040531476113,
          0.023466252590794472,
          0.023603985461146705,
          0.023795485161233056,
          0.024055799060222975,
          0.024391882234280376,
          0.024801803101155227,
          0.025274834994229906,
          0.025792820620937438,
          0.02633235604882294,
          0.026867651701765232,
          0.027373688332914876,
          0.02782924599107483,
          0.02821947934978538,
          0.028537664261388037,
          0.028786047215035356,
          0.02897565009283819,
          0.029124921661770997,
          0.029257573091840745,
          0.02939975157632153,
          0.02957693022008123,
          0.029810919314286102,
          0.03011729739915735,
          0.03050363574795789,
          0.03096858432624647,
          0.03150196995732126,
          0.03208602325721663,
          0.03269741341008551,
          0.033309958922189464,
          0.03389767401966274,
          0.03443775310367112,
          0.034913176045103175,
          0.035314600176803046,
          0.0356414630227558,
          0.0359020261959083,
          0.03611251142672717,
          0.03629522836047115,
          0.036476031398441223,
          0.03668152732732562,
          0.036935988273185553,
          0.0372587071260485,
          0.03766191997316043,
          0.038149429661427245,
          0.038716223175048636,
          0.0393489700794703,
          0.040027530149878435,
          0.04072715462102216,
          0.04142126892017019,
          0.04208420898503906,
          0.042693959413625686,
          0.04323478926837635,
          0.04369869124927744,
          0.044086278922418454,
          0.04440670199671697,
          0.0446767708970804,
          0.04491891039684668,
          0.04515907766441678,
          0.0454239206273645,
          0.0457379954835567,
          0.046121342372903856,
          0.04658709104252064,
          0.04714042713349001,
          0.04777800362961608,
          0.048488312620037416,
          0.04925277680484768,
          0.05004795087057667,
          0.050847608164791426,
          0.05162553303669026,
          0.05235816855282885,
          0.05302698270964767,
          0.05362026678371938,
          0.054134183611602535,
          0.05457365080953342,
          0.05495100624592876,
          0.055285386955519135,
          0.05560064487403438,
          0.05592300784304672,
          0.05627850960556342,
          0.05669047523206103,
          0.05717727537981593,
          0.057750778206994334,
          0.05841473488793358,
          0.05916479916492285,
          0.059989282609259634,
          0.06086977429829804,
          0.06178310961428717,
          0.06270356489696814,
          0.06360529764761931,
          0.06446476666367772,
          0.06526291418392104,
          0.06598688037744883,
          0.06663118713736207,
          0.06719819809251476,
          0.06769786389994657,
          0.06814683476723614,
          0.06856689541964234,
          0.06898298124858565,
          0.06942090954284155,
          0.06990506582215916,
          0.07045624204838678,
          0.07108984215782203,
          0.07181453129860402,
          0.0726315235787889,
          0.07353453585505723,
          0.0745103376488618,
          0.07553996430193625,
          0.07660038497215933,
          0.07766652684725103,
          0.07871346197007686,
          0.07971855323469712,
          0.08066334922033998,
          0.081535135175192,
          0.08232797449720124,
          0.08304316430146211,
          0.08368908945284279,
          0.08428049644851034,
          0.08483726454007529,
          0.08538271043985181,
          0.0859416454832145,
          0.08653833121366823,
          0.087194518891419,
          0.08792770501582083,
          0.08874976701336512,
          0.08966603565496159,
          0.09067492975164422,
          0.09176813847248318,
          0.09293129728155573,
          0.09414518086364895,
          0.09538725031007099,
          0.0966334594498832,
          0.09786016335569174,
          0.09904596356029316,
          0.10017333447085987,
          0.10122995158683949,
          0.10220960077182835,
          0.1031126057095237,
          0.10394576085227769,
          0.10472178780149448,
          0.10545836098770388,
          0.10617674046278014,
          0.10690015538609071,
          0.10765205846131165,
          0.10845440150552062,
          0.10932604396751264,
          0.11028141108025469,
          0.11132947411892645,
          0.11247315474473168,
          0.1137091743605128,
          0.11502833979999587,
          0.11641622972989236,
          0.1178542714171198,
          0.11932109558463543,
          0.12079408363297824,
          0.1222509874714335,
          0.1236714930300344,
          0.12503861267763405,
          0.1263398361545534,
          0.1275679584094984,
          0.1287215287392536,
          0.12980490434241979,
          0.13082792184277553,
          0.1318052041189356,
          0.1327551462711184,
          0.13369864509618212,
          0.13465767659924516,
          0.13565382951490534,
          0.1367068945570267,
          0.1378335911934192,
          0.13904650274419553,
          0.14035329806079114,
          0.14175628864452186,
          0.14325233680082314,
          0.14483310297541307,
          0.14648561758424639,
          0.14819314388518098,
          0.14993628011131746,
          0.1516942191987599,
          0.1534460858882231,
          0.1551722555852471,
          0.15685556554939478,
          0.15848235250107884,
          0.1600432631007664,
          0.16153378833522464,
          0.16295449402241435,
          0.16431094809991054,
          0.16561335513686423,
          0.1668759144048573,
          0.16811593791469506,
          0.16935278601661202,
          0.17060669480672983,
          0.171897576940361,
          0.17324386543706616,
          0.1746614579240661,
          0.17616281872462608,
          0.17775629274277546,
          0.17944567081519022,
          0.18123002330350246,
          0.18310379782857564,
          0.18505717180649361,
          0.1870766436232764,
          0.18914582919752773,
          0.19124641488442623,
          0.19335920929972636,
          0.19546523187334788,
          0.19754677178805172,
          0.1995883544308587,
          0.2015775667500199,
          0.20350570417302882,
          0.20536820834891276,
          0.20716487666822608,
          0.20889983872249418,
          0.21058130464309815,
          0.2122210984365656,
          0.21383400069798095,
          0.21543693744528838,
          0.217048063477078,
          0.21868579702748714,
          0.22036786049805127,
          0.22211037294744515,
          0.22392703575070871,
          0.225828451766959,
          0.2278216127457174,
          0.22990957867506645,
          0.23209135972232073,
          0.23436200091498752,
          0.236712862873952,
          0.2391320843720417,
          0.2416052025746523,
          0.24411589786452978,
          0.2466468242022301,
          0.24918048203194013,
          0.25170008761206597,
          0.2541903923990191,
          0.2566384119410695,
          0.2590340327868983,
          0.26137047307860445,
          0.26364457855121826,
          0.2658569429485608,
          0.268011849749093,
          0.27011703959078887,
          0.2721833152483164,
          0.2742240037434707,
          0.2762543029403858,
          0.27829054708925843,
          0.2803494300869012,
          0.2824472247032131,
          0.2845990325579646,
          0.2868180967598198,
          0.2891152068955209,
          0.29149822238769885,
          0.2939717343727559,
          0.29653687903949105,
          0.29919130813241984,
          0.30192931576923043,
          0.30474211450000444,
          0.3076182471793818,
          0.31054411509137764,
          0.3135045975508103,
          0.3164837341669827,
          0.3194654380431312,
          0.3224342066652222,
          0.32537579784352366,
          0.32827784109909863,
          0.33113035941378216,
          0.3339261810659859,
          0.33666122604260557,
          0.33933465656041983,
          0.34194888669586765,
          0.3445094518809792,
          0.3470247448834324,
          0.3495056306664257,
          0.3519649579840575,
          0.35441699030774687,
          0.3568767821034158,
          0.35935952814189115,
          0.36187991356648996,
          0.36445149144822053,
          0.36708611293069116,
          0.3697934327516722,
          0.3725805097406064,
          0.3754515178443098,
          0.37840757855674095,
          0.38144672060655493,
          0.3845639675973693,
          0.387751549139574,
          0.3909992260045519,
          0.39429471516550907,
          0.3976241964800789,
          0.40097287943053483,
          0.40432560596186556,
          0.407667464203943,
          0.4109843877920092,
          0.41426371653704525,
          0.4174946961743538,
          0.4206688976563031,
          0.42378053982353875,
          0.42682670319785754,
          0.4298074269955852,
          0.432725686136203,
          0.43558724984985675,
          0.4384004282654966,
          0.44117571786622545,
          0.4439253607084223,
          0.4466628356293388,
          0.449402302185479,
          0.4521580197087025,
          0.4549437646248133,
          0.4577722690618672,
          0.460654702805358,
          0.46360021887065944,
          0.4666155804173426,
          0.46970488350919537,
          0.47286938644012166,
          0.4761074521366222,
          0.4794146056731448,
          0.4827837043767608,
          0.48620521354392093,
          0.48966757663326177,
          0.49315766510695236,
          0.49666129000956205,
          0.500163755005526,
          0.5036504290180602,
          0.5071073158728763,
          0.5105215984762627,
          0.513882136052229,
          0.5171798948012974,
          0.5204082949608646,
          0.5235634605419559,
          0.5266443618518478,
          0.5296528451253745,
          0.5325935480088718,
          0.5354737040994055,
          0.53830284407614,
          0.5410924050172548,
          0.5438552631310117,
          0.5466052082106824,
          0.5493563805281668,
          0.5521226925023532,
          0.5549172582271104,
          0.5577518537592178,
          0.5606364299310342,
          0.563578697403637,
          0.5665838008123534,
          0.5696540953231615,
          0.5727890348820439,
          0.575985177064276,
          0.5792363048679311,
          0.5825336611897461,
          0.5858662872183996,
          0.5892214517353886,
          0.5925851544969422,
          0.595942683664941,
          0.5992792048475116,
          0.6025803578577673,
          0.6058328368816068,
          0.6090249303450826,
          0.6121469983033975,
          0.615191867545613,
          0.6181551277500151,
          0.6210353158557966,
          0.6238339802053757,
          0.6265556207705119,
          0.6292075067057055,
          0.6317993774107448,
          0.6343430380936174,
          0.636851865356208,
          0.6393402424161848,
          0.641822947066504,
          0.6443145181674673,
          0.6468286280500218,
          0.6493774882908431,
          0.6519713147426633,
          0.6546178748135218,
          0.6573221363868635,
          0.660086033791407,
          0.6629083618295496,
          0.6657848039659489,
          0.6687080954270817,
          0.6716683163246188,
          0.6746533041367169,
          0.6776491691020237,
          0.6806408906323262,
          0.683612968442792,
          0.686550099531815,
          0.6894378515007707,
          0.6922633031971996,
          0.6950156246471753,
          0.6976865699510366,
          0.7002708598725251,
          0.7027664354843082,
          0.7051745700309565,
          0.7074998323360235,
          0.7097499011144632,
          0.7119352356711933,
          0.7140686149468036,
          0.7161645633387885,
          0.7182386875798304,
          0.7203069540755489,
          0.7223849406732156,
          0.7244871000409165,
          0.7266260715598037,
          0.7288120744393682,
          0.7310524095491691,
          0.7333510931456386,
          0.735708641016465,
          0.7381220155206945,
          0.7405847411667674,
          0.7430871872472722,
          0.7456170084217997,
          0.7481597257040777,
          0.7506994210097293,
          0.7532195096948098,
          0.7557035511192005,
          0.7581360584374093,
          0.7605032707978082,
          0.7627938508736783,
          0.76499947103274,
          0.767115255537225,
          0.7691400542002541,
          0.7710765328485586,
          0.7729310743835375,
          0.7747134908027248,
          0.7764365547575602,
          0.7781153697919333,
          0.7797666083941317,
          0.7814076549435125,
          0.783055697926114,
          0.7847268229120231,
          0.7864351590214332,
          0.7881921235881131,
          0.7900058018343242,
          0.7918804947668748,
          0.7938164619066247,
          0.7958098746465114,
          0.797852986452684,
          0.7999345179436783,
          0.8020402440919001,
          0.8041537572215461,
          0.8062573641180977,
          0.8083330618298935,
          0.8103635350838134,
          0.8123331260753565,
          0.8142287279790205,
          0.816040549283663,
          0.8177626988778026,
          0.8193935541680946,
          0.8209358925725083,
          0.8223967799444064,
          0.8237872143914066,
          0.8251215342580505,
          0.8264166174648114,
          0.8276909157311465,
          0.82896337877639,
          0.8302523346747676,
          0.8315744005979163,
          0.8329434901592867,
          0.8343699700993749,
          0.8358600173719476,
          0.8374152212790322,
          0.8390324550793701,
          0.8407040246616491,
          0.8424180957109136,
          0.844159387863421,
          0.8459101014201551,
          0.8476510187693087,
          0.8493627026303229,
          0.8510267125210805,
          0.8526267730845886,
          0.8541498267917492,
          0.8555868972952524,
          0.8569336983984978,
          0.8581909462010108,
          0.8593643610397041,
          0.8604643552663817,
          0.8615054114296015,
          0.8625051746442498,
          0.863483319860595,
          0.8644602629160834,
          0.8654558051686659,
          0.8664878149041425,
          0.8675710305333211,
          0.8687160563610616,
          0.8699286235052032,
          0.8712091757484733,
          0.8725528047102148,
          0.8739495381370503,
          0.875384981515926,
          0.8768412829008332,
          0.8782983653275496,
          0.8797353294201855,
          0.881131917940391,
          0.8824699453421053,
          0.8837345991912868,
          0.8849155286558416,
          0.8860076204196882,
          0.8870114019837256,
          0.8879330511702292,
          0.888784007824769,
          0.8895802043606506,
          0.8903409338281251,
          0.8910874585238103,
          0.8918414466647251,
          0.8926233642125495,
          0.8934509586759743,
          0.8943379265649647,
          0.8952928655337647,
          0.8963186021637048,
          0.8974119506494096,
          0.8985639121312559,
          0.8997603159411457,
          0.9009828668764726,
          0.9022105515480998,
          0.9034212674808638,
          0.9045935451888906,
          0.9057082296619647,
          0.9067499918816401,
          0.9077085762594461,
          0.9085796475330679,
          0.9093651700357261,
          0.9100732943906352,
          0.9107177787161402,
          0.9113169124521906,
          0.9118920710553944,
          0.9124659893055536,
          0.9130609022658954,
          0.9136967202841274,
          0.9143894006751305,
          0.9151496071366219,
          0.9159818030406408,
          0.9168838573689565,
          0.917847187609605,
          0.9188574398279146,
          0.919895653230764,
          0.9209398746643587,
          0.9219670299485629,
          0.9229549026615197,
          0.9238840497207332,
          0.9247394794204454,
          0.925511992809247,
          0.9261990128618237,
          0.9268048409020587,
          0.9273403199837688,
          0.9278219574730293,
          0.9282704731849257,
          0.9287089843016553,
          0.9291609426488504,
          0.9296480328322257,
          0.9301882208814978,
          0.9307941452185832,
          0.9314719381605252,
          0.9322206550131285,
          0.9330323347262283,
          0.9338926973101311,
          0.9347824042662807,
          0.9356788660492096,
          0.9365583386970422,
          0.9373981430035848,
          0.9381787962634497,
          0.9388858322796937,
          0.9395112092933973,
          0.9400540913409015,
          0.9405209428578095,
          0.9409249924344706,
          0.9412849680422389,
          0.941623329087088,
          0.9419641025656892,
          0.9423305495978525,
          0.9427428975520233,
          0.9432163931125359,
          0.9437597812203952,
          0.9443744374000475,
          0.9450542193889325,
          0.9457860574462945,
          0.9465511919563145,
          0.9473270786341437,
          0.9480896442482597,
          0.948815716822543,
          0.9494853636454847,
          0.9500837935391093,
          0.9506032499753033,
          0.9510434642095743,
          0.9514117971217084,
          0.9517226186740468,
          0.9519955443811129,
          0.9522537472143464,
          0.9525214293722547,
          0.952821294486251,
          0.9531721663191706,
          0.9535871756258186,
          0.9540719747734533,
          0.9546244947137743,
          0.9552349887035205,
          0.9558872932529326,
          0.9565602687234812,
          0.9572301725576107,
          0.9578732265357544,
          0.958468074100554,
          0.9589984045994547,
          0.9594544491647565,
          0.9598341331981145,
          0.9601432923640567,
          0.9603950943850611,
          0.9606085929237961,
          0.9608064766068553,
          0.961012766815169,
          0.9612500554023028,
          0.9615370816347556,
          0.9618863936364458,
          0.962303166823331,
          0.9627845753841173,
          0.963320120761083,
          0.9638927725529807,
          0.9644809689872421,
          0.9650611300305741,
          0.9656101577105571,
          0.9661083529821042,
          0.9665415485351568,
          0.9669027149504351,
          0.967192804001689,
          0.9674206141870619,
          0.9676018226669083,
          0.9677571016407821,
          0.9679096951647055,
          0.9680826599620781,
          0.9682961518631593,
          0.9685650597222716,
          0.9688973007645197,
          0.969292863746857,
          0.9697438473029039,
          0.9702353626642082,
          0.9707473831474389,
          0.971257166075356,
          0.971742027627726,
          0.9721817979556849,
          0.9725620820164871,
          0.9728753921660868,
          0.9731215708814118,
          0.9733086278528447,
          0.9734514204051427,
          0.973569828231896,
          0.9736862778000982,
          0.97382294218023,
          0.97399899752509,
          0.9742282558819817,
          0.9745175159525025,
          0.9748657245977512,
          0.9752640923997454,
          0.9756972707509342,
          0.9761452971630794,
          0.9765861521111148,
          0.976998571754356,
          0.977364733247857,
          0.9776724952759955,
          0.9779169204935657,
          0.9781008752779997,
          0.9782346336107423,
          0.9783345315876485,
          0.9784208343150949,
          0.9785150870585764,
          0.9786373108274348,
          0.9788034271241665,
          0.9790232084005817,
          0.9792991051473291,
          0.9796258813559089,
          0.9799913957480554,
          0.9803782204924812,
          0.9807659753429293,
          0.9811340496518466,
          0.9814643277095809,
          0.9817435607479149,
          0.9819650907191175,
          0.9821296931225963,
          0.9822454280311154,
          0.9823265211636601,
          0.9823914180509303,
          0.9824602702849171,
          0.9825522039241622,
          0.9826827573777743,
          0.9828618226250427,
          0.9830923559321137,
          0.983370033535528,
          0.9836838947822177,
          0.9840178873360406,
          0.9843531072481669,
          0.9846704202256734,
          0.984953085912097,
          0.9851890270047153,
          0.9853724462230009,
          0.9855045693853595,
          0.9855934158138049,
          0.985652631417591,
          0.9856995446229208,
          0.9857527177212618,
          0.9858293473274504,
          0.9859428879203456,
          0.9861012196954484,
          0.986305607914734,
          0.9865505958649422,
          0.9868248407678863,
          0.9871127738869923,
          0.9873968482140006,
          0.9876600450417515,
          0.9878882727934172,
          0.9880723245983418,
          0.9882091264305418,
          0.9883021027092136,
          0.9883606142758589,
          0.9883985537918138,
          0.9884323030864074,
          0.9884783529892623,
          0.9885509389302147,
          0.9886600333546014,
          0.9888099737281958,
          0.988998916130717,
          0.9892191855065318,
          0.9894584649689653,
          0.9897016464294396,
          0.9899330653356015,
          0.9901387837566394,
          0.9903085877362126,
          0.9904374161444677,
          0.9905260204493599,
          0.9905807676070771,
          0.9906126239909137,
          0.9906354771787432,
          0.9906640507755818,
          0.9907117286542886,
          0.9907886133436594,
          0.9908997183911863,
          0.9910457790369318,
          0.9912210681925219,
          0.9914158031196365,
          0.9916172941236693,
          0.9918118811876087,
          0.991986980306871,
          0.9921329313867093,
          0.9922443775129943,
          0.9923209788626011,
          0.9923673654516532,
          0.9923923478422996,
          0.99240751578477,
          0.9924254459556112,
          0.9924577971914224,
          0.9925135836859889,
          0.9925978821365086,
          0.9927111580446227,
          0.9928493004884344,
          0.9930043466530319,
          0.9931657733323248,
          0.9933221477012604,
          0.9934628778073891,
          0.9935797939477171,
          0.9936683249436753,
          0.9937281000358,
          0.9937628977258409,
          0.9937799641092204,
          0.9937888193347596,
          0.9937997472690367,
          0.993822208340559,
          0.9938634215413829,
          0.9939273286704217,
          0.9940140893699686,
          0.9941201702253583,
          0.994238998212191,
          0.994362062271042,
          0.9944802800288343,
          0.9945854102671042,
          0.9946712911233889,
          0.9947347178257122,
          0.9947758352330522,
          0.9947979995064995,
          0.9948071473298694,
          0.9948107869330818,
          0.9948167809560959,
          0.994832118464681,
          0.9948598468313308,
          0.9949064504846267,
          0.9949694500111731,
          0.9950456805218335,
          0.9951298767352708,
          0.9952155828972216,
          0.9952962103104896,
          0.9953660695308122,
          0.9954212152994466,
          0.99545997872935,
          0.9954831162955119,
          0.9954935693335545,
          0.9954958903814504,
          0.9954954437012467,
          0.9954975187997207,
          0.9955065033207615,
          0.9955252450270846,
          0.9955546954950739,
          0.9955938776353767,
          0.9956401641542673,
          0.9956898038676655,
          0.9957385954859964,
          0.9957813722959897,
          0.9958174854266896,
          0.9958439285345064,
          0.9958603938130011,
          0.9958679831663255,
          0.995868909086064,
          0.9958660346254513,
          0.9958623425112586,
          0.9958604297268072,
          0.9958621129672068,
          0.9958682050168973,
          0.9958784875802679,
          0.9958918690601223,
          0.9959066830327693,
          0.9959210604523189,
          0.9959332996088226,
          0.9959421635824875,
          0.9959470536348204,
          0.9959480345597637,
          0.995945718863453,
          0.995941044697079,
          0.9959350023857992,
          0.9959283725505003
         ]
        },
        {
         "line": {
          "color": "green",
          "dash": "dot",
          "width": 2
         },
         "mode": "lines",
         "name": "Bit-Flip mesolve",
         "type": "scatter",
         "x": {
          "bdata": "AAAAAAAAAAB7FK5H4XqEP3sUrkfhepQ/uB6F61G4nj97FK5H4XqkP5qZmZmZmak/uB6F61G4rj/sUbgeheuxP3sUrkfherQ/CtejcD0Ktz+amZmZmZm5Pylcj8L1KLw/uB6F61G4vj+kcD0K16PAP+xRuB6F68E/MzMzMzMzwz97FK5H4XrEP8P1KFyPwsU/CtejcD0Kxz9SuB6F61HIP5qZmZmZmck/4XoUrkfhyj8pXI/C9SjMP3E9CtejcM0/uB6F61G4zj8AAAAAAADQP6RwPQrXo9A/SOF6FK5H0T/sUbgehevRP4/C9Shcj9I/MzMzMzMz0z/Xo3A9CtfTP3sUrkfhetQ/H4XrUbge1T/D9Shcj8LVP2dmZmZmZtY/CtejcD0K1z+uR+F6FK7XP1K4HoXrUdg/9ihcj8L12D+amZmZmZnZPz4K16NwPdo/4XoUrkfh2j+F61G4HoXbPylcj8L1KNw/zczMzMzM3D9xPQrXo3DdPxWuR+F6FN4/uB6F61G43j9cj8L1KFzfPwAAAAAAAOA/UrgehetR4D+kcD0K16PgP/YoXI/C9eA/SOF6FK5H4T+amZmZmZnhP+xRuB6F6+E/PgrXo3A94j+PwvUoXI/iP+F6FK5H4eI/MzMzMzMz4z+F61G4HoXjP9ejcD0K1+M/KVyPwvUo5D97FK5H4XrkP83MzMzMzOQ/H4XrUbge5T9xPQrXo3DlP8P1KFyPwuU/Fa5H4XoU5j9nZmZmZmbmP7gehetRuOY/CtejcD0K5z9cj8L1KFznP65H4XoUruc/AAAAAAAA6D9SuB6F61HoP6RwPQrXo+g/9ihcj8L16D9I4XoUrkfpP5qZmZmZmek/7FG4HoXr6T8+CtejcD3qP5DC9Shcj+o/4XoUrkfh6j8zMzMzMzPrP4XrUbgehes/16NwPQrX6z8pXI/C9SjsP3sUrkfheuw/zczMzMzM7D8fhetRuB7tP3E9CtejcO0/w/UoXI/C7T8VrkfhehTuP2dmZmZmZu4/uB6F61G47j8K16NwPQrvP1yPwvUoXO8/rkfhehSu7z8AAAAAAADwPylcj8L1KPA/UrgehetR8D97FK5H4XrwP6RwPQrXo/A/zczMzMzM8D/2KFyPwvXwPx+F61G4HvE/SOF6FK5H8T9xPQrXo3DxP5qZmZmZmfE/w/UoXI/C8T/sUbgehevxPxWuR+F6FPI/PgrXo3A98j9nZmZmZmbyP4/C9Shcj/I/uB6F61G48j/hehSuR+HyPwrXo3A9CvM/MzMzMzMz8z9cj8L1KFzzP4XrUbgehfM/rkfhehSu8z/Xo3A9CtfzPwAAAAAAAPQ/KVyPwvUo9D9SuB6F61H0P3sUrkfhevQ/pHA9Ctej9D/NzMzMzMz0P/YoXI/C9fQ/H4XrUbge9T9I4XoUrkf1P3E9CtejcPU/mpmZmZmZ9T/D9Shcj8L1P+xRuB6F6/U/Fa5H4XoU9j8+CtejcD32P2dmZmZmZvY/j8L1KFyP9j+4HoXrUbj2P+F6FK5H4fY/CtejcD0K9z8zMzMzMzP3P1yPwvUoXPc/hetRuB6F9z+uR+F6FK73P9ejcD0K1/c/AAAAAAAA+D8pXI/C9Sj4P1K4HoXrUfg/exSuR+F6+D+kcD0K16P4P83MzMzMzPg/9ihcj8L1+D8fhetRuB75P0jhehSuR/k/cT0K16Nw+T+amZmZmZn5P8P1KFyPwvk/7FG4HoXr+T8VrkfhehT6Pz4K16NwPfo/Z2ZmZmZm+j+QwvUoXI/6P7gehetRuPo/4XoUrkfh+j8K16NwPQr7PzMzMzMzM/s/XI/C9Shc+z+F61G4HoX7P65H4XoUrvs/16NwPQrX+z8AAAAAAAD8Pylcj8L1KPw/UrgehetR/D97FK5H4Xr8P6RwPQrXo/w/zczMzMzM/D/2KFyPwvX8Px+F61G4Hv0/SOF6FK5H/T9xPQrXo3D9P5qZmZmZmf0/w/UoXI/C/T/sUbgehev9PxWuR+F6FP4/PgrXo3A9/j9nZmZmZmb+P5DC9Shcj/4/uB6F61G4/j/hehSuR+H+PwrXo3A9Cv8/MzMzMzMz/z9cj8L1KFz/P4XrUbgehf8/rkfhehSu/z/Xo3A9Ctf/PwAAAAAAAABAFa5H4XoUAEApXI/C9SgAQD4K16NwPQBAUrgehetRAEBmZmZmZmYAQHsUrkfhegBAj8L1KFyPAECkcD0K16MAQLgehetRuABAzczMzMzMAEDhehSuR+EAQPYoXI/C9QBACtejcD0KAUAfhetRuB4BQDMzMzMzMwFASOF6FK5HAUBcj8L1KFwBQHE9CtejcAFAhetRuB6FAUCamZmZmZkBQK5H4XoUrgFAw/UoXI/CAUDXo3A9CtcBQOxRuB6F6wFAAAAAAAAAAkAVrkfhehQCQClcj8L1KAJAPgrXo3A9AkBSuB6F61ECQGdmZmZmZgJAexSuR+F6AkCPwvUoXI8CQKRwPQrXowJAuB6F61G4AkDNzMzMzMwCQOF6FK5H4QJA9ihcj8L1AkAK16NwPQoDQB+F61G4HgNAMzMzMzMzA0BI4XoUrkcDQFyPwvUoXANAcT0K16NwA0CF61G4HoUDQJqZmZmZmQNArkfhehSuA0DD9Shcj8IDQNejcD0K1wNA7FG4HoXrA0AAAAAAAAAEQBWuR+F6FARAKVyPwvUoBEA+CtejcD0EQFK4HoXrUQRAZ2ZmZmZmBEB7FK5H4XoEQI/C9ShcjwRApHA9CtejBEC4HoXrUbgEQM3MzMzMzARA4XoUrkfhBED2KFyPwvUEQArXo3A9CgVAH4XrUbgeBUAzMzMzMzMFQEjhehSuRwVAXI/C9ShcBUBxPQrXo3AFQIXrUbgehQVAmpmZmZmZBUCuR+F6FK4FQMP1KFyPwgVA16NwPQrXBUDsUbgehesFQAAAAAAAAAZAFa5H4XoUBkApXI/C9SgGQD4K16NwPQZAUrgehetRBkBnZmZmZmYGQHsUrkfhegZAj8L1KFyPBkCkcD0K16MGQLgehetRuAZAzczMzMzMBkDhehSuR+EGQPYoXI/C9QZACtejcD0KB0AfhetRuB4HQDMzMzMzMwdASOF6FK5HB0Bcj8L1KFwHQHE9CtejcAdAhetRuB6FB0CamZmZmZkHQK5H4XoUrgdAw/UoXI/CB0DXo3A9CtcHQOxRuB6F6wdAAAAAAAAACEAVrkfhehQIQClcj8L1KAhAPgrXo3A9CEBSuB6F61EIQGdmZmZmZghAexSuR+F6CECQwvUoXI8IQKRwPQrXowhAuB6F61G4CEDNzMzMzMwIQOF6FK5H4QhA9ihcj8L1CEAK16NwPQoJQB+F61G4HglAMzMzMzMzCUBI4XoUrkcJQFyPwvUoXAlAcT0K16NwCUCF61G4HoUJQJqZmZmZmQlArkfhehSuCUDD9Shcj8IJQNejcD0K1wlA7FG4HoXrCUAAAAAAAAAKQBWuR+F6FApAKVyPwvUoCkA+CtejcD0KQFK4HoXrUQpAZ2ZmZmZmCkB7FK5H4XoKQJDC9ShcjwpApHA9CtejCkC4HoXrUbgKQM3MzMzMzApA4XoUrkfhCkD2KFyPwvUKQArXo3A9CgtAH4XrUbgeC0AzMzMzMzMLQEjhehSuRwtAXI/C9ShcC0BxPQrXo3ALQIXrUbgehQtAmpmZmZmZC0CuR+F6FK4LQMP1KFyPwgtA16NwPQrXC0DsUbgehesLQAAAAAAAAAxAFa5H4XoUDEApXI/C9SgMQD4K16NwPQxAUrgehetRDEBnZmZmZmYMQHsUrkfhegxAkML1KFyPDECkcD0K16MMQLgehetRuAxAzczMzMzMDEDhehSuR+EMQPYoXI/C9QxACtejcD0KDUAfhetRuB4NQDMzMzMzMw1ASOF6FK5HDUBcj8L1KFwNQHE9CtejcA1AhetRuB6FDUCamZmZmZkNQK5H4XoUrg1Aw/UoXI/CDUDXo3A9CtcNQOxRuB6F6w1AAAAAAAAADkAVrkfhehQOQClcj8L1KA5APgrXo3A9DkBSuB6F61EOQGdmZmZmZg5AexSuR+F6DkCQwvUoXI8OQKRwPQrXow5AuB6F61G4DkDNzMzMzMwOQOF6FK5H4Q5A9ihcj8L1DkAK16NwPQoPQB+F61G4Hg9AMzMzMzMzD0BI4XoUrkcPQFyPwvUoXA9AcT0K16NwD0CF61G4HoUPQJqZmZmZmQ9ArkfhehSuD0DD9Shcj8IPQNejcD0K1w9A7FG4HoXrD0AAAAAAAAAQQArXo3A9ChBAFa5H4XoUEEAfhetRuB4QQClcj8L1KBBAMzMzMzMzEEA+CtejcD0QQEjhehSuRxBAUrgehetREEBcj8L1KFwQQGZmZmZmZhBAcT0K16NwEEB7FK5H4XoQQIXrUbgehRBAj8L1KFyPEECamZmZmZkQQKRwPQrXoxBArkfhehSuEEC4HoXrUbgQQMP1KFyPwhBAzczMzMzMEEDXo3A9CtcQQOF6FK5H4RBA7FG4HoXrEED2KFyPwvUQQAAAAAAAABFACtejcD0KEUAVrkfhehQRQB+F61G4HhFAKVyPwvUoEUAzMzMzMzMRQD4K16NwPRFASOF6FK5HEUBSuB6F61ERQFyPwvUoXBFAZ2ZmZmZmEUBxPQrXo3ARQHsUrkfhehFAhetRuB6FEUCPwvUoXI8RQJqZmZmZmRFApHA9CtejEUCuR+F6FK4RQLgehetRuBFAw/UoXI/CEUDNzMzMzMwRQNejcD0K1xFA4XoUrkfhEUDsUbgehesRQPYoXI/C9RFAAAAAAAAAEkAK16NwPQoSQBWuR+F6FBJAH4XrUbgeEkApXI/C9SgSQDMzMzMzMxJAPgrXo3A9EkBI4XoUrkcSQFK4HoXrURJAXI/C9ShcEkBnZmZmZmYSQHE9CtejcBJAexSuR+F6EkCF61G4HoUSQI/C9ShcjxJAmpmZmZmZEkCkcD0K16MSQK5H4XoUrhJAuB6F61G4EkDD9Shcj8ISQM3MzMzMzBJA16NwPQrXEkDhehSuR+ESQOxRuB6F6xJA9ihcj8L1EkAAAAAAAAATQArXo3A9ChNAFa5H4XoUE0AfhetRuB4TQClcj8L1KBNAMzMzMzMzE0A+CtejcD0TQEjhehSuRxNAUrgehetRE0Bcj8L1KFwTQGdmZmZmZhNAcT0K16NwE0B7FK5H4XoTQIXrUbgehRNAj8L1KFyPE0CamZmZmZkTQKRwPQrXoxNArkfhehSuE0C4HoXrUbgTQMP1KFyPwhNAzczMzMzME0DXo3A9CtcTQOF6FK5H4RNA7FG4HoXrE0D2KFyPwvUTQAAAAAAAABRACtejcD0KFEAVrkfhehQUQB+F61G4HhRAKVyPwvUoFEAzMzMzMzMUQD4K16NwPRRASOF6FK5HFEBSuB6F61EUQFyPwvUoXBRAZ2ZmZmZmFEBxPQrXo3AUQHsUrkfhehRAhetRuB6FFECPwvUoXI8UQJqZmZmZmRRApHA9CtejFECuR+F6FK4UQLgehetRuBRAw/UoXI/CFEDNzMzMzMwUQNejcD0K1xRA4XoUrkfhFEDsUbgehesUQPYoXI/C9RRAAAAAAAAAFUAK16NwPQoVQBWuR+F6FBVAH4XrUbgeFUApXI/C9SgVQDMzMzMzMxVAPgrXo3A9FUBI4XoUrkcVQFK4HoXrURVAXI/C9ShcFUBnZmZmZmYVQHE9CtejcBVAexSuR+F6FUCF61G4HoUVQI/C9ShcjxVAmpmZmZmZFUCkcD0K16MVQK5H4XoUrhVAuB6F61G4FUDD9Shcj8IVQM3MzMzMzBVA16NwPQrXFUDhehSuR+EVQOxRuB6F6xVA9ihcj8L1FUAAAAAAAAAWQArXo3A9ChZAFa5H4XoUFkAfhetRuB4WQClcj8L1KBZAMzMzMzMzFkA+CtejcD0WQEjhehSuRxZAUrgehetRFkBcj8L1KFwWQGdmZmZmZhZAcT0K16NwFkB7FK5H4XoWQIXrUbgehRZAj8L1KFyPFkCamZmZmZkWQKRwPQrXoxZArkfhehSuFkC4HoXrUbgWQMP1KFyPwhZAzczMzMzMFkDXo3A9CtcWQOF6FK5H4RZA7FG4HoXrFkD2KFyPwvUWQAAAAAAAABdACtejcD0KF0AVrkfhehQXQB+F61G4HhdAKVyPwvUoF0AzMzMzMzMXQD4K16NwPRdASOF6FK5HF0BSuB6F61EXQFyPwvUoXBdAZ2ZmZmZmF0BxPQrXo3AXQHsUrkfhehdAhetRuB6FF0CPwvUoXI8XQJqZmZmZmRdApHA9CtejF0CuR+F6FK4XQLgehetRuBdAw/UoXI/CF0DNzMzMzMwXQNejcD0K1xdA4XoUrkfhF0DsUbgehesXQPYoXI/C9RdAAAAAAAAAGEAK16NwPQoYQBWuR+F6FBhAH4XrUbgeGEApXI/C9SgYQDMzMzMzMxhAPgrXo3A9GEBI4XoUrkcYQFK4HoXrURhAXI/C9ShcGEBnZmZmZmYYQHE9CtejcBhAexSuR+F6GECF61G4HoUYQJDC9ShcjxhAmpmZmZmZGECkcD0K16MYQK5H4XoUrhhAuB6F61G4GEDD9Shcj8IYQM3MzMzMzBhA16NwPQrXGEDhehSuR+EYQOxRuB6F6xhA9ihcj8L1GEAAAAAAAAAZQArXo3A9ChlAFa5H4XoUGUAfhetRuB4ZQClcj8L1KBlAMzMzMzMzGUA+CtejcD0ZQEjhehSuRxlAUrgehetRGUBcj8L1KFwZQGdmZmZmZhlAcT0K16NwGUB7FK5H4XoZQIXrUbgehRlAkML1KFyPGUCamZmZmZkZQKRwPQrXoxlArkfhehSuGUC4HoXrUbgZQMP1KFyPwhlAzczMzMzMGUDXo3A9CtcZQOF6FK5H4RlA7FG4HoXrGUD2KFyPwvUZQAAAAAAAABpACtejcD0KGkAVrkfhehQaQB+F61G4HhpAKVyPwvUoGkAzMzMzMzMaQD4K16NwPRpASOF6FK5HGkBSuB6F61EaQFyPwvUoXBpAZ2ZmZmZmGkBxPQrXo3AaQHsUrkfhehpAhetRuB6FGkCQwvUoXI8aQJqZmZmZmRpApHA9CtejGkCuR+F6FK4aQLgehetRuBpAw/UoXI/CGkDNzMzMzMwaQNejcD0K1xpA4XoUrkfhGkDsUbgehesaQPYoXI/C9RpAAAAAAAAAG0AK16NwPQobQBWuR+F6FBtAH4XrUbgeG0ApXI/C9SgbQDMzMzMzMxtAPgrXo3A9G0BI4XoUrkcbQFK4HoXrURtAXI/C9ShcG0BnZmZmZmYbQHE9CtejcBtAexSuR+F6G0CF61G4HoUbQJDC9ShcjxtAmpmZmZmZG0CkcD0K16MbQK5H4XoUrhtAuB6F61G4G0DD9Shcj8IbQM3MzMzMzBtA16NwPQrXG0DhehSuR+EbQOxRuB6F6xtA9ihcj8L1G0AAAAAAAAAcQArXo3A9ChxAFa5H4XoUHEAfhetRuB4cQClcj8L1KBxAMzMzMzMzHEA+CtejcD0cQEjhehSuRxxAUrgehetRHEBcj8L1KFwcQGdmZmZmZhxAcT0K16NwHEB7FK5H4XocQIXrUbgehRxAkML1KFyPHECamZmZmZkcQKRwPQrXoxxArkfhehSuHEC4HoXrUbgcQMP1KFyPwhxAzczMzMzMHEDXo3A9CtccQOF6FK5H4RxA7FG4HoXrHED2KFyPwvUcQAAAAAAAAB1ACtejcD0KHUAVrkfhehQdQB+F61G4Hh1AKVyPwvUoHUAzMzMzMzMdQD4K16NwPR1ASOF6FK5HHUBSuB6F61EdQFyPwvUoXB1AZ2ZmZmZmHUBxPQrXo3AdQHsUrkfheh1AhetRuB6FHUCQwvUoXI8dQJqZmZmZmR1ApHA9CtejHUCuR+F6FK4dQLgehetRuB1Aw/UoXI/CHUDNzMzMzMwdQNejcD0K1x1A4XoUrkfhHUDsUbgehesdQPYoXI/C9R1AAAAAAAAAHkAK16NwPQoeQBWuR+F6FB5AH4XrUbgeHkApXI/C9SgeQDMzMzMzMx5APgrXo3A9HkBI4XoUrkceQFK4HoXrUR5AXI/C9ShcHkBnZmZmZmYeQHE9CtejcB5AexSuR+F6HkCF61G4HoUeQJDC9Shcjx5AmpmZmZmZHkCkcD0K16MeQK5H4XoUrh5AuB6F61G4HkDD9Shcj8IeQM3MzMzMzB5A16NwPQrXHkDhehSuR+EeQOxRuB6F6x5A9ihcj8L1HkAAAAAAAAAfQArXo3A9Ch9AFa5H4XoUH0AfhetRuB4fQClcj8L1KB9AMzMzMzMzH0A+CtejcD0fQEjhehSuRx9AUrgehetRH0Bcj8L1KFwfQGdmZmZmZh9AcT0K16NwH0B7FK5H4XofQIXrUbgehR9AkML1KFyPH0CamZmZmZkfQKRwPQrXox9ArkfhehSuH0C5HoXrUbgfQMP1KFyPwh9AzczMzMzMH0DXo3A9CtcfQOF6FK5H4R9A7FG4HoXrH0D2KFyPwvUfQAAAAAAAACBAhetRuB4FIEAK16NwPQogQI/C9ShcDyBAFa5H4XoUIECamZmZmRkgQB+F61G4HiBApHA9CtcjIEApXI/C9SggQK5H4XoULiBAMzMzMzMzIEC4HoXrUTggQD4K16NwPSBAw/UoXI9CIEBI4XoUrkcgQM3MzMzMTCBAUrgehetRIEDXo3A9ClcgQFyPwvUoXCBA4XoUrkdhIEBmZmZmZmYgQOxRuB6FayBAcT0K16NwIED2KFyPwnUgQHsUrkfheiBAAAAAAACAIECF61G4HoUgQArXo3A9iiBAj8L1KFyPIEAVrkfhepQgQJqZmZmZmSBAH4XrUbieIECkcD0K16MgQClcj8L1qCBArkfhehSuIEAzMzMzM7MgQLgehetRuCBAPgrXo3C9IEDD9Shcj8IgQEjhehSuxyBAzczMzMzMIEBSuB6F69EgQNejcD0K1yBAXI/C9SjcIEDhehSuR+EgQGZmZmZm5iBA7FG4HoXrIEBxPQrXo/AgQPYoXI/C9SBAexSuR+H6IEAAAAAAAAAhQIXrUbgeBSFACtejcD0KIUCPwvUoXA8hQBWuR+F6FCFAmpmZmZkZIUAfhetRuB4hQKRwPQrXIyFAKVyPwvUoIUCuR+F6FC4hQDMzMzMzMyFAuB6F61E4IUA+CtejcD0hQMP1KFyPQiFASOF6FK5HIUDNzMzMzEwhQFK4HoXrUSFA16NwPQpXIUBcj8L1KFwhQOF6FK5HYSFAZ2ZmZmZmIUDsUbgehWshQHE9CtejcCFA9ihcj8J1IUB7FK5H4XohQAAAAAAAgCFAhetRuB6FIUAK16NwPYohQI/C9ShcjyFAFa5H4XqUIUCamZmZmZkhQB+F61G4niFApHA9CtejIUApXI/C9aghQK5H4XoUriFAMzMzMzOzIUC4HoXrUbghQD4K16NwvSFAw/UoXI/CIUBI4XoUrschQM3MzMzMzCFAUrgehevRIUDXo3A9CtchQFyPwvUo3CFA4XoUrkfhIUBnZmZmZuYhQOxRuB6F6yFAcT0K16PwIUD2KFyPwvUhQHsUrkfh+iFAAAAAAAAAIkCF61G4HgUiQArXo3A9CiJAj8L1KFwPIkAVrkfhehQiQJqZmZmZGSJAH4XrUbgeIkCkcD0K1yMiQClcj8L1KCJArkfhehQuIkAzMzMzMzMiQLgehetROCJAPgrXo3A9IkDD9Shcj0IiQEjhehSuRyJAzczMzMxMIkBSuB6F61EiQNejcD0KVyJAXI/C9ShcIkDhehSuR2EiQGdmZmZmZiJA7FG4HoVrIkBxPQrXo3AiQPYoXI/CdSJAexSuR+F6IkAAAAAAAIAiQIXrUbgehSJACtejcD2KIkCPwvUoXI8iQBWuR+F6lCJAmpmZmZmZIkAfhetRuJ4iQKRwPQrXoyJAKVyPwvWoIkCuR+F6FK4iQDMzMzMzsyJAuB6F61G4IkA+CtejcL0iQMP1KFyPwiJASOF6FK7HIkDNzMzMzMwiQFK4HoXr0SJA16NwPQrXIkBcj8L1KNwiQOF6FK5H4SJAZ2ZmZmbmIkDsUbgehesiQHE9Ctej8CJA9ihcj8L1IkB7FK5H4foiQAAAAAAAACNAhetRuB4FI0AK16NwPQojQI/C9ShcDyNAFa5H4XoUI0CamZmZmRkjQB+F61G4HiNApHA9CtcjI0ApXI/C9SgjQK5H4XoULiNAMzMzMzMzI0C4HoXrUTgjQD4K16NwPSNAw/UoXI9CI0BI4XoUrkcjQM3MzMzMTCNAUrgehetRI0DXo3A9ClcjQFyPwvUoXCNA4XoUrkdhI0BnZmZmZmYjQOxRuB6FayNAcT0K16NwI0D2KFyPwnUjQHsUrkfheiNAAAAAAACAI0CF61G4HoUjQArXo3A9iiNAj8L1KFyPI0AVrkfhepQjQJqZmZmZmSNAH4XrUbieI0CkcD0K16MjQClcj8L1qCNArkfhehSuI0AzMzMzM7MjQLgehetRuCNAPgrXo3C9I0DD9Shcj8IjQEjhehSuxyNAzczMzMzMI0BSuB6F69EjQNejcD0K1yNAXI/C9SjcI0DhehSuR+EjQGdmZmZm5iNA7FG4HoXrI0BxPQrXo/AjQPYoXI/C9SNAexSuR+H6I0AAAAAAAAAkQA==",
          "dtype": "f8"
         },
         "y": {
          "bdata": "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",
          "dtype": "f8"
         }
        }
       ],
       "layout": {
        "font": {
         "family": "sans-serif",
         "size": 18
        },
        "legend": {
         "title": {
          "text": "Model"
         }
        },
        "template": {
         "data": {
          "bar": [
           {
            "error_x": {
             "color": "#2a3f5f"
            },
            "error_y": {
             "color": "#2a3f5f"
            },
            "marker": {
             "line": {
              "color": "#E5ECF6",
              "width": 0.5
             },
             "pattern": {
              "fillmode": "overlay",
              "size": 10,
              "solidity": 0.2
             }
            },
            "type": "bar"
           }
          ],
          "barpolar": [
           {
            "marker": {
             "line": {
              "color": "#E5ECF6",
              "width": 0.5
             },
             "pattern": {
              "fillmode": "overlay",
              "size": 10,
              "solidity": 0.2
             }
            },
            "type": "barpolar"
           }
          ],
          "carpet": [
           {
            "aaxis": {
             "endlinecolor": "#2a3f5f",
             "gridcolor": "white",
             "linecolor": "white",
             "minorgridcolor": "white",
             "startlinecolor": "#2a3f5f"
            },
            "baxis": {
             "endlinecolor": "#2a3f5f",
             "gridcolor": "white",
             "linecolor": "white",
             "minorgridcolor": "white",
             "startlinecolor": "#2a3f5f"
            },
            "type": "carpet"
           }
          ],
          "choropleth": [
           {
            "colorbar": {
             "outlinewidth": 0,
             "ticks": ""
            },
            "type": "choropleth"
           }
          ],
          "contour": [
           {
            "colorbar": {
             "outlinewidth": 0,
             "ticks": ""
            },
            "colorscale": [
             [
              0,
              "#0d0887"
             ],
             [
              0.1111111111111111,
              "#46039f"
             ],
             [
              0.2222222222222222,
              "#7201a8"
             ],
             [
              0.3333333333333333,
              "#9c179e"
             ],
             [
              0.4444444444444444,
              "#bd3786"
             ],
             [
              0.5555555555555556,
              "#d8576b"
             ],
             [
              0.6666666666666666,
              "#ed7953"
             ],
             [
              0.7777777777777778,
              "#fb9f3a"
             ],
             [
              0.8888888888888888,
              "#fdca26"
             ],
             [
              1,
              "#f0f921"
             ]
            ],
            "type": "contour"
           }
          ],
          "contourcarpet": [
           {
            "colorbar": {
             "outlinewidth": 0,
             "ticks": ""
            },
            "type": "contourcarpet"
           }
          ],
          "heatmap": [
           {
            "colorbar": {
             "outlinewidth": 0,
             "ticks": ""
            },
            "colorscale": [
             [
              0,
              "#0d0887"
             ],
             [
              0.1111111111111111,
              "#46039f"
             ],
             [
              0.2222222222222222,
              "#7201a8"
             ],
             [
              0.3333333333333333,
              "#9c179e"
             ],
             [
              0.4444444444444444,
              "#bd3786"
             ],
             [
              0.5555555555555556,
              "#d8576b"
             ],
             [
              0.6666666666666666,
              "#ed7953"
             ],
             [
              0.7777777777777778,
              "#fb9f3a"
             ],
             [
              0.8888888888888888,
              "#fdca26"
             ],
             [
              1,
              "#f0f921"
             ]
            ],
            "type": "heatmap"
           }
          ],
          "histogram": [
           {
            "marker": {
             "pattern": {
              "fillmode": "overlay",
              "size": 10,
              "solidity": 0.2
             }
            },
            "type": "histogram"
           }
          ],
          "histogram2d": [
           {
            "colorbar": {
             "outlinewidth": 0,
             "ticks": ""
            },
            "colorscale": [
             [
              0,
              "#0d0887"
             ],
             [
              0.1111111111111111,
              "#46039f"
             ],
             [
              0.2222222222222222,
              "#7201a8"
             ],
             [
              0.3333333333333333,
              "#9c179e"
             ],
             [
              0.4444444444444444,
              "#bd3786"
             ],
             [
              0.5555555555555556,
              "#d8576b"
             ],
             [
              0.6666666666666666,
              "#ed7953"
             ],
             [
              0.7777777777777778,
              "#fb9f3a"
             ],
             [
              0.8888888888888888,
              "#fdca26"
             ],
             [
              1,
              "#f0f921"
             ]
            ],
            "type": "histogram2d"
           }
          ],
          "histogram2dcontour": [
           {
            "colorbar": {
             "outlinewidth": 0,
             "ticks": ""
            },
            "colorscale": [
             [
              0,
              "#0d0887"
             ],
             [
              0.1111111111111111,
              "#46039f"
             ],
             [
              0.2222222222222222,
              "#7201a8"
             ],
             [
              0.3333333333333333,
              "#9c179e"
             ],
             [
              0.4444444444444444,
              "#bd3786"
             ],
             [
              0.5555555555555556,
              "#d8576b"
             ],
             [
              0.6666666666666666,
              "#ed7953"
             ],
             [
              0.7777777777777778,
              "#fb9f3a"
             ],
             [
              0.8888888888888888,
              "#fdca26"
             ],
             [
              1,
              "#f0f921"
             ]
            ],
            "type": "histogram2dcontour"
           }
          ],
          "mesh3d": [
           {
            "colorbar": {
             "outlinewidth": 0,
             "ticks": ""
            },
            "type": "mesh3d"
           }
          ],
          "parcoords": [
           {
            "line": {
             "colorbar": {
              "outlinewidth": 0,
              "ticks": ""
             }
            },
            "type": "parcoords"
           }
          ],
          "pie": [
           {
            "automargin": true,
            "type": "pie"
           }
          ],
          "scatter": [
           {
            "fillpattern": {
             "fillmode": "overlay",
             "size": 10,
             "solidity": 0.2
            },
            "type": "scatter"
           }
          ],
          "scatter3d": [
           {
            "line": {
             "colorbar": {
              "outlinewidth": 0,
              "ticks": ""
             }
            },
            "marker": {
             "colorbar": {
              "outlinewidth": 0,
              "ticks": ""
             }
            },
            "type": "scatter3d"
           }
          ],
          "scattercarpet": [
           {
            "marker": {
             "colorbar": {
              "outlinewidth": 0,
              "ticks": ""
             }
            },
            "type": "scattercarpet"
           }
          ],
          "scattergeo": [
           {
            "marker": {
             "colorbar": {
              "outlinewidth": 0,
              "ticks": ""
             }
            },
            "type": "scattergeo"
           }
          ],
          "scattergl": [
           {
            "marker": {
             "colorbar": {
              "outlinewidth": 0,
              "ticks": ""
             }
            },
            "type": "scattergl"
           }
          ],
          "scattermap": [
           {
            "marker": {
             "colorbar": {
              "outlinewidth": 0,
              "ticks": ""
             }
            },
            "type": "scattermap"
           }
          ],
          "scattermapbox": [
           {
            "marker": {
             "colorbar": {
              "outlinewidth": 0,
              "ticks": ""
             }
            },
            "type": "scattermapbox"
           }
          ],
          "scatterpolar": [
           {
            "marker": {
             "colorbar": {
              "outlinewidth": 0,
              "ticks": ""
             }
            },
            "type": "scatterpolar"
           }
          ],
          "scatterpolargl": [
           {
            "marker": {
             "colorbar": {
              "outlinewidth": 0,
              "ticks": ""
             }
            },
            "type": "scatterpolargl"
           }
          ],
          "scatterternary": [
           {
            "marker": {
             "colorbar": {
              "outlinewidth": 0,
              "ticks": ""
             }
            },
            "type": "scatterternary"
           }
          ],
          "surface": [
           {
            "colorbar": {
             "outlinewidth": 0,
             "ticks": ""
            },
            "colorscale": [
             [
              0,
              "#0d0887"
             ],
             [
              0.1111111111111111,
              "#46039f"
             ],
             [
              0.2222222222222222,
              "#7201a8"
             ],
             [
              0.3333333333333333,
              "#9c179e"
             ],
             [
              0.4444444444444444,
              "#bd3786"
             ],
             [
              0.5555555555555556,
              "#d8576b"
             ],
             [
              0.6666666666666666,
              "#ed7953"
             ],
             [
              0.7777777777777778,
              "#fb9f3a"
             ],
             [
              0.8888888888888888,
              "#fdca26"
             ],
             [
              1,
              "#f0f921"
             ]
            ],
            "type": "surface"
           }
          ],
          "table": [
           {
            "cells": {
             "fill": {
              "color": "#EBF0F8"
             },
             "line": {
              "color": "white"
             }
            },
            "header": {
             "fill": {
              "color": "#C8D4E3"
             },
             "line": {
              "color": "white"
             }
            },
            "type": "table"
           }
          ]
         },
         "layout": {
          "annotationdefaults": {
           "arrowcolor": "#2a3f5f",
           "arrowhead": 0,
           "arrowwidth": 1
          },
          "autotypenumbers": "strict",
          "coloraxis": {
           "colorbar": {
            "outlinewidth": 0,
            "ticks": ""
           }
          },
          "colorscale": {
           "diverging": [
            [
             0,
             "#8e0152"
            ],
            [
             0.1,
             "#c51b7d"
            ],
            [
             0.2,
             "#de77ae"
            ],
            [
             0.3,
             "#f1b6da"
            ],
            [
             0.4,
             "#fde0ef"
            ],
            [
             0.5,
             "#f7f7f7"
            ],
            [
             0.6,
             "#e6f5d0"
            ],
            [
             0.7,
             "#b8e186"
            ],
            [
             0.8,
             "#7fbc41"
            ],
            [
             0.9,
             "#4d9221"
            ],
            [
             1,
             "#276419"
            ]
           ],
           "sequential": [
            [
             0,
             "#0d0887"
            ],
            [
             0.1111111111111111,
             "#46039f"
            ],
            [
             0.2222222222222222,
             "#7201a8"
            ],
            [
             0.3333333333333333,
             "#9c179e"
            ],
            [
             0.4444444444444444,
             "#bd3786"
            ],
            [
             0.5555555555555556,
             "#d8576b"
            ],
            [
             0.6666666666666666,
             "#ed7953"
            ],
            [
             0.7777777777777778,
             "#fb9f3a"
            ],
            [
             0.8888888888888888,
             "#fdca26"
            ],
            [
             1,
             "#f0f921"
            ]
           ],
           "sequentialminus": [
            [
             0,
             "#0d0887"
            ],
            [
             0.1111111111111111,
             "#46039f"
            ],
            [
             0.2222222222222222,
             "#7201a8"
            ],
            [
             0.3333333333333333,
             "#9c179e"
            ],
            [
             0.4444444444444444,
             "#bd3786"
            ],
            [
             0.5555555555555556,
             "#d8576b"
            ],
            [
             0.6666666666666666,
             "#ed7953"
            ],
            [
             0.7777777777777778,
             "#fb9f3a"
            ],
            [
             0.8888888888888888,
             "#fdca26"
            ],
            [
             1,
             "#f0f921"
            ]
           ]
          },
          "colorway": [
           "#636efa",
           "#EF553B",
           "#00cc96",
           "#ab63fa",
           "#FFA15A",
           "#19d3f3",
           "#FF6692",
           "#B6E880",
           "#FF97FF",
           "#FECB52"
          ],
          "font": {
           "color": "#2a3f5f"
          },
          "geo": {
           "bgcolor": "white",
           "lakecolor": "white",
           "landcolor": "#E5ECF6",
           "showlakes": true,
           "showland": true,
           "subunitcolor": "white"
          },
          "hoverlabel": {
           "align": "left"
          },
          "hovermode": "closest",
          "mapbox": {
           "style": "light"
          },
          "paper_bgcolor": "white",
          "plot_bgcolor": "#E5ECF6",
          "polar": {
           "angularaxis": {
            "gridcolor": "white",
            "linecolor": "white",
            "ticks": ""
           },
           "bgcolor": "#E5ECF6",
           "radialaxis": {
            "gridcolor": "white",
            "linecolor": "white",
            "ticks": ""
           }
          },
          "scene": {
           "xaxis": {
            "backgroundcolor": "#E5ECF6",
            "gridcolor": "white",
            "gridwidth": 2,
            "linecolor": "white",
            "showbackground": true,
            "ticks": "",
            "zerolinecolor": "white"
           },
           "yaxis": {
            "backgroundcolor": "#E5ECF6",
            "gridcolor": "white",
            "gridwidth": 2,
            "linecolor": "white",
            "showbackground": true,
            "ticks": "",
            "zerolinecolor": "white"
           },
           "zaxis": {
            "backgroundcolor": "#E5ECF6",
            "gridcolor": "white",
            "gridwidth": 2,
            "linecolor": "white",
            "showbackground": true,
            "ticks": "",
            "zerolinecolor": "white"
           }
          },
          "shapedefaults": {
           "line": {
            "color": "#2a3f5f"
           }
          },
          "ternary": {
           "aaxis": {
            "gridcolor": "white",
            "linecolor": "white",
            "ticks": ""
           },
           "baxis": {
            "gridcolor": "white",
            "linecolor": "white",
            "ticks": ""
           },
           "bgcolor": "#E5ECF6",
           "caxis": {
            "gridcolor": "white",
            "linecolor": "white",
            "ticks": ""
           }
          },
          "title": {
           "x": 0.05
          },
          "xaxis": {
           "automargin": true,
           "gridcolor": "white",
           "linecolor": "white",
           "ticks": "",
           "title": {
            "standoff": 15
           },
           "zerolinecolor": "white",
           "zerolinewidth": 2
          },
          "yaxis": {
           "automargin": true,
           "gridcolor": "white",
           "linecolor": "white",
           "ticks": "",
           "title": {
            "standoff": 15
           },
           "zerolinecolor": "white",
           "zerolinewidth": 2
          }
         }
        },
        "title": {
         "text": "Logical State Fidelity Over Time: Noise Model Comparison"
        },
        "xaxis": {
         "title": {
          "text": "Time [a.u.]"
         }
        },
        "yaxis": {
         "title": {
          "text": "Fidelity of $|1_L\\rangle$"
         }
        }
       }
      }
     },
     "metadata": {},
     "output_type": "display_data"
    }
   ],
   "source": [
    "\n",
    "# Parameters\n",
    "times = np.linspace(0, T_max, 1001)\n",
    "Ep = 50\n",
    "gamma_sqrt = 0.1\n",
    "T = 20\n",
    "gamma_bitflip = 0.05  # Bit-flip rate per qubit\n",
    "\n",
    "def H_t(t):\n",
    "    H_RAP = X_L * omega_t(t) + Z_L * delta_t(t)\n",
    "    Ht = H_RAP - Ep * sum(S)\n",
    "    return Ht.to('csr')\n",
    "\n",
    "rho0 = logical_zero * logical_zero.dag()\n",
    "rho1 = logical_one * logical_one.dag()\n",
    "e_ops = [rho0, rho1]\n",
    "\n",
    "# 1. Ideal evolution (no noise)\n",
    "results_ideal = sesolve(H_t, logical_zero, times, e_ops=e_ops)\n",
    "fidelity_ideal = np.real(results_ideal.expect[1])\n",
    "\n",
    "# 2. Full noise model (c_ops from c_ops_gen_new)\n",
    "args_C = {\"args_H\": H_t, \"n_qubits\": n_qubits, \"lambda_2\": gamma_sqrt, \"T\": T}\n",
    "rho_init = logical_zero * logical_zero.dag()\n",
    "prev_time = times[0]\n",
    "fidelity_full = []\n",
    "for dt in times[1:]:\n",
    "    c_ops, _ = c_ops_gen_new(dt, args=args_C)\n",
    "    t_steps = [prev_time, dt]\n",
    "    results = mesolve(H_t, rho_init, t_steps, c_ops=c_ops, args=args_C, e_ops=e_ops, options={'store_states': True})\n",
    "    prev_time = dt\n",
    "    rho_init = results.states[-1]\n",
    "    fidelity_full.append(np.real(results.expect[1][0]))\n",
    "fidelity_full = [fidelity_ideal[0]] + fidelity_full\n",
    "\n",
    "# 3. mesolve with static bit-flip collapse operators\n",
    "c_ops_bitflip = [\n",
    "    np.sqrt(gamma_bitflip) * tensor(X, I, I),\n",
    "    np.sqrt(gamma_bitflip) * tensor(I, X, I),\n",
    "    np.sqrt(gamma_bitflip) * tensor(I, I, X)\n",
    "]\n",
    "results_mesolve_bitflip = mesolve(H_t, logical_zero * logical_zero.dag(), times, c_ops=c_ops_bitflip, e_ops=e_ops)\n",
    "fidelity_mesolve_bitflip = np.real(results_mesolve_bitflip.expect[1])\n",
    "\n",
    "# --- Plotting ---\n",
    "fig = go.Figure()\n",
    "fig.add_trace(go.Scatter(\n",
    "    x=times, y=fidelity_ideal,\n",
    "    mode='lines', name='Ideal (No Noise)',\n",
    "    line=dict(color='black', width=2, dash='dash')\n",
    "))\n",
    "fig.add_trace(go.Scatter(\n",
    "    x=times, y=fidelity_full,\n",
    "    mode='lines', name='Full Noise Model',\n",
    "    line=dict(color='red', width=2)\n",
    "))\n",
    "fig.add_trace(go.Scatter(\n",
    "    x=times, y=fidelity_mesolve_bitflip,\n",
    "    mode='lines', name='Bit-Flip mesolve',\n",
    "    line=dict(color='green', width=2, dash='dot')\n",
    "))\n",
    "\n",
    "fig.update_layout(\n",
    "    title=\"Logical State Fidelity Over Time: Noise Model Comparison\",\n",
    "    xaxis_title=\"Time [a.u.]\",\n",
    "    yaxis_title=\"Fidelity of $|1_L\\\\rangle$\",\n",
    "    font=dict(family=\"sans-serif\", size=18),\n",
    "    legend_title=\"Model\",\n",
    "    template=\"plotly\"\n",
    ")\n",
    "\n",
    "fig.show()"
   ]
  },
  {
   "cell_type": "code",
   "execution_count": 44,
   "id": "f2133897",
   "metadata": {},
   "outputs": [
    {
     "data": {
      "application/vnd.plotly.v1+json": {
       "config": {
        "plotlyServerURL": "https://plot.ly"
       },
       "data": [
        {
         "mode": "lines+markers",
         "name": "Sum of |c_coef| out of codespace",
         "type": "scatter",
         "x": {
          "bdata": "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",
          "dtype": "f8"
         },
         "y": [
          0,
          0.00007435439626995262,
          0.00014968324076739567,
          0.0002259872902628829,
          0.00030326732029321634,
          0.00038152412938122015,
          0.00046075854339758867,
          0.0005409714200690462,
          0.0006221636536267583,
          0.0007043361795829111,
          0.0007874899796291372,
          0.0008716260866480559,
          0.000956745589829331,
          0.0010428496398826885,
          0.0011299394543304979,
          0.001218016322896505,
          0.0013070816129398383,
          0.0013971367749685305,
          0.0014881833481834058,
          0.0015802229661008452,
          0.0016732573621609434,
          0.0017672883753962203,
          0.0018623179561019288,
          0.0019583481715163384,
          0.002055381211500314,
          0.002153419394208619,
          0.0022524651717429956,
          0.002352521135785602,
          0.002453590023195647,
          0.002555674721572189,
          0.0026587782747704127,
          0.0027629038883676413,
          0.0028680549350717107,
          0.00297423496006768,
          0.0030814476862960232,
          0.003189697019658752,
          0.0032989870541481705,
          0.0034093220768944728,
          0.0035207065731282026,
          0.0036331452310547504,
          0.003746642946636157,
          0.00386120482828148,
          0.003976836201437702,
          0.004093542613083612,
          0.004211329836125707,
          0.004330203873689072,
          0.004450170963309271,
          0.004571237581020167,
          0.004693410445338704,
          0.004816696521146745,
          0.00494110302346981,
          0.005066637421153201,
          0.005193307440436482,
          0.00532112106842699,
          0.0054500865564730185,
          0.005580212423439942,
          0.005711507458887356,
          0.005843980726152086,
          0.005977641565337234,
          0.006112499596209139,
          0.006248564721004738,
          0.006385847127150783,
          0.006524357289897531,
          0.006664105974868556,
          0.006805104240529321,
          0.00694736344057619,
          0.007090895226248347,
          0.007235711548564418,
          0.007381824660486561,
          0.00752924711901305,
          0.007677991787202073,
          0.007828071836128405,
          0.007979500746774152,
          0.008132292311856306,
          0.00828646063759113,
          0.008442020145398554,
          0.008598985573545414,
          0.008757371978730994,
          0.008917194737613217,
          0.009078469548278487,
          0.009241212431654046,
          0.009405439732862514,
          0.009571168122520202,
          0.009738414597977666,
          0.009907196484502015,
          0.010077531436399806,
          0.010249437438080732,
          0.010422932805058306,
          0.010598036184887298,
          0.010774766558035519,
          0.010953143238687206,
          0.011133185875474563,
          0.011314914452135682,
          0.011498349288093302,
          0.01168351103895232,
          0.011870420696909287,
          0.013202946646920403,
          0.012249569387679484,
          0.012441852090223447,
          0.012635970039455258,
          0.012831945913281751,
          0.013029802726535044,
          0.013229563830612447,
          0.013431252912977261,
          0.013634893996510416,
          0.013840511438705082,
          0.014048129930693097,
          0.01425777449609233,
          0.014469470489665116,
          0.014683243595773094,
          0.014899119826618262,
          0.015117125520255298,
          0.015337287338361262,
          0.015559632263748112,
          0.015784187597601557,
          0.016010980956430512,
          0.016240040268709004,
          0.016471393771192822,
          0.01670507000489146,
          0.016941097810675272,
          0.017179506324497197,
          0.01742032497220632,
          0.01766358346393114,
          0.017909311788007757,
          0.018157540204428495,
          0.018408299237784333,
          0.018661619669674057,
          0.01891753253055167,
          0.019176069090982552,
          0.019437260852277285,
          0.01970113953647149,
          0.019967737075618143,
          0.020237085600357987,
          0.020509217427732117,
          0.02078416504819977,
          0.02106196111182278,
          0.021342638413576993,
          0.02162622987774951,
          0.021912768541379402,
          0.022202287536698062,
          0.022494820072524003,
          0.022790399414565902,
          0.023089058864585756,
          0.023390831738373773,
          0.02369575134248332,
          0.024003850949676588,
          0.0243151637730261,
          0.024629722938619217,
          0.02494756145681108,
          0.02526871219196937,
          0.02559320783065484,
          0.025921080848179498,
          0.026252363473484645,
          0.026587087652280107,
          0.026925285008385504,
          0.02726698680321375,
          0.027612223893338676,
          0.02796102668608684,
          0.02831342509309453,
          0.028669448481773295,
          0.02902912562462586,
          0.029392484646357003,
          0.029759552968725733,
          0.03013035725308609,
          0.030504923340567244,
          0.03088327618984558,
          0.03126543981246566,
          0.03165143720566942,
          0.03204129028269852,
          0.03243501980053915,
          0.032832645285083215,
          0.03323418495368771,
          0.0336396556351189,
          0.03404907268687693,
          0.034462449909903776,
          0.034879799460686874,
          0.035301131760780834,
          0.03572645540377919,
          0.036155777059782054,
          0.03658910137741444,
          0.03702643088346775,
          0.037467765880247486,
          0.03791310434072818,
          0.03836244180163126,
          0.03881577125456067,
          0.039273083035346934,
          0.0397343647117728,
          0.04019960096987054,
          0.040668773499005155,
          0.04114186087597809,
          0.04161883844840936,
          0.04209967821768019,
          0.042584348721742125,
          0.04307281491812381,
          0.04356503806749228,
          0.044060975618151005,
          0.04456058109188393,
          0.045063803971579115,
          0.045570589591093655,
          0.04608087902784576,
          0.046594608998644635,
          0.047111711759294926,
          0.047632115008533274,
          0.04815574179687818,
          0.0486825104409929,
          0.04921233444418148,
          0.049745122423651346,
          0.050280778045191495,
          0.05081919996592356,
          0.05136028178579256,
          0.0519039120084644,
          0.05244997401229967,
          0.05299834603206614,
          0.05354890115204287,
          0.05410150731115625,
          0.05465602732076492,
          0.05521231889568845,
          0.055770234699041354,
          0.05632962240139725,
          0.056890324754765784,
          0.057452179681814555,
          0.058015020380713225,
          0.05857867544591559,
          0.05914296900512837,
          0.0597077208726412,
          0.060272746719114874,
          0.060837858257840494,
          0.06140286344739359,
          0.06196756671051667,
          0.06253176916896379,
          0.0630952688939472,
          0.0636578611717209,
          0.06421933878373683,
          0.06477949230070518,
          0.06533811038979123,
          0.06589498013407893,
          0.06644988736333596,
          0.06700261699502102,
          0.06755295338438512,
          0.06810068068243824,
          0.06864558320047226,
          0.06918744577976964,
          0.0697260541650602,
          0.07026119538024647,
          0.07079265810487158,
          0.07132023304977973,
          0.07184371333039925,
          0.07236289483607389,
          0.07287757659387431,
          0.07338756112533865,
          0.07389265479462526,
          0.07439266814659756,
          0.07488741623342098,
          0.07537671892831128,
          0.07586040122515332,
          0.07633829352279121,
          0.07681023189288608,
          0.07727605833033875,
          0.07773562098538353,
          0.07818877437657183,
          0.07863537958398525,
          0.07907530442213696,
          0.07950842359214524,
          0.07993461881288776,
          0.08035377893096908,
          0.08076580000945459,
          0.08117058539544857,
          0.08156804576670346,
          0.08195809915756501,
          0.08234067096466013,
          0.08271569393283312,
          0.0830831081219312,
          0.08344286085512068,
          0.08379490664949521,
          0.08413920712980195,
          0.08447573092617372,
          0.0848044535568029,
          0.08512535729653581,
          0.08543843103239898,
          0.08574367010709172,
          0.086041076151496,
          0.08633065690726328,
          0.08661242604053593,
          0.08688640294785566,
          0.08715261255529828,
          0.08741108511185221,
          0.0876618559780351,
          0.08790496541071234,
          0.0881404583450456,
          0.08836838417446292,
          0.08858879652949901,
          0.08880175305631106,
          0.08900731519562873,
          0.08920554796285013,
          0.0893965197299447,
          0.08958030200977761,
          0.08975696924341675,
          0.08992659859093767,
          0.09008926972619152,
          0.09024506463595078,
          0.09039406742380589,
          0.09053636411913522,
          0.09067204249143122,
          0.09080119187022036,
          0.09092390297077739,
          0.09104026772579416,
          0.09115037912312939,
          0.09125433104973023,
          0.09135221814178732,
          0.09144413564115361,
          0.09153017925803253,
          0.09161044503991465,
          0.09168502924672062,
          0.09175402823208692,
          0.09181753833071356,
          0.09187565575167513,
          0.09192847647758362,
          0.09197609616947733,
          0.09201861007730025,
          0.0920561129558258,
          0.09208869898587153,
          0.09211646170064562,
          0.09213949391705828,
          0.0921578876718306,
          0.0921717341622275,
          0.09218112369124082,
          0.092186145617049,
          0.09218688830657577,
          0.09218343909297634,
          0.09217588423687562,
          0.09216430889118887,
          0.09214879706935616,
          0.09212943161682355,
          0.0921062941856112,
          0.09207946521180742,
          0.09204902389583601,
          0.09201504818534574,
          0.09197761476057624,
          0.09193679902205985,
          0.09189267508052228,
          0.09184531574885112,
          0.09179479253600535,
          0.09174117564274396,
          0.0916845339590577,
          0.091624935063191,
          0.09156244522214806,
          0.09149712939358075,
          0.09142905122895979,
          0.09135827307793874,
          0.09128485599382012,
          0.09120885974004175,
          0.09113034279760311,
          0.09104936237335648,
          0.0909659744090925,
          0.09088023359135193,
          0.09079219336190185,
          0.09070190592881555,
          0.0906094222781005,
          0.09051479218582228,
          0.09041806423067493,
          0.09031928580695188,
          0.09021850313787413,
          0.09011576128923626,
          0.09001110418333226,
          0.08990457461312795,
          0.08979621425664583,
          0.08968606369153538,
          0.08957416240979808,
          0.08946054883264691,
          0.08934526032547284,
          0.08922833321289901,
          0.08910980279390446,
          0.08898970335699949,
          0.08886806819543595,
          0.08874492962244006,
          0.08862031898645523,
          0.08849426668638276,
          0.08836680218681209,
          0.08823795403323138,
          0.08810774986721229,
          0.08797621644156212,
          0.08784337963543883,
          0.08770926446942565,
          0.08757389512056193,
          0.08743729493732746,
          0.08729948645458163,
          0.08716049140845418,
          0.08702033075119003,
          0.08687902466594889,
          0.08673659258156066,
          0.08659305318723975,
          0.08644842444726154,
          0.08630272361560308,
          0.08615596725055406,
          0.08600817122929967,
          0.08585935076248269,
          0.0857095204087485,
          0.08555869408927833,
          0.08540688510231721,
          0.08525410613770217,
          0.08510036929139585,
          0.084945686080034,
          0.08479006745549121,
          0.08463352381947199,
          0.10958436631002783,
          0.08431770045675446,
          0.08415843891442912,
          0.08399828875884159,
          0.08383725786107571,
          0.08367535363050183,
          0.08351258302972998,
          0.08334895258964145,
          0.08318446842450589,
          0.0830191362471836,
          0.0828529613844252,
          0.08268594879226975,
          0.08251810307154601,
          0.08234942848348416,
          0.08217992896543867,
          0.0820096081467273,
          0.08183846936458938,
          0.08166651568026527,
          0.08149374989519846,
          0.08132017456736351,
          0.08114579202771831,
          0.0809706043967801,
          0.08079461360132932,
          0.08061782139123247,
          0.08044022935638813,
          0.08026183894378908,
          0.08008265147469824,
          0.0799026681619331,
          0.07972189012725388,
          0.07954031841884518,
          0.07935795402889013,
          0.07917479791122053,
          0.07899085099903935,
          0.07880611422270115,
          0.078620588527542,
          0.09664677750762848,
          0.07824717434420544,
          0.07805928798246081,
          0.07787061699052933,
          0.0776811626567819,
          0.07749092639174344,
          0.07729990974583352,
          0.07710811442701987,
          0.07691554231836546,
          0.07672219549544512,
          0.0765280762436088,
          0.07633318707506562,
          0.07613753074576565,
          0.07594111027205076,
          0.07574392894704791,
          0.07725700891602756,
          0.07534729839595221,
          0.07514785728341783,
          0.07494767157724208,
          0.07474674618938353,
          0.07454508639993204,
          0.07434269787088332,
          0.0741395866594165,
          0.07393575923064195,
          0.07373122246979165,
          0.07352598369381705,
          0.07332005066236394,
          0.07311343158809644,
          0.07290613514633575,
          0.07269817048398806,
          0.07248954722772816,
          0.07228027549141643,
          0.07207036588271566,
          0.0718598295088876,
          0.07164867798174114,
          0.0714369234217094,
          0.07122457846103546,
          0.07101165624604511,
          0.07079817043848796,
          0.070584135215934,
          0.07036956527120519,
          0.07015447581083617,
          0.06993888255254936,
          0.06972280172173927,
          0.06950625004696015,
          0.06928924475441174,
          0.06907180356142871,
          0.0688539446689676,
          0.06863568675310423,
          0.06841704895554414,
          0.06819805087315774,
          0.06797871254655354,
          0.0677590544477049,
          0.06753909746664753,
          0.06731886289727075,
          0.067098372422224,
          0.06687764809696747,
          0.06665671233299111,
          0.06643558788026638,
          0.06621429780876428,
          0.06599286548966429,
          0.06577131457531217
         ]
        },
        {
         "line": {
          "color": "black",
          "dash": "dash"
         },
         "mode": "lines",
         "name": "βEp = Ep/T",
         "type": "scatter",
         "x": {
          "bdata": "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",
          "dtype": "f8"
         },
         "y": [
          2,
          2,
          2,
          2,
          2,
          2,
          2,
          2,
          2,
          2,
          2,
          2,
          2,
          2,
          2,
          2,
          2,
          2,
          2,
          2,
          2,
          2,
          2,
          2,
          2,
          2,
          2,
          2,
          2,
          2,
          2,
          2,
          2,
          2,
          2,
          2,
          2,
          2,
          2,
          2,
          2,
          2,
          2,
          2,
          2,
          2,
          2,
          2,
          2,
          2,
          2,
          2,
          2,
          2,
          2,
          2,
          2,
          2,
          2,
          2,
          2,
          2,
          2,
          2,
          2,
          2,
          2,
          2,
          2,
          2,
          2,
          2,
          2,
          2,
          2,
          2,
          2,
          2,
          2,
          2,
          2,
          2,
          2,
          2,
          2,
          2,
          2,
          2,
          2,
          2,
          2,
          2,
          2,
          2,
          2,
          2,
          2,
          2,
          2,
          2,
          2,
          2,
          2,
          2,
          2,
          2,
          2,
          2,
          2,
          2,
          2,
          2,
          2,
          2,
          2,
          2,
          2,
          2,
          2,
          2,
          2,
          2,
          2,
          2,
          2,
          2,
          2,
          2,
          2,
          2,
          2,
          2,
          2,
          2,
          2,
          2,
          2,
          2,
          2,
          2,
          2,
          2,
          2,
          2,
          2,
          2,
          2,
          2,
          2,
          2,
          2,
          2,
          2,
          2,
          2,
          2,
          2,
          2,
          2,
          2,
          2,
          2,
          2,
          2,
          2,
          2,
          2,
          2,
          2,
          2,
          2,
          2,
          2,
          2,
          2,
          2,
          2,
          2,
          2,
          2,
          2,
          2,
          2,
          2,
          2,
          2,
          2,
          2,
          2,
          2,
          2,
          2,
          2,
          2,
          2,
          2,
          2,
          2,
          2,
          2,
          2,
          2,
          2,
          2,
          2,
          2,
          2,
          2,
          2,
          2,
          2,
          2,
          2,
          2,
          2,
          2,
          2,
          2,
          2,
          2,
          2,
          2,
          2,
          2,
          2,
          2,
          2,
          2,
          2,
          2,
          2,
          2,
          2,
          2,
          2,
          2,
          2,
          2,
          2,
          2,
          2,
          2,
          2,
          2,
          2,
          2,
          2,
          2,
          2,
          2,
          2,
          2,
          2,
          2,
          2,
          2,
          2,
          2,
          2,
          2,
          2,
          2,
          2,
          2,
          2,
          2,
          2,
          2,
          2,
          2,
          2,
          2,
          2,
          2,
          2,
          2,
          2,
          2,
          2,
          2,
          2,
          2,
          2,
          2,
          2,
          2,
          2,
          2,
          2,
          2,
          2,
          2,
          2,
          2,
          2,
          2,
          2,
          2,
          2,
          2,
          2,
          2,
          2,
          2,
          2,
          2,
          2,
          2,
          2,
          2,
          2,
          2,
          2,
          2,
          2,
          2,
          2,
          2,
          2,
          2,
          2,
          2,
          2,
          2,
          2,
          2,
          2,
          2,
          2,
          2,
          2,
          2,
          2,
          2,
          2,
          2,
          2,
          2,
          2,
          2,
          2,
          2,
          2,
          2,
          2,
          2,
          2,
          2,
          2,
          2,
          2,
          2,
          2,
          2,
          2,
          2,
          2,
          2,
          2,
          2,
          2,
          2,
          2,
          2,
          2,
          2,
          2,
          2,
          2,
          2,
          2,
          2,
          2,
          2,
          2,
          2,
          2,
          2,
          2,
          2,
          2,
          2,
          2,
          2,
          2,
          2,
          2,
          2,
          2,
          2,
          2,
          2,
          2,
          2,
          2,
          2,
          2,
          2,
          2,
          2,
          2,
          2,
          2,
          2,
          2,
          2,
          2,
          2,
          2,
          2,
          2,
          2,
          2,
          2,
          2,
          2,
          2,
          2,
          2,
          2,
          2,
          2,
          2,
          2,
          2,
          2,
          2,
          2,
          2,
          2,
          2,
          2,
          2,
          2,
          2,
          2,
          2,
          2,
          2,
          2,
          2,
          2,
          2,
          2,
          2,
          2,
          2,
          2,
          2,
          2,
          2,
          2,
          2,
          2,
          2,
          2,
          2,
          2,
          2,
          2,
          2,
          2,
          2,
          2,
          2,
          2,
          2,
          2,
          2,
          2,
          2,
          2,
          2,
          2,
          2,
          2,
          2,
          2,
          2,
          2,
          2,
          2,
          2,
          2,
          2,
          2,
          2,
          2,
          2,
          2,
          2,
          2,
          2,
          2,
          2,
          2,
          2,
          2,
          2,
          2,
          2
         ]
        }
       ],
       "layout": {
        "font": {
         "family": "sans-serif",
         "size": 18
        },
        "legend": {
         "title": {
          "text": ""
         }
        },
        "template": {
         "data": {
          "bar": [
           {
            "error_x": {
             "color": "#2a3f5f"
            },
            "error_y": {
             "color": "#2a3f5f"
            },
            "marker": {
             "line": {
              "color": "#E5ECF6",
              "width": 0.5
             },
             "pattern": {
              "fillmode": "overlay",
              "size": 10,
              "solidity": 0.2
             }
            },
            "type": "bar"
           }
          ],
          "barpolar": [
           {
            "marker": {
             "line": {
              "color": "#E5ECF6",
              "width": 0.5
             },
             "pattern": {
              "fillmode": "overlay",
              "size": 10,
              "solidity": 0.2
             }
            },
            "type": "barpolar"
           }
          ],
          "carpet": [
           {
            "aaxis": {
             "endlinecolor": "#2a3f5f",
             "gridcolor": "white",
             "linecolor": "white",
             "minorgridcolor": "white",
             "startlinecolor": "#2a3f5f"
            },
            "baxis": {
             "endlinecolor": "#2a3f5f",
             "gridcolor": "white",
             "linecolor": "white",
             "minorgridcolor": "white",
             "startlinecolor": "#2a3f5f"
            },
            "type": "carpet"
           }
          ],
          "choropleth": [
           {
            "colorbar": {
             "outlinewidth": 0,
             "ticks": ""
            },
            "type": "choropleth"
           }
          ],
          "contour": [
           {
            "colorbar": {
             "outlinewidth": 0,
             "ticks": ""
            },
            "colorscale": [
             [
              0,
              "#0d0887"
             ],
             [
              0.1111111111111111,
              "#46039f"
             ],
             [
              0.2222222222222222,
              "#7201a8"
             ],
             [
              0.3333333333333333,
              "#9c179e"
             ],
             [
              0.4444444444444444,
              "#bd3786"
             ],
             [
              0.5555555555555556,
              "#d8576b"
             ],
             [
              0.6666666666666666,
              "#ed7953"
             ],
             [
              0.7777777777777778,
              "#fb9f3a"
             ],
             [
              0.8888888888888888,
              "#fdca26"
             ],
             [
              1,
              "#f0f921"
             ]
            ],
            "type": "contour"
           }
          ],
          "contourcarpet": [
           {
            "colorbar": {
             "outlinewidth": 0,
             "ticks": ""
            },
            "type": "contourcarpet"
           }
          ],
          "heatmap": [
           {
            "colorbar": {
             "outlinewidth": 0,
             "ticks": ""
            },
            "colorscale": [
             [
              0,
              "#0d0887"
             ],
             [
              0.1111111111111111,
              "#46039f"
             ],
             [
              0.2222222222222222,
              "#7201a8"
             ],
             [
              0.3333333333333333,
              "#9c179e"
             ],
             [
              0.4444444444444444,
              "#bd3786"
             ],
             [
              0.5555555555555556,
              "#d8576b"
             ],
             [
              0.6666666666666666,
              "#ed7953"
             ],
             [
              0.7777777777777778,
              "#fb9f3a"
             ],
             [
              0.8888888888888888,
              "#fdca26"
             ],
             [
              1,
              "#f0f921"
             ]
            ],
            "type": "heatmap"
           }
          ],
          "histogram": [
           {
            "marker": {
             "pattern": {
              "fillmode": "overlay",
              "size": 10,
              "solidity": 0.2
             }
            },
            "type": "histogram"
           }
          ],
          "histogram2d": [
           {
            "colorbar": {
             "outlinewidth": 0,
             "ticks": ""
            },
            "colorscale": [
             [
              0,
              "#0d0887"
             ],
             [
              0.1111111111111111,
              "#46039f"
             ],
             [
              0.2222222222222222,
              "#7201a8"
             ],
             [
              0.3333333333333333,
              "#9c179e"
             ],
             [
              0.4444444444444444,
              "#bd3786"
             ],
             [
              0.5555555555555556,
              "#d8576b"
             ],
             [
              0.6666666666666666,
              "#ed7953"
             ],
             [
              0.7777777777777778,
              "#fb9f3a"
             ],
             [
              0.8888888888888888,
              "#fdca26"
             ],
             [
              1,
              "#f0f921"
             ]
            ],
            "type": "histogram2d"
           }
          ],
          "histogram2dcontour": [
           {
            "colorbar": {
             "outlinewidth": 0,
             "ticks": ""
            },
            "colorscale": [
             [
              0,
              "#0d0887"
             ],
             [
              0.1111111111111111,
              "#46039f"
             ],
             [
              0.2222222222222222,
              "#7201a8"
             ],
             [
              0.3333333333333333,
              "#9c179e"
             ],
             [
              0.4444444444444444,
              "#bd3786"
             ],
             [
              0.5555555555555556,
              "#d8576b"
             ],
             [
              0.6666666666666666,
              "#ed7953"
             ],
             [
              0.7777777777777778,
              "#fb9f3a"
             ],
             [
              0.8888888888888888,
              "#fdca26"
             ],
             [
              1,
              "#f0f921"
             ]
            ],
            "type": "histogram2dcontour"
           }
          ],
          "mesh3d": [
           {
            "colorbar": {
             "outlinewidth": 0,
             "ticks": ""
            },
            "type": "mesh3d"
           }
          ],
          "parcoords": [
           {
            "line": {
             "colorbar": {
              "outlinewidth": 0,
              "ticks": ""
             }
            },
            "type": "parcoords"
           }
          ],
          "pie": [
           {
            "automargin": true,
            "type": "pie"
           }
          ],
          "scatter": [
           {
            "fillpattern": {
             "fillmode": "overlay",
             "size": 10,
             "solidity": 0.2
            },
            "type": "scatter"
           }
          ],
          "scatter3d": [
           {
            "line": {
             "colorbar": {
              "outlinewidth": 0,
              "ticks": ""
             }
            },
            "marker": {
             "colorbar": {
              "outlinewidth": 0,
              "ticks": ""
             }
            },
            "type": "scatter3d"
           }
          ],
          "scattercarpet": [
           {
            "marker": {
             "colorbar": {
              "outlinewidth": 0,
              "ticks": ""
             }
            },
            "type": "scattercarpet"
           }
          ],
          "scattergeo": [
           {
            "marker": {
             "colorbar": {
              "outlinewidth": 0,
              "ticks": ""
             }
            },
            "type": "scattergeo"
           }
          ],
          "scattergl": [
           {
            "marker": {
             "colorbar": {
              "outlinewidth": 0,
              "ticks": ""
             }
            },
            "type": "scattergl"
           }
          ],
          "scattermap": [
           {
            "marker": {
             "colorbar": {
              "outlinewidth": 0,
              "ticks": ""
             }
            },
            "type": "scattermap"
           }
          ],
          "scattermapbox": [
           {
            "marker": {
             "colorbar": {
              "outlinewidth": 0,
              "ticks": ""
             }
            },
            "type": "scattermapbox"
           }
          ],
          "scatterpolar": [
           {
            "marker": {
             "colorbar": {
              "outlinewidth": 0,
              "ticks": ""
             }
            },
            "type": "scatterpolar"
           }
          ],
          "scatterpolargl": [
           {
            "marker": {
             "colorbar": {
              "outlinewidth": 0,
              "ticks": ""
             }
            },
            "type": "scatterpolargl"
           }
          ],
          "scatterternary": [
           {
            "marker": {
             "colorbar": {
              "outlinewidth": 0,
              "ticks": ""
             }
            },
            "type": "scatterternary"
           }
          ],
          "surface": [
           {
            "colorbar": {
             "outlinewidth": 0,
             "ticks": ""
            },
            "colorscale": [
             [
              0,
              "#0d0887"
             ],
             [
              0.1111111111111111,
              "#46039f"
             ],
             [
              0.2222222222222222,
              "#7201a8"
             ],
             [
              0.3333333333333333,
              "#9c179e"
             ],
             [
              0.4444444444444444,
              "#bd3786"
             ],
             [
              0.5555555555555556,
              "#d8576b"
             ],
             [
              0.6666666666666666,
              "#ed7953"
             ],
             [
              0.7777777777777778,
              "#fb9f3a"
             ],
             [
              0.8888888888888888,
              "#fdca26"
             ],
             [
              1,
              "#f0f921"
             ]
            ],
            "type": "surface"
           }
          ],
          "table": [
           {
            "cells": {
             "fill": {
              "color": "#EBF0F8"
             },
             "line": {
              "color": "white"
             }
            },
            "header": {
             "fill": {
              "color": "#C8D4E3"
             },
             "line": {
              "color": "white"
             }
            },
            "type": "table"
           }
          ]
         },
         "layout": {
          "annotationdefaults": {
           "arrowcolor": "#2a3f5f",
           "arrowhead": 0,
           "arrowwidth": 1
          },
          "autotypenumbers": "strict",
          "coloraxis": {
           "colorbar": {
            "outlinewidth": 0,
            "ticks": ""
           }
          },
          "colorscale": {
           "diverging": [
            [
             0,
             "#8e0152"
            ],
            [
             0.1,
             "#c51b7d"
            ],
            [
             0.2,
             "#de77ae"
            ],
            [
             0.3,
             "#f1b6da"
            ],
            [
             0.4,
             "#fde0ef"
            ],
            [
             0.5,
             "#f7f7f7"
            ],
            [
             0.6,
             "#e6f5d0"
            ],
            [
             0.7,
             "#b8e186"
            ],
            [
             0.8,
             "#7fbc41"
            ],
            [
             0.9,
             "#4d9221"
            ],
            [
             1,
             "#276419"
            ]
           ],
           "sequential": [
            [
             0,
             "#0d0887"
            ],
            [
             0.1111111111111111,
             "#46039f"
            ],
            [
             0.2222222222222222,
             "#7201a8"
            ],
            [
             0.3333333333333333,
             "#9c179e"
            ],
            [
             0.4444444444444444,
             "#bd3786"
            ],
            [
             0.5555555555555556,
             "#d8576b"
            ],
            [
             0.6666666666666666,
             "#ed7953"
            ],
            [
             0.7777777777777778,
             "#fb9f3a"
            ],
            [
             0.8888888888888888,
             "#fdca26"
            ],
            [
             1,
             "#f0f921"
            ]
           ],
           "sequentialminus": [
            [
             0,
             "#0d0887"
            ],
            [
             0.1111111111111111,
             "#46039f"
            ],
            [
             0.2222222222222222,
             "#7201a8"
            ],
            [
             0.3333333333333333,
             "#9c179e"
            ],
            [
             0.4444444444444444,
             "#bd3786"
            ],
            [
             0.5555555555555556,
             "#d8576b"
            ],
            [
             0.6666666666666666,
             "#ed7953"
            ],
            [
             0.7777777777777778,
             "#fb9f3a"
            ],
            [
             0.8888888888888888,
             "#fdca26"
            ],
            [
             1,
             "#f0f921"
            ]
           ]
          },
          "colorway": [
           "#636efa",
           "#EF553B",
           "#00cc96",
           "#ab63fa",
           "#FFA15A",
           "#19d3f3",
           "#FF6692",
           "#B6E880",
           "#FF97FF",
           "#FECB52"
          ],
          "font": {
           "color": "#2a3f5f"
          },
          "geo": {
           "bgcolor": "white",
           "lakecolor": "white",
           "landcolor": "#E5ECF6",
           "showlakes": true,
           "showland": true,
           "subunitcolor": "white"
          },
          "hoverlabel": {
           "align": "left"
          },
          "hovermode": "closest",
          "mapbox": {
           "style": "light"
          },
          "paper_bgcolor": "white",
          "plot_bgcolor": "#E5ECF6",
          "polar": {
           "angularaxis": {
            "gridcolor": "white",
            "linecolor": "white",
            "ticks": ""
           },
           "bgcolor": "#E5ECF6",
           "radialaxis": {
            "gridcolor": "white",
            "linecolor": "white",
            "ticks": ""
           }
          },
          "scene": {
           "xaxis": {
            "backgroundcolor": "#E5ECF6",
            "gridcolor": "white",
            "gridwidth": 2,
            "linecolor": "white",
            "showbackground": true,
            "ticks": "",
            "zerolinecolor": "white"
           },
           "yaxis": {
            "backgroundcolor": "#E5ECF6",
            "gridcolor": "white",
            "gridwidth": 2,
            "linecolor": "white",
            "showbackground": true,
            "ticks": "",
            "zerolinecolor": "white"
           },
           "zaxis": {
            "backgroundcolor": "#E5ECF6",
            "gridcolor": "white",
            "gridwidth": 2,
            "linecolor": "white",
            "showbackground": true,
            "ticks": "",
            "zerolinecolor": "white"
           }
          },
          "shapedefaults": {
           "line": {
            "color": "#2a3f5f"
           }
          },
          "ternary": {
           "aaxis": {
            "gridcolor": "white",
            "linecolor": "white",
            "ticks": ""
           },
           "baxis": {
            "gridcolor": "white",
            "linecolor": "white",
            "ticks": ""
           },
           "bgcolor": "#E5ECF6",
           "caxis": {
            "gridcolor": "white",
            "linecolor": "white",
            "ticks": ""
           }
          },
          "title": {
           "x": 0.05
          },
          "xaxis": {
           "automargin": true,
           "gridcolor": "white",
           "linecolor": "white",
           "ticks": "",
           "title": {
            "standoff": 15
           },
           "zerolinecolor": "white",
           "zerolinewidth": 2
          },
          "yaxis": {
           "automargin": true,
           "gridcolor": "white",
           "linecolor": "white",
           "ticks": "",
           "title": {
            "standoff": 15
           },
           "zerolinecolor": "white",
           "zerolinewidth": 2
          }
         }
        },
        "title": {
         "text": "Leakage Rate Out of Codespace Over Time"
        },
        "xaxis": {
         "title": {
          "text": "Time"
         }
        },
        "yaxis": {
         "title": {
          "text": "Sum of |c_coef|"
         }
        }
       }
      }
     },
     "metadata": {},
     "output_type": "display_data"
    },
    {
     "data": {
      "application/vnd.plotly.v1+json": {
       "config": {
        "plotlyServerURL": "https://plot.ly"
       },
       "data": [
        {
         "mode": "lines",
         "name": "Fidelity of $|1_L⟩$ (Noise Model)",
         "type": "scatter",
         "x": {
          "bdata": "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",
          "dtype": "f8"
         },
         "y": [
          0,
          0,
          3.810556864245756e-7,
          0.0000054729550423755695,
          0.00002309879392315,
          0.00005631607634510738,
          0.00009776928446599777,
          0.00013276019051981113,
          0.00015001077519011474,
          0.0001524635914853018,
          0.00015917069648155844,
          0.00019491490314309573,
          0.0002731671031342803,
          0.0003839474638311049,
          0.0004963479152533439,
          0.0005762959990504495,
          0.0006093539278299527,
          0.0006134350361968937,
          0.0006313702484496104,
          0.000705821551925699,
          0.0008512678258872988,
          0.0010413457619224049,
          0.0012215091828032003,
          0.0013412598372955328,
          0.0013868696077833375,
          0.0013935181304704936,
          0.0014272981429443192,
          0.001546119661060512,
          0.001762702294309646,
          0.0020331989440071307,
          0.002280415633371071,
          0.0024394317108778056,
          0.0024986023572337026,
          0.002510180074257543,
          0.0025621962664472402,
          0.0027267192459329275,
          0.003014989196589611,
          0.003367247571187728,
          0.0036852005848046665,
          0.00388945950287634,
          0.003968318771003571,
          0.003988055121694805,
          0.004056915237680857,
          0.0042624535848736515,
          0.004618607289419842,
          0.005054375685917662,
          0.005452338204549893,
          0.005716011052299594,
          0.005827304150522374,
          0.00586003037595886,
          0.00594020342763406,
          0.006174650931272641,
          0.006588542487655245,
          0.007108238252939187,
          0.007600545621903744,
          0.007947290042687702,
          0.00811329119379963,
          0.008168838745274696,
          0.008252790792951797,
          0.008496041361178569,
          0.008947665620008196,
          0.009545331512003782,
          0.01014745275117317,
          0.01061012267462001,
          0.010866910044677656,
          0.010967393041160815,
          0.011052362710811383,
          0.011278733617733702,
          0.011734268796526486,
          0.012388504970939778,
          0.013107142181382923,
          0.013722461370016375,
          0.0141228519824036,
          0.014313541775573948,
          0.014415704300039087,
          0.014604283719997392,
          0.01501660372233402,
          0.015679695038957418,
          0.016494735150840933,
          0.017286723242952273,
          0.01789412948419324,
          0.01825250170562235,
          0.018428656284446593,
          0.018588246806582234,
          0.018912821976347145,
          0.01950827021905716,
          0.020350823943352993,
          0.02129781673840762,
          0.022157565945404786,
          0.022784051752334895,
          0.023149345935961133,
          0.023358242720442454,
          0.023598344816571883,
          0.02404972560634587,
          0.024797976685390206,
          0.025793037195462273,
          0.026871846436611408,
          0.02783540176937471,
          0.02854268086131643,
          0.028976771060079804,
          0.029253752570538524,
          0.02956932393961503,
          0.030108981584193718,
          0.030963002791164564,
          0.032085592154739606,
          0.03331484409836176,
          0.034445697211931296,
          0.035321789181609047,
          0.035904796126573435,
          0.03629163689044798,
          0.03667242152691845,
          0.03724740907297171,
          0.038140288046485275,
          0.0393456184563985,
          0.04073080990627079,
          0.04209292806107808,
          0.043244544294508594,
          0.04409248075579216,
          0.044675955241960566,
          0.045150819729535135,
          0.04572503119498277,
          0.0465737568868301,
          0.04776905952614774,
          0.04925145730824351,
          0.050853907435753756,
          0.05236885168375324,
          0.05363037505758547,
          0.05457849298789402,
          0.05528197217613573,
          0.05591172833962985,
          0.05667474743237395,
          0.0577354449709943,
          0.05915471408567957,
          0.060868000773150396,
          0.06270977634636275,
          0.0644755760575689,
          0.06599723245043344,
          0.06720312871912693,
          0.06814320993976086,
          0.06897080515856643,
          0.06988738312196904,
          0.0710714971276016,
          0.072617539916796,
          0.07450417177893809,
          0.07660281514317183,
          0.07872208607574145,
          0.08067361480401915,
          0.08233473861551273,
          0.08368827320512515,
          0.08482717536647007,
          0.0859237081639633,
          0.08717266963723079,
          0.0887290011075624,
          0.09065982941891432,
          0.09292463228806126,
          0.09538890378096729,
          0.09786724186475694,
          0.10018117444770619,
          0.10221323737872053,
          0.10394137357964944,
          0.10544439205770922,
          0.10687794822739326,
          0.10842767846766317,
          0.11025499474628712,
          0.11245163115817094,
          0.1150147576589799,
          0.11784931081630752,
          0.12079566071478179,
          0.1236754657151622,
          0.12634128473740952,
          0.12871604565753417,
          0.13081282181320872,
          0.13273014986463236,
          0.13462517491627377,
          0.1366711294523632,
          0.13901225696830294,
          0.14172775576295193,
          0.14481280218765186,
          0.1481813119620744,
          0.1516884962940859,
          0.15516843010668063,
          0.1584755141071847,
          0.16151949418911574,
          0.16428630514715306,
          0.16684031700805751,
          0.16930802471654857,
          0.17184755204475943,
          0.17461091709519522,
          0.17770976519805246,
          0.1811908338071976,
          0.18502661455088407,
          0.18912289724641276,
          0.19334061838205094,
          0.1975282758067098,
          0.20155439940287745,
          0.2053359846485728,
          0.20885553202489732,
          0.21216370636777354,
          0.2153676793603302,
          0.21860790122519969,
          0.22202850793909798,
          0.22574843816206921,
          0.22983604040058495,
          0.23429770934710653,
          0.23907734564963434,
          0.24406830400692447,
          0.24913624206094281,
          0.2541444086450865,
          0.258980785683674,
          0.2635791453236084,
          0.26793083775379767,
          0.2720854740674243,
          0.276140733436043,
          0.28022341391946165,
          0.28446550246641555,
          0.28897988368015565,
          0.2938400600710947,
          0.29906740002700233,
          0.304627975291562,
          0.31043924278494534,
          0.31638517303011443,
          0.32233700530498416,
          0.3281758324293494,
          0.33381297589690256,
          0.3392046911908918,
          0.3443588870617211,
          0.3493329503936054,
          0.35422323681296075,
          0.35914815147352175,
          0.36422781234159846,
          0.3695637708610472,
          0.37522212233282654,
          0.38122269970481093,
          0.38753599094392843,
          0.39408813905766876,
          0.4007730950571283,
          0.40746985359461146,
          0.41406189565925844,
          0.4204556583176234,
          0.4265950877908821,
          0.4324700244464728,
          0.43811717921629884,
          0.4436136382893815,
          0.449064007176811,
          0.45458329301306044,
          0.4602782633239817,
          0.46623021912690854,
          0.4724818669986412,
          0.47903031715317174,
          0.4858272730012689,
          0.4927863543704717,
          0.4997963836257336,
          0.5067385388158417,
          0.5135046847465592,
          0.5200140163214195,
          0.5262254114670745,
          0.532143556144922,
          0.537817871982937,
          0.5433343968805581,
          0.5488018666557152,
          0.5543341566328623,
          0.5600318304761037,
          0.5659657126041304,
          0.5721651080014,
          0.5786125767745398,
          0.5852461491078846,
          0.5919687029324918,
          0.5986630908998272,
          0.6052106590209767,
          0.6115102070704,
          0.617494319974252,
          0.6231403752220507,
          0.6284743497489944,
          0.6335666896777193,
          0.6385207735081126,
          0.6434557139278508,
          0.6484862526733056,
          0.6537031067164516,
          0.6591571289668374,
          0.6648500303170513,
          0.6707333447014346,
          0.6767159972497723,
          0.6826794158048647,
          0.6884977470566856,
          0.6940597233466178,
          0.6992883762019124,
          0.7041550591866754,
          0.7086851194614963,
          0.712954003487122,
          0.7170742117189488,
          0.7211751393432214,
          0.7253793024598144,
          0.7297793638461427,
          0.7344203358027775,
          0.7392903886704686,
          0.7443221949579976,
          0.7494049134123324,
          0.754404948386714,
          0.759191647209083,
          0.7636629887912546,
          0.7677656554279277,
          0.77150843796963,
          0.7749596302204435,
          0.7782349104009497,
          0.7814738728233905,
          0.7848124577510431,
          0.7883543546892914,
          0.7921487169354954,
          0.7961789833933999,
          0.8003653792831973,
          0.8045811266234096,
          0.8086792287984563,
          0.8125244724545411,
          0.8160248135048063,
          0.8191516858740322,
          0.8219478981151431,
          0.8245192900426276,
          0.8270119624470155,
          0.8295781817820753,
          0.8323422084507837,
          0.8353694349272824,
          0.8386508385485951,
          0.842103881141587,
          0.8455914337372433,
          0.8489547198073216,
          0.8520528279796975,
          0.8547978110699772,
          0.8571778749982609,
          0.859261748240349,
          0.8611830021141265,
          0.8631062517952118,
          0.8651845069814261,
          0.8675190039536133,
          0.8701319109681581,
          0.8729593220471057,
          0.8758673475371195,
          0.8786878173534599,
          0.8812649116655135,
          0.8834984798404859,
          0.885373061122741,
          0.8869636680946363,
          0.8884162368707521,
          0.889906296382765,
          0.891588135703623,
          0.8935496627359286,
          0.8957858469740647,
          0.8981991407700658,
          0.9006275319400273,
          0.9028937624010476,
          0.9048597095241101,
          0.9064693962417131,
          0.9077676186375814,
          0.9088876605151591,
          0.910009912905499,
          0.9113044779908056,
          0.9128764849201206,
          0.9147315479091274,
          0.916772997636157,
          0.9188326106473031,
          0.9207267794896291,
          0.9223183484871647,
          0.9235633095113907,
          0.9245269672112213,
          0.9253630394444813,
          0.9262607792945844,
          0.9273788504617466,
          0.9287896088637972,
          0.9304529117681003,
          0.9322293507156091,
          0.9339303869566662,
          0.9353870621530884,
          0.9365119067324638,
          0.9373318899717908,
          0.9379797070724722,
          0.9386444902587479,
          0.9395005078033749,
          0.9406410955163546,
          0.9420427404787213,
          0.94357330082311,
          0.9450433682742482,
          0.9462806059216162,
          0.9471976616562962,
          0.9478272574335505,
          0.9483100625072169,
          0.9488381540959219,
          0.9495771565344684,
          0.9505989205171268,
          0.9518519670471378,
          0.9531823074009211,
          0.954397950804608,
          0.9553495790344019,
          0.9559934115205012,
          0.9564100350693915,
          0.9567703895720986,
          0.9572620235726951,
          0.9580078159351569,
          0.9590131411848128,
          0.9601632997480777,
          0.9612746064940558,
          0.9621761154991411,
          0.962786040354796,
          0.9631478955965355,
          0.9634110756194113,
          0.9637625344859828,
          0.9643412600928076,
          0.96513930037475,
          0.966132446302988,
          0.9671106650768826,
          0.9679031625315624,
          0.9684228737661104,
          0.9687066970335411,
          0.9688977348131304,
          0.969176239004042,
          0.9696729857016978,
          0.9704070966016235,
          0.9712774858902545,
          0.9721132707958939,
          0.9727579279235976,
          0.9731460897615474,
          0.9733348277706977,
          0.9734742515432563,
          0.9737318817738841,
          0.9742087249880372,
          0.974889418542619,
          0.9756515455135685,
          0.9763289897431421,
          0.9767971269416551,
          0.9770360083801171,
          0.9771390888895606,
          0.9772635319110701,
          0.9775480315574122,
          0.9780410663971583,
          0.9786772781525975,
          0.9793136164540487,
          0.9798058291175111,
          0.9800846877420678,
          0.9801911708432361,
          0.9802526474790487,
          0.9804134071378128,
          0.980757178788894,
          0.9812382855085117,
          0.9817959181810634,
          0.9822649432963614,
          0.9825532754376236,
          0.9826656789192534,
          0.9826987346995679,
          0.9827858505779963,
          0.9830231545865947,
          0.9834176074347567,
          0.9838857765375563,
          0.9843024979812054,
          0.9845715710838314,
          0.9846784359605433,
          0.9846957447283075,
          0.9847400582125307,
          0.9849030294770479,
          0.9852079429000521,
          0.9855890636297745,
          0.9859388974933179,
          0.9861685261876311,
          0.9862572905816678,
          0.9862618569313049,
          0.98628088760383,
          0.9863970888247767,
          0.9866307203380328,
          0.9869308291141777,
          0.9872077356047249,
          0.9873863538707675,
          0.9874486373560535,
          0.9874410849663465,
          0.98744457685725,
          0.9875258515421234,
          0.9876997719896765,
          0.9879237868089586,
          0.988126072596762,
          0.9882490340405762,
          0.9882818068540715,
          0.9882634006841774,
          0.9882565058619833,
          0.988309284712306,
          0.9884284727842589,
          0.988578813464851,
          0.9887071719312289,
          0.9887751264039484,
          0.9887800380542263,
          0.9887531018424499,
          0.9887376335810283,
          0.9887624223590006,
          0.9888265664632319,
          0.988903660442377,
          0.9889606447161629,
          0.9889781904303319,
          0.9889600398468368,
          0.9889270510434456,
          0.9889017712736269,
          0.9888945792960647,
          0.9888999306966306,
          0.9889034637132177,
          0.988893396446641,
          0.9888676722007153,
          0.9888325131741758
         ]
        }
       ],
       "layout": {
        "font": {
         "family": "sans-serif",
         "size": 18
        },
        "legend": {
         "title": {
          "text": ""
         }
        },
        "template": {
         "data": {
          "bar": [
           {
            "error_x": {
             "color": "#2a3f5f"
            },
            "error_y": {
             "color": "#2a3f5f"
            },
            "marker": {
             "line": {
              "color": "#E5ECF6",
              "width": 0.5
             },
             "pattern": {
              "fillmode": "overlay",
              "size": 10,
              "solidity": 0.2
             }
            },
            "type": "bar"
           }
          ],
          "barpolar": [
           {
            "marker": {
             "line": {
              "color": "#E5ECF6",
              "width": 0.5
             },
             "pattern": {
              "fillmode": "overlay",
              "size": 10,
              "solidity": 0.2
             }
            },
            "type": "barpolar"
           }
          ],
          "carpet": [
           {
            "aaxis": {
             "endlinecolor": "#2a3f5f",
             "gridcolor": "white",
             "linecolor": "white",
             "minorgridcolor": "white",
             "startlinecolor": "#2a3f5f"
            },
            "baxis": {
             "endlinecolor": "#2a3f5f",
             "gridcolor": "white",
             "linecolor": "white",
             "minorgridcolor": "white",
             "startlinecolor": "#2a3f5f"
            },
            "type": "carpet"
           }
          ],
          "choropleth": [
           {
            "colorbar": {
             "outlinewidth": 0,
             "ticks": ""
            },
            "type": "choropleth"
           }
          ],
          "contour": [
           {
            "colorbar": {
             "outlinewidth": 0,
             "ticks": ""
            },
            "colorscale": [
             [
              0,
              "#0d0887"
             ],
             [
              0.1111111111111111,
              "#46039f"
             ],
             [
              0.2222222222222222,
              "#7201a8"
             ],
             [
              0.3333333333333333,
              "#9c179e"
             ],
             [
              0.4444444444444444,
              "#bd3786"
             ],
             [
              0.5555555555555556,
              "#d8576b"
             ],
             [
              0.6666666666666666,
              "#ed7953"
             ],
             [
              0.7777777777777778,
              "#fb9f3a"
             ],
             [
              0.8888888888888888,
              "#fdca26"
             ],
             [
              1,
              "#f0f921"
             ]
            ],
            "type": "contour"
           }
          ],
          "contourcarpet": [
           {
            "colorbar": {
             "outlinewidth": 0,
             "ticks": ""
            },
            "type": "contourcarpet"
           }
          ],
          "heatmap": [
           {
            "colorbar": {
             "outlinewidth": 0,
             "ticks": ""
            },
            "colorscale": [
             [
              0,
              "#0d0887"
             ],
             [
              0.1111111111111111,
              "#46039f"
             ],
             [
              0.2222222222222222,
              "#7201a8"
             ],
             [
              0.3333333333333333,
              "#9c179e"
             ],
             [
              0.4444444444444444,
              "#bd3786"
             ],
             [
              0.5555555555555556,
              "#d8576b"
             ],
             [
              0.6666666666666666,
              "#ed7953"
             ],
             [
              0.7777777777777778,
              "#fb9f3a"
             ],
             [
              0.8888888888888888,
              "#fdca26"
             ],
             [
              1,
              "#f0f921"
             ]
            ],
            "type": "heatmap"
           }
          ],
          "histogram": [
           {
            "marker": {
             "pattern": {
              "fillmode": "overlay",
              "size": 10,
              "solidity": 0.2
             }
            },
            "type": "histogram"
           }
          ],
          "histogram2d": [
           {
            "colorbar": {
             "outlinewidth": 0,
             "ticks": ""
            },
            "colorscale": [
             [
              0,
              "#0d0887"
             ],
             [
              0.1111111111111111,
              "#46039f"
             ],
             [
              0.2222222222222222,
              "#7201a8"
             ],
             [
              0.3333333333333333,
              "#9c179e"
             ],
             [
              0.4444444444444444,
              "#bd3786"
             ],
             [
              0.5555555555555556,
              "#d8576b"
             ],
             [
              0.6666666666666666,
              "#ed7953"
             ],
             [
              0.7777777777777778,
              "#fb9f3a"
             ],
             [
              0.8888888888888888,
              "#fdca26"
             ],
             [
              1,
              "#f0f921"
             ]
            ],
            "type": "histogram2d"
           }
          ],
          "histogram2dcontour": [
           {
            "colorbar": {
             "outlinewidth": 0,
             "ticks": ""
            },
            "colorscale": [
             [
              0,
              "#0d0887"
             ],
             [
              0.1111111111111111,
              "#46039f"
             ],
             [
              0.2222222222222222,
              "#7201a8"
             ],
             [
              0.3333333333333333,
              "#9c179e"
             ],
             [
              0.4444444444444444,
              "#bd3786"
             ],
             [
              0.5555555555555556,
              "#d8576b"
             ],
             [
              0.6666666666666666,
              "#ed7953"
             ],
             [
              0.7777777777777778,
              "#fb9f3a"
             ],
             [
              0.8888888888888888,
              "#fdca26"
             ],
             [
              1,
              "#f0f921"
             ]
            ],
            "type": "histogram2dcontour"
           }
          ],
          "mesh3d": [
           {
            "colorbar": {
             "outlinewidth": 0,
             "ticks": ""
            },
            "type": "mesh3d"
           }
          ],
          "parcoords": [
           {
            "line": {
             "colorbar": {
              "outlinewidth": 0,
              "ticks": ""
             }
            },
            "type": "parcoords"
           }
          ],
          "pie": [
           {
            "automargin": true,
            "type": "pie"
           }
          ],
          "scatter": [
           {
            "fillpattern": {
             "fillmode": "overlay",
             "size": 10,
             "solidity": 0.2
            },
            "type": "scatter"
           }
          ],
          "scatter3d": [
           {
            "line": {
             "colorbar": {
              "outlinewidth": 0,
              "ticks": ""
             }
            },
            "marker": {
             "colorbar": {
              "outlinewidth": 0,
              "ticks": ""
             }
            },
            "type": "scatter3d"
           }
          ],
          "scattercarpet": [
           {
            "marker": {
             "colorbar": {
              "outlinewidth": 0,
              "ticks": ""
             }
            },
            "type": "scattercarpet"
           }
          ],
          "scattergeo": [
           {
            "marker": {
             "colorbar": {
              "outlinewidth": 0,
              "ticks": ""
             }
            },
            "type": "scattergeo"
           }
          ],
          "scattergl": [
           {
            "marker": {
             "colorbar": {
              "outlinewidth": 0,
              "ticks": ""
             }
            },
            "type": "scattergl"
           }
          ],
          "scattermap": [
           {
            "marker": {
             "colorbar": {
              "outlinewidth": 0,
              "ticks": ""
             }
            },
            "type": "scattermap"
           }
          ],
          "scattermapbox": [
           {
            "marker": {
             "colorbar": {
              "outlinewidth": 0,
              "ticks": ""
             }
            },
            "type": "scattermapbox"
           }
          ],
          "scatterpolar": [
           {
            "marker": {
             "colorbar": {
              "outlinewidth": 0,
              "ticks": ""
             }
            },
            "type": "scatterpolar"
           }
          ],
          "scatterpolargl": [
           {
            "marker": {
             "colorbar": {
              "outlinewidth": 0,
              "ticks": ""
             }
            },
            "type": "scatterpolargl"
           }
          ],
          "scatterternary": [
           {
            "marker": {
             "colorbar": {
              "outlinewidth": 0,
              "ticks": ""
             }
            },
            "type": "scatterternary"
           }
          ],
          "surface": [
           {
            "colorbar": {
             "outlinewidth": 0,
             "ticks": ""
            },
            "colorscale": [
             [
              0,
              "#0d0887"
             ],
             [
              0.1111111111111111,
              "#46039f"
             ],
             [
              0.2222222222222222,
              "#7201a8"
             ],
             [
              0.3333333333333333,
              "#9c179e"
             ],
             [
              0.4444444444444444,
              "#bd3786"
             ],
             [
              0.5555555555555556,
              "#d8576b"
             ],
             [
              0.6666666666666666,
              "#ed7953"
             ],
             [
              0.7777777777777778,
              "#fb9f3a"
             ],
             [
              0.8888888888888888,
              "#fdca26"
             ],
             [
              1,
              "#f0f921"
             ]
            ],
            "type": "surface"
           }
          ],
          "table": [
           {
            "cells": {
             "fill": {
              "color": "#EBF0F8"
             },
             "line": {
              "color": "white"
             }
            },
            "header": {
             "fill": {
              "color": "#C8D4E3"
             },
             "line": {
              "color": "white"
             }
            },
            "type": "table"
           }
          ]
         },
         "layout": {
          "annotationdefaults": {
           "arrowcolor": "#2a3f5f",
           "arrowhead": 0,
           "arrowwidth": 1
          },
          "autotypenumbers": "strict",
          "coloraxis": {
           "colorbar": {
            "outlinewidth": 0,
            "ticks": ""
           }
          },
          "colorscale": {
           "diverging": [
            [
             0,
             "#8e0152"
            ],
            [
             0.1,
             "#c51b7d"
            ],
            [
             0.2,
             "#de77ae"
            ],
            [
             0.3,
             "#f1b6da"
            ],
            [
             0.4,
             "#fde0ef"
            ],
            [
             0.5,
             "#f7f7f7"
            ],
            [
             0.6,
             "#e6f5d0"
            ],
            [
             0.7,
             "#b8e186"
            ],
            [
             0.8,
             "#7fbc41"
            ],
            [
             0.9,
             "#4d9221"
            ],
            [
             1,
             "#276419"
            ]
           ],
           "sequential": [
            [
             0,
             "#0d0887"
            ],
            [
             0.1111111111111111,
             "#46039f"
            ],
            [
             0.2222222222222222,
             "#7201a8"
            ],
            [
             0.3333333333333333,
             "#9c179e"
            ],
            [
             0.4444444444444444,
             "#bd3786"
            ],
            [
             0.5555555555555556,
             "#d8576b"
            ],
            [
             0.6666666666666666,
             "#ed7953"
            ],
            [
             0.7777777777777778,
             "#fb9f3a"
            ],
            [
             0.8888888888888888,
             "#fdca26"
            ],
            [
             1,
             "#f0f921"
            ]
           ],
           "sequentialminus": [
            [
             0,
             "#0d0887"
            ],
            [
             0.1111111111111111,
             "#46039f"
            ],
            [
             0.2222222222222222,
             "#7201a8"
            ],
            [
             0.3333333333333333,
             "#9c179e"
            ],
            [
             0.4444444444444444,
             "#bd3786"
            ],
            [
             0.5555555555555556,
             "#d8576b"
            ],
            [
             0.6666666666666666,
             "#ed7953"
            ],
            [
             0.7777777777777778,
             "#fb9f3a"
            ],
            [
             0.8888888888888888,
             "#fdca26"
            ],
            [
             1,
             "#f0f921"
            ]
           ]
          },
          "colorway": [
           "#636efa",
           "#EF553B",
           "#00cc96",
           "#ab63fa",
           "#FFA15A",
           "#19d3f3",
           "#FF6692",
           "#B6E880",
           "#FF97FF",
           "#FECB52"
          ],
          "font": {
           "color": "#2a3f5f"
          },
          "geo": {
           "bgcolor": "white",
           "lakecolor": "white",
           "landcolor": "#E5ECF6",
           "showlakes": true,
           "showland": true,
           "subunitcolor": "white"
          },
          "hoverlabel": {
           "align": "left"
          },
          "hovermode": "closest",
          "mapbox": {
           "style": "light"
          },
          "paper_bgcolor": "white",
          "plot_bgcolor": "#E5ECF6",
          "polar": {
           "angularaxis": {
            "gridcolor": "white",
            "linecolor": "white",
            "ticks": ""
           },
           "bgcolor": "#E5ECF6",
           "radialaxis": {
            "gridcolor": "white",
            "linecolor": "white",
            "ticks": ""
           }
          },
          "scene": {
           "xaxis": {
            "backgroundcolor": "#E5ECF6",
            "gridcolor": "white",
            "gridwidth": 2,
            "linecolor": "white",
            "showbackground": true,
            "ticks": "",
            "zerolinecolor": "white"
           },
           "yaxis": {
            "backgroundcolor": "#E5ECF6",
            "gridcolor": "white",
            "gridwidth": 2,
            "linecolor": "white",
            "showbackground": true,
            "ticks": "",
            "zerolinecolor": "white"
           },
           "zaxis": {
            "backgroundcolor": "#E5ECF6",
            "gridcolor": "white",
            "gridwidth": 2,
            "linecolor": "white",
            "showbackground": true,
            "ticks": "",
            "zerolinecolor": "white"
           }
          },
          "shapedefaults": {
           "line": {
            "color": "#2a3f5f"
           }
          },
          "ternary": {
           "aaxis": {
            "gridcolor": "white",
            "linecolor": "white",
            "ticks": ""
           },
           "baxis": {
            "gridcolor": "white",
            "linecolor": "white",
            "ticks": ""
           },
           "bgcolor": "#E5ECF6",
           "caxis": {
            "gridcolor": "white",
            "linecolor": "white",
            "ticks": ""
           }
          },
          "title": {
           "x": 0.05
          },
          "xaxis": {
           "automargin": true,
           "gridcolor": "white",
           "linecolor": "white",
           "ticks": "",
           "title": {
            "standoff": 15
           },
           "zerolinecolor": "white",
           "zerolinewidth": 2
          },
          "yaxis": {
           "automargin": true,
           "gridcolor": "white",
           "linecolor": "white",
           "ticks": "",
           "title": {
            "standoff": 15
           },
           "zerolinecolor": "white",
           "zerolinewidth": 2
          }
         }
        },
        "title": {
         "text": "Logical State Fidelity Over Time (Noise Model)"
        },
        "xaxis": {
         "title": {
          "text": "Time"
         }
        },
        "yaxis": {
         "title": {
          "text": "Fidelity of $|1_L⟩$"
         }
        }
       }
      }
     },
     "metadata": {},
     "output_type": "display_data"
    }
   ],
   "source": [
    "# Calculate the sum of |c_coef| for all transitions out of the codespace (from logical 0 to non-logical states)\n",
    "def sum_c_coef_out_of_codespace(t, args, logical_index=0, codespace_indices=[0, 1]):\n",
    "    \"\"\"\n",
    "    Sums the absolute value of c_coef for transitions from logical_index (e.g., 0) to all states not in codespace_indices.\n",
    "    \"\"\"\n",
    "    H_inst_t = args['args_H'](t)\n",
    "    eigenvalues, eigenstates = H_inst_t.eigenstates()\n",
    "    num_states = len(eigenstates)\n",
    "    out_of_codespace_indices = [i for i in range(num_states) if i not in codespace_indices]\n",
    "    total_c_coef = 0.0\n",
    "    for b in out_of_codespace_indices:\n",
    "        # Only consider transitions from logical_index to b\n",
    "        c_coef = 0\n",
    "        for i in range(args['n_qubits']):\n",
    "            sigmam_i = tensor([sigmam() if j == i else qeye(2) for j in range(args['n_qubits'])])\n",
    "            omega_a = eigenvalues[logical_index]\n",
    "            omega_b = eigenvalues[b]\n",
    "            if np.abs(omega_a - omega_b) < 1e-6:\n",
    "                continue\n",
    "            if omega_b > omega_a:\n",
    "                Nba = bose_einstein_distribution(omega_b - omega_a, args['T'])\n",
    "                g_ba = gab(omega_a, omega_b, args['lambda_2'])\n",
    "                ma_ba = eigenstates[logical_index].dag() * sigmam_i * eigenstates[b] * eigenstates[b].dag() * sigmam_i.dag() * eigenstates[logical_index]\n",
    "                c_coef += np.abs(np.sqrt(Nba * (g_ba ** 2) * ma_ba))\n",
    "            elif omega_a > omega_b:\n",
    "                Nab = bose_einstein_distribution(omega_a - omega_b, args['T'])\n",
    "                g_ab = gab(omega_b, omega_a, args['lambda_2'])\n",
    "                ma_ab = eigenstates[b].dag() * sigmam_i * eigenstates[logical_index] * eigenstates[logical_index].dag() * sigmam_i.dag() * eigenstates[b]\n",
    "                c_coef += np.abs(np.sqrt((Nab + 1) * (g_ab ** 2) * ma_ab))\n",
    "        total_c_coef += c_coef\n",
    "    return total_c_coef\n",
    "\n",
    "# Calculate the sum of |c_coef| for transitions out of codespace at each time step\n",
    "\n",
    "times_vec = np.linspace(0, T_max, 501)\n",
    "sum_out_vec = []\n",
    "\n",
    "Ep = 40\n",
    "# Define args\n",
    "args = {\n",
    "    \"args_H\": lambda t: omega_t(t) * X_L + delta_t(t) * Z_L - Ep * sum(S),\n",
    "    \"n_qubits\": 3,\n",
    "    \"lambda_2\": 0.1,\n",
    "    \"T\": 20\n",
    "}\n",
    "for t in times_vec:\n",
    "    sum_out_vec.append(\n",
    "        sum_c_coef_out_of_codespace(t, args, logical_index=0, codespace_indices=[0, 1])\n",
    "    )\n",
    "\n",
    "fig = go.Figure()\n",
    "fig.add_trace(go.Scatter(\n",
    "    x=times_vec,\n",
    "    y=sum_out_vec,\n",
    "    mode='lines+markers',\n",
    "    name=\"Sum of |c_coef| out of codespace\"\n",
    "))\n",
    "\n",
    "fig.update_layout(\n",
    "    title=\"Leakage Rate Out of Codespace Over Time\",\n",
    "    xaxis_title=\"Time\",\n",
    "    yaxis_title=\"Sum of |c_coef|\",\n",
    "    font=dict(family=\"sans-serif\", size=18),\n",
    "    legend_title=\"\",\n",
    "    template=\"plotly\"\n",
    ")\n",
    "\n",
    "\n",
    "# Add constant line for βEp = Ep/T\n",
    "T = args[\"T\"]\n",
    "beta_Ep = Ep / T\n",
    "fig.add_trace(go.Scatter(\n",
    "    x=times_vec,\n",
    "    y=[beta_Ep]*len(times_vec),\n",
    "    mode='lines',\n",
    "    name=r\"βEp = Ep/T\",\n",
    "    line=dict(color='black', dash='dash')\n",
    "))\n",
    "\n",
    "fig.update_layout(\n",
    "    title=\"Leakage Rate Out of Codespace Over Time\",\n",
    "    xaxis_title=\"Time\",\n",
    "    yaxis_title=\"Sum of |c_coef|\",\n",
    "    font=dict(family=\"sans-serif\", size=18),\n",
    "    legend_title=\"\",\n",
    "    template=\"plotly\"\n",
    ")\n",
    "\n",
    "\n",
    "fig.show()\n",
    "\n",
    "\n",
    "# Calculate fidelity of logical_one over time with noise and plot with plotly\n",
    "\n",
    "# Prepare for simulation\n",
    "rho0 = logical_zero * logical_zero.dag()\n",
    "rho1 = logical_one * logical_one.dag()\n",
    "e_ops = [rho0, rho1]\n",
    "\n",
    "# Simulate evolution with noise (using c_ops from c_ops_gen_new)\n",
    "rho_init = logical_zero * logical_zero.dag()\n",
    "prev_time = times_vec[0]\n",
    "fidelity_noise = []\n",
    "for dt in times_vec[1:]:\n",
    "    c_ops, _ = c_ops_gen_new(dt, args)\n",
    "    t_steps = [prev_time, dt]\n",
    "    results = mesolve(args[\"args_H\"], rho_init, t_steps, c_ops=c_ops, args=args, e_ops=e_ops, options={'store_states': True})\n",
    "    prev_time = dt\n",
    "    rho_init = results.states[-1]\n",
    "    fidelity_noise.append(np.real(results.expect[1][0]))\n",
    "fidelity_noise = [0.0] + fidelity_noise  # Start with 0 for t=0\n",
    "\n",
    "# Plot with plotly\n",
    "fig_fid_noise = go.Figure()\n",
    "fig_fid_noise.add_trace(go.Scatter(\n",
    "    x=times_vec,\n",
    "    y=fidelity_noise,\n",
    "    mode='lines',\n",
    "    name='Fidelity of $|1_L⟩$ (Noise Model)'\n",
    "))\n",
    "\n",
    "fig_fid_noise.update_layout(\n",
    "    title=\"Logical State Fidelity Over Time (Noise Model)\",\n",
    "    xaxis_title=\"Time\",\n",
    "    yaxis_title=\"Fidelity of $|1_L⟩$\",\n",
    "    font=dict(family=\"sans-serif\", size=18),\n",
    "    legend_title=\"\",\n",
    "    template=\"plotly\"\n",
    ")"
   ]
  },
  {
   "cell_type": "markdown",
   "id": "da8abcb3",
   "metadata": {},
   "source": [
    "# and add dephasing"
   ]
  },
  {
   "cell_type": "code",
   "execution_count": 49,
   "id": "1a66c7f2",
   "metadata": {},
   "outputs": [
    {
     "data": {
      "application/vnd.plotly.v1+json": {
       "config": {
        "plotlyServerURL": "https://plot.ly"
       },
       "data": [
        {
         "mode": "lines",
         "name": "Fidelity of $|1_L⟩$ (Dephasing Only)",
         "type": "scatter",
         "x": {
          "bdata": "AAAAAAAAAAB7FK5H4XqUP3sUrkfheqQ/uB6F61G4rj97FK5H4Xq0P5qZmZmZmbk/uB6F61G4vj/sUbgehevBP3sUrkfhesQ/CtejcD0Kxz+amZmZmZnJPylcj8L1KMw/uB6F61G4zj+kcD0K16PQP+xRuB6F69E/MzMzMzMz0z97FK5H4XrUP8P1KFyPwtU/CtejcD0K1z9SuB6F61HYP5qZmZmZmdk/4XoUrkfh2j8pXI/C9SjcP3E9CtejcN0/uB6F61G43j8AAAAAAADgP6RwPQrXo+A/SOF6FK5H4T/sUbgehevhP4/C9Shcj+I/MzMzMzMz4z/Xo3A9CtfjP3sUrkfheuQ/H4XrUbge5T/D9Shcj8LlP2dmZmZmZuY/CtejcD0K5z+uR+F6FK7nP1K4HoXrUeg/9ihcj8L16D+amZmZmZnpPz4K16NwPeo/4XoUrkfh6j+F61G4HoXrPylcj8L1KOw/zczMzMzM7D9xPQrXo3DtPxWuR+F6FO4/uB6F61G47j9cj8L1KFzvPwAAAAAAAPA/UrgehetR8D+kcD0K16PwP/YoXI/C9fA/SOF6FK5H8T+amZmZmZnxP+xRuB6F6/E/PgrXo3A98j+PwvUoXI/yP+F6FK5H4fI/MzMzMzMz8z+F61G4HoXzP9ejcD0K1/M/KVyPwvUo9D97FK5H4Xr0P83MzMzMzPQ/H4XrUbge9T9xPQrXo3D1P8P1KFyPwvU/Fa5H4XoU9j9nZmZmZmb2P7gehetRuPY/CtejcD0K9z9cj8L1KFz3P65H4XoUrvc/AAAAAAAA+D9SuB6F61H4P6RwPQrXo/g/9ihcj8L1+D9I4XoUrkf5P5qZmZmZmfk/7FG4HoXr+T8+CtejcD36P5DC9Shcj/o/4XoUrkfh+j8zMzMzMzP7P4XrUbgehfs/16NwPQrX+z8pXI/C9Sj8P3sUrkfhevw/zczMzMzM/D8fhetRuB79P3E9CtejcP0/w/UoXI/C/T8VrkfhehT+P2dmZmZmZv4/uB6F61G4/j8K16NwPQr/P1yPwvUoXP8/rkfhehSu/z8AAAAAAAAAQClcj8L1KABAUrgehetRAEB7FK5H4XoAQKRwPQrXowBAzczMzMzMAED2KFyPwvUAQB+F61G4HgFASOF6FK5HAUBxPQrXo3ABQJqZmZmZmQFAw/UoXI/CAUDsUbgehesBQBWuR+F6FAJAPgrXo3A9AkBnZmZmZmYCQI/C9ShcjwJAuB6F61G4AkDhehSuR+ECQArXo3A9CgNAMzMzMzMzA0Bcj8L1KFwDQIXrUbgehQNArkfhehSuA0DXo3A9CtcDQAAAAAAAAARAKVyPwvUoBEBSuB6F61EEQHsUrkfhegRApHA9CtejBEDNzMzMzMwEQPYoXI/C9QRAH4XrUbgeBUBI4XoUrkcFQHE9CtejcAVAmpmZmZmZBUDD9Shcj8IFQOxRuB6F6wVAFa5H4XoUBkA+CtejcD0GQGdmZmZmZgZAj8L1KFyPBkC4HoXrUbgGQOF6FK5H4QZACtejcD0KB0AzMzMzMzMHQFyPwvUoXAdAhetRuB6FB0CuR+F6FK4HQNejcD0K1wdAAAAAAAAACEApXI/C9SgIQFK4HoXrUQhAexSuR+F6CECkcD0K16MIQM3MzMzMzAhA9ihcj8L1CEAfhetRuB4JQEjhehSuRwlAcT0K16NwCUCamZmZmZkJQMP1KFyPwglA7FG4HoXrCUAVrkfhehQKQD4K16NwPQpAZ2ZmZmZmCkCQwvUoXI8KQLgehetRuApA4XoUrkfhCkAK16NwPQoLQDMzMzMzMwtAXI/C9ShcC0CF61G4HoULQK5H4XoUrgtA16NwPQrXC0AAAAAAAAAMQClcj8L1KAxAUrgehetRDEB7FK5H4XoMQKRwPQrXowxAzczMzMzMDED2KFyPwvUMQB+F61G4Hg1ASOF6FK5HDUBxPQrXo3ANQJqZmZmZmQ1Aw/UoXI/CDUDsUbgehesNQBWuR+F6FA5APgrXo3A9DkBnZmZmZmYOQJDC9Shcjw5AuB6F61G4DkDhehSuR+EOQArXo3A9Cg9AMzMzMzMzD0Bcj8L1KFwPQIXrUbgehQ9ArkfhehSuD0DXo3A9CtcPQAAAAAAAABBAFa5H4XoUEEApXI/C9SgQQD4K16NwPRBAUrgehetREEBmZmZmZmYQQHsUrkfhehBAj8L1KFyPEECkcD0K16MQQLgehetRuBBAzczMzMzMEEDhehSuR+EQQPYoXI/C9RBACtejcD0KEUAfhetRuB4RQDMzMzMzMxFASOF6FK5HEUBcj8L1KFwRQHE9CtejcBFAhetRuB6FEUCamZmZmZkRQK5H4XoUrhFAw/UoXI/CEUDXo3A9CtcRQOxRuB6F6xFAAAAAAAAAEkAVrkfhehQSQClcj8L1KBJAPgrXo3A9EkBSuB6F61ESQGdmZmZmZhJAexSuR+F6EkCPwvUoXI8SQKRwPQrXoxJAuB6F61G4EkDNzMzMzMwSQOF6FK5H4RJA9ihcj8L1EkAK16NwPQoTQB+F61G4HhNAMzMzMzMzE0BI4XoUrkcTQFyPwvUoXBNAcT0K16NwE0CF61G4HoUTQJqZmZmZmRNArkfhehSuE0DD9Shcj8ITQNejcD0K1xNA7FG4HoXrE0AAAAAAAAAUQBWuR+F6FBRAKVyPwvUoFEA+CtejcD0UQFK4HoXrURRAZ2ZmZmZmFEB7FK5H4XoUQI/C9ShcjxRApHA9CtejFEC4HoXrUbgUQM3MzMzMzBRA4XoUrkfhFED2KFyPwvUUQArXo3A9ChVAH4XrUbgeFUAzMzMzMzMVQEjhehSuRxVAXI/C9ShcFUBxPQrXo3AVQIXrUbgehRVAmpmZmZmZFUCuR+F6FK4VQMP1KFyPwhVA16NwPQrXFUDsUbgehesVQAAAAAAAABZAFa5H4XoUFkApXI/C9SgWQD4K16NwPRZAUrgehetRFkBnZmZmZmYWQHsUrkfhehZAj8L1KFyPFkCkcD0K16MWQLgehetRuBZAzczMzMzMFkDhehSuR+EWQPYoXI/C9RZACtejcD0KF0AfhetRuB4XQDMzMzMzMxdASOF6FK5HF0Bcj8L1KFwXQHE9CtejcBdAhetRuB6FF0CamZmZmZkXQK5H4XoUrhdAw/UoXI/CF0DXo3A9CtcXQOxRuB6F6xdAAAAAAAAAGEAVrkfhehQYQClcj8L1KBhAPgrXo3A9GEBSuB6F61EYQGdmZmZmZhhAexSuR+F6GECQwvUoXI8YQKRwPQrXoxhAuB6F61G4GEDNzMzMzMwYQOF6FK5H4RhA9ihcj8L1GEAK16NwPQoZQB+F61G4HhlAMzMzMzMzGUBI4XoUrkcZQFyPwvUoXBlAcT0K16NwGUCF61G4HoUZQJqZmZmZmRlArkfhehSuGUDD9Shcj8IZQNejcD0K1xlA7FG4HoXrGUAAAAAAAAAaQBWuR+F6FBpAKVyPwvUoGkA+CtejcD0aQFK4HoXrURpAZ2ZmZmZmGkB7FK5H4XoaQJDC9ShcjxpApHA9CtejGkC4HoXrUbgaQM3MzMzMzBpA4XoUrkfhGkD2KFyPwvUaQArXo3A9ChtAH4XrUbgeG0AzMzMzMzMbQEjhehSuRxtAXI/C9ShcG0BxPQrXo3AbQIXrUbgehRtAmpmZmZmZG0CuR+F6FK4bQMP1KFyPwhtA16NwPQrXG0DsUbgehesbQAAAAAAAABxAFa5H4XoUHEApXI/C9SgcQD4K16NwPRxAUrgehetRHEBnZmZmZmYcQHsUrkfhehxAkML1KFyPHECkcD0K16McQLgehetRuBxAzczMzMzMHEDhehSuR+EcQPYoXI/C9RxACtejcD0KHUAfhetRuB4dQDMzMzMzMx1ASOF6FK5HHUBcj8L1KFwdQHE9CtejcB1AhetRuB6FHUCamZmZmZkdQK5H4XoUrh1Aw/UoXI/CHUDXo3A9CtcdQOxRuB6F6x1AAAAAAAAAHkAVrkfhehQeQClcj8L1KB5APgrXo3A9HkBSuB6F61EeQGdmZmZmZh5AexSuR+F6HkCQwvUoXI8eQKRwPQrXox5AuB6F61G4HkDNzMzMzMweQOF6FK5H4R5A9ihcj8L1HkAK16NwPQofQB+F61G4Hh9AMzMzMzMzH0BI4XoUrkcfQFyPwvUoXB9AcT0K16NwH0CF61G4HoUfQJqZmZmZmR9ArkfhehSuH0DD9Shcj8IfQNejcD0K1x9A7FG4HoXrH0AAAAAAAAAgQArXo3A9CiBAFa5H4XoUIEAfhetRuB4gQClcj8L1KCBAMzMzMzMzIEA+CtejcD0gQEjhehSuRyBAUrgehetRIEBcj8L1KFwgQGZmZmZmZiBAcT0K16NwIEB7FK5H4XogQIXrUbgehSBAj8L1KFyPIECamZmZmZkgQKRwPQrXoyBArkfhehSuIEC4HoXrUbggQMP1KFyPwiBAzczMzMzMIEDXo3A9CtcgQOF6FK5H4SBA7FG4HoXrIED2KFyPwvUgQAAAAAAAACFACtejcD0KIUAVrkfhehQhQB+F61G4HiFAKVyPwvUoIUAzMzMzMzMhQD4K16NwPSFASOF6FK5HIUBSuB6F61EhQFyPwvUoXCFAZ2ZmZmZmIUBxPQrXo3AhQHsUrkfheiFAhetRuB6FIUCPwvUoXI8hQJqZmZmZmSFApHA9CtejIUCuR+F6FK4hQLgehetRuCFAw/UoXI/CIUDNzMzMzMwhQNejcD0K1yFA4XoUrkfhIUDsUbgeheshQPYoXI/C9SFAAAAAAAAAIkAK16NwPQoiQBWuR+F6FCJAH4XrUbgeIkApXI/C9SgiQDMzMzMzMyJAPgrXo3A9IkBI4XoUrkciQFK4HoXrUSJAXI/C9ShcIkBnZmZmZmYiQHE9CtejcCJAexSuR+F6IkCF61G4HoUiQI/C9ShcjyJAmpmZmZmZIkCkcD0K16MiQK5H4XoUriJAuB6F61G4IkDD9Shcj8IiQM3MzMzMzCJA16NwPQrXIkDhehSuR+EiQOxRuB6F6yJA9ihcj8L1IkAAAAAAAAAjQArXo3A9CiNAFa5H4XoUI0AfhetRuB4jQClcj8L1KCNAMzMzMzMzI0A+CtejcD0jQEjhehSuRyNAUrgehetRI0Bcj8L1KFwjQGdmZmZmZiNAcT0K16NwI0B7FK5H4XojQIXrUbgehSNAj8L1KFyPI0CamZmZmZkjQKRwPQrXoyNArkfhehSuI0C4HoXrUbgjQMP1KFyPwiNAzczMzMzMI0DXo3A9CtcjQOF6FK5H4SNA7FG4HoXrI0D2KFyPwvUjQAAAAAAAACRA",
          "dtype": "f8"
         },
         "y": {
          "bdata": "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",
          "dtype": "f8"
         }
        }
       ],
       "layout": {
        "font": {
         "family": "sans-serif",
         "size": 18
        },
        "legend": {
         "title": {
          "text": ""
         }
        },
        "template": {
         "data": {
          "bar": [
           {
            "error_x": {
             "color": "#2a3f5f"
            },
            "error_y": {
             "color": "#2a3f5f"
            },
            "marker": {
             "line": {
              "color": "#E5ECF6",
              "width": 0.5
             },
             "pattern": {
              "fillmode": "overlay",
              "size": 10,
              "solidity": 0.2
             }
            },
            "type": "bar"
           }
          ],
          "barpolar": [
           {
            "marker": {
             "line": {
              "color": "#E5ECF6",
              "width": 0.5
             },
             "pattern": {
              "fillmode": "overlay",
              "size": 10,
              "solidity": 0.2
             }
            },
            "type": "barpolar"
           }
          ],
          "carpet": [
           {
            "aaxis": {
             "endlinecolor": "#2a3f5f",
             "gridcolor": "white",
             "linecolor": "white",
             "minorgridcolor": "white",
             "startlinecolor": "#2a3f5f"
            },
            "baxis": {
             "endlinecolor": "#2a3f5f",
             "gridcolor": "white",
             "linecolor": "white",
             "minorgridcolor": "white",
             "startlinecolor": "#2a3f5f"
            },
            "type": "carpet"
           }
          ],
          "choropleth": [
           {
            "colorbar": {
             "outlinewidth": 0,
             "ticks": ""
            },
            "type": "choropleth"
           }
          ],
          "contour": [
           {
            "colorbar": {
             "outlinewidth": 0,
             "ticks": ""
            },
            "colorscale": [
             [
              0,
              "#0d0887"
             ],
             [
              0.1111111111111111,
              "#46039f"
             ],
             [
              0.2222222222222222,
              "#7201a8"
             ],
             [
              0.3333333333333333,
              "#9c179e"
             ],
             [
              0.4444444444444444,
              "#bd3786"
             ],
             [
              0.5555555555555556,
              "#d8576b"
             ],
             [
              0.6666666666666666,
              "#ed7953"
             ],
             [
              0.7777777777777778,
              "#fb9f3a"
             ],
             [
              0.8888888888888888,
              "#fdca26"
             ],
             [
              1,
              "#f0f921"
             ]
            ],
            "type": "contour"
           }
          ],
          "contourcarpet": [
           {
            "colorbar": {
             "outlinewidth": 0,
             "ticks": ""
            },
            "type": "contourcarpet"
           }
          ],
          "heatmap": [
           {
            "colorbar": {
             "outlinewidth": 0,
             "ticks": ""
            },
            "colorscale": [
             [
              0,
              "#0d0887"
             ],
             [
              0.1111111111111111,
              "#46039f"
             ],
             [
              0.2222222222222222,
              "#7201a8"
             ],
             [
              0.3333333333333333,
              "#9c179e"
             ],
             [
              0.4444444444444444,
              "#bd3786"
             ],
             [
              0.5555555555555556,
              "#d8576b"
             ],
             [
              0.6666666666666666,
              "#ed7953"
             ],
             [
              0.7777777777777778,
              "#fb9f3a"
             ],
             [
              0.8888888888888888,
              "#fdca26"
             ],
             [
              1,
              "#f0f921"
             ]
            ],
            "type": "heatmap"
           }
          ],
          "histogram": [
           {
            "marker": {
             "pattern": {
              "fillmode": "overlay",
              "size": 10,
              "solidity": 0.2
             }
            },
            "type": "histogram"
           }
          ],
          "histogram2d": [
           {
            "colorbar": {
             "outlinewidth": 0,
             "ticks": ""
            },
            "colorscale": [
             [
              0,
              "#0d0887"
             ],
             [
              0.1111111111111111,
              "#46039f"
             ],
             [
              0.2222222222222222,
              "#7201a8"
             ],
             [
              0.3333333333333333,
              "#9c179e"
             ],
             [
              0.4444444444444444,
              "#bd3786"
             ],
             [
              0.5555555555555556,
              "#d8576b"
             ],
             [
              0.6666666666666666,
              "#ed7953"
             ],
             [
              0.7777777777777778,
              "#fb9f3a"
             ],
             [
              0.8888888888888888,
              "#fdca26"
             ],
             [
              1,
              "#f0f921"
             ]
            ],
            "type": "histogram2d"
           }
          ],
          "histogram2dcontour": [
           {
            "colorbar": {
             "outlinewidth": 0,
             "ticks": ""
            },
            "colorscale": [
             [
              0,
              "#0d0887"
             ],
             [
              0.1111111111111111,
              "#46039f"
             ],
             [
              0.2222222222222222,
              "#7201a8"
             ],
             [
              0.3333333333333333,
              "#9c179e"
             ],
             [
              0.4444444444444444,
              "#bd3786"
             ],
             [
              0.5555555555555556,
              "#d8576b"
             ],
             [
              0.6666666666666666,
              "#ed7953"
             ],
             [
              0.7777777777777778,
              "#fb9f3a"
             ],
             [
              0.8888888888888888,
              "#fdca26"
             ],
             [
              1,
              "#f0f921"
             ]
            ],
            "type": "histogram2dcontour"
           }
          ],
          "mesh3d": [
           {
            "colorbar": {
             "outlinewidth": 0,
             "ticks": ""
            },
            "type": "mesh3d"
           }
          ],
          "parcoords": [
           {
            "line": {
             "colorbar": {
              "outlinewidth": 0,
              "ticks": ""
             }
            },
            "type": "parcoords"
           }
          ],
          "pie": [
           {
            "automargin": true,
            "type": "pie"
           }
          ],
          "scatter": [
           {
            "fillpattern": {
             "fillmode": "overlay",
             "size": 10,
             "solidity": 0.2
            },
            "type": "scatter"
           }
          ],
          "scatter3d": [
           {
            "line": {
             "colorbar": {
              "outlinewidth": 0,
              "ticks": ""
             }
            },
            "marker": {
             "colorbar": {
              "outlinewidth": 0,
              "ticks": ""
             }
            },
            "type": "scatter3d"
           }
          ],
          "scattercarpet": [
           {
            "marker": {
             "colorbar": {
              "outlinewidth": 0,
              "ticks": ""
             }
            },
            "type": "scattercarpet"
           }
          ],
          "scattergeo": [
           {
            "marker": {
             "colorbar": {
              "outlinewidth": 0,
              "ticks": ""
             }
            },
            "type": "scattergeo"
           }
          ],
          "scattergl": [
           {
            "marker": {
             "colorbar": {
              "outlinewidth": 0,
              "ticks": ""
             }
            },
            "type": "scattergl"
           }
          ],
          "scattermap": [
           {
            "marker": {
             "colorbar": {
              "outlinewidth": 0,
              "ticks": ""
             }
            },
            "type": "scattermap"
           }
          ],
          "scattermapbox": [
           {
            "marker": {
             "colorbar": {
              "outlinewidth": 0,
              "ticks": ""
             }
            },
            "type": "scattermapbox"
           }
          ],
          "scatterpolar": [
           {
            "marker": {
             "colorbar": {
              "outlinewidth": 0,
              "ticks": ""
             }
            },
            "type": "scatterpolar"
           }
          ],
          "scatterpolargl": [
           {
            "marker": {
             "colorbar": {
              "outlinewidth": 0,
              "ticks": ""
             }
            },
            "type": "scatterpolargl"
           }
          ],
          "scatterternary": [
           {
            "marker": {
             "colorbar": {
              "outlinewidth": 0,
              "ticks": ""
             }
            },
            "type": "scatterternary"
           }
          ],
          "surface": [
           {
            "colorbar": {
             "outlinewidth": 0,
             "ticks": ""
            },
            "colorscale": [
             [
              0,
              "#0d0887"
             ],
             [
              0.1111111111111111,
              "#46039f"
             ],
             [
              0.2222222222222222,
              "#7201a8"
             ],
             [
              0.3333333333333333,
              "#9c179e"
             ],
             [
              0.4444444444444444,
              "#bd3786"
             ],
             [
              0.5555555555555556,
              "#d8576b"
             ],
             [
              0.6666666666666666,
              "#ed7953"
             ],
             [
              0.7777777777777778,
              "#fb9f3a"
             ],
             [
              0.8888888888888888,
              "#fdca26"
             ],
             [
              1,
              "#f0f921"
             ]
            ],
            "type": "surface"
           }
          ],
          "table": [
           {
            "cells": {
             "fill": {
              "color": "#EBF0F8"
             },
             "line": {
              "color": "white"
             }
            },
            "header": {
             "fill": {
              "color": "#C8D4E3"
             },
             "line": {
              "color": "white"
             }
            },
            "type": "table"
           }
          ]
         },
         "layout": {
          "annotationdefaults": {
           "arrowcolor": "#2a3f5f",
           "arrowhead": 0,
           "arrowwidth": 1
          },
          "autotypenumbers": "strict",
          "coloraxis": {
           "colorbar": {
            "outlinewidth": 0,
            "ticks": ""
           }
          },
          "colorscale": {
           "diverging": [
            [
             0,
             "#8e0152"
            ],
            [
             0.1,
             "#c51b7d"
            ],
            [
             0.2,
             "#de77ae"
            ],
            [
             0.3,
             "#f1b6da"
            ],
            [
             0.4,
             "#fde0ef"
            ],
            [
             0.5,
             "#f7f7f7"
            ],
            [
             0.6,
             "#e6f5d0"
            ],
            [
             0.7,
             "#b8e186"
            ],
            [
             0.8,
             "#7fbc41"
            ],
            [
             0.9,
             "#4d9221"
            ],
            [
             1,
             "#276419"
            ]
           ],
           "sequential": [
            [
             0,
             "#0d0887"
            ],
            [
             0.1111111111111111,
             "#46039f"
            ],
            [
             0.2222222222222222,
             "#7201a8"
            ],
            [
             0.3333333333333333,
             "#9c179e"
            ],
            [
             0.4444444444444444,
             "#bd3786"
            ],
            [
             0.5555555555555556,
             "#d8576b"
            ],
            [
             0.6666666666666666,
             "#ed7953"
            ],
            [
             0.7777777777777778,
             "#fb9f3a"
            ],
            [
             0.8888888888888888,
             "#fdca26"
            ],
            [
             1,
             "#f0f921"
            ]
           ],
           "sequentialminus": [
            [
             0,
             "#0d0887"
            ],
            [
             0.1111111111111111,
             "#46039f"
            ],
            [
             0.2222222222222222,
             "#7201a8"
            ],
            [
             0.3333333333333333,
             "#9c179e"
            ],
            [
             0.4444444444444444,
             "#bd3786"
            ],
            [
             0.5555555555555556,
             "#d8576b"
            ],
            [
             0.6666666666666666,
             "#ed7953"
            ],
            [
             0.7777777777777778,
             "#fb9f3a"
            ],
            [
             0.8888888888888888,
             "#fdca26"
            ],
            [
             1,
             "#f0f921"
            ]
           ]
          },
          "colorway": [
           "#636efa",
           "#EF553B",
           "#00cc96",
           "#ab63fa",
           "#FFA15A",
           "#19d3f3",
           "#FF6692",
           "#B6E880",
           "#FF97FF",
           "#FECB52"
          ],
          "font": {
           "color": "#2a3f5f"
          },
          "geo": {
           "bgcolor": "white",
           "lakecolor": "white",
           "landcolor": "#E5ECF6",
           "showlakes": true,
           "showland": true,
           "subunitcolor": "white"
          },
          "hoverlabel": {
           "align": "left"
          },
          "hovermode": "closest",
          "mapbox": {
           "style": "light"
          },
          "paper_bgcolor": "white",
          "plot_bgcolor": "#E5ECF6",
          "polar": {
           "angularaxis": {
            "gridcolor": "white",
            "linecolor": "white",
            "ticks": ""
           },
           "bgcolor": "#E5ECF6",
           "radialaxis": {
            "gridcolor": "white",
            "linecolor": "white",
            "ticks": ""
           }
          },
          "scene": {
           "xaxis": {
            "backgroundcolor": "#E5ECF6",
            "gridcolor": "white",
            "gridwidth": 2,
            "linecolor": "white",
            "showbackground": true,
            "ticks": "",
            "zerolinecolor": "white"
           },
           "yaxis": {
            "backgroundcolor": "#E5ECF6",
            "gridcolor": "white",
            "gridwidth": 2,
            "linecolor": "white",
            "showbackground": true,
            "ticks": "",
            "zerolinecolor": "white"
           },
           "zaxis": {
            "backgroundcolor": "#E5ECF6",
            "gridcolor": "white",
            "gridwidth": 2,
            "linecolor": "white",
            "showbackground": true,
            "ticks": "",
            "zerolinecolor": "white"
           }
          },
          "shapedefaults": {
           "line": {
            "color": "#2a3f5f"
           }
          },
          "ternary": {
           "aaxis": {
            "gridcolor": "white",
            "linecolor": "white",
            "ticks": ""
           },
           "baxis": {
            "gridcolor": "white",
            "linecolor": "white",
            "ticks": ""
           },
           "bgcolor": "#E5ECF6",
           "caxis": {
            "gridcolor": "white",
            "linecolor": "white",
            "ticks": ""
           }
          },
          "title": {
           "x": 0.05
          },
          "xaxis": {
           "automargin": true,
           "gridcolor": "white",
           "linecolor": "white",
           "ticks": "",
           "title": {
            "standoff": 15
           },
           "zerolinecolor": "white",
           "zerolinewidth": 2
          },
          "yaxis": {
           "automargin": true,
           "gridcolor": "white",
           "linecolor": "white",
           "ticks": "",
           "title": {
            "standoff": 15
           },
           "zerolinecolor": "white",
           "zerolinewidth": 2
          }
         }
        },
        "title": {
         "text": "Logical State Fidelity Over Time (Dephasing Only)"
        },
        "xaxis": {
         "title": {
          "text": "Time"
         }
        },
        "yaxis": {
         "title": {
          "text": "Fidelity of $|1_L⟩$"
         }
        }
       }
      }
     },
     "metadata": {},
     "output_type": "display_data"
    }
   ],
   "source": [
    "# Parameters\n",
    "gamma_dephasing = 0.05  # Dephasing rate per qubit\n",
    "\n",
    "\n",
    "Ep = 100\n",
    "# Define args\n",
    "args = {\n",
    "    \"args_H\": lambda t: omega_t(t) * X_L + delta_t(t) * Z_L - Ep * sum(S),\n",
    "    \"n_qubits\": 3,\n",
    "    \"lambda_2\": 0.1,\n",
    "    \"T\": 20\n",
    "}\n",
    "\n",
    "\n",
    "# Dephasing collapse operators for each qubit\n",
    "c_ops_dephasing = [\n",
    "    np.sqrt(gamma_dephasing) * tensor(Z, I, I),\n",
    "    np.sqrt(gamma_dephasing) * tensor(I, Z, I),\n",
    "    np.sqrt(gamma_dephasing) * tensor(I, I, Z)\n",
    "]\n",
    "\n",
    "# Simulate evolution with dephasing only\n",
    "results_dephasing = mesolve(\n",
    "    args[\"args_H\"], logical_zero * logical_zero.dag(), times_vec,\n",
    "    c_ops=c_ops_dephasing, e_ops=[logical_zero * logical_zero.dag(), logical_one * logical_one.dag()]\n",
    ")\n",
    "fidelity_dephasing = np.real(results_dephasing.expect[1])\n",
    "\n",
    "# Plot with plotly\n",
    "fig_dephasing = go.Figure()\n",
    "fig_dephasing.add_trace(go.Scatter(\n",
    "    x=times_vec,\n",
    "    y=fidelity_dephasing,\n",
    "    mode='lines',\n",
    "    name='Fidelity of $|1_L⟩$ (Dephasing Only)'\n",
    "))\n",
    "\n",
    "fig_dephasing.update_layout(\n",
    "    title=\"Logical State Fidelity Over Time (Dephasing Only)\",\n",
    "    xaxis_title=\"Time\",\n",
    "    yaxis_title=\"Fidelity of $|1_L⟩$\",\n",
    "    font=dict(family=\"sans-serif\", size=18),\n",
    "    legend_title=\"\",\n",
    "    template=\"plotly\"\n",
    ")\n",
    "\n",
    "fig_dephasing.show()"
   ]
  },
  {
   "cell_type": "markdown",
   "id": "6c6b3e98",
   "metadata": {},
   "source": [
    "### Conclusion\n",
    "\n",
    "For the energy-penalty term $E_p$ to effectively suppress both decoherence and dephasing, the corresponding collapse-operator rates must depend explicitly on the enlarged energy gap $\\Delta E \\approx \\omega_0 + E_p$. In other words, setting\n",
    "$$\n",
    "\\gamma(\\Delta E)\\;\\propto\\;S(\\Delta E)\\,,\n",
    "$$\n",
    "where $S(\\omega)$ is the bath spectral density (or occupation factor) evaluated at the transition frequency $\\Delta E$, ensures that as $E_p$ grows, the noise rates $\\gamma(\\Delta E)$ decrease—thereby protecting the logical subspace. Without this gap-dependence, fixed (phenomenological) rates remain unaffected by the penalty and cannot achieve suppression.  \n"
   ]
  }
 ],
 "metadata": {
  "kernelspec": {
   "display_name": "base",
   "language": "python",
   "name": "python3"
  },
  "language_info": {
   "codemirror_mode": {
    "name": "ipython",
    "version": 3
   },
   "file_extension": ".py",
   "mimetype": "text/x-python",
   "name": "python",
   "nbconvert_exporter": "python",
   "pygments_lexer": "ipython3",
   "version": "3.12.2"
  }
 },
 "nbformat": 4,
 "nbformat_minor": 5
}
