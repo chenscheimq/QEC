{
 "cells": [
  {
   "cell_type": "code",
   "id": "initial_id",
   "metadata": {
    "collapsed": true,
    "ExecuteTime": {
     "end_time": "2024-12-22T19:20:46.706472Z",
     "start_time": "2024-12-22T19:20:45.990511Z"
    }
   },
   "source": [
    "from qutip import *\n",
    "import numpy as np"
   ],
   "outputs": [],
   "execution_count": 2
  },
  {
   "metadata": {
    "ExecuteTime": {
     "end_time": "2024-12-22T19:20:47.344907Z",
     "start_time": "2024-12-22T19:20:47.336727Z"
    }
   },
   "cell_type": "code",
   "source": [
    "k = 4\n",
    "I = qeye(2)\n",
    "X = sigmax()\n",
    "Z = sigmaz()\n",
    "\n",
    "X_4 = tensor(X, X, X, X)\n",
    "I_4 = tensor(I, I, I, I)\n",
    "\n",
    "Z_12 = tensor(Z, Z, I, I)\n",
    "Z_13 = tensor(Z, I, Z, I)\n",
    "Z_14 = tensor(Z, I, I, Z)\n",
    "Z_23 = tensor(I, Z, Z, I)\n",
    "Z_24 = tensor(I, Z, I, Z)\n",
    "Z_34 = tensor(I, I, Z, Z)\n",
    "\n",
    "H_anc = 0.5 * ((I_4 - Z_12) + (I_4 - Z_13) + (I_4 - Z_14) + (I_4 - Z_23) + (I_4 - Z_24) + (I_4 - Z_34))\n",
    "\n",
    "def does_commute(A, B):\n",
    "    \"\"\"\n",
    "    Check if two tensors A and B are commutative.\n",
    "    :param A: Qobj\n",
    "    :param B: Qobj\n",
    "    :return: Boolean\n",
    "    \"\"\"\n",
    "    zero_mat = Qobj(np.zeros((2, 2)))\n",
    "    zeros = tensor(zero_mat, zero_mat, zero_mat, zero_mat)\n",
    "    if commutator(A, B) == zeros:\n",
    "        return True\n",
    "    return False\n",
    "\n",
    "print(does_commute(H_anc, X_4))"
   ],
   "id": "feecc02c3ee31df",
   "outputs": [
    {
     "name": "stdout",
     "output_type": "stream",
     "text": [
      "True\n"
     ]
    }
   ],
   "execution_count": 3
  }
 ],
 "metadata": {
  "kernelspec": {
   "display_name": "Python 3",
   "language": "python",
   "name": "python3"
  },
  "language_info": {
   "codemirror_mode": {
    "name": "ipython",
    "version": 2
   },
   "file_extension": ".py",
   "mimetype": "text/x-python",
   "name": "python",
   "nbconvert_exporter": "python",
   "pygments_lexer": "ipython2",
   "version": "2.7.6"
  }
 },
 "nbformat": 4,
 "nbformat_minor": 5
}
