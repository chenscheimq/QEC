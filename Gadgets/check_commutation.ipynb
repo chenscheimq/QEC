{
 "cells": [
  {
   "cell_type": "code",
   "id": "initial_id",
   "metadata": {
    "collapsed": true,
    "ExecuteTime": {
     "end_time": "2024-09-30T09:34:41.154807Z",
     "start_time": "2024-09-30T09:34:41.149608Z"
    }
   },
   "source": [
    "from qutip import *\n",
    "import numpy as np"
   ],
   "outputs": [],
   "execution_count": 3
  },
  {
   "metadata": {
    "ExecuteTime": {
     "end_time": "2024-09-30T09:41:35.250305Z",
     "start_time": "2024-09-30T09:41:35.238815Z"
    }
   },
   "cell_type": "code",
   "source": [
    "k = 4\n",
    "I = qeye(2)\n",
    "X = sigmax()\n",
    "Z = sigmaz()\n",
    "\n",
    "X_4 = tensor(X, X, X, X)\n",
    "I_4 = tensor(I, I, I, I)\n",
    "\n",
    "Z_1 = tensor(Z, I, I, I)\n",
    "Z_2 = tensor(I, Z, I, I)\n",
    "Z_3 = tensor(I, I, Z, I)\n",
    "Z_4 = tensor(I, I, I, Z)\n",
    "\n",
    "H_anc = 0.5 * ((I_4 - Z_1*Z_2) + (I_4 - Z_1*Z_3) + (I_4 - Z_1*Z_4) + (I_4 - Z_2*Z_3) + (I_4 - Z_2*Z_4) + (I_4 - Z_3*Z_4))\n",
    "\n",
    "def does_commute(A, B):\n",
    "    \"\"\"\n",
    "    Check if two tensors A and B are commutative.\n",
    "    :param A: Qobj\n",
    "    :param B: Qobj\n",
    "    :return: Boolean\n",
    "    \"\"\"\n",
    "    zero_mat = Qobj(np.zeros((2, 2)))\n",
    "    zeros = tensor(zero_mat, zero_mat, zero_mat, zero_mat)\n",
    "    if commutator(A, B) == zeros:\n",
    "        return True\n",
    "    return False\n",
    "\n",
    "print(does_commute(H_anc, X_4))"
   ],
   "id": "feecc02c3ee31df",
   "outputs": [
    {
     "name": "stdout",
     "output_type": "stream",
     "text": [
      "True\n"
     ]
    }
   ],
   "execution_count": 20
  }
 ],
 "metadata": {
  "kernelspec": {
   "display_name": "Python 3",
   "language": "python",
   "name": "python3"
  },
  "language_info": {
   "codemirror_mode": {
    "name": "ipython",
    "version": 2
   },
   "file_extension": ".py",
   "mimetype": "text/x-python",
   "name": "python",
   "nbconvert_exporter": "python",
   "pygments_lexer": "ipython2",
   "version": "2.7.6"
  }
 },
 "nbformat": 4,
 "nbformat_minor": 5
}
