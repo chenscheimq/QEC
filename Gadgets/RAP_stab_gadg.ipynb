{
 "cells": [
  {
   "cell_type": "code",
   "id": "initial_id",
   "metadata": {
    "collapsed": true,
    "ExecuteTime": {
     "end_time": "2024-12-02T09:51:44.190735Z",
     "start_time": "2024-12-02T09:51:44.187150Z"
    }
   },
   "source": [
    "from qutip import *\n",
    "import numpy as np\n",
    "import matplotlib.pyplot as plt"
   ],
   "outputs": [],
   "execution_count": 2
  },
  {
   "metadata": {
    "ExecuteTime": {
     "end_time": "2024-12-02T09:51:44.195758Z",
     "start_time": "2024-12-02T09:51:44.192185Z"
    }
   },
   "cell_type": "code",
   "source": [
    "def print_gadget(gadget):\n",
    "    # Build and print the tensor representation\n",
    "    tensor_representation = []\n",
    "    for op in gadget:\n",
    "        # Check for identity\n",
    "        if op == I:\n",
    "            tensor_representation.append(\"I\")\n",
    "        # Check for standard operators\n",
    "        elif op == X:\n",
    "            tensor_representation.append(\"X\")\n",
    "        elif op == Z:\n",
    "            tensor_representation.append(\"Z\")\n",
    "        elif op == Y:\n",
    "            tensor_representation.append(\"Y\")\n",
    "        # Check for 0.5(I - Z)\n",
    "        elif (\n",
    "            isinstance(op, Qobj)  # Ensure it's a Qobj\n",
    "            and op.dims == I.dims  # Match single-qubit operator dimensions\n",
    "            and np.allclose(op.full(), (0.5 * I - 0.5 * Z).full())  # Compare matrices\n",
    "        ):\n",
    "            tensor_representation.append(\"1/2(I-Z)\")\n",
    "        # Fallback for unknown operators\n",
    "        else:\n",
    "            tensor_representation.append(\"Unknown\")\n",
    "    \n",
    "    print(f\"tensor({', '.join(tensor_representation)})\")"
   ],
   "id": "3bab3e5dcbc896a9",
   "outputs": [],
   "execution_count": 3
  },
  {
   "metadata": {
    "ExecuteTime": {
     "end_time": "2024-12-02T13:22:19.203536Z",
     "start_time": "2024-12-02T13:22:19.157113Z"
    }
   },
   "cell_type": "code",
   "source": [
    "# Define basic operators\n",
    "I = qeye(2)\n",
    "X = sigmax()\n",
    "Y = sigmay()\n",
    "Z = sigmaz()\n",
    "\n",
    "# Define stabilizer generators for the 4-qubit code\n",
    "X_L = [Y, I, Y, I]\n",
    "Z_L = [Z, Z, I, I]\n",
    "g1_ops = [X, X, X, X]\n",
    "g2_ops = [Z, Z, Z, Z]\n",
    "g3_ops = [X, Y, Z, I]\n",
    "\n",
    "hs = [g1_ops,g2_ops,g3_ops]\n",
    "\n",
    "\n",
    "# Parameters\n",
    "total_logic_qbits = 4  # Number of logical qubits\n",
    "\n",
    "ks = [sum(1 for op in operator if op != I) for operator in hs]  # Auxiliary qubits for each stabilizer\n",
    "tot_space = total_logic_qbits + sum(ks)\n",
    "\n",
    "# Initialize the total Hamiltonian\n",
    "# H_gad = tensor([Qobj(np.zeros((2, 2))) for _ in range(tot_space)])  # Start with a zero operator\n",
    "H_gad = 0\n",
    "\n",
    "# Build auxiliary Hamiltonians and embed them\n",
    "current_position = total_logic_qbits  # Start after logical qubits\n",
    "for index, operator in enumerate(hs):\n",
    "    k = sum(1 for op in operator if op != I)    \n",
    "    print(k)\n",
    "    \n",
    "    ######## H_aux ############\n",
    "    print(\"H_aux\")\n",
    "    for j in range(k):\n",
    "        Z_i = tensor([Z if j == i else I for i in range(k)])\n",
    "        aux_H = 0.5 * (tensor([0.5 * (I - (Z if j  == i else I)) for i in range(k)]))\n",
    "        \n",
    "        # Embed aux_H into the full space\n",
    "        pre_space = [I for _ in range(current_position)]  # Identities before this auxiliary block\n",
    "        post_space = [I for _ in range(tot_space - current_position - k)]  # Identities after this block    \n",
    "        full_aux_H = tensor(pre_space + [aux_H] + post_space)    \n",
    "    ######## H_aux ############\n",
    "\n",
    "\n",
    "        ####### FOR PRINTING Aux #######\n",
    "        to_p = (\n",
    "            pre_space\n",
    "            + [0.5 * (I - (Z if j  == i else I)) for i in range(k)]\n",
    "            + post_space\n",
    "        )\n",
    "        print_gadget(to_p)\n",
    "        ####### FOR PRINTING Aux #######\n",
    "        \n",
    "    perturbation_factor = 0.45401\n",
    "    \n",
    "    print(\"V_pert\")\n",
    "    # Now adding the perturbative terms\n",
    "    for j, op in enumerate(operator):\n",
    "        if op == I:\n",
    "            continue     \n",
    "        \n",
    "\n",
    "        ######## V ############\n",
    "        logical_operator = tensor(\n",
    "            [op if i == j else I for i in range(total_logic_qbits)]\n",
    "        )\n",
    "        \n",
    "        # Auxiliary space for this stabilizer\n",
    "        # auxiliary_operator = tensor([X if i == (j % k) else X if i == (j + 1) % k else I for i in range(k)])\n",
    "        auxiliary_operator = tensor([X if i == (j % k) else I for i in range(k)])\n",
    "        \n",
    "        # Embed auxiliary operator into the full auxiliary space\n",
    "        pre_aux = [I for _ in range(current_position - total_logic_qbits)]  # Identities for earlier stabilizers\n",
    "        post_aux = [I for _ in range(sum(ks[index + 1:]))]  # Identities for remaining stabilizers\n",
    "        full_auxiliary_operator = tensor(pre_aux + [auxiliary_operator] + post_aux)\n",
    "        \n",
    "        # Combine logical and full auxiliary operators\n",
    "        full_v = tensor(logical_operator, full_auxiliary_operator)\n",
    "        ######## V ############\n",
    "                \n",
    "\n",
    "        ####### FOR PRINTING V #######\n",
    "        # to_p = [op if i == j else I for i in range(total_logic_qbits)] + pre_aux + [X if i == (j % k) else X if i == (j + 1) % k else I for i in range(k)] + post_aux\n",
    "        to_p = [op if i == j else I for i in range(total_logic_qbits)] + pre_aux + [X if i == (j % k) else I for i in range(k)] + post_aux\n",
    "        \n",
    "        print_gadget(to_p)\n",
    "        ####### FOR PRINTING V #######\n",
    "        \n",
    "        \n",
    "        H_gad += perturbation_factor * full_v + full_aux_H\n",
    "\n",
    "    \n",
    "    current_position += k\n",
    "    print()\n",
    "    \n",
    "\n",
    "print(\"Total Hamiltonian Dimensions:\", H_gad.dims)"
   ],
   "id": "e3960f61f910ea3a",
   "outputs": [
    {
     "name": "stdout",
     "output_type": "stream",
     "text": [
      "4\n",
      "H_aux\n",
      "tensor(I, I, I, I, 1/2(I-Z), I, I, I, I, I, I, I, I, I, I)\n",
      "tensor(I, I, I, I, I, 1/2(I-Z), I, I, I, I, I, I, I, I, I)\n",
      "tensor(I, I, I, I, I, I, 1/2(I-Z), I, I, I, I, I, I, I, I)\n",
      "tensor(I, I, I, I, I, I, I, 1/2(I-Z), I, I, I, I, I, I, I)\n",
      "V_pert\n",
      "tensor(X, I, I, I, X, I, I, I, I, I, I, I, I, I, I)\n",
      "tensor(I, X, I, I, I, X, I, I, I, I, I, I, I, I, I)\n",
      "tensor(I, I, X, I, I, I, X, I, I, I, I, I, I, I, I)\n",
      "tensor(I, I, I, X, I, I, I, X, I, I, I, I, I, I, I)\n",
      "\n",
      "4\n",
      "H_aux\n",
      "tensor(I, I, I, I, I, I, I, I, 1/2(I-Z), I, I, I, I, I, I)\n",
      "tensor(I, I, I, I, I, I, I, I, I, 1/2(I-Z), I, I, I, I, I)\n",
      "tensor(I, I, I, I, I, I, I, I, I, I, 1/2(I-Z), I, I, I, I)\n",
      "tensor(I, I, I, I, I, I, I, I, I, I, I, 1/2(I-Z), I, I, I)\n",
      "V_pert\n",
      "tensor(Z, I, I, I, I, I, I, I, X, I, I, I, I, I, I)\n",
      "tensor(I, Z, I, I, I, I, I, I, I, X, I, I, I, I, I)\n",
      "tensor(I, I, Z, I, I, I, I, I, I, I, X, I, I, I, I)\n",
      "tensor(I, I, I, Z, I, I, I, I, I, I, I, X, I, I, I)\n",
      "\n",
      "3\n",
      "H_aux\n",
      "tensor(I, I, I, I, I, I, I, I, I, I, I, I, 1/2(I-Z), I, I)\n",
      "tensor(I, I, I, I, I, I, I, I, I, I, I, I, I, 1/2(I-Z), I)\n",
      "tensor(I, I, I, I, I, I, I, I, I, I, I, I, I, I, 1/2(I-Z))\n",
      "V_pert\n",
      "tensor(X, I, I, I, I, I, I, I, I, I, I, I, X, I, I)\n",
      "tensor(I, Y, I, I, I, I, I, I, I, I, I, I, I, X, I)\n",
      "tensor(I, I, Z, I, I, I, I, I, I, I, I, I, I, I, X)\n",
      "\n",
      "Total Hamiltonian Dimensions: [[2, 2, 2, 2, 2, 2, 2, 2, 2, 2, 2, 2, 2, 2, 2], [2, 2, 2, 2, 2, 2, 2, 2, 2, 2, 2, 2, 2, 2, 2]]\n"
     ]
    }
   ],
   "execution_count": 80
  },
  {
   "metadata": {
    "ExecuteTime": {
     "end_time": "2024-12-02T11:48:14.116741Z",
     "start_time": "2024-12-02T11:48:14.110363Z"
    }
   },
   "cell_type": "code",
   "source": [
    "X_L = tensor(Y, I, Y, I)\n",
    "Z_L = tensor(Z, Z, I, I)\n",
    "Y_L = -tensor(I, X, X, I)\n",
    "\n",
    "basis_states = [basis(2, 0), basis(2, 1)]\n",
    "\n",
    "# Define the logical zero state |0_L>\n",
    "logical_zero = (tensor(basis_states[0], basis_states[0], basis_states[0], basis_states[0]) +\n",
    "                1j*tensor(basis_states[0], basis_states[0], basis_states[1], basis_states[1]) +\n",
    "                1j*tensor(basis_states[1], basis_states[1], basis_states[0], basis_states[0]) +\n",
    "                tensor(basis_states[1], basis_states[1], basis_states[1], basis_states[1])).unit()\n",
    "\n",
    "logical_one = X_L * logical_zero"
   ],
   "id": "ad9dff75cea546b6",
   "outputs": [],
   "execution_count": 76
  },
  {
   "metadata": {
    "ExecuteTime": {
     "end_time": "2024-12-02T11:48:17.735052Z",
     "start_time": "2024-12-02T11:48:17.595285Z"
    }
   },
   "cell_type": "code",
   "source": [
    "# RAP time-dependent terms\n",
    "T = 100\n",
    "t = np.linspace(0, T, 1000)\n",
    "sigma = 1\n",
    "omega_max = 50\n",
    "omega_t = omega_max * np.exp(-0.5 * ((t - T/2) / sigma) ** 2)\n",
    "delta_t = 2 * omega_max * (t / (T / 2) - 1)\n",
    "\n",
    "# Modified H_S_0 with gadgets\n",
    "H_p_gad = - 100 * H_gad  # Replace original H_p with gadgetized version\n",
    "\n",
    "# Expanding the space of the one local operations of the RAP to the new space\n",
    "X_L_all = tensor(X_L, tensor([I for _ in range(sum(ks))]))\n",
    "Z_L_all = tensor(Z_L, tensor([I for _ in range(sum(ks))]))\n",
    "H_S_0_gad = omega_t[0] * X_L_all + delta_t[0] * Z_L_all + H_p_gad\n",
    "\n",
    "# Diagonalize the modified Hamiltonian\n",
    "eigenvalues_0, eigenstates_0 = H_S_0_gad.eigenstates(sparse=True, eigvals=1)\n",
    "\n",
    "# Print eigenvalues to confirm\n",
    "print(\"Eigenvalues of H_S_0 with gadgets:\", eigenvalues_0)\n",
    "\n"
   ],
   "id": "6ed28d3994810778",
   "outputs": [
    {
     "name": "stdout",
     "output_type": "stream",
     "text": [
      "Eigenvalues of H_S_0 with gadgets: [-399.99670682]\n"
     ]
    }
   ],
   "execution_count": 77
  },
  {
   "metadata": {
    "ExecuteTime": {
     "end_time": "2024-12-02T11:48:21.370399Z",
     "start_time": "2024-12-02T11:48:21.352454Z"
    }
   },
   "cell_type": "code",
   "source": [
    "g1 = tensor(X, X, X, X)\n",
    "g2 = tensor(Z, Z, Z, Z)\n",
    "g3 = tensor(X, Y, Z, I)\n",
    "H_p = -100*(g1 + g2 + g3)\n",
    "\n",
    "H_S_0 = omega_t[0] * X_L + delta_t[0] * Z_L + H_p\n",
    "\n",
    "# Diagonalize the modified Hamiltonian\n",
    "eigenvalues_0, eigenstates_0 = H_S_0.eigenstates()\n",
    "\n",
    "# Print eigenvalues to confirm\n",
    "print(\"Eigenvalues of H_S_0 with gadgets:\", eigenvalues_0[0])"
   ],
   "id": "cf313a0e34c529eb",
   "outputs": [
    {
     "name": "stdout",
     "output_type": "stream",
     "text": [
      "Eigenvalues of H_S_0 with gadgets: -399.99999999999966\n"
     ]
    }
   ],
   "execution_count": 78
  },
  {
   "metadata": {
    "ExecuteTime": {
     "end_time": "2024-11-20T14:08:15.863374Z",
     "start_time": "2024-11-20T14:08:06.465175Z"
    }
   },
   "cell_type": "code",
   "source": [
    "# Define logical states |0_L> and |1_L>\n",
    "basis_states = [basis(2, 0), basis(2, 1)]\n",
    "\n",
    "# Define the 4-qubit logical zero state |0_L>\n",
    "logical_zero_4q = (tensor(basis_states[0], basis_states[0], basis_states[0], basis_states[0]) +\n",
    "                   1j * tensor(basis_states[0], basis_states[0], basis_states[1], basis_states[1]) +\n",
    "                   1j * tensor(basis_states[1], basis_states[1], basis_states[0], basis_states[0]) +\n",
    "                   tensor(basis_states[1], basis_states[1], basis_states[1], basis_states[1])).unit()\n",
    "\n",
    "# Extend |0_L> to 7 qubits by tensoring with auxiliary qubits in |0>\n",
    "auxiliary_qubits = tensor(basis_states[0], basis_states[0], basis_states[0])  # Auxiliary qubits in |0>\n",
    "logical_zero = tensor(logical_zero_4q, auxiliary_qubits)\n",
    "logical_one = X_L * logical_zero\n",
    "\n",
    "\n",
    "# Define time-dependent Hamiltonian\n",
    "def H_RAP(t, args):\n",
    "    omega_t = args['omega_max'] * np.exp(-0.5 * ((t - args['T'] / 2) / args['sigma']) ** 2)\n",
    "    delta_t = 2 * args['omega_max'] * (t / (args['T'] / 2) - 1)\n",
    "    return omega_t * X_L + delta_t * Z_L + H_gadget\n",
    "\n",
    "\n",
    "\n",
    "P_zero = logical_zero * logical_zero.dag()\n",
    "P_one = logical_one * logical_one.dag()\n",
    "\n",
    "\n",
    "# Solve the system with sesolve\n",
    "args = {'omega_max': omega_max, 'T': T, 'sigma': sigma}\n",
    "H_td = QobjEvo(H_RAP, args=args)\n",
    "result = sesolve(H_td, logical_zero, t, [P_zero, P_one])\n",
    "\n",
    "# Extract probabilities\n",
    "p_zero = result.expect[0]\n",
    "p_one = result.expect[1]\n",
    "\n",
    "# Plot the results\n",
    "plt.figure(figsize=(8, 6))\n",
    "plt.plot(t, p_zero, label=r'$| \\langle 0_{L} | \\psi(t) \\rangle |^2$', color='blue')\n",
    "plt.plot(t, p_one, label=r'$| \\langle 1_{L} | \\psi(t) \\rangle |^2$', color='red')\n",
    "plt.xlabel('Time')\n",
    "plt.ylabel('Probability')\n",
    "plt.title('Adiabatic Evolution of Logical States')\n",
    "plt.legend(loc='upper right')\n",
    "plt.grid()\n",
    "plt.show()\n"
   ],
   "id": "6ef2effaced37a48",
   "outputs": [
    {
     "data": {
      "text/plain": [
       "<Figure size 800x600 with 1 Axes>"
      ],
      "image/png": "[encoded data removed]"
     },
     "metadata": {},
     "output_type": "display_data"
    }
   ],
   "execution_count": 32
  }
 ],
 "metadata": {
  "kernelspec": {
   "display_name": "Python 3",
   "language": "python",
   "name": "python3"
  },
  "language_info": {
   "codemirror_mode": {
    "name": "ipython",
    "version": 2
   },
   "file_extension": ".py",
   "mimetype": "text/x-python",
   "name": "python",
   "nbconvert_exporter": "python",
   "pygments_lexer": "ipython2",
   "version": "2.7.6"
  }
 },
 "nbformat": 4,
 "nbformat_minor": 5
}
