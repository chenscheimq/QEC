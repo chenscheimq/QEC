{
 "cells": [
  {
   "metadata": {},
   "cell_type": "markdown",
   "source": "$g_{2}$",
   "id": "e9e2d6c0a6e5b67d"
  },
  {
   "metadata": {
    "ExecuteTime": {
     "end_time": "2024-07-01T08:44:36.279057Z",
     "start_time": "2024-07-01T08:44:36.273409Z"
    }
   },
   "cell_type": "code",
   "source": "",
   "id": "78a8dcfbdfdd4baf",
   "outputs": [],
   "execution_count": null
  },
  {
   "metadata": {},
   "cell_type": "code",
   "outputs": [],
   "execution_count": null,
   "source": "",
   "id": "7d9225aeaa80e9fa"
  }
 ],
 "metadata": {
  "kernelspec": {
   "display_name": "Python 3",
   "language": "python",
   "name": "python3"
  },
  "language_info": {
   "codemirror_mode": {
    "name": "ipython",
    "version": 2
   },
   "file_extension": ".py",
   "mimetype": "text/x-python",
   "name": "python",
   "nbconvert_exporter": "python",
   "pygments_lexer": "ipython2",
   "version": "2.7.6"
  }
 },
 "nbformat": 4,
 "nbformat_minor": 5
}
