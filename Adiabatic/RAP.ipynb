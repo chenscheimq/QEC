{
 "cells": [
  {
   "metadata": {},
   "cell_type": "markdown",
   "source": [
    "$\n",
    "x_{2}\n",
    "$"
   ],
   "id": "dfd77b99f3cdc87e"
  },
  {
   "metadata": {
    "ExecuteTime": {
     "end_time": "2024-07-01T09:28:00.022603Z",
     "start_time": "2024-07-01T09:27:59.445013Z"
    }
   },
   "cell_type": "code",
   "source": [
    "import numpy as np\n",
    "import matplotlib.pyplot as plt\n",
    "from qutip import *"
   ],
   "id": "7d9225aeaa80e9fa",
   "execution_count": 1,
   "outputs": []
  },
  {
   "metadata": {
    "ExecuteTime": {
     "end_time": "2024-07-01T09:28:00.025383Z",
     "start_time": "2024-07-01T09:28:00.022603Z"
    }
   },
   "cell_type": "code",
   "source": [
    "# parameters\n",
    "omega1 = 1.0  # frequency of the first level\n",
    "omega2 = 0.9  # frequency of the second level\n",
    "B_values = np.linspace(-2, 2, 200)"
   ],
   "id": "d9aa79215c69209b",
   "execution_count": 2,
   "outputs": []
  },
  {
   "metadata": {
    "ExecuteTime": {
     "end_time": "2024-07-01T09:59:46.562902Z",
     "start_time": "2024-07-01T09:59:46.498757Z"
    }
   },
   "cell_type": "code",
   "source": [
    "eigvals1 = []\n",
    "eigvals2 = []\n",
    "\n",
    "for B in B_values:\n",
    "    # Hamiltonian\n",
    "    H0 = omega1 * sigmaz() + B * sigmax()\n",
    "    H1 = 0.1 * sigmax()\n",
    "    H = [H0, [H1, 't']]\n",
    "\n",
    "    # Calculate eigenvalues\n",
    "    eigvals = H[0].eigenenergies()\n",
    "\n",
    "    eigvals1.append(eigvals[0])\n",
    "    eigvals2.append(eigvals[1])\n",
    "\n",
    "# Plot the energy eigenvalues as a function of the magnetic field strength\n",
    "plt.plot(B_values, eigvals1, label='Eigenvalue 1')\n",
    "plt.plot(B_values, eigvals2, label='Eigenvalue 2')\n",
    "plt.xlabel('Magnetic Field Strength')\n",
    "plt.ylabel('Energy')\n",
    "plt.title('Energy vs Magnetic Field Strength')\n",
    "plt.legend()\n",
    "plt.show()"
   ],
   "id": "4437c76654661ede",
   "execution_count": 11,
   "outputs": []
  },
  {
   "metadata": {
    "ExecuteTime": {
     "end_time": "2024-07-01T09:20:08.677771Z",
     "start_time": "2024-07-01T09:20:08.639834Z"
    }
   },
   "cell_type": "code",
   "source": [
    "# Define the Hamiltonian components\n",
    "H0 = sigmax()\n",
    "H1 = sigmaz()\n",
    "\n",
    "# Time-dependent Hamiltonian\n",
    "H = [[H0, Omega], [H1, Delta]]\n",
    "\n",
    "# Initial state: |0> state\n",
    "psi0 = basis(2, 0)\n",
    "\n",
    "# Solve the Schrödinger equation\n",
    "result = mesolve(H, psi0, tlist, [], [])\n",
    "\n",
    "# Extract the populations of state |0> and state |1>\n",
    "p0 = expect(basis(2, 0) * basis(2, 0).dag(), result.states)\n",
    "p1 = expect(basis(2, 1) * basis(2, 1).dag(), result.states)"
   ],
   "id": "466aa0ac7f32a9fe",
   "execution_count": 31,
   "outputs": []
  },
  {
   "metadata": {
    "ExecuteTime": {
     "end_time": "2024-07-01T09:20:10.197844Z",
     "start_time": "2024-07-01T09:20:10.131290Z"
    }
   },
   "cell_type": "code",
   "source": [
    "# Plot the results\n",
    "plt.figure()\n",
    "plt.plot(tlist, p0, label='Population of |0>')\n",
    "plt.plot(tlist, p1, label='Population of |1>')\n",
    "plt.xlabel('Time')\n",
    "plt.ylabel('Population')\n",
    "plt.legend()\n",
    "plt.title('Adiabatic Evolution of a Two-Level System (RAP)')\n",
    "plt.show()"
   ],
   "id": "f666d9c4937bfb5",
   "execution_count": 32,
   "outputs": []
  },
  {
   "metadata": {},
   "cell_type": "code",
   "execution_count": null,
   "source": "",
   "id": "6b1fea29408d014b",
   "outputs": []
  },
  {
   "metadata": {},
   "cell_type": "code",
   "execution_count": null,
   "source": "",
   "id": "e51d23105c4342cf",
   "outputs": []
  },
  {
   "metadata": {
    "ExecuteTime": {
     "end_time": "2024-07-03T08:09:12.649992Z",
     "start_time": "2024-07-03T08:09:12.644297Z"
    }
   },
   "cell_type": "code",
   "source": "",
   "id": "9965962645d1fd7f",
   "execution_count": 9,
   "outputs": []
  }
 ],
 "metadata": {
  "kernelspec": {
   "display_name": "Python 3",
   "language": "python",
   "name": "python3"
  },
  "language_info": {
   "codemirror_mode": {
    "name": "ipython",
    "version": 2
   },
   "file_extension": ".py",
   "mimetype": "text/x-python",
   "name": "python",
   "nbconvert_exporter": "python",
   "pygments_lexer": "ipython2",
   "version": "2.7.6"
  }
 },
 "nbformat": 4,
 "nbformat_minor": 5
}
