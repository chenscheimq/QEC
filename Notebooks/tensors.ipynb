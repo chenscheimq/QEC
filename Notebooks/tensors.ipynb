{
 "cells": [
  {
   "cell_type": "code",
   "id": "initial_id",
   "metadata": {
    "collapsed": true,
    "ExecuteTime": {
     "end_time": "2024-06-09T08:42:36.005536Z",
     "start_time": "2024-06-09T08:42:35.991070Z"
    }
   },
   "source": [
    "from qutip import *\n",
    "from qutip_qip.operations import *"
   ],
   "outputs": [],
   "execution_count": 32
  },
  {
   "metadata": {
    "ExecuteTime": {
     "end_time": "2024-06-09T09:06:37.901923Z",
     "start_time": "2024-06-09T09:06:37.883554Z"
    }
   },
   "cell_type": "code",
   "source": "sigmay().dag() * sigmaz() * sigmay()",
   "id": "22be44844b111c82",
   "outputs": [
    {
     "data": {
      "text/plain": [
       "Quantum object: dims=[[2], [2]], shape=(2, 2), type='oper', dtype=CSR, isherm=True\n",
       "Qobj data =\n",
       "[[-1.  0.]\n",
       " [ 0.  1.]]"
      ],
      "text/latex": "Quantum object: dims=[[2], [2]], shape=(2, 2), type='oper', dtype=CSR, isherm=True$$\\left(\\begin{array}{cc}-1 & 0\\\\0 & 1\\end{array}\\right)$$"
     },
     "execution_count": 48,
     "metadata": {},
     "output_type": "execute_result"
    }
   ],
   "execution_count": 48
  },
  {
   "metadata": {
    "ExecuteTime": {
     "end_time": "2024-06-09T08:47:37.736535Z",
     "start_time": "2024-06-09T08:47:37.723192Z"
    }
   },
   "cell_type": "code",
   "source": "tensor(qeye(2), sigmax())",
   "id": "c53bb7d967b86c0f",
   "outputs": [
    {
     "data": {
      "text/plain": [
       "Quantum object: dims=[[2, 2], [2, 2]], shape=(4, 4), type='oper', dtype=CSR, isherm=True\n",
       "Qobj data =\n",
       "[[0. 1. 0. 0.]\n",
       " [1. 0. 0. 0.]\n",
       " [0. 0. 0. 1.]\n",
       " [0. 0. 1. 0.]]"
      ],
      "text/latex": "Quantum object: dims=[[2, 2], [2, 2]], shape=(4, 4), type='oper', dtype=CSR, isherm=True$$\\left(\\begin{array}{cc}0 & 1 & 0 & 0\\\\1 & 0 & 0 & 0\\\\0 & 0 & 0 & 1\\\\0 & 0 & 1 & 0\\end{array}\\right)$$"
     },
     "execution_count": 46,
     "metadata": {},
     "output_type": "execute_result"
    }
   ],
   "execution_count": 46
  }
 ],
 "metadata": {
  "kernelspec": {
   "display_name": "Python 3",
   "language": "python",
   "name": "python3"
  },
  "language_info": {
   "codemirror_mode": {
    "name": "ipython",
    "version": 2
   },
   "file_extension": ".py",
   "mimetype": "text/x-python",
   "name": "python",
   "nbconvert_exporter": "python",
   "pygments_lexer": "ipython2",
   "version": "2.7.6"
  }
 },
 "nbformat": 4,
 "nbformat_minor": 5
}
