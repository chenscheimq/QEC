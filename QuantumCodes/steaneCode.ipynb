{
 "cells": [
  {
   "cell_type": "code",
   "id": "initial_id",
   "metadata": {
    "collapsed": true,
    "ExecuteTime": {
     "end_time": "2024-05-28T09:18:07.247725Z",
     "start_time": "2024-05-28T09:18:06.207153Z"
    }
   },
   "source": [
    "import numpy as np\n",
    "\n",
    "# Define the parity matrix H based on stabilizers\n",
    "H = np.array([[1, 1, 1, 0, 0, 0, 1],\n",
    "              [0, 0, 1, 0, 1, 1, 1],\n",
    "              [0, 1, 1, 1, 0, 1, 0]])"
   ],
   "outputs": [],
   "execution_count": 1
  },
  {
   "metadata": {
    "ExecuteTime": {
     "end_time": "2024-05-28T09:18:31.191638Z",
     "start_time": "2024-05-28T09:18:31.187993Z"
    }
   },
   "cell_type": "code",
   "source": [
    "def calculate_G(H):\n",
    "    \"\"\"\n",
    "    Calculates the generator matrix G' from the parity check matrix H.\n",
    "    :param H: Parity check matrix (numpy array)\n",
    "    :return: G, the generator matrix\n",
    "    \"\"\"\n",
    "    r, n = H.shape\n",
    "    k = n - r  # The number of information bits\n",
    "\n",
    "    # Extract columns that do not correspond to the identity matrix columns\n",
    "    P = []\n",
    "    for i, col in enumerate(H.T):\n",
    "        if not (np.count_nonzero(col) == 1 and col.sum() == 1):\n",
    "            P.append(col)\n",
    "\n",
    "    P = np.array(P)  # Transpose P to have the correct shape\n",
    "\n",
    "    # Create an identity matrix I of size k x k\n",
    "    I = np.eye(k, dtype=int)\n",
    "\n",
    "    # Concatenate I and P to form G\n",
    "    G = np.concatenate((I, P), axis=1)\n",
    "\n",
    "    return G.astype(int)"
   ],
   "id": "eb8caf5ce4e965b8",
   "outputs": [],
   "execution_count": 2
  },
  {
   "metadata": {
    "ExecuteTime": {
     "end_time": "2024-05-28T09:18:37.507908Z",
     "start_time": "2024-05-28T09:18:37.504281Z"
    }
   },
   "cell_type": "code",
   "source": [
    "# Define the generator matrix G\n",
    "G = calculate_G(H)\n",
    "print(G)"
   ],
   "id": "972063628a1f2cb7",
   "outputs": [
    {
     "name": "stdout",
     "output_type": "stream",
     "text": [
      "[[1 0 0 0 1 0 1]\n",
      " [0 1 0 0 1 1 1]\n",
      " [0 0 1 0 0 1 1]\n",
      " [0 0 0 1 1 1 0]]\n"
     ]
    }
   ],
   "execution_count": 3
  }
 ],
 "metadata": {
  "kernelspec": {
   "display_name": "Python 3",
   "language": "python",
   "name": "python3"
  },
  "language_info": {
   "codemirror_mode": {
    "name": "ipython",
    "version": 2
   },
   "file_extension": ".py",
   "mimetype": "text/x-python",
   "name": "python",
   "nbconvert_exporter": "python",
   "pygments_lexer": "ipython2",
   "version": "2.7.6"
  }
 },
 "nbformat": 4,
 "nbformat_minor": 5
}
