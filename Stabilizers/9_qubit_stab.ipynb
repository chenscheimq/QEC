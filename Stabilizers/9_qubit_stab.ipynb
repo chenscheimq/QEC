{
 "cells": [
  {
   "cell_type": "code",
   "id": "initial_id",
   "metadata": {
    "collapsed": true,
    "ExecuteTime": {
     "end_time": "2025-01-17T14:11:02.948006Z",
     "start_time": "2025-01-17T14:11:02.944128Z"
    }
   },
   "source": [
    "from qutip import *\n",
    "from itertools import permutations"
   ],
   "outputs": [],
   "execution_count": 19
  },
  {
   "metadata": {
    "ExecuteTime": {
     "end_time": "2025-01-17T14:13:46.420143Z",
     "start_time": "2025-01-17T14:13:46.397368Z"
    }
   },
   "cell_type": "code",
   "source": [
    "Z = sigmaz()\n",
    "X = sigmax()\n",
    "I = qeye(2)\n",
    "\n",
    "M1 = [Z, Z, I, I, I ,I, I, I, I]\n",
    "M2 = [Z, I, Z, I, I ,I, I, I, I]\n",
    "M3 = [I, I, I, Z, Z ,I, I, I, I]\n",
    "M4 = [I, I, I, Z, I ,Z, I, I, I]\n",
    "M5 = [I, I, I, I, I ,I, Z, Z, I]\n",
    "M6 = [I, I, I, I, I ,I, Z, I, Z]\n",
    "M7 = [X, X, X, X, X ,X, I, I, I]\n",
    "M8 = [X, X, X, I, I ,I, X, X, X]\n",
    "\n",
    "stabs = [M1, M2, M3, M4, M5, M6, M7, M8]\n",
    "I_2 = tensor([I, I])\n",
    "def construct_rho_T(p):\n",
    "    rho_T = I_2\n",
    "    for M in stabs:\n",
    "        # print(tensor(M[i], M[j]))\n",
    "        rho_T *= 1/2 * (I_2 + tensor(M[p[0]], M[p[1]])) \n",
    "    rho_T = 1/4 * rho_T\n",
    "    return rho_T\n",
    "\n",
    "perm = permutations([0,1,2,3,4,5,6,7,8], 2)\n",
    "print(perm)\n",
    "rhos = []\n",
    "for p in perm:\n",
    "    rho_ij = construct_rho_T(p)\n",
    "    if rho_ij not in rhos:\n",
    "        rhos.append(rho_ij)\n",
    "print(rhos)"
   ],
   "id": "2c4361bc96c841f0",
   "outputs": [
    {
     "name": "stdout",
     "output_type": "stream",
     "text": [
      "<itertools.permutations object at 0x1264c87c0>\n",
      "[Quantum object: dims=[[2, 2], [2, 2]], shape=(4, 4), type='oper', dtype=CSR, isherm=False\n",
      "Qobj data =\n",
      "[[0.125 0.    0.    0.125]\n",
      " [0.    0.    0.    0.   ]\n",
      " [0.    0.    0.    0.   ]\n",
      " [0.    0.    0.    0.   ]], Quantum object: dims=[[2, 2], [2, 2]], shape=(4, 4), type='oper', dtype=CSR, isherm=False\n",
      "Qobj data =\n",
      "[[0.0625 0.0625 0.0625 0.0625]\n",
      " [0.     0.     0.     0.    ]\n",
      " [0.     0.     0.     0.    ]\n",
      " [0.     0.     0.     0.    ]]]\n"
     ]
    }
   ],
   "execution_count": 25
  },
  {
   "metadata": {
    "ExecuteTime": {
     "end_time": "2025-01-17T14:16:17.681430Z",
     "start_time": "2025-01-17T14:16:17.678947Z"
    }
   },
   "cell_type": "code",
   "source": "1/16",
   "id": "140cbf9fc65ef43b",
   "outputs": [
    {
     "data": {
      "text/plain": [
       "0.0625"
      ]
     },
     "execution_count": 27,
     "metadata": {},
     "output_type": "execute_result"
    }
   ],
   "execution_count": 27
  }
 ],
 "metadata": {
  "kernelspec": {
   "display_name": "Python 3",
   "language": "python",
   "name": "python3"
  },
  "language_info": {
   "codemirror_mode": {
    "name": "ipython",
    "version": 2
   },
   "file_extension": ".py",
   "mimetype": "text/x-python",
   "name": "python",
   "nbconvert_exporter": "python",
   "pygments_lexer": "ipython2",
   "version": "2.7.6"
  }
 },
 "nbformat": 4,
 "nbformat_minor": 5
}
