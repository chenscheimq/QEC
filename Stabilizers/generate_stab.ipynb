{
 "cells": [
  {
   "metadata": {
    "ExecuteTime": {
     "end_time": "2025-02-26T16:18:21.313026Z",
     "start_time": "2025-02-26T16:18:20.727888Z"
    }
   },
   "cell_type": "code",
   "source": [
    "from qutip import * \n",
    "import numpy as np\n",
    "from scipy.linalg import null_space"
   ],
   "id": "3d263d425e5f3767",
   "outputs": [],
   "execution_count": 2
  },
  {
   "cell_type": "code",
   "id": "initial_id",
   "metadata": {
    "collapsed": true,
    "ExecuteTime": {
     "end_time": "2025-02-26T16:18:21.319611Z",
     "start_time": "2025-02-26T16:18:21.314619Z"
    }
   },
   "source": [
    "import numpy as np\n",
    "from qutip import Qobj\n",
    "\n",
    "def print_quantum_state_as_superposition(state):\n",
    "    \"\"\"\n",
    "    Helper function to print quantum state as superposition of basis functions.\n",
    "    Handles both real and imaginary amplitudes and ensures proper formatting.\n",
    "\n",
    "    Parameters:\n",
    "    state (Qobj): The quantum state to print.\n",
    "\n",
    "    Example Output:\n",
    "    |ψ⟩ = - 0.50|0000⟩ + 0.50|0011⟩ + 0.50|1100⟩ - 0.50|1111⟩\n",
    "    \"\"\"\n",
    "    # Ensure the input is a Qobj\n",
    "    if not isinstance(state, Qobj):\n",
    "        raise ValueError(\"Input must be a Qobj.\")\n",
    "\n",
    "    # Normalize the state\n",
    "    state = state.unit()\n",
    "\n",
    "    # Determine the number of qubits\n",
    "    dimension = int(np.log2(state.shape[0]))\n",
    "\n",
    "    # Flatten the state vector\n",
    "    state_vector = state.full().flatten()\n",
    "\n",
    "    # Basis states for binary representation\n",
    "    basis_states = ['0', '1']\n",
    "\n",
    "    superposition = []\n",
    "    for i, amplitude in enumerate(state_vector):\n",
    "        abs_amplitude = np.abs(amplitude)\n",
    "\n",
    "        # Ignore negligible amplitudes\n",
    "        if round(abs_amplitude, 2) > 0:\n",
    "            # Determine the sign\n",
    "            sign = '-' if amplitude.real < 0 else '+'\n",
    "\n",
    "            # Handle imaginary amplitudes\n",
    "            if np.iscomplex(amplitude) and abs(amplitude.imag) > 1e-10:\n",
    "                amplitude_str = f\"{abs(amplitude):.2f}i\"\n",
    "            else:\n",
    "                amplitude_str = f\"{abs(amplitude):.2f}\"\n",
    "\n",
    "            # Construct the binary state\n",
    "            binary_state = ''.join(basis_states[int(bit)] for bit in f\"{i:0{dimension}b}\")\n",
    "            superposition.append(f\"{sign} {amplitude_str}|{binary_state}⟩\")\n",
    "\n",
    "    # Remove the first sign if it is '+'\n",
    "    if superposition and superposition[0][0] == '+':\n",
    "        superposition[0] = superposition[0][2:]\n",
    "\n",
    "    # Combine the terms into a single string\n",
    "    superposition_str = ' '.join(superposition).replace('+-', '- ')\n",
    "\n",
    "    # Print the result\n",
    "    print(f\"|ψ⟩ = {superposition_str}\")"
   ],
   "outputs": [],
   "execution_count": 3
  },
  {
   "metadata": {
    "ExecuteTime": {
     "end_time": "2025-02-26T16:18:21.323893Z",
     "start_time": "2025-02-26T16:18:21.320681Z"
    }
   },
   "cell_type": "code",
   "source": [
    "def find_code_space(stabilizers):\n",
    "    \"\"\"\n",
    "    Find the code space (logical space) corresponding to a given set of stabilizers.\n",
    "\n",
    "    Parameters:\n",
    "    stabilizers (list of Qobj): List of stabilizer operators.\n",
    "\n",
    "    Returns:\n",
    "    code_states (list of Qobj): List of quantum states that form the code space.\n",
    "    \"\"\"\n",
    "    # Initialize the full Hilbert space dimension\n",
    "    dim = stabilizers[0].shape[0]\n",
    "\n",
    "    # Start with the full Hilbert space and project it onto the +1 eigenspace of each stabilizer\n",
    "    projector = Qobj(np.eye(dim))  # Start with the identity operator\n",
    "\n",
    "    for S in stabilizers:\n",
    "        # Find the +1 eigenspace of the current stabilizer\n",
    "        evals, evecs = S.eigenstates()\n",
    "        plus_one_vectors = [v.full() for v, e in zip(evecs, evals) if abs(e - 1) < 1e-10]\n",
    "\n",
    "        if not plus_one_vectors:\n",
    "            raise ValueError(\"No +1 eigenspace found for one of the stabilizers.\")\n",
    "\n",
    "        # Construct the projection operator for the +1 eigenspace\n",
    "        plus_one_space = np.hstack(plus_one_vectors)\n",
    "        projector_plus_one = plus_one_space @ plus_one_space.conj().T\n",
    "\n",
    "        # Project the current projector onto the +1 eigenspace of the stabilizer\n",
    "        projector = Qobj(projector_plus_one) @ projector\n",
    "\n",
    "    # The code space is the range of the final projector\n",
    "    # Find the eigenstates of the projector with eigenvalue 1\n",
    "    evals, evecs = projector.eigenstates()\n",
    "    code_states = [v for v, e in zip(evecs, evals) if abs(e - 1) < 1e-10]\n",
    "    \n",
    "    for code_state in code_states:\n",
    "        # print(code_state)\n",
    "        print_quantum_state_as_superposition(code_state)"
   ],
   "id": "fb3518192233f89b",
   "outputs": [],
   "execution_count": 4
  },
  {
   "metadata": {
    "ExecuteTime": {
     "end_time": "2025-03-05T10:19:36.624580Z",
     "start_time": "2025-03-05T10:19:36.615112Z"
    }
   },
   "cell_type": "code",
   "source": [
    "X = sigmax()\n",
    "Y = sigmay()\n",
    "Z = sigmaz()\n",
    "I = qeye(2)\n",
    "\n",
    "# stabilizers = [\n",
    "#     tensor(X, X, X, X),\n",
    "#     tensor(Z, Z, Z, Z),\n",
    "#     tensor(X, Y, Z, I)\n",
    "# ]\n",
    "\n",
    "# stabilizers = [\n",
    "#     tensor(I, Z, Z),\n",
    "#     tensor(Z, Z, I)\n",
    "# ]\n",
    "# \n",
    "# \n",
    "stabilizers = [\n",
    "    tensor(X, X, X, X),\n",
    "    tensor(Z, Z, Z, Z)\n",
    "]\n",
    "     \n",
    "\n",
    "find_code_space(stabilizers)"
   ],
   "id": "8bae44a8dee6503a",
   "outputs": [
    {
     "name": "stdout",
     "output_type": "stream",
     "text": [
      "|ψ⟩ = - 0.71|0011⟩ - 0.71|1100⟩\n",
      "|ψ⟩ = - 0.71|0110⟩ - 0.71|1001⟩\n",
      "|ψ⟩ = - 0.71|0101⟩ - 0.71|1010⟩\n",
      "|ψ⟩ = 0.71|0000⟩ + 0.71|1111⟩\n"
     ]
    }
   ],
   "execution_count": 31
  }
 ],
 "metadata": {
  "kernelspec": {
   "display_name": "Python 3",
   "language": "python",
   "name": "python3"
  },
  "language_info": {
   "codemirror_mode": {
    "name": "ipython",
    "version": 2
   },
   "file_extension": ".py",
   "mimetype": "text/x-python",
   "name": "python",
   "nbconvert_exporter": "python",
   "pygments_lexer": "ipython2",
   "version": "2.7.6"
  }
 },
 "nbformat": 4,
 "nbformat_minor": 5
}
