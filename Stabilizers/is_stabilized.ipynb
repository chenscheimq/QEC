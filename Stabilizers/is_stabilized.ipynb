{
 "cells": [
  {
   "cell_type": "code",
   "id": "initial_id",
   "metadata": {
    "collapsed": true,
    "ExecuteTime": {
     "end_time": "2024-07-03T08:11:31.272395Z",
     "start_time": "2024-07-03T08:11:30.696924Z"
    }
   },
   "source": [
    "import numpy as np\n",
    "import qutip as qt"
   ],
   "outputs": [],
   "execution_count": 1
  },
  {
   "metadata": {
    "ExecuteTime": {
     "end_time": "2024-07-03T08:11:31.275954Z",
     "start_time": "2024-07-03T08:11:31.272395Z"
    }
   },
   "cell_type": "code",
   "source": [
    "def is_stabilized(state, stabilizers):\n",
    "    for stabilizer in stabilizers:\n",
    "        print(state.overlap(stabilizer * state))\n",
    "        if not state.overlap(stabilizer * state).real > 0.99:\n",
    "            return False\n",
    "    return True"
   ],
   "id": "fb275b94661fdb97",
   "outputs": [],
   "execution_count": 2
  },
  {
   "metadata": {},
   "cell_type": "markdown",
   "source": "Checking 3-qubit bitflip",
   "id": "da9c65ceb9fedb8a"
  },
  {
   "metadata": {},
   "cell_type": "code",
   "outputs": [],
   "execution_count": null,
   "source": [
    "# Define the Pauli matrices\n",
    "I = qt.qeye(2)\n",
    "X = qt.sigmax()\n",
    "Y = qt.sigmay()\n",
    "Z = qt.sigmaz()\n",
    "\n",
    "# Define the stabilizer generators for the 3-qubit bit-flip code\n",
    "stabilizers = [\n",
    "    qt.tensor(I, Z, Z),\n",
    "    qt.tensor(Z, I, Z)\n",
    "]\n",
    "\n",
    "# Define the basis states for three qubits\n",
    "basis_states = [qt.basis(2, 0), qt.basis(2, 1)]\n",
    "\n",
    "# Define the logical zero state |0_L>\n",
    "logical_zero = (qt.tensor(basis_states[0], basis_states[0], basis_states[0])).unit()\n",
    "\n",
    "# Define the logical one state |1_L>\n",
    "logical_one = (qt.tensor(basis_states[1], basis_states[1], basis_states[1])).unit()\n",
    "\n",
    "# Display the logical states\n",
    "print(\"Logical |0_L>:\\n\", logical_zero)\n",
    "print(\"Logical |1_L>:\\n\", logical_one)\n",
    "\n",
    "\n",
    "# Check if the logical states are stabilized\n",
    "print(\"Logical |0_L> is stabilized:\", is_stabilized(logical_zero, stabilizers))\n",
    "print(\"Logical |1_L> is stabilized:\", is_stabilized(logical_one, stabilizers))\n",
    "\n",
    "# Define the logical qubit as a superposition of |0_L> and |1_L>\n",
    "alpha, beta = 1/np.sqrt(2), 1/np.sqrt(2)  # Example coefficients\n",
    "logical_qubit = (alpha * logical_zero + beta * logical_one).unit()\n",
    "\n",
    "# Display the logical qubit state\n",
    "print(\"Logical qubit:\\n\", logical_qubit)"
   ],
   "id": "1c813aeb73da7d08"
  },
  {
   "metadata": {},
   "cell_type": "markdown",
   "source": "Checking 5-qubit code",
   "id": "8efba91452830488"
  },
  {
   "metadata": {
    "ExecuteTime": {
     "end_time": "2024-07-03T08:14:15.844804Z",
     "start_time": "2024-07-03T08:14:15.830620Z"
    }
   },
   "cell_type": "code",
   "source": [
    "# Define the Pauli matrices\n",
    "I = qt.qeye(2)\n",
    "X = qt.sigmax()\n",
    "Y = qt.sigmay()\n",
    "Z = qt.sigmaz()\n",
    "\n",
    "# Define the stabilizer generators for the 3-qubit bit-flip code\n",
    "stabilizers = [\n",
    "    qt.tensor(Z, I, Z, I, Z, I, Z),\n",
    "    qt.tensor(I, Z, Z, I, I, Z, Z),\n",
    "    qt.tensor(I, I, I, Z, Z, Z, Z),\n",
    "    qt.tensor(X, I, X, I, X, I, X),\n",
    "    qt.tensor(I, X, X, I, I, X, X),\n",
    "    qt.tensor(I, I, I, X, X, X, X)\n",
    "]\n",
    "\n",
    "# Define the basis states for three qubits\n",
    "basis_states = [qt.basis(2, 0), qt.basis(2, 1)]\n",
    "\n",
    "# Define the logical zero state |0_L>\n",
    "logical_zero = (qt.tensor(basis_states[0], basis_states[0], basis_states[0], basis_states[0], basis_states[0], basis_states[0], basis_states[0]) + \n",
    "                qt.tensor(basis_states[1], basis_states[0], basis_states[1],basis_states[0], basis_states[1], basis_states[0], basis_states[1]) + \n",
    "                qt.tensor(basis_states[0], basis_states[1], basis_states[1],basis_states[0], basis_states[0], basis_states[1], basis_states[1]) + \n",
    "                qt.tensor(basis_states[1], basis_states[1], basis_states[0],basis_states[0], basis_states[1], basis_states[1], basis_states[0]) + \n",
    "                qt.tensor(basis_states[0], basis_states[0], basis_states[0],basis_states[1], basis_states[1], basis_states[1], basis_states[1]) + \n",
    "                qt.tensor(basis_states[1], basis_states[0], basis_states[1],basis_states[1], basis_states[0], basis_states[1], basis_states[0]) + \n",
    "                qt.tensor(basis_states[0], basis_states[1], basis_states[1],basis_states[1], basis_states[1], basis_states[0], basis_states[0]) + \n",
    "                qt.tensor(basis_states[1], basis_states[1], basis_states[0],basis_states[1], basis_states[0], basis_states[0], basis_states[1])\n",
    "                ).unit()\n",
    "\n",
    "\n",
    "\n",
    "# Define the logical one state |1_L>\n",
    "# Apply X to each qubit to get the logical one state |1_L>\n",
    "X7 = qt.tensor(X, X, X, X, X, X, X)\n",
    "logical_one = X7 * logical_zero\n",
    "\n",
    "\n",
    "# Display the logical states\n",
    "print(\"Logical |0_L>:\\n\", logical_zero)\n",
    "print(\"Logical |1_L>:\\n\", logical_one)\n",
    "\n",
    "\n",
    "# Check if the logical states are stabilized\n",
    "print(\"Logical |0_L> is stabilized:\", is_stabilized(logical_zero, stabilizers))\n",
    "print(\"Logical |1_L> is stabilized:\", is_stabilized(logical_one, stabilizers))\n",
    "\n",
    "# Define the logical qubit as a superposition of |0_L> and |1_L>\n",
    "alpha, beta = 1/np.sqrt(2), 1/np.sqrt(2)  # Example coefficients\n",
    "logical_qubit = (alpha * logical_zero + beta * logical_one).unit()\n",
    "\n",
    "# Display the logical qubit state\n",
    "print(\"Logical qubit:\\n\", logical_qubit)"
   ],
   "id": "46badef21b8686c",
   "outputs": [
    {
     "ename": "SyntaxError",
     "evalue": "invalid syntax (771127421.py, line 17)",
     "output_type": "error",
     "traceback": [
      "\u001B[1;36m  Cell \u001B[1;32mIn[3], line 17\u001B[1;36m\u001B[0m\n\u001B[1;33m    logical_zero = (qt.tensor(basis_states[0], basis_states[0], basis_states[0]) + ).unit()\u001B[0m\n\u001B[1;37m                                                                                   ^\u001B[0m\n\u001B[1;31mSyntaxError\u001B[0m\u001B[1;31m:\u001B[0m invalid syntax\n"
     ]
    }
   ],
   "execution_count": 3
  },
  {
   "metadata": {},
   "cell_type": "code",
   "outputs": [],
   "execution_count": null,
   "source": "",
   "id": "e5d770aa54cf3acf"
  }
 ],
 "metadata": {
  "kernelspec": {
   "display_name": "Python 3",
   "language": "python",
   "name": "python3"
  },
  "language_info": {
   "codemirror_mode": {
    "name": "ipython",
    "version": 2
   },
   "file_extension": ".py",
   "mimetype": "text/x-python",
   "name": "python",
   "nbconvert_exporter": "python",
   "pygments_lexer": "ipython2",
   "version": "2.7.6"
  }
 },
 "nbformat": 4,
 "nbformat_minor": 5
}
