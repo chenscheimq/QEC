{
 "cells": [
  {
   "cell_type": "code",
   "id": "initial_id",
   "metadata": {
    "collapsed": true,
    "ExecuteTime": {
     "end_time": "2024-07-08T10:32:46.561260Z",
     "start_time": "2024-07-08T10:32:43.314926Z"
    }
   },
   "source": [
    "import numpy as np\n",
    "import qutip as qt"
   ],
   "execution_count": 1,
   "outputs": []
  },
  {
   "metadata": {
    "ExecuteTime": {
     "end_time": "2024-07-08T10:32:49.360223Z",
     "start_time": "2024-07-08T10:32:49.355303Z"
    }
   },
   "cell_type": "code",
   "source": [
    "def is_stabilized(state, stabilizers):\n",
    "    for stabilizer in stabilizers:\n",
    "        # print(state.overlap(stabilizer * state))\n",
    "        if not state.overlap(stabilizer * state).real > 0.99:\n",
    "            return False\n",
    "    return True\n",
    "\n",
    "def print_quantum_state_as_superposition(state):\n",
    "    state = state.unit()\n",
    "    dimension = int(np.log2(state.shape[0]))\n",
    "    state_vector = state.full().flatten()\n",
    "    basis_states = ['0', '1']\n",
    "    \n",
    "    superposition = []\n",
    "    amp = 0\n",
    "    for i, amplitude in enumerate(state_vector):\n",
    "        if np.abs(amplitude) > 1e-10:\n",
    "            binary_state = ''.join(basis_states[int(bit)] for bit in f\"{i:0{dimension}b}\")\n",
    "            superposition.append(f\"|{binary_state}⟩\")\n",
    "            amp = amplitude\n",
    "    superposition_str = ' + '.join(superposition)\n",
    "    \n",
    "    print(f\"|ψ⟩ = {np.real(amp):.2f}({superposition_str})\")"
   ],
   "id": "fb275b94661fdb97",
   "execution_count": 2,
   "outputs": []
  },
  {
   "metadata": {},
   "cell_type": "markdown",
   "source": "Checking 3-qubit bitflip",
   "id": "da9c65ceb9fedb8a"
  },
  {
   "metadata": {
    "ExecuteTime": {
     "end_time": "2024-07-08T10:32:51.977408Z",
     "start_time": "2024-07-08T10:32:51.970587Z"
    }
   },
   "cell_type": "code",
   "source": [
    "# Define the Pauli matrices\n",
    "I = qt.qeye(2)\n",
    "X = qt.sigmax()\n",
    "Y = qt.sigmay()\n",
    "Z = qt.sigmaz()\n",
    "\n",
    "# Define the stabilizer generators for the 3-qubit bit-flip code\n",
    "stabilizers = [\n",
    "    qt.tensor(I, Z, Z),\n",
    "    qt.tensor(Z, I, Z)\n",
    "]\n",
    "\n",
    "# Define the basis states for three qubits\n",
    "basis_states = [qt.basis(2, 0), qt.basis(2, 1)]\n",
    "\n",
    "# Define the logical zero state |0_L>\n",
    "logical_zero = (qt.tensor(basis_states[0], basis_states[0], basis_states[0])).unit()\n",
    "\n",
    "# Define the logical one state |1_L>\n",
    "logical_one = (qt.tensor(basis_states[1], basis_states[1], basis_states[1])).unit()\n",
    "\n",
    "# Display the logical states\n",
    "print_quantum_state_as_superposition(logical_zero)\n",
    "print_quantum_state_as_superposition(logical_one)\n",
    "\n",
    "# Check if the logical states are stabilized\n",
    "print(\"Logical |0_L> is stabilized:\", is_stabilized(logical_zero, stabilizers))\n",
    "print(\"Logical |1_L> is stabilized:\", is_stabilized(logical_one, stabilizers))\n",
    "\n",
    "# Define the logical qubit as a superposition of |0_L> and |1_L>\n",
    "alpha, beta = 1/np.sqrt(2), 1/np.sqrt(2)  # Example coefficients\n",
    "logical_qubit = (alpha * logical_zero + beta * logical_one).unit()\n",
    "\n",
    "\n",
    "print_quantum_state_as_superposition(logical_qubit)"
   ],
   "id": "1c813aeb73da7d08",
   "execution_count": 3,
   "outputs": []
  },
  {
   "metadata": {},
   "cell_type": "markdown",
   "source": "Applying error to the 3 qubit repetition code and checking the syndromes",
   "id": "6300eba182016d07"
  },
  {
   "metadata": {
    "ExecuteTime": {
     "end_time": "2024-07-08T10:32:55.085382Z",
     "start_time": "2024-07-08T10:32:55.080290Z"
    }
   },
   "cell_type": "code",
   "source": [
    "def is_stabilized(state, stabilizers):\n",
    "    syndrome = []\n",
    "    for stabilizer in stabilizers:\n",
    "        print(np.real(state.overlap(stabilizer * state)))\n",
    "        if not state.overlap(stabilizer * state).real > 0.99:\n",
    "            syndrome.append(1)\n",
    "        else:\n",
    "            syndrome.append(0)\n",
    "    return syndrome\n",
    "\n",
    "\n",
    "# Apply error to the first bit\n",
    "X1 = qt.tensor(X, I, I)\n",
    "logical_state = X1 * logical_zero\n",
    "\n",
    "print(\"Logical |0_L> is stabilized:\", is_stabilized(logical_state, stabilizers))"
   ],
   "id": "a437ad74f592953f",
   "execution_count": 4,
   "outputs": []
  },
  {
   "metadata": {},
   "cell_type": "markdown",
   "source": "Checking Steane code",
   "id": "8efba91452830488"
  },
  {
   "metadata": {
    "ExecuteTime": {
     "end_time": "2024-07-08T08:01:04.949744Z",
     "start_time": "2024-07-08T08:01:04.930429Z"
    }
   },
   "cell_type": "code",
   "source": [
    "# Define the Pauli matrices\n",
    "I = qt.qeye(2)\n",
    "X = qt.sigmax()\n",
    "Y = qt.sigmay()\n",
    "Z = qt.sigmaz()\n",
    "\n",
    "# Define the stabilizer generators for the 3-qubit bit-flip code\n",
    "stabilizers = [\n",
    "    qt.tensor(Z, I, Z, I, Z, I, Z),\n",
    "    qt.tensor(I, Z, Z, I, I, Z, Z),\n",
    "    qt.tensor(I, I, I, Z, Z, Z, Z),\n",
    "    qt.tensor(X, I, X, I, X, I, X),\n",
    "    qt.tensor(I, X, X, I, I, X, X),\n",
    "    qt.tensor(I, I, I, X, X, X, X)\n",
    "]\n",
    "\n",
    "# Define the basis states for three qubits\n",
    "basis_states = [qt.basis(2, 0), qt.basis(2, 1)]\n",
    "\n",
    "# Define the logical zero state |0_L>\n",
    "logical_zero = (qt.tensor(basis_states[0], basis_states[0], basis_states[0], basis_states[0], basis_states[0], basis_states[0], basis_states[0]) + \n",
    "                qt.tensor(basis_states[1], basis_states[0], basis_states[1],basis_states[0], basis_states[1], basis_states[0], basis_states[1]) + \n",
    "                qt.tensor(basis_states[0], basis_states[1], basis_states[1],basis_states[0], basis_states[0], basis_states[1], basis_states[1]) + \n",
    "                qt.tensor(basis_states[1], basis_states[1], basis_states[0],basis_states[0], basis_states[1], basis_states[1], basis_states[0]) + \n",
    "                qt.tensor(basis_states[0], basis_states[0], basis_states[0],basis_states[1], basis_states[1], basis_states[1], basis_states[1]) + \n",
    "                qt.tensor(basis_states[1], basis_states[0], basis_states[1],basis_states[1], basis_states[0], basis_states[1], basis_states[0]) + \n",
    "                qt.tensor(basis_states[0], basis_states[1], basis_states[1],basis_states[1], basis_states[1], basis_states[0], basis_states[0]) + \n",
    "                qt.tensor(basis_states[1], basis_states[1], basis_states[0],basis_states[1], basis_states[0], basis_states[0], basis_states[1])\n",
    "                ).unit()\n",
    "\n",
    "\n",
    "\n",
    "# Define the logical one state |1_L>\n",
    "X7 = qt.tensor(X, X, X, X, X, X, X)\n",
    "logical_one = X7 * logical_zero\n",
    "\n",
    "# Display the logical states\n",
    "# print(\"Logical |0_L>:\\n\", logical_zero)\n",
    "# print(\"Logical |1_L>:\\n\", logical_one)\n",
    "# print_quantum_state_as_superposition(logical_zero)\n",
    "print_quantum_state_as_superposition(logical_one)\n",
    "print_quantum_state_as_superposition(logical_zero)\n",
    "\n",
    "\n",
    "# Check if the logical states are stabilized\n",
    "print(\"Logical |0_L> is stabilized:\", is_stabilized(logical_zero, stabilizers))\n",
    "print(\"Logical |1_L> is stabilized:\", is_stabilized(logical_one, stabilizers))\n",
    "\n",
    "# Define the logical qubit as a superposition of |0_L> and |1_L>\n",
    "alpha, beta = 1/np.sqrt(2), 1/np.sqrt(2)  # Example coefficients\n",
    "logical_qubit = (alpha * logical_zero + beta * logical_one).unit()\n",
    "\n",
    "# print_quantum_state_as_superposition(logical_qubit)\n",
    "# Display the logical qubit state\n",
    "# print(\"Logical qubit:\\n\", logical_qubit)"
   ],
   "id": "46badef21b8686c",
   "execution_count": 74,
   "outputs": []
  },
  {
   "metadata": {
    "ExecuteTime": {
     "end_time": "2024-07-08T08:03:20.862058Z",
     "start_time": "2024-07-08T08:03:20.852153Z"
    }
   },
   "cell_type": "code",
   "source": [
    "def is_stabilized(state, stabilizers):\n",
    "    syndrome = []\n",
    "    for stabilizer in stabilizers:\n",
    "        print(state.overlap(stabilizer * state))\n",
    "        if not state.overlap(stabilizer * state).real > 0.99:\n",
    "            syndrome.append(stabilizer)\n",
    "    return syndrome\n",
    "\n",
    "# Apply error to the first bit\n",
    "X1 = qt.tensor(I, I, I, I, I, I, Z)\n",
    "logical_state = X1 * logical_zero\n",
    "\n",
    "print(\"Logical |0_L> is stabilized:\", is_stabilized(logical_state, stabilizers))"
   ],
   "id": "54947db6be5ce7b7",
   "execution_count": 86,
   "outputs": []
  }
 ],
 "metadata": {
  "kernelspec": {
   "display_name": "Python 3",
   "language": "python",
   "name": "python3"
  },
  "language_info": {
   "codemirror_mode": {
    "name": "ipython",
    "version": 2
   },
   "file_extension": ".py",
   "mimetype": "text/x-python",
   "name": "python",
   "nbconvert_exporter": "python",
   "pygments_lexer": "ipython2",
   "version": "2.7.6"
  }
 },
 "nbformat": 4,
 "nbformat_minor": 5
}
